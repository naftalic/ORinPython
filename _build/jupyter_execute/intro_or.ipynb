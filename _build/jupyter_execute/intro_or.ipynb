{
 "cells": [
  {
   "cell_type": "markdown",
   "metadata": {
    "id": "dzNng6vCL9eP"
   },
   "source": [
    "#Chapter -3: Python Tutorial\n",
    "\n",
    "In the following sections, we will repeatedly use Python scripts. In case you are **less** familiar with Python, here is a short tutorial on what you need to know.\n",
    "Also, please take a look here: Google's Python Class- https://developers.google.com/edu/python\n"
   ]
  },
  {
   "cell_type": "markdown",
   "metadata": {
    "id": "qVrTo-LhL9eS"
   },
   "source": [
    "##Introduction"
   ]
  },
  {
   "cell_type": "markdown",
   "metadata": {
    "id": "9t1gKp9PL9eV"
   },
   "source": [
    "Python is a general-purpose programming language that, combining with a few popular libraries (numpy, scipy, matplotlib), becomes a powerful environment for scientific computing."
   ]
  },
  {
   "cell_type": "code",
   "execution_count": 1,
   "metadata": {
    "colab": {
     "base_uri": "https://localhost:8080/"
    },
    "id": "1L4Am0QATgOc",
    "outputId": "08aa6b8d-2656-4d75-c2cf-cd87fbd59376"
   },
   "outputs": [
    {
     "name": "stdout",
     "output_type": "stream",
     "text": [
      "Python 3.7.6\r\n"
     ]
    }
   ],
   "source": [
    "!python --version"
   ]
  },
  {
   "cell_type": "markdown",
   "metadata": {
    "id": "JAFKYgrpL9eY"
   },
   "source": [
    "##Basics of Python"
   ]
  },
  {
   "cell_type": "markdown",
   "metadata": {
    "id": "RbFS6tdgL9ea"
   },
   "source": [
    "Python is a high-level, dynamically typed multiparadigm programming language. Python code is often said to be almost like pseudocode, since it allows you to express very powerful ideas in very few lines of code while being very readable."
   ]
  },
  {
   "cell_type": "markdown",
   "metadata": {
    "id": "NwS_hu4xL9eo"
   },
   "source": [
    "###Basic data types"
   ]
  },
  {
   "cell_type": "markdown",
   "metadata": {
    "id": "DL5sMSZ9L9eq"
   },
   "source": [
    "####Numbers"
   ]
  },
  {
   "cell_type": "markdown",
   "metadata": {
    "id": "MGS0XEWoL9er"
   },
   "source": [
    "Integers and floats work as you would expect from other languages:"
   ]
  },
  {
   "cell_type": "code",
   "execution_count": 2,
   "metadata": {
    "colab": {
     "base_uri": "https://localhost:8080/"
    },
    "id": "KheDr_zDL9es",
    "outputId": "a4ac6d92-e37d-4f85-e380-79c4c69cb73c"
   },
   "outputs": [
    {
     "name": "stdout",
     "output_type": "stream",
     "text": [
      "3 <class 'int'>\n"
     ]
    }
   ],
   "source": [
    "x = 3\n",
    "print(x, type(x))"
   ]
  },
  {
   "cell_type": "code",
   "execution_count": 3,
   "metadata": {
    "colab": {
     "base_uri": "https://localhost:8080/"
    },
    "id": "sk_8DFcuL9ey",
    "outputId": "0558526e-34f5-4288-9ee2-366015dfc68e"
   },
   "outputs": [
    {
     "name": "stdout",
     "output_type": "stream",
     "text": [
      "4\n",
      "2\n",
      "6\n",
      "9\n"
     ]
    }
   ],
   "source": [
    "print(x + 1)  #addition\n",
    "print(x - 1)  #subtraction\n",
    "print(x * 2)  #multiplication\n",
    "print(x ** 2) #exponentiation"
   ]
  },
  {
   "cell_type": "code",
   "execution_count": 4,
   "metadata": {
    "colab": {
     "base_uri": "https://localhost:8080/"
    },
    "id": "U4Jl8K0tL9e4",
    "outputId": "b28b9b32-d748-4056-8a0c-c2d329b2268e"
   },
   "outputs": [
    {
     "name": "stdout",
     "output_type": "stream",
     "text": [
      "11\n",
      "20\n"
     ]
    }
   ],
   "source": [
    "x = 10; x += 1\n",
    "print(x)\n",
    "x = 10; x *= 2\n",
    "print(x)"
   ]
  },
  {
   "cell_type": "code",
   "execution_count": 5,
   "metadata": {
    "colab": {
     "base_uri": "https://localhost:8080/"
    },
    "id": "w-nZ0Sg_L9e9",
    "outputId": "76da9e1f-7bd4-4a0f-c9fd-a2910f3e3961"
   },
   "outputs": [
    {
     "name": "stdout",
     "output_type": "stream",
     "text": [
      "2.5 3.5 5.0 5.0 <class 'float'>\n"
     ]
    }
   ],
   "source": [
    "y = 2.5\n",
    "print(y, y+1, y*2, y *2, type(y))"
   ]
  },
  {
   "cell_type": "markdown",
   "metadata": {
    "id": "EqRS7qhBL9fC"
   },
   "source": [
    "####Booleans"
   ]
  },
  {
   "cell_type": "markdown",
   "metadata": {
    "id": "Nv_LIVOJL9fD"
   },
   "source": [
    "Python implements all of the usual operators for Boolean logic, but uses English words rather than symbols:"
   ]
  },
  {
   "cell_type": "code",
   "execution_count": 6,
   "metadata": {
    "colab": {
     "base_uri": "https://localhost:8080/"
    },
    "id": "RvoImwgGL9fE",
    "outputId": "68a1b649-e477-443c-eedf-0d68d73f8ccd"
   },
   "outputs": [
    {
     "name": "stdout",
     "output_type": "stream",
     "text": [
      "<class 'bool'>\n"
     ]
    }
   ],
   "source": [
    "t, f = True, False; print(type(t))"
   ]
  },
  {
   "cell_type": "markdown",
   "metadata": {
    "id": "YQgmQfOgL9fI"
   },
   "source": [
    "Now we let's look at the operations:"
   ]
  },
  {
   "cell_type": "code",
   "execution_count": 7,
   "metadata": {
    "colab": {
     "base_uri": "https://localhost:8080/"
    },
    "id": "6zYm7WzCL9fK",
    "outputId": "7d3bb59d-4064-427f-b64f-88fb8a2f8d90"
   },
   "outputs": [
    {
     "name": "stdout",
     "output_type": "stream",
     "text": [
      "False\n",
      "True\n",
      "False\n",
      "True\n"
     ]
    }
   ],
   "source": [
    "print(t and f) # Logical AND;\n",
    "print(t or f)  # Logical OR;\n",
    "print(not t)   # Logical NOT;\n",
    "print(t != f)  # Logical XOR;"
   ]
  },
  {
   "cell_type": "markdown",
   "metadata": {
    "id": "UQnQWFEyL9fP"
   },
   "source": [
    "####Strings"
   ]
  },
  {
   "cell_type": "code",
   "execution_count": 8,
   "metadata": {
    "colab": {
     "base_uri": "https://localhost:8080/"
    },
    "id": "AijEDtPFL9fP",
    "outputId": "71217584-f8e5-409a-859d-3fcf8d5353f1"
   },
   "outputs": [
    {
     "name": "stdout",
     "output_type": "stream",
     "text": [
      "hello 5\n"
     ]
    }
   ],
   "source": [
    "hello = 'hello'   # String literals can use single quotes\n",
    "world = \"world\"   # or double quotes; it does not matter\n",
    "print(hello, len(hello))"
   ]
  },
  {
   "cell_type": "code",
   "execution_count": 9,
   "metadata": {
    "colab": {
     "base_uri": "https://localhost:8080/"
    },
    "id": "saDeaA7hL9fT",
    "outputId": "bd3047f7-acf6-4a6d-aba0-47f0b3134a7b"
   },
   "outputs": [
    {
     "name": "stdout",
     "output_type": "stream",
     "text": [
      "hello-world!\n"
     ]
    }
   ],
   "source": [
    "hw = hello + '-' + world+'!'  # String concatenation\n",
    "print(hw)"
   ]
  },
  {
   "cell_type": "code",
   "execution_count": 10,
   "metadata": {
    "colab": {
     "base_uri": "https://localhost:8080/"
    },
    "id": "Nji1_UjYL9fY",
    "outputId": "776b8a91-e1ee-4c91-a68b-0666bf3011e3"
   },
   "outputs": [
    {
     "name": "stdout",
     "output_type": "stream",
     "text": [
      "hello world 12\n"
     ]
    }
   ],
   "source": [
    "hw12 = '{} {} {}'.format(hello, world, 12)  # string formatting\n",
    "print(hw12)"
   ]
  },
  {
   "cell_type": "markdown",
   "metadata": {
    "id": "bUpl35bIL9fc"
   },
   "source": [
    "String objects have a bunch of useful methods; for example:"
   ]
  },
  {
   "cell_type": "code",
   "execution_count": 11,
   "metadata": {
    "colab": {
     "base_uri": "https://localhost:8080/"
    },
    "id": "VOxGatlsL9fd",
    "outputId": "337db063-e3a6-4868-8e1c-a2c0bac8adb5"
   },
   "outputs": [
    {
     "name": "stdout",
     "output_type": "stream",
     "text": [
      "Hello\n",
      "HELLO\n",
      "  hello\n",
      " hello \n",
      "he(ell)(ell)o\n",
      "world\n"
     ]
    }
   ],
   "source": [
    "s = \"hello\"\n",
    "print(s.capitalize())  # Capitalize a string\n",
    "print(s.upper())       # Convert a string to uppercase; prints \"HELLO\"\n",
    "print(s.rjust(7))      # Right-justify a string, padding with spaces\n",
    "print(s.center(7))     # Center a string, padding with spaces\n",
    "print(s.replace('l', '(ell)'))  # Replace all instances of one substring with another\n",
    "print('  world '.strip())  # Strip leading and trailing whitespace"
   ]
  },
  {
   "cell_type": "markdown",
   "metadata": {
    "id": "UsIWOe0LL9fn"
   },
   "source": [
    "####Lists"
   ]
  },
  {
   "cell_type": "markdown",
   "metadata": {
    "id": "wzxX7rgWL9fn"
   },
   "source": [
    "A list is the Python equivalent of an array, but is resizeable and can contain elements of different types:"
   ]
  },
  {
   "cell_type": "code",
   "execution_count": 12,
   "metadata": {
    "colab": {
     "base_uri": "https://localhost:8080/"
    },
    "id": "hk3A8pPcL9fp",
    "outputId": "17b17459-35e2-4c73-b726-caa50fb88618"
   },
   "outputs": [
    {
     "name": "stdout",
     "output_type": "stream",
     "text": [
      "[3, 1, 2] 2\n",
      "2\n"
     ]
    }
   ],
   "source": [
    "xs = [3, 1, 2]   # Create a list\n",
    "print(xs, xs[2])\n",
    "print(xs[-1])     # Negative indices count from the end of the list; prints \"2\""
   ]
  },
  {
   "cell_type": "code",
   "execution_count": 13,
   "metadata": {
    "colab": {
     "base_uri": "https://localhost:8080/"
    },
    "id": "YCjCy_0_L9ft",
    "outputId": "a389d143-ff58-44d8-ab99-1d87179a2e0b"
   },
   "outputs": [
    {
     "name": "stdout",
     "output_type": "stream",
     "text": [
      "[3, 1, 'foo']\n"
     ]
    }
   ],
   "source": [
    "xs[2] = 'foo'    # Lists can contain elements of different types\n",
    "print(xs)"
   ]
  },
  {
   "cell_type": "code",
   "execution_count": 14,
   "metadata": {
    "colab": {
     "base_uri": "https://localhost:8080/"
    },
    "id": "vJ0x5cF-L9fx",
    "outputId": "97853f6b-613b-4c48-ee3e-74cabaeed8f0"
   },
   "outputs": [
    {
     "name": "stdout",
     "output_type": "stream",
     "text": [
      "[3, 1, 'foo', 'bar']\n"
     ]
    }
   ],
   "source": [
    "xs.append('bar') # Add a new element to the end of the list\n",
    "print(xs)  "
   ]
  },
  {
   "cell_type": "code",
   "execution_count": 15,
   "metadata": {
    "colab": {
     "base_uri": "https://localhost:8080/"
    },
    "id": "cxVCNRTNL9f1",
    "outputId": "d15b32d7-4107-40a4-d8bf-6ca2bcdcd2dd"
   },
   "outputs": [
    {
     "name": "stdout",
     "output_type": "stream",
     "text": [
      "bar [3, 1, 'foo']\n"
     ]
    }
   ],
   "source": [
    "x = xs.pop()     # Remove and return the last element of the list\n",
    "print(x, xs)"
   ]
  },
  {
   "cell_type": "markdown",
   "metadata": {
    "id": "ovahhxd_L9f5"
   },
   "source": [
    "####Slicing"
   ]
  },
  {
   "cell_type": "markdown",
   "metadata": {
    "id": "YeSYKhv9L9f6"
   },
   "source": [
    "In addition to accessing list elements one at a time, Python provides concise syntax to access sublists; this is known as slicing:"
   ]
  },
  {
   "cell_type": "code",
   "execution_count": 16,
   "metadata": {
    "colab": {
     "base_uri": "https://localhost:8080/"
    },
    "id": "ninq666bL9f6",
    "outputId": "41fac019-c46d-4477-cf9d-38f56cea6957"
   },
   "outputs": [
    {
     "name": "stdout",
     "output_type": "stream",
     "text": [
      "[0, 1, 2, 3, 4]\n",
      "[2, 3]\n",
      "[2, 3, 4]\n",
      "[0, 1]\n",
      "[0, 1, 2, 3, 4]\n",
      "[0, 1, 2, 3]\n",
      "[0, 1, 8, 9, 4]\n"
     ]
    }
   ],
   "source": [
    "nums = list(range(5))    # range is a built-in function that creates a list of integers\n",
    "print(nums)         # Prints \"[0, 1, 2, 3, 4]\"\n",
    "print(nums[2:4])    # Get a slice from index 2 to 4 (exclusive); prints \"[2, 3]\"\n",
    "print(nums[2:])     # Get a slice from index 2 to the end; prints \"[2, 3, 4]\"\n",
    "print(nums[:2])     # Get a slice from the start to index 2 (exclusive); prints \"[0, 1]\"\n",
    "print(nums[:])      # Get a slice of the whole list; prints [\"0, 1, 2, 3, 4]\"\n",
    "print(nums[:-1])    # Slice indices can be negative; prints [\"0, 1, 2, 3]\"\n",
    "nums[2:4] = [8, 9] # Assign a new sublist to a slice\n",
    "print(nums)         # Prints \"[0, 1, 8, 9, 4]\""
   ]
  },
  {
   "cell_type": "markdown",
   "metadata": {
    "id": "UONpMhF4L9f_"
   },
   "source": [
    "####Loops"
   ]
  },
  {
   "cell_type": "markdown",
   "metadata": {
    "id": "_DYz1j6QL9f_"
   },
   "source": [
    "You can loop over the elements of a list like this:"
   ]
  },
  {
   "cell_type": "code",
   "execution_count": 17,
   "metadata": {
    "colab": {
     "base_uri": "https://localhost:8080/"
    },
    "id": "4cCOysfWL9gA",
    "outputId": "d5a88c90-c1f5-427c-fdef-2051edf7b13d"
   },
   "outputs": [
    {
     "name": "stdout",
     "output_type": "stream",
     "text": [
      "cat\n",
      "dog\n",
      "monkey\n"
     ]
    }
   ],
   "source": [
    "animals = ['cat', 'dog', 'monkey']\n",
    "for animal in animals:\n",
    "    print(animal)"
   ]
  },
  {
   "cell_type": "markdown",
   "metadata": {
    "id": "KxIaQs7pL9gE"
   },
   "source": [
    "If you want access to the index of each element within the body of a loop, use the built-in `enumerate` function:"
   ]
  },
  {
   "cell_type": "code",
   "execution_count": 18,
   "metadata": {
    "colab": {
     "base_uri": "https://localhost:8080/"
    },
    "id": "JjGnDluWL9gF",
    "outputId": "47e9690c-0636-432a-ba57-e34735a84af4"
   },
   "outputs": [
    {
     "name": "stdout",
     "output_type": "stream",
     "text": [
      "#1: cat\n",
      "#2: dog\n",
      "#3: monkey\n"
     ]
    }
   ],
   "source": [
    "animals = ['cat', 'dog', 'monkey']\n",
    "for idx, animal in enumerate(animals):\n",
    "    print('#{}: {}'.format(idx + 1, animal))"
   ]
  },
  {
   "cell_type": "markdown",
   "metadata": {
    "id": "arrLCcMyL9gK"
   },
   "source": [
    "####List comprehensions:"
   ]
  },
  {
   "cell_type": "markdown",
   "metadata": {
    "id": "5Qn2jU_pL9gL"
   },
   "source": [
    "When programming, frequently we want to transform one type of data into another. As a simple example, consider the following code that computes square numbers:"
   ]
  },
  {
   "cell_type": "code",
   "execution_count": 19,
   "metadata": {
    "colab": {
     "base_uri": "https://localhost:8080/"
    },
    "id": "IVNEwoMXL9gL",
    "outputId": "5a83f7f2-cbad-4571-bdb9-3977540798d2"
   },
   "outputs": [
    {
     "name": "stdout",
     "output_type": "stream",
     "text": [
      "[0, 1, 4, 9, 16]\n"
     ]
    }
   ],
   "source": [
    "nums = [0, 1, 2, 3, 4]\n",
    "squares = []\n",
    "for x in nums:\n",
    "    squares.append(x ** 2)\n",
    "print(squares)"
   ]
  },
  {
   "cell_type": "markdown",
   "metadata": {
    "id": "7DmKVUFaL9gQ"
   },
   "source": [
    "You can make this code simpler using a list comprehension:"
   ]
  },
  {
   "cell_type": "code",
   "execution_count": 20,
   "metadata": {
    "colab": {
     "base_uri": "https://localhost:8080/"
    },
    "id": "kZxsUfV6L9gR",
    "outputId": "15821be7-c891-45c0-d118-9a3f2a3598ca"
   },
   "outputs": [
    {
     "name": "stdout",
     "output_type": "stream",
     "text": [
      "[0, 1, 4, 9, 16]\n"
     ]
    }
   ],
   "source": [
    "nums = [0, 1, 2, 3, 4]\n",
    "squares = [x ** 2 for x in nums]\n",
    "print(squares)"
   ]
  },
  {
   "cell_type": "markdown",
   "metadata": {
    "id": "-D8ARK7tL9gV"
   },
   "source": [
    "List comprehensions can also contain conditions:"
   ]
  },
  {
   "cell_type": "code",
   "execution_count": 21,
   "metadata": {
    "colab": {
     "base_uri": "https://localhost:8080/"
    },
    "id": "yUtgOyyYL9gV",
    "outputId": "ac8fd0ff-9e81-4766-efc6-a2a0b1b1f1c5"
   },
   "outputs": [
    {
     "name": "stdout",
     "output_type": "stream",
     "text": [
      "[0, 4, 16]\n"
     ]
    }
   ],
   "source": [
    "nums = [0, 1, 2, 3, 4]\n",
    "even_squares = [x ** 2 for x in nums if x % 2 == 0]\n",
    "print(even_squares)"
   ]
  },
  {
   "cell_type": "code",
   "execution_count": 22,
   "metadata": {
    "colab": {
     "base_uri": "https://localhost:8080/"
    },
    "id": "5Y9VxneeqwZC",
    "outputId": "a210f67a-f922-47a8-93f2-b4d0f540d34e"
   },
   "outputs": [
    {
     "name": "stdout",
     "output_type": "stream",
     "text": [
      "[0, -99, 4, -99, 16]\n"
     ]
    }
   ],
   "source": [
    "even_squares = [x ** 2 if x % 2 == 0 else -99 for x in nums ] # list comprehension with if/else condition\n",
    "print(even_squares)"
   ]
  },
  {
   "cell_type": "markdown",
   "metadata": {
    "id": "H8xsUEFpL9gZ"
   },
   "source": [
    "####Dictionaries"
   ]
  },
  {
   "cell_type": "markdown",
   "metadata": {
    "id": "kkjAGMAJL9ga"
   },
   "source": [
    "A dictionary stores (key, value) pairs"
   ]
  },
  {
   "cell_type": "code",
   "execution_count": 23,
   "metadata": {
    "colab": {
     "base_uri": "https://localhost:8080/"
    },
    "id": "XBYI1MrYL9gb",
    "outputId": "82d93371-3acf-47c1-a797-de324ecd650e"
   },
   "outputs": [
    {
     "name": "stdout",
     "output_type": "stream",
     "text": [
      "cute\n",
      "True\n"
     ]
    }
   ],
   "source": [
    "d = {'cat': 'cute', 'dog': 'furry'}  # Create a new dictionary with some data\n",
    "print(d['cat'])       # Get an entry from a dictionary; prints \"cute\"\n",
    "print('cat' in d)     # Check if a dictionary has a given key; prints \"True\""
   ]
  },
  {
   "cell_type": "code",
   "execution_count": 24,
   "metadata": {
    "colab": {
     "base_uri": "https://localhost:8080/"
    },
    "id": "pS7e-G-HL9gf",
    "outputId": "b0f7de1b-eb57-44b6-f1f4-e6c2b808070b"
   },
   "outputs": [
    {
     "name": "stdout",
     "output_type": "stream",
     "text": [
      "wet\n"
     ]
    }
   ],
   "source": [
    "d['fish'] = 'wet'    # Set an entry in a dictionary\n",
    "print(d['fish'])      # Prints \"wet\""
   ]
  },
  {
   "cell_type": "code",
   "execution_count": 25,
   "metadata": {
    "colab": {
     "base_uri": "https://localhost:8080/"
    },
    "id": "8TjbEWqML9gl",
    "outputId": "c863f046-c8ab-4f6e-fa25-fb06729f4a78"
   },
   "outputs": [
    {
     "name": "stdout",
     "output_type": "stream",
     "text": [
      "N/A\n",
      "wet\n"
     ]
    }
   ],
   "source": [
    "print(d.get('monkey', 'N/A'))  # Get an element with a default; prints \"N/A\"\n",
    "print(d.get('fish', 'N/A'))    # Get an element with a default; prints \"wet\""
   ]
  },
  {
   "cell_type": "code",
   "execution_count": 26,
   "metadata": {
    "colab": {
     "base_uri": "https://localhost:8080/"
    },
    "id": "OBG3FclZD4rw",
    "outputId": "d5050fda-862f-4b22-8977-2b06eab3fc71"
   },
   "outputs": [
    {
     "name": "stdout",
     "output_type": "stream",
     "text": [
      "{'cat': 'cute', 'dog': 'furry', 'fish': 'wet'}\n"
     ]
    }
   ],
   "source": [
    "print(d)"
   ]
  },
  {
   "cell_type": "code",
   "execution_count": 27,
   "metadata": {
    "colab": {
     "base_uri": "https://localhost:8080/"
    },
    "id": "0EItdNBJL9go",
    "outputId": "14183f90-a035-439b-c07f-3f824ba87f63"
   },
   "outputs": [
    {
     "name": "stdout",
     "output_type": "stream",
     "text": [
      "N/A\n"
     ]
    }
   ],
   "source": [
    "del d['fish']        # Remove an element from a dictionary\n",
    "print(d.get('fish', 'N/A')) # \"fish\" is no longer a key; prints \"N/A\""
   ]
  },
  {
   "cell_type": "code",
   "execution_count": 28,
   "metadata": {
    "colab": {
     "base_uri": "https://localhost:8080/"
    },
    "id": "h4OtgXfGEFOu",
    "outputId": "732fa71f-9c3f-446f-accf-e5095664691a"
   },
   "outputs": [
    {
     "name": "stdout",
     "output_type": "stream",
     "text": [
      "{'cat': 'cute', 'dog': 'furry'}\n"
     ]
    }
   ],
   "source": [
    "print(d)"
   ]
  },
  {
   "cell_type": "markdown",
   "metadata": {
    "id": "IxwEqHlGL9gr"
   },
   "source": [
    "It is easy to iterate over the keys in a dictionary:"
   ]
  },
  {
   "cell_type": "code",
   "execution_count": 29,
   "metadata": {
    "colab": {
     "base_uri": "https://localhost:8080/"
    },
    "id": "rYfz7ZKNL9gs",
    "outputId": "be976392-c9e4-4c32-ae68-1b8b9b056633"
   },
   "outputs": [
    {
     "name": "stdout",
     "output_type": "stream",
     "text": [
      "A person has 2 legs\n",
      "A cat has 4 legs\n",
      "A spider has 8 legs\n"
     ]
    }
   ],
   "source": [
    "d = {'person': 2, 'cat': 4, 'spider': 8}\n",
    "for animal, legs in d.items():\n",
    "    print('A {} has {} legs'.format(animal, legs))"
   ]
  },
  {
   "cell_type": "markdown",
   "metadata": {
    "id": "17sxiOpzL9gz"
   },
   "source": [
    "Dictionary comprehensions: These are similar to list comprehensions, but allow you to easily construct dictionaries. For example:"
   ]
  },
  {
   "cell_type": "code",
   "execution_count": 30,
   "metadata": {
    "colab": {
     "base_uri": "https://localhost:8080/"
    },
    "id": "8PB07imLL9gz",
    "outputId": "7efb1a0a-7a87-4dad-a75b-132ff6be53d8"
   },
   "outputs": [
    {
     "name": "stdout",
     "output_type": "stream",
     "text": [
      "{0: 0, 2: 4, 4: 16}\n"
     ]
    }
   ],
   "source": [
    "nums = [0, 1, 2, 3, 4]\n",
    "even_num_to_square = {x: x ** 2 for x in nums if x % 2 == 0}\n",
    "print(even_num_to_square)"
   ]
  },
  {
   "cell_type": "markdown",
   "metadata": {
    "id": "V9MHfUdvL9g2"
   },
   "source": [
    "####Sets"
   ]
  },
  {
   "cell_type": "markdown",
   "metadata": {
    "id": "Rpm4UtNpL9g2"
   },
   "source": [
    "A set is an unordered collection of distinct elements. As a simple example, consider the following:"
   ]
  },
  {
   "cell_type": "code",
   "execution_count": 31,
   "metadata": {
    "colab": {
     "base_uri": "https://localhost:8080/"
    },
    "id": "MmyaniLsL9g2",
    "outputId": "2e810e9f-ff57-4e04-8773-0b8f92073997"
   },
   "outputs": [
    {
     "name": "stdout",
     "output_type": "stream",
     "text": [
      "True\n",
      "False\n",
      "{'dog', 'cat'}\n"
     ]
    }
   ],
   "source": [
    "animals = {'cat', 'dog'}\n",
    "print('cat' in animals)   # Check if an element is in a set; prints \"True\"\n",
    "print('fish' in animals)  # prints \"False\"\n",
    "print(animals)"
   ]
  },
  {
   "cell_type": "code",
   "execution_count": 32,
   "metadata": {
    "colab": {
     "base_uri": "https://localhost:8080/"
    },
    "id": "ElJEyK86L9g6",
    "outputId": "0fa32fbb-8adf-48c2-edce-3c2fab33705d"
   },
   "outputs": [
    {
     "name": "stdout",
     "output_type": "stream",
     "text": [
      "True\n",
      "3\n",
      "{'dog', 'fish', 'cat'}\n"
     ]
    }
   ],
   "source": [
    "animals.add('fish')      # Add an element to a set\n",
    "print('fish' in animals)\n",
    "print(len(animals))       # Number of elements in a set;\n",
    "print(animals)"
   ]
  },
  {
   "cell_type": "code",
   "execution_count": 33,
   "metadata": {
    "colab": {
     "base_uri": "https://localhost:8080/"
    },
    "id": "5uGmrxdPL9g9",
    "outputId": "21e7fbc4-b7b7-4a5d-efd3-d9b2a9e9d105"
   },
   "outputs": [
    {
     "name": "stdout",
     "output_type": "stream",
     "text": [
      "3\n",
      "2\n",
      "{'dog', 'fish'}\n"
     ]
    }
   ],
   "source": [
    "animals.add('cat')       # Adding an element that is already in the set does nothing\n",
    "print(len(animals))       \n",
    "animals.remove('cat')    # Remove an element from a set\n",
    "print(len(animals))    \n",
    "print(animals)   "
   ]
  },
  {
   "cell_type": "markdown",
   "metadata": {
    "id": "zk2DbvLKL9g_"
   },
   "source": [
    "Loops: Iterating over a set has the same syntax as iterating over a list; however since sets are unordered, you cannot make assumptions about the order in which you visit the elements of the set:"
   ]
  },
  {
   "cell_type": "code",
   "execution_count": 34,
   "metadata": {
    "colab": {
     "base_uri": "https://localhost:8080/"
    },
    "id": "K47KYNGyL9hA",
    "outputId": "c9920784-9e6e-42db-cece-dc542be4bdba"
   },
   "outputs": [
    {
     "name": "stdout",
     "output_type": "stream",
     "text": [
      "#1: dog\n",
      "#2: fish\n",
      "#3: cat\n"
     ]
    }
   ],
   "source": [
    "animals = {'cat', 'dog', 'fish'}\n",
    "for idx, animal in enumerate(animals):\n",
    "    print('#{}: {}'.format(idx + 1, animal))"
   ]
  },
  {
   "cell_type": "markdown",
   "metadata": {
    "id": "puq4S8buL9hC"
   },
   "source": [
    "Set comprehensions: Like lists and dictionaries, we can easily construct sets using set comprehensions:"
   ]
  },
  {
   "cell_type": "code",
   "execution_count": 35,
   "metadata": {
    "colab": {
     "base_uri": "https://localhost:8080/"
    },
    "id": "iw7k90k3L9hC",
    "outputId": "153b7a90-1b5d-42e9-f4ce-0bf31fdd77e0"
   },
   "outputs": [
    {
     "name": "stdout",
     "output_type": "stream",
     "text": [
      "{0, 1, 2, 3, 4, 5}\n"
     ]
    }
   ],
   "source": [
    "from math import sqrt\n",
    "print({int(sqrt(x)) for x in range(30)})"
   ]
  },
  {
   "cell_type": "markdown",
   "metadata": {
    "id": "qPsHSKB1L9hF"
   },
   "source": [
    "####Tuples"
   ]
  },
  {
   "cell_type": "markdown",
   "metadata": {
    "id": "kucc0LKVL9hG"
   },
   "source": [
    "A tuple is an (immutable) ordered list of values. A tuple is in many ways similar to a list; one of the most important differences is that tuples can be used as keys in dictionaries and as elements of sets, while lists cannot. Here is a trivial example:"
   ]
  },
  {
   "cell_type": "code",
   "execution_count": 36,
   "metadata": {
    "colab": {
     "base_uri": "https://localhost:8080/"
    },
    "id": "9wHUyTKxL9hH",
    "outputId": "b678d636-bf69-4a2b-d2ab-ecca21a5d7b4"
   },
   "outputs": [
    {
     "name": "stdout",
     "output_type": "stream",
     "text": [
      "<class 'tuple'>\n",
      "{(0, 1): 0, (1, 2): 1, (2, 3): 2, (3, 4): 3, (4, 5): 4, (5, 6): 5, (6, 7): 6}\n",
      "5\n",
      "1\n"
     ]
    }
   ],
   "source": [
    "d = {(x, x + 1): x for x in range(7)}  # Create a dictionary with tuple keys\n",
    "t = (5, 6)       # Create a tuple\n",
    "print(type(t))\n",
    "print(d)\n",
    "print(d[t])       \n",
    "print(d[(1, 2)])"
   ]
  },
  {
   "cell_type": "markdown",
   "metadata": {
    "id": "AXA4jrEOL9hM"
   },
   "source": [
    "###Functions"
   ]
  },
  {
   "cell_type": "markdown",
   "metadata": {
    "id": "WaRms-QfL9hN"
   },
   "source": [
    "Python functions are defined using the `def` keyword. For example:"
   ]
  },
  {
   "cell_type": "code",
   "execution_count": 37,
   "metadata": {
    "colab": {
     "base_uri": "https://localhost:8080/"
    },
    "id": "kiMDUr58L9hN",
    "outputId": "9fccaa41-57f6-4301-c58e-70e58333e5b2"
   },
   "outputs": [
    {
     "name": "stdout",
     "output_type": "stream",
     "text": [
      "negative\n",
      "zero\n",
      "positive\n"
     ]
    }
   ],
   "source": [
    "def sign(x):\n",
    "    if x > 0:\n",
    "        return 'positive'\n",
    "    elif x < 0:\n",
    "        return 'negative'\n",
    "    else:\n",
    "        return 'zero'\n",
    "\n",
    "for x in [-1, 0, 1]:\n",
    "    print(sign(x))"
   ]
  },
  {
   "cell_type": "markdown",
   "metadata": {
    "id": "U-QJFt8TL9hR"
   },
   "source": [
    "We will often define functions to take optional keyword arguments, like this:"
   ]
  },
  {
   "cell_type": "code",
   "execution_count": 38,
   "metadata": {
    "colab": {
     "base_uri": "https://localhost:8080/"
    },
    "id": "PfsZ3DazL9hR",
    "outputId": "a374c5a0-3cfd-4d4e-e06e-f3a67f978179"
   },
   "outputs": [
    {
     "name": "stdout",
     "output_type": "stream",
     "text": [
      "Hello, Bob!\n",
      "HELLO, FRED\n"
     ]
    }
   ],
   "source": [
    "def hello(name, loud=False):\n",
    "    if loud:\n",
    "        print('HELLO, {}'.format(name.upper()))\n",
    "    else:\n",
    "        print('Hello, {}!'.format(name))\n",
    "\n",
    "hello('Bob')\n",
    "hello('Fred', loud=True)"
   ]
  },
  {
   "cell_type": "markdown",
   "metadata": {
    "id": "ObA9PRtQL9hT"
   },
   "source": [
    "###Classes"
   ]
  },
  {
   "cell_type": "markdown",
   "metadata": {
    "id": "hAzL_lTkL9hU"
   },
   "source": [
    "The syntax for defining classes in Python is straightforward:"
   ]
  },
  {
   "cell_type": "code",
   "execution_count": 39,
   "metadata": {
    "colab": {
     "base_uri": "https://localhost:8080/"
    },
    "id": "RWdbaGigL9hU",
    "outputId": "40472c5b-b0ce-4038-cc4c-1f7ec939a1e1"
   },
   "outputs": [
    {
     "name": "stdout",
     "output_type": "stream",
     "text": [
      "Fred\n",
      "Hello, Fred!\n",
      "HELLO, FRED\n"
     ]
    }
   ],
   "source": [
    "class Greeter:\n",
    "\n",
    "    # Constructor\n",
    "    def __init__(self, name):\n",
    "        self.name = name  # Create an *instance* variable\n",
    "\n",
    "    # Instance method\n",
    "    def greet(self, loud=False):\n",
    "        if loud:\n",
    "          print('HELLO, {}'.format(self.name.upper()))\n",
    "        else:\n",
    "          print('Hello, {}!'.format(self.name))\n",
    "\n",
    "g = Greeter('Fred')  # Construct an instance of the Greeter class\n",
    "print(g.name)\n",
    "g.greet()            # Call an instance method; prints \"Hello, Fred\"\n",
    "g.greet(loud=True)   # Call an instance method; prints \"HELLO, FRED!\""
   ]
  },
  {
   "cell_type": "markdown",
   "metadata": {
    "id": "3cfrOV4dL9hW"
   },
   "source": [
    "##Numpy"
   ]
  },
  {
   "cell_type": "markdown",
   "metadata": {
    "id": "fY12nHhyL9hX"
   },
   "source": [
    "Numpy is the core library for scientific computing in Python. It provides a high-performance multidimensional array object, and tools for working with these arrays. "
   ]
  },
  {
   "cell_type": "code",
   "execution_count": 40,
   "metadata": {
    "id": "58QdX8BLL9hZ"
   },
   "outputs": [],
   "source": [
    "import numpy as np"
   ]
  },
  {
   "cell_type": "markdown",
   "metadata": {
    "id": "DDx6v1EdL9hb"
   },
   "source": [
    "###Arrays"
   ]
  },
  {
   "cell_type": "markdown",
   "metadata": {
    "id": "f-Zv3f7LL9hc"
   },
   "source": [
    "A numpy array is a grid of values, all of the same type, and is indexed by a tuple of nonnegative integers. The number of dimensions is the rank of the array; the shape of an array is a tuple of integers giving the size of the array along each dimension."
   ]
  },
  {
   "cell_type": "markdown",
   "metadata": {
    "id": "_eMTRnZRL9hc"
   },
   "source": [
    "We can initialize numpy arrays from nested Python lists, and access elements using square brackets:"
   ]
  },
  {
   "cell_type": "code",
   "execution_count": 41,
   "metadata": {
    "colab": {
     "base_uri": "https://localhost:8080/"
    },
    "id": "-l3JrGxCL9hc",
    "outputId": "d9291248-3982-4e9b-d387-3479f47dcd97"
   },
   "outputs": [
    {
     "name": "stdout",
     "output_type": "stream",
     "text": [
      "<class 'numpy.ndarray'> (3,) 1 2 3\n",
      "[5 2 3]\n"
     ]
    }
   ],
   "source": [
    "a = np.array([1, 2, 3])  # Create a rank 1 array\n",
    "print(type(a), a.shape, a[0], a[1], a[2])\n",
    "a[0] = 5                 # Change an element of the array\n",
    "print(a)                  "
   ]
  },
  {
   "cell_type": "code",
   "execution_count": 42,
   "metadata": {
    "colab": {
     "base_uri": "https://localhost:8080/"
    },
    "id": "ma6mk-kdL9hh",
    "outputId": "7a3706c4-ce19-4918-f07a-a5ca689f2347"
   },
   "outputs": [
    {
     "name": "stdout",
     "output_type": "stream",
     "text": [
      "[[1 2 3]\n",
      " [4 5 6]]\n"
     ]
    }
   ],
   "source": [
    "b = np.array([[1,2,3],[4,5,6]])   # Create a rank 2 array\n",
    "print(b)"
   ]
  },
  {
   "cell_type": "code",
   "execution_count": 43,
   "metadata": {
    "colab": {
     "base_uri": "https://localhost:8080/"
    },
    "id": "ymfSHAwtL9hj",
    "outputId": "252742c9-f24d-4c92-b447-9f7621a2b2fd"
   },
   "outputs": [
    {
     "name": "stdout",
     "output_type": "stream",
     "text": [
      "(2, 3)\n",
      "1 2 4\n"
     ]
    }
   ],
   "source": [
    "print(b.shape)\n",
    "print(b[0, 0], b[0, 1], b[1, 0])"
   ]
  },
  {
   "cell_type": "markdown",
   "metadata": {
    "id": "F2qwdyvuL9hn"
   },
   "source": [
    "Numpy also provides many functions to create arrays:"
   ]
  },
  {
   "cell_type": "code",
   "execution_count": 44,
   "metadata": {
    "colab": {
     "base_uri": "https://localhost:8080/"
    },
    "id": "mVTN_EBqL9hn",
    "outputId": "41f42497-48b1-4b2c-f19d-4d047d8bb1f0"
   },
   "outputs": [
    {
     "name": "stdout",
     "output_type": "stream",
     "text": [
      "[[0. 0.]\n",
      " [0. 0.]]\n"
     ]
    }
   ],
   "source": [
    "a = np.zeros((2,2))  # Create an array of all zeros\n",
    "print(a)"
   ]
  },
  {
   "cell_type": "code",
   "execution_count": 45,
   "metadata": {
    "colab": {
     "base_uri": "https://localhost:8080/"
    },
    "id": "skiKlNmlL9h5",
    "outputId": "baa6716c-29b3-4e77-9375-5270652386ec"
   },
   "outputs": [
    {
     "name": "stdout",
     "output_type": "stream",
     "text": [
      "[[1. 1.]]\n"
     ]
    }
   ],
   "source": [
    "b = np.ones((1,2))   # Create an array of all ones\n",
    "print(b)"
   ]
  },
  {
   "cell_type": "code",
   "execution_count": 46,
   "metadata": {
    "colab": {
     "base_uri": "https://localhost:8080/"
    },
    "id": "HtFsr03bL9h7",
    "outputId": "4407e386-0bd6-4e17-ac99-40afc847e140"
   },
   "outputs": [
    {
     "name": "stdout",
     "output_type": "stream",
     "text": [
      "[[7 7]\n",
      " [7 7]]\n"
     ]
    }
   ],
   "source": [
    "c = np.full((2,2), 7) # Create a constant array\n",
    "print(c)"
   ]
  },
  {
   "cell_type": "code",
   "execution_count": 47,
   "metadata": {
    "colab": {
     "base_uri": "https://localhost:8080/"
    },
    "id": "-QcALHvkL9h9",
    "outputId": "d6244076-af3a-4674-d07b-94c32f048c48"
   },
   "outputs": [
    {
     "name": "stdout",
     "output_type": "stream",
     "text": [
      "[[1. 0.]\n",
      " [0. 1.]]\n"
     ]
    }
   ],
   "source": [
    "d = np.eye(2)        # Create a 2x2 identity matrix\n",
    "print(d)"
   ]
  },
  {
   "cell_type": "code",
   "execution_count": 48,
   "metadata": {
    "colab": {
     "base_uri": "https://localhost:8080/"
    },
    "id": "RCpaYg9qL9iA",
    "outputId": "f3bf2d19-d09a-45ce-9735-edd7f83e8689"
   },
   "outputs": [
    {
     "name": "stdout",
     "output_type": "stream",
     "text": [
      "[[0.48308558 0.54870567]\n",
      " [0.40285584 0.24334594]]\n"
     ]
    }
   ],
   "source": [
    "e = np.random.random((2,2)) # Create an array filled with random values between 0 and 1\n",
    "print(e)"
   ]
  },
  {
   "cell_type": "markdown",
   "metadata": {
    "id": "jI5qcSDfL9iC"
   },
   "source": [
    "###Array indexing"
   ]
  },
  {
   "cell_type": "markdown",
   "metadata": {
    "id": "M-E4MUeVL9iC"
   },
   "source": [
    "Numpy offers several ways to index into arrays."
   ]
  },
  {
   "cell_type": "markdown",
   "metadata": {
    "id": "QYv4JyIEL9iD"
   },
   "source": [
    "Slicing: Similar to Python lists, numpy arrays can be sliced. Since arrays may be multidimensional, you must specify a slice for each dimension of the array:"
   ]
  },
  {
   "cell_type": "code",
   "execution_count": 49,
   "metadata": {
    "colab": {
     "base_uri": "https://localhost:8080/"
    },
    "id": "wLWA0udwL9iD",
    "outputId": "4b4a400a-72ac-4682-c176-c56dea974d4b"
   },
   "outputs": [
    {
     "name": "stdout",
     "output_type": "stream",
     "text": [
      "[[ 1  2  3  4]\n",
      " [ 5  6  7  8]\n",
      " [ 9 10 11 12]]\n",
      "[[2 3]\n",
      " [6 7]]\n"
     ]
    }
   ],
   "source": [
    "import numpy as np\n",
    "\n",
    "a = np.array([[1,2,3,4], [5,6,7,8], [9,10,11,12]])\n",
    "print(a)\n",
    "\n",
    "# Use slicing to pull out the subarray consisting of the first 2 rows\n",
    "# and columns 1 and 2; b is the following array of shape (2, 2):\n",
    "# [[2 3]\n",
    "#  [6 7]]\n",
    "b = a[:2, 1:3]\n",
    "print(b)"
   ]
  },
  {
   "cell_type": "markdown",
   "metadata": {
    "id": "KahhtZKYL9iF"
   },
   "source": [
    "A slice of an array is a view into the same data, so modifying it will modify the original array."
   ]
  },
  {
   "cell_type": "code",
   "execution_count": 50,
   "metadata": {
    "colab": {
     "base_uri": "https://localhost:8080/"
    },
    "id": "1kmtaFHuL9iG",
    "outputId": "33f14242-51c1-4df1-bc6d-32c445b4c29a"
   },
   "outputs": [
    {
     "name": "stdout",
     "output_type": "stream",
     "text": [
      "2\n",
      "77\n"
     ]
    }
   ],
   "source": [
    "print(a[0, 1])\n",
    "b[0, 0] = 77    # b[0, 0] is the same piece of data as a[0, 1]\n",
    "print(a[0, 1]) "
   ]
  },
  {
   "cell_type": "markdown",
   "metadata": {
    "id": "NCye3NXhL9iL"
   },
   "source": [
    "Two ways of accessing the data in the middle row of the array.\n",
    "Mixing integer indexing with slices yields an array of lower rank,\n",
    "while using only slices yields an array of the same rank as the\n",
    "original array:"
   ]
  },
  {
   "cell_type": "code",
   "execution_count": 51,
   "metadata": {
    "colab": {
     "base_uri": "https://localhost:8080/"
    },
    "id": "EOiEMsmNL9iL",
    "outputId": "a0a88be0-67f6-4960-ca03-21e719fadf04"
   },
   "outputs": [
    {
     "name": "stdout",
     "output_type": "stream",
     "text": [
      "[5 6 7 8] (4,)\n",
      "[[5 6 7 8]] (1, 4)\n",
      "[[5 6 7 8]] (1, 4)\n"
     ]
    }
   ],
   "source": [
    "row_r1 = a[1, :]    # Rank 1 view of the second row of a  \n",
    "row_r2 = a[1:2, :]  # Rank 2 view of the second row of a\n",
    "row_r3 = a[[1], :]  # Rank 2 view of the second row of a\n",
    "print(row_r1, row_r1.shape)\n",
    "print(row_r2, row_r2.shape)\n",
    "print(row_r3, row_r3.shape)"
   ]
  },
  {
   "cell_type": "code",
   "execution_count": 52,
   "metadata": {
    "colab": {
     "base_uri": "https://localhost:8080/"
    },
    "id": "JXu73pfDL9iN",
    "outputId": "6d20bab9-e8d6-4204-a0a1-93fddb3fbe21"
   },
   "outputs": [
    {
     "name": "stdout",
     "output_type": "stream",
     "text": [
      "[77  6 10] (3,)\n",
      "\n",
      "[[77]\n",
      " [ 6]\n",
      " [10]] (3, 1)\n"
     ]
    }
   ],
   "source": [
    "# We can make the same distinction when accessing columns of an array:\n",
    "col_r1 = a[:, 1]\n",
    "col_r2 = a[:, 1:2]\n",
    "print(col_r1, col_r1.shape)\n",
    "print()\n",
    "print(col_r2, col_r2.shape)"
   ]
  },
  {
   "cell_type": "markdown",
   "metadata": {
    "id": "VP3916bOL9iP"
   },
   "source": [
    "Integer array indexing: When you index into numpy arrays using slicing, the resulting array view will always be a subarray of the original array. In contrast, integer array indexing allows you to construct arbitrary arrays using the data from another array. Here is an example:"
   ]
  },
  {
   "cell_type": "code",
   "execution_count": 53,
   "metadata": {
    "colab": {
     "base_uri": "https://localhost:8080/"
    },
    "id": "TBnWonIDL9iP",
    "outputId": "adfe0e0a-f580-4b3c-c157-567736b72630"
   },
   "outputs": [
    {
     "name": "stdout",
     "output_type": "stream",
     "text": [
      "[1 4 5]\n",
      "[1 4 5]\n"
     ]
    }
   ],
   "source": [
    "a = np.array([[1,2], [3, 4], [5, 6]])\n",
    "\n",
    "# An example of integer array indexing.\n",
    "# The returned array will have shape (3,) and \n",
    "print(a[[0, 1, 2], [0, 1, 0]])\n",
    "\n",
    "# The above example of integer array indexing is equivalent to this:\n",
    "print(np.array([a[0, 0], a[1, 1], a[2, 0]]))"
   ]
  },
  {
   "cell_type": "code",
   "execution_count": 54,
   "metadata": {
    "colab": {
     "base_uri": "https://localhost:8080/"
    },
    "id": "n7vuati-L9iR",
    "outputId": "ea015cea-f162-4729-b910-f63eba956dd5"
   },
   "outputs": [
    {
     "name": "stdout",
     "output_type": "stream",
     "text": [
      "[2 2]\n",
      "[2 2]\n"
     ]
    }
   ],
   "source": [
    "# When using integer array indexing, you can reuse the same\n",
    "# element from the source array:\n",
    "print(a[[0, 0], [1, 1]])\n",
    "\n",
    "# Equivalent to the previous integer array indexing example\n",
    "print(np.array([a[0, 1], a[0, 1]]))"
   ]
  },
  {
   "cell_type": "markdown",
   "metadata": {
    "id": "kaipSLafL9iU"
   },
   "source": [
    "One useful trick with integer array indexing is selecting or mutating one element from each row of a matrix:"
   ]
  },
  {
   "cell_type": "code",
   "execution_count": 55,
   "metadata": {
    "colab": {
     "base_uri": "https://localhost:8080/"
    },
    "id": "ehqsV7TXL9iU",
    "outputId": "c0df963d-53f5-4218-9f77-e8dbd3cec4d0"
   },
   "outputs": [
    {
     "name": "stdout",
     "output_type": "stream",
     "text": [
      "[[ 1  2  3]\n",
      " [ 4  5  6]\n",
      " [ 7  8  9]\n",
      " [10 11 12]]\n"
     ]
    }
   ],
   "source": [
    "# Create a new array from which we will select elements\n",
    "a = np.array([[1,2,3], [4,5,6], [7,8,9], [10, 11, 12]])\n",
    "print(a)"
   ]
  },
  {
   "cell_type": "code",
   "execution_count": 56,
   "metadata": {
    "colab": {
     "base_uri": "https://localhost:8080/"
    },
    "id": "pAPOoqy5L9iV",
    "outputId": "a92b6b74-d970-47bb-e81c-e0330578284f"
   },
   "outputs": [
    {
     "name": "stdout",
     "output_type": "stream",
     "text": [
      "[ 1  6  7 11]\n"
     ]
    }
   ],
   "source": [
    "# Create an array of indices\n",
    "b = np.array([0, 2, 0, 1])\n",
    "\n",
    "# Select one element from each row of a using the indices in b\n",
    "print(a[np.arange(4), b])  # Prints \"[ 1  6  7 11]\""
   ]
  },
  {
   "cell_type": "code",
   "execution_count": 57,
   "metadata": {
    "colab": {
     "base_uri": "https://localhost:8080/"
    },
    "id": "6v1PdI1DL9ib",
    "outputId": "e12c1e4e-e360-4f16-e466-659224010d76"
   },
   "outputs": [
    {
     "name": "stdout",
     "output_type": "stream",
     "text": [
      "[[11  2  3]\n",
      " [ 4  5 16]\n",
      " [17  8  9]\n",
      " [10 21 12]]\n"
     ]
    }
   ],
   "source": [
    "# Mutate one element from each row of a using the indices in b\n",
    "a[np.arange(4), b] += 10\n",
    "print(a)"
   ]
  },
  {
   "cell_type": "markdown",
   "metadata": {
    "id": "kaE8dBGgL9id"
   },
   "source": [
    "Boolean array indexing: Boolean array indexing lets you pick out arbitrary elements of an array. Frequently this type of indexing is used to select the elements of an array that satisfy some condition. Here is an example:"
   ]
  },
  {
   "cell_type": "code",
   "execution_count": 58,
   "metadata": {
    "colab": {
     "base_uri": "https://localhost:8080/"
    },
    "id": "32PusjtKL9id",
    "outputId": "a70c2053-1214-4928-b8d4-899027e57b92"
   },
   "outputs": [
    {
     "name": "stdout",
     "output_type": "stream",
     "text": [
      "[[False False]\n",
      " [ True  True]\n",
      " [ True  True]]\n"
     ]
    }
   ],
   "source": [
    "import numpy as np\n",
    "\n",
    "a = np.array([[1,2], [3, 4], [5, 6]])\n",
    "\n",
    "bool_idx = (a > 2)  # Find the elements of a that are bigger than 2;\n",
    "                    # this returns a numpy array of Booleans of the same\n",
    "                    # shape as a, where each slot of bool_idx tells\n",
    "                    # whether that element of a is > 2.\n",
    "\n",
    "print(bool_idx)"
   ]
  },
  {
   "cell_type": "code",
   "execution_count": 59,
   "metadata": {
    "colab": {
     "base_uri": "https://localhost:8080/"
    },
    "id": "cb2IRMXaL9if",
    "outputId": "66335a67-566b-48c0-c0f3-2c58a336f1ca"
   },
   "outputs": [
    {
     "name": "stdout",
     "output_type": "stream",
     "text": [
      "[3 4 5 6]\n",
      "[3 4 5 6]\n"
     ]
    }
   ],
   "source": [
    "# We use boolean array indexing to construct a rank 1 array\n",
    "# consisting of the elements of a corresponding to the True values\n",
    "# of bool_idx\n",
    "print(a[bool_idx])\n",
    "\n",
    "# We can do all of the above in a single concise statement:\n",
    "print(a[a > 2])"
   ]
  },
  {
   "cell_type": "markdown",
   "metadata": {
    "id": "CdofMonAL9ih"
   },
   "source": [
    "For brevity we have left out a lot of details about numpy array indexing; if you want to know more you should read the documentation."
   ]
  },
  {
   "cell_type": "markdown",
   "metadata": {
    "id": "jTctwqdQL9ih"
   },
   "source": [
    "###Datatypes"
   ]
  },
  {
   "cell_type": "markdown",
   "metadata": {
    "id": "kSZQ1WkIL9ih"
   },
   "source": [
    "Every numpy array is a grid of elements of the same type. Numpy provides a large set of numeric datatypes that you can use to construct arrays. Numpy tries to guess a datatype when you create an array, but functions that construct arrays usually also include an optional argument to explicitly specify the datatype. Here is an example:"
   ]
  },
  {
   "cell_type": "code",
   "execution_count": 60,
   "metadata": {
    "colab": {
     "base_uri": "https://localhost:8080/"
    },
    "id": "4za4O0m5L9ih",
    "outputId": "a87b0285-ac22-4cea-b867-86eab9a78428"
   },
   "outputs": [
    {
     "name": "stdout",
     "output_type": "stream",
     "text": [
      "int64 float64 int64\n"
     ]
    }
   ],
   "source": [
    "x = np.array([1, 2])  # Let numpy choose the datatype\n",
    "y = np.array([1.0, 2.0])  # Let numpy choose the datatype\n",
    "z = np.array([1, 2], dtype=np.int64)  # Force a particular datatype\n",
    "\n",
    "print(x.dtype, y.dtype, z.dtype)"
   ]
  },
  {
   "cell_type": "markdown",
   "metadata": {
    "id": "TuB-fdhIL9ik"
   },
   "source": [
    "###Array math"
   ]
  },
  {
   "cell_type": "markdown",
   "metadata": {
    "id": "18e8V8elL9ik"
   },
   "source": [
    "Basic mathematical functions operate elementwise on arrays, and are available both as operator overloads and as functions in the numpy module:"
   ]
  },
  {
   "cell_type": "code",
   "execution_count": 61,
   "metadata": {
    "colab": {
     "base_uri": "https://localhost:8080/"
    },
    "id": "gHKvBrSKL9il",
    "outputId": "4ba247d4-2177-4cda-dc7b-ee32b270d600"
   },
   "outputs": [
    {
     "name": "stdout",
     "output_type": "stream",
     "text": [
      "[[ 6.  8.]\n",
      " [10. 12.]]\n",
      "[[ 6.  8.]\n",
      " [10. 12.]]\n"
     ]
    }
   ],
   "source": [
    "x = np.array([[1,2],[3,4]], dtype=np.float64)\n",
    "y = np.array([[5,6],[7,8]], dtype=np.float64)\n",
    "\n",
    "# Elementwise sum; both produce the array\n",
    "print(x + y)\n",
    "print(np.add(x, y))"
   ]
  },
  {
   "cell_type": "code",
   "execution_count": 62,
   "metadata": {
    "colab": {
     "base_uri": "https://localhost:8080/"
    },
    "id": "1fZtIAMxL9in",
    "outputId": "154db904-9d06-4deb-eb4e-b8b6e235006e"
   },
   "outputs": [
    {
     "name": "stdout",
     "output_type": "stream",
     "text": [
      "[[-4. -4.]\n",
      " [-4. -4.]]\n",
      "[[-4. -4.]\n",
      " [-4. -4.]]\n"
     ]
    }
   ],
   "source": [
    "# Elementwise difference; both produce the array\n",
    "print(x - y)\n",
    "print(np.subtract(x, y))"
   ]
  },
  {
   "cell_type": "code",
   "execution_count": 63,
   "metadata": {
    "colab": {
     "base_uri": "https://localhost:8080/"
    },
    "id": "nil4AScML9io",
    "outputId": "2f8867ca-c3e5-4ed6-ae7e-f97df7665ae9"
   },
   "outputs": [
    {
     "name": "stdout",
     "output_type": "stream",
     "text": [
      "[[ 5. 12.]\n",
      " [21. 32.]]\n",
      "[[ 5. 12.]\n",
      " [21. 32.]]\n"
     ]
    }
   ],
   "source": [
    "# Elementwise product; both produce the array\n",
    "print(x * y)\n",
    "print(np.multiply(x, y))"
   ]
  },
  {
   "cell_type": "code",
   "execution_count": 64,
   "metadata": {
    "colab": {
     "base_uri": "https://localhost:8080/"
    },
    "id": "0JoA4lH6L9ip",
    "outputId": "e2c18fed-6b44-4de2-f059-a999ec92063d"
   },
   "outputs": [
    {
     "name": "stdout",
     "output_type": "stream",
     "text": [
      "[[0.2        0.33333333]\n",
      " [0.42857143 0.5       ]]\n",
      "[[0.2        0.33333333]\n",
      " [0.42857143 0.5       ]]\n"
     ]
    }
   ],
   "source": [
    "# Elementwise division; both produce the array\n",
    "# [[ 0.2         0.33333333]\n",
    "#  [ 0.42857143  0.5       ]]\n",
    "print(x / y)\n",
    "print(np.divide(x, y))"
   ]
  },
  {
   "cell_type": "code",
   "execution_count": 65,
   "metadata": {
    "colab": {
     "base_uri": "https://localhost:8080/"
    },
    "id": "g0iZuA6bL9ir",
    "outputId": "d864e21c-74d1-4423-92f6-d47ad487cb5f"
   },
   "outputs": [
    {
     "name": "stdout",
     "output_type": "stream",
     "text": [
      "[[1.         1.41421356]\n",
      " [1.73205081 2.        ]]\n"
     ]
    }
   ],
   "source": [
    "# Elementwise square root; produces the array\n",
    "# [[ 1.          1.41421356]\n",
    "#  [ 1.73205081  2.        ]]\n",
    "print(np.sqrt(x))"
   ]
  },
  {
   "cell_type": "markdown",
   "metadata": {
    "id": "a5d_uujuL9it"
   },
   "source": [
    "The dot function is used to compute inner products of vectors, to multiply a vector by a matrix, and to multiply matrices. dot is available both as a function in the numpy module and as an instance method of array objects:"
   ]
  },
  {
   "cell_type": "code",
   "execution_count": 66,
   "metadata": {
    "colab": {
     "base_uri": "https://localhost:8080/"
    },
    "id": "I3FnmoSeL9iu",
    "outputId": "c64d5312-a8db-454a-99bf-0a8b7f73938b"
   },
   "outputs": [
    {
     "name": "stdout",
     "output_type": "stream",
     "text": [
      "219\n",
      "219\n"
     ]
    }
   ],
   "source": [
    "x = np.array([[1,2],[3,4]])\n",
    "y = np.array([[5,6],[7,8]])\n",
    "\n",
    "v = np.array([9,10])\n",
    "w = np.array([11, 12])\n",
    "\n",
    "# Inner product of vectors; both produce 219\n",
    "print(v.dot(w))\n",
    "print(np.dot(v, w))"
   ]
  },
  {
   "cell_type": "markdown",
   "metadata": {
    "id": "vmxPbrHASVeA"
   },
   "source": [
    "You can also use the `@` operator which is equivalent to numpy's `dot` operator."
   ]
  },
  {
   "cell_type": "code",
   "execution_count": 67,
   "metadata": {
    "colab": {
     "base_uri": "https://localhost:8080/"
    },
    "id": "vyrWA-mXSdtt",
    "outputId": "2840a263-e40f-4c54-fcde-d6493190bc41"
   },
   "outputs": [
    {
     "name": "stdout",
     "output_type": "stream",
     "text": [
      "219\n"
     ]
    }
   ],
   "source": [
    "print(v @ w)"
   ]
  },
  {
   "cell_type": "code",
   "execution_count": 68,
   "metadata": {
    "colab": {
     "base_uri": "https://localhost:8080/"
    },
    "id": "zvUODeTxL9iw",
    "outputId": "ae109d78-3275-4e75-d448-65983e6ef44d"
   },
   "outputs": [
    {
     "name": "stdout",
     "output_type": "stream",
     "text": [
      "[29 67]\n",
      "[29 67]\n",
      "[29 67]\n"
     ]
    }
   ],
   "source": [
    "# Matrix / vector product; both produce the rank 1 array [29 67]\n",
    "print(x.dot(v))\n",
    "print(np.dot(x, v))\n",
    "print(x @ v)"
   ]
  },
  {
   "cell_type": "code",
   "execution_count": 69,
   "metadata": {
    "colab": {
     "base_uri": "https://localhost:8080/"
    },
    "id": "3V_3NzNEL9iy",
    "outputId": "2222cb7b-b40f-493e-e469-e19bf926dd72"
   },
   "outputs": [
    {
     "name": "stdout",
     "output_type": "stream",
     "text": [
      "[[19 22]\n",
      " [43 50]]\n",
      "[[19 22]\n",
      " [43 50]]\n",
      "[[19 22]\n",
      " [43 50]]\n"
     ]
    }
   ],
   "source": [
    "# Matrix / matrix product; both produce the rank 2 array\n",
    "# [[19 22]\n",
    "#  [43 50]]\n",
    "print(x.dot(y))\n",
    "print(np.dot(x, y))\n",
    "print(x @ y)"
   ]
  },
  {
   "cell_type": "markdown",
   "metadata": {
    "id": "FbE-1If_L9i0"
   },
   "source": [
    "Numpy provides many useful functions for performing computations on arrays; one of the most useful is `sum`:"
   ]
  },
  {
   "cell_type": "code",
   "execution_count": 70,
   "metadata": {
    "colab": {
     "base_uri": "https://localhost:8080/"
    },
    "id": "DZUdZvPrL9i0",
    "outputId": "78fcdb8d-c2b8-4a5b-9c9e-ea05f5c7e8fc"
   },
   "outputs": [
    {
     "name": "stdout",
     "output_type": "stream",
     "text": [
      "10\n",
      "[4 6]\n",
      "[3 7]\n"
     ]
    }
   ],
   "source": [
    "x = np.array([[1,2],[3,4]])\n",
    "\n",
    "print(np.sum(x))  # Compute sum of all elements; prints \"10\"\n",
    "print(np.sum(x, axis=0))  # Compute sum of each column; prints \"[4 6]\"\n",
    "print(np.sum(x, axis=1))  # Compute sum of each row; prints \"[3 7]\""
   ]
  },
  {
   "cell_type": "markdown",
   "metadata": {
    "id": "ahdVW4iUL9i3"
   },
   "source": [
    "Apart from computing mathematical functions using arrays, we frequently need to reshape or otherwise manipulate data in arrays. The simplest example of this type of operation is transposing a matrix; to transpose a matrix, simply use the T attribute of an array object:"
   ]
  },
  {
   "cell_type": "code",
   "execution_count": 71,
   "metadata": {
    "colab": {
     "base_uri": "https://localhost:8080/"
    },
    "id": "63Yl1f3oL9i3",
    "outputId": "a500749c-7134-42b0-d140-5d63d9074eef"
   },
   "outputs": [
    {
     "name": "stdout",
     "output_type": "stream",
     "text": [
      "[[1 2]\n",
      " [3 4]]\n",
      "[[1 3]\n",
      " [2 4]]\n"
     ]
    }
   ],
   "source": [
    "print(x)\n",
    "print(x.T)"
   ]
  },
  {
   "cell_type": "code",
   "execution_count": 72,
   "metadata": {
    "colab": {
     "base_uri": "https://localhost:8080/"
    },
    "id": "mkk03eNIL9i4",
    "outputId": "8f7f503b-6934-4fd1-b50a-749dcdc9659b"
   },
   "outputs": [
    {
     "name": "stdout",
     "output_type": "stream",
     "text": [
      "[[1 2 3]]\n",
      "[[1]\n",
      " [2]\n",
      " [3]]\n"
     ]
    }
   ],
   "source": [
    "v = np.array([[1,2,3]])\n",
    "print(v )\n",
    "print(v.T)"
   ]
  },
  {
   "cell_type": "markdown",
   "metadata": {
    "id": "REfLrUTcL9i7"
   },
   "source": [
    "###Broadcasting"
   ]
  },
  {
   "cell_type": "markdown",
   "metadata": {
    "id": "EygGAMWqL9i7"
   },
   "source": [
    "Broadcasting is a powerful mechanism that allows numpy to work with arrays of different shapes when performing arithmetic operations. Frequently we have a smaller array and a larger array, and we want to use the smaller array multiple times to perform some operation on the larger array.\n",
    "\n",
    "For example, suppose that we want to add a constant vector to each row of a matrix. We could do it like this:"
   ]
  },
  {
   "cell_type": "code",
   "execution_count": 73,
   "metadata": {
    "colab": {
     "base_uri": "https://localhost:8080/"
    },
    "id": "WEEvkV1ZL9i7",
    "outputId": "38b640fa-3ac5-4265-9326-a86c2228aef0"
   },
   "outputs": [
    {
     "name": "stdout",
     "output_type": "stream",
     "text": [
      "[[0 0 0]\n",
      " [0 0 0]\n",
      " [0 0 0]\n",
      " [0 0 0]]\n",
      "(4, 3) (3,) (4, 3)\n",
      "[[ 2  2  4]\n",
      " [ 5  5  7]\n",
      " [ 8  8 10]\n",
      " [11 11 13]]\n"
     ]
    }
   ],
   "source": [
    "# We will add the vector v to each row of the matrix x,\n",
    "# storing the result in the matrix y\n",
    "x = np.array([[1,2,3], [4,5,6], [7,8,9], [10, 11, 12]])\n",
    "v = np.array([1, 0, 1])\n",
    "y = np.zeros_like(x)   # an array of zeros with the same shape and type as x\n",
    "print(y)\n",
    "print(x.shape,v.shape,y.shape)\n",
    "\n",
    "# Add the vector v to each row of the matrix x with an explicit loop\n",
    "for i in range(4):\n",
    "    y[i, :] = x[i, :] + v\n",
    "\n",
    "print(y)"
   ]
  },
  {
   "cell_type": "markdown",
   "metadata": {
    "id": "2OlXXupEL9i-"
   },
   "source": [
    "This works; however when the matrix `x` is very large, computing an explicit loop in Python could be slow. Note that adding the vector v to each row of the matrix `x` is equivalent to forming a matrix `vv` by stacking multiple copies of `v` vertically, then performing elementwise summation of `x` and `vv`. We could implement this approach like this:"
   ]
  },
  {
   "cell_type": "code",
   "execution_count": 74,
   "metadata": {
    "colab": {
     "base_uri": "https://localhost:8080/"
    },
    "id": "vS7UwAQQL9i-",
    "outputId": "47a9f2eb-1dcb-4aab-8cdf-d020677f889b"
   },
   "outputs": [
    {
     "name": "stdout",
     "output_type": "stream",
     "text": [
      "[1 0 1]\n",
      "[[1 0 1]\n",
      " [1 0 1]\n",
      " [1 0 1]\n",
      " [1 0 1]]\n"
     ]
    }
   ],
   "source": [
    "print(v)\n",
    "vv = np.tile(v, (4, 1))  # Stack 4 copies of v on top of each other\n",
    "print(vv)                # Prints \"[[1 0 1]\n",
    "                         #          [1 0 1]\n",
    "                         #          [1 0 1]\n",
    "                         #          [1 0 1]]\""
   ]
  },
  {
   "cell_type": "code",
   "execution_count": 75,
   "metadata": {
    "colab": {
     "base_uri": "https://localhost:8080/"
    },
    "id": "N0hJphSIL9jA",
    "outputId": "c2c8cc24-3a64-4859-b6f9-d6920a5bb161"
   },
   "outputs": [
    {
     "name": "stdout",
     "output_type": "stream",
     "text": [
      "[[ 2  2  4]\n",
      " [ 5  5  7]\n",
      " [ 8  8 10]\n",
      " [11 11 13]]\n"
     ]
    }
   ],
   "source": [
    "y = x + vv  # Add x and vv elementwise\n",
    "print(y)"
   ]
  },
  {
   "cell_type": "markdown",
   "metadata": {
    "id": "zHos6RJnL9jB"
   },
   "source": [
    "Numpy broadcasting allows us to perform this computation without actually creating multiple copies of v. Consider this version, using broadcasting:"
   ]
  },
  {
   "cell_type": "code",
   "execution_count": 76,
   "metadata": {
    "colab": {
     "base_uri": "https://localhost:8080/"
    },
    "id": "vnYFb-gYL9jC",
    "outputId": "c7c8380b-d592-48ca-dee5-0044d6c823a2"
   },
   "outputs": [
    {
     "name": "stdout",
     "output_type": "stream",
     "text": [
      "[[ 2  2  4]\n",
      " [ 5  5  7]\n",
      " [ 8  8 10]\n",
      " [11 11 13]]\n"
     ]
    }
   ],
   "source": [
    "import numpy as np\n",
    "\n",
    "# We will add the vector v to each row of the matrix x,\n",
    "# storing the result in the matrix y\n",
    "x = np.array([[1,2,3], [4,5,6], [7,8,9], [10, 11, 12]])\n",
    "v = np.array([1, 0, 1])\n",
    "y = x + v  # Add v to each row of x using broadcasting\n",
    "print(y)"
   ]
  },
  {
   "cell_type": "markdown",
   "metadata": {
    "id": "08YyIURKL9jH"
   },
   "source": [
    "The line `y = x + v` works even though `x` has shape `(4, 3)` and `v` has shape `(3,)` due to broadcasting; this line works as if v actually had shape `(4, 3)`, where each row was a copy of `v`, and the sum was performed elementwise.\n",
    "\n",
    "Broadcasting two arrays together follows these rules:\n",
    "\n",
    "1. If the arrays do not have the same rank, prepend the shape of the lower rank array with 1s until both shapes have the same length.\n",
    "2. The two arrays are said to be compatible in a dimension if they have the same size in the dimension, or if one of the arrays has size 1 in that dimension.\n",
    "3. The arrays can be broadcast together if they are compatible in all dimensions.\n",
    "4. After broadcasting, each array behaves as if it had shape equal to the elementwise maximum of shapes of the two input arrays.\n",
    "5. In any dimension where one array had size 1 and the other array had size greater than 1, the first array behaves as if it were copied along that dimension\n",
    "\n",
    "Here are some applications of broadcasting:"
   ]
  },
  {
   "cell_type": "code",
   "execution_count": 77,
   "metadata": {
    "colab": {
     "base_uri": "https://localhost:8080/"
    },
    "id": "EmQnwoM9L9jH",
    "outputId": "6fc3d7a4-f18c-4592-e9e1-ffff508f0657"
   },
   "outputs": [
    {
     "name": "stdout",
     "output_type": "stream",
     "text": [
      "[[ 4  5]\n",
      " [ 8 10]\n",
      " [12 15]]\n",
      "(3,) (2,)\n"
     ]
    }
   ],
   "source": [
    "# Compute outer product of vectors\n",
    "v = np.array([1,2,3])  # v has shape (3,)\n",
    "w = np.array([4,5])    # w has shape (2,)\n",
    "# To compute an outer product, we first reshape v to be a column\n",
    "# vector of shape (3, 1); we can then broadcast it against w to yield\n",
    "# an output of shape (3, 2), which is the outer product of v and w:\n",
    "\n",
    "print(np.reshape(v, (3, 1)) * w)\n",
    "print(v.shape, w.shape)"
   ]
  },
  {
   "cell_type": "code",
   "execution_count": 78,
   "metadata": {
    "colab": {
     "base_uri": "https://localhost:8080/"
    },
    "id": "PgotmpcnL9jK",
    "outputId": "d79175d1-59b5-4b79-b596-2646734a9141"
   },
   "outputs": [
    {
     "name": "stdout",
     "output_type": "stream",
     "text": [
      "[[2 4 6]\n",
      " [5 7 9]]\n"
     ]
    }
   ],
   "source": [
    "# Add a vector to each row of a matrix\n",
    "x = np.array([[1,2,3], [4,5,6]])\n",
    "# x has shape (2, 3) and v has shape (3,) so they broadcast to (2, 3),\n",
    "# giving the following matrix:\n",
    "\n",
    "print(x + v)"
   ]
  },
  {
   "cell_type": "code",
   "execution_count": 79,
   "metadata": {
    "colab": {
     "base_uri": "https://localhost:8080/"
    },
    "id": "T5hKS1QaL9jK",
    "outputId": "e6c4c6f1-ef13-439d-fd71-e7e255bdcfb9"
   },
   "outputs": [
    {
     "name": "stdout",
     "output_type": "stream",
     "text": [
      "[[ 5  6  7]\n",
      " [ 9 10 11]]\n"
     ]
    }
   ],
   "source": [
    "# Add a vector to each column of a matrix\n",
    "# x has shape (2, 3) and w has shape (2,).\n",
    "# If we transpose x then it has shape (3, 2) and can be broadcast\n",
    "# against w to yield a result of shape (3, 2); transposing this result\n",
    "# yields the final result of shape (2, 3) which is the matrix x with\n",
    "# the vector w added to each column. Gives the following matrix:\n",
    "\n",
    "print((x.T + w).T)"
   ]
  },
  {
   "cell_type": "code",
   "execution_count": 80,
   "metadata": {
    "colab": {
     "base_uri": "https://localhost:8080/"
    },
    "id": "JDUrZUl6L9jN",
    "outputId": "d1ede09e-4369-4198-95e2-cb90270047d0"
   },
   "outputs": [
    {
     "name": "stdout",
     "output_type": "stream",
     "text": [
      "[[ 5  6  7]\n",
      " [ 9 10 11]]\n"
     ]
    }
   ],
   "source": [
    "# Another solution is to reshape w to be a row vector of shape (2, 1);\n",
    "# we can then broadcast it directly against x to produce the same\n",
    "# output.\n",
    "print(x + np.reshape(w, (2, 1)))"
   ]
  },
  {
   "cell_type": "code",
   "execution_count": 81,
   "metadata": {
    "colab": {
     "base_uri": "https://localhost:8080/"
    },
    "id": "VzrEo4KGL9jP",
    "outputId": "64aaaa5f-95e1-411e-decb-a2f35acdd9b7"
   },
   "outputs": [
    {
     "name": "stdout",
     "output_type": "stream",
     "text": [
      "[[ 2  4  6]\n",
      " [ 8 10 12]]\n"
     ]
    }
   ],
   "source": [
    "# Multiply a matrix by a constant:\n",
    "# x has shape (2, 3). Numpy treats scalars as arrays of shape ();\n",
    "# these can be broadcast together to shape (2, 3), producing the\n",
    "# following array:\n",
    "print(x * 2)"
   ]
  },
  {
   "cell_type": "markdown",
   "metadata": {
    "id": "89e2FXxFL9jQ"
   },
   "source": [
    "Broadcasting typically makes your code more concise and faster, so you should strive to use it where possible."
   ]
  },
  {
   "cell_type": "markdown",
   "metadata": {
    "id": "Qm7eCSmrhxwo"
   },
   "source": [
    "## Pandas"
   ]
  },
  {
   "cell_type": "markdown",
   "metadata": {
    "id": "x5JbGdNbh4mn"
   },
   "source": [
    "Pandas is a software library in Python for data manipulation and analysis. It offers data structures and operations for manipulating numerical tables and time series.\n",
    "The main data structure is the DataFrame, which is an in-memory 2D table similar to a spreadsheet, with column names and row labels."
   ]
  },
  {
   "cell_type": "code",
   "execution_count": 82,
   "metadata": {
    "id": "RZYjQ1cQiIQQ"
   },
   "outputs": [],
   "source": [
    "import pandas as pd"
   ]
  },
  {
   "cell_type": "markdown",
   "metadata": {
    "id": "vTID7uhBir_f"
   },
   "source": [
    "### Series objects\n",
    "A Series object is 1D array, similar to a column in a spreadsheet, while a DataFrame objects is a 2D table with column names and row labels."
   ]
  },
  {
   "cell_type": "code",
   "execution_count": 83,
   "metadata": {
    "colab": {
     "base_uri": "https://localhost:8080/"
    },
    "id": "YmJAkiEOir_h",
    "outputId": "c4f9685d-1719-4ddd-9a11-a08d3a0b421d"
   },
   "outputs": [
    {
     "data": {
      "text/plain": [
       "0    1\n",
       "1    2\n",
       "2    3\n",
       "3    4\n",
       "dtype: int64"
      ]
     },
     "execution_count": 83,
     "metadata": {},
     "output_type": "execute_result"
    }
   ],
   "source": [
    "s = pd.Series([1,2,3,4]); s"
   ]
  },
  {
   "cell_type": "markdown",
   "metadata": {
    "id": "kdhl88C7ir_i"
   },
   "source": [
    "Series objects can be passed as parameters to NumPy functions"
   ]
  },
  {
   "cell_type": "code",
   "execution_count": 84,
   "metadata": {
    "colab": {
     "base_uri": "https://localhost:8080/"
    },
    "id": "BO4yHdQFir_i",
    "outputId": "abde3286-fb92-4e60-8786-b6d60c7f46fc"
   },
   "outputs": [
    {
     "data": {
      "text/plain": [
       "0    0.000000\n",
       "1    0.693147\n",
       "2    1.098612\n",
       "3    1.386294\n",
       "dtype: float64"
      ]
     },
     "execution_count": 84,
     "metadata": {},
     "output_type": "execute_result"
    }
   ],
   "source": [
    "np.log(s)"
   ]
  },
  {
   "cell_type": "code",
   "execution_count": 85,
   "metadata": {
    "colab": {
     "base_uri": "https://localhost:8080/"
    },
    "id": "EyJuUjNOir_j",
    "outputId": "d5bb2dba-5f8f-4008-c03b-ad0d56e82965"
   },
   "outputs": [
    {
     "data": {
      "text/plain": [
       "0     3\n",
       "1     6\n",
       "2     9\n",
       "3    12\n",
       "dtype: int64"
      ]
     },
     "execution_count": 85,
     "metadata": {},
     "output_type": "execute_result"
    }
   ],
   "source": [
    "s = s + s + [1,2,3,4] # elementwise addition with a list\n",
    "s"
   ]
  },
  {
   "cell_type": "code",
   "execution_count": 86,
   "metadata": {
    "colab": {
     "base_uri": "https://localhost:8080/"
    },
    "id": "Lodlo39Lir_k",
    "outputId": "fe4272ef-bab7-4086-96c9-8c7ac87c4675"
   },
   "outputs": [
    {
     "data": {
      "text/plain": [
       "0     4\n",
       "1     7\n",
       "2    10\n",
       "3    13\n",
       "dtype: int64"
      ]
     },
     "execution_count": 86,
     "metadata": {},
     "output_type": "execute_result"
    }
   ],
   "source": [
    "s = s + 1 #Broadcasting\n",
    "s\n",
    " "
   ]
  },
  {
   "cell_type": "code",
   "execution_count": 87,
   "metadata": {
    "colab": {
     "base_uri": "https://localhost:8080/"
    },
    "id": "RjVxhkShir_l",
    "outputId": "0f7630d7-4570-4c0a-b60c-c48b562e7b6c"
   },
   "outputs": [
    {
     "data": {
      "text/plain": [
       "0    False\n",
       "1    False\n",
       "2     True\n",
       "3     True\n",
       "dtype: bool"
      ]
     },
     "execution_count": 87,
     "metadata": {},
     "output_type": "execute_result"
    }
   ],
   "source": [
    "s >=10"
   ]
  },
  {
   "cell_type": "markdown",
   "metadata": {
    "id": "0J6-gw3vir_l"
   },
   "source": [
    "### Index labels\n",
    "Each item in a Series object has a unique identifier called index label. By default, it is simply the rank of the item in the Series (starting at `0`) but you can also set the index labels manually"
   ]
  },
  {
   "cell_type": "code",
   "execution_count": 88,
   "metadata": {
    "colab": {
     "base_uri": "https://localhost:8080/"
    },
    "id": "Z1CGNZSXir_l",
    "outputId": "535321a3-7010-4220-f4b8-97f369100499"
   },
   "outputs": [
    {
     "data": {
      "text/plain": [
       "a    1\n",
       "b    2\n",
       "c    3\n",
       "d    4\n",
       "dtype: int64"
      ]
     },
     "execution_count": 88,
     "metadata": {},
     "output_type": "execute_result"
    }
   ],
   "source": [
    "s2 = pd.Series([1, 2, 3, 4], index=[\"a\", \"b\", \"c\", \"d\"])\n",
    "s2"
   ]
  },
  {
   "cell_type": "markdown",
   "metadata": {
    "id": "1EztOMFMir_l"
   },
   "source": [
    "You can then use the Series just like a dict object"
   ]
  },
  {
   "cell_type": "code",
   "execution_count": 89,
   "metadata": {
    "colab": {
     "base_uri": "https://localhost:8080/"
    },
    "id": "SrAgSyCeir_m",
    "outputId": "238e893b-29b1-40a0-b2e7-e859aa4842bb"
   },
   "outputs": [
    {
     "data": {
      "text/plain": [
       "2"
      ]
     },
     "execution_count": 89,
     "metadata": {},
     "output_type": "execute_result"
    }
   ],
   "source": [
    "s2['b']"
   ]
  },
  {
   "cell_type": "markdown",
   "metadata": {
    "id": "dG0PLeXxir_m"
   },
   "source": [
    "access items by integer location"
   ]
  },
  {
   "cell_type": "code",
   "execution_count": 90,
   "metadata": {
    "colab": {
     "base_uri": "https://localhost:8080/"
    },
    "id": "jBigDX6Rir_m",
    "outputId": "3633040c-d657-4a0b-fb1e-398e0704dfd1"
   },
   "outputs": [
    {
     "data": {
      "text/plain": [
       "2"
      ]
     },
     "execution_count": 90,
     "metadata": {},
     "output_type": "execute_result"
    }
   ],
   "source": [
    "s2[1]"
   ]
  },
  {
   "cell_type": "code",
   "execution_count": 91,
   "metadata": {
    "colab": {
     "base_uri": "https://localhost:8080/"
    },
    "id": "OrAi7p5Pir_n",
    "outputId": "05b456bf-c24d-4019-e31d-4eb78da183ef"
   },
   "outputs": [
    {
     "data": {
      "text/plain": [
       "2"
      ]
     },
     "execution_count": 91,
     "metadata": {},
     "output_type": "execute_result"
    }
   ],
   "source": [
    "s2.loc['b'] #accessing by label"
   ]
  },
  {
   "cell_type": "code",
   "execution_count": 92,
   "metadata": {
    "colab": {
     "base_uri": "https://localhost:8080/"
    },
    "id": "ZOCc7z0nir_n",
    "outputId": "1aea3a09-38cb-4f11-d16c-e1119aed4465"
   },
   "outputs": [
    {
     "data": {
      "text/plain": [
       "2"
      ]
     },
     "execution_count": 92,
     "metadata": {},
     "output_type": "execute_result"
    }
   ],
   "source": [
    "s2.iloc[1] #accessing by integer location"
   ]
  },
  {
   "cell_type": "markdown",
   "metadata": {
    "id": "txl4Z-oZir_n"
   },
   "source": [
    "Slicing a Series"
   ]
  },
  {
   "cell_type": "code",
   "execution_count": 93,
   "metadata": {
    "colab": {
     "base_uri": "https://localhost:8080/"
    },
    "id": "Xh0r1ulLir_n",
    "outputId": "761237d8-8615-4d7f-f2dd-c43daad958b0"
   },
   "outputs": [
    {
     "data": {
      "text/plain": [
       "b    2\n",
       "c    3\n",
       "dtype: int64"
      ]
     },
     "execution_count": 93,
     "metadata": {},
     "output_type": "execute_result"
    }
   ],
   "source": [
    "s2.iloc[1:3]"
   ]
  },
  {
   "cell_type": "code",
   "execution_count": 94,
   "metadata": {
    "colab": {
     "base_uri": "https://localhost:8080/"
    },
    "id": "tfA4OuYoir_o",
    "outputId": "fa534c0b-1bc8-42d5-e568-2b43c8be15eb"
   },
   "outputs": [
    {
     "data": {
      "text/plain": [
       "c    3\n",
       "d    4\n",
       "dtype: int64"
      ]
     },
     "execution_count": 94,
     "metadata": {},
     "output_type": "execute_result"
    }
   ],
   "source": [
    "s2.iloc[2:]"
   ]
  },
  {
   "cell_type": "markdown",
   "metadata": {
    "id": "FumbwZgair_p"
   },
   "source": [
    "### Initializing from a dict\n",
    "Create a Series object from a dict, keys are used as index labels"
   ]
  },
  {
   "cell_type": "code",
   "execution_count": 95,
   "metadata": {
    "colab": {
     "base_uri": "https://localhost:8080/"
    },
    "id": "7Oidb7cyir_p",
    "outputId": "0fe30143-eede-413a-f1f1-0f16a5ef26ed"
   },
   "outputs": [
    {
     "data": {
      "text/plain": [
       "b    1\n",
       "a    2\n",
       "e    3\n",
       "d    4\n",
       "dtype: int64"
      ]
     },
     "execution_count": 95,
     "metadata": {},
     "output_type": "execute_result"
    }
   ],
   "source": [
    "d = {\"b\": 1, \"a\": 2, \"e\": 3, \"d\": 4}\n",
    "s3 = pd.Series(d)\n",
    "s3"
   ]
  },
  {
   "cell_type": "code",
   "execution_count": 96,
   "metadata": {
    "colab": {
     "base_uri": "https://localhost:8080/"
    },
    "id": "5GGxgkEpir_q",
    "outputId": "ea8094b6-22c1-4fa0-bdf2-ae37d8ec3071"
   },
   "outputs": [
    {
     "data": {
      "text/plain": [
       "c    NaN\n",
       "a    2.0\n",
       "dtype: float64"
      ]
     },
     "execution_count": 96,
     "metadata": {},
     "output_type": "execute_result"
    }
   ],
   "source": [
    "s4 = pd.Series(d, index = [\"c\", \"a\"])\n",
    "s4"
   ]
  },
  {
   "cell_type": "code",
   "execution_count": 97,
   "metadata": {
    "colab": {
     "base_uri": "https://localhost:8080/"
    },
    "id": "YN6D80kwtCuH",
    "outputId": "e0447818-46a8-409b-c544-3ce0ace973a3"
   },
   "outputs": [
    {
     "data": {
      "text/plain": [
       "a    10\n",
       "b    10\n",
       "c    10\n",
       "Name: series, dtype: int64"
      ]
     },
     "execution_count": 97,
     "metadata": {},
     "output_type": "execute_result"
    }
   ],
   "source": [
    "s5 = pd.Series(10, [\"a\", \"b\", \"c\"], name=\"series\")\n",
    "s5"
   ]
  },
  {
   "cell_type": "markdown",
   "metadata": {
    "id": "b1uwh9LNir_q"
   },
   "source": [
    "### Automatic alignment\n",
    "When an operation involves multiple `Series` objects, `pandas` automatically aligns items by matching index labels."
   ]
  },
  {
   "cell_type": "code",
   "execution_count": 98,
   "metadata": {
    "colab": {
     "base_uri": "https://localhost:8080/"
    },
    "id": "CmAwZbjair_q",
    "outputId": "aa06ffa5-daf2-4ae0-9afd-40b2a57b2494"
   },
   "outputs": [
    {
     "name": "stdout",
     "output_type": "stream",
     "text": [
      "Index(['a', 'b', 'c', 'd'], dtype='object')\n",
      "Index(['b', 'a', 'e', 'd'], dtype='object')\n"
     ]
    },
    {
     "data": {
      "text/plain": [
       "a    3.0\n",
       "b    3.0\n",
       "c    NaN\n",
       "d    8.0\n",
       "e    NaN\n",
       "dtype: float64"
      ]
     },
     "execution_count": 98,
     "metadata": {},
     "output_type": "execute_result"
    }
   ],
   "source": [
    "print(s2.keys())\n",
    "print(s3.keys())\n",
    "\n",
    "s2 + s3"
   ]
  },
  {
   "cell_type": "markdown",
   "metadata": {
    "id": "HMRU9_FBir_q"
   },
   "source": [
    "The resulting Series contains the union of index labels from s2 and s3. But, missing index labels get the value of NaN "
   ]
  },
  {
   "cell_type": "markdown",
   "metadata": {
    "id": "zPTHPp9Hir_z"
   },
   "source": [
    "### DataFrame objects\n",
    "DataFrame object represents a spreadsheet, with cell values, column names and row index labels. \n"
   ]
  },
  {
   "cell_type": "code",
   "execution_count": 99,
   "metadata": {
    "colab": {
     "base_uri": "https://localhost:8080/",
     "height": 143
    },
    "id": "L_gvSdpwir_0",
    "outputId": "c21d12cf-cd08-45eb-bed8-a58fbfc9fbf4"
   },
   "outputs": [
    {
     "data": {
      "text/html": [
       "<div>\n",
       "<style scoped>\n",
       "    .dataframe tbody tr th:only-of-type {\n",
       "        vertical-align: middle;\n",
       "    }\n",
       "\n",
       "    .dataframe tbody tr th {\n",
       "        vertical-align: top;\n",
       "    }\n",
       "\n",
       "    .dataframe thead th {\n",
       "        text-align: right;\n",
       "    }\n",
       "</style>\n",
       "<table border=\"1\" class=\"dataframe\">\n",
       "  <thead>\n",
       "    <tr style=\"text-align: right;\">\n",
       "      <th></th>\n",
       "      <th>feature1</th>\n",
       "      <th>feature2</th>\n",
       "      <th>feature3</th>\n",
       "      <th>feature4</th>\n",
       "    </tr>\n",
       "  </thead>\n",
       "  <tbody>\n",
       "    <tr>\n",
       "      <th>a</th>\n",
       "      <td>1</td>\n",
       "      <td>5</td>\n",
       "      <td>NaN</td>\n",
       "      <td>9.0</td>\n",
       "    </tr>\n",
       "    <tr>\n",
       "      <th>b</th>\n",
       "      <td>2</td>\n",
       "      <td>4</td>\n",
       "      <td>8.0</td>\n",
       "      <td>10.0</td>\n",
       "    </tr>\n",
       "    <tr>\n",
       "      <th>c</th>\n",
       "      <td>3</td>\n",
       "      <td>6</td>\n",
       "      <td>7.0</td>\n",
       "      <td>NaN</td>\n",
       "    </tr>\n",
       "  </tbody>\n",
       "</table>\n",
       "</div>"
      ],
      "text/plain": [
       "   feature1  feature2  feature3  feature4\n",
       "a         1         5       NaN       9.0\n",
       "b         2         4       8.0      10.0\n",
       "c         3         6       7.0       NaN"
      ]
     },
     "execution_count": 99,
     "metadata": {},
     "output_type": "execute_result"
    }
   ],
   "source": [
    "d = {\n",
    "    \"feature1\": pd.Series([1,2,3], index=[\"a\", \"b\", \"c\"]),\n",
    "    \"feature2\": pd.Series([4,5,6], index=[\"b\", \"a\", \"c\"]),\n",
    "    \"feature3\": pd.Series([7,8],  index=[\"c\", \"b\"]),\n",
    "    \"feature4\": pd.Series([9,10], index=[\"a\", \"b\"]),\n",
    "}\n",
    "df = pd.DataFrame(d)\n",
    "df"
   ]
  },
  {
   "cell_type": "markdown",
   "metadata": {
    "id": "AQ7b9D-Bir_0"
   },
   "source": [
    "You can access columns pretty much as you would expect. They are returned as `Series` objects:"
   ]
  },
  {
   "cell_type": "code",
   "execution_count": 100,
   "metadata": {
    "colab": {
     "base_uri": "https://localhost:8080/"
    },
    "id": "xdstMO5zir_0",
    "outputId": "3eef4af8-6d0e-416e-996f-e0231b584aa4"
   },
   "outputs": [
    {
     "data": {
      "text/plain": [
       "a    NaN\n",
       "b    8.0\n",
       "c    7.0\n",
       "Name: feature3, dtype: float64"
      ]
     },
     "execution_count": 100,
     "metadata": {},
     "output_type": "execute_result"
    }
   ],
   "source": [
    "df[\"feature3\"] #accessing a column"
   ]
  },
  {
   "cell_type": "code",
   "execution_count": 101,
   "metadata": {
    "colab": {
     "base_uri": "https://localhost:8080/",
     "height": 143
    },
    "id": "aOFVr6bhir_0",
    "outputId": "e0e48462-f676-46a6-8f15-52d300cc794d"
   },
   "outputs": [
    {
     "data": {
      "text/html": [
       "<div>\n",
       "<style scoped>\n",
       "    .dataframe tbody tr th:only-of-type {\n",
       "        vertical-align: middle;\n",
       "    }\n",
       "\n",
       "    .dataframe tbody tr th {\n",
       "        vertical-align: top;\n",
       "    }\n",
       "\n",
       "    .dataframe thead th {\n",
       "        text-align: right;\n",
       "    }\n",
       "</style>\n",
       "<table border=\"1\" class=\"dataframe\">\n",
       "  <thead>\n",
       "    <tr style=\"text-align: right;\">\n",
       "      <th></th>\n",
       "      <th>feature1</th>\n",
       "      <th>feature3</th>\n",
       "    </tr>\n",
       "  </thead>\n",
       "  <tbody>\n",
       "    <tr>\n",
       "      <th>a</th>\n",
       "      <td>1</td>\n",
       "      <td>NaN</td>\n",
       "    </tr>\n",
       "    <tr>\n",
       "      <th>b</th>\n",
       "      <td>2</td>\n",
       "      <td>8.0</td>\n",
       "    </tr>\n",
       "    <tr>\n",
       "      <th>c</th>\n",
       "      <td>3</td>\n",
       "      <td>7.0</td>\n",
       "    </tr>\n",
       "  </tbody>\n",
       "</table>\n",
       "</div>"
      ],
      "text/plain": [
       "   feature1  feature3\n",
       "a         1       NaN\n",
       "b         2       8.0\n",
       "c         3       7.0"
      ]
     },
     "execution_count": 101,
     "metadata": {},
     "output_type": "execute_result"
    }
   ],
   "source": [
    "df[[\"feature1\", \"feature3\"]] #accessing ,multiple columns"
   ]
  },
  {
   "cell_type": "code",
   "execution_count": 102,
   "metadata": {
    "colab": {
     "base_uri": "https://localhost:8080/",
     "height": 143
    },
    "id": "RZeOjz9YSzUl",
    "outputId": "77952d97-8541-4804-d296-a7693abe48d4"
   },
   "outputs": [
    {
     "data": {
      "text/html": [
       "<div>\n",
       "<style scoped>\n",
       "    .dataframe tbody tr th:only-of-type {\n",
       "        vertical-align: middle;\n",
       "    }\n",
       "\n",
       "    .dataframe tbody tr th {\n",
       "        vertical-align: top;\n",
       "    }\n",
       "\n",
       "    .dataframe thead th {\n",
       "        text-align: right;\n",
       "    }\n",
       "</style>\n",
       "<table border=\"1\" class=\"dataframe\">\n",
       "  <thead>\n",
       "    <tr style=\"text-align: right;\">\n",
       "      <th></th>\n",
       "      <th>feature1</th>\n",
       "      <th>feature2</th>\n",
       "      <th>feature3</th>\n",
       "      <th>feature4</th>\n",
       "    </tr>\n",
       "  </thead>\n",
       "  <tbody>\n",
       "    <tr>\n",
       "      <th>a</th>\n",
       "      <td>1</td>\n",
       "      <td>5</td>\n",
       "      <td>NaN</td>\n",
       "      <td>9.0</td>\n",
       "    </tr>\n",
       "    <tr>\n",
       "      <th>b</th>\n",
       "      <td>2</td>\n",
       "      <td>4</td>\n",
       "      <td>8.0</td>\n",
       "      <td>10.0</td>\n",
       "    </tr>\n",
       "    <tr>\n",
       "      <th>c</th>\n",
       "      <td>3</td>\n",
       "      <td>6</td>\n",
       "      <td>7.0</td>\n",
       "      <td>NaN</td>\n",
       "    </tr>\n",
       "  </tbody>\n",
       "</table>\n",
       "</div>"
      ],
      "text/plain": [
       "   feature1  feature2  feature3  feature4\n",
       "a         1         5       NaN       9.0\n",
       "b         2         4       8.0      10.0\n",
       "c         3         6       7.0       NaN"
      ]
     },
     "execution_count": 102,
     "metadata": {},
     "output_type": "execute_result"
    }
   ],
   "source": [
    "df"
   ]
  },
  {
   "cell_type": "markdown",
   "metadata": {
    "id": "d3U-u15bir_0"
   },
   "source": [
    "Constructing a new DataFrame from an existing DataFrame"
   ]
  },
  {
   "cell_type": "code",
   "execution_count": 103,
   "metadata": {
    "colab": {
     "base_uri": "https://localhost:8080/",
     "height": 143
    },
    "id": "AKVRvmDPir_0",
    "outputId": "8739ac20-4851-49d7-9177-787115b05848"
   },
   "outputs": [
    {
     "data": {
      "text/html": [
       "<div>\n",
       "<style scoped>\n",
       "    .dataframe tbody tr th:only-of-type {\n",
       "        vertical-align: middle;\n",
       "    }\n",
       "\n",
       "    .dataframe tbody tr th {\n",
       "        vertical-align: top;\n",
       "    }\n",
       "\n",
       "    .dataframe thead th {\n",
       "        text-align: right;\n",
       "    }\n",
       "</style>\n",
       "<table border=\"1\" class=\"dataframe\">\n",
       "  <thead>\n",
       "    <tr style=\"text-align: right;\">\n",
       "      <th></th>\n",
       "      <th>feature1</th>\n",
       "      <th>feature2</th>\n",
       "      <th>feature3</th>\n",
       "    </tr>\n",
       "  </thead>\n",
       "  <tbody>\n",
       "    <tr>\n",
       "      <th>b</th>\n",
       "      <td>2.0</td>\n",
       "      <td>4.0</td>\n",
       "      <td>8.0</td>\n",
       "    </tr>\n",
       "    <tr>\n",
       "      <th>a</th>\n",
       "      <td>1.0</td>\n",
       "      <td>5.0</td>\n",
       "      <td>NaN</td>\n",
       "    </tr>\n",
       "    <tr>\n",
       "      <th>d</th>\n",
       "      <td>NaN</td>\n",
       "      <td>NaN</td>\n",
       "      <td>NaN</td>\n",
       "    </tr>\n",
       "  </tbody>\n",
       "</table>\n",
       "</div>"
      ],
      "text/plain": [
       "   feature1  feature2  feature3\n",
       "b       2.0       4.0       8.0\n",
       "a       1.0       5.0       NaN\n",
       "d       NaN       NaN       NaN"
      ]
     },
     "execution_count": 103,
     "metadata": {},
     "output_type": "execute_result"
    }
   ],
   "source": [
    "df2 = pd.DataFrame(\n",
    "        df,\n",
    "        columns=[\"feature1\", \"feature2\", \"feature3\"],\n",
    "        index=[\"b\", \"a\", \"d\"]\n",
    "     )\n",
    "df2"
   ]
  },
  {
   "cell_type": "markdown",
   "metadata": {
    "id": "tBGPdbE7ir_1"
   },
   "source": [
    "Creating a DataFrame from a list of lists"
   ]
  },
  {
   "cell_type": "code",
   "execution_count": 104,
   "metadata": {
    "colab": {
     "base_uri": "https://localhost:8080/",
     "height": 143
    },
    "id": "HnH5Ytujir_1",
    "outputId": "755ab22b-b62d-45df-eb8b-6a8902d0f90b"
   },
   "outputs": [
    {
     "data": {
      "text/html": [
       "<div>\n",
       "<style scoped>\n",
       "    .dataframe tbody tr th:only-of-type {\n",
       "        vertical-align: middle;\n",
       "    }\n",
       "\n",
       "    .dataframe tbody tr th {\n",
       "        vertical-align: top;\n",
       "    }\n",
       "\n",
       "    .dataframe thead th {\n",
       "        text-align: right;\n",
       "    }\n",
       "</style>\n",
       "<table border=\"1\" class=\"dataframe\">\n",
       "  <thead>\n",
       "    <tr style=\"text-align: right;\">\n",
       "      <th></th>\n",
       "      <th>feature1</th>\n",
       "      <th>feature2</th>\n",
       "      <th>feature3</th>\n",
       "      <th>feature4</th>\n",
       "    </tr>\n",
       "  </thead>\n",
       "  <tbody>\n",
       "    <tr>\n",
       "      <th>a</th>\n",
       "      <td>11</td>\n",
       "      <td>1.0</td>\n",
       "      <td>a</td>\n",
       "      <td>NaN</td>\n",
       "    </tr>\n",
       "    <tr>\n",
       "      <th>b</th>\n",
       "      <td>12</td>\n",
       "      <td>3.0</td>\n",
       "      <td>b</td>\n",
       "      <td>14.0</td>\n",
       "    </tr>\n",
       "    <tr>\n",
       "      <th>c</th>\n",
       "      <td>13</td>\n",
       "      <td>NaN</td>\n",
       "      <td>NaN</td>\n",
       "      <td>15.0</td>\n",
       "    </tr>\n",
       "  </tbody>\n",
       "</table>\n",
       "</div>"
      ],
      "text/plain": [
       "   feature1  feature2 feature3  feature4\n",
       "a        11       1.0        a       NaN\n",
       "b        12       3.0        b      14.0\n",
       "c        13       NaN      NaN      15.0"
      ]
     },
     "execution_count": 104,
     "metadata": {},
     "output_type": "execute_result"
    }
   ],
   "source": [
    "lol = [\n",
    "            [11, 1,      \"a\",   np.nan],\n",
    "            [12, 3,      \"b\",       14],\n",
    "            [13, np.nan, np.nan,    15]\n",
    "         ]\n",
    "df3 = pd.DataFrame(\n",
    "        lol,\n",
    "        columns=[\"feature1\", \"feature2\", \"feature3\", \"feature4\"],\n",
    "        index=[\"a\", \"b\", \"c\"]\n",
    "     )\n",
    "df3"
   ]
  },
  {
   "cell_type": "markdown",
   "metadata": {
    "id": "owhfFKaJir_1"
   },
   "source": [
    "Creating a DataFrame with a dictionary of dictionaries"
   ]
  },
  {
   "cell_type": "code",
   "execution_count": 105,
   "metadata": {
    "colab": {
     "base_uri": "https://localhost:8080/",
     "height": 175
    },
    "id": "fP4tfKPhir_1",
    "outputId": "f73bbdf2-1ab2-4883-bdf4-0c608cb9b8d6"
   },
   "outputs": [
    {
     "data": {
      "text/html": [
       "<div>\n",
       "<style scoped>\n",
       "    .dataframe tbody tr th:only-of-type {\n",
       "        vertical-align: middle;\n",
       "    }\n",
       "\n",
       "    .dataframe tbody tr th {\n",
       "        vertical-align: top;\n",
       "    }\n",
       "\n",
       "    .dataframe thead th {\n",
       "        text-align: right;\n",
       "    }\n",
       "</style>\n",
       "<table border=\"1\" class=\"dataframe\">\n",
       "  <thead>\n",
       "    <tr style=\"text-align: right;\">\n",
       "      <th></th>\n",
       "      <th>feature1</th>\n",
       "      <th>feature2</th>\n",
       "      <th>feature3</th>\n",
       "      <th>feature4</th>\n",
       "    </tr>\n",
       "  </thead>\n",
       "  <tbody>\n",
       "    <tr>\n",
       "      <th>a</th>\n",
       "      <td>15.0</td>\n",
       "      <td>sentence</td>\n",
       "      <td>1.0</td>\n",
       "      <td>NaN</td>\n",
       "    </tr>\n",
       "    <tr>\n",
       "      <th>b</th>\n",
       "      <td>1984.0</td>\n",
       "      <td>word</td>\n",
       "      <td>83.0</td>\n",
       "      <td>NaN</td>\n",
       "    </tr>\n",
       "    <tr>\n",
       "      <th>c</th>\n",
       "      <td>4.0</td>\n",
       "      <td>NaN</td>\n",
       "      <td>4.0</td>\n",
       "      <td>2.0</td>\n",
       "    </tr>\n",
       "    <tr>\n",
       "      <th>d</th>\n",
       "      <td>NaN</td>\n",
       "      <td>NaN</td>\n",
       "      <td>NaN</td>\n",
       "      <td>0.0</td>\n",
       "    </tr>\n",
       "  </tbody>\n",
       "</table>\n",
       "</div>"
      ],
      "text/plain": [
       "   feature1  feature2  feature3  feature4\n",
       "a      15.0  sentence       1.0       NaN\n",
       "b    1984.0      word      83.0       NaN\n",
       "c       4.0       NaN       4.0       2.0\n",
       "d       NaN       NaN       NaN       0.0"
      ]
     },
     "execution_count": 105,
     "metadata": {},
     "output_type": "execute_result"
    }
   ],
   "source": [
    "df5 = pd.DataFrame({\n",
    "    \"feature1\": {\"a\": 15, \"b\": 1984, \"c\": 4},\n",
    "    \"feature2\": {\"a\": \"sentence\", \"b\": \"word\"},\n",
    "    \"feature3\": {\"a\": 1, \"b\": 83, \"c\": 4},\n",
    "    \"feature4\": {\"c\": 2, \"d\": 0}\n",
    "})\n",
    "df5"
   ]
  },
  {
   "cell_type": "markdown",
   "metadata": {
    "id": "-UNsZVleir_2"
   },
   "source": [
    "### Multi-indexing\n",
    "If all columns/rows are tuples of the same size, then they are understood as a multi-index"
   ]
  },
  {
   "cell_type": "code",
   "execution_count": 106,
   "metadata": {
    "colab": {
     "base_uri": "https://localhost:8080/",
     "height": 175
    },
    "id": "Cjl7Kuh2ir_2",
    "outputId": "00d96ea0-2782-4d41-efd9-c535f0e8ca08"
   },
   "outputs": [
    {
     "data": {
      "text/html": [
       "<div>\n",
       "<style scoped>\n",
       "    .dataframe tbody tr th:only-of-type {\n",
       "        vertical-align: middle;\n",
       "    }\n",
       "\n",
       "    .dataframe tbody tr th {\n",
       "        vertical-align: top;\n",
       "    }\n",
       "\n",
       "    .dataframe thead tr th {\n",
       "        text-align: left;\n",
       "    }\n",
       "</style>\n",
       "<table border=\"1\" class=\"dataframe\">\n",
       "  <thead>\n",
       "    <tr>\n",
       "      <th></th>\n",
       "      <th></th>\n",
       "      <th colspan=\"2\" halign=\"left\">features12</th>\n",
       "      <th colspan=\"2\" halign=\"left\">features34</th>\n",
       "    </tr>\n",
       "    <tr>\n",
       "      <th></th>\n",
       "      <th></th>\n",
       "      <th>feature1</th>\n",
       "      <th>feature2</th>\n",
       "      <th>feature3</th>\n",
       "      <th>feature4</th>\n",
       "    </tr>\n",
       "  </thead>\n",
       "  <tbody>\n",
       "    <tr>\n",
       "      <th rowspan=\"2\" valign=\"top\">rows_ab</th>\n",
       "      <th>a</th>\n",
       "      <td>444</td>\n",
       "      <td>111.0</td>\n",
       "      <td>555</td>\n",
       "      <td>333</td>\n",
       "    </tr>\n",
       "    <tr>\n",
       "      <th>b</th>\n",
       "      <td>444</td>\n",
       "      <td>222.0</td>\n",
       "      <td>333</td>\n",
       "      <td>999</td>\n",
       "    </tr>\n",
       "    <tr>\n",
       "      <th>rows_c</th>\n",
       "      <th>c</th>\n",
       "      <td>666</td>\n",
       "      <td>NaN</td>\n",
       "      <td>777</td>\n",
       "      <td>888</td>\n",
       "    </tr>\n",
       "  </tbody>\n",
       "</table>\n",
       "</div>"
      ],
      "text/plain": [
       "          features12          features34         \n",
       "            feature1 feature2   feature3 feature4\n",
       "rows_ab a        444    111.0        555      333\n",
       "        b        444    222.0        333      999\n",
       "rows_c  c        666      NaN        777      888"
      ]
     },
     "execution_count": 106,
     "metadata": {},
     "output_type": "execute_result"
    }
   ],
   "source": [
    "df5 = pd.DataFrame(\n",
    "  {\n",
    "    (\"features12\", \"feature1\"):\n",
    "        {(\"rows_ab\",\"a\"): 444, (\"rows_ab\",\"b\"): 444, (\"rows_c\",\"c\"): 666},\n",
    "    (\"features12\", \"feature2\"):\n",
    "        {(\"rows_ab\",\"a\"): 111, (\"rows_ab\",\"b\"): 222},\n",
    "    (\"features34\", \"feature3\"):\n",
    "        {(\"rows_ab\",\"a\"): 555, (\"rows_ab\",\"b\"): 333, (\"rows_c\",\"c\"): 777},\n",
    "    (\"features34\", \"feature4\"):\n",
    "        {(\"rows_ab\", \"a\"):333, (\"rows_ab\",\"b\"): 999, (\"rows_c\",\"c\"): 888}\n",
    "  }\n",
    ")\n",
    "df5"
   ]
  },
  {
   "cell_type": "code",
   "execution_count": 107,
   "metadata": {
    "colab": {
     "base_uri": "https://localhost:8080/",
     "height": 143
    },
    "id": "qcqltleFir_2",
    "outputId": "e81375b5-0539-4c7b-9eeb-cc9b0e733fac"
   },
   "outputs": [
    {
     "data": {
      "text/html": [
       "<div>\n",
       "<style scoped>\n",
       "    .dataframe tbody tr th:only-of-type {\n",
       "        vertical-align: middle;\n",
       "    }\n",
       "\n",
       "    .dataframe tbody tr th {\n",
       "        vertical-align: top;\n",
       "    }\n",
       "\n",
       "    .dataframe thead th {\n",
       "        text-align: right;\n",
       "    }\n",
       "</style>\n",
       "<table border=\"1\" class=\"dataframe\">\n",
       "  <thead>\n",
       "    <tr style=\"text-align: right;\">\n",
       "      <th></th>\n",
       "      <th></th>\n",
       "      <th>feature1</th>\n",
       "      <th>feature2</th>\n",
       "    </tr>\n",
       "  </thead>\n",
       "  <tbody>\n",
       "    <tr>\n",
       "      <th rowspan=\"2\" valign=\"top\">rows_ab</th>\n",
       "      <th>a</th>\n",
       "      <td>444</td>\n",
       "      <td>111.0</td>\n",
       "    </tr>\n",
       "    <tr>\n",
       "      <th>b</th>\n",
       "      <td>444</td>\n",
       "      <td>222.0</td>\n",
       "    </tr>\n",
       "    <tr>\n",
       "      <th>rows_c</th>\n",
       "      <th>c</th>\n",
       "      <td>666</td>\n",
       "      <td>NaN</td>\n",
       "    </tr>\n",
       "  </tbody>\n",
       "</table>\n",
       "</div>"
      ],
      "text/plain": [
       "           feature1  feature2\n",
       "rows_ab a       444     111.0\n",
       "        b       444     222.0\n",
       "rows_c  c       666       NaN"
      ]
     },
     "execution_count": 107,
     "metadata": {},
     "output_type": "execute_result"
    }
   ],
   "source": [
    "df5['features12']"
   ]
  },
  {
   "cell_type": "code",
   "execution_count": 108,
   "metadata": {
    "colab": {
     "base_uri": "https://localhost:8080/"
    },
    "id": "iivPY4p0x4RB",
    "outputId": "2d9048f7-3edb-4f85-b8cf-9257a287d9e5"
   },
   "outputs": [
    {
     "data": {
      "text/plain": [
       "rows_ab  a    444\n",
       "         b    444\n",
       "rows_c   c    666\n",
       "Name: (features12, feature1), dtype: int64"
      ]
     },
     "execution_count": 108,
     "metadata": {},
     "output_type": "execute_result"
    }
   ],
   "source": [
    "df5['features12','feature1']"
   ]
  },
  {
   "cell_type": "code",
   "execution_count": 109,
   "metadata": {
    "colab": {
     "base_uri": "https://localhost:8080/"
    },
    "id": "dXShyy9fx8-j",
    "outputId": "4aff0e98-19bf-4455-8e07-bd1ddf937a95"
   },
   "outputs": [
    {
     "data": {
      "text/plain": [
       "c    666\n",
       "Name: (features12, feature1), dtype: int64"
      ]
     },
     "execution_count": 109,
     "metadata": {},
     "output_type": "execute_result"
    }
   ],
   "source": [
    "df5['features12','feature1']['rows_c']"
   ]
  },
  {
   "cell_type": "code",
   "execution_count": 110,
   "metadata": {
    "colab": {
     "base_uri": "https://localhost:8080/",
     "height": 112
    },
    "id": "aosPWY0Rir_2",
    "outputId": "89a9268c-0471-49f4-bf75-8b8704e365e8"
   },
   "outputs": [
    {
     "data": {
      "text/html": [
       "<div>\n",
       "<style scoped>\n",
       "    .dataframe tbody tr th:only-of-type {\n",
       "        vertical-align: middle;\n",
       "    }\n",
       "\n",
       "    .dataframe tbody tr th {\n",
       "        vertical-align: top;\n",
       "    }\n",
       "\n",
       "    .dataframe thead tr th {\n",
       "        text-align: left;\n",
       "    }\n",
       "</style>\n",
       "<table border=\"1\" class=\"dataframe\">\n",
       "  <thead>\n",
       "    <tr>\n",
       "      <th></th>\n",
       "      <th colspan=\"2\" halign=\"left\">features12</th>\n",
       "      <th colspan=\"2\" halign=\"left\">features34</th>\n",
       "    </tr>\n",
       "    <tr>\n",
       "      <th></th>\n",
       "      <th>feature1</th>\n",
       "      <th>feature2</th>\n",
       "      <th>feature3</th>\n",
       "      <th>feature4</th>\n",
       "    </tr>\n",
       "  </thead>\n",
       "  <tbody>\n",
       "    <tr>\n",
       "      <th>c</th>\n",
       "      <td>666</td>\n",
       "      <td>NaN</td>\n",
       "      <td>777</td>\n",
       "      <td>888</td>\n",
       "    </tr>\n",
       "  </tbody>\n",
       "</table>\n",
       "</div>"
      ],
      "text/plain": [
       "  features12          features34         \n",
       "    feature1 feature2   feature3 feature4\n",
       "c        666      NaN        777      888"
      ]
     },
     "execution_count": 110,
     "metadata": {},
     "output_type": "execute_result"
    }
   ],
   "source": [
    "df5.loc['rows_c']"
   ]
  },
  {
   "cell_type": "code",
   "execution_count": 111,
   "metadata": {
    "colab": {
     "base_uri": "https://localhost:8080/",
     "height": 112
    },
    "id": "bVhGtixEyJBA",
    "outputId": "ce803daa-661d-4a50-a4f5-bfb2a9e70b39"
   },
   "outputs": [
    {
     "data": {
      "text/html": [
       "<div>\n",
       "<style scoped>\n",
       "    .dataframe tbody tr th:only-of-type {\n",
       "        vertical-align: middle;\n",
       "    }\n",
       "\n",
       "    .dataframe tbody tr th {\n",
       "        vertical-align: top;\n",
       "    }\n",
       "\n",
       "    .dataframe thead th {\n",
       "        text-align: right;\n",
       "    }\n",
       "</style>\n",
       "<table border=\"1\" class=\"dataframe\">\n",
       "  <thead>\n",
       "    <tr style=\"text-align: right;\">\n",
       "      <th></th>\n",
       "      <th>feature1</th>\n",
       "      <th>feature2</th>\n",
       "    </tr>\n",
       "  </thead>\n",
       "  <tbody>\n",
       "    <tr>\n",
       "      <th>a</th>\n",
       "      <td>444</td>\n",
       "      <td>111.0</td>\n",
       "    </tr>\n",
       "    <tr>\n",
       "      <th>b</th>\n",
       "      <td>444</td>\n",
       "      <td>222.0</td>\n",
       "    </tr>\n",
       "  </tbody>\n",
       "</table>\n",
       "</div>"
      ],
      "text/plain": [
       "   feature1  feature2\n",
       "a       444     111.0\n",
       "b       444     222.0"
      ]
     },
     "execution_count": 111,
     "metadata": {},
     "output_type": "execute_result"
    }
   ],
   "source": [
    "df5.loc['rows_ab','features12']"
   ]
  },
  {
   "cell_type": "markdown",
   "metadata": {
    "id": "dN7u9bRCir_2"
   },
   "source": [
    "### Dropping a level\n"
   ]
  },
  {
   "cell_type": "code",
   "execution_count": 112,
   "metadata": {
    "colab": {
     "base_uri": "https://localhost:8080/",
     "height": 143
    },
    "id": "jwBK0PIWyZDZ",
    "outputId": "f19b1c52-be0b-4fcf-bc4e-f1802f23ce33"
   },
   "outputs": [
    {
     "data": {
      "text/html": [
       "<div>\n",
       "<style scoped>\n",
       "    .dataframe tbody tr th:only-of-type {\n",
       "        vertical-align: middle;\n",
       "    }\n",
       "\n",
       "    .dataframe tbody tr th {\n",
       "        vertical-align: top;\n",
       "    }\n",
       "\n",
       "    .dataframe thead th {\n",
       "        text-align: right;\n",
       "    }\n",
       "</style>\n",
       "<table border=\"1\" class=\"dataframe\">\n",
       "  <thead>\n",
       "    <tr style=\"text-align: right;\">\n",
       "      <th></th>\n",
       "      <th></th>\n",
       "      <th>feature1</th>\n",
       "      <th>feature2</th>\n",
       "      <th>feature3</th>\n",
       "      <th>feature4</th>\n",
       "    </tr>\n",
       "  </thead>\n",
       "  <tbody>\n",
       "    <tr>\n",
       "      <th rowspan=\"2\" valign=\"top\">rows_ab</th>\n",
       "      <th>a</th>\n",
       "      <td>444</td>\n",
       "      <td>111.0</td>\n",
       "      <td>555</td>\n",
       "      <td>333</td>\n",
       "    </tr>\n",
       "    <tr>\n",
       "      <th>b</th>\n",
       "      <td>444</td>\n",
       "      <td>222.0</td>\n",
       "      <td>333</td>\n",
       "      <td>999</td>\n",
       "    </tr>\n",
       "    <tr>\n",
       "      <th>rows_c</th>\n",
       "      <th>c</th>\n",
       "      <td>666</td>\n",
       "      <td>NaN</td>\n",
       "      <td>777</td>\n",
       "      <td>888</td>\n",
       "    </tr>\n",
       "  </tbody>\n",
       "</table>\n",
       "</div>"
      ],
      "text/plain": [
       "           feature1  feature2  feature3  feature4\n",
       "rows_ab a       444     111.0       555       333\n",
       "        b       444     222.0       333       999\n",
       "rows_c  c       666       NaN       777       888"
      ]
     },
     "execution_count": 112,
     "metadata": {},
     "output_type": "execute_result"
    }
   ],
   "source": [
    "df5.columns = df5.columns.droplevel(level = 0); \n",
    "df5"
   ]
  },
  {
   "cell_type": "markdown",
   "metadata": {
    "id": "QUZ9N-Iair_3"
   },
   "source": [
    "### Transposing\n",
    "swaping columns and indices"
   ]
  },
  {
   "cell_type": "code",
   "execution_count": 113,
   "metadata": {
    "colab": {
     "base_uri": "https://localhost:8080/",
     "height": 206
    },
    "id": "Lp90TSksir_3",
    "outputId": "d01c1d12-9705-4684-8e38-30b6eb896309"
   },
   "outputs": [
    {
     "data": {
      "text/html": [
       "<div>\n",
       "<style scoped>\n",
       "    .dataframe tbody tr th:only-of-type {\n",
       "        vertical-align: middle;\n",
       "    }\n",
       "\n",
       "    .dataframe tbody tr th {\n",
       "        vertical-align: top;\n",
       "    }\n",
       "\n",
       "    .dataframe thead tr th {\n",
       "        text-align: left;\n",
       "    }\n",
       "</style>\n",
       "<table border=\"1\" class=\"dataframe\">\n",
       "  <thead>\n",
       "    <tr>\n",
       "      <th></th>\n",
       "      <th colspan=\"2\" halign=\"left\">rows_ab</th>\n",
       "      <th>rows_c</th>\n",
       "    </tr>\n",
       "    <tr>\n",
       "      <th></th>\n",
       "      <th>a</th>\n",
       "      <th>b</th>\n",
       "      <th>c</th>\n",
       "    </tr>\n",
       "  </thead>\n",
       "  <tbody>\n",
       "    <tr>\n",
       "      <th>feature1</th>\n",
       "      <td>444.0</td>\n",
       "      <td>444.0</td>\n",
       "      <td>666.0</td>\n",
       "    </tr>\n",
       "    <tr>\n",
       "      <th>feature2</th>\n",
       "      <td>111.0</td>\n",
       "      <td>222.0</td>\n",
       "      <td>NaN</td>\n",
       "    </tr>\n",
       "    <tr>\n",
       "      <th>feature3</th>\n",
       "      <td>555.0</td>\n",
       "      <td>333.0</td>\n",
       "      <td>777.0</td>\n",
       "    </tr>\n",
       "    <tr>\n",
       "      <th>feature4</th>\n",
       "      <td>333.0</td>\n",
       "      <td>999.0</td>\n",
       "      <td>888.0</td>\n",
       "    </tr>\n",
       "  </tbody>\n",
       "</table>\n",
       "</div>"
      ],
      "text/plain": [
       "         rows_ab        rows_c\n",
       "               a      b      c\n",
       "feature1   444.0  444.0  666.0\n",
       "feature2   111.0  222.0    NaN\n",
       "feature3   555.0  333.0  777.0\n",
       "feature4   333.0  999.0  888.0"
      ]
     },
     "execution_count": 113,
     "metadata": {},
     "output_type": "execute_result"
    }
   ],
   "source": [
    "df6 = df5.T\n",
    "df6"
   ]
  },
  {
   "cell_type": "markdown",
   "metadata": {
    "id": "UmasKISAir_3"
   },
   "source": [
    "### Stacking and unstacking levels\n",
    "expanding the lowest column level as the lowest index"
   ]
  },
  {
   "cell_type": "code",
   "execution_count": 114,
   "metadata": {
    "colab": {
     "base_uri": "https://localhost:8080/",
     "height": 394
    },
    "id": "1ZecT4LDir_3",
    "outputId": "af57a38c-446e-4576-d9b2-3c04e7f86fe5"
   },
   "outputs": [
    {
     "data": {
      "text/html": [
       "<div>\n",
       "<style scoped>\n",
       "    .dataframe tbody tr th:only-of-type {\n",
       "        vertical-align: middle;\n",
       "    }\n",
       "\n",
       "    .dataframe tbody tr th {\n",
       "        vertical-align: top;\n",
       "    }\n",
       "\n",
       "    .dataframe thead th {\n",
       "        text-align: right;\n",
       "    }\n",
       "</style>\n",
       "<table border=\"1\" class=\"dataframe\">\n",
       "  <thead>\n",
       "    <tr style=\"text-align: right;\">\n",
       "      <th></th>\n",
       "      <th></th>\n",
       "      <th>rows_ab</th>\n",
       "      <th>rows_c</th>\n",
       "    </tr>\n",
       "  </thead>\n",
       "  <tbody>\n",
       "    <tr>\n",
       "      <th rowspan=\"3\" valign=\"top\">feature1</th>\n",
       "      <th>a</th>\n",
       "      <td>444.0</td>\n",
       "      <td>NaN</td>\n",
       "    </tr>\n",
       "    <tr>\n",
       "      <th>b</th>\n",
       "      <td>444.0</td>\n",
       "      <td>NaN</td>\n",
       "    </tr>\n",
       "    <tr>\n",
       "      <th>c</th>\n",
       "      <td>NaN</td>\n",
       "      <td>666.0</td>\n",
       "    </tr>\n",
       "    <tr>\n",
       "      <th rowspan=\"2\" valign=\"top\">feature2</th>\n",
       "      <th>a</th>\n",
       "      <td>111.0</td>\n",
       "      <td>NaN</td>\n",
       "    </tr>\n",
       "    <tr>\n",
       "      <th>b</th>\n",
       "      <td>222.0</td>\n",
       "      <td>NaN</td>\n",
       "    </tr>\n",
       "    <tr>\n",
       "      <th rowspan=\"3\" valign=\"top\">feature3</th>\n",
       "      <th>a</th>\n",
       "      <td>555.0</td>\n",
       "      <td>NaN</td>\n",
       "    </tr>\n",
       "    <tr>\n",
       "      <th>b</th>\n",
       "      <td>333.0</td>\n",
       "      <td>NaN</td>\n",
       "    </tr>\n",
       "    <tr>\n",
       "      <th>c</th>\n",
       "      <td>NaN</td>\n",
       "      <td>777.0</td>\n",
       "    </tr>\n",
       "    <tr>\n",
       "      <th rowspan=\"3\" valign=\"top\">feature4</th>\n",
       "      <th>a</th>\n",
       "      <td>333.0</td>\n",
       "      <td>NaN</td>\n",
       "    </tr>\n",
       "    <tr>\n",
       "      <th>b</th>\n",
       "      <td>999.0</td>\n",
       "      <td>NaN</td>\n",
       "    </tr>\n",
       "    <tr>\n",
       "      <th>c</th>\n",
       "      <td>NaN</td>\n",
       "      <td>888.0</td>\n",
       "    </tr>\n",
       "  </tbody>\n",
       "</table>\n",
       "</div>"
      ],
      "text/plain": [
       "            rows_ab  rows_c\n",
       "feature1 a    444.0     NaN\n",
       "         b    444.0     NaN\n",
       "         c      NaN   666.0\n",
       "feature2 a    111.0     NaN\n",
       "         b    222.0     NaN\n",
       "feature3 a    555.0     NaN\n",
       "         b    333.0     NaN\n",
       "         c      NaN   777.0\n",
       "feature4 a    333.0     NaN\n",
       "         b    999.0     NaN\n",
       "         c      NaN   888.0"
      ]
     },
     "execution_count": 114,
     "metadata": {},
     "output_type": "execute_result"
    }
   ],
   "source": [
    "df7 = df6.stack()\n",
    "df7"
   ]
  },
  {
   "cell_type": "code",
   "execution_count": 115,
   "metadata": {
    "colab": {
     "base_uri": "https://localhost:8080/",
     "height": 206
    },
    "id": "fPsqkcdmir_3",
    "outputId": "e7b2316c-c19f-4f6e-85cb-f47e573a2786"
   },
   "outputs": [
    {
     "data": {
      "text/html": [
       "<div>\n",
       "<style scoped>\n",
       "    .dataframe tbody tr th:only-of-type {\n",
       "        vertical-align: middle;\n",
       "    }\n",
       "\n",
       "    .dataframe tbody tr th {\n",
       "        vertical-align: top;\n",
       "    }\n",
       "\n",
       "    .dataframe thead tr th {\n",
       "        text-align: left;\n",
       "    }\n",
       "</style>\n",
       "<table border=\"1\" class=\"dataframe\">\n",
       "  <thead>\n",
       "    <tr>\n",
       "      <th></th>\n",
       "      <th colspan=\"3\" halign=\"left\">rows_ab</th>\n",
       "      <th colspan=\"3\" halign=\"left\">rows_c</th>\n",
       "    </tr>\n",
       "    <tr>\n",
       "      <th></th>\n",
       "      <th>a</th>\n",
       "      <th>b</th>\n",
       "      <th>c</th>\n",
       "      <th>a</th>\n",
       "      <th>b</th>\n",
       "      <th>c</th>\n",
       "    </tr>\n",
       "  </thead>\n",
       "  <tbody>\n",
       "    <tr>\n",
       "      <th>feature1</th>\n",
       "      <td>444.0</td>\n",
       "      <td>444.0</td>\n",
       "      <td>NaN</td>\n",
       "      <td>NaN</td>\n",
       "      <td>NaN</td>\n",
       "      <td>666.0</td>\n",
       "    </tr>\n",
       "    <tr>\n",
       "      <th>feature2</th>\n",
       "      <td>111.0</td>\n",
       "      <td>222.0</td>\n",
       "      <td>NaN</td>\n",
       "      <td>NaN</td>\n",
       "      <td>NaN</td>\n",
       "      <td>NaN</td>\n",
       "    </tr>\n",
       "    <tr>\n",
       "      <th>feature3</th>\n",
       "      <td>555.0</td>\n",
       "      <td>333.0</td>\n",
       "      <td>NaN</td>\n",
       "      <td>NaN</td>\n",
       "      <td>NaN</td>\n",
       "      <td>777.0</td>\n",
       "    </tr>\n",
       "    <tr>\n",
       "      <th>feature4</th>\n",
       "      <td>333.0</td>\n",
       "      <td>999.0</td>\n",
       "      <td>NaN</td>\n",
       "      <td>NaN</td>\n",
       "      <td>NaN</td>\n",
       "      <td>888.0</td>\n",
       "    </tr>\n",
       "  </tbody>\n",
       "</table>\n",
       "</div>"
      ],
      "text/plain": [
       "         rows_ab            rows_c           \n",
       "               a      b   c      a   b      c\n",
       "feature1   444.0  444.0 NaN    NaN NaN  666.0\n",
       "feature2   111.0  222.0 NaN    NaN NaN    NaN\n",
       "feature3   555.0  333.0 NaN    NaN NaN  777.0\n",
       "feature4   333.0  999.0 NaN    NaN NaN  888.0"
      ]
     },
     "execution_count": 115,
     "metadata": {},
     "output_type": "execute_result"
    }
   ],
   "source": [
    "df8 = df7.unstack()\n",
    "df8"
   ]
  },
  {
   "cell_type": "markdown",
   "metadata": {
    "id": "48mWIosmir_3"
   },
   "source": [
    "If we call unstack again, we end up with a Series object"
   ]
  },
  {
   "cell_type": "code",
   "execution_count": 116,
   "metadata": {
    "colab": {
     "base_uri": "https://localhost:8080/"
    },
    "id": "M8wiZiOKir_4",
    "outputId": "e7c5c7d0-3700-4d9b-8201-357e6d036d9f"
   },
   "outputs": [
    {
     "data": {
      "text/plain": [
       "rows_ab  a  feature1    444.0\n",
       "            feature2    111.0\n",
       "            feature3    555.0\n",
       "            feature4    333.0\n",
       "         b  feature1    444.0\n",
       "            feature2    222.0\n",
       "            feature3    333.0\n",
       "            feature4    999.0\n",
       "         c  feature1      NaN\n",
       "            feature2      NaN\n",
       "            feature3      NaN\n",
       "            feature4      NaN\n",
       "rows_c   a  feature1      NaN\n",
       "            feature2      NaN\n",
       "            feature3      NaN\n",
       "            feature4      NaN\n",
       "         b  feature1      NaN\n",
       "            feature2      NaN\n",
       "            feature3      NaN\n",
       "            feature4      NaN\n",
       "         c  feature1    666.0\n",
       "            feature2      NaN\n",
       "            feature3    777.0\n",
       "            feature4    888.0\n",
       "dtype: float64"
      ]
     },
     "execution_count": 116,
     "metadata": {},
     "output_type": "execute_result"
    }
   ],
   "source": [
    "df9 = df8.unstack()\n",
    "df9"
   ]
  },
  {
   "cell_type": "markdown",
   "metadata": {
    "id": "6bVoNoo9ir_4"
   },
   "source": [
    "### Accessing rows"
   ]
  },
  {
   "cell_type": "code",
   "execution_count": 117,
   "metadata": {
    "colab": {
     "base_uri": "https://localhost:8080/",
     "height": 143
    },
    "id": "s0Jdqr_vir_4",
    "outputId": "78dc8060-0e22-4e1a-f430-23bb16ba3a55"
   },
   "outputs": [
    {
     "data": {
      "text/html": [
       "<div>\n",
       "<style scoped>\n",
       "    .dataframe tbody tr th:only-of-type {\n",
       "        vertical-align: middle;\n",
       "    }\n",
       "\n",
       "    .dataframe tbody tr th {\n",
       "        vertical-align: top;\n",
       "    }\n",
       "\n",
       "    .dataframe thead th {\n",
       "        text-align: right;\n",
       "    }\n",
       "</style>\n",
       "<table border=\"1\" class=\"dataframe\">\n",
       "  <thead>\n",
       "    <tr style=\"text-align: right;\">\n",
       "      <th></th>\n",
       "      <th>feature1</th>\n",
       "      <th>feature2</th>\n",
       "      <th>feature3</th>\n",
       "      <th>feature4</th>\n",
       "    </tr>\n",
       "  </thead>\n",
       "  <tbody>\n",
       "    <tr>\n",
       "      <th>a</th>\n",
       "      <td>1</td>\n",
       "      <td>5</td>\n",
       "      <td>NaN</td>\n",
       "      <td>9.0</td>\n",
       "    </tr>\n",
       "    <tr>\n",
       "      <th>b</th>\n",
       "      <td>2</td>\n",
       "      <td>4</td>\n",
       "      <td>8.0</td>\n",
       "      <td>10.0</td>\n",
       "    </tr>\n",
       "    <tr>\n",
       "      <th>c</th>\n",
       "      <td>3</td>\n",
       "      <td>6</td>\n",
       "      <td>7.0</td>\n",
       "      <td>NaN</td>\n",
       "    </tr>\n",
       "  </tbody>\n",
       "</table>\n",
       "</div>"
      ],
      "text/plain": [
       "   feature1  feature2  feature3  feature4\n",
       "a         1         5       NaN       9.0\n",
       "b         2         4       8.0      10.0\n",
       "c         3         6       7.0       NaN"
      ]
     },
     "execution_count": 117,
     "metadata": {},
     "output_type": "execute_result"
    }
   ],
   "source": [
    "df"
   ]
  },
  {
   "cell_type": "code",
   "execution_count": 118,
   "metadata": {
    "colab": {
     "base_uri": "https://localhost:8080/"
    },
    "id": "qulXpYruir_4",
    "outputId": "fe28d71c-2717-4400-e2b3-ab028bfa028a"
   },
   "outputs": [
    {
     "data": {
      "text/plain": [
       "feature1    3.0\n",
       "feature2    6.0\n",
       "feature3    7.0\n",
       "feature4    NaN\n",
       "Name: c, dtype: float64"
      ]
     },
     "execution_count": 118,
     "metadata": {},
     "output_type": "execute_result"
    }
   ],
   "source": [
    "df.loc[\"c\"] #access the c row"
   ]
  },
  {
   "cell_type": "code",
   "execution_count": 119,
   "metadata": {
    "colab": {
     "base_uri": "https://localhost:8080/"
    },
    "id": "PX1UJcUJir_5",
    "outputId": "6f27b194-4fdf-4a52-e654-6360a2bc8c0c"
   },
   "outputs": [
    {
     "data": {
      "text/plain": [
       "feature1    3.0\n",
       "feature2    6.0\n",
       "feature3    7.0\n",
       "feature4    NaN\n",
       "Name: c, dtype: float64"
      ]
     },
     "execution_count": 119,
     "metadata": {},
     "output_type": "execute_result"
    }
   ],
   "source": [
    "df.iloc[2] #access the 2nd column"
   ]
  },
  {
   "cell_type": "markdown",
   "metadata": {
    "id": "qfEqP6Ntir_5"
   },
   "source": [
    "slice of rows"
   ]
  },
  {
   "cell_type": "code",
   "execution_count": 120,
   "metadata": {
    "colab": {
     "base_uri": "https://localhost:8080/",
     "height": 112
    },
    "id": "tM1WFx0cir_5",
    "outputId": "03c6c424-ae8e-4607-c269-6e1007308011"
   },
   "outputs": [
    {
     "data": {
      "text/html": [
       "<div>\n",
       "<style scoped>\n",
       "    .dataframe tbody tr th:only-of-type {\n",
       "        vertical-align: middle;\n",
       "    }\n",
       "\n",
       "    .dataframe tbody tr th {\n",
       "        vertical-align: top;\n",
       "    }\n",
       "\n",
       "    .dataframe thead th {\n",
       "        text-align: right;\n",
       "    }\n",
       "</style>\n",
       "<table border=\"1\" class=\"dataframe\">\n",
       "  <thead>\n",
       "    <tr style=\"text-align: right;\">\n",
       "      <th></th>\n",
       "      <th>feature1</th>\n",
       "      <th>feature2</th>\n",
       "      <th>feature3</th>\n",
       "      <th>feature4</th>\n",
       "    </tr>\n",
       "  </thead>\n",
       "  <tbody>\n",
       "    <tr>\n",
       "      <th>b</th>\n",
       "      <td>2</td>\n",
       "      <td>4</td>\n",
       "      <td>8.0</td>\n",
       "      <td>10.0</td>\n",
       "    </tr>\n",
       "    <tr>\n",
       "      <th>c</th>\n",
       "      <td>3</td>\n",
       "      <td>6</td>\n",
       "      <td>7.0</td>\n",
       "      <td>NaN</td>\n",
       "    </tr>\n",
       "  </tbody>\n",
       "</table>\n",
       "</div>"
      ],
      "text/plain": [
       "   feature1  feature2  feature3  feature4\n",
       "b         2         4       8.0      10.0\n",
       "c         3         6       7.0       NaN"
      ]
     },
     "execution_count": 120,
     "metadata": {},
     "output_type": "execute_result"
    }
   ],
   "source": [
    "df.iloc[1:3]"
   ]
  },
  {
   "cell_type": "markdown",
   "metadata": {
    "id": "XfzJ14EWir_5"
   },
   "source": [
    "slice rows using boolean array\n",
    "\n",
    "\n"
   ]
  },
  {
   "cell_type": "code",
   "execution_count": 121,
   "metadata": {
    "colab": {
     "base_uri": "https://localhost:8080/",
     "height": 112
    },
    "id": "5v_ILTWwir_5",
    "outputId": "70ce12b5-eac4-4b8d-a3f1-f3a33882df97"
   },
   "outputs": [
    {
     "data": {
      "text/html": [
       "<div>\n",
       "<style scoped>\n",
       "    .dataframe tbody tr th:only-of-type {\n",
       "        vertical-align: middle;\n",
       "    }\n",
       "\n",
       "    .dataframe tbody tr th {\n",
       "        vertical-align: top;\n",
       "    }\n",
       "\n",
       "    .dataframe thead th {\n",
       "        text-align: right;\n",
       "    }\n",
       "</style>\n",
       "<table border=\"1\" class=\"dataframe\">\n",
       "  <thead>\n",
       "    <tr style=\"text-align: right;\">\n",
       "      <th></th>\n",
       "      <th>feature1</th>\n",
       "      <th>feature2</th>\n",
       "      <th>feature3</th>\n",
       "      <th>feature4</th>\n",
       "    </tr>\n",
       "  </thead>\n",
       "  <tbody>\n",
       "    <tr>\n",
       "      <th>a</th>\n",
       "      <td>1</td>\n",
       "      <td>5</td>\n",
       "      <td>NaN</td>\n",
       "      <td>9.0</td>\n",
       "    </tr>\n",
       "    <tr>\n",
       "      <th>c</th>\n",
       "      <td>3</td>\n",
       "      <td>6</td>\n",
       "      <td>7.0</td>\n",
       "      <td>NaN</td>\n",
       "    </tr>\n",
       "  </tbody>\n",
       "</table>\n",
       "</div>"
      ],
      "text/plain": [
       "   feature1  feature2  feature3  feature4\n",
       "a         1         5       NaN       9.0\n",
       "c         3         6       7.0       NaN"
      ]
     },
     "execution_count": 121,
     "metadata": {},
     "output_type": "execute_result"
    }
   ],
   "source": [
    "df[np.array([True, False, True])]"
   ]
  },
  {
   "cell_type": "markdown",
   "metadata": {
    "id": "2OA0fg39ir_5"
   },
   "source": [
    "This is most useful when combined with boolean expressions:"
   ]
  },
  {
   "cell_type": "code",
   "execution_count": 122,
   "metadata": {
    "colab": {
     "base_uri": "https://localhost:8080/",
     "height": 112
    },
    "id": "9rGMH8Dyir_5",
    "outputId": "003a7832-37c1-4c9e-959d-58c66dae198c"
   },
   "outputs": [
    {
     "data": {
      "text/html": [
       "<div>\n",
       "<style scoped>\n",
       "    .dataframe tbody tr th:only-of-type {\n",
       "        vertical-align: middle;\n",
       "    }\n",
       "\n",
       "    .dataframe tbody tr th {\n",
       "        vertical-align: top;\n",
       "    }\n",
       "\n",
       "    .dataframe thead th {\n",
       "        text-align: right;\n",
       "    }\n",
       "</style>\n",
       "<table border=\"1\" class=\"dataframe\">\n",
       "  <thead>\n",
       "    <tr style=\"text-align: right;\">\n",
       "      <th></th>\n",
       "      <th>feature1</th>\n",
       "      <th>feature2</th>\n",
       "      <th>feature3</th>\n",
       "      <th>feature4</th>\n",
       "    </tr>\n",
       "  </thead>\n",
       "  <tbody>\n",
       "    <tr>\n",
       "      <th>a</th>\n",
       "      <td>1</td>\n",
       "      <td>5</td>\n",
       "      <td>NaN</td>\n",
       "      <td>9.0</td>\n",
       "    </tr>\n",
       "    <tr>\n",
       "      <th>b</th>\n",
       "      <td>2</td>\n",
       "      <td>4</td>\n",
       "      <td>8.0</td>\n",
       "      <td>10.0</td>\n",
       "    </tr>\n",
       "  </tbody>\n",
       "</table>\n",
       "</div>"
      ],
      "text/plain": [
       "   feature1  feature2  feature3  feature4\n",
       "a         1         5       NaN       9.0\n",
       "b         2         4       8.0      10.0"
      ]
     },
     "execution_count": 122,
     "metadata": {},
     "output_type": "execute_result"
    }
   ],
   "source": [
    "df[df[\"feature2\"] <=5]"
   ]
  },
  {
   "cell_type": "markdown",
   "metadata": {
    "id": "VGfrqxIeir_6"
   },
   "source": [
    "### Adding and removing columns"
   ]
  },
  {
   "cell_type": "code",
   "execution_count": 123,
   "metadata": {
    "colab": {
     "base_uri": "https://localhost:8080/",
     "height": 143
    },
    "id": "GH-1d9ACir_6",
    "outputId": "76c15d93-9d42-4876-86e8-8769a638b0a3"
   },
   "outputs": [
    {
     "data": {
      "text/html": [
       "<div>\n",
       "<style scoped>\n",
       "    .dataframe tbody tr th:only-of-type {\n",
       "        vertical-align: middle;\n",
       "    }\n",
       "\n",
       "    .dataframe tbody tr th {\n",
       "        vertical-align: top;\n",
       "    }\n",
       "\n",
       "    .dataframe thead th {\n",
       "        text-align: right;\n",
       "    }\n",
       "</style>\n",
       "<table border=\"1\" class=\"dataframe\">\n",
       "  <thead>\n",
       "    <tr style=\"text-align: right;\">\n",
       "      <th></th>\n",
       "      <th>feature1</th>\n",
       "      <th>feature2</th>\n",
       "      <th>feature3</th>\n",
       "      <th>feature4</th>\n",
       "    </tr>\n",
       "  </thead>\n",
       "  <tbody>\n",
       "    <tr>\n",
       "      <th>a</th>\n",
       "      <td>1</td>\n",
       "      <td>5</td>\n",
       "      <td>NaN</td>\n",
       "      <td>9.0</td>\n",
       "    </tr>\n",
       "    <tr>\n",
       "      <th>b</th>\n",
       "      <td>2</td>\n",
       "      <td>4</td>\n",
       "      <td>8.0</td>\n",
       "      <td>10.0</td>\n",
       "    </tr>\n",
       "    <tr>\n",
       "      <th>c</th>\n",
       "      <td>3</td>\n",
       "      <td>6</td>\n",
       "      <td>7.0</td>\n",
       "      <td>NaN</td>\n",
       "    </tr>\n",
       "  </tbody>\n",
       "</table>\n",
       "</div>"
      ],
      "text/plain": [
       "   feature1  feature2  feature3  feature4\n",
       "a         1         5       NaN       9.0\n",
       "b         2         4       8.0      10.0\n",
       "c         3         6       7.0       NaN"
      ]
     },
     "execution_count": 123,
     "metadata": {},
     "output_type": "execute_result"
    }
   ],
   "source": [
    "df"
   ]
  },
  {
   "cell_type": "code",
   "execution_count": 124,
   "metadata": {
    "colab": {
     "base_uri": "https://localhost:8080/",
     "height": 143
    },
    "id": "vAU-UJhf2B2S",
    "outputId": "c5986434-dfbd-43e0-935e-63ab8c8cc648"
   },
   "outputs": [
    {
     "data": {
      "text/html": [
       "<div>\n",
       "<style scoped>\n",
       "    .dataframe tbody tr th:only-of-type {\n",
       "        vertical-align: middle;\n",
       "    }\n",
       "\n",
       "    .dataframe tbody tr th {\n",
       "        vertical-align: top;\n",
       "    }\n",
       "\n",
       "    .dataframe thead th {\n",
       "        text-align: right;\n",
       "    }\n",
       "</style>\n",
       "<table border=\"1\" class=\"dataframe\">\n",
       "  <thead>\n",
       "    <tr style=\"text-align: right;\">\n",
       "      <th></th>\n",
       "      <th>feature1</th>\n",
       "      <th>feature2</th>\n",
       "      <th>feature3</th>\n",
       "      <th>feature4</th>\n",
       "      <th>feature5</th>\n",
       "      <th>feature6</th>\n",
       "    </tr>\n",
       "  </thead>\n",
       "  <tbody>\n",
       "    <tr>\n",
       "      <th>a</th>\n",
       "      <td>1</td>\n",
       "      <td>5</td>\n",
       "      <td>NaN</td>\n",
       "      <td>9.0</td>\n",
       "      <td>0</td>\n",
       "      <td>False</td>\n",
       "    </tr>\n",
       "    <tr>\n",
       "      <th>b</th>\n",
       "      <td>2</td>\n",
       "      <td>4</td>\n",
       "      <td>8.0</td>\n",
       "      <td>10.0</td>\n",
       "      <td>1</td>\n",
       "      <td>True</td>\n",
       "    </tr>\n",
       "    <tr>\n",
       "      <th>c</th>\n",
       "      <td>3</td>\n",
       "      <td>6</td>\n",
       "      <td>7.0</td>\n",
       "      <td>NaN</td>\n",
       "      <td>-1</td>\n",
       "      <td>True</td>\n",
       "    </tr>\n",
       "  </tbody>\n",
       "</table>\n",
       "</div>"
      ],
      "text/plain": [
       "   feature1  feature2  feature3  feature4  feature5  feature6\n",
       "a         1         5       NaN       9.0         0     False\n",
       "b         2         4       8.0      10.0         1      True\n",
       "c         3         6       7.0       NaN        -1      True"
      ]
     },
     "execution_count": 124,
     "metadata": {},
     "output_type": "execute_result"
    }
   ],
   "source": [
    "df['feature5'] = 5 - df['feature2'] #adding a column\n",
    "df['feature6'] = df['feature3'] > 5\n",
    "df  "
   ]
  },
  {
   "cell_type": "code",
   "execution_count": 125,
   "metadata": {
    "colab": {
     "base_uri": "https://localhost:8080/",
     "height": 143
    },
    "id": "NnvleFwt2ccB",
    "outputId": "fb1dcaff-78c6-4ffd-f25a-9617e6b788ef"
   },
   "outputs": [
    {
     "data": {
      "text/html": [
       "<div>\n",
       "<style scoped>\n",
       "    .dataframe tbody tr th:only-of-type {\n",
       "        vertical-align: middle;\n",
       "    }\n",
       "\n",
       "    .dataframe tbody tr th {\n",
       "        vertical-align: top;\n",
       "    }\n",
       "\n",
       "    .dataframe thead th {\n",
       "        text-align: right;\n",
       "    }\n",
       "</style>\n",
       "<table border=\"1\" class=\"dataframe\">\n",
       "  <thead>\n",
       "    <tr style=\"text-align: right;\">\n",
       "      <th></th>\n",
       "      <th>feature1</th>\n",
       "      <th>feature2</th>\n",
       "      <th>feature3</th>\n",
       "      <th>feature4</th>\n",
       "      <th>feature5</th>\n",
       "    </tr>\n",
       "  </thead>\n",
       "  <tbody>\n",
       "    <tr>\n",
       "      <th>a</th>\n",
       "      <td>1</td>\n",
       "      <td>5</td>\n",
       "      <td>NaN</td>\n",
       "      <td>9.0</td>\n",
       "      <td>0</td>\n",
       "    </tr>\n",
       "    <tr>\n",
       "      <th>b</th>\n",
       "      <td>2</td>\n",
       "      <td>4</td>\n",
       "      <td>8.0</td>\n",
       "      <td>10.0</td>\n",
       "      <td>1</td>\n",
       "    </tr>\n",
       "    <tr>\n",
       "      <th>c</th>\n",
       "      <td>3</td>\n",
       "      <td>6</td>\n",
       "      <td>7.0</td>\n",
       "      <td>NaN</td>\n",
       "      <td>-1</td>\n",
       "    </tr>\n",
       "  </tbody>\n",
       "</table>\n",
       "</div>"
      ],
      "text/plain": [
       "   feature1  feature2  feature3  feature4  feature5\n",
       "a         1         5       NaN       9.0         0\n",
       "b         2         4       8.0      10.0         1\n",
       "c         3         6       7.0       NaN        -1"
      ]
     },
     "execution_count": 125,
     "metadata": {},
     "output_type": "execute_result"
    }
   ],
   "source": [
    "del df['feature6']\n",
    "df"
   ]
  },
  {
   "cell_type": "code",
   "execution_count": 126,
   "metadata": {
    "colab": {
     "base_uri": "https://localhost:8080/",
     "height": 143
    },
    "id": "d3nNrhfyir_7",
    "outputId": "0cef4478-e87a-4afb-d4c2-914158d60e55"
   },
   "outputs": [
    {
     "data": {
      "text/html": [
       "<div>\n",
       "<style scoped>\n",
       "    .dataframe tbody tr th:only-of-type {\n",
       "        vertical-align: middle;\n",
       "    }\n",
       "\n",
       "    .dataframe tbody tr th {\n",
       "        vertical-align: top;\n",
       "    }\n",
       "\n",
       "    .dataframe thead th {\n",
       "        text-align: right;\n",
       "    }\n",
       "</style>\n",
       "<table border=\"1\" class=\"dataframe\">\n",
       "  <thead>\n",
       "    <tr style=\"text-align: right;\">\n",
       "      <th></th>\n",
       "      <th>feature1</th>\n",
       "      <th>feature2</th>\n",
       "      <th>feature3</th>\n",
       "      <th>feature4</th>\n",
       "      <th>feature5</th>\n",
       "      <th>feature6</th>\n",
       "    </tr>\n",
       "  </thead>\n",
       "  <tbody>\n",
       "    <tr>\n",
       "      <th>a</th>\n",
       "      <td>1</td>\n",
       "      <td>5</td>\n",
       "      <td>NaN</td>\n",
       "      <td>9.0</td>\n",
       "      <td>0</td>\n",
       "      <td>NaN</td>\n",
       "    </tr>\n",
       "    <tr>\n",
       "      <th>b</th>\n",
       "      <td>2</td>\n",
       "      <td>4</td>\n",
       "      <td>8.0</td>\n",
       "      <td>10.0</td>\n",
       "      <td>1</td>\n",
       "      <td>NaN</td>\n",
       "    </tr>\n",
       "    <tr>\n",
       "      <th>c</th>\n",
       "      <td>3</td>\n",
       "      <td>6</td>\n",
       "      <td>7.0</td>\n",
       "      <td>NaN</td>\n",
       "      <td>-1</td>\n",
       "      <td>NaN</td>\n",
       "    </tr>\n",
       "  </tbody>\n",
       "</table>\n",
       "</div>"
      ],
      "text/plain": [
       "   feature1  feature2  feature3  feature4  feature5  feature6\n",
       "a         1         5       NaN       9.0         0       NaN\n",
       "b         2         4       8.0      10.0         1       NaN\n",
       "c         3         6       7.0       NaN        -1       NaN"
      ]
     },
     "execution_count": 126,
     "metadata": {},
     "output_type": "execute_result"
    }
   ],
   "source": [
    "df[\"feature6\"] = pd.Series({\"feature2\": 1, \"feature4\": 51, \"feature1\":1}) \n",
    "df"
   ]
  },
  {
   "cell_type": "code",
   "execution_count": 127,
   "metadata": {
    "colab": {
     "base_uri": "https://localhost:8080/",
     "height": 143
    },
    "id": "vtaO1NIEir_7",
    "outputId": "efccb5bf-b614-4ee8-c401-ea3482f13cfb"
   },
   "outputs": [
    {
     "data": {
      "text/html": [
       "<div>\n",
       "<style scoped>\n",
       "    .dataframe tbody tr th:only-of-type {\n",
       "        vertical-align: middle;\n",
       "    }\n",
       "\n",
       "    .dataframe tbody tr th {\n",
       "        vertical-align: top;\n",
       "    }\n",
       "\n",
       "    .dataframe thead th {\n",
       "        text-align: right;\n",
       "    }\n",
       "</style>\n",
       "<table border=\"1\" class=\"dataframe\">\n",
       "  <thead>\n",
       "    <tr style=\"text-align: right;\">\n",
       "      <th></th>\n",
       "      <th>feature1</th>\n",
       "      <th>feature1b</th>\n",
       "      <th>feature2</th>\n",
       "      <th>feature3</th>\n",
       "      <th>feature4</th>\n",
       "      <th>feature5</th>\n",
       "      <th>feature6</th>\n",
       "    </tr>\n",
       "  </thead>\n",
       "  <tbody>\n",
       "    <tr>\n",
       "      <th>a</th>\n",
       "      <td>1</td>\n",
       "      <td>0</td>\n",
       "      <td>5</td>\n",
       "      <td>NaN</td>\n",
       "      <td>9.0</td>\n",
       "      <td>0</td>\n",
       "      <td>NaN</td>\n",
       "    </tr>\n",
       "    <tr>\n",
       "      <th>b</th>\n",
       "      <td>2</td>\n",
       "      <td>1</td>\n",
       "      <td>4</td>\n",
       "      <td>8.0</td>\n",
       "      <td>10.0</td>\n",
       "      <td>1</td>\n",
       "      <td>NaN</td>\n",
       "    </tr>\n",
       "    <tr>\n",
       "      <th>c</th>\n",
       "      <td>3</td>\n",
       "      <td>2</td>\n",
       "      <td>6</td>\n",
       "      <td>7.0</td>\n",
       "      <td>NaN</td>\n",
       "      <td>-1</td>\n",
       "      <td>NaN</td>\n",
       "    </tr>\n",
       "  </tbody>\n",
       "</table>\n",
       "</div>"
      ],
      "text/plain": [
       "   feature1  feature1b  feature2  feature3  feature4  feature5  feature6\n",
       "a         1          0         5       NaN       9.0         0       NaN\n",
       "b         2          1         4       8.0      10.0         1       NaN\n",
       "c         3          2         6       7.0       NaN        -1       NaN"
      ]
     },
     "execution_count": 127,
     "metadata": {},
     "output_type": "execute_result"
    }
   ],
   "source": [
    "df.insert(1, \"feature1b\", [0,1,2])\n",
    "df"
   ]
  },
  {
   "cell_type": "markdown",
   "metadata": {
    "id": "jNLnwqIqir_7"
   },
   "source": [
    "### Assigning new columns\n",
    "create a new DataFrame with new columns"
   ]
  },
  {
   "cell_type": "code",
   "execution_count": 128,
   "metadata": {
    "colab": {
     "base_uri": "https://localhost:8080/",
     "height": 143
    },
    "id": "rb_NIihO43EZ",
    "outputId": "463e9595-eeb4-4c97-a54d-4d1b5509ee63"
   },
   "outputs": [
    {
     "data": {
      "text/html": [
       "<div>\n",
       "<style scoped>\n",
       "    .dataframe tbody tr th:only-of-type {\n",
       "        vertical-align: middle;\n",
       "    }\n",
       "\n",
       "    .dataframe tbody tr th {\n",
       "        vertical-align: top;\n",
       "    }\n",
       "\n",
       "    .dataframe thead th {\n",
       "        text-align: right;\n",
       "    }\n",
       "</style>\n",
       "<table border=\"1\" class=\"dataframe\">\n",
       "  <thead>\n",
       "    <tr style=\"text-align: right;\">\n",
       "      <th></th>\n",
       "      <th>feature1</th>\n",
       "      <th>feature1b</th>\n",
       "      <th>feature2</th>\n",
       "      <th>feature3</th>\n",
       "      <th>feature4</th>\n",
       "      <th>feature5</th>\n",
       "      <th>feature6</th>\n",
       "    </tr>\n",
       "  </thead>\n",
       "  <tbody>\n",
       "    <tr>\n",
       "      <th>a</th>\n",
       "      <td>1</td>\n",
       "      <td>0</td>\n",
       "      <td>5</td>\n",
       "      <td>NaN</td>\n",
       "      <td>9.0</td>\n",
       "      <td>0</td>\n",
       "      <td>NaN</td>\n",
       "    </tr>\n",
       "    <tr>\n",
       "      <th>b</th>\n",
       "      <td>2</td>\n",
       "      <td>1</td>\n",
       "      <td>4</td>\n",
       "      <td>8.0</td>\n",
       "      <td>10.0</td>\n",
       "      <td>1</td>\n",
       "      <td>NaN</td>\n",
       "    </tr>\n",
       "    <tr>\n",
       "      <th>c</th>\n",
       "      <td>3</td>\n",
       "      <td>2</td>\n",
       "      <td>6</td>\n",
       "      <td>7.0</td>\n",
       "      <td>NaN</td>\n",
       "      <td>-1</td>\n",
       "      <td>NaN</td>\n",
       "    </tr>\n",
       "  </tbody>\n",
       "</table>\n",
       "</div>"
      ],
      "text/plain": [
       "   feature1  feature1b  feature2  feature3  feature4  feature5  feature6\n",
       "a         1          0         5       NaN       9.0         0       NaN\n",
       "b         2          1         4       8.0      10.0         1       NaN\n",
       "c         3          2         6       7.0       NaN        -1       NaN"
      ]
     },
     "execution_count": 128,
     "metadata": {},
     "output_type": "execute_result"
    }
   ],
   "source": [
    "df"
   ]
  },
  {
   "cell_type": "code",
   "execution_count": 129,
   "metadata": {
    "colab": {
     "base_uri": "https://localhost:8080/",
     "height": 143
    },
    "id": "iMB8_kAFir_8",
    "outputId": "12fc74ed-1826-4a10-debb-c0c012a71564"
   },
   "outputs": [
    {
     "data": {
      "text/html": [
       "<div>\n",
       "<style scoped>\n",
       "    .dataframe tbody tr th:only-of-type {\n",
       "        vertical-align: middle;\n",
       "    }\n",
       "\n",
       "    .dataframe tbody tr th {\n",
       "        vertical-align: top;\n",
       "    }\n",
       "\n",
       "    .dataframe thead th {\n",
       "        text-align: right;\n",
       "    }\n",
       "</style>\n",
       "<table border=\"1\" class=\"dataframe\">\n",
       "  <thead>\n",
       "    <tr style=\"text-align: right;\">\n",
       "      <th></th>\n",
       "      <th>feature1</th>\n",
       "      <th>feature1b</th>\n",
       "      <th>feature2</th>\n",
       "      <th>feature3</th>\n",
       "      <th>feature4</th>\n",
       "      <th>feature5</th>\n",
       "      <th>feature6</th>\n",
       "      <th>feature0</th>\n",
       "    </tr>\n",
       "  </thead>\n",
       "  <tbody>\n",
       "    <tr>\n",
       "      <th>a</th>\n",
       "      <td>1</td>\n",
       "      <td>0</td>\n",
       "      <td>5</td>\n",
       "      <td>NaN</td>\n",
       "      <td>9.0</td>\n",
       "      <td>0</td>\n",
       "      <td>NaN</td>\n",
       "      <td>5</td>\n",
       "    </tr>\n",
       "    <tr>\n",
       "      <th>b</th>\n",
       "      <td>2</td>\n",
       "      <td>1</td>\n",
       "      <td>4</td>\n",
       "      <td>8.0</td>\n",
       "      <td>10.0</td>\n",
       "      <td>1</td>\n",
       "      <td>NaN</td>\n",
       "      <td>8</td>\n",
       "    </tr>\n",
       "    <tr>\n",
       "      <th>c</th>\n",
       "      <td>3</td>\n",
       "      <td>2</td>\n",
       "      <td>6</td>\n",
       "      <td>7.0</td>\n",
       "      <td>NaN</td>\n",
       "      <td>-1</td>\n",
       "      <td>NaN</td>\n",
       "      <td>18</td>\n",
       "    </tr>\n",
       "  </tbody>\n",
       "</table>\n",
       "</div>"
      ],
      "text/plain": [
       "   feature1  feature1b  feature2  feature3  feature4  feature5  feature6  \\\n",
       "a         1          0         5       NaN       9.0         0       NaN   \n",
       "b         2          1         4       8.0      10.0         1       NaN   \n",
       "c         3          2         6       7.0       NaN        -1       NaN   \n",
       "\n",
       "   feature0  \n",
       "a         5  \n",
       "b         8  \n",
       "c        18  "
      ]
     },
     "execution_count": 129,
     "metadata": {},
     "output_type": "execute_result"
    }
   ],
   "source": [
    "df10 = df.assign(feature0 = df[\"feature1\"] * df[\"feature2\"] )\n",
    "df10.assign(feature1 = df10[\"feature1\"] +1)\n",
    "df10"
   ]
  },
  {
   "cell_type": "markdown",
   "metadata": {
    "id": "MIA3Rfbiir_9"
   },
   "source": [
    "### Evaluating an expression"
   ]
  },
  {
   "cell_type": "code",
   "execution_count": 130,
   "metadata": {
    "colab": {
     "base_uri": "https://localhost:8080/"
    },
    "id": "QV8VKKbCir_9",
    "outputId": "4869b0f9-adec-4812-bc99-0a4dd78ca49a"
   },
   "outputs": [
    {
     "data": {
      "text/plain": [
       "a    26\n",
       "b    18\n",
       "c    39\n",
       "dtype: int64"
      ]
     },
     "execution_count": 130,
     "metadata": {},
     "output_type": "execute_result"
    }
   ],
   "source": [
    "df = df[['feature1','feature2','feature3','feature4']]\n",
    "df.eval(\"feature1 + feature2 ** 2\")"
   ]
  },
  {
   "cell_type": "code",
   "execution_count": 131,
   "metadata": {
    "colab": {
     "base_uri": "https://localhost:8080/",
     "height": 143
    },
    "id": "1oXsIGXU6eeU",
    "outputId": "d555bcaf-8435-4b82-cad0-13c6f6f6dcd9"
   },
   "outputs": [
    {
     "data": {
      "text/html": [
       "<div>\n",
       "<style scoped>\n",
       "    .dataframe tbody tr th:only-of-type {\n",
       "        vertical-align: middle;\n",
       "    }\n",
       "\n",
       "    .dataframe tbody tr th {\n",
       "        vertical-align: top;\n",
       "    }\n",
       "\n",
       "    .dataframe thead th {\n",
       "        text-align: right;\n",
       "    }\n",
       "</style>\n",
       "<table border=\"1\" class=\"dataframe\">\n",
       "  <thead>\n",
       "    <tr style=\"text-align: right;\">\n",
       "      <th></th>\n",
       "      <th>feature1</th>\n",
       "      <th>feature2</th>\n",
       "      <th>feature3</th>\n",
       "      <th>feature4</th>\n",
       "    </tr>\n",
       "  </thead>\n",
       "  <tbody>\n",
       "    <tr>\n",
       "      <th>a</th>\n",
       "      <td>1</td>\n",
       "      <td>5</td>\n",
       "      <td>NaN</td>\n",
       "      <td>9.0</td>\n",
       "    </tr>\n",
       "    <tr>\n",
       "      <th>b</th>\n",
       "      <td>2</td>\n",
       "      <td>4</td>\n",
       "      <td>8.0</td>\n",
       "      <td>10.0</td>\n",
       "    </tr>\n",
       "    <tr>\n",
       "      <th>c</th>\n",
       "      <td>3</td>\n",
       "      <td>6</td>\n",
       "      <td>7.0</td>\n",
       "      <td>NaN</td>\n",
       "    </tr>\n",
       "  </tbody>\n",
       "</table>\n",
       "</div>"
      ],
      "text/plain": [
       "   feature1  feature2  feature3  feature4\n",
       "a         1         5       NaN       9.0\n",
       "b         2         4       8.0      10.0\n",
       "c         3         6       7.0       NaN"
      ]
     },
     "execution_count": 131,
     "metadata": {},
     "output_type": "execute_result"
    }
   ],
   "source": [
    "df"
   ]
  },
  {
   "cell_type": "markdown",
   "metadata": {
    "id": "e4Sh1eUPir_9"
   },
   "source": [
    "use inplace=True to modify the original DataFrame\n",
    "\n",
    "---\n",
    "\n",
    "\n",
    "\n"
   ]
  },
  {
   "cell_type": "code",
   "execution_count": 132,
   "metadata": {
    "colab": {
     "base_uri": "https://localhost:8080/",
     "height": 143
    },
    "id": "QIBRSoFeir_9",
    "outputId": "3c4f6f8c-6e93-44a1-e256-acb10c3598ff"
   },
   "outputs": [
    {
     "data": {
      "text/html": [
       "<div>\n",
       "<style scoped>\n",
       "    .dataframe tbody tr th:only-of-type {\n",
       "        vertical-align: middle;\n",
       "    }\n",
       "\n",
       "    .dataframe tbody tr th {\n",
       "        vertical-align: top;\n",
       "    }\n",
       "\n",
       "    .dataframe thead th {\n",
       "        text-align: right;\n",
       "    }\n",
       "</style>\n",
       "<table border=\"1\" class=\"dataframe\">\n",
       "  <thead>\n",
       "    <tr style=\"text-align: right;\">\n",
       "      <th></th>\n",
       "      <th>feature1</th>\n",
       "      <th>feature2</th>\n",
       "      <th>feature3</th>\n",
       "      <th>feature4</th>\n",
       "    </tr>\n",
       "  </thead>\n",
       "  <tbody>\n",
       "    <tr>\n",
       "      <th>a</th>\n",
       "      <td>1</td>\n",
       "      <td>5</td>\n",
       "      <td>26</td>\n",
       "      <td>9.0</td>\n",
       "    </tr>\n",
       "    <tr>\n",
       "      <th>b</th>\n",
       "      <td>2</td>\n",
       "      <td>4</td>\n",
       "      <td>18</td>\n",
       "      <td>10.0</td>\n",
       "    </tr>\n",
       "    <tr>\n",
       "      <th>c</th>\n",
       "      <td>3</td>\n",
       "      <td>6</td>\n",
       "      <td>39</td>\n",
       "      <td>NaN</td>\n",
       "    </tr>\n",
       "  </tbody>\n",
       "</table>\n",
       "</div>"
      ],
      "text/plain": [
       "   feature1  feature2  feature3  feature4\n",
       "a         1         5        26       9.0\n",
       "b         2         4        18      10.0\n",
       "c         3         6        39       NaN"
      ]
     },
     "execution_count": 132,
     "metadata": {},
     "output_type": "execute_result"
    }
   ],
   "source": [
    "df.eval(\"feature3 = feature1 + feature2 ** 2\", inplace=True)\n",
    "df"
   ]
  },
  {
   "cell_type": "markdown",
   "metadata": {
    "id": "BoXEcP7Lir_9"
   },
   "source": [
    "use a local or global variable in an expression by prefixing it with @"
   ]
  },
  {
   "cell_type": "code",
   "execution_count": 133,
   "metadata": {
    "colab": {
     "base_uri": "https://localhost:8080/",
     "height": 143
    },
    "id": "VdECya8Oir_9",
    "outputId": "f2839e10-6a54-44b7-8ed8-c6ffce9afffa"
   },
   "outputs": [
    {
     "data": {
      "text/html": [
       "<div>\n",
       "<style scoped>\n",
       "    .dataframe tbody tr th:only-of-type {\n",
       "        vertical-align: middle;\n",
       "    }\n",
       "\n",
       "    .dataframe tbody tr th {\n",
       "        vertical-align: top;\n",
       "    }\n",
       "\n",
       "    .dataframe thead th {\n",
       "        text-align: right;\n",
       "    }\n",
       "</style>\n",
       "<table border=\"1\" class=\"dataframe\">\n",
       "  <thead>\n",
       "    <tr style=\"text-align: right;\">\n",
       "      <th></th>\n",
       "      <th>feature1</th>\n",
       "      <th>feature2</th>\n",
       "      <th>feature3</th>\n",
       "      <th>feature4</th>\n",
       "    </tr>\n",
       "  </thead>\n",
       "  <tbody>\n",
       "    <tr>\n",
       "      <th>a</th>\n",
       "      <td>1</td>\n",
       "      <td>5</td>\n",
       "      <td>False</td>\n",
       "      <td>9.0</td>\n",
       "    </tr>\n",
       "    <tr>\n",
       "      <th>b</th>\n",
       "      <td>2</td>\n",
       "      <td>4</td>\n",
       "      <td>False</td>\n",
       "      <td>10.0</td>\n",
       "    </tr>\n",
       "    <tr>\n",
       "      <th>c</th>\n",
       "      <td>3</td>\n",
       "      <td>6</td>\n",
       "      <td>True</td>\n",
       "      <td>NaN</td>\n",
       "    </tr>\n",
       "  </tbody>\n",
       "</table>\n",
       "</div>"
      ],
      "text/plain": [
       "   feature1  feature2  feature3  feature4\n",
       "a         1         5     False       9.0\n",
       "b         2         4     False      10.0\n",
       "c         3         6      True       NaN"
      ]
     },
     "execution_count": 133,
     "metadata": {},
     "output_type": "execute_result"
    }
   ],
   "source": [
    "threshold = 30\n",
    "df.eval(\"feature3 = feature1 + feature2 ** 2 > @threshold\", inplace=True)\n",
    "df"
   ]
  },
  {
   "cell_type": "markdown",
   "metadata": {
    "id": "jLS66Zgtir_9"
   },
   "source": [
    "### Querying a DataFrame\n",
    "The query method lets you filter a DataFrame"
   ]
  },
  {
   "cell_type": "code",
   "execution_count": 134,
   "metadata": {
    "colab": {
     "base_uri": "https://localhost:8080/",
     "height": 81
    },
    "id": "n5kjxMoIir_9",
    "outputId": "2fe7d08d-6caf-48e3-9357-36bc0897d009"
   },
   "outputs": [
    {
     "data": {
      "text/html": [
       "<div>\n",
       "<style scoped>\n",
       "    .dataframe tbody tr th:only-of-type {\n",
       "        vertical-align: middle;\n",
       "    }\n",
       "\n",
       "    .dataframe tbody tr th {\n",
       "        vertical-align: top;\n",
       "    }\n",
       "\n",
       "    .dataframe thead th {\n",
       "        text-align: right;\n",
       "    }\n",
       "</style>\n",
       "<table border=\"1\" class=\"dataframe\">\n",
       "  <thead>\n",
       "    <tr style=\"text-align: right;\">\n",
       "      <th></th>\n",
       "      <th>feature1</th>\n",
       "      <th>feature2</th>\n",
       "      <th>feature3</th>\n",
       "      <th>feature4</th>\n",
       "    </tr>\n",
       "  </thead>\n",
       "  <tbody>\n",
       "    <tr>\n",
       "      <th>c</th>\n",
       "      <td>3</td>\n",
       "      <td>6</td>\n",
       "      <td>True</td>\n",
       "      <td>NaN</td>\n",
       "    </tr>\n",
       "  </tbody>\n",
       "</table>\n",
       "</div>"
      ],
      "text/plain": [
       "   feature1  feature2  feature3  feature4\n",
       "c         3         6      True       NaN"
      ]
     },
     "execution_count": 134,
     "metadata": {},
     "output_type": "execute_result"
    }
   ],
   "source": [
    "df.query(\"feature1 > 2 and feature2 == 6\")"
   ]
  },
  {
   "cell_type": "markdown",
   "metadata": {
    "id": "eY0jVIxLir_-"
   },
   "source": [
    "### Sorting a DataFrame"
   ]
  },
  {
   "cell_type": "code",
   "execution_count": 135,
   "metadata": {
    "colab": {
     "base_uri": "https://localhost:8080/",
     "height": 143
    },
    "id": "wIXrZvooHHXn",
    "outputId": "b311373b-a3dd-4b5f-c457-d984c21f3022"
   },
   "outputs": [
    {
     "data": {
      "text/html": [
       "<div>\n",
       "<style scoped>\n",
       "    .dataframe tbody tr th:only-of-type {\n",
       "        vertical-align: middle;\n",
       "    }\n",
       "\n",
       "    .dataframe tbody tr th {\n",
       "        vertical-align: top;\n",
       "    }\n",
       "\n",
       "    .dataframe thead th {\n",
       "        text-align: right;\n",
       "    }\n",
       "</style>\n",
       "<table border=\"1\" class=\"dataframe\">\n",
       "  <thead>\n",
       "    <tr style=\"text-align: right;\">\n",
       "      <th></th>\n",
       "      <th>feature1</th>\n",
       "      <th>feature2</th>\n",
       "      <th>feature3</th>\n",
       "      <th>feature4</th>\n",
       "    </tr>\n",
       "  </thead>\n",
       "  <tbody>\n",
       "    <tr>\n",
       "      <th>a</th>\n",
       "      <td>1</td>\n",
       "      <td>5</td>\n",
       "      <td>False</td>\n",
       "      <td>9.0</td>\n",
       "    </tr>\n",
       "    <tr>\n",
       "      <th>b</th>\n",
       "      <td>2</td>\n",
       "      <td>4</td>\n",
       "      <td>False</td>\n",
       "      <td>10.0</td>\n",
       "    </tr>\n",
       "    <tr>\n",
       "      <th>c</th>\n",
       "      <td>3</td>\n",
       "      <td>6</td>\n",
       "      <td>True</td>\n",
       "      <td>NaN</td>\n",
       "    </tr>\n",
       "  </tbody>\n",
       "</table>\n",
       "</div>"
      ],
      "text/plain": [
       "   feature1  feature2  feature3  feature4\n",
       "a         1         5     False       9.0\n",
       "b         2         4     False      10.0\n",
       "c         3         6      True       NaN"
      ]
     },
     "execution_count": 135,
     "metadata": {},
     "output_type": "execute_result"
    }
   ],
   "source": [
    "df"
   ]
  },
  {
   "cell_type": "code",
   "execution_count": 136,
   "metadata": {
    "colab": {
     "base_uri": "https://localhost:8080/",
     "height": 143
    },
    "id": "xvky7GLSir_-",
    "outputId": "f50e9f68-4984-4b69-e35f-3c0ef0d39df3"
   },
   "outputs": [
    {
     "data": {
      "text/html": [
       "<div>\n",
       "<style scoped>\n",
       "    .dataframe tbody tr th:only-of-type {\n",
       "        vertical-align: middle;\n",
       "    }\n",
       "\n",
       "    .dataframe tbody tr th {\n",
       "        vertical-align: top;\n",
       "    }\n",
       "\n",
       "    .dataframe thead th {\n",
       "        text-align: right;\n",
       "    }\n",
       "</style>\n",
       "<table border=\"1\" class=\"dataframe\">\n",
       "  <thead>\n",
       "    <tr style=\"text-align: right;\">\n",
       "      <th></th>\n",
       "      <th>feature1</th>\n",
       "      <th>feature2</th>\n",
       "      <th>feature3</th>\n",
       "      <th>feature4</th>\n",
       "    </tr>\n",
       "  </thead>\n",
       "  <tbody>\n",
       "    <tr>\n",
       "      <th>c</th>\n",
       "      <td>3</td>\n",
       "      <td>6</td>\n",
       "      <td>True</td>\n",
       "      <td>NaN</td>\n",
       "    </tr>\n",
       "    <tr>\n",
       "      <th>b</th>\n",
       "      <td>2</td>\n",
       "      <td>4</td>\n",
       "      <td>False</td>\n",
       "      <td>10.0</td>\n",
       "    </tr>\n",
       "    <tr>\n",
       "      <th>a</th>\n",
       "      <td>1</td>\n",
       "      <td>5</td>\n",
       "      <td>False</td>\n",
       "      <td>9.0</td>\n",
       "    </tr>\n",
       "  </tbody>\n",
       "</table>\n",
       "</div>"
      ],
      "text/plain": [
       "   feature1  feature2  feature3  feature4\n",
       "c         3         6      True       NaN\n",
       "b         2         4     False      10.0\n",
       "a         1         5     False       9.0"
      ]
     },
     "execution_count": 136,
     "metadata": {},
     "output_type": "execute_result"
    }
   ],
   "source": [
    "df.sort_index(ascending=False)"
   ]
  },
  {
   "cell_type": "code",
   "execution_count": 137,
   "metadata": {
    "colab": {
     "base_uri": "https://localhost:8080/",
     "height": 143
    },
    "id": "UoRjsauqir_-",
    "outputId": "eabc9ad4-c1aa-4f99-eb9d-49166cdd6e06"
   },
   "outputs": [
    {
     "data": {
      "text/html": [
       "<div>\n",
       "<style scoped>\n",
       "    .dataframe tbody tr th:only-of-type {\n",
       "        vertical-align: middle;\n",
       "    }\n",
       "\n",
       "    .dataframe tbody tr th {\n",
       "        vertical-align: top;\n",
       "    }\n",
       "\n",
       "    .dataframe thead th {\n",
       "        text-align: right;\n",
       "    }\n",
       "</style>\n",
       "<table border=\"1\" class=\"dataframe\">\n",
       "  <thead>\n",
       "    <tr style=\"text-align: right;\">\n",
       "      <th></th>\n",
       "      <th>feature1</th>\n",
       "      <th>feature2</th>\n",
       "      <th>feature3</th>\n",
       "      <th>feature4</th>\n",
       "    </tr>\n",
       "  </thead>\n",
       "  <tbody>\n",
       "    <tr>\n",
       "      <th>a</th>\n",
       "      <td>1</td>\n",
       "      <td>5</td>\n",
       "      <td>False</td>\n",
       "      <td>9.0</td>\n",
       "    </tr>\n",
       "    <tr>\n",
       "      <th>b</th>\n",
       "      <td>2</td>\n",
       "      <td>4</td>\n",
       "      <td>False</td>\n",
       "      <td>10.0</td>\n",
       "    </tr>\n",
       "    <tr>\n",
       "      <th>c</th>\n",
       "      <td>3</td>\n",
       "      <td>6</td>\n",
       "      <td>True</td>\n",
       "      <td>NaN</td>\n",
       "    </tr>\n",
       "  </tbody>\n",
       "</table>\n",
       "</div>"
      ],
      "text/plain": [
       "   feature1  feature2  feature3  feature4\n",
       "a         1         5     False       9.0\n",
       "b         2         4     False      10.0\n",
       "c         3         6      True       NaN"
      ]
     },
     "execution_count": 137,
     "metadata": {},
     "output_type": "execute_result"
    }
   ],
   "source": [
    "df.sort_index(axis=1, inplace=True)\n",
    "df"
   ]
  },
  {
   "cell_type": "code",
   "execution_count": 138,
   "metadata": {
    "colab": {
     "base_uri": "https://localhost:8080/",
     "height": 230
    },
    "id": "1vQ_YCwQir__",
    "outputId": "4d097201-c2ac-4066-ed45-4ba23aba6fdd"
   },
   "outputs": [
    {
     "name": "stderr",
     "output_type": "stream",
     "text": [
      "/Users/naftali/opt/anaconda3/lib/python3.7/site-packages/ipykernel_launcher.py:1: SettingWithCopyWarning: \n",
      "A value is trying to be set on a copy of a slice from a DataFrame\n",
      "\n",
      "See the caveats in the documentation: http://pandas.pydata.org/pandas-docs/stable/user_guide/indexing.html#returning-a-view-versus-a-copy\n",
      "  \"\"\"Entry point for launching an IPython kernel.\n"
     ]
    },
    {
     "data": {
      "text/html": [
       "<div>\n",
       "<style scoped>\n",
       "    .dataframe tbody tr th:only-of-type {\n",
       "        vertical-align: middle;\n",
       "    }\n",
       "\n",
       "    .dataframe tbody tr th {\n",
       "        vertical-align: top;\n",
       "    }\n",
       "\n",
       "    .dataframe thead th {\n",
       "        text-align: right;\n",
       "    }\n",
       "</style>\n",
       "<table border=\"1\" class=\"dataframe\">\n",
       "  <thead>\n",
       "    <tr style=\"text-align: right;\">\n",
       "      <th></th>\n",
       "      <th>feature1</th>\n",
       "      <th>feature2</th>\n",
       "      <th>feature3</th>\n",
       "      <th>feature4</th>\n",
       "    </tr>\n",
       "  </thead>\n",
       "  <tbody>\n",
       "    <tr>\n",
       "      <th>b</th>\n",
       "      <td>2</td>\n",
       "      <td>4</td>\n",
       "      <td>False</td>\n",
       "      <td>10.0</td>\n",
       "    </tr>\n",
       "    <tr>\n",
       "      <th>a</th>\n",
       "      <td>1</td>\n",
       "      <td>5</td>\n",
       "      <td>False</td>\n",
       "      <td>9.0</td>\n",
       "    </tr>\n",
       "    <tr>\n",
       "      <th>c</th>\n",
       "      <td>3</td>\n",
       "      <td>6</td>\n",
       "      <td>True</td>\n",
       "      <td>NaN</td>\n",
       "    </tr>\n",
       "  </tbody>\n",
       "</table>\n",
       "</div>"
      ],
      "text/plain": [
       "   feature1  feature2  feature3  feature4\n",
       "b         2         4     False      10.0\n",
       "a         1         5     False       9.0\n",
       "c         3         6      True       NaN"
      ]
     },
     "execution_count": 138,
     "metadata": {},
     "output_type": "execute_result"
    }
   ],
   "source": [
    "df.sort_values(by=\"feature2\", inplace=True)\n",
    "df"
   ]
  },
  {
   "cell_type": "markdown",
   "metadata": {
    "id": "x872M183isAA"
   },
   "source": [
    "### Operations on DataFrame"
   ]
  },
  {
   "cell_type": "code",
   "execution_count": 139,
   "metadata": {
    "colab": {
     "base_uri": "https://localhost:8080/",
     "height": 143
    },
    "id": "NTbgpafTisAA",
    "outputId": "8acf0998-28ec-4638-8774-8809438abf01"
   },
   "outputs": [
    {
     "data": {
      "text/html": [
       "<div>\n",
       "<style scoped>\n",
       "    .dataframe tbody tr th:only-of-type {\n",
       "        vertical-align: middle;\n",
       "    }\n",
       "\n",
       "    .dataframe tbody tr th {\n",
       "        vertical-align: top;\n",
       "    }\n",
       "\n",
       "    .dataframe thead th {\n",
       "        text-align: right;\n",
       "    }\n",
       "</style>\n",
       "<table border=\"1\" class=\"dataframe\">\n",
       "  <thead>\n",
       "    <tr style=\"text-align: right;\">\n",
       "      <th></th>\n",
       "      <th>q</th>\n",
       "      <th>w</th>\n",
       "      <th>e</th>\n",
       "    </tr>\n",
       "  </thead>\n",
       "  <tbody>\n",
       "    <tr>\n",
       "      <th>a</th>\n",
       "      <td>1</td>\n",
       "      <td>2</td>\n",
       "      <td>3</td>\n",
       "    </tr>\n",
       "    <tr>\n",
       "      <th>b</th>\n",
       "      <td>4</td>\n",
       "      <td>5</td>\n",
       "      <td>6</td>\n",
       "    </tr>\n",
       "    <tr>\n",
       "      <th>c</th>\n",
       "      <td>7</td>\n",
       "      <td>8</td>\n",
       "      <td>9</td>\n",
       "    </tr>\n",
       "  </tbody>\n",
       "</table>\n",
       "</div>"
      ],
      "text/plain": [
       "   q  w  e\n",
       "a  1  2  3\n",
       "b  4  5  6\n",
       "c  7  8  9"
      ]
     },
     "execution_count": 139,
     "metadata": {},
     "output_type": "execute_result"
    }
   ],
   "source": [
    "a = np.array([[1,2,3],[4,5,6],[7,8,9]])\n",
    "df = pd.DataFrame(a, columns=[\"q\", \"w\", \"e\"], index=[\"a\",\"b\",\"c\"])\n",
    "df"
   ]
  },
  {
   "cell_type": "code",
   "execution_count": 140,
   "metadata": {
    "colab": {
     "base_uri": "https://localhost:8080/",
     "height": 143
    },
    "id": "azU7vzppisAA",
    "outputId": "a8efa5d8-7a57-44d9-ba61-d5786f0266c0"
   },
   "outputs": [
    {
     "data": {
      "text/html": [
       "<div>\n",
       "<style scoped>\n",
       "    .dataframe tbody tr th:only-of-type {\n",
       "        vertical-align: middle;\n",
       "    }\n",
       "\n",
       "    .dataframe tbody tr th {\n",
       "        vertical-align: top;\n",
       "    }\n",
       "\n",
       "    .dataframe thead th {\n",
       "        text-align: right;\n",
       "    }\n",
       "</style>\n",
       "<table border=\"1\" class=\"dataframe\">\n",
       "  <thead>\n",
       "    <tr style=\"text-align: right;\">\n",
       "      <th></th>\n",
       "      <th>q</th>\n",
       "      <th>w</th>\n",
       "      <th>e</th>\n",
       "    </tr>\n",
       "  </thead>\n",
       "  <tbody>\n",
       "    <tr>\n",
       "      <th>a</th>\n",
       "      <td>1.000000</td>\n",
       "      <td>1.414214</td>\n",
       "      <td>1.732051</td>\n",
       "    </tr>\n",
       "    <tr>\n",
       "      <th>b</th>\n",
       "      <td>2.000000</td>\n",
       "      <td>2.236068</td>\n",
       "      <td>2.449490</td>\n",
       "    </tr>\n",
       "    <tr>\n",
       "      <th>c</th>\n",
       "      <td>2.645751</td>\n",
       "      <td>2.828427</td>\n",
       "      <td>3.000000</td>\n",
       "    </tr>\n",
       "  </tbody>\n",
       "</table>\n",
       "</div>"
      ],
      "text/plain": [
       "          q         w         e\n",
       "a  1.000000  1.414214  1.732051\n",
       "b  2.000000  2.236068  2.449490\n",
       "c  2.645751  2.828427  3.000000"
      ]
     },
     "execution_count": 140,
     "metadata": {},
     "output_type": "execute_result"
    }
   ],
   "source": [
    "np.sqrt(df)"
   ]
  },
  {
   "cell_type": "code",
   "execution_count": 141,
   "metadata": {
    "colab": {
     "base_uri": "https://localhost:8080/",
     "height": 143
    },
    "id": "bIA9LdwjisAA",
    "outputId": "1791a68b-2473-4b48-dd9c-7f047de7f2c0"
   },
   "outputs": [
    {
     "data": {
      "text/html": [
       "<div>\n",
       "<style scoped>\n",
       "    .dataframe tbody tr th:only-of-type {\n",
       "        vertical-align: middle;\n",
       "    }\n",
       "\n",
       "    .dataframe tbody tr th {\n",
       "        vertical-align: top;\n",
       "    }\n",
       "\n",
       "    .dataframe thead th {\n",
       "        text-align: right;\n",
       "    }\n",
       "</style>\n",
       "<table border=\"1\" class=\"dataframe\">\n",
       "  <thead>\n",
       "    <tr style=\"text-align: right;\">\n",
       "      <th></th>\n",
       "      <th>q</th>\n",
       "      <th>w</th>\n",
       "      <th>e</th>\n",
       "    </tr>\n",
       "  </thead>\n",
       "  <tbody>\n",
       "    <tr>\n",
       "      <th>a</th>\n",
       "      <td>2</td>\n",
       "      <td>3</td>\n",
       "      <td>4</td>\n",
       "    </tr>\n",
       "    <tr>\n",
       "      <th>b</th>\n",
       "      <td>5</td>\n",
       "      <td>6</td>\n",
       "      <td>7</td>\n",
       "    </tr>\n",
       "    <tr>\n",
       "      <th>c</th>\n",
       "      <td>8</td>\n",
       "      <td>9</td>\n",
       "      <td>10</td>\n",
       "    </tr>\n",
       "  </tbody>\n",
       "</table>\n",
       "</div>"
      ],
      "text/plain": [
       "   q  w   e\n",
       "a  2  3   4\n",
       "b  5  6   7\n",
       "c  8  9  10"
      ]
     },
     "execution_count": 141,
     "metadata": {},
     "output_type": "execute_result"
    }
   ],
   "source": [
    "df + 1 #broadcasting"
   ]
  },
  {
   "cell_type": "code",
   "execution_count": 142,
   "metadata": {
    "colab": {
     "base_uri": "https://localhost:8080/",
     "height": 143
    },
    "id": "-LUA6s_NisAA",
    "outputId": "adacb3a2-db1a-4f30-c0ea-61b3f82e7dc4"
   },
   "outputs": [
    {
     "data": {
      "text/html": [
       "<div>\n",
       "<style scoped>\n",
       "    .dataframe tbody tr th:only-of-type {\n",
       "        vertical-align: middle;\n",
       "    }\n",
       "\n",
       "    .dataframe tbody tr th {\n",
       "        vertical-align: top;\n",
       "    }\n",
       "\n",
       "    .dataframe thead th {\n",
       "        text-align: right;\n",
       "    }\n",
       "</style>\n",
       "<table border=\"1\" class=\"dataframe\">\n",
       "  <thead>\n",
       "    <tr style=\"text-align: right;\">\n",
       "      <th></th>\n",
       "      <th>q</th>\n",
       "      <th>w</th>\n",
       "      <th>e</th>\n",
       "    </tr>\n",
       "  </thead>\n",
       "  <tbody>\n",
       "    <tr>\n",
       "      <th>a</th>\n",
       "      <td>False</td>\n",
       "      <td>False</td>\n",
       "      <td>False</td>\n",
       "    </tr>\n",
       "    <tr>\n",
       "      <th>b</th>\n",
       "      <td>False</td>\n",
       "      <td>True</td>\n",
       "      <td>True</td>\n",
       "    </tr>\n",
       "    <tr>\n",
       "      <th>c</th>\n",
       "      <td>True</td>\n",
       "      <td>True</td>\n",
       "      <td>True</td>\n",
       "    </tr>\n",
       "  </tbody>\n",
       "</table>\n",
       "</div>"
      ],
      "text/plain": [
       "       q      w      e\n",
       "a  False  False  False\n",
       "b  False   True   True\n",
       "c   True   True   True"
      ]
     },
     "execution_count": 142,
     "metadata": {},
     "output_type": "execute_result"
    }
   ],
   "source": [
    "df >= 5"
   ]
  },
  {
   "cell_type": "code",
   "execution_count": 143,
   "metadata": {
    "colab": {
     "base_uri": "https://localhost:8080/"
    },
    "id": "kY9c-NbPisAB",
    "outputId": "b64ebc03-dc8c-47a1-99ea-98e1c33452eb"
   },
   "outputs": [
    {
     "data": {
      "text/plain": [
       "(q    4.0\n",
       " w    5.0\n",
       " e    6.0\n",
       " dtype: float64,\n",
       " q    3.0\n",
       " w    3.0\n",
       " e    3.0\n",
       " dtype: float64,\n",
       " q    7\n",
       " w    8\n",
       " e    9\n",
       " dtype: int64,\n",
       " q    12\n",
       " w    15\n",
       " e    18\n",
       " dtype: int64)"
      ]
     },
     "execution_count": 143,
     "metadata": {},
     "output_type": "execute_result"
    }
   ],
   "source": [
    "df.mean(), df.std(), df.max(), df.sum()"
   ]
  },
  {
   "cell_type": "markdown",
   "metadata": {
    "id": "c4AR-pP1isAB"
   },
   "source": [
    "The All method checks whether all values are True or not"
   ]
  },
  {
   "cell_type": "code",
   "execution_count": 144,
   "metadata": {
    "colab": {
     "base_uri": "https://localhost:8080/",
     "height": 143
    },
    "id": "FRgKyNYtIJhV",
    "outputId": "075c6399-07f8-4cc9-cd43-ce1c13567040"
   },
   "outputs": [
    {
     "data": {
      "text/html": [
       "<div>\n",
       "<style scoped>\n",
       "    .dataframe tbody tr th:only-of-type {\n",
       "        vertical-align: middle;\n",
       "    }\n",
       "\n",
       "    .dataframe tbody tr th {\n",
       "        vertical-align: top;\n",
       "    }\n",
       "\n",
       "    .dataframe thead th {\n",
       "        text-align: right;\n",
       "    }\n",
       "</style>\n",
       "<table border=\"1\" class=\"dataframe\">\n",
       "  <thead>\n",
       "    <tr style=\"text-align: right;\">\n",
       "      <th></th>\n",
       "      <th>q</th>\n",
       "      <th>w</th>\n",
       "      <th>e</th>\n",
       "    </tr>\n",
       "  </thead>\n",
       "  <tbody>\n",
       "    <tr>\n",
       "      <th>a</th>\n",
       "      <td>1</td>\n",
       "      <td>2</td>\n",
       "      <td>3</td>\n",
       "    </tr>\n",
       "    <tr>\n",
       "      <th>b</th>\n",
       "      <td>4</td>\n",
       "      <td>5</td>\n",
       "      <td>6</td>\n",
       "    </tr>\n",
       "    <tr>\n",
       "      <th>c</th>\n",
       "      <td>7</td>\n",
       "      <td>8</td>\n",
       "      <td>9</td>\n",
       "    </tr>\n",
       "  </tbody>\n",
       "</table>\n",
       "</div>"
      ],
      "text/plain": [
       "   q  w  e\n",
       "a  1  2  3\n",
       "b  4  5  6\n",
       "c  7  8  9"
      ]
     },
     "execution_count": 144,
     "metadata": {},
     "output_type": "execute_result"
    }
   ],
   "source": [
    "df"
   ]
  },
  {
   "cell_type": "code",
   "execution_count": 145,
   "metadata": {
    "colab": {
     "base_uri": "https://localhost:8080/"
    },
    "id": "4HHR7lOqisAB",
    "outputId": "fff6eb0e-1cfc-4731-e0fa-467680a22b58"
   },
   "outputs": [
    {
     "data": {
      "text/plain": [
       "q    False\n",
       "w    False\n",
       "e     True\n",
       "dtype: bool"
      ]
     },
     "execution_count": 145,
     "metadata": {},
     "output_type": "execute_result"
    }
   ],
   "source": [
    "(df > 2).all()"
   ]
  },
  {
   "cell_type": "code",
   "execution_count": 146,
   "metadata": {
    "colab": {
     "base_uri": "https://localhost:8080/"
    },
    "id": "gh6YyGTCIYoa",
    "outputId": "c504f0bb-3ed5-467f-c83b-2b1ff5f6dd0b"
   },
   "outputs": [
    {
     "data": {
      "text/plain": [
       "q    False\n",
       "w    False\n",
       "e     True\n",
       "dtype: bool"
      ]
     },
     "execution_count": 146,
     "metadata": {},
     "output_type": "execute_result"
    }
   ],
   "source": [
    "(df > 2).all(axis = 0) #executed vertically (on each column)"
   ]
  },
  {
   "cell_type": "code",
   "execution_count": 147,
   "metadata": {
    "colab": {
     "base_uri": "https://localhost:8080/"
    },
    "id": "Me6uR2tvisAB",
    "outputId": "092be68b-1da2-43a4-bd48-c9dccf754396"
   },
   "outputs": [
    {
     "data": {
      "text/plain": [
       "a    False\n",
       "b     True\n",
       "c     True\n",
       "dtype: bool"
      ]
     },
     "execution_count": 147,
     "metadata": {},
     "output_type": "execute_result"
    }
   ],
   "source": [
    "(df > 2).all(axis = 1) #execute the horizontally (on each row)."
   ]
  },
  {
   "cell_type": "code",
   "execution_count": 148,
   "metadata": {
    "colab": {
     "base_uri": "https://localhost:8080/"
    },
    "id": "fDDgxnHrisAB",
    "outputId": "3a1788ae-3cba-4f19-9afe-803b4bb0b6b5"
   },
   "outputs": [
    {
     "data": {
      "text/plain": [
       "a    False\n",
       "b    False\n",
       "c     True\n",
       "dtype: bool"
      ]
     },
     "execution_count": 148,
     "metadata": {},
     "output_type": "execute_result"
    }
   ],
   "source": [
    "(df == 8).any(axis = 1)"
   ]
  },
  {
   "cell_type": "code",
   "execution_count": 149,
   "metadata": {
    "colab": {
     "base_uri": "https://localhost:8080/",
     "height": 143
    },
    "id": "e1CIAqjNisAC",
    "outputId": "bc269e0a-d999-468b-ae27-ed89e38b9e8e"
   },
   "outputs": [
    {
     "data": {
      "text/html": [
       "<div>\n",
       "<style scoped>\n",
       "    .dataframe tbody tr th:only-of-type {\n",
       "        vertical-align: middle;\n",
       "    }\n",
       "\n",
       "    .dataframe tbody tr th {\n",
       "        vertical-align: top;\n",
       "    }\n",
       "\n",
       "    .dataframe thead th {\n",
       "        text-align: right;\n",
       "    }\n",
       "</style>\n",
       "<table border=\"1\" class=\"dataframe\">\n",
       "  <thead>\n",
       "    <tr style=\"text-align: right;\">\n",
       "      <th></th>\n",
       "      <th>q</th>\n",
       "      <th>w</th>\n",
       "      <th>e</th>\n",
       "    </tr>\n",
       "  </thead>\n",
       "  <tbody>\n",
       "    <tr>\n",
       "      <th>a</th>\n",
       "      <td>-3.0</td>\n",
       "      <td>-3.0</td>\n",
       "      <td>-3.0</td>\n",
       "    </tr>\n",
       "    <tr>\n",
       "      <th>b</th>\n",
       "      <td>0.0</td>\n",
       "      <td>0.0</td>\n",
       "      <td>0.0</td>\n",
       "    </tr>\n",
       "    <tr>\n",
       "      <th>c</th>\n",
       "      <td>3.0</td>\n",
       "      <td>3.0</td>\n",
       "      <td>3.0</td>\n",
       "    </tr>\n",
       "  </tbody>\n",
       "</table>\n",
       "</div>"
      ],
      "text/plain": [
       "     q    w    e\n",
       "a -3.0 -3.0 -3.0\n",
       "b  0.0  0.0  0.0\n",
       "c  3.0  3.0  3.0"
      ]
     },
     "execution_count": 149,
     "metadata": {},
     "output_type": "execute_result"
    }
   ],
   "source": [
    "df - df.mean() "
   ]
  },
  {
   "cell_type": "code",
   "execution_count": 150,
   "metadata": {
    "colab": {
     "base_uri": "https://localhost:8080/",
     "height": 143
    },
    "id": "j-jf3y58isAC",
    "outputId": "26cf3528-c86a-41b8-e9b3-2c987a6cf2db",
    "scrolled": true
   },
   "outputs": [
    {
     "data": {
      "text/html": [
       "<div>\n",
       "<style scoped>\n",
       "    .dataframe tbody tr th:only-of-type {\n",
       "        vertical-align: middle;\n",
       "    }\n",
       "\n",
       "    .dataframe tbody tr th {\n",
       "        vertical-align: top;\n",
       "    }\n",
       "\n",
       "    .dataframe thead th {\n",
       "        text-align: right;\n",
       "    }\n",
       "</style>\n",
       "<table border=\"1\" class=\"dataframe\">\n",
       "  <thead>\n",
       "    <tr style=\"text-align: right;\">\n",
       "      <th></th>\n",
       "      <th>q</th>\n",
       "      <th>w</th>\n",
       "      <th>e</th>\n",
       "    </tr>\n",
       "  </thead>\n",
       "  <tbody>\n",
       "    <tr>\n",
       "      <th>a</th>\n",
       "      <td>-4.0</td>\n",
       "      <td>-3.0</td>\n",
       "      <td>-2.0</td>\n",
       "    </tr>\n",
       "    <tr>\n",
       "      <th>b</th>\n",
       "      <td>-1.0</td>\n",
       "      <td>0.0</td>\n",
       "      <td>1.0</td>\n",
       "    </tr>\n",
       "    <tr>\n",
       "      <th>c</th>\n",
       "      <td>2.0</td>\n",
       "      <td>3.0</td>\n",
       "      <td>4.0</td>\n",
       "    </tr>\n",
       "  </tbody>\n",
       "</table>\n",
       "</div>"
      ],
      "text/plain": [
       "     q    w    e\n",
       "a -4.0 -3.0 -2.0\n",
       "b -1.0  0.0  1.0\n",
       "c  2.0  3.0  4.0"
      ]
     },
     "execution_count": 150,
     "metadata": {},
     "output_type": "execute_result"
    }
   ],
   "source": [
    "df - df.values.mean() # subtracts the global mean elementwise"
   ]
  },
  {
   "cell_type": "markdown",
   "metadata": {
    "id": "WOff2BhKisAC"
   },
   "source": [
    "### Handling missing data\n",
    "Pandas offers a few tools to handle missing data (NaN)."
   ]
  },
  {
   "cell_type": "code",
   "execution_count": 151,
   "metadata": {
    "colab": {
     "base_uri": "https://localhost:8080/",
     "height": 143
    },
    "id": "syXLfEwKJAgW",
    "outputId": "fa1c5ba7-968d-4a70-aaa3-bf99e63fdc6d"
   },
   "outputs": [
    {
     "data": {
      "text/html": [
       "<div>\n",
       "<style scoped>\n",
       "    .dataframe tbody tr th:only-of-type {\n",
       "        vertical-align: middle;\n",
       "    }\n",
       "\n",
       "    .dataframe tbody tr th {\n",
       "        vertical-align: top;\n",
       "    }\n",
       "\n",
       "    .dataframe thead th {\n",
       "        text-align: right;\n",
       "    }\n",
       "</style>\n",
       "<table border=\"1\" class=\"dataframe\">\n",
       "  <thead>\n",
       "    <tr style=\"text-align: right;\">\n",
       "      <th></th>\n",
       "      <th>feature1</th>\n",
       "      <th>feature1b</th>\n",
       "      <th>feature2</th>\n",
       "      <th>feature3</th>\n",
       "      <th>feature4</th>\n",
       "      <th>feature5</th>\n",
       "      <th>feature6</th>\n",
       "      <th>feature0</th>\n",
       "    </tr>\n",
       "  </thead>\n",
       "  <tbody>\n",
       "    <tr>\n",
       "      <th>a</th>\n",
       "      <td>1</td>\n",
       "      <td>0</td>\n",
       "      <td>5</td>\n",
       "      <td>NaN</td>\n",
       "      <td>9.0</td>\n",
       "      <td>0</td>\n",
       "      <td>NaN</td>\n",
       "      <td>5</td>\n",
       "    </tr>\n",
       "    <tr>\n",
       "      <th>b</th>\n",
       "      <td>2</td>\n",
       "      <td>1</td>\n",
       "      <td>4</td>\n",
       "      <td>8.0</td>\n",
       "      <td>10.0</td>\n",
       "      <td>1</td>\n",
       "      <td>NaN</td>\n",
       "      <td>8</td>\n",
       "    </tr>\n",
       "    <tr>\n",
       "      <th>c</th>\n",
       "      <td>3</td>\n",
       "      <td>2</td>\n",
       "      <td>6</td>\n",
       "      <td>7.0</td>\n",
       "      <td>NaN</td>\n",
       "      <td>-1</td>\n",
       "      <td>NaN</td>\n",
       "      <td>18</td>\n",
       "    </tr>\n",
       "  </tbody>\n",
       "</table>\n",
       "</div>"
      ],
      "text/plain": [
       "   feature1  feature1b  feature2  feature3  feature4  feature5  feature6  \\\n",
       "a         1          0         5       NaN       9.0         0       NaN   \n",
       "b         2          1         4       8.0      10.0         1       NaN   \n",
       "c         3          2         6       7.0       NaN        -1       NaN   \n",
       "\n",
       "   feature0  \n",
       "a         5  \n",
       "b         8  \n",
       "c        18  "
      ]
     },
     "execution_count": 151,
     "metadata": {},
     "output_type": "execute_result"
    }
   ],
   "source": [
    "df10"
   ]
  },
  {
   "cell_type": "code",
   "execution_count": 152,
   "metadata": {
    "colab": {
     "base_uri": "https://localhost:8080/",
     "height": 143
    },
    "id": "OOeslYFwisAD",
    "outputId": "29a8ecd5-b2aa-459f-cdb5-d8189c9d70c0",
    "scrolled": true
   },
   "outputs": [
    {
     "data": {
      "text/html": [
       "<div>\n",
       "<style scoped>\n",
       "    .dataframe tbody tr th:only-of-type {\n",
       "        vertical-align: middle;\n",
       "    }\n",
       "\n",
       "    .dataframe tbody tr th {\n",
       "        vertical-align: top;\n",
       "    }\n",
       "\n",
       "    .dataframe thead th {\n",
       "        text-align: right;\n",
       "    }\n",
       "</style>\n",
       "<table border=\"1\" class=\"dataframe\">\n",
       "  <thead>\n",
       "    <tr style=\"text-align: right;\">\n",
       "      <th></th>\n",
       "      <th>feature1</th>\n",
       "      <th>feature1b</th>\n",
       "      <th>feature2</th>\n",
       "      <th>feature3</th>\n",
       "      <th>feature4</th>\n",
       "      <th>feature5</th>\n",
       "      <th>feature6</th>\n",
       "      <th>feature0</th>\n",
       "    </tr>\n",
       "  </thead>\n",
       "  <tbody>\n",
       "    <tr>\n",
       "      <th>a</th>\n",
       "      <td>1</td>\n",
       "      <td>0</td>\n",
       "      <td>5</td>\n",
       "      <td>0.0</td>\n",
       "      <td>9.0</td>\n",
       "      <td>0</td>\n",
       "      <td>0.0</td>\n",
       "      <td>5</td>\n",
       "    </tr>\n",
       "    <tr>\n",
       "      <th>b</th>\n",
       "      <td>2</td>\n",
       "      <td>1</td>\n",
       "      <td>4</td>\n",
       "      <td>8.0</td>\n",
       "      <td>10.0</td>\n",
       "      <td>1</td>\n",
       "      <td>0.0</td>\n",
       "      <td>8</td>\n",
       "    </tr>\n",
       "    <tr>\n",
       "      <th>c</th>\n",
       "      <td>3</td>\n",
       "      <td>2</td>\n",
       "      <td>6</td>\n",
       "      <td>7.0</td>\n",
       "      <td>0.0</td>\n",
       "      <td>-1</td>\n",
       "      <td>0.0</td>\n",
       "      <td>18</td>\n",
       "    </tr>\n",
       "  </tbody>\n",
       "</table>\n",
       "</div>"
      ],
      "text/plain": [
       "   feature1  feature1b  feature2  feature3  feature4  feature5  feature6  \\\n",
       "a         1          0         5       0.0       9.0         0       0.0   \n",
       "b         2          1         4       8.0      10.0         1       0.0   \n",
       "c         3          2         6       7.0       0.0        -1       0.0   \n",
       "\n",
       "   feature0  \n",
       "a         5  \n",
       "b         8  \n",
       "c        18  "
      ]
     },
     "execution_count": 152,
     "metadata": {},
     "output_type": "execute_result"
    }
   ],
   "source": [
    "df11 = df10.fillna(0)\n",
    "df11"
   ]
  },
  {
   "cell_type": "code",
   "execution_count": 153,
   "metadata": {
    "colab": {
     "base_uri": "https://localhost:8080/",
     "height": 175
    },
    "id": "_5KCHCnhisAD",
    "outputId": "4f0b192c-b786-4d45-f0ee-e9830bbebcfb"
   },
   "outputs": [
    {
     "data": {
      "text/html": [
       "<div>\n",
       "<style scoped>\n",
       "    .dataframe tbody tr th:only-of-type {\n",
       "        vertical-align: middle;\n",
       "    }\n",
       "\n",
       "    .dataframe tbody tr th {\n",
       "        vertical-align: top;\n",
       "    }\n",
       "\n",
       "    .dataframe thead th {\n",
       "        text-align: right;\n",
       "    }\n",
       "</style>\n",
       "<table border=\"1\" class=\"dataframe\">\n",
       "  <thead>\n",
       "    <tr style=\"text-align: right;\">\n",
       "      <th></th>\n",
       "      <th>feature1</th>\n",
       "      <th>feature1b</th>\n",
       "      <th>feature2</th>\n",
       "      <th>feature3</th>\n",
       "      <th>feature4</th>\n",
       "      <th>feature5</th>\n",
       "      <th>feature6</th>\n",
       "      <th>feature0</th>\n",
       "    </tr>\n",
       "  </thead>\n",
       "  <tbody>\n",
       "    <tr>\n",
       "      <th>a</th>\n",
       "      <td>1.0</td>\n",
       "      <td>0.0</td>\n",
       "      <td>5.0</td>\n",
       "      <td>0.0</td>\n",
       "      <td>9.0</td>\n",
       "      <td>0.0</td>\n",
       "      <td>0.0</td>\n",
       "      <td>5.0</td>\n",
       "    </tr>\n",
       "    <tr>\n",
       "      <th>b</th>\n",
       "      <td>2.0</td>\n",
       "      <td>1.0</td>\n",
       "      <td>4.0</td>\n",
       "      <td>8.0</td>\n",
       "      <td>10.0</td>\n",
       "      <td>1.0</td>\n",
       "      <td>0.0</td>\n",
       "      <td>8.0</td>\n",
       "    </tr>\n",
       "    <tr>\n",
       "      <th>c</th>\n",
       "      <td>3.0</td>\n",
       "      <td>2.0</td>\n",
       "      <td>6.0</td>\n",
       "      <td>7.0</td>\n",
       "      <td>0.0</td>\n",
       "      <td>-1.0</td>\n",
       "      <td>0.0</td>\n",
       "      <td>18.0</td>\n",
       "    </tr>\n",
       "    <tr>\n",
       "      <th>d</th>\n",
       "      <td>0.0</td>\n",
       "      <td>0.0</td>\n",
       "      <td>0.0</td>\n",
       "      <td>0.0</td>\n",
       "      <td>0.0</td>\n",
       "      <td>0.0</td>\n",
       "      <td>0.0</td>\n",
       "      <td>0.0</td>\n",
       "    </tr>\n",
       "  </tbody>\n",
       "</table>\n",
       "</div>"
      ],
      "text/plain": [
       "   feature1  feature1b  feature2  feature3  feature4  feature5  feature6  \\\n",
       "a       1.0        0.0       5.0       0.0       9.0       0.0       0.0   \n",
       "b       2.0        1.0       4.0       8.0      10.0       1.0       0.0   \n",
       "c       3.0        2.0       6.0       7.0       0.0      -1.0       0.0   \n",
       "d       0.0        0.0       0.0       0.0       0.0       0.0       0.0   \n",
       "\n",
       "   feature0  \n",
       "a       5.0  \n",
       "b       8.0  \n",
       "c      18.0  \n",
       "d       0.0  "
      ]
     },
     "execution_count": 153,
     "metadata": {},
     "output_type": "execute_result"
    }
   ],
   "source": [
    "df11.loc[\"d\"] = np.nan\n",
    "df11.fillna(0,inplace=True)\n",
    "df11\n",
    "#grades + fixed_bonus_points"
   ]
  },
  {
   "cell_type": "markdown",
   "metadata": {
    "id": "IaN3ZCGlisAE"
   },
   "source": [
    "### Aggregating with groupby\n",
    "Similar to the SQL language, pandas allows grouping your data into groups to run calculations over each group."
   ]
  },
  {
   "cell_type": "code",
   "execution_count": 154,
   "metadata": {
    "colab": {
     "base_uri": "https://localhost:8080/",
     "height": 175
    },
    "id": "XJPfRfpzisAF",
    "outputId": "a6ec1183-a412-4090-c468-2e333aa12da9",
    "scrolled": true
   },
   "outputs": [
    {
     "data": {
      "text/html": [
       "<div>\n",
       "<style scoped>\n",
       "    .dataframe tbody tr th:only-of-type {\n",
       "        vertical-align: middle;\n",
       "    }\n",
       "\n",
       "    .dataframe tbody tr th {\n",
       "        vertical-align: top;\n",
       "    }\n",
       "\n",
       "    .dataframe thead th {\n",
       "        text-align: right;\n",
       "    }\n",
       "</style>\n",
       "<table border=\"1\" class=\"dataframe\">\n",
       "  <thead>\n",
       "    <tr style=\"text-align: right;\">\n",
       "      <th></th>\n",
       "      <th>feature1</th>\n",
       "      <th>feature2</th>\n",
       "      <th>feature3</th>\n",
       "      <th>feature4</th>\n",
       "    </tr>\n",
       "  </thead>\n",
       "  <tbody>\n",
       "    <tr>\n",
       "      <th>a</th>\n",
       "      <td>3</td>\n",
       "      <td>2</td>\n",
       "      <td>32</td>\n",
       "      <td>5</td>\n",
       "    </tr>\n",
       "    <tr>\n",
       "      <th>b</th>\n",
       "      <td>11</td>\n",
       "      <td>2</td>\n",
       "      <td>4</td>\n",
       "      <td>11</td>\n",
       "    </tr>\n",
       "    <tr>\n",
       "      <th>c</th>\n",
       "      <td>14</td>\n",
       "      <td>4</td>\n",
       "      <td>3</td>\n",
       "      <td>2</td>\n",
       "    </tr>\n",
       "    <tr>\n",
       "      <th>d</th>\n",
       "      <td>4</td>\n",
       "      <td>4</td>\n",
       "      <td>35</td>\n",
       "      <td>13</td>\n",
       "    </tr>\n",
       "  </tbody>\n",
       "</table>\n",
       "</div>"
      ],
      "text/plain": [
       "   feature1  feature2  feature3  feature4\n",
       "a         3         2        32         5\n",
       "b        11         2         4        11\n",
       "c        14         4         3         2\n",
       "d         4         4        35        13"
      ]
     },
     "execution_count": 154,
     "metadata": {},
     "output_type": "execute_result"
    }
   ],
   "source": [
    "df5 = pd.DataFrame({\n",
    "    \"feature1\": {\"a\": 3, \"b\": 11, \"c\": 14, 'd':4},\n",
    "    \"feature2\": {\"a\": 2, \"b\": 2, \"c\": 4, 'd':4},\n",
    "    \"feature3\": {\"a\": 32, \"b\": 4, \"c\": 3, 'd':35},\n",
    "    \"feature4\": {\"a\": 5, \"b\": 11, \"c\": 2, 'd':13}\n",
    "})\n",
    "df5"
   ]
  },
  {
   "cell_type": "code",
   "execution_count": 155,
   "metadata": {
    "colab": {
     "base_uri": "https://localhost:8080/",
     "height": 143
    },
    "id": "fKg5PlvHisAF",
    "outputId": "20dd9eaf-ca5f-40a9-94f2-60a54dea0a8e"
   },
   "outputs": [
    {
     "data": {
      "text/html": [
       "<div>\n",
       "<style scoped>\n",
       "    .dataframe tbody tr th:only-of-type {\n",
       "        vertical-align: middle;\n",
       "    }\n",
       "\n",
       "    .dataframe tbody tr th {\n",
       "        vertical-align: top;\n",
       "    }\n",
       "\n",
       "    .dataframe thead th {\n",
       "        text-align: right;\n",
       "    }\n",
       "</style>\n",
       "<table border=\"1\" class=\"dataframe\">\n",
       "  <thead>\n",
       "    <tr style=\"text-align: right;\">\n",
       "      <th></th>\n",
       "      <th>feature1</th>\n",
       "      <th>feature3</th>\n",
       "      <th>feature4</th>\n",
       "    </tr>\n",
       "    <tr>\n",
       "      <th>feature2</th>\n",
       "      <th></th>\n",
       "      <th></th>\n",
       "      <th></th>\n",
       "    </tr>\n",
       "  </thead>\n",
       "  <tbody>\n",
       "    <tr>\n",
       "      <th>2</th>\n",
       "      <td>7.0</td>\n",
       "      <td>18.0</td>\n",
       "      <td>8.0</td>\n",
       "    </tr>\n",
       "    <tr>\n",
       "      <th>4</th>\n",
       "      <td>9.0</td>\n",
       "      <td>19.0</td>\n",
       "      <td>7.5</td>\n",
       "    </tr>\n",
       "  </tbody>\n",
       "</table>\n",
       "</div>"
      ],
      "text/plain": [
       "          feature1  feature3  feature4\n",
       "feature2                              \n",
       "2              7.0      18.0       8.0\n",
       "4              9.0      19.0       7.5"
      ]
     },
     "execution_count": 155,
     "metadata": {},
     "output_type": "execute_result"
    }
   ],
   "source": [
    "df5.groupby(\"feature2\").mean()"
   ]
  },
  {
   "cell_type": "markdown",
   "metadata": {
    "id": "V5i-VlnrisAF"
   },
   "source": [
    "### Pivot tables\n",
    "pivot tables allows for quick data summarization"
   ]
  },
  {
   "cell_type": "code",
   "execution_count": 156,
   "metadata": {
    "colab": {
     "base_uri": "https://localhost:8080/",
     "height": 394
    },
    "id": "Nx556dhEisAF",
    "outputId": "662a8df5-4eef-4747-eace-5577bf21996c"
   },
   "outputs": [
    {
     "data": {
      "text/html": [
       "<div>\n",
       "<style scoped>\n",
       "    .dataframe tbody tr th:only-of-type {\n",
       "        vertical-align: middle;\n",
       "    }\n",
       "\n",
       "    .dataframe tbody tr th {\n",
       "        vertical-align: top;\n",
       "    }\n",
       "\n",
       "    .dataframe thead th {\n",
       "        text-align: right;\n",
       "    }\n",
       "</style>\n",
       "<table border=\"1\" class=\"dataframe\">\n",
       "  <thead>\n",
       "    <tr style=\"text-align: right;\">\n",
       "      <th></th>\n",
       "      <th>level_0</th>\n",
       "      <th>level_1</th>\n",
       "      <th>rows_ab</th>\n",
       "      <th>rows_c</th>\n",
       "    </tr>\n",
       "  </thead>\n",
       "  <tbody>\n",
       "    <tr>\n",
       "      <th>0</th>\n",
       "      <td>feature1</td>\n",
       "      <td>a</td>\n",
       "      <td>444.0</td>\n",
       "      <td>NaN</td>\n",
       "    </tr>\n",
       "    <tr>\n",
       "      <th>1</th>\n",
       "      <td>feature1</td>\n",
       "      <td>b</td>\n",
       "      <td>444.0</td>\n",
       "      <td>NaN</td>\n",
       "    </tr>\n",
       "    <tr>\n",
       "      <th>2</th>\n",
       "      <td>feature1</td>\n",
       "      <td>c</td>\n",
       "      <td>NaN</td>\n",
       "      <td>666.0</td>\n",
       "    </tr>\n",
       "    <tr>\n",
       "      <th>3</th>\n",
       "      <td>feature2</td>\n",
       "      <td>a</td>\n",
       "      <td>111.0</td>\n",
       "      <td>NaN</td>\n",
       "    </tr>\n",
       "    <tr>\n",
       "      <th>4</th>\n",
       "      <td>feature2</td>\n",
       "      <td>b</td>\n",
       "      <td>222.0</td>\n",
       "      <td>NaN</td>\n",
       "    </tr>\n",
       "    <tr>\n",
       "      <th>5</th>\n",
       "      <td>feature3</td>\n",
       "      <td>a</td>\n",
       "      <td>555.0</td>\n",
       "      <td>NaN</td>\n",
       "    </tr>\n",
       "    <tr>\n",
       "      <th>6</th>\n",
       "      <td>feature3</td>\n",
       "      <td>b</td>\n",
       "      <td>333.0</td>\n",
       "      <td>NaN</td>\n",
       "    </tr>\n",
       "    <tr>\n",
       "      <th>7</th>\n",
       "      <td>feature3</td>\n",
       "      <td>c</td>\n",
       "      <td>NaN</td>\n",
       "      <td>777.0</td>\n",
       "    </tr>\n",
       "    <tr>\n",
       "      <th>8</th>\n",
       "      <td>feature4</td>\n",
       "      <td>a</td>\n",
       "      <td>333.0</td>\n",
       "      <td>NaN</td>\n",
       "    </tr>\n",
       "    <tr>\n",
       "      <th>9</th>\n",
       "      <td>feature4</td>\n",
       "      <td>b</td>\n",
       "      <td>999.0</td>\n",
       "      <td>NaN</td>\n",
       "    </tr>\n",
       "    <tr>\n",
       "      <th>10</th>\n",
       "      <td>feature4</td>\n",
       "      <td>c</td>\n",
       "      <td>NaN</td>\n",
       "      <td>888.0</td>\n",
       "    </tr>\n",
       "  </tbody>\n",
       "</table>\n",
       "</div>"
      ],
      "text/plain": [
       "     level_0 level_1  rows_ab  rows_c\n",
       "0   feature1       a    444.0     NaN\n",
       "1   feature1       b    444.0     NaN\n",
       "2   feature1       c      NaN   666.0\n",
       "3   feature2       a    111.0     NaN\n",
       "4   feature2       b    222.0     NaN\n",
       "5   feature3       a    555.0     NaN\n",
       "6   feature3       b    333.0     NaN\n",
       "7   feature3       c      NaN   777.0\n",
       "8   feature4       a    333.0     NaN\n",
       "9   feature4       b    999.0     NaN\n",
       "10  feature4       c      NaN   888.0"
      ]
     },
     "execution_count": 156,
     "metadata": {},
     "output_type": "execute_result"
    }
   ],
   "source": [
    "df9 = df8.stack().reset_index()\n",
    "df9"
   ]
  },
  {
   "cell_type": "code",
   "execution_count": 157,
   "metadata": {
    "colab": {
     "base_uri": "https://localhost:8080/",
     "height": 206
    },
    "id": "6FoswDbfisAF",
    "outputId": "76353750-d695-4322-8644-41b80bec6e48"
   },
   "outputs": [
    {
     "data": {
      "text/html": [
       "<div>\n",
       "<style scoped>\n",
       "    .dataframe tbody tr th:only-of-type {\n",
       "        vertical-align: middle;\n",
       "    }\n",
       "\n",
       "    .dataframe tbody tr th {\n",
       "        vertical-align: top;\n",
       "    }\n",
       "\n",
       "    .dataframe thead th {\n",
       "        text-align: right;\n",
       "    }\n",
       "</style>\n",
       "<table border=\"1\" class=\"dataframe\">\n",
       "  <thead>\n",
       "    <tr style=\"text-align: right;\">\n",
       "      <th></th>\n",
       "      <th>rows_ab</th>\n",
       "      <th>rows_c</th>\n",
       "    </tr>\n",
       "    <tr>\n",
       "      <th>level_0</th>\n",
       "      <th></th>\n",
       "      <th></th>\n",
       "    </tr>\n",
       "  </thead>\n",
       "  <tbody>\n",
       "    <tr>\n",
       "      <th>feature1</th>\n",
       "      <td>444.0</td>\n",
       "      <td>666.0</td>\n",
       "    </tr>\n",
       "    <tr>\n",
       "      <th>feature2</th>\n",
       "      <td>166.5</td>\n",
       "      <td>NaN</td>\n",
       "    </tr>\n",
       "    <tr>\n",
       "      <th>feature3</th>\n",
       "      <td>444.0</td>\n",
       "      <td>777.0</td>\n",
       "    </tr>\n",
       "    <tr>\n",
       "      <th>feature4</th>\n",
       "      <td>666.0</td>\n",
       "      <td>888.0</td>\n",
       "    </tr>\n",
       "  </tbody>\n",
       "</table>\n",
       "</div>"
      ],
      "text/plain": [
       "          rows_ab  rows_c\n",
       "level_0                  \n",
       "feature1    444.0   666.0\n",
       "feature2    166.5     NaN\n",
       "feature3    444.0   777.0\n",
       "feature4    666.0   888.0"
      ]
     },
     "execution_count": 157,
     "metadata": {},
     "output_type": "execute_result"
    }
   ],
   "source": [
    "pd.pivot_table(df9, index=\"level_0\")"
   ]
  },
  {
   "cell_type": "code",
   "execution_count": 158,
   "metadata": {
    "colab": {
     "base_uri": "https://localhost:8080/",
     "height": 206
    },
    "id": "heLVEMX4isAG",
    "outputId": "66e551c7-ff24-4481-bc60-b69bb5c4217e"
   },
   "outputs": [
    {
     "data": {
      "text/html": [
       "<div>\n",
       "<style scoped>\n",
       "    .dataframe tbody tr th:only-of-type {\n",
       "        vertical-align: middle;\n",
       "    }\n",
       "\n",
       "    .dataframe tbody tr th {\n",
       "        vertical-align: top;\n",
       "    }\n",
       "\n",
       "    .dataframe thead th {\n",
       "        text-align: right;\n",
       "    }\n",
       "</style>\n",
       "<table border=\"1\" class=\"dataframe\">\n",
       "  <thead>\n",
       "    <tr style=\"text-align: right;\">\n",
       "      <th></th>\n",
       "      <th>rows_ab</th>\n",
       "    </tr>\n",
       "    <tr>\n",
       "      <th>level_0</th>\n",
       "      <th></th>\n",
       "    </tr>\n",
       "  </thead>\n",
       "  <tbody>\n",
       "    <tr>\n",
       "      <th>feature1</th>\n",
       "      <td>444.0</td>\n",
       "    </tr>\n",
       "    <tr>\n",
       "      <th>feature2</th>\n",
       "      <td>222.0</td>\n",
       "    </tr>\n",
       "    <tr>\n",
       "      <th>feature3</th>\n",
       "      <td>555.0</td>\n",
       "    </tr>\n",
       "    <tr>\n",
       "      <th>feature4</th>\n",
       "      <td>999.0</td>\n",
       "    </tr>\n",
       "  </tbody>\n",
       "</table>\n",
       "</div>"
      ],
      "text/plain": [
       "          rows_ab\n",
       "level_0          \n",
       "feature1    444.0\n",
       "feature2    222.0\n",
       "feature3    555.0\n",
       "feature4    999.0"
      ]
     },
     "execution_count": 158,
     "metadata": {},
     "output_type": "execute_result"
    }
   ],
   "source": [
    "pd.pivot_table(df9, index=\"level_0\", values=[\"rows_ab\"], aggfunc=np.max)"
   ]
  },
  {
   "cell_type": "markdown",
   "metadata": {
    "id": "Xz6zRQtdisAG"
   },
   "source": [
    "### functions\n",
    "When dealing with large `DataFrames`, it is useful to get a quick overview of its content. Pandas offers a few functions for this. First, let's create a large `DataFrame` with a mix of numeric values, missing values and text values. Notice how Jupyter displays only the corners of the `DataFrame`:"
   ]
  },
  {
   "cell_type": "code",
   "execution_count": 159,
   "metadata": {
    "colab": {
     "base_uri": "https://localhost:8080/",
     "height": 206
    },
    "id": "mIqutYyROA_-",
    "outputId": "ee1f4723-eccf-4dcc-b878-e78776d29c40"
   },
   "outputs": [
    {
     "data": {
      "text/html": [
       "<div>\n",
       "<style scoped>\n",
       "    .dataframe tbody tr th:only-of-type {\n",
       "        vertical-align: middle;\n",
       "    }\n",
       "\n",
       "    .dataframe tbody tr th {\n",
       "        vertical-align: top;\n",
       "    }\n",
       "\n",
       "    .dataframe thead th {\n",
       "        text-align: right;\n",
       "    }\n",
       "</style>\n",
       "<table border=\"1\" class=\"dataframe\">\n",
       "  <thead>\n",
       "    <tr style=\"text-align: right;\">\n",
       "      <th></th>\n",
       "      <th>A</th>\n",
       "      <th>B</th>\n",
       "      <th>C</th>\n",
       "      <th>D</th>\n",
       "      <th>E</th>\n",
       "      <th>F</th>\n",
       "      <th>G</th>\n",
       "      <th>H</th>\n",
       "      <th>I</th>\n",
       "      <th>J</th>\n",
       "      <th>...</th>\n",
       "      <th>Q</th>\n",
       "      <th>R</th>\n",
       "      <th>S</th>\n",
       "      <th>T</th>\n",
       "      <th>U</th>\n",
       "      <th>V</th>\n",
       "      <th>W</th>\n",
       "      <th>X</th>\n",
       "      <th>Y</th>\n",
       "      <th>Z</th>\n",
       "    </tr>\n",
       "  </thead>\n",
       "  <tbody>\n",
       "    <tr>\n",
       "      <th>0</th>\n",
       "      <td>0.0</td>\n",
       "      <td>11.0</td>\n",
       "      <td>22.0</td>\n",
       "      <td>33.0</td>\n",
       "      <td>44.0</td>\n",
       "      <td>55.0</td>\n",
       "      <td>66.0</td>\n",
       "      <td>0.0</td>\n",
       "      <td>11.0</td>\n",
       "      <td>22.0</td>\n",
       "      <td>...</td>\n",
       "      <td>22.0</td>\n",
       "      <td>33.0</td>\n",
       "      <td>44.0</td>\n",
       "      <td>55.0</td>\n",
       "      <td>66.0</td>\n",
       "      <td>0.0</td>\n",
       "      <td>11.0</td>\n",
       "      <td>22.0</td>\n",
       "      <td>33.0</td>\n",
       "      <td>44.0</td>\n",
       "    </tr>\n",
       "    <tr>\n",
       "      <th>1</th>\n",
       "      <td>11.0</td>\n",
       "      <td>22.0</td>\n",
       "      <td>33.0</td>\n",
       "      <td>44.0</td>\n",
       "      <td>55.0</td>\n",
       "      <td>66.0</td>\n",
       "      <td>0.0</td>\n",
       "      <td>11.0</td>\n",
       "      <td>22.0</td>\n",
       "      <td>33.0</td>\n",
       "      <td>...</td>\n",
       "      <td>33.0</td>\n",
       "      <td>44.0</td>\n",
       "      <td>55.0</td>\n",
       "      <td>66.0</td>\n",
       "      <td>0.0</td>\n",
       "      <td>11.0</td>\n",
       "      <td>22.0</td>\n",
       "      <td>33.0</td>\n",
       "      <td>44.0</td>\n",
       "      <td>55.0</td>\n",
       "    </tr>\n",
       "    <tr>\n",
       "      <th>2</th>\n",
       "      <td>22.0</td>\n",
       "      <td>33.0</td>\n",
       "      <td>44.0</td>\n",
       "      <td>55.0</td>\n",
       "      <td>66.0</td>\n",
       "      <td>0.0</td>\n",
       "      <td>11.0</td>\n",
       "      <td>22.0</td>\n",
       "      <td>33.0</td>\n",
       "      <td>44.0</td>\n",
       "      <td>...</td>\n",
       "      <td>44.0</td>\n",
       "      <td>55.0</td>\n",
       "      <td>66.0</td>\n",
       "      <td>0.0</td>\n",
       "      <td>11.0</td>\n",
       "      <td>22.0</td>\n",
       "      <td>33.0</td>\n",
       "      <td>44.0</td>\n",
       "      <td>55.0</td>\n",
       "      <td>66.0</td>\n",
       "    </tr>\n",
       "    <tr>\n",
       "      <th>3</th>\n",
       "      <td>33.0</td>\n",
       "      <td>44.0</td>\n",
       "      <td>55.0</td>\n",
       "      <td>66.0</td>\n",
       "      <td>0.0</td>\n",
       "      <td>11.0</td>\n",
       "      <td>22.0</td>\n",
       "      <td>33.0</td>\n",
       "      <td>44.0</td>\n",
       "      <td>55.0</td>\n",
       "      <td>...</td>\n",
       "      <td>55.0</td>\n",
       "      <td>66.0</td>\n",
       "      <td>0.0</td>\n",
       "      <td>11.0</td>\n",
       "      <td>22.0</td>\n",
       "      <td>33.0</td>\n",
       "      <td>44.0</td>\n",
       "      <td>55.0</td>\n",
       "      <td>66.0</td>\n",
       "      <td>0.0</td>\n",
       "    </tr>\n",
       "    <tr>\n",
       "      <th>4</th>\n",
       "      <td>44.0</td>\n",
       "      <td>55.0</td>\n",
       "      <td>66.0</td>\n",
       "      <td>0.0</td>\n",
       "      <td>11.0</td>\n",
       "      <td>22.0</td>\n",
       "      <td>33.0</td>\n",
       "      <td>44.0</td>\n",
       "      <td>55.0</td>\n",
       "      <td>66.0</td>\n",
       "      <td>...</td>\n",
       "      <td>66.0</td>\n",
       "      <td>0.0</td>\n",
       "      <td>11.0</td>\n",
       "      <td>22.0</td>\n",
       "      <td>33.0</td>\n",
       "      <td>44.0</td>\n",
       "      <td>55.0</td>\n",
       "      <td>66.0</td>\n",
       "      <td>0.0</td>\n",
       "      <td>11.0</td>\n",
       "    </tr>\n",
       "  </tbody>\n",
       "</table>\n",
       "<p>5 rows × 26 columns</p>\n",
       "</div>"
      ],
      "text/plain": [
       "      A     B     C     D     E     F     G     H     I     J  ...     Q  \\\n",
       "0   0.0  11.0  22.0  33.0  44.0  55.0  66.0   0.0  11.0  22.0  ...  22.0   \n",
       "1  11.0  22.0  33.0  44.0  55.0  66.0   0.0  11.0  22.0  33.0  ...  33.0   \n",
       "2  22.0  33.0  44.0  55.0  66.0   0.0  11.0  22.0  33.0  44.0  ...  44.0   \n",
       "3  33.0  44.0  55.0  66.0   0.0  11.0  22.0  33.0  44.0  55.0  ...  55.0   \n",
       "4  44.0  55.0  66.0   0.0  11.0  22.0  33.0  44.0  55.0  66.0  ...  66.0   \n",
       "\n",
       "      R     S     T     U     V     W     X     Y     Z  \n",
       "0  33.0  44.0  55.0  66.0   0.0  11.0  22.0  33.0  44.0  \n",
       "1  44.0  55.0  66.0   0.0  11.0  22.0  33.0  44.0  55.0  \n",
       "2  55.0  66.0   0.0  11.0  22.0  33.0  44.0  55.0  66.0  \n",
       "3  66.0   0.0  11.0  22.0  33.0  44.0  55.0  66.0   0.0  \n",
       "4   0.0  11.0  22.0  33.0  44.0  55.0  66.0   0.0  11.0  \n",
       "\n",
       "[5 rows x 26 columns]"
      ]
     },
     "execution_count": 159,
     "metadata": {},
     "output_type": "execute_result"
    }
   ],
   "source": [
    "df = np.fromfunction(lambda x,y: (x+y)%7*11, (10000, 26))\n",
    "large_df = pd.DataFrame(df, columns=list(\"ABCDEFGHIJKLMNOPQRSTUVWXYZ\"))\n",
    "large_df.head(5)"
   ]
  },
  {
   "cell_type": "code",
   "execution_count": 160,
   "metadata": {
    "colab": {
     "base_uri": "https://localhost:8080/",
     "height": 206
    },
    "id": "PxqoBz4IOd8A",
    "outputId": "de5c7670-275c-4906-e568-9adb6562a5a5"
   },
   "outputs": [
    {
     "data": {
      "text/html": [
       "<div>\n",
       "<style scoped>\n",
       "    .dataframe tbody tr th:only-of-type {\n",
       "        vertical-align: middle;\n",
       "    }\n",
       "\n",
       "    .dataframe tbody tr th {\n",
       "        vertical-align: top;\n",
       "    }\n",
       "\n",
       "    .dataframe thead th {\n",
       "        text-align: right;\n",
       "    }\n",
       "</style>\n",
       "<table border=\"1\" class=\"dataframe\">\n",
       "  <thead>\n",
       "    <tr style=\"text-align: right;\">\n",
       "      <th></th>\n",
       "      <th>A</th>\n",
       "      <th>B</th>\n",
       "      <th>C</th>\n",
       "      <th>feature1</th>\n",
       "      <th>D</th>\n",
       "      <th>E</th>\n",
       "      <th>F</th>\n",
       "      <th>G</th>\n",
       "      <th>H</th>\n",
       "      <th>I</th>\n",
       "      <th>...</th>\n",
       "      <th>Q</th>\n",
       "      <th>R</th>\n",
       "      <th>S</th>\n",
       "      <th>T</th>\n",
       "      <th>U</th>\n",
       "      <th>V</th>\n",
       "      <th>W</th>\n",
       "      <th>X</th>\n",
       "      <th>Y</th>\n",
       "      <th>Z</th>\n",
       "    </tr>\n",
       "  </thead>\n",
       "  <tbody>\n",
       "    <tr>\n",
       "      <th>0</th>\n",
       "      <td>NaN</td>\n",
       "      <td>11.0</td>\n",
       "      <td>22.0</td>\n",
       "      <td>xxx</td>\n",
       "      <td>NaN</td>\n",
       "      <td>44.0</td>\n",
       "      <td>55.0</td>\n",
       "      <td>NaN</td>\n",
       "      <td>NaN</td>\n",
       "      <td>11.0</td>\n",
       "      <td>...</td>\n",
       "      <td>22.0</td>\n",
       "      <td>NaN</td>\n",
       "      <td>44.0</td>\n",
       "      <td>55.0</td>\n",
       "      <td>NaN</td>\n",
       "      <td>NaN</td>\n",
       "      <td>11.0</td>\n",
       "      <td>22.0</td>\n",
       "      <td>NaN</td>\n",
       "      <td>44.0</td>\n",
       "    </tr>\n",
       "    <tr>\n",
       "      <th>1</th>\n",
       "      <td>11.0</td>\n",
       "      <td>22.0</td>\n",
       "      <td>NaN</td>\n",
       "      <td>xxx</td>\n",
       "      <td>44.0</td>\n",
       "      <td>55.0</td>\n",
       "      <td>NaN</td>\n",
       "      <td>NaN</td>\n",
       "      <td>11.0</td>\n",
       "      <td>22.0</td>\n",
       "      <td>...</td>\n",
       "      <td>NaN</td>\n",
       "      <td>44.0</td>\n",
       "      <td>55.0</td>\n",
       "      <td>NaN</td>\n",
       "      <td>NaN</td>\n",
       "      <td>11.0</td>\n",
       "      <td>22.0</td>\n",
       "      <td>NaN</td>\n",
       "      <td>44.0</td>\n",
       "      <td>55.0</td>\n",
       "    </tr>\n",
       "    <tr>\n",
       "      <th>2</th>\n",
       "      <td>22.0</td>\n",
       "      <td>NaN</td>\n",
       "      <td>44.0</td>\n",
       "      <td>xxx</td>\n",
       "      <td>55.0</td>\n",
       "      <td>NaN</td>\n",
       "      <td>NaN</td>\n",
       "      <td>11.0</td>\n",
       "      <td>22.0</td>\n",
       "      <td>NaN</td>\n",
       "      <td>...</td>\n",
       "      <td>44.0</td>\n",
       "      <td>55.0</td>\n",
       "      <td>NaN</td>\n",
       "      <td>NaN</td>\n",
       "      <td>11.0</td>\n",
       "      <td>22.0</td>\n",
       "      <td>NaN</td>\n",
       "      <td>44.0</td>\n",
       "      <td>55.0</td>\n",
       "      <td>NaN</td>\n",
       "    </tr>\n",
       "    <tr>\n",
       "      <th>3</th>\n",
       "      <td>NaN</td>\n",
       "      <td>44.0</td>\n",
       "      <td>55.0</td>\n",
       "      <td>xxx</td>\n",
       "      <td>NaN</td>\n",
       "      <td>NaN</td>\n",
       "      <td>11.0</td>\n",
       "      <td>22.0</td>\n",
       "      <td>NaN</td>\n",
       "      <td>44.0</td>\n",
       "      <td>...</td>\n",
       "      <td>55.0</td>\n",
       "      <td>NaN</td>\n",
       "      <td>NaN</td>\n",
       "      <td>11.0</td>\n",
       "      <td>22.0</td>\n",
       "      <td>NaN</td>\n",
       "      <td>44.0</td>\n",
       "      <td>55.0</td>\n",
       "      <td>NaN</td>\n",
       "      <td>NaN</td>\n",
       "    </tr>\n",
       "    <tr>\n",
       "      <th>4</th>\n",
       "      <td>44.0</td>\n",
       "      <td>55.0</td>\n",
       "      <td>NaN</td>\n",
       "      <td>xxx</td>\n",
       "      <td>NaN</td>\n",
       "      <td>11.0</td>\n",
       "      <td>22.0</td>\n",
       "      <td>NaN</td>\n",
       "      <td>44.0</td>\n",
       "      <td>55.0</td>\n",
       "      <td>...</td>\n",
       "      <td>NaN</td>\n",
       "      <td>NaN</td>\n",
       "      <td>11.0</td>\n",
       "      <td>22.0</td>\n",
       "      <td>NaN</td>\n",
       "      <td>44.0</td>\n",
       "      <td>55.0</td>\n",
       "      <td>NaN</td>\n",
       "      <td>NaN</td>\n",
       "      <td>11.0</td>\n",
       "    </tr>\n",
       "  </tbody>\n",
       "</table>\n",
       "<p>5 rows × 27 columns</p>\n",
       "</div>"
      ],
      "text/plain": [
       "      A     B     C feature1     D     E     F     G     H     I  ...     Q  \\\n",
       "0   NaN  11.0  22.0      xxx   NaN  44.0  55.0   NaN   NaN  11.0  ...  22.0   \n",
       "1  11.0  22.0   NaN      xxx  44.0  55.0   NaN   NaN  11.0  22.0  ...   NaN   \n",
       "2  22.0   NaN  44.0      xxx  55.0   NaN   NaN  11.0  22.0   NaN  ...  44.0   \n",
       "3   NaN  44.0  55.0      xxx   NaN   NaN  11.0  22.0   NaN  44.0  ...  55.0   \n",
       "4  44.0  55.0   NaN      xxx   NaN  11.0  22.0   NaN  44.0  55.0  ...   NaN   \n",
       "\n",
       "      R     S     T     U     V     W     X     Y     Z  \n",
       "0   NaN  44.0  55.0   NaN   NaN  11.0  22.0   NaN  44.0  \n",
       "1  44.0  55.0   NaN   NaN  11.0  22.0   NaN  44.0  55.0  \n",
       "2  55.0   NaN   NaN  11.0  22.0   NaN  44.0  55.0   NaN  \n",
       "3   NaN   NaN  11.0  22.0   NaN  44.0  55.0   NaN   NaN  \n",
       "4   NaN  11.0  22.0   NaN  44.0  55.0   NaN   NaN  11.0  \n",
       "\n",
       "[5 rows x 27 columns]"
      ]
     },
     "execution_count": 160,
     "metadata": {},
     "output_type": "execute_result"
    }
   ],
   "source": [
    "large_df[large_df % 3 == 0] = np.nan\n",
    "large_df.insert(3,\"feature1\", \"xxx\")\n",
    "large_df.head(5)"
   ]
  },
  {
   "cell_type": "code",
   "execution_count": 161,
   "metadata": {
    "colab": {
     "base_uri": "https://localhost:8080/",
     "height": 175
    },
    "id": "JHFjynw9isAH",
    "outputId": "af7a3b2d-6003-48ff-c458-06f50a784fa7"
   },
   "outputs": [
    {
     "data": {
      "text/html": [
       "<div>\n",
       "<style scoped>\n",
       "    .dataframe tbody tr th:only-of-type {\n",
       "        vertical-align: middle;\n",
       "    }\n",
       "\n",
       "    .dataframe tbody tr th {\n",
       "        vertical-align: top;\n",
       "    }\n",
       "\n",
       "    .dataframe thead th {\n",
       "        text-align: right;\n",
       "    }\n",
       "</style>\n",
       "<table border=\"1\" class=\"dataframe\">\n",
       "  <thead>\n",
       "    <tr style=\"text-align: right;\">\n",
       "      <th></th>\n",
       "      <th>A</th>\n",
       "      <th>B</th>\n",
       "      <th>C</th>\n",
       "      <th>feature1</th>\n",
       "      <th>D</th>\n",
       "      <th>E</th>\n",
       "      <th>F</th>\n",
       "      <th>G</th>\n",
       "      <th>H</th>\n",
       "      <th>I</th>\n",
       "      <th>...</th>\n",
       "      <th>Q</th>\n",
       "      <th>R</th>\n",
       "      <th>S</th>\n",
       "      <th>T</th>\n",
       "      <th>U</th>\n",
       "      <th>V</th>\n",
       "      <th>W</th>\n",
       "      <th>X</th>\n",
       "      <th>Y</th>\n",
       "      <th>Z</th>\n",
       "    </tr>\n",
       "  </thead>\n",
       "  <tbody>\n",
       "    <tr>\n",
       "      <th>9996</th>\n",
       "      <td>NaN</td>\n",
       "      <td>11.0</td>\n",
       "      <td>22.0</td>\n",
       "      <td>xxx</td>\n",
       "      <td>NaN</td>\n",
       "      <td>44.0</td>\n",
       "      <td>55.0</td>\n",
       "      <td>NaN</td>\n",
       "      <td>NaN</td>\n",
       "      <td>11.0</td>\n",
       "      <td>...</td>\n",
       "      <td>22.0</td>\n",
       "      <td>NaN</td>\n",
       "      <td>44.0</td>\n",
       "      <td>55.0</td>\n",
       "      <td>NaN</td>\n",
       "      <td>NaN</td>\n",
       "      <td>11.0</td>\n",
       "      <td>22.0</td>\n",
       "      <td>NaN</td>\n",
       "      <td>44.0</td>\n",
       "    </tr>\n",
       "    <tr>\n",
       "      <th>9997</th>\n",
       "      <td>11.0</td>\n",
       "      <td>22.0</td>\n",
       "      <td>NaN</td>\n",
       "      <td>xxx</td>\n",
       "      <td>44.0</td>\n",
       "      <td>55.0</td>\n",
       "      <td>NaN</td>\n",
       "      <td>NaN</td>\n",
       "      <td>11.0</td>\n",
       "      <td>22.0</td>\n",
       "      <td>...</td>\n",
       "      <td>NaN</td>\n",
       "      <td>44.0</td>\n",
       "      <td>55.0</td>\n",
       "      <td>NaN</td>\n",
       "      <td>NaN</td>\n",
       "      <td>11.0</td>\n",
       "      <td>22.0</td>\n",
       "      <td>NaN</td>\n",
       "      <td>44.0</td>\n",
       "      <td>55.0</td>\n",
       "    </tr>\n",
       "    <tr>\n",
       "      <th>9998</th>\n",
       "      <td>22.0</td>\n",
       "      <td>NaN</td>\n",
       "      <td>44.0</td>\n",
       "      <td>xxx</td>\n",
       "      <td>55.0</td>\n",
       "      <td>NaN</td>\n",
       "      <td>NaN</td>\n",
       "      <td>11.0</td>\n",
       "      <td>22.0</td>\n",
       "      <td>NaN</td>\n",
       "      <td>...</td>\n",
       "      <td>44.0</td>\n",
       "      <td>55.0</td>\n",
       "      <td>NaN</td>\n",
       "      <td>NaN</td>\n",
       "      <td>11.0</td>\n",
       "      <td>22.0</td>\n",
       "      <td>NaN</td>\n",
       "      <td>44.0</td>\n",
       "      <td>55.0</td>\n",
       "      <td>NaN</td>\n",
       "    </tr>\n",
       "    <tr>\n",
       "      <th>9999</th>\n",
       "      <td>NaN</td>\n",
       "      <td>44.0</td>\n",
       "      <td>55.0</td>\n",
       "      <td>xxx</td>\n",
       "      <td>NaN</td>\n",
       "      <td>NaN</td>\n",
       "      <td>11.0</td>\n",
       "      <td>22.0</td>\n",
       "      <td>NaN</td>\n",
       "      <td>44.0</td>\n",
       "      <td>...</td>\n",
       "      <td>55.0</td>\n",
       "      <td>NaN</td>\n",
       "      <td>NaN</td>\n",
       "      <td>11.0</td>\n",
       "      <td>22.0</td>\n",
       "      <td>NaN</td>\n",
       "      <td>44.0</td>\n",
       "      <td>55.0</td>\n",
       "      <td>NaN</td>\n",
       "      <td>NaN</td>\n",
       "    </tr>\n",
       "  </tbody>\n",
       "</table>\n",
       "<p>4 rows × 27 columns</p>\n",
       "</div>"
      ],
      "text/plain": [
       "         A     B     C feature1     D     E     F     G     H     I  ...  \\\n",
       "9996   NaN  11.0  22.0      xxx   NaN  44.0  55.0   NaN   NaN  11.0  ...   \n",
       "9997  11.0  22.0   NaN      xxx  44.0  55.0   NaN   NaN  11.0  22.0  ...   \n",
       "9998  22.0   NaN  44.0      xxx  55.0   NaN   NaN  11.0  22.0   NaN  ...   \n",
       "9999   NaN  44.0  55.0      xxx   NaN   NaN  11.0  22.0   NaN  44.0  ...   \n",
       "\n",
       "         Q     R     S     T     U     V     W     X     Y     Z  \n",
       "9996  22.0   NaN  44.0  55.0   NaN   NaN  11.0  22.0   NaN  44.0  \n",
       "9997   NaN  44.0  55.0   NaN   NaN  11.0  22.0   NaN  44.0  55.0  \n",
       "9998  44.0  55.0   NaN   NaN  11.0  22.0   NaN  44.0  55.0   NaN  \n",
       "9999  55.0   NaN   NaN  11.0  22.0   NaN  44.0  55.0   NaN   NaN  \n",
       "\n",
       "[4 rows x 27 columns]"
      ]
     },
     "execution_count": 161,
     "metadata": {},
     "output_type": "execute_result"
    }
   ],
   "source": [
    "large_df.tail(4)"
   ]
  },
  {
   "cell_type": "code",
   "execution_count": 162,
   "metadata": {
    "colab": {
     "base_uri": "https://localhost:8080/",
     "height": 320
    },
    "id": "rGnJYwRYisAH",
    "outputId": "737059a9-175a-4b26-9176-24c8177c0bd2"
   },
   "outputs": [
    {
     "data": {
      "text/html": [
       "<div>\n",
       "<style scoped>\n",
       "    .dataframe tbody tr th:only-of-type {\n",
       "        vertical-align: middle;\n",
       "    }\n",
       "\n",
       "    .dataframe tbody tr th {\n",
       "        vertical-align: top;\n",
       "    }\n",
       "\n",
       "    .dataframe thead th {\n",
       "        text-align: right;\n",
       "    }\n",
       "</style>\n",
       "<table border=\"1\" class=\"dataframe\">\n",
       "  <thead>\n",
       "    <tr style=\"text-align: right;\">\n",
       "      <th></th>\n",
       "      <th>A</th>\n",
       "      <th>B</th>\n",
       "      <th>C</th>\n",
       "      <th>D</th>\n",
       "      <th>E</th>\n",
       "      <th>F</th>\n",
       "      <th>G</th>\n",
       "      <th>H</th>\n",
       "      <th>I</th>\n",
       "      <th>J</th>\n",
       "      <th>...</th>\n",
       "      <th>Q</th>\n",
       "      <th>R</th>\n",
       "      <th>S</th>\n",
       "      <th>T</th>\n",
       "      <th>U</th>\n",
       "      <th>V</th>\n",
       "      <th>W</th>\n",
       "      <th>X</th>\n",
       "      <th>Y</th>\n",
       "      <th>Z</th>\n",
       "    </tr>\n",
       "  </thead>\n",
       "  <tbody>\n",
       "    <tr>\n",
       "      <th>count</th>\n",
       "      <td>5714.000000</td>\n",
       "      <td>5715.000000</td>\n",
       "      <td>5715.000000</td>\n",
       "      <td>5714.000000</td>\n",
       "      <td>5714.000000</td>\n",
       "      <td>5714.000000</td>\n",
       "      <td>5714.000000</td>\n",
       "      <td>5714.000000</td>\n",
       "      <td>5715.000000</td>\n",
       "      <td>5715.000000</td>\n",
       "      <td>...</td>\n",
       "      <td>5715.000000</td>\n",
       "      <td>5714.000000</td>\n",
       "      <td>5714.000000</td>\n",
       "      <td>5714.000000</td>\n",
       "      <td>5714.000000</td>\n",
       "      <td>5714.000000</td>\n",
       "      <td>5715.000000</td>\n",
       "      <td>5715.000000</td>\n",
       "      <td>5714.000000</td>\n",
       "      <td>5714.000000</td>\n",
       "    </tr>\n",
       "    <tr>\n",
       "      <th>mean</th>\n",
       "      <td>32.994225</td>\n",
       "      <td>32.996150</td>\n",
       "      <td>33.003850</td>\n",
       "      <td>33.005775</td>\n",
       "      <td>33.005775</td>\n",
       "      <td>33.000000</td>\n",
       "      <td>32.994225</td>\n",
       "      <td>32.994225</td>\n",
       "      <td>32.996150</td>\n",
       "      <td>33.003850</td>\n",
       "      <td>...</td>\n",
       "      <td>33.003850</td>\n",
       "      <td>33.005775</td>\n",
       "      <td>33.005775</td>\n",
       "      <td>33.000000</td>\n",
       "      <td>32.994225</td>\n",
       "      <td>32.994225</td>\n",
       "      <td>32.996150</td>\n",
       "      <td>33.003850</td>\n",
       "      <td>33.005775</td>\n",
       "      <td>33.005775</td>\n",
       "    </tr>\n",
       "    <tr>\n",
       "      <th>std</th>\n",
       "      <td>17.394048</td>\n",
       "      <td>17.393135</td>\n",
       "      <td>17.393135</td>\n",
       "      <td>17.394048</td>\n",
       "      <td>17.394048</td>\n",
       "      <td>17.395876</td>\n",
       "      <td>17.394048</td>\n",
       "      <td>17.394048</td>\n",
       "      <td>17.393135</td>\n",
       "      <td>17.393135</td>\n",
       "      <td>...</td>\n",
       "      <td>17.393135</td>\n",
       "      <td>17.394048</td>\n",
       "      <td>17.394048</td>\n",
       "      <td>17.395876</td>\n",
       "      <td>17.394048</td>\n",
       "      <td>17.394048</td>\n",
       "      <td>17.393135</td>\n",
       "      <td>17.393135</td>\n",
       "      <td>17.394048</td>\n",
       "      <td>17.394048</td>\n",
       "    </tr>\n",
       "    <tr>\n",
       "      <th>min</th>\n",
       "      <td>11.000000</td>\n",
       "      <td>11.000000</td>\n",
       "      <td>11.000000</td>\n",
       "      <td>11.000000</td>\n",
       "      <td>11.000000</td>\n",
       "      <td>11.000000</td>\n",
       "      <td>11.000000</td>\n",
       "      <td>11.000000</td>\n",
       "      <td>11.000000</td>\n",
       "      <td>11.000000</td>\n",
       "      <td>...</td>\n",
       "      <td>11.000000</td>\n",
       "      <td>11.000000</td>\n",
       "      <td>11.000000</td>\n",
       "      <td>11.000000</td>\n",
       "      <td>11.000000</td>\n",
       "      <td>11.000000</td>\n",
       "      <td>11.000000</td>\n",
       "      <td>11.000000</td>\n",
       "      <td>11.000000</td>\n",
       "      <td>11.000000</td>\n",
       "    </tr>\n",
       "    <tr>\n",
       "      <th>25%</th>\n",
       "      <td>13.750000</td>\n",
       "      <td>16.500000</td>\n",
       "      <td>22.000000</td>\n",
       "      <td>22.000000</td>\n",
       "      <td>22.000000</td>\n",
       "      <td>13.750000</td>\n",
       "      <td>13.750000</td>\n",
       "      <td>13.750000</td>\n",
       "      <td>16.500000</td>\n",
       "      <td>22.000000</td>\n",
       "      <td>...</td>\n",
       "      <td>22.000000</td>\n",
       "      <td>22.000000</td>\n",
       "      <td>22.000000</td>\n",
       "      <td>13.750000</td>\n",
       "      <td>13.750000</td>\n",
       "      <td>13.750000</td>\n",
       "      <td>16.500000</td>\n",
       "      <td>22.000000</td>\n",
       "      <td>22.000000</td>\n",
       "      <td>22.000000</td>\n",
       "    </tr>\n",
       "    <tr>\n",
       "      <th>50%</th>\n",
       "      <td>22.000000</td>\n",
       "      <td>22.000000</td>\n",
       "      <td>44.000000</td>\n",
       "      <td>44.000000</td>\n",
       "      <td>44.000000</td>\n",
       "      <td>33.000000</td>\n",
       "      <td>22.000000</td>\n",
       "      <td>22.000000</td>\n",
       "      <td>22.000000</td>\n",
       "      <td>44.000000</td>\n",
       "      <td>...</td>\n",
       "      <td>44.000000</td>\n",
       "      <td>44.000000</td>\n",
       "      <td>44.000000</td>\n",
       "      <td>33.000000</td>\n",
       "      <td>22.000000</td>\n",
       "      <td>22.000000</td>\n",
       "      <td>22.000000</td>\n",
       "      <td>44.000000</td>\n",
       "      <td>44.000000</td>\n",
       "      <td>44.000000</td>\n",
       "    </tr>\n",
       "    <tr>\n",
       "      <th>75%</th>\n",
       "      <td>44.000000</td>\n",
       "      <td>44.000000</td>\n",
       "      <td>49.500000</td>\n",
       "      <td>52.250000</td>\n",
       "      <td>52.250000</td>\n",
       "      <td>52.250000</td>\n",
       "      <td>44.000000</td>\n",
       "      <td>44.000000</td>\n",
       "      <td>44.000000</td>\n",
       "      <td>49.500000</td>\n",
       "      <td>...</td>\n",
       "      <td>49.500000</td>\n",
       "      <td>52.250000</td>\n",
       "      <td>52.250000</td>\n",
       "      <td>52.250000</td>\n",
       "      <td>44.000000</td>\n",
       "      <td>44.000000</td>\n",
       "      <td>44.000000</td>\n",
       "      <td>49.500000</td>\n",
       "      <td>52.250000</td>\n",
       "      <td>52.250000</td>\n",
       "    </tr>\n",
       "    <tr>\n",
       "      <th>max</th>\n",
       "      <td>55.000000</td>\n",
       "      <td>55.000000</td>\n",
       "      <td>55.000000</td>\n",
       "      <td>55.000000</td>\n",
       "      <td>55.000000</td>\n",
       "      <td>55.000000</td>\n",
       "      <td>55.000000</td>\n",
       "      <td>55.000000</td>\n",
       "      <td>55.000000</td>\n",
       "      <td>55.000000</td>\n",
       "      <td>...</td>\n",
       "      <td>55.000000</td>\n",
       "      <td>55.000000</td>\n",
       "      <td>55.000000</td>\n",
       "      <td>55.000000</td>\n",
       "      <td>55.000000</td>\n",
       "      <td>55.000000</td>\n",
       "      <td>55.000000</td>\n",
       "      <td>55.000000</td>\n",
       "      <td>55.000000</td>\n",
       "      <td>55.000000</td>\n",
       "    </tr>\n",
       "  </tbody>\n",
       "</table>\n",
       "<p>8 rows × 26 columns</p>\n",
       "</div>"
      ],
      "text/plain": [
       "                 A            B            C            D            E  \\\n",
       "count  5714.000000  5715.000000  5715.000000  5714.000000  5714.000000   \n",
       "mean     32.994225    32.996150    33.003850    33.005775    33.005775   \n",
       "std      17.394048    17.393135    17.393135    17.394048    17.394048   \n",
       "min      11.000000    11.000000    11.000000    11.000000    11.000000   \n",
       "25%      13.750000    16.500000    22.000000    22.000000    22.000000   \n",
       "50%      22.000000    22.000000    44.000000    44.000000    44.000000   \n",
       "75%      44.000000    44.000000    49.500000    52.250000    52.250000   \n",
       "max      55.000000    55.000000    55.000000    55.000000    55.000000   \n",
       "\n",
       "                 F            G            H            I            J  ...  \\\n",
       "count  5714.000000  5714.000000  5714.000000  5715.000000  5715.000000  ...   \n",
       "mean     33.000000    32.994225    32.994225    32.996150    33.003850  ...   \n",
       "std      17.395876    17.394048    17.394048    17.393135    17.393135  ...   \n",
       "min      11.000000    11.000000    11.000000    11.000000    11.000000  ...   \n",
       "25%      13.750000    13.750000    13.750000    16.500000    22.000000  ...   \n",
       "50%      33.000000    22.000000    22.000000    22.000000    44.000000  ...   \n",
       "75%      52.250000    44.000000    44.000000    44.000000    49.500000  ...   \n",
       "max      55.000000    55.000000    55.000000    55.000000    55.000000  ...   \n",
       "\n",
       "                 Q            R            S            T            U  \\\n",
       "count  5715.000000  5714.000000  5714.000000  5714.000000  5714.000000   \n",
       "mean     33.003850    33.005775    33.005775    33.000000    32.994225   \n",
       "std      17.393135    17.394048    17.394048    17.395876    17.394048   \n",
       "min      11.000000    11.000000    11.000000    11.000000    11.000000   \n",
       "25%      22.000000    22.000000    22.000000    13.750000    13.750000   \n",
       "50%      44.000000    44.000000    44.000000    33.000000    22.000000   \n",
       "75%      49.500000    52.250000    52.250000    52.250000    44.000000   \n",
       "max      55.000000    55.000000    55.000000    55.000000    55.000000   \n",
       "\n",
       "                 V            W            X            Y            Z  \n",
       "count  5714.000000  5715.000000  5715.000000  5714.000000  5714.000000  \n",
       "mean     32.994225    32.996150    33.003850    33.005775    33.005775  \n",
       "std      17.394048    17.393135    17.393135    17.394048    17.394048  \n",
       "min      11.000000    11.000000    11.000000    11.000000    11.000000  \n",
       "25%      13.750000    16.500000    22.000000    22.000000    22.000000  \n",
       "50%      22.000000    22.000000    44.000000    44.000000    44.000000  \n",
       "75%      44.000000    44.000000    49.500000    52.250000    52.250000  \n",
       "max      55.000000    55.000000    55.000000    55.000000    55.000000  \n",
       "\n",
       "[8 rows x 26 columns]"
      ]
     },
     "execution_count": 162,
     "metadata": {},
     "output_type": "execute_result"
    }
   ],
   "source": [
    "large_df.describe()"
   ]
  },
  {
   "cell_type": "markdown",
   "metadata": {
    "id": "ZD5aidaqisAH"
   },
   "source": [
    "### saving and loading\n"
   ]
  },
  {
   "cell_type": "code",
   "execution_count": 163,
   "metadata": {
    "colab": {
     "base_uri": "https://localhost:8080/",
     "height": 424
    },
    "id": "HkYIx-swisAH",
    "outputId": "f93fa0c5-1cfd-4b30-8d2c-f85a2e6cb67c"
   },
   "outputs": [
    {
     "data": {
      "text/html": [
       "<div>\n",
       "<style scoped>\n",
       "    .dataframe tbody tr th:only-of-type {\n",
       "        vertical-align: middle;\n",
       "    }\n",
       "\n",
       "    .dataframe tbody tr th {\n",
       "        vertical-align: top;\n",
       "    }\n",
       "\n",
       "    .dataframe thead th {\n",
       "        text-align: right;\n",
       "    }\n",
       "</style>\n",
       "<table border=\"1\" class=\"dataframe\">\n",
       "  <thead>\n",
       "    <tr style=\"text-align: right;\">\n",
       "      <th></th>\n",
       "      <th>A</th>\n",
       "      <th>B</th>\n",
       "      <th>C</th>\n",
       "      <th>feature1</th>\n",
       "      <th>D</th>\n",
       "      <th>E</th>\n",
       "      <th>F</th>\n",
       "      <th>G</th>\n",
       "      <th>H</th>\n",
       "      <th>I</th>\n",
       "      <th>...</th>\n",
       "      <th>Q</th>\n",
       "      <th>R</th>\n",
       "      <th>S</th>\n",
       "      <th>T</th>\n",
       "      <th>U</th>\n",
       "      <th>V</th>\n",
       "      <th>W</th>\n",
       "      <th>X</th>\n",
       "      <th>Y</th>\n",
       "      <th>Z</th>\n",
       "    </tr>\n",
       "  </thead>\n",
       "  <tbody>\n",
       "    <tr>\n",
       "      <th>0</th>\n",
       "      <td>NaN</td>\n",
       "      <td>11.0</td>\n",
       "      <td>22.0</td>\n",
       "      <td>xxx</td>\n",
       "      <td>NaN</td>\n",
       "      <td>44.0</td>\n",
       "      <td>55.0</td>\n",
       "      <td>NaN</td>\n",
       "      <td>NaN</td>\n",
       "      <td>11.0</td>\n",
       "      <td>...</td>\n",
       "      <td>22.0</td>\n",
       "      <td>NaN</td>\n",
       "      <td>44.0</td>\n",
       "      <td>55.0</td>\n",
       "      <td>NaN</td>\n",
       "      <td>NaN</td>\n",
       "      <td>11.0</td>\n",
       "      <td>22.0</td>\n",
       "      <td>NaN</td>\n",
       "      <td>44.0</td>\n",
       "    </tr>\n",
       "    <tr>\n",
       "      <th>1</th>\n",
       "      <td>11.0</td>\n",
       "      <td>22.0</td>\n",
       "      <td>NaN</td>\n",
       "      <td>xxx</td>\n",
       "      <td>44.0</td>\n",
       "      <td>55.0</td>\n",
       "      <td>NaN</td>\n",
       "      <td>NaN</td>\n",
       "      <td>11.0</td>\n",
       "      <td>22.0</td>\n",
       "      <td>...</td>\n",
       "      <td>NaN</td>\n",
       "      <td>44.0</td>\n",
       "      <td>55.0</td>\n",
       "      <td>NaN</td>\n",
       "      <td>NaN</td>\n",
       "      <td>11.0</td>\n",
       "      <td>22.0</td>\n",
       "      <td>NaN</td>\n",
       "      <td>44.0</td>\n",
       "      <td>55.0</td>\n",
       "    </tr>\n",
       "    <tr>\n",
       "      <th>2</th>\n",
       "      <td>22.0</td>\n",
       "      <td>NaN</td>\n",
       "      <td>44.0</td>\n",
       "      <td>xxx</td>\n",
       "      <td>55.0</td>\n",
       "      <td>NaN</td>\n",
       "      <td>NaN</td>\n",
       "      <td>11.0</td>\n",
       "      <td>22.0</td>\n",
       "      <td>NaN</td>\n",
       "      <td>...</td>\n",
       "      <td>44.0</td>\n",
       "      <td>55.0</td>\n",
       "      <td>NaN</td>\n",
       "      <td>NaN</td>\n",
       "      <td>11.0</td>\n",
       "      <td>22.0</td>\n",
       "      <td>NaN</td>\n",
       "      <td>44.0</td>\n",
       "      <td>55.0</td>\n",
       "      <td>NaN</td>\n",
       "    </tr>\n",
       "    <tr>\n",
       "      <th>3</th>\n",
       "      <td>NaN</td>\n",
       "      <td>44.0</td>\n",
       "      <td>55.0</td>\n",
       "      <td>xxx</td>\n",
       "      <td>NaN</td>\n",
       "      <td>NaN</td>\n",
       "      <td>11.0</td>\n",
       "      <td>22.0</td>\n",
       "      <td>NaN</td>\n",
       "      <td>44.0</td>\n",
       "      <td>...</td>\n",
       "      <td>55.0</td>\n",
       "      <td>NaN</td>\n",
       "      <td>NaN</td>\n",
       "      <td>11.0</td>\n",
       "      <td>22.0</td>\n",
       "      <td>NaN</td>\n",
       "      <td>44.0</td>\n",
       "      <td>55.0</td>\n",
       "      <td>NaN</td>\n",
       "      <td>NaN</td>\n",
       "    </tr>\n",
       "    <tr>\n",
       "      <th>4</th>\n",
       "      <td>44.0</td>\n",
       "      <td>55.0</td>\n",
       "      <td>NaN</td>\n",
       "      <td>xxx</td>\n",
       "      <td>NaN</td>\n",
       "      <td>11.0</td>\n",
       "      <td>22.0</td>\n",
       "      <td>NaN</td>\n",
       "      <td>44.0</td>\n",
       "      <td>55.0</td>\n",
       "      <td>...</td>\n",
       "      <td>NaN</td>\n",
       "      <td>NaN</td>\n",
       "      <td>11.0</td>\n",
       "      <td>22.0</td>\n",
       "      <td>NaN</td>\n",
       "      <td>44.0</td>\n",
       "      <td>55.0</td>\n",
       "      <td>NaN</td>\n",
       "      <td>NaN</td>\n",
       "      <td>11.0</td>\n",
       "    </tr>\n",
       "    <tr>\n",
       "      <th>...</th>\n",
       "      <td>...</td>\n",
       "      <td>...</td>\n",
       "      <td>...</td>\n",
       "      <td>...</td>\n",
       "      <td>...</td>\n",
       "      <td>...</td>\n",
       "      <td>...</td>\n",
       "      <td>...</td>\n",
       "      <td>...</td>\n",
       "      <td>...</td>\n",
       "      <td>...</td>\n",
       "      <td>...</td>\n",
       "      <td>...</td>\n",
       "      <td>...</td>\n",
       "      <td>...</td>\n",
       "      <td>...</td>\n",
       "      <td>...</td>\n",
       "      <td>...</td>\n",
       "      <td>...</td>\n",
       "      <td>...</td>\n",
       "      <td>...</td>\n",
       "    </tr>\n",
       "    <tr>\n",
       "      <th>9995</th>\n",
       "      <td>NaN</td>\n",
       "      <td>NaN</td>\n",
       "      <td>11.0</td>\n",
       "      <td>xxx</td>\n",
       "      <td>22.0</td>\n",
       "      <td>NaN</td>\n",
       "      <td>44.0</td>\n",
       "      <td>55.0</td>\n",
       "      <td>NaN</td>\n",
       "      <td>NaN</td>\n",
       "      <td>...</td>\n",
       "      <td>11.0</td>\n",
       "      <td>22.0</td>\n",
       "      <td>NaN</td>\n",
       "      <td>44.0</td>\n",
       "      <td>55.0</td>\n",
       "      <td>NaN</td>\n",
       "      <td>NaN</td>\n",
       "      <td>11.0</td>\n",
       "      <td>22.0</td>\n",
       "      <td>NaN</td>\n",
       "    </tr>\n",
       "    <tr>\n",
       "      <th>9996</th>\n",
       "      <td>NaN</td>\n",
       "      <td>11.0</td>\n",
       "      <td>22.0</td>\n",
       "      <td>xxx</td>\n",
       "      <td>NaN</td>\n",
       "      <td>44.0</td>\n",
       "      <td>55.0</td>\n",
       "      <td>NaN</td>\n",
       "      <td>NaN</td>\n",
       "      <td>11.0</td>\n",
       "      <td>...</td>\n",
       "      <td>22.0</td>\n",
       "      <td>NaN</td>\n",
       "      <td>44.0</td>\n",
       "      <td>55.0</td>\n",
       "      <td>NaN</td>\n",
       "      <td>NaN</td>\n",
       "      <td>11.0</td>\n",
       "      <td>22.0</td>\n",
       "      <td>NaN</td>\n",
       "      <td>44.0</td>\n",
       "    </tr>\n",
       "    <tr>\n",
       "      <th>9997</th>\n",
       "      <td>11.0</td>\n",
       "      <td>22.0</td>\n",
       "      <td>NaN</td>\n",
       "      <td>xxx</td>\n",
       "      <td>44.0</td>\n",
       "      <td>55.0</td>\n",
       "      <td>NaN</td>\n",
       "      <td>NaN</td>\n",
       "      <td>11.0</td>\n",
       "      <td>22.0</td>\n",
       "      <td>...</td>\n",
       "      <td>NaN</td>\n",
       "      <td>44.0</td>\n",
       "      <td>55.0</td>\n",
       "      <td>NaN</td>\n",
       "      <td>NaN</td>\n",
       "      <td>11.0</td>\n",
       "      <td>22.0</td>\n",
       "      <td>NaN</td>\n",
       "      <td>44.0</td>\n",
       "      <td>55.0</td>\n",
       "    </tr>\n",
       "    <tr>\n",
       "      <th>9998</th>\n",
       "      <td>22.0</td>\n",
       "      <td>NaN</td>\n",
       "      <td>44.0</td>\n",
       "      <td>xxx</td>\n",
       "      <td>55.0</td>\n",
       "      <td>NaN</td>\n",
       "      <td>NaN</td>\n",
       "      <td>11.0</td>\n",
       "      <td>22.0</td>\n",
       "      <td>NaN</td>\n",
       "      <td>...</td>\n",
       "      <td>44.0</td>\n",
       "      <td>55.0</td>\n",
       "      <td>NaN</td>\n",
       "      <td>NaN</td>\n",
       "      <td>11.0</td>\n",
       "      <td>22.0</td>\n",
       "      <td>NaN</td>\n",
       "      <td>44.0</td>\n",
       "      <td>55.0</td>\n",
       "      <td>NaN</td>\n",
       "    </tr>\n",
       "    <tr>\n",
       "      <th>9999</th>\n",
       "      <td>NaN</td>\n",
       "      <td>44.0</td>\n",
       "      <td>55.0</td>\n",
       "      <td>xxx</td>\n",
       "      <td>NaN</td>\n",
       "      <td>NaN</td>\n",
       "      <td>11.0</td>\n",
       "      <td>22.0</td>\n",
       "      <td>NaN</td>\n",
       "      <td>44.0</td>\n",
       "      <td>...</td>\n",
       "      <td>55.0</td>\n",
       "      <td>NaN</td>\n",
       "      <td>NaN</td>\n",
       "      <td>11.0</td>\n",
       "      <td>22.0</td>\n",
       "      <td>NaN</td>\n",
       "      <td>44.0</td>\n",
       "      <td>55.0</td>\n",
       "      <td>NaN</td>\n",
       "      <td>NaN</td>\n",
       "    </tr>\n",
       "  </tbody>\n",
       "</table>\n",
       "<p>10000 rows × 27 columns</p>\n",
       "</div>"
      ],
      "text/plain": [
       "         A     B     C feature1     D     E     F     G     H     I  ...  \\\n",
       "0      NaN  11.0  22.0      xxx   NaN  44.0  55.0   NaN   NaN  11.0  ...   \n",
       "1     11.0  22.0   NaN      xxx  44.0  55.0   NaN   NaN  11.0  22.0  ...   \n",
       "2     22.0   NaN  44.0      xxx  55.0   NaN   NaN  11.0  22.0   NaN  ...   \n",
       "3      NaN  44.0  55.0      xxx   NaN   NaN  11.0  22.0   NaN  44.0  ...   \n",
       "4     44.0  55.0   NaN      xxx   NaN  11.0  22.0   NaN  44.0  55.0  ...   \n",
       "...    ...   ...   ...      ...   ...   ...   ...   ...   ...   ...  ...   \n",
       "9995   NaN   NaN  11.0      xxx  22.0   NaN  44.0  55.0   NaN   NaN  ...   \n",
       "9996   NaN  11.0  22.0      xxx   NaN  44.0  55.0   NaN   NaN  11.0  ...   \n",
       "9997  11.0  22.0   NaN      xxx  44.0  55.0   NaN   NaN  11.0  22.0  ...   \n",
       "9998  22.0   NaN  44.0      xxx  55.0   NaN   NaN  11.0  22.0   NaN  ...   \n",
       "9999   NaN  44.0  55.0      xxx   NaN   NaN  11.0  22.0   NaN  44.0  ...   \n",
       "\n",
       "         Q     R     S     T     U     V     W     X     Y     Z  \n",
       "0     22.0   NaN  44.0  55.0   NaN   NaN  11.0  22.0   NaN  44.0  \n",
       "1      NaN  44.0  55.0   NaN   NaN  11.0  22.0   NaN  44.0  55.0  \n",
       "2     44.0  55.0   NaN   NaN  11.0  22.0   NaN  44.0  55.0   NaN  \n",
       "3     55.0   NaN   NaN  11.0  22.0   NaN  44.0  55.0   NaN   NaN  \n",
       "4      NaN   NaN  11.0  22.0   NaN  44.0  55.0   NaN   NaN  11.0  \n",
       "...    ...   ...   ...   ...   ...   ...   ...   ...   ...   ...  \n",
       "9995  11.0  22.0   NaN  44.0  55.0   NaN   NaN  11.0  22.0   NaN  \n",
       "9996  22.0   NaN  44.0  55.0   NaN   NaN  11.0  22.0   NaN  44.0  \n",
       "9997   NaN  44.0  55.0   NaN   NaN  11.0  22.0   NaN  44.0  55.0  \n",
       "9998  44.0  55.0   NaN   NaN  11.0  22.0   NaN  44.0  55.0   NaN  \n",
       "9999  55.0   NaN   NaN  11.0  22.0   NaN  44.0  55.0   NaN   NaN  \n",
       "\n",
       "[10000 rows x 27 columns]"
      ]
     },
     "execution_count": 163,
     "metadata": {},
     "output_type": "execute_result"
    }
   ],
   "source": [
    "large_df"
   ]
  },
  {
   "cell_type": "markdown",
   "metadata": {
    "id": "5l51ZNCmisAH"
   },
   "source": [
    "### save and load\n"
   ]
  },
  {
   "cell_type": "code",
   "execution_count": 164,
   "metadata": {
    "id": "9nI4Ix8uisAH"
   },
   "outputs": [],
   "source": [
    "large_df.to_csv(\"my_df.csv\")\n",
    "large_df.to_csv(\"my_df.xlsx\")"
   ]
  },
  {
   "cell_type": "code",
   "execution_count": 165,
   "metadata": {
    "id": "e7TGve19isAI"
   },
   "outputs": [],
   "source": [
    "df0 = pd.read_csv(\"my_df.csv\", index_col=0)"
   ]
  },
  {
   "cell_type": "markdown",
   "metadata": {
    "id": "cz37ryhLisAI"
   },
   "source": [
    "### combining DataFrames\n",
    "pandas has the ability to perform SQL-like joins: inner joins, left/right outer joins and full joins"
   ]
  },
  {
   "cell_type": "code",
   "execution_count": 166,
   "metadata": {
    "colab": {
     "base_uri": "https://localhost:8080/",
     "height": 206
    },
    "id": "PWT2uN0EisAJ",
    "outputId": "493f5858-ce2f-42b3-9d5b-fbc1d4800868"
   },
   "outputs": [
    {
     "data": {
      "text/html": [
       "<div>\n",
       "<style scoped>\n",
       "    .dataframe tbody tr th:only-of-type {\n",
       "        vertical-align: middle;\n",
       "    }\n",
       "\n",
       "    .dataframe tbody tr th {\n",
       "        vertical-align: top;\n",
       "    }\n",
       "\n",
       "    .dataframe thead th {\n",
       "        text-align: right;\n",
       "    }\n",
       "</style>\n",
       "<table border=\"1\" class=\"dataframe\">\n",
       "  <thead>\n",
       "    <tr style=\"text-align: right;\">\n",
       "      <th></th>\n",
       "      <th>state</th>\n",
       "      <th>city</th>\n",
       "      <th>lat</th>\n",
       "      <th>lon</th>\n",
       "    </tr>\n",
       "  </thead>\n",
       "  <tbody>\n",
       "    <tr>\n",
       "      <th>0</th>\n",
       "      <td>CA</td>\n",
       "      <td>San Francisco</td>\n",
       "      <td>37.781334</td>\n",
       "      <td>-122.416728</td>\n",
       "    </tr>\n",
       "    <tr>\n",
       "      <th>1</th>\n",
       "      <td>NY</td>\n",
       "      <td>New York</td>\n",
       "      <td>40.705649</td>\n",
       "      <td>-74.008344</td>\n",
       "    </tr>\n",
       "    <tr>\n",
       "      <th>2</th>\n",
       "      <td>FL</td>\n",
       "      <td>Miami</td>\n",
       "      <td>25.791100</td>\n",
       "      <td>-80.320733</td>\n",
       "    </tr>\n",
       "    <tr>\n",
       "      <th>3</th>\n",
       "      <td>OH</td>\n",
       "      <td>Cleveland</td>\n",
       "      <td>41.473508</td>\n",
       "      <td>-81.739791</td>\n",
       "    </tr>\n",
       "    <tr>\n",
       "      <th>4</th>\n",
       "      <td>UT</td>\n",
       "      <td>Salt Lake City</td>\n",
       "      <td>40.755851</td>\n",
       "      <td>-111.896657</td>\n",
       "    </tr>\n",
       "  </tbody>\n",
       "</table>\n",
       "</div>"
      ],
      "text/plain": [
       "  state            city        lat         lon\n",
       "0    CA   San Francisco  37.781334 -122.416728\n",
       "1    NY        New York  40.705649  -74.008344\n",
       "2    FL           Miami  25.791100  -80.320733\n",
       "3    OH       Cleveland  41.473508  -81.739791\n",
       "4    UT  Salt Lake City  40.755851 -111.896657"
      ]
     },
     "execution_count": 166,
     "metadata": {},
     "output_type": "execute_result"
    }
   ],
   "source": [
    "city_loc = pd.DataFrame(\n",
    "    [\n",
    "        [\"CA\", \"San Francisco\", 37.781334, -122.416728],\n",
    "        [\"NY\", \"New York\", 40.705649, -74.008344],\n",
    "        [\"FL\", \"Miami\", 25.791100, -80.320733],\n",
    "        [\"OH\", \"Cleveland\", 41.473508, -81.739791],\n",
    "        [\"UT\", \"Salt Lake City\", 40.755851, -111.896657]\n",
    "    ], columns=[\"state\", \"city\", \"lat\", \"lon\"])\n",
    "city_loc"
   ]
  },
  {
   "cell_type": "code",
   "execution_count": 167,
   "metadata": {
    "colab": {
     "base_uri": "https://localhost:8080/",
     "height": 175
    },
    "id": "EJx5hYXEisAJ",
    "outputId": "e4296b45-a8d1-4e0b-a4d6-1043a8410d20"
   },
   "outputs": [
    {
     "data": {
      "text/html": [
       "<div>\n",
       "<style scoped>\n",
       "    .dataframe tbody tr th:only-of-type {\n",
       "        vertical-align: middle;\n",
       "    }\n",
       "\n",
       "    .dataframe tbody tr th {\n",
       "        vertical-align: top;\n",
       "    }\n",
       "\n",
       "    .dataframe thead th {\n",
       "        text-align: right;\n",
       "    }\n",
       "</style>\n",
       "<table border=\"1\" class=\"dataframe\">\n",
       "  <thead>\n",
       "    <tr style=\"text-align: right;\">\n",
       "      <th></th>\n",
       "      <th>population</th>\n",
       "      <th>city</th>\n",
       "      <th>state</th>\n",
       "    </tr>\n",
       "  </thead>\n",
       "  <tbody>\n",
       "    <tr>\n",
       "      <th>3</th>\n",
       "      <td>808976</td>\n",
       "      <td>San Francisco</td>\n",
       "      <td>California</td>\n",
       "    </tr>\n",
       "    <tr>\n",
       "      <th>4</th>\n",
       "      <td>8363710</td>\n",
       "      <td>New York</td>\n",
       "      <td>New York</td>\n",
       "    </tr>\n",
       "    <tr>\n",
       "      <th>5</th>\n",
       "      <td>413201</td>\n",
       "      <td>Miami</td>\n",
       "      <td>Florida</td>\n",
       "    </tr>\n",
       "    <tr>\n",
       "      <th>6</th>\n",
       "      <td>2242193</td>\n",
       "      <td>Houston</td>\n",
       "      <td>Texas</td>\n",
       "    </tr>\n",
       "  </tbody>\n",
       "</table>\n",
       "</div>"
      ],
      "text/plain": [
       "   population           city       state\n",
       "3      808976  San Francisco  California\n",
       "4     8363710       New York    New York\n",
       "5      413201          Miami     Florida\n",
       "6     2242193        Houston       Texas"
      ]
     },
     "execution_count": 167,
     "metadata": {},
     "output_type": "execute_result"
    }
   ],
   "source": [
    "city_pop = pd.DataFrame(\n",
    "    [\n",
    "        [808976, \"San Francisco\", \"California\"],\n",
    "        [8363710, \"New York\", \"New York\"],\n",
    "        [413201, \"Miami\", \"Florida\"],\n",
    "        [2242193, \"Houston\", \"Texas\"]\n",
    "    ], index=[3,4,5,6], columns=[\"population\", \"city\", \"state\"])\n",
    "city_pop"
   ]
  },
  {
   "cell_type": "code",
   "execution_count": 168,
   "metadata": {
    "colab": {
     "base_uri": "https://localhost:8080/",
     "height": 143
    },
    "id": "sAlZgUcgisAJ",
    "outputId": "901d9363-584c-48dc-db49-737835e4b8cd"
   },
   "outputs": [
    {
     "data": {
      "text/html": [
       "<div>\n",
       "<style scoped>\n",
       "    .dataframe tbody tr th:only-of-type {\n",
       "        vertical-align: middle;\n",
       "    }\n",
       "\n",
       "    .dataframe tbody tr th {\n",
       "        vertical-align: top;\n",
       "    }\n",
       "\n",
       "    .dataframe thead th {\n",
       "        text-align: right;\n",
       "    }\n",
       "</style>\n",
       "<table border=\"1\" class=\"dataframe\">\n",
       "  <thead>\n",
       "    <tr style=\"text-align: right;\">\n",
       "      <th></th>\n",
       "      <th>state_x</th>\n",
       "      <th>city</th>\n",
       "      <th>lat</th>\n",
       "      <th>lon</th>\n",
       "      <th>population</th>\n",
       "      <th>state_y</th>\n",
       "    </tr>\n",
       "  </thead>\n",
       "  <tbody>\n",
       "    <tr>\n",
       "      <th>0</th>\n",
       "      <td>CA</td>\n",
       "      <td>San Francisco</td>\n",
       "      <td>37.781334</td>\n",
       "      <td>-122.416728</td>\n",
       "      <td>808976</td>\n",
       "      <td>California</td>\n",
       "    </tr>\n",
       "    <tr>\n",
       "      <th>1</th>\n",
       "      <td>NY</td>\n",
       "      <td>New York</td>\n",
       "      <td>40.705649</td>\n",
       "      <td>-74.008344</td>\n",
       "      <td>8363710</td>\n",
       "      <td>New York</td>\n",
       "    </tr>\n",
       "    <tr>\n",
       "      <th>2</th>\n",
       "      <td>FL</td>\n",
       "      <td>Miami</td>\n",
       "      <td>25.791100</td>\n",
       "      <td>-80.320733</td>\n",
       "      <td>413201</td>\n",
       "      <td>Florida</td>\n",
       "    </tr>\n",
       "  </tbody>\n",
       "</table>\n",
       "</div>"
      ],
      "text/plain": [
       "  state_x           city        lat         lon  population     state_y\n",
       "0      CA  San Francisco  37.781334 -122.416728      808976  California\n",
       "1      NY       New York  40.705649  -74.008344     8363710    New York\n",
       "2      FL          Miami  25.791100  -80.320733      413201     Florida"
      ]
     },
     "execution_count": 168,
     "metadata": {},
     "output_type": "execute_result"
    }
   ],
   "source": [
    "pd.merge(left=city_loc, right=city_pop, on=\"city\")"
   ]
  },
  {
   "cell_type": "markdown",
   "metadata": {
    "id": "H99X0chtisAJ"
   },
   "source": [
    "Note that both `DataFrame`s have a column named `state`, so in the result they got renamed to `state_x` and `state_y`.\n",
    "\n",
    "Also, note that Cleveland, Salt Lake City and Houston were dropped because they don't exist in *both* `DataFrame`s. This is the equivalent of a SQL `INNER JOIN`. If you want a `FULL OUTER JOIN`, where no city gets dropped and `NaN` values are added, you must specify `how=\"outer\"`:"
   ]
  },
  {
   "cell_type": "code",
   "execution_count": 169,
   "metadata": {
    "colab": {
     "base_uri": "https://localhost:8080/",
     "height": 238
    },
    "id": "Xk04dNo5isAJ",
    "outputId": "df6499b2-9345-4929-9fca-b9410b5a990b"
   },
   "outputs": [
    {
     "data": {
      "text/html": [
       "<div>\n",
       "<style scoped>\n",
       "    .dataframe tbody tr th:only-of-type {\n",
       "        vertical-align: middle;\n",
       "    }\n",
       "\n",
       "    .dataframe tbody tr th {\n",
       "        vertical-align: top;\n",
       "    }\n",
       "\n",
       "    .dataframe thead th {\n",
       "        text-align: right;\n",
       "    }\n",
       "</style>\n",
       "<table border=\"1\" class=\"dataframe\">\n",
       "  <thead>\n",
       "    <tr style=\"text-align: right;\">\n",
       "      <th></th>\n",
       "      <th>state_x</th>\n",
       "      <th>city</th>\n",
       "      <th>lat</th>\n",
       "      <th>lon</th>\n",
       "      <th>population</th>\n",
       "      <th>state_y</th>\n",
       "    </tr>\n",
       "  </thead>\n",
       "  <tbody>\n",
       "    <tr>\n",
       "      <th>0</th>\n",
       "      <td>CA</td>\n",
       "      <td>San Francisco</td>\n",
       "      <td>37.781334</td>\n",
       "      <td>-122.416728</td>\n",
       "      <td>808976.0</td>\n",
       "      <td>California</td>\n",
       "    </tr>\n",
       "    <tr>\n",
       "      <th>1</th>\n",
       "      <td>NY</td>\n",
       "      <td>New York</td>\n",
       "      <td>40.705649</td>\n",
       "      <td>-74.008344</td>\n",
       "      <td>8363710.0</td>\n",
       "      <td>New York</td>\n",
       "    </tr>\n",
       "    <tr>\n",
       "      <th>2</th>\n",
       "      <td>FL</td>\n",
       "      <td>Miami</td>\n",
       "      <td>25.791100</td>\n",
       "      <td>-80.320733</td>\n",
       "      <td>413201.0</td>\n",
       "      <td>Florida</td>\n",
       "    </tr>\n",
       "    <tr>\n",
       "      <th>3</th>\n",
       "      <td>OH</td>\n",
       "      <td>Cleveland</td>\n",
       "      <td>41.473508</td>\n",
       "      <td>-81.739791</td>\n",
       "      <td>NaN</td>\n",
       "      <td>NaN</td>\n",
       "    </tr>\n",
       "    <tr>\n",
       "      <th>4</th>\n",
       "      <td>UT</td>\n",
       "      <td>Salt Lake City</td>\n",
       "      <td>40.755851</td>\n",
       "      <td>-111.896657</td>\n",
       "      <td>NaN</td>\n",
       "      <td>NaN</td>\n",
       "    </tr>\n",
       "    <tr>\n",
       "      <th>5</th>\n",
       "      <td>NaN</td>\n",
       "      <td>Houston</td>\n",
       "      <td>NaN</td>\n",
       "      <td>NaN</td>\n",
       "      <td>2242193.0</td>\n",
       "      <td>Texas</td>\n",
       "    </tr>\n",
       "  </tbody>\n",
       "</table>\n",
       "</div>"
      ],
      "text/plain": [
       "  state_x            city        lat         lon  population     state_y\n",
       "0      CA   San Francisco  37.781334 -122.416728    808976.0  California\n",
       "1      NY        New York  40.705649  -74.008344   8363710.0    New York\n",
       "2      FL           Miami  25.791100  -80.320733    413201.0     Florida\n",
       "3      OH       Cleveland  41.473508  -81.739791         NaN         NaN\n",
       "4      UT  Salt Lake City  40.755851 -111.896657         NaN         NaN\n",
       "5     NaN         Houston        NaN         NaN   2242193.0       Texas"
      ]
     },
     "execution_count": 169,
     "metadata": {},
     "output_type": "execute_result"
    }
   ],
   "source": [
    "all_cities = pd.merge(left=city_loc, right=city_pop, on=\"city\", how=\"outer\")\n",
    "all_cities"
   ]
  },
  {
   "cell_type": "markdown",
   "metadata": {
    "id": "Y74RGXPFisAJ"
   },
   "source": [
    "Of course `LEFT OUTER JOIN` is also available by setting `how=\"left\"`: only the cities present in the left `DataFrame` end up in the result. Similarly, with `how=\"right\"` only cities in the right `DataFrame` appear in the result. For example:"
   ]
  },
  {
   "cell_type": "code",
   "execution_count": 170,
   "metadata": {
    "colab": {
     "base_uri": "https://localhost:8080/",
     "height": 175
    },
    "id": "3hyIuwiOisAJ",
    "outputId": "1384aa39-e4b4-4022-b659-c8508064235d"
   },
   "outputs": [
    {
     "data": {
      "text/html": [
       "<div>\n",
       "<style scoped>\n",
       "    .dataframe tbody tr th:only-of-type {\n",
       "        vertical-align: middle;\n",
       "    }\n",
       "\n",
       "    .dataframe tbody tr th {\n",
       "        vertical-align: top;\n",
       "    }\n",
       "\n",
       "    .dataframe thead th {\n",
       "        text-align: right;\n",
       "    }\n",
       "</style>\n",
       "<table border=\"1\" class=\"dataframe\">\n",
       "  <thead>\n",
       "    <tr style=\"text-align: right;\">\n",
       "      <th></th>\n",
       "      <th>state_x</th>\n",
       "      <th>city</th>\n",
       "      <th>lat</th>\n",
       "      <th>lon</th>\n",
       "      <th>population</th>\n",
       "      <th>state_y</th>\n",
       "    </tr>\n",
       "  </thead>\n",
       "  <tbody>\n",
       "    <tr>\n",
       "      <th>0</th>\n",
       "      <td>CA</td>\n",
       "      <td>San Francisco</td>\n",
       "      <td>37.781334</td>\n",
       "      <td>-122.416728</td>\n",
       "      <td>808976</td>\n",
       "      <td>California</td>\n",
       "    </tr>\n",
       "    <tr>\n",
       "      <th>1</th>\n",
       "      <td>NY</td>\n",
       "      <td>New York</td>\n",
       "      <td>40.705649</td>\n",
       "      <td>-74.008344</td>\n",
       "      <td>8363710</td>\n",
       "      <td>New York</td>\n",
       "    </tr>\n",
       "    <tr>\n",
       "      <th>2</th>\n",
       "      <td>FL</td>\n",
       "      <td>Miami</td>\n",
       "      <td>25.791100</td>\n",
       "      <td>-80.320733</td>\n",
       "      <td>413201</td>\n",
       "      <td>Florida</td>\n",
       "    </tr>\n",
       "    <tr>\n",
       "      <th>3</th>\n",
       "      <td>NaN</td>\n",
       "      <td>Houston</td>\n",
       "      <td>NaN</td>\n",
       "      <td>NaN</td>\n",
       "      <td>2242193</td>\n",
       "      <td>Texas</td>\n",
       "    </tr>\n",
       "  </tbody>\n",
       "</table>\n",
       "</div>"
      ],
      "text/plain": [
       "  state_x           city        lat         lon  population     state_y\n",
       "0      CA  San Francisco  37.781334 -122.416728      808976  California\n",
       "1      NY       New York  40.705649  -74.008344     8363710    New York\n",
       "2      FL          Miami  25.791100  -80.320733      413201     Florida\n",
       "3     NaN        Houston        NaN         NaN     2242193       Texas"
      ]
     },
     "execution_count": 170,
     "metadata": {},
     "output_type": "execute_result"
    }
   ],
   "source": [
    "pd.merge(left=city_loc, right=city_pop, on=\"city\", how=\"right\")"
   ]
  },
  {
   "cell_type": "markdown",
   "metadata": {
    "id": "GDhu4jyoisAJ"
   },
   "source": [
    "If the key to join on is actually in one (or both) `DataFrame`'s index, you must use `left_index=True` and/or `right_index=True`. If the key column names differ, you must use `left_on` and `right_on`. For example:"
   ]
  },
  {
   "cell_type": "code",
   "execution_count": 171,
   "metadata": {
    "colab": {
     "base_uri": "https://localhost:8080/",
     "height": 143
    },
    "id": "o8SAiRFiisAJ",
    "outputId": "4f3ab966-45ea-4ac0-dea0-9b773b047a6d"
   },
   "outputs": [
    {
     "data": {
      "text/html": [
       "<div>\n",
       "<style scoped>\n",
       "    .dataframe tbody tr th:only-of-type {\n",
       "        vertical-align: middle;\n",
       "    }\n",
       "\n",
       "    .dataframe tbody tr th {\n",
       "        vertical-align: top;\n",
       "    }\n",
       "\n",
       "    .dataframe thead th {\n",
       "        text-align: right;\n",
       "    }\n",
       "</style>\n",
       "<table border=\"1\" class=\"dataframe\">\n",
       "  <thead>\n",
       "    <tr style=\"text-align: right;\">\n",
       "      <th></th>\n",
       "      <th>state_x</th>\n",
       "      <th>city</th>\n",
       "      <th>lat</th>\n",
       "      <th>lon</th>\n",
       "      <th>population</th>\n",
       "      <th>name</th>\n",
       "      <th>state_y</th>\n",
       "    </tr>\n",
       "  </thead>\n",
       "  <tbody>\n",
       "    <tr>\n",
       "      <th>0</th>\n",
       "      <td>CA</td>\n",
       "      <td>San Francisco</td>\n",
       "      <td>37.781334</td>\n",
       "      <td>-122.416728</td>\n",
       "      <td>808976</td>\n",
       "      <td>San Francisco</td>\n",
       "      <td>California</td>\n",
       "    </tr>\n",
       "    <tr>\n",
       "      <th>1</th>\n",
       "      <td>NY</td>\n",
       "      <td>New York</td>\n",
       "      <td>40.705649</td>\n",
       "      <td>-74.008344</td>\n",
       "      <td>8363710</td>\n",
       "      <td>New York</td>\n",
       "      <td>New York</td>\n",
       "    </tr>\n",
       "    <tr>\n",
       "      <th>2</th>\n",
       "      <td>FL</td>\n",
       "      <td>Miami</td>\n",
       "      <td>25.791100</td>\n",
       "      <td>-80.320733</td>\n",
       "      <td>413201</td>\n",
       "      <td>Miami</td>\n",
       "      <td>Florida</td>\n",
       "    </tr>\n",
       "  </tbody>\n",
       "</table>\n",
       "</div>"
      ],
      "text/plain": [
       "  state_x           city        lat         lon  population           name  \\\n",
       "0      CA  San Francisco  37.781334 -122.416728      808976  San Francisco   \n",
       "1      NY       New York  40.705649  -74.008344     8363710       New York   \n",
       "2      FL          Miami  25.791100  -80.320733      413201          Miami   \n",
       "\n",
       "      state_y  \n",
       "0  California  \n",
       "1    New York  \n",
       "2     Florida  "
      ]
     },
     "execution_count": 171,
     "metadata": {},
     "output_type": "execute_result"
    }
   ],
   "source": [
    "city_pop2 = city_pop.copy()\n",
    "city_pop2.columns = [\"population\", \"name\", \"state\"]\n",
    "pd.merge(left=city_loc, right=city_pop2, left_on=\"city\", right_on=\"name\")"
   ]
  },
  {
   "cell_type": "markdown",
   "metadata": {
    "id": "qp7ggYxLisAJ"
   },
   "source": [
    "### Concatenation\n",
    "Rather than joining `DataFrame`s, we may just want to concatenate them. That's what `concat()` is for:"
   ]
  },
  {
   "cell_type": "code",
   "execution_count": 172,
   "metadata": {
    "colab": {
     "base_uri": "https://localhost:8080/",
     "height": 332
    },
    "id": "0lK2anomisAK",
    "outputId": "7f1af5c7-e66c-4339-d52d-70bdd69f6546"
   },
   "outputs": [
    {
     "name": "stderr",
     "output_type": "stream",
     "text": [
      "/Users/naftali/opt/anaconda3/lib/python3.7/site-packages/ipykernel_launcher.py:1: FutureWarning: Sorting because non-concatenation axis is not aligned. A future version\n",
      "of pandas will change to not sort by default.\n",
      "\n",
      "To accept the future behavior, pass 'sort=False'.\n",
      "\n",
      "To retain the current behavior and silence the warning, pass 'sort=True'.\n",
      "\n",
      "  \"\"\"Entry point for launching an IPython kernel.\n"
     ]
    },
    {
     "data": {
      "text/html": [
       "<div>\n",
       "<style scoped>\n",
       "    .dataframe tbody tr th:only-of-type {\n",
       "        vertical-align: middle;\n",
       "    }\n",
       "\n",
       "    .dataframe tbody tr th {\n",
       "        vertical-align: top;\n",
       "    }\n",
       "\n",
       "    .dataframe thead th {\n",
       "        text-align: right;\n",
       "    }\n",
       "</style>\n",
       "<table border=\"1\" class=\"dataframe\">\n",
       "  <thead>\n",
       "    <tr style=\"text-align: right;\">\n",
       "      <th></th>\n",
       "      <th>city</th>\n",
       "      <th>lat</th>\n",
       "      <th>lon</th>\n",
       "      <th>population</th>\n",
       "      <th>state</th>\n",
       "    </tr>\n",
       "  </thead>\n",
       "  <tbody>\n",
       "    <tr>\n",
       "      <th>0</th>\n",
       "      <td>San Francisco</td>\n",
       "      <td>37.781334</td>\n",
       "      <td>-122.416728</td>\n",
       "      <td>NaN</td>\n",
       "      <td>CA</td>\n",
       "    </tr>\n",
       "    <tr>\n",
       "      <th>1</th>\n",
       "      <td>New York</td>\n",
       "      <td>40.705649</td>\n",
       "      <td>-74.008344</td>\n",
       "      <td>NaN</td>\n",
       "      <td>NY</td>\n",
       "    </tr>\n",
       "    <tr>\n",
       "      <th>2</th>\n",
       "      <td>Miami</td>\n",
       "      <td>25.791100</td>\n",
       "      <td>-80.320733</td>\n",
       "      <td>NaN</td>\n",
       "      <td>FL</td>\n",
       "    </tr>\n",
       "    <tr>\n",
       "      <th>3</th>\n",
       "      <td>Cleveland</td>\n",
       "      <td>41.473508</td>\n",
       "      <td>-81.739791</td>\n",
       "      <td>NaN</td>\n",
       "      <td>OH</td>\n",
       "    </tr>\n",
       "    <tr>\n",
       "      <th>4</th>\n",
       "      <td>Salt Lake City</td>\n",
       "      <td>40.755851</td>\n",
       "      <td>-111.896657</td>\n",
       "      <td>NaN</td>\n",
       "      <td>UT</td>\n",
       "    </tr>\n",
       "    <tr>\n",
       "      <th>3</th>\n",
       "      <td>San Francisco</td>\n",
       "      <td>NaN</td>\n",
       "      <td>NaN</td>\n",
       "      <td>808976.0</td>\n",
       "      <td>California</td>\n",
       "    </tr>\n",
       "    <tr>\n",
       "      <th>4</th>\n",
       "      <td>New York</td>\n",
       "      <td>NaN</td>\n",
       "      <td>NaN</td>\n",
       "      <td>8363710.0</td>\n",
       "      <td>New York</td>\n",
       "    </tr>\n",
       "    <tr>\n",
       "      <th>5</th>\n",
       "      <td>Miami</td>\n",
       "      <td>NaN</td>\n",
       "      <td>NaN</td>\n",
       "      <td>413201.0</td>\n",
       "      <td>Florida</td>\n",
       "    </tr>\n",
       "    <tr>\n",
       "      <th>6</th>\n",
       "      <td>Houston</td>\n",
       "      <td>NaN</td>\n",
       "      <td>NaN</td>\n",
       "      <td>2242193.0</td>\n",
       "      <td>Texas</td>\n",
       "    </tr>\n",
       "  </tbody>\n",
       "</table>\n",
       "</div>"
      ],
      "text/plain": [
       "             city        lat         lon  population       state\n",
       "0   San Francisco  37.781334 -122.416728         NaN          CA\n",
       "1        New York  40.705649  -74.008344         NaN          NY\n",
       "2           Miami  25.791100  -80.320733         NaN          FL\n",
       "3       Cleveland  41.473508  -81.739791         NaN          OH\n",
       "4  Salt Lake City  40.755851 -111.896657         NaN          UT\n",
       "3   San Francisco        NaN         NaN    808976.0  California\n",
       "4        New York        NaN         NaN   8363710.0    New York\n",
       "5           Miami        NaN         NaN    413201.0     Florida\n",
       "6         Houston        NaN         NaN   2242193.0       Texas"
      ]
     },
     "execution_count": 172,
     "metadata": {},
     "output_type": "execute_result"
    }
   ],
   "source": [
    "result_concat = pd.concat([city_loc, city_pop])\n",
    "result_concat"
   ]
  },
  {
   "cell_type": "markdown",
   "metadata": {
    "id": "RzFDleuqisAK"
   },
   "source": [
    "Note that this operation aligned the data horizontally (by columns) but not vertically (by rows). In this example, we end up with multiple rows having the same index (eg. 3). Pandas handles this rather gracefully:"
   ]
  },
  {
   "cell_type": "code",
   "execution_count": 173,
   "metadata": {
    "colab": {
     "base_uri": "https://localhost:8080/",
     "height": 112
    },
    "id": "1EImioN6isAK",
    "outputId": "bff07c9e-745a-4c05-e2f6-9b800413044a"
   },
   "outputs": [
    {
     "data": {
      "text/html": [
       "<div>\n",
       "<style scoped>\n",
       "    .dataframe tbody tr th:only-of-type {\n",
       "        vertical-align: middle;\n",
       "    }\n",
       "\n",
       "    .dataframe tbody tr th {\n",
       "        vertical-align: top;\n",
       "    }\n",
       "\n",
       "    .dataframe thead th {\n",
       "        text-align: right;\n",
       "    }\n",
       "</style>\n",
       "<table border=\"1\" class=\"dataframe\">\n",
       "  <thead>\n",
       "    <tr style=\"text-align: right;\">\n",
       "      <th></th>\n",
       "      <th>city</th>\n",
       "      <th>lat</th>\n",
       "      <th>lon</th>\n",
       "      <th>population</th>\n",
       "      <th>state</th>\n",
       "    </tr>\n",
       "  </thead>\n",
       "  <tbody>\n",
       "    <tr>\n",
       "      <th>3</th>\n",
       "      <td>Cleveland</td>\n",
       "      <td>41.473508</td>\n",
       "      <td>-81.739791</td>\n",
       "      <td>NaN</td>\n",
       "      <td>OH</td>\n",
       "    </tr>\n",
       "    <tr>\n",
       "      <th>3</th>\n",
       "      <td>San Francisco</td>\n",
       "      <td>NaN</td>\n",
       "      <td>NaN</td>\n",
       "      <td>808976.0</td>\n",
       "      <td>California</td>\n",
       "    </tr>\n",
       "  </tbody>\n",
       "</table>\n",
       "</div>"
      ],
      "text/plain": [
       "            city        lat        lon  population       state\n",
       "3      Cleveland  41.473508 -81.739791         NaN          OH\n",
       "3  San Francisco        NaN        NaN    808976.0  California"
      ]
     },
     "execution_count": 173,
     "metadata": {},
     "output_type": "execute_result"
    }
   ],
   "source": [
    "result_concat.loc[3]"
   ]
  },
  {
   "cell_type": "markdown",
   "metadata": {
    "id": "F1MuJ3swisAK"
   },
   "source": [
    "Or you can tell pandas to just ignore the index:"
   ]
  },
  {
   "cell_type": "code",
   "execution_count": 174,
   "metadata": {
    "colab": {
     "base_uri": "https://localhost:8080/",
     "height": 332
    },
    "id": "ANNsO2xqisAK",
    "outputId": "644aadee-8a56-4ba9-9631-84aa567b9e69"
   },
   "outputs": [
    {
     "name": "stderr",
     "output_type": "stream",
     "text": [
      "/Users/naftali/opt/anaconda3/lib/python3.7/site-packages/ipykernel_launcher.py:1: FutureWarning: Sorting because non-concatenation axis is not aligned. A future version\n",
      "of pandas will change to not sort by default.\n",
      "\n",
      "To accept the future behavior, pass 'sort=False'.\n",
      "\n",
      "To retain the current behavior and silence the warning, pass 'sort=True'.\n",
      "\n",
      "  \"\"\"Entry point for launching an IPython kernel.\n"
     ]
    },
    {
     "data": {
      "text/html": [
       "<div>\n",
       "<style scoped>\n",
       "    .dataframe tbody tr th:only-of-type {\n",
       "        vertical-align: middle;\n",
       "    }\n",
       "\n",
       "    .dataframe tbody tr th {\n",
       "        vertical-align: top;\n",
       "    }\n",
       "\n",
       "    .dataframe thead th {\n",
       "        text-align: right;\n",
       "    }\n",
       "</style>\n",
       "<table border=\"1\" class=\"dataframe\">\n",
       "  <thead>\n",
       "    <tr style=\"text-align: right;\">\n",
       "      <th></th>\n",
       "      <th>city</th>\n",
       "      <th>lat</th>\n",
       "      <th>lon</th>\n",
       "      <th>population</th>\n",
       "      <th>state</th>\n",
       "    </tr>\n",
       "  </thead>\n",
       "  <tbody>\n",
       "    <tr>\n",
       "      <th>0</th>\n",
       "      <td>San Francisco</td>\n",
       "      <td>37.781334</td>\n",
       "      <td>-122.416728</td>\n",
       "      <td>NaN</td>\n",
       "      <td>CA</td>\n",
       "    </tr>\n",
       "    <tr>\n",
       "      <th>1</th>\n",
       "      <td>New York</td>\n",
       "      <td>40.705649</td>\n",
       "      <td>-74.008344</td>\n",
       "      <td>NaN</td>\n",
       "      <td>NY</td>\n",
       "    </tr>\n",
       "    <tr>\n",
       "      <th>2</th>\n",
       "      <td>Miami</td>\n",
       "      <td>25.791100</td>\n",
       "      <td>-80.320733</td>\n",
       "      <td>NaN</td>\n",
       "      <td>FL</td>\n",
       "    </tr>\n",
       "    <tr>\n",
       "      <th>3</th>\n",
       "      <td>Cleveland</td>\n",
       "      <td>41.473508</td>\n",
       "      <td>-81.739791</td>\n",
       "      <td>NaN</td>\n",
       "      <td>OH</td>\n",
       "    </tr>\n",
       "    <tr>\n",
       "      <th>4</th>\n",
       "      <td>Salt Lake City</td>\n",
       "      <td>40.755851</td>\n",
       "      <td>-111.896657</td>\n",
       "      <td>NaN</td>\n",
       "      <td>UT</td>\n",
       "    </tr>\n",
       "    <tr>\n",
       "      <th>5</th>\n",
       "      <td>San Francisco</td>\n",
       "      <td>NaN</td>\n",
       "      <td>NaN</td>\n",
       "      <td>808976.0</td>\n",
       "      <td>California</td>\n",
       "    </tr>\n",
       "    <tr>\n",
       "      <th>6</th>\n",
       "      <td>New York</td>\n",
       "      <td>NaN</td>\n",
       "      <td>NaN</td>\n",
       "      <td>8363710.0</td>\n",
       "      <td>New York</td>\n",
       "    </tr>\n",
       "    <tr>\n",
       "      <th>7</th>\n",
       "      <td>Miami</td>\n",
       "      <td>NaN</td>\n",
       "      <td>NaN</td>\n",
       "      <td>413201.0</td>\n",
       "      <td>Florida</td>\n",
       "    </tr>\n",
       "    <tr>\n",
       "      <th>8</th>\n",
       "      <td>Houston</td>\n",
       "      <td>NaN</td>\n",
       "      <td>NaN</td>\n",
       "      <td>2242193.0</td>\n",
       "      <td>Texas</td>\n",
       "    </tr>\n",
       "  </tbody>\n",
       "</table>\n",
       "</div>"
      ],
      "text/plain": [
       "             city        lat         lon  population       state\n",
       "0   San Francisco  37.781334 -122.416728         NaN          CA\n",
       "1        New York  40.705649  -74.008344         NaN          NY\n",
       "2           Miami  25.791100  -80.320733         NaN          FL\n",
       "3       Cleveland  41.473508  -81.739791         NaN          OH\n",
       "4  Salt Lake City  40.755851 -111.896657         NaN          UT\n",
       "5   San Francisco        NaN         NaN    808976.0  California\n",
       "6        New York        NaN         NaN   8363710.0    New York\n",
       "7           Miami        NaN         NaN    413201.0     Florida\n",
       "8         Houston        NaN         NaN   2242193.0       Texas"
      ]
     },
     "execution_count": 174,
     "metadata": {},
     "output_type": "execute_result"
    }
   ],
   "source": [
    "pd.concat([city_loc, city_pop], ignore_index=True)"
   ]
  },
  {
   "cell_type": "markdown",
   "metadata": {
    "id": "FbO56dhCisAK"
   },
   "source": [
    "Notice that when a column does not exist in a `DataFrame`, it acts as if it was filled with `NaN` values. If we set `join=\"inner\"`, then only columns that exist in *both* `DataFrame`s are returned:"
   ]
  },
  {
   "cell_type": "code",
   "execution_count": 175,
   "metadata": {
    "colab": {
     "base_uri": "https://localhost:8080/",
     "height": 332
    },
    "id": "Stejyr4_isAK",
    "outputId": "f884ae5b-7923-4ac1-eeba-049b13033ed4"
   },
   "outputs": [
    {
     "data": {
      "text/html": [
       "<div>\n",
       "<style scoped>\n",
       "    .dataframe tbody tr th:only-of-type {\n",
       "        vertical-align: middle;\n",
       "    }\n",
       "\n",
       "    .dataframe tbody tr th {\n",
       "        vertical-align: top;\n",
       "    }\n",
       "\n",
       "    .dataframe thead th {\n",
       "        text-align: right;\n",
       "    }\n",
       "</style>\n",
       "<table border=\"1\" class=\"dataframe\">\n",
       "  <thead>\n",
       "    <tr style=\"text-align: right;\">\n",
       "      <th></th>\n",
       "      <th>state</th>\n",
       "      <th>city</th>\n",
       "    </tr>\n",
       "  </thead>\n",
       "  <tbody>\n",
       "    <tr>\n",
       "      <th>0</th>\n",
       "      <td>CA</td>\n",
       "      <td>San Francisco</td>\n",
       "    </tr>\n",
       "    <tr>\n",
       "      <th>1</th>\n",
       "      <td>NY</td>\n",
       "      <td>New York</td>\n",
       "    </tr>\n",
       "    <tr>\n",
       "      <th>2</th>\n",
       "      <td>FL</td>\n",
       "      <td>Miami</td>\n",
       "    </tr>\n",
       "    <tr>\n",
       "      <th>3</th>\n",
       "      <td>OH</td>\n",
       "      <td>Cleveland</td>\n",
       "    </tr>\n",
       "    <tr>\n",
       "      <th>4</th>\n",
       "      <td>UT</td>\n",
       "      <td>Salt Lake City</td>\n",
       "    </tr>\n",
       "    <tr>\n",
       "      <th>3</th>\n",
       "      <td>California</td>\n",
       "      <td>San Francisco</td>\n",
       "    </tr>\n",
       "    <tr>\n",
       "      <th>4</th>\n",
       "      <td>New York</td>\n",
       "      <td>New York</td>\n",
       "    </tr>\n",
       "    <tr>\n",
       "      <th>5</th>\n",
       "      <td>Florida</td>\n",
       "      <td>Miami</td>\n",
       "    </tr>\n",
       "    <tr>\n",
       "      <th>6</th>\n",
       "      <td>Texas</td>\n",
       "      <td>Houston</td>\n",
       "    </tr>\n",
       "  </tbody>\n",
       "</table>\n",
       "</div>"
      ],
      "text/plain": [
       "        state            city\n",
       "0          CA   San Francisco\n",
       "1          NY        New York\n",
       "2          FL           Miami\n",
       "3          OH       Cleveland\n",
       "4          UT  Salt Lake City\n",
       "3  California   San Francisco\n",
       "4    New York        New York\n",
       "5     Florida           Miami\n",
       "6       Texas         Houston"
      ]
     },
     "execution_count": 175,
     "metadata": {},
     "output_type": "execute_result"
    }
   ],
   "source": [
    "pd.concat([city_loc, city_pop], join=\"inner\")"
   ]
  },
  {
   "cell_type": "markdown",
   "metadata": {
    "id": "pbtzRV_SisAL"
   },
   "source": [
    "You can concatenate `DataFrame`s horizontally instead of vertically by setting `axis=1`:"
   ]
  },
  {
   "cell_type": "code",
   "execution_count": 176,
   "metadata": {
    "colab": {
     "base_uri": "https://localhost:8080/",
     "height": 269
    },
    "id": "URAd1s7JisAL",
    "outputId": "e04f5d3c-5f4f-45ee-c61a-484acfd12f88",
    "scrolled": true
   },
   "outputs": [
    {
     "data": {
      "text/html": [
       "<div>\n",
       "<style scoped>\n",
       "    .dataframe tbody tr th:only-of-type {\n",
       "        vertical-align: middle;\n",
       "    }\n",
       "\n",
       "    .dataframe tbody tr th {\n",
       "        vertical-align: top;\n",
       "    }\n",
       "\n",
       "    .dataframe thead th {\n",
       "        text-align: right;\n",
       "    }\n",
       "</style>\n",
       "<table border=\"1\" class=\"dataframe\">\n",
       "  <thead>\n",
       "    <tr style=\"text-align: right;\">\n",
       "      <th></th>\n",
       "      <th>state</th>\n",
       "      <th>city</th>\n",
       "      <th>lat</th>\n",
       "      <th>lon</th>\n",
       "      <th>population</th>\n",
       "      <th>city</th>\n",
       "      <th>state</th>\n",
       "    </tr>\n",
       "  </thead>\n",
       "  <tbody>\n",
       "    <tr>\n",
       "      <th>0</th>\n",
       "      <td>CA</td>\n",
       "      <td>San Francisco</td>\n",
       "      <td>37.781334</td>\n",
       "      <td>-122.416728</td>\n",
       "      <td>NaN</td>\n",
       "      <td>NaN</td>\n",
       "      <td>NaN</td>\n",
       "    </tr>\n",
       "    <tr>\n",
       "      <th>1</th>\n",
       "      <td>NY</td>\n",
       "      <td>New York</td>\n",
       "      <td>40.705649</td>\n",
       "      <td>-74.008344</td>\n",
       "      <td>NaN</td>\n",
       "      <td>NaN</td>\n",
       "      <td>NaN</td>\n",
       "    </tr>\n",
       "    <tr>\n",
       "      <th>2</th>\n",
       "      <td>FL</td>\n",
       "      <td>Miami</td>\n",
       "      <td>25.791100</td>\n",
       "      <td>-80.320733</td>\n",
       "      <td>NaN</td>\n",
       "      <td>NaN</td>\n",
       "      <td>NaN</td>\n",
       "    </tr>\n",
       "    <tr>\n",
       "      <th>3</th>\n",
       "      <td>OH</td>\n",
       "      <td>Cleveland</td>\n",
       "      <td>41.473508</td>\n",
       "      <td>-81.739791</td>\n",
       "      <td>808976.0</td>\n",
       "      <td>San Francisco</td>\n",
       "      <td>California</td>\n",
       "    </tr>\n",
       "    <tr>\n",
       "      <th>4</th>\n",
       "      <td>UT</td>\n",
       "      <td>Salt Lake City</td>\n",
       "      <td>40.755851</td>\n",
       "      <td>-111.896657</td>\n",
       "      <td>8363710.0</td>\n",
       "      <td>New York</td>\n",
       "      <td>New York</td>\n",
       "    </tr>\n",
       "    <tr>\n",
       "      <th>5</th>\n",
       "      <td>NaN</td>\n",
       "      <td>NaN</td>\n",
       "      <td>NaN</td>\n",
       "      <td>NaN</td>\n",
       "      <td>413201.0</td>\n",
       "      <td>Miami</td>\n",
       "      <td>Florida</td>\n",
       "    </tr>\n",
       "    <tr>\n",
       "      <th>6</th>\n",
       "      <td>NaN</td>\n",
       "      <td>NaN</td>\n",
       "      <td>NaN</td>\n",
       "      <td>NaN</td>\n",
       "      <td>2242193.0</td>\n",
       "      <td>Houston</td>\n",
       "      <td>Texas</td>\n",
       "    </tr>\n",
       "  </tbody>\n",
       "</table>\n",
       "</div>"
      ],
      "text/plain": [
       "  state            city        lat         lon  population           city  \\\n",
       "0    CA   San Francisco  37.781334 -122.416728         NaN            NaN   \n",
       "1    NY        New York  40.705649  -74.008344         NaN            NaN   \n",
       "2    FL           Miami  25.791100  -80.320733         NaN            NaN   \n",
       "3    OH       Cleveland  41.473508  -81.739791    808976.0  San Francisco   \n",
       "4    UT  Salt Lake City  40.755851 -111.896657   8363710.0       New York   \n",
       "5   NaN             NaN        NaN         NaN    413201.0          Miami   \n",
       "6   NaN             NaN        NaN         NaN   2242193.0        Houston   \n",
       "\n",
       "        state  \n",
       "0         NaN  \n",
       "1         NaN  \n",
       "2         NaN  \n",
       "3  California  \n",
       "4    New York  \n",
       "5     Florida  \n",
       "6       Texas  "
      ]
     },
     "execution_count": 176,
     "metadata": {},
     "output_type": "execute_result"
    }
   ],
   "source": [
    "pd.concat([city_loc, city_pop], axis=1)"
   ]
  },
  {
   "cell_type": "markdown",
   "metadata": {
    "id": "7aPdUCT0isAL"
   },
   "source": [
    "In this case it really does not make much sense because the indices do not align well (eg. Cleveland and San Francisco end up on the same row, because they shared the index label `3`). So let's reindex the `DataFrame`s by city name before concatenating:"
   ]
  },
  {
   "cell_type": "code",
   "execution_count": 177,
   "metadata": {
    "colab": {
     "base_uri": "https://localhost:8080/",
     "height": 238
    },
    "id": "tb8vC6ECisAL",
    "outputId": "4e584512-8873-4e1a-9ab2-7d3ea4e621a8",
    "scrolled": true
   },
   "outputs": [
    {
     "name": "stderr",
     "output_type": "stream",
     "text": [
      "/Users/naftali/opt/anaconda3/lib/python3.7/site-packages/ipykernel_launcher.py:1: FutureWarning: Sorting because non-concatenation axis is not aligned. A future version\n",
      "of pandas will change to not sort by default.\n",
      "\n",
      "To accept the future behavior, pass 'sort=False'.\n",
      "\n",
      "To retain the current behavior and silence the warning, pass 'sort=True'.\n",
      "\n",
      "  \"\"\"Entry point for launching an IPython kernel.\n"
     ]
    },
    {
     "data": {
      "text/html": [
       "<div>\n",
       "<style scoped>\n",
       "    .dataframe tbody tr th:only-of-type {\n",
       "        vertical-align: middle;\n",
       "    }\n",
       "\n",
       "    .dataframe tbody tr th {\n",
       "        vertical-align: top;\n",
       "    }\n",
       "\n",
       "    .dataframe thead th {\n",
       "        text-align: right;\n",
       "    }\n",
       "</style>\n",
       "<table border=\"1\" class=\"dataframe\">\n",
       "  <thead>\n",
       "    <tr style=\"text-align: right;\">\n",
       "      <th></th>\n",
       "      <th>state</th>\n",
       "      <th>lat</th>\n",
       "      <th>lon</th>\n",
       "      <th>population</th>\n",
       "      <th>state</th>\n",
       "    </tr>\n",
       "  </thead>\n",
       "  <tbody>\n",
       "    <tr>\n",
       "      <th>Cleveland</th>\n",
       "      <td>OH</td>\n",
       "      <td>41.473508</td>\n",
       "      <td>-81.739791</td>\n",
       "      <td>NaN</td>\n",
       "      <td>NaN</td>\n",
       "    </tr>\n",
       "    <tr>\n",
       "      <th>Houston</th>\n",
       "      <td>NaN</td>\n",
       "      <td>NaN</td>\n",
       "      <td>NaN</td>\n",
       "      <td>2242193.0</td>\n",
       "      <td>Texas</td>\n",
       "    </tr>\n",
       "    <tr>\n",
       "      <th>Miami</th>\n",
       "      <td>FL</td>\n",
       "      <td>25.791100</td>\n",
       "      <td>-80.320733</td>\n",
       "      <td>413201.0</td>\n",
       "      <td>Florida</td>\n",
       "    </tr>\n",
       "    <tr>\n",
       "      <th>New York</th>\n",
       "      <td>NY</td>\n",
       "      <td>40.705649</td>\n",
       "      <td>-74.008344</td>\n",
       "      <td>8363710.0</td>\n",
       "      <td>New York</td>\n",
       "    </tr>\n",
       "    <tr>\n",
       "      <th>Salt Lake City</th>\n",
       "      <td>UT</td>\n",
       "      <td>40.755851</td>\n",
       "      <td>-111.896657</td>\n",
       "      <td>NaN</td>\n",
       "      <td>NaN</td>\n",
       "    </tr>\n",
       "    <tr>\n",
       "      <th>San Francisco</th>\n",
       "      <td>CA</td>\n",
       "      <td>37.781334</td>\n",
       "      <td>-122.416728</td>\n",
       "      <td>808976.0</td>\n",
       "      <td>California</td>\n",
       "    </tr>\n",
       "  </tbody>\n",
       "</table>\n",
       "</div>"
      ],
      "text/plain": [
       "               state        lat         lon  population       state\n",
       "Cleveland         OH  41.473508  -81.739791         NaN         NaN\n",
       "Houston          NaN        NaN         NaN   2242193.0       Texas\n",
       "Miami             FL  25.791100  -80.320733    413201.0     Florida\n",
       "New York          NY  40.705649  -74.008344   8363710.0    New York\n",
       "Salt Lake City    UT  40.755851 -111.896657         NaN         NaN\n",
       "San Francisco     CA  37.781334 -122.416728    808976.0  California"
      ]
     },
     "execution_count": 177,
     "metadata": {},
     "output_type": "execute_result"
    }
   ],
   "source": [
    "pd.concat([city_loc.set_index(\"city\"), city_pop.set_index(\"city\")], axis=1)"
   ]
  },
  {
   "cell_type": "markdown",
   "metadata": {
    "id": "ogYCLH9IisAL"
   },
   "source": [
    "This looks a lot like a `FULL OUTER JOIN`, except that the `state` columns were not renamed to `state_x` and `state_y`, and the `city` column is now the index."
   ]
  },
  {
   "cell_type": "markdown",
   "metadata": {
    "id": "sVJJ7KGvisAL"
   },
   "source": [
    "The `append()` method is a useful shorthand for concatenating `DataFrame`s vertically:"
   ]
  },
  {
   "cell_type": "code",
   "execution_count": 178,
   "metadata": {
    "colab": {
     "base_uri": "https://localhost:8080/",
     "height": 332
    },
    "id": "IwJhmFxxisAL",
    "outputId": "398312e4-5f15-473c-a8b1-44ad58041454"
   },
   "outputs": [
    {
     "name": "stderr",
     "output_type": "stream",
     "text": [
      "/Users/naftali/opt/anaconda3/lib/python3.7/site-packages/pandas/core/frame.py:7138: FutureWarning: Sorting because non-concatenation axis is not aligned. A future version\n",
      "of pandas will change to not sort by default.\n",
      "\n",
      "To accept the future behavior, pass 'sort=False'.\n",
      "\n",
      "To retain the current behavior and silence the warning, pass 'sort=True'.\n",
      "\n",
      "  sort=sort,\n"
     ]
    },
    {
     "data": {
      "text/html": [
       "<div>\n",
       "<style scoped>\n",
       "    .dataframe tbody tr th:only-of-type {\n",
       "        vertical-align: middle;\n",
       "    }\n",
       "\n",
       "    .dataframe tbody tr th {\n",
       "        vertical-align: top;\n",
       "    }\n",
       "\n",
       "    .dataframe thead th {\n",
       "        text-align: right;\n",
       "    }\n",
       "</style>\n",
       "<table border=\"1\" class=\"dataframe\">\n",
       "  <thead>\n",
       "    <tr style=\"text-align: right;\">\n",
       "      <th></th>\n",
       "      <th>city</th>\n",
       "      <th>lat</th>\n",
       "      <th>lon</th>\n",
       "      <th>population</th>\n",
       "      <th>state</th>\n",
       "    </tr>\n",
       "  </thead>\n",
       "  <tbody>\n",
       "    <tr>\n",
       "      <th>0</th>\n",
       "      <td>San Francisco</td>\n",
       "      <td>37.781334</td>\n",
       "      <td>-122.416728</td>\n",
       "      <td>NaN</td>\n",
       "      <td>CA</td>\n",
       "    </tr>\n",
       "    <tr>\n",
       "      <th>1</th>\n",
       "      <td>New York</td>\n",
       "      <td>40.705649</td>\n",
       "      <td>-74.008344</td>\n",
       "      <td>NaN</td>\n",
       "      <td>NY</td>\n",
       "    </tr>\n",
       "    <tr>\n",
       "      <th>2</th>\n",
       "      <td>Miami</td>\n",
       "      <td>25.791100</td>\n",
       "      <td>-80.320733</td>\n",
       "      <td>NaN</td>\n",
       "      <td>FL</td>\n",
       "    </tr>\n",
       "    <tr>\n",
       "      <th>3</th>\n",
       "      <td>Cleveland</td>\n",
       "      <td>41.473508</td>\n",
       "      <td>-81.739791</td>\n",
       "      <td>NaN</td>\n",
       "      <td>OH</td>\n",
       "    </tr>\n",
       "    <tr>\n",
       "      <th>4</th>\n",
       "      <td>Salt Lake City</td>\n",
       "      <td>40.755851</td>\n",
       "      <td>-111.896657</td>\n",
       "      <td>NaN</td>\n",
       "      <td>UT</td>\n",
       "    </tr>\n",
       "    <tr>\n",
       "      <th>3</th>\n",
       "      <td>San Francisco</td>\n",
       "      <td>NaN</td>\n",
       "      <td>NaN</td>\n",
       "      <td>808976.0</td>\n",
       "      <td>California</td>\n",
       "    </tr>\n",
       "    <tr>\n",
       "      <th>4</th>\n",
       "      <td>New York</td>\n",
       "      <td>NaN</td>\n",
       "      <td>NaN</td>\n",
       "      <td>8363710.0</td>\n",
       "      <td>New York</td>\n",
       "    </tr>\n",
       "    <tr>\n",
       "      <th>5</th>\n",
       "      <td>Miami</td>\n",
       "      <td>NaN</td>\n",
       "      <td>NaN</td>\n",
       "      <td>413201.0</td>\n",
       "      <td>Florida</td>\n",
       "    </tr>\n",
       "    <tr>\n",
       "      <th>6</th>\n",
       "      <td>Houston</td>\n",
       "      <td>NaN</td>\n",
       "      <td>NaN</td>\n",
       "      <td>2242193.0</td>\n",
       "      <td>Texas</td>\n",
       "    </tr>\n",
       "  </tbody>\n",
       "</table>\n",
       "</div>"
      ],
      "text/plain": [
       "             city        lat         lon  population       state\n",
       "0   San Francisco  37.781334 -122.416728         NaN          CA\n",
       "1        New York  40.705649  -74.008344         NaN          NY\n",
       "2           Miami  25.791100  -80.320733         NaN          FL\n",
       "3       Cleveland  41.473508  -81.739791         NaN          OH\n",
       "4  Salt Lake City  40.755851 -111.896657         NaN          UT\n",
       "3   San Francisco        NaN         NaN    808976.0  California\n",
       "4        New York        NaN         NaN   8363710.0    New York\n",
       "5           Miami        NaN         NaN    413201.0     Florida\n",
       "6         Houston        NaN         NaN   2242193.0       Texas"
      ]
     },
     "execution_count": 178,
     "metadata": {},
     "output_type": "execute_result"
    }
   ],
   "source": [
    "city_loc.append(city_pop)"
   ]
  },
  {
   "cell_type": "markdown",
   "metadata": {
    "id": "gWKYx1FAisAM"
   },
   "source": [
    "As always in pandas, the `append()` method does *not* actually modify `city_loc`: it works on a copy and returns the modified copy."
   ]
  },
  {
   "cell_type": "markdown",
   "metadata": {
    "id": "sgSvURt-isAM"
   },
   "source": [
    "### Categories\n",
    "It is quite frequent to have values that represent categories, for example `1` for female and `2` for male, or `\"A\"` for Good, `\"B\"` for Average, `\"C\"` for Bad. These categorical values can be hard to read and cumbersome to handle, but fortunately pandas makes it easy. To illustrate this, let's take the `city_pop` `DataFrame` we created earlier, and add a column that represents a category:"
   ]
  },
  {
   "cell_type": "code",
   "execution_count": 179,
   "metadata": {
    "colab": {
     "base_uri": "https://localhost:8080/",
     "height": 175
    },
    "id": "T6brmpA7isAM",
    "outputId": "bad3dcd5-43af-4c2e-f9b0-5d9fed4199a9"
   },
   "outputs": [
    {
     "data": {
      "text/html": [
       "<div>\n",
       "<style scoped>\n",
       "    .dataframe tbody tr th:only-of-type {\n",
       "        vertical-align: middle;\n",
       "    }\n",
       "\n",
       "    .dataframe tbody tr th {\n",
       "        vertical-align: top;\n",
       "    }\n",
       "\n",
       "    .dataframe thead th {\n",
       "        text-align: right;\n",
       "    }\n",
       "</style>\n",
       "<table border=\"1\" class=\"dataframe\">\n",
       "  <thead>\n",
       "    <tr style=\"text-align: right;\">\n",
       "      <th></th>\n",
       "      <th>population</th>\n",
       "      <th>city</th>\n",
       "      <th>state</th>\n",
       "      <th>eco_code</th>\n",
       "    </tr>\n",
       "  </thead>\n",
       "  <tbody>\n",
       "    <tr>\n",
       "      <th>3</th>\n",
       "      <td>808976</td>\n",
       "      <td>San Francisco</td>\n",
       "      <td>California</td>\n",
       "      <td>17</td>\n",
       "    </tr>\n",
       "    <tr>\n",
       "      <th>4</th>\n",
       "      <td>8363710</td>\n",
       "      <td>New York</td>\n",
       "      <td>New York</td>\n",
       "      <td>17</td>\n",
       "    </tr>\n",
       "    <tr>\n",
       "      <th>5</th>\n",
       "      <td>413201</td>\n",
       "      <td>Miami</td>\n",
       "      <td>Florida</td>\n",
       "      <td>34</td>\n",
       "    </tr>\n",
       "    <tr>\n",
       "      <th>6</th>\n",
       "      <td>2242193</td>\n",
       "      <td>Houston</td>\n",
       "      <td>Texas</td>\n",
       "      <td>20</td>\n",
       "    </tr>\n",
       "  </tbody>\n",
       "</table>\n",
       "</div>"
      ],
      "text/plain": [
       "   population           city       state  eco_code\n",
       "3      808976  San Francisco  California        17\n",
       "4     8363710       New York    New York        17\n",
       "5      413201          Miami     Florida        34\n",
       "6     2242193        Houston       Texas        20"
      ]
     },
     "execution_count": 179,
     "metadata": {},
     "output_type": "execute_result"
    }
   ],
   "source": [
    "city_eco = city_pop.copy()\n",
    "city_eco[\"eco_code\"] = [17, 17, 34, 20]\n",
    "city_eco"
   ]
  },
  {
   "cell_type": "markdown",
   "metadata": {
    "id": "tQIf7DX3isAM"
   },
   "source": [
    "Right now the `eco_code` column is full of apparently meaningless codes. Let's fix that. First, we will create a new categorical column based on the `eco_code`s:"
   ]
  },
  {
   "cell_type": "code",
   "execution_count": 180,
   "metadata": {
    "colab": {
     "base_uri": "https://localhost:8080/"
    },
    "id": "g6Z-nzOGisAM",
    "outputId": "30b2eec7-0f6a-49a4-ee59-bee69b0bf274"
   },
   "outputs": [
    {
     "data": {
      "text/plain": [
       "Int64Index([17, 20, 34], dtype='int64')"
      ]
     },
     "execution_count": 180,
     "metadata": {},
     "output_type": "execute_result"
    }
   ],
   "source": [
    "city_eco[\"economy\"] = city_eco[\"eco_code\"].astype('category')\n",
    "city_eco[\"economy\"].cat.categories"
   ]
  },
  {
   "cell_type": "markdown",
   "metadata": {
    "id": "876jGSnDisAM"
   },
   "source": [
    "Now we can give each category a meaningful name:"
   ]
  },
  {
   "cell_type": "code",
   "execution_count": 181,
   "metadata": {
    "colab": {
     "base_uri": "https://localhost:8080/",
     "height": 175
    },
    "id": "jUZ5qjc1isAM",
    "outputId": "16303323-2238-470b-9317-e858384549b4"
   },
   "outputs": [
    {
     "data": {
      "text/html": [
       "<div>\n",
       "<style scoped>\n",
       "    .dataframe tbody tr th:only-of-type {\n",
       "        vertical-align: middle;\n",
       "    }\n",
       "\n",
       "    .dataframe tbody tr th {\n",
       "        vertical-align: top;\n",
       "    }\n",
       "\n",
       "    .dataframe thead th {\n",
       "        text-align: right;\n",
       "    }\n",
       "</style>\n",
       "<table border=\"1\" class=\"dataframe\">\n",
       "  <thead>\n",
       "    <tr style=\"text-align: right;\">\n",
       "      <th></th>\n",
       "      <th>population</th>\n",
       "      <th>city</th>\n",
       "      <th>state</th>\n",
       "      <th>eco_code</th>\n",
       "      <th>economy</th>\n",
       "    </tr>\n",
       "  </thead>\n",
       "  <tbody>\n",
       "    <tr>\n",
       "      <th>3</th>\n",
       "      <td>808976</td>\n",
       "      <td>San Francisco</td>\n",
       "      <td>California</td>\n",
       "      <td>17</td>\n",
       "      <td>Finance</td>\n",
       "    </tr>\n",
       "    <tr>\n",
       "      <th>4</th>\n",
       "      <td>8363710</td>\n",
       "      <td>New York</td>\n",
       "      <td>New York</td>\n",
       "      <td>17</td>\n",
       "      <td>Finance</td>\n",
       "    </tr>\n",
       "    <tr>\n",
       "      <th>5</th>\n",
       "      <td>413201</td>\n",
       "      <td>Miami</td>\n",
       "      <td>Florida</td>\n",
       "      <td>34</td>\n",
       "      <td>Tourism</td>\n",
       "    </tr>\n",
       "    <tr>\n",
       "      <th>6</th>\n",
       "      <td>2242193</td>\n",
       "      <td>Houston</td>\n",
       "      <td>Texas</td>\n",
       "      <td>20</td>\n",
       "      <td>Energy</td>\n",
       "    </tr>\n",
       "  </tbody>\n",
       "</table>\n",
       "</div>"
      ],
      "text/plain": [
       "   population           city       state  eco_code  economy\n",
       "3      808976  San Francisco  California        17  Finance\n",
       "4     8363710       New York    New York        17  Finance\n",
       "5      413201          Miami     Florida        34  Tourism\n",
       "6     2242193        Houston       Texas        20   Energy"
      ]
     },
     "execution_count": 181,
     "metadata": {},
     "output_type": "execute_result"
    }
   ],
   "source": [
    "city_eco[\"economy\"].cat.categories = [\"Finance\", \"Energy\", \"Tourism\"]\n",
    "city_eco"
   ]
  },
  {
   "cell_type": "markdown",
   "metadata": {
    "id": "mwp3rPWaisAM"
   },
   "source": [
    "Note that categorical values are sorted according to their categorical order, *not* their alphabetical order:"
   ]
  },
  {
   "cell_type": "code",
   "execution_count": 182,
   "metadata": {
    "colab": {
     "base_uri": "https://localhost:8080/",
     "height": 175
    },
    "id": "s5fx32g0isAN",
    "outputId": "5a82bca6-d5a3-4401-f77c-2ef3c26df5a7"
   },
   "outputs": [
    {
     "data": {
      "text/html": [
       "<div>\n",
       "<style scoped>\n",
       "    .dataframe tbody tr th:only-of-type {\n",
       "        vertical-align: middle;\n",
       "    }\n",
       "\n",
       "    .dataframe tbody tr th {\n",
       "        vertical-align: top;\n",
       "    }\n",
       "\n",
       "    .dataframe thead th {\n",
       "        text-align: right;\n",
       "    }\n",
       "</style>\n",
       "<table border=\"1\" class=\"dataframe\">\n",
       "  <thead>\n",
       "    <tr style=\"text-align: right;\">\n",
       "      <th></th>\n",
       "      <th>population</th>\n",
       "      <th>city</th>\n",
       "      <th>state</th>\n",
       "      <th>eco_code</th>\n",
       "      <th>economy</th>\n",
       "    </tr>\n",
       "  </thead>\n",
       "  <tbody>\n",
       "    <tr>\n",
       "      <th>5</th>\n",
       "      <td>413201</td>\n",
       "      <td>Miami</td>\n",
       "      <td>Florida</td>\n",
       "      <td>34</td>\n",
       "      <td>Tourism</td>\n",
       "    </tr>\n",
       "    <tr>\n",
       "      <th>6</th>\n",
       "      <td>2242193</td>\n",
       "      <td>Houston</td>\n",
       "      <td>Texas</td>\n",
       "      <td>20</td>\n",
       "      <td>Energy</td>\n",
       "    </tr>\n",
       "    <tr>\n",
       "      <th>3</th>\n",
       "      <td>808976</td>\n",
       "      <td>San Francisco</td>\n",
       "      <td>California</td>\n",
       "      <td>17</td>\n",
       "      <td>Finance</td>\n",
       "    </tr>\n",
       "    <tr>\n",
       "      <th>4</th>\n",
       "      <td>8363710</td>\n",
       "      <td>New York</td>\n",
       "      <td>New York</td>\n",
       "      <td>17</td>\n",
       "      <td>Finance</td>\n",
       "    </tr>\n",
       "  </tbody>\n",
       "</table>\n",
       "</div>"
      ],
      "text/plain": [
       "   population           city       state  eco_code  economy\n",
       "5      413201          Miami     Florida        34  Tourism\n",
       "6     2242193        Houston       Texas        20   Energy\n",
       "3      808976  San Francisco  California        17  Finance\n",
       "4     8363710       New York    New York        17  Finance"
      ]
     },
     "execution_count": 182,
     "metadata": {},
     "output_type": "execute_result"
    }
   ],
   "source": [
    "city_eco.sort_values(by=\"economy\", ascending=False)"
   ]
  },
  {
   "cell_type": "markdown",
   "metadata": {
    "id": "rfZ7Lz4ARPXs"
   },
   "source": [
    "\n",
    "# Chapter -2: Linear Algebra"
   ]
  },
  {
   "cell_type": "markdown",
   "metadata": {
    "id": "fsfs0wriWzbv"
   },
   "source": [
    "##Scalars, Vectors, Matrices\n",
    "\n",
    "Values consisting of one numerical quantity are called **scalars**. \n",
    "For example, the average annual temperature in New York City during is $53^\\circ$F. \n",
    "In the following, we adopt the mathematical notation where **scalar** variables are denoted by ordinary lower-cased letters (e.g., $x, y,$ and $z$). \n",
    "\n",
    "We denote the space of real-valued scalars by $\\mathbb{R}$. Formally, $x \\in \\mathbb{R}$ means that $x$ is a real-valued scalar, where the symbol $\\in$ is pronounced \"in,\" and simply denotes membership in a set. \n",
    "\n",
    "\n"
   ]
  },
  {
   "cell_type": "code",
   "execution_count": 183,
   "metadata": {
    "colab": {
     "base_uri": "https://localhost:8080/"
    },
    "id": "Itt9P9WxVEeG",
    "outputId": "80e393fe-cde1-46b8-cb71-ba65429dbdc7"
   },
   "outputs": [
    {
     "data": {
      "text/plain": [
       "(1, 2.5)"
      ]
     },
     "execution_count": 183,
     "metadata": {},
     "output_type": "execute_result"
    }
   ],
   "source": [
    "a = 1 #scalar\n",
    "b = 2.5 #scalar\n",
    "a, b"
   ]
  },
  {
   "cell_type": "markdown",
   "metadata": {
    "id": "6aALHTKrPE1N"
   },
   "source": [
    "**Vector** is simply a list (or an array) of scalar values.\n",
    "We denote vectors in bold, lower-case letters (e.g., $\\mathbf{x}$). \n",
    "Vectors can be presented either as a **column** or as a **row**.\n",
    "In example,\n",
    "$$\n",
    "\\mathbf{x} =\n",
    "\\begin{bmatrix}\n",
    "x_{1}\\\\ x_{2} \\\\ \\vdots \\\\x_{n}\n",
    "\\end{bmatrix}\n",
    "\\quad\\text{or}\\quad\n",
    "\\mathbf{x}^\\top = \\begin{bmatrix}x_1 & x_2 & ... & x_n\\end{bmatrix}.\n",
    "$$\n",
    "\n",
    "We refer to each element in a vector using a subscript.\n",
    "For example, the $i^\\mathrm{th}$ element of $\\mathbf{x}$ is denoted as $x_i$ and is a scalar.\n",
    "Formally, we say that a vector $\\mathbf{x}$\n",
    "consists of $n$ real-valued scalars, $\\mathbf{x} \\in \\mathbb{R}^n$.\n",
    "The length of a vector is commonly called the **dimension** of the vector.\n",
    "\n",
    "Vectors can be interpreted in multilpe ways. One interpretation is that vectors symbolize the location of points in space relative to some reference location which is called the **origin**. This view is useful when separating points to distinct clusters of points in space.\n",
    "Corresponding interpretation is as a **directions** in space from some reference location. This view allows us to operate on vectors: adding, subtructing, multiplying, etc.\n"
   ]
  },
  {
   "cell_type": "code",
   "execution_count": 184,
   "metadata": {
    "colab": {
     "base_uri": "https://localhost:8080/"
    },
    "id": "WixEuh6yTmV9",
    "outputId": "87c6fb9b-c405-42de-af52-b6b6a6684186"
   },
   "outputs": [
    {
     "data": {
      "text/plain": [
       "array([1, 2, 3, 4])"
      ]
     },
     "execution_count": 184,
     "metadata": {},
     "output_type": "execute_result"
    }
   ],
   "source": [
    "import numpy as np\n",
    "x = np.array([1, 2, 3, 4]) #vector, 1-d array\n",
    "x"
   ]
  },
  {
   "cell_type": "code",
   "execution_count": 185,
   "metadata": {
    "colab": {
     "base_uri": "https://localhost:8080/"
    },
    "id": "8pu2nqT4W24j",
    "outputId": "d93394a5-b50b-4388-f88b-cc6801586ea6"
   },
   "outputs": [
    {
     "data": {
      "text/plain": [
       "(4, (4,))"
      ]
     },
     "execution_count": 185,
     "metadata": {},
     "output_type": "execute_result"
    }
   ],
   "source": [
    "len(x), x.shape"
   ]
  },
  {
   "cell_type": "markdown",
   "metadata": {
    "id": "YutFkMosPeZc"
   },
   "source": [
    "**Matrices** concatenate vectors similar to the way that vectors concatenate scalars.\n",
    "Here, matrices are denoted with bold, capital letters (e.g., $\\mathbf{A}$).\n",
    "Formally, $\\mathbf{A} \\in \\mathbb{R}^{m \\times n}$ means that the matrix $\\mathbf{A}$ consists of $m$ rows and $n$ columns of real-valued scalars.\n",
    "Visually, we can illustrate the matrix $\\mathbf{A}$ as a table,\n",
    "where each element $a_{ij}$ belongs to the $i^{\\mathrm{th}}$ row and $j^{\\mathrm{th}}$ column. That is,\n",
    "\n",
    "$$\\mathbf{A}=\n",
    "\\begin{bmatrix} \n",
    "a_{11} & a_{12} & \\cdots & a_{1n} \\\\ a_{21} & a_{22} & \\cdots & a_{2n} \\\\ \\vdots & \\vdots & \\ddots & \\vdots \\\\ a_{m1} & a_{m2} & \\cdots & a_{mn} \\\\ \n",
    "\\end{bmatrix}.$$\n",
    "\n",
    "The shape of $\\mathbf{A}$ is $m \\times n$.\n",
    "When a matrix has the same number of rows and columns it is called a **square** matrix."
   ]
  },
  {
   "cell_type": "code",
   "execution_count": 186,
   "metadata": {
    "colab": {
     "base_uri": "https://localhost:8080/"
    },
    "id": "plqR2i8zTpXb",
    "outputId": "bd1acd0a-52d1-4c52-aed4-90626cd8e393"
   },
   "outputs": [
    {
     "data": {
      "text/plain": [
       "array([[1, 2],\n",
       "       [3, 4],\n",
       "       [5, 6]])"
      ]
     },
     "execution_count": 186,
     "metadata": {},
     "output_type": "execute_result"
    }
   ],
   "source": [
    "A = np.array([[1, 2], [3, 4], [5, 6]]) #3x2 matrix \n",
    "A"
   ]
  },
  {
   "cell_type": "code",
   "execution_count": 187,
   "metadata": {
    "colab": {
     "base_uri": "https://localhost:8080/"
    },
    "id": "3QIwkWUoXDCI",
    "outputId": "39ffbc00-2ff7-4a93-a453-1408fc420994"
   },
   "outputs": [
    {
     "data": {
      "text/plain": [
       "(3, 2)"
      ]
     },
     "execution_count": 187,
     "metadata": {},
     "output_type": "execute_result"
    }
   ],
   "source": [
    "A.shape"
   ]
  },
  {
   "cell_type": "code",
   "execution_count": 188,
   "metadata": {
    "colab": {
     "base_uri": "https://localhost:8080/"
    },
    "id": "nwAv0Pt2UMMa",
    "outputId": "59523d19-9b1b-4895-bf45-887a39b5e5a9"
   },
   "outputs": [
    {
     "data": {
      "text/plain": [
       "6"
      ]
     },
     "execution_count": 188,
     "metadata": {},
     "output_type": "execute_result"
    }
   ],
   "source": [
    "A[2,1]"
   ]
  },
  {
   "cell_type": "markdown",
   "metadata": {
    "id": "FeWFj_q0UH15"
   },
   "source": [
    "We can exchange a matrix's rows and columns and the result is called the **transpose** of the matrix.\n",
    "Formally, we denote the transpose of $\\mathbf{A}$ by $\\mathbf{A}^\\top$.\n",
    "Thus, the transpose of $\\mathbf{A}$ is\n",
    "a $n \\times m$ matrix.\n"
   ]
  },
  {
   "cell_type": "code",
   "execution_count": 189,
   "metadata": {
    "colab": {
     "base_uri": "https://localhost:8080/"
    },
    "id": "50IvKy41TpZy",
    "outputId": "69b1c59a-2c5b-4e9a-9c4f-a412f3669eff"
   },
   "outputs": [
    {
     "data": {
      "text/plain": [
       "array([[1, 3, 5],\n",
       "       [2, 4, 6]])"
      ]
     },
     "execution_count": 189,
     "metadata": {},
     "output_type": "execute_result"
    }
   ],
   "source": [
    "A_T = A.T # Vector transposition\n",
    "A_T"
   ]
  },
  {
   "cell_type": "code",
   "execution_count": 190,
   "metadata": {
    "colab": {
     "base_uri": "https://localhost:8080/"
    },
    "id": "aBPRwDwgVM3D",
    "outputId": "67d0b0c5-bc91-4529-ae47-efd28b7b762c"
   },
   "outputs": [
    {
     "data": {
      "text/plain": [
       "(2, 3)"
      ]
     },
     "execution_count": 190,
     "metadata": {},
     "output_type": "execute_result"
    }
   ],
   "source": [
    "A_T.shape"
   ]
  },
  {
   "cell_type": "markdown",
   "metadata": {
    "id": "AqpDkB2pVaQj"
   },
   "source": [
    "As a special type of a square matrix is the **symmetric** matrix $\\mathbf{A}$ in which its transpose is equal to itself. That is, $\\mathbf{A}=\\mathbf{A}^\\top $.  "
   ]
  },
  {
   "cell_type": "code",
   "execution_count": 191,
   "metadata": {
    "colab": {
     "base_uri": "https://localhost:8080/"
    },
    "id": "t6zAbwjwVsj2",
    "outputId": "b4d95dd0-98a4-4cb5-fffd-add1a751ad9f"
   },
   "outputs": [
    {
     "name": "stdout",
     "output_type": "stream",
     "text": [
      "[[ True  True  True]\n",
      " [ True  True  True]\n",
      " [ True  True  True]]\n"
     ]
    }
   ],
   "source": [
    "A=np.array([[1,5,0],[5,2,0],[0,0,3]])\n",
    "print(A==A.T)"
   ]
  },
  {
   "cell_type": "markdown",
   "metadata": {
    "id": "2L7pt59MWSOa"
   },
   "source": [
    "Matrices are useful data structures, and they allow us to organize data efficiently. As an example, it is common to organize data in a way that the **rows** of a matrix correspond to different measurments, while the **columns** correspond to the various features or attributes. "
   ]
  },
  {
   "cell_type": "markdown",
   "metadata": {
    "id": "HDREfqKNXS_n"
   },
   "source": [
    "## Arithmetic Operations\n",
    "\n",
    "Adding/subtracting scalars, vectors, or matrices of the same shape is performed **elementwise**. It is also possible to multiply/divide scalars, vectors, or matrices elementwise."
   ]
  },
  {
   "cell_type": "code",
   "execution_count": 192,
   "metadata": {
    "colab": {
     "base_uri": "https://localhost:8080/"
    },
    "id": "muAS73XgXaAf",
    "outputId": "9aa40136-329b-466e-eb74-e55c4bf06119"
   },
   "outputs": [
    {
     "data": {
      "text/plain": [
       "array([[1, 2],\n",
       "       [3, 4],\n",
       "       [5, 6]])"
      ]
     },
     "execution_count": 192,
     "metadata": {},
     "output_type": "execute_result"
    }
   ],
   "source": [
    "A = np.array([[1, 2], [3, 4], [5, 6]])\n",
    "A"
   ]
  },
  {
   "cell_type": "code",
   "execution_count": 193,
   "metadata": {
    "colab": {
     "base_uri": "https://localhost:8080/"
    },
    "id": "3pJ3EYYnTpce",
    "outputId": "c1040017-3011-46af-a3c5-2f75d2733385"
   },
   "outputs": [
    {
     "data": {
      "text/plain": [
       "array([[2, 5],\n",
       "       [7, 4],\n",
       "       [4, 3]])"
      ]
     },
     "execution_count": 193,
     "metadata": {},
     "output_type": "execute_result"
    }
   ],
   "source": [
    "B = np.array([[2, 5], [7, 4], [4, 3]])\n",
    "B"
   ]
  },
  {
   "cell_type": "code",
   "execution_count": 194,
   "metadata": {
    "colab": {
     "base_uri": "https://localhost:8080/"
    },
    "id": "ljBDNI4ETpfA",
    "outputId": "f72803f7-9ff9-41ea-dff1-b613bebed7dc"
   },
   "outputs": [
    {
     "data": {
      "text/plain": [
       "array([[ 3,  7],\n",
       "       [10,  8],\n",
       "       [ 9,  9]])"
      ]
     },
     "execution_count": 194,
     "metadata": {},
     "output_type": "execute_result"
    }
   ],
   "source": [
    "A+B # elementwise addition"
   ]
  },
  {
   "cell_type": "code",
   "execution_count": 195,
   "metadata": {
    "colab": {
     "base_uri": "https://localhost:8080/"
    },
    "id": "dICZA7NTXD_g",
    "outputId": "eb64ba6c-4a92-47c0-962e-56e10ebd215d"
   },
   "outputs": [
    {
     "data": {
      "text/plain": [
       "array([[-1, -3],\n",
       "       [-4,  0],\n",
       "       [ 1,  3]])"
      ]
     },
     "execution_count": 195,
     "metadata": {},
     "output_type": "execute_result"
    }
   ],
   "source": [
    "A-B # elementwise subtraction"
   ]
  },
  {
   "cell_type": "code",
   "execution_count": 196,
   "metadata": {
    "colab": {
     "base_uri": "https://localhost:8080/"
    },
    "id": "lgw1X1DEXICZ",
    "outputId": "832e6a74-970d-4d13-d948-3f54d7946682"
   },
   "outputs": [
    {
     "data": {
      "text/plain": [
       "array([[ 2, 10],\n",
       "       [21, 16],\n",
       "       [20, 18]])"
      ]
     },
     "execution_count": 196,
     "metadata": {},
     "output_type": "execute_result"
    }
   ],
   "source": [
    "A*B # elementwise multiplication, aka Hadamard product"
   ]
  },
  {
   "cell_type": "code",
   "execution_count": 197,
   "metadata": {
    "colab": {
     "base_uri": "https://localhost:8080/"
    },
    "id": "Mks8Ctd8XVun",
    "outputId": "81296ab7-d37c-4e9b-ac4f-9029e38a1e32"
   },
   "outputs": [
    {
     "data": {
      "text/plain": [
       "array([[0.5       , 0.4       ],\n",
       "       [0.42857143, 1.        ],\n",
       "       [1.25      , 2.        ]])"
      ]
     },
     "execution_count": 197,
     "metadata": {},
     "output_type": "execute_result"
    }
   ],
   "source": [
    "A/B # elementwise division"
   ]
  },
  {
   "cell_type": "markdown",
   "metadata": {
    "id": "dmz1gU41X2Z7"
   },
   "source": [
    "##Reduction\n",
    "A common operation that can be performed on arbitrary matrices\n",
    "is to **sum** elements.\n",
    "Formally, we express sums using the $\\sum$ symbol.\n",
    "To express the sum of the elements in a vector $\\mathbf{x}$ of length $n$,\n",
    "we write $\\sum_{i=1}^n x_i$.\n"
   ]
  },
  {
   "cell_type": "code",
   "execution_count": 198,
   "metadata": {
    "colab": {
     "base_uri": "https://localhost:8080/"
    },
    "id": "2biDngnZYWbs",
    "outputId": "4f0ee958-5e5a-4ce5-b341-ba8530c135b7"
   },
   "outputs": [
    {
     "data": {
      "text/plain": [
       "(array([0, 1, 2, 3, 4, 5, 6, 7, 8, 9]), 45)"
      ]
     },
     "execution_count": 198,
     "metadata": {},
     "output_type": "execute_result"
    }
   ],
   "source": [
    "x = np.arange(10)\n",
    "x, x.sum()"
   ]
  },
  {
   "cell_type": "code",
   "execution_count": 199,
   "metadata": {
    "id": "0xHlSpqfYyOZ"
   },
   "outputs": [],
   "source": [
    "A = np.array([[1, 2], [3, 4], [5, 6]])"
   ]
  },
  {
   "cell_type": "markdown",
   "metadata": {
    "id": "XxoRT6O_Yr0o"
   },
   "source": [
    "The sum of **all** the elements in $\\mathbf{A}$ is denoted $\\sum_{i=1}^{m} \\sum_{j=1}^{n} a_{ij}$."
   ]
  },
  {
   "cell_type": "code",
   "execution_count": 200,
   "metadata": {
    "colab": {
     "base_uri": "https://localhost:8080/"
    },
    "id": "CQP9344CYbuw",
    "outputId": "ced048b5-f558-44ed-97ef-5bf3a9fb918e"
   },
   "outputs": [
    {
     "data": {
      "text/plain": [
       "21"
      ]
     },
     "execution_count": 200,
     "metadata": {},
     "output_type": "execute_result"
    }
   ],
   "source": [
    "A.sum()"
   ]
  },
  {
   "cell_type": "markdown",
   "metadata": {
    "id": "8x-ANCvJYr9t"
   },
   "source": [
    "Summing up elements along **rows** reduces the row dimension (axis 0) $\\sum_{i=1}^{m} a_{ij}$."
   ]
  },
  {
   "cell_type": "code",
   "execution_count": 201,
   "metadata": {
    "colab": {
     "base_uri": "https://localhost:8080/"
    },
    "id": "lgLFpSPAZBDT",
    "outputId": "a124f8fe-364a-41e4-98ec-0fad0a31d4bc"
   },
   "outputs": [
    {
     "data": {
      "text/plain": [
       "array([ 9, 12])"
      ]
     },
     "execution_count": 201,
     "metadata": {},
     "output_type": "execute_result"
    }
   ],
   "source": [
    "A.sum(axis=0)"
   ]
  },
  {
   "cell_type": "markdown",
   "metadata": {
    "id": "uTMxJ7UPYsJE"
   },
   "source": [
    "Summing up elements along **columns** reduces the row dimension (axis 1) $\\sum_{j=1}^{n} a_{ij}$."
   ]
  },
  {
   "cell_type": "code",
   "execution_count": 202,
   "metadata": {
    "colab": {
     "base_uri": "https://localhost:8080/"
    },
    "id": "LCnAGR6gaupR",
    "outputId": "7c9b771c-67e4-4c39-de3e-5e24bb1af2dd"
   },
   "outputs": [
    {
     "data": {
      "text/plain": [
       "array([ 3,  7, 11])"
      ]
     },
     "execution_count": 202,
     "metadata": {},
     "output_type": "execute_result"
    }
   ],
   "source": [
    "A.sum(axis=1)"
   ]
  },
  {
   "cell_type": "markdown",
   "metadata": {
    "id": "uFV7TsWZXkX1"
   },
   "source": [
    "##Broadcasting"
   ]
  },
  {
   "cell_type": "markdown",
   "metadata": {
    "id": "wCgAQ-rhX0sd"
   },
   "source": [
    "Broadcasting describes how Numpy handles arrays with different shapes during arithmetic operations. Subject to certain constraints, the smaller array is \"broadcast\" across the larger array so that they have compatible shapes. \n",
    "NumPy operations are done on **pairs** of arrays on an element-by-element basis. \n",
    "\n",
    "The simplest broadcasting example occurs when an array and a scalar value are combined in an operation"
   ]
  },
  {
   "cell_type": "code",
   "execution_count": 203,
   "metadata": {
    "colab": {
     "base_uri": "https://localhost:8080/"
    },
    "id": "eNNaAjzgTph8",
    "outputId": "6763c97b-5efa-41e0-c005-fb61c726bc33"
   },
   "outputs": [
    {
     "data": {
      "text/plain": [
       "array([5, 6, 7])"
      ]
     },
     "execution_count": 203,
     "metadata": {},
     "output_type": "execute_result"
    }
   ],
   "source": [
    "A = np.array([1, 2,3])\n",
    "A+4 # broadcasting"
   ]
  },
  {
   "cell_type": "markdown",
   "metadata": {
    "id": "hGsJ0GH9pYY2"
   },
   "source": [
    "This result is equivalent to "
   ]
  },
  {
   "cell_type": "code",
   "execution_count": 204,
   "metadata": {
    "colab": {
     "base_uri": "https://localhost:8080/"
    },
    "id": "BmVzwt9JplZT",
    "outputId": "441cbd69-2001-4099-c44c-4916570de613"
   },
   "outputs": [
    {
     "data": {
      "text/plain": [
       "array([5, 6, 7])"
      ]
     },
     "execution_count": 204,
     "metadata": {},
     "output_type": "execute_result"
    }
   ],
   "source": [
    "A + np.array([4, 4, 4])"
   ]
  },
  {
   "cell_type": "markdown",
   "metadata": {
    "id": "Ms21SrqIqX-6"
   },
   "source": [
    "When operating on two arrays, NumPy compares their shapes element-wise. It starts with the **rightmost** dimensions and works its way left. Two dimensions are compatible when\n",
    "\n",
    "* they are equal, or\n",
    "* one of them is 1.\n",
    "\n",
    "If these conditions are not met, a ValueError is thrown. Here are a few more examples:\n",
    "\n",
    "\n",
    "Ex 1.  | Shape  |    | Ex 2.  | Shape      | | Ex 3.  | Shape         | |\n",
    "--     | --     | -- | --     | --         | | --     | --            | |\n",
    "A      | 3 x 2  |    | A      | 10 x 3 x 3 | | A      | 6 x 1 x 4 x 1 | |\n",
    "B      | 1 x 2  |    | B      | 10 x 1 x 3 | | B      | 1 x 5 x 1 x 3 | |\n",
    "A+B    | 3 x 2  |    | A+B    | 10 x 3 x 3 | | A+B    | 6 x 5 x 4 x 3 | |\n",
    "\n",
    "\n",
    "\n",
    "\n"
   ]
  },
  {
   "cell_type": "markdown",
   "metadata": {
    "id": "xKyz5buDYEtK"
   },
   "source": [
    "##Multiplying Vectors and Matrices\n",
    "\n",
    "One of the fundamental operations in Linear Algebra is the **dot product**.\n",
    "Given two vectors $\\mathbf{x}, \\mathbf{y} \\in \\mathbb{R}^n$, their dot product $\\mathbf{x} \\cdot \\mathbf{y}=\\mathbf{x}^\\top \\mathbf{y}$ is a sum over the elements at the same positions. In example, $\\mathbf{x}^\\top \\mathbf{y} = \\sum_{i=1}^{n} x_i y_i$ resulting in a scalar."
   ]
  },
  {
   "cell_type": "code",
   "execution_count": 205,
   "metadata": {
    "colab": {
     "base_uri": "https://localhost:8080/"
    },
    "id": "inwnGrODblKB",
    "outputId": "8118f819-b315-403b-c130-f622f656935a"
   },
   "outputs": [
    {
     "data": {
      "text/plain": [
       "(array([1., 1., 1., 1.]), array([2., 2., 2., 2.]), 8.0)"
      ]
     },
     "execution_count": 205,
     "metadata": {},
     "output_type": "execute_result"
    }
   ],
   "source": [
    "x = np.ones(4); y = 2*np.ones(4)\n",
    "x, y, np.dot(x, y)"
   ]
  },
  {
   "cell_type": "markdown",
   "metadata": {
    "id": "esCtUVFJp8Hj"
   },
   "source": [
    "The dot product has a geometric interpretation related to the **angle** between the two vectors\n",
    "\n",
    "$$\n",
    "\\mathbf{x}\\cdot\\mathbf{y} = \\mathbf{x}^\\top\\mathbf{y} = \\|\\mathbf{x}\\|\\|\\mathbf{y}\\|\\cos(\\theta),\n",
    "$$\n",
    "\n",
    "where $\\| \\cdot \\|$ is the **norm** operator applied to tha vector. Norms will be discussed later on. \n",
    "\n",
    "In the Machine Learning contexts, the angle $\\theta$ is often used to measure the closeness, or similarity, of two vectors. This can be computed simply via\n",
    "\n",
    "$$\n",
    "\\cos(\\theta) = \\frac{\\mathbf{x}^\\top\\mathbf{y}}{\\|\\mathbf{x}\\|\\|\\mathbf{y}\\|}.\n",
    "$$\n",
    "\n",
    "This (cosine) similarity takes values between -1 and 1. A maximum value of $1$\n",
    "when the two vectors point in the same direction, a minimum value of $-1$ when pointing in opposite directions, and a value of $0$ when orthogonal."
   ]
  },
  {
   "cell_type": "code",
   "execution_count": 206,
   "metadata": {
    "colab": {
     "base_uri": "https://localhost:8080/"
    },
    "id": "wUCjcZIUqW6y",
    "outputId": "23a74485-89ae-4dfb-d6b5-5aa4cb4d90b1"
   },
   "outputs": [
    {
     "data": {
      "text/plain": [
       "0.0"
      ]
     },
     "execution_count": 206,
     "metadata": {},
     "output_type": "execute_result"
    }
   ],
   "source": [
    "np.arccos(x.dot(y) / (np.linalg.norm(x) * np.linalg.norm(y)))"
   ]
  },
  {
   "cell_type": "markdown",
   "metadata": {
    "id": "AOvA-09gb8HJ"
   },
   "source": [
    "Consider now the dot product of a matrix $\\mathbf{A} \\in \\mathbb{R}^{m \\times n}$ and a vector $\\mathbf{x} \\in \\mathbb{R}^n$.\n",
    "We can write the matrix $\\mathbf{A}$ in terms of its **row** vectors\n",
    "\n",
    "$$\\mathbf{A}=\n",
    "\\begin{bmatrix}\n",
    "\\mathbf{a}^\\top_{1} \\\\\n",
    "\\mathbf{a}^\\top_{2} \\\\\n",
    "\\vdots \\\\\n",
    "\\mathbf{a}^\\top_m \\\\\n",
    "\\end{bmatrix},$$\n",
    "\n",
    "where each $\\mathbf{a}^\\top_{i} \\in \\mathbb{R}^n$\n",
    "is a **row** vector of length $n$, representing the $i^\\mathrm{th}$ row of the matrix $\\mathbf{A}$.\n",
    "Now, the matrix-vector dot product $\\mathbf{A}\\mathbf{x}$\n",
    "is simply a column vector of length $m$,\n",
    "whose $i^\\mathrm{th}$ element is the dot product $\\mathbf{a}^\\top_i \\mathbf{x}$\n",
    "\n",
    "$$\n",
    "\\mathbf{A}\\mathbf{x}\n",
    "= \\begin{bmatrix}\n",
    "\\mathbf{a}^\\top_{1} \\\\\n",
    "\\mathbf{a}^\\top_{2} \\\\\n",
    "\\vdots \\\\\n",
    "\\mathbf{a}^\\top_m \\\\\n",
    "\\end{bmatrix}\\mathbf{x}\n",
    "= \\begin{bmatrix}\n",
    " \\mathbf{a}^\\top_{1} \\mathbf{x}  \\\\\n",
    " \\mathbf{a}^\\top_{2} \\mathbf{x} \\\\\n",
    "\\vdots\\\\\n",
    " \\mathbf{a}^\\top_{m} \\mathbf{x}\\\\\n",
    "\\end{bmatrix}.\n",
    "$$\n",
    "\n",
    "To make it clear, in the above example there are $m$ dot products, each $\\mathbf{a}^\\top_i \\mathbf{x}$ which is a multiplcation on $n$-sized $\\mathbf{a}^\\top_i$ by $n$-sized $\\mathbf{x}$. The result of each dot product is a scalar.\n",
    "\n",
    "We can think of the multiplication of $\\mathbf{A}\\in \\mathbb{R}^{m \\times n}$ by $\\mathbf{x}\\in \\mathbb{R}^n$ as a transformation that projects vectors, $\\mathbf{x}\\in \\mathbb{R}^n$,\n",
    "from $\\mathbb{R}^{n}$ to $\\mathbb{R}^{m}$.\n",
    "Note that the column dimension of $\\mathbf{A}$ (its length along axis 1)\n",
    "must be the same as the dimension of $\\mathbf{x}$.\n"
   ]
  },
  {
   "cell_type": "code",
   "execution_count": 207,
   "metadata": {
    "colab": {
     "base_uri": "https://localhost:8080/"
    },
    "id": "eL7qTrDUUUx5",
    "outputId": "f3de68e0-2ff1-46e6-86f1-976bf7bba049"
   },
   "outputs": [
    {
     "data": {
      "text/plain": [
       "array([ 5, 11, 17])"
      ]
     },
     "execution_count": 207,
     "metadata": {},
     "output_type": "execute_result"
    }
   ],
   "source": [
    "A = np.array([[1, 2], [3, 4], [5, 6]])\n",
    "x = np.arange(1,3)\n",
    "np.dot(A, x)"
   ]
  },
  {
   "cell_type": "markdown",
   "metadata": {
    "id": "Y7ypyGwDfoIK"
   },
   "source": [
    "Next we consider matrix-matrix multiplication.\n",
    "Given two matrices $\\mathbf{A} \\in \\mathbb{R}^{n \\times k}$ and $\\mathbf{B} \\in \\mathbb{R}^{k \\times m}$:\n",
    "\n",
    "$$\\mathbf{A}=\\begin{bmatrix}\n",
    " a_{11} & a_{12} & \\cdots & a_{1k} \\\\\n",
    " a_{21} & a_{22} & \\cdots & a_{2k} \\\\\n",
    "\\vdots & \\vdots & \\ddots & \\vdots \\\\\n",
    " a_{n1} & a_{n2} & \\cdots & a_{nk} \\\\\n",
    "\\end{bmatrix},\\quad\n",
    "\\mathbf{B}=\\begin{bmatrix}\n",
    " b_{11} & b_{12} & \\cdots & b_{1m} \\\\\n",
    " b_{21} & b_{22} & \\cdots & b_{2m} \\\\\n",
    "\\vdots & \\vdots & \\ddots & \\vdots \\\\\n",
    " b_{k1} & b_{k2} & \\cdots & b_{km} \\\\\n",
    "\\end{bmatrix}.$$\n",
    "\n",
    "\n",
    "Denote by $\\mathbf{a}^\\top_{i} \\in \\mathbb{R}^k$\n",
    "the row vector representing the $i^\\mathrm{th}$ row of the matrix $\\mathbf{A}$,\n",
    "and let $\\mathbf{b}_{j} \\in \\mathbb{R}^k$\n",
    "be the column vector of the $j^\\mathrm{th}$ column of the matrix $\\mathbf{B}$.\n",
    "The matrix product $\\mathbf{C} = \\mathbf{A}\\mathbf{B}$, is easiest to understand with $\\mathbf{A}$ specified by its row vectors and $\\mathbf{B}$ specified by its column vectors,\n",
    "\n",
    "$$\\mathbf{A}=\n",
    "\\begin{bmatrix}\n",
    "\\mathbf{a}^\\top_{1} \\\\\n",
    "\\mathbf{a}^\\top_{2} \\\\\n",
    "\\vdots \\\\\n",
    "\\mathbf{a}^\\top_n \\\\\n",
    "\\end{bmatrix},\n",
    "\\quad \\mathbf{B}=\\begin{bmatrix}\n",
    " \\mathbf{b}_{1} & \\mathbf{b}_{2} & \\cdots & \\mathbf{b}_{m} \\\\\n",
    "\\end{bmatrix}.\n",
    "$$\n",
    "\n",
    "\n",
    "The matrix product $\\mathbf{C}\\in \\mathbb{R}^{n \\times m}$ is produced as we simply compute each element $c_{ij}$ as the dot product $\\mathbf{a}^\\top_i \\mathbf{b}_j$:\n",
    "\n",
    "$$\\mathbf{C} = \\mathbf{AB} = \\begin{bmatrix}\n",
    "\\mathbf{a}^\\top_{1} \\\\\n",
    "\\mathbf{a}^\\top_{2} \\\\\n",
    "\\vdots \\\\\n",
    "\\mathbf{a}^\\top_n \\\\\n",
    "\\end{bmatrix}\n",
    "\\begin{bmatrix}\n",
    " \\mathbf{b}_{1} & \\mathbf{b}_{2} & \\cdots & \\mathbf{b}_{m} \\\\\n",
    "\\end{bmatrix}\n",
    "= \\begin{bmatrix}\n",
    "\\mathbf{a}^\\top_{1} \\mathbf{b}_1 & \\mathbf{a}^\\top_{1}\\mathbf{b}_2& \\cdots & \\mathbf{a}^\\top_{1} \\mathbf{b}_m \\\\\n",
    " \\mathbf{a}^\\top_{2}\\mathbf{b}_1 & \\mathbf{a}^\\top_{2} \\mathbf{b}_2 & \\cdots & \\mathbf{a}^\\top_{2} \\mathbf{b}_m \\\\\n",
    " \\vdots & \\vdots & \\ddots &\\vdots\\\\\n",
    "\\mathbf{a}^\\top_{n} \\mathbf{b}_1 & \\mathbf{a}^\\top_{n}\\mathbf{b}_2& \\cdots& \\mathbf{a}^\\top_{n} \\mathbf{b}_m\n",
    "\\end{bmatrix}.\n",
    "$$\n",
    "\n"
   ]
  },
  {
   "cell_type": "code",
   "execution_count": 208,
   "metadata": {
    "colab": {
     "base_uri": "https://localhost:8080/"
    },
    "id": "YTKZejaNUivZ",
    "outputId": "d4adaea7-a834-4a29-aa88-8c0e0d793e4b"
   },
   "outputs": [
    {
     "data": {
      "text/plain": [
       "array([[ 9,  7],\n",
       "       [23, 17],\n",
       "       [37, 27]])"
      ]
     },
     "execution_count": 208,
     "metadata": {},
     "output_type": "execute_result"
    }
   ],
   "source": [
    "A = np.array([[1, 2], [3, 4], [5, 6]])\n",
    "B = np.array([[5, 3], [2, 2]])\n",
    "A.dot(B) "
   ]
  },
  {
   "cell_type": "markdown",
   "metadata": {
    "id": "D-iLXK5Xessk"
   },
   "source": [
    "Matrix mutliplication is **distributive**, i.e. $\\mathbf{A}(\\mathbf{B}+\\mathbf{C})=\\mathbf{A}\\mathbf{B}+\\mathbf{A}\\mathbf{C}$:"
   ]
  },
  {
   "cell_type": "code",
   "execution_count": 209,
   "metadata": {
    "colab": {
     "base_uri": "https://localhost:8080/"
    },
    "id": "JdQDBqjYUi0g",
    "outputId": "325b6180-e65c-4763-eaf7-04847a769488"
   },
   "outputs": [
    {
     "data": {
      "text/plain": [
       "array([[ True],\n",
       "       [ True],\n",
       "       [ True]])"
      ]
     },
     "execution_count": 209,
     "metadata": {},
     "output_type": "execute_result"
    }
   ],
   "source": [
    "A = np.array([[2, 3], [1, 4], [7, 6]])\n",
    "B = np.array([[5], [2]])\n",
    "C = np.array([[4], [3]])\n",
    "A.dot(B+C) == A.dot(B)+A.dot(C)"
   ]
  },
  {
   "cell_type": "markdown",
   "metadata": {
    "id": "nvb0PHDkexFT"
   },
   "source": [
    "Matrix mutliplication is **associative**, i.e. $\\mathbf{A}(\\mathbf{B}\\mathbf{C})=(\\mathbf{A}\\mathbf{B})\\mathbf{C}$:"
   ]
  },
  {
   "cell_type": "code",
   "execution_count": 210,
   "metadata": {
    "colab": {
     "base_uri": "https://localhost:8080/"
    },
    "id": "N3Omzn1eUi3M",
    "outputId": "7c6e4a10-4a2f-4548-cb8a-1b8831ddeddb"
   },
   "outputs": [
    {
     "data": {
      "text/plain": [
       "array([[ True],\n",
       "       [ True],\n",
       "       [ True]])"
      ]
     },
     "execution_count": 210,
     "metadata": {},
     "output_type": "execute_result"
    }
   ],
   "source": [
    "A = np.array([[2, 3], [1, 4], [7, 6]])\n",
    "B = np.array([[5, 3], [2, 2]])\n",
    "C = np.array([[4], [3]])\n",
    "A.dot(B.dot(C)) == (A.dot(B)).dot(C)"
   ]
  },
  {
   "cell_type": "markdown",
   "metadata": {
    "id": "lwc0DEQ0fVJ6"
   },
   "source": [
    "Vector multiplication is commutative, i.e. $\\mathbf{x}^\\top\\mathbf{y}=\\mathbf{y}^\\top\\mathbf{x}$"
   ]
  },
  {
   "cell_type": "code",
   "execution_count": 211,
   "metadata": {
    "colab": {
     "base_uri": "https://localhost:8080/"
    },
    "id": "mRfTyRIXUi8c",
    "outputId": "ab4eed97-659f-4722-914d-43bbf3de04de"
   },
   "outputs": [
    {
     "data": {
      "text/plain": [
       "array([[ True]])"
      ]
     },
     "execution_count": 211,
     "metadata": {},
     "output_type": "execute_result"
    }
   ],
   "source": [
    "x = np.array([[2], [6]])\n",
    "y = np.array([[5], [2]])\n",
    "x.T.dot(y) == y.T.dot(x)"
   ]
  },
  {
   "cell_type": "markdown",
   "metadata": {
    "id": "cFCNZV_ZfD3A"
   },
   "source": [
    "However, matrix multiplication is **not commutative**, i.e. $\\mathbf{A}\\mathbf{B}\\ne\\mathbf{B}\\mathbf{A}$:"
   ]
  },
  {
   "cell_type": "code",
   "execution_count": 212,
   "metadata": {
    "colab": {
     "base_uri": "https://localhost:8080/"
    },
    "id": "-o_1JP_fUi5l",
    "outputId": "d923ff5f-69bc-404b-8ebf-23686f1606a9"
   },
   "outputs": [
    {
     "data": {
      "text/plain": [
       "array([[False, False],\n",
       "       [False, False]])"
      ]
     },
     "execution_count": 212,
     "metadata": {},
     "output_type": "execute_result"
    }
   ],
   "source": [
    "A = np.array([[2, 3], [6, 5]])\n",
    "B = np.array([[5, 3], [2, 2]])\n",
    "np.dot(A, B) == np.dot(B, A)"
   ]
  },
  {
   "cell_type": "markdown",
   "metadata": {
    "id": "56HqWX-d0-xp"
   },
   "source": [
    "##Norms\n",
    "\n",
    "One of the important operators in linear algebra are the **norms**.\n",
    "The norm of a vector tells you how large a vector is by maping a vector\n",
    "to a scalar. This scalar measures, not the dimensions, but the magnitude of the components.\n",
    "\n",
    "Formally, given any vector $\\mathbf{x}$, the vector norm is a function $f$ that has multiple propeerties: \n",
    "\n",
    "The first is a scaling property that says\n",
    "that if we scale all the elements of a vector\n",
    "by a constant factor $\\alpha$,\n",
    "its norm also scales by the *absolute value*\n",
    "of the same constant factor. In example,\n",
    "\n",
    "$$f(\\alpha \\mathbf{x}) = |\\alpha| f(\\mathbf{x}).$$\n",
    "\n",
    "The second property is the triangle inequality:\n",
    "\n",
    "$$f(\\mathbf{x} + \\mathbf{y}) \\leq f(\\mathbf{x}) + f(\\mathbf{y}).$$\n",
    "\n",
    "\n",
    "The third property simply says that the norm must be non-negative:\n",
    "\n",
    "$$f(\\mathbf{x}) \\geq 0.$$\n",
    "\n",
    "The final property requires that the smallest norm is achieved if and only if \n",
    "by a vector consisting of all zeros.\n",
    "\n",
    "$$\\forall i, \\mathbf{x}_i = 0 \\Leftrightarrow f(\\mathbf{x})=0.$$\n",
    "\n",
    "The familiar **Euclidean distance** is a norm, typically named \n",
    "the $L_2$ norm, and is defined as square root of the sum of vector elements' squares:\n",
    "\n",
    "$$\\|\\mathbf{x}\\|_2 = \\sqrt{\\sum_{i=1}^n x_i^2}.$$\n"
   ]
  },
  {
   "cell_type": "code",
   "execution_count": 213,
   "metadata": {
    "colab": {
     "base_uri": "https://localhost:8080/"
    },
    "id": "4JIq38QmHnkZ",
    "outputId": "aa5f43b9-6481-42bd-f28c-727fdf57aa44"
   },
   "outputs": [
    {
     "data": {
      "text/plain": [
       "3.7416573867739413"
      ]
     },
     "execution_count": 213,
     "metadata": {},
     "output_type": "execute_result"
    }
   ],
   "source": [
    "import numpy as np\n",
    "u = np.array([1,2,3]) # L2 norm\n",
    "np.linalg.norm(u, ord=2)"
   ]
  },
  {
   "cell_type": "markdown",
   "metadata": {
    "id": "7I6Z3xDRHyhy"
   },
   "source": [
    "The $L_1$ norm is defined as the sum of the absolute values of the vector elements:\n",
    "$$\\|\\mathbf{x}\\|_1 = \\sum_{i=1}^n \\left|x_i \\right|.$$\n",
    "In more generality, the $L_p$ norm is defined as \n",
    "$$\\|\\mathbf{x}\\|_p = \\left(\\sum_{i=1}^n \\left|x_i \\right|^p \\right)^{1/p}.$$"
   ]
  },
  {
   "cell_type": "code",
   "execution_count": 214,
   "metadata": {
    "colab": {
     "base_uri": "https://localhost:8080/"
    },
    "id": "1WGa0D2KIOLd",
    "outputId": "7302ed5b-b60e-42db-c32c-4d363f7079f3"
   },
   "outputs": [
    {
     "data": {
      "text/plain": [
       "6.0"
      ]
     },
     "execution_count": 214,
     "metadata": {},
     "output_type": "execute_result"
    }
   ],
   "source": [
    "u = np.array([1,2,3])\n",
    "np.linalg.norm(u, ord=1) # L1 norm"
   ]
  },
  {
   "cell_type": "code",
   "execution_count": 215,
   "metadata": {
    "colab": {
     "base_uri": "https://localhost:8080/"
    },
    "id": "3oyf3VupIW9Y",
    "outputId": "1cb460ea-2140-4014-ed07-6ac89afd2b2f"
   },
   "outputs": [
    {
     "data": {
      "text/plain": [
       "3.0"
      ]
     },
     "execution_count": 215,
     "metadata": {},
     "output_type": "execute_result"
    }
   ],
   "source": [
    "u = np.array([1,2,3])\n",
    "np.linalg.norm(u, ord=np.inf) # L-inf norm, basically choosing the maximum value within the array"
   ]
  },
  {
   "cell_type": "markdown",
   "metadata": {
    "id": "1zOUYpzLgQ9X"
   },
   "source": [
    "##Identity matrices"
   ]
  },
  {
   "cell_type": "code",
   "execution_count": 216,
   "metadata": {
    "colab": {
     "base_uri": "https://localhost:8080/"
    },
    "id": "2mgVh7frUU0u",
    "outputId": "66371c85-46ff-4f84-8168-4af87f4138e0"
   },
   "outputs": [
    {
     "data": {
      "text/plain": [
       "array([[1., 0., 0.],\n",
       "       [0., 1., 0.],\n",
       "       [0., 0., 1.]])"
      ]
     },
     "execution_count": 216,
     "metadata": {},
     "output_type": "execute_result"
    }
   ],
   "source": [
    "A = np.eye(3)\n",
    "A"
   ]
  },
  {
   "cell_type": "code",
   "execution_count": 217,
   "metadata": {
    "colab": {
     "base_uri": "https://localhost:8080/"
    },
    "id": "DuRY1HnfUU3p",
    "outputId": "b4277c45-a57a-4eb8-ffd6-552653bacfa0"
   },
   "outputs": [
    {
     "data": {
      "text/plain": [
       "array([[2],\n",
       "       [6],\n",
       "       [3]])"
      ]
     },
     "execution_count": 217,
     "metadata": {},
     "output_type": "execute_result"
    }
   ],
   "source": [
    "x = np.array([[2], [6], [3]])\n",
    "x"
   ]
  },
  {
   "cell_type": "code",
   "execution_count": 218,
   "metadata": {
    "colab": {
     "base_uri": "https://localhost:8080/"
    },
    "id": "zw-FDOW2gKaA",
    "outputId": "dfef1883-92cd-4398-c385-d2285503e496"
   },
   "outputs": [
    {
     "data": {
      "text/plain": [
       "array([[2.],\n",
       "       [6.],\n",
       "       [3.]])"
      ]
     },
     "execution_count": 218,
     "metadata": {},
     "output_type": "execute_result"
    }
   ],
   "source": [
    "b = A.dot(x)\n",
    "b"
   ]
  },
  {
   "cell_type": "markdown",
   "metadata": {
    "id": "Pb23t0tPgVgu"
   },
   "source": [
    "##Inverse matrices¶\n"
   ]
  },
  {
   "cell_type": "code",
   "execution_count": 219,
   "metadata": {
    "colab": {
     "base_uri": "https://localhost:8080/"
    },
    "id": "3hB-6vVngKcP",
    "outputId": "0f2b794a-0112-4150-b08f-06a5c60c0899"
   },
   "outputs": [
    {
     "data": {
      "text/plain": [
       "array([[ 3,  0,  2],\n",
       "       [ 2,  0, -2],\n",
       "       [ 0,  1,  1]])"
      ]
     },
     "execution_count": 219,
     "metadata": {},
     "output_type": "execute_result"
    }
   ],
   "source": [
    "A = np.array([[3, 0, 2], [2, 0, -2], [0, 1, 1]])\n",
    "A"
   ]
  },
  {
   "cell_type": "code",
   "execution_count": 220,
   "metadata": {
    "colab": {
     "base_uri": "https://localhost:8080/"
    },
    "id": "ARFFY1sVgKfJ",
    "outputId": "ba16f278-0b3b-4b3e-e55f-22e755b97288"
   },
   "outputs": [
    {
     "data": {
      "text/plain": [
       "array([[ 0.2,  0.2,  0. ],\n",
       "       [-0.2,  0.3,  1. ],\n",
       "       [ 0.2, -0.3, -0. ]])"
      ]
     },
     "execution_count": 220,
     "metadata": {},
     "output_type": "execute_result"
    }
   ],
   "source": [
    "A_inv = np.linalg.inv(A)\n",
    "A_inv"
   ]
  },
  {
   "cell_type": "code",
   "execution_count": 221,
   "metadata": {
    "colab": {
     "base_uri": "https://localhost:8080/"
    },
    "id": "ZFYOqIhtgKg5",
    "outputId": "c88e1140-96eb-4e78-e42c-bbec47aba48c"
   },
   "outputs": [
    {
     "data": {
      "text/plain": [
       "array([[ 1.00000000e+00,  0.00000000e+00, -5.55111512e-17],\n",
       "       [ 0.00000000e+00,  1.00000000e+00,  0.00000000e+00],\n",
       "       [ 0.00000000e+00,  0.00000000e+00,  1.00000000e+00]])"
      ]
     },
     "execution_count": 221,
     "metadata": {},
     "output_type": "execute_result"
    }
   ],
   "source": [
    "A_inv.dot(A)"
   ]
  },
  {
   "cell_type": "markdown",
   "metadata": {
    "id": "r1JmccHgLqj4"
   },
   "source": [
    "## Hyperplanes\n",
    "\n",
    "A key object in linear algebra is the **hyperplane**.\n",
    "In two dimensions the hyperplane is a **line**, and in three dimensions it is a **plane**. In more generality, in an $d$-dimensional vector space, a hyperplane has $d-1$ dimensions\n",
    "and **divides the space into two half-spaces**. \n",
    "In the Machine Learning language in the contex of classification hyperplanes that separate the space are named **decision planes**. \n",
    "\n",
    "In example, $\\mathbf{a}=(1,2)$ and $\\mathbf{a} \\cdot \\mathbf{b}=1$ define the line $2y = 1 - x$ in the two dimensional space, while $\\mathbf{a}=(1,2,3)$ and $\\mathbf{a} \\cdot \\mathbf{b}=1$ defines the plane $ z= 1 - x-2y$ in the three dimensional space.\n",
    "\n",
    "\n"
   ]
  },
  {
   "cell_type": "markdown",
   "metadata": {
    "id": "B-yrv9cOgmjp"
   },
   "source": [
    "##solving a system of linear equations¶\n"
   ]
  },
  {
   "cell_type": "code",
   "execution_count": 222,
   "metadata": {
    "colab": {
     "base_uri": "https://localhost:8080/"
    },
    "id": "I3qXBAsrgKjU",
    "outputId": "09965c2b-2afb-4e9b-b773-45f6fa218914"
   },
   "outputs": [
    {
     "data": {
      "text/plain": [
       "array([[1.],\n",
       "       [2.]])"
      ]
     },
     "execution_count": 222,
     "metadata": {},
     "output_type": "execute_result"
    }
   ],
   "source": [
    "A = np.array([[2, -1], [1, 1]])\n",
    "b = np.array([[0], [3]])\n",
    "x = np.linalg.inv(A).dot(b)\n",
    "x"
   ]
  },
  {
   "cell_type": "markdown",
   "metadata": {
    "id": "bRsCRPcshFaK"
   },
   "source": [
    "Singular matrices are not invertible and are called singular."
   ]
  },
  {
   "cell_type": "markdown",
   "metadata": {
    "id": "ZTY5gLUihcFl"
   },
   "source": [
    "## Linear equations"
   ]
  },
  {
   "cell_type": "markdown",
   "metadata": {
    "id": "t39Khka7a4A5"
   },
   "source": [
    "The set of equations\n",
    "\n",
    "$$\\mathbf{A}\\mathbf{x}=\\mathbf{b}$$\n",
    "\n",
    "corresponds\n",
    "\n",
    "$$\n",
    "\\begin{align}\n",
    "a_{1,1}x_1 + a_{1,2}x_2 + \\cdots + a_{1,n}x_n = b_1 \\\\\\\\\n",
    "a_{2,1}x_1 + a_{2,2}x_2 + \\cdots + a_{2,n}x_n = b_2 \\\\\\\\\n",
    "\\cdots \\\\\\\\\n",
    "a_{m,1}x_1 + a_{m,2}x_2 + \\cdots + a_{m,n}x_n = b_n\n",
    "\\end{align}\n",
    "\\quad\\text{or}\\quad\n",
    "\\begin{bmatrix}\n",
    "    a_{1,1} & a_{1,2} & \\cdots & a_{1,n} \\\\\\\\\n",
    "    a_{2,1} & a_{2,2} & \\cdots & a_{2,n} \\\\\\\\\n",
    "    \\cdots & \\cdots & \\cdots & \\cdots \\\\\\\\\n",
    "    a_{m,1} & a_{m,2} & \\cdots & a_{m,n}\n",
    "\\end{bmatrix}\n",
    "\\begin{bmatrix}\n",
    "    x_1 \\\\\\\\\n",
    "    x_2 \\\\\\\\\n",
    "    \\cdots \\\\\\\\\n",
    "    x_n\n",
    "\\end{bmatrix}\n",
    "=\n",
    "\\begin{bmatrix}\n",
    "    b_1 \\\\\\\\\n",
    "    b_2 \\\\\\\\\n",
    "    \\cdots \\\\\\\\\n",
    "    b_m\n",
    "\\end{bmatrix}.\n",
    "$$\n",
    "\n",
    "Here we have $m$ equations representing..., with $n$ unknowns representing the **dimension space**. \n",
    "Commonly, we are given $\\mathbf{A}$ and $\\mathbf{b}$, and we solve for $\\mathbf{x}$ that satisfy the above equations.\n",
    "\n",
    "How many solutions does $\\mathbf{A}\\mathbf{x}=\\mathbf{b}$ have? There are three possibilites:\n",
    "\n",
    " 1. No solution\n",
    " 2. One solution\n",
    " 3. Infinite number of solutions\n",
    " \n",
    "Why can't there be more than one solution and less than an infinite number of solutions ?\n",
    "\n",
    "On the intuition level, it is because we are working with linear equations.\n",
    "It is clear if we consider the simple scenario of two equations and two unknowns: the solution of this system corresponds to the intersection of the lines. One possibility is that the two lines never cross (parallel). Another possibility is that they cross exactly once. And the last possibility is that they cross everywhere (superimposed)."
   ]
  },
  {
   "cell_type": "markdown",
   "metadata": {
    "id": "nTpf_m2Aa4A6"
   },
   "source": [
    "There are two ways to describe a system of linear equations: the **row view** and the **column view**."
   ]
  },
  {
   "cell_type": "markdown",
   "metadata": {
    "id": "nLbk94SDa4A7"
   },
   "source": [
    "## Row view\n",
    "\n",
    "The row view is probably more intuitive because it is the representation used when we have only one equation. It can now be extended to an infinite number of equations and unknowns.\n",
    "\n",
    "We said that the solutions of the linear system of equations are the sets of values of $x_1...x_n$ that satisfies all equations. For instance, in the case of $\\mathbf{A}\\in \\mathbb{R}^{m \\times n}$ with $m=n=2$ the equations correspond to 2 lines in the 2-dimensional space and the solution of the system is the intersection of these lines.\n",
    "\n",
    "As mentioned before, a linear system can be viewed as a set of $(n-1)$-dimensional hyperplanes in a $n$-dimensional space. The system can also be characterized by its number of equations $m$, and the number of unknown variables $n$.\n",
    "\n",
    "* If $m \\gt n$, that is there are more equations than unknows the system is called **overdetermined**. In example, a system of 3 equations (represented by 3 lines) and 2 unknowns (corresponding to 2 dimensions). In this example, if the lines are independent, there is no solution since there is no point belonging to the three lines.\n",
    "\n",
    "* If $m\\lt n$, that is there are more unknowns than equations the system is named **underdetermined**. In example, there is only 1 equation (1 line) and 2 dimensions. In this case, each point along the line is a solution to the system and the system has infinite number of solutions.\n"
   ]
  },
  {
   "cell_type": "markdown",
   "metadata": {
    "id": "1QQXW5dqa4A7"
   },
   "source": [
    "### Example 1: 1 equation and 2 variables\n",
    "\n",
    "Let us start with an **underdetermined** example with  $m=1$ and  $n=2$:\n",
    "\n",
    "$$\n",
    "a_{1,1}x_1 + a_{1,2}x_2 = b_1\n",
    "$$\n",
    "\n",
    "The graphical interpretation of $n=2$ is that we have a 2-dimensional space. So we represent it with 2 axes. Since our hyperplane is of $n-1$-dimensional, we have a 1-dimensional hyperplane. This is simply a line. As $m=1$, we have only one equation. This means that we have only one line characterizing our linear system.\n",
    "\n",
    "Note that the last equation can also be written in a way that may be more usual:\n",
    "\n",
    "$$\n",
    "x_2 = \\frac{a_{1,1}}{a_{1,2}}x_1 +\\frac{b_1}{a_{1,2}}b_1,\\quad\\text{or}\\quad\n",
    "y = \\frac{a_{1,1}}{a_{1,2}}x +\\frac{b_1}{a_{1,2}}b_1,\n",
    "$$\n",
    "\n",
    "where $y=x_2$, and $x=x_1$.\n",
    "\n",
    "The solutions of this linear system correspond to ALL the values of $x$ and $y$ such that $y = \\frac{a_{1,1}}{a_{1,2}}x +\\frac{b_1}{a_{1,2}}b_1$ holds. Practicly, it corresponds to each and every point along the line so there are  infinite number of solutions.\n"
   ]
  },
  {
   "cell_type": "markdown",
   "metadata": {
    "id": "UGi70ZGumAMc"
   },
   "source": [
    "### Example 2: 2 equation and 2 variables\n",
    "\n",
    "Let us explore an example with  $m=2$ and  $n=2$:\n",
    "\n",
    "$$\n",
    "a_{1,1}x_1 + a_{1,2}x_2 = b_1\\\\\n",
    "a_{2,1}x_1 + a_{2,2}x_2 = b_2.\n",
    "$$\n",
    "\n",
    "The graphical interpretation of $n=2$ is as before. That is, we have a 2-dimensional space, represented with 2 axes, and each equation represents an $1$-dimensional hyperplane which is simply a line. \n",
    "\n",
    "But, here $m=2$, which means that we have two equations, or 2 lines in a 2-dimensional space.\n",
    "There are multiple scenarios:\n",
    "\n",
    "* The two lines run in parallel and there is no solution.\n",
    "* The two lines intersect and we have one unique solution.\n",
    "* The two lines superimpose: it is the same equation or linearily dependant. In this case there are infinite number of solutions since each and every point on the lines corresponds to a solution.\n",
    "\n",
    "Same conlusioned can be drawn with higher values of $m$ (number of equations) and $n$ (number of dimensions). For example, two 2-dimensional plane in a 3-dimensional space can be \n",
    "* parallel (no solution),\n",
    "* cross (infinitely many solutions since their crossing is a line), or\n",
    "* superimposed (infinitely many solutions). "
   ]
  },
  {
   "cell_type": "markdown",
   "metadata": {
    "id": "NvvEPKu0o9Nv"
   },
   "source": [
    "### Example 3: 3 equation and 2 variables\n",
    "\n",
    "Let us explore an **overdetermined** example with  $m=3$ and  $n=2$:\n",
    "\n",
    "$$\n",
    "a_{1,1}x_1 + a_{1,2}x_2 = b_1\\\\\n",
    "a_{2,1}x_1 + a_{2,2}x_2 = b_2\\\\\n",
    "a_{3,1}x_1 + a_{3,2}x_2 = b_3\n",
    "$$\n",
    "\n",
    "The graphical interpretation of $n=2$ is as before. That is, we have a 2-dimensional space, represented by 2 axes, and each equation represents an $1$-dimensional hyperplane which is simply a line. \n",
    "\n",
    "Here $m=3$, which means that we have three equations, or 3 lines in a 2-dimensional space.\n",
    "\n",
    "There are multiple scenarios:\n",
    "* The three lines run in parallel and there is no solution.\n",
    "* The three lines intersect. If the three lines are independent, there are multiple intersections with no unique solution.\n",
    "* Two lines are dependent and the third is independent: we have a unique solution at the intersection of them with the third line.\n",
    "* The three lines superimpose: there are infinite number of solutions.\n",
    "\n",
    "As before, these conlusioned can be generalized to higher spaces."
   ]
  },
  {
   "cell_type": "markdown",
   "metadata": {
    "id": "uxc0YeSd8uHB"
   },
   "source": [
    "## Linear combination\n",
    "\n",
    "The linear combination of 2 vectors corresponds to their weighted sum.\n",
    "In example:\n",
    "\n",
    "$$\n",
    "\\mathbf{x}^\\top=(1,2,3),~\\mathbf{y}^\\top=(4,5,6),\\quad \\text{and}\\quad \\mathbf{y}^\\top=a\\mathbf{x}^\\top+b\\mathbf{y}^\\top,\\text{with}~ a=1,~b=2.\n",
    "$$\n"
   ]
  },
  {
   "cell_type": "code",
   "execution_count": 223,
   "metadata": {
    "colab": {
     "base_uri": "https://localhost:8080/"
    },
    "id": "4qVrxGr28w-a",
    "outputId": "f09a8412-e2be-4f9c-d769-c505331741bb"
   },
   "outputs": [
    {
     "data": {
      "text/plain": [
       "array([ 9., 12., 15.])"
      ]
     },
     "execution_count": 223,
     "metadata": {},
     "output_type": "execute_result"
    }
   ],
   "source": [
    "a=1.;b=2.;\n",
    "a*np.array([1,2,3])+b*np.array([4,5,6])"
   ]
  },
  {
   "cell_type": "markdown",
   "metadata": {
    "id": "bpDRxg31a4A-"
   },
   "source": [
    "## Span\n",
    "\n",
    "Consider the above $\\mathbf{x}$ and $\\mathbf{y}$: ALL the points that can reached by their combination via some $a$ and $b$ are called the set of points is the span of the vectors $\\{\\mathbf{x}$, $\\mathbf{y}\\}$.\n",
    "Vector **space** means all the points that can be reached by this vector. In example, the space of all real numbers is $\\mathbb{R}$ and for $n$-dimensions the space is $\\mathbb{R}^n$. \n",
    "Vector **subspace** means that the space occupies only part of the space. In example, a 2-dimensional plane is a subspace in $\\mathbb{R}^3$ and a line is a subspace in $\\mathbb{R}^2$.\n",
    "\n",
    "In general, we will say that a collection of vectors\n",
    "$\\mathbf{x}_1,\\mathbf{x}_2, \\ldots, \\mathbf{x}_n$ are linearly **dependent**\n",
    "if there exist coefficients $a_1,a_2 \\ldots, a_n$ not all zero such that\n",
    "\n",
    "$$\n",
    "\\sum_{i=1}^n a_i\\mathbf{x_i} = 0.\n",
    "$$\n",
    "\n",
    "In this case, we can solve for one of the vectors in terms of a combination of the others, and thus this vector is redundant.\n",
    "Similarly, a linear dependence in the columns of a matrix means that this matrix can be compresed down to a lower dimension. If there is no linear dependence we say the vectors are linearly independent. In a matrix, if the columns are linearly independent, the matrix cannot be compressed to a lowed dimension.\n",
    "\n",
    "A set of vectors which is linearly **independent** and **spans** some vector space, forms a **basis** for that vector space. \n",
    "The **standard basis** (also called natural basis or canonical basis) in $\\mathbb{R}^n$ is the set of vectors whose components are all zero, except one that equals 1. For example, the standard basis in $\\mathbb{R}^2$ is formed by the vectors $\\mathbf{x}^\\top=(1,0)^\\top$ and $\\mathbf{y}^\\top=(0,1)^\\top$.\n",
    "\n",
    "The linear combination of vectors in a space stay in the same space. For instance, any linear combination of two lines in a $\\mathbb{R}^2$ result in another vector in $\\mathbb{R}^2$."
   ]
  },
  {
   "cell_type": "markdown",
   "metadata": {
    "id": "SH7ZAk2-a4A_"
   },
   "source": [
    "## Column view\n",
    "\n",
    "It is also possible to represent the solution $\\mathbf{b}$ to the equations $\\mathbf{A}\\mathbf{x}=\\mathbf{b}$ as a linear combination of the columns in $\\mathbf{A}$.\n",
    "\n",
    "To see that, the set of equations\n",
    "\n",
    "$$\n",
    "a_{1,1}x_1 + a_{1,2}x_2 + a_{1,n}x_n = b_1 \\\\\\\\\n",
    "a_{2,1}x_1 + a_{2,2}x_2 + a_{2,n}x_n = b_2 \\\\\\\\\n",
    "\\cdots \\\\\\\\\n",
    "a_{m,1}x_1 + a_{m,2}x_2 + a_{m,n}x_n = b_m\n",
    "$$\n",
    "\n",
    "can be written by grouping the columns in $\\mathbf{A}$\n",
    "\n",
    "$$\n",
    "x_1\n",
    "\\begin{bmatrix}\n",
    "    a_{1,1}\\\\\\\\\n",
    "    a_{2,1}\\\\\\\\\n",
    "    a_{m,1}\n",
    "\\end{bmatrix}\n",
    "+\n",
    "x_2\n",
    "\\begin{bmatrix}\n",
    "    a_{1,2}\\\\\\\\\n",
    "    a_{2,2}\\\\\\\\\n",
    "    a_{m,2}\n",
    "\\end{bmatrix}\n",
    "+\\cdots+\n",
    "x_n\n",
    "\\begin{bmatrix}\n",
    "    a_{1,n}\\\\\\\\\n",
    "    a_{2,n}\\\\\\\\\n",
    "    a_{m,n}\n",
    "\\end{bmatrix}\n",
    "=\n",
    "\\begin{bmatrix}\n",
    "    b_1\\\\\\\\\n",
    "    b_2\\\\\\\\\n",
    "    b_m\n",
    "\\end{bmatrix}.\n",
    "$$\n",
    "\n",
    "In this view, the solution $\\mathbf{b}$ is a linear combination of the columns of $\\mathbf{A}$, weighted by the components of $\\mathbf{x}$."
   ]
  },
  {
   "cell_type": "markdown",
   "metadata": {
    "id": "fA2sIoL8F8L3"
   },
   "source": [
    "* For the **underdetermined** system, $n \\gt m$ and the system has **infinite number of solutions**. As an example in the column view,\n",
    "$$\n",
    "\\begin{align}\n",
    "a_{1,1}x_1+a_{1,2}x_2+a_{1,3}x_3=b_1\\\\\n",
    "a_{2,1}x_1+a_{2,2}x_2+a_{2,3}x_3=b_2\n",
    "\\end{align}\n",
    "\\quad\\text{corresponds to}\\quad\\\n",
    "x_1\n",
    "\\begin{bmatrix}\n",
    "    a_{1,1}\\\\\n",
    "    a_{2,1}\n",
    "\\end{bmatrix}\n",
    "+x_2\n",
    "\\begin{bmatrix}\n",
    "    a_{1,2}\\\\\n",
    "    a_{2,2}\n",
    "\\end{bmatrix}\n",
    "+x_3\n",
    "\\begin{bmatrix}\n",
    "    a_{1,3}\\\\\n",
    "    a_{2,3}\n",
    "\\end{bmatrix}\n",
    "=\n",
    "\\begin{bmatrix}\n",
    "    b_{1}\\\\\n",
    "    b_{2}\n",
    "\\end{bmatrix}.\n",
    "$$\n",
    "\n",
    "But, if the columns of $\\mathbf{A}$ are independent, two of them are enough to reach any point in $\\mathbb{R}^2$. So, two components out of the three in $\\mathbf{x}$ are set and the third is free, meaning that there are infinite number of solutions.\n",
    "\n",
    "* For the **overdetermined** system $m\\gt n$ and there is **no solution**. For example using the column view,\n",
    "\n",
    "$$\n",
    "\\begin{align}\n",
    "a_{1,1}x_1+a_{1,2}x_2=b_1\\\\\n",
    "a_{2,1}x_1+a_{2,2}x_2=b_2\\\\\n",
    "a_{3,1}x_1+a_{3,2}x_2=b_3\\\\\n",
    "\\end{align}\n",
    "\\quad\\text{corresponds to}\\quad\\\n",
    "x_1\n",
    "\\begin{bmatrix}\n",
    "    a_{1,1}\\\\\n",
    "    a_{2,1}\\\\\n",
    "    a_{3,1}\\\\\n",
    "\\end{bmatrix}\n",
    "+x_2\n",
    "\\begin{bmatrix}\n",
    "    a_{1,2}\\\\\n",
    "    a_{2,2}\\\\\n",
    "    a_{3,2}\n",
    "\\end{bmatrix}\n",
    "=\n",
    "\\begin{bmatrix}\n",
    "    b_{1}\\\\\n",
    "    b_{2}\\\\\n",
    "    b_{3}\n",
    "\\end{bmatrix}.\n",
    "$$\n",
    "\n",
    "In the row view we have 3 lines and we are looking for unique intersection in the 2-dimensional plan. The three lines (if independent) will intesect in multiple points resulting in no solution. In the column view, becuase $n=2$ the linear combination of two 3-dimensional vectors is not enough to span the 3-dimensional space, unless the vecotr $\\mathbf{b}$ lies, for some reason, in the subspace formed by these two vectors."
   ]
  },
  {
   "cell_type": "markdown",
   "metadata": {
    "id": "7XW6ZNIza4BB"
   },
   "source": [
    "### Linear dependency\n",
    "\n",
    "The number of columns can thus provide information on the number of solutions. But the number that we have to take into account is the number of linearly **independent** columns. Columns are linearly **dependent** if one of them is a linear combination of the others. In the column view, the direction of two linearly dependent vectors is the same and this doesn't add value in spanning the space.\n",
    "\n",
    "As an example,\n",
    "\n",
    "$$\n",
    "\\begin{align}\n",
    "x_1+2x_2=b_1\\\\\n",
    "2x_1+4x_2=b_2\n",
    "\\end{align}\n",
    "\\quad\\text{which in the column view is}\\quad\n",
    "x_1\n",
    "\\begin{bmatrix}\n",
    "    1 \\\\\n",
    "    2\n",
    "\\end{bmatrix}\n",
    "+\n",
    "x_2\n",
    "\\begin{bmatrix}\n",
    "    2 \\\\\n",
    "    4\n",
    "\\end{bmatrix}\n",
    "=\n",
    "\\begin{bmatrix}\n",
    "    b_1 \\\\\n",
    "    b_2\n",
    "\\end{bmatrix}\n",
    "$$.\n",
    "\n",
    "The columns $(1,2)^\\top$ and $(2,4)^\\top$ are **dependent** and hence their linear combination is not enough to span the full $\\mathbb{R}^2$ and reach all points in this space. If $\\mathbf{b}=(3,6)^\\top$ there is a solution $\\mathbf{x}^\\top=(1,1)^\\top$ because the vector $(1,2)^\\top$ spans a subspace of $\\mathbb{R}^2$ that contains the vector $\\mathbf{b}=(3,6)^\\top$.\n",
    "But for more general solution, as say $\\mathbf{b}=(3,7)$, there is no solution \n",
    "as linear combinations of $(1,2)^\\top$ are not enough to reach all points in $\\mathbb{R}^2$. This is an example of an **overdetermined** system with $m=2\\gt n=1$ because of the linear dependency between the columns.\n"
   ]
  },
  {
   "cell_type": "markdown",
   "metadata": {
    "id": "YrfWgk6Ga4BC"
   },
   "source": [
    "### Square matrix\n",
    "\n",
    "When $\\mathbf{A}\\in\\mathbb{R}^{m\\times n}$ and $m=n$ the matrix $\\mathbf{A}$ is called square matrix and if the columns are linearly **independant** there is a unique solution to $\\mathbf{A}\\mathbf{x}=\\mathbf{b}$.\n",
    "The solution is simply $\\mathbf{x}=\\mathbf{A}^{-1}\\mathbf{b}$, where $\\mathbf{A}^{-1}$ is the inverse of $\\mathbf{A}$.\n",
    "\n",
    "When $\\mathbf{A}^{-1}$ exist, we say that $\\mathbf{A}$ is invertible (aka, nonsingular, or nondegenerate). \n",
    "In this case, the columns and rows of $\\mathbf{A}$ are linearly independent.\n",
    "\n",
    "\n",
    "\n",
    "<!-- A is invertible, that is, A has an inverse, is nonsingular, or is nondegenerate.\n",
    "A is row-equivalent to the n-by-n identity matrix In.\n",
    "A is column-equivalent to the n-by-n identity matrix In.\n",
    "A has n pivot positions.\n",
    "det A ≠ 0. In general, a square matrix over a commutative ring is invertible if and only if its determinant is a unit in that ring.\n",
    "A has full rank; that is, rank A = n.\n",
    "Based on the rank A=n, the equation Ax = 0 has only the trivial solution x = 0. and the equation Ax = b has exactly one solution for each b in Kn.\n",
    "The kernel of A is trivial, that is, it contains only the null vector as an element, ker(A) = {0}.\n",
    "The columns of A are linearly independent.\n",
    "The columns of A span Kn.\n",
    "Col A = Kn.\n",
    "The columns of A form a basis of Kn.\n",
    "The linear transformation mapping x to Ax is a bijection from Kn to Kn.\n",
    "There is an n-by-n matrix B such that AB = In = BA.\n",
    "The transpose AT is an invertible matrix (hence rows of A are linearly independent, span Kn, and form a basis of Kn).\n",
    "The number 0 is not an eigenvalue of A.\n",
    "The matrix A can be expressed as a finite product of elementary matrices.\n",
    "The matrix A has a left inverse (that is, there exists a B such that BA = I) or a right inverse (that is, there exists a C such that AC = I), in which case both left and right inverses exist and B = C = A−1. -->"
   ]
  },
  {
   "cell_type": "markdown",
   "metadata": {
    "id": "uIFgIxFdAR6E"
   },
   "source": [
    "### Rank\n",
    "\n",
    "The **column rank** of $\\mathbf{A}$ is the dimension of the column space of $\\mathbf{A}$ (i.e., the number of linearly independent columns), while the **row rank** of $\\mathbf{A}$ is the dimension of the row space of $\\mathbf{A}$ (i.e., the number of linearly independent rows).\n",
    "\n",
    "A fundamental result in linear algebra is that the column rank and the row rank are **always equal** and this number is simply called the rank of $\\mathbf{A}$.\n",
    "A matrix $\\mathbf{A}\\in\\mathbb{R}^{m\\times n}$ is said to have **full rank** if it's rank equals to $\\min(m, n$); otherwise, the matrix is **rank deficient**."
   ]
  },
  {
   "cell_type": "code",
   "execution_count": 224,
   "metadata": {
    "colab": {
     "base_uri": "https://localhost:8080/"
    },
    "id": "P8wDZ6ZbAVg2",
    "outputId": "f3beb52e-87a2-4628-f9f0-b933f4ce7d28"
   },
   "outputs": [
    {
     "data": {
      "text/plain": [
       "(2, 1, 3)"
      ]
     },
     "execution_count": 224,
     "metadata": {},
     "output_type": "execute_result"
    }
   ],
   "source": [
    "A=np.array([[1,2],[3,4]]); B=np.array([[1,2],[2,4]]); C=np.array([[1,0,0],[0,1,0],[0,0,1]])\n",
    "np.linalg.matrix_rank(A), np.linalg.matrix_rank(B), np.linalg.matrix_rank(C)"
   ]
  },
  {
   "cell_type": "markdown",
   "metadata": {
    "id": "dzmF_K5B_Dl-"
   },
   "source": [
    "### Invertibility\n",
    "\n",
    "An $n\\times n$ square matrix $\\mathbf{A}$ is called **invertible** (also **nonsingular** or **nondegenerate**), if there exists an $n\\times n$ square matrix $\\mathbf{B}$ such that\n",
    "$$\n",
    "\\mathbf{A}\\mathbf{B}=\\mathbf{B}\\mathbf{A}=\\mathbf{I}_n\n",
    "$$\n",
    "\n",
    "where $\\mathbf{I}_n$ denotes the $n\\times n$ identity matrix. In this case, then the matrix $\\mathbf{B}$ is uniquely determined by $\\mathbf{A}$, and is called the inverse of $\\mathbf{A}$, denoted by $\\mathbf{A}^{-1}$.\n",
    "\n",
    "A square matrix that is not invertible is called **singular** or **degenerate**. Non-square matrices ($m\\times n$ matrices with $n\\ne n$) do not have an inverse (but they may have a left inverse or right inverse). \n",
    "A square matrix is singular if and only if its determinant is zero. In practice, singular square matrices are quite rare. \n",
    "\n",
    "\n",
    "\n",
    "$$\n",
    "\\mathbf{A} = \\begin{bmatrix}\n",
    "a & b \\\\\n",
    "c & d\n",
    "\\end{bmatrix},\n",
    "$$\n",
    "\n",
    "then we can see that the inverse is\n",
    "\n",
    "$$\n",
    " \\frac{1}{ad-bc}  \\begin{bmatrix}\n",
    "d & -b \\\\\n",
    "-c & a\n",
    "\\end{bmatrix}.\n",
    "$$\n",
    "\n",
    "We can test to see this by seeing that multiplying\n",
    "by the inverse given by the formula above works in practice.\n"
   ]
  },
  {
   "cell_type": "markdown",
   "metadata": {
    "id": "hUIHrgORK5Tw"
   },
   "source": [
    "# Chapter -1: Probability and Statistics\n",
    "\n",
    "Probability and statistics and constitute of dealing with uncertainty in desicion making. The theory of probability provides the basis for the learning from data."
   ]
  },
  {
   "cell_type": "code",
   "execution_count": 225,
   "metadata": {
    "id": "YANP4WOwIPok"
   },
   "outputs": [],
   "source": [
    "import numpy as np\n",
    "from scipy import stats\n",
    "import scipy\n"
   ]
  },
  {
   "cell_type": "markdown",
   "metadata": {
    "id": "v8TSC_vhIPoq"
   },
   "source": [
    "## Fundamentals\n",
    "Starting with a few definitions. A **sample space** is the set of all the possible experimental outcomes. And, **experiment**, is defined to be any process for which more than one **outcome** is possible.\n",
    "\n",
    "Imagine a sample space of $n$ possible outcomes $S = \\{ O_1, O_2, \\cdots, O_n \\}$. We assign a probability $p_i$ to each outcome $O_i$\n",
    "\n",
    "\\begin{equation}\n",
    "    P(O_i) = p_i.\n",
    "\\end{equation}\n",
    "\n",
    "All $p_i$ must satisfy \n",
    "\\begin{equation}\n",
    "   0 \\leq p_i \\leq 1, \\hspace{0.5cm} \\forall i= 1,2, \\cdots, n.\n",
    "\\end{equation}\n",
    "\n",
    "If all $p_i$ are equal to a constant $p$ we say that all $n$ outcomes are equally likely, and each probability has a value of $1/n$.\n",
    "\n",
    "An **event** is defined to be a subset of the sample space. The probability of an event $A$, $P(A)$, is obtained by summing the probabilities of the outcomes contained withing the event $A$. An event is said to occur if one of the outcomes contained within the event occurs. The complement of event $A$ is the event $A^C$ and is defined to be the event consisting of everything in the sample space $S$ that is not contained within $A$. In example,\n",
    "\n",
    "\\begin{equation}\n",
    "    P(A) + P(A^C) = 1\n",
    "\\end{equation}\n",
    "\n",
    "**Intersections** of events, $A \\cap B$, consists of the outcomes contained within both events $A$ and $B$. The probability of the intersection, $P(A \\cap B)$, is the probability that both events occur simultaneously.\n",
    "A few known properties of the intersections of events:\n",
    "\\text{For mutually exclusive events:}~\n",
    "\n",
    "\\begin{align}\n",
    " & P(A \\cap B) +P(A \\cap B^C) = P(A)\\\\\n",
    "&A \\cap (B \\cap C) = (A \\cap B) \\cap C\\\\\n",
    "& A \\cap B = \\emptyset \\quad\\text{(for mutually exclusive events)}\\\\\n",
    "\\end{align}\n",
    "\n",
    "The **union** of events, $ A\\cup B$, consists of the outcomes that are contained within at least one of the events $A$ and $B$. The probability of this event, $P (A \\cup B)$ is the probability that at least one of these events $A$ and $B$ occurs.\n",
    "A few known properties of the union of events:\n",
    "\n",
    "\\begin{align}\n",
    "& A \\cup A^C = S \\\\\n",
    "& (A \\cup B)^C = A^C \\cap B^C\\\\\n",
    "& (A \\cap B)^C = A^C \\cup B^C\\\\\n",
    "& A \\cup (B \\cup C) = (A \\cup B) \\cup C \\\\\n",
    "& P(A \\cup B) = P(A) + P(B) = \\emptyset \\quad\\text{(for mutually exclusive events)}\\\\\n",
    "& P( A \\cup B) = P(A \\cap B^C) + P(A^C \\cap B^C) + P(A \\cap B)\\\\\n",
    "\\end{align}\n",
    "\n",
    "The union of three events is equal to \n",
    "\\begin{align}\n",
    "P(A \\cup B \\cup C) = P(A) + P(B) + P(C) - P(A \\cap B) - P( B \\cap C) - P( A \\cap C) + P(A \\cap B \\cap C).\n",
    "\\end{align}\n",
    "If the events union is **mutually exclusive** then\n",
    "\\begin{align}\n",
    "    P(A_1 \\cup A_2 \\cup \\cdots \\cup A_n) = P(A_1) + \\cdots + P(A_n),\n",
    "\\end{align}\n",
    "where the sequence $A_1, A_2, \\cdots , A_n$ are called the **partition** of $S$.\n",
    "\n",
    "**Conditional Probability** is defined as an event $B$ that is conditioned on another event $A$. In this case,\n",
    "\\begin{align}\n",
    "    P(B \\mid A) = \\frac{P(A \\cap B)}{P(A)} \\hspace{0.5cm}  \\text{for } P(A) >0.\n",
    "\\end{align}\n",
    "\n",
    "From the above equation, it follows that \n",
    "\\begin{align}\n",
    "P(A \\cap B) = P (B \\mid A) P(A).\n",
    "\\end{align}\n",
    "\n",
    "It's not hard to see that conditioning on more evets (e.g. two) results in\n",
    "\\begin{align}\n",
    "P(A \\cap B\\cap C) = P (C \\mid B\\cap A) P(B\\cap A).\n",
    "\\end{align}\n",
    "\n",
    "In general, for a sequence of events $A_1, A_2, \\cdots, A_n$:\n",
    "\\begin{align}\n",
    "\\mathrm {P} (A_{n}\\cap \\ldots \\cap A_{1})=\\mathrm {P} (A_{n}|A_{n-1}\\cap \\ldots \\cap A_{1})\\cdot \\mathrm {P} (A_{n-1}\\cap \\ldots \\cap A_{1}).\n",
    "\\end{align}\n",
    "\n",
    "If the two events $A$ and $B$ are independent, knowledge about one event does not affect the probability of the other event. The following conditions are equivalent:\n",
    "\\begin{align}\n",
    "P(A \\mid B) &= P(A)\\\\\n",
    "P(A \\cap B) &= P(A)P(B).\\\\\n",
    "\\end{align}\n",
    "\n",
    "In general, if $A_1, A_2, \\cdots, A_n$ are independent then\n",
    "\\begin{align}\n",
    "P(A_1 \\cap A_2  \\ldots \\cap A_n) = P(A_1)P(A_2) \\cdots P(A_n).\n",
    "\\end{align}\n"
   ]
  },
  {
   "cell_type": "markdown",
   "metadata": {
    "id": "Lnr_kfAyIPoy"
   },
   "source": [
    "The law of total probability states that given a partition of the sample space $B$ to $n$ non-overlapping segments $\\{ A_1, A_2, \\cdots, A_n \\}$ the probability of an event $B$, $P(B)$ can be expressed as:\n",
    "\\begin{align}\n",
    "    P(B) = \\sum_{i=1}^n P(A_i)P(B \\mid A_i)\n",
    "\\end{align}\n",
    "\n",
    "And finally, Bayes' theorem is infered from the conditional probability equations $P(A|B)=P(A\\cap B)/P(B)$ and $P(B|A)=P(B\\cap A)/P(A)$. Because, $P(A\\cap B)=P(B\\cap A)$ it follows that\n",
    "\\begin{align}\n",
    "    P(A \\mid B) = \\frac{P(B \\mid A) P(A) }{ P(B)}.\n",
    "\\end{align}\n",
    "If $B$\n",
    "- Given $\\{ A_1, A_2, \\cdots, A_n \\}$ a partition of a sample space, then the posterior probabilities of the event $A_i$ conditional on an event $B$ can be obtained from the probabilities $P(A_i)$ and $P(A_i \\mid B)$ using the formula:\n",
    "\\begin{equation}\n",
    "    P(A_i \\mid B) = \\frac{P(A_i)P(B \\mid A_i)}{\\sum_{j=1}^n P(A_j)P(B \\mid A_j)}\n",
    "\\end{equation}"
   ]
  },
  {
   "cell_type": "markdown",
   "metadata": {
    "id": "Nmnm7XLSIPoy"
   },
   "source": [
    "### Bayes' Theorem"
   ]
  },
  {
   "cell_type": "markdown",
   "metadata": {
    "id": "uC7SACdjIPoy"
   },
   "source": [
    "- Given $\\{ A_1, A_2, \\cdots, A_n \\}$ a partition of a sample space, then the posterior probabilities of the event $A_i$ conditional on an event $B$ can be obtained from the probabilities $P(A_i)$ and $P(A_i \\mid B)$ using the formula:\n",
    "\\begin{equation}\n",
    "    P(A_i \\mid B) = \\frac{P(A_i)P(B \\mid A_i)}{\\sum_{j=1}^n P(A_j)P(B \\mid A_j)}\n",
    "\\end{equation}"
   ]
  },
  {
   "cell_type": "code",
   "execution_count": 225,
   "metadata": {
    "id": "J-i4rjwEIPoy"
   },
   "outputs": [],
   "source": []
  },
  {
   "cell_type": "markdown",
   "metadata": {
    "id": "GSUUbT5LIjaw"
   },
   "source": []
  },
  {
   "cell_type": "markdown",
   "metadata": {
    "id": "20Pc2QoxCiK4"
   },
   "source": [
    "\n",
    "# Chapter 0: Introduction\n",
    "\n"
   ]
  },
  {
   "cell_type": "markdown",
   "metadata": {
    "id": "KHyrjgkYtkbT"
   },
   "source": [
    "Welcome to our short introductory course on Operation Research using Python!\n",
    "\n",
    "Operations research (OR), (a.k.a., Management Science) is an interdisciplinary field that uses analytical methods for quantitative decision-making.\n",
    "The emphasis of OR is on practical applications, and as such, it has substantial overlap with many other disciplines, like industrial engineering and business management.\n",
    "It uses tools from mathematical sciences, such as modeling, statistics, and optimization, to arrive at optimal or near-optimal solutions to complex decision-making problems. Operations research is often concerned with determining the extreme values of real-world objectives, such as maximizing profit or minimizing cost.\n",
    "\n",
    "Operations research is used to deal with real-world problems. For example:\n",
    "* Scheduling: hospital patients, classes, buses, planes, sporting events.\n",
    "* Marketing: store layout, advertising, social media, online ad placement, recommendations on a website.\n",
    "* Product development: product features, pricing, sales forecasts.\n",
    "* Inventory: how many to build, how many touchpads the store should have in stock.\n",
    "* Organizations: business management, cross-cultural issues, social networks.\n",
    "* Queueing: waiting for lines at amusement parks, banks, movie theaters, the line at the store to buy new electronic gadgets, traffic.\n",
    "* Environment: managing sustainable resources, reducing materials needed to manufacture a product.\n",
    "* Optimizing: internet search engines, product design.\n",
    "* Decision making: security, investment, what college to attend.\n",
    "\n",
    "<!-- The following set of notes will emphasize the use of Python in solving OR-related problems. -->\n",
    "\n",
    "<!-- ## Python and Jupyter Resources -->\n",
    "<!-- \n",
    "* [Google Colab Introduction](https://colab.research.google.com/notebooks/welcome.ipynb)\n",
    "* [Google's Python Class](https://developers.google.com/edu/python/)\n",
    "* [Stanford Numpy Tutorial](https://cs231n.github.io/python-numpy-tutorial/)\n",
    "* [Linear algebra](https://github.com/ageron/handson-ml2/blob/master/math_linear_algebra.ipynb)\n",
    "* [Numpy](https://github.com/ageron/handson-ml2/blob/master/tools_numpy.ipynb)\n",
    "* [Matplotlib](https://github.com/ageron/handson-ml2/blob/master/tools_matplotlib.ipynb)\n",
    "* [Pandas](https://github.com/ageron/handson-ml2/blob/master/tools_pandas.ipynb)\n",
    "\n",
    "<!-- * [Jupyter Notebook Tutorial](https://www.datacamp.com/community/tutorials/tutorial-jupyter-notebook) -->\n",
    "<!-- * [Calculus](https://github.com/ageron/handson-ml2/blob/master/math_differential_calculus.ipynb) -->\n",
    "<!-- * [Matplotlib Tutorial Notebook](https://nbviewer.org/github/jrjohansson/scientific-python-lectures/blob/master/Lecture-4-Matplotlib.ipynb) -->\n",
    "<!-- * [Python Data Science Handbook](https://github.com/jakevdp/PythonDataScienceHandbook) -->\n",
    "<!-- * [Scikit-Learn Documentation](https://scikit-learn.org/stable/index.html) --> \n"
   ]
  },
  {
   "cell_type": "markdown",
   "metadata": {
    "id": "I1oU-TiwckKi"
   },
   "source": [
    "# Chapter 1: Linear Programming"
   ]
  },
  {
   "cell_type": "markdown",
   "metadata": {
    "id": "ag0EmEuFjSzz"
   },
   "source": [
    "Objectives of business decisions frequently involve maximizing profit or minimizing costs.\n",
    "Linear programming uses linear algebraic relationships to represent a firm's decisions given a business objective and resource constraints.\n",
    "Steps in application:\n",
    "1. Identify the problem as solvable by linear programming\n",
    "2. Formulate a mathematical model of the unstructured problem\n",
    "3. Solve the model\n",
    "\n",
    "The model has multiple components:\n",
    "* Decision variables - mathematical symbols representing levels of activity by the firm\n",
    "* Objective function - a linear mathematical relationship describing an objective of the firm, in terms of decision variables - this function is to be maximized or minimized\n",
    "* Constraints - requirements or restrictions placed on the firm by the operating environment, stated in linear relationships of the decision variables\n",
    "* Parameters - numerical coefficients and constants used in the objective function and constraints\n",
    "\n",
    "To make things more concrete let's consider and example-"
   ]
  },
  {
   "cell_type": "markdown",
   "metadata": {
    "id": "SlePgwGOcTdg"
   },
   "source": [
    "## The Factory Problem"
   ]
  },
  {
   "cell_type": "markdown",
   "metadata": {
    "id": "xdgbiVQ_qkK9"
   },
   "source": [
    "A buisness manager develops a production plan for a factory that produces **chairs** and **tables**. The factory wants to sell a chair for **\\$40** and a table for **\\$50**.\n",
    "There are two critical resources in the production of chairs and tables: wood (measured in **m$^2$**), and labor (measured in working **hours** per week).\n",
    "At the beginning of each week there are **40** units of wood and **50** units of labor available.\n",
    "\n",
    "The manager estimates that \n",
    "* **one chair** requires **1** unit of wood and **4** units of labor,\n",
    "* while **one table** requires **2** units of wood and **3** units of labor. \n",
    "\n",
    "product | profit (\\$/unit) | wood (m$^2$/unit) | labor (hour/unit)\n",
    "-|-|-|-\n",
    "chair | 40 | 1 | 2\n",
    "table | 50 | 4 | 3\n",
    "\n",
    "The marketing department has told the manager that ALL chairs and tables can be sold.\n",
    "\n",
    "**Problem statement:\n",
    "what is the production plan that maximizes total revenue?**\n",
    "\n",
    "If the factory produces $x_1$ chairs, then since each chair generates \\$40, the *total revenue* generated by the production of chairs is $40x_1$.\n",
    "Similarly, the *total revenue* generated by the production of tables is $50x_2$. \n",
    "Consequently, the total revenue generated by the production plan can be determined by the following equation:\n",
    "\n",
    "\\begin{align}\n",
    "\\text{total revenue per week} = 40x_1 + 50x_2.\n",
    "\\end{align}\n",
    "\n",
    "The production plan is constrained by the amount of resources available per week. How do we ensure that the production plan does not consume more wood or labor than the amount available?\n",
    "If we decide to produce $x_1$ number of chairs, then the total amount of wood consumed by the production of chairs is $1x_1$ m$^2$.\n",
    "Similarly, if we decide to produce $x_2$ number of tables,\n",
    "then the total amount of wood consumed by the\n",
    "production of tables is $2x_2$ m$^2$.\n",
    "Hence, the total consumption of wood by the\n",
    "production plan determined by the values of $x_1$ and $x_2$\n",
    "is $1x_1 + 2x_2$  m$^2$. \n",
    "However, the consumption of wood by the production plan cannot exceed the amount of wood available. We can expressed these ideas in\n",
    "the following constraint:\n",
    "\n",
    "\\begin{align}\n",
    "1x_1 + 2x_2 \\le 40.\n",
    "\\end{align}\n",
    "\n",
    "Similarly, we can formulate the constraint for\n",
    "labor resources per week.\n",
    "The total amount of labor resources consumed by the\n",
    "production of chairs is 4 labor units multiplied by the\n",
    "number of chairs produced, that is $4x_1$ hours.\n",
    "The total amount of labor resources consumed by the\n",
    "production of tables is 3 labor units multiplied by the\n",
    "number of tables produced, that is $3x_2$ hours.\n",
    "Therefore, the total consumption of labor resources by\n",
    "the production plan determined by the values of $x_1$ and\n",
    "$x_2$ is $4x_1 + 3x_2$ hours. This labor consumption cannot\n",
    "exceed the labor capacity available. Hence, this\n",
    "constraint can be expressed as follows:\n",
    "\n",
    "\\begin{align}\n",
    "4x_1 + 3x_2 \\le 120.\n",
    "\\end{align}\n",
    "\n",
    "In a linear programming (LP) model we have objective (goal) and constraints that must meet.\n",
    "Here, the objective is to maximize the total revenue (denoted by $z$) generated by the buisness plan and constraints that limit the number of chairs and tables that can be produced. That is,\n",
    "\n",
    "\\begin{align}\n",
    "&\\text{max}\\\\\n",
    "&\\qquad z=40𝑥_1 + 50𝑥_2&\\quad&\\text{(revenue)}\\\\\n",
    "&\\text{subject to}\\\\\n",
    "&\\qquad 1x_1 + 2𝑥_2 \\le 40&\\quad&\\text{(wood, m$^2$)}\\\\\n",
    "&\\qquad 4𝑥_1 + 3𝑥_2 \\le 120&\\quad&\\text{(labor, hours)}\\\\\n",
    "&\\qquad x_1, x_2 \\ge 0&\\quad&\\text{(non negativity)}\\\\\n",
    "\\end{align} \n",
    "\n",
    "where $𝑥_1$ is a **decision variable** that represent the number of\n",
    "chairs to produce, and $𝑥_2$ is a **decision variable** that represent the number of tables to produce. \n",
    "\n",
    "Abstraction of factory problem allows\n",
    "us to generalize the model. That is, we are able to change the values of the data without changing the\n",
    "model structure:\n",
    "\n",
    "\\begin{align}\n",
    "&\\text{max}\\\\\n",
    "&\\qquad z=c_1𝑥_1 + c_2𝑥_2&\\quad&\\text{(revenue)}\\\\\n",
    "&\\text{subject to}\\\\\n",
    "&\\qquad a_{1,1}x_1 + a_{1,2}𝑥_2 \\le b_1&\\quad&\\text{(wood, $m^2$)}\\\\\n",
    "&\\qquad a_{2,1}𝑥_1 + a_{2,2}𝑥_2 \\le b_2&\\quad&\\text{(labor, hours)}\\\\\n",
    "&\\qquad x_1, x_2 \\ge 0&\\quad&\\text{(non negativity)}\\\\\n",
    "\\end{align} \n",
    "\n",
    "where $c_1=40$, $c_2=50$, $a_{1,1}=1$, $a_{1,2}=2$,\n",
    "$a_{2,1}=4$, $a_{2,2}=3$, $b_1=40$, and $b_2=120$. \n",
    "Summation notation allows us to write the above set of equations in more concise form:\n",
    "\n",
    "\\begin{align}\n",
    "&\\text{max}\\\\\n",
    "&\\qquad z=\\sum_{i=1}^{n} c_i x_i  \\\\\n",
    "&\\text{subject to} \\\\\n",
    "&\\qquad \\sum_{j=1}^{m} a_{i,j} x_j \\le b_i, \\quad(\\forall i = 1,2,.. m) \\\\\n",
    "&\\qquad x_i \\ge 0, \\quad(\\forall i = 1,2,.. n). \\\\\n",
    "\\end{align} \n",
    "\n",
    "where $n$ is the number of decision variables (here $n=2$), and\n",
    "$m$ is the number of constraining resources (here $m=2$). In example, \n",
    "\n",
    "\\begin{align}\n",
    "&\\text{max}\\\\\n",
    "&z=\\sum_{i=1}^{n} c_i x_i= c_1x_1+c_2x_2=40x_1+50x_2,\\\\\n",
    "&\\text{subject to} \\\\\n",
    "&\\sum_{j=1}^{m} a_{i,j} x_j = \\left\\{\n",
    "        \\begin{array}{cl}\n",
    "        a_{1,1}x_1+a_{1,2}x_2&\\le b_1&\\Rightarrow 1x_1+2x_2&=40,  \\\\\n",
    "        a_{2,1}x_1+a_{2,2}x_2&\\le b_2&\\Rightarrow 4x_1+3x_2&=120,\n",
    "        \\end{array}\n",
    "        \\right.\\\\\n",
    "&x_1\\ge 0, x_2\\ge 0.\\\\\n",
    "\\end{align} \n",
    "\n",
    "\n",
    "Another way of writing this is using a matrix form:\n",
    "\n",
    "\\begin{align}\n",
    "&\\text{max}\\\\\n",
    "&\\qquad z=\\mathbf{c}^T\\mathbf{x}  \\\\\n",
    "&\\text{subject to}\\\\\n",
    "&\\qquad\\mathbf{A}\\mathbf{x} \\le \\mathbf{b},\\\\ \n",
    "&\\qquad\\mathbf{x} \\ge 0.\\\\\n",
    "\\end{align} \n",
    "\n",
    "Here, $\\mathbf{c}=(c_1,c_2)=(40,50),~\\mathbf{x}=(x_1,x_2), \\mathbf{b}=(b_1,b_2)=(40,120)$, and \n",
    "$\\mathbf{A} = \n",
    "  \\begin{pmatrix}\n",
    "  a_{1,1} & a_{1,2} \\\\\n",
    "  a_{2,1} & a_{2,2} \n",
    "  \\end{pmatrix}\n",
    "   = \n",
    "  \\begin{pmatrix}\n",
    "  1 & 2 \\\\\n",
    "  4 & 3 \n",
    "  \\end{pmatrix}.\n",
    "$\n",
    "\n",
    "Lastely, in a one line format:\n",
    "\n",
    "\\begin{align} \n",
    "{\\displaystyle \\max\\{\\,\\mathbf {c} ^{\\mathrm {T} }\\mathbf {x} \\mid \\mathbf {x} \\in \\mathbb {R} ^{n}\\land A\\mathbf {x} \\leq \\mathbf {b} \\land \\mathbf {x} \\geq 0\\,\\}}.\n",
    "\\end{align} \n",
    "\n",
    "In operation research, objective functions are *maximized* or *minimized*. For example, maximizing revenue or minimizing cost.\n",
    "\n",
    "Constraints typically involve inequalities:\n",
    "* $\\le$ constraints are typically considered for\n",
    "**capacity/supply** constraints that can't exceed some threshold.\n",
    "* $\\ge$ constraints are typically used to model **demand**\n",
    "requirements where we want to ensure that\n",
    "at least certain level is satisfied.\n",
    "* $=$ constraints are used when we want to\n",
    "match exactly certain activities with a given\n",
    "requirement. \n",
    "\n",
    "A solution can be feasible or infeasible. A feasible solution does not violate any of the constraints, while an infeasible solution violates **at least one** of the constraints. In example, for the factury example, $\\mathbf{x}=(5,10)$ is feasible, while $\\mathbf{x}=(10,20)$ is not.\n"
   ]
  },
  {
   "cell_type": "markdown",
   "metadata": {
    "id": "EhzLizrgcZEH"
   },
   "source": [
    "## Graphical Solution of Linear Programming Models"
   ]
  },
  {
   "cell_type": "markdown",
   "metadata": {
    "id": "N4BZQtkwneMW"
   },
   "source": [
    "Graphical solution is limited to LP models containing only two decision variables.\n",
    "Graphical **methods** provide an illustration of how a solution for a linear programming problem is obtained.\n",
    "\n",
    "Panel a) of the figure below shows the region of the wood constraint $1x_1+2x_2 <= 40$ using the fact that the decisions variables are non-negative. This is the feasible area that contains the possible solutions for the decisions variables. Panel b) shows the region of the labor constraint $4x_1+3x_2 <= 120$, again, using the fact that the decisions variables are non-negative. \n",
    "\n",
    "The goal is to maximize the objective $40x_1+50x_2$. In panel c) we show multiple lines for the various values that the objective *can* take.\n",
    "\n",
    "The two contraints must meet at the same time, and so on panel d) we intersect both contraints and the resulting common area is the new feasible area that is considered in this problem. Panel e) shows multiplte objective values with respect to the new feasible region. In linear programming the\n",
    "feasible region is called a **polyhedron**. Panel f) is the outcome of the graphical method by which we identify the optimal solution $(x_1,x_2)=(24,8)$ to the problem. At this point the objective maximized with $z=\\$1360$ and satisfy all the contraints of the question.\n",
    "\n",
    "Hence, the optimal solution point is the last point the objective function touches as it leaves the feasible solution area."
   ]
  },
  {
   "cell_type": "code",
   "execution_count": 226,
   "metadata": {
    "colab": {
     "base_uri": "https://localhost:8080/",
     "height": 585
    },
    "id": "tni4E0Z3AO6N",
    "outputId": "711761a3-caac-4525-9f7d-c7e998ca76b4"
   },
   "outputs": [
    {
     "data": {
      "image/png": "[encoded data removed]",
      "text/plain": [
       "<Figure size 1152x576 with 6 Axes>"
      ]
     },
     "metadata": {
      "filenames": {
       "image/png": "/Users/naftali/ORinPython/_build/jupyter_execute/intro_or_411_0.png"
      },
      "needs_background": "light"
     },
     "output_type": "display_data"
    }
   ],
   "source": [
    "import numpy as np\n",
    "%matplotlib inline\n",
    "import matplotlib.pyplot as plt\n",
    "from matplotlib.patches import Polygon\n",
    "\n",
    "plt.figure(figsize=(16,8))\n",
    "#-------------------\n",
    "plt.subplot(2,3,1)\n",
    "plt.plot([40,0],[0,20],'-b')\n",
    "plt.text(35,5, '$1x_1+2x_2 <= 40$', color='b')\n",
    "P = np.array([\n",
    "        [0, 40, 0],\n",
    "        [0, 0, 20]\n",
    "    ])\n",
    "plt.gca().add_artist(Polygon(P.T, alpha=0.3, color=\"b\"))\n",
    "plt.grid()\n",
    "plt.axis([0, 60, 0, 60])\n",
    "plt.xlabel('$x_1$');plt.ylabel('$x_2$')\n",
    "plt.title('a) feasiblewood contraint: $1x_1+2x_2 <= 40$')\n",
    "#-------------------\n",
    "plt.subplot(2,3,2)\n",
    "plt.plot([30,0],[0,40],'-r')\n",
    "plt.text(5,35, '$4x_1+3x_2 <= 120$', color='r')\n",
    "P = np.array([\n",
    "        [0, 30, 0],\n",
    "        [0, 0, 40]\n",
    "    ])\n",
    "plt.gca().add_artist(Polygon(P.T, alpha=0.3, color=\"r\"))\n",
    "plt.grid()\n",
    "plt.axis([0, 60, 0, 60])\n",
    "plt.xlabel('$x_1$');plt.ylabel('$x_2$')\n",
    "plt.title('b) feasible labor contraint: $4x_1+3x_2 <= 120$')\n",
    "#-------------------\n",
    "plt.subplot(2,3,3)\n",
    "plt.plot([800/40,0],[0,800/50],'--g')\n",
    "plt.text(20,5, '$40x_1+50x_2=800$', color='g')\n",
    "\n",
    "plt.plot([2000/40,0],[0,2000/50],'--k')\n",
    "plt.text(40,15, '$40x_1+50x_2=2000$', color='k')\n",
    "plt.grid()\n",
    "plt.axis([0, 60, 0, 60])\n",
    "plt.xlabel('$x_1$');plt.ylabel('$x_2$')\n",
    "plt.title('c) multiple objective $40x_1+50x_2$ lines')\n",
    "#-------------------\n",
    "plt.subplot(2,3,4)\n",
    "#plt.plot([40,0],[0,20],'-b')\n",
    "#plt.text(35,5, '$1x_1+2x_2 <= 40$', color='b')\n",
    "P = np.array([\n",
    "        [0, 40, 0],\n",
    "        [0, 0, 20]\n",
    "    ])\n",
    "plt.gca().add_artist(Polygon(P.T, alpha=0.3, color=\"b\"))\n",
    "P = np.array([\n",
    "        [0, 30, 0],\n",
    "        [0, 0, 40]\n",
    "    ])\n",
    "plt.gca().add_artist(Polygon(P.T, alpha=0.3, color=\"r\"))\n",
    "plt.grid()\n",
    "plt.axis([0, 60, 0, 60])\n",
    "plt.xlabel('$x_1$');plt.ylabel('$x_2$')\n",
    "plt.title('d) intersecting the two feasible constraint regions')\n",
    "#-------------------\n",
    "plt.subplot(2,3,5)\n",
    "#plt.plot([40,0],[0,20],'-b')\n",
    "#plt.text(35,5, '$1x_1+2x_2 <= 40$', color='b')\n",
    "P = np.array([\n",
    "        [0, 30, 24,0],\n",
    "        [0, 0, 8 ,20]\n",
    "    ])\n",
    "plt.gca().add_artist(Polygon(P.T, alpha=0.3, color=\"b\"))\n",
    "P = np.array([\n",
    "        [0, 30, 24,0],\n",
    "        [0, 0, 8 ,20]\n",
    "    ])\n",
    "plt.gca().add_artist(Polygon(P.T, alpha=0.3, color=\"r\"))\n",
    "plt.plot([600/40,0],[0,600/50],'--k')\n",
    "plt.plot([1360/40,0],[0,1360/50],'--k')\n",
    "plt.plot([2000/40,0],[0,2000/50],'--k')\n",
    "plt.grid()\n",
    "plt.axis([0, 60, 0, 60])\n",
    "plt.xlabel('$x_1$');plt.ylabel('$x_2$')\n",
    "plt.title('e) the feasible area and multiple objective lines')\n",
    "\n",
    "#-------------------\n",
    "plt.subplot(2,3,6)\n",
    "#plt.plot([40,0],[0,20],'-b')\n",
    "#plt.text(35,5, '$1x_1+2x_2 <= 40$', color='b')\n",
    "P = np.array([\n",
    "        [0, 30, 24,0],\n",
    "        [0, 0, 8 ,20]\n",
    "    ])\n",
    "plt.gca().add_artist(Polygon(P.T, alpha=0.3, color=\"b\"))\n",
    "P = np.array([\n",
    "        [0, 30, 24,0],\n",
    "        [0, 0, 8 ,20]\n",
    "    ])\n",
    "plt.gca().add_artist(Polygon(P.T, alpha=0.3, color=\"r\"))\n",
    "plt.plot([1360/40,0],[0,1360/50],'--k')\n",
    "plt.text(25,15, '$z=40x_1+50x_2=1360$', color='k')\n",
    "plt.scatter(24,8,s=50,c='k')\n",
    "plt.grid()\n",
    "plt.axis([0, 60, 0, 60])\n",
    "plt.xlabel('$x_1$');plt.ylabel('$x_2$')\n",
    "plt.title('f) the feasible area and optimal solution')\n",
    "\n",
    "plt.tight_layout()\n",
    "plt.show()"
   ]
  },
  {
   "cell_type": "markdown",
   "metadata": {
    "id": "yXhslxThpr83"
   },
   "source": [
    "The **standard form** of LP requires that all constraints be in the form of equations (equalities).\n",
    "For that a **slack** variable is added to a $\\le$ constraint (weak inequality) to convert it to an equation ($=$).\n",
    "A slack variable typically represents an *unused* resource.\n",
    "A slack variable contributes nothing to the objective function value.\n",
    "\n",
    "In example, the standard form of the above factory LP problem is:\n",
    "\n",
    "\\begin{align}\n",
    "&\\text{max}\\\\\n",
    "&\\qquad z=40𝑥_1 + 50𝑥_2+0s_1+0s_2\\\\\n",
    "&\\text{s.t.}\\\\\n",
    "&\\qquad 1x_1 + 2𝑥_2+s_1 = 40\\\\\n",
    "&\\qquad 4𝑥_1 + 3𝑥_2+s_2 = 50\\\\\n",
    "&\\qquad x_1, x_2, s_1, s_2 \\ge 0\\\\\n",
    "\\end{align} \n",
    "\n",
    "where $s_1$ and $s_2$ are the slack variables."
   ]
  },
  {
   "cell_type": "markdown",
   "metadata": {
    "id": "5sve4LLa0NLN"
   },
   "source": [
    "**Minimization LP** problems work similarly with contraints equations bearing the opposite inequlity sign. In example,\n",
    "\n",
    "\\begin{align}\n",
    "&\\text{min}\\\\\n",
    "&\\qquad z=6𝑥_1 + 3𝑥_2\\\\\n",
    "&\\text{s.t.}\\\\\n",
    "&\\qquad 2x_1 + 4𝑥_2 \\ge 18\\\\\n",
    "&\\qquad 4𝑥_1 + 3𝑥_2 \\ge 24\\\\\n",
    "&\\qquad x_1, x_2\\ge 0\\\\\n",
    "\\end{align} \n",
    "\n",
    "The solution can be found using the graphical method resulting in $(x_1,x2)=(4.8,1.6)$ and $z=33.6$."
   ]
  },
  {
   "cell_type": "code",
   "execution_count": 227,
   "metadata": {
    "colab": {
     "base_uri": "https://localhost:8080/",
     "height": 225
    },
    "id": "DAO8r8s51dPX",
    "outputId": "eef448fe-7c2f-4405-da1f-a1497c65b2c3"
   },
   "outputs": [
    {
     "data": {
      "image/png": "[encoded data removed]",
      "text/plain": [
       "<Figure size 1152x216 with 2 Axes>"
      ]
     },
     "metadata": {
      "filenames": {
       "image/png": "/Users/naftali/ORinPython/_build/jupyter_execute/intro_or_414_0.png"
      },
      "needs_background": "light"
     },
     "output_type": "display_data"
    }
   ],
   "source": [
    "import numpy as np\n",
    "%matplotlib inline\n",
    "import matplotlib.pyplot as plt\n",
    "from matplotlib.patches import Polygon\n",
    "\n",
    "plt.figure(figsize=(16,3))\n",
    "#-------------------\n",
    "plt.subplot(1,2,1)\n",
    "P = np.array([\n",
    "        [8, 12, 12, 0,  0, 4.8],\n",
    "        [0,  0, 12, 12, 8, 1.6]\n",
    "    ])\n",
    "plt.gca().add_artist(Polygon(P.T, alpha=0.3, color=\"r\"))\n",
    "plt.grid()\n",
    "plt.axis([0, 12, 0, 12])\n",
    "plt.xlabel('$x_1$');plt.ylabel('$x_2$')\n",
    "plt.title('a) feasible area for the minimiztion problem')\n",
    "#-------------------\n",
    "plt.subplot(1,2,2)\n",
    "P = np.array([\n",
    "        [8, 12, 12, 0,  0, 4.8],\n",
    "        [0,  0, 12, 12, 8, 1.6]\n",
    "    ])\n",
    "plt.gca().add_artist(Polygon(P.T, alpha=0.3, color=\"r\"))\n",
    "plt.plot([33.6/6,0],[0,33.6/3],'--k')\n",
    "plt.scatter(4.8,1.6,s=50,c='k')\n",
    "plt.text(1,2, '$z=6x_1+3x_2=33.6$', color='k')\n",
    "\n",
    "plt.grid()\n",
    "plt.axis([0, 12, 0, 12])\n",
    "plt.xlabel('$x_1$');plt.ylabel('$x_2$')\n",
    "plt.title('b) feasible area for the minimiztion problem + optimal solution')\n",
    "plt.tight_layout()\n",
    "plt.show()"
   ]
  },
  {
   "cell_type": "markdown",
   "metadata": {
    "id": "zscAm7L82I3j"
   },
   "source": [
    "**Surplus** variables correspond to slack variables but represent an excess above a constraint requirement level.\n",
    "As with slack, surplus variables contribute nothing to the calculated value of the objective function. For the minimization problem, adding surplus variables results in,\n",
    "\n",
    "\\begin{align}\n",
    "&\\text{min}\\\\\n",
    "&\\qquad z=6𝑥_1 + 3𝑥_2+0s_1+0s_2\\\\\n",
    "&\\text{s.t.}\\\\\n",
    "&\\qquad 2x_1 + 4𝑥_2 -s_1 = 18\\\\\n",
    "&\\qquad 4𝑥_1 + 3𝑥_2 -s1 =  24\\\\\n",
    "&\\qquad x_1, x_2, s_1, s_2\\ge 0\\\\\n",
    "\\end{align} \n"
   ]
  },
  {
   "cell_type": "markdown",
   "metadata": {
    "id": "yrAs46_6Hh70"
   },
   "source": [
    "There are **irregular** types of LP problems for which the general rules do not apply. Special types of problems include those with:\n",
    "* **Multiple optimal solutions**, i.e., where the objective function is parallel to a constraint line.\n",
    "* **Infeasible solutions**, i.e., where every possible solution violates at least one constraint.\n",
    "* **Unbounded solutions**, i.e., where the value of the objective\n",
    "function increases indefinitely.\n",
    "\n"
   ]
  },
  {
   "cell_type": "markdown",
   "metadata": {
    "id": "qNuPWNKGTrfK"
   },
   "source": [
    "# Chapter 2: Solving problems using Python"
   ]
  },
  {
   "cell_type": "code",
   "execution_count": 228,
   "metadata": {
    "colab": {
     "base_uri": "https://localhost:8080/"
    },
    "id": "NeqYk3aGTwt2",
    "outputId": "d7559b81-357a-43f5-a488-bb048b2b978e"
   },
   "outputs": [
    {
     "name": "stdout",
     "output_type": "stream",
     "text": [
      "Requirement already satisfied: gurobipy in /Users/naftali/opt/anaconda3/lib/python3.7/site-packages (9.1.2)\r\n"
     ]
    },
    {
     "ename": "GurobiError",
     "evalue": "No Gurobi license found (user naftali, host Naftalis-MacBook-Pro-15.local, hostid d3c3e9a1, cores 6)",
     "output_type": "error",
     "traceback": [
      "\u001b[0;31m---------------------------------------------------------------------------\u001b[0m",
      "\u001b[0;31mGurobiError\u001b[0m                               Traceback (most recent call last)",
      "\u001b[0;32m<ipython-input-228-54e01eaaa2a9>\u001b[0m in \u001b[0;36m<module>\u001b[0;34m\u001b[0m\n\u001b[1;32m      5\u001b[0m \u001b[0;34m\u001b[0m\u001b[0m\n\u001b[1;32m      6\u001b[0m \u001b[0;31m# Create new model\u001b[0m\u001b[0;34m\u001b[0m\u001b[0;34m\u001b[0m\u001b[0;34m\u001b[0m\u001b[0m\n\u001b[0;32m----> 7\u001b[0;31m \u001b[0mm\u001b[0m \u001b[0;34m=\u001b[0m \u001b[0mModel\u001b[0m\u001b[0;34m(\u001b[0m\u001b[0;34m'Factory'\u001b[0m\u001b[0;34m)\u001b[0m \u001b[0;31m# The Model() constructor creates a model object m. The name of this new model is 'Factory'.\u001b[0m\u001b[0;34m\u001b[0m\u001b[0;34m\u001b[0m\u001b[0m\n\u001b[0m\u001b[1;32m      8\u001b[0m                      \u001b[0;31m# This new model m initially contains no decision variables, constraints, or objective function.\u001b[0m\u001b[0;34m\u001b[0m\u001b[0;34m\u001b[0m\u001b[0;34m\u001b[0m\u001b[0m\n\u001b[1;32m      9\u001b[0m \u001b[0;34m\u001b[0m\u001b[0m\n",
      "\u001b[0;32msrc/gurobipy/env.pxi\u001b[0m in \u001b[0;36mgurobipy.Env.__init__\u001b[0;34m()\u001b[0m\n",
      "\u001b[0;32msrc/gurobipy/gurobi.pxi\u001b[0m in \u001b[0;36mgurobipy.gurobi._getdefaultenv\u001b[0;34m()\u001b[0m\n",
      "\u001b[0;32msrc/gurobipy/env.pxi\u001b[0m in \u001b[0;36mgurobipy.Env.__init__\u001b[0;34m()\u001b[0m\n",
      "\u001b[0;31mGurobiError\u001b[0m: No Gurobi license found (user naftali, host Naftalis-MacBook-Pro-15.local, hostid d3c3e9a1, cores 6)"
     ]
    }
   ],
   "source": [
    "!pip install gurobipy\n",
    "\n",
    "# Import gurobi library\n",
    "from gurobipy import * # This command imports the Gurobi functions and classes.\n",
    "\n",
    "# Create new model\n",
    "m = Model('Factory') # The Model() constructor creates a model object m. The name of this new model is 'Factory'.\n",
    "                     # This new model m initially contains no decision variables, constraints, or objective function.\n",
    "\n",
    "# Create decision variables\n",
    "# This method adds a decision variable to the model object m, one by one; i.e. x1 and then x2. \n",
    "# The argument of the method gives the name of added decision variable. \n",
    "# The default values are applied here; i.e. the decision variables are of type continuous and non-negative, with no upper bound.\n",
    "x1 = m.addVar(lb=0, vtype = GRB.CONTINUOUS, name='chairs') \n",
    "x2 = m.addVar(lb=0, vtype = GRB.CONTINUOUS, name='tables')\n",
    "\n",
    "#Define objective function\n",
    "#This method adds the objective function to the model object m. The first\n",
    "#argument is a linear expression (LinExpr) and the second argument defines\n",
    "#the sense of the optimization.\n",
    "m.setObjective(40*x1+50*x2, GRB.MAXIMIZE)\n",
    "\n",
    "#Add constraints\n",
    "#This method adds a constraint to the model object m and considers a linear of coefficient-variables elements\n",
    "m.addConstr(1*x1+2*x2<=40, name='wood')\n",
    "m.addConstr(4*x1+3*x2<=120, name= 'labor')\n",
    "\n",
    "#Run optimization engine\n",
    "#This method runs the optimization engine to solve the LP problem in the model object m\n",
    "m.optimize()\n",
    "\n",
    "#display optimal production plan\n",
    "for v in m.getVars():\n",
    "  print(v.varName, v.x)\n",
    "print('optimal total revenue:', m.objVal)"
   ]
  },
  {
   "cell_type": "markdown",
   "metadata": {
    "id": "eJv_YDFVWoz0"
   },
   "source": [
    "**What if our LP problem has hundreds of thousands varibales and constraints?** \n",
    "\n",
    "The Gurobi python code just presented is too manual and would take too long too build a large scale LP problem. \n",
    "We should use appropriate data structures and Gurobi python functions and objects to abstract the problem and have the Gurobi python code build the LP problem of any size."
   ]
  },
  {
   "cell_type": "code",
   "execution_count": 229,
   "metadata": {
    "colab": {
     "base_uri": "https://localhost:8080/"
    },
    "id": "7A_oUv4b7m0s",
    "outputId": "6f9efc57-73aa-48f3-9e85-2a5f990ed64b"
   },
   "outputs": [
    {
     "name": "stdout",
     "output_type": "stream",
     "text": [
      "[0, 1, 4, 9, 16]\n",
      "[9, 16]\n",
      "[0, 0, 0, 0, 0, 1, 2, 3, 0, 2, 4, 6]\n",
      "30\n"
     ]
    }
   ],
   "source": [
    "#Python list comprehension\n",
    "#List comprehension is compact way to create lists\n",
    "sqrd = [i*i for i in range(5)]\n",
    "print(sqrd) \n",
    "\n",
    "#Can be used to create subsequences that satisfy certain conditions (ex: filtering a list)\n",
    "bigsqrd = [i*i for i in range(5) if i*i >= 5]\n",
    "print(bigsqrd) \n",
    "\n",
    "#Can be used with multiple for loops (ex: all combinations)\n",
    "prod = [i*j for i in range(3) for j in range(4)]\n",
    "print(prod) \n",
    "\n",
    "#Generator expression is similar, but no brackets (ex: argument to aggregate sum)\n",
    "sumsqrd = sum(i*i for i in range(5))\n",
    "print(sumsqrd)"
   ]
  },
  {
   "cell_type": "code",
   "execution_count": 230,
   "metadata": {
    "colab": {
     "base_uri": "https://localhost:8080/"
    },
    "id": "J_iS6Lao2uyT",
    "outputId": "74cdfc80-34ea-434c-94e4-ab2ff6a078aa"
   },
   "outputs": [
    {
     "name": "stdout",
     "output_type": "stream",
     "text": [
      "['wood', 'labor'] {'wood': 40, 'labor': 120}\n",
      "['chair', 'table'] {'chair': 40, 'table': 50}\n",
      "{('wood', 'chair'): 1, ('wood', 'table'): 2, ('labor', 'chair'): 4, ('labor', 'table'): 3}\n"
     ]
    }
   ],
   "source": [
    "from gurobipy import * \n",
    "\n",
    "#resource data\n",
    "#The multidict function returns a list which maps each resource (key) to its capacity value.\n",
    "resources, capacity = multidict({ \n",
    "    'wood':  40,\n",
    "    'labor': 120 })\n",
    "print(resources, capacity)\n",
    "\n",
    "#products data\n",
    "#This multidict function returns a list which maps each product (key) to its price value.\n",
    "products, price = multidict({\n",
    "    'chair': 40,\n",
    "    'table': 50 })\n",
    "print(products, price)\n",
    "\n",
    "#bill of materials: resources required by each product\n",
    "#This dictionary has a 2-tuple as a key, mapping the resource required by a product with its quantity per.\n",
    "bom={\n",
    "('wood','chair'):1,\n",
    "('wood','table'):2,\n",
    "('labor','chair'):4,\n",
    "('labor','table'):3\n",
    "}\n",
    "print(bom)\n",
    "\n",
    "m = Model('Factory')\n",
    "\n",
    "#This method adds decision variables to the model object m\n",
    "make = m.addVars(products, name='make')\n",
    "\n",
    "#This method adds constraints to the model object m\n",
    "res = m.addConstrs(((sum(bom[r,p]*make[p] for p in products) <= capacity[r]) for r in resources),name='R')\n",
    "\n",
    "#This method adds the objective function to the model object m.\n",
    "#The first argument is a linear expression which is generated by the 'prod' method. \n",
    "#The 'prod' method is the product of the object (revenue) with the object (make) \n",
    "#for each product p in the set (products). The second argument defines the sense of the optimization.\n",
    "m.setObjective(make.prod(price), GRB.MAXIMIZE)\n",
    "\n",
    "#save model for inspection\n",
    "m.write('factory.lp')"
   ]
  },
  {
   "cell_type": "code",
   "execution_count": 231,
   "metadata": {
    "colab": {
     "base_uri": "https://localhost:8080/"
    },
    "id": "WPCNb9Kw8m_Y",
    "outputId": "63c99ec0-70b4-42da-9f26-5e7eab04230d"
   },
   "outputs": [
    {
     "name": "stdout",
     "output_type": "stream",
     "text": [
      "\\ Model Factory\n",
      "\\ LP format - for model browsing. Use MPS format to capture full model detail.\n",
      "Maximize\n",
      "  40 make[chair] + 50 make[table]\n",
      "Subject To\n",
      " R[wood]: make[chair] + 2 make[table] <= 40\n",
      " R[labor]: 4 make[chair] + 3 make[table] <= 120\n",
      "Bounds\n",
      "End\n"
     ]
    }
   ],
   "source": [
    "cat factory.lp"
   ]
  },
  {
   "cell_type": "code",
   "execution_count": 232,
   "metadata": {
    "colab": {
     "base_uri": "https://localhost:8080/"
    },
    "id": "vCtwr9buDj3a",
    "outputId": "bfcb1c37-3c93-46e7-b942-14fb3565908a"
   },
   "outputs": [
    {
     "name": "stdout",
     "output_type": "stream",
     "text": [
      "Gurobi Optimizer version 9.5.0 build v9.5.0rc5 (linux64)\n",
      "Thread count: 1 physical cores, 2 logical processors, using up to 2 threads\n",
      "Optimize a model with 2 rows, 2 columns and 4 nonzeros\n",
      "Model fingerprint: 0x3a526911\n",
      "Coefficient statistics:\n",
      "  Matrix range     [1e+00, 4e+00]\n",
      "  Objective range  [4e+01, 5e+01]\n",
      "  Bounds range     [0e+00, 0e+00]\n",
      "  RHS range        [4e+01, 1e+02]\n",
      "Presolve time: 0.02s\n",
      "Presolved: 2 rows, 2 columns, 4 nonzeros\n",
      "\n",
      "Iteration    Objective       Primal Inf.    Dual Inf.      Time\n",
      "       0    9.0000000e+31   3.250000e+30   9.000000e+01      0s\n",
      "       2    1.3600000e+03   0.000000e+00   0.000000e+00      0s\n",
      "\n",
      "Solved in 2 iterations and 0.04 seconds (0.00 work units)\n",
      "Optimal objective  1.360000000e+03\n",
      "make[chair] 24.0\n",
      "make[table] 8.0\n",
      "optimal total revenue: 1360.0\n"
     ]
    }
   ],
   "source": [
    "# run optimization engine\n",
    "m.optimize()\n",
    "\n",
    "#display optimal production plan\n",
    "for v in m.getVars():\n",
    "  print(v.varName, v.x)\n",
    "print('optimal total revenue:', m.objVal)"
   ]
  },
  {
   "cell_type": "markdown",
   "metadata": {
    "id": "xunMelTRDubU"
   },
   "source": [
    "## Sensitivity analysis of LP problems"
   ]
  },
  {
   "cell_type": "markdown",
   "metadata": {
    "id": "swmMiTNydNYz"
   },
   "source": [
    "Solving LP problems provides more information than only the values of the decision variables and the value of the objective function."
   ]
  },
  {
   "cell_type": "code",
   "execution_count": 233,
   "metadata": {
    "colab": {
     "base_uri": "https://localhost:8080/"
    },
    "id": "dZlUbrhylnpt",
    "outputId": "7e181052-a663-45e8-81b5-0323a6c382d9"
   },
   "outputs": [
    {
     "name": "stdout",
     "output_type": "stream",
     "text": [
      "make[chair] 24.0\n",
      "make[table] 8.0\n",
      "optimal total revenue: 1360.0\n",
      "make[chair] = 24.0 (40.0, 25.0, 66.66666666666667, 0.0)\n",
      "make[table] = 8.0 (50.0, 30.0, 80.0, 0.0)\n",
      "R[wood] : slack = 0.0 , shadow price= 16.0 , (40.0, 30.0, 80.0)\n",
      "R[labor] : slack = 0.0 , shadow price= 6.0 , (120.0, 60.0, 160.0)\n",
      "objective value = 1360.0\n"
     ]
    }
   ],
   "source": [
    "for v in m.getVars():\n",
    "  print(v.varName, v.x)\n",
    "print('optimal total revenue:', m.objVal)\n",
    "\n",
    "for var in m.getVars(): # descision variable\n",
    "    print(var.varName, '=', var.x, (var.obj,var.SAObjLow, var.SAObjUp, var.RC))\n",
    "\n",
    "for con in m.getConstrs(): # constraints\n",
    "    print(con.ConstrName, ': slack =', con.slack,', shadow price=',\n",
    "          con.pi,',', (con.RHS, con.SARHSLow, con.SARHSUp))\n",
    "    \n",
    "print(\"objective value =\", m.objVal)"
   ]
  },
  {
   "cell_type": "markdown",
   "metadata": {
    "id": "G66RMKzwdlmp"
   },
   "source": [
    "### Objective value coefficients\n",
    "* Optimally, we produce 24 chairs ($x1$ has the optimal value of 24). We sell a chair for $40 (its objective coefficient is 40). While holding the other objective coefficients fix, the values of 40 can change within the range of (25.0, 66.67) without affecting the optimal solution of(24,8,0). However, changing the objective coefficient will change the objective value!\n",
    "* Similarly, for tables, the objective coefficient is 50 but can vary (42.5, 80.0) without affecting the optimal solution point.\n",
    "* Similarily, or benches. Although here, the value is just 0."
   ]
  },
  {
   "cell_type": "markdown",
   "metadata": {
    "id": "9c8xNdvUdoDi"
   },
   "source": [
    "### Constraint quantity values\n",
    "The constraint quantity values are 40 m$^2$ and 120 hours. Modifying these values will change the feasible area. Here, we are looking for the range of values over which the quantity values can change **without changing the solution variable mix** including slack. \n",
    "* For the wood constraint, the RHS value is 40 m$^2$ and it can change within the range of (30, 80) without changing the solution variable mix.\n",
    "* For the labor constraint, the RHS value is 120 hours, and it can change within the range of (60, 160) without changing the solution variable mix."
   ]
  },
  {
   "cell_type": "markdown",
   "metadata": {
    "id": "tcBQi55bdrTF"
   },
   "source": [
    "### Shadow prices\n",
    "Associated with an LP optimal solution there are **shadow prices** (also known as: **dual values**, or **marginal values**) for the constraints.\n",
    "The **shadow price** of a constraint associated with the optimal solution represents the change in the value of the objective function per unit of increase in the RHS value of that constraint.\n",
    "\n",
    "* Suppose the wood capacity is increased from 40 m$^2$ to 41 m$^2$, then the objective function value will increase from the optimal value of 1360 to 1360+**16**. The shadow price of the wood constraint is 16.\n",
    "* Similarly, suppose the labor capacity is increased from 120 hours to 121 hours, then the objective function value will increase from the optimal value of 1360 to 1360+**6**. The shadow price of the labor constraint is 6. "
   ]
  },
  {
   "cell_type": "markdown",
   "metadata": {
    "id": "Aw6J5XM9dt5O"
   },
   "source": [
    "\n",
    "### Sensitivity of the shadow price\n",
    "The sensitivity range for a constraint quantity value is also the range over which the shadow price is valid (i.e., before a slack/surplus value is added to the mix). For example, the shadow price of 16 hours is valid over the range of (60, 160) hours for labor."
   ]
  },
  {
   "cell_type": "markdown",
   "metadata": {
    "id": "v_0ZnmvcdwJj"
   },
   "source": [
    "### Adding new variable and/or new constraint\n",
    "Is it profitable to make a third product, like benches?\n",
    "Assume that the price of a bench is $30, and a bench consumes 1.2 units of wood and 2 units of labor, then we can formulate the LP model using the previous resources constraints on wood and labor as follows:\n",
    "\n",
    "What about adding a new constraint as packaging, and varying costs for chairs and tables?"
   ]
  },
  {
   "cell_type": "code",
   "execution_count": 234,
   "metadata": {
    "id": "zktl8GcVNBi9"
   },
   "outputs": [],
   "source": [
    "# Adding new variable\n",
    "\n",
    "products, price = multidict({\n",
    "    'chair': 40,\n",
    "    'table': 50,\n",
    "    'bench' : 30})\n",
    "bom={\n",
    "('wood','chair'):1,\n",
    "('wood','table'):2,\n",
    "('wood','bench'):1.2,\n",
    "('labor','chair'):4,\n",
    "('labor','table'):3,\n",
    "('labor','bench'):2,\n",
    "}\n",
    "\n",
    "m = Model('Factory')\n",
    "\n",
    "make = m.addVars(products,name='make')\n",
    "res = m.addConstrs(((sum(bom[r,p]*make[p] for p in products) <= capacity[r]) for r in resources),name='R')\n",
    "m.setObjective(make.prod(price), GRB.MAXIMIZE)\n",
    "m.write('factory.lp')"
   ]
  },
  {
   "cell_type": "code",
   "execution_count": 235,
   "metadata": {
    "colab": {
     "base_uri": "https://localhost:8080/"
    },
    "id": "F052yz58NogL",
    "outputId": "323b49b2-2de9-4df3-c04c-4d96e2e175eb"
   },
   "outputs": [
    {
     "name": "stdout",
     "output_type": "stream",
     "text": [
      "\\ Model Factory\n",
      "\\ LP format - for model browsing. Use MPS format to capture full model detail.\n",
      "Maximize\n",
      "  40 make[chair] + 50 make[table] + 30 make[bench]\n",
      "Subject To\n",
      " R[wood]: make[chair] + 2 make[table] + 1.2 make[bench] <= 40\n",
      " R[labor]: 4 make[chair] + 3 make[table] + 2 make[bench] <= 120\n",
      "Bounds\n",
      "End\n"
     ]
    }
   ],
   "source": [
    "cat factory.lp"
   ]
  },
  {
   "cell_type": "code",
   "execution_count": 236,
   "metadata": {
    "colab": {
     "base_uri": "https://localhost:8080/"
    },
    "id": "2GFiM-4KOEFK",
    "outputId": "12a43dd5-0bc5-4f5b-f41d-5d13ff7b6517"
   },
   "outputs": [
    {
     "name": "stdout",
     "output_type": "stream",
     "text": [
      "Gurobi Optimizer version 9.5.0 build v9.5.0rc5 (linux64)\n",
      "Thread count: 1 physical cores, 2 logical processors, using up to 2 threads\n",
      "Optimize a model with 2 rows, 3 columns and 6 nonzeros\n",
      "Model fingerprint: 0x3b912b2a\n",
      "Coefficient statistics:\n",
      "  Matrix range     [1e+00, 4e+00]\n",
      "  Objective range  [3e+01, 5e+01]\n",
      "  Bounds range     [0e+00, 0e+00]\n",
      "  RHS range        [4e+01, 1e+02]\n",
      "Presolve time: 0.02s\n",
      "Presolved: 2 rows, 3 columns, 6 nonzeros\n",
      "\n",
      "Iteration    Objective       Primal Inf.    Dual Inf.      Time\n",
      "       0    1.2000000e+32   4.350000e+30   1.200000e+02      0s\n",
      "       2    1.3600000e+03   0.000000e+00   0.000000e+00      0s\n",
      "\n",
      "Solved in 2 iterations and 0.03 seconds (0.00 work units)\n",
      "Optimal objective  1.360000000e+03\n",
      "make[chair] 24.0\n",
      "make[table] 8.0\n",
      "make[bench] 0.0\n",
      "optimal total revenue: 1360.0\n",
      "make[chair] = 24.0 (40.0, 25.00000000000002, 66.66666666666667, 0.0)\n",
      "make[table] = 8.0 (50.0, 47.85714285714286, 80.0, 0.0)\n",
      "make[bench] = 0.0 (30.0, -inf, 31.2, -1.1999999999999993)\n",
      "R[wood] : slack = 0.0 , shadow price= 16.0 , (40.0, 30.0, 80.0)\n",
      "R[labor] : slack = 0.0 , shadow price= 6.0 , (120.0, 60.0, 160.0)\n",
      "objective value = 1360.0\n"
     ]
    }
   ],
   "source": [
    "m.optimize()\n",
    "\n",
    "#display optimal production plan\n",
    "for v in m.getVars():\n",
    "  print(v.varName, v.x)\n",
    "print('optimal total revenue:', m.objVal)\n",
    "\n",
    "for var in m.getVars(): # descision variable\n",
    "    print(var.varName, '=', var.x, (var.obj,var.SAObjLow, var.SAObjUp, var.RC))\n",
    "\n",
    "for con in m.getConstrs(): # constraints\n",
    "    print(con.ConstrName, ': slack =', con.slack,', shadow price=',\n",
    "          con.pi,',', (con.RHS, con.SARHSLow, con.SARHSUp))\n",
    "    \n",
    "print(\"objective value =\", m.objVal)"
   ]
  },
  {
   "cell_type": "code",
   "execution_count": 237,
   "metadata": {
    "id": "AKLdro4YwMur"
   },
   "outputs": [],
   "source": [
    "# Adding new constraint\n",
    "\n",
    "resources, capacity = multidict({ \n",
    "    'wood':  40,\n",
    "    'labor': 120,\n",
    "    'packaging': 5 })\n",
    "\n",
    "\n",
    "products, price = multidict({\n",
    "    'chair': 40,\n",
    "    'table': 50})\n",
    "bom={\n",
    "('wood','chair'):1,\n",
    "('wood','table'):2,\n",
    "('labor','chair'):4,\n",
    "('labor','table'):3,\n",
    "('packaging','chair'):0.2,\n",
    "('packaging','table'):0.1,\n",
    "}\n",
    "\n",
    "m = Model('Factory')\n",
    "\n",
    "make = m.addVars(products,name='make')\n",
    "res = m.addConstrs(((sum(bom[r,p]*make[p] for p in products) <= capacity[r]) for r in resources),name='R')\n",
    "m.setObjective(make.prod(price), GRB.MAXIMIZE)\n",
    "m.write('factory.lp')"
   ]
  },
  {
   "cell_type": "code",
   "execution_count": 238,
   "metadata": {
    "colab": {
     "base_uri": "https://localhost:8080/"
    },
    "id": "NpK4FmwCw0va",
    "outputId": "b2c284e7-9799-45de-9752-ff8b5569190c"
   },
   "outputs": [
    {
     "name": "stdout",
     "output_type": "stream",
     "text": [
      "\\ Model Factory\n",
      "\\ LP format - for model browsing. Use MPS format to capture full model detail.\n",
      "Maximize\n",
      "  40 make[chair] + 50 make[table]\n",
      "Subject To\n",
      " R[wood]: make[chair] + 2 make[table] <= 40\n",
      " R[labor]: 4 make[chair] + 3 make[table] <= 120\n",
      " R[packaging]: 0.2 make[chair] + 0.1 make[table] <= 5\n",
      "Bounds\n",
      "End\n"
     ]
    }
   ],
   "source": [
    "cat factory.lp"
   ]
  },
  {
   "cell_type": "code",
   "execution_count": 239,
   "metadata": {
    "colab": {
     "base_uri": "https://localhost:8080/"
    },
    "id": "TxlX2rkCw3R-",
    "outputId": "a56a726a-22fa-4cc4-c749-2b73059480ff"
   },
   "outputs": [
    {
     "name": "stdout",
     "output_type": "stream",
     "text": [
      "Gurobi Optimizer version 9.5.0 build v9.5.0rc5 (linux64)\n",
      "Thread count: 1 physical cores, 2 logical processors, using up to 2 threads\n",
      "Optimize a model with 3 rows, 2 columns and 6 nonzeros\n",
      "Model fingerprint: 0x0fe37c52\n",
      "Coefficient statistics:\n",
      "  Matrix range     [1e-01, 4e+00]\n",
      "  Objective range  [4e+01, 5e+01]\n",
      "  Bounds range     [0e+00, 0e+00]\n",
      "  RHS range        [5e+00, 1e+02]\n",
      "Presolve time: 0.01s\n",
      "Presolved: 3 rows, 2 columns, 6 nonzeros\n",
      "\n",
      "Iteration    Objective       Primal Inf.    Dual Inf.      Time\n",
      "       0    9.0000000e+31   4.450000e+30   9.000000e+01      0s\n",
      "       3    1.3000000e+03   0.000000e+00   0.000000e+00      0s\n",
      "\n",
      "Solved in 3 iterations and 0.02 seconds (0.00 work units)\n",
      "Optimal objective  1.300000000e+03\n",
      "make[chair] 20.0\n",
      "make[table] 10.0\n",
      "optimal total revenue: 1300.0\n",
      "make[chair] = 20.0 (40.0, 25.0, 100.0, 0.0)\n",
      "make[table] = 10.0 (50.0, 20.0, 80.0, 0.0)\n",
      "R[wood] : slack = 0.0 , shadow price= 20.0 , (40.0, 25.0, 55.0)\n",
      "R[labor] : slack = 10.0 , shadow price= 0.0 , (120.0, 110.0, inf)\n",
      "R[packaging] : slack = 0.0 , shadow price= 100.0 , (5.0, 2.0, 5.6)\n",
      "objective value = 1300.0\n"
     ]
    }
   ],
   "source": [
    "m.optimize()\n",
    "\n",
    "#display optimal production plan\n",
    "for v in m.getVars():\n",
    "  print(v.varName, v.x)\n",
    "print('optimal total revenue:', m.objVal)\n",
    "\n",
    "for var in m.getVars(): # descision variable\n",
    "    print(var.varName, '=', var.x, (var.obj,var.SAObjLow, var.SAObjUp, var.RC))\n",
    "\n",
    "for con in m.getConstrs(): # constraints\n",
    "    print(con.ConstrName, ': slack =', con.slack,', shadow price=',\n",
    "          con.pi,',', (con.RHS, con.SARHSLow, con.SARHSUp))\n",
    "    \n",
    "print(\"objective value =\", m.objVal)"
   ]
  },
  {
   "cell_type": "markdown",
   "metadata": {
    "id": "z1SarGHyBxEq"
   },
   "source": [
    "## Problem example: C2Q1\n",
    "Solve the following LP problem:\n",
    "\n",
    "\\begin{align}\n",
    "&\\text{max}\\\\\n",
    "&\\qquad z=10x_1+6x_2\\\\\n",
    "&\\text{s.t.}\\\\\n",
    "&\\qquad 3x_1+8x_2\\le 20\\\\\n",
    "&\\qquad 45x_1+30x_2\\le 180\\\\\n",
    "&\\qquad x_1, x_2\\ge 0\\\\\n",
    "\\end{align} \n"
   ]
  },
  {
   "cell_type": "code",
   "execution_count": 240,
   "metadata": {
    "colab": {
     "base_uri": "https://localhost:8080/"
    },
    "id": "x5t5HshiBxEq",
    "outputId": "06381f87-146c-4c31-d015-c9005743f5fb"
   },
   "outputs": [
    {
     "name": "stdout",
     "output_type": "stream",
     "text": [
      "(2,) (2, 2) (2,)\n",
      "Gurobi Optimizer version 9.5.0 build v9.5.0rc5 (linux64)\n",
      "Thread count: 1 physical cores, 2 logical processors, using up to 2 threads\n",
      "Optimize a model with 2 rows, 2 columns and 4 nonzeros\n",
      "Model fingerprint: 0xbd442586\n",
      "Coefficient statistics:\n",
      "  Matrix range     [3e+00, 4e+01]\n",
      "  Objective range  [6e+00, 1e+01]\n",
      "  Bounds range     [0e+00, 0e+00]\n",
      "  RHS range        [2e+01, 2e+02]\n",
      "Presolve time: 0.01s\n",
      "Presolved: 2 rows, 2 columns, 4 nonzeros\n",
      "\n",
      "Iteration    Objective       Primal Inf.    Dual Inf.      Time\n",
      "       0    2.7500000e+30   2.828125e+30   2.750000e+00      0s\n",
      "       1    4.0000000e+01   0.000000e+00   0.000000e+00      0s\n",
      "\n",
      "Solved in 1 iterations and 0.02 seconds (0.00 work units)\n",
      "Optimal objective  4.000000000e+01\n",
      "x0 = 4.0 (10.0, 9.000000000000002, inf, 0.0)\n",
      "x1 = 0.0 (6.0, -inf, 6.666666666666666, -0.6666666666666661)\n",
      "constraints[0] : slack = 8.0 , shadow price= 0.0 , (20.0, 12.0, inf)\n",
      "constraints[1] : slack = 0.0 , shadow price= 0.2222222222222222 , (180.0, 0.0, 300.0)\n",
      "objective value = 40.0\n"
     ]
    }
   ],
   "source": [
    "c = [10, 6]    \n",
    "A = [[3,   8 ],\n",
    "     [45, 30 ]]\n",
    "b = [20, 180]\n",
    "print(np.array(c).shape,np.array(A).shape,np.array(b).shape)\n",
    "decision_variables = range(len(c))     \n",
    "constraints = range(np.array(A).shape[0])\n",
    "\n",
    "m = Model(\"C2Q1\")\n",
    "\n",
    "x = []\n",
    "for i in decision_variables:\n",
    "    x.append(m.addVar(lb = 0, vtype = GRB.CONTINUOUS, name = 'x' + str(i)))\n",
    "\n",
    "m.setObjective(quicksum(c[i] * x[i] for i in decision_variables) , GRB.MAXIMIZE) \n",
    "\n",
    "m.addConstrs((quicksum(A[j][i] * x[i] for i in decision_variables) \n",
    "                           <= b[j] for j in constraints), \"constraints\")\n",
    "\n",
    "m.optimize()\n",
    "\n",
    "for var in m.getVars(): # descision variable\n",
    "    print(var.varName, '=', var.x, (var.obj,var.SAObjLow, var.SAObjUp, var.RC))\n",
    "\n",
    "for con in m.getConstrs(): # constraints\n",
    "    print(con.ConstrName, ': slack =', con.slack,', shadow price=',\n",
    "          con.pi,',', (con.RHS, con.SARHSLow, con.SARHSUp))\n",
    "    \n",
    "print(\"objective value =\", m.objVal)"
   ]
  },
  {
   "cell_type": "markdown",
   "metadata": {
    "id": "hvLQcinTBxEs"
   },
   "source": [
    "## Problem example: C2Q2\n",
    "Solve the following LP problem:\n",
    "\n",
    "\\begin{align}\n",
    "&\\text{min}\\\\\n",
    "&\\qquad z=0.5x_1+0.03x_2\\\\\n",
    "&\\text{s.t.}\\\\\n",
    "&\\qquad 8x_1+6x_2\\ge 48\\\\\n",
    "&\\qquad x_1+2x_2\\ge 12\\\\\n",
    "&\\qquad x_1, x_2\\ge 0\\\\\n",
    "\\end{align} "
   ]
  },
  {
   "cell_type": "code",
   "execution_count": 241,
   "metadata": {
    "colab": {
     "base_uri": "https://localhost:8080/"
    },
    "id": "mmXnOawxBxEs",
    "outputId": "1f710ddb-ec31-4d98-f093-6c99d30c2110"
   },
   "outputs": [
    {
     "name": "stdout",
     "output_type": "stream",
     "text": [
      "(2,) (2, 2) (2,)\n",
      "Gurobi Optimizer version 9.5.0 build v9.5.0rc5 (linux64)\n",
      "Thread count: 1 physical cores, 2 logical processors, using up to 2 threads\n",
      "Optimize a model with 2 rows, 2 columns and 4 nonzeros\n",
      "Model fingerprint: 0x4d3e8f82\n",
      "Coefficient statistics:\n",
      "  Matrix range     [1e+00, 8e+00]\n",
      "  Objective range  [3e-02, 5e-01]\n",
      "  Bounds range     [0e+00, 0e+00]\n",
      "  RHS range        [1e+01, 5e+01]\n",
      "Presolve time: 0.01s\n",
      "Presolved: 2 rows, 2 columns, 4 nonzeros\n",
      "\n",
      "Iteration    Objective       Primal Inf.    Dual Inf.      Time\n",
      "       0    0.0000000e+00   1.200000e+01   0.000000e+00      0s\n",
      "       1    2.4000000e-01   0.000000e+00   0.000000e+00      0s\n",
      "\n",
      "Solved in 1 iterations and 0.02 seconds (0.00 work units)\n",
      "Optimal objective  2.400000000e-01\n",
      "x0 = 0.0 (0.5, 0.03999999999999998, inf, 0.46)\n",
      "x1 = 8.0 (0.03, -3.469446951953614e-18, 0.375, 0.0)\n",
      "constraints[0] : slack = 0.0 , shadow price= 0.005 , (48.0, 36.0, inf)\n",
      "constraints[1] : slack = -4.0 , shadow price= 0.0 , (12.0, -inf, 16.0)\n",
      "objective value = 0.24\n"
     ]
    }
   ],
   "source": [
    "c = [0.5, 0.03]    \n",
    "A = [[8,6 ],\n",
    "     [1,2 ]]\n",
    "b = [48,12]\n",
    "print(np.array(c).shape,np.array(A).shape,np.array(b).shape)\n",
    "decision_variables = range(len(c))     \n",
    "constraints = range(np.array(A).shape[0])\n",
    "\n",
    "m = Model(\"C2Q1\")\n",
    "\n",
    "x = []\n",
    "for i in decision_variables:\n",
    "    x.append(m.addVar(lb = 0, vtype = GRB.CONTINUOUS, name = 'x' + str(i)))\n",
    "\n",
    "m.setObjective(quicksum(c[i] * x[i] for i in decision_variables) , GRB.MINIMIZE) \n",
    "\n",
    "m.addConstrs((quicksum(A[j][i] * x[i] for i in decision_variables) \n",
    "                           >= b[j] for j in constraints), \"constraints\")\n",
    "\n",
    "m.optimize()\n",
    "\n",
    "for var in m.getVars(): # descision variable\n",
    "    print(var.varName, '=', var.x, (var.obj,var.SAObjLow, var.SAObjUp, var.RC))\n",
    "\n",
    "for con in m.getConstrs(): # constraints\n",
    "    print(con.ConstrName, ': slack =', con.slack,', shadow price=',\n",
    "          con.pi,',', (con.RHS, con.SARHSLow, con.SARHSUp))\n",
    "    \n",
    "print(\"objective value =\", m.objVal)"
   ]
  },
  {
   "cell_type": "markdown",
   "metadata": {
    "id": "s6Qp7_aXBxEt"
   },
   "source": [
    "## Problem example: C4Q8\n",
    "Solve the following LP problem:\n",
    "\n",
    "\\begin{align}\n",
    "&\\text{min}\\\\\n",
    "&\\qquad z=4x_1+3x_2+2x_3\\\\\n",
    "&\\text{s.t.}\\\\\n",
    "&\\qquad 2x_1+4x_2+x_3\\ge 16\\\\\n",
    "&\\qquad 3x_1+2x_2+x_3\\ge 12\\\\\n",
    "&\\qquad x_1, x_2, x_3\\ge 0\\\\\n",
    "\\end{align} "
   ]
  },
  {
   "cell_type": "code",
   "execution_count": 242,
   "metadata": {
    "colab": {
     "base_uri": "https://localhost:8080/"
    },
    "id": "ZoUyYFAsBxEt",
    "outputId": "587eed93-3394-49f6-89fe-65e8c7d76b20"
   },
   "outputs": [
    {
     "name": "stdout",
     "output_type": "stream",
     "text": [
      "(3,) (2, 3) (2,)\n",
      "Gurobi Optimizer version 9.5.0 build v9.5.0rc5 (linux64)\n",
      "Thread count: 1 physical cores, 2 logical processors, using up to 2 threads\n",
      "Optimize a model with 2 rows, 3 columns and 6 nonzeros\n",
      "Model fingerprint: 0xf87028b1\n",
      "Coefficient statistics:\n",
      "  Matrix range     [1e+00, 4e+00]\n",
      "  Objective range  [2e+00, 4e+00]\n",
      "  Bounds range     [0e+00, 0e+00]\n",
      "  RHS range        [1e+01, 2e+01]\n",
      "Presolve time: 0.01s\n",
      "Presolved: 2 rows, 3 columns, 6 nonzeros\n",
      "\n",
      "Iteration    Objective       Primal Inf.    Dual Inf.      Time\n",
      "       0    0.0000000e+00   7.000000e+00   0.000000e+00      0s\n",
      "       2    1.7000000e+01   0.000000e+00   0.000000e+00      0s\n",
      "\n",
      "Solved in 2 iterations and 0.02 seconds (0.00 work units)\n",
      "Optimal objective  1.700000000e+01\n",
      "x0 = 2.0000000000000004 (4.0, 1.4999999999999996, 4.5, 0.0)\n",
      "x1 = 2.9999999999999996 (3.0, 2.6666666666666665, 8.0, 0.0)\n",
      "x2 = 0.0 (2.0, 1.375, inf, 0.625)\n",
      "constraints[0] : slack = 0.0 , shadow price= 0.12500000000000003 , (16.0, 8.0, 24.000000000000004)\n",
      "constraints[1] : slack = 0.0 , shadow price= 1.25 , (12.0, 7.999999999999999, 24.0)\n",
      "objective value = 17.0\n"
     ]
    }
   ],
   "source": [
    "c = [4,3,2]    \n",
    "A = [[2,4,1 ],\n",
    "     [3,2,1 ]]\n",
    "b = [16,12]\n",
    "print(np.array(c).shape,np.array(A).shape,np.array(b).shape)\n",
    "decision_variables = range(len(c))     \n",
    "constraints = range(np.array(A).shape[0])\n",
    "\n",
    "m = Model(\"C4Q8\")\n",
    "\n",
    "x = []\n",
    "for i in decision_variables:\n",
    "    x.append(m.addVar(lb = 0, vtype = GRB.CONTINUOUS, name = 'x' + str(i)))\n",
    "\n",
    "m.setObjective(quicksum(c[i] * x[i] for i in decision_variables) , GRB.MINIMIZE) \n",
    "\n",
    "m.addConstrs((quicksum(A[j][i] * x[i] for i in decision_variables) \n",
    "                           >= b[j] for j in constraints), \"constraints\")\n",
    "\n",
    "m.optimize()\n",
    "\n",
    "for var in m.getVars(): # descision variable\n",
    "    print(var.varName, '=', var.x, (var.obj,var.SAObjLow, var.SAObjUp, var.RC))\n",
    "\n",
    "for con in m.getConstrs(): # constraints\n",
    "    print(con.ConstrName, ': slack =', con.slack,', shadow price=',\n",
    "          con.pi,',', (con.RHS, con.SARHSLow, con.SARHSUp))\n",
    "    \n",
    "print(\"objective value =\", m.objVal)"
   ]
  },
  {
   "cell_type": "markdown",
   "metadata": {
    "id": "ZXxrH5ATBxEv"
   },
   "source": [
    "## Problem example: C4Q32\n",
    "Solve the following LP problem:\n",
    "\n",
    "\\begin{align}\n",
    "&\\text{min}\\\\\n",
    "&\\qquad z=22x_1+18x_2+35x_3+41x_4+30x_5+28x_6+25x_7+36x_8+18x_9\\\\\n",
    "&\\text{s.t.}\\\\\n",
    "&\\qquad x_1+x_2+x_3=1\\\\\n",
    "&\\qquad x_4+x_5+x_6=1\\\\\n",
    "&\\qquad x_7+x_8+x_9=1\\\\\n",
    "&\\qquad x_1+x_4+x_7=1\\\\\n",
    "&\\qquad x_2+x_5+x_8=1\\\\\n",
    "&\\qquad x_3+x_6+x_9=1\\\\\n",
    "&\\qquad x_1,x_2,x_3,x_4,x_5,x_6,x_7,x_8,x_9\\ge 0\\\\\n",
    "\\end{align} "
   ]
  },
  {
   "cell_type": "code",
   "execution_count": 243,
   "metadata": {
    "colab": {
     "base_uri": "https://localhost:8080/"
    },
    "id": "3762Gzi0BxEv",
    "outputId": "ebe62288-18e8-4857-ebe3-8cc4eccecebd"
   },
   "outputs": [
    {
     "name": "stdout",
     "output_type": "stream",
     "text": [
      "(9,) (6, 9) (6,)\n",
      "Gurobi Optimizer version 9.5.0 build v9.5.0rc5 (linux64)\n",
      "Thread count: 1 physical cores, 2 logical processors, using up to 2 threads\n",
      "Optimize a model with 6 rows, 9 columns and 18 nonzeros\n",
      "Model fingerprint: 0xadb8a4fb\n",
      "Coefficient statistics:\n",
      "  Matrix range     [1e+00, 1e+00]\n",
      "  Objective range  [2e+01, 4e+01]\n",
      "  Bounds range     [0e+00, 0e+00]\n",
      "  RHS range        [1e+00, 1e+00]\n",
      "Presolve time: 0.01s\n",
      "Presolved: 6 rows, 9 columns, 18 nonzeros\n",
      "\n",
      "Iteration    Objective       Primal Inf.    Dual Inf.      Time\n",
      "       0    6.4000000e+01   2.000000e+00   0.000000e+00      0s\n",
      "       2    7.0000000e+01   0.000000e+00   0.000000e+00      0s\n",
      "\n",
      "Solved in 2 iterations and 0.02 seconds (0.00 work units)\n",
      "Optimal objective  7.000000000e+01\n",
      "x0 = 1.0 (22.0, -inf, 23.0, 0.0)\n",
      "x1 = 0.0 (18.0, 17.0, 37.0, 0.0)\n",
      "x2 = 0.0 (35.0, 16.0, inf, 19.0)\n",
      "x3 = 0.0 (41.0, 34.0, inf, 7.0)\n",
      "x4 = 1.0 (30.0, 11.0, 31.0, 0.0)\n",
      "x5 = 0.0 (28.0, 27.0, 47.0, 0.0)\n",
      "x6 = 0.0 (25.0, 24.0, inf, 1.0)\n",
      "x7 = 0.0 (36.0, 20.0, inf, 16.0)\n",
      "x8 = 1.0 (18.0, -inf, 19.0, 0.0)\n",
      "constraints[0] : slack = 0.0 , shadow price= 18.0 , (1.0, 1.0, 1.0)\n",
      "constraints[1] : slack = 0.0 , shadow price= 30.0 , (1.0, 1.0, 1.0)\n",
      "constraints[2] : slack = 0.0 , shadow price= 20.0 , (1.0, 1.0, 1.0)\n",
      "constraints[3] : slack = 0.0 , shadow price= 4.0 , (1.0, 1.0, 1.0)\n",
      "constraints[4] : slack = 0.0 , shadow price= 0.0 , (1.0, 1.0, 1.0)\n",
      "constraints[5] : slack = 0.0 , shadow price= -2.0 , (1.0, 1.0, 1.0)\n",
      "objective value = 70.0\n"
     ]
    }
   ],
   "source": [
    "c = [22,18,35,41,30,28,25,36,18]    \n",
    "A = [[1,1,1,0,0,0,0,0,0 ],\n",
    "     [0,0,0,1,1,1,0,0,0 ],\n",
    "     [0,0,0,0,0,0,1,1,1 ],\n",
    "     [1,0,0,1,0,0,1,0,0 ],\n",
    "     [0,1,0,0,1,0,0,1,0 ],\n",
    "     [0,0,1,0,0,1,0,0,1 ]]\n",
    "b = [1,1,1,1,1,1]\n",
    "print(np.array(c).shape,np.array(A).shape,np.array(b).shape)\n",
    "decision_variables = range(len(c))     \n",
    "constraints = range(np.array(A).shape[0])\n",
    "\n",
    "m = Model(\"C4Q32\")\n",
    "\n",
    "x = []\n",
    "for i in decision_variables:\n",
    "    x.append(m.addVar(lb = 0, vtype = GRB.CONTINUOUS, name = 'x' + str(i)))\n",
    "\n",
    "m.setObjective(quicksum(c[i] * x[i] for i in decision_variables) , GRB.MINIMIZE) \n",
    "\n",
    "m.addConstrs((quicksum(A[j][i] * x[i] for i in decision_variables) \n",
    "                           == b[j] for j in constraints), \"constraints\")\n",
    "\n",
    "m.optimize()\n",
    "\n",
    "for var in m.getVars(): # descision variable\n",
    "    print(var.varName, '=', var.x, (var.obj,var.SAObjLow, var.SAObjUp, var.RC))\n",
    "\n",
    "for con in m.getConstrs(): # constraints\n",
    "    print(con.ConstrName, ': slack =', con.slack,', shadow price=',\n",
    "          con.pi,',', (con.RHS, con.SARHSLow, con.SARHSUp))\n",
    "    \n",
    "print(\"objective value =\", m.objVal)"
   ]
  },
  {
   "cell_type": "markdown",
   "metadata": {
    "id": "QaQshdzIhbR0"
   },
   "source": [
    "This would require the model to be reformulated with three new variables, $x_{10}, x_{11}, x_{12}$, representing Kelly's assignment to the press, lathe, and grinder. The model would be reformulated as,\n",
    "\n",
    "\\begin{align}\n",
    "&\\text{min}\\\\\n",
    "&\\qquad z=22x_1+18x_2+35x_3+41x_4+30x_5+28x_6+25x_7+36x_8+18x_9+20x_{10}+20x_{11}+20x_{12}\\\\\n",
    "&\\text{s.t.}\\\\\n",
    "&\\qquad x_1+x_2+x_3=1\\\\\n",
    "&\\qquad x_4+x_5+x_6=1\\\\\n",
    "&\\qquad x_7+x_8+x_9=1\\\\\n",
    "&\\qquad x_1+x_4+x_7=1\\\\\n",
    "&\\qquad x_2+x_5+x_8=1\\\\\n",
    "&\\qquad x_3+x_6+x_9=1\\\\\n",
    "&\\qquad x_1,x_2,x_3,x_4,x_5,x_6,x_7,x_8,x_9\\ge 0\n",
    "\\end{align} "
   ]
  },
  {
   "cell_type": "code",
   "execution_count": 244,
   "metadata": {
    "colab": {
     "base_uri": "https://localhost:8080/"
    },
    "id": "fAF6sL7yBxEw",
    "outputId": "abbe39db-563b-49d3-fcce-b9c3921fe4f6"
   },
   "outputs": [
    {
     "name": "stdout",
     "output_type": "stream",
     "text": [
      "(12,) (7, 12) (7,)\n",
      "Gurobi Optimizer version 9.5.0 build v9.5.0rc5 (linux64)\n",
      "Thread count: 1 physical cores, 2 logical processors, using up to 2 threads\n",
      "Optimize a model with 7 rows, 12 columns and 24 nonzeros\n",
      "Model fingerprint: 0x447648af\n",
      "Coefficient statistics:\n",
      "  Matrix range     [1e+00, 1e+00]\n",
      "  Objective range  [2e+01, 4e+01]\n",
      "  Bounds range     [0e+00, 0e+00]\n",
      "  RHS range        [1e+00, 1e+00]\n",
      "Presolve time: 0.01s\n",
      "Presolved: 7 rows, 12 columns, 24 nonzeros\n",
      "\n",
      "Iteration    Objective       Primal Inf.    Dual Inf.      Time\n",
      "       0    5.6000000e+01   0.000000e+00   0.000000e+00      0s\n",
      "\n",
      "Solved in 0 iterations and 0.02 seconds (0.00 work units)\n",
      "Optimal objective  5.600000000e+01\n",
      "x0 = 0.0 (22.0, 20.0, inf, 2.0)\n",
      "x1 = 1.0 (18.0, -inf, 20.0, 0.0)\n",
      "x2 = 0.0 (35.0, 18.0, inf, 17.0)\n",
      "x3 = 0.0 (41.0, 20.0, inf, 21.0)\n",
      "x4 = 0.0 (30.0, 18.0, inf, 12.0)\n",
      "x5 = 0.0 (28.0, 18.0, inf, 10.0)\n",
      "x6 = 0.0 (25.0, 20.0, inf, 5.0)\n",
      "x7 = 0.0 (36.0, 18.0, inf, 18.0)\n",
      "x8 = 1.0 (18.0, -inf, 20.0, 0.0)\n",
      "x9 = 1.0 (20.0, -inf, 22.0, 0.0)\n",
      "x10 = 0.0 (20.0, 18.0, inf, 2.0)\n",
      "x11 = 0.0 (20.0, 18.0, inf, 2.0)\n",
      "constraints[0] : slack = 0.0 , shadow price= 0.0 , (1.0, 1.0, inf)\n",
      "constraints[1] : slack = 1.0 , shadow price= 0.0 , (1.0, 0.0, inf)\n",
      "constraints[2] : slack = 0.0 , shadow price= 0.0 , (1.0, 1.0, inf)\n",
      "constraints[3] : slack = 0.0 , shadow price= 0.0 , (1.0, 1.0, inf)\n",
      "constraints[4] : slack = 0.0 , shadow price= 20.0 , (1.0, 0.0, 1.0)\n",
      "constraints[5] : slack = 0.0 , shadow price= 18.0 , (1.0, 0.0, 1.0)\n",
      "constraints[6] : slack = 0.0 , shadow price= 18.0 , (1.0, 0.0, 1.0)\n",
      "objective value = 56.0\n"
     ]
    }
   ],
   "source": [
    "c = [22,18,35,41,30,28,25,36,18,20,20,20]    \n",
    "A = [[1,1,1,0,0,0,0,0,0,0,0,0 ],\n",
    "     [0,0,0,1,1,1,0,0,0,0,0,0 ],\n",
    "     [0,0,0,0,0,0,1,1,1,0,0,0 ],\n",
    "     [0,0,0,0,0,0,0,0,0,1,1,1 ],\n",
    "     [1,0,0,1,0,0,1,0,0,1,0,0 ],\n",
    "     [0,1,0,0,1,0,0,1,0,0,1,0 ],\n",
    "     [0,0,1,0,0,1,0,0,1,0,0,1 ]]\n",
    "b =  [1,1,1,1,1,1,1]\n",
    "print(np.array(c).shape,np.array(A).shape,np.array(b).shape)\n",
    "decision_variables = range(len(c))     \n",
    "constraints = range(np.array(A).shape[0])\n",
    "\n",
    "m = Model(\"C4Q32\")\n",
    "\n",
    "x = []\n",
    "for i in decision_variables:\n",
    "    x.append(m.addVar(lb = 0, vtype = GRB.CONTINUOUS, name = 'x' + str(i)))\n",
    "\n",
    "m.setObjective(quicksum(c[i] * x[i] for i in decision_variables) , GRB.MINIMIZE) \n",
    "\n",
    "m.addConstrs((quicksum(A[j][i] * x[i] for i in decision_variables) \n",
    "                           <= b[j] for j in range(4)), \"constraints\")\n",
    "\n",
    "m.addConstrs((quicksum(A[j][i] * x[i] for i in decision_variables) \n",
    "                           == b[j] for j in range(4,7)), \"constraints\")\n",
    "m.optimize()\n",
    "\n",
    "for var in m.getVars(): # descision variable\n",
    "    print(var.varName, '=', var.x, (var.obj,var.SAObjLow, var.SAObjUp, var.RC))\n",
    "\n",
    "for con in m.getConstrs(): # constraints\n",
    "    print(con.ConstrName, ': slack =', con.slack,', shadow price=',\n",
    "          con.pi,',', (con.RHS, con.SARHSLow, con.SARHSUp))\n",
    "    \n",
    "print(\"objective value =\", m.objVal)"
   ]
  },
  {
   "cell_type": "markdown",
   "metadata": {
    "id": "5llhxOCEBxEw"
   },
   "source": [
    "## Problem example: C4Q33\n",
    "\n",
    "Solve the following LP problem:\n",
    "\n",
    "This is a transportation problem\n",
    "\n",
    "\\begin{align}\n",
    "&\\text{min}\\\\\n",
    "&\\qquad z=40x_1 + 65x_2 + 70x_3 + 30x_4\\\\\n",
    "&\\text{s.t.}\\\\\n",
    "&\\qquad x_1+x_2=250\\\\\n",
    "&\\qquad x_3+x_4=400\\\\\n",
    "&\\qquad x_1+x_3=300\\\\\n",
    "&\\qquad x_2+x_4=350\\\\\n",
    "&\\qquad x_1,x_2,x_3,x_4\\ge 0\\\\\n",
    "\\end{align} "
   ]
  },
  {
   "cell_type": "code",
   "execution_count": 245,
   "metadata": {
    "colab": {
     "base_uri": "https://localhost:8080/"
    },
    "id": "cJSnzIfiBxEw",
    "outputId": "fd6c49a4-e23f-4bfb-870f-fb86715aa8c4"
   },
   "outputs": [
    {
     "name": "stdout",
     "output_type": "stream",
     "text": [
      "(4,) (4, 4) (4,)\n",
      "Gurobi Optimizer version 9.5.0 build v9.5.0rc5 (linux64)\n",
      "Thread count: 1 physical cores, 2 logical processors, using up to 2 threads\n",
      "Optimize a model with 4 rows, 4 columns and 8 nonzeros\n",
      "Model fingerprint: 0x1da74e02\n",
      "Coefficient statistics:\n",
      "  Matrix range     [1e+00, 1e+00]\n",
      "  Objective range  [3e+01, 7e+01]\n",
      "  Bounds range     [0e+00, 0e+00]\n",
      "  RHS range        [2e+02, 4e+02]\n",
      "Presolve removed 4 rows and 4 columns\n",
      "Presolve time: 0.02s\n",
      "Presolve: All rows and columns removed\n",
      "Iteration    Objective       Primal Inf.    Dual Inf.      Time\n",
      "       0    2.4000000e+04   0.000000e+00   0.000000e+00      0s\n",
      "\n",
      "Solved in 0 iterations and 0.02 seconds (0.00 work units)\n",
      "Optimal objective  2.400000000e+04\n",
      "x0 = 250.0 (40.0, -inf, 105.0, 0.0)\n",
      "x1 = 0.0 (65.0, 0.0, inf, 65.0)\n",
      "x2 = 50.0 (70.0, 5.0, inf, 0.0)\n",
      "x3 = 350.0 (30.0, -inf, 95.0, 0.0)\n",
      "constraints[0] : slack = 0.0 , shadow price= -0.0 , (250.0, 250.0, 250.0)\n",
      "constraints[1] : slack = 0.0 , shadow price= 30.0 , (400.0, 400.0, 400.0)\n",
      "constraints[2] : slack = 0.0 , shadow price= 40.0 , (300.0, 300.0, 300.0)\n",
      "constraints[3] : slack = 0.0 , shadow price= 0.0 , (350.0, 350.0, 350.0)\n",
      "objective value = 24000.0\n"
     ]
    }
   ],
   "source": [
    "c = [40,65,70,30]    \n",
    "A = [[1,1,0,0 ],\n",
    "     [0,0,1,1 ],\n",
    "     [1,0,1,0 ],\n",
    "     [0,1,0,1 ]]\n",
    "b =  [250, 400, 300, 350]\n",
    "print(np.array(c).shape,np.array(A).shape,np.array(b).shape)\n",
    "decision_variables = range(len(c))     \n",
    "constraints = range(np.array(A).shape[0])\n",
    "\n",
    "m = Model(\"C4Q33\")\n",
    "\n",
    "x = []\n",
    "for i in decision_variables:\n",
    "    x.append(m.addVar(lb = 0, vtype = GRB.CONTINUOUS, name = 'x' + str(i)))\n",
    "\n",
    "m.setObjective(quicksum(c[i] * x[i] for i in decision_variables) , GRB.MINIMIZE) \n",
    "m.addConstrs((quicksum(A[j][i] * x[i] for i in decision_variables) \n",
    "                           == b[j] for j in constraints), \"constraints\")\n",
    "m.optimize()\n",
    "\n",
    "for var in m.getVars(): # descision variable\n",
    "    print(var.varName, '=', var.x, (var.obj,var.SAObjLow, var.SAObjUp, var.RC))\n",
    "\n",
    "for con in m.getConstrs(): # constraints\n",
    "    print(con.ConstrName, ': slack =', con.slack,', shadow price=',\n",
    "          con.pi,',', (con.RHS, con.SARHSLow, con.SARHSUp))\n",
    "    \n",
    "print(\"objective value =\", m.objVal)"
   ]
  },
  {
   "cell_type": "markdown",
   "metadata": {
    "id": "ikFyiHYMBxEx"
   },
   "source": [
    "# Chapter 3: Theory of LP and the Simplex method\n"
   ]
  },
  {
   "cell_type": "markdown",
   "metadata": {
    "id": "4QiExYvwLa1w"
   },
   "source": [
    "To be done later on\n",
    "\n",
    "To place here a python code that follows the Simplex algorithm"
   ]
  },
  {
   "cell_type": "code",
   "execution_count": 246,
   "metadata": {
    "colab": {
     "base_uri": "https://localhost:8080/"
    },
    "id": "Cks37AL3BxEx",
    "outputId": "b6c8e7c4-b825-4670-d8c4-a30b132463e3"
   },
   "outputs": [
    {
     "name": "stdout",
     "output_type": "stream",
     "text": [
      "(4,) (4, 4) (4,)\n",
      "Gurobi Optimizer version 9.5.0 build v9.5.0rc5 (linux64)\n",
      "Thread count: 1 physical cores, 2 logical processors, using up to 2 threads\n",
      "Optimize a model with 4 rows, 4 columns and 8 nonzeros\n",
      "Model fingerprint: 0x1da74e02\n",
      "Coefficient statistics:\n",
      "  Matrix range     [1e+00, 1e+00]\n",
      "  Objective range  [3e+01, 7e+01]\n",
      "  Bounds range     [0e+00, 0e+00]\n",
      "  RHS range        [2e+02, 4e+02]\n",
      "Presolve removed 4 rows and 4 columns\n",
      "Presolve time: 0.01s\n",
      "Presolve: All rows and columns removed\n",
      "Iteration    Objective       Primal Inf.    Dual Inf.      Time\n",
      "       0    2.4000000e+04   0.000000e+00   0.000000e+00      0s\n",
      "\n",
      "Solved in 0 iterations and 0.02 seconds (0.00 work units)\n",
      "Optimal objective  2.400000000e+04\n",
      "x0 = 250.0 (40.0, -inf, 105.0, 0.0)\n",
      "x1 = 0.0 (65.0, 0.0, inf, 65.0)\n",
      "x2 = 50.0 (70.0, 5.0, inf, 0.0)\n",
      "x3 = 350.0 (30.0, -inf, 95.0, 0.0)\n",
      "constraints[0] : slack = 0.0 , shadow price= -0.0 , (250.0, 250.0, 250.0)\n",
      "constraints[1] : slack = 0.0 , shadow price= 30.0 , (400.0, 400.0, 400.0)\n",
      "constraints[2] : slack = 0.0 , shadow price= 40.0 , (300.0, 300.0, 300.0)\n",
      "constraints[3] : slack = 0.0 , shadow price= 0.0 , (350.0, 350.0, 350.0)\n",
      "objective value = 24000.0\n"
     ]
    }
   ],
   "source": [
    "c = [40,65,70,30]    \n",
    "A = [[1,1,0,0 ],\n",
    "     [0,0,1,1 ],\n",
    "     [1,0,1,0 ],\n",
    "     [0,1,0,1 ]]\n",
    "b =  [250, 400, 300, 350]\n",
    "print(np.array(c).shape,np.array(A).shape,np.array(b).shape)\n",
    "decision_variables = range(len(c))     \n",
    "constraints = range(np.array(A).shape[0])\n",
    "\n",
    "m = Model(\"C4Q33\")\n",
    "\n",
    "x = []\n",
    "for i in decision_variables:\n",
    "    x.append(m.addVar(lb = 0, vtype = GRB.CONTINUOUS, name = 'x' + str(i)))\n",
    "\n",
    "m.setObjective(quicksum(c[i] * x[i] for i in decision_variables) , GRB.MINIMIZE) \n",
    "m.addConstrs((quicksum(A[j][i] * x[i] for i in decision_variables) \n",
    "                           == b[j] for j in constraints), \"constraints\")\n",
    "m.optimize()\n",
    "\n",
    "for var in m.getVars(): # descision variable\n",
    "    print(var.varName, '=', var.x, (var.obj,var.SAObjLow, var.SAObjUp, var.RC))\n",
    "\n",
    "for con in m.getConstrs(): # constraints\n",
    "    print(con.ConstrName, ': slack =', con.slack,', shadow price=',\n",
    "          con.pi,',', (con.RHS, con.SARHSLow, con.SARHSUp))\n",
    "    \n",
    "print(\"objective value =\", m.objVal)"
   ]
  },
  {
   "cell_type": "markdown",
   "metadata": {
    "id": "1HvOfkSyjtGf"
   },
   "source": [
    "# Chapter 4: Integer Programming\n"
   ]
  },
  {
   "cell_type": "markdown",
   "metadata": {
    "id": "NVU5DQaALX9q"
   },
   "source": [
    "There are three types of model problems:\n",
    "* Total integer model: where all the decision variables required to have integer solution values.\n",
    "* Binary integer (0-1) model: where all decision variables required to have integer values of zero or one.\n",
    "\n",
    "* Mixed integer (MI) model: where some of the decision variables (but not all) required to have integer values."
   ]
  },
  {
   "cell_type": "markdown",
   "metadata": {
    "id": "E9O3czd1BxEy"
   },
   "source": [
    "## A 0 - 1 Integer Model:\n",
    "Solve the following LP problem:\n",
    "\n",
    "\\begin{align}\n",
    "&\\text{max}\\\\\n",
    "&\\qquad z=300x_1+90x_2+400x_3+150x_4\\\\\n",
    "&\\text{s.t.}\\\\\n",
    "&\\qquad 35000x_1+10000x_2+25000x_3+90000x_4\\le120000\\\\\n",
    "&\\qquad 4x_1+2x_2+7x_3+3x_4\\le 12\\\\\n",
    "&\\qquad x_1+x_2 \\le 1\\\\\n",
    "&\\qquad x_1,x_2,x_3,x_4 = 0~\\text{or}~1\\\\\n",
    "\\end{align} "
   ]
  },
  {
   "cell_type": "code",
   "execution_count": 247,
   "metadata": {
    "colab": {
     "base_uri": "https://localhost:8080/"
    },
    "id": "lVZ5CxLFBxEy",
    "outputId": "9702edc6-b87b-44c5-c54a-b21457a496ea"
   },
   "outputs": [
    {
     "name": "stdout",
     "output_type": "stream",
     "text": [
      "(4,) (3, 4) (3,)\n",
      "Gurobi Optimizer version 9.5.0 build v9.5.0rc5 (linux64)\n",
      "Thread count: 1 physical cores, 2 logical processors, using up to 2 threads\n",
      "Optimize a model with 3 rows, 4 columns and 10 nonzeros\n",
      "Model fingerprint: 0x593445fa\n",
      "Variable types: 0 continuous, 4 integer (4 binary)\n",
      "Coefficient statistics:\n",
      "  Matrix range     [1e+00, 9e+04]\n",
      "  Objective range  [9e+01, 4e+02]\n",
      "  Bounds range     [1e+00, 1e+00]\n",
      "  RHS range        [1e+00, 1e+05]\n",
      "Found heuristic solution: objective 700.0000000\n",
      "Presolve removed 3 rows and 4 columns\n",
      "Presolve time: 0.00s\n",
      "Presolve: All rows and columns removed\n",
      "\n",
      "Explored 0 nodes (0 simplex iterations) in 0.01 seconds (0.00 work units)\n",
      "Thread count was 1 (of 2 available processors)\n",
      "\n",
      "Solution count 1: 700 \n",
      "\n",
      "Optimal solution found (tolerance 1.00e-04)\n",
      "Best objective 7.000000000000e+02, best bound 7.000000000000e+02, gap 0.0000%\n",
      "x0 = 1.0 300.0\n",
      "x1 = 0.0 90.0\n",
      "x2 = 1.0 400.0\n",
      "x3 = 0.0 150.0\n",
      "objective value = 700.0\n"
     ]
    }
   ],
   "source": [
    "c = [300,90,400,150]    \n",
    "A = [[35000,10000,25000,90000 ],\n",
    "     [4,2,7,3 ],\n",
    "     [1,1,0,0 ]]\n",
    "b =  [120000,12,1]\n",
    "print(np.array(c).shape,np.array(A).shape,np.array(b).shape)\n",
    "decision_variables = range(len(c))     \n",
    "constraints = range(np.array(A).shape[0])\n",
    "\n",
    "m = Model(\"Example\")\n",
    "\n",
    "x = []\n",
    "for i in decision_variables:\n",
    "    x.append(m.addVar(lb = 0, vtype = GRB.BINARY, name = 'x' + str(i)))\n",
    "\n",
    "m.setObjective(quicksum(c[i] * x[i] for i in decision_variables) , GRB.MAXIMIZE) \n",
    "m.addConstrs((quicksum(A[j][i] * x[i] for i in decision_variables) \n",
    "                           <= b[j] for j in constraints), \"constraints\")\n",
    "m.optimize()\n",
    "\n",
    "for var in m.getVars(): # descision variable\n",
    "    print(var.varName, '=', var.x, var.obj)\n",
    "print(\"objective value =\", m.objVal)"
   ]
  },
  {
   "cell_type": "markdown",
   "metadata": {
    "id": "Uux9thpWBxEz"
   },
   "source": [
    "## A Total Integer Model:\n",
    "Solve the following LP problem:\n",
    "\n",
    "\\begin{align}\n",
    "&\\text{max}\\\\\n",
    "&\\qquad z=100x_1+150x_2\\\\\n",
    "&\\text{s.t.}\\\\\n",
    "&\\qquad 8000x_1+4000x_2\\le 40000\\\\\n",
    "&\\qquad 15x_1+30x_2\\le200\\\\\n",
    "&\\qquad x_1,x_2\\ge \\text{and integer}\\\\\n",
    "\\end{align} "
   ]
  },
  {
   "cell_type": "code",
   "execution_count": 248,
   "metadata": {
    "colab": {
     "base_uri": "https://localhost:8080/"
    },
    "id": "bP28tNiHBxEz",
    "outputId": "185b0e4e-8d41-4c9f-8a0f-c2f88546785e"
   },
   "outputs": [
    {
     "name": "stdout",
     "output_type": "stream",
     "text": [
      "(2,) (2, 2) (2,)\n",
      "Gurobi Optimizer version 9.5.0 build v9.5.0rc5 (linux64)\n",
      "Thread count: 1 physical cores, 2 logical processors, using up to 2 threads\n",
      "Optimize a model with 2 rows, 2 columns and 4 nonzeros\n",
      "Model fingerprint: 0x8c581e3f\n",
      "Variable types: 0 continuous, 2 integer (0 binary)\n",
      "Coefficient statistics:\n",
      "  Matrix range     [2e+01, 8e+03]\n",
      "  Objective range  [1e+02, 2e+02]\n",
      "  Bounds range     [0e+00, 0e+00]\n",
      "  RHS range        [2e+02, 4e+04]\n",
      "Found heuristic solution: objective 500.0000000\n",
      "Presolve time: 0.00s\n",
      "Presolved: 2 rows, 2 columns, 4 nonzeros\n",
      "Variable types: 0 continuous, 2 integer (0 binary)\n",
      "Found heuristic solution: objective 550.0000000\n",
      "\n",
      "Root relaxation: objective 1.033333e+03, 2 iterations, 0.00 seconds (0.00 work units)\n",
      "\n",
      "    Nodes    |    Current Node    |     Objective Bounds      |     Work\n",
      " Expl Unexpl |  Obj  Depth IntInf | Incumbent    BestBd   Gap | It/Node Time\n",
      "\n",
      "     0     0 1033.33333    0    2  550.00000 1033.33333  87.9%     -    0s\n",
      "H    0     0                    1000.0000000 1033.33333  3.33%     -    0s\n",
      "     0     0 1033.33333    0    2 1000.00000 1033.33333  3.33%     -    0s\n",
      "\n",
      "Explored 1 nodes (2 simplex iterations) in 0.04 seconds (0.00 work units)\n",
      "Thread count was 2 (of 2 available processors)\n",
      "\n",
      "Solution count 3: 1000 550 500 \n",
      "\n",
      "Optimal solution found (tolerance 1.00e-04)\n",
      "Best objective 1.000000000000e+03, best bound 1.000000000000e+03, gap 0.0000%\n",
      "x0 = 1.0 100.0\n",
      "x1 = 6.0 150.0\n",
      "objective value = 1000.0\n"
     ]
    }
   ],
   "source": [
    "c = [100,150]    \n",
    "A = [[8000,4000],\n",
    "     [15,30 ]]\n",
    "b =  [40000,200]\n",
    "print(np.array(c).shape,np.array(A).shape,np.array(b).shape)\n",
    "decision_variables = range(len(c))     \n",
    "constraints = range(np.array(A).shape[0])\n",
    "\n",
    "m = Model(\"Example\")\n",
    "\n",
    "x = []\n",
    "for i in decision_variables:\n",
    "    x.append(m.addVar(lb = 0, vtype = GRB.INTEGER, name = 'x' + str(i)))\n",
    "\n",
    "m.setObjective(quicksum(c[i] * x[i] for i in decision_variables) , GRB.MAXIMIZE) \n",
    "m.addConstrs((quicksum(A[j][i] * x[i] for i in decision_variables) \n",
    "                           <= b[j] for j in constraints), \"constraints\")\n",
    "m.optimize()\n",
    "\n",
    "for var in m.getVars(): # descision variable\n",
    "    print(var.varName, '=', var.x, var.obj)\n",
    "print(\"objective value =\", m.objVal)"
   ]
  },
  {
   "cell_type": "markdown",
   "metadata": {
    "id": "jtjYo8VUBxEz"
   },
   "source": [
    "## Mixed Integer Model \n",
    "Solve the following LP problem:\n",
    "\n",
    "\\begin{align}\n",
    "&\\text{max}\\\\\n",
    "&\\qquad z=9000x_1+1500x_2+1000x_3\\\\\n",
    "&\\text{s.t.}\\\\\n",
    "&\\qquad 50000x_1+12000x_2+8000x_3\\le25000\\\\\n",
    "&\\qquad x_1\\le 4\\\\\n",
    "&\\qquad x_2\\le 15\\\\\n",
    "&\\qquad x_3\\le 20\\\\\n",
    "&\\qquad x_2\\ge 0\\\\\n",
    "&\\qquad x_1,x_3\\ge \\text{and integer}\\\\\n",
    "\\end{align} "
   ]
  },
  {
   "cell_type": "code",
   "execution_count": 249,
   "metadata": {
    "colab": {
     "base_uri": "https://localhost:8080/"
    },
    "id": "rj-niiLaBxE0",
    "outputId": "2a211e2c-80d9-42a5-dd9e-0c0ac6a58cea"
   },
   "outputs": [
    {
     "name": "stdout",
     "output_type": "stream",
     "text": [
      "(3,) (5,) (5,)\n",
      "Gurobi Optimizer version 9.5.0 build v9.5.0rc5 (linux64)\n",
      "Thread count: 1 physical cores, 2 logical processors, using up to 2 threads\n",
      "Optimize a model with 5 rows, 3 columns and 7 nonzeros\n",
      "Model fingerprint: 0x3b8b5be3\n",
      "Variable types: 1 continuous, 2 integer (0 binary)\n",
      "Coefficient statistics:\n",
      "  Matrix range     [1e+00, 5e+04]\n",
      "  Objective range  [1e+03, 9e+03]\n",
      "  Bounds range     [0e+00, 0e+00]\n",
      "  RHS range        [4e+00, 2e+05]\n",
      "Found heuristic solution: objective 42250.000000\n",
      "Presolve removed 4 rows and 0 columns\n",
      "Presolve time: 0.00s\n",
      "Presolved: 1 rows, 3 columns, 3 nonzeros\n",
      "Variable types: 0 continuous, 3 integer (0 binary)\n",
      "\n",
      "Root relaxation: cutoff, 0 iterations, 0.00 seconds (0.00 work units)\n",
      "\n",
      "Explored 1 nodes (0 simplex iterations) in 0.03 seconds (0.00 work units)\n",
      "Thread count was 2 (of 2 available processors)\n",
      "\n",
      "Solution count 1: 42250 \n",
      "\n",
      "Optimal solution found (tolerance 1.00e-04)\n",
      "Best objective 4.225000000000e+04, best bound 4.225000000000e+04, gap 0.0000%\n",
      "x1 = 4.0 9000.0\n",
      "x1 = 4.166666666666667 1500.0\n",
      "x1 = -0.0 1000.0\n",
      "objective value = 42250.0\n"
     ]
    },
    {
     "name": "stderr",
     "output_type": "stream",
     "text": [
      "/usr/local/lib/python3.7/dist-packages/ipykernel_launcher.py:8: VisibleDeprecationWarning: Creating an ndarray from ragged nested sequences (which is a list-or-tuple of lists-or-tuples-or ndarrays with different lengths or shapes) is deprecated. If you meant to do this, you must specify 'dtype=object' when creating the ndarray\n",
      "  \n",
      "/usr/local/lib/python3.7/dist-packages/ipykernel_launcher.py:10: VisibleDeprecationWarning: Creating an ndarray from ragged nested sequences (which is a list-or-tuple of lists-or-tuples-or ndarrays with different lengths or shapes) is deprecated. If you meant to do this, you must specify 'dtype=object' when creating the ndarray\n",
      "  # Remove the CWD from sys.path while we load stuff.\n"
     ]
    }
   ],
   "source": [
    "c = [9000,1500,1000]    \n",
    "A = [[50000,12000,8000],\n",
    "     [1,0,0,0 ],\n",
    "     [0,1,0,0 ],\n",
    "     [0,0,1,0 ],\n",
    "     [0,-1,0,0 ]]\n",
    "b =  [250000,4,15,20,0]\n",
    "print(np.array(c).shape,np.array(A).shape,np.array(b).shape)\n",
    "decision_variables = range(len(c))     \n",
    "constraints = range(np.array(A).shape[0])\n",
    "\n",
    "m = Model(\"Example\")\n",
    "\n",
    "x = []\n",
    "x.append(m.addVar(lb = 0, vtype = GRB.INTEGER, name = 'x' + str(i)))\n",
    "x.append(m.addVar(lb = 0, vtype = GRB.CONTINUOUS, name = 'x' + str(i)))\n",
    "x.append(m.addVar(lb = 0, vtype = GRB.INTEGER, name = 'x' + str(i)))\n",
    "\n",
    "m.setObjective(quicksum(c[i] * x[i] for i in decision_variables) , GRB.MAXIMIZE) \n",
    "m.addConstrs((quicksum(A[j][i] * x[i] for i in decision_variables) \n",
    "                           <= b[j] for j in constraints), \"constraints\")\n",
    "m.optimize()\n",
    "\n",
    "for var in m.getVars(): # descision variable\n",
    "    print(var.varName, '=', var.x, var.obj)\n",
    "print(\"objective value =\", m.objVal)"
   ]
  },
  {
   "cell_type": "markdown",
   "metadata": {
    "id": "JunDyHuVBxE0"
   },
   "source": [
    "## Problem Example: C5Q5\n",
    "Solve the following LP problem:\n",
    "\n",
    "\\begin{align}\n",
    "&\\text{max}\\\\\n",
    "&\\qquad z=50x_1+40x_2\\\\\n",
    "&\\text{s.t.}\\\\\n",
    "&\\qquad 3x_1+5x_2\\le 150\\\\\n",
    "&\\qquad 10x_1+4x_2\\le 200\\\\\n",
    "&\\qquad x_1,x_2\\ge \\text{and integer}\\\\\n",
    "\\end{align} "
   ]
  },
  {
   "cell_type": "code",
   "execution_count": 250,
   "metadata": {
    "colab": {
     "base_uri": "https://localhost:8080/"
    },
    "id": "FiZtEPUtBxE0",
    "outputId": "a7ada25e-5304-4ace-ef6c-6c3066660143"
   },
   "outputs": [
    {
     "name": "stdout",
     "output_type": "stream",
     "text": [
      "(2,) (2, 2) (2,)\n",
      "Gurobi Optimizer version 9.5.0 build v9.5.0rc5 (linux64)\n",
      "Thread count: 1 physical cores, 2 logical processors, using up to 2 threads\n",
      "Optimize a model with 2 rows, 2 columns and 4 nonzeros\n",
      "Model fingerprint: 0xc186269e\n",
      "Coefficient statistics:\n",
      "  Matrix range     [3e+00, 1e+01]\n",
      "  Objective range  [4e+01, 5e+01]\n",
      "  Bounds range     [0e+00, 0e+00]\n",
      "  RHS range        [2e+02, 2e+02]\n",
      "Presolve time: 0.01s\n",
      "Presolved: 2 rows, 2 columns, 4 nonzeros\n",
      "\n",
      "Iteration    Objective       Primal Inf.    Dual Inf.      Time\n",
      "       0    9.0000000e+31   2.750000e+30   9.000000e+01      0s\n",
      "       2    1.4736842e+03   0.000000e+00   0.000000e+00      0s\n",
      "\n",
      "Solved in 2 iterations and 0.02 seconds (0.00 work units)\n",
      "Optimal objective  1.473684211e+03\n",
      "x0 = 10.526315789473683 (50.0, 24.000000000000004, 100.0, 0.0)\n",
      "x1 = 23.68421052631579 (40.0, 19.999999999999996, 83.33333333333334, 0.0)\n",
      "constraints[0] : slack = 0.0 , shadow price= 5.2631578947368425 , (150.0, 59.999999999999986, 250.0)\n",
      "constraints[1] : slack = 0.0 , shadow price= 3.4210526315789473 , (200.0, 120.00000000000001, 500.00000000000006)\n",
      "objective value = 1473.6842105263158\n"
     ]
    }
   ],
   "source": [
    "c = [50,40]    \n",
    "A = [[3,5 ],\n",
    "     [10,4 ]]\n",
    "b =  [150,200]\n",
    "print(np.array(c).shape,np.array(A).shape,np.array(b).shape)\n",
    "decision_variables = range(len(c))     \n",
    "constraints = range(np.array(A).shape[0])\n",
    "\n",
    "m = Model(\"C5Q5\")\n",
    "\n",
    "x = []\n",
    "for i in decision_variables:\n",
    "    x.append(m.addVar(lb = 0, vtype = GRB.CONTINUOUS, name = 'x' + str(i)))\n",
    "\n",
    "m.setObjective(quicksum(c[i] * x[i] for i in decision_variables) , GRB.MAXIMIZE) \n",
    "m.addConstrs((quicksum(A[j][i] * x[i] for i in decision_variables) \n",
    "                           <= b[j] for j in constraints), \"constraints\")\n",
    "m.optimize()\n",
    "\n",
    "for var in m.getVars(): # descision variable\n",
    "    print(var.varName, '=', var.x, (var.obj,var.SAObjLow, var.SAObjUp, var.RC))\n",
    "\n",
    "for con in m.getConstrs(): # constraints\n",
    "    print(con.ConstrName, ': slack =', con.slack,', shadow price=',\n",
    "          con.pi,',', (con.RHS, con.SARHSLow, con.SARHSUp))\n",
    "    \n",
    "print(\"objective value =\", m.objVal)"
   ]
  },
  {
   "cell_type": "code",
   "execution_count": 251,
   "metadata": {
    "colab": {
     "base_uri": "https://localhost:8080/"
    },
    "id": "WnfPXOvUBxE0",
    "outputId": "4731f597-b7c1-4d25-bed7-d91482612f93"
   },
   "outputs": [
    {
     "data": {
      "text/plain": [
       "1420.0"
      ]
     },
     "execution_count": 251,
     "metadata": {},
     "output_type": "execute_result"
    }
   ],
   "source": [
    "y=[]\n",
    "for var in m.getVars():\n",
    "    y.append(np.floor(var.x))\n",
    "\n",
    "np.array(y).dot(np.array((50,40)))"
   ]
  },
  {
   "cell_type": "code",
   "execution_count": 252,
   "metadata": {
    "colab": {
     "base_uri": "https://localhost:8080/"
    },
    "id": "ZCQEBVV2BxE1",
    "outputId": "803b9484-72e5-4962-c908-585fc8dacd85"
   },
   "outputs": [
    {
     "name": "stdout",
     "output_type": "stream",
     "text": [
      "(2,) (2, 2) (2,)\n",
      "Gurobi Optimizer version 9.5.0 build v9.5.0rc5 (linux64)\n",
      "Thread count: 1 physical cores, 2 logical processors, using up to 2 threads\n",
      "Optimize a model with 2 rows, 2 columns and 4 nonzeros\n",
      "Model fingerprint: 0xc188e0de\n",
      "Variable types: 0 continuous, 2 integer (0 binary)\n",
      "Coefficient statistics:\n",
      "  Matrix range     [3e+00, 1e+01]\n",
      "  Objective range  [4e+01, 5e+01]\n",
      "  Bounds range     [0e+00, 0e+00]\n",
      "  RHS range        [2e+02, 2e+02]\n",
      "Found heuristic solution: objective 1000.0000000\n",
      "Presolve time: 0.00s\n",
      "Presolved: 2 rows, 2 columns, 4 nonzeros\n",
      "Variable types: 0 continuous, 2 integer (0 binary)\n",
      "\n",
      "Root relaxation: objective 1.473684e+03, 2 iterations, 0.00 seconds (0.00 work units)\n",
      "\n",
      "    Nodes    |    Current Node    |     Objective Bounds      |     Work\n",
      " Expl Unexpl |  Obj  Depth IntInf | Incumbent    BestBd   Gap | It/Node Time\n",
      "\n",
      "     0     0 1473.68421    0    2 1000.00000 1473.68421  47.4%     -    0s\n",
      "H    0     0                    1460.0000000 1473.68421  0.94%     -    0s\n",
      "     0     0 1473.68421    0    2 1460.00000 1473.68421  0.94%     -    0s\n",
      "\n",
      "Explored 1 nodes (2 simplex iterations) in 0.04 seconds (0.00 work units)\n",
      "Thread count was 2 (of 2 available processors)\n",
      "\n",
      "Solution count 2: 1460 1000 \n",
      "\n",
      "Optimal solution found (tolerance 1.00e-04)\n",
      "Best objective 1.460000000000e+03, best bound 1.460000000000e+03, gap 0.0000%\n",
      "x0 = 10.0 50.0\n",
      "x1 = 24.0 40.0\n",
      "objective value = 1460.0\n"
     ]
    }
   ],
   "source": [
    "c = [50,40]    \n",
    "A = [[3,5 ],\n",
    "     [10,4 ]]\n",
    "b =  [150,200]\n",
    "print(np.array(c).shape,np.array(A).shape,np.array(b).shape)\n",
    "decision_variables = range(len(c))     \n",
    "constraints = range(np.array(A).shape[0])\n",
    "\n",
    "m = Model(\"C5Q5\")\n",
    "\n",
    "x = []\n",
    "for i in decision_variables:\n",
    "    x.append(m.addVar(lb = 0, vtype = GRB.INTEGER, name = 'x' + str(i)))\n",
    "\n",
    "m.setObjective(quicksum(c[i] * x[i] for i in decision_variables) , GRB.MAXIMIZE) \n",
    "m.addConstrs((quicksum(A[j][i] * x[i] for i in decision_variables) \n",
    "                           <= b[j] for j in constraints), \"constraints\")\n",
    "m.optimize()\n",
    "\n",
    "for var in m.getVars(): # descision variable\n",
    "    print(var.varName, '=', var.x, var.obj)\n",
    "\n",
    "#for con in m.getConstrs(): # constraints\n",
    "#    print(con.ConstrName, ': slack =', con.slack,', shadow price=',\n",
    "#          con.pi,',', (con.RHS, con.SARHSLow, con.SARHSUp))\n",
    "    \n",
    "print(\"objective value =\", m.objVal)"
   ]
  },
  {
   "cell_type": "markdown",
   "metadata": {
    "id": "WRvXB25dBxE1"
   },
   "source": [
    "## Problem Example: C5Q13\n",
    "Solve the following LP problem:\n",
    "\\begin{align}\n",
    "&\\text{max}\\\\\n",
    "&\\qquad z=85000 x_1 + 60000 x_2 – 18000 y_1\\\\\n",
    "&\\text{s.t.}\\\\\n",
    "&\\qquad x_1+x_2\\le 10\\\\\n",
    "&\\qquad 10000x_1+7000x_2\\le 72000\\\\\n",
    "&\\qquad x_1-10y_1\\le 0\\\\\n",
    "&\\qquad x_1,x_2\\ge \\text{and integer}\\\\\n",
    "&\\qquad y_1= 0~\\text{or}~1\\\\\n",
    "\\end{align} "
   ]
  },
  {
   "cell_type": "code",
   "execution_count": 253,
   "metadata": {
    "colab": {
     "base_uri": "https://localhost:8080/"
    },
    "id": "ppihjcxfBxE1",
    "outputId": "929cca01-33e4-4b67-c0d0-f3d8a297426f"
   },
   "outputs": [
    {
     "name": "stdout",
     "output_type": "stream",
     "text": [
      "(3,) (4, 3) (4,)\n",
      "Gurobi Optimizer version 9.5.0 build v9.5.0rc5 (linux64)\n",
      "Thread count: 1 physical cores, 2 logical processors, using up to 2 threads\n",
      "Optimize a model with 4 rows, 3 columns and 8 nonzeros\n",
      "Model fingerprint: 0x11909cb7\n",
      "Variable types: 0 continuous, 3 integer (1 binary)\n",
      "Coefficient statistics:\n",
      "  Matrix range     [1e+00, 1e+04]\n",
      "  Objective range  [2e+04, 8e+04]\n",
      "  Bounds range     [1e+00, 1e+00]\n",
      "  RHS range        [9e+00, 7e+04]\n",
      "Found heuristic solution: objective 600000.00000\n",
      "Presolve time: 0.00s\n",
      "Presolved: 4 rows, 3 columns, 8 nonzeros\n",
      "Variable types: 0 continuous, 3 integer (1 binary)\n",
      "\n",
      "Root relaxation: cutoff, 1 iterations, 0.00 seconds (0.00 work units)\n",
      "\n",
      "    Nodes    |    Current Node    |     Objective Bounds      |     Work\n",
      " Expl Unexpl |  Obj  Depth IntInf | Incumbent    BestBd   Gap | It/Node Time\n",
      "\n",
      "     0     0     cutoff    0      600000.000 600000.000  0.00%     -    0s\n",
      "\n",
      "Explored 1 nodes (1 simplex iterations) in 0.02 seconds (0.00 work units)\n",
      "Thread count was 2 (of 2 available processors)\n",
      "\n",
      "Solution count 1: 600000 \n",
      "\n",
      "Optimal solution found (tolerance 1.00e-04)\n",
      "Best objective 6.000000000000e+05, best bound 6.000000000000e+05, gap 0.0000%\n",
      "x1 = -0.0 85000.0\n",
      "x2 = 10.0 60000.0\n",
      "x3 = -0.0 -18000.0\n",
      "objective value = 600000.0\n"
     ]
    }
   ],
   "source": [
    "c = [85000,60000,-18000]    \n",
    "A = [[1,1,0 ],\n",
    "     [10000,7000,0 ],\n",
    "     [1,0,-10],\n",
    "     [-1,0,10]]\n",
    "b =  [10,72000,0,9]\n",
    "print(np.array(c).shape,np.array(A).shape,np.array(b).shape)\n",
    "decision_variables = range(len(c))     \n",
    "constraints = range(np.array(A).shape[0])\n",
    "\n",
    "m = Model(\"C5Q13\")\n",
    "\n",
    "x = []\n",
    "x.append(m.addVar(lb = 0, vtype = GRB.INTEGER, name = 'x1'))\n",
    "x.append(m.addVar(lb = 0, vtype = GRB.INTEGER, name = 'x2'))\n",
    "x.append(m.addVar(lb = 0, vtype = GRB.BINARY, name = 'x3'))\n",
    "\n",
    "m.setObjective(quicksum(c[i] * x[i] for i in decision_variables) , GRB.MAXIMIZE) \n",
    "m.addConstrs((quicksum(A[j][i] * x[i] for i in decision_variables) \n",
    "                           <= b[j] for j in constraints), \"constraints\")\n",
    "m.optimize()\n",
    "\n",
    "for var in m.getVars(): # descision variable\n",
    "    print(var.varName, '=', var.x, var.obj)\n",
    "\n",
    "#for con in m.getConstrs(): # constraints\n",
    "#    print(con.ConstrName, ': slack =', con.slack,', shadow price=',\n",
    "#          con.pi,',', (con.RHS, con.SARHSLow, con.SARHSUp))\n",
    "    \n",
    "print(\"objective value =\", m.objVal)"
   ]
  },
  {
   "cell_type": "markdown",
   "metadata": {
    "id": "cGEsNF5MBxE2"
   },
   "source": [
    "## Problem Example: C5Q14\n",
    "Solve the following LP problem:\n",
    "\\begin{align}\n",
    "&\\text{max}\\\\\n",
    "&\\qquad z=.36x_1 + .82x_2 + .29x_3 + .16x_4\n",
    "+ .56x_5 + .61x_6 + .48x_7 + .41x_8\\\\\n",
    "&\\text{s.t.}\\\\\n",
    "&\\qquad 60x_1 + 110x_2 + 53x_3 + 47x_4 +\n",
    "92x_5 +85x_6 +73x_7 +65x_8\\le 300\\\\\n",
    "&\\qquad 7x_1 + 9x_2 + 8x_3 + 4x_4 + 7x_5 +\n",
    "6x_6 +8x_7 +5x_8\\le 40\\\\\n",
    "&\\qquad x_2-x_5\\le 0\\\\\n",
    "&\\qquad x_i= 0~\\text{or}~1\\\\\n",
    "\\end{align} "
   ]
  },
  {
   "cell_type": "code",
   "execution_count": 254,
   "metadata": {
    "colab": {
     "base_uri": "https://localhost:8080/"
    },
    "id": "sDXqvvBcBxE2",
    "outputId": "1b685cb1-a21b-47b5-87ae-c5b94efaefc9"
   },
   "outputs": [
    {
     "name": "stdout",
     "output_type": "stream",
     "text": [
      "(8,) (3, 8) (3,)\n",
      "Gurobi Optimizer version 9.5.0 build v9.5.0rc5 (linux64)\n",
      "Thread count: 1 physical cores, 2 logical processors, using up to 2 threads\n",
      "Optimize a model with 3 rows, 8 columns and 18 nonzeros\n",
      "Model fingerprint: 0xd75ca42c\n",
      "Variable types: 0 continuous, 8 integer (8 binary)\n",
      "Coefficient statistics:\n",
      "  Matrix range     [1e+00, 1e+02]\n",
      "  Objective range  [2e-01, 8e-01]\n",
      "  Bounds range     [1e+00, 1e+00]\n",
      "  RHS range        [4e+01, 3e+02]\n",
      "Found heuristic solution: objective 1.3700000\n",
      "Presolve removed 1 rows and 0 columns\n",
      "Presolve time: 0.00s\n",
      "Presolved: 2 rows, 8 columns, 10 nonzeros\n",
      "Variable types: 0 continuous, 8 integer (8 binary)\n",
      "Found heuristic solution: objective 1.6600000\n",
      "\n",
      "Root relaxation: objective 2.042603e+00, 3 iterations, 0.00 seconds (0.00 work units)\n",
      "\n",
      "    Nodes    |    Current Node    |     Objective Bounds      |     Work\n",
      " Expl Unexpl |  Obj  Depth IntInf | Incumbent    BestBd   Gap | It/Node Time\n",
      "\n",
      "     0     0    2.04260    0    1    1.66000    2.04260  23.0%     -    0s\n",
      "H    0     0                       1.9900000    2.04260  2.64%     -    0s\n",
      "     0     0 infeasible    0         1.99000    1.99000  0.00%     -    0s\n",
      "\n",
      "Cutting planes:\n",
      "  GUB cover: 1\n",
      "\n",
      "Explored 1 nodes (4 simplex iterations) in 0.03 seconds (0.00 work units)\n",
      "Thread count was 2 (of 2 available processors)\n",
      "\n",
      "Solution count 3: 1.99 1.66 1.37 \n",
      "\n",
      "Optimal solution found (tolerance 1.00e-04)\n",
      "Best objective 1.990000000000e+00, best bound 1.990000000000e+00, gap 0.0000%\n",
      "x0 = -0.0 0.36\n",
      "x1 = 1.0 0.82\n",
      "x2 = -0.0 0.29\n",
      "x3 = -0.0 0.16\n",
      "x4 = 1.0 0.56\n",
      "x5 = 1.0 0.61\n",
      "x6 = 0.0 0.48\n",
      "x7 = -0.0 0.41\n",
      "objective value = 1990000.0\n"
     ]
    }
   ],
   "source": [
    "c = [.36,.82,.29,.16,.56,.61,.48,.41]    \n",
    "A = [[60,110,53,47,92,85,73,65 ],\n",
    "     [7,9,8,4,7,6,8,5 ],\n",
    "     [0,1,0,0,-1,0,0,0]]\n",
    "b =  [300,40,0]\n",
    "print(np.array(c).shape,np.array(A).shape,np.array(b).shape)\n",
    "decision_variables = range(len(c))     \n",
    "constraints = range(np.array(A).shape[0])\n",
    "\n",
    "m = Model(\"C5Q14\")\n",
    "\n",
    "x = []\n",
    "for i in decision_variables:\n",
    "    x.append(m.addVar(lb = 0, vtype = GRB.BINARY, name = 'x' + str(i)))\n",
    "\n",
    "m.setObjective(quicksum(c[i] * x[i] for i in decision_variables) , GRB.MAXIMIZE) \n",
    "m.addConstrs((quicksum(A[j][i] * x[i] for i in decision_variables) \n",
    "                           <= b[j] for j in constraints), \"constraints\")\n",
    "m.optimize()\n",
    "\n",
    "for var in m.getVars(): # descision variable\n",
    "    print(var.varName, '=', var.x, var.obj)\n",
    "\n",
    "#for con in m.getConstrs(): # constraints\n",
    "#    print(con.ConstrName, ': slack =', con.slack,', shadow price=',\n",
    "#          con.pi,',', (con.RHS, con.SARHSLow, con.SARHSUp))\n",
    "    \n",
    "print(\"objective value =\", m.objVal*1e6)"
   ]
  },
  {
   "cell_type": "markdown",
   "metadata": {
    "id": "PY1FwqB7BxE2"
   },
   "source": [
    "## Problem Example: C5Q15\n",
    "Solve the following LP problem:\n",
    "\\begin{align}\n",
    "&\\text{max}\\\\\n",
    "&\\qquad z=x_1 +x_2 +x_3 +x_4 +x_5 +x_6\\\\\n",
    "&\\text{s.t.}\\\\\n",
    "&\\qquad x_6+x_1 \\ge 90\\\\\n",
    "&\\qquad x_1+x_2 \\ge 215\\\\\n",
    "&\\qquad x_2+x_3 \\ge 250\\\\\n",
    "&\\qquad x_3+x_4 \\ge 65\\\\\n",
    "&\\qquad x_4+x_5 \\ge 300\\\\\n",
    "&\\qquad x_5+x_6 \\ge 125\\\\\n",
    "&\\qquad x_i \\ge 0~ \\text{and integer}\\\\\n",
    "\\end{align} "
   ]
  },
  {
   "cell_type": "code",
   "execution_count": 255,
   "metadata": {
    "colab": {
     "base_uri": "https://localhost:8080/"
    },
    "id": "vzcQ8GQmBxE2",
    "outputId": "a11d4704-6cb0-4b59-d47e-5289550af5eb"
   },
   "outputs": [
    {
     "name": "stdout",
     "output_type": "stream",
     "text": [
      "(6,) (6, 6) (6,)\n",
      "Gurobi Optimizer version 9.5.0 build v9.5.0rc5 (linux64)\n",
      "Thread count: 1 physical cores, 2 logical processors, using up to 2 threads\n",
      "Optimize a model with 6 rows, 6 columns and 12 nonzeros\n",
      "Model fingerprint: 0xeba1cb46\n",
      "Variable types: 0 continuous, 6 integer (0 binary)\n",
      "Coefficient statistics:\n",
      "  Matrix range     [1e+00, 1e+00]\n",
      "  Objective range  [1e+00, 1e+00]\n",
      "  Bounds range     [0e+00, 0e+00]\n",
      "  RHS range        [6e+01, 3e+02]\n",
      "Found heuristic solution: objective 640.0000000\n",
      "Presolve time: 0.00s\n",
      "Presolved: 6 rows, 6 columns, 12 nonzeros\n",
      "Variable types: 0 continuous, 6 integer (0 binary)\n",
      "\n",
      "Root relaxation: cutoff, 3 iterations, 0.00 seconds (0.00 work units)\n",
      "\n",
      "    Nodes    |    Current Node    |     Objective Bounds      |     Work\n",
      " Expl Unexpl |  Obj  Depth IntInf | Incumbent    BestBd   Gap | It/Node Time\n",
      "\n",
      "     0     0     cutoff    0       640.00000  640.00000  0.00%     -    0s\n",
      "\n",
      "Explored 1 nodes (3 simplex iterations) in 0.03 seconds (0.00 work units)\n",
      "Thread count was 2 (of 2 available processors)\n",
      "\n",
      "Solution count 1: 640 \n",
      "\n",
      "Optimal solution found (tolerance 1.00e-04)\n",
      "Best objective 6.400000000000e+02, best bound 6.400000000000e+02, gap 0.0000%\n",
      "x0 = 0.0 1.0\n",
      "x1 = 215.0 1.0\n",
      "x2 = 35.0 1.0\n",
      "x3 = 30.0 1.0\n",
      "x4 = 270.0 1.0\n",
      "x5 = 90.0 1.0\n",
      "objective value = 640.0\n"
     ]
    }
   ],
   "source": [
    "c = [1,1,1,1,1,1]    \n",
    "A = [[1,0,0,0,0,1],\n",
    "     [1,1,0,0,0,0],\n",
    "     [0,1,1,0,0,0],\n",
    "     [0,0,1,1,0,0],\n",
    "     [0,0,0,1,1,0],\n",
    "     [0,0,0,0,1,1]]\n",
    "b =  [90,215,250,65,300,125]\n",
    "print(np.array(c).shape,np.array(A).shape,np.array(b).shape)\n",
    "decision_variables = range(len(c))     \n",
    "constraints = range(np.array(A).shape[0])\n",
    "\n",
    "m = Model(\"C5Q15\")\n",
    "\n",
    "x = []\n",
    "for i in decision_variables:\n",
    "    x.append(m.addVar(lb = 0, vtype = GRB.INTEGER, name = 'x' + str(i)))\n",
    "\n",
    "m.setObjective(quicksum(c[i] * x[i] for i in decision_variables) , GRB.MINIMIZE) \n",
    "m.addConstrs((quicksum(A[j][i] * x[i] for i in decision_variables) \n",
    "                           >= b[j] for j in constraints), \"constraints\")\n",
    "m.optimize()\n",
    "\n",
    "for var in m.getVars(): # descision variable\n",
    "    print(var.varName, '=', var.x, var.obj)\n",
    "\n",
    "#for con in m.getConstrs(): # constraints\n",
    "#    print(con.ConstrName, ': slack =', con.slack,', shadow price=',\n",
    "#          con.pi,',', (con.RHS, con.SARHSLow, con.SARHSUp))\n",
    "    \n",
    "print(\"objective value =\", m.objVal)"
   ]
  },
  {
   "cell_type": "markdown",
   "metadata": {
    "id": "G-VsXi7RBxE2"
   },
   "source": [
    "## Problem Example: C5Q17\n",
    "Solve the following LP problem:\n",
    "\\begin{align}\n",
    "&\\text{min}\\\\\n",
    "&\\qquad z=25000x_1 + 7000x_2 + 9000x_3\\\\\n",
    "&\\text{s.t.}\\\\\n",
    "&\\qquad 53000x_1+30000x_2+41000x_3 \\ge 200,000\\\\\n",
    "&\\qquad (32000x_1 + 20000x_2 +18000x_3)/(21000x_1 +10000x_2 +23000x_3) \\ge 1.5\\\\\n",
    "&\\qquad (34000x_1 +12000x_2 + 24000x_3)/(53000x_1 +30000x_2 +41000x_3) \\ge .60\\\\\n",
    "&\\qquad x_i \\ge 0~ \\text{and integer}\\\\\n",
    "\\end{align} \n"
   ]
  },
  {
   "cell_type": "code",
   "execution_count": 256,
   "metadata": {
    "colab": {
     "base_uri": "https://localhost:8080/"
    },
    "id": "ZyDm9Y8vBxE2",
    "outputId": "efbed65f-45b1-4995-e1df-46f586a47b7a"
   },
   "outputs": [
    {
     "name": "stdout",
     "output_type": "stream",
     "text": [
      "(3,) (3, 3) (3,)\n",
      "Gurobi Optimizer version 9.5.0 build v9.5.0rc5 (linux64)\n",
      "Thread count: 1 physical cores, 2 logical processors, using up to 2 threads\n",
      "Optimize a model with 3 rows, 3 columns and 9 nonzeros\n",
      "Model fingerprint: 0xcf860642\n",
      "Variable types: 0 continuous, 3 integer (0 binary)\n",
      "Coefficient statistics:\n",
      "  Matrix range     [5e+02, 5e+04]\n",
      "  Objective range  [7e+03, 2e+04]\n",
      "  Bounds range     [0e+00, 0e+00]\n",
      "  RHS range        [2e+05, 2e+05]\n",
      "Found heuristic solution: objective 100000.00000\n",
      "Presolve time: 0.00s\n",
      "Presolved: 3 rows, 3 columns, 9 nonzeros\n",
      "Variable types: 0 continuous, 3 integer (0 binary)\n",
      "\n",
      "Explored 0 nodes (0 simplex iterations) in 0.02 seconds (0.00 work units)\n",
      "Thread count was 2 (of 2 available processors)\n",
      "\n",
      "Solution count 1: 100000 \n",
      "\n",
      "Optimal solution found (tolerance 1.00e-04)\n",
      "Best objective 1.000000000000e+05, best bound 1.000000000000e+05, gap 0.0000%\n",
      "x0 = 4.0 25000.0\n",
      "x1 = 0.0 7000.0\n",
      "x2 = 0.0 9000.0\n",
      "objective value = 100000000000.0\n"
     ]
    }
   ],
   "source": [
    "c = [25000,7000,9000]    \n",
    "A = [[53000,30000,41000],\n",
    "     [32000-1.5*21000,20000-1.5*10000,18000-1.5*23000 ],\n",
    "     [34000-.6*53000,12000-.6*30000,24000-.6*41000]]\n",
    "b =  [200000,0,0]\n",
    "print(np.array(c).shape,np.array(A).shape,np.array(b).shape)\n",
    "decision_variables = range(len(c))     \n",
    "constraints = range(np.array(A).shape[0])\n",
    "\n",
    "m = Model(\"C5Q17\")\n",
    "\n",
    "x = []\n",
    "for i in decision_variables:\n",
    "    x.append(m.addVar(lb = 0, vtype = GRB.INTEGER, name = 'x' + str(i)))\n",
    "\n",
    "m.setObjective(quicksum(c[i] * x[i] for i in decision_variables) , GRB.MINIMIZE) \n",
    "m.addConstrs((quicksum(A[j][i] * x[i] for i in decision_variables) \n",
    "                           >= b[j] for j in constraints), \"constraints\")\n",
    "m.optimize()\n",
    "\n",
    "for var in m.getVars(): # descision variable\n",
    "    print(var.varName, '=', var.x, var.obj)\n",
    "\n",
    "#for con in m.getConstrs(): # constraints\n",
    "#    print(con.ConstrName, ': slack =', con.slack,', shadow price=',\n",
    "#          con.pi,',', (con.RHS, con.SARHSLow, con.SARHSUp))\n",
    "    \n",
    "print(\"objective value =\", m.objVal*1e6)"
   ]
  },
  {
   "cell_type": "code",
   "execution_count": 257,
   "metadata": {
    "colab": {
     "base_uri": "https://localhost:8080/"
    },
    "id": "OiLVs6GGBxE3",
    "outputId": "6e948a0f-0817-4634-b1a4-940fec0a32a8"
   },
   "outputs": [
    {
     "name": "stdout",
     "output_type": "stream",
     "text": [
      "(3,) (3, 3) (3,)\n",
      "Gurobi Optimizer version 9.5.0 build v9.5.0rc5 (linux64)\n",
      "Thread count: 1 physical cores, 2 logical processors, using up to 2 threads\n",
      "Optimize a model with 3 rows, 3 columns and 9 nonzeros\n",
      "Model fingerprint: 0x921de87a\n",
      "Coefficient statistics:\n",
      "  Matrix range     [5e+02, 5e+04]\n",
      "  Objective range  [7e+03, 2e+04]\n",
      "  Bounds range     [0e+00, 0e+00]\n",
      "  RHS range        [2e+05, 2e+05]\n",
      "Presolve time: 0.01s\n",
      "Presolved: 3 rows, 3 columns, 9 nonzeros\n",
      "\n",
      "Iteration    Objective       Primal Inf.    Dual Inf.      Time\n",
      "       0    0.0000000e+00   7.812500e+02   0.000000e+00      0s\n",
      "       3    8.2946176e+04   0.000000e+00   0.000000e+00      0s\n",
      "\n",
      "Solved in 3 iterations and 0.02 seconds (0.00 work units)\n",
      "Optimal objective  8.294617564e+04\n",
      "x0 = 2.8895184135977336 25000.0\n",
      "x1 = 1.0198300283286117 7000.0\n",
      "x2 = 0.39660056657223786 9000.0\n",
      "objective value = 82946175637.39377\n"
     ]
    }
   ],
   "source": [
    "c = [25000,7000,9000]    \n",
    "A = [[53000,30000,41000],\n",
    "     [32000-1.5*21000,20000-1.5*10000,18000-1.5*23000 ],\n",
    "     [34000-.6*53000,12000-.6*30000,24000-.6*41000]]\n",
    "b =  [200000,0,0]\n",
    "print(np.array(c).shape,np.array(A).shape,np.array(b).shape)\n",
    "decision_variables = range(len(c))     \n",
    "constraints = range(np.array(A).shape[0])\n",
    "\n",
    "m = Model(\"C5Q17\")\n",
    "\n",
    "x = []\n",
    "for i in decision_variables:\n",
    "    x.append(m.addVar(lb = 0, vtype = GRB.CONTINUOUS, name = 'x' + str(i)))\n",
    "\n",
    "m.setObjective(quicksum(c[i] * x[i] for i in decision_variables) , GRB.MINIMIZE) \n",
    "m.addConstrs((quicksum(A[j][i] * x[i] for i in decision_variables) \n",
    "                           >= b[j] for j in constraints), \"constraints\")\n",
    "m.optimize()\n",
    "\n",
    "for var in m.getVars(): # descision variable\n",
    "    print(var.varName, '=', var.x, var.obj)\n",
    "\n",
    "#for con in m.getConstrs(): # constraints\n",
    "#    print(con.ConstrName, ': slack =', con.slack,', shadow price=',\n",
    "#          con.pi,',', (con.RHS, con.SARHSLow, con.SARHSUp))\n",
    "    \n",
    "print(\"objective value =\", m.objVal*1e6)"
   ]
  },
  {
   "cell_type": "markdown",
   "metadata": {
    "id": "r6-u97L_BxE3"
   },
   "source": [
    "# Chapter 5: Transportation, Transshipment, and Assignment Problems\n"
   ]
  },
  {
   "cell_type": "markdown",
   "metadata": {
    "id": "K2IecAD4CKTC"
   },
   "source": [
    "Characteristics of the Transportation Model: \n",
    "* A product is transported from several sources to a number of destinations at the **minimum** possible cost.\n",
    "* Each source can **supply** a fixed number of units of the product, and each destination has a fixed **demand** for the product.\n",
    "* The linear programming model has constraints for supply at each source and demand at each destination.\n",
    "* All constraints are equalities in a balanced transportation model where **supply equals demand**.\n",
    "* Constraints contain inequalities in **unbalanced** models where **supply does not equal demand**.\n"
   ]
  },
  {
   "cell_type": "markdown",
   "metadata": {
    "id": "HoDqFJMSDElQ"
   },
   "source": [
    "## Transportation Model Example\n",
    "How many tons of wheat to transport from each factory to each city on a monthly basis in order to **minimize** the total cost of transportation?\n",
    "\n",
    "Factory | Supply | City  | Demand\n",
    "-|-|-|-\n",
    "1. Kansas City | 150 | A. Chicago | 220\n",
    "2. Omaha | 175 | B. St. Louis | 100\n",
    "3. Des Moines | 275 | C. Cincinnati | 300\n",
    " Total | 600 | Total |600\n",
    "\n",
    "Transport Cost from factory to city ($/ton):\n",
    "\n",
    "Factory | A. Chicago | B. St. Louis  | C. Cincinnati\n",
    "-|-|-|-\n",
    "1. Kansas City | 6 | 8 | 10\n",
    "2. Omaha | 7 | 11 | 11\n",
    "3. Des Moines | 4 | 5 | 12\n",
    "\n",
    "The LP transportation model is the following:\n",
    "\\begin{align}\n",
    "&\\text{min}\\\\\n",
    "&\\qquad z=6x_{1A}+8x_{1B}+10x_{1C}\n",
    "+7x_{2A}+11x_{2B}+11x_{2C}\n",
    "+4x_{3A}+5x_{3B}+12x_{3C}\\\\\n",
    "&\\text{s.t.}\\\\\n",
    "&\\qquad x_{1A}+x_{1B}+x_{1C} = 150\\\\\n",
    "&\\qquad x_{2A}+x_{2B}+x_{2C} = 175\\\\\n",
    "&\\qquad x_{3A}+x_{3B}+x_{3C} = 275\\\\\n",
    "&\\qquad x_{1A}+x_{2A}+x_{3A} = 200\\\\\n",
    "&\\qquad x_{1B}+x_{2B}+x_{3B} = 100\\\\\n",
    "&\\qquad x_{1C}+x_{2C}+x_{3C} = 300\\\\\n",
    "&\\qquad x_{ij} \\ge 0~ \\text{and integer}\\\\\n",
    "\\end{align}  \n",
    "\n"
   ]
  },
  {
   "cell_type": "code",
   "execution_count": 258,
   "metadata": {
    "colab": {
     "base_uri": "https://localhost:8080/"
    },
    "id": "Zj3z2MM_BxE3",
    "outputId": "4fb2e05d-c8d7-4379-d7cd-06db2afe8f33"
   },
   "outputs": [
    {
     "name": "stdout",
     "output_type": "stream",
     "text": [
      "(9,) (6, 9) (6,)\n",
      "Gurobi Optimizer version 9.5.0 build v9.5.0rc5 (linux64)\n",
      "Thread count: 1 physical cores, 2 logical processors, using up to 2 threads\n",
      "Optimize a model with 6 rows, 9 columns and 18 nonzeros\n",
      "Model fingerprint: 0x9cd6d993\n",
      "Variable types: 0 continuous, 9 integer (0 binary)\n",
      "Coefficient statistics:\n",
      "  Matrix range     [1e+00, 1e+00]\n",
      "  Objective range  [4e+00, 1e+01]\n",
      "  Bounds range     [0e+00, 0e+00]\n",
      "  RHS range        [1e+02, 3e+02]\n",
      "Presolve time: 0.00s\n",
      "Presolved: 6 rows, 9 columns, 18 nonzeros\n",
      "Variable types: 0 continuous, 9 integer (0 binary)\n",
      "Found heuristic solution: objective 5725.0000000\n",
      "Found heuristic solution: objective 4600.0000000\n",
      "Found heuristic solution: objective 4525.0000000\n",
      "\n",
      "Root relaxation: cutoff, 3 iterations, 0.00 seconds (0.00 work units)\n",
      "\n",
      "    Nodes    |    Current Node    |     Objective Bounds      |     Work\n",
      " Expl Unexpl |  Obj  Depth IntInf | Incumbent    BestBd   Gap | It/Node Time\n",
      "\n",
      "     0     0     cutoff    0      4525.00000 4525.00000  0.00%     -    0s\n",
      "\n",
      "Explored 1 nodes (3 simplex iterations) in 0.04 seconds (0.00 work units)\n",
      "Thread count was 2 (of 2 available processors)\n",
      "\n",
      "Solution count 3: 4525 4600 5725 \n",
      "\n",
      "Optimal solution found (tolerance 1.00e-04)\n",
      "Best objective 4.525000000000e+03, best bound 4.525000000000e+03, gap 0.0000%\n",
      "x0 = -0.0 6.0\n",
      "x1 = -0.0 8.0\n",
      "x2 = 150.0 10.0\n",
      "x3 = 25.0 7.0\n",
      "x4 = -0.0 11.0\n",
      "x5 = 150.0 11.0\n",
      "x6 = 175.0 4.0\n",
      "x7 = 100.0 5.0\n",
      "x8 = -0.0 12.0\n",
      "objective value = 4525.0\n"
     ]
    }
   ],
   "source": [
    "# Transportation Model Example\n",
    "c = [6,8,10,7,11,11,4,5,12]    \n",
    "A = [[1,1,1,0,0,0,0,0,0],\n",
    "     [0,0,0,1,1,1,0,0,0],\n",
    "     [0,0,0,0,0,0,1,1,1],\n",
    "     [1,0,0,1,0,0,1,0,0],\n",
    "     [0,1,0,0,1,0,0,1,0],\n",
    "     [0,0,1,0,0,1,0,0,1]]\n",
    "b =  [150,175,275,200,100,300]\n",
    "print(np.array(c).shape,np.array(A).shape,np.array(b).shape)\n",
    "decision_variables = range(len(c))     \n",
    "constraints = range(np.array(A).shape[0])\n",
    "\n",
    "m = Model(\"example\")\n",
    "\n",
    "x = []\n",
    "for i in decision_variables:\n",
    "    x.append(m.addVar(lb = 0, vtype = GRB.INTEGER, name = 'x' + str(i)))\n",
    "\n",
    "m.setObjective(quicksum(c[i] * x[i] for i in decision_variables) , GRB.MINIMIZE) \n",
    "m.addConstrs((quicksum(A[j][i] * x[i] for i in decision_variables) \n",
    "                           == b[j] for j in constraints), \"constraints\")\n",
    "m.optimize()\n",
    "\n",
    "for var in m.getVars(): # descision variable\n",
    "    print(var.varName, '=', var.x, var.obj)\n",
    "\n",
    "#for con in m.getConstrs(): # constraints\n",
    "#    print(con.ConstrName, ': slack =', con.slack,', shadow price=',\n",
    "#          con.pi,',', (con.RHS, con.SARHSLow, con.SARHSUp))\n",
    "    \n",
    "print(\"objective value =\", m.objVal)"
   ]
  },
  {
   "cell_type": "markdown",
   "metadata": {
    "id": "9939Wv4jBxE3"
   },
   "source": [
    "## Problem Example: C6Q4\n",
    "Solve the following LP problem:\n",
    "\n",
    "\\begin{align}\n",
    "&\\text{min}\\\\\n",
    "&\\qquad z=14x_{A1} + 9x_{A2} + 16x_{A3} + 18x_{A4}\\\\\n",
    "&\\qquad ~~+ 11x_{B1} + 8x_{B2} + 100x_{B3} + 16x_{B4}\\\\\n",
    "&\\qquad ~~+ 16x_{C1} + 12x_{C2} + 10x_{C3} + 22x_{C4}\\\\\n",
    "&\\text{subject to}\\\\\n",
    "&\\qquad x_{A1} +x_{A2} +x_{A3} +x_{A4} \\le 150 \\\\\n",
    "&\\qquad x_{B1} +x_{B2} +x_{B3} +x_{B4} \\le 210\\\\ \n",
    "&\\qquad x_{C1} +x_{C2} +x_{C3} +x_{C4} \\le 320\\\\\n",
    "&\\qquad x_{A1} +x_{B1} +x_{C1} =130 \\\\\n",
    "&\\qquad x_{A2} +x_{B2} +x_{C2} =70 \\\\\n",
    "&\\qquad x_{A3} +x_{B3} +x_{C3} =180\\\\\n",
    "&\\qquad x_{A4} +x_{B4} +x_{C4} =240\\\\\n",
    "&\\qquad x_{ij} \\ge 0~ \\text{and integer}\\\\\n",
    "\\end{align}  \n"
   ]
  },
  {
   "cell_type": "code",
   "execution_count": 259,
   "metadata": {
    "colab": {
     "base_uri": "https://localhost:8080/"
    },
    "id": "ZWkWDS2ZBxE4",
    "outputId": "5e514a1e-b276-43d0-a659-c5b41c9e8807"
   },
   "outputs": [
    {
     "name": "stdout",
     "output_type": "stream",
     "text": [
      "(12,) (7, 12) (7,)\n",
      "Gurobi Optimizer version 9.5.0 build v9.5.0rc5 (linux64)\n",
      "Thread count: 1 physical cores, 2 logical processors, using up to 2 threads\n",
      "Optimize a model with 7 rows, 12 columns and 24 nonzeros\n",
      "Model fingerprint: 0xe2efa14f\n",
      "Variable types: 0 continuous, 12 integer (0 binary)\n",
      "Coefficient statistics:\n",
      "  Matrix range     [1e+00, 1e+00]\n",
      "  Objective range  [8e+00, 1e+03]\n",
      "  Bounds range     [0e+00, 0e+00]\n",
      "  RHS range        [7e+01, 3e+02]\n",
      "Found heuristic solution: objective 8450.0000000\n",
      "Presolve time: 0.00s\n",
      "Presolved: 7 rows, 12 columns, 24 nonzeros\n",
      "Variable types: 0 continuous, 12 integer (0 binary)\n",
      "Found heuristic solution: objective 8444.0000000\n",
      "\n",
      "Root relaxation: objective 8.260000e+03, 6 iterations, 0.00 seconds (0.00 work units)\n",
      "\n",
      "    Nodes    |    Current Node    |     Objective Bounds      |     Work\n",
      " Expl Unexpl |  Obj  Depth IntInf | Incumbent    BestBd   Gap | It/Node Time\n",
      "\n",
      "*    0     0               0    8260.0000000 8260.00000  0.00%     -    0s\n",
      "\n",
      "Explored 1 nodes (6 simplex iterations) in 0.03 seconds (0.00 work units)\n",
      "Thread count was 2 (of 2 available processors)\n",
      "\n",
      "Solution count 3: 8260 8444 8450 \n",
      "\n",
      "Optimal solution found (tolerance 1.00e-04)\n",
      "Best objective 8.260000000000e+03, best bound 8.260000000000e+03, gap 0.0000%\n",
      "x0 = -0.0 14.0\n",
      "x1 = 0.0 9.0\n",
      "x2 = -0.0 16.0\n",
      "x3 = 150.0 18.0\n",
      "x4 = 120.0 11.0\n",
      "x5 = -0.0 8.0\n",
      "x6 = -0.0 1000.0\n",
      "x7 = 90.0 16.0\n",
      "x8 = 10.0 16.0\n",
      "x9 = 70.0 12.0\n",
      "x10 = 180.0 10.0\n",
      "x11 = -0.0 22.0\n",
      "objective value = 8260.0\n"
     ]
    }
   ],
   "source": [
    "c = [14,9,16,18,11,8,1000,16,16,12,10,22]    \n",
    "A = [[1,1,1,1,0,0,0,0,0,0,0,0],\n",
    "     [0,0,0,0,1,1,1,1,0,0,0,0],\n",
    "     [0,0,0,0,0,0,0,0,1,1,1,1],\n",
    "     [1,0,0,0,1,0,0,0,1,0,0,0],\n",
    "     [0,1,0,0,0,1,0,0,0,1,0,0],\n",
    "     [0,0,1,0,0,0,1,0,0,0,1,0],\n",
    "     [0,0,0,1,0,0,0,1,0,0,0,1]]\n",
    "b =  [150,210,320,130,70,180,240]\n",
    "print(np.array(c).shape,np.array(A).shape,np.array(b).shape)\n",
    "decision_variables = range(len(c))     \n",
    "constraints = range(np.array(A).shape[0])\n",
    "\n",
    "m = Model(\"example\")\n",
    "\n",
    "x = []\n",
    "for i in decision_variables:\n",
    "    x.append(m.addVar(lb = 0, vtype = GRB.INTEGER, name = 'x' + str(i)))\n",
    "\n",
    "m.setObjective(quicksum(c[i] * x[i] for i in decision_variables) , GRB.MINIMIZE) \n",
    "\n",
    "m.addConstrs((quicksum(A[j][i] * x[i] for i in decision_variables) \n",
    "                           <= b[j] for j in constraints[:3]), \"constraints\")\n",
    "\n",
    "m.addConstrs((quicksum(A[j][i] * x[i] for i in decision_variables) \n",
    "                           == b[j] for j in constraints[3:]), \"constraints\")\n",
    "              \n",
    "m.optimize()\n",
    "\n",
    "for var in m.getVars(): # descision variable\n",
    "    print(var.varName, '=', var.x, var.obj)\n",
    "\n",
    "#for con in m.getConstrs(): # constraints\n",
    "#    print(con.ConstrName, ': slack =', con.slack,', shadow price=',\n",
    "#          con.pi,',', (con.RHS, con.SARHSLow, con.SARHSUp))\n",
    "    \n",
    "print(\"objective value =\", m.objVal)"
   ]
  },
  {
   "cell_type": "code",
   "execution_count": 260,
   "metadata": {
    "colab": {
     "base_uri": "https://localhost:8080/"
    },
    "id": "LmoE99NEBxE4",
    "outputId": "1be6091b-f85a-475e-9c98-49f379a6813c"
   },
   "outputs": [
    {
     "name": "stdout",
     "output_type": "stream",
     "text": [
      "(12,) (7, 12) (7,)\n",
      "Gurobi Optimizer version 9.5.0 build v9.5.0rc5 (linux64)\n",
      "Thread count: 1 physical cores, 2 logical processors, using up to 2 threads\n",
      "Optimize a model with 7 rows, 12 columns and 24 nonzeros\n",
      "Model fingerprint: 0x65203382\n",
      "Variable types: 0 continuous, 12 integer (0 binary)\n",
      "Coefficient statistics:\n",
      "  Matrix range     [1e+00, 1e+00]\n",
      "  Objective range  [8e+00, 1e+03]\n",
      "  Bounds range     [0e+00, 0e+00]\n",
      "  RHS range        [7e+01, 3e+02]\n",
      "Found heuristic solution: objective 28310.000000\n",
      "Presolve time: 0.00s\n",
      "Presolved: 7 rows, 12 columns, 24 nonzeros\n",
      "Variable types: 0 continuous, 12 integer (0 binary)\n",
      "Found heuristic solution: objective 27321.000000\n",
      "\n",
      "Root relaxation: objective 8.260000e+03, 6 iterations, 0.00 seconds (0.00 work units)\n",
      "\n",
      "    Nodes    |    Current Node    |     Objective Bounds      |     Work\n",
      " Expl Unexpl |  Obj  Depth IntInf | Incumbent    BestBd   Gap | It/Node Time\n",
      "\n",
      "*    0     0               0    8260.0000000 8260.00000  0.00%     -    0s\n",
      "\n",
      "Explored 1 nodes (6 simplex iterations) in 0.04 seconds (0.00 work units)\n",
      "Thread count was 2 (of 2 available processors)\n",
      "\n",
      "Solution count 3: 8260 27321 28310 \n",
      "\n",
      "Optimal solution found (tolerance 1.00e-04)\n",
      "Best objective 8.260000000000e+03, best bound 8.260000000000e+03, gap 0.0000%\n",
      "x0 = -0.0 14.0\n",
      "x1 = 0.0 9.0\n",
      "x2 = -0.0 16.0\n",
      "x3 = 150.0 18.0\n",
      "x4 = 120.0 11.0\n",
      "x5 = -0.0 8.0\n",
      "x6 = -0.0 1000.0\n",
      "x7 = 90.0 16.0\n",
      "x8 = 10.0 16.0\n",
      "x9 = 70.0 12.0\n",
      "x10 = 180.0 10.0\n",
      "x11 = -0.0 22.0\n",
      "objective value = 8260.0\n"
     ]
    }
   ],
   "source": [
    "c = [14,9,16,18,11,8,1000,16,16,12,10,22]    \n",
    "A = [[1,1,1,1,0,0,0,0,0,0,0,0],\n",
    "     [0,0,0,0,1,1,1,1,0,0,0,0],\n",
    "     [0,0,0,0,0,0,0,0,1,1,1,1],\n",
    "     [1,0,0,0,1,0,0,0,1,0,0,0],\n",
    "     [0,1,0,0,0,1,0,0,0,1,0,0],\n",
    "     [0,0,1,0,0,0,1,0,0,0,1,0],\n",
    "     [0,0,0,1,0,0,0,1,0,0,0,1]]\n",
    "b =  [150,210,290,130,70,180,240]\n",
    "print(np.array(c).shape,np.array(A).shape,np.array(b).shape)\n",
    "decision_variables = range(len(c))     \n",
    "constraints = range(np.array(A).shape[0])\n",
    "\n",
    "m = Model(\"example\")\n",
    "\n",
    "x = []\n",
    "for i in decision_variables:\n",
    "    x.append(m.addVar(lb = 0, vtype = GRB.INTEGER, name = 'x' + str(i)))\n",
    "\n",
    "m.setObjective(quicksum(c[i] * x[i] for i in decision_variables) , GRB.MINIMIZE) \n",
    "\n",
    "m.addConstrs((quicksum(A[j][i] * x[i] for i in decision_variables) \n",
    "                           <= b[j] for j in constraints[:3]), \"constraints\")\n",
    "\n",
    "m.addConstrs((quicksum(A[j][i] * x[i] for i in decision_variables) \n",
    "                           == b[j] for j in constraints[3:]), \"constraints\")\n",
    "              \n",
    "m.optimize()\n",
    "\n",
    "for var in m.getVars(): # descision variable\n",
    "    print(var.varName, '=', var.x, var.obj)\n",
    "\n",
    "#for con in m.getConstrs(): # constraints\n",
    "#    print(con.ConstrName, ': slack =', con.slack,', shadow price=',\n",
    "#          con.pi,',', (con.RHS, con.SARHSLow, con.SARHSUp))\n",
    "    \n",
    "print(\"objective value =\", m.objVal)"
   ]
  },
  {
   "cell_type": "markdown",
   "metadata": {
    "id": "T-iV4LzkBxE4"
   },
   "source": [
    "## Problem Example: C6Q30\n",
    "Transshipment probelm is an extension of the transportation model in which intermediate trans-shipment points are added between sources and destinations."
   ]
  },
  {
   "cell_type": "code",
   "execution_count": 261,
   "metadata": {
    "colab": {
     "base_uri": "https://localhost:8080/"
    },
    "id": "k63ZZrMiBxE4",
    "outputId": "88771a9c-a856-440e-dba4-ca00101cb238"
   },
   "outputs": [
    {
     "name": "stdout",
     "output_type": "stream",
     "text": [
      "(18,) (9, 18) (9,)\n",
      "Gurobi Optimizer version 9.5.0 build v9.5.0rc5 (linux64)\n",
      "Thread count: 1 physical cores, 2 logical processors, using up to 2 threads\n",
      "Optimize a model with 9 rows, 18 columns and 36 nonzeros\n",
      "Model fingerprint: 0x6661d933\n",
      "Variable types: 0 continuous, 18 integer (0 binary)\n",
      "Coefficient statistics:\n",
      "  Matrix range     [1e+00, 1e+00]\n",
      "  Objective range  [6e+01, 6e+02]\n",
      "  Bounds range     [0e+00, 0e+00]\n",
      "  RHS range        [4e+01, 8e+01]\n",
      "Found heuristic solution: objective 89740.000000\n",
      "Presolve time: 0.00s\n",
      "Presolved: 9 rows, 18 columns, 36 nonzeros\n",
      "Variable types: 0 continuous, 18 integer (0 binary)\n",
      "Found heuristic solution: objective 89600.000000\n",
      "\n",
      "Root relaxation: objective 7.736200e+04, 10 iterations, 0.00 seconds (0.00 work units)\n",
      "\n",
      "    Nodes    |    Current Node    |     Objective Bounds      |     Work\n",
      " Expl Unexpl |  Obj  Depth IntInf | Incumbent    BestBd   Gap | It/Node Time\n",
      "\n",
      "*    0     0               0    77362.000000 77362.0000  0.00%     -    0s\n",
      "\n",
      "Explored 1 nodes (10 simplex iterations) in 0.03 seconds (0.00 work units)\n",
      "Thread count was 2 (of 2 available processors)\n",
      "\n",
      "Solution count 3: 77362 89600 89740 \n",
      "\n",
      "Optimal solution found (tolerance 1.00e-04)\n",
      "Best objective 7.736200000000e+04, best bound 7.736200000000e+04, gap 0.0000%\n",
      "x0 = 42.0 420.0\n",
      "x1 = 13.0 390.0\n",
      "x2 = -0.0 610.0\n",
      "x3 = -0.0 510.0\n",
      "x4 = -0.0 590.0\n",
      "x5 = 63.0 470.0\n",
      "x6 = -0.0 450.0\n",
      "x7 = 37.0 360.0\n",
      "x8 = -0.0 380.0\n",
      "x9 = -0.0 75.0\n",
      "x10 = 42.0 63.0\n",
      "x11 = -0.0 81.0\n",
      "x12 = -0.0 125.0\n",
      "x13 = -0.0 110.0\n",
      "x14 = 50.0 95.0\n",
      "x15 = 60.0 68.0\n",
      "x16 = 3.0 82.0\n",
      "x17 = 0.0 95.0\n",
      "objective value = 77362.0\n"
     ]
    }
   ],
   "source": [
    "c = [420,390,610,510,590,470,450,360,380,75,63,81,125,110,95,68,82,95]    \n",
    "A = [[1,1,1,0,0,0,0,0,0,0,0,0,0,0,0,0,0,0],\n",
    "     [0,0,0,1,1,1,0,0,0,0,0,0,0,0,0,0,0,0],\n",
    "     [0,0,0,0,0,0,1,1,1,0,0,0,0,0,0,0,0,0],\n",
    "     [0,0,0,0,0,0,0,0,0,1,0,0,1,0,0,1,0,0],\n",
    "     [0,0,0,0,0,0,0,0,0,0,1,0,0,1,0,0,1,0],\n",
    "     [0,0,0,0,0,0,0,0,0,0,0,1,0,0,1,0,0,1],\n",
    "     [1,0,0,1,0,0,1,0,0,-1,-1,-1,0,0,0,0,0,0],\n",
    "     [0,1,0,0,1,0,0,1,0,0,0,0,-1,-1,-1,0,0,0],\n",
    "     [0,0,1,0,0,1,0,0,1,0,0,0,0,0,0,-1,-1,-1]]\n",
    "b =  [55,78,37,60,45,50,0,0,0]\n",
    "print(np.array(c).shape,np.array(A).shape,np.array(b).shape)\n",
    "decision_variables = range(len(c))     \n",
    "constraints = range(np.array(A).shape[0])\n",
    "\n",
    "m = Model(\"example\")\n",
    "\n",
    "x = []\n",
    "for i in decision_variables:\n",
    "    x.append(m.addVar(lb = 0, vtype = GRB.INTEGER, name = 'x' + str(i)))\n",
    "\n",
    "m.setObjective(quicksum(c[i] * x[i] for i in decision_variables) , GRB.MINIMIZE) \n",
    "\n",
    "m.addConstrs((quicksum(A[j][i] * x[i] for i in decision_variables) \n",
    "                           <= b[j] for j in constraints[:3]), \"constraints\")\n",
    "\n",
    "m.addConstrs((quicksum(A[j][i] * x[i] for i in decision_variables) \n",
    "                           == b[j] for j in constraints[3:]), \"constraints\")\n",
    "              \n",
    "m.optimize()\n",
    "\n",
    "for var in m.getVars(): # descision variable\n",
    "    print(var.varName, '=', var.x, var.obj)\n",
    "\n",
    "#for con in m.getConstrs(): # constraints\n",
    "#    print(con.ConstrName, ': slack =', con.slack,', shadow price=',\n",
    "#          con.pi,',', (con.RHS, con.SARHSLow, con.SARHSUp))\n",
    "    \n",
    "print(\"objective value =\", m.objVal)"
   ]
  },
  {
   "cell_type": "markdown",
   "metadata": {
    "id": "B1pXpLsEBxE5"
   },
   "source": [
    "##Problem Example: C6Q43\n",
    "Solve the following LP problem:\n",
    "\n",
    "\\begin{align}\n",
    "&\\text{min}\\\\\n",
    "&\\qquad z=12x_{1A} + 11x_{1B} + 8x_{1C} + 14x_{1D}\\\\\n",
    "&\\qquad~~+ 10x_{2A} + 9x_{2B} + 10x_{2C} + 8x_{2D}\\\\\n",
    "&\\qquad~~+ 14x_{3A} + 100x_{3B} + 7x_{3C} + 11x_{3D}\\\\ \n",
    "&\\qquad~~+ 6x_{4A} + 8x_{4B} + 10x_{4C} + 9x_{4D}\\\\\n",
    "&\\text{subject to}\\\\\n",
    "&\\qquad x_{1A} +x_{1B} +x_{1C} +x_{1D} =1 \\\\\n",
    "&\\qquad x_{2A} +x_{2B} +x_{2C} +x_{2D} =1 \\\\\n",
    "&\\qquad x_{3A} +x_{3B} +x_{3C} +x_{3D} =1 \\\\\n",
    "&\\qquad x_{4A} +x_{4B} +x_{4C} +x_{4D} =1 \\\\\n",
    "&\\qquad x_{1A} +x_{2A} +x_{3A} +x_{4A} =1 \\\\\n",
    "&\\qquad x_{1B} +x_{2B} +x_{3B} +x_{4B} =1 \\\\\n",
    "&\\qquad x_{1C} +x_{2C} +x_{3C} +x_{4C} =1 \\\\\n",
    "&\\qquad x_{1D} +x_{2D} +x_{3D} +x_{4D} =1 \\\\\n",
    "&\\qquad x_{ij} \\ge 0~ \\text{and integer}\\\\\n",
    "\\end{align} "
   ]
  },
  {
   "cell_type": "code",
   "execution_count": 262,
   "metadata": {
    "colab": {
     "base_uri": "https://localhost:8080/"
    },
    "id": "y8w9I-CEBxE5",
    "outputId": "caa231d2-6cc7-45a7-c4f8-8275689ecd00"
   },
   "outputs": [
    {
     "name": "stdout",
     "output_type": "stream",
     "text": [
      "(16,) (8, 16) (8,)\n",
      "Gurobi Optimizer version 9.5.0 build v9.5.0rc5 (linux64)\n",
      "Thread count: 1 physical cores, 2 logical processors, using up to 2 threads\n",
      "Optimize a model with 8 rows, 16 columns and 32 nonzeros\n",
      "Model fingerprint: 0xe843bdde\n",
      "Variable types: 0 continuous, 16 integer (0 binary)\n",
      "Coefficient statistics:\n",
      "  Matrix range     [1e+00, 1e+00]\n",
      "  Objective range  [6e+00, 1e+03]\n",
      "  Bounds range     [0e+00, 0e+00]\n",
      "  RHS range        [1e+00, 1e+00]\n",
      "Found heuristic solution: objective 1027.0000000\n",
      "Presolve time: 0.00s\n",
      "Presolved: 8 rows, 16 columns, 32 nonzeros\n",
      "Variable types: 0 continuous, 16 integer (16 binary)\n",
      "\n",
      "Root relaxation: objective 3.200000e+01, 6 iterations, 0.00 seconds (0.00 work units)\n",
      "\n",
      "    Nodes    |    Current Node    |     Objective Bounds      |     Work\n",
      " Expl Unexpl |  Obj  Depth IntInf | Incumbent    BestBd   Gap | It/Node Time\n",
      "\n",
      "*    0     0               0      32.0000000   32.00000  0.00%     -    0s\n",
      "\n",
      "Explored 1 nodes (6 simplex iterations) in 0.03 seconds (0.00 work units)\n",
      "Thread count was 2 (of 2 available processors)\n",
      "\n",
      "Solution count 2: 32 1027 \n",
      "\n",
      "Optimal solution found (tolerance 1.00e-04)\n",
      "Best objective 3.200000000000e+01, best bound 3.200000000000e+01, gap 0.0000%\n",
      "x0 = -0.0 12.0\n",
      "x1 = 1.0 11.0\n",
      "x2 = 0.0 8.0\n",
      "x3 = -0.0 14.0\n",
      "x4 = -0.0 10.0\n",
      "x5 = 0.0 9.0\n",
      "x6 = -0.0 10.0\n",
      "x7 = 1.0 8.0\n",
      "x8 = -0.0 14.0\n",
      "x9 = -0.0 1000.0\n",
      "x10 = 1.0 7.0\n",
      "x11 = -0.0 11.0\n",
      "x12 = 1.0 6.0\n",
      "x13 = -0.0 8.0\n",
      "x14 = -0.0 10.0\n",
      "x15 = -0.0 9.0\n",
      "objective value = 32.0\n"
     ]
    }
   ],
   "source": [
    "c = [12,11,8,14,10,9,10,8,14,1000,7,11,6,8,10,9]    \n",
    "A = [[1,1,1,1,0,0,0,0,0,0,0,0,0,0,0,0],\n",
    "     [0,0,0,0,1,1,1,1,0,0,0,0,0,0,0,0],\n",
    "     [0,0,0,0,0,0,0,0,1,1,1,1,0,0,0,0],\n",
    "     [0,0,0,0,0,0,0,0,0,0,0,0,1,1,1,1],\n",
    "     [1,0,0,0,1,0,0,0,1,0,0,0,1,0,0,0],\n",
    "     [0,1,0,0,0,1,0,0,0,1,0,0,0,1,0,0],\n",
    "     [0,0,1,0,0,0,1,0,0,0,1,0,0,0,1,0],\n",
    "     [0,0,0,1,0,0,0,1,0,0,0,1,0,0,0,1]]\n",
    "b =  [1,1,1,1,1,1,1,1]\n",
    "print(np.array(c).shape,np.array(A).shape,np.array(b).shape)\n",
    "decision_variables = range(len(c))     \n",
    "constraints = range(np.array(A).shape[0])\n",
    "\n",
    "m = Model(\"example\")\n",
    "\n",
    "x = []\n",
    "for i in decision_variables:\n",
    "    x.append(m.addVar(lb = 0, vtype = GRB.INTEGER, name = 'x' + str(i)))\n",
    "\n",
    "m.setObjective(quicksum(c[i] * x[i] for i in decision_variables) , GRB.MINIMIZE) \n",
    "\n",
    "m.addConstrs((quicksum(A[j][i] * x[i] for i in decision_variables) \n",
    "                           == b[j] for j in constraints), \"constraints\")\n",
    "           \n",
    "m.optimize()\n",
    "\n",
    "for var in m.getVars(): # descision variable\n",
    "    print(var.varName, '=', var.x, var.obj)\n",
    "\n",
    "#for con in m.getConstrs(): # constraints\n",
    "#    print(con.ConstrName, ': slack =', con.slack,', shadow price=',\n",
    "#          con.pi,',', (con.RHS, con.SARHSLow, con.SARHSUp))\n",
    "    \n",
    "print(\"objective value =\", m.objVal)"
   ]
  },
  {
   "cell_type": "markdown",
   "metadata": {
    "id": "imj_IEQRx4HU"
   },
   "source": [
    "# Chapter 5: Multicriteria Decision Making"
   ]
  },
  {
   "cell_type": "markdown",
   "metadata": {
    "id": "xtVdQSLILmdP"
   },
   "source": [
    "Goal programming is a variation of linear programming considering more than one objective (goals) in the objective function. Goal programming solutions do not always achieve all goals and they are not optimal; they achieve the best or most satisfactory solution possible.\n",
    "\n",
    "Goal Constraint Requirements:\n",
    "* All goal constraints are equalities that include deviational variables $d^-$ and $d^+$\n",
    "* A negative deviational variable, $d^-$, is the amount by which a goal level is **under-achieved**\n",
    "* A positive deviational variable, $d^+$, is the amount by which a goal level is **exceeded**\n",
    "* **At least one** or both deviational variables in a goal constraint must equal zero\n",
    "* The objective function seeks to **minimize** the deviation from the respective goals in the order of the goal priorities.\n",
    "\n",
    "\n",
    "\n",
    " \n"
   ]
  },
  {
   "cell_type": "markdown",
   "metadata": {
    "id": "AlXtLSFeNRxo"
   },
   "source": [
    "##Goal programming example:\n",
    "Solve the following problem:\n",
    "\n",
    "\\begin{align}\n",
    "&\\text{min}\\\\\n",
    "&\\qquad z=P_1d_1^-,P_2d_2^-,P_3d_3^+,P_4d_1^+\\\\\n",
    "&\\text{s.t.}\\\\\n",
    "&\\qquad x_1+2x_2+d_1^--d_1^+=40\\\\\n",
    "&\\qquad 40x_1+50x_2+d_2^--d_2^+=1600\\\\\n",
    "&\\qquad 4x_1+3x_2+d_3^--d_3^+=120\\\\\n",
    "&\\qquad x_i,d_j^-,d_j^+ \\ge 0~ \\text{and integer}\\\\\n",
    "\\end{align}  \n"
   ]
  },
  {
   "cell_type": "code",
   "execution_count": 263,
   "metadata": {
    "colab": {
     "base_uri": "https://localhost:8080/"
    },
    "id": "URHnNCwMyAwX",
    "outputId": "d69476aa-3aea-4113-fc52-e38b367b0a8b"
   },
   "outputs": [
    {
     "name": "stdout",
     "output_type": "stream",
     "text": [
      "Gurobi Optimizer version 9.5.0 build v9.5.0rc5 (linux64)\n",
      "Thread count: 1 physical cores, 2 logical processors, using up to 2 threads\n",
      "Optimize a model with 3 rows, 8 columns and 12 nonzeros\n",
      "Model fingerprint: 0xedfe4e5b\n",
      "Variable types: 0 continuous, 8 integer (0 binary)\n",
      "Coefficient statistics:\n",
      "  Matrix range     [1e+00, 5e+01]\n",
      "  Objective range  [1e+00, 1e+00]\n",
      "  Bounds range     [0e+00, 0e+00]\n",
      "  RHS range        [4e+01, 2e+03]\n",
      "\n",
      "---------------------------------------------------------------------------\n",
      "Multi-objectives: starting optimization with 4 objectives ... \n",
      "---------------------------------------------------------------------------\n",
      "\n",
      "Multi-objectives: applying initial presolve ...\n",
      "---------------------------------------------------------------------------\n",
      "\n",
      "Presolve time: 0.00s\n",
      "Presolved: 3 rows and 8 columns\n",
      "---------------------------------------------------------------------------\n",
      "\n",
      "Multi-objectives: optimize objective 1 () ...\n",
      "---------------------------------------------------------------------------\n",
      "\n",
      "Presolve removed 3 rows and 8 columns\n",
      "Presolve time: 0.00s\n",
      "Presolve: All rows and columns removed\n",
      "\n",
      "Explored 0 nodes (0 simplex iterations) in 0.04 seconds (0.00 work units)\n",
      "Thread count was 1 (of 2 available processors)\n",
      "\n",
      "Solution count 1: 0 \n",
      "\n",
      "Optimal solution found (tolerance 1.00e-04)\n",
      "Best objective 0.000000000000e+00, best bound 0.000000000000e+00, gap 0.0000%\n",
      "---------------------------------------------------------------------------\n",
      "\n",
      "Multi-objectives: optimize objective 2 () ...\n",
      "---------------------------------------------------------------------------\n",
      "\n",
      "\n",
      "Loaded user MIP start with objective 0\n",
      "\n",
      "\n",
      "Explored 0 nodes (0 simplex iterations) in 0.06 seconds (0.00 work units)\n",
      "Thread count was 1 (of 2 available processors)\n",
      "\n",
      "Solution count 1: 0 \n",
      "\n",
      "Optimal solution found (tolerance 1.00e-04)\n",
      "Best objective 0.000000000000e+00, best bound 0.000000000000e+00, gap 0.0000%\n",
      "---------------------------------------------------------------------------\n",
      "\n",
      "Multi-objectives: optimize objective 3 () ...\n",
      "---------------------------------------------------------------------------\n",
      "\n",
      "\n",
      "Loaded user MIP start with objective 40\n",
      "\n",
      "Presolve removed 5 rows and 8 columns\n",
      "Presolve time: 0.00s\n",
      "Presolve: All rows and columns removed\n",
      "\n",
      "Explored 0 nodes (0 simplex iterations) in 0.08 seconds (0.00 work units)\n",
      "Thread count was 1 (of 2 available processors)\n",
      "\n",
      "Solution count 2: 0 40 \n",
      "\n",
      "Optimal solution found (tolerance 1.00e-04)\n",
      "Best objective 0.000000000000e+00, best bound 0.000000000000e+00, gap 0.0000%\n",
      "---------------------------------------------------------------------------\n",
      "\n",
      "Multi-objectives: optimize objective 4 () ...\n",
      "---------------------------------------------------------------------------\n",
      "\n",
      "\n",
      "Loaded user MIP start with objective 24\n",
      "\n",
      "Presolve removed 4 rows and 6 columns\n",
      "Presolve time: 0.00s\n",
      "Presolved: 2 rows, 2 columns, 4 nonzeros\n",
      "Variable types: 0 continuous, 2 integer (0 binary)\n",
      "\n",
      "Root relaxation: objective 1.500000e+01, 0 iterations, 0.00 seconds (0.00 work units)\n",
      "\n",
      "    Nodes    |    Current Node    |     Objective Bounds      |     Work\n",
      " Expl Unexpl |  Obj  Depth IntInf | Incumbent    BestBd   Gap | It/Node Time\n",
      "\n",
      "*    0     0               0      15.0000000   15.00000  0.00%     -    0s\n",
      "\n",
      "Explored 1 nodes (0 simplex iterations) in 0.11 seconds (0.00 work units)\n",
      "Thread count was 2 (of 2 available processors)\n",
      "\n",
      "Solution count 2: 15 24 \n",
      "\n",
      "Optimal solution found (tolerance 1.00e-04)\n",
      "Best objective 1.500000000000e+01, best bound 1.500000000000e+01, gap 0.0000%\n",
      "\n",
      "---------------------------------------------------------------------------\n",
      "Multi-objectives: solved in 0.12 seconds (0.00 work units), solution count 3\n",
      "\n",
      "x[0] 15.0\n",
      "x[1] 20.0\n",
      "dm[0] 0.0\n",
      "dm[1] 0.0\n",
      "dm[2] 0.0\n",
      "dp[0] 15.0\n",
      "dp[1] 0.0\n",
      "dp[2] 0.0\n"
     ]
    }
   ],
   "source": [
    "from gurobipy import *\n",
    "m = Model('multiobj')\n",
    "\n",
    "# Add Variables\n",
    "x = m.addVars(range(2), name='x', lb=0, vtype = GRB.INTEGER)\n",
    "dm = m.addVars(range(3), name='dm', lb=0, vtype = GRB.INTEGER)\n",
    "dp = m.addVars(range(3), name='dp', lb=0, vtype = GRB.INTEGER)\n",
    "#totSlack = m.addVar(name='totSlack')\n",
    "m.update()\n",
    "\n",
    "# Add Constraints\n",
    "c1 = m.addConstr(1 *x[0]  + 2*x[1] + 1*dm[0] - 1*dp[0] == 40)\n",
    "c2 = m.addConstr(40*x[0] + 50*x[1] + 1*dm[1] - 1*dp[1] == 1600)\n",
    "c3 = m.addConstr(4 *x[0]  + 3*x[1] + 1*dm[2] - 1*dp[2] == 120)\n",
    "\n",
    "# Add Objective Function\n",
    "m.ModelSense = GRB.MINIMIZE\n",
    "m.setObjectiveN(dm[0], index=0, priority=3)\n",
    "m.setObjectiveN(dm[1], index=1, priority=2)\n",
    "m.setObjectiveN(dp[2], index=2, priority=1)\n",
    "m.setObjectiveN(dp[0], index=3, priority=0)\n",
    "# Optimize Model\n",
    "m.optimize()\n",
    "\n",
    "# Output formatted solution\n",
    "for v in m.getVars():\n",
    "    print(v.varName, v.x)\n",
    "#print('Obj :', m.objVal)"
   ]
  },
  {
   "cell_type": "markdown",
   "metadata": {
    "id": "1unJ-b8JOayC"
   },
   "source": [
    "##Altered goal programming example:\n",
    "Solve the following problem:\n",
    "\\begin{align}\n",
    "&\\text{min}\\\\\n",
    "&\\qquad z=P_1d_1^-,P_2d_2^-,P_3d_3^+,P_4d_1^+,4P_5d_5^-+5P_5d_6^-\\\\\n",
    "&\\text{s.t.}\\\\\n",
    "&\\qquad x_1+2x_2+d_1^--d_1^+=40\\\\\n",
    "&\\qquad 40x_1+50x_2+d_2^--d_2^+=1600\\\\\n",
    "&\\qquad 4x_1+3x_2+d_3^--d_3^+=120\\\\\n",
    "&\\qquad  d_1^++d_4^--d_4^+=10 \\\\\n",
    "&\\qquad x_1+d_5^-=30\\\\\n",
    "&\\qquad x_2+d_6^-=20\\\\\n",
    "&\\qquad x_i,d_j^-,d_j^+ \\ge 0~ \\text{and integer}\\\\\n",
    "\\end{align}  "
   ]
  },
  {
   "cell_type": "code",
   "execution_count": 264,
   "metadata": {
    "colab": {
     "base_uri": "https://localhost:8080/"
    },
    "id": "N2_ZJ5sDyPYq",
    "outputId": "5016a85b-2100-4abb-dd31-bd1016822eda"
   },
   "outputs": [
    {
     "name": "stdout",
     "output_type": "stream",
     "text": [
      "Gurobi Optimizer version 9.5.0 build v9.5.0rc5 (linux64)\n",
      "Thread count: 1 physical cores, 2 logical processors, using up to 2 threads\n",
      "Optimize a model with 6 rows, 12 columns and 19 nonzeros\n",
      "Model fingerprint: 0x2a5ffb2a\n",
      "Variable types: 0 continuous, 12 integer (0 binary)\n",
      "Coefficient statistics:\n",
      "  Matrix range     [1e+00, 5e+01]\n",
      "  Objective range  [1e+00, 5e+00]\n",
      "  Bounds range     [0e+00, 0e+00]\n",
      "  RHS range        [1e+01, 2e+03]\n",
      "\n",
      "---------------------------------------------------------------------------\n",
      "Multi-objectives: starting optimization with 5 objectives ... \n",
      "---------------------------------------------------------------------------\n",
      "\n",
      "Multi-objectives: applying initial presolve ...\n",
      "---------------------------------------------------------------------------\n",
      "\n",
      "Presolve removed 2 rows and 2 columns\n",
      "Presolve time: 0.00s\n",
      "Presolved: 4 rows and 10 columns\n",
      "---------------------------------------------------------------------------\n",
      "\n",
      "Multi-objectives: optimize objective 1 () ...\n",
      "---------------------------------------------------------------------------\n",
      "\n",
      "Presolve removed 4 rows and 10 columns\n",
      "Presolve time: 0.00s\n",
      "Presolve: All rows and columns removed\n",
      "\n",
      "Explored 0 nodes (0 simplex iterations) in 0.03 seconds (0.00 work units)\n",
      "Thread count was 1 (of 2 available processors)\n",
      "\n",
      "Solution count 1: 0 \n",
      "\n",
      "Optimal solution found (tolerance 1.00e-04)\n",
      "Best objective 0.000000000000e+00, best bound 0.000000000000e+00, gap 0.0000%\n",
      "---------------------------------------------------------------------------\n",
      "\n",
      "Multi-objectives: optimize objective 2 () ...\n",
      "---------------------------------------------------------------------------\n",
      "\n",
      "\n",
      "Loaded user MIP start with objective 0\n",
      "\n",
      "\n",
      "Explored 0 nodes (0 simplex iterations) in 0.05 seconds (0.00 work units)\n",
      "Thread count was 1 (of 2 available processors)\n",
      "\n",
      "Solution count 1: 0 \n",
      "\n",
      "Optimal solution found (tolerance 1.00e-04)\n",
      "Best objective 0.000000000000e+00, best bound 0.000000000000e+00, gap 0.0000%\n",
      "---------------------------------------------------------------------------\n",
      "\n",
      "Multi-objectives: optimize objective 3 () ...\n",
      "---------------------------------------------------------------------------\n",
      "\n",
      "\n",
      "Loaded user MIP start with objective 60\n",
      "\n",
      "Presolve removed 6 rows and 10 columns\n",
      "Presolve time: 0.00s\n",
      "Presolve: All rows and columns removed\n",
      "\n",
      "Explored 0 nodes (0 simplex iterations) in 0.08 seconds (0.00 work units)\n",
      "Thread count was 1 (of 2 available processors)\n",
      "\n",
      "Solution count 2: 0 60 \n",
      "\n",
      "Optimal solution found (tolerance 1.00e-04)\n",
      "Best objective 0.000000000000e+00, best bound 0.000000000000e+00, gap 0.0000%\n",
      "---------------------------------------------------------------------------\n",
      "\n",
      "Multi-objectives: optimize objective 4 () ...\n",
      "---------------------------------------------------------------------------\n",
      "\n",
      "\n",
      "Loaded user MIP start with objective 5\n",
      "\n",
      "Presolve removed 7 rows and 10 columns\n",
      "Presolve time: 0.00s\n",
      "Presolve: All rows and columns removed\n",
      "\n",
      "Explored 0 nodes (0 simplex iterations) in 0.11 seconds (0.00 work units)\n",
      "Thread count was 1 (of 2 available processors)\n",
      "\n",
      "Solution count 1: 5 \n",
      "\n",
      "Optimal solution found (tolerance 1.00e-04)\n",
      "Best objective 5.000000000000e+00, best bound 5.000000000000e+00, gap 0.0000%\n",
      "---------------------------------------------------------------------------\n",
      "\n",
      "Multi-objectives: optimize objective 5 () ...\n",
      "---------------------------------------------------------------------------\n",
      "\n",
      "\n",
      "Loaded user MIP start with objective 60\n",
      "\n",
      "Presolve removed 8 rows and 10 columns\n",
      "Presolve time: 0.00s\n",
      "Presolve: All rows and columns removed\n",
      "\n",
      "Explored 0 nodes (0 simplex iterations) in 0.14 seconds (0.00 work units)\n",
      "Thread count was 1 (of 2 available processors)\n",
      "\n",
      "Solution count 1: 60 \n",
      "\n",
      "Optimal solution found (tolerance 1.00e-04)\n",
      "Best objective 6.000000000000e+01, best bound 6.000000000000e+01, gap 0.0000%\n",
      "\n",
      "---------------------------------------------------------------------------\n",
      "Multi-objectives: solved in 0.15 seconds (0.00 work units), solution count 2\n",
      "\n",
      "x[0] 15.0\n",
      "x[1] 20.0\n",
      "dm[0] 0.0\n",
      "dm[1] 0.0\n",
      "dm[2] 0.0\n",
      "dm[3] 0.0\n",
      "dm[4] 15.0\n",
      "dm[5] 0.0\n",
      "dp[0] 15.0\n",
      "dp[1] 0.0\n",
      "dp[2] 0.0\n",
      "dp[3] 5.0\n"
     ]
    }
   ],
   "source": [
    "from gurobipy import *\n",
    "m = Model('multiobj')\n",
    "\n",
    "# Add Variables\n",
    "x = m.addVars(range(2), name='x', lb=0, vtype = GRB.INTEGER)\n",
    "dm = m.addVars(range(6), name='dm', lb=0, vtype = GRB.INTEGER)\n",
    "dp = m.addVars(range(4), name='dp', lb=0, vtype = GRB.INTEGER)\n",
    "#totSlack = m.addVar(name='totSlack')\n",
    "m.update()\n",
    "\n",
    "# Add Constraints\n",
    "c1 = m.addConstr(1 *x[0]  + 2 *x[1]  + 1*dm[0] - 1*dp[0] == 40)\n",
    "c2 = m.addConstr(40*x[0]  + 50*x[1]  + 1*dm[1] - 1*dp[1] == 1600)\n",
    "c3 = m.addConstr(4 *x[0]  + 3 *x[1]  + 1*dm[2] - 1*dp[2] == 120)\n",
    "c4 = m.addConstr(                      1*dp[0] + 1*dm[3] - 1*dp[3] == 10)\n",
    "c5 = m.addConstr(1 *x[0]             + 1*dm[4]           == 30)\n",
    "c6 = m.addConstr(           1 *x[1]  + 1*dm[5]           == 20)\n",
    "\n",
    "# Add Objective Function\n",
    "m.ModelSense = GRB.MINIMIZE\n",
    "m.setObjectiveN(dm[0], index=0, priority=4)\n",
    "m.setObjectiveN(dm[1], index=1, priority=3)\n",
    "m.setObjectiveN(dp[2], index=2, priority=2)\n",
    "m.setObjectiveN(dp[3], index=3, priority=1)\n",
    "m.setObjectiveN(4*dm[4]+5*dm[5], index=4, priority=0)\n",
    "\n",
    "# Optimize Model\n",
    "m.optimize()\n",
    "\n",
    "# Output formatted solution\n",
    "for v in m.getVars():\n",
    "    print(v.varName, v.x)\n",
    "#print('Obj :', m.objVal)"
   ]
  },
  {
   "cell_type": "markdown",
   "metadata": {
    "id": "Q8_DzKiHPFQT"
   },
   "source": [
    "## Problem Example: C9Q8\n",
    "Solve the following goal programming model:\n",
    "\\begin{align}\n",
    "&\\text{min}\\\\\n",
    "&\\qquad z=P_1d_1^-+P_1d_1^+,P_2d_2^-,P_3d_3^-,3P_4d_2^++5P_4d_3^+\\\\\n",
    "&\\text{s.t.}\\\\\n",
    "&\\qquad x_1+x_2+d_1^--d_1^+=800\\\\\n",
    "&\\qquad 5x_1+d_2^--d_2^+=2500\\\\\n",
    "&\\qquad 3x_2+d_3^--d_3^+=1400\\\\\n",
    "&\\qquad x_i,d_j^-,d_j^+ \\ge 0~ \\text{and integer}\\\\\n",
    "\\end{align}  "
   ]
  },
  {
   "cell_type": "code",
   "execution_count": 265,
   "metadata": {
    "colab": {
     "base_uri": "https://localhost:8080/"
    },
    "id": "12dFrKHbyR79",
    "outputId": "094b522d-50ba-453e-ed3b-a32f4f6b326e"
   },
   "outputs": [
    {
     "name": "stdout",
     "output_type": "stream",
     "text": [
      "Gurobi Optimizer version 9.5.0 build v9.5.0rc5 (linux64)\n",
      "Thread count: 1 physical cores, 2 logical processors, using up to 2 threads\n",
      "Optimize a model with 3 rows, 8 columns and 10 nonzeros\n",
      "Model fingerprint: 0xa4b28e54\n",
      "Variable types: 0 continuous, 8 integer (0 binary)\n",
      "Coefficient statistics:\n",
      "  Matrix range     [1e+00, 5e+00]\n",
      "  Objective range  [1e+00, 5e+00]\n",
      "  Bounds range     [0e+00, 0e+00]\n",
      "  RHS range        [8e+02, 2e+03]\n",
      "\n",
      "---------------------------------------------------------------------------\n",
      "Multi-objectives: starting optimization with 4 objectives ... \n",
      "---------------------------------------------------------------------------\n",
      "\n",
      "Multi-objectives: applying initial presolve ...\n",
      "---------------------------------------------------------------------------\n",
      "\n",
      "Presolve time: 0.00s\n",
      "Presolved: 3 rows and 8 columns\n",
      "---------------------------------------------------------------------------\n",
      "\n",
      "Multi-objectives: optimize objective 1 () ...\n",
      "---------------------------------------------------------------------------\n",
      "\n",
      "Presolve removed 3 rows and 8 columns\n",
      "Presolve time: 0.00s\n",
      "Presolve: All rows and columns removed\n",
      "\n",
      "Explored 0 nodes (0 simplex iterations) in 0.04 seconds (0.00 work units)\n",
      "Thread count was 1 (of 2 available processors)\n",
      "\n",
      "Solution count 1: 0 \n",
      "\n",
      "Optimal solution found (tolerance 1.00e-04)\n",
      "Best objective 0.000000000000e+00, best bound 0.000000000000e+00, gap 0.0000%\n",
      "---------------------------------------------------------------------------\n",
      "\n",
      "Multi-objectives: optimize objective 2 () ...\n",
      "---------------------------------------------------------------------------\n",
      "\n",
      "\n",
      "Loaded user MIP start with objective 0\n",
      "\n",
      "\n",
      "Explored 0 nodes (0 simplex iterations) in 0.06 seconds (0.00 work units)\n",
      "Thread count was 1 (of 2 available processors)\n",
      "\n",
      "Solution count 1: 0 \n",
      "\n",
      "Optimal solution found (tolerance 1.00e-04)\n",
      "Best objective 0.000000000000e+00, best bound 0.000000000000e+00, gap 0.0000%\n",
      "---------------------------------------------------------------------------\n",
      "\n",
      "Multi-objectives: optimize objective 3 () ...\n",
      "---------------------------------------------------------------------------\n",
      "\n",
      "\n",
      "Loaded user MIP start with objective 1400\n",
      "\n",
      "Presolve removed 5 rows and 8 columns\n",
      "Presolve time: 0.00s\n",
      "Presolve: All rows and columns removed\n",
      "\n",
      "Explored 0 nodes (0 simplex iterations) in 0.09 seconds (0.00 work units)\n",
      "Thread count was 1 (of 2 available processors)\n",
      "\n",
      "Solution count 2: 500 1400 \n",
      "\n",
      "Optimal solution found (tolerance 1.00e-04)\n",
      "Best objective 5.000000000000e+02, best bound 5.000000000000e+02, gap 0.0000%\n",
      "---------------------------------------------------------------------------\n",
      "\n",
      "Multi-objectives: optimize objective 4 () ...\n",
      "---------------------------------------------------------------------------\n",
      "\n",
      "\n",
      "Loaded user MIP start with objective 0\n",
      "\n",
      "\n",
      "Explored 0 nodes (0 simplex iterations) in 0.12 seconds (0.00 work units)\n",
      "Thread count was 1 (of 2 available processors)\n",
      "\n",
      "Solution count 1: 0 \n",
      "\n",
      "Optimal solution found (tolerance 1.00e-04)\n",
      "Best objective 0.000000000000e+00, best bound 0.000000000000e+00, gap 0.0000%\n",
      "\n",
      "---------------------------------------------------------------------------\n",
      "Multi-objectives: solved in 0.13 seconds (0.00 work units), solution count 2\n",
      "\n",
      "x[0] 500.0\n",
      "x[1] 300.0\n",
      "dm[0] 0.0\n",
      "dm[1] 0.0\n",
      "dm[2] 500.0\n",
      "dp[0] 0.0\n",
      "dp[1] 0.0\n",
      "dp[2] 0.0\n"
     ]
    }
   ],
   "source": [
    "from gurobipy import *\n",
    "m = Model('C9Q8')\n",
    "\n",
    "# Add Variables\n",
    "x  = m.addVars(range(2), name='x',  lb=0, vtype = GRB.INTEGER)\n",
    "dm = m.addVars(range(3), name='dm', lb=0, vtype = GRB.INTEGER)\n",
    "dp = m.addVars(range(3), name='dp', lb=0, vtype = GRB.INTEGER)\n",
    "#totSlack = m.addVar(name='totSlack')\n",
    "m.update()\n",
    "\n",
    "# Add Constraints\n",
    "c1 = m.addConstr(1*x[0]  + 1*x[1]  + 1*dm[0] - 1*dp[0] == 800)\n",
    "c2 = m.addConstr(5*x[0]            + 1*dm[1] - 1*dp[1] == 2500)\n",
    "c3 = m.addConstr(          3*x[1]  + 1*dm[2] - 1*dp[2] == 1400)\n",
    "\n",
    "# Add Objective Function\n",
    "m.ModelSense = GRB.MINIMIZE\n",
    "m.setObjectiveN(dm[0]+dp[0], index=0, priority=3)\n",
    "m.setObjectiveN(dm[1], index=1, priority=2)\n",
    "m.setObjectiveN(dm[2], index=2, priority=1)\n",
    "m.setObjectiveN(3*dp[1]+5*dp[2], index=3, priority=0)\n",
    "\n",
    "# Optimize Model\n",
    "m.optimize()\n",
    "\n",
    "# Output formatted solution\n",
    "for v in m.getVars():\n",
    "    print(v.varName, v.x)\n",
    "#print('Obj :', m.objVal)"
   ]
  },
  {
   "cell_type": "markdown",
   "metadata": {
    "id": "p8ucQJNVQNRi"
   },
   "source": [
    "## Problem Example: C9Q10\n",
    "Solve the following goal programming model:\n",
    "\\begin{align}\n",
    "&\\text{min}\\\\\n",
    "&\\qquad z=P_1d_1^-,5P_2d_2^-+2P_2d_3^-,P_3d_4^+\\\\\n",
    "&\\text{s.t.}\\\\\n",
    "&\\qquad 8x_1+6x_2+d_1^--d_1^+=480\\\\\n",
    "&\\qquad x_1+d_2^--d_2^+=40\\\\\n",
    "&\\qquad x_2+d_3^--d_3^+=50\\\\\n",
    "&\\qquad d_1^++d_4^--d_4^+=20\\\\\n",
    "&\\qquad x_i,d_j^-,d_j^+ \\ge 0~ \\text{and integer}\\\\\n",
    "\\end{align}  "
   ]
  },
  {
   "cell_type": "code",
   "execution_count": 266,
   "metadata": {
    "colab": {
     "base_uri": "https://localhost:8080/"
    },
    "id": "vuycv7J4yUp4",
    "outputId": "46f74c17-ad94-463c-eaf8-9ac1368ace0d"
   },
   "outputs": [
    {
     "name": "stdout",
     "output_type": "stream",
     "text": [
      "Gurobi Optimizer version 9.5.0 build v9.5.0rc5 (linux64)\n",
      "Thread count: 1 physical cores, 2 logical processors, using up to 2 threads\n",
      "Optimize a model with 4 rows, 10 columns and 13 nonzeros\n",
      "Model fingerprint: 0x30f2088f\n",
      "Variable types: 0 continuous, 10 integer (0 binary)\n",
      "Coefficient statistics:\n",
      "  Matrix range     [1e+00, 8e+00]\n",
      "  Objective range  [1e+00, 5e+00]\n",
      "  Bounds range     [0e+00, 0e+00]\n",
      "  RHS range        [2e+01, 5e+02]\n",
      "\n",
      "---------------------------------------------------------------------------\n",
      "Multi-objectives: starting optimization with 3 objectives ... \n",
      "---------------------------------------------------------------------------\n",
      "\n",
      "Multi-objectives: applying initial presolve ...\n",
      "---------------------------------------------------------------------------\n",
      "\n",
      "Presolve time: 0.00s\n",
      "Presolved: 4 rows and 10 columns\n",
      "---------------------------------------------------------------------------\n",
      "\n",
      "Multi-objectives: optimize objective 1 () ...\n",
      "---------------------------------------------------------------------------\n",
      "\n",
      "Presolve removed 4 rows and 10 columns\n",
      "Presolve time: 0.00s\n",
      "Presolve: All rows and columns removed\n",
      "\n",
      "Explored 0 nodes (0 simplex iterations) in 0.04 seconds (0.00 work units)\n",
      "Thread count was 1 (of 2 available processors)\n",
      "\n",
      "Solution count 1: 0 \n",
      "\n",
      "Optimal solution found (tolerance 1.00e-04)\n",
      "Best objective 0.000000000000e+00, best bound 0.000000000000e+00, gap 0.0000%\n",
      "---------------------------------------------------------------------------\n",
      "\n",
      "Multi-objectives: optimize objective 2 () ...\n",
      "---------------------------------------------------------------------------\n",
      "\n",
      "\n",
      "Loaded user MIP start with objective 100\n",
      "\n",
      "Presolve removed 5 rows and 10 columns\n",
      "Presolve time: 0.00s\n",
      "Presolve: All rows and columns removed\n",
      "\n",
      "Explored 0 nodes (0 simplex iterations) in 0.07 seconds (0.00 work units)\n",
      "Thread count was 1 (of 2 available processors)\n",
      "\n",
      "Solution count 2: 0 100 \n",
      "\n",
      "Optimal solution found (tolerance 1.00e-04)\n",
      "Best objective 0.000000000000e+00, best bound 0.000000000000e+00, gap 0.0000%\n",
      "---------------------------------------------------------------------------\n",
      "\n",
      "Multi-objectives: optimize objective 3 () ...\n",
      "---------------------------------------------------------------------------\n",
      "\n",
      "\n",
      "Loaded user MIP start with objective 120\n",
      "\n",
      "Presolve removed 6 rows and 10 columns\n",
      "Presolve time: 0.00s\n",
      "Presolve: All rows and columns removed\n",
      "\n",
      "Explored 0 nodes (0 simplex iterations) in 0.10 seconds (0.00 work units)\n",
      "Thread count was 1 (of 2 available processors)\n",
      "\n",
      "Solution count 1: 120 \n",
      "\n",
      "Optimal solution found (tolerance 1.00e-04)\n",
      "Best objective 1.200000000000e+02, best bound 1.200000000000e+02, gap 0.0000%\n",
      "\n",
      "---------------------------------------------------------------------------\n",
      "Multi-objectives: solved in 0.11 seconds (0.00 work units), solution count 2\n",
      "\n",
      "x[0] 40.0\n",
      "x[1] 50.0\n",
      "dm[0] 0.0\n",
      "dm[1] -0.0\n",
      "dm[2] -0.0\n",
      "dm[3] 0.0\n",
      "dp[0] 140.0\n",
      "dp[1] 0.0\n",
      "dp[2] 0.0\n",
      "dp[3] 120.0\n"
     ]
    }
   ],
   "source": [
    "from gurobipy import *\n",
    "m = Model('C9Q10')\n",
    "\n",
    "# Add Variables\n",
    "x  = m.addVars(range(2), name='x',  lb=0, vtype = GRB.INTEGER)\n",
    "dm = m.addVars(range(4), name='dm', lb=0, vtype = GRB.INTEGER)\n",
    "dp = m.addVars(range(4), name='dp', lb=0, vtype = GRB.INTEGER)\n",
    "#totSlack = m.addVar(name='totSlack')\n",
    "m.update()\n",
    "\n",
    "# Add Constraints\n",
    "c1 = m.addConstr(8*x[0]  + 6*x[1]  + 1*dm[0] - 1*dp[0] == 480)\n",
    "c2 = m.addConstr(1*x[0]            + 1*dm[1] - 1*dp[1] == 40)\n",
    "c3 = m.addConstr(          1*x[1]  + 1*dm[2] - 1*dp[2] == 50)\n",
    "c4 = m.addConstr(          1*dp[0] + 1*dm[3] - 1*dp[3] == 20)\n",
    "\n",
    "# Add Objective Function\n",
    "m.ModelSense = GRB.MINIMIZE\n",
    "m.setObjectiveN(dm[0], index=0, priority=2)\n",
    "m.setObjectiveN(5*dm[1]+2*dm[2], index=1, priority=1)\n",
    "m.setObjectiveN(dp[3], index=2, priority=0)\n",
    "\n",
    "# Optimize Model\n",
    "m.optimize()\n",
    "\n",
    "# Output formatted solution\n",
    "for v in m.getVars():\n",
    "    print(v.varName, v.x)\n",
    "#print('Obj :', m.objVal)"
   ]
  },
  {
   "cell_type": "markdown",
   "metadata": {
    "id": "08YeDKwMyXqt"
   },
   "source": [
    "# Chapter 6: Nonlinear Programming"
   ]
  },
  {
   "cell_type": "markdown",
   "metadata": {
    "id": "-WI5bf1URlgb"
   },
   "source": [
    "Problems that fit the general linear programming format but contain nonlinear functions are termed nonlinear programming problems.\n",
    "* Solution methods are more complex than linear programming methods.\n",
    "* Determining an optimal solution is often difficult, if not impossible.\n",
    "* Solution techniques generally involve searching a solution surface for high or low points requiring the use of advanced mathematics.\n",
    "\n",
    "* A nonlinear problem containing one or more constraints becomes a constrained optimization model or a nonlinear programming model.\n",
    "* A nonlinear programming model has the same general form as the linear programming model except that the objective function and/or the constraint(s) are nonlinear.\n",
    "* Solution procedures are much more complex and no guaranteed procedure exists for all nonlinear problem models.\n",
    "* Unlike linear programming, the solution is often not on the boundary of the feasible solution space.\n",
    "* Cannot simply look at points on the solution space boundary but must consider other points on the surface of the objective function.\n",
    "* This greatly complicates solution approaches.\n",
    "* Solution techniques can be very complex.\n",
    "\n",
    "\n"
   ]
  },
  {
   "cell_type": "markdown",
   "metadata": {
    "id": "oY2_C-GQSKVX"
   },
   "source": [
    "## Nonlinear problem example: \n",
    "Solve the following nonlinear programming model:\n",
    "\\begin{align}\n",
    "&\\text{max}\\\\\n",
    "&\\qquad z=(4-0.1x_1)x_1+(5-0.2x_2)x_2\\\\\n",
    "&\\text{s.t.}\\\\\n",
    "&\\qquad x_1+2x_2=40\\\\\n",
    "&\\qquad x_i \\ge 0\\\\\n",
    "\\end{align}  "
   ]
  },
  {
   "cell_type": "code",
   "execution_count": 267,
   "metadata": {
    "colab": {
     "base_uri": "https://localhost:8080/"
    },
    "id": "knHs9TpoyYdp",
    "outputId": "c7891d1b-b52b-45de-df17-9aa3559099c7"
   },
   "outputs": [
    {
     "name": "stdout",
     "output_type": "stream",
     "text": [
      "Gurobi Optimizer version 9.5.0 build v9.5.0rc5 (linux64)\n",
      "Thread count: 1 physical cores, 2 logical processors, using up to 2 threads\n",
      "Optimize a model with 1 rows, 2 columns and 2 nonzeros\n",
      "Model fingerprint: 0x34cdafe3\n",
      "Model has 2 quadratic objective terms\n",
      "Coefficient statistics:\n",
      "  Matrix range     [1e+00, 2e+00]\n",
      "  Objective range  [4e+00, 5e+00]\n",
      "  QObjective range [2e-01, 4e-01]\n",
      "  Bounds range     [0e+00, 0e+00]\n",
      "  RHS range        [4e+01, 4e+01]\n",
      "Presolve time: 0.01s\n",
      "Presolved: 1 rows, 2 columns, 2 nonzeros\n",
      "Presolved model has 2 quadratic objective terms\n",
      "Ordering time: 0.00s\n",
      "\n",
      "Barrier statistics:\n",
      " AA' NZ     : 0.000e+00\n",
      " Factor NZ  : 1.000e+00\n",
      " Factor Ops : 1.000e+00 (less than 1 second per iteration)\n",
      " Threads    : 1\n",
      "\n",
      "                  Objective                Residual\n",
      "Iter       Primal          Dual         Primal    Dual     Compl     Time\n",
      "   0  -5.98930000e+05  6.12060000e+05  2.00e+03 0.00e+00  1.01e+06     0s\n",
      "   1   7.00620769e+01  1.96612266e+04  2.00e-03 0.00e+00  9.80e+03     0s\n",
      "   2   7.00738420e+01  9.86563122e+01  9.19e-07 0.00e+00  1.43e+01     0s\n",
      "   3   7.04164770e+01  7.06320152e+01  2.71e-10 0.00e+00  1.08e-01     0s\n",
      "   4   7.04166667e+01  7.04168819e+01  0.00e+00 8.88e-16  1.08e-04     0s\n",
      "   5   7.04166667e+01  7.04166669e+01  0.00e+00 0.00e+00  1.08e-07     0s\n",
      "   6   7.04166667e+01  7.04166667e+01  0.00e+00 8.88e-16  1.08e-10     0s\n",
      "\n",
      "Barrier solved model in 6 iterations and 0.03 seconds (0.00 work units)\n",
      "Optimal objective 7.04166667e+01\n",
      "\n",
      "x1 18.33333333336888\n",
      "x2 10.833333333315561\n",
      "optimal total revenue: 70.41666666666666\n"
     ]
    }
   ],
   "source": [
    "# import gurobi library\n",
    "from gurobipy import * # This command imports the Gurobi functions and classes.\n",
    "\n",
    "# create new model\n",
    "m = Model('Beaver Creek Pottery Company ')\n",
    "x1 = m.addVar(lb = 0, vtype = GRB.CONTINUOUS, name='x1') \n",
    "x2 = m.addVar(lb = 0, vtype = GRB.CONTINUOUS, name='x2')\n",
    "\n",
    "m.setObjective((4-0.1*x1)*x1+(5-0.2*x2)*x2, GRB.MAXIMIZE)\n",
    "m.addConstr(1*x1+2*x2==40, 'const1')\n",
    "\n",
    "m.optimize()\n",
    "\n",
    "#display optimal production plan\n",
    "for v in m.getVars():\n",
    "  print(v.varName, v.x)\n",
    "print('optimal total revenue:', m.objVal)"
   ]
  },
  {
   "cell_type": "markdown",
   "metadata": {
    "id": "CcZEs_tbSk2j"
   },
   "source": [
    "## A Nonlinear Programming Model with Multiple Constraints:\n",
    " \n",
    "Solve the following nonlinear programming model:\n",
    "\\begin{align}\n",
    "&\\text{max}\\\\\n",
    "&\\qquad z=\\left(\\frac{1500-x_1}{24.6}-12\\right)x_1\n",
    "+\\left(\\frac{2700-x_2}{63.8}-9\\right)x_2\\\\\n",
    "&\\text{s.t.}\\\\\n",
    "&\\qquad 2x_1+2.7x_2\\le 6000\\\\\n",
    "&\\qquad 3.6x_1+2.9x_2\\le 8500\\\\\n",
    "&\\qquad 7.2x_1+8.5x_2\\le 15000\\\\\n",
    "&\\qquad x_i \\ge 0\\\\\n",
    "\\end{align} "
   ]
  },
  {
   "cell_type": "code",
   "execution_count": 268,
   "metadata": {
    "colab": {
     "base_uri": "https://localhost:8080/"
    },
    "id": "H6MLLFrqyaUm",
    "outputId": "20e97abf-c00e-4ea1-a1e1-763dcabe5c70"
   },
   "outputs": [
    {
     "name": "stdout",
     "output_type": "stream",
     "text": [
      "Requirement already satisfied: gurobipy in /usr/local/lib/python3.7/dist-packages (9.5.0)\n",
      "Gurobi Optimizer version 9.5.0 build v9.5.0rc5 (linux64)\n",
      "Thread count: 1 physical cores, 2 logical processors, using up to 2 threads\n",
      "Optimize a model with 3 rows, 2 columns and 6 nonzeros\n",
      "Model fingerprint: 0x390c5c3a\n",
      "Model has 2 quadratic objective terms\n",
      "Coefficient statistics:\n",
      "  Matrix range     [2e+00, 8e+00]\n",
      "  Objective range  [3e+01, 5e+01]\n",
      "  QObjective range [3e-02, 8e-02]\n",
      "  Bounds range     [0e+00, 0e+00]\n",
      "  RHS range        [6e+03, 2e+04]\n",
      "Presolve time: 0.01s\n",
      "Presolved: 3 rows, 2 columns, 6 nonzeros\n",
      "Presolved model has 2 quadratic objective terms\n",
      "Ordering time: 0.00s\n",
      "\n",
      "Barrier statistics:\n",
      " AA' NZ     : 3.000e+00\n",
      " Factor NZ  : 6.000e+00\n",
      " Factor Ops : 1.400e+01 (less than 1 second per iteration)\n",
      " Threads    : 1\n",
      "\n",
      "                  Objective                Residual\n",
      "Iter       Primal          Dual         Primal    Dual     Compl     Time\n",
      "   0  -3.51759547e+05  6.37499504e+05  9.27e+02 0.00e+00  1.12e+06     0s\n",
      "   1   2.37322400e+04  6.43047090e+05  0.00e+00 0.00e+00  1.24e+05     0s\n",
      "   2   2.51606709e+04  6.37933000e+04  0.00e+00 0.00e+00  7.73e+03     0s\n",
      "   3   3.20504323e+04  4.25647642e+04  0.00e+00 0.00e+00  2.10e+03     0s\n",
      "   4   3.24417089e+04  3.27645350e+04  0.00e+00 0.00e+00  6.46e+01     0s\n",
      "   5   3.24592168e+04  3.24657001e+04  0.00e+00 1.42e-14  1.30e+00     0s\n",
      "   6   3.24592344e+04  3.24592408e+04  0.00e+00 0.00e+00  1.29e-03     0s\n",
      "   7   3.24592344e+04  3.24592344e+04  0.00e+00 2.84e-14  1.29e-06     0s\n",
      "   8   3.24592344e+04  3.24592344e+04  0.00e+00 0.00e+00  1.29e-09     0s\n",
      "\n",
      "Barrier solved model in 8 iterations and 0.03 seconds (0.00 work units)\n",
      "Optimal objective 3.24592344e+04\n",
      "\n",
      "x1 602.3999999996935\n",
      "x2 1062.8999999990601\n",
      "optimal total revenue: 32459.234379539725\n"
     ]
    }
   ],
   "source": [
    "!pip install gurobipy\n",
    "from gurobipy import * # This command imports the Gurobi functions and classes.\n",
    "\n",
    "# create new model\n",
    "m = Model('Western Clothing Company')\n",
    "x1 = m.addVar(lb = 0, vtype = GRB.CONTINUOUS, name='x1') \n",
    "x2 = m.addVar(lb = 0, vtype = GRB.CONTINUOUS, name='x2')\n",
    "\n",
    "\n",
    "m.setObjective(((1500-x1)/24.6-12)*x1+((2700-x2)/63.8-9)*x2, GRB.MAXIMIZE)\n",
    "m.addConstr(2*x1+2.7*x2<=6000, 'const1')\n",
    "m.addConstr(3.6*x1+2.9*x2<=8500, 'const2')\n",
    "m.addConstr(7.2*x1+8.5*x2<=15000, 'const3')\n",
    "\n",
    "m.optimize()\n",
    "\n",
    "#display optimal production plan\n",
    "for v in m.getVars():\n",
    "  print(v.varName, v.x)\n",
    "print('optimal total revenue:', m.objVal)"
   ]
  },
  {
   "cell_type": "markdown",
   "metadata": {
    "id": "Yi5Y0s46T1am"
   },
   "source": [
    "## Problem Example: C10Q14\n",
    "Solve the following nonlinear programming model:\n",
    "\\begin{align}\n",
    "&\\text{max}\\\\\n",
    "&\\qquad z=\\left(15000-\\frac{9000}{x_1} \\right)\\\\\n",
    "&\\qquad ~~+\\left(24000-\\frac{15000}{x_2} \\right)\\\\\n",
    "&\\qquad ~~+\\left(8100-\\frac{5300}{x_3} \\right)\\\\\n",
    "&\\qquad ~~+\\left(12000-\\frac{7600}{x_4} \\right)\\\\\n",
    "&\\qquad ~~+\\left(21000-\\frac{12500}{x_4} \\right)\\\\\n",
    "&\\text{s.t.}\\\\\n",
    "&\\qquad x_1+x_2+x_3+x_4+x_5 \\le 15\\\\\n",
    "&\\qquad 355x_1+540x_2+290x_3+275x_4+490x_5 \\le 6500\\\\\n",
    "&\\qquad x_i \\ge 0,~\\text{and integer}\\\\\n",
    "\\end{align} "
   ]
  },
  {
   "cell_type": "code",
   "execution_count": 269,
   "metadata": {
    "colab": {
     "base_uri": "https://localhost:8080/"
    },
    "id": "O0hc5us9ykdE",
    "outputId": "9b759d45-5033-4a1a-f894-ed6e2ac436eb"
   },
   "outputs": [
    {
     "name": "stdout",
     "output_type": "stream",
     "text": [
      "Set parameter NonConvex to value 2\n",
      "Gurobi Optimizer version 9.5.0 build v9.5.0rc5 (linux64)\n",
      "Thread count: 1 physical cores, 2 logical processors, using up to 2 threads\n",
      "Optimize a model with 2 rows, 10 columns and 10 nonzeros\n",
      "Model fingerprint: 0xb4d06825\n",
      "Model has 5 quadratic constraints\n",
      "Variable types: 5 continuous, 5 integer (0 binary)\n",
      "Coefficient statistics:\n",
      "  Matrix range     [1e+00, 5e+02]\n",
      "  QMatrix range    [1e+00, 1e+00]\n",
      "  Objective range  [5e+03, 2e+04]\n",
      "  Bounds range     [1e+00, 1e+00]\n",
      "  RHS range        [2e+01, 6e+03]\n",
      "  QRHS range       [1e+00, 1e+00]\n",
      "Presolve time: 0.00s\n",
      "Presolved: 22 rows, 10 columns, 50 nonzeros\n",
      "Presolved model has 5 bilinear constraint(s)\n",
      "Variable types: 5 continuous, 5 integer (0 binary)\n",
      "\n",
      "Root relaxation: objective 7.218908e+04, 7 iterations, 0.00 seconds (0.00 work units)\n",
      "\n",
      "    Nodes    |    Current Node    |     Objective Bounds      |     Work\n",
      " Expl Unexpl |  Obj  Depth IntInf | Incumbent    BestBd   Gap | It/Node Time\n",
      "\n",
      "     0     0 72189.0780    0   10          - 72189.0780      -     -    0s\n",
      "H    0     0                    60400.000000 72189.0780  19.5%     -    0s\n",
      "     0     0 71744.9856    0   10 60400.0000 71744.9856  18.8%     -    0s\n",
      "     0     0 71058.7908    0    5 60400.0000 71058.7908  17.6%     -    0s\n",
      "H    0     0                    63633.333333 71058.7908  11.7%     -    0s\n",
      "     0     0 69577.4266    0   10 63633.3333 69577.4266  9.34%     -    0s\n",
      "     0     0 69393.2479    0    5 63633.3333 69393.2479  9.05%     -    0s\n",
      "     0     0 69352.0957    0    5 63633.3333 69352.0957  8.99%     -    0s\n",
      "H    0     0                    63791.666667 69352.0957  8.72%     -    0s\n",
      "     0     2 69352.0957    0    5 63791.6667 69352.0957  8.72%     -    0s\n",
      "H   22    10                    64000.000000 67922.9290  6.13%   2.4    0s\n",
      "\n",
      "Cutting planes:\n",
      "  MIR: 6\n",
      "  RLT: 6\n",
      "\n",
      "Explored 70 nodes (193 simplex iterations) in 0.08 seconds (0.00 work units)\n",
      "Thread count was 2 (of 2 available processors)\n",
      "\n",
      "Solution count 4: 64000 63791.7 63633.3 60400 \n",
      "\n",
      "Optimal solution found (tolerance 1.00e-04)\n",
      "Best objective 6.400000000000e+04, best bound 6.400000000000e+04, gap 0.0000%\n",
      "x[0] 3.0\n",
      "x[1] 4.0\n",
      "x[2] 2.0\n",
      "x[3] 3.0\n",
      "x[4] 3.0\n",
      "u[0] 0.3333333333333333\n",
      "u[1] 0.25\n",
      "u[2] 0.5\n",
      "u[3] 0.3333333333333333\n",
      "u[4] 0.3333333333333333\n",
      "optimal total revenue: 64000.0\n"
     ]
    }
   ],
   "source": [
    "from gurobipy import * \n",
    "import numpy as np\n",
    "\n",
    "m = Model('C10Q14')\n",
    "m.params.NonConvex = 2\n",
    "\n",
    "x  = m.addVars(range(5), name='x',  lb=1, vtype = GRB.INTEGER)\n",
    "u  = m.addVars(range(5), name='u',  lb=0, vtype = GRB.CONTINUOUS)\n",
    "\n",
    "m.setObjective((15000 -9000*u[0])+(24000-15000*u[1])+\n",
    "               (8100  -5300*u[2])+(12000 -7600*u[3])+\n",
    "               (21000-12500*u[4]), GRB.MAXIMIZE)\n",
    "m.addConstr(x[0]+x[1]+x[2]+x[3]+x[4]<=15, 'const1')\n",
    "m.addConstr(355*x[0]+540*x[1]+290*x[2]+275*x[3]+490*x[4]<=6500, 'const2')\n",
    "\n",
    "m.addConstrs((x[i]*u[i] == 1 for i in range(5)), name='bilinear')\n",
    "\n",
    "m.optimize()\n",
    "\n",
    "for v in m.getVars():\n",
    "  print(v.varName, v.x)\n",
    "print('optimal total revenue:', m.objVal)"
   ]
  },
  {
   "cell_type": "markdown",
   "metadata": {
    "id": "_KtjCLNyTUhK"
   },
   "source": [
    "## Facility Location Problem Example: C10Q19\n",
    "Solve the following nonlinear programming model:\n",
    "\\begin{align}\n",
    "&\\text{min}\\\\\n",
    "&\\qquad z=7000\\sqrt{(1000-x)^2+(1250-y)^2}\\\\\n",
    "&\\qquad ~~+9000\\sqrt{(1500-x)^2+(2700-y)^2}\\\\\n",
    "&\\qquad ~+11500\\sqrt{(2000-x)^2+(700-y)^2}\\\\\n",
    "&\\qquad ~~+4300\\sqrt{(2200-x)^2+(2000-y)^2}\\\\\n",
    "\\\\\n",
    "&\\text{s.t.}\\\\\n",
    "&\\qquad x, y \\ge 0\\\\\n",
    "\\end{align} "
   ]
  },
  {
   "cell_type": "code",
   "execution_count": 270,
   "metadata": {
    "colab": {
     "base_uri": "https://localhost:8080/"
    },
    "id": "1FcPYspJycrJ",
    "outputId": "da76a5a4-4dc6-4718-f410-fa462a7d6307"
   },
   "outputs": [
    {
     "name": "stdout",
     "output_type": "stream",
     "text": [
      "Set parameter NonConvex to value 2\n",
      "Gurobi Optimizer version 9.5.0 build v9.5.0rc5 (linux64)\n",
      "Thread count: 1 physical cores, 2 logical processors, using up to 2 threads\n",
      "Optimize a model with 0 rows, 10 columns and 0 nonzeros\n",
      "Model fingerprint: 0x087228d7\n",
      "Model has 8 quadratic constraints\n",
      "Coefficient statistics:\n",
      "  Matrix range     [0e+00, 0e+00]\n",
      "  QMatrix range    [1e+00, 1e+00]\n",
      "  QLMatrix range   [1e+00, 5e+03]\n",
      "  Objective range  [4e+03, 1e+04]\n",
      "  Bounds range     [0e+00, 0e+00]\n",
      "  RHS range        [0e+00, 0e+00]\n",
      "  QRHS range       [3e+06, 1e+07]\n",
      "\n",
      "Continuous model is non-convex -- solving as a MIP\n",
      "\n",
      "Presolve time: 0.00s\n",
      "Presolved: 22 rows, 13 columns, 50 nonzeros\n",
      "Presolved model has 6 bilinear constraint(s)\n",
      "Variable types: 13 continuous, 0 integer (0 binary)\n",
      "\n",
      "Root relaxation: objective 0.000000e+00, 5 iterations, 0.00 seconds (0.00 work units)\n",
      "\n",
      "    Nodes    |    Current Node    |     Objective Bounds      |     Work\n",
      " Expl Unexpl |  Obj  Depth IntInf | Incumbent    BestBd   Gap | It/Node Time\n",
      "\n",
      "     0     0    0.00000    0    4          -    0.00000      -     -    0s\n",
      "     0     0    0.00000    0    4          -    0.00000      -     -    0s\n",
      "H    0     0                    3.188442e+07    0.00000   100%     -    0s\n",
      "     0     2 2955947.12    0    3 3.1884e+07 2955947.12  90.7%     -    0s\n",
      "H   38    28                    2.904697e+07 2955947.12  89.8%   1.6    0s\n",
      "H   99    51                    2.902868e+07 2955947.12  89.8%   1.2    0s\n",
      "H  194    56                    2.901548e+07 8429605.93  70.9%   1.3    0s\n",
      "*  781   107              54    2.896174e+07 2.4402e+07  15.7%   1.0    0s\n",
      "* 1880   137              67    2.895822e+07 2.5464e+07  12.1%   1.0    0s\n",
      "* 2608   121              66    2.894775e+07 2.8321e+07  2.17%   1.0    0s\n",
      "* 2742   110              54    2.894588e+07 2.8500e+07  1.54%   1.0    0s\n",
      "* 2866   113              62    2.894464e+07 2.8670e+07  0.95%   1.0    0s\n",
      "* 3078   107              66    2.894464e+07 2.8858e+07  0.30%   1.0    0s\n",
      "* 3079   105              66    2.894464e+07 2.8858e+07  0.30%   1.0    0s\n",
      "\n",
      "Explored 3536 nodes (3724 simplex iterations) in 0.41 seconds (0.04 work units)\n",
      "Thread count was 2 (of 2 available processors)\n",
      "\n",
      "Solution count 10: 2.89446e+07 2.89446e+07 2.89446e+07 ... 2.9047e+07\n",
      "\n",
      "Optimal solution found (tolerance 1.00e-04)\n",
      "Best objective 2.894463512888e+07, best bound 2.894174284308e+07, gap 0.0100%\n",
      "x[0] 1656.4309778346258\n",
      "x[1] 1415.4868451162663\n",
      "u[0] 458287.5245674583\n",
      "u[1] 1674444.6958956604\n",
      "u[2] 629961.0985260992\n",
      "u[3] 637122.9100899571\n",
      "v[0] 676.9693675251503\n",
      "v[1] 1294.003360078937\n",
      "v[2] 793.7008873156619\n",
      "v[3] 798.1997933411493\n",
      "optimal total revenue: 28944635.12888354\n"
     ]
    }
   ],
   "source": [
    "import gurobipy as gp\n",
    "from gurobipy import GRB\n",
    "\n",
    "# create new model\n",
    "m = gp.Model('C10Q19')\n",
    "m.params.NonConvex = 2\n",
    "\n",
    "x  = m.addVars(range(2), name='x',  lb=0, vtype = GRB.CONTINUOUS)\n",
    "u  = m.addVars(range(4), name='u',   vtype = GRB.CONTINUOUS)\n",
    "v  = m.addVars(range(4), name='v',   vtype = GRB.CONTINUOUS)\n",
    "\n",
    "m.setObjective(7000*v[0]+9000*v[1]+11500*v[2]+4300*v[3], GRB.MINIMIZE)\n",
    "m.addConstr( (x[0]-1000)*(x[0]-1000)+(x[1]-1250)*(x[1]-1250) == u[0])\n",
    "m.addConstr( (x[0]-1500)*(x[0]-1500)+(x[1]-2700)*(x[1]-2700) == u[1])\n",
    "m.addConstr( (x[0]-2000)*(x[0]-2000)+(x[1]-700) *(x[1]-700)  == u[2])\n",
    "m.addConstr( (x[0]-2200)*(x[0]-2200)+(x[1]-2000)*(x[1]-2000) == u[3])\n",
    "\n",
    "m.addConstrs((u[i] == v[i]*v[i] for i in range(4)), name='v_squared')\n",
    "\n",
    "m.optimize()\n",
    "\n",
    "#display optimal production plan\n",
    "for w in m.getVars():\n",
    "  print(w.varName, w.x)\n",
    "print('optimal total revenue:', m.objVal)"
   ]
  },
  {
   "cell_type": "code",
   "execution_count": 271,
   "metadata": {
    "colab": {
     "base_uri": "https://localhost:8080/"
    },
    "id": "qyWW5oXAt_aD",
    "outputId": "02ad868d-b155-4b9b-9785-dd6b15de1bf8"
   },
   "outputs": [
    {
     "name": "stdout",
     "output_type": "stream",
     "text": [
      "1658.8 1416.7 28944633.637902677\n",
      "1665.4 1562.9 29101303.298960045\n"
     ]
    }
   ],
   "source": [
    "import numpy as np\n",
    "x=1658.8;y=1416.7;\n",
    "d=7000*np.sqrt((x-1000)**2+(y-1250)**2)+\\\n",
    "9000*np.sqrt((x-1500)**2+(y-2700)**2)+\\\n",
    "11500*np.sqrt((x-2000)**2+(y-700)**2)+\\\n",
    "4300*np.sqrt((x-2200)**2+(y-2000)**2)\n",
    "print(x,y,d)\n",
    "\n",
    "x=1665.4;y=1562.9;\n",
    "d=7000*np.sqrt((x-1000)**2+(y-1250)**2)+\\\n",
    "9000*np.sqrt((x-1500)**2+(y-2700)**2)+\\\n",
    "11500*np.sqrt((x-2000)**2+(y-700)**2)+\\\n",
    "4300*np.sqrt((x-2200)**2+(y-2000)**2)\n",
    "print(x,y,d)\n"
   ]
  },
  {
   "cell_type": "markdown",
   "metadata": {
    "id": "Du3kTUQMBxE5"
   },
   "source": [
    "# Chapter 7: Probability and Statistics"
   ]
  },
  {
   "cell_type": "markdown",
   "metadata": {
    "id": "XD1_dherH4qN"
   },
   "source": [
    "##Basic Probability Theory\n",
    "\n",
    "**Deterministic** techniques assume that no uncertainty exists in model parameters. Previous topics assumed no uncertainty or variation to the specified paramaters.\n",
    "**Probabilistic** techniques on the other side include uncertainty and assume that there can be more than one model solution or variation in the parameter values. Also, there may be some doubt about which outcome will occur.\n"
   ]
  },
  {
   "cell_type": "markdown",
   "metadata": {
    "id": "DeNeVhI4HcYP"
   },
   "source": [
    "##Bayesian analysis"
   ]
  },
  {
   "cell_type": "markdown",
   "metadata": {
    "id": "6P2NoWwPHtPy"
   },
   "source": [
    "##Probability Distributions"
   ]
  },
  {
   "cell_type": "markdown",
   "metadata": {
    "id": "BMRhTic2HtX_"
   },
   "source": [
    "##Chi-Square Test "
   ]
  },
  {
   "cell_type": "markdown",
   "metadata": {
    "id": "cQkFfKyQHtfr"
   },
   "source": []
  },
  {
   "cell_type": "markdown",
   "metadata": {
    "id": "BjaaQzbvcQyR"
   },
   "source": [
    "##Problem Example: C11Q5"
   ]
  },
  {
   "cell_type": "code",
   "execution_count": 272,
   "metadata": {
    "colab": {
     "base_uri": "https://localhost:8080/"
    },
    "id": "juS_WSxTblHv",
    "outputId": "4831fd6c-2653-4da2-aa8c-abf8ee42d86b"
   },
   "outputs": [
    {
     "data": {
      "text/plain": [
       "(0.9568255047155366, 0.04317449528446338)"
      ]
     },
     "execution_count": 272,
     "metadata": {},
     "output_type": "execute_result"
    }
   ],
   "source": [
    "from scipy.stats import binom\n",
    "binom.cdf(k=4, n=20, p=.1), 1-binom.cdf(k=4, n=20, p=.1)"
   ]
  },
  {
   "cell_type": "markdown",
   "metadata": {
    "id": "xULG-hzzc6p-"
   },
   "source": [
    "## Problem Example: C11Q8"
   ]
  },
  {
   "cell_type": "code",
   "execution_count": 273,
   "metadata": {
    "colab": {
     "base_uri": "https://localhost:8080/"
    },
    "id": "PdS3HiY3b4Ul",
    "outputId": "04709493-bc09-42d0-a497-7d64d897b114"
   },
   "outputs": [
    {
     "data": {
      "text/plain": [
       "0.14803199999999994"
      ]
     },
     "execution_count": 273,
     "metadata": {},
     "output_type": "execute_result"
    }
   ],
   "source": [
    "1-binom.cdf(k=2, n=7, p=.2)"
   ]
  },
  {
   "cell_type": "code",
   "execution_count": 273,
   "metadata": {
    "id": "yl7o-6f_dFaI"
   },
   "outputs": [],
   "source": []
  }
 ],
 "metadata": {
  "colab": {
   "collapsed_sections": [],
   "name": "Introduction to Operation Research using Python",
   "provenance": []
  },
  "kernelspec": {
   "display_name": "Python 3",
   "language": "python",
   "name": "python3"
  },
  "language_info": {
   "codemirror_mode": {
    "name": "ipython",
    "version": 3
   },
   "file_extension": ".py",
   "mimetype": "text/x-python",
   "name": "python",
   "nbconvert_exporter": "python",
   "pygments_lexer": "ipython3",
   "version": "3.7.6"
  }
 },
 "nbformat": 4,
 "nbformat_minor": 0
}