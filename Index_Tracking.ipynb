{
  "cells": [
    {
      "cell_type": "markdown",
      "metadata": {
        "id": "e220f96e-71d4-423a-ab8e-e42a2ddabe3f"
      },
      "source": [
        "# Index Tracking with Gurobi\n",
        "\n",
        "This python notebook is part of webinar presented by [Finor's](www.finor.tech) team and [Gurobi](www.gurobi.com) and will show two examples of solving an index tracking problem using Gurobi.\n",
        "\n",
        "The code will:\n",
        "\n",
        "1. Install all requirements to run the code\n",
        "1. Import data from yahoo finance for a N number of stocks for index SP100\n",
        "1. Clean the data:\n",
        "  - Filter tickers with low number of observations;\n",
        "  - Calculate returns and reformat to wide (dates as rows, tickers as columns).\n",
        "  - Separate the data intro training (used for optimization) and testing (used for analyzing results).\n",
        "3. Set up the optimization problem using gurobi and solve it:\n",
        "  - Unconstrained model\n",
        "  - Asset constrained model\n",
        "4. Analyze results in testing data\n",
        "\n",
        "The following extra resources are available:\n",
        "\n",
        "* Link video (TBD)"
      ],
      "id": "e220f96e-71d4-423a-ab8e-e42a2ddabe3f"
    },
    {
      "cell_type": "markdown",
      "metadata": {
        "id": "z4wIfjbedJMA"
      },
      "source": [
        "## Setting up enviroment"
      ],
      "id": "z4wIfjbedJMA"
    },
    {
      "cell_type": "code",
      "execution_count": null,
      "metadata": {
        "colab": {
          "base_uri": "https://localhost:8080/"
        },
        "id": "ccce808b-90c9-4f1d-ae95-110002cc2a1e",
        "outputId": "30726f7f-6879-4694-9200-2b61673c369b"
      },
      "outputs": [
        {
          "output_type": "stream",
          "name": "stdout",
          "text": [
            "Collecting gurobipy\n",
            "  Downloading gurobipy-9.5.1-cp37-cp37m-manylinux2014_x86_64.whl (11.5 MB)\n",
            "\u001b[K     |████████████████████████████████| 11.5 MB 4.8 MB/s \n",
            "\u001b[?25hRequirement already satisfied: pandas in /usr/local/lib/python3.7/dist-packages (1.3.5)\n",
            "Requirement already satisfied: numpy in /usr/local/lib/python3.7/dist-packages (1.21.5)\n",
            "Requirement already satisfied: scipy in /usr/local/lib/python3.7/dist-packages (1.4.1)\n",
            "Requirement already satisfied: pyarrow in /usr/local/lib/python3.7/dist-packages (6.0.1)\n",
            "Collecting fastparquet\n",
            "  Downloading fastparquet-0.8.0-cp37-cp37m-manylinux2010_x86_64.whl (1.4 MB)\n",
            "\u001b[K     |████████████████████████████████| 1.4 MB 40.9 MB/s \n",
            "\u001b[?25hCollecting yfinance\n",
            "  Downloading yfinance-0.1.70-py2.py3-none-any.whl (26 kB)\n",
            "Requirement already satisfied: sklearn in /usr/local/lib/python3.7/dist-packages (0.0)\n",
            "Requirement already satisfied: matplotlib in /usr/local/lib/python3.7/dist-packages (3.2.2)\n",
            "Collecting sktime\n",
            "  Downloading sktime-0.10.1-py3-none-any.whl (6.5 MB)\n",
            "\u001b[K     |████████████████████████████████| 6.5 MB 20.5 MB/s \n",
            "\u001b[?25hRequirement already satisfied: python-dateutil>=2.7.3 in /usr/local/lib/python3.7/dist-packages (from pandas) (2.8.2)\n",
            "Requirement already satisfied: pytz>=2017.3 in /usr/local/lib/python3.7/dist-packages (from pandas) (2018.9)\n",
            "Requirement already satisfied: six>=1.5 in /usr/local/lib/python3.7/dist-packages (from python-dateutil>=2.7.3->pandas) (1.15.0)\n",
            "Collecting cramjam>=2.3.0\n",
            "  Downloading cramjam-2.5.0-cp37-cp37m-manylinux_2_5_x86_64.manylinux1_x86_64.whl (1.6 MB)\n",
            "\u001b[K     |████████████████████████████████| 1.6 MB 43.0 MB/s \n",
            "\u001b[?25hCollecting fsspec\n",
            "  Downloading fsspec-2022.2.0-py3-none-any.whl (134 kB)\n",
            "\u001b[K     |████████████████████████████████| 134 kB 51.6 MB/s \n",
            "\u001b[?25hCollecting requests>=2.26\n",
            "  Downloading requests-2.27.1-py2.py3-none-any.whl (63 kB)\n",
            "\u001b[K     |████████████████████████████████| 63 kB 1.5 MB/s \n",
            "\u001b[?25hRequirement already satisfied: multitasking>=0.0.7 in /usr/local/lib/python3.7/dist-packages (from yfinance) (0.0.10)\n",
            "Collecting lxml>=4.5.1\n",
            "  Downloading lxml-4.8.0-cp37-cp37m-manylinux_2_17_x86_64.manylinux2014_x86_64.manylinux_2_24_x86_64.whl (6.4 MB)\n",
            "\u001b[K     |████████████████████████████████| 6.4 MB 48.7 MB/s \n",
            "\u001b[?25hRequirement already satisfied: idna<4,>=2.5 in /usr/local/lib/python3.7/dist-packages (from requests>=2.26->yfinance) (2.10)\n",
            "Requirement already satisfied: certifi>=2017.4.17 in /usr/local/lib/python3.7/dist-packages (from requests>=2.26->yfinance) (2021.10.8)\n",
            "Requirement already satisfied: charset-normalizer~=2.0.0 in /usr/local/lib/python3.7/dist-packages (from requests>=2.26->yfinance) (2.0.12)\n",
            "Requirement already satisfied: urllib3<1.27,>=1.21.1 in /usr/local/lib/python3.7/dist-packages (from requests>=2.26->yfinance) (1.24.3)\n",
            "Requirement already satisfied: scikit-learn in /usr/local/lib/python3.7/dist-packages (from sklearn) (1.0.2)\n",
            "Requirement already satisfied: kiwisolver>=1.0.1 in /usr/local/lib/python3.7/dist-packages (from matplotlib) (1.3.2)\n",
            "Requirement already satisfied: cycler>=0.10 in /usr/local/lib/python3.7/dist-packages (from matplotlib) (0.11.0)\n",
            "Requirement already satisfied: pyparsing!=2.0.4,!=2.1.2,!=2.1.6,>=2.0.1 in /usr/local/lib/python3.7/dist-packages (from matplotlib) (3.0.7)\n",
            "Collecting numba>=0.53\n",
            "  Downloading numba-0.55.1-1-cp37-cp37m-manylinux2014_x86_64.manylinux_2_17_x86_64.whl (3.3 MB)\n",
            "\u001b[K     |████████████████████████████████| 3.3 MB 9.8 MB/s \n",
            "\u001b[?25hCollecting deprecated>=1.2.13\n",
            "  Downloading Deprecated-1.2.13-py2.py3-none-any.whl (9.6 kB)\n",
            "Collecting statsmodels>=0.12.1\n",
            "  Downloading statsmodels-0.13.2-cp37-cp37m-manylinux_2_17_x86_64.manylinux2014_x86_64.whl (9.8 MB)\n",
            "\u001b[K     |████████████████████████████████| 9.8 MB 41.1 MB/s \n",
            "\u001b[?25hRequirement already satisfied: wrapt<2,>=1.10 in /usr/local/lib/python3.7/dist-packages (from deprecated>=1.2.13->sktime) (1.13.3)\n",
            "Requirement already satisfied: setuptools in /usr/local/lib/python3.7/dist-packages (from numba>=0.53->sktime) (57.4.0)\n",
            "Collecting llvmlite<0.39,>=0.38.0rc1\n",
            "  Downloading llvmlite-0.38.0-cp37-cp37m-manylinux_2_17_x86_64.manylinux2014_x86_64.whl (34.5 MB)\n",
            "\u001b[K     |████████████████████████████████| 34.5 MB 10 kB/s \n",
            "\u001b[?25hRequirement already satisfied: threadpoolctl>=2.0.0 in /usr/local/lib/python3.7/dist-packages (from scikit-learn->sklearn) (3.1.0)\n",
            "Requirement already satisfied: joblib>=0.11 in /usr/local/lib/python3.7/dist-packages (from scikit-learn->sklearn) (1.1.0)\n",
            "Requirement already satisfied: packaging>=21.3 in /usr/local/lib/python3.7/dist-packages (from statsmodels>=0.12.1->sktime) (21.3)\n",
            "Requirement already satisfied: patsy>=0.5.2 in /usr/local/lib/python3.7/dist-packages (from statsmodels>=0.12.1->sktime) (0.5.2)\n",
            "Installing collected packages: llvmlite, statsmodels, requests, numba, lxml, fsspec, deprecated, cramjam, yfinance, sktime, gurobipy, fastparquet\n",
            "  Attempting uninstall: llvmlite\n",
            "    Found existing installation: llvmlite 0.34.0\n",
            "    Uninstalling llvmlite-0.34.0:\n",
            "      Successfully uninstalled llvmlite-0.34.0\n",
            "  Attempting uninstall: statsmodels\n",
            "    Found existing installation: statsmodels 0.10.2\n",
            "    Uninstalling statsmodels-0.10.2:\n",
            "      Successfully uninstalled statsmodels-0.10.2\n",
            "  Attempting uninstall: requests\n",
            "    Found existing installation: requests 2.23.0\n",
            "    Uninstalling requests-2.23.0:\n",
            "      Successfully uninstalled requests-2.23.0\n",
            "  Attempting uninstall: numba\n",
            "    Found existing installation: numba 0.51.2\n",
            "    Uninstalling numba-0.51.2:\n",
            "      Successfully uninstalled numba-0.51.2\n",
            "  Attempting uninstall: lxml\n",
            "    Found existing installation: lxml 4.2.6\n",
            "    Uninstalling lxml-4.2.6:\n",
            "      Successfully uninstalled lxml-4.2.6\n",
            "\u001b[31mERROR: pip's dependency resolver does not currently take into account all the packages that are installed. This behaviour is the source of the following dependency conflicts.\n",
            "google-colab 1.0.0 requires requests~=2.23.0, but you have requests 2.27.1 which is incompatible.\n",
            "datascience 0.10.6 requires folium==0.2.1, but you have folium 0.8.3 which is incompatible.\u001b[0m\n",
            "Successfully installed cramjam-2.5.0 deprecated-1.2.13 fastparquet-0.8.0 fsspec-2022.2.0 gurobipy-9.5.1 llvmlite-0.38.0 lxml-4.8.0 numba-0.55.1 requests-2.27.1 sktime-0.10.1 statsmodels-0.13.2 yfinance-0.1.70\n"
          ]
        }
      ],
      "source": [
        "# code requirements (install python modules)\n",
        "!pip install gurobipy pandas numpy scipy pyarrow fastparquet yfinance sklearn matplotlib sktime"
      ],
      "id": "ccce808b-90c9-4f1d-ae95-110002cc2a1e"
    },
    {
      "cell_type": "markdown",
      "metadata": {
        "id": "9b9ff5bc-99e7-40ca-b7d8-fa567f100c7f"
      },
      "source": [
        "## Unconstrained Index Tracking\n",
        "\n",
        "$\n",
        "\\begin{align}\n",
        "& \\mbox{Minimize} \\; \\frac{1}{T} \\; \\sum_{t = 1}^{T} \\left[\\sum_{i = 1}^{I} \\; w_{i} \\: \\times \\: r_{t,i} - R_{t}\\right]^2  \\\\\n",
        "& \\mbox{Subject to:} \\\\\n",
        "& \\sum_{i = 1}^{I} w_{i} = 1  \\\\\n",
        "& w_i \\geq 0 \\\\\n",
        "\\end{align}\n",
        "$\n",
        "\n",
        "**Where**\n",
        "\n",
        "$\n",
        "\\begin{align}\n",
        "T &: \\text{Number of time periods} \\\\\n",
        "I &: \\text{Number of assets} \\\\\n",
        "w_i  &: \\text{Weight of asset i in index} \\\\\n",
        "R_{t} &: \\text{Returns of tracked index (e.g. SP100) at time t} \\\\\n",
        "r_{t,i} &: \\text{Return of asset i at time t}\n",
        "\\end{align}\n",
        "$"
      ],
      "id": "9b9ff5bc-99e7-40ca-b7d8-fa567f100c7f"
    },
    {
      "cell_type": "markdown",
      "metadata": {
        "id": "rI2P9SPhYRNk"
      },
      "source": [
        "### Import raw price data from YahooFinance\n"
      ],
      "id": "rI2P9SPhYRNk"
    },
    {
      "cell_type": "code",
      "execution_count": null,
      "metadata": {
        "colab": {
          "base_uri": "https://localhost:8080/"
        },
        "id": "61f15803-1ff5-4008-b5be-d673c8b06964",
        "outputId": "4df02a12-7846-4945-9d19-079ed20b632d"
      },
      "outputs": [
        {
          "output_type": "stream",
          "name": "stdout",
          "text": [
            "COP \tFDX \tGS \tKO \tTMO \tHON \t              Adj Close  ticker\n",
            "Date                           \n",
            "2015-01-02    43.846748     MRK\n",
            "2015-01-05    44.498436     MRK\n",
            "2015-01-06    46.246479     MRK\n",
            "2015-01-07    47.235497     MRK\n",
            "2015-01-08    48.186192     MRK\n",
            "...                 ...     ...\n",
            "2021-12-27  2212.570068  ^SP100\n",
            "2021-12-28  2209.010010  ^SP100\n",
            "2021-12-29  2210.100098  ^SP100\n",
            "2021-12-30  2203.330078  ^SP100\n",
            "2021-12-31  2194.580078  ^SP100\n",
            "\n",
            "[54653 rows x 2 columns]\n",
            "['MRK', 'PFE', 'MA', 'F', 'MET', 'ABBV', 'COP', 'FDX', 'RTX', 'SO', 'PM', 'MS', 'GS', 'KO', 'CRM', 'TSLA', 'EMR', 'DD', 'BLK', 'BAC', 'LIN', 'GD', 'CHTR', 'ACN', 'TMO', 'HON', 'GE', 'UNH', 'AMGN', 'QCOM']\n"
          ]
        }
      ],
      "source": [
        "import pandas as pd\n",
        "import numpy as np\n",
        "from random import sample, seed\n",
        "\n",
        "seed(20220223) # seed for reproducibility\n",
        "\n",
        "mkt_index = \"^SP100\"  # index used in data\n",
        "n_assets = 30         # number of assets to sample (full data n_assets = 97)\n",
        "first_date = \"2015-01-01\"\n",
        "last_date = \"2022-01-01\"\n",
        "\n",
        "available_tickers = ['AAPL', 'ABBV', 'ABT', 'ACN', 'ADBE', 'AIG', 'AMGN', 'AMT', 'AMZN',\n",
        "       'AVGO', 'AXP', 'BA', 'BAC', 'BIIB', 'BK', 'BKNG', 'BLK', 'BMY', 'C',\n",
        "       'CAT', 'CHTR', 'CL', 'CMCSA', 'COF', 'COP', 'COST', 'CRM', 'CSCO',\n",
        "       'CVS', 'CVX', 'DD', 'DHR', 'DIS', 'DUK', 'EMR', 'EXC', 'F', 'FB', 'FDX',\n",
        "       'GD', 'GE', 'GILD', 'GM', 'GOOG', 'GOOGL', 'GS', 'HD', 'HON', 'IBM',\n",
        "       'INTC', 'JNJ', 'JPM', 'KO', 'LIN', 'LLY', 'LMT', 'LOW', 'MA', 'MCD',\n",
        "       'MDLZ', 'MDT', 'MET', 'MMM', 'MO', 'MRK', 'MS', 'MSFT', 'NEE', 'NFLX',\n",
        "       'NKE', 'NVDA', 'ORCL', 'PEP', 'PFE', 'PG', 'PM', 'QCOM', 'RTX', 'SBUX',\n",
        "       'SO', 'SPG', 'T', 'TGT', 'TMO', 'TMUS', 'TSLA', 'TXN', 'UNH', 'UNP',\n",
        "       'UPS', 'USB', 'V', 'VZ', 'WBA', 'WFC', 'WMT', 'XOM']\n",
        "\n",
        "# select n_assets tickers       \n",
        "sampled_tickers = sample(available_tickers, n_assets)\n",
        "tickers_to_fetch = sampled_tickers + [mkt_index]\n",
        "\n",
        "# fetch data from yfinance\n",
        "import yfinance as yf\n",
        "import pandas as pd\n",
        "from multiprocessing import Pool\n",
        "from itertools import repeat\n",
        "\n",
        "def get_yf_data(tickers, \n",
        "                first_date, \n",
        "                last_date,\n",
        "                n_threads = 1):\n",
        "    \"\"\"Fetches YF data for a group of tickers\n",
        "    \n",
        "    Parameters\n",
        "    ----------\n",
        "    tickers: str\n",
        "        A vector of tickers to fetch data (see yf site <https://finance.yahoo.com/> for more details).\n",
        "\n",
        "    first_date: str \n",
        "        First date to fetch data. Use ISO format YYYY-MM-DD.\n",
        "\n",
        "    last_date: str\n",
        "        Last date to fetch data. Use ISO format YYYY-MM-DD.\n",
        "\n",
        "    n_threads: int\n",
        "        Number of threads to use in parallel processing.\n",
        "\n",
        "    Returns\n",
        "    -------\n",
        "    pandas.DataFrame\n",
        "        A dataframe with prices in the long format with two columns (Adjusted prices and ticker).\n",
        "\n",
        "    \n",
        "    \"\"\"\n",
        "\n",
        "    # fetch data with multiprocessing\n",
        "    with Pool(n_threads) as p:\n",
        "            \n",
        "        l_prices = p.starmap(get_single_ticker, \n",
        "                             zip(tickers, \n",
        "                                 repeat(first_date), \n",
        "                                 repeat(last_date)))\n",
        "\n",
        "    # combine all dataframes into a single dataframe\n",
        "    df_prices = pd.concat(l_prices)\n",
        "    \n",
        "    # only keep price, date and ticker\n",
        "    df_prices = df_prices[[\"Adj Close\", \"ticker\"]]\n",
        "    \n",
        "    return df_prices\n",
        "\n",
        "\n",
        "def get_single_ticker(ticker, first_date, last_date):\n",
        "    \"\"\"Fetch yahoo finance stock data for input ticker \n",
        "    \n",
        "    Parameters\n",
        "    ----------\n",
        "        ticker: str\n",
        "            ticker symbol (e.g. \"MSFT\").\n",
        "        first_date: str\n",
        "            the first date to fecth data in the YYYY-MM-DD format.\n",
        "        last_date: str\n",
        "            the first date to fecth data in the YYYY-MM-DD format.\n",
        "            \n",
        "        \n",
        "    Returns\n",
        "    -------\n",
        "    pandas.DataFrame\n",
        "        A pandas dataframe with prices of a single ticker.\n",
        "\n",
        "    \"\"\"\n",
        "    print(f\"{ticker} \", end = \"\\t\")\n",
        "    \n",
        "    data = yf.download(ticker, \n",
        "                       start = first_date,\n",
        "                       end = last_date,                        \n",
        "                       group_by=\"Ticker\", \n",
        "                       progress = False)\n",
        "    \n",
        "    #print(f\" [{data.shape[0]}]\", end = \"\\t\")\n",
        "    \n",
        "    data['ticker'] = ticker\n",
        "    \n",
        "    return data\n",
        "\n",
        "\n",
        "df_prices = get_yf_data(tickers_to_fetch, \n",
        "                first_date, \n",
        "                last_date,\n",
        "                n_threads = 5)\n",
        "\n",
        "print(df_prices)\n",
        "\n",
        "print(sampled_tickers)\n"
      ],
      "id": "61f15803-1ff5-4008-b5be-d673c8b06964"
    },
    {
      "cell_type": "markdown",
      "metadata": {
        "id": "xOkkvnQ-8piB"
      },
      "source": [
        "### Clean prices"
      ],
      "id": "xOkkvnQ-8piB"
    },
    {
      "cell_type": "code",
      "execution_count": null,
      "metadata": {
        "colab": {
          "base_uri": "https://localhost:8080/"
        },
        "id": "58YpheBp8tQ6",
        "outputId": "417d6e69-54de-460c-9bef-683a28b48be0"
      },
      "outputs": [
        {
          "output_type": "stream",
          "name": "stdout",
          "text": [
            "Size original: (54653, 2)\n",
            "Size reduced: (54653, 2)\n",
            "ticker            GE       MRK       BAC  ...       EMR      CHTR       COP\n",
            "Date                                      ...                              \n",
            "2015-01-05 -0.018356  0.014863 -0.029050  ... -0.020554 -0.035631 -0.047592\n",
            "2015-01-06 -0.021545  0.039283 -0.029919  ... -0.001652 -0.026106 -0.041286\n",
            "2015-01-07  0.000416  0.021386  0.004745  ... -0.002151  0.003071  0.006674\n",
            "2015-01-08  0.012043  0.020127  0.020661  ...  0.026206  0.039225  0.024941\n",
            "2015-01-09 -0.013951 -0.004614 -0.017930  ... -0.015678 -0.005892 -0.000154\n",
            "...              ...       ...       ...  ...       ...       ...       ...\n",
            "2021-12-27  0.006596  0.011092  0.004953  ...  0.009750  0.006247  0.028375\n",
            "2021-12-28  0.007187  0.003134  0.001344  ...  0.007812  0.005273 -0.001229\n",
            "2021-12-29 -0.005352  0.001823 -0.001566  ...  0.000646  0.000747 -0.002735\n",
            "2021-12-30 -0.000950  0.002469 -0.002241  ... -0.003120  0.001447 -0.008777\n",
            "2021-12-31 -0.002429 -0.006482 -0.000898  ...  0.003346 -0.008003  0.001387\n",
            "\n",
            "[1762 rows x 30 columns]\n"
          ]
        }
      ],
      "source": [
        "def clean_data(df_prices, \n",
        "               mkt_symbol,\n",
        "               thresh_valid_data = 0.95,\n",
        "               size_train = 0.75):\n",
        "  \"\"\"Clean stock price data, removing tickers with low ammount of observations.\n",
        "    \n",
        "  Parameters\n",
        "  ----------\n",
        "    df_prices : pandas.DataFrame\n",
        "        A dataframe with prices in the long format\n",
        "    \n",
        "    mkt_symbol : str\n",
        "        The symbol for the market index (e.g. \"^GSPC\" or \"^SP100\").\n",
        "        \n",
        "    thresh_valid_data: float\n",
        "        A threshold value (percentage) for keeping tickers with valid date (e.g 0.95).\n",
        "\n",
        "    size_train: float\n",
        "        Size in percentage of train piece of data.\n",
        "\n",
        "  Returns\n",
        "  -------\n",
        "    pandas.DataFrame \n",
        "      A dataframe with all returns data in the long format.\n",
        "\n",
        "    pandas.DataFrame \n",
        "      A Dataframe with training data.\n",
        "\n",
        "    pandas.DataFrame \n",
        "      A Dataframe with testing data.\n",
        "  \"\"\"\n",
        "  \n",
        "  # Remove tickers with low data volume\n",
        "  df_sp500 = df_prices.query(\"ticker == @mkt_symbol\")\n",
        "\n",
        "  rows_sp500 = df_sp500.shape[0]\n",
        "  threshold_rows = rows_sp500*thresh_valid_data\n",
        "\n",
        "  ticker_count = df_prices[\"ticker\"].value_counts()\n",
        "\n",
        "  valid_tickers = ticker_count[ticker_count >= threshold_rows].index\n",
        "\n",
        "  idx = df_prices[\"ticker\"].isin(valid_tickers)\n",
        "\n",
        "  df_prices_cleaned = df_prices[idx]\n",
        "\n",
        "  print(f\"Size original: {df_prices.shape}\")\n",
        "  print(f\"Size reduced: {df_prices_cleaned.shape}\")\n",
        "\n",
        "  # change to wide table\n",
        "  df_prices_pivot = df_prices_cleaned.pivot(\n",
        "      columns='ticker', \n",
        "      values='Adj Close'\n",
        "      )\n",
        "\n",
        "  # drop all NAs\n",
        "  df_prices_pivot.dropna(inplace= True)\n",
        "\n",
        "  # calculate returns\n",
        "  df_ret = df_prices_pivot.pct_change().dropna()\n",
        "\n",
        "  n_obs = df_ret.shape[0]\n",
        "  ref_dates = df_ret.index\n",
        "  cut_point = int(n_obs*size_train)\n",
        "  cut_date = ref_dates[cut_point]\n",
        "\n",
        "  df_train = df_ret[df_ret.index < cut_date]\n",
        "  df_test = df_ret[df_ret.index >= cut_date]\n",
        "    \n",
        "  return df_ret, df_train, df_test\n",
        "\n",
        "# get train and test dataframes\n",
        "r_it, r_train, r_test = clean_data(df_prices, \n",
        "               mkt_index,\n",
        "               thresh_valid_data = 0.95,\n",
        "               size_train = 0.85)\n",
        "\n",
        "r_mkt = r_it[mkt_index]\n",
        "\n",
        "r_it = r_it.drop(mkt_index, axis=1)\n",
        "r_train = r_train.drop(mkt_index, axis=1)\n",
        "r_test  = r_test.drop(mkt_index, axis=1)\n",
        "r_mkt_train = r_mkt[r_train.index]\n",
        "r_mkt_test = r_mkt[r_test.index]\n",
        "\n",
        "# sample N tickers\n",
        "sampled_tickers = sample(\n",
        "    list(r_it.columns),\n",
        "    n_assets\n",
        "    )\n",
        "\n",
        "r_it = r_it[sampled_tickers]\n",
        "\n",
        "print(r_it)"
      ],
      "id": "58YpheBp8tQ6"
    },
    {
      "cell_type": "markdown",
      "metadata": {
        "id": "7a033a00-9402-4833-8782-aa31a36f76ad"
      },
      "source": [
        "### Setup opt problem"
      ],
      "id": "7a033a00-9402-4833-8782-aa31a36f76ad"
    },
    {
      "cell_type": "code",
      "execution_count": null,
      "metadata": {
        "id": "cac2d632-8e73-4ccd-82f6-064c0f932e3f",
        "colab": {
          "base_uri": "https://localhost:8080/"
        },
        "outputId": "693534d5-1f35-4d81-e6bc-27fd10db21d6"
      },
      "outputs": [
        {
          "output_type": "stream",
          "name": "stdout",
          "text": [
            "Restricted license - for non-production use only - expires 2023-10-25\n",
            "\n",
            "Opt problem is set and ready to optimize\n"
          ]
        }
      ],
      "source": [
        "import gurobipy as gp\n",
        "\n",
        "# Create an empty model and set name\n",
        "m_unc = gp.Model('unconstrained_model')\n",
        "\n",
        "# PARAMETERS \n",
        "# w_i: the i_th stock gets a weight w_i\n",
        "w = pd.Series(m_unc.addVars(sampled_tickers, \n",
        "                         lb = 0,\n",
        "                         ub = 1,\n",
        "                         vtype = gp.GRB.CONTINUOUS), \n",
        "               index=sampled_tickers)\n",
        "\n",
        "# CONSTRAINTS\n",
        "# sum(w_i) = 1: portfolio budget constrain (long only)\n",
        "m_unc.addConstr(w.sum() == 1, 'port_budget')\n",
        "\n",
        "# SET OBJ FUNCTION\n",
        "# eps_t = R_{t,i}*w - R_{M,t}\n",
        "my_error = r_train.dot(w) - r_mkt_train\n",
        "\n",
        "# set objective function\n",
        "m_unc.setObjective(\n",
        "    gp.quicksum(my_error.pow(2)), \n",
        "    gp.GRB.MINIMIZE)     \n",
        "\n",
        "# set options (see <https://www.gurobi.com/documentation/9.5/refman/parameters.html#sec:Parameters>)\n",
        "m_unc.setParam('OutputFlag', 0)\n",
        "\n",
        "print(\"\\nOpt problem is set and ready to optimize\")\n"
      ],
      "id": "cac2d632-8e73-4ccd-82f6-064c0f932e3f"
    },
    {
      "cell_type": "markdown",
      "metadata": {
        "id": "XLJsn8W0YZcJ"
      },
      "source": [
        "### Solve it!"
      ],
      "id": "XLJsn8W0YZcJ"
    },
    {
      "cell_type": "code",
      "execution_count": null,
      "metadata": {
        "colab": {
          "base_uri": "https://localhost:8080/"
        },
        "id": "1sBuRZWZYbUy",
        "outputId": "f89e46c2-c8da-4a7c-9645-1fb327a14091"
      },
      "outputs": [
        {
          "output_type": "stream",
          "name": "stdout",
          "text": [
            "Solution:\n",
            "GE:\t 0.74%\n",
            "MRK:\t 2.85%\n",
            "BAC:\t 1.15%\n",
            "SO:\t 3.97%\n",
            "LIN:\t 2.90%\n",
            "HON:\t 1.71%\n",
            "PFE:\t 5.37%\n",
            "KO:\t 7.19%\n",
            "F:\t 0.00%\n",
            "UNH:\t 4.84%\n",
            "ABBV:\t 1.47%\n",
            "QCOM:\t 5.19%\n",
            "BLK:\t 3.15%\n",
            "RTX:\t 0.00%\n",
            "ACN:\t 8.27%\n",
            "DD:\t 2.01%\n",
            "TMO:\t 6.55%\n",
            "AMGN:\t 6.03%\n",
            "MS:\t 0.00%\n",
            "MA:\t 8.50%\n",
            "TSLA:\t 1.43%\n",
            "CRM:\t 5.55%\n",
            "MET:\t 0.00%\n",
            "PM:\t 4.03%\n",
            "GS:\t 7.07%\n",
            "FDX:\t 3.46%\n",
            "GD:\t 0.29%\n",
            "EMR:\t 0.00%\n",
            "CHTR:\t 4.38%\n",
            "COP:\t 1.93%\n",
            "\n",
            "checking constraints:\n",
            "sum(w) = 1.0000000000000027\n",
            "\n",
            "Opt Results:\n",
            "Status=2\n",
            "RunTime=0.021876096725463867\n"
          ]
        }
      ],
      "source": [
        "# solve it!\n",
        "m_unc.optimize()\n",
        "\n",
        "w_hat_unc  = [i.X for i in m_unc.getVars()]\n",
        "\n",
        "status = m_unc.getAttr(\"Status\")\n",
        "runtime = m_unc.getAttr(\"RunTime\")\n",
        "\n",
        "print(f\"Solution:\") \n",
        "\n",
        "for i, i_ticker in enumerate(sampled_tickers):\n",
        "    print(f\"{i_ticker}:\\t {w_hat_unc[i]*100:.2f}%\")\n",
        "\n",
        "# check constraints\n",
        "print(f\"\\nchecking constraints:\")\n",
        "print(f\"sum(w) = {np.sum(w_hat_unc)}\")\n",
        "\n",
        "print(f\"\\nOpt Results:\")\n",
        "print(f\"Status={status}\")\n",
        "print(f\"RunTime={runtime}\")"
      ],
      "id": "1sBuRZWZYbUy"
    },
    {
      "cell_type": "markdown",
      "metadata": {
        "id": "VT-mQGF9ZPkJ"
      },
      "source": [
        "### Results"
      ],
      "id": "VT-mQGF9ZPkJ"
    },
    {
      "cell_type": "code",
      "execution_count": null,
      "metadata": {
        "colab": {
          "base_uri": "https://localhost:8080/",
          "height": 313
        },
        "id": "4045ebc9-b04d-4b54-a888-041c4e4b8092",
        "outputId": "bb339373-5698-49b4-a102-01b4027169d8"
      },
      "outputs": [
        {
          "output_type": "display_data",
          "data": {
            "image/png": "[encoded data removed]",
            "text/plain": [
              "<Figure size 432x288 with 1 Axes>"
            ]
          },
          "metadata": {
            "needs_background": "light"
          }
        }
      ],
      "source": [
        "# check out of sample plot\n",
        "import matplotlib.pyplot as plt\n",
        "\n",
        "def plot_index(w_hat, r_test, r_mkt_test, \n",
        "               title, etf_label):\n",
        "  \n",
        "  r_hat = r_test[sampled_tickers].dot(w_hat)\n",
        "\n",
        "  cumret_r = np.cumprod(1+ r_hat)\n",
        "  cumret_mkt = np.cumprod(1+ r_mkt_test)\n",
        "\n",
        "  fig, ax = plt.subplots()\n",
        "  ax.plot(cumret_mkt.index,\n",
        "          cumret_mkt, \n",
        "        label = mkt_index)\n",
        "\n",
        "  ax.plot(cumret_r.index,\n",
        "          cumret_r,\n",
        "        label = etf_label)\n",
        "\n",
        "  ax.legend()\n",
        "  ax.set_title(title)\n",
        "  ax.set_xlabel('')\n",
        "  ax.set_ylabel('Cumulative Returns')\n",
        "\n",
        "  plt.xticks(rotation = 90)\n",
        "\n",
        "  plt.show()\n",
        "\n",
        "plot_index(w_hat_unc, r_test, r_mkt_test,\n",
        "           f'ETF and {mkt_index} - Unconstrained Model',\n",
        "           f\"ETF ({n_assets} assets)\")"
      ],
      "id": "4045ebc9-b04d-4b54-a888-041c4e4b8092"
    },
    {
      "cell_type": "markdown",
      "metadata": {
        "id": "e3239ca8-ea6d-40e5-854f-a21bd517c7c1"
      },
      "source": [
        "## Asset constrained index tracking\n",
        "\n",
        "$\n",
        "\\begin{align}\n",
        "& \\mbox{Minimize} \\; \\frac{1}{T} \\; \\sum_{t = 1}^{T} \\left(\\sum_{i = 1}^{I} \\; w_{i} \\: \\times \\: r_{t,i} - R_{t}\\right)^2 \\\\\n",
        "& \\mbox{Subject to:} \\nonumber \\\\\n",
        "& \\sum_{i = 1}^{I} w_{i} = 1  \\\\\n",
        "& \\sum_{i = 1}^{I} z_{i} \\leq K  \\\\\n",
        "& w_i \\geq 0  \\\\\n",
        "& w_i \\leq z_i  \\\\\n",
        "& \\sum _i ^I z_i \\leq K \\\\\n",
        "& z_i \\in {0, 1} \n",
        "\\end{align}\n",
        "$\n",
        "\n",
        "Where\n",
        "\n",
        "$\n",
        "\\begin{align}\n",
        "w_i  &: \\text{Weight of asset i in index} \\\\\n",
        "z_i &: \\text{Binary variable (0, 1) that decides wheter asset i is in the  portfolio} \\\\\n",
        "K &: \\text{Maximum number of assets to choose} \\\\\n",
        "R_{t} &: \\text{Returns of tracked index (e.g. SP500) at time t} \\\\\n",
        "r_{t,i} &: \\text{Return of asset i at time t}\n",
        "\\end{align}\n",
        "$"
      ],
      "id": "e3239ca8-ea6d-40e5-854f-a21bd517c7c1"
    },
    {
      "cell_type": "markdown",
      "metadata": {
        "id": "yNa0_V4YZnd0"
      },
      "source": [
        "### Set opt problem"
      ],
      "id": "yNa0_V4YZnd0"
    },
    {
      "cell_type": "code",
      "execution_count": null,
      "metadata": {
        "colab": {
          "base_uri": "https://localhost:8080/"
        },
        "id": "40631468-36d9-41aa-a684-6f103a95340b",
        "outputId": "13afdd87-88ae-47a0-889b-31aa521706dd"
      },
      "outputs": [
        {
          "output_type": "stream",
          "name": "stdout",
          "text": [
            "Set parameter TimeLimit to value 300\n",
            "Set parameter BranchDir to value 1\n",
            "Set parameter Heuristics to value 0\n",
            "Set parameter MIPFocus to value 2\n",
            "Set parameter GomoryPasses to value 0\n",
            "\tOpt problem is set and ready to optimize\n"
          ]
        }
      ],
      "source": [
        "# Create an empty model\n",
        "m_const = gp.Model('asset_contrained_model')\n",
        "\n",
        "# PARAMETERS \n",
        "\n",
        "K = 10 # max number of assets in portfolio\n",
        "\n",
        "# w_i: the i_th stock gets a weight w_i\n",
        "w = pd.Series(m_const.addVars(sampled_tickers, \n",
        "                         lb = 0,\n",
        "                         ub = 1,\n",
        "                         vtype = gp.GRB.CONTINUOUS), \n",
        "               index=sampled_tickers)\n",
        "\n",
        "# [NEW] z_i: the i_th stock gets a binary z_i\n",
        "z = pd.Series(m_const.addVars(sampled_tickers,\n",
        "                        vtype = gp.GRB.BINARY),\n",
        "                index=sampled_tickers)\n",
        "\n",
        "# CONSTRAINTS\n",
        "\n",
        "# sum(w_i) = 1: portfolio budget constrain (long only)\n",
        "m_const.addConstr(w.sum() == 1, 'port_budget')\n",
        "\n",
        "# [NEW]  w_i <= z_i: restrictions of values of w_i so take it chose particular tickers\n",
        "for i_ticker in sampled_tickers:\n",
        "    m_const.addConstr(w[i_ticker] <= z[i_ticker], \n",
        "                f'dummy_restriction_{i_ticker}')\n",
        "\n",
        "# [NEW] sum(z_i) <= max_assets: number of assets constraint\n",
        "m_const.addConstr(z.sum() <= K, 'max_assets_restriction')\n",
        "\n",
        "# eps_t = R_{i,t}*w - R_{M,t}\n",
        "my_error = r_it.dot(w) - r_mkt\n",
        "\n",
        "# set objective function\n",
        "m_const.setObjective(\n",
        "    gp.quicksum(my_error.pow(2)), \n",
        "    gp.GRB.MINIMIZE)     \n",
        "\n",
        "# Set options \n",
        "m_const.setParam('OutputFlag', 1)\n",
        "m_const.setParam('TimeLimit', 60*5) # in secs\n",
        "m_const.setParam('BranchDir', 1)\n",
        "m_const.setParam('Heuristics', 0)\n",
        "m_const.setParam('MIPFocus', 2)\n",
        "m_const.setParam('GomoryPasses', 0)\n",
        "\n",
        "print(\"\\tOpt problem is set and ready to optimize\")"
      ],
      "id": "40631468-36d9-41aa-a684-6f103a95340b"
    },
    {
      "cell_type": "markdown",
      "metadata": {
        "id": "0R0z7WFNZuJC"
      },
      "source": [
        "### Solve it!"
      ],
      "id": "0R0z7WFNZuJC"
    },
    {
      "cell_type": "code",
      "execution_count": null,
      "metadata": {
        "colab": {
          "base_uri": "https://localhost:8080/"
        },
        "id": "vhhnrr6mZxuy",
        "outputId": "a81bd095-e2de-4f58-86c2-460e87601aea"
      },
      "outputs": [
        {
          "output_type": "stream",
          "name": "stdout",
          "text": [
            "Gurobi Optimizer version 9.5.1 build v9.5.1rc2 (linux64)\n",
            "Thread count: 1 physical cores, 2 logical processors, using up to 2 threads\n",
            "Optimize a model with 32 rows, 60 columns and 120 nonzeros\n",
            "Model fingerprint: 0x6699c33b\n",
            "Model has 465 quadratic objective terms\n",
            "Variable types: 30 continuous, 30 integer (30 binary)\n",
            "Coefficient statistics:\n",
            "  Matrix range     [1e+00, 1e+00]\n",
            "  Objective range  [3e-01, 6e-01]\n",
            "  QObjective range [3e-01, 4e+00]\n",
            "  Bounds range     [1e+00, 1e+00]\n",
            "  RHS range        [1e+00, 1e+01]\n",
            "Presolve time: 0.00s\n",
            "Presolved: 32 rows, 60 columns, 120 nonzeros\n",
            "Presolved model has 465 quadratic objective terms\n",
            "Variable types: 30 continuous, 30 integer (30 binary)\n",
            "Root relaxation presolve removed 31 rows and 30 columns\n",
            "Root relaxation presolved: 1 rows, 30 columns, 30 nonzeros\n",
            "Root relaxation presolved model has 465 quadratic objective terms\n",
            "\n",
            "\n",
            "Root relaxation: objective 1.846833e-02, 31 iterations, 0.01 seconds (0.00 work units)\n",
            "\n",
            "    Nodes    |    Current Node    |     Objective Bounds      |     Work\n",
            " Expl Unexpl |  Obj  Depth IntInf | Incumbent    BestBd   Gap | It/Node Time\n",
            "\n",
            "     0     0    0.01847    0   26          -    0.01847      -     -    0s\n",
            "     0     0    0.01847    0   26          -    0.01847      -     -    0s\n",
            "     0     2    0.01847    0   26          -    0.01847      -     -    0s\n",
            "*   10    10              10       0.0243380    0.01882  22.7%   4.8    0s\n",
            "*   12    10              11       0.0239928    0.01903  20.7%   5.8    0s\n",
            "\n",
            "Explored 18874 nodes (52209 simplex iterations) in 2.61 seconds (2.09 work units)\n",
            "Thread count was 2 (of 2 available processors)\n",
            "\n",
            "Solution count 2: 0.0239928 0.024338 \n",
            "\n",
            "Optimal solution found (tolerance 1.00e-04)\n",
            "Best objective 2.399281106138e-02, best bound 2.399062029288e-02, gap 0.0091%\n",
            "\n",
            "\n",
            "Solution for w and z:\n",
            "GE:\t w_i = 0.00%\tz_i = 0.0\n",
            "MRK:\t w_i = 0.00%\tz_i = -0.0\n",
            "BAC:\t w_i = 0.00%\tz_i = 0.0\n",
            "SO:\t w_i = 0.00%\tz_i = -0.0\n",
            "LIN:\t w_i = 0.00%\tz_i = 0.0\n",
            "HON:\t w_i = 0.00%\tz_i = -0.0\n",
            "PFE:\t w_i = 0.00%\tz_i = -0.0\n",
            "KO:\t w_i = 18.35%\tz_i = 1.0\n",
            "F:\t w_i = 0.00%\tz_i = 0.0\n",
            "UNH:\t w_i = 7.74%\tz_i = 1.0\n",
            "ABBV:\t w_i = 0.00%\tz_i = 0.0\n",
            "QCOM:\t w_i = 7.56%\tz_i = 1.0\n",
            "BLK:\t w_i = 0.00%\tz_i = 0.0\n",
            "RTX:\t w_i = 0.00%\tz_i = 0.0\n",
            "ACN:\t w_i = 11.75%\tz_i = 1.0\n",
            "DD:\t w_i = 0.00%\tz_i = 0.0\n",
            "TMO:\t w_i = 9.21%\tz_i = 1.0\n",
            "AMGN:\t w_i = 9.88%\tz_i = 1.0\n",
            "MS:\t w_i = 0.00%\tz_i = 0.0\n",
            "MA:\t w_i = 9.73%\tz_i = 1.0\n",
            "TSLA:\t w_i = 0.00%\tz_i = 0.0\n",
            "CRM:\t w_i = 6.77%\tz_i = 1.0\n",
            "MET:\t w_i = 0.00%\tz_i = 0.0\n",
            "PM:\t w_i = 0.00%\tz_i = -0.0\n",
            "GS:\t w_i = 13.41%\tz_i = 1.0\n",
            "FDX:\t w_i = 0.00%\tz_i = 0.0\n",
            "GD:\t w_i = 0.00%\tz_i = -0.0\n",
            "EMR:\t w_i = 0.00%\tz_i = 0.0\n",
            "CHTR:\t w_i = 5.61%\tz_i = 1.0\n",
            "COP:\t w_i = 0.00%\tz_i = 0.0\n",
            "\n",
            "checking constraints:\n",
            "sum(w) = 1.0\n",
            "sum(z) = 10.0\n",
            "(w_i <= z_i) : [ True  True  True  True  True  True  True  True  True  True  True  True\n",
            "  True  True  True  True  True  True  True  True  True  True  True  True\n",
            "  True  True  True  True  True  True]\n",
            "MIPGap=9.13093715060043e-05\n",
            "Status=2\n",
            "RunTime=2.623784065246582\n",
            "\n"
          ]
        }
      ],
      "source": [
        "# solve it!\n",
        "m_const.optimize()\n",
        "\n",
        "# fetch param vector\n",
        "params = [i.X for i in m_const.getVars()]\n",
        "\n",
        "# get all variables\n",
        "n_assets = len(sampled_tickers)\n",
        "w_hat_const = params[0:n_assets]\n",
        "z_hat_const = params[n_assets:]\n",
        "MIPGap = m_const.getAttr('MIPGap')\n",
        "status = m_const.getAttr(\"Status\")\n",
        "runtime = m_const.getAttr(\"RunTime\")\n",
        "\n",
        "print(f\"\\n\\nSolution for w and z:\") \n",
        "\n",
        "for i, i_ticker in enumerate(sampled_tickers):\n",
        "    print(f\"{i_ticker}:\\t w_i = {w_hat_const[i]*100:00.2f}%\\tz_i = {z_hat_const[i]}\")\n",
        "\n",
        "# check constraints\n",
        "print(f\"\\nchecking constraints:\")\n",
        "print(f\"sum(w) = {np.sum(w_hat_const)}\")\n",
        "print(f\"sum(z) = {np.sum(z_hat_const)}\")\n",
        "print(f\"(w_i <= z_i) : {np.array(w_hat_const) <= np.array(z_hat_const)}\")\n",
        "print(f\"MIPGap={MIPGap}\")\n",
        "print(f\"Status={status}\")\n",
        "print(f\"RunTime={runtime}\")\n",
        "\n",
        "\n",
        "print()"
      ],
      "id": "vhhnrr6mZxuy"
    },
    {
      "cell_type": "markdown",
      "metadata": {
        "id": "gAsApiJUbGrE"
      },
      "source": [
        "### Results"
      ],
      "id": "gAsApiJUbGrE"
    },
    {
      "cell_type": "code",
      "execution_count": null,
      "metadata": {
        "id": "97b2516a-14c9-436b-a6b9-9dfb973ea0b8",
        "colab": {
          "base_uri": "https://localhost:8080/",
          "height": 313
        },
        "outputId": "1867bcec-0056-4211-aeac-6fbe7f876b33"
      },
      "outputs": [
        {
          "output_type": "display_data",
          "data": {
            "image/png": "[encoded data removed]",
            "text/plain": [
              "<Figure size 432x288 with 1 Axes>"
            ]
          },
          "metadata": {
            "needs_background": "light"
          }
        }
      ],
      "source": [
        "# check out of sample plot\n",
        "import matplotlib.pyplot as plt\n",
        "\n",
        "plot_index(w_hat_const, r_test, r_mkt_test,\n",
        "           f\"ETF {mkt_index} - Asset Contrained Model (k={K})\",\n",
        "           f\"ETF ({K} assets)\")"
      ],
      "id": "97b2516a-14c9-436b-a6b9-9dfb973ea0b8"
    },
    {
      "cell_type": "markdown",
      "metadata": {
        "id": "QsZUN7mcEVPb"
      },
      "source": [
        "## Compare Results"
      ],
      "id": "QsZUN7mcEVPb"
    },
    {
      "cell_type": "code",
      "execution_count": null,
      "metadata": {
        "id": "eAHPu0acEYM8",
        "colab": {
          "base_uri": "https://localhost:8080/",
          "height": 521
        },
        "outputId": "ae1e5302-ddff-4538-dc25-26d48c3a2475"
      },
      "outputs": [
        {
          "output_type": "stream",
          "name": "stdout",
          "text": [
            "Tracking Errors:\n",
            "\tUnconstrained Model (30 assets):\t0.413%\n",
            "\tAsset Constrained Model (10 assets):\t0.427%\n",
            "Max Error:\n",
            "\tUnconstrained Model (30 assets):\t2.181%\n",
            "\tAsset Constrained Model (10 assets):\t2.245%\n",
            "Min Error:\n",
            "\tUnconstrained Model (30 assets):\t-1.182%\n",
            "\tAsset Constrained Model (10 assets):\t-1.260%\n",
            "\n",
            "\n",
            "\n"
          ]
        },
        {
          "output_type": "display_data",
          "data": {
            "image/png": "[encoded data removed]",
            "text/plain": [
              "<Figure size 432x288 with 1 Axes>"
            ]
          },
          "metadata": {
            "needs_background": "light"
          }
        }
      ],
      "source": [
        "r_hat_const = r_test[sampled_tickers].dot(w_hat_const)\n",
        "r_hat_unc =   r_test[sampled_tickers].dot(w_hat_unc)\n",
        "\n",
        "error_const = r_hat_const - r_mkt_test\n",
        "error_unc   = r_hat_unc - r_mkt_test\n",
        "\n",
        "cumret_r_const = np.cumprod(1+ r_hat_const)\n",
        "cumret_r_unc = np.cumprod(1+ r_hat_unc)\n",
        "cumret_mkt = np.cumprod(1+ r_mkt_test)\n",
        "\n",
        "fig, ax = plt.subplots()\n",
        "ax.plot(cumret_mkt.index,\n",
        "        cumret_mkt, \n",
        "        label = mkt_index)\n",
        "\n",
        "ax.plot(cumret_r_unc.index,\n",
        "        cumret_r_unc,\n",
        "        label = f\"Unconstrained Model ({n_assets})\")\n",
        "\n",
        "ax.plot(cumret_r_const.index,\n",
        "        cumret_r_const,\n",
        "        label = f\"Asset Constrained Model ({K} assets)\")\n",
        "\n",
        "ax.legend()\n",
        "ax.set_title(\"Comparing Results\")\n",
        "ax.set_xlabel('')\n",
        "ax.set_ylabel('Cumulative Returns')\n",
        "plt.xticks(rotation = 90)\n",
        "\n",
        "print(\"Tracking Errors:\")\n",
        "print(f\"\\tUnconstrained Model ({n_assets} assets):\\t{error_unc.std()*100:.3f}%\")\n",
        "print(f\"\\tAsset Constrained Model ({K} assets):\\t{error_const.std()*100:.3f}%\")\n",
        "\n",
        "print(\"Max Error:\")\n",
        "print(f\"\\tUnconstrained Model ({n_assets} assets):\\t{error_unc.max()*100:.3f}%\")\n",
        "print(f\"\\tAsset Constrained Model ({K} assets):\\t{error_const.max()*100:.3f}%\")\n",
        "\n",
        "print(\"Min Error:\")\n",
        "print(f\"\\tUnconstrained Model ({n_assets} assets):\\t{error_unc.min()*100:.3f}%\")\n",
        "print(f\"\\tAsset Constrained Model ({K} assets):\\t{error_const.min()*100:.3f}%\")\n",
        "\n",
        "print(\"\\n\\n\")"
      ],
      "id": "eAHPu0acEYM8"
    },
    {
      "cell_type": "code",
      "source": [
        ""
      ],
      "metadata": {
        "id": "wTdVqyznc1HG"
      },
      "id": "wTdVqyznc1HG",
      "execution_count": null,
      "outputs": []
    }
  ],
  "metadata": {
    "colab": {
      "collapsed_sections": [],
      "name": "20220222-Notebook-Finor | Gurobi-Webinar.ipynb",
      "provenance": []
    },
    "kernelspec": {
      "display_name": "Python 3 (ipykernel)",
      "language": "python",
      "name": "python3"
    },
    "language_info": {
      "codemirror_mode": {
        "name": "ipython",
        "version": 3
      },
      "file_extension": ".py",
      "mimetype": "text/x-python",
      "name": "python",
      "nbconvert_exporter": "python",
      "pygments_lexer": "ipython3",
      "version": "3.10.2"
    }
  },
  "nbformat": 4,
  "nbformat_minor": 5
}