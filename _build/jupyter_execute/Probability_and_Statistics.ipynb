{
 "cells": [
  {
   "cell_type": "markdown",
   "metadata": {
    "id": "Du3kTUQMBxE5"
   },
   "source": [
    "# Probability and Statistics\n",
    "\n",
    "[Colab notebook](https://colab.research.google.com/drive/1yJNn_Ms18S4FB2y-NOyMFlc3SZERbgLO?usp=sharing)"
   ]
  },
  {
   "cell_type": "markdown",
   "metadata": {
    "id": "XD1_dherH4qN"
   },
   "source": [
    "##Basic Probability Theory\n",
    "\n",
    "**Deterministic** techniques assume that no uncertainty exists in model parameters. Previous topics assumed no uncertainty or variation to the specified paramaters.\n",
    "**Probabilistic** techniques on the other side include uncertainty and assume that there can be more than one model solution or variation in the parameter values. Also, there may be some doubt about which outcome will occur.\n"
   ]
  },
  {
   "cell_type": "markdown",
   "metadata": {
    "id": "DeNeVhI4HcYP"
   },
   "source": [
    "##Bayesian analysis"
   ]
  },
  {
   "cell_type": "markdown",
   "metadata": {
    "id": "6P2NoWwPHtPy"
   },
   "source": [
    "##Probability Distributions"
   ]
  },
  {
   "cell_type": "markdown",
   "metadata": {
    "id": "BMRhTic2HtX_"
   },
   "source": [
    "##Chi-Square Test "
   ]
  },
  {
   "cell_type": "markdown",
   "metadata": {
    "id": "cQkFfKyQHtfr"
   },
   "source": []
  },
  {
   "cell_type": "markdown",
   "metadata": {
    "id": "BjaaQzbvcQyR"
   },
   "source": [
    "##Problem Example: C11Q5"
   ]
  },
  {
   "cell_type": "code",
   "execution_count": 1,
   "metadata": {
    "colab": {
     "base_uri": "https://localhost:8080/"
    },
    "id": "juS_WSxTblHv",
    "outputId": "e559529d-77a3-4d9f-e2ba-4fb528047251"
   },
   "outputs": [
    {
     "data": {
      "text/plain": [
       "(0.9568255047155366, 0.04317449528446338)"
      ]
     },
     "execution_count": 1,
     "metadata": {},
     "output_type": "execute_result"
    }
   ],
   "source": [
    "from scipy.stats import binom\n",
    "binom.cdf(k=4, n=20, p=.1), 1-binom.cdf(k=4, n=20, p=.1)"
   ]
  },
  {
   "cell_type": "markdown",
   "metadata": {
    "id": "xULG-hzzc6p-"
   },
   "source": [
    "## Problem Example: C11Q8"
   ]
  },
  {
   "cell_type": "code",
   "execution_count": 2,
   "metadata": {
    "colab": {
     "base_uri": "https://localhost:8080/"
    },
    "id": "PdS3HiY3b4Ul",
    "outputId": "6bf623f6-abc6-4140-ad24-e6491621ac63"
   },
   "outputs": [
    {
     "data": {
      "text/plain": [
       "0.14803199999999994"
      ]
     },
     "execution_count": 2,
     "metadata": {},
     "output_type": "execute_result"
    }
   ],
   "source": [
    "1-binom.cdf(k=2, n=7, p=.2)"
   ]
  },
  {
   "cell_type": "code",
   "execution_count": 2,
   "metadata": {
    "id": "yl7o-6f_dFaI"
   },
   "outputs": [],
   "source": []
  }
 ],
 "metadata": {
  "colab": {
   "collapsed_sections": [],
   "name": "Probability_and_Statistics.ipynb",
   "provenance": []
  },
  "kernelspec": {
   "display_name": "Python 3",
   "name": "python3"
  },
  "language_info": {
   "name": "python"
  }
 },
 "nbformat": 4,
 "nbformat_minor": 0
}