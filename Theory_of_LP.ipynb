{
  "nbformat": 4,
  "nbformat_minor": 0,
  "metadata": {
    "colab": {
      "name": "Theory of LP.ipynb",
      "provenance": [],
      "collapsed_sections": []
    },
    "kernelspec": {
      "name": "python3",
      "display_name": "Python 3"
    },
    "language_info": {
      "name": "python"
    }
  },
  "cells": [
    {
      "cell_type": "markdown",
      "metadata": {
        "id": "ikFyiHYMBxEx"
      },
      "source": [
        "# Theory of LP and the Simplex method\n"
      ]
    },
    {
      "cell_type": "markdown",
      "metadata": {
        "id": "4QiExYvwLa1w"
      },
      "source": [
        "To be done later on\n",
        "\n",
        "To place here a python code that follows the Simplex algorithm"
      ]
    },
    {
      "cell_type": "code",
      "metadata": {
        "id": "Cks37AL3BxEx",
        "colab": {
          "base_uri": "https://localhost:8080/"
        },
        "outputId": "18c8fd27-30b5-4c17-b2b2-340758e341c5"
      },
      "source": [
        "import numpy as np\n",
        "!pip install gurobipy\n",
        "\n",
        "# Import gurobi library\n",
        "from gurobipy import * # This command imports the Gurobi functions and classes.\n",
        "\n",
        "\n",
        "c = [40,65,70,30]    \n",
        "A = [[1,1,0,0 ],\n",
        "     [0,0,1,1 ],\n",
        "     [1,0,1,0 ],\n",
        "     [0,1,0,1 ]]\n",
        "b =  [250, 400, 300, 350]\n",
        "print(np.array(c).shape,np.array(A).shape,np.array(b).shape)\n",
        "decision_variables = range(len(c))     \n",
        "constraints = range(np.array(A).shape[0])\n",
        "\n",
        "m = Model(\"C4Q33\")\n",
        "\n",
        "x = []\n",
        "for i in decision_variables:\n",
        "    x.append(m.addVar(lb = 0, vtype = GRB.CONTINUOUS, name = 'x' + str(i)))\n",
        "\n",
        "m.setObjective(quicksum(c[i] * x[i] for i in decision_variables) , GRB.MINIMIZE) \n",
        "m.addConstrs((quicksum(A[j][i] * x[i] for i in decision_variables) \n",
        "                           == b[j] for j in constraints), \"constraints\")\n",
        "m.optimize()\n",
        "\n",
        "for var in m.getVars(): # descision variable\n",
        "    print(var.varName, '=', var.x, (var.obj,var.SAObjLow, var.SAObjUp, var.RC))\n",
        "\n",
        "for con in m.getConstrs(): # constraints\n",
        "    print(con.ConstrName, ': slack =', con.slack,', shadow price=',\n",
        "          con.pi,',', (con.RHS, con.SARHSLow, con.SARHSUp))\n",
        "    \n",
        "print(\"objective value =\", m.objVal)"
      ],
      "execution_count": 3,
      "outputs": [
        {
          "output_type": "stream",
          "name": "stdout",
          "text": [
            "Collecting gurobipy\n",
            "  Downloading gurobipy-9.5.0-cp37-cp37m-manylinux2014_x86_64.whl (11.5 MB)\n",
            "\u001b[K     |████████████████████████████████| 11.5 MB 5.0 MB/s \n",
            "\u001b[?25hInstalling collected packages: gurobipy\n",
            "Successfully installed gurobipy-9.5.0\n",
            "(4,) (4, 4) (4,)\n",
            "Restricted license - for non-production use only - expires 2023-10-25\n",
            "Gurobi Optimizer version 9.5.0 build v9.5.0rc5 (linux64)\n",
            "Thread count: 1 physical cores, 2 logical processors, using up to 2 threads\n",
            "Optimize a model with 4 rows, 4 columns and 8 nonzeros\n",
            "Model fingerprint: 0x1da74e02\n",
            "Coefficient statistics:\n",
            "  Matrix range     [1e+00, 1e+00]\n",
            "  Objective range  [3e+01, 7e+01]\n",
            "  Bounds range     [0e+00, 0e+00]\n",
            "  RHS range        [2e+02, 4e+02]\n",
            "Presolve removed 4 rows and 4 columns\n",
            "Presolve time: 0.02s\n",
            "Presolve: All rows and columns removed\n",
            "Iteration    Objective       Primal Inf.    Dual Inf.      Time\n",
            "       0    2.4000000e+04   0.000000e+00   0.000000e+00      0s\n",
            "\n",
            "Solved in 0 iterations and 0.03 seconds (0.00 work units)\n",
            "Optimal objective  2.400000000e+04\n",
            "x0 = 250.0 (40.0, -inf, 105.0, 0.0)\n",
            "x1 = 0.0 (65.0, 0.0, inf, 65.0)\n",
            "x2 = 50.0 (70.0, 5.0, inf, 0.0)\n",
            "x3 = 350.0 (30.0, -inf, 95.0, 0.0)\n",
            "constraints[0] : slack = 0.0 , shadow price= -0.0 , (250.0, 250.0, 250.0)\n",
            "constraints[1] : slack = 0.0 , shadow price= 30.0 , (400.0, 400.0, 400.0)\n",
            "constraints[2] : slack = 0.0 , shadow price= 40.0 , (300.0, 300.0, 300.0)\n",
            "constraints[3] : slack = 0.0 , shadow price= 0.0 , (350.0, 350.0, 350.0)\n",
            "objective value = 24000.0\n"
          ]
        }
      ]
    }
  ]
}