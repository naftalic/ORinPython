{
 "cells": [
  {
   "cell_type": "markdown",
   "metadata": {
    "id": "rfZ7Lz4ARPXs"
   },
   "source": [
    "\n",
    "# Linear Algebra Review"
   ]
  },
  {
   "cell_type": "markdown",
   "metadata": {
    "id": "fsfs0wriWzbv"
   },
   "source": [
    "## Scalars, Vectors, Matrices\n",
    "\n",
    "Values consisting of one numerical quantity are called **scalars**. \n",
    "For example, the average annual temperature in New York City during is $53^\\circ$F. \n",
    "In the following, we adopt the mathematical notation where **scalar** variables are denoted by ordinary lower-cased letters (e.g., $x, y,$ and $z$). \n",
    "\n",
    "We denote the space of real-valued scalars by $\\mathbb{R}$. Formally, $x \\in \\mathbb{R}$ means that $x$ is a real-valued scalar, where the symbol $\\in$ is pronounced \"in,\" and simply denotes membership in a set. \n",
    "\n",
    "\n"
   ]
  },
  {
   "cell_type": "code",
   "execution_count": 43,
   "metadata": {
    "colab": {
     "base_uri": "https://localhost:8080/"
    },
    "id": "Itt9P9WxVEeG",
    "outputId": "ed2661c9-2621-4544-e90a-9f53f3c48a1b"
   },
   "outputs": [
    {
     "data": {
      "text/plain": [
       "(1, 2.5)"
      ]
     },
     "execution_count": 43,
     "metadata": {},
     "output_type": "execute_result"
    }
   ],
   "source": [
    "a = 1 #scalar\n",
    "b = 2.5 #scalar\n",
    "a, b"
   ]
  },
  {
   "cell_type": "markdown",
   "metadata": {
    "id": "6aALHTKrPE1N"
   },
   "source": [
    "**Vector** is simply a list (or an array) of scalar values.\n",
    "We denote vectors in bold, lower-case letters (e.g., $\\mathbf{x}$). \n",
    "Vectors can be presented either as a **column** or as a **row**.\n",
    "In example,\n",
    "$$\n",
    "\\mathbf{x} =\n",
    "\\begin{bmatrix}\n",
    "x_{1}\\\\ x_{2} \\\\ \\vdots \\\\x_{n}\n",
    "\\end{bmatrix}\n",
    "\\quad\\text{or}\\quad\n",
    "\\mathbf{x}^\\top = \\begin{bmatrix}x_1 & x_2 & ... & x_n\\end{bmatrix}.\n",
    "$$\n",
    "\n",
    "We refer to each element in a vector using a subscript.\n",
    "For example, the $i^\\mathrm{th}$ element of $\\mathbf{x}$ is denoted as $x_i$ and is a scalar.\n",
    "Formally, we say that a vector $\\mathbf{x}$\n",
    "consists of $n$ real-valued scalars, $\\mathbf{x} \\in \\mathbb{R}^n$.\n",
    "The length of a vector is commonly called the **dimension** of the vector.\n",
    "\n",
    "Vectors can be interpreted in multilpe ways. One interpretation is that vectors symbolize the location of points in space relative to some reference location which is called the **origin**. This view is useful when separating points to distinct clusters of points in space.\n",
    "Corresponding interpretation is as a **directions** in space from some reference location. This view allows us to operate on vectors: adding, subtructing, multiplying, etc.\n"
   ]
  },
  {
   "cell_type": "code",
   "execution_count": 44,
   "metadata": {
    "colab": {
     "base_uri": "https://localhost:8080/"
    },
    "id": "WixEuh6yTmV9",
    "outputId": "c0bf0976-15f2-4b75-860e-d618e82329a5"
   },
   "outputs": [
    {
     "data": {
      "text/plain": [
       "array([1, 2, 3, 4])"
      ]
     },
     "execution_count": 44,
     "metadata": {},
     "output_type": "execute_result"
    }
   ],
   "source": [
    "import numpy as np\n",
    "x = np.array([1, 2, 3, 4]) #vector, 1-d array\n",
    "x"
   ]
  },
  {
   "cell_type": "code",
   "execution_count": 45,
   "metadata": {
    "colab": {
     "base_uri": "https://localhost:8080/"
    },
    "id": "8pu2nqT4W24j",
    "outputId": "6c604913-cdde-4243-da09-9ef094063172"
   },
   "outputs": [
    {
     "data": {
      "text/plain": [
       "(4, (4,))"
      ]
     },
     "execution_count": 45,
     "metadata": {},
     "output_type": "execute_result"
    }
   ],
   "source": [
    "len(x), x.shape"
   ]
  },
  {
   "cell_type": "markdown",
   "metadata": {
    "id": "YutFkMosPeZc"
   },
   "source": [
    "**Matrices** concatenate vectors similar to the way that vectors concatenate scalars.\n",
    "Here, matrices are denoted with bold, capital letters (e.g., $\\mathbf{A}$).\n",
    "Formally, $\\mathbf{A} \\in \\mathbb{R}^{m \\times n}$ means that the matrix $\\mathbf{A}$ consists of $m$ rows and $n$ columns of real-valued scalars.\n",
    "Visually, we can illustrate the matrix $\\mathbf{A}$ as a table,\n",
    "where each element $a_{ij}$ belongs to the $i^{\\mathrm{th}}$ row and $j^{\\mathrm{th}}$ column. That is,\n",
    "\n",
    "$$\\mathbf{A}=\n",
    "\\begin{bmatrix} \n",
    "a_{11} & a_{12} & \\cdots & a_{1n} \\\\ a_{21} & a_{22} & \\cdots & a_{2n} \\\\ \\vdots & \\vdots & \\ddots & \\vdots \\\\ a_{m1} & a_{m2} & \\cdots & a_{mn} \\\\ \n",
    "\\end{bmatrix}.$$\n",
    "\n",
    "The shape of $\\mathbf{A}$ is $m \\times n$.\n",
    "When a matrix has the same number of rows and columns it is called a **square** matrix."
   ]
  },
  {
   "cell_type": "code",
   "execution_count": 46,
   "metadata": {
    "colab": {
     "base_uri": "https://localhost:8080/"
    },
    "id": "plqR2i8zTpXb",
    "outputId": "44f3bcdd-5ab7-4e51-9fd0-08d64e3e75b8"
   },
   "outputs": [
    {
     "data": {
      "text/plain": [
       "array([[1, 2],\n",
       "       [3, 4],\n",
       "       [5, 6]])"
      ]
     },
     "execution_count": 46,
     "metadata": {},
     "output_type": "execute_result"
    }
   ],
   "source": [
    "A = np.array([[1, 2], [3, 4], [5, 6]]) #3x2 matrix \n",
    "A"
   ]
  },
  {
   "cell_type": "code",
   "execution_count": 47,
   "metadata": {
    "colab": {
     "base_uri": "https://localhost:8080/"
    },
    "id": "3QIwkWUoXDCI",
    "outputId": "909d637f-8988-4de7-c0f3-d55976e2e7d4"
   },
   "outputs": [
    {
     "data": {
      "text/plain": [
       "(3, 2)"
      ]
     },
     "execution_count": 47,
     "metadata": {},
     "output_type": "execute_result"
    }
   ],
   "source": [
    "A.shape"
   ]
  },
  {
   "cell_type": "code",
   "execution_count": 48,
   "metadata": {
    "colab": {
     "base_uri": "https://localhost:8080/"
    },
    "id": "nwAv0Pt2UMMa",
    "outputId": "c43d25e0-657c-482b-8da7-b4dbda865ad8"
   },
   "outputs": [
    {
     "data": {
      "text/plain": [
       "6"
      ]
     },
     "execution_count": 48,
     "metadata": {},
     "output_type": "execute_result"
    }
   ],
   "source": [
    "A[2,1]"
   ]
  },
  {
   "cell_type": "markdown",
   "metadata": {
    "id": "FeWFj_q0UH15"
   },
   "source": [
    "We can exchange a matrix's rows and columns and the result is called the **transpose** of the matrix.\n",
    "Formally, we denote the transpose of $\\mathbf{A}$ by $\\mathbf{A}^\\top$.\n",
    "Thus, the transpose of $\\mathbf{A}$ is\n",
    "a $n \\times m$ matrix.\n"
   ]
  },
  {
   "cell_type": "code",
   "execution_count": 49,
   "metadata": {
    "colab": {
     "base_uri": "https://localhost:8080/"
    },
    "id": "50IvKy41TpZy",
    "outputId": "444b83b5-d74f-4468-e184-01e739917b54"
   },
   "outputs": [
    {
     "data": {
      "text/plain": [
       "array([[1, 3, 5],\n",
       "       [2, 4, 6]])"
      ]
     },
     "execution_count": 49,
     "metadata": {},
     "output_type": "execute_result"
    }
   ],
   "source": [
    "A_T = A.T # Vector transposition\n",
    "A_T"
   ]
  },
  {
   "cell_type": "code",
   "execution_count": 50,
   "metadata": {
    "colab": {
     "base_uri": "https://localhost:8080/"
    },
    "id": "aBPRwDwgVM3D",
    "outputId": "3492b2de-bd04-4f15-9970-94768bdc13b1"
   },
   "outputs": [
    {
     "data": {
      "text/plain": [
       "(2, 3)"
      ]
     },
     "execution_count": 50,
     "metadata": {},
     "output_type": "execute_result"
    }
   ],
   "source": [
    "A_T.shape"
   ]
  },
  {
   "cell_type": "markdown",
   "metadata": {
    "id": "AqpDkB2pVaQj"
   },
   "source": [
    "As a special type of a square matrix is the **symmetric** matrix $\\mathbf{A}$ in which its transpose is equal to itself. That is, $\\mathbf{A}=\\mathbf{A}^\\top $.  "
   ]
  },
  {
   "cell_type": "code",
   "execution_count": 51,
   "metadata": {
    "colab": {
     "base_uri": "https://localhost:8080/"
    },
    "id": "t6zAbwjwVsj2",
    "outputId": "12aa01ef-1008-45bc-9af1-0c9725f70266"
   },
   "outputs": [
    {
     "name": "stdout",
     "output_type": "stream",
     "text": [
      "[[ True  True  True]\n",
      " [ True  True  True]\n",
      " [ True  True  True]]\n"
     ]
    }
   ],
   "source": [
    "A=np.array([[1,5,0],[5,2,0],[0,0,3]])\n",
    "print(A==A.T)"
   ]
  },
  {
   "cell_type": "markdown",
   "metadata": {
    "id": "2L7pt59MWSOa"
   },
   "source": [
    "Matrices are useful data structures, and they allow us to organize data efficiently. As an example, it is common to organize data in a way that the **rows** of a matrix correspond to different measurments, while the **columns** correspond to the various features or attributes. "
   ]
  },
  {
   "cell_type": "markdown",
   "metadata": {
    "id": "HDREfqKNXS_n"
   },
   "source": [
    "## Arithmetic Operations\n",
    "\n",
    "Adding/subtracting scalars, vectors, or matrices of the same shape is performed **elementwise**. It is also possible to multiply/divide scalars, vectors, or matrices elementwise."
   ]
  },
  {
   "cell_type": "code",
   "execution_count": 52,
   "metadata": {
    "colab": {
     "base_uri": "https://localhost:8080/"
    },
    "id": "muAS73XgXaAf",
    "outputId": "35f34862-2632-4d6d-86e6-d3327cf1b360"
   },
   "outputs": [
    {
     "data": {
      "text/plain": [
       "array([[1, 2],\n",
       "       [3, 4],\n",
       "       [5, 6]])"
      ]
     },
     "execution_count": 52,
     "metadata": {},
     "output_type": "execute_result"
    }
   ],
   "source": [
    "A = np.array([[1, 2], [3, 4], [5, 6]])\n",
    "A"
   ]
  },
  {
   "cell_type": "code",
   "execution_count": 53,
   "metadata": {
    "colab": {
     "base_uri": "https://localhost:8080/"
    },
    "id": "3pJ3EYYnTpce",
    "outputId": "64414f18-d247-4fac-c5fc-e2f92ba36470"
   },
   "outputs": [
    {
     "data": {
      "text/plain": [
       "array([[2, 5],\n",
       "       [7, 4],\n",
       "       [4, 3]])"
      ]
     },
     "execution_count": 53,
     "metadata": {},
     "output_type": "execute_result"
    }
   ],
   "source": [
    "B = np.array([[2, 5], [7, 4], [4, 3]])\n",
    "B"
   ]
  },
  {
   "cell_type": "code",
   "execution_count": 54,
   "metadata": {
    "colab": {
     "base_uri": "https://localhost:8080/"
    },
    "id": "ljBDNI4ETpfA",
    "outputId": "839f15f1-b5f2-4e4b-d84f-b44065e3224a"
   },
   "outputs": [
    {
     "data": {
      "text/plain": [
       "array([[ 3,  7],\n",
       "       [10,  8],\n",
       "       [ 9,  9]])"
      ]
     },
     "execution_count": 54,
     "metadata": {},
     "output_type": "execute_result"
    }
   ],
   "source": [
    "A+B # elementwise addition"
   ]
  },
  {
   "cell_type": "code",
   "execution_count": 55,
   "metadata": {
    "colab": {
     "base_uri": "https://localhost:8080/"
    },
    "id": "dICZA7NTXD_g",
    "outputId": "1e7e0262-26e7-4153-ce6f-bfa6c418b97c"
   },
   "outputs": [
    {
     "data": {
      "text/plain": [
       "array([[-1, -3],\n",
       "       [-4,  0],\n",
       "       [ 1,  3]])"
      ]
     },
     "execution_count": 55,
     "metadata": {},
     "output_type": "execute_result"
    }
   ],
   "source": [
    "A-B # elementwise subtraction"
   ]
  },
  {
   "cell_type": "code",
   "execution_count": 56,
   "metadata": {
    "colab": {
     "base_uri": "https://localhost:8080/"
    },
    "id": "lgw1X1DEXICZ",
    "outputId": "7f2bea04-4b57-4967-92f6-7250913d06c9"
   },
   "outputs": [
    {
     "data": {
      "text/plain": [
       "array([[ 2, 10],\n",
       "       [21, 16],\n",
       "       [20, 18]])"
      ]
     },
     "execution_count": 56,
     "metadata": {},
     "output_type": "execute_result"
    }
   ],
   "source": [
    "A*B # elementwise multiplication, aka Hadamard product"
   ]
  },
  {
   "cell_type": "code",
   "execution_count": 57,
   "metadata": {
    "colab": {
     "base_uri": "https://localhost:8080/"
    },
    "id": "Mks8Ctd8XVun",
    "outputId": "61a1414d-f907-44de-97b2-c2a15604c543"
   },
   "outputs": [
    {
     "data": {
      "text/plain": [
       "array([[0.5       , 0.4       ],\n",
       "       [0.42857143, 1.        ],\n",
       "       [1.25      , 2.        ]])"
      ]
     },
     "execution_count": 57,
     "metadata": {},
     "output_type": "execute_result"
    }
   ],
   "source": [
    "A/B # elementwise division"
   ]
  },
  {
   "cell_type": "markdown",
   "metadata": {
    "id": "dmz1gU41X2Z7"
   },
   "source": [
    "## Reduction\n",
    "A common operation that can be performed on arbitrary matrices\n",
    "is to **sum** elements.\n",
    "Formally, we express sums using the $\\sum$ symbol.\n",
    "To express the sum of the elements in a vector $\\mathbf{x}$ of length $n$,\n",
    "we write $\\sum_{i=1}^n x_i$.\n"
   ]
  },
  {
   "cell_type": "code",
   "execution_count": 58,
   "metadata": {
    "colab": {
     "base_uri": "https://localhost:8080/"
    },
    "id": "2biDngnZYWbs",
    "outputId": "371060c2-fdb2-4444-e94f-230ff41b39da"
   },
   "outputs": [
    {
     "data": {
      "text/plain": [
       "(array([0, 1, 2, 3, 4, 5, 6, 7, 8, 9]), 45)"
      ]
     },
     "execution_count": 58,
     "metadata": {},
     "output_type": "execute_result"
    }
   ],
   "source": [
    "x = np.arange(10)\n",
    "x, x.sum()"
   ]
  },
  {
   "cell_type": "code",
   "execution_count": 59,
   "metadata": {
    "id": "0xHlSpqfYyOZ"
   },
   "outputs": [],
   "source": [
    "A = np.array([[1, 2], [3, 4], [5, 6]])"
   ]
  },
  {
   "cell_type": "markdown",
   "metadata": {
    "id": "XxoRT6O_Yr0o"
   },
   "source": [
    "The sum of **all** the elements in $\\mathbf{A}$ is denoted $\\sum_{i=1}^{m} \\sum_{j=1}^{n} a_{ij}$."
   ]
  },
  {
   "cell_type": "code",
   "execution_count": 60,
   "metadata": {
    "colab": {
     "base_uri": "https://localhost:8080/"
    },
    "id": "CQP9344CYbuw",
    "outputId": "88902262-c174-42bf-e77f-9462a4e4b60c"
   },
   "outputs": [
    {
     "data": {
      "text/plain": [
       "21"
      ]
     },
     "execution_count": 60,
     "metadata": {},
     "output_type": "execute_result"
    }
   ],
   "source": [
    "A.sum()"
   ]
  },
  {
   "cell_type": "markdown",
   "metadata": {
    "id": "8x-ANCvJYr9t"
   },
   "source": [
    "Summing up elements along **rows** reduces the row dimension (axis 0) $\\sum_{i=1}^{m} a_{ij}$."
   ]
  },
  {
   "cell_type": "code",
   "execution_count": 61,
   "metadata": {
    "colab": {
     "base_uri": "https://localhost:8080/"
    },
    "id": "lgLFpSPAZBDT",
    "outputId": "2b2bf3cb-fc30-464e-acbc-fdc8ed8ad3a1"
   },
   "outputs": [
    {
     "data": {
      "text/plain": [
       "array([ 9, 12])"
      ]
     },
     "execution_count": 61,
     "metadata": {},
     "output_type": "execute_result"
    }
   ],
   "source": [
    "A.sum(axis=0)"
   ]
  },
  {
   "cell_type": "markdown",
   "metadata": {
    "id": "uTMxJ7UPYsJE"
   },
   "source": [
    "Summing up elements along **columns** reduces the row dimension (axis 1) $\\sum_{j=1}^{n} a_{ij}$."
   ]
  },
  {
   "cell_type": "code",
   "execution_count": 62,
   "metadata": {
    "colab": {
     "base_uri": "https://localhost:8080/"
    },
    "id": "LCnAGR6gaupR",
    "outputId": "63336545-c2d9-404a-f777-f4722a07d233"
   },
   "outputs": [
    {
     "data": {
      "text/plain": [
       "array([ 3,  7, 11])"
      ]
     },
     "execution_count": 62,
     "metadata": {},
     "output_type": "execute_result"
    }
   ],
   "source": [
    "A.sum(axis=1)"
   ]
  },
  {
   "cell_type": "markdown",
   "metadata": {
    "id": "uFV7TsWZXkX1"
   },
   "source": [
    "## Broadcasting"
   ]
  },
  {
   "cell_type": "markdown",
   "metadata": {
    "id": "wCgAQ-rhX0sd"
   },
   "source": [
    "Broadcasting describes how Numpy handles arrays with different shapes during arithmetic operations. Subject to certain constraints, the smaller array is \"broadcast\" across the larger array so that they have compatible shapes. \n",
    "NumPy operations are done on **pairs** of arrays on an element-by-element basis. \n",
    "\n",
    "The simplest broadcasting example occurs when an array and a scalar value are combined in an operation"
   ]
  },
  {
   "cell_type": "code",
   "execution_count": 63,
   "metadata": {
    "colab": {
     "base_uri": "https://localhost:8080/"
    },
    "id": "eNNaAjzgTph8",
    "outputId": "19d6afff-505b-4a5a-d648-ffd471cecdb3"
   },
   "outputs": [
    {
     "data": {
      "text/plain": [
       "array([5, 6, 7])"
      ]
     },
     "execution_count": 63,
     "metadata": {},
     "output_type": "execute_result"
    }
   ],
   "source": [
    "A = np.array([1, 2,3])\n",
    "A+4 # broadcasting"
   ]
  },
  {
   "cell_type": "markdown",
   "metadata": {
    "id": "hGsJ0GH9pYY2"
   },
   "source": [
    "This result is equivalent to "
   ]
  },
  {
   "cell_type": "code",
   "execution_count": 64,
   "metadata": {
    "colab": {
     "base_uri": "https://localhost:8080/"
    },
    "id": "BmVzwt9JplZT",
    "outputId": "68ef1156-72a3-47e7-935d-96a1353d4172"
   },
   "outputs": [
    {
     "data": {
      "text/plain": [
       "array([5, 6, 7])"
      ]
     },
     "execution_count": 64,
     "metadata": {},
     "output_type": "execute_result"
    }
   ],
   "source": [
    "A + np.array([4, 4, 4])"
   ]
  },
  {
   "cell_type": "markdown",
   "metadata": {
    "id": "Ms21SrqIqX-6"
   },
   "source": [
    "When operating on two arrays, NumPy compares their shapes element-wise. It starts with the **rightmost** dimensions and works its way left. Two dimensions are compatible when\n",
    "\n",
    "* they are equal, or\n",
    "* one of them is 1.\n",
    "\n",
    "If these conditions are not met, a ValueError is thrown. Here are a few more examples:\n",
    "\n",
    "\n",
    "Ex 1.  | Shape  |    | Ex 2.  | Shape      | | Ex 3.  | Shape         | |\n",
    "--     | --     | -- | --     | --         | | --     | --            | |\n",
    "A      | 3 x 2  |    | A      | 10 x 3 x 3 | | A      | 6 x 1 x 4 x 1 | |\n",
    "B      | 1 x 2  |    | B      | 10 x 1 x 3 | | B      | 1 x 5 x 1 x 3 | |\n",
    "A+B    | 3 x 2  |    | A+B    | 10 x 3 x 3 | | A+B    | 6 x 5 x 4 x 3 | |\n",
    "\n",
    "\n",
    "\n",
    "\n"
   ]
  },
  {
   "cell_type": "markdown",
   "metadata": {
    "id": "xKyz5buDYEtK"
   },
   "source": [
    "## Multiplying Vectors and Matrices\n",
    "\n",
    "One of the fundamental operations in Linear Algebra is the **dot product**.\n",
    "Given two vectors $\\mathbf{x}, \\mathbf{y} \\in \\mathbb{R}^n$, their dot product $\\mathbf{x} \\cdot \\mathbf{y}=\\mathbf{x}^\\top \\mathbf{y}$ is a sum over the elements at the same positions. In example, $\\mathbf{x}^\\top \\mathbf{y} = \\sum_{i=1}^{n} x_i y_i$ resulting in a scalar."
   ]
  },
  {
   "cell_type": "code",
   "execution_count": 65,
   "metadata": {
    "colab": {
     "base_uri": "https://localhost:8080/"
    },
    "id": "inwnGrODblKB",
    "outputId": "59574d69-118b-45d9-8f4d-20cedaafb80a"
   },
   "outputs": [
    {
     "data": {
      "text/plain": [
       "(array([1., 1., 1., 1.]), array([2., 2., 2., 2.]), 8.0)"
      ]
     },
     "execution_count": 65,
     "metadata": {},
     "output_type": "execute_result"
    }
   ],
   "source": [
    "x = np.ones(4); y = 2*np.ones(4)\n",
    "x, y, np.dot(x, y)"
   ]
  },
  {
   "cell_type": "markdown",
   "metadata": {
    "id": "esCtUVFJp8Hj"
   },
   "source": [
    "The dot product has a geometric interpretation related to the **angle** between the two vectors\n",
    "\n",
    "$$\n",
    "\\mathbf{x}\\cdot\\mathbf{y} = \\mathbf{x}^\\top\\mathbf{y} = \\|\\mathbf{x}\\|\\|\\mathbf{y}\\|\\cos(\\theta),\n",
    "$$\n",
    "\n",
    "where $\\| \\cdot \\|$ is the **norm** operator applied to tha vector. Norms will be discussed later on. \n",
    "\n",
    "In the Machine Learning contexts, the angle $\\theta$ is often used to measure the closeness, or similarity, of two vectors. This can be computed simply via\n",
    "\n",
    "$$\n",
    "\\cos(\\theta) = \\frac{\\mathbf{x}^\\top\\mathbf{y}}{\\|\\mathbf{x}\\|\\|\\mathbf{y}\\|}.\n",
    "$$\n",
    "\n",
    "This (cosine) similarity takes values between -1 and 1. A maximum value of $1$\n",
    "when the two vectors point in the same direction, a minimum value of $-1$ when pointing in opposite directions, and a value of $0$ when orthogonal."
   ]
  },
  {
   "cell_type": "code",
   "execution_count": 66,
   "metadata": {
    "colab": {
     "base_uri": "https://localhost:8080/"
    },
    "id": "wUCjcZIUqW6y",
    "outputId": "dd0b9ead-aa7f-4af1-fd3a-31c84f05f423"
   },
   "outputs": [
    {
     "data": {
      "text/plain": [
       "0.0"
      ]
     },
     "execution_count": 66,
     "metadata": {},
     "output_type": "execute_result"
    }
   ],
   "source": [
    "np.arccos(x.dot(y) / (np.linalg.norm(x) * np.linalg.norm(y)))"
   ]
  },
  {
   "cell_type": "markdown",
   "metadata": {
    "id": "AOvA-09gb8HJ"
   },
   "source": [
    "Consider now the dot product of a matrix $\\mathbf{A} \\in \\mathbb{R}^{m \\times n}$ and a vector $\\mathbf{x} \\in \\mathbb{R}^n$.\n",
    "We can write the matrix $\\mathbf{A}$ in terms of its **row** vectors\n",
    "\n",
    "$$\\mathbf{A}=\n",
    "\\begin{bmatrix}\n",
    "\\mathbf{a}^\\top_{1} \\\\\n",
    "\\mathbf{a}^\\top_{2} \\\\\n",
    "\\vdots \\\\\n",
    "\\mathbf{a}^\\top_m \\\\\n",
    "\\end{bmatrix},$$\n",
    "\n",
    "where each $\\mathbf{a}^\\top_{i} \\in \\mathbb{R}^n$\n",
    "is a **row** vector of length $n$, representing the $i^\\mathrm{th}$ row of the matrix $\\mathbf{A}$.\n",
    "Now, the matrix-vector dot product $\\mathbf{A}\\mathbf{x}$\n",
    "is simply a column vector of length $m$,\n",
    "whose $i^\\mathrm{th}$ element is the dot product $\\mathbf{a}^\\top_i \\mathbf{x}$\n",
    "\n",
    "$$\n",
    "\\mathbf{A}\\mathbf{x}\n",
    "= \\begin{bmatrix}\n",
    "\\mathbf{a}^\\top_{1} \\\\\n",
    "\\mathbf{a}^\\top_{2} \\\\\n",
    "\\vdots \\\\\n",
    "\\mathbf{a}^\\top_m \\\\\n",
    "\\end{bmatrix}\\mathbf{x}\n",
    "= \\begin{bmatrix}\n",
    " \\mathbf{a}^\\top_{1} \\mathbf{x}  \\\\\n",
    " \\mathbf{a}^\\top_{2} \\mathbf{x} \\\\\n",
    "\\vdots\\\\\n",
    " \\mathbf{a}^\\top_{m} \\mathbf{x}\\\\\n",
    "\\end{bmatrix}.\n",
    "$$\n",
    "\n",
    "To make it clear, in the above example there are $m$ dot products, each $\\mathbf{a}^\\top_i \\mathbf{x}$ which is a multiplcation on $n$-sized $\\mathbf{a}^\\top_i$ by $n$-sized $\\mathbf{x}$. The result of each dot product is a scalar.\n",
    "\n",
    "We can think of the multiplication of $\\mathbf{A}\\in \\mathbb{R}^{m \\times n}$ by $\\mathbf{x}\\in \\mathbb{R}^n$ as a transformation that projects vectors, $\\mathbf{x}\\in \\mathbb{R}^n$,\n",
    "from $\\mathbb{R}^{n}$ to $\\mathbb{R}^{m}$.\n",
    "Note that the column dimension of $\\mathbf{A}$ (its length along axis 1)\n",
    "must be the same as the dimension of $\\mathbf{x}$.\n"
   ]
  },
  {
   "cell_type": "code",
   "execution_count": 67,
   "metadata": {
    "colab": {
     "base_uri": "https://localhost:8080/"
    },
    "id": "eL7qTrDUUUx5",
    "outputId": "beb17abf-243c-4ef0-fd89-482badb7460c"
   },
   "outputs": [
    {
     "data": {
      "text/plain": [
       "array([ 5, 11, 17])"
      ]
     },
     "execution_count": 67,
     "metadata": {},
     "output_type": "execute_result"
    }
   ],
   "source": [
    "A = np.array([[1, 2], [3, 4], [5, 6]])\n",
    "x = np.arange(1,3)\n",
    "np.dot(A, x)"
   ]
  },
  {
   "cell_type": "markdown",
   "metadata": {
    "id": "Y7ypyGwDfoIK"
   },
   "source": [
    "Next we consider matrix-matrix multiplication.\n",
    "Given two matrices $\\mathbf{A} \\in \\mathbb{R}^{n \\times k}$ and $\\mathbf{B} \\in \\mathbb{R}^{k \\times m}$:\n",
    "\n",
    "$$\\mathbf{A}=\\begin{bmatrix}\n",
    " a_{11} & a_{12} & \\cdots & a_{1k} \\\\\n",
    " a_{21} & a_{22} & \\cdots & a_{2k} \\\\\n",
    "\\vdots & \\vdots & \\ddots & \\vdots \\\\\n",
    " a_{n1} & a_{n2} & \\cdots & a_{nk} \\\\\n",
    "\\end{bmatrix},\\quad\n",
    "\\mathbf{B}=\\begin{bmatrix}\n",
    " b_{11} & b_{12} & \\cdots & b_{1m} \\\\\n",
    " b_{21} & b_{22} & \\cdots & b_{2m} \\\\\n",
    "\\vdots & \\vdots & \\ddots & \\vdots \\\\\n",
    " b_{k1} & b_{k2} & \\cdots & b_{km} \\\\\n",
    "\\end{bmatrix}.$$\n",
    "\n",
    "\n",
    "Denote by $\\mathbf{a}^\\top_{i} \\in \\mathbb{R}^k$\n",
    "the row vector representing the $i^\\mathrm{th}$ row of the matrix $\\mathbf{A}$,\n",
    "and let $\\mathbf{b}_{j} \\in \\mathbb{R}^k$\n",
    "be the column vector of the $j^\\mathrm{th}$ column of the matrix $\\mathbf{B}$.\n",
    "The matrix product $\\mathbf{C} = \\mathbf{A}\\mathbf{B}$, is easiest to understand with $\\mathbf{A}$ specified by its row vectors and $\\mathbf{B}$ specified by its column vectors,\n",
    "\n",
    "$$\\mathbf{A}=\n",
    "\\begin{bmatrix}\n",
    "\\mathbf{a}^\\top_{1} \\\\\n",
    "\\mathbf{a}^\\top_{2} \\\\\n",
    "\\vdots \\\\\n",
    "\\mathbf{a}^\\top_n \\\\\n",
    "\\end{bmatrix},\n",
    "\\quad \\mathbf{B}=\\begin{bmatrix}\n",
    " \\mathbf{b}_{1} & \\mathbf{b}_{2} & \\cdots & \\mathbf{b}_{m} \\\\\n",
    "\\end{bmatrix}.\n",
    "$$\n",
    "\n",
    "\n",
    "The matrix product $\\mathbf{C}\\in \\mathbb{R}^{n \\times m}$ is produced as we simply compute each element $c_{ij}$ as the dot product $\\mathbf{a}^\\top_i \\mathbf{b}_j$:\n",
    "\n",
    "$$\\mathbf{C} = \\mathbf{AB} = \\begin{bmatrix}\n",
    "\\mathbf{a}^\\top_{1} \\\\\n",
    "\\mathbf{a}^\\top_{2} \\\\\n",
    "\\vdots \\\\\n",
    "\\mathbf{a}^\\top_n \\\\\n",
    "\\end{bmatrix}\n",
    "\\begin{bmatrix}\n",
    " \\mathbf{b}_{1} & \\mathbf{b}_{2} & \\cdots & \\mathbf{b}_{m} \\\\\n",
    "\\end{bmatrix}\n",
    "= \\begin{bmatrix}\n",
    "\\mathbf{a}^\\top_{1} \\mathbf{b}_1 & \\mathbf{a}^\\top_{1}\\mathbf{b}_2& \\cdots & \\mathbf{a}^\\top_{1} \\mathbf{b}_m \\\\\n",
    " \\mathbf{a}^\\top_{2}\\mathbf{b}_1 & \\mathbf{a}^\\top_{2} \\mathbf{b}_2 & \\cdots & \\mathbf{a}^\\top_{2} \\mathbf{b}_m \\\\\n",
    " \\vdots & \\vdots & \\ddots &\\vdots\\\\\n",
    "\\mathbf{a}^\\top_{n} \\mathbf{b}_1 & \\mathbf{a}^\\top_{n}\\mathbf{b}_2& \\cdots& \\mathbf{a}^\\top_{n} \\mathbf{b}_m\n",
    "\\end{bmatrix}.\n",
    "$$\n",
    "\n"
   ]
  },
  {
   "cell_type": "code",
   "execution_count": 68,
   "metadata": {
    "colab": {
     "base_uri": "https://localhost:8080/"
    },
    "id": "YTKZejaNUivZ",
    "outputId": "c3702716-8d08-4725-c77e-edf906df9e43"
   },
   "outputs": [
    {
     "data": {
      "text/plain": [
       "array([[ 9,  7],\n",
       "       [23, 17],\n",
       "       [37, 27]])"
      ]
     },
     "execution_count": 68,
     "metadata": {},
     "output_type": "execute_result"
    }
   ],
   "source": [
    "A = np.array([[1, 2], [3, 4], [5, 6]])\n",
    "B = np.array([[5, 3], [2, 2]])\n",
    "A.dot(B) "
   ]
  },
  {
   "cell_type": "markdown",
   "metadata": {
    "id": "D-iLXK5Xessk"
   },
   "source": [
    "Matrix mutliplication is **distributive**, i.e. $\\mathbf{A}(\\mathbf{B}+\\mathbf{C})=\\mathbf{A}\\mathbf{B}+\\mathbf{A}\\mathbf{C}$:"
   ]
  },
  {
   "cell_type": "code",
   "execution_count": 69,
   "metadata": {
    "colab": {
     "base_uri": "https://localhost:8080/"
    },
    "id": "JdQDBqjYUi0g",
    "outputId": "373036d8-93cc-4d20-9db4-65df4ea62f05"
   },
   "outputs": [
    {
     "data": {
      "text/plain": [
       "array([[ True],\n",
       "       [ True],\n",
       "       [ True]])"
      ]
     },
     "execution_count": 69,
     "metadata": {},
     "output_type": "execute_result"
    }
   ],
   "source": [
    "A = np.array([[2, 3], [1, 4], [7, 6]])\n",
    "B = np.array([[5], [2]])\n",
    "C = np.array([[4], [3]])\n",
    "A.dot(B+C) == A.dot(B)+A.dot(C)"
   ]
  },
  {
   "cell_type": "markdown",
   "metadata": {
    "id": "nvb0PHDkexFT"
   },
   "source": [
    "Matrix mutliplication is **associative**, i.e. $\\mathbf{A}(\\mathbf{B}\\mathbf{C})=(\\mathbf{A}\\mathbf{B})\\mathbf{C}$:"
   ]
  },
  {
   "cell_type": "code",
   "execution_count": 70,
   "metadata": {
    "colab": {
     "base_uri": "https://localhost:8080/"
    },
    "id": "N3Omzn1eUi3M",
    "outputId": "20832094-354e-4f6b-bfbd-1c97b5b22169"
   },
   "outputs": [
    {
     "data": {
      "text/plain": [
       "array([[ True],\n",
       "       [ True],\n",
       "       [ True]])"
      ]
     },
     "execution_count": 70,
     "metadata": {},
     "output_type": "execute_result"
    }
   ],
   "source": [
    "A = np.array([[2, 3], [1, 4], [7, 6]])\n",
    "B = np.array([[5, 3], [2, 2]])\n",
    "C = np.array([[4], [3]])\n",
    "A.dot(B.dot(C)) == (A.dot(B)).dot(C)"
   ]
  },
  {
   "cell_type": "markdown",
   "metadata": {
    "id": "lwc0DEQ0fVJ6"
   },
   "source": [
    "Vector multiplication is commutative, i.e. $\\mathbf{x}^\\top\\mathbf{y}=\\mathbf{y}^\\top\\mathbf{x}$"
   ]
  },
  {
   "cell_type": "code",
   "execution_count": 71,
   "metadata": {
    "colab": {
     "base_uri": "https://localhost:8080/"
    },
    "id": "mRfTyRIXUi8c",
    "outputId": "dc70ba47-1e34-45d8-c33f-78cc83d5a4e5"
   },
   "outputs": [
    {
     "data": {
      "text/plain": [
       "array([[ True]])"
      ]
     },
     "execution_count": 71,
     "metadata": {},
     "output_type": "execute_result"
    }
   ],
   "source": [
    "x = np.array([[2], [6]])\n",
    "y = np.array([[5], [2]])\n",
    "x.T.dot(y) == y.T.dot(x)"
   ]
  },
  {
   "cell_type": "markdown",
   "metadata": {
    "id": "cFCNZV_ZfD3A"
   },
   "source": [
    "However, matrix multiplication is **not commutative**, i.e. $\\mathbf{A}\\mathbf{B}\\ne\\mathbf{B}\\mathbf{A}$:"
   ]
  },
  {
   "cell_type": "code",
   "execution_count": 72,
   "metadata": {
    "colab": {
     "base_uri": "https://localhost:8080/"
    },
    "id": "-o_1JP_fUi5l",
    "outputId": "585034d5-e517-479f-ca26-2f94c3e1f3d5"
   },
   "outputs": [
    {
     "data": {
      "text/plain": [
       "array([[False, False],\n",
       "       [False, False]])"
      ]
     },
     "execution_count": 72,
     "metadata": {},
     "output_type": "execute_result"
    }
   ],
   "source": [
    "A = np.array([[2, 3], [6, 5]])\n",
    "B = np.array([[5, 3], [2, 2]])\n",
    "np.dot(A, B) == np.dot(B, A)"
   ]
  },
  {
   "cell_type": "markdown",
   "metadata": {
    "id": "56HqWX-d0-xp"
   },
   "source": [
    "## Norms\n",
    "\n",
    "One of the important operators in linear algebra are the **norms**.\n",
    "The norm of a vector tells you how large a vector is by maping a vector\n",
    "to a scalar. This scalar measures, not the dimensions, but the magnitude of the components.\n",
    "\n",
    "Formally, given any vector $\\mathbf{x}$, the vector norm is a function $f$ that has multiple propeerties: \n",
    "\n",
    "The first is a scaling property that says\n",
    "that if we scale all the elements of a vector\n",
    "by a constant factor $\\alpha$,\n",
    "its norm also scales by the *absolute value*\n",
    "of the same constant factor. In example,\n",
    "\n",
    "$$f(\\alpha \\mathbf{x}) = |\\alpha| f(\\mathbf{x}).$$\n",
    "\n",
    "The second property is the triangle inequality:\n",
    "\n",
    "$$f(\\mathbf{x} + \\mathbf{y}) \\leq f(\\mathbf{x}) + f(\\mathbf{y}).$$\n",
    "\n",
    "\n",
    "The third property simply says that the norm must be non-negative:\n",
    "\n",
    "$$f(\\mathbf{x}) \\geq 0.$$\n",
    "\n",
    "The final property requires that the smallest norm is achieved if and only if \n",
    "by a vector consisting of all zeros.\n",
    "\n",
    "$$\\forall i, \\mathbf{x}_i = 0 \\Leftrightarrow f(\\mathbf{x})=0.$$\n",
    "\n",
    "The familiar **Euclidean distance** is a norm, typically named \n",
    "the $L_2$ norm, and is defined as square root of the sum of vector elements' squares:\n",
    "\n",
    "$$\\|\\mathbf{x}\\|_2 = \\sqrt{\\sum_{i=1}^n x_i^2}.$$\n"
   ]
  },
  {
   "cell_type": "code",
   "execution_count": 73,
   "metadata": {
    "colab": {
     "base_uri": "https://localhost:8080/"
    },
    "id": "4JIq38QmHnkZ",
    "outputId": "af977554-0b55-4352-f9f5-4196e6a68500"
   },
   "outputs": [
    {
     "data": {
      "text/plain": [
       "3.7416573867739413"
      ]
     },
     "execution_count": 73,
     "metadata": {},
     "output_type": "execute_result"
    }
   ],
   "source": [
    "import numpy as np\n",
    "u = np.array([1,2,3]) # L2 norm\n",
    "np.linalg.norm(u, ord=2)"
   ]
  },
  {
   "cell_type": "markdown",
   "metadata": {
    "id": "7I6Z3xDRHyhy"
   },
   "source": [
    "The $L_1$ norm is defined as the sum of the absolute values of the vector elements:\n",
    "$$\\|\\mathbf{x}\\|_1 = \\sum_{i=1}^n \\left|x_i \\right|.$$\n",
    "In more generality, the $L_p$ norm is defined as \n",
    "$$\\|\\mathbf{x}\\|_p = \\left(\\sum_{i=1}^n \\left|x_i \\right|^p \\right)^{1/p}.$$"
   ]
  },
  {
   "cell_type": "code",
   "execution_count": 74,
   "metadata": {
    "colab": {
     "base_uri": "https://localhost:8080/"
    },
    "id": "1WGa0D2KIOLd",
    "outputId": "9bf3a258-591c-40ff-e6f7-bb9c4fc9d471"
   },
   "outputs": [
    {
     "data": {
      "text/plain": [
       "6.0"
      ]
     },
     "execution_count": 74,
     "metadata": {},
     "output_type": "execute_result"
    }
   ],
   "source": [
    "u = np.array([1,2,3])\n",
    "np.linalg.norm(u, ord=1) # L1 norm"
   ]
  },
  {
   "cell_type": "code",
   "execution_count": 75,
   "metadata": {
    "colab": {
     "base_uri": "https://localhost:8080/"
    },
    "id": "3oyf3VupIW9Y",
    "outputId": "b33af3d0-a450-494f-890e-7ad524e34b2a"
   },
   "outputs": [
    {
     "data": {
      "text/plain": [
       "3.0"
      ]
     },
     "execution_count": 75,
     "metadata": {},
     "output_type": "execute_result"
    }
   ],
   "source": [
    "u = np.array([1,2,3])\n",
    "np.linalg.norm(u, ord=np.inf) # L-inf norm, basically choosing the maximum value within the array"
   ]
  },
  {
   "cell_type": "markdown",
   "metadata": {
    "id": "1zOUYpzLgQ9X"
   },
   "source": [
    "## Identity matrices"
   ]
  },
  {
   "cell_type": "code",
   "execution_count": 76,
   "metadata": {
    "colab": {
     "base_uri": "https://localhost:8080/"
    },
    "id": "2mgVh7frUU0u",
    "outputId": "b5aa409d-3802-4148-c0cf-f2feeaab29d5"
   },
   "outputs": [
    {
     "data": {
      "text/plain": [
       "array([[1., 0., 0.],\n",
       "       [0., 1., 0.],\n",
       "       [0., 0., 1.]])"
      ]
     },
     "execution_count": 76,
     "metadata": {},
     "output_type": "execute_result"
    }
   ],
   "source": [
    "A = np.eye(3)\n",
    "A"
   ]
  },
  {
   "cell_type": "code",
   "execution_count": 77,
   "metadata": {
    "colab": {
     "base_uri": "https://localhost:8080/"
    },
    "id": "DuRY1HnfUU3p",
    "outputId": "9c866d19-da53-4c78-eb7a-c4b4bb7c1b68"
   },
   "outputs": [
    {
     "data": {
      "text/plain": [
       "array([[2],\n",
       "       [6],\n",
       "       [3]])"
      ]
     },
     "execution_count": 77,
     "metadata": {},
     "output_type": "execute_result"
    }
   ],
   "source": [
    "x = np.array([[2], [6], [3]])\n",
    "x"
   ]
  },
  {
   "cell_type": "code",
   "execution_count": 78,
   "metadata": {
    "colab": {
     "base_uri": "https://localhost:8080/"
    },
    "id": "zw-FDOW2gKaA",
    "outputId": "a7f77db4-2405-4777-8b3d-cb9430a308c3"
   },
   "outputs": [
    {
     "data": {
      "text/plain": [
       "array([[2.],\n",
       "       [6.],\n",
       "       [3.]])"
      ]
     },
     "execution_count": 78,
     "metadata": {},
     "output_type": "execute_result"
    }
   ],
   "source": [
    "b = A.dot(x)\n",
    "b"
   ]
  },
  {
   "cell_type": "markdown",
   "metadata": {
    "id": "Pb23t0tPgVgu"
   },
   "source": [
    "## Inverse matrices¶\n"
   ]
  },
  {
   "cell_type": "code",
   "execution_count": 79,
   "metadata": {
    "colab": {
     "base_uri": "https://localhost:8080/"
    },
    "id": "3hB-6vVngKcP",
    "outputId": "4679579c-4b47-4b9b-c3dc-4e5170826d6f"
   },
   "outputs": [
    {
     "data": {
      "text/plain": [
       "array([[ 3,  0,  2],\n",
       "       [ 2,  0, -2],\n",
       "       [ 0,  1,  1]])"
      ]
     },
     "execution_count": 79,
     "metadata": {},
     "output_type": "execute_result"
    }
   ],
   "source": [
    "A = np.array([[3, 0, 2], [2, 0, -2], [0, 1, 1]])\n",
    "A"
   ]
  },
  {
   "cell_type": "code",
   "execution_count": 80,
   "metadata": {
    "colab": {
     "base_uri": "https://localhost:8080/"
    },
    "id": "ARFFY1sVgKfJ",
    "outputId": "71614946-f6cb-40e7-d2ff-b588b2be8edd"
   },
   "outputs": [
    {
     "data": {
      "text/plain": [
       "array([[ 0.2,  0.2,  0. ],\n",
       "       [-0.2,  0.3,  1. ],\n",
       "       [ 0.2, -0.3, -0. ]])"
      ]
     },
     "execution_count": 80,
     "metadata": {},
     "output_type": "execute_result"
    }
   ],
   "source": [
    "A_inv = np.linalg.inv(A)\n",
    "A_inv"
   ]
  },
  {
   "cell_type": "code",
   "execution_count": 81,
   "metadata": {
    "colab": {
     "base_uri": "https://localhost:8080/"
    },
    "id": "ZFYOqIhtgKg5",
    "outputId": "87b4a9de-771a-42e3-f037-45228d76b26f"
   },
   "outputs": [
    {
     "data": {
      "text/plain": [
       "array([[ 1.00000000e+00,  0.00000000e+00, -5.55111512e-17],\n",
       "       [ 0.00000000e+00,  1.00000000e+00,  0.00000000e+00],\n",
       "       [ 0.00000000e+00,  0.00000000e+00,  1.00000000e+00]])"
      ]
     },
     "execution_count": 81,
     "metadata": {},
     "output_type": "execute_result"
    }
   ],
   "source": [
    "A_inv.dot(A)"
   ]
  },
  {
   "cell_type": "markdown",
   "metadata": {
    "id": "r1JmccHgLqj4"
   },
   "source": [
    "## Hyperplanes\n",
    "\n",
    "A key object in linear algebra is the **hyperplane**.\n",
    "In two dimensions the hyperplane is a **line**, and in three dimensions it is a **plane**. In more generality, in an $d$-dimensional vector space, a hyperplane has $d-1$ dimensions\n",
    "and **divides the space into two half-spaces**. \n",
    "In the Machine Learning language in the contex of classification hyperplanes that separate the space are named **decision planes**. \n",
    "\n",
    "In example, $\\mathbf{a}=(1,2)$ and $\\mathbf{a} \\cdot \\mathbf{b}=1$ define the line $2y = 1 - x$ in the two dimensional space, while $\\mathbf{a}=(1,2,3)$ and $\\mathbf{a} \\cdot \\mathbf{b}=1$ defines the plane $ z= 1 - x-2y$ in the three dimensional space.\n",
    "\n",
    "\n"
   ]
  },
  {
   "cell_type": "markdown",
   "metadata": {
    "id": "B-yrv9cOgmjp"
   },
   "source": [
    "## Solving a system of linear equations¶\n"
   ]
  },
  {
   "cell_type": "code",
   "execution_count": 82,
   "metadata": {
    "colab": {
     "base_uri": "https://localhost:8080/"
    },
    "id": "I3qXBAsrgKjU",
    "outputId": "bd134b1f-35a8-4cdf-ce3c-1309d5d41bcc"
   },
   "outputs": [
    {
     "data": {
      "text/plain": [
       "array([[1.],\n",
       "       [2.]])"
      ]
     },
     "execution_count": 82,
     "metadata": {},
     "output_type": "execute_result"
    }
   ],
   "source": [
    "A = np.array([[2, -1], [1, 1]])\n",
    "b = np.array([[0], [3]])\n",
    "x = np.linalg.inv(A).dot(b)\n",
    "x"
   ]
  },
  {
   "cell_type": "markdown",
   "metadata": {
    "id": "bRsCRPcshFaK"
   },
   "source": [
    "Singular matrices are not invertible and are called singular."
   ]
  },
  {
   "cell_type": "markdown",
   "metadata": {
    "id": "ZTY5gLUihcFl"
   },
   "source": [
    "## Linear equations"
   ]
  },
  {
   "cell_type": "markdown",
   "metadata": {
    "id": "t39Khka7a4A5"
   },
   "source": [
    "The set of equations\n",
    "\n",
    "$$\\mathbf{A}\\mathbf{x}=\\mathbf{b}$$\n",
    "\n",
    "corresponds\n",
    "\n",
    "$$\n",
    "\\begin{align}\n",
    "a_{1,1}x_1 + a_{1,2}x_2 + \\cdots + a_{1,n}x_n = b_1 \\\\\\\\\n",
    "a_{2,1}x_1 + a_{2,2}x_2 + \\cdots + a_{2,n}x_n = b_2 \\\\\\\\\n",
    "\\cdots \\\\\\\\\n",
    "a_{m,1}x_1 + a_{m,2}x_2 + \\cdots + a_{m,n}x_n = b_n\n",
    "\\end{align}\n",
    "\\quad\\text{or}\\quad\n",
    "\\begin{bmatrix}\n",
    "    a_{1,1} & a_{1,2} & \\cdots & a_{1,n} \\\\\\\\\n",
    "    a_{2,1} & a_{2,2} & \\cdots & a_{2,n} \\\\\\\\\n",
    "    \\cdots & \\cdots & \\cdots & \\cdots \\\\\\\\\n",
    "    a_{m,1} & a_{m,2} & \\cdots & a_{m,n}\n",
    "\\end{bmatrix}\n",
    "\\begin{bmatrix}\n",
    "    x_1 \\\\\\\\\n",
    "    x_2 \\\\\\\\\n",
    "    \\cdots \\\\\\\\\n",
    "    x_n\n",
    "\\end{bmatrix}\n",
    "=\n",
    "\\begin{bmatrix}\n",
    "    b_1 \\\\\\\\\n",
    "    b_2 \\\\\\\\\n",
    "    \\cdots \\\\\\\\\n",
    "    b_m\n",
    "\\end{bmatrix}.\n",
    "$$\n",
    "\n",
    "Here we have $m$ equations representing..., with $n$ unknowns representing the **dimension space**. \n",
    "Commonly, we are given $\\mathbf{A}$ and $\\mathbf{b}$, and we solve for $\\mathbf{x}$ that satisfy the above equations.\n",
    "\n",
    "How many solutions does $\\mathbf{A}\\mathbf{x}=\\mathbf{b}$ have? There are three possibilites:\n",
    "\n",
    " 1. No solution\n",
    " 2. One solution\n",
    " 3. Infinite number of solutions\n",
    " \n",
    "Why can't there be more than one solution and less than an infinite number of solutions ?\n",
    "\n",
    "On the intuition level, it is because we are working with linear equations.\n",
    "It is clear if we consider the simple scenario of two equations and two unknowns: the solution of this system corresponds to the intersection of the lines. One possibility is that the two lines never cross (parallel). Another possibility is that they cross exactly once. And the last possibility is that they cross everywhere (superimposed)."
   ]
  },
  {
   "cell_type": "markdown",
   "metadata": {
    "id": "nTpf_m2Aa4A6"
   },
   "source": [
    "There are two ways to describe a system of linear equations: the **row view** and the **column view**."
   ]
  },
  {
   "cell_type": "markdown",
   "metadata": {
    "id": "nLbk94SDa4A7"
   },
   "source": [
    "## Row view\n",
    "\n",
    "The row view is probably more intuitive because it is the representation used when we have only one equation. It can now be extended to an infinite number of equations and unknowns.\n",
    "\n",
    "We said that the solutions of the linear system of equations are the sets of values of $x_1...x_n$ that satisfies all equations. For instance, in the case of $\\mathbf{A}\\in \\mathbb{R}^{m \\times n}$ with $m=n=2$ the equations correspond to 2 lines in the 2-dimensional space and the solution of the system is the intersection of these lines.\n",
    "\n",
    "As mentioned before, a linear system can be viewed as a set of $(n-1)$-dimensional hyperplanes in a $n$-dimensional space. The system can also be characterized by its number of equations $m$, and the number of unknown variables $n$.\n",
    "\n",
    "* If $m \\gt n$, that is there are more equations than unknows the system is called **overdetermined**. In example, a system of 3 equations (represented by 3 lines) and 2 unknowns (corresponding to 2 dimensions). In this example, if the lines are independent, there is no solution since there is no point belonging to the three lines.\n",
    "\n",
    "* If $m\\lt n$, that is there are more unknowns than equations the system is named **underdetermined**. In example, there is only 1 equation (1 line) and 2 dimensions. In this case, each point along the line is a solution to the system and the system has infinite number of solutions.\n"
   ]
  },
  {
   "cell_type": "markdown",
   "metadata": {
    "id": "1QQXW5dqa4A7"
   },
   "source": [
    "### Example 1: 1 equation and 2 variables\n",
    "\n",
    "Let us start with an **underdetermined** example with  $m=1$ and  $n=2$:\n",
    "\n",
    "$$\n",
    "a_{1,1}x_1 + a_{1,2}x_2 = b_1\n",
    "$$\n",
    "\n",
    "The graphical interpretation of $n=2$ is that we have a 2-dimensional space. So we represent it with 2 axes. Since our hyperplane is of $n-1$-dimensional, we have a 1-dimensional hyperplane. This is simply a line. As $m=1$, we have only one equation. This means that we have only one line characterizing our linear system.\n",
    "\n",
    "Note that the last equation can also be written in a way that may be more usual:\n",
    "\n",
    "$$\n",
    "x_2 = \\frac{a_{1,1}}{a_{1,2}}x_1 +\\frac{b_1}{a_{1,2}}b_1,\\quad\\text{or}\\quad\n",
    "y = \\frac{a_{1,1}}{a_{1,2}}x +\\frac{b_1}{a_{1,2}}b_1,\n",
    "$$\n",
    "\n",
    "where $y=x_2$, and $x=x_1$.\n",
    "\n",
    "The solutions of this linear system correspond to ALL the values of $x$ and $y$ such that $y = \\frac{a_{1,1}}{a_{1,2}}x +\\frac{b_1}{a_{1,2}}b_1$ holds. Practicly, it corresponds to each and every point along the line so there are  infinite number of solutions.\n"
   ]
  },
  {
   "cell_type": "markdown",
   "metadata": {
    "id": "UGi70ZGumAMc"
   },
   "source": [
    "### Example 2: 2 equation and 2 variables\n",
    "\n",
    "Let us explore an example with  $m=2$ and  $n=2$:\n",
    "\n",
    "$$\n",
    "a_{1,1}x_1 + a_{1,2}x_2 = b_1\\\\\n",
    "a_{2,1}x_1 + a_{2,2}x_2 = b_2.\n",
    "$$\n",
    "\n",
    "The graphical interpretation of $n=2$ is as before. That is, we have a 2-dimensional space, represented with 2 axes, and each equation represents an $1$-dimensional hyperplane which is simply a line. \n",
    "\n",
    "But, here $m=2$, which means that we have two equations, or 2 lines in a 2-dimensional space.\n",
    "There are multiple scenarios:\n",
    "\n",
    "* The two lines run in parallel and there is no solution.\n",
    "* The two lines intersect and we have one unique solution.\n",
    "* The two lines superimpose: it is the same equation or linearily dependant. In this case there are infinite number of solutions since each and every point on the lines corresponds to a solution.\n",
    "\n",
    "Same conlusioned can be drawn with higher values of $m$ (number of equations) and $n$ (number of dimensions). For example, two 2-dimensional plane in a 3-dimensional space can be \n",
    "* parallel (no solution),\n",
    "* cross (infinitely many solutions since their crossing is a line), or\n",
    "* superimposed (infinitely many solutions). "
   ]
  },
  {
   "cell_type": "markdown",
   "metadata": {
    "id": "NvvEPKu0o9Nv"
   },
   "source": [
    "### Example 3: 3 equation and 2 variables\n",
    "\n",
    "Let us explore an **overdetermined** example with  $m=3$ and  $n=2$:\n",
    "\n",
    "$$\n",
    "a_{1,1}x_1 + a_{1,2}x_2 = b_1\\\\\n",
    "a_{2,1}x_1 + a_{2,2}x_2 = b_2\\\\\n",
    "a_{3,1}x_1 + a_{3,2}x_2 = b_3\n",
    "$$\n",
    "\n",
    "The graphical interpretation of $n=2$ is as before. That is, we have a 2-dimensional space, represented by 2 axes, and each equation represents an $1$-dimensional hyperplane which is simply a line. \n",
    "\n",
    "Here $m=3$, which means that we have three equations, or 3 lines in a 2-dimensional space.\n",
    "\n",
    "There are multiple scenarios:\n",
    "* The three lines run in parallel and there is no solution.\n",
    "* The three lines intersect. If the three lines are independent, there are multiple intersections with no unique solution.\n",
    "* Two lines are dependent and the third is independent: we have a unique solution at the intersection of them with the third line.\n",
    "* The three lines superimpose: there are infinite number of solutions.\n",
    "\n",
    "As before, these conlusioned can be generalized to higher spaces."
   ]
  },
  {
   "cell_type": "markdown",
   "metadata": {
    "id": "uxc0YeSd8uHB"
   },
   "source": [
    "## Linear combination\n",
    "\n",
    "The linear combination of 2 vectors corresponds to their weighted sum.\n",
    "In example:\n",
    "\n",
    "$$\n",
    "\\mathbf{x}^\\top=(1,2,3),~\\mathbf{y}^\\top=(4,5,6),\\quad \\text{and}\\quad \\mathbf{y}^\\top=a\\mathbf{x}^\\top+b\\mathbf{y}^\\top,\\text{with}~ a=1,~b=2.\n",
    "$$\n"
   ]
  },
  {
   "cell_type": "code",
   "execution_count": 83,
   "metadata": {
    "colab": {
     "base_uri": "https://localhost:8080/"
    },
    "id": "4qVrxGr28w-a",
    "outputId": "916ef2be-d2a2-4fa0-fb40-76caed99541a"
   },
   "outputs": [
    {
     "data": {
      "text/plain": [
       "array([ 9., 12., 15.])"
      ]
     },
     "execution_count": 83,
     "metadata": {},
     "output_type": "execute_result"
    }
   ],
   "source": [
    "a=1.;b=2.;\n",
    "a*np.array([1,2,3])+b*np.array([4,5,6])"
   ]
  },
  {
   "cell_type": "markdown",
   "metadata": {
    "id": "bpDRxg31a4A-"
   },
   "source": [
    "## Span\n",
    "\n",
    "Consider the above $\\mathbf{x}$ and $\\mathbf{y}$: ALL the points that can reached by their combination via some $a$ and $b$ are called the set of points is the span of the vectors $\\{\\mathbf{x}$, $\\mathbf{y}\\}$.\n",
    "Vector **space** means all the points that can be reached by this vector. In example, the space of all real numbers is $\\mathbb{R}$ and for $n$-dimensions the space is $\\mathbb{R}^n$. \n",
    "Vector **subspace** means that the space occupies only part of the space. In example, a 2-dimensional plane is a subspace in $\\mathbb{R}^3$ and a line is a subspace in $\\mathbb{R}^2$.\n",
    "\n",
    "In general, we will say that a collection of vectors\n",
    "$\\mathbf{x}_1,\\mathbf{x}_2, \\ldots, \\mathbf{x}_n$ are linearly **dependent**\n",
    "if there exist coefficients $a_1,a_2 \\ldots, a_n$ not all zero such that\n",
    "\n",
    "$$\n",
    "\\sum_{i=1}^n a_i\\mathbf{x_i} = 0.\n",
    "$$\n",
    "\n",
    "In this case, we can solve for one of the vectors in terms of a combination of the others, and thus this vector is redundant.\n",
    "Similarly, a linear dependence in the columns of a matrix means that this matrix can be compresed down to a lower dimension. If there is no linear dependence we say the vectors are linearly independent. In a matrix, if the columns are linearly independent, the matrix cannot be compressed to a lowed dimension.\n",
    "\n",
    "A set of vectors which is linearly **independent** and **spans** some vector space, forms a **basis** for that vector space. \n",
    "The **standard basis** (also called natural basis or canonical basis) in $\\mathbb{R}^n$ is the set of vectors whose components are all zero, except one that equals 1. For example, the standard basis in $\\mathbb{R}^2$ is formed by the vectors $\\mathbf{x}^\\top=(1,0)^\\top$ and $\\mathbf{y}^\\top=(0,1)^\\top$.\n",
    "\n",
    "The linear combination of vectors in a space stay in the same space. For instance, any linear combination of two lines in a $\\mathbb{R}^2$ result in another vector in $\\mathbb{R}^2$."
   ]
  },
  {
   "cell_type": "markdown",
   "metadata": {
    "id": "SH7ZAk2-a4A_"
   },
   "source": [
    "## Column view\n",
    "\n",
    "It is also possible to represent the solution $\\mathbf{b}$ to the equations $\\mathbf{A}\\mathbf{x}=\\mathbf{b}$ as a linear combination of the columns in $\\mathbf{A}$.\n",
    "\n",
    "To see that, the set of equations\n",
    "\n",
    "$$\n",
    "a_{1,1}x_1 + a_{1,2}x_2 + a_{1,n}x_n = b_1 \\\\\\\\\n",
    "a_{2,1}x_1 + a_{2,2}x_2 + a_{2,n}x_n = b_2 \\\\\\\\\n",
    "\\cdots \\\\\\\\\n",
    "a_{m,1}x_1 + a_{m,2}x_2 + a_{m,n}x_n = b_m\n",
    "$$\n",
    "\n",
    "can be written by grouping the columns in $\\mathbf{A}$\n",
    "\n",
    "$$\n",
    "x_1\n",
    "\\begin{bmatrix}\n",
    "    a_{1,1}\\\\\\\\\n",
    "    a_{2,1}\\\\\\\\\n",
    "    a_{m,1}\n",
    "\\end{bmatrix}\n",
    "+\n",
    "x_2\n",
    "\\begin{bmatrix}\n",
    "    a_{1,2}\\\\\\\\\n",
    "    a_{2,2}\\\\\\\\\n",
    "    a_{m,2}\n",
    "\\end{bmatrix}\n",
    "+\\cdots+\n",
    "x_n\n",
    "\\begin{bmatrix}\n",
    "    a_{1,n}\\\\\\\\\n",
    "    a_{2,n}\\\\\\\\\n",
    "    a_{m,n}\n",
    "\\end{bmatrix}\n",
    "=\n",
    "\\begin{bmatrix}\n",
    "    b_1\\\\\\\\\n",
    "    b_2\\\\\\\\\n",
    "    b_m\n",
    "\\end{bmatrix}.\n",
    "$$\n",
    "\n",
    "In this view, the solution $\\mathbf{b}$ is a linear combination of the columns of $\\mathbf{A}$, weighted by the components of $\\mathbf{x}$."
   ]
  },
  {
   "cell_type": "markdown",
   "metadata": {
    "id": "fA2sIoL8F8L3"
   },
   "source": [
    "* For the **underdetermined** system, $n \\gt m$ and the system has **infinite number of solutions**. As an example in the column view,\n",
    "$$\n",
    "\\begin{align}\n",
    "a_{1,1}x_1+a_{1,2}x_2+a_{1,3}x_3=b_1\\\\\n",
    "a_{2,1}x_1+a_{2,2}x_2+a_{2,3}x_3=b_2\n",
    "\\end{align}\n",
    "\\quad\\text{corresponds to}\\quad\\\n",
    "x_1\n",
    "\\begin{bmatrix}\n",
    "    a_{1,1}\\\\\n",
    "    a_{2,1}\n",
    "\\end{bmatrix}\n",
    "+x_2\n",
    "\\begin{bmatrix}\n",
    "    a_{1,2}\\\\\n",
    "    a_{2,2}\n",
    "\\end{bmatrix}\n",
    "+x_3\n",
    "\\begin{bmatrix}\n",
    "    a_{1,3}\\\\\n",
    "    a_{2,3}\n",
    "\\end{bmatrix}\n",
    "=\n",
    "\\begin{bmatrix}\n",
    "    b_{1}\\\\\n",
    "    b_{2}\n",
    "\\end{bmatrix}.\n",
    "$$\n",
    "\n",
    "But, if the columns of $\\mathbf{A}$ are independent, two of them are enough to reach any point in $\\mathbb{R}^2$. So, two components out of the three in $\\mathbf{x}$ are set and the third is free, meaning that there are infinite number of solutions.\n",
    "\n",
    "* For the **overdetermined** system $m\\gt n$ and there is **no solution**. For example using the column view,\n",
    "\n",
    "$$\n",
    "\\begin{align}\n",
    "a_{1,1}x_1+a_{1,2}x_2=b_1\\\\\n",
    "a_{2,1}x_1+a_{2,2}x_2=b_2\\\\\n",
    "a_{3,1}x_1+a_{3,2}x_2=b_3\\\\\n",
    "\\end{align}\n",
    "\\quad\\text{corresponds to}\\quad\\\n",
    "x_1\n",
    "\\begin{bmatrix}\n",
    "    a_{1,1}\\\\\n",
    "    a_{2,1}\\\\\n",
    "    a_{3,1}\\\\\n",
    "\\end{bmatrix}\n",
    "+x_2\n",
    "\\begin{bmatrix}\n",
    "    a_{1,2}\\\\\n",
    "    a_{2,2}\\\\\n",
    "    a_{3,2}\n",
    "\\end{bmatrix}\n",
    "=\n",
    "\\begin{bmatrix}\n",
    "    b_{1}\\\\\n",
    "    b_{2}\\\\\n",
    "    b_{3}\n",
    "\\end{bmatrix}.\n",
    "$$\n",
    "\n",
    "In the row view we have 3 lines and we are looking for unique intersection in the 2-dimensional plan. The three lines (if independent) will intesect in multiple points resulting in no solution. In the column view, becuase $n=2$ the linear combination of two 3-dimensional vectors is not enough to span the 3-dimensional space, unless the vecotr $\\mathbf{b}$ lies, for some reason, in the subspace formed by these two vectors."
   ]
  },
  {
   "cell_type": "markdown",
   "metadata": {
    "id": "7XW6ZNIza4BB"
   },
   "source": [
    "### Linear dependency\n",
    "\n",
    "The number of columns can thus provide information on the number of solutions. But the number that we have to take into account is the number of linearly **independent** columns. Columns are linearly **dependent** if one of them is a linear combination of the others. In the column view, the direction of two linearly dependent vectors is the same and this doesn't add value in spanning the space.\n",
    "\n",
    "As an example,\n",
    "\n",
    "$$\n",
    "\\begin{align}\n",
    "x_1+2x_2=b_1\\\\\n",
    "2x_1+4x_2=b_2\n",
    "\\end{align}\n",
    "\\quad\\text{which in the column view is}\\quad\n",
    "x_1\n",
    "\\begin{bmatrix}\n",
    "    1 \\\\\n",
    "    2\n",
    "\\end{bmatrix}\n",
    "+\n",
    "x_2\n",
    "\\begin{bmatrix}\n",
    "    2 \\\\\n",
    "    4\n",
    "\\end{bmatrix}\n",
    "=\n",
    "\\begin{bmatrix}\n",
    "    b_1 \\\\\n",
    "    b_2\n",
    "\\end{bmatrix}\n",
    "$$.\n",
    "\n",
    "The columns $(1,2)^\\top$ and $(2,4)^\\top$ are **dependent** and hence their linear combination is not enough to span the full $\\mathbb{R}^2$ and reach all points in this space. If $\\mathbf{b}=(3,6)^\\top$ there is a solution $\\mathbf{x}^\\top=(1,1)^\\top$ because the vector $(1,2)^\\top$ spans a subspace of $\\mathbb{R}^2$ that contains the vector $\\mathbf{b}=(3,6)^\\top$.\n",
    "But for more general solution, as say $\\mathbf{b}=(3,7)$, there is no solution \n",
    "as linear combinations of $(1,2)^\\top$ are not enough to reach all points in $\\mathbb{R}^2$. This is an example of an **overdetermined** system with $m=2\\gt n=1$ because of the linear dependency between the columns.\n"
   ]
  },
  {
   "cell_type": "markdown",
   "metadata": {
    "id": "YrfWgk6Ga4BC"
   },
   "source": [
    "### Square matrix\n",
    "\n",
    "When $\\mathbf{A}\\in\\mathbb{R}^{m\\times n}$ and $m=n$ the matrix $\\mathbf{A}$ is called square matrix and if the columns are linearly **independant** there is a unique solution to $\\mathbf{A}\\mathbf{x}=\\mathbf{b}$.\n",
    "The solution is simply $\\mathbf{x}=\\mathbf{A}^{-1}\\mathbf{b}$, where $\\mathbf{A}^{-1}$ is the inverse of $\\mathbf{A}$.\n",
    "\n",
    "When $\\mathbf{A}^{-1}$ exist, we say that $\\mathbf{A}$ is invertible (aka, nonsingular, or nondegenerate). \n",
    "In this case, the columns and rows of $\\mathbf{A}$ are linearly independent.\n",
    "\n",
    "\n",
    "\n",
    "<!-- A is invertible, that is, A has an inverse, is nonsingular, or is nondegenerate.\n",
    "A is row-equivalent to the n-by-n identity matrix In.\n",
    "A is column-equivalent to the n-by-n identity matrix In.\n",
    "A has n pivot positions.\n",
    "det A ≠ 0. In general, a square matrix over a commutative ring is invertible if and only if its determinant is a unit in that ring.\n",
    "A has full rank; that is, rank A = n.\n",
    "Based on the rank A=n, the equation Ax = 0 has only the trivial solution x = 0. and the equation Ax = b has exactly one solution for each b in Kn.\n",
    "The kernel of A is trivial, that is, it contains only the null vector as an element, ker(A) = {0}.\n",
    "The columns of A are linearly independent.\n",
    "The columns of A span Kn.\n",
    "Col A = Kn.\n",
    "The columns of A form a basis of Kn.\n",
    "The linear transformation mapping x to Ax is a bijection from Kn to Kn.\n",
    "There is an n-by-n matrix B such that AB = In = BA.\n",
    "The transpose AT is an invertible matrix (hence rows of A are linearly independent, span Kn, and form a basis of Kn).\n",
    "The number 0 is not an eigenvalue of A.\n",
    "The matrix A can be expressed as a finite product of elementary matrices.\n",
    "The matrix A has a left inverse (that is, there exists a B such that BA = I) or a right inverse (that is, there exists a C such that AC = I), in which case both left and right inverses exist and B = C = A−1. -->"
   ]
  },
  {
   "cell_type": "markdown",
   "metadata": {
    "id": "uIFgIxFdAR6E"
   },
   "source": [
    "### Rank\n",
    "\n",
    "The **column rank** of $\\mathbf{A}$ is the dimension of the column space of $\\mathbf{A}$ (i.e., the number of linearly independent columns), while the **row rank** of $\\mathbf{A}$ is the dimension of the row space of $\\mathbf{A}$ (i.e., the number of linearly independent rows).\n",
    "\n",
    "A fundamental result in linear algebra is that the column rank and the row rank are **always equal** and this number is simply called the rank of $\\mathbf{A}$.\n",
    "A matrix $\\mathbf{A}\\in\\mathbb{R}^{m\\times n}$ is said to have **full rank** if it's rank equals to $\\min(m, n$); otherwise, the matrix is **rank deficient**."
   ]
  },
  {
   "cell_type": "code",
   "execution_count": 84,
   "metadata": {
    "colab": {
     "base_uri": "https://localhost:8080/"
    },
    "id": "P8wDZ6ZbAVg2",
    "outputId": "9d49e94f-1178-4713-c248-bc1721035330"
   },
   "outputs": [
    {
     "data": {
      "text/plain": [
       "(2, 1, 3)"
      ]
     },
     "execution_count": 84,
     "metadata": {},
     "output_type": "execute_result"
    }
   ],
   "source": [
    "A=np.array([[1,2],[3,4]]); B=np.array([[1,2],[2,4]]); C=np.array([[1,0,0],[0,1,0],[0,0,1]])\n",
    "np.linalg.matrix_rank(A), np.linalg.matrix_rank(B), np.linalg.matrix_rank(C)"
   ]
  },
  {
   "cell_type": "markdown",
   "metadata": {
    "id": "dzmF_K5B_Dl-"
   },
   "source": [
    "### Invertibility\n",
    "\n",
    "An $n\\times n$ square matrix $\\mathbf{A}$ is called **invertible** (also **nonsingular** or **nondegenerate**), if there exists an $n\\times n$ square matrix $\\mathbf{B}$ such that\n",
    "$$\n",
    "\\mathbf{A}\\mathbf{B}=\\mathbf{B}\\mathbf{A}=\\mathbf{I}_n\n",
    "$$\n",
    "\n",
    "where $\\mathbf{I}_n$ denotes the $n\\times n$ identity matrix. In this case, then the matrix $\\mathbf{B}$ is uniquely determined by $\\mathbf{A}$, and is called the inverse of $\\mathbf{A}$, denoted by $\\mathbf{A}^{-1}$.\n",
    "\n",
    "A square matrix that is not invertible is called **singular** or **degenerate**. Non-square matrices ($m\\times n$ matrices with $n\\ne n$) do not have an inverse (but they may have a left inverse or right inverse). \n",
    "A square matrix is singular if and only if its determinant is zero. In practice, singular square matrices are quite rare. \n",
    "\n",
    "\n",
    "\n",
    "$$\n",
    "\\mathbf{A} = \\begin{bmatrix}\n",
    "a & b \\\\\n",
    "c & d\n",
    "\\end{bmatrix},\n",
    "$$\n",
    "\n",
    "then we can see that the inverse is\n",
    "\n",
    "$$\n",
    " \\frac{1}{ad-bc}  \\begin{bmatrix}\n",
    "d & -b \\\\\n",
    "-c & a\n",
    "\\end{bmatrix}.\n",
    "$$\n",
    "\n",
    "We can test to see this by seeing that multiplying\n",
    "by the inverse given by the formula above works in practice.\n"
   ]
  }
 ],
 "metadata": {
  "colab": {
   "name": "Linear_Algebra_Review.ipynb",
   "provenance": []
  },
  "kernelspec": {
   "display_name": "Python 3",
   "name": "python3"
  },
  "language_info": {
   "name": "python"
  }
 },
 "nbformat": 4,
 "nbformat_minor": 0
}