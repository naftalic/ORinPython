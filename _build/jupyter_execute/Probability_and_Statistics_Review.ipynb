{
 "cells": [
  {
   "cell_type": "markdown",
   "metadata": {
    "id": "hUIHrgORK5Tw"
   },
   "source": [
    "# Probability and Statistics Review\n",
    "\n",
    "Probability and statistics and constitute of dealing with uncertainty in desicion making. The theory of probability provides the basis for the learning from data."
   ]
  },
  {
   "cell_type": "code",
   "execution_count": 1,
   "metadata": {
    "id": "YANP4WOwIPok"
   },
   "outputs": [],
   "source": [
    "import numpy as np\n",
    "from scipy import stats\n",
    "import scipy\n"
   ]
  },
  {
   "cell_type": "markdown",
   "metadata": {
    "id": "v8TSC_vhIPoq"
   },
   "source": [
    "## Fundamentals\n",
    "Starting with a few definitions. A **sample space** is the set of all the possible experimental outcomes. And, **experiment**, is defined to be any process for which more than one **outcome** is possible.\n",
    "\n",
    "Imagine a sample space of $n$ possible outcomes $S = \\{ O_1, O_2, \\cdots, O_n \\}$. We assign a probability $p_i$ to each outcome $O_i$\n",
    "\n",
    "\\begin{equation}\n",
    "    P(O_i) = p_i.\n",
    "\\end{equation}\n",
    "\n",
    "All $p_i$ must satisfy \n",
    "\\begin{equation}\n",
    "   0 \\leq p_i \\leq 1, \\hspace{0.5cm} \\forall i= 1,2, \\cdots, n.\n",
    "\\end{equation}\n",
    "\n",
    "If all $p_i$ are equal to a constant $p$ we say that all $n$ outcomes are equally likely, and each probability has a value of $1/n$.\n",
    "\n",
    "An **event** is defined to be a subset of the sample space. The probability of an event $A$, $P(A)$, is obtained by summing the probabilities of the outcomes contained withing the event $A$. An event is said to occur if one of the outcomes contained within the event occurs. The complement of event $A$ is the event $A^C$ and is defined to be the event consisting of everything in the sample space $S$ that is not contained within $A$. In example,\n",
    "\n",
    "\\begin{equation}\n",
    "    P(A) + P(A^C) = 1\n",
    "\\end{equation}\n",
    "\n",
    "**Intersections** of events, $A \\cap B$, consists of the outcomes contained within both events $A$ and $B$. The probability of the intersection, $P(A \\cap B)$, is the probability that both events occur simultaneously.\n",
    "A few known properties of the intersections of events:\n",
    "\\text{For mutually exclusive events:}~\n",
    "\n",
    "\\begin{align}\n",
    " & P(A \\cap B) +P(A \\cap B^C) = P(A)\\\\\n",
    "&A \\cap (B \\cap C) = (A \\cap B) \\cap C\\\\\n",
    "& A \\cap B = \\emptyset \\quad\\text{(for mutually exclusive events)}\\\\\n",
    "\\end{align}\n",
    "\n",
    "The **union** of events, $ A\\cup B$, consists of the outcomes that are contained within at least one of the events $A$ and $B$. The probability of this event, $P (A \\cup B)$ is the probability that at least one of these events $A$ and $B$ occurs.\n",
    "A few known properties of the union of events:\n",
    "\n",
    "\\begin{align}\n",
    "& A \\cup A^C = S \\\\\n",
    "& (A \\cup B)^C = A^C \\cap B^C\\\\\n",
    "& (A \\cap B)^C = A^C \\cup B^C\\\\\n",
    "& A \\cup (B \\cup C) = (A \\cup B) \\cup C \\\\\n",
    "& P(A \\cup B) = P(A) + P(B) = \\emptyset \\quad\\text{(for mutually exclusive events)}\\\\\n",
    "& P( A \\cup B) = P(A \\cap B^C) + P(A^C \\cap B^C) + P(A \\cap B)\\\\\n",
    "\\end{align}\n",
    "\n",
    "The union of three events is equal to \n",
    "\\begin{align}\n",
    "P(A \\cup B \\cup C) = P(A) + P(B) + P(C) - P(A \\cap B) - P( B \\cap C) - P( A \\cap C) + P(A \\cap B \\cap C).\n",
    "\\end{align}\n",
    "If the events union is **mutually exclusive** then\n",
    "\\begin{align}\n",
    "    P(A_1 \\cup A_2 \\cup \\cdots \\cup A_n) = P(A_1) + \\cdots + P(A_n),\n",
    "\\end{align}\n",
    "where the sequence $A_1, A_2, \\cdots , A_n$ are called the **partition** of $S$.\n",
    "\n",
    "**Conditional Probability** is defined as an event $B$ that is conditioned on another event $A$. In this case,\n",
    "\\begin{align}\n",
    "    P(B \\mid A) = \\frac{P(A \\cap B)}{P(A)} \\hspace{0.5cm}  \\text{for } P(A) >0.\n",
    "\\end{align}\n",
    "\n",
    "From the above equation, it follows that \n",
    "\\begin{align}\n",
    "P(A \\cap B) = P (B \\mid A) P(A).\n",
    "\\end{align}\n",
    "\n",
    "It's not hard to see that conditioning on more evets (e.g. two) results in\n",
    "\\begin{align}\n",
    "P(A \\cap B\\cap C) = P (C \\mid B\\cap A) P(B\\cap A).\n",
    "\\end{align}\n",
    "\n",
    "In general, for a sequence of events $A_1, A_2, \\cdots, A_n$:\n",
    "\\begin{align}\n",
    "\\mathrm {P} (A_{n}\\cap \\ldots \\cap A_{1})=\\mathrm {P} (A_{n}|A_{n-1}\\cap \\ldots \\cap A_{1})\\cdot \\mathrm {P} (A_{n-1}\\cap \\ldots \\cap A_{1}).\n",
    "\\end{align}\n",
    "\n",
    "If the two events $A$ and $B$ are independent, knowledge about one event does not affect the probability of the other event. The following conditions are equivalent:\n",
    "\\begin{align}\n",
    "P(A \\mid B) &= P(A)\\\\\n",
    "P(A \\cap B) &= P(A)P(B).\\\\\n",
    "\\end{align}\n",
    "\n",
    "In general, if $A_1, A_2, \\cdots, A_n$ are independent then\n",
    "\\begin{align}\n",
    "P(A_1 \\cap A_2  \\ldots \\cap A_n) = P(A_1)P(A_2) \\cdots P(A_n).\n",
    "\\end{align}\n"
   ]
  },
  {
   "cell_type": "markdown",
   "metadata": {
    "id": "Lnr_kfAyIPoy"
   },
   "source": [
    "The law of total probability states that given a partition of the sample space $B$ to $n$ non-overlapping segments $\\{ A_1, A_2, \\cdots, A_n \\}$ the probability of an event $B$, $P(B)$ can be expressed as:\n",
    "\\begin{align}\n",
    "    P(B) = \\sum_{i=1}^n P(A_i)P(B \\mid A_i)\n",
    "\\end{align}\n",
    "\n",
    "And finally, Bayes' theorem is infered from the conditional probability equations $P(A|B)=P(A\\cap B)/P(B)$ and $P(B|A)=P(B\\cap A)/P(A)$. Because, $P(A\\cap B)=P(B\\cap A)$ it follows that\n",
    "\\begin{align}\n",
    "    P(A \\mid B) = \\frac{P(B \\mid A) P(A) }{ P(B)}.\n",
    "\\end{align}\n",
    "If $B$\n",
    "- Given $\\{ A_1, A_2, \\cdots, A_n \\}$ a partition of a sample space, then the posterior probabilities of the event $A_i$ conditional on an event $B$ can be obtained from the probabilities $P(A_i)$ and $P(A_i \\mid B)$ using the formula:\n",
    "\\begin{equation}\n",
    "    P(A_i \\mid B) = \\frac{P(A_i)P(B \\mid A_i)}{\\sum_{j=1}^n P(A_j)P(B \\mid A_j)}\n",
    "\\end{equation}"
   ]
  },
  {
   "cell_type": "markdown",
   "metadata": {
    "id": "Nmnm7XLSIPoy"
   },
   "source": [
    "### Bayes' Theorem"
   ]
  },
  {
   "cell_type": "markdown",
   "metadata": {
    "id": "uC7SACdjIPoy"
   },
   "source": [
    "- Given $\\{ A_1, A_2, \\cdots, A_n \\}$ a partition of a sample space, then the posterior probabilities of the event $A_i$ conditional on an event $B$ can be obtained from the probabilities $P(A_i)$ and $P(A_i \\mid B)$ using the formula:\n",
    "\\begin{equation}\n",
    "    P(A_i \\mid B) = \\frac{P(A_i)P(B \\mid A_i)}{\\sum_{j=1}^n P(A_j)P(B \\mid A_j)}\n",
    "\\end{equation}"
   ]
  },
  {
   "cell_type": "code",
   "execution_count": 1,
   "metadata": {
    "id": "J-i4rjwEIPoy"
   },
   "outputs": [],
   "source": []
  },
  {
   "cell_type": "markdown",
   "metadata": {
    "id": "GSUUbT5LIjaw"
   },
   "source": []
  }
 ],
 "metadata": {
  "colab": {
   "collapsed_sections": [],
   "name": "Probability_and_Statistics_Review.ipynb",
   "provenance": []
  },
  "kernelspec": {
   "display_name": "Python 3",
   "name": "python3"
  },
  "language_info": {
   "codemirror_mode": {
    "name": "ipython",
    "version": 3
   },
   "file_extension": ".py",
   "mimetype": "text/x-python",
   "name": "python",
   "nbconvert_exporter": "python",
   "pygments_lexer": "ipython3",
   "version": "3.7.6"
  }
 },
 "nbformat": 4,
 "nbformat_minor": 0
}