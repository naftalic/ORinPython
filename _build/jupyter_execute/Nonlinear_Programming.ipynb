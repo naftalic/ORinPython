{
 "cells": [
  {
   "cell_type": "markdown",
   "metadata": {
    "id": "08YeDKwMyXqt"
   },
   "source": [
    "# Nonlinear Programming"
   ]
  },
  {
   "cell_type": "markdown",
   "metadata": {
    "id": "-WI5bf1URlgb"
   },
   "source": [
    "Problems that fit the general linear programming format but contain nonlinear functions are termed nonlinear programming problems.\n",
    "* Solution methods are more complex than linear programming methods.\n",
    "* Determining an optimal solution is often difficult, if not impossible.\n",
    "* Solution techniques generally involve searching a solution surface for high or low points requiring the use of advanced mathematics.\n",
    "\n",
    "* A nonlinear problem containing one or more constraints becomes a constrained optimization model or a nonlinear programming model.\n",
    "* A nonlinear programming model has the same general form as the linear programming model except that the objective function and/or the constraint(s) are nonlinear.\n",
    "* Solution procedures are much more complex and no guaranteed procedure exists for all nonlinear problem models.\n",
    "* Unlike linear programming, the solution is often not on the boundary of the feasible solution space.\n",
    "* Cannot simply look at points on the solution space boundary but must consider other points on the surface of the objective function.\n",
    "* This greatly complicates solution approaches.\n",
    "* Solution techniques can be very complex.\n",
    "\n",
    "\n"
   ]
  },
  {
   "cell_type": "markdown",
   "metadata": {
    "id": "oY2_C-GQSKVX"
   },
   "source": [
    "## Nonlinear problem example: \n",
    "Solve the following nonlinear programming model:\n",
    "\\begin{align}\n",
    "&\\text{max}\\\\\n",
    "&\\qquad z=(4-0.1x_1)x_1+(5-0.2x_2)x_2\\\\\n",
    "&\\text{s.t.}\\\\\n",
    "&\\qquad x_1+2x_2=40\\\\\n",
    "&\\qquad x_i \\ge 0\\\\\n",
    "\\end{align}  "
   ]
  },
  {
   "cell_type": "code",
   "execution_count": 2,
   "metadata": {
    "colab": {
     "base_uri": "https://localhost:8080/"
    },
    "executionInfo": {
     "elapsed": 5745,
     "status": "ok",
     "timestamp": 1638457158348,
     "user": {
      "displayName": "Naftali Cohen",
      "photoUrl": "https://lh3.googleusercontent.com/a/default-user=s64",
      "userId": "15833855460360307744"
     },
     "user_tz": 300
    },
    "id": "knHs9TpoyYdp",
    "outputId": "1d0cfb61-3ce0-45e3-af04-d188797491bf"
   },
   "outputs": [
    {
     "name": "stdout",
     "output_type": "stream",
     "text": [
      "Collecting gurobipy\n",
      "  Downloading gurobipy-9.5.0-cp37-cp37m-manylinux2014_x86_64.whl (11.5 MB)\n",
      "\u001b[K     |████████████████████████████████| 11.5 MB 5.2 MB/s \n",
      "\u001b[?25hInstalling collected packages: gurobipy\n",
      "Successfully installed gurobipy-9.5.0\n",
      "Restricted license - for non-production use only - expires 2023-10-25\n",
      "Gurobi Optimizer version 9.5.0 build v9.5.0rc5 (linux64)\n",
      "Thread count: 1 physical cores, 2 logical processors, using up to 2 threads\n",
      "Optimize a model with 1 rows, 2 columns and 2 nonzeros\n",
      "Model fingerprint: 0x34cdafe3\n",
      "Model has 2 quadratic objective terms\n",
      "Coefficient statistics:\n",
      "  Matrix range     [1e+00, 2e+00]\n",
      "  Objective range  [4e+00, 5e+00]\n",
      "  QObjective range [2e-01, 4e-01]\n",
      "  Bounds range     [0e+00, 0e+00]\n",
      "  RHS range        [4e+01, 4e+01]\n",
      "Presolve time: 0.01s\n",
      "Presolved: 1 rows, 2 columns, 2 nonzeros\n",
      "Presolved model has 2 quadratic objective terms\n",
      "Ordering time: 0.00s\n",
      "\n",
      "Barrier statistics:\n",
      " AA' NZ     : 0.000e+00\n",
      " Factor NZ  : 1.000e+00\n",
      " Factor Ops : 1.000e+00 (less than 1 second per iteration)\n",
      " Threads    : 1\n",
      "\n",
      "                  Objective                Residual\n",
      "Iter       Primal          Dual         Primal    Dual     Compl     Time\n",
      "   0  -5.98930000e+05  6.12060000e+05  2.00e+03 0.00e+00  1.01e+06     0s\n",
      "   1   7.00620769e+01  1.96612266e+04  2.00e-03 0.00e+00  9.80e+03     0s\n",
      "   2   7.00738420e+01  9.86563122e+01  9.19e-07 0.00e+00  1.43e+01     0s\n",
      "   3   7.04164770e+01  7.06320152e+01  2.71e-10 0.00e+00  1.08e-01     0s\n",
      "   4   7.04166667e+01  7.04168819e+01  0.00e+00 8.88e-16  1.08e-04     0s\n",
      "   5   7.04166667e+01  7.04166669e+01  0.00e+00 0.00e+00  1.08e-07     0s\n",
      "   6   7.04166667e+01  7.04166667e+01  0.00e+00 8.88e-16  1.08e-10     0s\n",
      "\n",
      "Barrier solved model in 6 iterations and 0.05 seconds (0.00 work units)\n",
      "Optimal objective 7.04166667e+01\n",
      "\n",
      "x1 18.33333333336888\n",
      "x2 10.833333333315561\n",
      "optimal total revenue: 70.41666666666666\n"
     ]
    }
   ],
   "source": [
    "!pip install gurobipy\n",
    "\n",
    "# Import gurobi library\n",
    "from gurobipy import * # This command imports the Gurobi functions and classes.\n",
    "\n",
    "import numpy as np\n",
    "\n",
    "# create new model\n",
    "m = Model('Beaver Creek Pottery Company ')\n",
    "x1 = m.addVar(lb = 0, vtype = GRB.CONTINUOUS, name='x1') \n",
    "x2 = m.addVar(lb = 0, vtype = GRB.CONTINUOUS, name='x2')\n",
    "\n",
    "m.setObjective((4-0.1*x1)*x1+(5-0.2*x2)*x2, GRB.MAXIMIZE)\n",
    "m.addConstr(1*x1+2*x2==40, 'const1')\n",
    "\n",
    "m.optimize()\n",
    "\n",
    "#display optimal production plan\n",
    "for v in m.getVars():\n",
    "  print(v.varName, v.x)\n",
    "print('optimal total revenue:', m.objVal)"
   ]
  },
  {
   "cell_type": "markdown",
   "metadata": {
    "id": "CcZEs_tbSk2j"
   },
   "source": [
    "## A Nonlinear Programming Model with Multiple Constraints:\n",
    " \n",
    "Solve the following nonlinear programming model:\n",
    "\\begin{align}\n",
    "&\\text{max}\\\\\n",
    "&\\qquad z=\\left(\\frac{1500-x_1}{24.6}-12\\right)x_1\n",
    "+\\left(\\frac{2700-x_2}{63.8}-9\\right)x_2\\\\\n",
    "&\\text{s.t.}\\\\\n",
    "&\\qquad 2x_1+2.7x_2\\le 6000\\\\\n",
    "&\\qquad 3.6x_1+2.9x_2\\le 8500\\\\\n",
    "&\\qquad 7.2x_1+8.5x_2\\le 15000\\\\\n",
    "&\\qquad x_i \\ge 0\\\\\n",
    "\\end{align} "
   ]
  },
  {
   "cell_type": "code",
   "execution_count": 3,
   "metadata": {
    "colab": {
     "base_uri": "https://localhost:8080/"
    },
    "executionInfo": {
     "elapsed": 3316,
     "status": "ok",
     "timestamp": 1638457161658,
     "user": {
      "displayName": "Naftali Cohen",
      "photoUrl": "https://lh3.googleusercontent.com/a/default-user=s64",
      "userId": "15833855460360307744"
     },
     "user_tz": 300
    },
    "id": "H6MLLFrqyaUm",
    "outputId": "6176aa1f-d801-4a4d-b16a-6323c176687a"
   },
   "outputs": [
    {
     "name": "stdout",
     "output_type": "stream",
     "text": [
      "Requirement already satisfied: gurobipy in /usr/local/lib/python3.7/dist-packages (9.5.0)\n",
      "Gurobi Optimizer version 9.5.0 build v9.5.0rc5 (linux64)\n",
      "Thread count: 1 physical cores, 2 logical processors, using up to 2 threads\n",
      "Optimize a model with 3 rows, 2 columns and 6 nonzeros\n",
      "Model fingerprint: 0x390c5c3a\n",
      "Model has 2 quadratic objective terms\n",
      "Coefficient statistics:\n",
      "  Matrix range     [2e+00, 8e+00]\n",
      "  Objective range  [3e+01, 5e+01]\n",
      "  QObjective range [3e-02, 8e-02]\n",
      "  Bounds range     [0e+00, 0e+00]\n",
      "  RHS range        [6e+03, 2e+04]\n",
      "Presolve time: 0.01s\n",
      "Presolved: 3 rows, 2 columns, 6 nonzeros\n",
      "Presolved model has 2 quadratic objective terms\n",
      "Ordering time: 0.00s\n",
      "\n",
      "Barrier statistics:\n",
      " AA' NZ     : 3.000e+00\n",
      " Factor NZ  : 6.000e+00\n",
      " Factor Ops : 1.400e+01 (less than 1 second per iteration)\n",
      " Threads    : 1\n",
      "\n",
      "                  Objective                Residual\n",
      "Iter       Primal          Dual         Primal    Dual     Compl     Time\n",
      "   0  -3.51759547e+05  6.37499504e+05  9.27e+02 0.00e+00  1.12e+06     0s\n",
      "   1   2.37322400e+04  6.43047090e+05  0.00e+00 0.00e+00  1.24e+05     0s\n",
      "   2   2.51606709e+04  6.37933000e+04  0.00e+00 0.00e+00  7.73e+03     0s\n",
      "   3   3.20504323e+04  4.25647642e+04  0.00e+00 0.00e+00  2.10e+03     0s\n",
      "   4   3.24417089e+04  3.27645350e+04  0.00e+00 0.00e+00  6.46e+01     0s\n",
      "   5   3.24592168e+04  3.24657001e+04  0.00e+00 1.42e-14  1.30e+00     0s\n",
      "   6   3.24592344e+04  3.24592408e+04  0.00e+00 0.00e+00  1.29e-03     0s\n",
      "   7   3.24592344e+04  3.24592344e+04  0.00e+00 2.84e-14  1.29e-06     0s\n",
      "   8   3.24592344e+04  3.24592344e+04  0.00e+00 0.00e+00  1.29e-09     0s\n",
      "\n",
      "Barrier solved model in 8 iterations and 0.04 seconds (0.00 work units)\n",
      "Optimal objective 3.24592344e+04\n",
      "\n",
      "x1 602.3999999996935\n",
      "x2 1062.8999999990601\n",
      "optimal total revenue: 32459.234379539725\n"
     ]
    }
   ],
   "source": [
    "!pip install gurobipy\n",
    "from gurobipy import * # This command imports the Gurobi functions and classes.\n",
    "\n",
    "# create new model\n",
    "m = Model('Western Clothing Company')\n",
    "x1 = m.addVar(lb = 0, vtype = GRB.CONTINUOUS, name='x1') \n",
    "x2 = m.addVar(lb = 0, vtype = GRB.CONTINUOUS, name='x2')\n",
    "\n",
    "\n",
    "m.setObjective(((1500-x1)/24.6-12)*x1+((2700-x2)/63.8-9)*x2, GRB.MAXIMIZE)\n",
    "m.addConstr(2*x1+2.7*x2<=6000, 'const1')\n",
    "m.addConstr(3.6*x1+2.9*x2<=8500, 'const2')\n",
    "m.addConstr(7.2*x1+8.5*x2<=15000, 'const3')\n",
    "\n",
    "m.optimize()\n",
    "\n",
    "#display optimal production plan\n",
    "for v in m.getVars():\n",
    "  print(v.varName, v.x)\n",
    "print('optimal total revenue:', m.objVal)"
   ]
  },
  {
   "cell_type": "markdown",
   "metadata": {
    "id": "Yi5Y0s46T1am"
   },
   "source": [
    "## Problem Example: C10Q14\n",
    "Solve the following nonlinear programming model:\n",
    "\\begin{align}\n",
    "&\\text{max}\\\\\n",
    "&\\qquad z=\\left(15000-\\frac{9000}{x_1} \\right)\\\\\n",
    "&\\qquad ~~+\\left(24000-\\frac{15000}{x_2} \\right)\\\\\n",
    "&\\qquad ~~+\\left(8100-\\frac{5300}{x_3} \\right)\\\\\n",
    "&\\qquad ~~+\\left(12000-\\frac{7600}{x_4} \\right)\\\\\n",
    "&\\qquad ~~+\\left(21000-\\frac{12500}{x_4} \\right)\\\\\n",
    "&\\text{s.t.}\\\\\n",
    "&\\qquad x_1+x_2+x_3+x_4+x_5 \\le 15\\\\\n",
    "&\\qquad 355x_1+540x_2+290x_3+275x_4+490x_5 \\le 6500\\\\\n",
    "&\\qquad x_i \\ge 0,~\\text{and integer}\\\\\n",
    "\\end{align} "
   ]
  },
  {
   "cell_type": "code",
   "execution_count": 4,
   "metadata": {
    "colab": {
     "base_uri": "https://localhost:8080/"
    },
    "executionInfo": {
     "elapsed": 202,
     "status": "ok",
     "timestamp": 1638457161849,
     "user": {
      "displayName": "Naftali Cohen",
      "photoUrl": "https://lh3.googleusercontent.com/a/default-user=s64",
      "userId": "15833855460360307744"
     },
     "user_tz": 300
    },
    "id": "O0hc5us9ykdE",
    "outputId": "2915f94f-79dd-4a3a-b653-67da504dd69d"
   },
   "outputs": [
    {
     "name": "stdout",
     "output_type": "stream",
     "text": [
      "Set parameter NonConvex to value 2\n",
      "Gurobi Optimizer version 9.5.0 build v9.5.0rc5 (linux64)\n",
      "Thread count: 1 physical cores, 2 logical processors, using up to 2 threads\n",
      "Optimize a model with 2 rows, 10 columns and 10 nonzeros\n",
      "Model fingerprint: 0xb4d06825\n",
      "Model has 5 quadratic constraints\n",
      "Variable types: 5 continuous, 5 integer (0 binary)\n",
      "Coefficient statistics:\n",
      "  Matrix range     [1e+00, 5e+02]\n",
      "  QMatrix range    [1e+00, 1e+00]\n",
      "  Objective range  [5e+03, 2e+04]\n",
      "  Bounds range     [1e+00, 1e+00]\n",
      "  RHS range        [2e+01, 6e+03]\n",
      "  QRHS range       [1e+00, 1e+00]\n",
      "Presolve time: 0.00s\n",
      "Presolved: 22 rows, 10 columns, 50 nonzeros\n",
      "Presolved model has 5 bilinear constraint(s)\n",
      "Variable types: 5 continuous, 5 integer (0 binary)\n",
      "\n",
      "Root relaxation: objective 7.218908e+04, 7 iterations, 0.00 seconds (0.00 work units)\n",
      "\n",
      "    Nodes    |    Current Node    |     Objective Bounds      |     Work\n",
      " Expl Unexpl |  Obj  Depth IntInf | Incumbent    BestBd   Gap | It/Node Time\n",
      "\n",
      "     0     0 72189.0780    0   10          - 72189.0780      -     -    0s\n",
      "H    0     0                    60400.000000 72189.0780  19.5%     -    0s\n",
      "     0     0 71744.9856    0   10 60400.0000 71744.9856  18.8%     -    0s\n",
      "     0     0 71058.7908    0    5 60400.0000 71058.7908  17.6%     -    0s\n",
      "H    0     0                    63633.333333 71058.7908  11.7%     -    0s\n",
      "     0     0 69577.4266    0   10 63633.3333 69577.4266  9.34%     -    0s\n",
      "     0     0 69393.2479    0    5 63633.3333 69393.2479  9.05%     -    0s\n",
      "     0     0 69352.0957    0    5 63633.3333 69352.0957  8.99%     -    0s\n",
      "H    0     0                    63791.666667 69352.0957  8.72%     -    0s\n",
      "     0     2 69352.0957    0    5 63791.6667 69352.0957  8.72%     -    0s\n",
      "H   22    10                    64000.000000 67922.9290  6.13%   2.4    0s\n",
      "\n",
      "Cutting planes:\n",
      "  MIR: 6\n",
      "  RLT: 6\n",
      "\n",
      "Explored 70 nodes (193 simplex iterations) in 0.09 seconds (0.00 work units)\n",
      "Thread count was 2 (of 2 available processors)\n",
      "\n",
      "Solution count 4: 64000 63791.7 63633.3 60400 \n",
      "\n",
      "Optimal solution found (tolerance 1.00e-04)\n",
      "Best objective 6.400000000000e+04, best bound 6.400000000000e+04, gap 0.0000%\n",
      "x[0] 3.0\n",
      "x[1] 4.0\n",
      "x[2] 2.0\n",
      "x[3] 3.0\n",
      "x[4] 3.0\n",
      "u[0] 0.3333333333333333\n",
      "u[1] 0.25\n",
      "u[2] 0.5\n",
      "u[3] 0.3333333333333333\n",
      "u[4] 0.3333333333333333\n",
      "optimal total revenue: 64000.0\n"
     ]
    }
   ],
   "source": [
    "from gurobipy import * \n",
    "import numpy as np\n",
    "\n",
    "m = Model('C10Q14')\n",
    "m.params.NonConvex = 2\n",
    "\n",
    "x  = m.addVars(range(5), name='x',  lb=1, vtype = GRB.INTEGER)\n",
    "u  = m.addVars(range(5), name='u',  lb=0, vtype = GRB.CONTINUOUS)\n",
    "\n",
    "m.setObjective((15000 -9000*u[0])+(24000-15000*u[1])+\n",
    "               (8100  -5300*u[2])+(12000 -7600*u[3])+\n",
    "               (21000-12500*u[4]), GRB.MAXIMIZE)\n",
    "m.addConstr(x[0]+x[1]+x[2]+x[3]+x[4]<=15, 'const1')\n",
    "m.addConstr(355*x[0]+540*x[1]+290*x[2]+275*x[3]+490*x[4]<=6500, 'const2')\n",
    "\n",
    "m.addConstrs((x[i]*u[i] == 1 for i in range(5)), name='bilinear')\n",
    "\n",
    "m.optimize()\n",
    "\n",
    "for v in m.getVars():\n",
    "  print(v.varName, v.x)\n",
    "print('optimal total revenue:', m.objVal)"
   ]
  },
  {
   "cell_type": "markdown",
   "metadata": {
    "id": "_KtjCLNyTUhK"
   },
   "source": [
    "## Facility Location Problem Example: C10Q19\n",
    "Solve the following nonlinear programming model:\n",
    "\\begin{align}\n",
    "&\\text{min}\\\\\n",
    "&\\qquad z=7000\\sqrt{(1000-x)^2+(1250-y)^2}\\\\\n",
    "&\\qquad ~~+9000\\sqrt{(1500-x)^2+(2700-y)^2}\\\\\n",
    "&\\qquad ~+11500\\sqrt{(2000-x)^2+(700-y)^2}\\\\\n",
    "&\\qquad ~~+4300\\sqrt{(2200-x)^2+(2000-y)^2}\\\\\n",
    "\\\\\n",
    "&\\text{s.t.}\\\\\n",
    "&\\qquad x, y \\ge 0\\\\\n",
    "\\end{align} "
   ]
  },
  {
   "cell_type": "code",
   "execution_count": 5,
   "metadata": {
    "colab": {
     "base_uri": "https://localhost:8080/"
    },
    "executionInfo": {
     "elapsed": 891,
     "status": "ok",
     "timestamp": 1638457162734,
     "user": {
      "displayName": "Naftali Cohen",
      "photoUrl": "https://lh3.googleusercontent.com/a/default-user=s64",
      "userId": "15833855460360307744"
     },
     "user_tz": 300
    },
    "id": "1FcPYspJycrJ",
    "outputId": "e9706f47-3636-483b-c08b-30e8aa9daefc"
   },
   "outputs": [
    {
     "name": "stdout",
     "output_type": "stream",
     "text": [
      "Set parameter NonConvex to value 2\n",
      "Gurobi Optimizer version 9.5.0 build v9.5.0rc5 (linux64)\n",
      "Thread count: 1 physical cores, 2 logical processors, using up to 2 threads\n",
      "Optimize a model with 0 rows, 10 columns and 0 nonzeros\n",
      "Model fingerprint: 0x087228d7\n",
      "Model has 8 quadratic constraints\n",
      "Coefficient statistics:\n",
      "  Matrix range     [0e+00, 0e+00]\n",
      "  QMatrix range    [1e+00, 1e+00]\n",
      "  QLMatrix range   [1e+00, 5e+03]\n",
      "  Objective range  [4e+03, 1e+04]\n",
      "  Bounds range     [0e+00, 0e+00]\n",
      "  RHS range        [0e+00, 0e+00]\n",
      "  QRHS range       [3e+06, 1e+07]\n",
      "\n",
      "Continuous model is non-convex -- solving as a MIP\n",
      "\n",
      "Presolve time: 0.00s\n",
      "Presolved: 22 rows, 13 columns, 50 nonzeros\n",
      "Presolved model has 6 bilinear constraint(s)\n",
      "Variable types: 13 continuous, 0 integer (0 binary)\n",
      "\n",
      "Root relaxation: objective 0.000000e+00, 5 iterations, 0.00 seconds (0.00 work units)\n",
      "\n",
      "    Nodes    |    Current Node    |     Objective Bounds      |     Work\n",
      " Expl Unexpl |  Obj  Depth IntInf | Incumbent    BestBd   Gap | It/Node Time\n",
      "\n",
      "     0     0    0.00000    0    4          -    0.00000      -     -    0s\n",
      "     0     0    0.00000    0    4          -    0.00000      -     -    0s\n",
      "H    0     0                    3.188442e+07    0.00000   100%     -    0s\n",
      "     0     2 2955947.12    0    3 3.1884e+07 2955947.12  90.7%     -    0s\n",
      "H   38    28                    2.904697e+07 2955947.12  89.8%   1.6    0s\n",
      "H   99    51                    2.902868e+07 2955947.12  89.8%   1.2    0s\n",
      "H  194    56                    2.901548e+07 8429605.93  70.9%   1.3    0s\n",
      "*  781   107              54    2.896174e+07 2.4402e+07  15.7%   1.0    0s\n",
      "* 1880   137              67    2.895822e+07 2.5464e+07  12.1%   1.0    0s\n",
      "* 2608   121              66    2.894775e+07 2.8321e+07  2.17%   1.0    0s\n",
      "* 2742   110              54    2.894588e+07 2.8500e+07  1.54%   1.0    0s\n",
      "* 2866   113              62    2.894464e+07 2.8670e+07  0.95%   1.0    0s\n",
      "* 3078   107              66    2.894464e+07 2.8858e+07  0.30%   1.0    0s\n",
      "* 3079   105              66    2.894464e+07 2.8858e+07  0.30%   1.0    0s\n",
      "\n",
      "Explored 3536 nodes (3724 simplex iterations) in 0.48 seconds (0.04 work units)\n",
      "Thread count was 2 (of 2 available processors)\n",
      "\n",
      "Solution count 10: 2.89446e+07 2.89446e+07 2.89446e+07 ... 2.9047e+07\n",
      "\n",
      "Optimal solution found (tolerance 1.00e-04)\n",
      "Best objective 2.894463512888e+07, best bound 2.894174284308e+07, gap 0.0100%\n",
      "x[0] 1656.4309778346258\n",
      "x[1] 1415.4868451162663\n",
      "u[0] 458287.5245674583\n",
      "u[1] 1674444.6958956604\n",
      "u[2] 629961.0985260992\n",
      "u[3] 637122.9100899571\n",
      "v[0] 676.9693675251503\n",
      "v[1] 1294.003360078937\n",
      "v[2] 793.7008873156619\n",
      "v[3] 798.1997933411493\n",
      "optimal total revenue: 28944635.12888354\n"
     ]
    }
   ],
   "source": [
    "import gurobipy as gp\n",
    "from gurobipy import GRB\n",
    "\n",
    "# create new model\n",
    "m = gp.Model('C10Q19')\n",
    "m.params.NonConvex = 2\n",
    "\n",
    "x  = m.addVars(range(2), name='x',  lb=0, vtype = GRB.CONTINUOUS)\n",
    "u  = m.addVars(range(4), name='u',   vtype = GRB.CONTINUOUS)\n",
    "v  = m.addVars(range(4), name='v',   vtype = GRB.CONTINUOUS)\n",
    "\n",
    "m.setObjective(7000*v[0]+9000*v[1]+11500*v[2]+4300*v[3], GRB.MINIMIZE)\n",
    "m.addConstr( (x[0]-1000)*(x[0]-1000)+(x[1]-1250)*(x[1]-1250) == u[0])\n",
    "m.addConstr( (x[0]-1500)*(x[0]-1500)+(x[1]-2700)*(x[1]-2700) == u[1])\n",
    "m.addConstr( (x[0]-2000)*(x[0]-2000)+(x[1]-700) *(x[1]-700)  == u[2])\n",
    "m.addConstr( (x[0]-2200)*(x[0]-2200)+(x[1]-2000)*(x[1]-2000) == u[3])\n",
    "\n",
    "m.addConstrs((u[i] == v[i]*v[i] for i in range(4)), name='v_squared')\n",
    "\n",
    "m.optimize()\n",
    "\n",
    "#display optimal production plan\n",
    "for w in m.getVars():\n",
    "  print(w.varName, w.x)\n",
    "print('optimal total revenue:', m.objVal)"
   ]
  },
  {
   "cell_type": "code",
   "execution_count": 6,
   "metadata": {
    "colab": {
     "base_uri": "https://localhost:8080/"
    },
    "executionInfo": {
     "elapsed": 8,
     "status": "ok",
     "timestamp": 1638457162735,
     "user": {
      "displayName": "Naftali Cohen",
      "photoUrl": "https://lh3.googleusercontent.com/a/default-user=s64",
      "userId": "15833855460360307744"
     },
     "user_tz": 300
    },
    "id": "qyWW5oXAt_aD",
    "outputId": "fabbcc1e-d391-468e-fbb1-59ba679e5617"
   },
   "outputs": [
    {
     "name": "stdout",
     "output_type": "stream",
     "text": [
      "1658.8 1416.7 28944633.637902677\n",
      "1665.4 1562.9 29101303.298960045\n"
     ]
    }
   ],
   "source": [
    "import numpy as np\n",
    "x=1658.8;y=1416.7;\n",
    "d=7000*np.sqrt((x-1000)**2+(y-1250)**2)+\\\n",
    "9000*np.sqrt((x-1500)**2+(y-2700)**2)+\\\n",
    "11500*np.sqrt((x-2000)**2+(y-700)**2)+\\\n",
    "4300*np.sqrt((x-2200)**2+(y-2000)**2)\n",
    "print(x,y,d)\n",
    "\n",
    "x=1665.4;y=1562.9;\n",
    "d=7000*np.sqrt((x-1000)**2+(y-1250)**2)+\\\n",
    "9000*np.sqrt((x-1500)**2+(y-2700)**2)+\\\n",
    "11500*np.sqrt((x-2000)**2+(y-700)**2)+\\\n",
    "4300*np.sqrt((x-2200)**2+(y-2000)**2)\n",
    "print(x,y,d)\n"
   ]
  }
 ],
 "metadata": {
  "colab": {
   "authorship_tag": "ABX9TyPEMeNSy+J6YxZnNrIVe9B4",
   "collapsed_sections": [],
   "name": "Nonlinear_Programming.ipynb",
   "provenance": []
  },
  "kernelspec": {
   "display_name": "Python 3",
   "name": "python3"
  },
  "language_info": {
   "name": "python"
  }
 },
 "nbformat": 4,
 "nbformat_minor": 0
}