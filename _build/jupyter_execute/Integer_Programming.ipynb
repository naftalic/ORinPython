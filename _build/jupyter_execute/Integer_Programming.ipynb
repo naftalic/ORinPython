{
 "cells": [
  {
   "cell_type": "markdown",
   "metadata": {
    "id": "1HvOfkSyjtGf"
   },
   "source": [
    "# Integer Programming\n"
   ]
  },
  {
   "cell_type": "markdown",
   "metadata": {
    "id": "NVU5DQaALX9q"
   },
   "source": [
    "There are three types of model problems:\n",
    "* Total integer model: all the decision variables are required to have integer solution values\n",
    "* Binary integer (0-1) model: all decision variables must have zero or one integer value\n",
    "* Mixed-integer (MI) model: some decision variables required to have integer values"
   ]
  },
  {
   "cell_type": "markdown",
   "metadata": {
    "id": "E9O3czd1BxEy"
   },
   "source": [
    "## A 0 - 1 Integer Model:\n",
    "Solve the following LP problem:\n",
    "\n",
    "\\begin{align}\n",
    "&\\text{max}\\\\\n",
    "&\\qquad z=300x_1+90x_2+400x_3+150x_4\\\\\n",
    "&\\text{s.t.}\\\\\n",
    "&\\qquad 35000x_1+10000x_2+25000x_3+90000x_4\\le120000\\\\\n",
    "&\\qquad 4x_1+2x_2+7x_3+3x_4\\le 12\\\\\n",
    "&\\qquad x_1+x_2 \\le 1\\\\\n",
    "&\\qquad x_1,x_2,x_3,x_4 = 0~\\text{or}~1\\\\\n",
    "\\end{align} "
   ]
  },
  {
   "cell_type": "markdown",
   "metadata": {
    "id": "MqIu7rx0tijj"
   },
   "source": [
    "Note to make use of vtype = GRB.BINARY"
   ]
  },
  {
   "cell_type": "code",
   "execution_count": 1,
   "metadata": {
    "colab": {
     "base_uri": "https://localhost:8080/"
    },
    "executionInfo": {
     "elapsed": 4774,
     "status": "ok",
     "timestamp": 1639011863469,
     "user": {
      "displayName": "Naftali Cohen",
      "photoUrl": "https://lh3.googleusercontent.com/a/default-user=s64",
      "userId": "15833855460360307744"
     },
     "user_tz": 300
    },
    "id": "lVZ5CxLFBxEy",
    "outputId": "d380a605-ca04-4696-bd9e-3d4672e727d3"
   },
   "outputs": [
    {
     "name": "stdout",
     "output_type": "stream",
     "text": [
      "Requirement already satisfied: gurobipy in /Users/naftali/opt/anaconda3/lib/python3.7/site-packages (9.1.2)\r\n"
     ]
    },
    {
     "name": "stdout",
     "output_type": "stream",
     "text": [
      "(4,) (3, 4) (3,)\n"
     ]
    },
    {
     "ename": "GurobiError",
     "evalue": "No Gurobi license found (user naftali, host Naftalis-MacBook-Pro-15.local, hostid d3c3e9a1, cores 6)",
     "output_type": "error",
     "traceback": [
      "\u001b[0;31m---------------------------------------------------------------------------\u001b[0m",
      "\u001b[0;31mGurobiError\u001b[0m                               Traceback (most recent call last)",
      "\u001b[0;32m<ipython-input-1-5237bf5d8ce0>\u001b[0m in \u001b[0;36m<module>\u001b[0;34m\u001b[0m\n\u001b[1;32m     14\u001b[0m \u001b[0mconstraints\u001b[0m \u001b[0;34m=\u001b[0m \u001b[0mrange\u001b[0m\u001b[0;34m(\u001b[0m\u001b[0mnp\u001b[0m\u001b[0;34m.\u001b[0m\u001b[0marray\u001b[0m\u001b[0;34m(\u001b[0m\u001b[0mA\u001b[0m\u001b[0;34m)\u001b[0m\u001b[0;34m.\u001b[0m\u001b[0mshape\u001b[0m\u001b[0;34m[\u001b[0m\u001b[0;36m0\u001b[0m\u001b[0;34m]\u001b[0m\u001b[0;34m)\u001b[0m\u001b[0;34m\u001b[0m\u001b[0;34m\u001b[0m\u001b[0m\n\u001b[1;32m     15\u001b[0m \u001b[0;34m\u001b[0m\u001b[0m\n\u001b[0;32m---> 16\u001b[0;31m \u001b[0mm\u001b[0m \u001b[0;34m=\u001b[0m \u001b[0mModel\u001b[0m\u001b[0;34m(\u001b[0m\u001b[0;34m\"Example\"\u001b[0m\u001b[0;34m)\u001b[0m\u001b[0;34m\u001b[0m\u001b[0;34m\u001b[0m\u001b[0m\n\u001b[0m\u001b[1;32m     17\u001b[0m \u001b[0;34m\u001b[0m\u001b[0m\n\u001b[1;32m     18\u001b[0m \u001b[0mx\u001b[0m \u001b[0;34m=\u001b[0m \u001b[0;34m[\u001b[0m\u001b[0;34m]\u001b[0m\u001b[0;34m\u001b[0m\u001b[0;34m\u001b[0m\u001b[0m\n",
      "\u001b[0;32msrc/gurobipy/env.pxi\u001b[0m in \u001b[0;36mgurobipy.Env.__init__\u001b[0;34m()\u001b[0m\n",
      "\u001b[0;32msrc/gurobipy/gurobi.pxi\u001b[0m in \u001b[0;36mgurobipy.gurobi._getdefaultenv\u001b[0;34m()\u001b[0m\n",
      "\u001b[0;32msrc/gurobipy/env.pxi\u001b[0m in \u001b[0;36mgurobipy.Env.__init__\u001b[0;34m()\u001b[0m\n",
      "\u001b[0;31mGurobiError\u001b[0m: No Gurobi license found (user naftali, host Naftalis-MacBook-Pro-15.local, hostid d3c3e9a1, cores 6)"
     ]
    }
   ],
   "source": [
    "!pip install gurobipy\n",
    "\n",
    "from gurobipy import *\n",
    "\n",
    "import numpy as np\n",
    "\n",
    "c = [300,90,400,150]    \n",
    "A = [[35000,10000,25000,90000 ],\n",
    "     [4,2,7,3 ],\n",
    "     [1,1,0,0 ]]\n",
    "b =  [120000,12,1]\n",
    "print(np.array(c).shape,np.array(A).shape,np.array(b).shape)\n",
    "decision_variables = range(len(c))     \n",
    "constraints = range(np.array(A).shape[0])\n",
    "\n",
    "m = Model(\"Example\")\n",
    "\n",
    "x = []\n",
    "for i in decision_variables:\n",
    "    x.append(m.addVar(lb = 0, vtype = GRB.BINARY, name = 'x' + str(i)))\n",
    "\n",
    "# list comprehensions\n",
    "m.setObjective(quicksum(c[i] * x[i] for i in decision_variables) , GRB.MAXIMIZE) \n",
    "m.addConstrs((quicksum(A[j][i] * x[i] for i in decision_variables) \n",
    "                           <= b[j] for j in constraints), \"constraints\")\n",
    "m.optimize()\n",
    "\n",
    "for var in m.getVars(): # descision variable\n",
    "    print(var.varName, '=', var.x, var.obj)\n",
    "print(\"objective value =\", m.objVal)"
   ]
  },
  {
   "cell_type": "markdown",
   "metadata": {
    "id": "Uux9thpWBxEz"
   },
   "source": [
    "## A Total Integer Model:\n",
    "Solve the following LP problem:\n",
    "\n",
    "\\begin{align}\n",
    "&\\text{max}\\\\\n",
    "&\\qquad z=100x_1+150x_2\\\\\n",
    "&\\text{s.t.}\\\\\n",
    "&\\qquad 8000x_1+4000x_2\\le 40000\\\\\n",
    "&\\qquad 15x_1+30x_2\\le200\\\\\n",
    "&\\qquad x_1,x_2\\ge \\text{and integer}\\\\\n",
    "\\end{align} "
   ]
  },
  {
   "cell_type": "markdown",
   "metadata": {
    "id": "OT_BPRBotzTi"
   },
   "source": [
    "Note to make use of vtype = GRB.INTEGER"
   ]
  },
  {
   "cell_type": "code",
   "execution_count": null,
   "metadata": {
    "colab": {
     "base_uri": "https://localhost:8080/"
    },
    "executionInfo": {
     "elapsed": 20,
     "status": "ok",
     "timestamp": 1639011863469,
     "user": {
      "displayName": "Naftali Cohen",
      "photoUrl": "https://lh3.googleusercontent.com/a/default-user=s64",
      "userId": "15833855460360307744"
     },
     "user_tz": 300
    },
    "id": "bP28tNiHBxEz",
    "outputId": "bd70e50f-3511-4bad-9c75-8741dea0506e"
   },
   "outputs": [
    {
     "name": "stdout",
     "output_type": "stream",
     "text": [
      "(2,) (2, 2) (2,)\n",
      "Gurobi Optimizer version 9.5.0 build v9.5.0rc5 (linux64)\n",
      "Thread count: 1 physical cores, 2 logical processors, using up to 2 threads\n",
      "Optimize a model with 2 rows, 2 columns and 4 nonzeros\n",
      "Model fingerprint: 0x8c581e3f\n",
      "Variable types: 0 continuous, 2 integer (0 binary)\n",
      "Coefficient statistics:\n",
      "  Matrix range     [2e+01, 8e+03]\n",
      "  Objective range  [1e+02, 2e+02]\n",
      "  Bounds range     [0e+00, 0e+00]\n",
      "  RHS range        [2e+02, 4e+04]\n",
      "Found heuristic solution: objective 500.0000000\n",
      "Presolve time: 0.00s\n",
      "Presolved: 2 rows, 2 columns, 4 nonzeros\n",
      "Variable types: 0 continuous, 2 integer (0 binary)\n",
      "Found heuristic solution: objective 550.0000000\n",
      "\n",
      "Root relaxation: objective 1.033333e+03, 2 iterations, 0.00 seconds (0.00 work units)\n",
      "\n",
      "    Nodes    |    Current Node    |     Objective Bounds      |     Work\n",
      " Expl Unexpl |  Obj  Depth IntInf | Incumbent    BestBd   Gap | It/Node Time\n",
      "\n",
      "     0     0 1033.33333    0    2  550.00000 1033.33333  87.9%     -    0s\n",
      "H    0     0                    1000.0000000 1033.33333  3.33%     -    0s\n",
      "     0     0 1033.33333    0    2 1000.00000 1033.33333  3.33%     -    0s\n",
      "\n",
      "Explored 1 nodes (2 simplex iterations) in 0.03 seconds (0.00 work units)\n",
      "Thread count was 2 (of 2 available processors)\n",
      "\n",
      "Solution count 3: 1000 550 500 \n",
      "\n",
      "Optimal solution found (tolerance 1.00e-04)\n",
      "Best objective 1.000000000000e+03, best bound 1.000000000000e+03, gap 0.0000%\n",
      "x0 = 1.0 100.0\n",
      "x1 = 6.0 150.0\n",
      "objective value = 1000.0\n"
     ]
    }
   ],
   "source": [
    "c = [100,150]    \n",
    "A = [[8000,4000],\n",
    "     [15,30 ]]\n",
    "b =  [40000,200]\n",
    "print(np.array(c).shape,np.array(A).shape,np.array(b).shape)\n",
    "decision_variables = range(len(c))     \n",
    "constraints = range(np.array(A).shape[0])\n",
    "\n",
    "m = Model(\"Example\")\n",
    "\n",
    "x = []\n",
    "for i in decision_variables:\n",
    "    x.append(m.addVar(lb = 0, vtype = GRB.INTEGER, name = 'x' + str(i)))\n",
    "\n",
    "m.setObjective(quicksum(c[i] * x[i] for i in decision_variables) , GRB.MAXIMIZE) \n",
    "m.addConstrs((quicksum(A[j][i] * x[i] for i in decision_variables) \n",
    "                           <= b[j] for j in constraints), \"constraints\")\n",
    "m.optimize()\n",
    "\n",
    "for var in m.getVars(): # descision variable\n",
    "    print(var.varName, '=', var.x, var.obj)\n",
    "print(\"objective value =\", m.objVal)"
   ]
  },
  {
   "cell_type": "markdown",
   "metadata": {
    "id": "jtjYo8VUBxEz"
   },
   "source": [
    "## Mixed Integer Model \n",
    "Solve the following LP problem:\n",
    "\n",
    "\\begin{align}\n",
    "&\\text{max}\\\\\n",
    "&\\qquad z=9000x_1+1500x_2+1000x_3\\\\\n",
    "&\\text{s.t.}\\\\\n",
    "&\\qquad 50000x_1+12000x_2+8000x_3\\le25000\\\\\n",
    "&\\qquad x_1\\le 4\\\\\n",
    "&\\qquad x_2\\le 15\\\\\n",
    "&\\qquad x_3\\le 20\\\\\n",
    "&\\qquad x_2\\ge 0\\\\\n",
    "&\\qquad x_1,x_3\\ge \\text{and integer}\\\\\n",
    "\\end{align} "
   ]
  },
  {
   "cell_type": "markdown",
   "metadata": {
    "id": "5kZ8Koiqt2zs"
   },
   "source": [
    "Note that vtype has a mixture of INTEGER and CONTINUOUS"
   ]
  },
  {
   "cell_type": "code",
   "execution_count": null,
   "metadata": {
    "colab": {
     "base_uri": "https://localhost:8080/"
    },
    "executionInfo": {
     "elapsed": 13,
     "status": "ok",
     "timestamp": 1639011863470,
     "user": {
      "displayName": "Naftali Cohen",
      "photoUrl": "https://lh3.googleusercontent.com/a/default-user=s64",
      "userId": "15833855460360307744"
     },
     "user_tz": 300
    },
    "id": "rj-niiLaBxE0",
    "outputId": "79be9ac4-db42-45b3-cad1-6fb25075343f"
   },
   "outputs": [
    {
     "name": "stdout",
     "output_type": "stream",
     "text": [
      "(3,) (5,) (5,)\n",
      "Gurobi Optimizer version 9.5.0 build v9.5.0rc5 (linux64)\n",
      "Thread count: 1 physical cores, 2 logical processors, using up to 2 threads\n",
      "Optimize a model with 5 rows, 3 columns and 7 nonzeros\n",
      "Model fingerprint: 0x3b8b5be3\n",
      "Variable types: 1 continuous, 2 integer (0 binary)\n",
      "Coefficient statistics:\n",
      "  Matrix range     [1e+00, 5e+04]\n",
      "  Objective range  [1e+03, 9e+03]\n",
      "  Bounds range     [0e+00, 0e+00]\n",
      "  RHS range        [4e+00, 2e+05]\n",
      "Found heuristic solution: objective 42250.000000\n",
      "Presolve removed 4 rows and 0 columns\n",
      "Presolve time: 0.00s\n",
      "Presolved: 1 rows, 3 columns, 3 nonzeros\n",
      "Variable types: 0 continuous, 3 integer (0 binary)\n",
      "\n",
      "Root relaxation: cutoff, 0 iterations, 0.00 seconds (0.00 work units)\n",
      "\n",
      "Explored 1 nodes (0 simplex iterations) in 0.03 seconds (0.00 work units)\n",
      "Thread count was 2 (of 2 available processors)\n",
      "\n",
      "Solution count 1: 42250 \n",
      "\n",
      "Optimal solution found (tolerance 1.00e-04)\n",
      "Best objective 4.225000000000e+04, best bound 4.225000000000e+04, gap 0.0000%\n",
      "x1 = 4.0 9000.0\n",
      "x1 = 4.166666666666667 1500.0\n",
      "x1 = -0.0 1000.0\n",
      "objective value = 42250.0\n"
     ]
    },
    {
     "name": "stderr",
     "output_type": "stream",
     "text": [
      "/usr/local/lib/python3.7/dist-packages/ipykernel_launcher.py:8: VisibleDeprecationWarning: Creating an ndarray from ragged nested sequences (which is a list-or-tuple of lists-or-tuples-or ndarrays with different lengths or shapes) is deprecated. If you meant to do this, you must specify 'dtype=object' when creating the ndarray\n",
      "  \n",
      "/usr/local/lib/python3.7/dist-packages/ipykernel_launcher.py:10: VisibleDeprecationWarning: Creating an ndarray from ragged nested sequences (which is a list-or-tuple of lists-or-tuples-or ndarrays with different lengths or shapes) is deprecated. If you meant to do this, you must specify 'dtype=object' when creating the ndarray\n",
      "  # Remove the CWD from sys.path while we load stuff.\n"
     ]
    }
   ],
   "source": [
    "c = [9000,1500,1000]    \n",
    "A = [[50000,12000,8000],\n",
    "     [1,0,0,0 ],\n",
    "     [0,1,0,0 ],\n",
    "     [0,0,1,0 ],\n",
    "     [0,-1,0,0 ]]\n",
    "b =  [250000,4,15,20,0]\n",
    "print(np.array(c).shape,np.array(A).shape,np.array(b).shape)\n",
    "decision_variables = range(len(c))     \n",
    "constraints = range(np.array(A).shape[0])\n",
    "\n",
    "m = Model(\"Example\")\n",
    "\n",
    "x = []\n",
    "x.append(m.addVar(lb = 0, vtype = GRB.INTEGER, name = 'x' + str(i)))\n",
    "x.append(m.addVar(lb = 0, vtype = GRB.CONTINUOUS, name = 'x' + str(i)))\n",
    "x.append(m.addVar(lb = 0, vtype = GRB.INTEGER, name = 'x' + str(i)))\n",
    "\n",
    "m.setObjective(quicksum(c[i] * x[i] for i in decision_variables) , GRB.MAXIMIZE) \n",
    "m.addConstrs((quicksum(A[j][i] * x[i] for i in decision_variables) \n",
    "                           <= b[j] for j in constraints), \"constraints\")\n",
    "m.optimize()\n",
    "\n",
    "for var in m.getVars(): # descision variable\n",
    "    print(var.varName, '=', var.x, var.obj)\n",
    "print(\"objective value =\", m.objVal)"
   ]
  },
  {
   "cell_type": "markdown",
   "metadata": {
    "id": "JunDyHuVBxE0"
   },
   "source": [
    "## Problem Example: C5Q5\n",
    "Solve the following LP problem:\n",
    "\n",
    "\\begin{align}\n",
    "&\\text{max}\\\\\n",
    "&\\qquad z=50x_1+40x_2\\\\\n",
    "&\\text{s.t.}\\\\\n",
    "&\\qquad 3x_1+5x_2\\le 150\\\\\n",
    "&\\qquad 10x_1+4x_2\\le 200\\\\\n",
    "&\\qquad x_1,x_2\\ge \\text{and integer}\\\\\n",
    "\\end{align} "
   ]
  },
  {
   "cell_type": "code",
   "execution_count": null,
   "metadata": {
    "colab": {
     "base_uri": "https://localhost:8080/"
    },
    "executionInfo": {
     "elapsed": 285,
     "status": "ok",
     "timestamp": 1639011863747,
     "user": {
      "displayName": "Naftali Cohen",
      "photoUrl": "https://lh3.googleusercontent.com/a/default-user=s64",
      "userId": "15833855460360307744"
     },
     "user_tz": 300
    },
    "id": "FiZtEPUtBxE0",
    "outputId": "884e3360-7094-43fb-8d00-33ea20c7bdd6"
   },
   "outputs": [
    {
     "name": "stdout",
     "output_type": "stream",
     "text": [
      "(2,) (2, 2) (2,)\n",
      "Gurobi Optimizer version 9.5.0 build v9.5.0rc5 (linux64)\n",
      "Thread count: 1 physical cores, 2 logical processors, using up to 2 threads\n",
      "Optimize a model with 2 rows, 2 columns and 4 nonzeros\n",
      "Model fingerprint: 0xc186269e\n",
      "Coefficient statistics:\n",
      "  Matrix range     [3e+00, 1e+01]\n",
      "  Objective range  [4e+01, 5e+01]\n",
      "  Bounds range     [0e+00, 0e+00]\n",
      "  RHS range        [2e+02, 2e+02]\n",
      "Presolve time: 0.02s\n",
      "Presolved: 2 rows, 2 columns, 4 nonzeros\n",
      "\n",
      "Iteration    Objective       Primal Inf.    Dual Inf.      Time\n",
      "       0    9.0000000e+31   2.750000e+30   9.000000e+01      0s\n",
      "       2    1.4736842e+03   0.000000e+00   0.000000e+00      0s\n",
      "\n",
      "Solved in 2 iterations and 0.03 seconds (0.00 work units)\n",
      "Optimal objective  1.473684211e+03\n",
      "x0 = 10.526315789473683 (50.0, 24.000000000000004, 100.0, 0.0)\n",
      "x1 = 23.68421052631579 (40.0, 19.999999999999996, 83.33333333333334, 0.0)\n",
      "constraints[0] : slack = 0.0 , shadow price= 5.2631578947368425 , (150.0, 59.999999999999986, 250.0)\n",
      "constraints[1] : slack = 0.0 , shadow price= 3.4210526315789473 , (200.0, 120.00000000000001, 500.00000000000006)\n",
      "objective value = 1473.6842105263158\n"
     ]
    }
   ],
   "source": [
    "c = [50,40]    \n",
    "A = [[3,5 ],\n",
    "     [10,4 ]]\n",
    "b =  [150,200]\n",
    "print(np.array(c).shape,np.array(A).shape,np.array(b).shape)\n",
    "decision_variables = range(len(c))     \n",
    "constraints = range(np.array(A).shape[0])\n",
    "\n",
    "m = Model(\"C5Q5\")\n",
    "\n",
    "x = []\n",
    "for i in decision_variables:\n",
    "    x.append(m.addVar(lb = 0, vtype = GRB.CONTINUOUS, name = 'x' + str(i)))\n",
    "\n",
    "m.setObjective(quicksum(c[i] * x[i] for i in decision_variables) , GRB.MAXIMIZE) \n",
    "m.addConstrs((quicksum(A[j][i] * x[i] for i in decision_variables) \n",
    "                           <= b[j] for j in constraints), \"constraints\")\n",
    "m.optimize()\n",
    "\n",
    "for var in m.getVars(): # descision variable\n",
    "    print(var.varName, '=', var.x, (var.obj,var.SAObjLow, var.SAObjUp, var.RC))\n",
    "\n",
    "for con in m.getConstrs(): # constraints\n",
    "    print(con.ConstrName, ': slack =', con.slack,', shadow price=',\n",
    "          con.pi,',', (con.RHS, con.SARHSLow, con.SARHSUp))\n",
    "    \n",
    "print(\"objective value =\", m.objVal)"
   ]
  },
  {
   "cell_type": "code",
   "execution_count": null,
   "metadata": {
    "colab": {
     "base_uri": "https://localhost:8080/"
    },
    "executionInfo": {
     "elapsed": 12,
     "status": "ok",
     "timestamp": 1639011863748,
     "user": {
      "displayName": "Naftali Cohen",
      "photoUrl": "https://lh3.googleusercontent.com/a/default-user=s64",
      "userId": "15833855460360307744"
     },
     "user_tz": 300
    },
    "id": "WnfPXOvUBxE0",
    "outputId": "a662eca5-66fc-4b48-afac-fb4c76b1e3f0"
   },
   "outputs": [
    {
     "data": {
      "text/plain": [
       "1420.0"
      ]
     },
     "execution_count": 6,
     "metadata": {},
     "output_type": "execute_result"
    }
   ],
   "source": [
    "y=[]\n",
    "for var in m.getVars():\n",
    "    y.append(np.floor(var.x))\n",
    "\n",
    "np.array(y).dot(np.array((50,40)))"
   ]
  },
  {
   "cell_type": "code",
   "execution_count": null,
   "metadata": {
    "colab": {
     "base_uri": "https://localhost:8080/"
    },
    "executionInfo": {
     "elapsed": 190,
     "status": "ok",
     "timestamp": 1639011863929,
     "user": {
      "displayName": "Naftali Cohen",
      "photoUrl": "https://lh3.googleusercontent.com/a/default-user=s64",
      "userId": "15833855460360307744"
     },
     "user_tz": 300
    },
    "id": "ZCQEBVV2BxE1",
    "outputId": "18a43877-2df1-43fe-d7ee-8cff05ef5dbe"
   },
   "outputs": [
    {
     "name": "stdout",
     "output_type": "stream",
     "text": [
      "(2,) (2, 2) (2,)\n",
      "Gurobi Optimizer version 9.5.0 build v9.5.0rc5 (linux64)\n",
      "Thread count: 1 physical cores, 2 logical processors, using up to 2 threads\n",
      "Optimize a model with 2 rows, 2 columns and 4 nonzeros\n",
      "Model fingerprint: 0xc188e0de\n",
      "Variable types: 0 continuous, 2 integer (0 binary)\n",
      "Coefficient statistics:\n",
      "  Matrix range     [3e+00, 1e+01]\n",
      "  Objective range  [4e+01, 5e+01]\n",
      "  Bounds range     [0e+00, 0e+00]\n",
      "  RHS range        [2e+02, 2e+02]\n",
      "Found heuristic solution: objective 1000.0000000\n",
      "Presolve time: 0.00s\n",
      "Presolved: 2 rows, 2 columns, 4 nonzeros\n",
      "Variable types: 0 continuous, 2 integer (0 binary)\n",
      "\n",
      "Root relaxation: objective 1.473684e+03, 2 iterations, 0.00 seconds (0.00 work units)\n",
      "\n",
      "    Nodes    |    Current Node    |     Objective Bounds      |     Work\n",
      " Expl Unexpl |  Obj  Depth IntInf | Incumbent    BestBd   Gap | It/Node Time\n",
      "\n",
      "     0     0 1473.68421    0    2 1000.00000 1473.68421  47.4%     -    0s\n",
      "H    0     0                    1460.0000000 1473.68421  0.94%     -    0s\n",
      "     0     0 1473.68421    0    2 1460.00000 1473.68421  0.94%     -    0s\n",
      "\n",
      "Explored 1 nodes (2 simplex iterations) in 0.03 seconds (0.00 work units)\n",
      "Thread count was 2 (of 2 available processors)\n",
      "\n",
      "Solution count 2: 1460 1000 \n",
      "\n",
      "Optimal solution found (tolerance 1.00e-04)\n",
      "Best objective 1.460000000000e+03, best bound 1.460000000000e+03, gap 0.0000%\n",
      "x0 = 10.0 50.0\n",
      "x1 = 24.0 40.0\n",
      "objective value = 1460.0\n"
     ]
    }
   ],
   "source": [
    "c = [50,40]    \n",
    "A = [[3,5 ],\n",
    "     [10,4 ]]\n",
    "b =  [150,200]\n",
    "print(np.array(c).shape,np.array(A).shape,np.array(b).shape)\n",
    "decision_variables = range(len(c))     \n",
    "constraints = range(np.array(A).shape[0])\n",
    "\n",
    "m = Model(\"C5Q5\")\n",
    "\n",
    "x = []\n",
    "for i in decision_variables:\n",
    "    x.append(m.addVar(lb = 0, vtype = GRB.INTEGER, name = 'x' + str(i)))\n",
    "\n",
    "m.setObjective(quicksum(c[i] * x[i] for i in decision_variables) , GRB.MAXIMIZE) \n",
    "m.addConstrs((quicksum(A[j][i] * x[i] for i in decision_variables) \n",
    "                           <= b[j] for j in constraints), \"constraints\")\n",
    "m.optimize()\n",
    "\n",
    "for var in m.getVars(): # descision variable\n",
    "    print(var.varName, '=', var.x, var.obj)\n",
    "\n",
    "#for con in m.getConstrs(): # constraints\n",
    "#    print(con.ConstrName, ': slack =', con.slack,', shadow price=',\n",
    "#          con.pi,',', (con.RHS, con.SARHSLow, con.SARHSUp))\n",
    "    \n",
    "print(\"objective value =\", m.objVal)"
   ]
  },
  {
   "cell_type": "markdown",
   "metadata": {
    "id": "WRvXB25dBxE1"
   },
   "source": [
    "## Problem Example: C5Q13\n",
    "Solve the following LP problem:\n",
    "\\begin{align}\n",
    "&\\text{max}\\\\\n",
    "&\\qquad z=85000 x_1 + 60000 x_2 – 18000 y_1\\\\\n",
    "&\\text{s.t.}\\\\\n",
    "&\\qquad x_1+x_2\\le 10\\\\\n",
    "&\\qquad 10000x_1+7000x_2\\le 72000\\\\\n",
    "&\\qquad x_1-10y_1\\le 0\\\\\n",
    "&\\qquad x_1,x_2\\ge \\text{and integer}\\\\\n",
    "&\\qquad y_1= 0~\\text{or}~1\\\\\n",
    "\\end{align} "
   ]
  },
  {
   "cell_type": "code",
   "execution_count": null,
   "metadata": {
    "colab": {
     "base_uri": "https://localhost:8080/"
    },
    "executionInfo": {
     "elapsed": 15,
     "status": "ok",
     "timestamp": 1639011863929,
     "user": {
      "displayName": "Naftali Cohen",
      "photoUrl": "https://lh3.googleusercontent.com/a/default-user=s64",
      "userId": "15833855460360307744"
     },
     "user_tz": 300
    },
    "id": "ppihjcxfBxE1",
    "outputId": "6e4ec9d5-60e5-4dac-e05f-15c53cf0bf76"
   },
   "outputs": [
    {
     "name": "stdout",
     "output_type": "stream",
     "text": [
      "(3,) (4, 3) (4,)\n",
      "Gurobi Optimizer version 9.5.0 build v9.5.0rc5 (linux64)\n",
      "Thread count: 1 physical cores, 2 logical processors, using up to 2 threads\n",
      "Optimize a model with 4 rows, 3 columns and 8 nonzeros\n",
      "Model fingerprint: 0x11909cb7\n",
      "Variable types: 0 continuous, 3 integer (1 binary)\n",
      "Coefficient statistics:\n",
      "  Matrix range     [1e+00, 1e+04]\n",
      "  Objective range  [2e+04, 8e+04]\n",
      "  Bounds range     [1e+00, 1e+00]\n",
      "  RHS range        [9e+00, 7e+04]\n",
      "Found heuristic solution: objective 600000.00000\n",
      "Presolve time: 0.00s\n",
      "Presolved: 4 rows, 3 columns, 8 nonzeros\n",
      "Variable types: 0 continuous, 3 integer (1 binary)\n",
      "\n",
      "Root relaxation: cutoff, 1 iterations, 0.00 seconds (0.00 work units)\n",
      "\n",
      "    Nodes    |    Current Node    |     Objective Bounds      |     Work\n",
      " Expl Unexpl |  Obj  Depth IntInf | Incumbent    BestBd   Gap | It/Node Time\n",
      "\n",
      "     0     0     cutoff    0      600000.000 600000.000  0.00%     -    0s\n",
      "\n",
      "Explored 1 nodes (1 simplex iterations) in 0.03 seconds (0.00 work units)\n",
      "Thread count was 2 (of 2 available processors)\n",
      "\n",
      "Solution count 1: 600000 \n",
      "\n",
      "Optimal solution found (tolerance 1.00e-04)\n",
      "Best objective 6.000000000000e+05, best bound 6.000000000000e+05, gap 0.0000%\n",
      "x1 = -0.0 85000.0\n",
      "x2 = 10.0 60000.0\n",
      "x3 = -0.0 -18000.0\n",
      "objective value = 600000.0\n"
     ]
    }
   ],
   "source": [
    "c = [85000,60000,-18000]    \n",
    "A = [[1,1,0 ],\n",
    "     [10000,7000,0 ],\n",
    "     [1,0,-10],\n",
    "     [-1,0,10]]\n",
    "b =  [10,72000,0,9]\n",
    "print(np.array(c).shape,np.array(A).shape,np.array(b).shape)\n",
    "decision_variables = range(len(c))     \n",
    "constraints = range(np.array(A).shape[0])\n",
    "\n",
    "m = Model(\"C5Q13\")\n",
    "\n",
    "x = []\n",
    "x.append(m.addVar(lb = 0, vtype = GRB.INTEGER, name = 'x1'))\n",
    "x.append(m.addVar(lb = 0, vtype = GRB.INTEGER, name = 'x2'))\n",
    "x.append(m.addVar(lb = 0, vtype = GRB.BINARY, name = 'x3'))\n",
    "\n",
    "m.setObjective(quicksum(c[i] * x[i] for i in decision_variables) , GRB.MAXIMIZE) \n",
    "m.addConstrs((quicksum(A[j][i] * x[i] for i in decision_variables) \n",
    "                           <= b[j] for j in constraints), \"constraints\")\n",
    "m.optimize()\n",
    "\n",
    "for var in m.getVars(): # descision variable\n",
    "    print(var.varName, '=', var.x, var.obj)\n",
    "\n",
    "#for con in m.getConstrs(): # constraints\n",
    "#    print(con.ConstrName, ': slack =', con.slack,', shadow price=',\n",
    "#          con.pi,',', (con.RHS, con.SARHSLow, con.SARHSUp))\n",
    "    \n",
    "print(\"objective value =\", m.objVal)"
   ]
  },
  {
   "cell_type": "markdown",
   "metadata": {
    "id": "cGEsNF5MBxE2"
   },
   "source": [
    "## Problem Example: C5Q14\n",
    "Solve the following LP problem:\n",
    "\\begin{align}\n",
    "&\\text{max}\\\\\n",
    "&\\qquad z=.36x_1 + .82x_2 + .29x_3 + .16x_4\n",
    "+ .56x_5 + .61x_6 + .48x_7 + .41x_8\\\\\n",
    "&\\text{s.t.}\\\\\n",
    "&\\qquad 60x_1 + 110x_2 + 53x_3 + 47x_4 +\n",
    "92x_5 +85x_6 +73x_7 +65x_8\\le 300\\\\\n",
    "&\\qquad 7x_1 + 9x_2 + 8x_3 + 4x_4 + 7x_5 +\n",
    "6x_6 +8x_7 +5x_8\\le 40\\\\\n",
    "&\\qquad x_2-x_5\\le 0\\\\\n",
    "&\\qquad x_i= 0~\\text{or}~1\\\\\n",
    "\\end{align} "
   ]
  },
  {
   "cell_type": "code",
   "execution_count": null,
   "metadata": {
    "colab": {
     "base_uri": "https://localhost:8080/"
    },
    "executionInfo": {
     "elapsed": 347,
     "status": "ok",
     "timestamp": 1639011864268,
     "user": {
      "displayName": "Naftali Cohen",
      "photoUrl": "https://lh3.googleusercontent.com/a/default-user=s64",
      "userId": "15833855460360307744"
     },
     "user_tz": 300
    },
    "id": "sDXqvvBcBxE2",
    "outputId": "7f6851b8-c2a7-4a8f-a46e-7a6e819cdfb7"
   },
   "outputs": [
    {
     "name": "stdout",
     "output_type": "stream",
     "text": [
      "(8,) (3, 8) (3,)\n",
      "Gurobi Optimizer version 9.5.0 build v9.5.0rc5 (linux64)\n",
      "Thread count: 1 physical cores, 2 logical processors, using up to 2 threads\n",
      "Optimize a model with 3 rows, 8 columns and 18 nonzeros\n",
      "Model fingerprint: 0xd75ca42c\n",
      "Variable types: 0 continuous, 8 integer (8 binary)\n",
      "Coefficient statistics:\n",
      "  Matrix range     [1e+00, 1e+02]\n",
      "  Objective range  [2e-01, 8e-01]\n",
      "  Bounds range     [1e+00, 1e+00]\n",
      "  RHS range        [4e+01, 3e+02]\n",
      "Found heuristic solution: objective 1.3700000\n",
      "Presolve removed 1 rows and 0 columns\n",
      "Presolve time: 0.00s\n",
      "Presolved: 2 rows, 8 columns, 10 nonzeros\n",
      "Variable types: 0 continuous, 8 integer (8 binary)\n",
      "Found heuristic solution: objective 1.6600000\n",
      "\n",
      "Root relaxation: objective 2.042603e+00, 3 iterations, 0.00 seconds (0.00 work units)\n",
      "\n",
      "    Nodes    |    Current Node    |     Objective Bounds      |     Work\n",
      " Expl Unexpl |  Obj  Depth IntInf | Incumbent    BestBd   Gap | It/Node Time\n",
      "\n",
      "     0     0    2.04260    0    1    1.66000    2.04260  23.0%     -    0s\n",
      "H    0     0                       1.9900000    2.04260  2.64%     -    0s\n",
      "     0     0 infeasible    0         1.99000    1.99000  0.00%     -    0s\n",
      "\n",
      "Cutting planes:\n",
      "  GUB cover: 1\n",
      "\n",
      "Explored 1 nodes (4 simplex iterations) in 0.05 seconds (0.00 work units)\n",
      "Thread count was 2 (of 2 available processors)\n",
      "\n",
      "Solution count 3: 1.99 1.66 1.37 \n",
      "\n",
      "Optimal solution found (tolerance 1.00e-04)\n",
      "Best objective 1.990000000000e+00, best bound 1.990000000000e+00, gap 0.0000%\n",
      "x0 = -0.0 0.36\n",
      "x1 = 1.0 0.82\n",
      "x2 = -0.0 0.29\n",
      "x3 = -0.0 0.16\n",
      "x4 = 1.0 0.56\n",
      "x5 = 1.0 0.61\n",
      "x6 = 0.0 0.48\n",
      "x7 = -0.0 0.41\n",
      "objective value = 1990000.0\n"
     ]
    }
   ],
   "source": [
    "c = [.36,.82,.29,.16,.56,.61,.48,.41]    \n",
    "A = [[60,110,53,47,92,85,73,65 ],\n",
    "     [7,9,8,4,7,6,8,5 ],\n",
    "     [0,1,0,0,-1,0,0,0]]\n",
    "b =  [300,40,0]\n",
    "print(np.array(c).shape,np.array(A).shape,np.array(b).shape)\n",
    "decision_variables = range(len(c))     \n",
    "constraints = range(np.array(A).shape[0])\n",
    "\n",
    "m = Model(\"C5Q14\")\n",
    "\n",
    "x = []\n",
    "for i in decision_variables:\n",
    "    x.append(m.addVar(lb = 0, vtype = GRB.BINARY, name = 'x' + str(i)))\n",
    "\n",
    "m.setObjective(quicksum(c[i] * x[i] for i in decision_variables) , GRB.MAXIMIZE) \n",
    "m.addConstrs((quicksum(A[j][i] * x[i] for i in decision_variables) \n",
    "                           <= b[j] for j in constraints), \"constraints\")\n",
    "m.optimize()\n",
    "\n",
    "for var in m.getVars(): # descision variable\n",
    "    print(var.varName, '=', var.x, var.obj)\n",
    "\n",
    "#for con in m.getConstrs(): # constraints\n",
    "#    print(con.ConstrName, ': slack =', con.slack,', shadow price=',\n",
    "#          con.pi,',', (con.RHS, con.SARHSLow, con.SARHSUp))\n",
    "    \n",
    "print(\"objective value =\", m.objVal*1e6)"
   ]
  },
  {
   "cell_type": "markdown",
   "metadata": {
    "id": "PY1FwqB7BxE2"
   },
   "source": [
    "## Problem Example: C5Q15\n",
    "Solve the following LP problem:\n",
    "\\begin{align}\n",
    "&\\text{max}\\\\\n",
    "&\\qquad z=x_1 +x_2 +x_3 +x_4 +x_5 +x_6\\\\\n",
    "&\\text{s.t.}\\\\\n",
    "&\\qquad x_6+x_1 \\ge 90\\\\\n",
    "&\\qquad x_1+x_2 \\ge 215\\\\\n",
    "&\\qquad x_2+x_3 \\ge 250\\\\\n",
    "&\\qquad x_3+x_4 \\ge 65\\\\\n",
    "&\\qquad x_4+x_5 \\ge 300\\\\\n",
    "&\\qquad x_5+x_6 \\ge 125\\\\\n",
    "&\\qquad x_i \\ge 0~ \\text{and integer}\\\\\n",
    "\\end{align} "
   ]
  },
  {
   "cell_type": "code",
   "execution_count": null,
   "metadata": {
    "colab": {
     "base_uri": "https://localhost:8080/"
    },
    "executionInfo": {
     "elapsed": 10,
     "status": "ok",
     "timestamp": 1639011864268,
     "user": {
      "displayName": "Naftali Cohen",
      "photoUrl": "https://lh3.googleusercontent.com/a/default-user=s64",
      "userId": "15833855460360307744"
     },
     "user_tz": 300
    },
    "id": "vzcQ8GQmBxE2",
    "outputId": "713a95db-d058-4733-e731-5109de6ddcc5"
   },
   "outputs": [
    {
     "name": "stdout",
     "output_type": "stream",
     "text": [
      "(6,) (6, 6) (6,)\n",
      "Gurobi Optimizer version 9.5.0 build v9.5.0rc5 (linux64)\n",
      "Thread count: 1 physical cores, 2 logical processors, using up to 2 threads\n",
      "Optimize a model with 6 rows, 6 columns and 12 nonzeros\n",
      "Model fingerprint: 0xeba1cb46\n",
      "Variable types: 0 continuous, 6 integer (0 binary)\n",
      "Coefficient statistics:\n",
      "  Matrix range     [1e+00, 1e+00]\n",
      "  Objective range  [1e+00, 1e+00]\n",
      "  Bounds range     [0e+00, 0e+00]\n",
      "  RHS range        [6e+01, 3e+02]\n",
      "Found heuristic solution: objective 640.0000000\n",
      "Presolve time: 0.00s\n",
      "Presolved: 6 rows, 6 columns, 12 nonzeros\n",
      "Variable types: 0 continuous, 6 integer (0 binary)\n",
      "\n",
      "Root relaxation: cutoff, 3 iterations, 0.00 seconds (0.00 work units)\n",
      "\n",
      "    Nodes    |    Current Node    |     Objective Bounds      |     Work\n",
      " Expl Unexpl |  Obj  Depth IntInf | Incumbent    BestBd   Gap | It/Node Time\n",
      "\n",
      "     0     0     cutoff    0       640.00000  640.00000  0.00%     -    0s\n",
      "\n",
      "Explored 1 nodes (3 simplex iterations) in 0.03 seconds (0.00 work units)\n",
      "Thread count was 2 (of 2 available processors)\n",
      "\n",
      "Solution count 1: 640 \n",
      "\n",
      "Optimal solution found (tolerance 1.00e-04)\n",
      "Best objective 6.400000000000e+02, best bound 6.400000000000e+02, gap 0.0000%\n",
      "x0 = 0.0 1.0\n",
      "x1 = 215.0 1.0\n",
      "x2 = 35.0 1.0\n",
      "x3 = 30.0 1.0\n",
      "x4 = 270.0 1.0\n",
      "x5 = 90.0 1.0\n",
      "objective value = 640.0\n"
     ]
    }
   ],
   "source": [
    "c = [1,1,1,1,1,1]    \n",
    "A = [[1,0,0,0,0,1],\n",
    "     [1,1,0,0,0,0],\n",
    "     [0,1,1,0,0,0],\n",
    "     [0,0,1,1,0,0],\n",
    "     [0,0,0,1,1,0],\n",
    "     [0,0,0,0,1,1]]\n",
    "b =  [90,215,250,65,300,125]\n",
    "print(np.array(c).shape,np.array(A).shape,np.array(b).shape)\n",
    "decision_variables = range(len(c))     \n",
    "constraints = range(np.array(A).shape[0])\n",
    "\n",
    "m = Model(\"C5Q15\")\n",
    "\n",
    "x = []\n",
    "for i in decision_variables:\n",
    "    x.append(m.addVar(lb = 0, vtype = GRB.INTEGER, name = 'x' + str(i)))\n",
    "\n",
    "m.setObjective(quicksum(c[i] * x[i] for i in decision_variables) , GRB.MINIMIZE) \n",
    "m.addConstrs((quicksum(A[j][i] * x[i] for i in decision_variables) \n",
    "                           >= b[j] for j in constraints), \"constraints\")\n",
    "m.optimize()\n",
    "\n",
    "for var in m.getVars(): # descision variable\n",
    "    print(var.varName, '=', var.x, var.obj)\n",
    "\n",
    "#for con in m.getConstrs(): # constraints\n",
    "#    print(con.ConstrName, ': slack =', con.slack,', shadow price=',\n",
    "#          con.pi,',', (con.RHS, con.SARHSLow, con.SARHSUp))\n",
    "    \n",
    "print(\"objective value =\", m.objVal)"
   ]
  },
  {
   "cell_type": "markdown",
   "metadata": {
    "id": "G-VsXi7RBxE2"
   },
   "source": [
    "## Problem Example: C5Q17\n",
    "Solve the following LP problem:\n",
    "\\begin{align}\n",
    "&\\text{min}\\\\\n",
    "&\\qquad z=25000x_1 + 7000x_2 + 9000x_3\\\\\n",
    "&\\text{s.t.}\\\\\n",
    "&\\qquad 53000x_1+30000x_2+41000x_3 \\ge 200,000\\\\\n",
    "&\\qquad (32000x_1 + 20000x_2 +18000x_3)/(21000x_1 +10000x_2 +23000x_3) \\ge 1.5\\\\\n",
    "&\\qquad (34000x_1 +12000x_2 + 24000x_3)/(53000x_1 +30000x_2 +41000x_3) \\ge .60\\\\\n",
    "&\\qquad x_i \\ge 0~ \\text{and integer}\\\\\n",
    "\\end{align} \n"
   ]
  },
  {
   "cell_type": "code",
   "execution_count": null,
   "metadata": {
    "colab": {
     "base_uri": "https://localhost:8080/"
    },
    "executionInfo": {
     "elapsed": 139,
     "status": "ok",
     "timestamp": 1639011864402,
     "user": {
      "displayName": "Naftali Cohen",
      "photoUrl": "https://lh3.googleusercontent.com/a/default-user=s64",
      "userId": "15833855460360307744"
     },
     "user_tz": 300
    },
    "id": "ZyDm9Y8vBxE2",
    "outputId": "59a8ae42-e4cd-45d6-a0ec-1ce201876611"
   },
   "outputs": [
    {
     "name": "stdout",
     "output_type": "stream",
     "text": [
      "(3,) (3, 3) (3,)\n",
      "Gurobi Optimizer version 9.5.0 build v9.5.0rc5 (linux64)\n",
      "Thread count: 1 physical cores, 2 logical processors, using up to 2 threads\n",
      "Optimize a model with 3 rows, 3 columns and 9 nonzeros\n",
      "Model fingerprint: 0xcf860642\n",
      "Variable types: 0 continuous, 3 integer (0 binary)\n",
      "Coefficient statistics:\n",
      "  Matrix range     [5e+02, 5e+04]\n",
      "  Objective range  [7e+03, 2e+04]\n",
      "  Bounds range     [0e+00, 0e+00]\n",
      "  RHS range        [2e+05, 2e+05]\n",
      "Found heuristic solution: objective 100000.00000\n",
      "Presolve time: 0.00s\n",
      "Presolved: 3 rows, 3 columns, 9 nonzeros\n",
      "Variable types: 0 continuous, 3 integer (0 binary)\n",
      "\n",
      "Explored 0 nodes (0 simplex iterations) in 0.03 seconds (0.00 work units)\n",
      "Thread count was 2 (of 2 available processors)\n",
      "\n",
      "Solution count 1: 100000 \n",
      "\n",
      "Optimal solution found (tolerance 1.00e-04)\n",
      "Best objective 1.000000000000e+05, best bound 1.000000000000e+05, gap 0.0000%\n",
      "x0 = 4.0 25000.0\n",
      "x1 = 0.0 7000.0\n",
      "x2 = 0.0 9000.0\n",
      "objective value = 100000000000.0\n"
     ]
    }
   ],
   "source": [
    "c = [25000,7000,9000]    \n",
    "A = [[53000,30000,41000],\n",
    "     [32000-1.5*21000,20000-1.5*10000,18000-1.5*23000 ],\n",
    "     [34000-.6*53000,12000-.6*30000,24000-.6*41000]]\n",
    "b =  [200000,0,0]\n",
    "print(np.array(c).shape,np.array(A).shape,np.array(b).shape)\n",
    "decision_variables = range(len(c))     \n",
    "constraints = range(np.array(A).shape[0])\n",
    "\n",
    "m = Model(\"C5Q17\")\n",
    "\n",
    "x = []\n",
    "for i in decision_variables:\n",
    "    x.append(m.addVar(lb = 0, vtype = GRB.INTEGER, name = 'x' + str(i)))\n",
    "\n",
    "m.setObjective(quicksum(c[i] * x[i] for i in decision_variables) , GRB.MINIMIZE) \n",
    "m.addConstrs((quicksum(A[j][i] * x[i] for i in decision_variables) \n",
    "                           >= b[j] for j in constraints), \"constraints\")\n",
    "m.optimize()\n",
    "\n",
    "for var in m.getVars(): # descision variable\n",
    "    print(var.varName, '=', var.x, var.obj)\n",
    "\n",
    "#for con in m.getConstrs(): # constraints\n",
    "#    print(con.ConstrName, ': slack =', con.slack,', shadow price=',\n",
    "#          con.pi,',', (con.RHS, con.SARHSLow, con.SARHSUp))\n",
    "    \n",
    "print(\"objective value =\", m.objVal*1e6)"
   ]
  },
  {
   "cell_type": "code",
   "execution_count": null,
   "metadata": {
    "colab": {
     "base_uri": "https://localhost:8080/"
    },
    "executionInfo": {
     "elapsed": 7,
     "status": "ok",
     "timestamp": 1639011864403,
     "user": {
      "displayName": "Naftali Cohen",
      "photoUrl": "https://lh3.googleusercontent.com/a/default-user=s64",
      "userId": "15833855460360307744"
     },
     "user_tz": 300
    },
    "id": "OiLVs6GGBxE3",
    "outputId": "e987b42a-aa3a-4011-900d-bad1ffbde41d"
   },
   "outputs": [
    {
     "name": "stdout",
     "output_type": "stream",
     "text": [
      "(3,) (3, 3) (3,)\n",
      "Gurobi Optimizer version 9.5.0 build v9.5.0rc5 (linux64)\n",
      "Thread count: 1 physical cores, 2 logical processors, using up to 2 threads\n",
      "Optimize a model with 3 rows, 3 columns and 9 nonzeros\n",
      "Model fingerprint: 0x921de87a\n",
      "Coefficient statistics:\n",
      "  Matrix range     [5e+02, 5e+04]\n",
      "  Objective range  [7e+03, 2e+04]\n",
      "  Bounds range     [0e+00, 0e+00]\n",
      "  RHS range        [2e+05, 2e+05]\n",
      "Presolve time: 0.01s\n",
      "Presolved: 3 rows, 3 columns, 9 nonzeros\n",
      "\n",
      "Iteration    Objective       Primal Inf.    Dual Inf.      Time\n",
      "       0    0.0000000e+00   7.812500e+02   0.000000e+00      0s\n",
      "       3    8.2946176e+04   0.000000e+00   0.000000e+00      0s\n",
      "\n",
      "Solved in 3 iterations and 0.02 seconds (0.00 work units)\n",
      "Optimal objective  8.294617564e+04\n",
      "x0 = 2.8895184135977336 25000.0\n",
      "x1 = 1.0198300283286117 7000.0\n",
      "x2 = 0.39660056657223786 9000.0\n",
      "objective value = 82946175637.39377\n"
     ]
    }
   ],
   "source": [
    "c = [25000,7000,9000]    \n",
    "A = [[53000,30000,41000],\n",
    "     [32000-1.5*21000,20000-1.5*10000,18000-1.5*23000 ],\n",
    "     [34000-.6*53000,12000-.6*30000,24000-.6*41000]]\n",
    "b =  [200000,0,0]\n",
    "print(np.array(c).shape,np.array(A).shape,np.array(b).shape)\n",
    "decision_variables = range(len(c))     \n",
    "constraints = range(np.array(A).shape[0])\n",
    "\n",
    "m = Model(\"C5Q17\")\n",
    "\n",
    "x = []\n",
    "for i in decision_variables:\n",
    "    x.append(m.addVar(lb = 0, vtype = GRB.CONTINUOUS, name = 'x' + str(i)))\n",
    "\n",
    "m.setObjective(quicksum(c[i] * x[i] for i in decision_variables) , GRB.MINIMIZE) \n",
    "m.addConstrs((quicksum(A[j][i] * x[i] for i in decision_variables) \n",
    "                           >= b[j] for j in constraints), \"constraints\")\n",
    "m.optimize()\n",
    "\n",
    "for var in m.getVars(): # descision variable\n",
    "    print(var.varName, '=', var.x, var.obj)\n",
    "\n",
    "#for con in m.getConstrs(): # constraints\n",
    "#    print(con.ConstrName, ': slack =', con.slack,', shadow price=',\n",
    "#          con.pi,',', (con.RHS, con.SARHSLow, con.SARHSUp))\n",
    "    \n",
    "print(\"objective value =\", m.objVal*1e6)"
   ]
  }
 ],
 "metadata": {
  "colab": {
   "authorship_tag": "ABX9TyN1nGGYCY2Wmk4swAzC7V4y",
   "collapsed_sections": [],
   "name": "Integer_Programming.ipynb",
   "provenance": []
  },
  "kernelspec": {
   "display_name": "Python 3",
   "name": "python3"
  },
  "language_info": {
   "codemirror_mode": {
    "name": "ipython",
    "version": 3
   },
   "file_extension": ".py",
   "mimetype": "text/x-python",
   "name": "python",
   "nbconvert_exporter": "python",
   "pygments_lexer": "ipython3",
   "version": "3.7.6"
  }
 },
 "nbformat": 4,
 "nbformat_minor": 0
}