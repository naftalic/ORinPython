{
  "nbformat": 4,
  "nbformat_minor": 0,
  "metadata": {
    "colab": {
      "name": "Probability_and_Statistics.ipynb",
      "provenance": [],
      "collapsed_sections": []
    },
    "kernelspec": {
      "name": "python3",
      "display_name": "Python 3"
    },
    "language_info": {
      "name": "python"
    }
  },
  "cells": [
    {
      "cell_type": "markdown",
      "metadata": {
        "id": "Du3kTUQMBxE5"
      },
      "source": [
        "# Probability and Statistics"
      ]
    },
    {
      "cell_type": "markdown",
      "metadata": {
        "id": "XD1_dherH4qN"
      },
      "source": [
        "##Basic Probability Theory\n",
        "\n",
        "**Deterministic** techniques assume that no uncertainty exists in model parameters. Previous topics assumed no uncertainty or variation to the specified paramaters.\n",
        "**Probabilistic** techniques on the other side include uncertainty and assume that there can be more than one model solution or variation in the parameter values. Also, there may be some doubt about which outcome will occur.\n"
      ]
    },
    {
      "cell_type": "markdown",
      "metadata": {
        "id": "DeNeVhI4HcYP"
      },
      "source": [
        "##Bayesian analysis"
      ]
    },
    {
      "cell_type": "markdown",
      "metadata": {
        "id": "6P2NoWwPHtPy"
      },
      "source": [
        "##Probability Distributions"
      ]
    },
    {
      "cell_type": "markdown",
      "metadata": {
        "id": "BMRhTic2HtX_"
      },
      "source": [
        "##Chi-Square Test "
      ]
    },
    {
      "cell_type": "markdown",
      "metadata": {
        "id": "cQkFfKyQHtfr"
      },
      "source": [
        ""
      ]
    },
    {
      "cell_type": "markdown",
      "metadata": {
        "id": "BjaaQzbvcQyR"
      },
      "source": [
        "##Problem Example: C11Q5"
      ]
    },
    {
      "cell_type": "code",
      "metadata": {
        "id": "juS_WSxTblHv",
        "colab": {
          "base_uri": "https://localhost:8080/"
        },
        "outputId": "262060ba-28ba-4055-ee28-0a5c9a95824b"
      },
      "source": [
        "from scipy.stats import binom\n",
        "binom.cdf(k=4, n=20, p=.1), 1-binom.cdf(k=4, n=20, p=.1)"
      ],
      "execution_count": 1,
      "outputs": [
        {
          "output_type": "execute_result",
          "data": {
            "text/plain": [
              "(0.9568255047155366, 0.04317449528446338)"
            ]
          },
          "metadata": {},
          "execution_count": 1
        }
      ]
    },
    {
      "cell_type": "markdown",
      "metadata": {
        "id": "xULG-hzzc6p-"
      },
      "source": [
        "## Problem Example: C11Q8"
      ]
    },
    {
      "cell_type": "code",
      "metadata": {
        "id": "PdS3HiY3b4Ul",
        "colab": {
          "base_uri": "https://localhost:8080/"
        },
        "outputId": "f2d35036-e5a0-4461-c768-b7f9d84129c9"
      },
      "source": [
        "1-binom.cdf(k=2, n=7, p=.2)"
      ],
      "execution_count": 2,
      "outputs": [
        {
          "output_type": "execute_result",
          "data": {
            "text/plain": [
              "0.14803199999999994"
            ]
          },
          "metadata": {},
          "execution_count": 2
        }
      ]
    },
    {
      "cell_type": "code",
      "metadata": {
        "id": "yl7o-6f_dFaI"
      },
      "source": [
        ""
      ],
      "execution_count": 2,
      "outputs": []
    }
  ]
}