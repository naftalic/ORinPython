{
 "cells": [
  {
   "cell_type": "markdown",
   "metadata": {
    "id": "qNuPWNKGTrfK"
   },
   "source": [
    "# Solving problems using Python\n",
    "\n",
    "[Colab notebook](https://colab.research.google.com/drive/1M1UZ2X9bZK6DV_puEH5WVtisVoYt1iMQ?usp=sharing)\n",
    "\n"
   ]
  },
  {
   "cell_type": "markdown",
   "metadata": {
    "id": "_jZQkC9riYFT"
   },
   "source": [
    "We will solve LP problems using Python. In case you are less familiar with Python, I recommend you to go over the Python Review section.\n",
    "\n",
    "In this course we will mostly use Gurobi to solve the optimization problems. The Gurobi optimizer is a mathematical optimization software library for solving mixed-integer linear and quadratic optimization problems.\n",
    " \n",
    "For more information, see:\n",
    "https://www.gurobi.com/academia/academic-program-and-licenses/\n",
    "\n",
    "Other useful resources can be found here\n",
    "* https://www.gurobi.com/documentation/\n",
    "* https://support.gurobi.com/hc/en-us/community/topics"
   ]
  },
  {
   "cell_type": "code",
   "execution_count": 1,
   "metadata": {
    "colab": {
     "base_uri": "https://localhost:8080/"
    },
    "id": "boIfpM69jrFI",
    "outputId": "4936898b-87e2-43d6-d2e9-513dd99abccc"
   },
   "outputs": [
    {
     "name": "stdout",
     "output_type": "stream",
     "text": [
      "Requirement already satisfied: gurobipy in /usr/local/lib/python3.7/dist-packages (9.5.0)\n"
     ]
    }
   ],
   "source": [
    "# install the Gurobi package\n",
    "!pip install gurobipy"
   ]
  },
  {
   "cell_type": "code",
   "execution_count": 2,
   "metadata": {
    "id": "h09yzSAdkGoi"
   },
   "outputs": [],
   "source": [
    "# Import gurobi library\n",
    "from gurobipy import * # This command imports the Gurobi functions and classes."
   ]
  },
  {
   "cell_type": "code",
   "execution_count": 3,
   "metadata": {
    "colab": {
     "base_uri": "https://localhost:8080/"
    },
    "id": "ySnDUNAFkJqS",
    "outputId": "c7ed8407-2b5a-47e4-f772-d2f528437549"
   },
   "outputs": [
    {
     "name": "stdout",
     "output_type": "stream",
     "text": [
      "Restricted license - for non-production use only - expires 2023-10-25\n"
     ]
    }
   ],
   "source": [
    "# Create new model\n",
    "m = Model('') # The Model() constructor creates a model object m. The name of this new model is 'Factory'.\n",
    "                     # This new model m initially contains no decision variables, constraints, or objective function."
   ]
  },
  {
   "cell_type": "code",
   "execution_count": 4,
   "metadata": {
    "id": "Z1jU83rTkP3Q"
   },
   "outputs": [],
   "source": [
    "# Create decision variables\n",
    "# This method adds a decision variable to the model object m, one by one; i.e. x1 and then x2. \n",
    "# The argument of the method gives the name of added decision variable. \n",
    "# The default values are applied here; i.e. the decision variables are of type continuous and non-negative, with no upper bound.\n",
    "x1 = m.addVar(lb=0, vtype = GRB.CONTINUOUS, name='chairs') \n",
    "x2 = m.addVar(lb=0, vtype = GRB.CONTINUOUS, name='tables')"
   ]
  },
  {
   "cell_type": "code",
   "execution_count": 5,
   "metadata": {
    "id": "RmXH7T1Nkp6g"
   },
   "outputs": [],
   "source": [
    "# Define objective function\n",
    "# This method adds the objective function to the model object m. The first\n",
    "# argument is a linear expression and the second argument defines\n",
    "# the sense of the optimization.\n",
    "m.setObjective(40*x1+50*x2, GRB.MAXIMIZE)"
   ]
  },
  {
   "cell_type": "code",
   "execution_count": 6,
   "metadata": {
    "colab": {
     "base_uri": "https://localhost:8080/"
    },
    "id": "NFsd_4R_k4eF",
    "outputId": "3c1af80c-32ac-4f47-9f06-8785402221a9"
   },
   "outputs": [
    {
     "data": {
      "text/plain": [
       "<gurobi.Constr *Awaiting Model Update*>"
      ]
     },
     "execution_count": 6,
     "metadata": {},
     "output_type": "execute_result"
    }
   ],
   "source": [
    "# Add constraints\n",
    "# This method adds a constraint to the model object m\n",
    "m.addConstr(1*x1+2*x2<=40, name='wood')\n",
    "m.addConstr(4*x1+3*x2<=120, name= 'labor')"
   ]
  },
  {
   "cell_type": "code",
   "execution_count": 7,
   "metadata": {
    "colab": {
     "base_uri": "https://localhost:8080/"
    },
    "id": "7M-J7VV0lDY-",
    "outputId": "ceea173c-4a02-4165-c67c-207d097c6060"
   },
   "outputs": [
    {
     "name": "stdout",
     "output_type": "stream",
     "text": [
      "Gurobi Optimizer version 9.5.0 build v9.5.0rc5 (linux64)\n",
      "Thread count: 1 physical cores, 2 logical processors, using up to 2 threads\n",
      "Optimize a model with 2 rows, 2 columns and 4 nonzeros\n",
      "Model fingerprint: 0x3a526911\n",
      "Coefficient statistics:\n",
      "  Matrix range     [1e+00, 4e+00]\n",
      "  Objective range  [4e+01, 5e+01]\n",
      "  Bounds range     [0e+00, 0e+00]\n",
      "  RHS range        [4e+01, 1e+02]\n",
      "Presolve time: 0.01s\n",
      "Presolved: 2 rows, 2 columns, 4 nonzeros\n",
      "\n",
      "Iteration    Objective       Primal Inf.    Dual Inf.      Time\n",
      "       0    9.0000000e+31   3.250000e+30   9.000000e+01      0s\n",
      "       2    1.3600000e+03   0.000000e+00   0.000000e+00      0s\n",
      "\n",
      "Solved in 2 iterations and 0.02 seconds (0.00 work units)\n",
      "Optimal objective  1.360000000e+03\n"
     ]
    }
   ],
   "source": [
    "# Run optimization engine\n",
    "# This method runs the optimization engine to solve the LP problem in the model object m\n",
    "m.optimize()"
   ]
  },
  {
   "cell_type": "code",
   "execution_count": 8,
   "metadata": {
    "colab": {
     "base_uri": "https://localhost:8080/"
    },
    "id": "NeqYk3aGTwt2",
    "outputId": "e0f89ad3-097e-43f9-de11-d7ea274815ea"
   },
   "outputs": [
    {
     "name": "stdout",
     "output_type": "stream",
     "text": [
      "chairs 24.0\n",
      "tables 8.0\n",
      "optimal total revenue: 1360.0\n"
     ]
    }
   ],
   "source": [
    "#display optimal production plan\n",
    "for v in m.getVars():\n",
    "  print(v.varName, v.x)\n",
    "print('optimal total revenue:', m.objVal)"
   ]
  },
  {
   "cell_type": "markdown",
   "metadata": {
    "id": "QrKR8ZENlMgX"
   },
   "source": [
    "Given the constraints, the maximum revenue is $1360 structured such that we produce 24 chairs and 8 tables."
   ]
  },
  {
   "cell_type": "markdown",
   "metadata": {
    "id": "eJv_YDFVWoz0"
   },
   "source": [
    "**What if our LP problem has hundreds of thousands varibales and constraints?** \n",
    "\n",
    "The Gurobi python code just presented is too manual and would take too long too build a large scale LP problem. \n",
    "We should use appropriate data structures, python functions and objects to abstract the problem to any size."
   ]
  },
  {
   "cell_type": "markdown",
   "metadata": {
    "id": "xEiy1MoQmwvD"
   },
   "source": [
    "Python list comprehension:"
   ]
  },
  {
   "cell_type": "code",
   "execution_count": 9,
   "metadata": {
    "colab": {
     "base_uri": "https://localhost:8080/"
    },
    "id": "7A_oUv4b7m0s",
    "outputId": "60704533-79b7-4116-c532-c82cb07e740a"
   },
   "outputs": [
    {
     "name": "stdout",
     "output_type": "stream",
     "text": [
      "[0, 1, 4, 9, 16, 25, 36, 49, 64, 81]\n",
      "[9, 16, 25, 36, 49, 64, 81]\n",
      "[0, 1, 2, 1, 2, 3, 2, 3, 4]\n",
      "55\n"
     ]
    }
   ],
   "source": [
    "#List comprehension is compact way to create lists\n",
    "sqrd = [i*i for i in range(10)]\n",
    "print(sqrd) \n",
    "\n",
    "#Can be used to create subsequences that satisfy certain conditions (ex: filtering a list)\n",
    "bigsqrd = [i*i for i in range(10) if i*i >= 5]\n",
    "print(bigsqrd) \n",
    "\n",
    "#Can be used with multiple for loops (ex: all combinations)\n",
    "prod = [i+j for i in range(3) for j in range(3)]\n",
    "print(prod) \n",
    "\n",
    "#Generator expression is similar, but no brackets (ex: argument to aggregate sum)\n",
    "sum_sq = sum(i for i in range(11))\n",
    "print(sum_sq)"
   ]
  },
  {
   "cell_type": "code",
   "execution_count": 10,
   "metadata": {
    "colab": {
     "base_uri": "https://localhost:8080/"
    },
    "id": "FdK-JUFBn_AI",
    "outputId": "5e98e48f-f62d-4551-be1e-5ada2e5d6a87"
   },
   "outputs": [
    {
     "name": "stdout",
     "output_type": "stream",
     "text": [
      "['wood', 'labor'] {'wood': 40, 'labor': 120}\n"
     ]
    }
   ],
   "source": [
    "# Resource data\n",
    "# The multidict function returns a list which maps each resource (key) to its capacity value.\n",
    "resources, capacity = multidict({ \n",
    "    'wood':  40,\n",
    "    'labor': 120 })\n",
    "print(resources, capacity)"
   ]
  },
  {
   "cell_type": "code",
   "execution_count": 11,
   "metadata": {
    "colab": {
     "base_uri": "https://localhost:8080/"
    },
    "id": "lzd4fooUoAd2",
    "outputId": "6385ba1b-df70-4790-8626-07fbd192bdb9"
   },
   "outputs": [
    {
     "name": "stdout",
     "output_type": "stream",
     "text": [
      "['chair', 'table'] {'chair': 40, 'table': 50}\n"
     ]
    }
   ],
   "source": [
    "# Products data\n",
    "# This multidict function returns a list which maps each product (key) to its price value.\n",
    "products, price = multidict({\n",
    "    'chair': 40,\n",
    "    'table': 50 })\n",
    "print(products, price)"
   ]
  },
  {
   "cell_type": "code",
   "execution_count": 12,
   "metadata": {
    "colab": {
     "base_uri": "https://localhost:8080/"
    },
    "id": "Z7QcCtIJoPRI",
    "outputId": "c0fc0599-5f36-4306-94a4-aa1e4cc8ac0f"
   },
   "outputs": [
    {
     "name": "stdout",
     "output_type": "stream",
     "text": [
      "{('wood', 'chair'): 1, ('wood', 'table'): 2, ('labor', 'chair'): 4, ('labor', 'table'): 3}\n"
     ]
    }
   ],
   "source": [
    "# Bill of materials: resources required by each product\n",
    "# This dictionary has a 2-tuple as a key, mapping the resource required by a product with its quantity per.\n",
    "bom={\n",
    "('wood','chair'):1,\n",
    "('wood','table'):2,\n",
    "('labor','chair'):4,\n",
    "('labor','table'):3\n",
    "}\n",
    "print(bom)"
   ]
  },
  {
   "cell_type": "code",
   "execution_count": 13,
   "metadata": {
    "id": "EMU98Sktocal"
   },
   "outputs": [],
   "source": [
    "m = Model('Factory')"
   ]
  },
  {
   "cell_type": "code",
   "execution_count": 14,
   "metadata": {
    "id": "e09sV8YWocc4"
   },
   "outputs": [],
   "source": [
    "# This method adds decision variables to the model object m\n",
    "make = m.addVars(products, name='make')"
   ]
  },
  {
   "cell_type": "code",
   "execution_count": 15,
   "metadata": {
    "id": "lHTvJ97woqEf"
   },
   "outputs": [],
   "source": [
    "# This method adds constraints to the model object m\n",
    "res = m.addConstrs(((sum(bom[r,p]*make[p] for p in products) <= capacity[r]) for r in resources), name='R')"
   ]
  },
  {
   "cell_type": "code",
   "execution_count": 16,
   "metadata": {
    "id": "U5CCC1fJoxEs"
   },
   "outputs": [],
   "source": [
    "# This method adds the objective function to the model object m.\n",
    "# The first argument is a linear expression which is generated by the 'prod' method. \n",
    "# The 'prod' method is the product of the object (revenue) with the object (make) \n",
    "# for each product p in the set (products). The second argument defines the sense of the optimization.\n",
    "m.setObjective(make.prod(price), GRB.MAXIMIZE)"
   ]
  },
  {
   "cell_type": "code",
   "execution_count": 17,
   "metadata": {
    "id": "J_iS6Lao2uyT"
   },
   "outputs": [],
   "source": [
    "#save model for inspection\n",
    "m.write('factory.lp')"
   ]
  },
  {
   "cell_type": "code",
   "execution_count": 18,
   "metadata": {
    "colab": {
     "base_uri": "https://localhost:8080/"
    },
    "id": "WPCNb9Kw8m_Y",
    "outputId": "0e548005-8b15-43d9-a9d9-6c9893987c9e"
   },
   "outputs": [
    {
     "name": "stdout",
     "output_type": "stream",
     "text": [
      "\\ Model Factory\n",
      "\\ LP format - for model browsing. Use MPS format to capture full model detail.\n",
      "Maximize\n",
      "  40 make[chair] + 50 make[table]\n",
      "Subject To\n",
      " R[wood]: make[chair] + 2 make[table] <= 40\n",
      " R[labor]: 4 make[chair] + 3 make[table] <= 120\n",
      "Bounds\n",
      "End\n"
     ]
    }
   ],
   "source": [
    "cat factory.lp"
   ]
  },
  {
   "cell_type": "code",
   "execution_count": 19,
   "metadata": {
    "colab": {
     "base_uri": "https://localhost:8080/"
    },
    "id": "COqVFcv_ozmZ",
    "outputId": "74f89226-0b64-4aec-86a0-edde0aad205b"
   },
   "outputs": [
    {
     "name": "stdout",
     "output_type": "stream",
     "text": [
      "Gurobi Optimizer version 9.5.0 build v9.5.0rc5 (linux64)\n",
      "Thread count: 1 physical cores, 2 logical processors, using up to 2 threads\n",
      "Optimize a model with 2 rows, 2 columns and 4 nonzeros\n",
      "Model fingerprint: 0x3a526911\n",
      "Coefficient statistics:\n",
      "  Matrix range     [1e+00, 4e+00]\n",
      "  Objective range  [4e+01, 5e+01]\n",
      "  Bounds range     [0e+00, 0e+00]\n",
      "  RHS range        [4e+01, 1e+02]\n",
      "Presolve time: 0.01s\n",
      "Presolved: 2 rows, 2 columns, 4 nonzeros\n",
      "\n",
      "Iteration    Objective       Primal Inf.    Dual Inf.      Time\n",
      "       0    9.0000000e+31   3.250000e+30   9.000000e+01      0s\n",
      "       2    1.3600000e+03   0.000000e+00   0.000000e+00      0s\n",
      "\n",
      "Solved in 2 iterations and 0.03 seconds (0.00 work units)\n",
      "Optimal objective  1.360000000e+03\n"
     ]
    }
   ],
   "source": [
    "# run optimization engine\n",
    "m.optimize()"
   ]
  },
  {
   "cell_type": "code",
   "execution_count": 20,
   "metadata": {
    "colab": {
     "base_uri": "https://localhost:8080/"
    },
    "id": "vCtwr9buDj3a",
    "outputId": "1d23e3a3-5b24-4ed3-b2e0-9f1d22046b66"
   },
   "outputs": [
    {
     "name": "stdout",
     "output_type": "stream",
     "text": [
      "make[chair] 24.0\n",
      "make[table] 8.0\n",
      "optimal total revenue: 1360.0\n"
     ]
    }
   ],
   "source": [
    "#display optimal production plan\n",
    "for v in m.getVars():\n",
    "  print(v.varName, v.x)\n",
    "print('optimal total revenue:', m.objVal)"
   ]
  },
  {
   "cell_type": "markdown",
   "metadata": {
    "id": "xunMelTRDubU"
   },
   "source": [
    "# Sensitivity analysis of LP problems"
   ]
  },
  {
   "cell_type": "markdown",
   "metadata": {
    "id": "swmMiTNydNYz"
   },
   "source": [
    "Solving LP problems provides more information than only the values of the decision variables and the value of the objective function."
   ]
  },
  {
   "cell_type": "code",
   "execution_count": 21,
   "metadata": {
    "colab": {
     "base_uri": "https://localhost:8080/"
    },
    "id": "beT9iatapDC5",
    "outputId": "85a8062a-28d7-4b0d-8bda-044959d0e06c"
   },
   "outputs": [
    {
     "name": "stdout",
     "output_type": "stream",
     "text": [
      "make[chair] 24.0\n",
      "make[table] 8.0\n",
      "optimal total revenue: 1360.0\n"
     ]
    }
   ],
   "source": [
    "for v in m.getVars():\n",
    "  print(v.varName, v.x)\n",
    "print('optimal total revenue:', m.objVal)"
   ]
  },
  {
   "cell_type": "code",
   "execution_count": 22,
   "metadata": {
    "colab": {
     "base_uri": "https://localhost:8080/"
    },
    "id": "fF41PzxQpDFK",
    "outputId": "ab28946c-a606-4d59-df48-9fbef03a3928"
   },
   "outputs": [
    {
     "name": "stdout",
     "output_type": "stream",
     "text": [
      "make[chair] = 24.0 (40.0, 25.0, 66.66666666666667, 0.0)\n",
      "make[table] = 8.0 (50.0, 30.0, 80.0, 0.0)\n"
     ]
    }
   ],
   "source": [
    "for var in m.getVars(): # descision variable\n",
    "    print(var.varName, '=', var.x, (var.obj,var.SAObjLow, var.SAObjUp, var.RC))"
   ]
  },
  {
   "cell_type": "code",
   "execution_count": 23,
   "metadata": {
    "colab": {
     "base_uri": "https://localhost:8080/"
    },
    "id": "jxFugHqGpGbe",
    "outputId": "2cdd33f5-4d1e-4ce3-896f-a269790bd518"
   },
   "outputs": [
    {
     "name": "stdout",
     "output_type": "stream",
     "text": [
      "R[wood] : slack = 0.0 , shadow price= 16.0 , (40.0, 30.0, 80.0)\n",
      "R[labor] : slack = 0.0 , shadow price= 6.0 , (120.0, 60.0, 160.0)\n"
     ]
    }
   ],
   "source": [
    "for con in m.getConstrs(): # constraints\n",
    "    print(con.ConstrName, ': slack =', con.slack,', shadow price=',\n",
    "          con.pi,',', (con.RHS, con.SARHSLow, con.SARHSUp))"
   ]
  },
  {
   "cell_type": "code",
   "execution_count": 24,
   "metadata": {
    "colab": {
     "base_uri": "https://localhost:8080/"
    },
    "id": "dZlUbrhylnpt",
    "outputId": "977fbe1b-a436-472f-ccfe-781b191ebcd4"
   },
   "outputs": [
    {
     "name": "stdout",
     "output_type": "stream",
     "text": [
      "objective value = 1360.0\n"
     ]
    }
   ],
   "source": [
    "print(\"objective value =\", m.objVal)"
   ]
  },
  {
   "cell_type": "markdown",
   "metadata": {
    "id": "G66RMKzwdlmp"
   },
   "source": [
    "### Objective value coefficients\n",
    "* Optimally, we produce 24 chairs ($x1$ has the optimal value of 24). We sell a chair for $40 (its objective coefficient is 40). While holding the other objective coefficients fix, the values of 40 can change within the range of (25.0, 66.67) **without affecting the optimal solution** of (24,8). However, changing the objective coefficient will change the objective value!\n",
    "* Similarly, for tables, the objective coefficient is 50 but can vary (42.5, 80.0) without affecting the optimal solution point.\n"
   ]
  },
  {
   "cell_type": "markdown",
   "metadata": {
    "id": "9c8xNdvUdoDi"
   },
   "source": [
    "### Constraint quantity values\n",
    "The constraint quantity values are 40 m$^2$ and 120 hours. Modifying these values will change the feasible area. Here, we are looking for the range of values over which the quantity values can change **without changing the solution variable mix** including slack. \n",
    "* For the wood constraint, the RHS value is 40 m$^2$ and it can change within the range of (30, 80) without changing the solution variable mix.\n",
    "* For the labor constraint, the RHS value is 120 hours, and it can change within the range of (60, 160) without changing the solution variable mix."
   ]
  },
  {
   "cell_type": "markdown",
   "metadata": {
    "id": "tcBQi55bdrTF"
   },
   "source": [
    "### Shadow prices\n",
    "Associated with an LP optimal solution there are **shadow prices** (also known as: **dual values**, or **marginal values**) for the constraints.\n",
    "The **shadow price** of a constraint associated with the optimal solution represents the change in the value of the objective function per unit of increase in the RHS value of that constraint.\n",
    "\n",
    "* Suppose the wood capacity is increased from 40 m$^2$ to 41 m$^2$, then the objective function value will increase from the optimal value of 1360 to 1360+**16**. The shadow price of the wood constraint is thus \\$16.\n",
    "* Similarly, suppose the labor capacity is increased from 120 hours to 121 hours, then the objective function value will increase from the optimal value of 1360 to 1360+**6**. The shadow price of the labor constraint is thus \\$6. "
   ]
  },
  {
   "cell_type": "markdown",
   "metadata": {
    "id": "Aw6J5XM9dt5O"
   },
   "source": [
    "#### Sensitivity of the shadow price\n",
    "The sensitivity range for a constraint quantity value is also the range over which the shadow price is valid (i.e., before a slack/surplus value is added to the mix). For example, the shadow price of $16 is valid over the range of (60, 160) hours for labor."
   ]
  },
  {
   "cell_type": "markdown",
   "metadata": {
    "id": "v_0ZnmvcdwJj"
   },
   "source": [
    "### Adding new variable and/or new constraint\n",
    "Is it profitable to make a third product, like benches?\n",
    "Assume that the price of a bench is $30, and a bench consumes 1.2 units of wood and 2 units of labor, then we can formulate the LP model using the previous resources constraints on wood and labor as follows:"
   ]
  },
  {
   "cell_type": "code",
   "execution_count": 25,
   "metadata": {
    "id": "zktl8GcVNBi9"
   },
   "outputs": [],
   "source": [
    "# Adding new variable\n",
    "\n",
    "products, price = multidict({\n",
    "    'chair': 40,\n",
    "    'table': 50,\n",
    "    'bench' : 30})\n",
    "bom={\n",
    "('wood','chair'):1,\n",
    "('wood','table'):2,\n",
    "('wood','bench'):1.2,\n",
    "('labor','chair'):4,\n",
    "('labor','table'):3,\n",
    "('labor','bench'):2,\n",
    "}\n",
    "\n",
    "m = Model('Factory')\n",
    "\n",
    "make = m.addVars(products,name='make')\n",
    "res = m.addConstrs(((sum(bom[r,p]*make[p] for p in products) <= capacity[r]) for r in resources),name='R')\n",
    "m.setObjective(make.prod(price), GRB.MAXIMIZE)\n",
    "m.write('factory.lp')"
   ]
  },
  {
   "cell_type": "code",
   "execution_count": 26,
   "metadata": {
    "colab": {
     "base_uri": "https://localhost:8080/"
    },
    "id": "F052yz58NogL",
    "outputId": "b1da49e9-70d3-407b-98dd-410c19ce1748"
   },
   "outputs": [
    {
     "name": "stdout",
     "output_type": "stream",
     "text": [
      "\\ Model Factory\n",
      "\\ LP format - for model browsing. Use MPS format to capture full model detail.\n",
      "Maximize\n",
      "  40 make[chair] + 50 make[table] + 30 make[bench]\n",
      "Subject To\n",
      " R[wood]: make[chair] + 2 make[table] + 1.2 make[bench] <= 40\n",
      " R[labor]: 4 make[chair] + 3 make[table] + 2 make[bench] <= 120\n",
      "Bounds\n",
      "End\n"
     ]
    }
   ],
   "source": [
    "cat factory.lp"
   ]
  },
  {
   "cell_type": "code",
   "execution_count": 27,
   "metadata": {
    "colab": {
     "base_uri": "https://localhost:8080/"
    },
    "id": "2GFiM-4KOEFK",
    "outputId": "701c5e76-f9d9-4366-c51d-514e9e6db264"
   },
   "outputs": [
    {
     "name": "stdout",
     "output_type": "stream",
     "text": [
      "Gurobi Optimizer version 9.5.0 build v9.5.0rc5 (linux64)\n",
      "Thread count: 1 physical cores, 2 logical processors, using up to 2 threads\n",
      "Optimize a model with 2 rows, 3 columns and 6 nonzeros\n",
      "Model fingerprint: 0x3b912b2a\n",
      "Coefficient statistics:\n",
      "  Matrix range     [1e+00, 4e+00]\n",
      "  Objective range  [3e+01, 5e+01]\n",
      "  Bounds range     [0e+00, 0e+00]\n",
      "  RHS range        [4e+01, 1e+02]\n",
      "Presolve time: 0.03s\n",
      "Presolved: 2 rows, 3 columns, 6 nonzeros\n",
      "\n",
      "Iteration    Objective       Primal Inf.    Dual Inf.      Time\n",
      "       0    1.2000000e+32   4.350000e+30   1.200000e+02      0s\n",
      "       2    1.3600000e+03   0.000000e+00   0.000000e+00      0s\n",
      "\n",
      "Solved in 2 iterations and 0.05 seconds (0.00 work units)\n",
      "Optimal objective  1.360000000e+03\n",
      "make[chair] 24.0\n",
      "make[table] 8.0\n",
      "make[bench] 0.0\n",
      "optimal total revenue: 1360.0\n",
      "make[chair] = 24.0 (40.0, 25.00000000000002, 66.66666666666667, 0.0)\n",
      "make[table] = 8.0 (50.0, 47.85714285714286, 80.0, 0.0)\n",
      "make[bench] = 0.0 (30.0, -inf, 31.2, -1.1999999999999993)\n",
      "R[wood] : slack = 0.0 , shadow price= 16.0 , (40.0, 30.0, 80.0)\n",
      "R[labor] : slack = 0.0 , shadow price= 6.0 , (120.0, 60.0, 160.0)\n",
      "objective value = 1360.0\n"
     ]
    }
   ],
   "source": [
    "m.optimize()\n",
    "\n",
    "#display optimal production plan\n",
    "for v in m.getVars():\n",
    "  print(v.varName, v.x)\n",
    "print('optimal total revenue:', m.objVal)\n",
    "\n",
    "for var in m.getVars(): # descision variable\n",
    "    print(var.varName, '=', var.x, (var.obj,var.SAObjLow, var.SAObjUp, var.RC))\n",
    "\n",
    "for con in m.getConstrs(): # constraints\n",
    "    print(con.ConstrName, ': slack =', con.slack,', shadow price=',\n",
    "          con.pi,',', (con.RHS, con.SARHSLow, con.SARHSUp))\n",
    "    \n",
    "print(\"objective value =\", m.objVal)"
   ]
  },
  {
   "cell_type": "markdown",
   "metadata": {
    "id": "-4uC0HBKsm9U"
   },
   "source": [
    "What about adding a new constraint as packaging and varying costs for chairs and tables?"
   ]
  },
  {
   "cell_type": "code",
   "execution_count": 28,
   "metadata": {
    "id": "AKLdro4YwMur"
   },
   "outputs": [],
   "source": [
    "# Adding new constraint\n",
    "\n",
    "resources, capacity = multidict({ \n",
    "    'wood':  40,\n",
    "    'labor': 120,\n",
    "    'packaging': 5 })\n",
    "\n",
    "\n",
    "products, price = multidict({\n",
    "    'chair': 40,\n",
    "    'table': 50})\n",
    "bom={\n",
    "('wood','chair'):1,\n",
    "('wood','table'):2,\n",
    "('labor','chair'):4,\n",
    "('labor','table'):3,\n",
    "('packaging','chair'):0.2,\n",
    "('packaging','table'):0.1,\n",
    "}\n",
    "\n",
    "m = Model('Factory')\n",
    "\n",
    "make = m.addVars(products,name='make')\n",
    "res = m.addConstrs(((sum(bom[r,p]*make[p] for p in products) <= capacity[r]) for r in resources),name='R')\n",
    "m.setObjective(make.prod(price), GRB.MAXIMIZE)\n",
    "m.write('factory.lp')"
   ]
  },
  {
   "cell_type": "code",
   "execution_count": 29,
   "metadata": {
    "colab": {
     "base_uri": "https://localhost:8080/"
    },
    "id": "NpK4FmwCw0va",
    "outputId": "a502b81a-4e4b-4212-faad-e15e46aa662e"
   },
   "outputs": [
    {
     "name": "stdout",
     "output_type": "stream",
     "text": [
      "\\ Model Factory\n",
      "\\ LP format - for model browsing. Use MPS format to capture full model detail.\n",
      "Maximize\n",
      "  40 make[chair] + 50 make[table]\n",
      "Subject To\n",
      " R[wood]: make[chair] + 2 make[table] <= 40\n",
      " R[labor]: 4 make[chair] + 3 make[table] <= 120\n",
      " R[packaging]: 0.2 make[chair] + 0.1 make[table] <= 5\n",
      "Bounds\n",
      "End\n"
     ]
    }
   ],
   "source": [
    "cat factory.lp"
   ]
  },
  {
   "cell_type": "code",
   "execution_count": 30,
   "metadata": {
    "colab": {
     "base_uri": "https://localhost:8080/"
    },
    "id": "TxlX2rkCw3R-",
    "outputId": "a42420a5-1615-443e-e9e4-debb126b84f6"
   },
   "outputs": [
    {
     "name": "stdout",
     "output_type": "stream",
     "text": [
      "Gurobi Optimizer version 9.5.0 build v9.5.0rc5 (linux64)\n",
      "Thread count: 1 physical cores, 2 logical processors, using up to 2 threads\n",
      "Optimize a model with 3 rows, 2 columns and 6 nonzeros\n",
      "Model fingerprint: 0x0fe37c52\n",
      "Coefficient statistics:\n",
      "  Matrix range     [1e-01, 4e+00]\n",
      "  Objective range  [4e+01, 5e+01]\n",
      "  Bounds range     [0e+00, 0e+00]\n",
      "  RHS range        [5e+00, 1e+02]\n",
      "Presolve time: 0.02s\n",
      "Presolved: 3 rows, 2 columns, 6 nonzeros\n",
      "\n",
      "Iteration    Objective       Primal Inf.    Dual Inf.      Time\n",
      "       0    9.0000000e+31   4.450000e+30   9.000000e+01      0s\n",
      "       3    1.3000000e+03   0.000000e+00   0.000000e+00      0s\n",
      "\n",
      "Solved in 3 iterations and 0.04 seconds (0.00 work units)\n",
      "Optimal objective  1.300000000e+03\n",
      "make[chair] 20.0\n",
      "make[table] 10.0\n",
      "optimal total revenue: 1300.0\n",
      "make[chair] = 20.0 (40.0, 25.0, 100.0, 0.0)\n",
      "make[table] = 10.0 (50.0, 20.0, 80.0, 0.0)\n",
      "R[wood] : slack = 0.0 , shadow price= 20.0 , (40.0, 25.0, 55.0)\n",
      "R[labor] : slack = 10.0 , shadow price= 0.0 , (120.0, 110.0, inf)\n",
      "R[packaging] : slack = 0.0 , shadow price= 100.0 , (5.0, 2.0, 5.6)\n",
      "objective value = 1300.0\n"
     ]
    }
   ],
   "source": [
    "m.optimize()\n",
    "\n",
    "#display optimal production plan\n",
    "for v in m.getVars():\n",
    "  print(v.varName, v.x)\n",
    "print('optimal total revenue:', m.objVal)\n",
    "\n",
    "for var in m.getVars(): # descision variable\n",
    "    print(var.varName, '=', var.x, (var.obj,var.SAObjLow, var.SAObjUp, var.RC))\n",
    "\n",
    "for con in m.getConstrs(): # constraints\n",
    "    print(con.ConstrName, ': slack =', con.slack,', shadow price=',\n",
    "          con.pi,',', (con.RHS, con.SARHSLow, con.SARHSUp))\n",
    "    \n",
    "print(\"objective value =\", m.objVal)"
   ]
  },
  {
   "cell_type": "markdown",
   "metadata": {
    "id": "z1SarGHyBxEq"
   },
   "source": [
    "## Problem example: C2Q1\n",
    "Solve the following LP problem:\n",
    "\n",
    "$$\n",
    "\\begin{align}\n",
    "&\\text{max}\\\\\n",
    "&\\qquad z=10x_1+6x_2\\\\\n",
    "&\\text{s.t.}\\\\\n",
    "&\\qquad 3x_1+8x_2\\le 20\\\\\n",
    "&\\qquad 45x_1+30x_2\\le 180\\\\\n",
    "&\\qquad x_1, x_2\\ge 0\\\\\n",
    "\\end{align} \n",
    "$$"
   ]
  },
  {
   "cell_type": "code",
   "execution_count": 31,
   "metadata": {
    "colab": {
     "base_uri": "https://localhost:8080/"
    },
    "id": "x5t5HshiBxEq",
    "outputId": "0f94b653-7b88-46c6-c46c-309b4dbcb4bc"
   },
   "outputs": [
    {
     "name": "stdout",
     "output_type": "stream",
     "text": [
      "(2,) (2, 2) (2,)\n",
      "Gurobi Optimizer version 9.5.0 build v9.5.0rc5 (linux64)\n",
      "Thread count: 1 physical cores, 2 logical processors, using up to 2 threads\n",
      "Optimize a model with 2 rows, 2 columns and 4 nonzeros\n",
      "Model fingerprint: 0xbd442586\n",
      "Coefficient statistics:\n",
      "  Matrix range     [3e+00, 4e+01]\n",
      "  Objective range  [6e+00, 1e+01]\n",
      "  Bounds range     [0e+00, 0e+00]\n",
      "  RHS range        [2e+01, 2e+02]\n",
      "Presolve time: 0.01s\n",
      "Presolved: 2 rows, 2 columns, 4 nonzeros\n",
      "\n",
      "Iteration    Objective       Primal Inf.    Dual Inf.      Time\n",
      "       0    2.7500000e+30   2.828125e+30   2.750000e+00      0s\n",
      "       1    4.0000000e+01   0.000000e+00   0.000000e+00      0s\n",
      "\n",
      "Solved in 1 iterations and 0.02 seconds (0.00 work units)\n",
      "Optimal objective  4.000000000e+01\n",
      "x0 = 4.0 (10.0, 9.000000000000002, inf, 0.0)\n",
      "x1 = 0.0 (6.0, -inf, 6.666666666666666, -0.6666666666666661)\n",
      "constraints[0] : slack = 8.0 , shadow price= 0.0 , (20.0, 12.0, inf)\n",
      "constraints[1] : slack = 0.0 , shadow price= 0.2222222222222222 , (180.0, 0.0, 300.0)\n",
      "objective value = 40.0\n"
     ]
    }
   ],
   "source": [
    "c = [10, 6]    \n",
    "A = [[3,   8 ],\n",
    "     [45, 30 ]]\n",
    "b = [20, 180]\n",
    "\n",
    "import numpy as np\n",
    "print(np.array(c).shape,np.array(A).shape,np.array(b).shape)\n",
    "decision_variables = range(len(c))     \n",
    "constraints = range(np.array(A).shape[0])\n",
    "\n",
    "m = Model(\"C2Q1\")\n",
    "\n",
    "x = []\n",
    "for i in decision_variables:\n",
    "    x.append(m.addVar(lb = 0, vtype = GRB.CONTINUOUS, name = 'x' + str(i)))\n",
    "\n",
    "m.setObjective(quicksum(c[i] * x[i] for i in decision_variables) , GRB.MAXIMIZE) \n",
    "\n",
    "m.addConstrs((quicksum(A[j][i] * x[i] for i in decision_variables) \n",
    "                           <= b[j] for j in constraints), \"constraints\")\n",
    "\n",
    "m.optimize()\n",
    "\n",
    "for var in m.getVars(): # descision variable\n",
    "    print(var.varName, '=', var.x, (var.obj,var.SAObjLow, var.SAObjUp, var.RC))\n",
    "\n",
    "for con in m.getConstrs(): # constraints\n",
    "    print(con.ConstrName, ': slack =', con.slack,', shadow price=',\n",
    "          con.pi,',', (con.RHS, con.SARHSLow, con.SARHSUp))\n",
    "    \n",
    "print(\"objective value =\", m.objVal)"
   ]
  },
  {
   "cell_type": "markdown",
   "metadata": {
    "id": "hvLQcinTBxEs"
   },
   "source": [
    "## Problem example: C2Q2\n",
    "Solve the following LP problem:\n",
    "\n",
    "$$\n",
    "\\begin{align}\n",
    "&\\text{min}\\\\\n",
    "&\\qquad z=0.5x_1+0.03x_2\\\\\n",
    "&\\text{s.t.}\\\\\n",
    "&\\qquad 8x_1+6x_2\\ge 48\\\\\n",
    "&\\qquad x_1+2x_2\\ge 12\\\\\n",
    "&\\qquad x_1, x_2\\ge 0\\\\\n",
    "\\end{align} \n",
    "$$"
   ]
  },
  {
   "cell_type": "code",
   "execution_count": 32,
   "metadata": {
    "colab": {
     "base_uri": "https://localhost:8080/"
    },
    "id": "mmXnOawxBxEs",
    "outputId": "d95d054b-061e-4254-e29e-66e7a6d6672a"
   },
   "outputs": [
    {
     "name": "stdout",
     "output_type": "stream",
     "text": [
      "(2,) (2, 2) (2,)\n",
      "Gurobi Optimizer version 9.5.0 build v9.5.0rc5 (linux64)\n",
      "Thread count: 1 physical cores, 2 logical processors, using up to 2 threads\n",
      "Optimize a model with 2 rows, 2 columns and 4 nonzeros\n",
      "Model fingerprint: 0x4d3e8f82\n",
      "Coefficient statistics:\n",
      "  Matrix range     [1e+00, 8e+00]\n",
      "  Objective range  [3e-02, 5e-01]\n",
      "  Bounds range     [0e+00, 0e+00]\n",
      "  RHS range        [1e+01, 5e+01]\n",
      "Presolve time: 0.02s\n",
      "Presolved: 2 rows, 2 columns, 4 nonzeros\n",
      "\n",
      "Iteration    Objective       Primal Inf.    Dual Inf.      Time\n",
      "       0    0.0000000e+00   1.200000e+01   0.000000e+00      0s\n",
      "       1    2.4000000e-01   0.000000e+00   0.000000e+00      0s\n",
      "\n",
      "Solved in 1 iterations and 0.03 seconds (0.00 work units)\n",
      "Optimal objective  2.400000000e-01\n",
      "x0 = 0.0 (0.5, 0.03999999999999998, inf, 0.46)\n",
      "x1 = 8.0 (0.03, -3.469446951953614e-18, 0.375, 0.0)\n",
      "constraints[0] : slack = 0.0 , shadow price= 0.005 , (48.0, 36.0, inf)\n",
      "constraints[1] : slack = -4.0 , shadow price= 0.0 , (12.0, -inf, 16.0)\n",
      "objective value = 0.24\n"
     ]
    }
   ],
   "source": [
    "c = [0.5, 0.03]    \n",
    "A = [[8,6 ],\n",
    "     [1,2 ]]\n",
    "b = [48,12]\n",
    "print(np.array(c).shape,np.array(A).shape,np.array(b).shape)\n",
    "decision_variables = range(len(c))     \n",
    "constraints = range(np.array(A).shape[0])\n",
    "\n",
    "m = Model(\"C2Q1\")\n",
    "\n",
    "x = []\n",
    "for i in decision_variables:\n",
    "    x.append(m.addVar(lb = 0, vtype = GRB.CONTINUOUS, name = 'x' + str(i)))\n",
    "\n",
    "m.setObjective(quicksum(c[i] * x[i] for i in decision_variables) , GRB.MINIMIZE) \n",
    "\n",
    "m.addConstrs((quicksum(A[j][i] * x[i] for i in decision_variables) \n",
    "                           >= b[j] for j in constraints), \"constraints\")\n",
    "\n",
    "m.optimize()\n",
    "\n",
    "for var in m.getVars(): # descision variable\n",
    "    print(var.varName, '=', var.x, (var.obj,var.SAObjLow, var.SAObjUp, var.RC))\n",
    "\n",
    "for con in m.getConstrs(): # constraints\n",
    "    print(con.ConstrName, ': slack =', con.slack,', shadow price=',\n",
    "          con.pi,',', (con.RHS, con.SARHSLow, con.SARHSUp))\n",
    "    \n",
    "print(\"objective value =\", m.objVal)"
   ]
  },
  {
   "cell_type": "markdown",
   "metadata": {
    "id": "s6Qp7_aXBxEt"
   },
   "source": [
    "## Problem example: C4Q8\n",
    "Solve the following LP problem:\n",
    "\n",
    "$$\n",
    "\\begin{align}\n",
    "&\\text{min}\\\\\n",
    "&\\qquad z=4x_1+3x_2+2x_3\\\\\n",
    "&\\text{s.t.}\\\\\n",
    "&\\qquad 2x_1+4x_2+x_3\\ge 16\\\\\n",
    "&\\qquad 3x_1+2x_2+x_3\\ge 12\\\\\n",
    "&\\qquad x_1, x_2, x_3\\ge 0\\\\\n",
    "\\end{align} \n",
    "$$"
   ]
  },
  {
   "cell_type": "code",
   "execution_count": 33,
   "metadata": {
    "colab": {
     "base_uri": "https://localhost:8080/"
    },
    "id": "ZoUyYFAsBxEt",
    "outputId": "144e150e-e8cd-4356-f849-6882cda2a115"
   },
   "outputs": [
    {
     "name": "stdout",
     "output_type": "stream",
     "text": [
      "(3,) (2, 3) (2,)\n",
      "Gurobi Optimizer version 9.5.0 build v9.5.0rc5 (linux64)\n",
      "Thread count: 1 physical cores, 2 logical processors, using up to 2 threads\n",
      "Optimize a model with 2 rows, 3 columns and 6 nonzeros\n",
      "Model fingerprint: 0xf87028b1\n",
      "Coefficient statistics:\n",
      "  Matrix range     [1e+00, 4e+00]\n",
      "  Objective range  [2e+00, 4e+00]\n",
      "  Bounds range     [0e+00, 0e+00]\n",
      "  RHS range        [1e+01, 2e+01]\n",
      "Presolve time: 0.01s\n",
      "Presolved: 2 rows, 3 columns, 6 nonzeros\n",
      "\n",
      "Iteration    Objective       Primal Inf.    Dual Inf.      Time\n",
      "       0    0.0000000e+00   7.000000e+00   0.000000e+00      0s\n",
      "       2    1.7000000e+01   0.000000e+00   0.000000e+00      0s\n",
      "\n",
      "Solved in 2 iterations and 0.02 seconds (0.00 work units)\n",
      "Optimal objective  1.700000000e+01\n",
      "x0 = 2.0000000000000004 (4.0, 1.4999999999999996, 4.5, 0.0)\n",
      "x1 = 2.9999999999999996 (3.0, 2.6666666666666665, 8.0, 0.0)\n",
      "x2 = 0.0 (2.0, 1.375, inf, 0.625)\n",
      "constraints[0] : slack = 0.0 , shadow price= 0.12500000000000003 , (16.0, 8.0, 24.000000000000004)\n",
      "constraints[1] : slack = 0.0 , shadow price= 1.25 , (12.0, 7.999999999999999, 24.0)\n",
      "objective value = 17.0\n"
     ]
    }
   ],
   "source": [
    "c = [4,3,2]    \n",
    "A = [[2,4,1 ],\n",
    "     [3,2,1 ]]\n",
    "b = [16,12]\n",
    "print(np.array(c).shape,np.array(A).shape,np.array(b).shape)\n",
    "decision_variables = range(len(c))     \n",
    "constraints = range(np.array(A).shape[0])\n",
    "\n",
    "m = Model(\"C4Q8\")\n",
    "\n",
    "x = []\n",
    "for i in decision_variables:\n",
    "    x.append(m.addVar(lb = 0, vtype = GRB.CONTINUOUS, name = 'x' + str(i)))\n",
    "\n",
    "m.setObjective(quicksum(c[i] * x[i] for i in decision_variables) , GRB.MINIMIZE) \n",
    "\n",
    "m.addConstrs((quicksum(A[j][i] * x[i] for i in decision_variables) \n",
    "                           >= b[j] for j in constraints), \"constraints\")\n",
    "\n",
    "m.optimize()\n",
    "\n",
    "for var in m.getVars(): # descision variable\n",
    "    print(var.varName, '=', var.x, (var.obj,var.SAObjLow, var.SAObjUp, var.RC))\n",
    "\n",
    "for con in m.getConstrs(): # constraints\n",
    "    print(con.ConstrName, ': slack =', con.slack,', shadow price=',\n",
    "          con.pi,',', (con.RHS, con.SARHSLow, con.SARHSUp))\n",
    "    \n",
    "print(\"objective value =\", m.objVal)"
   ]
  },
  {
   "cell_type": "markdown",
   "metadata": {
    "id": "ZXxrH5ATBxEv"
   },
   "source": [
    "## Problem example: C4Q32\n",
    "Solve the following LP problem:\n",
    "\n",
    "$$\n",
    "\\begin{align}\n",
    "&\\text{min}\\\\\n",
    "&\\qquad z=22x_1+18x_2+35x_3+41x_4+30x_5+28x_6+25x_7+36x_8+18x_9\\\\\n",
    "&\\text{s.t.}\\\\\n",
    "&\\qquad x_1+x_2+x_3=1\\\\\n",
    "&\\qquad x_4+x_5+x_6=1\\\\\n",
    "&\\qquad x_7+x_8+x_9=1\\\\\n",
    "&\\qquad x_1+x_4+x_7=1\\\\\n",
    "&\\qquad x_2+x_5+x_8=1\\\\\n",
    "&\\qquad x_3+x_6+x_9=1\\\\\n",
    "&\\qquad x_1,x_2,x_3,x_4,x_5,x_6,x_7,x_8,x_9\\ge 0\\\\\n",
    "\\end{align} \n",
    "$$"
   ]
  },
  {
   "cell_type": "code",
   "execution_count": 34,
   "metadata": {
    "colab": {
     "base_uri": "https://localhost:8080/"
    },
    "id": "3762Gzi0BxEv",
    "outputId": "9be7e0ed-156c-40dc-f136-79277e8b3910"
   },
   "outputs": [
    {
     "name": "stdout",
     "output_type": "stream",
     "text": [
      "(9,) (6, 9) (6,)\n",
      "Gurobi Optimizer version 9.5.0 build v9.5.0rc5 (linux64)\n",
      "Thread count: 1 physical cores, 2 logical processors, using up to 2 threads\n",
      "Optimize a model with 6 rows, 9 columns and 18 nonzeros\n",
      "Model fingerprint: 0xadb8a4fb\n",
      "Coefficient statistics:\n",
      "  Matrix range     [1e+00, 1e+00]\n",
      "  Objective range  [2e+01, 4e+01]\n",
      "  Bounds range     [0e+00, 0e+00]\n",
      "  RHS range        [1e+00, 1e+00]\n",
      "Presolve time: 0.03s\n",
      "Presolved: 6 rows, 9 columns, 18 nonzeros\n",
      "\n",
      "Iteration    Objective       Primal Inf.    Dual Inf.      Time\n",
      "       0    6.4000000e+01   2.000000e+00   0.000000e+00      0s\n",
      "       2    7.0000000e+01   0.000000e+00   0.000000e+00      0s\n",
      "\n",
      "Solved in 2 iterations and 0.06 seconds (0.00 work units)\n",
      "Optimal objective  7.000000000e+01\n",
      "x0 = 1.0 (22.0, -inf, 23.0, 0.0)\n",
      "x1 = 0.0 (18.0, 17.0, 37.0, 0.0)\n",
      "x2 = 0.0 (35.0, 16.0, inf, 19.0)\n",
      "x3 = 0.0 (41.0, 34.0, inf, 7.0)\n",
      "x4 = 1.0 (30.0, 11.0, 31.0, 0.0)\n",
      "x5 = 0.0 (28.0, 27.0, 47.0, 0.0)\n",
      "x6 = 0.0 (25.0, 24.0, inf, 1.0)\n",
      "x7 = 0.0 (36.0, 20.0, inf, 16.0)\n",
      "x8 = 1.0 (18.0, -inf, 19.0, 0.0)\n",
      "constraints[0] : slack = 0.0 , shadow price= 18.0 , (1.0, 1.0, 1.0)\n",
      "constraints[1] : slack = 0.0 , shadow price= 30.0 , (1.0, 1.0, 1.0)\n",
      "constraints[2] : slack = 0.0 , shadow price= 20.0 , (1.0, 1.0, 1.0)\n",
      "constraints[3] : slack = 0.0 , shadow price= 4.0 , (1.0, 1.0, 1.0)\n",
      "constraints[4] : slack = 0.0 , shadow price= 0.0 , (1.0, 1.0, 1.0)\n",
      "constraints[5] : slack = 0.0 , shadow price= -2.0 , (1.0, 1.0, 1.0)\n",
      "objective value = 70.0\n"
     ]
    }
   ],
   "source": [
    "c = [22,18,35,41,30,28,25,36,18]    \n",
    "A = [[1,1,1,0,0,0,0,0,0 ],\n",
    "     [0,0,0,1,1,1,0,0,0 ],\n",
    "     [0,0,0,0,0,0,1,1,1 ],\n",
    "     [1,0,0,1,0,0,1,0,0 ],\n",
    "     [0,1,0,0,1,0,0,1,0 ],\n",
    "     [0,0,1,0,0,1,0,0,1 ]]\n",
    "b = [1,1,1,1,1,1]\n",
    "print(np.array(c).shape,np.array(A).shape,np.array(b).shape)\n",
    "decision_variables = range(len(c))     \n",
    "constraints = range(np.array(A).shape[0])\n",
    "\n",
    "m = Model(\"C4Q32\")\n",
    "\n",
    "x = []\n",
    "for i in decision_variables:\n",
    "    x.append(m.addVar(lb = 0, vtype = GRB.CONTINUOUS, name = 'x' + str(i)))\n",
    "\n",
    "m.setObjective(quicksum(c[i] * x[i] for i in decision_variables) , GRB.MINIMIZE) \n",
    "\n",
    "m.addConstrs((quicksum(A[j][i] * x[i] for i in decision_variables) \n",
    "                           == b[j] for j in constraints), \"constraints\")\n",
    "\n",
    "m.optimize()\n",
    "\n",
    "for var in m.getVars(): # descision variable\n",
    "    print(var.varName, '=', var.x, (var.obj,var.SAObjLow, var.SAObjUp, var.RC))\n",
    "\n",
    "for con in m.getConstrs(): # constraints\n",
    "    print(con.ConstrName, ': slack =', con.slack,', shadow price=',\n",
    "          con.pi,',', (con.RHS, con.SARHSLow, con.SARHSUp))\n",
    "    \n",
    "print(\"objective value =\", m.objVal)"
   ]
  },
  {
   "cell_type": "markdown",
   "metadata": {
    "id": "QaQshdzIhbR0"
   },
   "source": [
    "This would require the model to be reformulated with three new variables, $x_{10}, x_{11}, x_{12}$, representing Kelly's assignment to the press, lathe, and grinder. The model would be reformulated as,\n",
    "\n",
    "$$\n",
    "\\begin{align}\n",
    "&\\text{min}\\\\\n",
    "&\\qquad z=22x_1+18x_2+35x_3+41x_4+30x_5+28x_6+25x_7+36x_8+18x_9+20x_{10}+20x_{11}+20x_{12}\\\\\n",
    "&\\text{s.t.}\\\\\n",
    "&\\qquad x_1+x_2+x_3=1\\\\\n",
    "&\\qquad x_4+x_5+x_6=1\\\\\n",
    "&\\qquad x_7+x_8+x_9=1\\\\\n",
    "&\\qquad x_1+x_4+x_7=1\\\\\n",
    "&\\qquad x_2+x_5+x_8=1\\\\\n",
    "&\\qquad x_3+x_6+x_9=1\\\\\n",
    "&\\qquad x_1,x_2,x_3,x_4,x_5,x_6,x_7,x_8,x_9\\ge 0\n",
    "\\end{align} \n",
    "$$"
   ]
  },
  {
   "cell_type": "code",
   "execution_count": 35,
   "metadata": {
    "colab": {
     "base_uri": "https://localhost:8080/"
    },
    "id": "fAF6sL7yBxEw",
    "outputId": "df836665-05fa-4cbf-9897-30986ab7daa1"
   },
   "outputs": [
    {
     "name": "stdout",
     "output_type": "stream",
     "text": [
      "(12,) (7, 12) (7,)\n",
      "Gurobi Optimizer version 9.5.0 build v9.5.0rc5 (linux64)\n",
      "Thread count: 1 physical cores, 2 logical processors, using up to 2 threads\n",
      "Optimize a model with 7 rows, 12 columns and 24 nonzeros\n",
      "Model fingerprint: 0x447648af\n",
      "Coefficient statistics:\n",
      "  Matrix range     [1e+00, 1e+00]\n",
      "  Objective range  [2e+01, 4e+01]\n",
      "  Bounds range     [0e+00, 0e+00]\n",
      "  RHS range        [1e+00, 1e+00]\n",
      "Presolve time: 0.01s\n",
      "Presolved: 7 rows, 12 columns, 24 nonzeros\n",
      "\n",
      "Iteration    Objective       Primal Inf.    Dual Inf.      Time\n",
      "       0    5.6000000e+01   0.000000e+00   0.000000e+00      0s\n",
      "\n",
      "Solved in 0 iterations and 0.02 seconds (0.00 work units)\n",
      "Optimal objective  5.600000000e+01\n",
      "x0 = 0.0 (22.0, 20.0, inf, 2.0)\n",
      "x1 = 1.0 (18.0, -inf, 20.0, 0.0)\n",
      "x2 = 0.0 (35.0, 18.0, inf, 17.0)\n",
      "x3 = 0.0 (41.0, 20.0, inf, 21.0)\n",
      "x4 = 0.0 (30.0, 18.0, inf, 12.0)\n",
      "x5 = 0.0 (28.0, 18.0, inf, 10.0)\n",
      "x6 = 0.0 (25.0, 20.0, inf, 5.0)\n",
      "x7 = 0.0 (36.0, 18.0, inf, 18.0)\n",
      "x8 = 1.0 (18.0, -inf, 20.0, 0.0)\n",
      "x9 = 1.0 (20.0, -inf, 22.0, 0.0)\n",
      "x10 = 0.0 (20.0, 18.0, inf, 2.0)\n",
      "x11 = 0.0 (20.0, 18.0, inf, 2.0)\n",
      "constraints[0] : slack = 0.0 , shadow price= 0.0 , (1.0, 1.0, inf)\n",
      "constraints[1] : slack = 1.0 , shadow price= 0.0 , (1.0, 0.0, inf)\n",
      "constraints[2] : slack = 0.0 , shadow price= 0.0 , (1.0, 1.0, inf)\n",
      "constraints[3] : slack = 0.0 , shadow price= 0.0 , (1.0, 1.0, inf)\n",
      "constraints[4] : slack = 0.0 , shadow price= 20.0 , (1.0, 0.0, 1.0)\n",
      "constraints[5] : slack = 0.0 , shadow price= 18.0 , (1.0, 0.0, 1.0)\n",
      "constraints[6] : slack = 0.0 , shadow price= 18.0 , (1.0, 0.0, 1.0)\n",
      "objective value = 56.0\n"
     ]
    }
   ],
   "source": [
    "c = [22,18,35,41,30,28,25,36,18,20,20,20]    \n",
    "A = [[1,1,1,0,0,0,0,0,0,0,0,0 ],\n",
    "     [0,0,0,1,1,1,0,0,0,0,0,0 ],\n",
    "     [0,0,0,0,0,0,1,1,1,0,0,0 ],\n",
    "     [0,0,0,0,0,0,0,0,0,1,1,1 ],\n",
    "     [1,0,0,1,0,0,1,0,0,1,0,0 ],\n",
    "     [0,1,0,0,1,0,0,1,0,0,1,0 ],\n",
    "     [0,0,1,0,0,1,0,0,1,0,0,1 ]]\n",
    "b =  [1,1,1,1,1,1,1]\n",
    "print(np.array(c).shape,np.array(A).shape,np.array(b).shape)\n",
    "decision_variables = range(len(c))     \n",
    "constraints = range(np.array(A).shape[0])\n",
    "\n",
    "m = Model(\"C4Q32\")\n",
    "\n",
    "x = []\n",
    "for i in decision_variables:\n",
    "    x.append(m.addVar(lb = 0, vtype = GRB.CONTINUOUS, name = 'x' + str(i)))\n",
    "\n",
    "m.setObjective(quicksum(c[i] * x[i] for i in decision_variables) , GRB.MINIMIZE) \n",
    "\n",
    "m.addConstrs((quicksum(A[j][i] * x[i] for i in decision_variables) \n",
    "                           <= b[j] for j in range(4)), \"constraints\")\n",
    "\n",
    "m.addConstrs((quicksum(A[j][i] * x[i] for i in decision_variables) \n",
    "                           == b[j] for j in range(4,7)), \"constraints\")\n",
    "m.optimize()\n",
    "\n",
    "for var in m.getVars(): # descision variable\n",
    "    print(var.varName, '=', var.x, (var.obj,var.SAObjLow, var.SAObjUp, var.RC))\n",
    "\n",
    "for con in m.getConstrs(): # constraints\n",
    "    print(con.ConstrName, ': slack =', con.slack,', shadow price=',\n",
    "          con.pi,',', (con.RHS, con.SARHSLow, con.SARHSUp))\n",
    "    \n",
    "print(\"objective value =\", m.objVal)"
   ]
  },
  {
   "cell_type": "markdown",
   "metadata": {
    "id": "5llhxOCEBxEw"
   },
   "source": [
    "## Problem example: C4Q33\n",
    "\n",
    "Solve the following LP problem:\n",
    "\n",
    "This is a transportation problem\n",
    "\n",
    "$$\n",
    "\\begin{align}\n",
    "&\\text{min}\\\\\n",
    "&\\qquad z=40x_1 + 65x_2 + 70x_3 + 30x_4\\\\\n",
    "&\\text{s.t.}\\\\\n",
    "&\\qquad x_1+x_2=250\\\\\n",
    "&\\qquad x_3+x_4=400\\\\\n",
    "&\\qquad x_1+x_3=300\\\\\n",
    "&\\qquad x_2+x_4=350\\\\\n",
    "&\\qquad x_1,x_2,x_3,x_4\\ge 0\\\\\n",
    "\\end{align} \n",
    "$$"
   ]
  },
  {
   "cell_type": "code",
   "execution_count": 36,
   "metadata": {
    "colab": {
     "base_uri": "https://localhost:8080/"
    },
    "id": "cJSnzIfiBxEw",
    "outputId": "8ab30715-9734-4f99-dfe3-1ac7511d64f4"
   },
   "outputs": [
    {
     "name": "stdout",
     "output_type": "stream",
     "text": [
      "(4,) (4, 4) (4,)\n",
      "Gurobi Optimizer version 9.5.0 build v9.5.0rc5 (linux64)\n",
      "Thread count: 1 physical cores, 2 logical processors, using up to 2 threads\n",
      "Optimize a model with 4 rows, 4 columns and 8 nonzeros\n",
      "Model fingerprint: 0x1da74e02\n",
      "Coefficient statistics:\n",
      "  Matrix range     [1e+00, 1e+00]\n",
      "  Objective range  [3e+01, 7e+01]\n",
      "  Bounds range     [0e+00, 0e+00]\n",
      "  RHS range        [2e+02, 4e+02]\n",
      "Presolve removed 4 rows and 4 columns\n",
      "Presolve time: 0.03s\n",
      "Presolve: All rows and columns removed\n",
      "Iteration    Objective       Primal Inf.    Dual Inf.      Time\n",
      "       0    2.4000000e+04   0.000000e+00   0.000000e+00      0s\n",
      "\n",
      "Solved in 0 iterations and 0.06 seconds (0.00 work units)\n",
      "Optimal objective  2.400000000e+04\n",
      "x0 = 250.0 (40.0, -inf, 105.0, 0.0)\n",
      "x1 = 0.0 (65.0, 0.0, inf, 65.0)\n",
      "x2 = 50.0 (70.0, 5.0, inf, 0.0)\n",
      "x3 = 350.0 (30.0, -inf, 95.0, 0.0)\n",
      "constraints[0] : slack = 0.0 , shadow price= -0.0 , (250.0, 250.0, 250.0)\n",
      "constraints[1] : slack = 0.0 , shadow price= 30.0 , (400.0, 400.0, 400.0)\n",
      "constraints[2] : slack = 0.0 , shadow price= 40.0 , (300.0, 300.0, 300.0)\n",
      "constraints[3] : slack = 0.0 , shadow price= 0.0 , (350.0, 350.0, 350.0)\n",
      "objective value = 24000.0\n"
     ]
    }
   ],
   "source": [
    "c = [40,65,70,30]    \n",
    "A = [[1,1,0,0 ],\n",
    "     [0,0,1,1 ],\n",
    "     [1,0,1,0 ],\n",
    "     [0,1,0,1 ]]\n",
    "b =  [250, 400, 300, 350]\n",
    "print(np.array(c).shape,np.array(A).shape,np.array(b).shape)\n",
    "decision_variables = range(len(c))     \n",
    "constraints = range(np.array(A).shape[0])\n",
    "\n",
    "m = Model(\"C4Q33\")\n",
    "\n",
    "x = []\n",
    "for i in decision_variables:\n",
    "    x.append(m.addVar(lb = 0, vtype = GRB.CONTINUOUS, name = 'x' + str(i)))\n",
    "\n",
    "m.setObjective(quicksum(c[i] * x[i] for i in decision_variables) , GRB.MINIMIZE) \n",
    "m.addConstrs((quicksum(A[j][i] * x[i] for i in decision_variables) \n",
    "                           == b[j] for j in constraints), \"constraints\")\n",
    "m.optimize()\n",
    "\n",
    "for var in m.getVars(): # descision variable\n",
    "    print(var.varName, '=', var.x, (var.obj,var.SAObjLow, var.SAObjUp, var.RC))\n",
    "\n",
    "for con in m.getConstrs(): # constraints\n",
    "    print(con.ConstrName, ': slack =', con.slack,', shadow price=',\n",
    "          con.pi,',', (con.RHS, con.SARHSLow, con.SARHSUp))\n",
    "    \n",
    "print(\"objective value =\", m.objVal)"
   ]
  }
 ],
 "metadata": {
  "colab": {
   "collapsed_sections": [],
   "name": "Solving_problems_using_Python.ipynb",
   "provenance": []
  },
  "kernelspec": {
   "display_name": "Python 3",
   "name": "python3"
  },
  "language_info": {
   "name": "python"
  }
 },
 "nbformat": 4,
 "nbformat_minor": 0
}