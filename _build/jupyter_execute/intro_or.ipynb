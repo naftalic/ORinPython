{
 "cells": [
  {
   "cell_type": "markdown",
   "metadata": {
    "id": "dzNng6vCL9eP"
   },
   "source": [
    "#Chapter -3: Python Tutorial\n",
    "\n",
    "In the following sections, we will repeatedly use Python scripts. In case you are **less** familiar with Python, here is a short tutorial on what you need to know.\n",
    "Also, please take a look here: Google's Python Class- https://developers.google.com/edu/python\n"
   ]
  },
  {
   "cell_type": "markdown",
   "metadata": {
    "id": "qVrTo-LhL9eS"
   },
   "source": [
    "##Introduction"
   ]
  },
  {
   "cell_type": "markdown",
   "metadata": {
    "id": "9t1gKp9PL9eV"
   },
   "source": [
    "Python is a general-purpose programming language that, combining with a few popular libraries (numpy, scipy, matplotlib), becomes a powerful environment for scientific computing."
   ]
  },
  {
   "cell_type": "code",
   "execution_count": 1,
   "metadata": {
    "colab": {
     "base_uri": "https://localhost:8080/"
    },
    "id": "1L4Am0QATgOc",
    "outputId": "dcffa7cc-a42c-4cd1-e115-44eb748d39cc"
   },
   "outputs": [
    {
     "name": "stdout",
     "output_type": "stream",
     "text": [
      "Python 3.8.12\r\n"
     ]
    }
   ],
   "source": [
    "!python --version"
   ]
  },
  {
   "cell_type": "markdown",
   "metadata": {
    "id": "JAFKYgrpL9eY"
   },
   "source": [
    "##Basics of Python"
   ]
  },
  {
   "cell_type": "markdown",
   "metadata": {
    "id": "RbFS6tdgL9ea"
   },
   "source": [
    "Python is a high-level, dynamically typed multiparadigm programming language. Python code is often said to be almost like pseudocode, since it allows you to express very powerful ideas in very few lines of code while being very readable."
   ]
  },
  {
   "cell_type": "markdown",
   "metadata": {
    "id": "NwS_hu4xL9eo"
   },
   "source": [
    "###Basic data types"
   ]
  },
  {
   "cell_type": "markdown",
   "metadata": {
    "id": "DL5sMSZ9L9eq"
   },
   "source": [
    "####Numbers"
   ]
  },
  {
   "cell_type": "markdown",
   "metadata": {
    "id": "MGS0XEWoL9er"
   },
   "source": [
    "Integers and floats work as you would expect from other languages:"
   ]
  },
  {
   "cell_type": "code",
   "execution_count": 2,
   "metadata": {
    "colab": {
     "base_uri": "https://localhost:8080/"
    },
    "id": "KheDr_zDL9es",
    "outputId": "761d078a-61c7-48b1-d93a-dfdb57a31c94"
   },
   "outputs": [
    {
     "name": "stdout",
     "output_type": "stream",
     "text": [
      "3 <class 'int'>\n"
     ]
    }
   ],
   "source": [
    "x = 3\n",
    "print(x, type(x))"
   ]
  },
  {
   "cell_type": "code",
   "execution_count": 3,
   "metadata": {
    "colab": {
     "base_uri": "https://localhost:8080/"
    },
    "id": "sk_8DFcuL9ey",
    "outputId": "8046613b-5123-49ad-a1e9-850ae8d2cd97"
   },
   "outputs": [
    {
     "name": "stdout",
     "output_type": "stream",
     "text": [
      "4\n",
      "2\n",
      "6\n",
      "9\n"
     ]
    }
   ],
   "source": [
    "print(x + 1)  #addition\n",
    "print(x - 1)  #subtraction\n",
    "print(x * 2)  #multiplication\n",
    "print(x ** 2) #exponentiation"
   ]
  },
  {
   "cell_type": "code",
   "execution_count": 4,
   "metadata": {
    "colab": {
     "base_uri": "https://localhost:8080/"
    },
    "id": "U4Jl8K0tL9e4",
    "outputId": "c74bc2a9-8574-4131-d08d-1c5562631e08"
   },
   "outputs": [
    {
     "name": "stdout",
     "output_type": "stream",
     "text": [
      "11\n",
      "20\n"
     ]
    }
   ],
   "source": [
    "x = 10; x += 1\n",
    "print(x)\n",
    "x = 10; x *= 2\n",
    "print(x)"
   ]
  },
  {
   "cell_type": "code",
   "execution_count": 5,
   "metadata": {
    "colab": {
     "base_uri": "https://localhost:8080/"
    },
    "id": "w-nZ0Sg_L9e9",
    "outputId": "25e2bd7b-8993-4594-9dc3-25b0fe17a1bf"
   },
   "outputs": [
    {
     "name": "stdout",
     "output_type": "stream",
     "text": [
      "2.5 3.5 5.0 5.0 <class 'float'>\n"
     ]
    }
   ],
   "source": [
    "y = 2.5\n",
    "print(y, y+1, y*2, y *2, type(y))"
   ]
  },
  {
   "cell_type": "markdown",
   "metadata": {
    "id": "EqRS7qhBL9fC"
   },
   "source": [
    "####Booleans"
   ]
  },
  {
   "cell_type": "markdown",
   "metadata": {
    "id": "Nv_LIVOJL9fD"
   },
   "source": [
    "Python implements all of the usual operators for Boolean logic, but uses English words rather than symbols:"
   ]
  },
  {
   "cell_type": "code",
   "execution_count": 6,
   "metadata": {
    "colab": {
     "base_uri": "https://localhost:8080/"
    },
    "id": "RvoImwgGL9fE",
    "outputId": "931ded58-8927-41ab-f5e7-3d6a41174482"
   },
   "outputs": [
    {
     "name": "stdout",
     "output_type": "stream",
     "text": [
      "<class 'bool'>\n"
     ]
    }
   ],
   "source": [
    "t, f = True, False; print(type(t))"
   ]
  },
  {
   "cell_type": "markdown",
   "metadata": {
    "id": "YQgmQfOgL9fI"
   },
   "source": [
    "Now we let's look at the operations:"
   ]
  },
  {
   "cell_type": "code",
   "execution_count": 7,
   "metadata": {
    "colab": {
     "base_uri": "https://localhost:8080/"
    },
    "id": "6zYm7WzCL9fK",
    "outputId": "52880aef-d6db-47eb-ff75-b62e4af28cef"
   },
   "outputs": [
    {
     "name": "stdout",
     "output_type": "stream",
     "text": [
      "False\n",
      "True\n",
      "False\n",
      "True\n"
     ]
    }
   ],
   "source": [
    "print(t and f) # Logical AND;\n",
    "print(t or f)  # Logical OR;\n",
    "print(not t)   # Logical NOT;\n",
    "print(t != f)  # Logical XOR;"
   ]
  },
  {
   "cell_type": "markdown",
   "metadata": {
    "id": "UQnQWFEyL9fP"
   },
   "source": [
    "####Strings"
   ]
  },
  {
   "cell_type": "code",
   "execution_count": 8,
   "metadata": {
    "colab": {
     "base_uri": "https://localhost:8080/"
    },
    "id": "AijEDtPFL9fP",
    "outputId": "1ba2d52e-dd95-439d-f9a2-8dcb2b0f5975"
   },
   "outputs": [
    {
     "name": "stdout",
     "output_type": "stream",
     "text": [
      "hello 5\n"
     ]
    }
   ],
   "source": [
    "hello = 'hello'   # String literals can use single quotes\n",
    "world = \"world\"   # or double quotes; it does not matter\n",
    "print(hello, len(hello))"
   ]
  },
  {
   "cell_type": "code",
   "execution_count": 9,
   "metadata": {
    "colab": {
     "base_uri": "https://localhost:8080/"
    },
    "id": "saDeaA7hL9fT",
    "outputId": "20c31a59-6870-4d43-8f34-6996cd3f960e"
   },
   "outputs": [
    {
     "name": "stdout",
     "output_type": "stream",
     "text": [
      "hello-world!\n"
     ]
    }
   ],
   "source": [
    "hw = hello + '-' + world+'!'  # String concatenation\n",
    "print(hw)"
   ]
  },
  {
   "cell_type": "code",
   "execution_count": 10,
   "metadata": {
    "colab": {
     "base_uri": "https://localhost:8080/"
    },
    "id": "Nji1_UjYL9fY",
    "outputId": "6ee2be04-ad08-4281-d543-86b5466f32f2"
   },
   "outputs": [
    {
     "name": "stdout",
     "output_type": "stream",
     "text": [
      "hello world 12\n"
     ]
    }
   ],
   "source": [
    "hw12 = '{} {} {}'.format(hello, world, 12)  # string formatting\n",
    "print(hw12)"
   ]
  },
  {
   "cell_type": "markdown",
   "metadata": {
    "id": "bUpl35bIL9fc"
   },
   "source": [
    "String objects have a bunch of useful methods; for example:"
   ]
  },
  {
   "cell_type": "code",
   "execution_count": 11,
   "metadata": {
    "colab": {
     "base_uri": "https://localhost:8080/"
    },
    "id": "VOxGatlsL9fd",
    "outputId": "09185a32-0c3c-45e6-8b7b-c3a25a0af9c8"
   },
   "outputs": [
    {
     "name": "stdout",
     "output_type": "stream",
     "text": [
      "Hello\n",
      "HELLO\n",
      "  hello\n",
      " hello \n",
      "he(ell)(ell)o\n",
      "world\n"
     ]
    }
   ],
   "source": [
    "s = \"hello\"\n",
    "print(s.capitalize())  # Capitalize a string\n",
    "print(s.upper())       # Convert a string to uppercase; prints \"HELLO\"\n",
    "print(s.rjust(7))      # Right-justify a string, padding with spaces\n",
    "print(s.center(7))     # Center a string, padding with spaces\n",
    "print(s.replace('l', '(ell)'))  # Replace all instances of one substring with another\n",
    "print('  world '.strip())  # Strip leading and trailing whitespace"
   ]
  },
  {
   "cell_type": "markdown",
   "metadata": {
    "id": "UsIWOe0LL9fn"
   },
   "source": [
    "####Lists"
   ]
  },
  {
   "cell_type": "markdown",
   "metadata": {
    "id": "wzxX7rgWL9fn"
   },
   "source": [
    "A list is the Python equivalent of an array, but is resizeable and can contain elements of different types:"
   ]
  },
  {
   "cell_type": "code",
   "execution_count": 12,
   "metadata": {
    "colab": {
     "base_uri": "https://localhost:8080/"
    },
    "id": "hk3A8pPcL9fp",
    "outputId": "3dda60d2-b310-4f7c-f67a-df3c2948c5eb"
   },
   "outputs": [
    {
     "name": "stdout",
     "output_type": "stream",
     "text": [
      "[3, 1, 2] 2\n",
      "2\n"
     ]
    }
   ],
   "source": [
    "xs = [3, 1, 2]   # Create a list\n",
    "print(xs, xs[2])\n",
    "print(xs[-1])     # Negative indices count from the end of the list; prints \"2\""
   ]
  },
  {
   "cell_type": "code",
   "execution_count": 13,
   "metadata": {
    "colab": {
     "base_uri": "https://localhost:8080/"
    },
    "id": "YCjCy_0_L9ft",
    "outputId": "17e811ab-58df-4ba6-e095-4e34ddcf5b76"
   },
   "outputs": [
    {
     "name": "stdout",
     "output_type": "stream",
     "text": [
      "[3, 1, 'foo']\n"
     ]
    }
   ],
   "source": [
    "xs[2] = 'foo'    # Lists can contain elements of different types\n",
    "print(xs)"
   ]
  },
  {
   "cell_type": "code",
   "execution_count": 14,
   "metadata": {
    "colab": {
     "base_uri": "https://localhost:8080/"
    },
    "id": "vJ0x5cF-L9fx",
    "outputId": "486dad59-38c8-46b5-d64e-6a34c0376375"
   },
   "outputs": [
    {
     "name": "stdout",
     "output_type": "stream",
     "text": [
      "[3, 1, 'foo', 'bar']\n"
     ]
    }
   ],
   "source": [
    "xs.append('bar') # Add a new element to the end of the list\n",
    "print(xs)  "
   ]
  },
  {
   "cell_type": "code",
   "execution_count": 15,
   "metadata": {
    "colab": {
     "base_uri": "https://localhost:8080/"
    },
    "id": "cxVCNRTNL9f1",
    "outputId": "44dc176c-bd94-4368-c58c-17cf7ef1f44a"
   },
   "outputs": [
    {
     "name": "stdout",
     "output_type": "stream",
     "text": [
      "bar [3, 1, 'foo']\n"
     ]
    }
   ],
   "source": [
    "x = xs.pop()     # Remove and return the last element of the list\n",
    "print(x, xs)"
   ]
  },
  {
   "cell_type": "markdown",
   "metadata": {
    "id": "ovahhxd_L9f5"
   },
   "source": [
    "####Slicing"
   ]
  },
  {
   "cell_type": "markdown",
   "metadata": {
    "id": "YeSYKhv9L9f6"
   },
   "source": [
    "In addition to accessing list elements one at a time, Python provides concise syntax to access sublists; this is known as slicing:"
   ]
  },
  {
   "cell_type": "code",
   "execution_count": 16,
   "metadata": {
    "colab": {
     "base_uri": "https://localhost:8080/"
    },
    "id": "ninq666bL9f6",
    "outputId": "f2edcf9e-2729-4f65-d942-99dd759384dc"
   },
   "outputs": [
    {
     "name": "stdout",
     "output_type": "stream",
     "text": [
      "[0, 1, 2, 3, 4]\n",
      "[2, 3]\n",
      "[2, 3, 4]\n",
      "[0, 1]\n",
      "[0, 1, 2, 3, 4]\n",
      "[0, 1, 2, 3]\n",
      "[0, 1, 8, 9, 4]\n"
     ]
    }
   ],
   "source": [
    "nums = list(range(5))    # range is a built-in function that creates a list of integers\n",
    "print(nums)         # Prints \"[0, 1, 2, 3, 4]\"\n",
    "print(nums[2:4])    # Get a slice from index 2 to 4 (exclusive); prints \"[2, 3]\"\n",
    "print(nums[2:])     # Get a slice from index 2 to the end; prints \"[2, 3, 4]\"\n",
    "print(nums[:2])     # Get a slice from the start to index 2 (exclusive); prints \"[0, 1]\"\n",
    "print(nums[:])      # Get a slice of the whole list; prints [\"0, 1, 2, 3, 4]\"\n",
    "print(nums[:-1])    # Slice indices can be negative; prints [\"0, 1, 2, 3]\"\n",
    "nums[2:4] = [8, 9] # Assign a new sublist to a slice\n",
    "print(nums)         # Prints \"[0, 1, 8, 9, 4]\""
   ]
  },
  {
   "cell_type": "markdown",
   "metadata": {
    "id": "UONpMhF4L9f_"
   },
   "source": [
    "####Loops"
   ]
  },
  {
   "cell_type": "markdown",
   "metadata": {
    "id": "_DYz1j6QL9f_"
   },
   "source": [
    "You can loop over the elements of a list like this:"
   ]
  },
  {
   "cell_type": "code",
   "execution_count": 17,
   "metadata": {
    "colab": {
     "base_uri": "https://localhost:8080/"
    },
    "id": "4cCOysfWL9gA",
    "outputId": "77d7f809-ce7c-42d3-db05-a68732b63989"
   },
   "outputs": [
    {
     "name": "stdout",
     "output_type": "stream",
     "text": [
      "cat\n",
      "dog\n",
      "monkey\n"
     ]
    }
   ],
   "source": [
    "animals = ['cat', 'dog', 'monkey']\n",
    "for animal in animals:\n",
    "    print(animal)"
   ]
  },
  {
   "cell_type": "markdown",
   "metadata": {
    "id": "KxIaQs7pL9gE"
   },
   "source": [
    "If you want access to the index of each element within the body of a loop, use the built-in `enumerate` function:"
   ]
  },
  {
   "cell_type": "code",
   "execution_count": 18,
   "metadata": {
    "colab": {
     "base_uri": "https://localhost:8080/"
    },
    "id": "JjGnDluWL9gF",
    "outputId": "2d7ebe61-5a3f-40c2-c33e-2f8e0927890b"
   },
   "outputs": [
    {
     "name": "stdout",
     "output_type": "stream",
     "text": [
      "#1: cat\n",
      "#2: dog\n",
      "#3: monkey\n"
     ]
    }
   ],
   "source": [
    "animals = ['cat', 'dog', 'monkey']\n",
    "for idx, animal in enumerate(animals):\n",
    "    print('#{}: {}'.format(idx + 1, animal))"
   ]
  },
  {
   "cell_type": "markdown",
   "metadata": {
    "id": "arrLCcMyL9gK"
   },
   "source": [
    "####List comprehensions:"
   ]
  },
  {
   "cell_type": "markdown",
   "metadata": {
    "id": "5Qn2jU_pL9gL"
   },
   "source": [
    "When programming, frequently we want to transform one type of data into another. As a simple example, consider the following code that computes square numbers:"
   ]
  },
  {
   "cell_type": "code",
   "execution_count": 19,
   "metadata": {
    "colab": {
     "base_uri": "https://localhost:8080/"
    },
    "id": "IVNEwoMXL9gL",
    "outputId": "42d49c2d-0fa6-400a-d1fc-76d31f312cef"
   },
   "outputs": [
    {
     "name": "stdout",
     "output_type": "stream",
     "text": [
      "[0, 1, 4, 9, 16]\n"
     ]
    }
   ],
   "source": [
    "nums = [0, 1, 2, 3, 4]\n",
    "squares = []\n",
    "for x in nums:\n",
    "    squares.append(x ** 2)\n",
    "print(squares)"
   ]
  },
  {
   "cell_type": "markdown",
   "metadata": {
    "id": "7DmKVUFaL9gQ"
   },
   "source": [
    "You can make this code simpler using a list comprehension:"
   ]
  },
  {
   "cell_type": "code",
   "execution_count": 20,
   "metadata": {
    "colab": {
     "base_uri": "https://localhost:8080/"
    },
    "id": "kZxsUfV6L9gR",
    "outputId": "6c81de66-244d-41cf-cfdd-85ddc270c291"
   },
   "outputs": [
    {
     "name": "stdout",
     "output_type": "stream",
     "text": [
      "[0, 1, 4, 9, 16]\n"
     ]
    }
   ],
   "source": [
    "nums = [0, 1, 2, 3, 4]\n",
    "squares = [x ** 2 for x in nums]\n",
    "print(squares)"
   ]
  },
  {
   "cell_type": "markdown",
   "metadata": {
    "id": "-D8ARK7tL9gV"
   },
   "source": [
    "List comprehensions can also contain conditions:"
   ]
  },
  {
   "cell_type": "code",
   "execution_count": 21,
   "metadata": {
    "colab": {
     "base_uri": "https://localhost:8080/"
    },
    "id": "yUtgOyyYL9gV",
    "outputId": "ed880412-b852-4bba-9ab8-30c727610329"
   },
   "outputs": [
    {
     "name": "stdout",
     "output_type": "stream",
     "text": [
      "[0, 4, 16]\n"
     ]
    }
   ],
   "source": [
    "nums = [0, 1, 2, 3, 4]\n",
    "even_squares = [x ** 2 for x in nums if x % 2 == 0]\n",
    "print(even_squares)"
   ]
  },
  {
   "cell_type": "code",
   "execution_count": 22,
   "metadata": {
    "colab": {
     "base_uri": "https://localhost:8080/"
    },
    "id": "5Y9VxneeqwZC",
    "outputId": "6700d40b-16c7-4d63-c977-31759abcaaf3"
   },
   "outputs": [
    {
     "name": "stdout",
     "output_type": "stream",
     "text": [
      "[0, -99, 4, -99, 16]\n"
     ]
    }
   ],
   "source": [
    "even_squares = [x ** 2 if x % 2 == 0 else -99 for x in nums ] # list comprehension with if/else condition\n",
    "print(even_squares)"
   ]
  },
  {
   "cell_type": "markdown",
   "metadata": {
    "id": "H8xsUEFpL9gZ"
   },
   "source": [
    "####Dictionaries"
   ]
  },
  {
   "cell_type": "markdown",
   "metadata": {
    "id": "kkjAGMAJL9ga"
   },
   "source": [
    "A dictionary stores (key, value) pairs"
   ]
  },
  {
   "cell_type": "code",
   "execution_count": 23,
   "metadata": {
    "colab": {
     "base_uri": "https://localhost:8080/"
    },
    "id": "XBYI1MrYL9gb",
    "outputId": "db8cb429-3ecb-4101-b0f4-8b1f484ad8d1"
   },
   "outputs": [
    {
     "name": "stdout",
     "output_type": "stream",
     "text": [
      "cute\n",
      "True\n"
     ]
    }
   ],
   "source": [
    "d = {'cat': 'cute', 'dog': 'furry'}  # Create a new dictionary with some data\n",
    "print(d['cat'])       # Get an entry from a dictionary; prints \"cute\"\n",
    "print('cat' in d)     # Check if a dictionary has a given key; prints \"True\""
   ]
  },
  {
   "cell_type": "code",
   "execution_count": 24,
   "metadata": {
    "colab": {
     "base_uri": "https://localhost:8080/"
    },
    "id": "pS7e-G-HL9gf",
    "outputId": "5f29ce4d-c79c-4ca0-e45a-b4573b4cc93f"
   },
   "outputs": [
    {
     "name": "stdout",
     "output_type": "stream",
     "text": [
      "wet\n"
     ]
    }
   ],
   "source": [
    "d['fish'] = 'wet'    # Set an entry in a dictionary\n",
    "print(d['fish'])      # Prints \"wet\""
   ]
  },
  {
   "cell_type": "code",
   "execution_count": 25,
   "metadata": {
    "colab": {
     "base_uri": "https://localhost:8080/"
    },
    "id": "8TjbEWqML9gl",
    "outputId": "ab112824-1bbc-4b1a-f6cc-996d98cfc4fa"
   },
   "outputs": [
    {
     "name": "stdout",
     "output_type": "stream",
     "text": [
      "N/A\n",
      "wet\n"
     ]
    }
   ],
   "source": [
    "print(d.get('monkey', 'N/A'))  # Get an element with a default; prints \"N/A\"\n",
    "print(d.get('fish', 'N/A'))    # Get an element with a default; prints \"wet\""
   ]
  },
  {
   "cell_type": "code",
   "execution_count": 26,
   "metadata": {
    "colab": {
     "base_uri": "https://localhost:8080/"
    },
    "id": "OBG3FclZD4rw",
    "outputId": "0a320e7a-01b9-4a88-87f6-8fe95907aea6"
   },
   "outputs": [
    {
     "name": "stdout",
     "output_type": "stream",
     "text": [
      "{'cat': 'cute', 'dog': 'furry', 'fish': 'wet'}\n"
     ]
    }
   ],
   "source": [
    "print(d)"
   ]
  },
  {
   "cell_type": "code",
   "execution_count": 27,
   "metadata": {
    "colab": {
     "base_uri": "https://localhost:8080/"
    },
    "id": "0EItdNBJL9go",
    "outputId": "e5fadbf0-4a04-4f96-997f-80ac0766ed82"
   },
   "outputs": [
    {
     "name": "stdout",
     "output_type": "stream",
     "text": [
      "N/A\n"
     ]
    }
   ],
   "source": [
    "del d['fish']        # Remove an element from a dictionary\n",
    "print(d.get('fish', 'N/A')) # \"fish\" is no longer a key; prints \"N/A\""
   ]
  },
  {
   "cell_type": "code",
   "execution_count": 28,
   "metadata": {
    "colab": {
     "base_uri": "https://localhost:8080/"
    },
    "id": "h4OtgXfGEFOu",
    "outputId": "a341de7e-0104-4054-9e94-cf0a19091d74"
   },
   "outputs": [
    {
     "name": "stdout",
     "output_type": "stream",
     "text": [
      "{'cat': 'cute', 'dog': 'furry'}\n"
     ]
    }
   ],
   "source": [
    "print(d)"
   ]
  },
  {
   "cell_type": "markdown",
   "metadata": {
    "id": "IxwEqHlGL9gr"
   },
   "source": [
    "It is easy to iterate over the keys in a dictionary:"
   ]
  },
  {
   "cell_type": "code",
   "execution_count": 29,
   "metadata": {
    "colab": {
     "base_uri": "https://localhost:8080/"
    },
    "id": "rYfz7ZKNL9gs",
    "outputId": "00875d25-6b45-4923-ea3e-70fce1f2e88d"
   },
   "outputs": [
    {
     "name": "stdout",
     "output_type": "stream",
     "text": [
      "A person has 2 legs\n",
      "A cat has 4 legs\n",
      "A spider has 8 legs\n"
     ]
    }
   ],
   "source": [
    "d = {'person': 2, 'cat': 4, 'spider': 8}\n",
    "for animal, legs in d.items():\n",
    "    print('A {} has {} legs'.format(animal, legs))"
   ]
  },
  {
   "cell_type": "markdown",
   "metadata": {
    "id": "17sxiOpzL9gz"
   },
   "source": [
    "Dictionary comprehensions: These are similar to list comprehensions, but allow you to easily construct dictionaries. For example:"
   ]
  },
  {
   "cell_type": "code",
   "execution_count": 30,
   "metadata": {
    "colab": {
     "base_uri": "https://localhost:8080/"
    },
    "id": "8PB07imLL9gz",
    "outputId": "0dfcc25c-4986-4891-ad4d-6938056b970b"
   },
   "outputs": [
    {
     "name": "stdout",
     "output_type": "stream",
     "text": [
      "{0: 0, 2: 4, 4: 16}\n"
     ]
    }
   ],
   "source": [
    "nums = [0, 1, 2, 3, 4]\n",
    "even_num_to_square = {x: x ** 2 for x in nums if x % 2 == 0}\n",
    "print(even_num_to_square)"
   ]
  },
  {
   "cell_type": "markdown",
   "metadata": {
    "id": "V9MHfUdvL9g2"
   },
   "source": [
    "####Sets"
   ]
  },
  {
   "cell_type": "markdown",
   "metadata": {
    "id": "Rpm4UtNpL9g2"
   },
   "source": [
    "A set is an unordered collection of distinct elements. As a simple example, consider the following:"
   ]
  },
  {
   "cell_type": "code",
   "execution_count": 31,
   "metadata": {
    "colab": {
     "base_uri": "https://localhost:8080/"
    },
    "id": "MmyaniLsL9g2",
    "outputId": "a6ccbedc-c460-4fcc-a65b-938932239374"
   },
   "outputs": [
    {
     "name": "stdout",
     "output_type": "stream",
     "text": [
      "True\n",
      "False\n",
      "{'cat', 'dog'}\n"
     ]
    }
   ],
   "source": [
    "animals = {'cat', 'dog'}\n",
    "print('cat' in animals)   # Check if an element is in a set; prints \"True\"\n",
    "print('fish' in animals)  # prints \"False\"\n",
    "print(animals)"
   ]
  },
  {
   "cell_type": "code",
   "execution_count": 32,
   "metadata": {
    "colab": {
     "base_uri": "https://localhost:8080/"
    },
    "id": "ElJEyK86L9g6",
    "outputId": "9db1d4af-a8a1-401c-fe16-99ed5761143b"
   },
   "outputs": [
    {
     "name": "stdout",
     "output_type": "stream",
     "text": [
      "True\n",
      "3\n",
      "{'cat', 'fish', 'dog'}\n"
     ]
    }
   ],
   "source": [
    "animals.add('fish')      # Add an element to a set\n",
    "print('fish' in animals)\n",
    "print(len(animals))       # Number of elements in a set;\n",
    "print(animals)"
   ]
  },
  {
   "cell_type": "code",
   "execution_count": 33,
   "metadata": {
    "colab": {
     "base_uri": "https://localhost:8080/"
    },
    "id": "5uGmrxdPL9g9",
    "outputId": "8c7373c0-aa61-4747-b893-84e6636c4adc"
   },
   "outputs": [
    {
     "name": "stdout",
     "output_type": "stream",
     "text": [
      "3\n",
      "2\n",
      "{'fish', 'dog'}\n"
     ]
    }
   ],
   "source": [
    "animals.add('cat')       # Adding an element that is already in the set does nothing\n",
    "print(len(animals))       \n",
    "animals.remove('cat')    # Remove an element from a set\n",
    "print(len(animals))    \n",
    "print(animals)   "
   ]
  },
  {
   "cell_type": "markdown",
   "metadata": {
    "id": "zk2DbvLKL9g_"
   },
   "source": [
    "Loops: Iterating over a set has the same syntax as iterating over a list; however since sets are unordered, you cannot make assumptions about the order in which you visit the elements of the set:"
   ]
  },
  {
   "cell_type": "code",
   "execution_count": 34,
   "metadata": {
    "colab": {
     "base_uri": "https://localhost:8080/"
    },
    "id": "K47KYNGyL9hA",
    "outputId": "e526afa8-d378-4bec-ad86-0a8826ed51fb"
   },
   "outputs": [
    {
     "name": "stdout",
     "output_type": "stream",
     "text": [
      "#1: cat\n",
      "#2: fish\n",
      "#3: dog\n"
     ]
    }
   ],
   "source": [
    "animals = {'cat', 'dog', 'fish'}\n",
    "for idx, animal in enumerate(animals):\n",
    "    print('#{}: {}'.format(idx + 1, animal))"
   ]
  },
  {
   "cell_type": "markdown",
   "metadata": {
    "id": "puq4S8buL9hC"
   },
   "source": [
    "Set comprehensions: Like lists and dictionaries, we can easily construct sets using set comprehensions:"
   ]
  },
  {
   "cell_type": "code",
   "execution_count": 35,
   "metadata": {
    "colab": {
     "base_uri": "https://localhost:8080/"
    },
    "id": "iw7k90k3L9hC",
    "outputId": "2d04378d-0710-4d71-90f9-f315812bff90"
   },
   "outputs": [
    {
     "name": "stdout",
     "output_type": "stream",
     "text": [
      "{0, 1, 2, 3, 4, 5}\n"
     ]
    }
   ],
   "source": [
    "from math import sqrt\n",
    "print({int(sqrt(x)) for x in range(30)})"
   ]
  },
  {
   "cell_type": "markdown",
   "metadata": {
    "id": "qPsHSKB1L9hF"
   },
   "source": [
    "####Tuples"
   ]
  },
  {
   "cell_type": "markdown",
   "metadata": {
    "id": "kucc0LKVL9hG"
   },
   "source": [
    "A tuple is an (immutable) ordered list of values. A tuple is in many ways similar to a list; one of the most important differences is that tuples can be used as keys in dictionaries and as elements of sets, while lists cannot. Here is a trivial example:"
   ]
  },
  {
   "cell_type": "code",
   "execution_count": 36,
   "metadata": {
    "colab": {
     "base_uri": "https://localhost:8080/"
    },
    "id": "9wHUyTKxL9hH",
    "outputId": "c9bfc647-bb4d-4af3-d7a3-f533d5e25272"
   },
   "outputs": [
    {
     "name": "stdout",
     "output_type": "stream",
     "text": [
      "<class 'tuple'>\n",
      "{(0, 1): 0, (1, 2): 1, (2, 3): 2, (3, 4): 3, (4, 5): 4, (5, 6): 5, (6, 7): 6}\n",
      "5\n",
      "1\n"
     ]
    }
   ],
   "source": [
    "d = {(x, x + 1): x for x in range(7)}  # Create a dictionary with tuple keys\n",
    "t = (5, 6)       # Create a tuple\n",
    "print(type(t))\n",
    "print(d)\n",
    "print(d[t])       \n",
    "print(d[(1, 2)])"
   ]
  },
  {
   "cell_type": "markdown",
   "metadata": {
    "id": "AXA4jrEOL9hM"
   },
   "source": [
    "###Functions"
   ]
  },
  {
   "cell_type": "markdown",
   "metadata": {
    "id": "WaRms-QfL9hN"
   },
   "source": [
    "Python functions are defined using the `def` keyword. For example:"
   ]
  },
  {
   "cell_type": "code",
   "execution_count": 37,
   "metadata": {
    "colab": {
     "base_uri": "https://localhost:8080/"
    },
    "id": "kiMDUr58L9hN",
    "outputId": "3e514b36-66fd-4f0f-a544-9b1159dd1307"
   },
   "outputs": [
    {
     "name": "stdout",
     "output_type": "stream",
     "text": [
      "negative\n",
      "zero\n",
      "positive\n"
     ]
    }
   ],
   "source": [
    "def sign(x):\n",
    "    if x > 0:\n",
    "        return 'positive'\n",
    "    elif x < 0:\n",
    "        return 'negative'\n",
    "    else:\n",
    "        return 'zero'\n",
    "\n",
    "for x in [-1, 0, 1]:\n",
    "    print(sign(x))"
   ]
  },
  {
   "cell_type": "markdown",
   "metadata": {
    "id": "U-QJFt8TL9hR"
   },
   "source": [
    "We will often define functions to take optional keyword arguments, like this:"
   ]
  },
  {
   "cell_type": "code",
   "execution_count": 38,
   "metadata": {
    "colab": {
     "base_uri": "https://localhost:8080/"
    },
    "id": "PfsZ3DazL9hR",
    "outputId": "f0fb42aa-a89d-46a4-be28-2bed8148ca2f"
   },
   "outputs": [
    {
     "name": "stdout",
     "output_type": "stream",
     "text": [
      "Hello, Bob!\n",
      "HELLO, FRED\n"
     ]
    }
   ],
   "source": [
    "def hello(name, loud=False):\n",
    "    if loud:\n",
    "        print('HELLO, {}'.format(name.upper()))\n",
    "    else:\n",
    "        print('Hello, {}!'.format(name))\n",
    "\n",
    "hello('Bob')\n",
    "hello('Fred', loud=True)"
   ]
  },
  {
   "cell_type": "markdown",
   "metadata": {
    "id": "ObA9PRtQL9hT"
   },
   "source": [
    "###Classes"
   ]
  },
  {
   "cell_type": "markdown",
   "metadata": {
    "id": "hAzL_lTkL9hU"
   },
   "source": [
    "The syntax for defining classes in Python is straightforward:"
   ]
  },
  {
   "cell_type": "code",
   "execution_count": 39,
   "metadata": {
    "colab": {
     "base_uri": "https://localhost:8080/"
    },
    "id": "RWdbaGigL9hU",
    "outputId": "b5c4f8e1-83d4-4275-9a55-136e7d4fe8f1"
   },
   "outputs": [
    {
     "name": "stdout",
     "output_type": "stream",
     "text": [
      "Fred\n",
      "Hello, Fred!\n",
      "HELLO, FRED\n"
     ]
    }
   ],
   "source": [
    "class Greeter:\n",
    "\n",
    "    # Constructor\n",
    "    def __init__(self, name):\n",
    "        self.name = name  # Create an *instance* variable\n",
    "\n",
    "    # Instance method\n",
    "    def greet(self, loud=False):\n",
    "        if loud:\n",
    "          print('HELLO, {}'.format(self.name.upper()))\n",
    "        else:\n",
    "          print('Hello, {}!'.format(self.name))\n",
    "\n",
    "g = Greeter('Fred')  # Construct an instance of the Greeter class\n",
    "print(g.name)\n",
    "g.greet()            # Call an instance method; prints \"Hello, Fred\"\n",
    "g.greet(loud=True)   # Call an instance method; prints \"HELLO, FRED!\""
   ]
  },
  {
   "cell_type": "markdown",
   "metadata": {
    "id": "3cfrOV4dL9hW"
   },
   "source": [
    "##Numpy"
   ]
  },
  {
   "cell_type": "markdown",
   "metadata": {
    "id": "fY12nHhyL9hX"
   },
   "source": [
    "Numpy is the core library for scientific computing in Python. It provides a high-performance multidimensional array object, and tools for working with these arrays. "
   ]
  },
  {
   "cell_type": "code",
   "execution_count": 40,
   "metadata": {
    "id": "58QdX8BLL9hZ"
   },
   "outputs": [],
   "source": [
    "import numpy as np"
   ]
  },
  {
   "cell_type": "markdown",
   "metadata": {
    "id": "DDx6v1EdL9hb"
   },
   "source": [
    "###Arrays"
   ]
  },
  {
   "cell_type": "markdown",
   "metadata": {
    "id": "f-Zv3f7LL9hc"
   },
   "source": [
    "A numpy array is a grid of values, all of the same type, and is indexed by a tuple of nonnegative integers. The number of dimensions is the rank of the array; the shape of an array is a tuple of integers giving the size of the array along each dimension."
   ]
  },
  {
   "cell_type": "markdown",
   "metadata": {
    "id": "_eMTRnZRL9hc"
   },
   "source": [
    "We can initialize numpy arrays from nested Python lists, and access elements using square brackets:"
   ]
  },
  {
   "cell_type": "code",
   "execution_count": 41,
   "metadata": {
    "colab": {
     "base_uri": "https://localhost:8080/"
    },
    "id": "-l3JrGxCL9hc",
    "outputId": "86c95c5f-ec0e-4577-b2bd-c2493bd3b771"
   },
   "outputs": [
    {
     "name": "stdout",
     "output_type": "stream",
     "text": [
      "<class 'numpy.ndarray'> (3,) 1 2 3\n",
      "[5 2 3]\n"
     ]
    }
   ],
   "source": [
    "a = np.array([1, 2, 3])  # Create a rank 1 array\n",
    "print(type(a), a.shape, a[0], a[1], a[2])\n",
    "a[0] = 5                 # Change an element of the array\n",
    "print(a)                  "
   ]
  },
  {
   "cell_type": "code",
   "execution_count": 42,
   "metadata": {
    "colab": {
     "base_uri": "https://localhost:8080/"
    },
    "id": "ma6mk-kdL9hh",
    "outputId": "0b24552f-18d6-4bf9-e16e-a4cf455c440a"
   },
   "outputs": [
    {
     "name": "stdout",
     "output_type": "stream",
     "text": [
      "[[1 2 3]\n",
      " [4 5 6]]\n"
     ]
    }
   ],
   "source": [
    "b = np.array([[1,2,3],[4,5,6]])   # Create a rank 2 array\n",
    "print(b)"
   ]
  },
  {
   "cell_type": "code",
   "execution_count": 43,
   "metadata": {
    "colab": {
     "base_uri": "https://localhost:8080/"
    },
    "id": "ymfSHAwtL9hj",
    "outputId": "eb2d0734-8fc0-42df-db29-0fb8fe89a140"
   },
   "outputs": [
    {
     "name": "stdout",
     "output_type": "stream",
     "text": [
      "(2, 3)\n",
      "1 2 4\n"
     ]
    }
   ],
   "source": [
    "print(b.shape)\n",
    "print(b[0, 0], b[0, 1], b[1, 0])"
   ]
  },
  {
   "cell_type": "markdown",
   "metadata": {
    "id": "F2qwdyvuL9hn"
   },
   "source": [
    "Numpy also provides many functions to create arrays:"
   ]
  },
  {
   "cell_type": "code",
   "execution_count": 44,
   "metadata": {
    "colab": {
     "base_uri": "https://localhost:8080/"
    },
    "id": "mVTN_EBqL9hn",
    "outputId": "c3e7fc4a-747e-42a5-aff2-147854a22a03"
   },
   "outputs": [
    {
     "name": "stdout",
     "output_type": "stream",
     "text": [
      "[[0. 0.]\n",
      " [0. 0.]]\n"
     ]
    }
   ],
   "source": [
    "a = np.zeros((2,2))  # Create an array of all zeros\n",
    "print(a)"
   ]
  },
  {
   "cell_type": "code",
   "execution_count": 45,
   "metadata": {
    "colab": {
     "base_uri": "https://localhost:8080/"
    },
    "id": "skiKlNmlL9h5",
    "outputId": "3e6fb5bd-7aa6-4911-8af1-149f8def5377"
   },
   "outputs": [
    {
     "name": "stdout",
     "output_type": "stream",
     "text": [
      "[[1. 1.]]\n"
     ]
    }
   ],
   "source": [
    "b = np.ones((1,2))   # Create an array of all ones\n",
    "print(b)"
   ]
  },
  {
   "cell_type": "code",
   "execution_count": 46,
   "metadata": {
    "colab": {
     "base_uri": "https://localhost:8080/"
    },
    "id": "HtFsr03bL9h7",
    "outputId": "6b5d99b6-ad40-4e27-db9e-ede37e3b1b0f"
   },
   "outputs": [
    {
     "name": "stdout",
     "output_type": "stream",
     "text": [
      "[[7 7]\n",
      " [7 7]]\n"
     ]
    }
   ],
   "source": [
    "c = np.full((2,2), 7) # Create a constant array\n",
    "print(c)"
   ]
  },
  {
   "cell_type": "code",
   "execution_count": 47,
   "metadata": {
    "colab": {
     "base_uri": "https://localhost:8080/"
    },
    "id": "-QcALHvkL9h9",
    "outputId": "67aff489-9d87-4c64-cbb7-13d49a74a625"
   },
   "outputs": [
    {
     "name": "stdout",
     "output_type": "stream",
     "text": [
      "[[1. 0.]\n",
      " [0. 1.]]\n"
     ]
    }
   ],
   "source": [
    "d = np.eye(2)        # Create a 2x2 identity matrix\n",
    "print(d)"
   ]
  },
  {
   "cell_type": "code",
   "execution_count": 48,
   "metadata": {
    "colab": {
     "base_uri": "https://localhost:8080/"
    },
    "id": "RCpaYg9qL9iA",
    "outputId": "ee6c35c2-ee8d-4d05-abae-9d09d7008a98"
   },
   "outputs": [
    {
     "name": "stdout",
     "output_type": "stream",
     "text": [
      "[[0.14929363 0.36552682]\n",
      " [0.91227743 0.91011504]]\n"
     ]
    }
   ],
   "source": [
    "e = np.random.random((2,2)) # Create an array filled with random values between 0 and 1\n",
    "print(e)"
   ]
  },
  {
   "cell_type": "markdown",
   "metadata": {
    "id": "jI5qcSDfL9iC"
   },
   "source": [
    "###Array indexing"
   ]
  },
  {
   "cell_type": "markdown",
   "metadata": {
    "id": "M-E4MUeVL9iC"
   },
   "source": [
    "Numpy offers several ways to index into arrays."
   ]
  },
  {
   "cell_type": "markdown",
   "metadata": {
    "id": "QYv4JyIEL9iD"
   },
   "source": [
    "Slicing: Similar to Python lists, numpy arrays can be sliced. Since arrays may be multidimensional, you must specify a slice for each dimension of the array:"
   ]
  },
  {
   "cell_type": "code",
   "execution_count": 49,
   "metadata": {
    "colab": {
     "base_uri": "https://localhost:8080/"
    },
    "id": "wLWA0udwL9iD",
    "outputId": "5047bc46-1cb6-4a5d-b438-e77fcc42d899"
   },
   "outputs": [
    {
     "name": "stdout",
     "output_type": "stream",
     "text": [
      "[[ 1  2  3  4]\n",
      " [ 5  6  7  8]\n",
      " [ 9 10 11 12]]\n",
      "[[2 3]\n",
      " [6 7]]\n"
     ]
    }
   ],
   "source": [
    "import numpy as np\n",
    "\n",
    "a = np.array([[1,2,3,4], [5,6,7,8], [9,10,11,12]])\n",
    "print(a)\n",
    "\n",
    "# Use slicing to pull out the subarray consisting of the first 2 rows\n",
    "# and columns 1 and 2; b is the following array of shape (2, 2):\n",
    "# [[2 3]\n",
    "#  [6 7]]\n",
    "b = a[:2, 1:3]\n",
    "print(b)"
   ]
  },
  {
   "cell_type": "markdown",
   "metadata": {
    "id": "KahhtZKYL9iF"
   },
   "source": [
    "A slice of an array is a view into the same data, so modifying it will modify the original array."
   ]
  },
  {
   "cell_type": "code",
   "execution_count": 50,
   "metadata": {
    "colab": {
     "base_uri": "https://localhost:8080/"
    },
    "id": "1kmtaFHuL9iG",
    "outputId": "aca751a9-14f9-4706-a326-83936a097a11"
   },
   "outputs": [
    {
     "name": "stdout",
     "output_type": "stream",
     "text": [
      "2\n",
      "77\n"
     ]
    }
   ],
   "source": [
    "print(a[0, 1])\n",
    "b[0, 0] = 77    # b[0, 0] is the same piece of data as a[0, 1]\n",
    "print(a[0, 1]) "
   ]
  },
  {
   "cell_type": "markdown",
   "metadata": {
    "id": "NCye3NXhL9iL"
   },
   "source": [
    "Two ways of accessing the data in the middle row of the array.\n",
    "Mixing integer indexing with slices yields an array of lower rank,\n",
    "while using only slices yields an array of the same rank as the\n",
    "original array:"
   ]
  },
  {
   "cell_type": "code",
   "execution_count": 51,
   "metadata": {
    "colab": {
     "base_uri": "https://localhost:8080/"
    },
    "id": "EOiEMsmNL9iL",
    "outputId": "30833e98-8295-4db3-f76c-02b80675a0ec"
   },
   "outputs": [
    {
     "name": "stdout",
     "output_type": "stream",
     "text": [
      "[5 6 7 8] (4,)\n",
      "[[5 6 7 8]] (1, 4)\n",
      "[[5 6 7 8]] (1, 4)\n"
     ]
    }
   ],
   "source": [
    "row_r1 = a[1, :]    # Rank 1 view of the second row of a  \n",
    "row_r2 = a[1:2, :]  # Rank 2 view of the second row of a\n",
    "row_r3 = a[[1], :]  # Rank 2 view of the second row of a\n",
    "print(row_r1, row_r1.shape)\n",
    "print(row_r2, row_r2.shape)\n",
    "print(row_r3, row_r3.shape)"
   ]
  },
  {
   "cell_type": "code",
   "execution_count": 52,
   "metadata": {
    "colab": {
     "base_uri": "https://localhost:8080/"
    },
    "id": "JXu73pfDL9iN",
    "outputId": "3562f96f-f0ed-4526-deac-18da8e492c4e"
   },
   "outputs": [
    {
     "name": "stdout",
     "output_type": "stream",
     "text": [
      "[77  6 10] (3,)\n",
      "\n",
      "[[77]\n",
      " [ 6]\n",
      " [10]] (3, 1)\n"
     ]
    }
   ],
   "source": [
    "# We can make the same distinction when accessing columns of an array:\n",
    "col_r1 = a[:, 1]\n",
    "col_r2 = a[:, 1:2]\n",
    "print(col_r1, col_r1.shape)\n",
    "print()\n",
    "print(col_r2, col_r2.shape)"
   ]
  },
  {
   "cell_type": "markdown",
   "metadata": {
    "id": "VP3916bOL9iP"
   },
   "source": [
    "Integer array indexing: When you index into numpy arrays using slicing, the resulting array view will always be a subarray of the original array. In contrast, integer array indexing allows you to construct arbitrary arrays using the data from another array. Here is an example:"
   ]
  },
  {
   "cell_type": "code",
   "execution_count": 53,
   "metadata": {
    "colab": {
     "base_uri": "https://localhost:8080/"
    },
    "id": "TBnWonIDL9iP",
    "outputId": "1e52d1ab-4546-48b9-f7ac-0bf6ea822339"
   },
   "outputs": [
    {
     "name": "stdout",
     "output_type": "stream",
     "text": [
      "[1 4 5]\n",
      "[1 4 5]\n"
     ]
    }
   ],
   "source": [
    "a = np.array([[1,2], [3, 4], [5, 6]])\n",
    "\n",
    "# An example of integer array indexing.\n",
    "# The returned array will have shape (3,) and \n",
    "print(a[[0, 1, 2], [0, 1, 0]])\n",
    "\n",
    "# The above example of integer array indexing is equivalent to this:\n",
    "print(np.array([a[0, 0], a[1, 1], a[2, 0]]))"
   ]
  },
  {
   "cell_type": "code",
   "execution_count": 54,
   "metadata": {
    "colab": {
     "base_uri": "https://localhost:8080/"
    },
    "id": "n7vuati-L9iR",
    "outputId": "45bb1bc0-0842-4848-c676-a2704a05d6e9"
   },
   "outputs": [
    {
     "name": "stdout",
     "output_type": "stream",
     "text": [
      "[2 2]\n",
      "[2 2]\n"
     ]
    }
   ],
   "source": [
    "# When using integer array indexing, you can reuse the same\n",
    "# element from the source array:\n",
    "print(a[[0, 0], [1, 1]])\n",
    "\n",
    "# Equivalent to the previous integer array indexing example\n",
    "print(np.array([a[0, 1], a[0, 1]]))"
   ]
  },
  {
   "cell_type": "markdown",
   "metadata": {
    "id": "kaipSLafL9iU"
   },
   "source": [
    "One useful trick with integer array indexing is selecting or mutating one element from each row of a matrix:"
   ]
  },
  {
   "cell_type": "code",
   "execution_count": 55,
   "metadata": {
    "colab": {
     "base_uri": "https://localhost:8080/"
    },
    "id": "ehqsV7TXL9iU",
    "outputId": "396c4522-d79a-4d40-d9cc-9fadcc342e62"
   },
   "outputs": [
    {
     "name": "stdout",
     "output_type": "stream",
     "text": [
      "[[ 1  2  3]\n",
      " [ 4  5  6]\n",
      " [ 7  8  9]\n",
      " [10 11 12]]\n"
     ]
    }
   ],
   "source": [
    "# Create a new array from which we will select elements\n",
    "a = np.array([[1,2,3], [4,5,6], [7,8,9], [10, 11, 12]])\n",
    "print(a)"
   ]
  },
  {
   "cell_type": "code",
   "execution_count": 56,
   "metadata": {
    "colab": {
     "base_uri": "https://localhost:8080/"
    },
    "id": "pAPOoqy5L9iV",
    "outputId": "5299b57b-216a-472f-94dc-cecec56d8343"
   },
   "outputs": [
    {
     "name": "stdout",
     "output_type": "stream",
     "text": [
      "[ 1  6  7 11]\n"
     ]
    }
   ],
   "source": [
    "# Create an array of indices\n",
    "b = np.array([0, 2, 0, 1])\n",
    "\n",
    "# Select one element from each row of a using the indices in b\n",
    "print(a[np.arange(4), b])  # Prints \"[ 1  6  7 11]\""
   ]
  },
  {
   "cell_type": "code",
   "execution_count": 57,
   "metadata": {
    "colab": {
     "base_uri": "https://localhost:8080/"
    },
    "id": "6v1PdI1DL9ib",
    "outputId": "423d876e-7a76-4d42-d2ff-9e6ea7900741"
   },
   "outputs": [
    {
     "name": "stdout",
     "output_type": "stream",
     "text": [
      "[[11  2  3]\n",
      " [ 4  5 16]\n",
      " [17  8  9]\n",
      " [10 21 12]]\n"
     ]
    }
   ],
   "source": [
    "# Mutate one element from each row of a using the indices in b\n",
    "a[np.arange(4), b] += 10\n",
    "print(a)"
   ]
  },
  {
   "cell_type": "markdown",
   "metadata": {
    "id": "kaE8dBGgL9id"
   },
   "source": [
    "Boolean array indexing: Boolean array indexing lets you pick out arbitrary elements of an array. Frequently this type of indexing is used to select the elements of an array that satisfy some condition. Here is an example:"
   ]
  },
  {
   "cell_type": "code",
   "execution_count": 58,
   "metadata": {
    "colab": {
     "base_uri": "https://localhost:8080/"
    },
    "id": "32PusjtKL9id",
    "outputId": "b8e235fd-5127-4ab9-bf19-19f4d0bee7dd"
   },
   "outputs": [
    {
     "name": "stdout",
     "output_type": "stream",
     "text": [
      "[[False False]\n",
      " [ True  True]\n",
      " [ True  True]]\n"
     ]
    }
   ],
   "source": [
    "import numpy as np\n",
    "\n",
    "a = np.array([[1,2], [3, 4], [5, 6]])\n",
    "\n",
    "bool_idx = (a > 2)  # Find the elements of a that are bigger than 2;\n",
    "                    # this returns a numpy array of Booleans of the same\n",
    "                    # shape as a, where each slot of bool_idx tells\n",
    "                    # whether that element of a is > 2.\n",
    "\n",
    "print(bool_idx)"
   ]
  },
  {
   "cell_type": "code",
   "execution_count": 59,
   "metadata": {
    "colab": {
     "base_uri": "https://localhost:8080/"
    },
    "id": "cb2IRMXaL9if",
    "outputId": "972c731e-cf98-4e05-a980-ac61dd95d89d"
   },
   "outputs": [
    {
     "name": "stdout",
     "output_type": "stream",
     "text": [
      "[3 4 5 6]\n",
      "[3 4 5 6]\n"
     ]
    }
   ],
   "source": [
    "# We use boolean array indexing to construct a rank 1 array\n",
    "# consisting of the elements of a corresponding to the True values\n",
    "# of bool_idx\n",
    "print(a[bool_idx])\n",
    "\n",
    "# We can do all of the above in a single concise statement:\n",
    "print(a[a > 2])"
   ]
  },
  {
   "cell_type": "markdown",
   "metadata": {
    "id": "CdofMonAL9ih"
   },
   "source": [
    "For brevity we have left out a lot of details about numpy array indexing; if you want to know more you should read the documentation."
   ]
  },
  {
   "cell_type": "markdown",
   "metadata": {
    "id": "jTctwqdQL9ih"
   },
   "source": [
    "###Datatypes"
   ]
  },
  {
   "cell_type": "markdown",
   "metadata": {
    "id": "kSZQ1WkIL9ih"
   },
   "source": [
    "Every numpy array is a grid of elements of the same type. Numpy provides a large set of numeric datatypes that you can use to construct arrays. Numpy tries to guess a datatype when you create an array, but functions that construct arrays usually also include an optional argument to explicitly specify the datatype. Here is an example:"
   ]
  },
  {
   "cell_type": "code",
   "execution_count": 60,
   "metadata": {
    "colab": {
     "base_uri": "https://localhost:8080/"
    },
    "id": "4za4O0m5L9ih",
    "outputId": "1373c3b3-a388-4fa1-a02f-32efd22961f5"
   },
   "outputs": [
    {
     "name": "stdout",
     "output_type": "stream",
     "text": [
      "int64 float64 int64\n"
     ]
    }
   ],
   "source": [
    "x = np.array([1, 2])  # Let numpy choose the datatype\n",
    "y = np.array([1.0, 2.0])  # Let numpy choose the datatype\n",
    "z = np.array([1, 2], dtype=np.int64)  # Force a particular datatype\n",
    "\n",
    "print(x.dtype, y.dtype, z.dtype)"
   ]
  },
  {
   "cell_type": "markdown",
   "metadata": {
    "id": "TuB-fdhIL9ik"
   },
   "source": [
    "###Array math"
   ]
  },
  {
   "cell_type": "markdown",
   "metadata": {
    "id": "18e8V8elL9ik"
   },
   "source": [
    "Basic mathematical functions operate elementwise on arrays, and are available both as operator overloads and as functions in the numpy module:"
   ]
  },
  {
   "cell_type": "code",
   "execution_count": 61,
   "metadata": {
    "colab": {
     "base_uri": "https://localhost:8080/"
    },
    "id": "gHKvBrSKL9il",
    "outputId": "359fb9b4-7915-4e92-95f1-009a02a4bd39"
   },
   "outputs": [
    {
     "name": "stdout",
     "output_type": "stream",
     "text": [
      "[[ 6.  8.]\n",
      " [10. 12.]]\n",
      "[[ 6.  8.]\n",
      " [10. 12.]]\n"
     ]
    }
   ],
   "source": [
    "x = np.array([[1,2],[3,4]], dtype=np.float64)\n",
    "y = np.array([[5,6],[7,8]], dtype=np.float64)\n",
    "\n",
    "# Elementwise sum; both produce the array\n",
    "print(x + y)\n",
    "print(np.add(x, y))"
   ]
  },
  {
   "cell_type": "code",
   "execution_count": 62,
   "metadata": {
    "colab": {
     "base_uri": "https://localhost:8080/"
    },
    "id": "1fZtIAMxL9in",
    "outputId": "ce589c54-378d-4fea-8682-8b1f23871c36"
   },
   "outputs": [
    {
     "name": "stdout",
     "output_type": "stream",
     "text": [
      "[[-4. -4.]\n",
      " [-4. -4.]]\n",
      "[[-4. -4.]\n",
      " [-4. -4.]]\n"
     ]
    }
   ],
   "source": [
    "# Elementwise difference; both produce the array\n",
    "print(x - y)\n",
    "print(np.subtract(x, y))"
   ]
  },
  {
   "cell_type": "code",
   "execution_count": 63,
   "metadata": {
    "colab": {
     "base_uri": "https://localhost:8080/"
    },
    "id": "nil4AScML9io",
    "outputId": "95cc64a3-dd43-45a7-baa6-32ad52f0b998"
   },
   "outputs": [
    {
     "name": "stdout",
     "output_type": "stream",
     "text": [
      "[[ 5. 12.]\n",
      " [21. 32.]]\n",
      "[[ 5. 12.]\n",
      " [21. 32.]]\n"
     ]
    }
   ],
   "source": [
    "# Elementwise product; both produce the array\n",
    "print(x * y)\n",
    "print(np.multiply(x, y))"
   ]
  },
  {
   "cell_type": "code",
   "execution_count": 64,
   "metadata": {
    "colab": {
     "base_uri": "https://localhost:8080/"
    },
    "id": "0JoA4lH6L9ip",
    "outputId": "562ca09a-6125-41b4-d213-4a7e7cc74054"
   },
   "outputs": [
    {
     "name": "stdout",
     "output_type": "stream",
     "text": [
      "[[0.2        0.33333333]\n",
      " [0.42857143 0.5       ]]\n",
      "[[0.2        0.33333333]\n",
      " [0.42857143 0.5       ]]\n"
     ]
    }
   ],
   "source": [
    "# Elementwise division; both produce the array\n",
    "# [[ 0.2         0.33333333]\n",
    "#  [ 0.42857143  0.5       ]]\n",
    "print(x / y)\n",
    "print(np.divide(x, y))"
   ]
  },
  {
   "cell_type": "code",
   "execution_count": 65,
   "metadata": {
    "colab": {
     "base_uri": "https://localhost:8080/"
    },
    "id": "g0iZuA6bL9ir",
    "outputId": "f2480fe0-7fee-485a-d8cd-f7146b37daa6"
   },
   "outputs": [
    {
     "name": "stdout",
     "output_type": "stream",
     "text": [
      "[[1.         1.41421356]\n",
      " [1.73205081 2.        ]]\n"
     ]
    }
   ],
   "source": [
    "# Elementwise square root; produces the array\n",
    "# [[ 1.          1.41421356]\n",
    "#  [ 1.73205081  2.        ]]\n",
    "print(np.sqrt(x))"
   ]
  },
  {
   "cell_type": "markdown",
   "metadata": {
    "id": "a5d_uujuL9it"
   },
   "source": [
    "The dot function is used to compute inner products of vectors, to multiply a vector by a matrix, and to multiply matrices. dot is available both as a function in the numpy module and as an instance method of array objects:"
   ]
  },
  {
   "cell_type": "code",
   "execution_count": 66,
   "metadata": {
    "colab": {
     "base_uri": "https://localhost:8080/"
    },
    "id": "I3FnmoSeL9iu",
    "outputId": "71dd4d7c-cd3d-4c73-81ab-98f8b1b43f2d"
   },
   "outputs": [
    {
     "name": "stdout",
     "output_type": "stream",
     "text": [
      "219\n",
      "219\n"
     ]
    }
   ],
   "source": [
    "x = np.array([[1,2],[3,4]])\n",
    "y = np.array([[5,6],[7,8]])\n",
    "\n",
    "v = np.array([9,10])\n",
    "w = np.array([11, 12])\n",
    "\n",
    "# Inner product of vectors; both produce 219\n",
    "print(v.dot(w))\n",
    "print(np.dot(v, w))"
   ]
  },
  {
   "cell_type": "markdown",
   "metadata": {
    "id": "vmxPbrHASVeA"
   },
   "source": [
    "You can also use the `@` operator which is equivalent to numpy's `dot` operator."
   ]
  },
  {
   "cell_type": "code",
   "execution_count": 67,
   "metadata": {
    "colab": {
     "base_uri": "https://localhost:8080/"
    },
    "id": "vyrWA-mXSdtt",
    "outputId": "78cd4a2b-0f9d-42a3-e4fb-0ddfbe72141a"
   },
   "outputs": [
    {
     "name": "stdout",
     "output_type": "stream",
     "text": [
      "219\n"
     ]
    }
   ],
   "source": [
    "print(v @ w)"
   ]
  },
  {
   "cell_type": "code",
   "execution_count": 68,
   "metadata": {
    "colab": {
     "base_uri": "https://localhost:8080/"
    },
    "id": "zvUODeTxL9iw",
    "outputId": "d1f567f2-41fc-4e6c-fc51-fd4a77ab9226"
   },
   "outputs": [
    {
     "name": "stdout",
     "output_type": "stream",
     "text": [
      "[29 67]\n",
      "[29 67]\n",
      "[29 67]\n"
     ]
    }
   ],
   "source": [
    "# Matrix / vector product; both produce the rank 1 array [29 67]\n",
    "print(x.dot(v))\n",
    "print(np.dot(x, v))\n",
    "print(x @ v)"
   ]
  },
  {
   "cell_type": "code",
   "execution_count": 69,
   "metadata": {
    "colab": {
     "base_uri": "https://localhost:8080/"
    },
    "id": "3V_3NzNEL9iy",
    "outputId": "1366a54c-906f-4b39-a664-4abe420972a5"
   },
   "outputs": [
    {
     "name": "stdout",
     "output_type": "stream",
     "text": [
      "[[19 22]\n",
      " [43 50]]\n",
      "[[19 22]\n",
      " [43 50]]\n",
      "[[19 22]\n",
      " [43 50]]\n"
     ]
    }
   ],
   "source": [
    "# Matrix / matrix product; both produce the rank 2 array\n",
    "# [[19 22]\n",
    "#  [43 50]]\n",
    "print(x.dot(y))\n",
    "print(np.dot(x, y))\n",
    "print(x @ y)"
   ]
  },
  {
   "cell_type": "markdown",
   "metadata": {
    "id": "FbE-1If_L9i0"
   },
   "source": [
    "Numpy provides many useful functions for performing computations on arrays; one of the most useful is `sum`:"
   ]
  },
  {
   "cell_type": "code",
   "execution_count": 70,
   "metadata": {
    "colab": {
     "base_uri": "https://localhost:8080/"
    },
    "id": "DZUdZvPrL9i0",
    "outputId": "d3ec70cb-4228-4a67-d15a-97069ed671cb"
   },
   "outputs": [
    {
     "name": "stdout",
     "output_type": "stream",
     "text": [
      "10\n",
      "[4 6]\n",
      "[3 7]\n"
     ]
    }
   ],
   "source": [
    "x = np.array([[1,2],[3,4]])\n",
    "\n",
    "print(np.sum(x))  # Compute sum of all elements; prints \"10\"\n",
    "print(np.sum(x, axis=0))  # Compute sum of each column; prints \"[4 6]\"\n",
    "print(np.sum(x, axis=1))  # Compute sum of each row; prints \"[3 7]\""
   ]
  },
  {
   "cell_type": "markdown",
   "metadata": {
    "id": "ahdVW4iUL9i3"
   },
   "source": [
    "Apart from computing mathematical functions using arrays, we frequently need to reshape or otherwise manipulate data in arrays. The simplest example of this type of operation is transposing a matrix; to transpose a matrix, simply use the T attribute of an array object:"
   ]
  },
  {
   "cell_type": "code",
   "execution_count": 71,
   "metadata": {
    "colab": {
     "base_uri": "https://localhost:8080/"
    },
    "id": "63Yl1f3oL9i3",
    "outputId": "74306954-3013-481b-cfb5-4711fc766eb6"
   },
   "outputs": [
    {
     "name": "stdout",
     "output_type": "stream",
     "text": [
      "[[1 2]\n",
      " [3 4]]\n",
      "[[1 3]\n",
      " [2 4]]\n"
     ]
    }
   ],
   "source": [
    "print(x)\n",
    "print(x.T)"
   ]
  },
  {
   "cell_type": "code",
   "execution_count": 72,
   "metadata": {
    "colab": {
     "base_uri": "https://localhost:8080/"
    },
    "id": "mkk03eNIL9i4",
    "outputId": "1441f41f-b4b5-47ee-8c23-7e869168987a"
   },
   "outputs": [
    {
     "name": "stdout",
     "output_type": "stream",
     "text": [
      "[[1 2 3]]\n",
      "[[1]\n",
      " [2]\n",
      " [3]]\n"
     ]
    }
   ],
   "source": [
    "v = np.array([[1,2,3]])\n",
    "print(v )\n",
    "print(v.T)"
   ]
  },
  {
   "cell_type": "markdown",
   "metadata": {
    "id": "REfLrUTcL9i7"
   },
   "source": [
    "###Broadcasting"
   ]
  },
  {
   "cell_type": "markdown",
   "metadata": {
    "id": "EygGAMWqL9i7"
   },
   "source": [
    "Broadcasting is a powerful mechanism that allows numpy to work with arrays of different shapes when performing arithmetic operations. Frequently we have a smaller array and a larger array, and we want to use the smaller array multiple times to perform some operation on the larger array.\n",
    "\n",
    "For example, suppose that we want to add a constant vector to each row of a matrix. We could do it like this:"
   ]
  },
  {
   "cell_type": "code",
   "execution_count": 73,
   "metadata": {
    "colab": {
     "base_uri": "https://localhost:8080/"
    },
    "id": "WEEvkV1ZL9i7",
    "outputId": "4e1873ed-c1dc-42dc-cf2a-e5be2732465b"
   },
   "outputs": [
    {
     "name": "stdout",
     "output_type": "stream",
     "text": [
      "[[0 0 0]\n",
      " [0 0 0]\n",
      " [0 0 0]\n",
      " [0 0 0]]\n",
      "(4, 3) (3,) (4, 3)\n",
      "[[ 2  2  4]\n",
      " [ 5  5  7]\n",
      " [ 8  8 10]\n",
      " [11 11 13]]\n"
     ]
    }
   ],
   "source": [
    "# We will add the vector v to each row of the matrix x,\n",
    "# storing the result in the matrix y\n",
    "x = np.array([[1,2,3], [4,5,6], [7,8,9], [10, 11, 12]])\n",
    "v = np.array([1, 0, 1])\n",
    "y = np.zeros_like(x)   # an array of zeros with the same shape and type as x\n",
    "print(y)\n",
    "print(x.shape,v.shape,y.shape)\n",
    "\n",
    "# Add the vector v to each row of the matrix x with an explicit loop\n",
    "for i in range(4):\n",
    "    y[i, :] = x[i, :] + v\n",
    "\n",
    "print(y)"
   ]
  },
  {
   "cell_type": "markdown",
   "metadata": {
    "id": "2OlXXupEL9i-"
   },
   "source": [
    "This works; however when the matrix `x` is very large, computing an explicit loop in Python could be slow. Note that adding the vector v to each row of the matrix `x` is equivalent to forming a matrix `vv` by stacking multiple copies of `v` vertically, then performing elementwise summation of `x` and `vv`. We could implement this approach like this:"
   ]
  },
  {
   "cell_type": "code",
   "execution_count": 74,
   "metadata": {
    "colab": {
     "base_uri": "https://localhost:8080/"
    },
    "id": "vS7UwAQQL9i-",
    "outputId": "44bf47a7-64fb-4b53-9bf2-be44afa98d8a"
   },
   "outputs": [
    {
     "name": "stdout",
     "output_type": "stream",
     "text": [
      "[1 0 1]\n",
      "[[1 0 1]\n",
      " [1 0 1]\n",
      " [1 0 1]\n",
      " [1 0 1]]\n"
     ]
    }
   ],
   "source": [
    "print(v)\n",
    "vv = np.tile(v, (4, 1))  # Stack 4 copies of v on top of each other\n",
    "print(vv)                # Prints \"[[1 0 1]\n",
    "                         #          [1 0 1]\n",
    "                         #          [1 0 1]\n",
    "                         #          [1 0 1]]\""
   ]
  },
  {
   "cell_type": "code",
   "execution_count": 75,
   "metadata": {
    "colab": {
     "base_uri": "https://localhost:8080/"
    },
    "id": "N0hJphSIL9jA",
    "outputId": "27d9b10a-918a-4477-de41-85ce2622b94c"
   },
   "outputs": [
    {
     "name": "stdout",
     "output_type": "stream",
     "text": [
      "[[ 2  2  4]\n",
      " [ 5  5  7]\n",
      " [ 8  8 10]\n",
      " [11 11 13]]\n"
     ]
    }
   ],
   "source": [
    "y = x + vv  # Add x and vv elementwise\n",
    "print(y)"
   ]
  },
  {
   "cell_type": "markdown",
   "metadata": {
    "id": "zHos6RJnL9jB"
   },
   "source": [
    "Numpy broadcasting allows us to perform this computation without actually creating multiple copies of v. Consider this version, using broadcasting:"
   ]
  },
  {
   "cell_type": "code",
   "execution_count": 76,
   "metadata": {
    "colab": {
     "base_uri": "https://localhost:8080/"
    },
    "id": "vnYFb-gYL9jC",
    "outputId": "e233eda7-8671-4b6d-f272-72056f211ef3"
   },
   "outputs": [
    {
     "name": "stdout",
     "output_type": "stream",
     "text": [
      "[[ 2  2  4]\n",
      " [ 5  5  7]\n",
      " [ 8  8 10]\n",
      " [11 11 13]]\n"
     ]
    }
   ],
   "source": [
    "import numpy as np\n",
    "\n",
    "# We will add the vector v to each row of the matrix x,\n",
    "# storing the result in the matrix y\n",
    "x = np.array([[1,2,3], [4,5,6], [7,8,9], [10, 11, 12]])\n",
    "v = np.array([1, 0, 1])\n",
    "y = x + v  # Add v to each row of x using broadcasting\n",
    "print(y)"
   ]
  },
  {
   "cell_type": "markdown",
   "metadata": {
    "id": "08YyIURKL9jH"
   },
   "source": [
    "The line `y = x + v` works even though `x` has shape `(4, 3)` and `v` has shape `(3,)` due to broadcasting; this line works as if v actually had shape `(4, 3)`, where each row was a copy of `v`, and the sum was performed elementwise.\n",
    "\n",
    "Broadcasting two arrays together follows these rules:\n",
    "\n",
    "1. If the arrays do not have the same rank, prepend the shape of the lower rank array with 1s until both shapes have the same length.\n",
    "2. The two arrays are said to be compatible in a dimension if they have the same size in the dimension, or if one of the arrays has size 1 in that dimension.\n",
    "3. The arrays can be broadcast together if they are compatible in all dimensions.\n",
    "4. After broadcasting, each array behaves as if it had shape equal to the elementwise maximum of shapes of the two input arrays.\n",
    "5. In any dimension where one array had size 1 and the other array had size greater than 1, the first array behaves as if it were copied along that dimension\n",
    "\n",
    "Here are some applications of broadcasting:"
   ]
  },
  {
   "cell_type": "code",
   "execution_count": 77,
   "metadata": {
    "colab": {
     "base_uri": "https://localhost:8080/"
    },
    "id": "EmQnwoM9L9jH",
    "outputId": "c77b43aa-31fd-49eb-c6d1-a2a85ea3bda1"
   },
   "outputs": [
    {
     "name": "stdout",
     "output_type": "stream",
     "text": [
      "[[ 4  5]\n",
      " [ 8 10]\n",
      " [12 15]]\n",
      "(3,) (2,)\n"
     ]
    }
   ],
   "source": [
    "# Compute outer product of vectors\n",
    "v = np.array([1,2,3])  # v has shape (3,)\n",
    "w = np.array([4,5])    # w has shape (2,)\n",
    "# To compute an outer product, we first reshape v to be a column\n",
    "# vector of shape (3, 1); we can then broadcast it against w to yield\n",
    "# an output of shape (3, 2), which is the outer product of v and w:\n",
    "\n",
    "print(np.reshape(v, (3, 1)) * w)\n",
    "print(v.shape, w.shape)"
   ]
  },
  {
   "cell_type": "code",
   "execution_count": 78,
   "metadata": {
    "colab": {
     "base_uri": "https://localhost:8080/"
    },
    "id": "PgotmpcnL9jK",
    "outputId": "288a1812-d89a-4d65-d15e-cd76207f136d"
   },
   "outputs": [
    {
     "name": "stdout",
     "output_type": "stream",
     "text": [
      "[[2 4 6]\n",
      " [5 7 9]]\n"
     ]
    }
   ],
   "source": [
    "# Add a vector to each row of a matrix\n",
    "x = np.array([[1,2,3], [4,5,6]])\n",
    "# x has shape (2, 3) and v has shape (3,) so they broadcast to (2, 3),\n",
    "# giving the following matrix:\n",
    "\n",
    "print(x + v)"
   ]
  },
  {
   "cell_type": "code",
   "execution_count": 79,
   "metadata": {
    "colab": {
     "base_uri": "https://localhost:8080/"
    },
    "id": "T5hKS1QaL9jK",
    "outputId": "e0e3bfc6-af46-4758-b052-d5a240436946"
   },
   "outputs": [
    {
     "name": "stdout",
     "output_type": "stream",
     "text": [
      "[[ 5  6  7]\n",
      " [ 9 10 11]]\n"
     ]
    }
   ],
   "source": [
    "# Add a vector to each column of a matrix\n",
    "# x has shape (2, 3) and w has shape (2,).\n",
    "# If we transpose x then it has shape (3, 2) and can be broadcast\n",
    "# against w to yield a result of shape (3, 2); transposing this result\n",
    "# yields the final result of shape (2, 3) which is the matrix x with\n",
    "# the vector w added to each column. Gives the following matrix:\n",
    "\n",
    "print((x.T + w).T)"
   ]
  },
  {
   "cell_type": "code",
   "execution_count": 80,
   "metadata": {
    "colab": {
     "base_uri": "https://localhost:8080/"
    },
    "id": "JDUrZUl6L9jN",
    "outputId": "936d32fd-e323-4ac3-c564-2ae0ee19c975"
   },
   "outputs": [
    {
     "name": "stdout",
     "output_type": "stream",
     "text": [
      "[[ 5  6  7]\n",
      " [ 9 10 11]]\n"
     ]
    }
   ],
   "source": [
    "# Another solution is to reshape w to be a row vector of shape (2, 1);\n",
    "# we can then broadcast it directly against x to produce the same\n",
    "# output.\n",
    "print(x + np.reshape(w, (2, 1)))"
   ]
  },
  {
   "cell_type": "code",
   "execution_count": 81,
   "metadata": {
    "colab": {
     "base_uri": "https://localhost:8080/"
    },
    "id": "VzrEo4KGL9jP",
    "outputId": "3968791c-c55d-49cf-a63a-dbaff9faef73"
   },
   "outputs": [
    {
     "name": "stdout",
     "output_type": "stream",
     "text": [
      "[[ 2  4  6]\n",
      " [ 8 10 12]]\n"
     ]
    }
   ],
   "source": [
    "# Multiply a matrix by a constant:\n",
    "# x has shape (2, 3). Numpy treats scalars as arrays of shape ();\n",
    "# these can be broadcast together to shape (2, 3), producing the\n",
    "# following array:\n",
    "print(x * 2)"
   ]
  },
  {
   "cell_type": "markdown",
   "metadata": {
    "id": "89e2FXxFL9jQ"
   },
   "source": [
    "Broadcasting typically makes your code more concise and faster, so you should strive to use it where possible."
   ]
  },
  {
   "cell_type": "markdown",
   "metadata": {
    "id": "Qm7eCSmrhxwo"
   },
   "source": [
    "## Pandas"
   ]
  },
  {
   "cell_type": "markdown",
   "metadata": {
    "id": "x5JbGdNbh4mn"
   },
   "source": [
    "Pandas is a software library in Python for data manipulation and analysis. It offers data structures and operations for manipulating numerical tables and time series.\n",
    "The main data structure is the DataFrame, which is an in-memory 2D table similar to a spreadsheet, with column names and row labels."
   ]
  },
  {
   "cell_type": "code",
   "execution_count": 82,
   "metadata": {
    "id": "RZYjQ1cQiIQQ"
   },
   "outputs": [],
   "source": [
    "import pandas as pd"
   ]
  },
  {
   "cell_type": "markdown",
   "metadata": {
    "id": "vTID7uhBir_f"
   },
   "source": [
    "### Series objects\n",
    "A Series object is 1D array, similar to a column in a spreadsheet, while a DataFrame objects is a 2D table with column names and row labels."
   ]
  },
  {
   "cell_type": "code",
   "execution_count": 83,
   "metadata": {
    "colab": {
     "base_uri": "https://localhost:8080/"
    },
    "id": "YmJAkiEOir_h",
    "outputId": "54d1df9c-aa35-4ab0-edf1-7718c18c5506"
   },
   "outputs": [
    {
     "data": {
      "text/plain": [
       "0    1\n",
       "1    2\n",
       "2    3\n",
       "3    4\n",
       "dtype: int64"
      ]
     },
     "execution_count": 83,
     "metadata": {},
     "output_type": "execute_result"
    }
   ],
   "source": [
    "s = pd.Series([1,2,3,4]); s"
   ]
  },
  {
   "cell_type": "markdown",
   "metadata": {
    "id": "kdhl88C7ir_i"
   },
   "source": [
    "Series objects can be passed as parameters to NumPy functions"
   ]
  },
  {
   "cell_type": "code",
   "execution_count": 84,
   "metadata": {
    "colab": {
     "base_uri": "https://localhost:8080/"
    },
    "id": "BO4yHdQFir_i",
    "outputId": "256ac2fc-f6bd-417f-ec4d-6e533cbe8910"
   },
   "outputs": [
    {
     "data": {
      "text/plain": [
       "0    0.000000\n",
       "1    0.693147\n",
       "2    1.098612\n",
       "3    1.386294\n",
       "dtype: float64"
      ]
     },
     "execution_count": 84,
     "metadata": {},
     "output_type": "execute_result"
    }
   ],
   "source": [
    "np.log(s)"
   ]
  },
  {
   "cell_type": "code",
   "execution_count": 85,
   "metadata": {
    "colab": {
     "base_uri": "https://localhost:8080/"
    },
    "id": "EyJuUjNOir_j",
    "outputId": "7f177a30-92b7-43b5-9242-008924ec693b"
   },
   "outputs": [
    {
     "data": {
      "text/plain": [
       "0     3\n",
       "1     6\n",
       "2     9\n",
       "3    12\n",
       "dtype: int64"
      ]
     },
     "execution_count": 85,
     "metadata": {},
     "output_type": "execute_result"
    }
   ],
   "source": [
    "s = s + s + [1,2,3,4] # elementwise addition with a list\n",
    "s"
   ]
  },
  {
   "cell_type": "code",
   "execution_count": 86,
   "metadata": {
    "colab": {
     "base_uri": "https://localhost:8080/"
    },
    "id": "Lodlo39Lir_k",
    "outputId": "a605b3be-c135-45a8-a4d7-c2ac854232d2"
   },
   "outputs": [
    {
     "data": {
      "text/plain": [
       "0     4\n",
       "1     7\n",
       "2    10\n",
       "3    13\n",
       "dtype: int64"
      ]
     },
     "execution_count": 86,
     "metadata": {},
     "output_type": "execute_result"
    }
   ],
   "source": [
    "s = s + 1 #Broadcasting\n",
    "s\n",
    " "
   ]
  },
  {
   "cell_type": "code",
   "execution_count": 87,
   "metadata": {
    "colab": {
     "base_uri": "https://localhost:8080/"
    },
    "id": "RjVxhkShir_l",
    "outputId": "296f40ed-841c-4d92-8047-891f131559e1"
   },
   "outputs": [
    {
     "data": {
      "text/plain": [
       "0    False\n",
       "1    False\n",
       "2     True\n",
       "3     True\n",
       "dtype: bool"
      ]
     },
     "execution_count": 87,
     "metadata": {},
     "output_type": "execute_result"
    }
   ],
   "source": [
    "s >=10"
   ]
  },
  {
   "cell_type": "markdown",
   "metadata": {
    "id": "0J6-gw3vir_l"
   },
   "source": [
    "### Index labels\n",
    "Each item in a Series object has a unique identifier called index label. By default, it is simply the rank of the item in the Series (starting at `0`) but you can also set the index labels manually"
   ]
  },
  {
   "cell_type": "code",
   "execution_count": 88,
   "metadata": {
    "colab": {
     "base_uri": "https://localhost:8080/"
    },
    "id": "Z1CGNZSXir_l",
    "outputId": "33bcb32f-0cc6-4b8c-f74f-0481f9007cba"
   },
   "outputs": [
    {
     "data": {
      "text/plain": [
       "a    1\n",
       "b    2\n",
       "c    3\n",
       "d    4\n",
       "dtype: int64"
      ]
     },
     "execution_count": 88,
     "metadata": {},
     "output_type": "execute_result"
    }
   ],
   "source": [
    "s2 = pd.Series([1, 2, 3, 4], index=[\"a\", \"b\", \"c\", \"d\"])\n",
    "s2"
   ]
  },
  {
   "cell_type": "markdown",
   "metadata": {
    "id": "1EztOMFMir_l"
   },
   "source": [
    "You can then use the Series just like a dict object"
   ]
  },
  {
   "cell_type": "code",
   "execution_count": 89,
   "metadata": {
    "colab": {
     "base_uri": "https://localhost:8080/"
    },
    "id": "SrAgSyCeir_m",
    "outputId": "15356143-3171-4ed7-fbfa-69a08c1679b5"
   },
   "outputs": [
    {
     "data": {
      "text/plain": [
       "2"
      ]
     },
     "execution_count": 89,
     "metadata": {},
     "output_type": "execute_result"
    }
   ],
   "source": [
    "s2['b']"
   ]
  },
  {
   "cell_type": "markdown",
   "metadata": {
    "id": "dG0PLeXxir_m"
   },
   "source": [
    "access items by integer location"
   ]
  },
  {
   "cell_type": "code",
   "execution_count": 90,
   "metadata": {
    "colab": {
     "base_uri": "https://localhost:8080/"
    },
    "id": "jBigDX6Rir_m",
    "outputId": "2ca278f8-f3ed-4677-da3a-4a54a8885f1a"
   },
   "outputs": [
    {
     "data": {
      "text/plain": [
       "2"
      ]
     },
     "execution_count": 90,
     "metadata": {},
     "output_type": "execute_result"
    }
   ],
   "source": [
    "s2[1]"
   ]
  },
  {
   "cell_type": "code",
   "execution_count": 91,
   "metadata": {
    "colab": {
     "base_uri": "https://localhost:8080/"
    },
    "id": "OrAi7p5Pir_n",
    "outputId": "edc5647f-957a-42dd-a074-04f936ececef"
   },
   "outputs": [
    {
     "data": {
      "text/plain": [
       "2"
      ]
     },
     "execution_count": 91,
     "metadata": {},
     "output_type": "execute_result"
    }
   ],
   "source": [
    "s2.loc['b'] #accessing by label"
   ]
  },
  {
   "cell_type": "code",
   "execution_count": 92,
   "metadata": {
    "colab": {
     "base_uri": "https://localhost:8080/"
    },
    "id": "ZOCc7z0nir_n",
    "outputId": "5f9de7c3-64ec-4aa2-aaa4-db84772454d0"
   },
   "outputs": [
    {
     "data": {
      "text/plain": [
       "2"
      ]
     },
     "execution_count": 92,
     "metadata": {},
     "output_type": "execute_result"
    }
   ],
   "source": [
    "s2.iloc[1] #accessing by integer location"
   ]
  },
  {
   "cell_type": "markdown",
   "metadata": {
    "id": "txl4Z-oZir_n"
   },
   "source": [
    "Slicing a Series"
   ]
  },
  {
   "cell_type": "code",
   "execution_count": 93,
   "metadata": {
    "colab": {
     "base_uri": "https://localhost:8080/"
    },
    "id": "Xh0r1ulLir_n",
    "outputId": "ead7868a-68a2-46e2-8e6e-4c80a04abdd4"
   },
   "outputs": [
    {
     "data": {
      "text/plain": [
       "b    2\n",
       "c    3\n",
       "dtype: int64"
      ]
     },
     "execution_count": 93,
     "metadata": {},
     "output_type": "execute_result"
    }
   ],
   "source": [
    "s2.iloc[1:3]"
   ]
  },
  {
   "cell_type": "code",
   "execution_count": 94,
   "metadata": {
    "colab": {
     "base_uri": "https://localhost:8080/"
    },
    "id": "tfA4OuYoir_o",
    "outputId": "2fa138a1-9187-4c0c-ab01-ba82803b303e"
   },
   "outputs": [
    {
     "data": {
      "text/plain": [
       "c    3\n",
       "d    4\n",
       "dtype: int64"
      ]
     },
     "execution_count": 94,
     "metadata": {},
     "output_type": "execute_result"
    }
   ],
   "source": [
    "s2.iloc[2:]"
   ]
  },
  {
   "cell_type": "markdown",
   "metadata": {
    "id": "FumbwZgair_p"
   },
   "source": [
    "### Initializing from a dict\n",
    "Create a Series object from a dict, keys are used as index labels"
   ]
  },
  {
   "cell_type": "code",
   "execution_count": 95,
   "metadata": {
    "colab": {
     "base_uri": "https://localhost:8080/"
    },
    "id": "7Oidb7cyir_p",
    "outputId": "cbaaae9d-f9be-4e85-ea8f-c50051f03806"
   },
   "outputs": [
    {
     "data": {
      "text/plain": [
       "b    1\n",
       "a    2\n",
       "e    3\n",
       "d    4\n",
       "dtype: int64"
      ]
     },
     "execution_count": 95,
     "metadata": {},
     "output_type": "execute_result"
    }
   ],
   "source": [
    "d = {\"b\": 1, \"a\": 2, \"e\": 3, \"d\": 4}\n",
    "s3 = pd.Series(d)\n",
    "s3"
   ]
  },
  {
   "cell_type": "code",
   "execution_count": 96,
   "metadata": {
    "colab": {
     "base_uri": "https://localhost:8080/"
    },
    "id": "5GGxgkEpir_q",
    "outputId": "9341dd1f-770e-4fb8-cc2c-2a381cc84a73"
   },
   "outputs": [
    {
     "data": {
      "text/plain": [
       "c    NaN\n",
       "a    2.0\n",
       "dtype: float64"
      ]
     },
     "execution_count": 96,
     "metadata": {},
     "output_type": "execute_result"
    }
   ],
   "source": [
    "s4 = pd.Series(d, index = [\"c\", \"a\"])\n",
    "s4"
   ]
  },
  {
   "cell_type": "code",
   "execution_count": 97,
   "metadata": {
    "colab": {
     "base_uri": "https://localhost:8080/"
    },
    "id": "YN6D80kwtCuH",
    "outputId": "fc38d3da-eb72-4422-de11-d7c90d8b69cf"
   },
   "outputs": [
    {
     "data": {
      "text/plain": [
       "a    10\n",
       "b    10\n",
       "c    10\n",
       "Name: series, dtype: int64"
      ]
     },
     "execution_count": 97,
     "metadata": {},
     "output_type": "execute_result"
    }
   ],
   "source": [
    "s5 = pd.Series(10, [\"a\", \"b\", \"c\"], name=\"series\")\n",
    "s5"
   ]
  },
  {
   "cell_type": "markdown",
   "metadata": {
    "id": "b1uwh9LNir_q"
   },
   "source": [
    "### Automatic alignment\n",
    "When an operation involves multiple `Series` objects, `pandas` automatically aligns items by matching index labels."
   ]
  },
  {
   "cell_type": "code",
   "execution_count": 98,
   "metadata": {
    "colab": {
     "base_uri": "https://localhost:8080/"
    },
    "id": "CmAwZbjair_q",
    "outputId": "82338e44-2c70-462f-92a4-df0c0b09299e"
   },
   "outputs": [
    {
     "name": "stdout",
     "output_type": "stream",
     "text": [
      "Index(['a', 'b', 'c', 'd'], dtype='object')\n",
      "Index(['b', 'a', 'e', 'd'], dtype='object')\n"
     ]
    },
    {
     "data": {
      "text/plain": [
       "a    3.0\n",
       "b    3.0\n",
       "c    NaN\n",
       "d    8.0\n",
       "e    NaN\n",
       "dtype: float64"
      ]
     },
     "execution_count": 98,
     "metadata": {},
     "output_type": "execute_result"
    }
   ],
   "source": [
    "print(s2.keys())\n",
    "print(s3.keys())\n",
    "\n",
    "s2 + s3"
   ]
  },
  {
   "cell_type": "markdown",
   "metadata": {
    "id": "HMRU9_FBir_q"
   },
   "source": [
    "The resulting Series contains the union of index labels from s2 and s3. But, missing index labels get the value of NaN "
   ]
  },
  {
   "cell_type": "markdown",
   "metadata": {
    "id": "zPTHPp9Hir_z"
   },
   "source": [
    "### DataFrame objects\n",
    "DataFrame object represents a spreadsheet, with cell values, column names and row index labels. \n"
   ]
  },
  {
   "cell_type": "code",
   "execution_count": 99,
   "metadata": {
    "colab": {
     "base_uri": "https://localhost:8080/"
    },
    "id": "L_gvSdpwir_0",
    "outputId": "07d972ac-ad5c-4467-bff6-1780c38d931b"
   },
   "outputs": [
    {
     "data": {
      "text/html": [
       "<div>\n",
       "<style scoped>\n",
       "    .dataframe tbody tr th:only-of-type {\n",
       "        vertical-align: middle;\n",
       "    }\n",
       "\n",
       "    .dataframe tbody tr th {\n",
       "        vertical-align: top;\n",
       "    }\n",
       "\n",
       "    .dataframe thead th {\n",
       "        text-align: right;\n",
       "    }\n",
       "</style>\n",
       "<table border=\"1\" class=\"dataframe\">\n",
       "  <thead>\n",
       "    <tr style=\"text-align: right;\">\n",
       "      <th></th>\n",
       "      <th>feature1</th>\n",
       "      <th>feature2</th>\n",
       "      <th>feature3</th>\n",
       "      <th>feature4</th>\n",
       "    </tr>\n",
       "  </thead>\n",
       "  <tbody>\n",
       "    <tr>\n",
       "      <th>a</th>\n",
       "      <td>1</td>\n",
       "      <td>5</td>\n",
       "      <td>NaN</td>\n",
       "      <td>9.0</td>\n",
       "    </tr>\n",
       "    <tr>\n",
       "      <th>b</th>\n",
       "      <td>2</td>\n",
       "      <td>4</td>\n",
       "      <td>8.0</td>\n",
       "      <td>10.0</td>\n",
       "    </tr>\n",
       "    <tr>\n",
       "      <th>c</th>\n",
       "      <td>3</td>\n",
       "      <td>6</td>\n",
       "      <td>7.0</td>\n",
       "      <td>NaN</td>\n",
       "    </tr>\n",
       "  </tbody>\n",
       "</table>\n",
       "</div>"
      ],
      "text/plain": [
       "   feature1  feature2  feature3  feature4\n",
       "a         1         5       NaN       9.0\n",
       "b         2         4       8.0      10.0\n",
       "c         3         6       7.0       NaN"
      ]
     },
     "execution_count": 99,
     "metadata": {},
     "output_type": "execute_result"
    }
   ],
   "source": [
    "d = {\n",
    "    \"feature1\": pd.Series([1,2,3], index=[\"a\", \"b\", \"c\"]),\n",
    "    \"feature2\": pd.Series([4,5,6], index=[\"b\", \"a\", \"c\"]),\n",
    "    \"feature3\": pd.Series([7,8],  index=[\"c\", \"b\"]),\n",
    "    \"feature4\": pd.Series([9,10], index=[\"a\", \"b\"]),\n",
    "}\n",
    "df = pd.DataFrame(d)\n",
    "df"
   ]
  },
  {
   "cell_type": "markdown",
   "metadata": {
    "id": "AQ7b9D-Bir_0"
   },
   "source": [
    "You can access columns pretty much as you would expect. They are returned as `Series` objects:"
   ]
  },
  {
   "cell_type": "code",
   "execution_count": 100,
   "metadata": {
    "colab": {
     "base_uri": "https://localhost:8080/"
    },
    "id": "xdstMO5zir_0",
    "outputId": "d9ab7bf7-8504-4951-beb8-ce37deae7989"
   },
   "outputs": [
    {
     "data": {
      "text/plain": [
       "a    NaN\n",
       "b    8.0\n",
       "c    7.0\n",
       "Name: feature3, dtype: float64"
      ]
     },
     "execution_count": 100,
     "metadata": {},
     "output_type": "execute_result"
    }
   ],
   "source": [
    "df[\"feature3\"] #accessing a column"
   ]
  },
  {
   "cell_type": "code",
   "execution_count": 101,
   "metadata": {
    "colab": {
     "base_uri": "https://localhost:8080/"
    },
    "id": "aOFVr6bhir_0",
    "outputId": "f259253d-7224-4f59-c726-34b1ed0870ee"
   },
   "outputs": [
    {
     "data": {
      "text/html": [
       "<div>\n",
       "<style scoped>\n",
       "    .dataframe tbody tr th:only-of-type {\n",
       "        vertical-align: middle;\n",
       "    }\n",
       "\n",
       "    .dataframe tbody tr th {\n",
       "        vertical-align: top;\n",
       "    }\n",
       "\n",
       "    .dataframe thead th {\n",
       "        text-align: right;\n",
       "    }\n",
       "</style>\n",
       "<table border=\"1\" class=\"dataframe\">\n",
       "  <thead>\n",
       "    <tr style=\"text-align: right;\">\n",
       "      <th></th>\n",
       "      <th>feature1</th>\n",
       "      <th>feature3</th>\n",
       "    </tr>\n",
       "  </thead>\n",
       "  <tbody>\n",
       "    <tr>\n",
       "      <th>a</th>\n",
       "      <td>1</td>\n",
       "      <td>NaN</td>\n",
       "    </tr>\n",
       "    <tr>\n",
       "      <th>b</th>\n",
       "      <td>2</td>\n",
       "      <td>8.0</td>\n",
       "    </tr>\n",
       "    <tr>\n",
       "      <th>c</th>\n",
       "      <td>3</td>\n",
       "      <td>7.0</td>\n",
       "    </tr>\n",
       "  </tbody>\n",
       "</table>\n",
       "</div>"
      ],
      "text/plain": [
       "   feature1  feature3\n",
       "a         1       NaN\n",
       "b         2       8.0\n",
       "c         3       7.0"
      ]
     },
     "execution_count": 101,
     "metadata": {},
     "output_type": "execute_result"
    }
   ],
   "source": [
    "df[[\"feature1\", \"feature3\"]] #accessing ,multiple columns"
   ]
  },
  {
   "cell_type": "code",
   "execution_count": 102,
   "metadata": {
    "colab": {
     "base_uri": "https://localhost:8080/"
    },
    "id": "RZeOjz9YSzUl",
    "outputId": "0108a36d-9314-493e-f029-b4643599eab8"
   },
   "outputs": [
    {
     "data": {
      "text/html": [
       "<div>\n",
       "<style scoped>\n",
       "    .dataframe tbody tr th:only-of-type {\n",
       "        vertical-align: middle;\n",
       "    }\n",
       "\n",
       "    .dataframe tbody tr th {\n",
       "        vertical-align: top;\n",
       "    }\n",
       "\n",
       "    .dataframe thead th {\n",
       "        text-align: right;\n",
       "    }\n",
       "</style>\n",
       "<table border=\"1\" class=\"dataframe\">\n",
       "  <thead>\n",
       "    <tr style=\"text-align: right;\">\n",
       "      <th></th>\n",
       "      <th>feature1</th>\n",
       "      <th>feature2</th>\n",
       "      <th>feature3</th>\n",
       "      <th>feature4</th>\n",
       "    </tr>\n",
       "  </thead>\n",
       "  <tbody>\n",
       "    <tr>\n",
       "      <th>a</th>\n",
       "      <td>1</td>\n",
       "      <td>5</td>\n",
       "      <td>NaN</td>\n",
       "      <td>9.0</td>\n",
       "    </tr>\n",
       "    <tr>\n",
       "      <th>b</th>\n",
       "      <td>2</td>\n",
       "      <td>4</td>\n",
       "      <td>8.0</td>\n",
       "      <td>10.0</td>\n",
       "    </tr>\n",
       "    <tr>\n",
       "      <th>c</th>\n",
       "      <td>3</td>\n",
       "      <td>6</td>\n",
       "      <td>7.0</td>\n",
       "      <td>NaN</td>\n",
       "    </tr>\n",
       "  </tbody>\n",
       "</table>\n",
       "</div>"
      ],
      "text/plain": [
       "   feature1  feature2  feature3  feature4\n",
       "a         1         5       NaN       9.0\n",
       "b         2         4       8.0      10.0\n",
       "c         3         6       7.0       NaN"
      ]
     },
     "execution_count": 102,
     "metadata": {},
     "output_type": "execute_result"
    }
   ],
   "source": [
    "df"
   ]
  },
  {
   "cell_type": "markdown",
   "metadata": {
    "id": "d3U-u15bir_0"
   },
   "source": [
    "Constructing a new DataFrame from an existing DataFrame"
   ]
  },
  {
   "cell_type": "code",
   "execution_count": 103,
   "metadata": {
    "colab": {
     "base_uri": "https://localhost:8080/"
    },
    "id": "AKVRvmDPir_0",
    "outputId": "c8d76572-3c57-4787-b581-818acb734723"
   },
   "outputs": [
    {
     "data": {
      "text/html": [
       "<div>\n",
       "<style scoped>\n",
       "    .dataframe tbody tr th:only-of-type {\n",
       "        vertical-align: middle;\n",
       "    }\n",
       "\n",
       "    .dataframe tbody tr th {\n",
       "        vertical-align: top;\n",
       "    }\n",
       "\n",
       "    .dataframe thead th {\n",
       "        text-align: right;\n",
       "    }\n",
       "</style>\n",
       "<table border=\"1\" class=\"dataframe\">\n",
       "  <thead>\n",
       "    <tr style=\"text-align: right;\">\n",
       "      <th></th>\n",
       "      <th>feature1</th>\n",
       "      <th>feature2</th>\n",
       "      <th>feature3</th>\n",
       "    </tr>\n",
       "  </thead>\n",
       "  <tbody>\n",
       "    <tr>\n",
       "      <th>b</th>\n",
       "      <td>2.0</td>\n",
       "      <td>4.0</td>\n",
       "      <td>8.0</td>\n",
       "    </tr>\n",
       "    <tr>\n",
       "      <th>a</th>\n",
       "      <td>1.0</td>\n",
       "      <td>5.0</td>\n",
       "      <td>NaN</td>\n",
       "    </tr>\n",
       "    <tr>\n",
       "      <th>d</th>\n",
       "      <td>NaN</td>\n",
       "      <td>NaN</td>\n",
       "      <td>NaN</td>\n",
       "    </tr>\n",
       "  </tbody>\n",
       "</table>\n",
       "</div>"
      ],
      "text/plain": [
       "   feature1  feature2  feature3\n",
       "b       2.0       4.0       8.0\n",
       "a       1.0       5.0       NaN\n",
       "d       NaN       NaN       NaN"
      ]
     },
     "execution_count": 103,
     "metadata": {},
     "output_type": "execute_result"
    }
   ],
   "source": [
    "df2 = pd.DataFrame(\n",
    "        df,\n",
    "        columns=[\"feature1\", \"feature2\", \"feature3\"],\n",
    "        index=[\"b\", \"a\", \"d\"]\n",
    "     )\n",
    "df2"
   ]
  },
  {
   "cell_type": "markdown",
   "metadata": {
    "id": "tBGPdbE7ir_1"
   },
   "source": [
    "Creating a DataFrame from a list of lists"
   ]
  },
  {
   "cell_type": "code",
   "execution_count": 104,
   "metadata": {
    "colab": {
     "base_uri": "https://localhost:8080/"
    },
    "id": "HnH5Ytujir_1",
    "outputId": "9d7677b6-c5d0-43a4-e706-a78e6b18e7f0"
   },
   "outputs": [
    {
     "data": {
      "text/html": [
       "<div>\n",
       "<style scoped>\n",
       "    .dataframe tbody tr th:only-of-type {\n",
       "        vertical-align: middle;\n",
       "    }\n",
       "\n",
       "    .dataframe tbody tr th {\n",
       "        vertical-align: top;\n",
       "    }\n",
       "\n",
       "    .dataframe thead th {\n",
       "        text-align: right;\n",
       "    }\n",
       "</style>\n",
       "<table border=\"1\" class=\"dataframe\">\n",
       "  <thead>\n",
       "    <tr style=\"text-align: right;\">\n",
       "      <th></th>\n",
       "      <th>feature1</th>\n",
       "      <th>feature2</th>\n",
       "      <th>feature3</th>\n",
       "      <th>feature4</th>\n",
       "    </tr>\n",
       "  </thead>\n",
       "  <tbody>\n",
       "    <tr>\n",
       "      <th>a</th>\n",
       "      <td>11</td>\n",
       "      <td>1.0</td>\n",
       "      <td>a</td>\n",
       "      <td>NaN</td>\n",
       "    </tr>\n",
       "    <tr>\n",
       "      <th>b</th>\n",
       "      <td>12</td>\n",
       "      <td>3.0</td>\n",
       "      <td>b</td>\n",
       "      <td>14.0</td>\n",
       "    </tr>\n",
       "    <tr>\n",
       "      <th>c</th>\n",
       "      <td>13</td>\n",
       "      <td>NaN</td>\n",
       "      <td>NaN</td>\n",
       "      <td>15.0</td>\n",
       "    </tr>\n",
       "  </tbody>\n",
       "</table>\n",
       "</div>"
      ],
      "text/plain": [
       "   feature1  feature2 feature3  feature4\n",
       "a        11       1.0        a       NaN\n",
       "b        12       3.0        b      14.0\n",
       "c        13       NaN      NaN      15.0"
      ]
     },
     "execution_count": 104,
     "metadata": {},
     "output_type": "execute_result"
    }
   ],
   "source": [
    "lol = [\n",
    "            [11, 1,      \"a\",   np.nan],\n",
    "            [12, 3,      \"b\",       14],\n",
    "            [13, np.nan, np.nan,    15]\n",
    "         ]\n",
    "df3 = pd.DataFrame(\n",
    "        lol,\n",
    "        columns=[\"feature1\", \"feature2\", \"feature3\", \"feature4\"],\n",
    "        index=[\"a\", \"b\", \"c\"]\n",
    "     )\n",
    "df3"
   ]
  },
  {
   "cell_type": "markdown",
   "metadata": {
    "id": "owhfFKaJir_1"
   },
   "source": [
    "Creating a DataFrame with a dictionary of dictionaries"
   ]
  },
  {
   "cell_type": "code",
   "execution_count": 105,
   "metadata": {
    "colab": {
     "base_uri": "https://localhost:8080/"
    },
    "id": "fP4tfKPhir_1",
    "outputId": "3220bfae-aabb-40d8-f04b-9865c5a6fa7e"
   },
   "outputs": [
    {
     "data": {
      "text/html": [
       "<div>\n",
       "<style scoped>\n",
       "    .dataframe tbody tr th:only-of-type {\n",
       "        vertical-align: middle;\n",
       "    }\n",
       "\n",
       "    .dataframe tbody tr th {\n",
       "        vertical-align: top;\n",
       "    }\n",
       "\n",
       "    .dataframe thead th {\n",
       "        text-align: right;\n",
       "    }\n",
       "</style>\n",
       "<table border=\"1\" class=\"dataframe\">\n",
       "  <thead>\n",
       "    <tr style=\"text-align: right;\">\n",
       "      <th></th>\n",
       "      <th>feature1</th>\n",
       "      <th>feature2</th>\n",
       "      <th>feature3</th>\n",
       "      <th>feature4</th>\n",
       "    </tr>\n",
       "  </thead>\n",
       "  <tbody>\n",
       "    <tr>\n",
       "      <th>a</th>\n",
       "      <td>15.0</td>\n",
       "      <td>sentence</td>\n",
       "      <td>1.0</td>\n",
       "      <td>NaN</td>\n",
       "    </tr>\n",
       "    <tr>\n",
       "      <th>b</th>\n",
       "      <td>1984.0</td>\n",
       "      <td>word</td>\n",
       "      <td>83.0</td>\n",
       "      <td>NaN</td>\n",
       "    </tr>\n",
       "    <tr>\n",
       "      <th>c</th>\n",
       "      <td>4.0</td>\n",
       "      <td>NaN</td>\n",
       "      <td>4.0</td>\n",
       "      <td>2.0</td>\n",
       "    </tr>\n",
       "    <tr>\n",
       "      <th>d</th>\n",
       "      <td>NaN</td>\n",
       "      <td>NaN</td>\n",
       "      <td>NaN</td>\n",
       "      <td>0.0</td>\n",
       "    </tr>\n",
       "  </tbody>\n",
       "</table>\n",
       "</div>"
      ],
      "text/plain": [
       "   feature1  feature2  feature3  feature4\n",
       "a      15.0  sentence       1.0       NaN\n",
       "b    1984.0      word      83.0       NaN\n",
       "c       4.0       NaN       4.0       2.0\n",
       "d       NaN       NaN       NaN       0.0"
      ]
     },
     "execution_count": 105,
     "metadata": {},
     "output_type": "execute_result"
    }
   ],
   "source": [
    "df5 = pd.DataFrame({\n",
    "    \"feature1\": {\"a\": 15, \"b\": 1984, \"c\": 4},\n",
    "    \"feature2\": {\"a\": \"sentence\", \"b\": \"word\"},\n",
    "    \"feature3\": {\"a\": 1, \"b\": 83, \"c\": 4},\n",
    "    \"feature4\": {\"c\": 2, \"d\": 0}\n",
    "})\n",
    "df5"
   ]
  },
  {
   "cell_type": "markdown",
   "metadata": {
    "id": "-UNsZVleir_2"
   },
   "source": [
    "### Multi-indexing\n",
    "If all columns/rows are tuples of the same size, then they are understood as a multi-index"
   ]
  },
  {
   "cell_type": "code",
   "execution_count": 106,
   "metadata": {
    "colab": {
     "base_uri": "https://localhost:8080/"
    },
    "id": "Cjl7Kuh2ir_2",
    "outputId": "f0476c74-ffe4-404d-c979-b456a015cb72"
   },
   "outputs": [
    {
     "data": {
      "text/html": [
       "<div>\n",
       "<style scoped>\n",
       "    .dataframe tbody tr th:only-of-type {\n",
       "        vertical-align: middle;\n",
       "    }\n",
       "\n",
       "    .dataframe tbody tr th {\n",
       "        vertical-align: top;\n",
       "    }\n",
       "\n",
       "    .dataframe thead tr th {\n",
       "        text-align: left;\n",
       "    }\n",
       "</style>\n",
       "<table border=\"1\" class=\"dataframe\">\n",
       "  <thead>\n",
       "    <tr>\n",
       "      <th></th>\n",
       "      <th></th>\n",
       "      <th colspan=\"2\" halign=\"left\">features12</th>\n",
       "      <th colspan=\"2\" halign=\"left\">features34</th>\n",
       "    </tr>\n",
       "    <tr>\n",
       "      <th></th>\n",
       "      <th></th>\n",
       "      <th>feature1</th>\n",
       "      <th>feature2</th>\n",
       "      <th>feature3</th>\n",
       "      <th>feature4</th>\n",
       "    </tr>\n",
       "  </thead>\n",
       "  <tbody>\n",
       "    <tr>\n",
       "      <th rowspan=\"2\" valign=\"top\">rows_ab</th>\n",
       "      <th>a</th>\n",
       "      <td>444</td>\n",
       "      <td>111.0</td>\n",
       "      <td>555</td>\n",
       "      <td>333</td>\n",
       "    </tr>\n",
       "    <tr>\n",
       "      <th>b</th>\n",
       "      <td>444</td>\n",
       "      <td>222.0</td>\n",
       "      <td>333</td>\n",
       "      <td>999</td>\n",
       "    </tr>\n",
       "    <tr>\n",
       "      <th>rows_c</th>\n",
       "      <th>c</th>\n",
       "      <td>666</td>\n",
       "      <td>NaN</td>\n",
       "      <td>777</td>\n",
       "      <td>888</td>\n",
       "    </tr>\n",
       "  </tbody>\n",
       "</table>\n",
       "</div>"
      ],
      "text/plain": [
       "          features12          features34         \n",
       "            feature1 feature2   feature3 feature4\n",
       "rows_ab a        444    111.0        555      333\n",
       "        b        444    222.0        333      999\n",
       "rows_c  c        666      NaN        777      888"
      ]
     },
     "execution_count": 106,
     "metadata": {},
     "output_type": "execute_result"
    }
   ],
   "source": [
    "df5 = pd.DataFrame(\n",
    "  {\n",
    "    (\"features12\", \"feature1\"):\n",
    "        {(\"rows_ab\",\"a\"): 444, (\"rows_ab\",\"b\"): 444, (\"rows_c\",\"c\"): 666},\n",
    "    (\"features12\", \"feature2\"):\n",
    "        {(\"rows_ab\",\"a\"): 111, (\"rows_ab\",\"b\"): 222},\n",
    "    (\"features34\", \"feature3\"):\n",
    "        {(\"rows_ab\",\"a\"): 555, (\"rows_ab\",\"b\"): 333, (\"rows_c\",\"c\"): 777},\n",
    "    (\"features34\", \"feature4\"):\n",
    "        {(\"rows_ab\", \"a\"):333, (\"rows_ab\",\"b\"): 999, (\"rows_c\",\"c\"): 888}\n",
    "  }\n",
    ")\n",
    "df5"
   ]
  },
  {
   "cell_type": "code",
   "execution_count": 107,
   "metadata": {
    "colab": {
     "base_uri": "https://localhost:8080/"
    },
    "id": "qcqltleFir_2",
    "outputId": "eeb07cba-d720-4b19-e4f3-d004371101b5"
   },
   "outputs": [
    {
     "data": {
      "text/html": [
       "<div>\n",
       "<style scoped>\n",
       "    .dataframe tbody tr th:only-of-type {\n",
       "        vertical-align: middle;\n",
       "    }\n",
       "\n",
       "    .dataframe tbody tr th {\n",
       "        vertical-align: top;\n",
       "    }\n",
       "\n",
       "    .dataframe thead th {\n",
       "        text-align: right;\n",
       "    }\n",
       "</style>\n",
       "<table border=\"1\" class=\"dataframe\">\n",
       "  <thead>\n",
       "    <tr style=\"text-align: right;\">\n",
       "      <th></th>\n",
       "      <th></th>\n",
       "      <th>feature1</th>\n",
       "      <th>feature2</th>\n",
       "    </tr>\n",
       "  </thead>\n",
       "  <tbody>\n",
       "    <tr>\n",
       "      <th rowspan=\"2\" valign=\"top\">rows_ab</th>\n",
       "      <th>a</th>\n",
       "      <td>444</td>\n",
       "      <td>111.0</td>\n",
       "    </tr>\n",
       "    <tr>\n",
       "      <th>b</th>\n",
       "      <td>444</td>\n",
       "      <td>222.0</td>\n",
       "    </tr>\n",
       "    <tr>\n",
       "      <th>rows_c</th>\n",
       "      <th>c</th>\n",
       "      <td>666</td>\n",
       "      <td>NaN</td>\n",
       "    </tr>\n",
       "  </tbody>\n",
       "</table>\n",
       "</div>"
      ],
      "text/plain": [
       "           feature1  feature2\n",
       "rows_ab a       444     111.0\n",
       "        b       444     222.0\n",
       "rows_c  c       666       NaN"
      ]
     },
     "execution_count": 107,
     "metadata": {},
     "output_type": "execute_result"
    }
   ],
   "source": [
    "df5['features12']"
   ]
  },
  {
   "cell_type": "code",
   "execution_count": 108,
   "metadata": {
    "colab": {
     "base_uri": "https://localhost:8080/"
    },
    "id": "iivPY4p0x4RB",
    "outputId": "8b0f3abd-4bf6-4752-9297-0f62b060d9ad"
   },
   "outputs": [
    {
     "data": {
      "text/plain": [
       "rows_ab  a    444\n",
       "         b    444\n",
       "rows_c   c    666\n",
       "Name: (features12, feature1), dtype: int64"
      ]
     },
     "execution_count": 108,
     "metadata": {},
     "output_type": "execute_result"
    }
   ],
   "source": [
    "df5['features12','feature1']"
   ]
  },
  {
   "cell_type": "code",
   "execution_count": 109,
   "metadata": {
    "colab": {
     "base_uri": "https://localhost:8080/"
    },
    "id": "dXShyy9fx8-j",
    "outputId": "78eba866-d350-4387-86f1-ccaa02ec4b38"
   },
   "outputs": [
    {
     "data": {
      "text/plain": [
       "c    666\n",
       "Name: (features12, feature1), dtype: int64"
      ]
     },
     "execution_count": 109,
     "metadata": {},
     "output_type": "execute_result"
    }
   ],
   "source": [
    "df5['features12','feature1']['rows_c']"
   ]
  },
  {
   "cell_type": "code",
   "execution_count": 110,
   "metadata": {
    "colab": {
     "base_uri": "https://localhost:8080/"
    },
    "id": "aosPWY0Rir_2",
    "outputId": "09d8384b-7f7e-4c67-ebf4-edd7d6a37990"
   },
   "outputs": [
    {
     "data": {
      "text/html": [
       "<div>\n",
       "<style scoped>\n",
       "    .dataframe tbody tr th:only-of-type {\n",
       "        vertical-align: middle;\n",
       "    }\n",
       "\n",
       "    .dataframe tbody tr th {\n",
       "        vertical-align: top;\n",
       "    }\n",
       "\n",
       "    .dataframe thead tr th {\n",
       "        text-align: left;\n",
       "    }\n",
       "</style>\n",
       "<table border=\"1\" class=\"dataframe\">\n",
       "  <thead>\n",
       "    <tr>\n",
       "      <th></th>\n",
       "      <th colspan=\"2\" halign=\"left\">features12</th>\n",
       "      <th colspan=\"2\" halign=\"left\">features34</th>\n",
       "    </tr>\n",
       "    <tr>\n",
       "      <th></th>\n",
       "      <th>feature1</th>\n",
       "      <th>feature2</th>\n",
       "      <th>feature3</th>\n",
       "      <th>feature4</th>\n",
       "    </tr>\n",
       "  </thead>\n",
       "  <tbody>\n",
       "    <tr>\n",
       "      <th>c</th>\n",
       "      <td>666</td>\n",
       "      <td>NaN</td>\n",
       "      <td>777</td>\n",
       "      <td>888</td>\n",
       "    </tr>\n",
       "  </tbody>\n",
       "</table>\n",
       "</div>"
      ],
      "text/plain": [
       "  features12          features34         \n",
       "    feature1 feature2   feature3 feature4\n",
       "c        666      NaN        777      888"
      ]
     },
     "execution_count": 110,
     "metadata": {},
     "output_type": "execute_result"
    }
   ],
   "source": [
    "df5.loc['rows_c']"
   ]
  },
  {
   "cell_type": "code",
   "execution_count": 111,
   "metadata": {
    "colab": {
     "base_uri": "https://localhost:8080/"
    },
    "id": "bVhGtixEyJBA",
    "outputId": "23f7610d-5b05-44a5-a4a7-235efda23472"
   },
   "outputs": [
    {
     "data": {
      "text/html": [
       "<div>\n",
       "<style scoped>\n",
       "    .dataframe tbody tr th:only-of-type {\n",
       "        vertical-align: middle;\n",
       "    }\n",
       "\n",
       "    .dataframe tbody tr th {\n",
       "        vertical-align: top;\n",
       "    }\n",
       "\n",
       "    .dataframe thead th {\n",
       "        text-align: right;\n",
       "    }\n",
       "</style>\n",
       "<table border=\"1\" class=\"dataframe\">\n",
       "  <thead>\n",
       "    <tr style=\"text-align: right;\">\n",
       "      <th></th>\n",
       "      <th>feature1</th>\n",
       "      <th>feature2</th>\n",
       "    </tr>\n",
       "  </thead>\n",
       "  <tbody>\n",
       "    <tr>\n",
       "      <th>a</th>\n",
       "      <td>444</td>\n",
       "      <td>111.0</td>\n",
       "    </tr>\n",
       "    <tr>\n",
       "      <th>b</th>\n",
       "      <td>444</td>\n",
       "      <td>222.0</td>\n",
       "    </tr>\n",
       "  </tbody>\n",
       "</table>\n",
       "</div>"
      ],
      "text/plain": [
       "   feature1  feature2\n",
       "a       444     111.0\n",
       "b       444     222.0"
      ]
     },
     "execution_count": 111,
     "metadata": {},
     "output_type": "execute_result"
    }
   ],
   "source": [
    "df5.loc['rows_ab','features12']"
   ]
  },
  {
   "cell_type": "markdown",
   "metadata": {
    "id": "dN7u9bRCir_2"
   },
   "source": [
    "### Dropping a level\n"
   ]
  },
  {
   "cell_type": "code",
   "execution_count": 112,
   "metadata": {
    "colab": {
     "base_uri": "https://localhost:8080/"
    },
    "id": "jwBK0PIWyZDZ",
    "outputId": "2f869eb8-38a2-413a-b7e4-c6b176cc5537"
   },
   "outputs": [
    {
     "data": {
      "text/html": [
       "<div>\n",
       "<style scoped>\n",
       "    .dataframe tbody tr th:only-of-type {\n",
       "        vertical-align: middle;\n",
       "    }\n",
       "\n",
       "    .dataframe tbody tr th {\n",
       "        vertical-align: top;\n",
       "    }\n",
       "\n",
       "    .dataframe thead th {\n",
       "        text-align: right;\n",
       "    }\n",
       "</style>\n",
       "<table border=\"1\" class=\"dataframe\">\n",
       "  <thead>\n",
       "    <tr style=\"text-align: right;\">\n",
       "      <th></th>\n",
       "      <th></th>\n",
       "      <th>feature1</th>\n",
       "      <th>feature2</th>\n",
       "      <th>feature3</th>\n",
       "      <th>feature4</th>\n",
       "    </tr>\n",
       "  </thead>\n",
       "  <tbody>\n",
       "    <tr>\n",
       "      <th rowspan=\"2\" valign=\"top\">rows_ab</th>\n",
       "      <th>a</th>\n",
       "      <td>444</td>\n",
       "      <td>111.0</td>\n",
       "      <td>555</td>\n",
       "      <td>333</td>\n",
       "    </tr>\n",
       "    <tr>\n",
       "      <th>b</th>\n",
       "      <td>444</td>\n",
       "      <td>222.0</td>\n",
       "      <td>333</td>\n",
       "      <td>999</td>\n",
       "    </tr>\n",
       "    <tr>\n",
       "      <th>rows_c</th>\n",
       "      <th>c</th>\n",
       "      <td>666</td>\n",
       "      <td>NaN</td>\n",
       "      <td>777</td>\n",
       "      <td>888</td>\n",
       "    </tr>\n",
       "  </tbody>\n",
       "</table>\n",
       "</div>"
      ],
      "text/plain": [
       "           feature1  feature2  feature3  feature4\n",
       "rows_ab a       444     111.0       555       333\n",
       "        b       444     222.0       333       999\n",
       "rows_c  c       666       NaN       777       888"
      ]
     },
     "execution_count": 112,
     "metadata": {},
     "output_type": "execute_result"
    }
   ],
   "source": [
    "df5.columns = df5.columns.droplevel(level = 0); \n",
    "df5"
   ]
  },
  {
   "cell_type": "markdown",
   "metadata": {
    "id": "QUZ9N-Iair_3"
   },
   "source": [
    "### Transposing\n",
    "swaping columns and indices"
   ]
  },
  {
   "cell_type": "code",
   "execution_count": 113,
   "metadata": {
    "colab": {
     "base_uri": "https://localhost:8080/"
    },
    "id": "Lp90TSksir_3",
    "outputId": "ecfe6aff-4add-4ee1-eb91-f1ee11a412ff"
   },
   "outputs": [
    {
     "data": {
      "text/html": [
       "<div>\n",
       "<style scoped>\n",
       "    .dataframe tbody tr th:only-of-type {\n",
       "        vertical-align: middle;\n",
       "    }\n",
       "\n",
       "    .dataframe tbody tr th {\n",
       "        vertical-align: top;\n",
       "    }\n",
       "\n",
       "    .dataframe thead tr th {\n",
       "        text-align: left;\n",
       "    }\n",
       "</style>\n",
       "<table border=\"1\" class=\"dataframe\">\n",
       "  <thead>\n",
       "    <tr>\n",
       "      <th></th>\n",
       "      <th colspan=\"2\" halign=\"left\">rows_ab</th>\n",
       "      <th>rows_c</th>\n",
       "    </tr>\n",
       "    <tr>\n",
       "      <th></th>\n",
       "      <th>a</th>\n",
       "      <th>b</th>\n",
       "      <th>c</th>\n",
       "    </tr>\n",
       "  </thead>\n",
       "  <tbody>\n",
       "    <tr>\n",
       "      <th>feature1</th>\n",
       "      <td>444.0</td>\n",
       "      <td>444.0</td>\n",
       "      <td>666.0</td>\n",
       "    </tr>\n",
       "    <tr>\n",
       "      <th>feature2</th>\n",
       "      <td>111.0</td>\n",
       "      <td>222.0</td>\n",
       "      <td>NaN</td>\n",
       "    </tr>\n",
       "    <tr>\n",
       "      <th>feature3</th>\n",
       "      <td>555.0</td>\n",
       "      <td>333.0</td>\n",
       "      <td>777.0</td>\n",
       "    </tr>\n",
       "    <tr>\n",
       "      <th>feature4</th>\n",
       "      <td>333.0</td>\n",
       "      <td>999.0</td>\n",
       "      <td>888.0</td>\n",
       "    </tr>\n",
       "  </tbody>\n",
       "</table>\n",
       "</div>"
      ],
      "text/plain": [
       "         rows_ab        rows_c\n",
       "               a      b      c\n",
       "feature1   444.0  444.0  666.0\n",
       "feature2   111.0  222.0    NaN\n",
       "feature3   555.0  333.0  777.0\n",
       "feature4   333.0  999.0  888.0"
      ]
     },
     "execution_count": 113,
     "metadata": {},
     "output_type": "execute_result"
    }
   ],
   "source": [
    "df6 = df5.T\n",
    "df6"
   ]
  },
  {
   "cell_type": "markdown",
   "metadata": {
    "id": "UmasKISAir_3"
   },
   "source": [
    "### Stacking and unstacking levels\n",
    "expanding the lowest column level as the lowest index"
   ]
  },
  {
   "cell_type": "code",
   "execution_count": 114,
   "metadata": {
    "colab": {
     "base_uri": "https://localhost:8080/"
    },
    "id": "1ZecT4LDir_3",
    "outputId": "c38970ff-a826-4b9b-c2c3-3f477b16d79b"
   },
   "outputs": [
    {
     "data": {
      "text/html": [
       "<div>\n",
       "<style scoped>\n",
       "    .dataframe tbody tr th:only-of-type {\n",
       "        vertical-align: middle;\n",
       "    }\n",
       "\n",
       "    .dataframe tbody tr th {\n",
       "        vertical-align: top;\n",
       "    }\n",
       "\n",
       "    .dataframe thead th {\n",
       "        text-align: right;\n",
       "    }\n",
       "</style>\n",
       "<table border=\"1\" class=\"dataframe\">\n",
       "  <thead>\n",
       "    <tr style=\"text-align: right;\">\n",
       "      <th></th>\n",
       "      <th></th>\n",
       "      <th>rows_ab</th>\n",
       "      <th>rows_c</th>\n",
       "    </tr>\n",
       "  </thead>\n",
       "  <tbody>\n",
       "    <tr>\n",
       "      <th rowspan=\"3\" valign=\"top\">feature1</th>\n",
       "      <th>a</th>\n",
       "      <td>444.0</td>\n",
       "      <td>NaN</td>\n",
       "    </tr>\n",
       "    <tr>\n",
       "      <th>b</th>\n",
       "      <td>444.0</td>\n",
       "      <td>NaN</td>\n",
       "    </tr>\n",
       "    <tr>\n",
       "      <th>c</th>\n",
       "      <td>NaN</td>\n",
       "      <td>666.0</td>\n",
       "    </tr>\n",
       "    <tr>\n",
       "      <th rowspan=\"2\" valign=\"top\">feature2</th>\n",
       "      <th>a</th>\n",
       "      <td>111.0</td>\n",
       "      <td>NaN</td>\n",
       "    </tr>\n",
       "    <tr>\n",
       "      <th>b</th>\n",
       "      <td>222.0</td>\n",
       "      <td>NaN</td>\n",
       "    </tr>\n",
       "    <tr>\n",
       "      <th rowspan=\"3\" valign=\"top\">feature3</th>\n",
       "      <th>a</th>\n",
       "      <td>555.0</td>\n",
       "      <td>NaN</td>\n",
       "    </tr>\n",
       "    <tr>\n",
       "      <th>b</th>\n",
       "      <td>333.0</td>\n",
       "      <td>NaN</td>\n",
       "    </tr>\n",
       "    <tr>\n",
       "      <th>c</th>\n",
       "      <td>NaN</td>\n",
       "      <td>777.0</td>\n",
       "    </tr>\n",
       "    <tr>\n",
       "      <th rowspan=\"3\" valign=\"top\">feature4</th>\n",
       "      <th>a</th>\n",
       "      <td>333.0</td>\n",
       "      <td>NaN</td>\n",
       "    </tr>\n",
       "    <tr>\n",
       "      <th>b</th>\n",
       "      <td>999.0</td>\n",
       "      <td>NaN</td>\n",
       "    </tr>\n",
       "    <tr>\n",
       "      <th>c</th>\n",
       "      <td>NaN</td>\n",
       "      <td>888.0</td>\n",
       "    </tr>\n",
       "  </tbody>\n",
       "</table>\n",
       "</div>"
      ],
      "text/plain": [
       "            rows_ab  rows_c\n",
       "feature1 a    444.0     NaN\n",
       "         b    444.0     NaN\n",
       "         c      NaN   666.0\n",
       "feature2 a    111.0     NaN\n",
       "         b    222.0     NaN\n",
       "feature3 a    555.0     NaN\n",
       "         b    333.0     NaN\n",
       "         c      NaN   777.0\n",
       "feature4 a    333.0     NaN\n",
       "         b    999.0     NaN\n",
       "         c      NaN   888.0"
      ]
     },
     "execution_count": 114,
     "metadata": {},
     "output_type": "execute_result"
    }
   ],
   "source": [
    "df7 = df6.stack()\n",
    "df7"
   ]
  },
  {
   "cell_type": "code",
   "execution_count": 115,
   "metadata": {
    "colab": {
     "base_uri": "https://localhost:8080/"
    },
    "id": "fPsqkcdmir_3",
    "outputId": "6999cd42-e9b7-4851-f9b5-25d0612ea72d"
   },
   "outputs": [
    {
     "data": {
      "text/html": [
       "<div>\n",
       "<style scoped>\n",
       "    .dataframe tbody tr th:only-of-type {\n",
       "        vertical-align: middle;\n",
       "    }\n",
       "\n",
       "    .dataframe tbody tr th {\n",
       "        vertical-align: top;\n",
       "    }\n",
       "\n",
       "    .dataframe thead tr th {\n",
       "        text-align: left;\n",
       "    }\n",
       "</style>\n",
       "<table border=\"1\" class=\"dataframe\">\n",
       "  <thead>\n",
       "    <tr>\n",
       "      <th></th>\n",
       "      <th colspan=\"3\" halign=\"left\">rows_ab</th>\n",
       "      <th colspan=\"3\" halign=\"left\">rows_c</th>\n",
       "    </tr>\n",
       "    <tr>\n",
       "      <th></th>\n",
       "      <th>a</th>\n",
       "      <th>b</th>\n",
       "      <th>c</th>\n",
       "      <th>a</th>\n",
       "      <th>b</th>\n",
       "      <th>c</th>\n",
       "    </tr>\n",
       "  </thead>\n",
       "  <tbody>\n",
       "    <tr>\n",
       "      <th>feature1</th>\n",
       "      <td>444.0</td>\n",
       "      <td>444.0</td>\n",
       "      <td>NaN</td>\n",
       "      <td>NaN</td>\n",
       "      <td>NaN</td>\n",
       "      <td>666.0</td>\n",
       "    </tr>\n",
       "    <tr>\n",
       "      <th>feature2</th>\n",
       "      <td>111.0</td>\n",
       "      <td>222.0</td>\n",
       "      <td>NaN</td>\n",
       "      <td>NaN</td>\n",
       "      <td>NaN</td>\n",
       "      <td>NaN</td>\n",
       "    </tr>\n",
       "    <tr>\n",
       "      <th>feature3</th>\n",
       "      <td>555.0</td>\n",
       "      <td>333.0</td>\n",
       "      <td>NaN</td>\n",
       "      <td>NaN</td>\n",
       "      <td>NaN</td>\n",
       "      <td>777.0</td>\n",
       "    </tr>\n",
       "    <tr>\n",
       "      <th>feature4</th>\n",
       "      <td>333.0</td>\n",
       "      <td>999.0</td>\n",
       "      <td>NaN</td>\n",
       "      <td>NaN</td>\n",
       "      <td>NaN</td>\n",
       "      <td>888.0</td>\n",
       "    </tr>\n",
       "  </tbody>\n",
       "</table>\n",
       "</div>"
      ],
      "text/plain": [
       "         rows_ab            rows_c           \n",
       "               a      b   c      a   b      c\n",
       "feature1   444.0  444.0 NaN    NaN NaN  666.0\n",
       "feature2   111.0  222.0 NaN    NaN NaN    NaN\n",
       "feature3   555.0  333.0 NaN    NaN NaN  777.0\n",
       "feature4   333.0  999.0 NaN    NaN NaN  888.0"
      ]
     },
     "execution_count": 115,
     "metadata": {},
     "output_type": "execute_result"
    }
   ],
   "source": [
    "df8 = df7.unstack()\n",
    "df8"
   ]
  },
  {
   "cell_type": "markdown",
   "metadata": {
    "id": "48mWIosmir_3"
   },
   "source": [
    "If we call unstack again, we end up with a Series object"
   ]
  },
  {
   "cell_type": "code",
   "execution_count": 116,
   "metadata": {
    "colab": {
     "base_uri": "https://localhost:8080/"
    },
    "id": "M8wiZiOKir_4",
    "outputId": "07ed792a-d587-43de-8927-3550c4abf143"
   },
   "outputs": [
    {
     "data": {
      "text/plain": [
       "rows_ab  a  feature1    444.0\n",
       "            feature2    111.0\n",
       "            feature3    555.0\n",
       "            feature4    333.0\n",
       "         b  feature1    444.0\n",
       "            feature2    222.0\n",
       "            feature3    333.0\n",
       "            feature4    999.0\n",
       "         c  feature1      NaN\n",
       "            feature2      NaN\n",
       "            feature3      NaN\n",
       "            feature4      NaN\n",
       "rows_c   a  feature1      NaN\n",
       "            feature2      NaN\n",
       "            feature3      NaN\n",
       "            feature4      NaN\n",
       "         b  feature1      NaN\n",
       "            feature2      NaN\n",
       "            feature3      NaN\n",
       "            feature4      NaN\n",
       "         c  feature1    666.0\n",
       "            feature2      NaN\n",
       "            feature3    777.0\n",
       "            feature4    888.0\n",
       "dtype: float64"
      ]
     },
     "execution_count": 116,
     "metadata": {},
     "output_type": "execute_result"
    }
   ],
   "source": [
    "df9 = df8.unstack()\n",
    "df9"
   ]
  },
  {
   "cell_type": "markdown",
   "metadata": {
    "id": "6bVoNoo9ir_4"
   },
   "source": [
    "### Accessing rows"
   ]
  },
  {
   "cell_type": "code",
   "execution_count": 117,
   "metadata": {
    "colab": {
     "base_uri": "https://localhost:8080/"
    },
    "id": "s0Jdqr_vir_4",
    "outputId": "5a295907-8213-4619-c9f1-4fe10f0563f5"
   },
   "outputs": [
    {
     "data": {
      "text/html": [
       "<div>\n",
       "<style scoped>\n",
       "    .dataframe tbody tr th:only-of-type {\n",
       "        vertical-align: middle;\n",
       "    }\n",
       "\n",
       "    .dataframe tbody tr th {\n",
       "        vertical-align: top;\n",
       "    }\n",
       "\n",
       "    .dataframe thead th {\n",
       "        text-align: right;\n",
       "    }\n",
       "</style>\n",
       "<table border=\"1\" class=\"dataframe\">\n",
       "  <thead>\n",
       "    <tr style=\"text-align: right;\">\n",
       "      <th></th>\n",
       "      <th>feature1</th>\n",
       "      <th>feature2</th>\n",
       "      <th>feature3</th>\n",
       "      <th>feature4</th>\n",
       "    </tr>\n",
       "  </thead>\n",
       "  <tbody>\n",
       "    <tr>\n",
       "      <th>a</th>\n",
       "      <td>1</td>\n",
       "      <td>5</td>\n",
       "      <td>NaN</td>\n",
       "      <td>9.0</td>\n",
       "    </tr>\n",
       "    <tr>\n",
       "      <th>b</th>\n",
       "      <td>2</td>\n",
       "      <td>4</td>\n",
       "      <td>8.0</td>\n",
       "      <td>10.0</td>\n",
       "    </tr>\n",
       "    <tr>\n",
       "      <th>c</th>\n",
       "      <td>3</td>\n",
       "      <td>6</td>\n",
       "      <td>7.0</td>\n",
       "      <td>NaN</td>\n",
       "    </tr>\n",
       "  </tbody>\n",
       "</table>\n",
       "</div>"
      ],
      "text/plain": [
       "   feature1  feature2  feature3  feature4\n",
       "a         1         5       NaN       9.0\n",
       "b         2         4       8.0      10.0\n",
       "c         3         6       7.0       NaN"
      ]
     },
     "execution_count": 117,
     "metadata": {},
     "output_type": "execute_result"
    }
   ],
   "source": [
    "df"
   ]
  },
  {
   "cell_type": "code",
   "execution_count": 118,
   "metadata": {
    "colab": {
     "base_uri": "https://localhost:8080/"
    },
    "id": "qulXpYruir_4",
    "outputId": "907c0688-8773-4c77-a91d-4990560b1e75"
   },
   "outputs": [
    {
     "data": {
      "text/plain": [
       "feature1    3.0\n",
       "feature2    6.0\n",
       "feature3    7.0\n",
       "feature4    NaN\n",
       "Name: c, dtype: float64"
      ]
     },
     "execution_count": 118,
     "metadata": {},
     "output_type": "execute_result"
    }
   ],
   "source": [
    "df.loc[\"c\"] #access the c row"
   ]
  },
  {
   "cell_type": "code",
   "execution_count": 119,
   "metadata": {
    "colab": {
     "base_uri": "https://localhost:8080/"
    },
    "id": "PX1UJcUJir_5",
    "outputId": "4a428bda-45d9-44cf-99c0-dea1f97a3609"
   },
   "outputs": [
    {
     "data": {
      "text/plain": [
       "feature1    3.0\n",
       "feature2    6.0\n",
       "feature3    7.0\n",
       "feature4    NaN\n",
       "Name: c, dtype: float64"
      ]
     },
     "execution_count": 119,
     "metadata": {},
     "output_type": "execute_result"
    }
   ],
   "source": [
    "df.iloc[2] #access the 2nd column"
   ]
  },
  {
   "cell_type": "markdown",
   "metadata": {
    "id": "qfEqP6Ntir_5"
   },
   "source": [
    "slice of rows"
   ]
  },
  {
   "cell_type": "code",
   "execution_count": 120,
   "metadata": {
    "colab": {
     "base_uri": "https://localhost:8080/"
    },
    "id": "tM1WFx0cir_5",
    "outputId": "6f08cf6b-07db-4c95-98a8-181ceff9426a"
   },
   "outputs": [
    {
     "data": {
      "text/html": [
       "<div>\n",
       "<style scoped>\n",
       "    .dataframe tbody tr th:only-of-type {\n",
       "        vertical-align: middle;\n",
       "    }\n",
       "\n",
       "    .dataframe tbody tr th {\n",
       "        vertical-align: top;\n",
       "    }\n",
       "\n",
       "    .dataframe thead th {\n",
       "        text-align: right;\n",
       "    }\n",
       "</style>\n",
       "<table border=\"1\" class=\"dataframe\">\n",
       "  <thead>\n",
       "    <tr style=\"text-align: right;\">\n",
       "      <th></th>\n",
       "      <th>feature1</th>\n",
       "      <th>feature2</th>\n",
       "      <th>feature3</th>\n",
       "      <th>feature4</th>\n",
       "    </tr>\n",
       "  </thead>\n",
       "  <tbody>\n",
       "    <tr>\n",
       "      <th>b</th>\n",
       "      <td>2</td>\n",
       "      <td>4</td>\n",
       "      <td>8.0</td>\n",
       "      <td>10.0</td>\n",
       "    </tr>\n",
       "    <tr>\n",
       "      <th>c</th>\n",
       "      <td>3</td>\n",
       "      <td>6</td>\n",
       "      <td>7.0</td>\n",
       "      <td>NaN</td>\n",
       "    </tr>\n",
       "  </tbody>\n",
       "</table>\n",
       "</div>"
      ],
      "text/plain": [
       "   feature1  feature2  feature3  feature4\n",
       "b         2         4       8.0      10.0\n",
       "c         3         6       7.0       NaN"
      ]
     },
     "execution_count": 120,
     "metadata": {},
     "output_type": "execute_result"
    }
   ],
   "source": [
    "df.iloc[1:3]"
   ]
  },
  {
   "cell_type": "markdown",
   "metadata": {
    "id": "XfzJ14EWir_5"
   },
   "source": [
    "slice rows using boolean array\n",
    "\n",
    "\n"
   ]
  },
  {
   "cell_type": "code",
   "execution_count": 121,
   "metadata": {
    "colab": {
     "base_uri": "https://localhost:8080/"
    },
    "id": "5v_ILTWwir_5",
    "outputId": "2cafdf28-7bbe-4034-cc50-5722cc3172d3"
   },
   "outputs": [
    {
     "data": {
      "text/html": [
       "<div>\n",
       "<style scoped>\n",
       "    .dataframe tbody tr th:only-of-type {\n",
       "        vertical-align: middle;\n",
       "    }\n",
       "\n",
       "    .dataframe tbody tr th {\n",
       "        vertical-align: top;\n",
       "    }\n",
       "\n",
       "    .dataframe thead th {\n",
       "        text-align: right;\n",
       "    }\n",
       "</style>\n",
       "<table border=\"1\" class=\"dataframe\">\n",
       "  <thead>\n",
       "    <tr style=\"text-align: right;\">\n",
       "      <th></th>\n",
       "      <th>feature1</th>\n",
       "      <th>feature2</th>\n",
       "      <th>feature3</th>\n",
       "      <th>feature4</th>\n",
       "    </tr>\n",
       "  </thead>\n",
       "  <tbody>\n",
       "    <tr>\n",
       "      <th>a</th>\n",
       "      <td>1</td>\n",
       "      <td>5</td>\n",
       "      <td>NaN</td>\n",
       "      <td>9.0</td>\n",
       "    </tr>\n",
       "    <tr>\n",
       "      <th>c</th>\n",
       "      <td>3</td>\n",
       "      <td>6</td>\n",
       "      <td>7.0</td>\n",
       "      <td>NaN</td>\n",
       "    </tr>\n",
       "  </tbody>\n",
       "</table>\n",
       "</div>"
      ],
      "text/plain": [
       "   feature1  feature2  feature3  feature4\n",
       "a         1         5       NaN       9.0\n",
       "c         3         6       7.0       NaN"
      ]
     },
     "execution_count": 121,
     "metadata": {},
     "output_type": "execute_result"
    }
   ],
   "source": [
    "df[np.array([True, False, True])]"
   ]
  },
  {
   "cell_type": "markdown",
   "metadata": {
    "id": "2OA0fg39ir_5"
   },
   "source": [
    "This is most useful when combined with boolean expressions:"
   ]
  },
  {
   "cell_type": "code",
   "execution_count": 122,
   "metadata": {
    "colab": {
     "base_uri": "https://localhost:8080/"
    },
    "id": "9rGMH8Dyir_5",
    "outputId": "2a89b60c-5d79-4c60-dd70-4aeb772899bb"
   },
   "outputs": [
    {
     "data": {
      "text/html": [
       "<div>\n",
       "<style scoped>\n",
       "    .dataframe tbody tr th:only-of-type {\n",
       "        vertical-align: middle;\n",
       "    }\n",
       "\n",
       "    .dataframe tbody tr th {\n",
       "        vertical-align: top;\n",
       "    }\n",
       "\n",
       "    .dataframe thead th {\n",
       "        text-align: right;\n",
       "    }\n",
       "</style>\n",
       "<table border=\"1\" class=\"dataframe\">\n",
       "  <thead>\n",
       "    <tr style=\"text-align: right;\">\n",
       "      <th></th>\n",
       "      <th>feature1</th>\n",
       "      <th>feature2</th>\n",
       "      <th>feature3</th>\n",
       "      <th>feature4</th>\n",
       "    </tr>\n",
       "  </thead>\n",
       "  <tbody>\n",
       "    <tr>\n",
       "      <th>a</th>\n",
       "      <td>1</td>\n",
       "      <td>5</td>\n",
       "      <td>NaN</td>\n",
       "      <td>9.0</td>\n",
       "    </tr>\n",
       "    <tr>\n",
       "      <th>b</th>\n",
       "      <td>2</td>\n",
       "      <td>4</td>\n",
       "      <td>8.0</td>\n",
       "      <td>10.0</td>\n",
       "    </tr>\n",
       "  </tbody>\n",
       "</table>\n",
       "</div>"
      ],
      "text/plain": [
       "   feature1  feature2  feature3  feature4\n",
       "a         1         5       NaN       9.0\n",
       "b         2         4       8.0      10.0"
      ]
     },
     "execution_count": 122,
     "metadata": {},
     "output_type": "execute_result"
    }
   ],
   "source": [
    "df[df[\"feature2\"] <=5]"
   ]
  },
  {
   "cell_type": "markdown",
   "metadata": {
    "id": "VGfrqxIeir_6"
   },
   "source": [
    "### Adding and removing columns"
   ]
  },
  {
   "cell_type": "code",
   "execution_count": 123,
   "metadata": {
    "colab": {
     "base_uri": "https://localhost:8080/"
    },
    "id": "GH-1d9ACir_6",
    "outputId": "7cf3216e-f323-4bbc-8f1e-4e9c1d9281fb"
   },
   "outputs": [
    {
     "data": {
      "text/html": [
       "<div>\n",
       "<style scoped>\n",
       "    .dataframe tbody tr th:only-of-type {\n",
       "        vertical-align: middle;\n",
       "    }\n",
       "\n",
       "    .dataframe tbody tr th {\n",
       "        vertical-align: top;\n",
       "    }\n",
       "\n",
       "    .dataframe thead th {\n",
       "        text-align: right;\n",
       "    }\n",
       "</style>\n",
       "<table border=\"1\" class=\"dataframe\">\n",
       "  <thead>\n",
       "    <tr style=\"text-align: right;\">\n",
       "      <th></th>\n",
       "      <th>feature1</th>\n",
       "      <th>feature2</th>\n",
       "      <th>feature3</th>\n",
       "      <th>feature4</th>\n",
       "    </tr>\n",
       "  </thead>\n",
       "  <tbody>\n",
       "    <tr>\n",
       "      <th>a</th>\n",
       "      <td>1</td>\n",
       "      <td>5</td>\n",
       "      <td>NaN</td>\n",
       "      <td>9.0</td>\n",
       "    </tr>\n",
       "    <tr>\n",
       "      <th>b</th>\n",
       "      <td>2</td>\n",
       "      <td>4</td>\n",
       "      <td>8.0</td>\n",
       "      <td>10.0</td>\n",
       "    </tr>\n",
       "    <tr>\n",
       "      <th>c</th>\n",
       "      <td>3</td>\n",
       "      <td>6</td>\n",
       "      <td>7.0</td>\n",
       "      <td>NaN</td>\n",
       "    </tr>\n",
       "  </tbody>\n",
       "</table>\n",
       "</div>"
      ],
      "text/plain": [
       "   feature1  feature2  feature3  feature4\n",
       "a         1         5       NaN       9.0\n",
       "b         2         4       8.0      10.0\n",
       "c         3         6       7.0       NaN"
      ]
     },
     "execution_count": 123,
     "metadata": {},
     "output_type": "execute_result"
    }
   ],
   "source": [
    "df"
   ]
  },
  {
   "cell_type": "code",
   "execution_count": 124,
   "metadata": {
    "colab": {
     "base_uri": "https://localhost:8080/"
    },
    "id": "vAU-UJhf2B2S",
    "outputId": "1168b34d-29ef-4f33-a876-fbaacf577c45"
   },
   "outputs": [
    {
     "data": {
      "text/html": [
       "<div>\n",
       "<style scoped>\n",
       "    .dataframe tbody tr th:only-of-type {\n",
       "        vertical-align: middle;\n",
       "    }\n",
       "\n",
       "    .dataframe tbody tr th {\n",
       "        vertical-align: top;\n",
       "    }\n",
       "\n",
       "    .dataframe thead th {\n",
       "        text-align: right;\n",
       "    }\n",
       "</style>\n",
       "<table border=\"1\" class=\"dataframe\">\n",
       "  <thead>\n",
       "    <tr style=\"text-align: right;\">\n",
       "      <th></th>\n",
       "      <th>feature1</th>\n",
       "      <th>feature2</th>\n",
       "      <th>feature3</th>\n",
       "      <th>feature4</th>\n",
       "      <th>feature5</th>\n",
       "      <th>feature6</th>\n",
       "    </tr>\n",
       "  </thead>\n",
       "  <tbody>\n",
       "    <tr>\n",
       "      <th>a</th>\n",
       "      <td>1</td>\n",
       "      <td>5</td>\n",
       "      <td>NaN</td>\n",
       "      <td>9.0</td>\n",
       "      <td>0</td>\n",
       "      <td>False</td>\n",
       "    </tr>\n",
       "    <tr>\n",
       "      <th>b</th>\n",
       "      <td>2</td>\n",
       "      <td>4</td>\n",
       "      <td>8.0</td>\n",
       "      <td>10.0</td>\n",
       "      <td>1</td>\n",
       "      <td>True</td>\n",
       "    </tr>\n",
       "    <tr>\n",
       "      <th>c</th>\n",
       "      <td>3</td>\n",
       "      <td>6</td>\n",
       "      <td>7.0</td>\n",
       "      <td>NaN</td>\n",
       "      <td>-1</td>\n",
       "      <td>True</td>\n",
       "    </tr>\n",
       "  </tbody>\n",
       "</table>\n",
       "</div>"
      ],
      "text/plain": [
       "   feature1  feature2  feature3  feature4  feature5  feature6\n",
       "a         1         5       NaN       9.0         0     False\n",
       "b         2         4       8.0      10.0         1      True\n",
       "c         3         6       7.0       NaN        -1      True"
      ]
     },
     "execution_count": 124,
     "metadata": {},
     "output_type": "execute_result"
    }
   ],
   "source": [
    "df['feature5'] = 5 - df['feature2'] #adding a column\n",
    "df['feature6'] = df['feature3'] > 5\n",
    "df  "
   ]
  },
  {
   "cell_type": "code",
   "execution_count": 125,
   "metadata": {
    "colab": {
     "base_uri": "https://localhost:8080/"
    },
    "id": "NnvleFwt2ccB",
    "outputId": "c8abfdc8-32e1-40cd-9f38-407257e1fa62"
   },
   "outputs": [
    {
     "data": {
      "text/html": [
       "<div>\n",
       "<style scoped>\n",
       "    .dataframe tbody tr th:only-of-type {\n",
       "        vertical-align: middle;\n",
       "    }\n",
       "\n",
       "    .dataframe tbody tr th {\n",
       "        vertical-align: top;\n",
       "    }\n",
       "\n",
       "    .dataframe thead th {\n",
       "        text-align: right;\n",
       "    }\n",
       "</style>\n",
       "<table border=\"1\" class=\"dataframe\">\n",
       "  <thead>\n",
       "    <tr style=\"text-align: right;\">\n",
       "      <th></th>\n",
       "      <th>feature1</th>\n",
       "      <th>feature2</th>\n",
       "      <th>feature3</th>\n",
       "      <th>feature4</th>\n",
       "      <th>feature5</th>\n",
       "    </tr>\n",
       "  </thead>\n",
       "  <tbody>\n",
       "    <tr>\n",
       "      <th>a</th>\n",
       "      <td>1</td>\n",
       "      <td>5</td>\n",
       "      <td>NaN</td>\n",
       "      <td>9.0</td>\n",
       "      <td>0</td>\n",
       "    </tr>\n",
       "    <tr>\n",
       "      <th>b</th>\n",
       "      <td>2</td>\n",
       "      <td>4</td>\n",
       "      <td>8.0</td>\n",
       "      <td>10.0</td>\n",
       "      <td>1</td>\n",
       "    </tr>\n",
       "    <tr>\n",
       "      <th>c</th>\n",
       "      <td>3</td>\n",
       "      <td>6</td>\n",
       "      <td>7.0</td>\n",
       "      <td>NaN</td>\n",
       "      <td>-1</td>\n",
       "    </tr>\n",
       "  </tbody>\n",
       "</table>\n",
       "</div>"
      ],
      "text/plain": [
       "   feature1  feature2  feature3  feature4  feature5\n",
       "a         1         5       NaN       9.0         0\n",
       "b         2         4       8.0      10.0         1\n",
       "c         3         6       7.0       NaN        -1"
      ]
     },
     "execution_count": 125,
     "metadata": {},
     "output_type": "execute_result"
    }
   ],
   "source": [
    "del df['feature6']\n",
    "df"
   ]
  },
  {
   "cell_type": "code",
   "execution_count": 126,
   "metadata": {
    "colab": {
     "base_uri": "https://localhost:8080/"
    },
    "id": "d3nNrhfyir_7",
    "outputId": "40bbf6d2-3f00-4d3b-f834-a8b1994c2951"
   },
   "outputs": [
    {
     "data": {
      "text/html": [
       "<div>\n",
       "<style scoped>\n",
       "    .dataframe tbody tr th:only-of-type {\n",
       "        vertical-align: middle;\n",
       "    }\n",
       "\n",
       "    .dataframe tbody tr th {\n",
       "        vertical-align: top;\n",
       "    }\n",
       "\n",
       "    .dataframe thead th {\n",
       "        text-align: right;\n",
       "    }\n",
       "</style>\n",
       "<table border=\"1\" class=\"dataframe\">\n",
       "  <thead>\n",
       "    <tr style=\"text-align: right;\">\n",
       "      <th></th>\n",
       "      <th>feature1</th>\n",
       "      <th>feature2</th>\n",
       "      <th>feature3</th>\n",
       "      <th>feature4</th>\n",
       "      <th>feature5</th>\n",
       "      <th>feature6</th>\n",
       "    </tr>\n",
       "  </thead>\n",
       "  <tbody>\n",
       "    <tr>\n",
       "      <th>a</th>\n",
       "      <td>1</td>\n",
       "      <td>5</td>\n",
       "      <td>NaN</td>\n",
       "      <td>9.0</td>\n",
       "      <td>0</td>\n",
       "      <td>NaN</td>\n",
       "    </tr>\n",
       "    <tr>\n",
       "      <th>b</th>\n",
       "      <td>2</td>\n",
       "      <td>4</td>\n",
       "      <td>8.0</td>\n",
       "      <td>10.0</td>\n",
       "      <td>1</td>\n",
       "      <td>NaN</td>\n",
       "    </tr>\n",
       "    <tr>\n",
       "      <th>c</th>\n",
       "      <td>3</td>\n",
       "      <td>6</td>\n",
       "      <td>7.0</td>\n",
       "      <td>NaN</td>\n",
       "      <td>-1</td>\n",
       "      <td>NaN</td>\n",
       "    </tr>\n",
       "  </tbody>\n",
       "</table>\n",
       "</div>"
      ],
      "text/plain": [
       "   feature1  feature2  feature3  feature4  feature5  feature6\n",
       "a         1         5       NaN       9.0         0       NaN\n",
       "b         2         4       8.0      10.0         1       NaN\n",
       "c         3         6       7.0       NaN        -1       NaN"
      ]
     },
     "execution_count": 126,
     "metadata": {},
     "output_type": "execute_result"
    }
   ],
   "source": [
    "df[\"feature6\"] = pd.Series({\"feature2\": 1, \"feature4\": 51, \"feature1\":1}) \n",
    "df"
   ]
  },
  {
   "cell_type": "code",
   "execution_count": 127,
   "metadata": {
    "colab": {
     "base_uri": "https://localhost:8080/"
    },
    "id": "vtaO1NIEir_7",
    "outputId": "b34b5cfd-3490-470e-a585-98487f6a9776"
   },
   "outputs": [
    {
     "data": {
      "text/html": [
       "<div>\n",
       "<style scoped>\n",
       "    .dataframe tbody tr th:only-of-type {\n",
       "        vertical-align: middle;\n",
       "    }\n",
       "\n",
       "    .dataframe tbody tr th {\n",
       "        vertical-align: top;\n",
       "    }\n",
       "\n",
       "    .dataframe thead th {\n",
       "        text-align: right;\n",
       "    }\n",
       "</style>\n",
       "<table border=\"1\" class=\"dataframe\">\n",
       "  <thead>\n",
       "    <tr style=\"text-align: right;\">\n",
       "      <th></th>\n",
       "      <th>feature1</th>\n",
       "      <th>feature1b</th>\n",
       "      <th>feature2</th>\n",
       "      <th>feature3</th>\n",
       "      <th>feature4</th>\n",
       "      <th>feature5</th>\n",
       "      <th>feature6</th>\n",
       "    </tr>\n",
       "  </thead>\n",
       "  <tbody>\n",
       "    <tr>\n",
       "      <th>a</th>\n",
       "      <td>1</td>\n",
       "      <td>0</td>\n",
       "      <td>5</td>\n",
       "      <td>NaN</td>\n",
       "      <td>9.0</td>\n",
       "      <td>0</td>\n",
       "      <td>NaN</td>\n",
       "    </tr>\n",
       "    <tr>\n",
       "      <th>b</th>\n",
       "      <td>2</td>\n",
       "      <td>1</td>\n",
       "      <td>4</td>\n",
       "      <td>8.0</td>\n",
       "      <td>10.0</td>\n",
       "      <td>1</td>\n",
       "      <td>NaN</td>\n",
       "    </tr>\n",
       "    <tr>\n",
       "      <th>c</th>\n",
       "      <td>3</td>\n",
       "      <td>2</td>\n",
       "      <td>6</td>\n",
       "      <td>7.0</td>\n",
       "      <td>NaN</td>\n",
       "      <td>-1</td>\n",
       "      <td>NaN</td>\n",
       "    </tr>\n",
       "  </tbody>\n",
       "</table>\n",
       "</div>"
      ],
      "text/plain": [
       "   feature1  feature1b  feature2  feature3  feature4  feature5  feature6\n",
       "a         1          0         5       NaN       9.0         0       NaN\n",
       "b         2          1         4       8.0      10.0         1       NaN\n",
       "c         3          2         6       7.0       NaN        -1       NaN"
      ]
     },
     "execution_count": 127,
     "metadata": {},
     "output_type": "execute_result"
    }
   ],
   "source": [
    "df.insert(1, \"feature1b\", [0,1,2])\n",
    "df"
   ]
  },
  {
   "cell_type": "markdown",
   "metadata": {
    "id": "jNLnwqIqir_7"
   },
   "source": [
    "### Assigning new columns\n",
    "create a new DataFrame with new columns"
   ]
  },
  {
   "cell_type": "code",
   "execution_count": 128,
   "metadata": {
    "colab": {
     "base_uri": "https://localhost:8080/"
    },
    "id": "rb_NIihO43EZ",
    "outputId": "c9c69ef2-e4a8-4724-a76e-3f3cd9716496"
   },
   "outputs": [
    {
     "data": {
      "text/html": [
       "<div>\n",
       "<style scoped>\n",
       "    .dataframe tbody tr th:only-of-type {\n",
       "        vertical-align: middle;\n",
       "    }\n",
       "\n",
       "    .dataframe tbody tr th {\n",
       "        vertical-align: top;\n",
       "    }\n",
       "\n",
       "    .dataframe thead th {\n",
       "        text-align: right;\n",
       "    }\n",
       "</style>\n",
       "<table border=\"1\" class=\"dataframe\">\n",
       "  <thead>\n",
       "    <tr style=\"text-align: right;\">\n",
       "      <th></th>\n",
       "      <th>feature1</th>\n",
       "      <th>feature1b</th>\n",
       "      <th>feature2</th>\n",
       "      <th>feature3</th>\n",
       "      <th>feature4</th>\n",
       "      <th>feature5</th>\n",
       "      <th>feature6</th>\n",
       "    </tr>\n",
       "  </thead>\n",
       "  <tbody>\n",
       "    <tr>\n",
       "      <th>a</th>\n",
       "      <td>1</td>\n",
       "      <td>0</td>\n",
       "      <td>5</td>\n",
       "      <td>NaN</td>\n",
       "      <td>9.0</td>\n",
       "      <td>0</td>\n",
       "      <td>NaN</td>\n",
       "    </tr>\n",
       "    <tr>\n",
       "      <th>b</th>\n",
       "      <td>2</td>\n",
       "      <td>1</td>\n",
       "      <td>4</td>\n",
       "      <td>8.0</td>\n",
       "      <td>10.0</td>\n",
       "      <td>1</td>\n",
       "      <td>NaN</td>\n",
       "    </tr>\n",
       "    <tr>\n",
       "      <th>c</th>\n",
       "      <td>3</td>\n",
       "      <td>2</td>\n",
       "      <td>6</td>\n",
       "      <td>7.0</td>\n",
       "      <td>NaN</td>\n",
       "      <td>-1</td>\n",
       "      <td>NaN</td>\n",
       "    </tr>\n",
       "  </tbody>\n",
       "</table>\n",
       "</div>"
      ],
      "text/plain": [
       "   feature1  feature1b  feature2  feature3  feature4  feature5  feature6\n",
       "a         1          0         5       NaN       9.0         0       NaN\n",
       "b         2          1         4       8.0      10.0         1       NaN\n",
       "c         3          2         6       7.0       NaN        -1       NaN"
      ]
     },
     "execution_count": 128,
     "metadata": {},
     "output_type": "execute_result"
    }
   ],
   "source": [
    "df"
   ]
  },
  {
   "cell_type": "code",
   "execution_count": 129,
   "metadata": {
    "colab": {
     "base_uri": "https://localhost:8080/"
    },
    "id": "iMB8_kAFir_8",
    "outputId": "6e2edca1-8c91-44d4-f2f7-4e83a2b85507"
   },
   "outputs": [
    {
     "data": {
      "text/html": [
       "<div>\n",
       "<style scoped>\n",
       "    .dataframe tbody tr th:only-of-type {\n",
       "        vertical-align: middle;\n",
       "    }\n",
       "\n",
       "    .dataframe tbody tr th {\n",
       "        vertical-align: top;\n",
       "    }\n",
       "\n",
       "    .dataframe thead th {\n",
       "        text-align: right;\n",
       "    }\n",
       "</style>\n",
       "<table border=\"1\" class=\"dataframe\">\n",
       "  <thead>\n",
       "    <tr style=\"text-align: right;\">\n",
       "      <th></th>\n",
       "      <th>feature1</th>\n",
       "      <th>feature1b</th>\n",
       "      <th>feature2</th>\n",
       "      <th>feature3</th>\n",
       "      <th>feature4</th>\n",
       "      <th>feature5</th>\n",
       "      <th>feature6</th>\n",
       "      <th>feature0</th>\n",
       "    </tr>\n",
       "  </thead>\n",
       "  <tbody>\n",
       "    <tr>\n",
       "      <th>a</th>\n",
       "      <td>1</td>\n",
       "      <td>0</td>\n",
       "      <td>5</td>\n",
       "      <td>NaN</td>\n",
       "      <td>9.0</td>\n",
       "      <td>0</td>\n",
       "      <td>NaN</td>\n",
       "      <td>5</td>\n",
       "    </tr>\n",
       "    <tr>\n",
       "      <th>b</th>\n",
       "      <td>2</td>\n",
       "      <td>1</td>\n",
       "      <td>4</td>\n",
       "      <td>8.0</td>\n",
       "      <td>10.0</td>\n",
       "      <td>1</td>\n",
       "      <td>NaN</td>\n",
       "      <td>8</td>\n",
       "    </tr>\n",
       "    <tr>\n",
       "      <th>c</th>\n",
       "      <td>3</td>\n",
       "      <td>2</td>\n",
       "      <td>6</td>\n",
       "      <td>7.0</td>\n",
       "      <td>NaN</td>\n",
       "      <td>-1</td>\n",
       "      <td>NaN</td>\n",
       "      <td>18</td>\n",
       "    </tr>\n",
       "  </tbody>\n",
       "</table>\n",
       "</div>"
      ],
      "text/plain": [
       "   feature1  feature1b  feature2  feature3  feature4  feature5  feature6  \\\n",
       "a         1          0         5       NaN       9.0         0       NaN   \n",
       "b         2          1         4       8.0      10.0         1       NaN   \n",
       "c         3          2         6       7.0       NaN        -1       NaN   \n",
       "\n",
       "   feature0  \n",
       "a         5  \n",
       "b         8  \n",
       "c        18  "
      ]
     },
     "execution_count": 129,
     "metadata": {},
     "output_type": "execute_result"
    }
   ],
   "source": [
    "df10 = df.assign(feature0 = df[\"feature1\"] * df[\"feature2\"] )\n",
    "df10.assign(feature1 = df10[\"feature1\"] +1)\n",
    "df10"
   ]
  },
  {
   "cell_type": "markdown",
   "metadata": {
    "id": "MIA3Rfbiir_9"
   },
   "source": [
    "### Evaluating an expression"
   ]
  },
  {
   "cell_type": "code",
   "execution_count": 130,
   "metadata": {
    "colab": {
     "base_uri": "https://localhost:8080/"
    },
    "id": "QV8VKKbCir_9",
    "outputId": "537791ae-cff4-4d00-8f62-51e9555435bd"
   },
   "outputs": [
    {
     "data": {
      "text/plain": [
       "a    26\n",
       "b    18\n",
       "c    39\n",
       "dtype: int64"
      ]
     },
     "execution_count": 130,
     "metadata": {},
     "output_type": "execute_result"
    }
   ],
   "source": [
    "df = df[['feature1','feature2','feature3','feature4']]\n",
    "df.eval(\"feature1 + feature2 ** 2\")"
   ]
  },
  {
   "cell_type": "code",
   "execution_count": 131,
   "metadata": {
    "colab": {
     "base_uri": "https://localhost:8080/"
    },
    "id": "1oXsIGXU6eeU",
    "outputId": "5eb38c33-88c3-40e9-9b79-727fc84fb63e"
   },
   "outputs": [
    {
     "data": {
      "text/html": [
       "<div>\n",
       "<style scoped>\n",
       "    .dataframe tbody tr th:only-of-type {\n",
       "        vertical-align: middle;\n",
       "    }\n",
       "\n",
       "    .dataframe tbody tr th {\n",
       "        vertical-align: top;\n",
       "    }\n",
       "\n",
       "    .dataframe thead th {\n",
       "        text-align: right;\n",
       "    }\n",
       "</style>\n",
       "<table border=\"1\" class=\"dataframe\">\n",
       "  <thead>\n",
       "    <tr style=\"text-align: right;\">\n",
       "      <th></th>\n",
       "      <th>feature1</th>\n",
       "      <th>feature2</th>\n",
       "      <th>feature3</th>\n",
       "      <th>feature4</th>\n",
       "    </tr>\n",
       "  </thead>\n",
       "  <tbody>\n",
       "    <tr>\n",
       "      <th>a</th>\n",
       "      <td>1</td>\n",
       "      <td>5</td>\n",
       "      <td>NaN</td>\n",
       "      <td>9.0</td>\n",
       "    </tr>\n",
       "    <tr>\n",
       "      <th>b</th>\n",
       "      <td>2</td>\n",
       "      <td>4</td>\n",
       "      <td>8.0</td>\n",
       "      <td>10.0</td>\n",
       "    </tr>\n",
       "    <tr>\n",
       "      <th>c</th>\n",
       "      <td>3</td>\n",
       "      <td>6</td>\n",
       "      <td>7.0</td>\n",
       "      <td>NaN</td>\n",
       "    </tr>\n",
       "  </tbody>\n",
       "</table>\n",
       "</div>"
      ],
      "text/plain": [
       "   feature1  feature2  feature3  feature4\n",
       "a         1         5       NaN       9.0\n",
       "b         2         4       8.0      10.0\n",
       "c         3         6       7.0       NaN"
      ]
     },
     "execution_count": 131,
     "metadata": {},
     "output_type": "execute_result"
    }
   ],
   "source": [
    "df"
   ]
  },
  {
   "cell_type": "markdown",
   "metadata": {
    "id": "e4Sh1eUPir_9"
   },
   "source": [
    "use inplace=True to modify the original DataFrame\n",
    "\n",
    "---\n",
    "\n",
    "\n",
    "\n"
   ]
  },
  {
   "cell_type": "code",
   "execution_count": 132,
   "metadata": {
    "colab": {
     "base_uri": "https://localhost:8080/"
    },
    "id": "QIBRSoFeir_9",
    "outputId": "2f866822-fca8-4cd5-9981-1eff2acce1ef"
   },
   "outputs": [
    {
     "data": {
      "text/html": [
       "<div>\n",
       "<style scoped>\n",
       "    .dataframe tbody tr th:only-of-type {\n",
       "        vertical-align: middle;\n",
       "    }\n",
       "\n",
       "    .dataframe tbody tr th {\n",
       "        vertical-align: top;\n",
       "    }\n",
       "\n",
       "    .dataframe thead th {\n",
       "        text-align: right;\n",
       "    }\n",
       "</style>\n",
       "<table border=\"1\" class=\"dataframe\">\n",
       "  <thead>\n",
       "    <tr style=\"text-align: right;\">\n",
       "      <th></th>\n",
       "      <th>feature1</th>\n",
       "      <th>feature2</th>\n",
       "      <th>feature3</th>\n",
       "      <th>feature4</th>\n",
       "    </tr>\n",
       "  </thead>\n",
       "  <tbody>\n",
       "    <tr>\n",
       "      <th>a</th>\n",
       "      <td>1</td>\n",
       "      <td>5</td>\n",
       "      <td>26</td>\n",
       "      <td>9.0</td>\n",
       "    </tr>\n",
       "    <tr>\n",
       "      <th>b</th>\n",
       "      <td>2</td>\n",
       "      <td>4</td>\n",
       "      <td>18</td>\n",
       "      <td>10.0</td>\n",
       "    </tr>\n",
       "    <tr>\n",
       "      <th>c</th>\n",
       "      <td>3</td>\n",
       "      <td>6</td>\n",
       "      <td>39</td>\n",
       "      <td>NaN</td>\n",
       "    </tr>\n",
       "  </tbody>\n",
       "</table>\n",
       "</div>"
      ],
      "text/plain": [
       "   feature1  feature2  feature3  feature4\n",
       "a         1         5        26       9.0\n",
       "b         2         4        18      10.0\n",
       "c         3         6        39       NaN"
      ]
     },
     "execution_count": 132,
     "metadata": {},
     "output_type": "execute_result"
    }
   ],
   "source": [
    "df.eval(\"feature3 = feature1 + feature2 ** 2\", inplace=True)\n",
    "df"
   ]
  },
  {
   "cell_type": "markdown",
   "metadata": {
    "id": "BoXEcP7Lir_9"
   },
   "source": [
    "use a local or global variable in an expression by prefixing it with @"
   ]
  },
  {
   "cell_type": "code",
   "execution_count": 133,
   "metadata": {
    "colab": {
     "base_uri": "https://localhost:8080/"
    },
    "id": "VdECya8Oir_9",
    "outputId": "16d03e6d-b6e8-4308-d968-ced33475032b"
   },
   "outputs": [
    {
     "data": {
      "text/html": [
       "<div>\n",
       "<style scoped>\n",
       "    .dataframe tbody tr th:only-of-type {\n",
       "        vertical-align: middle;\n",
       "    }\n",
       "\n",
       "    .dataframe tbody tr th {\n",
       "        vertical-align: top;\n",
       "    }\n",
       "\n",
       "    .dataframe thead th {\n",
       "        text-align: right;\n",
       "    }\n",
       "</style>\n",
       "<table border=\"1\" class=\"dataframe\">\n",
       "  <thead>\n",
       "    <tr style=\"text-align: right;\">\n",
       "      <th></th>\n",
       "      <th>feature1</th>\n",
       "      <th>feature2</th>\n",
       "      <th>feature3</th>\n",
       "      <th>feature4</th>\n",
       "    </tr>\n",
       "  </thead>\n",
       "  <tbody>\n",
       "    <tr>\n",
       "      <th>a</th>\n",
       "      <td>1</td>\n",
       "      <td>5</td>\n",
       "      <td>False</td>\n",
       "      <td>9.0</td>\n",
       "    </tr>\n",
       "    <tr>\n",
       "      <th>b</th>\n",
       "      <td>2</td>\n",
       "      <td>4</td>\n",
       "      <td>False</td>\n",
       "      <td>10.0</td>\n",
       "    </tr>\n",
       "    <tr>\n",
       "      <th>c</th>\n",
       "      <td>3</td>\n",
       "      <td>6</td>\n",
       "      <td>True</td>\n",
       "      <td>NaN</td>\n",
       "    </tr>\n",
       "  </tbody>\n",
       "</table>\n",
       "</div>"
      ],
      "text/plain": [
       "   feature1  feature2  feature3  feature4\n",
       "a         1         5     False       9.0\n",
       "b         2         4     False      10.0\n",
       "c         3         6      True       NaN"
      ]
     },
     "execution_count": 133,
     "metadata": {},
     "output_type": "execute_result"
    }
   ],
   "source": [
    "threshold = 30\n",
    "df.eval(\"feature3 = feature1 + feature2 ** 2 > @threshold\", inplace=True)\n",
    "df"
   ]
  },
  {
   "cell_type": "markdown",
   "metadata": {
    "id": "jLS66Zgtir_9"
   },
   "source": [
    "### Querying a DataFrame\n",
    "The query method lets you filter a DataFrame"
   ]
  },
  {
   "cell_type": "code",
   "execution_count": 134,
   "metadata": {
    "colab": {
     "base_uri": "https://localhost:8080/"
    },
    "id": "n5kjxMoIir_9",
    "outputId": "67a60c2a-fb22-41ca-e81c-837c5334fea4"
   },
   "outputs": [
    {
     "data": {
      "text/html": [
       "<div>\n",
       "<style scoped>\n",
       "    .dataframe tbody tr th:only-of-type {\n",
       "        vertical-align: middle;\n",
       "    }\n",
       "\n",
       "    .dataframe tbody tr th {\n",
       "        vertical-align: top;\n",
       "    }\n",
       "\n",
       "    .dataframe thead th {\n",
       "        text-align: right;\n",
       "    }\n",
       "</style>\n",
       "<table border=\"1\" class=\"dataframe\">\n",
       "  <thead>\n",
       "    <tr style=\"text-align: right;\">\n",
       "      <th></th>\n",
       "      <th>feature1</th>\n",
       "      <th>feature2</th>\n",
       "      <th>feature3</th>\n",
       "      <th>feature4</th>\n",
       "    </tr>\n",
       "  </thead>\n",
       "  <tbody>\n",
       "    <tr>\n",
       "      <th>c</th>\n",
       "      <td>3</td>\n",
       "      <td>6</td>\n",
       "      <td>True</td>\n",
       "      <td>NaN</td>\n",
       "    </tr>\n",
       "  </tbody>\n",
       "</table>\n",
       "</div>"
      ],
      "text/plain": [
       "   feature1  feature2  feature3  feature4\n",
       "c         3         6      True       NaN"
      ]
     },
     "execution_count": 134,
     "metadata": {},
     "output_type": "execute_result"
    }
   ],
   "source": [
    "df.query(\"feature1 > 2 and feature2 == 6\")"
   ]
  },
  {
   "cell_type": "markdown",
   "metadata": {
    "id": "eY0jVIxLir_-"
   },
   "source": [
    "### Sorting a DataFrame"
   ]
  },
  {
   "cell_type": "code",
   "execution_count": 135,
   "metadata": {
    "colab": {
     "base_uri": "https://localhost:8080/"
    },
    "id": "wIXrZvooHHXn",
    "outputId": "49d8d9b4-8bb4-45e8-b5a8-ae757c2e5d81"
   },
   "outputs": [
    {
     "data": {
      "text/html": [
       "<div>\n",
       "<style scoped>\n",
       "    .dataframe tbody tr th:only-of-type {\n",
       "        vertical-align: middle;\n",
       "    }\n",
       "\n",
       "    .dataframe tbody tr th {\n",
       "        vertical-align: top;\n",
       "    }\n",
       "\n",
       "    .dataframe thead th {\n",
       "        text-align: right;\n",
       "    }\n",
       "</style>\n",
       "<table border=\"1\" class=\"dataframe\">\n",
       "  <thead>\n",
       "    <tr style=\"text-align: right;\">\n",
       "      <th></th>\n",
       "      <th>feature1</th>\n",
       "      <th>feature2</th>\n",
       "      <th>feature3</th>\n",
       "      <th>feature4</th>\n",
       "    </tr>\n",
       "  </thead>\n",
       "  <tbody>\n",
       "    <tr>\n",
       "      <th>a</th>\n",
       "      <td>1</td>\n",
       "      <td>5</td>\n",
       "      <td>False</td>\n",
       "      <td>9.0</td>\n",
       "    </tr>\n",
       "    <tr>\n",
       "      <th>b</th>\n",
       "      <td>2</td>\n",
       "      <td>4</td>\n",
       "      <td>False</td>\n",
       "      <td>10.0</td>\n",
       "    </tr>\n",
       "    <tr>\n",
       "      <th>c</th>\n",
       "      <td>3</td>\n",
       "      <td>6</td>\n",
       "      <td>True</td>\n",
       "      <td>NaN</td>\n",
       "    </tr>\n",
       "  </tbody>\n",
       "</table>\n",
       "</div>"
      ],
      "text/plain": [
       "   feature1  feature2  feature3  feature4\n",
       "a         1         5     False       9.0\n",
       "b         2         4     False      10.0\n",
       "c         3         6      True       NaN"
      ]
     },
     "execution_count": 135,
     "metadata": {},
     "output_type": "execute_result"
    }
   ],
   "source": [
    "df"
   ]
  },
  {
   "cell_type": "code",
   "execution_count": 136,
   "metadata": {
    "colab": {
     "base_uri": "https://localhost:8080/"
    },
    "id": "xvky7GLSir_-",
    "outputId": "973eee79-ab29-440d-f4db-5175afe4b0da"
   },
   "outputs": [
    {
     "data": {
      "text/html": [
       "<div>\n",
       "<style scoped>\n",
       "    .dataframe tbody tr th:only-of-type {\n",
       "        vertical-align: middle;\n",
       "    }\n",
       "\n",
       "    .dataframe tbody tr th {\n",
       "        vertical-align: top;\n",
       "    }\n",
       "\n",
       "    .dataframe thead th {\n",
       "        text-align: right;\n",
       "    }\n",
       "</style>\n",
       "<table border=\"1\" class=\"dataframe\">\n",
       "  <thead>\n",
       "    <tr style=\"text-align: right;\">\n",
       "      <th></th>\n",
       "      <th>feature1</th>\n",
       "      <th>feature2</th>\n",
       "      <th>feature3</th>\n",
       "      <th>feature4</th>\n",
       "    </tr>\n",
       "  </thead>\n",
       "  <tbody>\n",
       "    <tr>\n",
       "      <th>c</th>\n",
       "      <td>3</td>\n",
       "      <td>6</td>\n",
       "      <td>True</td>\n",
       "      <td>NaN</td>\n",
       "    </tr>\n",
       "    <tr>\n",
       "      <th>b</th>\n",
       "      <td>2</td>\n",
       "      <td>4</td>\n",
       "      <td>False</td>\n",
       "      <td>10.0</td>\n",
       "    </tr>\n",
       "    <tr>\n",
       "      <th>a</th>\n",
       "      <td>1</td>\n",
       "      <td>5</td>\n",
       "      <td>False</td>\n",
       "      <td>9.0</td>\n",
       "    </tr>\n",
       "  </tbody>\n",
       "</table>\n",
       "</div>"
      ],
      "text/plain": [
       "   feature1  feature2  feature3  feature4\n",
       "c         3         6      True       NaN\n",
       "b         2         4     False      10.0\n",
       "a         1         5     False       9.0"
      ]
     },
     "execution_count": 136,
     "metadata": {},
     "output_type": "execute_result"
    }
   ],
   "source": [
    "df.sort_index(ascending=False)"
   ]
  },
  {
   "cell_type": "code",
   "execution_count": 137,
   "metadata": {
    "colab": {
     "base_uri": "https://localhost:8080/"
    },
    "id": "UoRjsauqir_-",
    "outputId": "bc89b70b-496a-4d16-dd7d-7fcd0bf30dbc"
   },
   "outputs": [
    {
     "data": {
      "text/html": [
       "<div>\n",
       "<style scoped>\n",
       "    .dataframe tbody tr th:only-of-type {\n",
       "        vertical-align: middle;\n",
       "    }\n",
       "\n",
       "    .dataframe tbody tr th {\n",
       "        vertical-align: top;\n",
       "    }\n",
       "\n",
       "    .dataframe thead th {\n",
       "        text-align: right;\n",
       "    }\n",
       "</style>\n",
       "<table border=\"1\" class=\"dataframe\">\n",
       "  <thead>\n",
       "    <tr style=\"text-align: right;\">\n",
       "      <th></th>\n",
       "      <th>feature1</th>\n",
       "      <th>feature2</th>\n",
       "      <th>feature3</th>\n",
       "      <th>feature4</th>\n",
       "    </tr>\n",
       "  </thead>\n",
       "  <tbody>\n",
       "    <tr>\n",
       "      <th>a</th>\n",
       "      <td>1</td>\n",
       "      <td>5</td>\n",
       "      <td>False</td>\n",
       "      <td>9.0</td>\n",
       "    </tr>\n",
       "    <tr>\n",
       "      <th>b</th>\n",
       "      <td>2</td>\n",
       "      <td>4</td>\n",
       "      <td>False</td>\n",
       "      <td>10.0</td>\n",
       "    </tr>\n",
       "    <tr>\n",
       "      <th>c</th>\n",
       "      <td>3</td>\n",
       "      <td>6</td>\n",
       "      <td>True</td>\n",
       "      <td>NaN</td>\n",
       "    </tr>\n",
       "  </tbody>\n",
       "</table>\n",
       "</div>"
      ],
      "text/plain": [
       "   feature1  feature2  feature3  feature4\n",
       "a         1         5     False       9.0\n",
       "b         2         4     False      10.0\n",
       "c         3         6      True       NaN"
      ]
     },
     "execution_count": 137,
     "metadata": {},
     "output_type": "execute_result"
    }
   ],
   "source": [
    "df.sort_index(axis=1, inplace=True)\n",
    "df"
   ]
  },
  {
   "cell_type": "code",
   "execution_count": 138,
   "metadata": {
    "colab": {
     "base_uri": "https://localhost:8080/"
    },
    "id": "1vQ_YCwQir__",
    "outputId": "060781dd-8c01-4717-b94d-0803bf667b81"
   },
   "outputs": [
    {
     "name": "stderr",
     "output_type": "stream",
     "text": [
      "/Users/naftali/opt/anaconda3/envs/qe-mini-example/lib/python3.8/site-packages/pandas/util/_decorators.py:311: SettingWithCopyWarning: \n",
      "A value is trying to be set on a copy of a slice from a DataFrame\n",
      "\n",
      "See the caveats in the documentation: https://pandas.pydata.org/pandas-docs/stable/user_guide/indexing.html#returning-a-view-versus-a-copy\n",
      "  return func(*args, **kwargs)\n"
     ]
    },
    {
     "data": {
      "text/html": [
       "<div>\n",
       "<style scoped>\n",
       "    .dataframe tbody tr th:only-of-type {\n",
       "        vertical-align: middle;\n",
       "    }\n",
       "\n",
       "    .dataframe tbody tr th {\n",
       "        vertical-align: top;\n",
       "    }\n",
       "\n",
       "    .dataframe thead th {\n",
       "        text-align: right;\n",
       "    }\n",
       "</style>\n",
       "<table border=\"1\" class=\"dataframe\">\n",
       "  <thead>\n",
       "    <tr style=\"text-align: right;\">\n",
       "      <th></th>\n",
       "      <th>feature1</th>\n",
       "      <th>feature2</th>\n",
       "      <th>feature3</th>\n",
       "      <th>feature4</th>\n",
       "    </tr>\n",
       "  </thead>\n",
       "  <tbody>\n",
       "    <tr>\n",
       "      <th>b</th>\n",
       "      <td>2</td>\n",
       "      <td>4</td>\n",
       "      <td>False</td>\n",
       "      <td>10.0</td>\n",
       "    </tr>\n",
       "    <tr>\n",
       "      <th>a</th>\n",
       "      <td>1</td>\n",
       "      <td>5</td>\n",
       "      <td>False</td>\n",
       "      <td>9.0</td>\n",
       "    </tr>\n",
       "    <tr>\n",
       "      <th>c</th>\n",
       "      <td>3</td>\n",
       "      <td>6</td>\n",
       "      <td>True</td>\n",
       "      <td>NaN</td>\n",
       "    </tr>\n",
       "  </tbody>\n",
       "</table>\n",
       "</div>"
      ],
      "text/plain": [
       "   feature1  feature2  feature3  feature4\n",
       "b         2         4     False      10.0\n",
       "a         1         5     False       9.0\n",
       "c         3         6      True       NaN"
      ]
     },
     "execution_count": 138,
     "metadata": {},
     "output_type": "execute_result"
    }
   ],
   "source": [
    "df.sort_values(by=\"feature2\", inplace=True)\n",
    "df"
   ]
  },
  {
   "cell_type": "markdown",
   "metadata": {
    "id": "x872M183isAA"
   },
   "source": [
    "### Operations on DataFrame"
   ]
  },
  {
   "cell_type": "code",
   "execution_count": 139,
   "metadata": {
    "colab": {
     "base_uri": "https://localhost:8080/"
    },
    "id": "NTbgpafTisAA",
    "outputId": "80d48a2b-6cc4-4c40-d258-e4eef5cc967d"
   },
   "outputs": [
    {
     "data": {
      "text/html": [
       "<div>\n",
       "<style scoped>\n",
       "    .dataframe tbody tr th:only-of-type {\n",
       "        vertical-align: middle;\n",
       "    }\n",
       "\n",
       "    .dataframe tbody tr th {\n",
       "        vertical-align: top;\n",
       "    }\n",
       "\n",
       "    .dataframe thead th {\n",
       "        text-align: right;\n",
       "    }\n",
       "</style>\n",
       "<table border=\"1\" class=\"dataframe\">\n",
       "  <thead>\n",
       "    <tr style=\"text-align: right;\">\n",
       "      <th></th>\n",
       "      <th>q</th>\n",
       "      <th>w</th>\n",
       "      <th>e</th>\n",
       "    </tr>\n",
       "  </thead>\n",
       "  <tbody>\n",
       "    <tr>\n",
       "      <th>a</th>\n",
       "      <td>1</td>\n",
       "      <td>2</td>\n",
       "      <td>3</td>\n",
       "    </tr>\n",
       "    <tr>\n",
       "      <th>b</th>\n",
       "      <td>4</td>\n",
       "      <td>5</td>\n",
       "      <td>6</td>\n",
       "    </tr>\n",
       "    <tr>\n",
       "      <th>c</th>\n",
       "      <td>7</td>\n",
       "      <td>8</td>\n",
       "      <td>9</td>\n",
       "    </tr>\n",
       "  </tbody>\n",
       "</table>\n",
       "</div>"
      ],
      "text/plain": [
       "   q  w  e\n",
       "a  1  2  3\n",
       "b  4  5  6\n",
       "c  7  8  9"
      ]
     },
     "execution_count": 139,
     "metadata": {},
     "output_type": "execute_result"
    }
   ],
   "source": [
    "a = np.array([[1,2,3],[4,5,6],[7,8,9]])\n",
    "df = pd.DataFrame(a, columns=[\"q\", \"w\", \"e\"], index=[\"a\",\"b\",\"c\"])\n",
    "df"
   ]
  },
  {
   "cell_type": "code",
   "execution_count": 140,
   "metadata": {
    "colab": {
     "base_uri": "https://localhost:8080/"
    },
    "id": "azU7vzppisAA",
    "outputId": "6c6d6c4d-b1ef-4452-fbcf-c95bf5b603cd"
   },
   "outputs": [
    {
     "data": {
      "text/html": [
       "<div>\n",
       "<style scoped>\n",
       "    .dataframe tbody tr th:only-of-type {\n",
       "        vertical-align: middle;\n",
       "    }\n",
       "\n",
       "    .dataframe tbody tr th {\n",
       "        vertical-align: top;\n",
       "    }\n",
       "\n",
       "    .dataframe thead th {\n",
       "        text-align: right;\n",
       "    }\n",
       "</style>\n",
       "<table border=\"1\" class=\"dataframe\">\n",
       "  <thead>\n",
       "    <tr style=\"text-align: right;\">\n",
       "      <th></th>\n",
       "      <th>q</th>\n",
       "      <th>w</th>\n",
       "      <th>e</th>\n",
       "    </tr>\n",
       "  </thead>\n",
       "  <tbody>\n",
       "    <tr>\n",
       "      <th>a</th>\n",
       "      <td>1.000000</td>\n",
       "      <td>1.414214</td>\n",
       "      <td>1.732051</td>\n",
       "    </tr>\n",
       "    <tr>\n",
       "      <th>b</th>\n",
       "      <td>2.000000</td>\n",
       "      <td>2.236068</td>\n",
       "      <td>2.449490</td>\n",
       "    </tr>\n",
       "    <tr>\n",
       "      <th>c</th>\n",
       "      <td>2.645751</td>\n",
       "      <td>2.828427</td>\n",
       "      <td>3.000000</td>\n",
       "    </tr>\n",
       "  </tbody>\n",
       "</table>\n",
       "</div>"
      ],
      "text/plain": [
       "          q         w         e\n",
       "a  1.000000  1.414214  1.732051\n",
       "b  2.000000  2.236068  2.449490\n",
       "c  2.645751  2.828427  3.000000"
      ]
     },
     "execution_count": 140,
     "metadata": {},
     "output_type": "execute_result"
    }
   ],
   "source": [
    "np.sqrt(df)"
   ]
  },
  {
   "cell_type": "code",
   "execution_count": 141,
   "metadata": {
    "colab": {
     "base_uri": "https://localhost:8080/"
    },
    "id": "bIA9LdwjisAA",
    "outputId": "a483df84-d166-43d0-b007-c449ccce7066"
   },
   "outputs": [
    {
     "data": {
      "text/html": [
       "<div>\n",
       "<style scoped>\n",
       "    .dataframe tbody tr th:only-of-type {\n",
       "        vertical-align: middle;\n",
       "    }\n",
       "\n",
       "    .dataframe tbody tr th {\n",
       "        vertical-align: top;\n",
       "    }\n",
       "\n",
       "    .dataframe thead th {\n",
       "        text-align: right;\n",
       "    }\n",
       "</style>\n",
       "<table border=\"1\" class=\"dataframe\">\n",
       "  <thead>\n",
       "    <tr style=\"text-align: right;\">\n",
       "      <th></th>\n",
       "      <th>q</th>\n",
       "      <th>w</th>\n",
       "      <th>e</th>\n",
       "    </tr>\n",
       "  </thead>\n",
       "  <tbody>\n",
       "    <tr>\n",
       "      <th>a</th>\n",
       "      <td>2</td>\n",
       "      <td>3</td>\n",
       "      <td>4</td>\n",
       "    </tr>\n",
       "    <tr>\n",
       "      <th>b</th>\n",
       "      <td>5</td>\n",
       "      <td>6</td>\n",
       "      <td>7</td>\n",
       "    </tr>\n",
       "    <tr>\n",
       "      <th>c</th>\n",
       "      <td>8</td>\n",
       "      <td>9</td>\n",
       "      <td>10</td>\n",
       "    </tr>\n",
       "  </tbody>\n",
       "</table>\n",
       "</div>"
      ],
      "text/plain": [
       "   q  w   e\n",
       "a  2  3   4\n",
       "b  5  6   7\n",
       "c  8  9  10"
      ]
     },
     "execution_count": 141,
     "metadata": {},
     "output_type": "execute_result"
    }
   ],
   "source": [
    "df + 1 #broadcasting"
   ]
  },
  {
   "cell_type": "code",
   "execution_count": 142,
   "metadata": {
    "colab": {
     "base_uri": "https://localhost:8080/"
    },
    "id": "-LUA6s_NisAA",
    "outputId": "5eb73414-420a-45e0-8f6f-59e61f981fb5"
   },
   "outputs": [
    {
     "data": {
      "text/html": [
       "<div>\n",
       "<style scoped>\n",
       "    .dataframe tbody tr th:only-of-type {\n",
       "        vertical-align: middle;\n",
       "    }\n",
       "\n",
       "    .dataframe tbody tr th {\n",
       "        vertical-align: top;\n",
       "    }\n",
       "\n",
       "    .dataframe thead th {\n",
       "        text-align: right;\n",
       "    }\n",
       "</style>\n",
       "<table border=\"1\" class=\"dataframe\">\n",
       "  <thead>\n",
       "    <tr style=\"text-align: right;\">\n",
       "      <th></th>\n",
       "      <th>q</th>\n",
       "      <th>w</th>\n",
       "      <th>e</th>\n",
       "    </tr>\n",
       "  </thead>\n",
       "  <tbody>\n",
       "    <tr>\n",
       "      <th>a</th>\n",
       "      <td>False</td>\n",
       "      <td>False</td>\n",
       "      <td>False</td>\n",
       "    </tr>\n",
       "    <tr>\n",
       "      <th>b</th>\n",
       "      <td>False</td>\n",
       "      <td>True</td>\n",
       "      <td>True</td>\n",
       "    </tr>\n",
       "    <tr>\n",
       "      <th>c</th>\n",
       "      <td>True</td>\n",
       "      <td>True</td>\n",
       "      <td>True</td>\n",
       "    </tr>\n",
       "  </tbody>\n",
       "</table>\n",
       "</div>"
      ],
      "text/plain": [
       "       q      w      e\n",
       "a  False  False  False\n",
       "b  False   True   True\n",
       "c   True   True   True"
      ]
     },
     "execution_count": 142,
     "metadata": {},
     "output_type": "execute_result"
    }
   ],
   "source": [
    "df >= 5"
   ]
  },
  {
   "cell_type": "code",
   "execution_count": 143,
   "metadata": {
    "colab": {
     "base_uri": "https://localhost:8080/"
    },
    "id": "kY9c-NbPisAB",
    "outputId": "d425c0b5-45b9-4bf4-ad5a-7645e83a6ff8"
   },
   "outputs": [
    {
     "data": {
      "text/plain": [
       "(q    4.0\n",
       " w    5.0\n",
       " e    6.0\n",
       " dtype: float64,\n",
       " q    3.0\n",
       " w    3.0\n",
       " e    3.0\n",
       " dtype: float64,\n",
       " q    7\n",
       " w    8\n",
       " e    9\n",
       " dtype: int64,\n",
       " q    12\n",
       " w    15\n",
       " e    18\n",
       " dtype: int64)"
      ]
     },
     "execution_count": 143,
     "metadata": {},
     "output_type": "execute_result"
    }
   ],
   "source": [
    "df.mean(), df.std(), df.max(), df.sum()"
   ]
  },
  {
   "cell_type": "markdown",
   "metadata": {
    "id": "c4AR-pP1isAB"
   },
   "source": [
    "The All method checks whether all values are True or not"
   ]
  },
  {
   "cell_type": "code",
   "execution_count": 144,
   "metadata": {
    "colab": {
     "base_uri": "https://localhost:8080/"
    },
    "id": "FRgKyNYtIJhV",
    "outputId": "56350ad9-e628-4166-9134-cf4612354671"
   },
   "outputs": [
    {
     "data": {
      "text/html": [
       "<div>\n",
       "<style scoped>\n",
       "    .dataframe tbody tr th:only-of-type {\n",
       "        vertical-align: middle;\n",
       "    }\n",
       "\n",
       "    .dataframe tbody tr th {\n",
       "        vertical-align: top;\n",
       "    }\n",
       "\n",
       "    .dataframe thead th {\n",
       "        text-align: right;\n",
       "    }\n",
       "</style>\n",
       "<table border=\"1\" class=\"dataframe\">\n",
       "  <thead>\n",
       "    <tr style=\"text-align: right;\">\n",
       "      <th></th>\n",
       "      <th>q</th>\n",
       "      <th>w</th>\n",
       "      <th>e</th>\n",
       "    </tr>\n",
       "  </thead>\n",
       "  <tbody>\n",
       "    <tr>\n",
       "      <th>a</th>\n",
       "      <td>1</td>\n",
       "      <td>2</td>\n",
       "      <td>3</td>\n",
       "    </tr>\n",
       "    <tr>\n",
       "      <th>b</th>\n",
       "      <td>4</td>\n",
       "      <td>5</td>\n",
       "      <td>6</td>\n",
       "    </tr>\n",
       "    <tr>\n",
       "      <th>c</th>\n",
       "      <td>7</td>\n",
       "      <td>8</td>\n",
       "      <td>9</td>\n",
       "    </tr>\n",
       "  </tbody>\n",
       "</table>\n",
       "</div>"
      ],
      "text/plain": [
       "   q  w  e\n",
       "a  1  2  3\n",
       "b  4  5  6\n",
       "c  7  8  9"
      ]
     },
     "execution_count": 144,
     "metadata": {},
     "output_type": "execute_result"
    }
   ],
   "source": [
    "df"
   ]
  },
  {
   "cell_type": "code",
   "execution_count": 145,
   "metadata": {
    "colab": {
     "base_uri": "https://localhost:8080/"
    },
    "id": "4HHR7lOqisAB",
    "outputId": "1fd6b6d2-d32e-4c3f-bd1a-c9646d8a55c6"
   },
   "outputs": [
    {
     "data": {
      "text/plain": [
       "q    False\n",
       "w    False\n",
       "e     True\n",
       "dtype: bool"
      ]
     },
     "execution_count": 145,
     "metadata": {},
     "output_type": "execute_result"
    }
   ],
   "source": [
    "(df > 2).all()"
   ]
  },
  {
   "cell_type": "code",
   "execution_count": 146,
   "metadata": {
    "colab": {
     "base_uri": "https://localhost:8080/"
    },
    "id": "gh6YyGTCIYoa",
    "outputId": "199d0a87-1a0d-40b1-ccd1-290a6b49407e"
   },
   "outputs": [
    {
     "data": {
      "text/plain": [
       "q    False\n",
       "w    False\n",
       "e     True\n",
       "dtype: bool"
      ]
     },
     "execution_count": 146,
     "metadata": {},
     "output_type": "execute_result"
    }
   ],
   "source": [
    "(df > 2).all(axis = 0) #executed vertically (on each column)"
   ]
  },
  {
   "cell_type": "code",
   "execution_count": 147,
   "metadata": {
    "colab": {
     "base_uri": "https://localhost:8080/"
    },
    "id": "Me6uR2tvisAB",
    "outputId": "7f713f43-739c-4b7d-ae21-cde8e0cd9d5d"
   },
   "outputs": [
    {
     "data": {
      "text/plain": [
       "a    False\n",
       "b     True\n",
       "c     True\n",
       "dtype: bool"
      ]
     },
     "execution_count": 147,
     "metadata": {},
     "output_type": "execute_result"
    }
   ],
   "source": [
    "(df > 2).all(axis = 1) #execute the horizontally (on each row)."
   ]
  },
  {
   "cell_type": "code",
   "execution_count": 148,
   "metadata": {
    "colab": {
     "base_uri": "https://localhost:8080/"
    },
    "id": "fDDgxnHrisAB",
    "outputId": "f7c2517b-65ba-447c-db7d-9f71a88f6fa7"
   },
   "outputs": [
    {
     "data": {
      "text/plain": [
       "a    False\n",
       "b    False\n",
       "c     True\n",
       "dtype: bool"
      ]
     },
     "execution_count": 148,
     "metadata": {},
     "output_type": "execute_result"
    }
   ],
   "source": [
    "(df == 8).any(axis = 1)"
   ]
  },
  {
   "cell_type": "code",
   "execution_count": 149,
   "metadata": {
    "colab": {
     "base_uri": "https://localhost:8080/"
    },
    "id": "e1CIAqjNisAC",
    "outputId": "b752f58a-d656-4585-dfd3-561552480149"
   },
   "outputs": [
    {
     "data": {
      "text/html": [
       "<div>\n",
       "<style scoped>\n",
       "    .dataframe tbody tr th:only-of-type {\n",
       "        vertical-align: middle;\n",
       "    }\n",
       "\n",
       "    .dataframe tbody tr th {\n",
       "        vertical-align: top;\n",
       "    }\n",
       "\n",
       "    .dataframe thead th {\n",
       "        text-align: right;\n",
       "    }\n",
       "</style>\n",
       "<table border=\"1\" class=\"dataframe\">\n",
       "  <thead>\n",
       "    <tr style=\"text-align: right;\">\n",
       "      <th></th>\n",
       "      <th>q</th>\n",
       "      <th>w</th>\n",
       "      <th>e</th>\n",
       "    </tr>\n",
       "  </thead>\n",
       "  <tbody>\n",
       "    <tr>\n",
       "      <th>a</th>\n",
       "      <td>-3.0</td>\n",
       "      <td>-3.0</td>\n",
       "      <td>-3.0</td>\n",
       "    </tr>\n",
       "    <tr>\n",
       "      <th>b</th>\n",
       "      <td>0.0</td>\n",
       "      <td>0.0</td>\n",
       "      <td>0.0</td>\n",
       "    </tr>\n",
       "    <tr>\n",
       "      <th>c</th>\n",
       "      <td>3.0</td>\n",
       "      <td>3.0</td>\n",
       "      <td>3.0</td>\n",
       "    </tr>\n",
       "  </tbody>\n",
       "</table>\n",
       "</div>"
      ],
      "text/plain": [
       "     q    w    e\n",
       "a -3.0 -3.0 -3.0\n",
       "b  0.0  0.0  0.0\n",
       "c  3.0  3.0  3.0"
      ]
     },
     "execution_count": 149,
     "metadata": {},
     "output_type": "execute_result"
    }
   ],
   "source": [
    "df - df.mean() "
   ]
  },
  {
   "cell_type": "code",
   "execution_count": 150,
   "metadata": {
    "colab": {
     "base_uri": "https://localhost:8080/"
    },
    "id": "j-jf3y58isAC",
    "outputId": "57cf2a29-b0d1-4066-b829-3fa395e49262",
    "scrolled": true
   },
   "outputs": [
    {
     "data": {
      "text/html": [
       "<div>\n",
       "<style scoped>\n",
       "    .dataframe tbody tr th:only-of-type {\n",
       "        vertical-align: middle;\n",
       "    }\n",
       "\n",
       "    .dataframe tbody tr th {\n",
       "        vertical-align: top;\n",
       "    }\n",
       "\n",
       "    .dataframe thead th {\n",
       "        text-align: right;\n",
       "    }\n",
       "</style>\n",
       "<table border=\"1\" class=\"dataframe\">\n",
       "  <thead>\n",
       "    <tr style=\"text-align: right;\">\n",
       "      <th></th>\n",
       "      <th>q</th>\n",
       "      <th>w</th>\n",
       "      <th>e</th>\n",
       "    </tr>\n",
       "  </thead>\n",
       "  <tbody>\n",
       "    <tr>\n",
       "      <th>a</th>\n",
       "      <td>-4.0</td>\n",
       "      <td>-3.0</td>\n",
       "      <td>-2.0</td>\n",
       "    </tr>\n",
       "    <tr>\n",
       "      <th>b</th>\n",
       "      <td>-1.0</td>\n",
       "      <td>0.0</td>\n",
       "      <td>1.0</td>\n",
       "    </tr>\n",
       "    <tr>\n",
       "      <th>c</th>\n",
       "      <td>2.0</td>\n",
       "      <td>3.0</td>\n",
       "      <td>4.0</td>\n",
       "    </tr>\n",
       "  </tbody>\n",
       "</table>\n",
       "</div>"
      ],
      "text/plain": [
       "     q    w    e\n",
       "a -4.0 -3.0 -2.0\n",
       "b -1.0  0.0  1.0\n",
       "c  2.0  3.0  4.0"
      ]
     },
     "execution_count": 150,
     "metadata": {},
     "output_type": "execute_result"
    }
   ],
   "source": [
    "df - df.values.mean() # subtracts the global mean elementwise"
   ]
  },
  {
   "cell_type": "markdown",
   "metadata": {
    "id": "WOff2BhKisAC"
   },
   "source": [
    "### Handling missing data\n",
    "Pandas offers a few tools to handle missing data (NaN)."
   ]
  },
  {
   "cell_type": "code",
   "execution_count": 151,
   "metadata": {
    "colab": {
     "base_uri": "https://localhost:8080/"
    },
    "id": "syXLfEwKJAgW",
    "outputId": "6ca0033b-86cc-492e-f5c3-92c825d175fa"
   },
   "outputs": [
    {
     "data": {
      "text/html": [
       "<div>\n",
       "<style scoped>\n",
       "    .dataframe tbody tr th:only-of-type {\n",
       "        vertical-align: middle;\n",
       "    }\n",
       "\n",
       "    .dataframe tbody tr th {\n",
       "        vertical-align: top;\n",
       "    }\n",
       "\n",
       "    .dataframe thead th {\n",
       "        text-align: right;\n",
       "    }\n",
       "</style>\n",
       "<table border=\"1\" class=\"dataframe\">\n",
       "  <thead>\n",
       "    <tr style=\"text-align: right;\">\n",
       "      <th></th>\n",
       "      <th>feature1</th>\n",
       "      <th>feature1b</th>\n",
       "      <th>feature2</th>\n",
       "      <th>feature3</th>\n",
       "      <th>feature4</th>\n",
       "      <th>feature5</th>\n",
       "      <th>feature6</th>\n",
       "      <th>feature0</th>\n",
       "    </tr>\n",
       "  </thead>\n",
       "  <tbody>\n",
       "    <tr>\n",
       "      <th>a</th>\n",
       "      <td>1</td>\n",
       "      <td>0</td>\n",
       "      <td>5</td>\n",
       "      <td>NaN</td>\n",
       "      <td>9.0</td>\n",
       "      <td>0</td>\n",
       "      <td>NaN</td>\n",
       "      <td>5</td>\n",
       "    </tr>\n",
       "    <tr>\n",
       "      <th>b</th>\n",
       "      <td>2</td>\n",
       "      <td>1</td>\n",
       "      <td>4</td>\n",
       "      <td>8.0</td>\n",
       "      <td>10.0</td>\n",
       "      <td>1</td>\n",
       "      <td>NaN</td>\n",
       "      <td>8</td>\n",
       "    </tr>\n",
       "    <tr>\n",
       "      <th>c</th>\n",
       "      <td>3</td>\n",
       "      <td>2</td>\n",
       "      <td>6</td>\n",
       "      <td>7.0</td>\n",
       "      <td>NaN</td>\n",
       "      <td>-1</td>\n",
       "      <td>NaN</td>\n",
       "      <td>18</td>\n",
       "    </tr>\n",
       "  </tbody>\n",
       "</table>\n",
       "</div>"
      ],
      "text/plain": [
       "   feature1  feature1b  feature2  feature3  feature4  feature5  feature6  \\\n",
       "a         1          0         5       NaN       9.0         0       NaN   \n",
       "b         2          1         4       8.0      10.0         1       NaN   \n",
       "c         3          2         6       7.0       NaN        -1       NaN   \n",
       "\n",
       "   feature0  \n",
       "a         5  \n",
       "b         8  \n",
       "c        18  "
      ]
     },
     "execution_count": 151,
     "metadata": {},
     "output_type": "execute_result"
    }
   ],
   "source": [
    "df10"
   ]
  },
  {
   "cell_type": "code",
   "execution_count": 152,
   "metadata": {
    "colab": {
     "base_uri": "https://localhost:8080/"
    },
    "id": "OOeslYFwisAD",
    "outputId": "206ce4f0-7c1e-460f-e1de-8888f2a7b65f",
    "scrolled": true
   },
   "outputs": [
    {
     "data": {
      "text/html": [
       "<div>\n",
       "<style scoped>\n",
       "    .dataframe tbody tr th:only-of-type {\n",
       "        vertical-align: middle;\n",
       "    }\n",
       "\n",
       "    .dataframe tbody tr th {\n",
       "        vertical-align: top;\n",
       "    }\n",
       "\n",
       "    .dataframe thead th {\n",
       "        text-align: right;\n",
       "    }\n",
       "</style>\n",
       "<table border=\"1\" class=\"dataframe\">\n",
       "  <thead>\n",
       "    <tr style=\"text-align: right;\">\n",
       "      <th></th>\n",
       "      <th>feature1</th>\n",
       "      <th>feature1b</th>\n",
       "      <th>feature2</th>\n",
       "      <th>feature3</th>\n",
       "      <th>feature4</th>\n",
       "      <th>feature5</th>\n",
       "      <th>feature6</th>\n",
       "      <th>feature0</th>\n",
       "    </tr>\n",
       "  </thead>\n",
       "  <tbody>\n",
       "    <tr>\n",
       "      <th>a</th>\n",
       "      <td>1</td>\n",
       "      <td>0</td>\n",
       "      <td>5</td>\n",
       "      <td>0.0</td>\n",
       "      <td>9.0</td>\n",
       "      <td>0</td>\n",
       "      <td>0.0</td>\n",
       "      <td>5</td>\n",
       "    </tr>\n",
       "    <tr>\n",
       "      <th>b</th>\n",
       "      <td>2</td>\n",
       "      <td>1</td>\n",
       "      <td>4</td>\n",
       "      <td>8.0</td>\n",
       "      <td>10.0</td>\n",
       "      <td>1</td>\n",
       "      <td>0.0</td>\n",
       "      <td>8</td>\n",
       "    </tr>\n",
       "    <tr>\n",
       "      <th>c</th>\n",
       "      <td>3</td>\n",
       "      <td>2</td>\n",
       "      <td>6</td>\n",
       "      <td>7.0</td>\n",
       "      <td>0.0</td>\n",
       "      <td>-1</td>\n",
       "      <td>0.0</td>\n",
       "      <td>18</td>\n",
       "    </tr>\n",
       "  </tbody>\n",
       "</table>\n",
       "</div>"
      ],
      "text/plain": [
       "   feature1  feature1b  feature2  feature3  feature4  feature5  feature6  \\\n",
       "a         1          0         5       0.0       9.0         0       0.0   \n",
       "b         2          1         4       8.0      10.0         1       0.0   \n",
       "c         3          2         6       7.0       0.0        -1       0.0   \n",
       "\n",
       "   feature0  \n",
       "a         5  \n",
       "b         8  \n",
       "c        18  "
      ]
     },
     "execution_count": 152,
     "metadata": {},
     "output_type": "execute_result"
    }
   ],
   "source": [
    "df11 = df10.fillna(0)\n",
    "df11"
   ]
  },
  {
   "cell_type": "code",
   "execution_count": 153,
   "metadata": {
    "colab": {
     "base_uri": "https://localhost:8080/"
    },
    "id": "_5KCHCnhisAD",
    "outputId": "4869d3a2-bd6e-4bf6-fd2e-782d2d120bd7"
   },
   "outputs": [
    {
     "data": {
      "text/html": [
       "<div>\n",
       "<style scoped>\n",
       "    .dataframe tbody tr th:only-of-type {\n",
       "        vertical-align: middle;\n",
       "    }\n",
       "\n",
       "    .dataframe tbody tr th {\n",
       "        vertical-align: top;\n",
       "    }\n",
       "\n",
       "    .dataframe thead th {\n",
       "        text-align: right;\n",
       "    }\n",
       "</style>\n",
       "<table border=\"1\" class=\"dataframe\">\n",
       "  <thead>\n",
       "    <tr style=\"text-align: right;\">\n",
       "      <th></th>\n",
       "      <th>feature1</th>\n",
       "      <th>feature1b</th>\n",
       "      <th>feature2</th>\n",
       "      <th>feature3</th>\n",
       "      <th>feature4</th>\n",
       "      <th>feature5</th>\n",
       "      <th>feature6</th>\n",
       "      <th>feature0</th>\n",
       "    </tr>\n",
       "  </thead>\n",
       "  <tbody>\n",
       "    <tr>\n",
       "      <th>a</th>\n",
       "      <td>1.0</td>\n",
       "      <td>0.0</td>\n",
       "      <td>5.0</td>\n",
       "      <td>0.0</td>\n",
       "      <td>9.0</td>\n",
       "      <td>0.0</td>\n",
       "      <td>0.0</td>\n",
       "      <td>5.0</td>\n",
       "    </tr>\n",
       "    <tr>\n",
       "      <th>b</th>\n",
       "      <td>2.0</td>\n",
       "      <td>1.0</td>\n",
       "      <td>4.0</td>\n",
       "      <td>8.0</td>\n",
       "      <td>10.0</td>\n",
       "      <td>1.0</td>\n",
       "      <td>0.0</td>\n",
       "      <td>8.0</td>\n",
       "    </tr>\n",
       "    <tr>\n",
       "      <th>c</th>\n",
       "      <td>3.0</td>\n",
       "      <td>2.0</td>\n",
       "      <td>6.0</td>\n",
       "      <td>7.0</td>\n",
       "      <td>0.0</td>\n",
       "      <td>-1.0</td>\n",
       "      <td>0.0</td>\n",
       "      <td>18.0</td>\n",
       "    </tr>\n",
       "    <tr>\n",
       "      <th>d</th>\n",
       "      <td>0.0</td>\n",
       "      <td>0.0</td>\n",
       "      <td>0.0</td>\n",
       "      <td>0.0</td>\n",
       "      <td>0.0</td>\n",
       "      <td>0.0</td>\n",
       "      <td>0.0</td>\n",
       "      <td>0.0</td>\n",
       "    </tr>\n",
       "  </tbody>\n",
       "</table>\n",
       "</div>"
      ],
      "text/plain": [
       "   feature1  feature1b  feature2  feature3  feature4  feature5  feature6  \\\n",
       "a       1.0        0.0       5.0       0.0       9.0       0.0       0.0   \n",
       "b       2.0        1.0       4.0       8.0      10.0       1.0       0.0   \n",
       "c       3.0        2.0       6.0       7.0       0.0      -1.0       0.0   \n",
       "d       0.0        0.0       0.0       0.0       0.0       0.0       0.0   \n",
       "\n",
       "   feature0  \n",
       "a       5.0  \n",
       "b       8.0  \n",
       "c      18.0  \n",
       "d       0.0  "
      ]
     },
     "execution_count": 153,
     "metadata": {},
     "output_type": "execute_result"
    }
   ],
   "source": [
    "df11.loc[\"d\"] = np.nan\n",
    "df11.fillna(0,inplace=True)\n",
    "df11\n",
    "#grades + fixed_bonus_points"
   ]
  },
  {
   "cell_type": "markdown",
   "metadata": {
    "id": "IaN3ZCGlisAE"
   },
   "source": [
    "### Aggregating with groupby\n",
    "Similar to the SQL language, pandas allows grouping your data into groups to run calculations over each group."
   ]
  },
  {
   "cell_type": "code",
   "execution_count": 154,
   "metadata": {
    "colab": {
     "base_uri": "https://localhost:8080/"
    },
    "id": "XJPfRfpzisAF",
    "outputId": "a43ee18f-f8b7-42ce-d4eb-3157b17c0301",
    "scrolled": true
   },
   "outputs": [
    {
     "data": {
      "text/html": [
       "<div>\n",
       "<style scoped>\n",
       "    .dataframe tbody tr th:only-of-type {\n",
       "        vertical-align: middle;\n",
       "    }\n",
       "\n",
       "    .dataframe tbody tr th {\n",
       "        vertical-align: top;\n",
       "    }\n",
       "\n",
       "    .dataframe thead th {\n",
       "        text-align: right;\n",
       "    }\n",
       "</style>\n",
       "<table border=\"1\" class=\"dataframe\">\n",
       "  <thead>\n",
       "    <tr style=\"text-align: right;\">\n",
       "      <th></th>\n",
       "      <th>feature1</th>\n",
       "      <th>feature2</th>\n",
       "      <th>feature3</th>\n",
       "      <th>feature4</th>\n",
       "    </tr>\n",
       "  </thead>\n",
       "  <tbody>\n",
       "    <tr>\n",
       "      <th>a</th>\n",
       "      <td>3</td>\n",
       "      <td>2</td>\n",
       "      <td>32</td>\n",
       "      <td>5</td>\n",
       "    </tr>\n",
       "    <tr>\n",
       "      <th>b</th>\n",
       "      <td>11</td>\n",
       "      <td>2</td>\n",
       "      <td>4</td>\n",
       "      <td>11</td>\n",
       "    </tr>\n",
       "    <tr>\n",
       "      <th>c</th>\n",
       "      <td>14</td>\n",
       "      <td>4</td>\n",
       "      <td>3</td>\n",
       "      <td>2</td>\n",
       "    </tr>\n",
       "    <tr>\n",
       "      <th>d</th>\n",
       "      <td>4</td>\n",
       "      <td>4</td>\n",
       "      <td>35</td>\n",
       "      <td>13</td>\n",
       "    </tr>\n",
       "  </tbody>\n",
       "</table>\n",
       "</div>"
      ],
      "text/plain": [
       "   feature1  feature2  feature3  feature4\n",
       "a         3         2        32         5\n",
       "b        11         2         4        11\n",
       "c        14         4         3         2\n",
       "d         4         4        35        13"
      ]
     },
     "execution_count": 154,
     "metadata": {},
     "output_type": "execute_result"
    }
   ],
   "source": [
    "df5 = pd.DataFrame({\n",
    "    \"feature1\": {\"a\": 3, \"b\": 11, \"c\": 14, 'd':4},\n",
    "    \"feature2\": {\"a\": 2, \"b\": 2, \"c\": 4, 'd':4},\n",
    "    \"feature3\": {\"a\": 32, \"b\": 4, \"c\": 3, 'd':35},\n",
    "    \"feature4\": {\"a\": 5, \"b\": 11, \"c\": 2, 'd':13}\n",
    "})\n",
    "df5"
   ]
  },
  {
   "cell_type": "code",
   "execution_count": 155,
   "metadata": {
    "colab": {
     "base_uri": "https://localhost:8080/"
    },
    "id": "fKg5PlvHisAF",
    "outputId": "8295fe5f-7874-4ee4-f8c1-2a4d82d4436f"
   },
   "outputs": [
    {
     "data": {
      "text/html": [
       "<div>\n",
       "<style scoped>\n",
       "    .dataframe tbody tr th:only-of-type {\n",
       "        vertical-align: middle;\n",
       "    }\n",
       "\n",
       "    .dataframe tbody tr th {\n",
       "        vertical-align: top;\n",
       "    }\n",
       "\n",
       "    .dataframe thead th {\n",
       "        text-align: right;\n",
       "    }\n",
       "</style>\n",
       "<table border=\"1\" class=\"dataframe\">\n",
       "  <thead>\n",
       "    <tr style=\"text-align: right;\">\n",
       "      <th></th>\n",
       "      <th>feature1</th>\n",
       "      <th>feature3</th>\n",
       "      <th>feature4</th>\n",
       "    </tr>\n",
       "    <tr>\n",
       "      <th>feature2</th>\n",
       "      <th></th>\n",
       "      <th></th>\n",
       "      <th></th>\n",
       "    </tr>\n",
       "  </thead>\n",
       "  <tbody>\n",
       "    <tr>\n",
       "      <th>2</th>\n",
       "      <td>7.0</td>\n",
       "      <td>18.0</td>\n",
       "      <td>8.0</td>\n",
       "    </tr>\n",
       "    <tr>\n",
       "      <th>4</th>\n",
       "      <td>9.0</td>\n",
       "      <td>19.0</td>\n",
       "      <td>7.5</td>\n",
       "    </tr>\n",
       "  </tbody>\n",
       "</table>\n",
       "</div>"
      ],
      "text/plain": [
       "          feature1  feature3  feature4\n",
       "feature2                              \n",
       "2              7.0      18.0       8.0\n",
       "4              9.0      19.0       7.5"
      ]
     },
     "execution_count": 155,
     "metadata": {},
     "output_type": "execute_result"
    }
   ],
   "source": [
    "df5.groupby(\"feature2\").mean()"
   ]
  },
  {
   "cell_type": "markdown",
   "metadata": {
    "id": "V5i-VlnrisAF"
   },
   "source": [
    "### Pivot tables\n",
    "pivot tables allows for quick data summarization"
   ]
  },
  {
   "cell_type": "code",
   "execution_count": 156,
   "metadata": {
    "colab": {
     "base_uri": "https://localhost:8080/"
    },
    "id": "Nx556dhEisAF",
    "outputId": "02b72929-dc52-4d6a-bc89-f53e3420bae3"
   },
   "outputs": [
    {
     "data": {
      "text/html": [
       "<div>\n",
       "<style scoped>\n",
       "    .dataframe tbody tr th:only-of-type {\n",
       "        vertical-align: middle;\n",
       "    }\n",
       "\n",
       "    .dataframe tbody tr th {\n",
       "        vertical-align: top;\n",
       "    }\n",
       "\n",
       "    .dataframe thead th {\n",
       "        text-align: right;\n",
       "    }\n",
       "</style>\n",
       "<table border=\"1\" class=\"dataframe\">\n",
       "  <thead>\n",
       "    <tr style=\"text-align: right;\">\n",
       "      <th></th>\n",
       "      <th>level_0</th>\n",
       "      <th>level_1</th>\n",
       "      <th>rows_ab</th>\n",
       "      <th>rows_c</th>\n",
       "    </tr>\n",
       "  </thead>\n",
       "  <tbody>\n",
       "    <tr>\n",
       "      <th>0</th>\n",
       "      <td>feature1</td>\n",
       "      <td>a</td>\n",
       "      <td>444.0</td>\n",
       "      <td>NaN</td>\n",
       "    </tr>\n",
       "    <tr>\n",
       "      <th>1</th>\n",
       "      <td>feature1</td>\n",
       "      <td>b</td>\n",
       "      <td>444.0</td>\n",
       "      <td>NaN</td>\n",
       "    </tr>\n",
       "    <tr>\n",
       "      <th>2</th>\n",
       "      <td>feature1</td>\n",
       "      <td>c</td>\n",
       "      <td>NaN</td>\n",
       "      <td>666.0</td>\n",
       "    </tr>\n",
       "    <tr>\n",
       "      <th>3</th>\n",
       "      <td>feature2</td>\n",
       "      <td>a</td>\n",
       "      <td>111.0</td>\n",
       "      <td>NaN</td>\n",
       "    </tr>\n",
       "    <tr>\n",
       "      <th>4</th>\n",
       "      <td>feature2</td>\n",
       "      <td>b</td>\n",
       "      <td>222.0</td>\n",
       "      <td>NaN</td>\n",
       "    </tr>\n",
       "    <tr>\n",
       "      <th>5</th>\n",
       "      <td>feature3</td>\n",
       "      <td>a</td>\n",
       "      <td>555.0</td>\n",
       "      <td>NaN</td>\n",
       "    </tr>\n",
       "    <tr>\n",
       "      <th>6</th>\n",
       "      <td>feature3</td>\n",
       "      <td>b</td>\n",
       "      <td>333.0</td>\n",
       "      <td>NaN</td>\n",
       "    </tr>\n",
       "    <tr>\n",
       "      <th>7</th>\n",
       "      <td>feature3</td>\n",
       "      <td>c</td>\n",
       "      <td>NaN</td>\n",
       "      <td>777.0</td>\n",
       "    </tr>\n",
       "    <tr>\n",
       "      <th>8</th>\n",
       "      <td>feature4</td>\n",
       "      <td>a</td>\n",
       "      <td>333.0</td>\n",
       "      <td>NaN</td>\n",
       "    </tr>\n",
       "    <tr>\n",
       "      <th>9</th>\n",
       "      <td>feature4</td>\n",
       "      <td>b</td>\n",
       "      <td>999.0</td>\n",
       "      <td>NaN</td>\n",
       "    </tr>\n",
       "    <tr>\n",
       "      <th>10</th>\n",
       "      <td>feature4</td>\n",
       "      <td>c</td>\n",
       "      <td>NaN</td>\n",
       "      <td>888.0</td>\n",
       "    </tr>\n",
       "  </tbody>\n",
       "</table>\n",
       "</div>"
      ],
      "text/plain": [
       "     level_0 level_1  rows_ab  rows_c\n",
       "0   feature1       a    444.0     NaN\n",
       "1   feature1       b    444.0     NaN\n",
       "2   feature1       c      NaN   666.0\n",
       "3   feature2       a    111.0     NaN\n",
       "4   feature2       b    222.0     NaN\n",
       "5   feature3       a    555.0     NaN\n",
       "6   feature3       b    333.0     NaN\n",
       "7   feature3       c      NaN   777.0\n",
       "8   feature4       a    333.0     NaN\n",
       "9   feature4       b    999.0     NaN\n",
       "10  feature4       c      NaN   888.0"
      ]
     },
     "execution_count": 156,
     "metadata": {},
     "output_type": "execute_result"
    }
   ],
   "source": [
    "df9 = df8.stack().reset_index()\n",
    "df9"
   ]
  },
  {
   "cell_type": "code",
   "execution_count": 157,
   "metadata": {
    "colab": {
     "base_uri": "https://localhost:8080/"
    },
    "id": "6FoswDbfisAF",
    "outputId": "6bea896a-9dc8-4024-ecc5-9c62e9ffe0b4"
   },
   "outputs": [
    {
     "data": {
      "text/html": [
       "<div>\n",
       "<style scoped>\n",
       "    .dataframe tbody tr th:only-of-type {\n",
       "        vertical-align: middle;\n",
       "    }\n",
       "\n",
       "    .dataframe tbody tr th {\n",
       "        vertical-align: top;\n",
       "    }\n",
       "\n",
       "    .dataframe thead th {\n",
       "        text-align: right;\n",
       "    }\n",
       "</style>\n",
       "<table border=\"1\" class=\"dataframe\">\n",
       "  <thead>\n",
       "    <tr style=\"text-align: right;\">\n",
       "      <th></th>\n",
       "      <th>rows_ab</th>\n",
       "      <th>rows_c</th>\n",
       "    </tr>\n",
       "    <tr>\n",
       "      <th>level_0</th>\n",
       "      <th></th>\n",
       "      <th></th>\n",
       "    </tr>\n",
       "  </thead>\n",
       "  <tbody>\n",
       "    <tr>\n",
       "      <th>feature1</th>\n",
       "      <td>444.0</td>\n",
       "      <td>666.0</td>\n",
       "    </tr>\n",
       "    <tr>\n",
       "      <th>feature2</th>\n",
       "      <td>166.5</td>\n",
       "      <td>NaN</td>\n",
       "    </tr>\n",
       "    <tr>\n",
       "      <th>feature3</th>\n",
       "      <td>444.0</td>\n",
       "      <td>777.0</td>\n",
       "    </tr>\n",
       "    <tr>\n",
       "      <th>feature4</th>\n",
       "      <td>666.0</td>\n",
       "      <td>888.0</td>\n",
       "    </tr>\n",
       "  </tbody>\n",
       "</table>\n",
       "</div>"
      ],
      "text/plain": [
       "          rows_ab  rows_c\n",
       "level_0                  \n",
       "feature1    444.0   666.0\n",
       "feature2    166.5     NaN\n",
       "feature3    444.0   777.0\n",
       "feature4    666.0   888.0"
      ]
     },
     "execution_count": 157,
     "metadata": {},
     "output_type": "execute_result"
    }
   ],
   "source": [
    "pd.pivot_table(df9, index=\"level_0\")"
   ]
  },
  {
   "cell_type": "code",
   "execution_count": 158,
   "metadata": {
    "colab": {
     "base_uri": "https://localhost:8080/"
    },
    "id": "heLVEMX4isAG",
    "outputId": "262c268b-9f7a-4a54-ebeb-6b21c84fe6d9"
   },
   "outputs": [
    {
     "data": {
      "text/html": [
       "<div>\n",
       "<style scoped>\n",
       "    .dataframe tbody tr th:only-of-type {\n",
       "        vertical-align: middle;\n",
       "    }\n",
       "\n",
       "    .dataframe tbody tr th {\n",
       "        vertical-align: top;\n",
       "    }\n",
       "\n",
       "    .dataframe thead th {\n",
       "        text-align: right;\n",
       "    }\n",
       "</style>\n",
       "<table border=\"1\" class=\"dataframe\">\n",
       "  <thead>\n",
       "    <tr style=\"text-align: right;\">\n",
       "      <th></th>\n",
       "      <th>rows_ab</th>\n",
       "    </tr>\n",
       "    <tr>\n",
       "      <th>level_0</th>\n",
       "      <th></th>\n",
       "    </tr>\n",
       "  </thead>\n",
       "  <tbody>\n",
       "    <tr>\n",
       "      <th>feature1</th>\n",
       "      <td>444.0</td>\n",
       "    </tr>\n",
       "    <tr>\n",
       "      <th>feature2</th>\n",
       "      <td>222.0</td>\n",
       "    </tr>\n",
       "    <tr>\n",
       "      <th>feature3</th>\n",
       "      <td>555.0</td>\n",
       "    </tr>\n",
       "    <tr>\n",
       "      <th>feature4</th>\n",
       "      <td>999.0</td>\n",
       "    </tr>\n",
       "  </tbody>\n",
       "</table>\n",
       "</div>"
      ],
      "text/plain": [
       "          rows_ab\n",
       "level_0          \n",
       "feature1    444.0\n",
       "feature2    222.0\n",
       "feature3    555.0\n",
       "feature4    999.0"
      ]
     },
     "execution_count": 158,
     "metadata": {},
     "output_type": "execute_result"
    }
   ],
   "source": [
    "pd.pivot_table(df9, index=\"level_0\", values=[\"rows_ab\"], aggfunc=np.max)"
   ]
  },
  {
   "cell_type": "markdown",
   "metadata": {
    "id": "Xz6zRQtdisAG"
   },
   "source": [
    "### functions\n",
    "When dealing with large `DataFrames`, it is useful to get a quick overview of its content. Pandas offers a few functions for this. First, let's create a large `DataFrame` with a mix of numeric values, missing values and text values. Notice how Jupyter displays only the corners of the `DataFrame`:"
   ]
  },
  {
   "cell_type": "code",
   "execution_count": 159,
   "metadata": {
    "colab": {
     "base_uri": "https://localhost:8080/"
    },
    "id": "mIqutYyROA_-",
    "outputId": "bfd80249-4ae2-43f6-ae66-3943a73f0c96"
   },
   "outputs": [
    {
     "data": {
      "text/html": [
       "<div>\n",
       "<style scoped>\n",
       "    .dataframe tbody tr th:only-of-type {\n",
       "        vertical-align: middle;\n",
       "    }\n",
       "\n",
       "    .dataframe tbody tr th {\n",
       "        vertical-align: top;\n",
       "    }\n",
       "\n",
       "    .dataframe thead th {\n",
       "        text-align: right;\n",
       "    }\n",
       "</style>\n",
       "<table border=\"1\" class=\"dataframe\">\n",
       "  <thead>\n",
       "    <tr style=\"text-align: right;\">\n",
       "      <th></th>\n",
       "      <th>A</th>\n",
       "      <th>B</th>\n",
       "      <th>C</th>\n",
       "      <th>D</th>\n",
       "      <th>E</th>\n",
       "      <th>F</th>\n",
       "      <th>G</th>\n",
       "      <th>H</th>\n",
       "      <th>I</th>\n",
       "      <th>J</th>\n",
       "      <th>...</th>\n",
       "      <th>Q</th>\n",
       "      <th>R</th>\n",
       "      <th>S</th>\n",
       "      <th>T</th>\n",
       "      <th>U</th>\n",
       "      <th>V</th>\n",
       "      <th>W</th>\n",
       "      <th>X</th>\n",
       "      <th>Y</th>\n",
       "      <th>Z</th>\n",
       "    </tr>\n",
       "  </thead>\n",
       "  <tbody>\n",
       "    <tr>\n",
       "      <th>0</th>\n",
       "      <td>0.0</td>\n",
       "      <td>11.0</td>\n",
       "      <td>22.0</td>\n",
       "      <td>33.0</td>\n",
       "      <td>44.0</td>\n",
       "      <td>55.0</td>\n",
       "      <td>66.0</td>\n",
       "      <td>0.0</td>\n",
       "      <td>11.0</td>\n",
       "      <td>22.0</td>\n",
       "      <td>...</td>\n",
       "      <td>22.0</td>\n",
       "      <td>33.0</td>\n",
       "      <td>44.0</td>\n",
       "      <td>55.0</td>\n",
       "      <td>66.0</td>\n",
       "      <td>0.0</td>\n",
       "      <td>11.0</td>\n",
       "      <td>22.0</td>\n",
       "      <td>33.0</td>\n",
       "      <td>44.0</td>\n",
       "    </tr>\n",
       "    <tr>\n",
       "      <th>1</th>\n",
       "      <td>11.0</td>\n",
       "      <td>22.0</td>\n",
       "      <td>33.0</td>\n",
       "      <td>44.0</td>\n",
       "      <td>55.0</td>\n",
       "      <td>66.0</td>\n",
       "      <td>0.0</td>\n",
       "      <td>11.0</td>\n",
       "      <td>22.0</td>\n",
       "      <td>33.0</td>\n",
       "      <td>...</td>\n",
       "      <td>33.0</td>\n",
       "      <td>44.0</td>\n",
       "      <td>55.0</td>\n",
       "      <td>66.0</td>\n",
       "      <td>0.0</td>\n",
       "      <td>11.0</td>\n",
       "      <td>22.0</td>\n",
       "      <td>33.0</td>\n",
       "      <td>44.0</td>\n",
       "      <td>55.0</td>\n",
       "    </tr>\n",
       "    <tr>\n",
       "      <th>2</th>\n",
       "      <td>22.0</td>\n",
       "      <td>33.0</td>\n",
       "      <td>44.0</td>\n",
       "      <td>55.0</td>\n",
       "      <td>66.0</td>\n",
       "      <td>0.0</td>\n",
       "      <td>11.0</td>\n",
       "      <td>22.0</td>\n",
       "      <td>33.0</td>\n",
       "      <td>44.0</td>\n",
       "      <td>...</td>\n",
       "      <td>44.0</td>\n",
       "      <td>55.0</td>\n",
       "      <td>66.0</td>\n",
       "      <td>0.0</td>\n",
       "      <td>11.0</td>\n",
       "      <td>22.0</td>\n",
       "      <td>33.0</td>\n",
       "      <td>44.0</td>\n",
       "      <td>55.0</td>\n",
       "      <td>66.0</td>\n",
       "    </tr>\n",
       "    <tr>\n",
       "      <th>3</th>\n",
       "      <td>33.0</td>\n",
       "      <td>44.0</td>\n",
       "      <td>55.0</td>\n",
       "      <td>66.0</td>\n",
       "      <td>0.0</td>\n",
       "      <td>11.0</td>\n",
       "      <td>22.0</td>\n",
       "      <td>33.0</td>\n",
       "      <td>44.0</td>\n",
       "      <td>55.0</td>\n",
       "      <td>...</td>\n",
       "      <td>55.0</td>\n",
       "      <td>66.0</td>\n",
       "      <td>0.0</td>\n",
       "      <td>11.0</td>\n",
       "      <td>22.0</td>\n",
       "      <td>33.0</td>\n",
       "      <td>44.0</td>\n",
       "      <td>55.0</td>\n",
       "      <td>66.0</td>\n",
       "      <td>0.0</td>\n",
       "    </tr>\n",
       "    <tr>\n",
       "      <th>4</th>\n",
       "      <td>44.0</td>\n",
       "      <td>55.0</td>\n",
       "      <td>66.0</td>\n",
       "      <td>0.0</td>\n",
       "      <td>11.0</td>\n",
       "      <td>22.0</td>\n",
       "      <td>33.0</td>\n",
       "      <td>44.0</td>\n",
       "      <td>55.0</td>\n",
       "      <td>66.0</td>\n",
       "      <td>...</td>\n",
       "      <td>66.0</td>\n",
       "      <td>0.0</td>\n",
       "      <td>11.0</td>\n",
       "      <td>22.0</td>\n",
       "      <td>33.0</td>\n",
       "      <td>44.0</td>\n",
       "      <td>55.0</td>\n",
       "      <td>66.0</td>\n",
       "      <td>0.0</td>\n",
       "      <td>11.0</td>\n",
       "    </tr>\n",
       "  </tbody>\n",
       "</table>\n",
       "<p>5 rows × 26 columns</p>\n",
       "</div>"
      ],
      "text/plain": [
       "      A     B     C     D     E     F     G     H     I     J  ...     Q  \\\n",
       "0   0.0  11.0  22.0  33.0  44.0  55.0  66.0   0.0  11.0  22.0  ...  22.0   \n",
       "1  11.0  22.0  33.0  44.0  55.0  66.0   0.0  11.0  22.0  33.0  ...  33.0   \n",
       "2  22.0  33.0  44.0  55.0  66.0   0.0  11.0  22.0  33.0  44.0  ...  44.0   \n",
       "3  33.0  44.0  55.0  66.0   0.0  11.0  22.0  33.0  44.0  55.0  ...  55.0   \n",
       "4  44.0  55.0  66.0   0.0  11.0  22.0  33.0  44.0  55.0  66.0  ...  66.0   \n",
       "\n",
       "      R     S     T     U     V     W     X     Y     Z  \n",
       "0  33.0  44.0  55.0  66.0   0.0  11.0  22.0  33.0  44.0  \n",
       "1  44.0  55.0  66.0   0.0  11.0  22.0  33.0  44.0  55.0  \n",
       "2  55.0  66.0   0.0  11.0  22.0  33.0  44.0  55.0  66.0  \n",
       "3  66.0   0.0  11.0  22.0  33.0  44.0  55.0  66.0   0.0  \n",
       "4   0.0  11.0  22.0  33.0  44.0  55.0  66.0   0.0  11.0  \n",
       "\n",
       "[5 rows x 26 columns]"
      ]
     },
     "execution_count": 159,
     "metadata": {},
     "output_type": "execute_result"
    }
   ],
   "source": [
    "df = np.fromfunction(lambda x,y: (x+y)%7*11, (10000, 26))\n",
    "large_df = pd.DataFrame(df, columns=list(\"ABCDEFGHIJKLMNOPQRSTUVWXYZ\"))\n",
    "large_df.head(5)"
   ]
  },
  {
   "cell_type": "code",
   "execution_count": 160,
   "metadata": {
    "colab": {
     "base_uri": "https://localhost:8080/"
    },
    "id": "PxqoBz4IOd8A",
    "outputId": "e7bcf1ab-9aad-4ed2-c847-7f98f98a86eb"
   },
   "outputs": [
    {
     "data": {
      "text/html": [
       "<div>\n",
       "<style scoped>\n",
       "    .dataframe tbody tr th:only-of-type {\n",
       "        vertical-align: middle;\n",
       "    }\n",
       "\n",
       "    .dataframe tbody tr th {\n",
       "        vertical-align: top;\n",
       "    }\n",
       "\n",
       "    .dataframe thead th {\n",
       "        text-align: right;\n",
       "    }\n",
       "</style>\n",
       "<table border=\"1\" class=\"dataframe\">\n",
       "  <thead>\n",
       "    <tr style=\"text-align: right;\">\n",
       "      <th></th>\n",
       "      <th>A</th>\n",
       "      <th>B</th>\n",
       "      <th>C</th>\n",
       "      <th>feature1</th>\n",
       "      <th>D</th>\n",
       "      <th>E</th>\n",
       "      <th>F</th>\n",
       "      <th>G</th>\n",
       "      <th>H</th>\n",
       "      <th>I</th>\n",
       "      <th>...</th>\n",
       "      <th>Q</th>\n",
       "      <th>R</th>\n",
       "      <th>S</th>\n",
       "      <th>T</th>\n",
       "      <th>U</th>\n",
       "      <th>V</th>\n",
       "      <th>W</th>\n",
       "      <th>X</th>\n",
       "      <th>Y</th>\n",
       "      <th>Z</th>\n",
       "    </tr>\n",
       "  </thead>\n",
       "  <tbody>\n",
       "    <tr>\n",
       "      <th>0</th>\n",
       "      <td>NaN</td>\n",
       "      <td>11.0</td>\n",
       "      <td>22.0</td>\n",
       "      <td>xxx</td>\n",
       "      <td>NaN</td>\n",
       "      <td>44.0</td>\n",
       "      <td>55.0</td>\n",
       "      <td>NaN</td>\n",
       "      <td>NaN</td>\n",
       "      <td>11.0</td>\n",
       "      <td>...</td>\n",
       "      <td>22.0</td>\n",
       "      <td>NaN</td>\n",
       "      <td>44.0</td>\n",
       "      <td>55.0</td>\n",
       "      <td>NaN</td>\n",
       "      <td>NaN</td>\n",
       "      <td>11.0</td>\n",
       "      <td>22.0</td>\n",
       "      <td>NaN</td>\n",
       "      <td>44.0</td>\n",
       "    </tr>\n",
       "    <tr>\n",
       "      <th>1</th>\n",
       "      <td>11.0</td>\n",
       "      <td>22.0</td>\n",
       "      <td>NaN</td>\n",
       "      <td>xxx</td>\n",
       "      <td>44.0</td>\n",
       "      <td>55.0</td>\n",
       "      <td>NaN</td>\n",
       "      <td>NaN</td>\n",
       "      <td>11.0</td>\n",
       "      <td>22.0</td>\n",
       "      <td>...</td>\n",
       "      <td>NaN</td>\n",
       "      <td>44.0</td>\n",
       "      <td>55.0</td>\n",
       "      <td>NaN</td>\n",
       "      <td>NaN</td>\n",
       "      <td>11.0</td>\n",
       "      <td>22.0</td>\n",
       "      <td>NaN</td>\n",
       "      <td>44.0</td>\n",
       "      <td>55.0</td>\n",
       "    </tr>\n",
       "    <tr>\n",
       "      <th>2</th>\n",
       "      <td>22.0</td>\n",
       "      <td>NaN</td>\n",
       "      <td>44.0</td>\n",
       "      <td>xxx</td>\n",
       "      <td>55.0</td>\n",
       "      <td>NaN</td>\n",
       "      <td>NaN</td>\n",
       "      <td>11.0</td>\n",
       "      <td>22.0</td>\n",
       "      <td>NaN</td>\n",
       "      <td>...</td>\n",
       "      <td>44.0</td>\n",
       "      <td>55.0</td>\n",
       "      <td>NaN</td>\n",
       "      <td>NaN</td>\n",
       "      <td>11.0</td>\n",
       "      <td>22.0</td>\n",
       "      <td>NaN</td>\n",
       "      <td>44.0</td>\n",
       "      <td>55.0</td>\n",
       "      <td>NaN</td>\n",
       "    </tr>\n",
       "    <tr>\n",
       "      <th>3</th>\n",
       "      <td>NaN</td>\n",
       "      <td>44.0</td>\n",
       "      <td>55.0</td>\n",
       "      <td>xxx</td>\n",
       "      <td>NaN</td>\n",
       "      <td>NaN</td>\n",
       "      <td>11.0</td>\n",
       "      <td>22.0</td>\n",
       "      <td>NaN</td>\n",
       "      <td>44.0</td>\n",
       "      <td>...</td>\n",
       "      <td>55.0</td>\n",
       "      <td>NaN</td>\n",
       "      <td>NaN</td>\n",
       "      <td>11.0</td>\n",
       "      <td>22.0</td>\n",
       "      <td>NaN</td>\n",
       "      <td>44.0</td>\n",
       "      <td>55.0</td>\n",
       "      <td>NaN</td>\n",
       "      <td>NaN</td>\n",
       "    </tr>\n",
       "    <tr>\n",
       "      <th>4</th>\n",
       "      <td>44.0</td>\n",
       "      <td>55.0</td>\n",
       "      <td>NaN</td>\n",
       "      <td>xxx</td>\n",
       "      <td>NaN</td>\n",
       "      <td>11.0</td>\n",
       "      <td>22.0</td>\n",
       "      <td>NaN</td>\n",
       "      <td>44.0</td>\n",
       "      <td>55.0</td>\n",
       "      <td>...</td>\n",
       "      <td>NaN</td>\n",
       "      <td>NaN</td>\n",
       "      <td>11.0</td>\n",
       "      <td>22.0</td>\n",
       "      <td>NaN</td>\n",
       "      <td>44.0</td>\n",
       "      <td>55.0</td>\n",
       "      <td>NaN</td>\n",
       "      <td>NaN</td>\n",
       "      <td>11.0</td>\n",
       "    </tr>\n",
       "  </tbody>\n",
       "</table>\n",
       "<p>5 rows × 27 columns</p>\n",
       "</div>"
      ],
      "text/plain": [
       "      A     B     C feature1     D     E     F     G     H     I  ...     Q  \\\n",
       "0   NaN  11.0  22.0      xxx   NaN  44.0  55.0   NaN   NaN  11.0  ...  22.0   \n",
       "1  11.0  22.0   NaN      xxx  44.0  55.0   NaN   NaN  11.0  22.0  ...   NaN   \n",
       "2  22.0   NaN  44.0      xxx  55.0   NaN   NaN  11.0  22.0   NaN  ...  44.0   \n",
       "3   NaN  44.0  55.0      xxx   NaN   NaN  11.0  22.0   NaN  44.0  ...  55.0   \n",
       "4  44.0  55.0   NaN      xxx   NaN  11.0  22.0   NaN  44.0  55.0  ...   NaN   \n",
       "\n",
       "      R     S     T     U     V     W     X     Y     Z  \n",
       "0   NaN  44.0  55.0   NaN   NaN  11.0  22.0   NaN  44.0  \n",
       "1  44.0  55.0   NaN   NaN  11.0  22.0   NaN  44.0  55.0  \n",
       "2  55.0   NaN   NaN  11.0  22.0   NaN  44.0  55.0   NaN  \n",
       "3   NaN   NaN  11.0  22.0   NaN  44.0  55.0   NaN   NaN  \n",
       "4   NaN  11.0  22.0   NaN  44.0  55.0   NaN   NaN  11.0  \n",
       "\n",
       "[5 rows x 27 columns]"
      ]
     },
     "execution_count": 160,
     "metadata": {},
     "output_type": "execute_result"
    }
   ],
   "source": [
    "large_df[large_df % 3 == 0] = np.nan\n",
    "large_df.insert(3,\"feature1\", \"xxx\")\n",
    "large_df.head(5)"
   ]
  },
  {
   "cell_type": "code",
   "execution_count": 161,
   "metadata": {
    "colab": {
     "base_uri": "https://localhost:8080/"
    },
    "id": "JHFjynw9isAH",
    "outputId": "e6057dd2-4d87-4954-ac1c-c3eeedf252f1"
   },
   "outputs": [
    {
     "data": {
      "text/html": [
       "<div>\n",
       "<style scoped>\n",
       "    .dataframe tbody tr th:only-of-type {\n",
       "        vertical-align: middle;\n",
       "    }\n",
       "\n",
       "    .dataframe tbody tr th {\n",
       "        vertical-align: top;\n",
       "    }\n",
       "\n",
       "    .dataframe thead th {\n",
       "        text-align: right;\n",
       "    }\n",
       "</style>\n",
       "<table border=\"1\" class=\"dataframe\">\n",
       "  <thead>\n",
       "    <tr style=\"text-align: right;\">\n",
       "      <th></th>\n",
       "      <th>A</th>\n",
       "      <th>B</th>\n",
       "      <th>C</th>\n",
       "      <th>feature1</th>\n",
       "      <th>D</th>\n",
       "      <th>E</th>\n",
       "      <th>F</th>\n",
       "      <th>G</th>\n",
       "      <th>H</th>\n",
       "      <th>I</th>\n",
       "      <th>...</th>\n",
       "      <th>Q</th>\n",
       "      <th>R</th>\n",
       "      <th>S</th>\n",
       "      <th>T</th>\n",
       "      <th>U</th>\n",
       "      <th>V</th>\n",
       "      <th>W</th>\n",
       "      <th>X</th>\n",
       "      <th>Y</th>\n",
       "      <th>Z</th>\n",
       "    </tr>\n",
       "  </thead>\n",
       "  <tbody>\n",
       "    <tr>\n",
       "      <th>9996</th>\n",
       "      <td>NaN</td>\n",
       "      <td>11.0</td>\n",
       "      <td>22.0</td>\n",
       "      <td>xxx</td>\n",
       "      <td>NaN</td>\n",
       "      <td>44.0</td>\n",
       "      <td>55.0</td>\n",
       "      <td>NaN</td>\n",
       "      <td>NaN</td>\n",
       "      <td>11.0</td>\n",
       "      <td>...</td>\n",
       "      <td>22.0</td>\n",
       "      <td>NaN</td>\n",
       "      <td>44.0</td>\n",
       "      <td>55.0</td>\n",
       "      <td>NaN</td>\n",
       "      <td>NaN</td>\n",
       "      <td>11.0</td>\n",
       "      <td>22.0</td>\n",
       "      <td>NaN</td>\n",
       "      <td>44.0</td>\n",
       "    </tr>\n",
       "    <tr>\n",
       "      <th>9997</th>\n",
       "      <td>11.0</td>\n",
       "      <td>22.0</td>\n",
       "      <td>NaN</td>\n",
       "      <td>xxx</td>\n",
       "      <td>44.0</td>\n",
       "      <td>55.0</td>\n",
       "      <td>NaN</td>\n",
       "      <td>NaN</td>\n",
       "      <td>11.0</td>\n",
       "      <td>22.0</td>\n",
       "      <td>...</td>\n",
       "      <td>NaN</td>\n",
       "      <td>44.0</td>\n",
       "      <td>55.0</td>\n",
       "      <td>NaN</td>\n",
       "      <td>NaN</td>\n",
       "      <td>11.0</td>\n",
       "      <td>22.0</td>\n",
       "      <td>NaN</td>\n",
       "      <td>44.0</td>\n",
       "      <td>55.0</td>\n",
       "    </tr>\n",
       "    <tr>\n",
       "      <th>9998</th>\n",
       "      <td>22.0</td>\n",
       "      <td>NaN</td>\n",
       "      <td>44.0</td>\n",
       "      <td>xxx</td>\n",
       "      <td>55.0</td>\n",
       "      <td>NaN</td>\n",
       "      <td>NaN</td>\n",
       "      <td>11.0</td>\n",
       "      <td>22.0</td>\n",
       "      <td>NaN</td>\n",
       "      <td>...</td>\n",
       "      <td>44.0</td>\n",
       "      <td>55.0</td>\n",
       "      <td>NaN</td>\n",
       "      <td>NaN</td>\n",
       "      <td>11.0</td>\n",
       "      <td>22.0</td>\n",
       "      <td>NaN</td>\n",
       "      <td>44.0</td>\n",
       "      <td>55.0</td>\n",
       "      <td>NaN</td>\n",
       "    </tr>\n",
       "    <tr>\n",
       "      <th>9999</th>\n",
       "      <td>NaN</td>\n",
       "      <td>44.0</td>\n",
       "      <td>55.0</td>\n",
       "      <td>xxx</td>\n",
       "      <td>NaN</td>\n",
       "      <td>NaN</td>\n",
       "      <td>11.0</td>\n",
       "      <td>22.0</td>\n",
       "      <td>NaN</td>\n",
       "      <td>44.0</td>\n",
       "      <td>...</td>\n",
       "      <td>55.0</td>\n",
       "      <td>NaN</td>\n",
       "      <td>NaN</td>\n",
       "      <td>11.0</td>\n",
       "      <td>22.0</td>\n",
       "      <td>NaN</td>\n",
       "      <td>44.0</td>\n",
       "      <td>55.0</td>\n",
       "      <td>NaN</td>\n",
       "      <td>NaN</td>\n",
       "    </tr>\n",
       "  </tbody>\n",
       "</table>\n",
       "<p>4 rows × 27 columns</p>\n",
       "</div>"
      ],
      "text/plain": [
       "         A     B     C feature1     D     E     F     G     H     I  ...  \\\n",
       "9996   NaN  11.0  22.0      xxx   NaN  44.0  55.0   NaN   NaN  11.0  ...   \n",
       "9997  11.0  22.0   NaN      xxx  44.0  55.0   NaN   NaN  11.0  22.0  ...   \n",
       "9998  22.0   NaN  44.0      xxx  55.0   NaN   NaN  11.0  22.0   NaN  ...   \n",
       "9999   NaN  44.0  55.0      xxx   NaN   NaN  11.0  22.0   NaN  44.0  ...   \n",
       "\n",
       "         Q     R     S     T     U     V     W     X     Y     Z  \n",
       "9996  22.0   NaN  44.0  55.0   NaN   NaN  11.0  22.0   NaN  44.0  \n",
       "9997   NaN  44.0  55.0   NaN   NaN  11.0  22.0   NaN  44.0  55.0  \n",
       "9998  44.0  55.0   NaN   NaN  11.0  22.0   NaN  44.0  55.0   NaN  \n",
       "9999  55.0   NaN   NaN  11.0  22.0   NaN  44.0  55.0   NaN   NaN  \n",
       "\n",
       "[4 rows x 27 columns]"
      ]
     },
     "execution_count": 161,
     "metadata": {},
     "output_type": "execute_result"
    }
   ],
   "source": [
    "large_df.tail(4)"
   ]
  },
  {
   "cell_type": "code",
   "execution_count": 162,
   "metadata": {
    "colab": {
     "base_uri": "https://localhost:8080/"
    },
    "id": "rGnJYwRYisAH",
    "outputId": "9fff8a7c-436e-4bd3-eace-d299c254420e"
   },
   "outputs": [
    {
     "data": {
      "text/html": [
       "<div>\n",
       "<style scoped>\n",
       "    .dataframe tbody tr th:only-of-type {\n",
       "        vertical-align: middle;\n",
       "    }\n",
       "\n",
       "    .dataframe tbody tr th {\n",
       "        vertical-align: top;\n",
       "    }\n",
       "\n",
       "    .dataframe thead th {\n",
       "        text-align: right;\n",
       "    }\n",
       "</style>\n",
       "<table border=\"1\" class=\"dataframe\">\n",
       "  <thead>\n",
       "    <tr style=\"text-align: right;\">\n",
       "      <th></th>\n",
       "      <th>A</th>\n",
       "      <th>B</th>\n",
       "      <th>C</th>\n",
       "      <th>D</th>\n",
       "      <th>E</th>\n",
       "      <th>F</th>\n",
       "      <th>G</th>\n",
       "      <th>H</th>\n",
       "      <th>I</th>\n",
       "      <th>J</th>\n",
       "      <th>...</th>\n",
       "      <th>Q</th>\n",
       "      <th>R</th>\n",
       "      <th>S</th>\n",
       "      <th>T</th>\n",
       "      <th>U</th>\n",
       "      <th>V</th>\n",
       "      <th>W</th>\n",
       "      <th>X</th>\n",
       "      <th>Y</th>\n",
       "      <th>Z</th>\n",
       "    </tr>\n",
       "  </thead>\n",
       "  <tbody>\n",
       "    <tr>\n",
       "      <th>count</th>\n",
       "      <td>5714.000000</td>\n",
       "      <td>5715.000000</td>\n",
       "      <td>5715.000000</td>\n",
       "      <td>5714.000000</td>\n",
       "      <td>5714.000000</td>\n",
       "      <td>5714.000000</td>\n",
       "      <td>5714.000000</td>\n",
       "      <td>5714.000000</td>\n",
       "      <td>5715.000000</td>\n",
       "      <td>5715.000000</td>\n",
       "      <td>...</td>\n",
       "      <td>5715.000000</td>\n",
       "      <td>5714.000000</td>\n",
       "      <td>5714.000000</td>\n",
       "      <td>5714.000000</td>\n",
       "      <td>5714.000000</td>\n",
       "      <td>5714.000000</td>\n",
       "      <td>5715.000000</td>\n",
       "      <td>5715.000000</td>\n",
       "      <td>5714.000000</td>\n",
       "      <td>5714.000000</td>\n",
       "    </tr>\n",
       "    <tr>\n",
       "      <th>mean</th>\n",
       "      <td>32.994225</td>\n",
       "      <td>32.996150</td>\n",
       "      <td>33.003850</td>\n",
       "      <td>33.005775</td>\n",
       "      <td>33.005775</td>\n",
       "      <td>33.000000</td>\n",
       "      <td>32.994225</td>\n",
       "      <td>32.994225</td>\n",
       "      <td>32.996150</td>\n",
       "      <td>33.003850</td>\n",
       "      <td>...</td>\n",
       "      <td>33.003850</td>\n",
       "      <td>33.005775</td>\n",
       "      <td>33.005775</td>\n",
       "      <td>33.000000</td>\n",
       "      <td>32.994225</td>\n",
       "      <td>32.994225</td>\n",
       "      <td>32.996150</td>\n",
       "      <td>33.003850</td>\n",
       "      <td>33.005775</td>\n",
       "      <td>33.005775</td>\n",
       "    </tr>\n",
       "    <tr>\n",
       "      <th>std</th>\n",
       "      <td>17.394048</td>\n",
       "      <td>17.393135</td>\n",
       "      <td>17.393135</td>\n",
       "      <td>17.394048</td>\n",
       "      <td>17.394048</td>\n",
       "      <td>17.395876</td>\n",
       "      <td>17.394048</td>\n",
       "      <td>17.394048</td>\n",
       "      <td>17.393135</td>\n",
       "      <td>17.393135</td>\n",
       "      <td>...</td>\n",
       "      <td>17.393135</td>\n",
       "      <td>17.394048</td>\n",
       "      <td>17.394048</td>\n",
       "      <td>17.395876</td>\n",
       "      <td>17.394048</td>\n",
       "      <td>17.394048</td>\n",
       "      <td>17.393135</td>\n",
       "      <td>17.393135</td>\n",
       "      <td>17.394048</td>\n",
       "      <td>17.394048</td>\n",
       "    </tr>\n",
       "    <tr>\n",
       "      <th>min</th>\n",
       "      <td>11.000000</td>\n",
       "      <td>11.000000</td>\n",
       "      <td>11.000000</td>\n",
       "      <td>11.000000</td>\n",
       "      <td>11.000000</td>\n",
       "      <td>11.000000</td>\n",
       "      <td>11.000000</td>\n",
       "      <td>11.000000</td>\n",
       "      <td>11.000000</td>\n",
       "      <td>11.000000</td>\n",
       "      <td>...</td>\n",
       "      <td>11.000000</td>\n",
       "      <td>11.000000</td>\n",
       "      <td>11.000000</td>\n",
       "      <td>11.000000</td>\n",
       "      <td>11.000000</td>\n",
       "      <td>11.000000</td>\n",
       "      <td>11.000000</td>\n",
       "      <td>11.000000</td>\n",
       "      <td>11.000000</td>\n",
       "      <td>11.000000</td>\n",
       "    </tr>\n",
       "    <tr>\n",
       "      <th>25%</th>\n",
       "      <td>13.750000</td>\n",
       "      <td>16.500000</td>\n",
       "      <td>22.000000</td>\n",
       "      <td>22.000000</td>\n",
       "      <td>22.000000</td>\n",
       "      <td>13.750000</td>\n",
       "      <td>13.750000</td>\n",
       "      <td>13.750000</td>\n",
       "      <td>16.500000</td>\n",
       "      <td>22.000000</td>\n",
       "      <td>...</td>\n",
       "      <td>22.000000</td>\n",
       "      <td>22.000000</td>\n",
       "      <td>22.000000</td>\n",
       "      <td>13.750000</td>\n",
       "      <td>13.750000</td>\n",
       "      <td>13.750000</td>\n",
       "      <td>16.500000</td>\n",
       "      <td>22.000000</td>\n",
       "      <td>22.000000</td>\n",
       "      <td>22.000000</td>\n",
       "    </tr>\n",
       "    <tr>\n",
       "      <th>50%</th>\n",
       "      <td>22.000000</td>\n",
       "      <td>22.000000</td>\n",
       "      <td>44.000000</td>\n",
       "      <td>44.000000</td>\n",
       "      <td>44.000000</td>\n",
       "      <td>33.000000</td>\n",
       "      <td>22.000000</td>\n",
       "      <td>22.000000</td>\n",
       "      <td>22.000000</td>\n",
       "      <td>44.000000</td>\n",
       "      <td>...</td>\n",
       "      <td>44.000000</td>\n",
       "      <td>44.000000</td>\n",
       "      <td>44.000000</td>\n",
       "      <td>33.000000</td>\n",
       "      <td>22.000000</td>\n",
       "      <td>22.000000</td>\n",
       "      <td>22.000000</td>\n",
       "      <td>44.000000</td>\n",
       "      <td>44.000000</td>\n",
       "      <td>44.000000</td>\n",
       "    </tr>\n",
       "    <tr>\n",
       "      <th>75%</th>\n",
       "      <td>44.000000</td>\n",
       "      <td>44.000000</td>\n",
       "      <td>49.500000</td>\n",
       "      <td>52.250000</td>\n",
       "      <td>52.250000</td>\n",
       "      <td>52.250000</td>\n",
       "      <td>44.000000</td>\n",
       "      <td>44.000000</td>\n",
       "      <td>44.000000</td>\n",
       "      <td>49.500000</td>\n",
       "      <td>...</td>\n",
       "      <td>49.500000</td>\n",
       "      <td>52.250000</td>\n",
       "      <td>52.250000</td>\n",
       "      <td>52.250000</td>\n",
       "      <td>44.000000</td>\n",
       "      <td>44.000000</td>\n",
       "      <td>44.000000</td>\n",
       "      <td>49.500000</td>\n",
       "      <td>52.250000</td>\n",
       "      <td>52.250000</td>\n",
       "    </tr>\n",
       "    <tr>\n",
       "      <th>max</th>\n",
       "      <td>55.000000</td>\n",
       "      <td>55.000000</td>\n",
       "      <td>55.000000</td>\n",
       "      <td>55.000000</td>\n",
       "      <td>55.000000</td>\n",
       "      <td>55.000000</td>\n",
       "      <td>55.000000</td>\n",
       "      <td>55.000000</td>\n",
       "      <td>55.000000</td>\n",
       "      <td>55.000000</td>\n",
       "      <td>...</td>\n",
       "      <td>55.000000</td>\n",
       "      <td>55.000000</td>\n",
       "      <td>55.000000</td>\n",
       "      <td>55.000000</td>\n",
       "      <td>55.000000</td>\n",
       "      <td>55.000000</td>\n",
       "      <td>55.000000</td>\n",
       "      <td>55.000000</td>\n",
       "      <td>55.000000</td>\n",
       "      <td>55.000000</td>\n",
       "    </tr>\n",
       "  </tbody>\n",
       "</table>\n",
       "<p>8 rows × 26 columns</p>\n",
       "</div>"
      ],
      "text/plain": [
       "                 A            B            C            D            E  \\\n",
       "count  5714.000000  5715.000000  5715.000000  5714.000000  5714.000000   \n",
       "mean     32.994225    32.996150    33.003850    33.005775    33.005775   \n",
       "std      17.394048    17.393135    17.393135    17.394048    17.394048   \n",
       "min      11.000000    11.000000    11.000000    11.000000    11.000000   \n",
       "25%      13.750000    16.500000    22.000000    22.000000    22.000000   \n",
       "50%      22.000000    22.000000    44.000000    44.000000    44.000000   \n",
       "75%      44.000000    44.000000    49.500000    52.250000    52.250000   \n",
       "max      55.000000    55.000000    55.000000    55.000000    55.000000   \n",
       "\n",
       "                 F            G            H            I            J  ...  \\\n",
       "count  5714.000000  5714.000000  5714.000000  5715.000000  5715.000000  ...   \n",
       "mean     33.000000    32.994225    32.994225    32.996150    33.003850  ...   \n",
       "std      17.395876    17.394048    17.394048    17.393135    17.393135  ...   \n",
       "min      11.000000    11.000000    11.000000    11.000000    11.000000  ...   \n",
       "25%      13.750000    13.750000    13.750000    16.500000    22.000000  ...   \n",
       "50%      33.000000    22.000000    22.000000    22.000000    44.000000  ...   \n",
       "75%      52.250000    44.000000    44.000000    44.000000    49.500000  ...   \n",
       "max      55.000000    55.000000    55.000000    55.000000    55.000000  ...   \n",
       "\n",
       "                 Q            R            S            T            U  \\\n",
       "count  5715.000000  5714.000000  5714.000000  5714.000000  5714.000000   \n",
       "mean     33.003850    33.005775    33.005775    33.000000    32.994225   \n",
       "std      17.393135    17.394048    17.394048    17.395876    17.394048   \n",
       "min      11.000000    11.000000    11.000000    11.000000    11.000000   \n",
       "25%      22.000000    22.000000    22.000000    13.750000    13.750000   \n",
       "50%      44.000000    44.000000    44.000000    33.000000    22.000000   \n",
       "75%      49.500000    52.250000    52.250000    52.250000    44.000000   \n",
       "max      55.000000    55.000000    55.000000    55.000000    55.000000   \n",
       "\n",
       "                 V            W            X            Y            Z  \n",
       "count  5714.000000  5715.000000  5715.000000  5714.000000  5714.000000  \n",
       "mean     32.994225    32.996150    33.003850    33.005775    33.005775  \n",
       "std      17.394048    17.393135    17.393135    17.394048    17.394048  \n",
       "min      11.000000    11.000000    11.000000    11.000000    11.000000  \n",
       "25%      13.750000    16.500000    22.000000    22.000000    22.000000  \n",
       "50%      22.000000    22.000000    44.000000    44.000000    44.000000  \n",
       "75%      44.000000    44.000000    49.500000    52.250000    52.250000  \n",
       "max      55.000000    55.000000    55.000000    55.000000    55.000000  \n",
       "\n",
       "[8 rows x 26 columns]"
      ]
     },
     "execution_count": 162,
     "metadata": {},
     "output_type": "execute_result"
    }
   ],
   "source": [
    "large_df.describe()"
   ]
  },
  {
   "cell_type": "markdown",
   "metadata": {
    "id": "ZD5aidaqisAH"
   },
   "source": [
    "### saving and loading\n"
   ]
  },
  {
   "cell_type": "code",
   "execution_count": 163,
   "metadata": {
    "colab": {
     "base_uri": "https://localhost:8080/"
    },
    "id": "HkYIx-swisAH",
    "outputId": "598bbc99-98cd-4f9a-9c81-9b236bd62e14"
   },
   "outputs": [
    {
     "data": {
      "text/html": [
       "<div>\n",
       "<style scoped>\n",
       "    .dataframe tbody tr th:only-of-type {\n",
       "        vertical-align: middle;\n",
       "    }\n",
       "\n",
       "    .dataframe tbody tr th {\n",
       "        vertical-align: top;\n",
       "    }\n",
       "\n",
       "    .dataframe thead th {\n",
       "        text-align: right;\n",
       "    }\n",
       "</style>\n",
       "<table border=\"1\" class=\"dataframe\">\n",
       "  <thead>\n",
       "    <tr style=\"text-align: right;\">\n",
       "      <th></th>\n",
       "      <th>A</th>\n",
       "      <th>B</th>\n",
       "      <th>C</th>\n",
       "      <th>feature1</th>\n",
       "      <th>D</th>\n",
       "      <th>E</th>\n",
       "      <th>F</th>\n",
       "      <th>G</th>\n",
       "      <th>H</th>\n",
       "      <th>I</th>\n",
       "      <th>...</th>\n",
       "      <th>Q</th>\n",
       "      <th>R</th>\n",
       "      <th>S</th>\n",
       "      <th>T</th>\n",
       "      <th>U</th>\n",
       "      <th>V</th>\n",
       "      <th>W</th>\n",
       "      <th>X</th>\n",
       "      <th>Y</th>\n",
       "      <th>Z</th>\n",
       "    </tr>\n",
       "  </thead>\n",
       "  <tbody>\n",
       "    <tr>\n",
       "      <th>0</th>\n",
       "      <td>NaN</td>\n",
       "      <td>11.0</td>\n",
       "      <td>22.0</td>\n",
       "      <td>xxx</td>\n",
       "      <td>NaN</td>\n",
       "      <td>44.0</td>\n",
       "      <td>55.0</td>\n",
       "      <td>NaN</td>\n",
       "      <td>NaN</td>\n",
       "      <td>11.0</td>\n",
       "      <td>...</td>\n",
       "      <td>22.0</td>\n",
       "      <td>NaN</td>\n",
       "      <td>44.0</td>\n",
       "      <td>55.0</td>\n",
       "      <td>NaN</td>\n",
       "      <td>NaN</td>\n",
       "      <td>11.0</td>\n",
       "      <td>22.0</td>\n",
       "      <td>NaN</td>\n",
       "      <td>44.0</td>\n",
       "    </tr>\n",
       "    <tr>\n",
       "      <th>1</th>\n",
       "      <td>11.0</td>\n",
       "      <td>22.0</td>\n",
       "      <td>NaN</td>\n",
       "      <td>xxx</td>\n",
       "      <td>44.0</td>\n",
       "      <td>55.0</td>\n",
       "      <td>NaN</td>\n",
       "      <td>NaN</td>\n",
       "      <td>11.0</td>\n",
       "      <td>22.0</td>\n",
       "      <td>...</td>\n",
       "      <td>NaN</td>\n",
       "      <td>44.0</td>\n",
       "      <td>55.0</td>\n",
       "      <td>NaN</td>\n",
       "      <td>NaN</td>\n",
       "      <td>11.0</td>\n",
       "      <td>22.0</td>\n",
       "      <td>NaN</td>\n",
       "      <td>44.0</td>\n",
       "      <td>55.0</td>\n",
       "    </tr>\n",
       "    <tr>\n",
       "      <th>2</th>\n",
       "      <td>22.0</td>\n",
       "      <td>NaN</td>\n",
       "      <td>44.0</td>\n",
       "      <td>xxx</td>\n",
       "      <td>55.0</td>\n",
       "      <td>NaN</td>\n",
       "      <td>NaN</td>\n",
       "      <td>11.0</td>\n",
       "      <td>22.0</td>\n",
       "      <td>NaN</td>\n",
       "      <td>...</td>\n",
       "      <td>44.0</td>\n",
       "      <td>55.0</td>\n",
       "      <td>NaN</td>\n",
       "      <td>NaN</td>\n",
       "      <td>11.0</td>\n",
       "      <td>22.0</td>\n",
       "      <td>NaN</td>\n",
       "      <td>44.0</td>\n",
       "      <td>55.0</td>\n",
       "      <td>NaN</td>\n",
       "    </tr>\n",
       "    <tr>\n",
       "      <th>3</th>\n",
       "      <td>NaN</td>\n",
       "      <td>44.0</td>\n",
       "      <td>55.0</td>\n",
       "      <td>xxx</td>\n",
       "      <td>NaN</td>\n",
       "      <td>NaN</td>\n",
       "      <td>11.0</td>\n",
       "      <td>22.0</td>\n",
       "      <td>NaN</td>\n",
       "      <td>44.0</td>\n",
       "      <td>...</td>\n",
       "      <td>55.0</td>\n",
       "      <td>NaN</td>\n",
       "      <td>NaN</td>\n",
       "      <td>11.0</td>\n",
       "      <td>22.0</td>\n",
       "      <td>NaN</td>\n",
       "      <td>44.0</td>\n",
       "      <td>55.0</td>\n",
       "      <td>NaN</td>\n",
       "      <td>NaN</td>\n",
       "    </tr>\n",
       "    <tr>\n",
       "      <th>4</th>\n",
       "      <td>44.0</td>\n",
       "      <td>55.0</td>\n",
       "      <td>NaN</td>\n",
       "      <td>xxx</td>\n",
       "      <td>NaN</td>\n",
       "      <td>11.0</td>\n",
       "      <td>22.0</td>\n",
       "      <td>NaN</td>\n",
       "      <td>44.0</td>\n",
       "      <td>55.0</td>\n",
       "      <td>...</td>\n",
       "      <td>NaN</td>\n",
       "      <td>NaN</td>\n",
       "      <td>11.0</td>\n",
       "      <td>22.0</td>\n",
       "      <td>NaN</td>\n",
       "      <td>44.0</td>\n",
       "      <td>55.0</td>\n",
       "      <td>NaN</td>\n",
       "      <td>NaN</td>\n",
       "      <td>11.0</td>\n",
       "    </tr>\n",
       "    <tr>\n",
       "      <th>...</th>\n",
       "      <td>...</td>\n",
       "      <td>...</td>\n",
       "      <td>...</td>\n",
       "      <td>...</td>\n",
       "      <td>...</td>\n",
       "      <td>...</td>\n",
       "      <td>...</td>\n",
       "      <td>...</td>\n",
       "      <td>...</td>\n",
       "      <td>...</td>\n",
       "      <td>...</td>\n",
       "      <td>...</td>\n",
       "      <td>...</td>\n",
       "      <td>...</td>\n",
       "      <td>...</td>\n",
       "      <td>...</td>\n",
       "      <td>...</td>\n",
       "      <td>...</td>\n",
       "      <td>...</td>\n",
       "      <td>...</td>\n",
       "      <td>...</td>\n",
       "    </tr>\n",
       "    <tr>\n",
       "      <th>9995</th>\n",
       "      <td>NaN</td>\n",
       "      <td>NaN</td>\n",
       "      <td>11.0</td>\n",
       "      <td>xxx</td>\n",
       "      <td>22.0</td>\n",
       "      <td>NaN</td>\n",
       "      <td>44.0</td>\n",
       "      <td>55.0</td>\n",
       "      <td>NaN</td>\n",
       "      <td>NaN</td>\n",
       "      <td>...</td>\n",
       "      <td>11.0</td>\n",
       "      <td>22.0</td>\n",
       "      <td>NaN</td>\n",
       "      <td>44.0</td>\n",
       "      <td>55.0</td>\n",
       "      <td>NaN</td>\n",
       "      <td>NaN</td>\n",
       "      <td>11.0</td>\n",
       "      <td>22.0</td>\n",
       "      <td>NaN</td>\n",
       "    </tr>\n",
       "    <tr>\n",
       "      <th>9996</th>\n",
       "      <td>NaN</td>\n",
       "      <td>11.0</td>\n",
       "      <td>22.0</td>\n",
       "      <td>xxx</td>\n",
       "      <td>NaN</td>\n",
       "      <td>44.0</td>\n",
       "      <td>55.0</td>\n",
       "      <td>NaN</td>\n",
       "      <td>NaN</td>\n",
       "      <td>11.0</td>\n",
       "      <td>...</td>\n",
       "      <td>22.0</td>\n",
       "      <td>NaN</td>\n",
       "      <td>44.0</td>\n",
       "      <td>55.0</td>\n",
       "      <td>NaN</td>\n",
       "      <td>NaN</td>\n",
       "      <td>11.0</td>\n",
       "      <td>22.0</td>\n",
       "      <td>NaN</td>\n",
       "      <td>44.0</td>\n",
       "    </tr>\n",
       "    <tr>\n",
       "      <th>9997</th>\n",
       "      <td>11.0</td>\n",
       "      <td>22.0</td>\n",
       "      <td>NaN</td>\n",
       "      <td>xxx</td>\n",
       "      <td>44.0</td>\n",
       "      <td>55.0</td>\n",
       "      <td>NaN</td>\n",
       "      <td>NaN</td>\n",
       "      <td>11.0</td>\n",
       "      <td>22.0</td>\n",
       "      <td>...</td>\n",
       "      <td>NaN</td>\n",
       "      <td>44.0</td>\n",
       "      <td>55.0</td>\n",
       "      <td>NaN</td>\n",
       "      <td>NaN</td>\n",
       "      <td>11.0</td>\n",
       "      <td>22.0</td>\n",
       "      <td>NaN</td>\n",
       "      <td>44.0</td>\n",
       "      <td>55.0</td>\n",
       "    </tr>\n",
       "    <tr>\n",
       "      <th>9998</th>\n",
       "      <td>22.0</td>\n",
       "      <td>NaN</td>\n",
       "      <td>44.0</td>\n",
       "      <td>xxx</td>\n",
       "      <td>55.0</td>\n",
       "      <td>NaN</td>\n",
       "      <td>NaN</td>\n",
       "      <td>11.0</td>\n",
       "      <td>22.0</td>\n",
       "      <td>NaN</td>\n",
       "      <td>...</td>\n",
       "      <td>44.0</td>\n",
       "      <td>55.0</td>\n",
       "      <td>NaN</td>\n",
       "      <td>NaN</td>\n",
       "      <td>11.0</td>\n",
       "      <td>22.0</td>\n",
       "      <td>NaN</td>\n",
       "      <td>44.0</td>\n",
       "      <td>55.0</td>\n",
       "      <td>NaN</td>\n",
       "    </tr>\n",
       "    <tr>\n",
       "      <th>9999</th>\n",
       "      <td>NaN</td>\n",
       "      <td>44.0</td>\n",
       "      <td>55.0</td>\n",
       "      <td>xxx</td>\n",
       "      <td>NaN</td>\n",
       "      <td>NaN</td>\n",
       "      <td>11.0</td>\n",
       "      <td>22.0</td>\n",
       "      <td>NaN</td>\n",
       "      <td>44.0</td>\n",
       "      <td>...</td>\n",
       "      <td>55.0</td>\n",
       "      <td>NaN</td>\n",
       "      <td>NaN</td>\n",
       "      <td>11.0</td>\n",
       "      <td>22.0</td>\n",
       "      <td>NaN</td>\n",
       "      <td>44.0</td>\n",
       "      <td>55.0</td>\n",
       "      <td>NaN</td>\n",
       "      <td>NaN</td>\n",
       "    </tr>\n",
       "  </tbody>\n",
       "</table>\n",
       "<p>10000 rows × 27 columns</p>\n",
       "</div>"
      ],
      "text/plain": [
       "         A     B     C feature1     D     E     F     G     H     I  ...  \\\n",
       "0      NaN  11.0  22.0      xxx   NaN  44.0  55.0   NaN   NaN  11.0  ...   \n",
       "1     11.0  22.0   NaN      xxx  44.0  55.0   NaN   NaN  11.0  22.0  ...   \n",
       "2     22.0   NaN  44.0      xxx  55.0   NaN   NaN  11.0  22.0   NaN  ...   \n",
       "3      NaN  44.0  55.0      xxx   NaN   NaN  11.0  22.0   NaN  44.0  ...   \n",
       "4     44.0  55.0   NaN      xxx   NaN  11.0  22.0   NaN  44.0  55.0  ...   \n",
       "...    ...   ...   ...      ...   ...   ...   ...   ...   ...   ...  ...   \n",
       "9995   NaN   NaN  11.0      xxx  22.0   NaN  44.0  55.0   NaN   NaN  ...   \n",
       "9996   NaN  11.0  22.0      xxx   NaN  44.0  55.0   NaN   NaN  11.0  ...   \n",
       "9997  11.0  22.0   NaN      xxx  44.0  55.0   NaN   NaN  11.0  22.0  ...   \n",
       "9998  22.0   NaN  44.0      xxx  55.0   NaN   NaN  11.0  22.0   NaN  ...   \n",
       "9999   NaN  44.0  55.0      xxx   NaN   NaN  11.0  22.0   NaN  44.0  ...   \n",
       "\n",
       "         Q     R     S     T     U     V     W     X     Y     Z  \n",
       "0     22.0   NaN  44.0  55.0   NaN   NaN  11.0  22.0   NaN  44.0  \n",
       "1      NaN  44.0  55.0   NaN   NaN  11.0  22.0   NaN  44.0  55.0  \n",
       "2     44.0  55.0   NaN   NaN  11.0  22.0   NaN  44.0  55.0   NaN  \n",
       "3     55.0   NaN   NaN  11.0  22.0   NaN  44.0  55.0   NaN   NaN  \n",
       "4      NaN   NaN  11.0  22.0   NaN  44.0  55.0   NaN   NaN  11.0  \n",
       "...    ...   ...   ...   ...   ...   ...   ...   ...   ...   ...  \n",
       "9995  11.0  22.0   NaN  44.0  55.0   NaN   NaN  11.0  22.0   NaN  \n",
       "9996  22.0   NaN  44.0  55.0   NaN   NaN  11.0  22.0   NaN  44.0  \n",
       "9997   NaN  44.0  55.0   NaN   NaN  11.0  22.0   NaN  44.0  55.0  \n",
       "9998  44.0  55.0   NaN   NaN  11.0  22.0   NaN  44.0  55.0   NaN  \n",
       "9999  55.0   NaN   NaN  11.0  22.0   NaN  44.0  55.0   NaN   NaN  \n",
       "\n",
       "[10000 rows x 27 columns]"
      ]
     },
     "execution_count": 163,
     "metadata": {},
     "output_type": "execute_result"
    }
   ],
   "source": [
    "large_df"
   ]
  },
  {
   "cell_type": "markdown",
   "metadata": {
    "id": "5l51ZNCmisAH"
   },
   "source": [
    "### save and load\n"
   ]
  },
  {
   "cell_type": "code",
   "execution_count": 164,
   "metadata": {
    "id": "9nI4Ix8uisAH"
   },
   "outputs": [],
   "source": [
    "large_df.to_csv(\"my_df.csv\")\n",
    "large_df.to_csv(\"my_df.xlsx\")"
   ]
  },
  {
   "cell_type": "code",
   "execution_count": 165,
   "metadata": {
    "id": "e7TGve19isAI"
   },
   "outputs": [],
   "source": [
    "df0 = pd.read_csv(\"my_df.csv\", index_col=0)"
   ]
  },
  {
   "cell_type": "markdown",
   "metadata": {
    "id": "cz37ryhLisAI"
   },
   "source": [
    "### combining DataFrames\n",
    "pandas has the ability to perform SQL-like joins: inner joins, left/right outer joins and full joins"
   ]
  },
  {
   "cell_type": "code",
   "execution_count": 166,
   "metadata": {
    "colab": {
     "base_uri": "https://localhost:8080/"
    },
    "id": "PWT2uN0EisAJ",
    "outputId": "14af6df8-25a6-46cc-ed4d-1c80fa802b80"
   },
   "outputs": [
    {
     "data": {
      "text/html": [
       "<div>\n",
       "<style scoped>\n",
       "    .dataframe tbody tr th:only-of-type {\n",
       "        vertical-align: middle;\n",
       "    }\n",
       "\n",
       "    .dataframe tbody tr th {\n",
       "        vertical-align: top;\n",
       "    }\n",
       "\n",
       "    .dataframe thead th {\n",
       "        text-align: right;\n",
       "    }\n",
       "</style>\n",
       "<table border=\"1\" class=\"dataframe\">\n",
       "  <thead>\n",
       "    <tr style=\"text-align: right;\">\n",
       "      <th></th>\n",
       "      <th>state</th>\n",
       "      <th>city</th>\n",
       "      <th>lat</th>\n",
       "      <th>lon</th>\n",
       "    </tr>\n",
       "  </thead>\n",
       "  <tbody>\n",
       "    <tr>\n",
       "      <th>0</th>\n",
       "      <td>CA</td>\n",
       "      <td>San Francisco</td>\n",
       "      <td>37.781334</td>\n",
       "      <td>-122.416728</td>\n",
       "    </tr>\n",
       "    <tr>\n",
       "      <th>1</th>\n",
       "      <td>NY</td>\n",
       "      <td>New York</td>\n",
       "      <td>40.705649</td>\n",
       "      <td>-74.008344</td>\n",
       "    </tr>\n",
       "    <tr>\n",
       "      <th>2</th>\n",
       "      <td>FL</td>\n",
       "      <td>Miami</td>\n",
       "      <td>25.791100</td>\n",
       "      <td>-80.320733</td>\n",
       "    </tr>\n",
       "    <tr>\n",
       "      <th>3</th>\n",
       "      <td>OH</td>\n",
       "      <td>Cleveland</td>\n",
       "      <td>41.473508</td>\n",
       "      <td>-81.739791</td>\n",
       "    </tr>\n",
       "    <tr>\n",
       "      <th>4</th>\n",
       "      <td>UT</td>\n",
       "      <td>Salt Lake City</td>\n",
       "      <td>40.755851</td>\n",
       "      <td>-111.896657</td>\n",
       "    </tr>\n",
       "  </tbody>\n",
       "</table>\n",
       "</div>"
      ],
      "text/plain": [
       "  state            city        lat         lon\n",
       "0    CA   San Francisco  37.781334 -122.416728\n",
       "1    NY        New York  40.705649  -74.008344\n",
       "2    FL           Miami  25.791100  -80.320733\n",
       "3    OH       Cleveland  41.473508  -81.739791\n",
       "4    UT  Salt Lake City  40.755851 -111.896657"
      ]
     },
     "execution_count": 166,
     "metadata": {},
     "output_type": "execute_result"
    }
   ],
   "source": [
    "city_loc = pd.DataFrame(\n",
    "    [\n",
    "        [\"CA\", \"San Francisco\", 37.781334, -122.416728],\n",
    "        [\"NY\", \"New York\", 40.705649, -74.008344],\n",
    "        [\"FL\", \"Miami\", 25.791100, -80.320733],\n",
    "        [\"OH\", \"Cleveland\", 41.473508, -81.739791],\n",
    "        [\"UT\", \"Salt Lake City\", 40.755851, -111.896657]\n",
    "    ], columns=[\"state\", \"city\", \"lat\", \"lon\"])\n",
    "city_loc"
   ]
  },
  {
   "cell_type": "code",
   "execution_count": 167,
   "metadata": {
    "colab": {
     "base_uri": "https://localhost:8080/"
    },
    "id": "EJx5hYXEisAJ",
    "outputId": "433b5441-6275-417b-8e42-d788f56bbe1d"
   },
   "outputs": [
    {
     "data": {
      "text/html": [
       "<div>\n",
       "<style scoped>\n",
       "    .dataframe tbody tr th:only-of-type {\n",
       "        vertical-align: middle;\n",
       "    }\n",
       "\n",
       "    .dataframe tbody tr th {\n",
       "        vertical-align: top;\n",
       "    }\n",
       "\n",
       "    .dataframe thead th {\n",
       "        text-align: right;\n",
       "    }\n",
       "</style>\n",
       "<table border=\"1\" class=\"dataframe\">\n",
       "  <thead>\n",
       "    <tr style=\"text-align: right;\">\n",
       "      <th></th>\n",
       "      <th>population</th>\n",
       "      <th>city</th>\n",
       "      <th>state</th>\n",
       "    </tr>\n",
       "  </thead>\n",
       "  <tbody>\n",
       "    <tr>\n",
       "      <th>3</th>\n",
       "      <td>808976</td>\n",
       "      <td>San Francisco</td>\n",
       "      <td>California</td>\n",
       "    </tr>\n",
       "    <tr>\n",
       "      <th>4</th>\n",
       "      <td>8363710</td>\n",
       "      <td>New York</td>\n",
       "      <td>New York</td>\n",
       "    </tr>\n",
       "    <tr>\n",
       "      <th>5</th>\n",
       "      <td>413201</td>\n",
       "      <td>Miami</td>\n",
       "      <td>Florida</td>\n",
       "    </tr>\n",
       "    <tr>\n",
       "      <th>6</th>\n",
       "      <td>2242193</td>\n",
       "      <td>Houston</td>\n",
       "      <td>Texas</td>\n",
       "    </tr>\n",
       "  </tbody>\n",
       "</table>\n",
       "</div>"
      ],
      "text/plain": [
       "   population           city       state\n",
       "3      808976  San Francisco  California\n",
       "4     8363710       New York    New York\n",
       "5      413201          Miami     Florida\n",
       "6     2242193        Houston       Texas"
      ]
     },
     "execution_count": 167,
     "metadata": {},
     "output_type": "execute_result"
    }
   ],
   "source": [
    "city_pop = pd.DataFrame(\n",
    "    [\n",
    "        [808976, \"San Francisco\", \"California\"],\n",
    "        [8363710, \"New York\", \"New York\"],\n",
    "        [413201, \"Miami\", \"Florida\"],\n",
    "        [2242193, \"Houston\", \"Texas\"]\n",
    "    ], index=[3,4,5,6], columns=[\"population\", \"city\", \"state\"])\n",
    "city_pop"
   ]
  },
  {
   "cell_type": "code",
   "execution_count": 168,
   "metadata": {
    "colab": {
     "base_uri": "https://localhost:8080/"
    },
    "id": "sAlZgUcgisAJ",
    "outputId": "849796e4-97d1-4411-c38a-e9d46e3475b7"
   },
   "outputs": [
    {
     "data": {
      "text/html": [
       "<div>\n",
       "<style scoped>\n",
       "    .dataframe tbody tr th:only-of-type {\n",
       "        vertical-align: middle;\n",
       "    }\n",
       "\n",
       "    .dataframe tbody tr th {\n",
       "        vertical-align: top;\n",
       "    }\n",
       "\n",
       "    .dataframe thead th {\n",
       "        text-align: right;\n",
       "    }\n",
       "</style>\n",
       "<table border=\"1\" class=\"dataframe\">\n",
       "  <thead>\n",
       "    <tr style=\"text-align: right;\">\n",
       "      <th></th>\n",
       "      <th>state_x</th>\n",
       "      <th>city</th>\n",
       "      <th>lat</th>\n",
       "      <th>lon</th>\n",
       "      <th>population</th>\n",
       "      <th>state_y</th>\n",
       "    </tr>\n",
       "  </thead>\n",
       "  <tbody>\n",
       "    <tr>\n",
       "      <th>0</th>\n",
       "      <td>CA</td>\n",
       "      <td>San Francisco</td>\n",
       "      <td>37.781334</td>\n",
       "      <td>-122.416728</td>\n",
       "      <td>808976</td>\n",
       "      <td>California</td>\n",
       "    </tr>\n",
       "    <tr>\n",
       "      <th>1</th>\n",
       "      <td>NY</td>\n",
       "      <td>New York</td>\n",
       "      <td>40.705649</td>\n",
       "      <td>-74.008344</td>\n",
       "      <td>8363710</td>\n",
       "      <td>New York</td>\n",
       "    </tr>\n",
       "    <tr>\n",
       "      <th>2</th>\n",
       "      <td>FL</td>\n",
       "      <td>Miami</td>\n",
       "      <td>25.791100</td>\n",
       "      <td>-80.320733</td>\n",
       "      <td>413201</td>\n",
       "      <td>Florida</td>\n",
       "    </tr>\n",
       "  </tbody>\n",
       "</table>\n",
       "</div>"
      ],
      "text/plain": [
       "  state_x           city        lat         lon  population     state_y\n",
       "0      CA  San Francisco  37.781334 -122.416728      808976  California\n",
       "1      NY       New York  40.705649  -74.008344     8363710    New York\n",
       "2      FL          Miami  25.791100  -80.320733      413201     Florida"
      ]
     },
     "execution_count": 168,
     "metadata": {},
     "output_type": "execute_result"
    }
   ],
   "source": [
    "pd.merge(left=city_loc, right=city_pop, on=\"city\")"
   ]
  },
  {
   "cell_type": "markdown",
   "metadata": {
    "id": "H99X0chtisAJ"
   },
   "source": [
    "Note that both `DataFrame`s have a column named `state`, so in the result they got renamed to `state_x` and `state_y`.\n",
    "\n",
    "Also, note that Cleveland, Salt Lake City and Houston were dropped because they don't exist in *both* `DataFrame`s. This is the equivalent of a SQL `INNER JOIN`. If you want a `FULL OUTER JOIN`, where no city gets dropped and `NaN` values are added, you must specify `how=\"outer\"`:"
   ]
  },
  {
   "cell_type": "code",
   "execution_count": 169,
   "metadata": {
    "colab": {
     "base_uri": "https://localhost:8080/"
    },
    "id": "Xk04dNo5isAJ",
    "outputId": "eb509195-2963-4c44-b8de-d0b09a1c3de4"
   },
   "outputs": [
    {
     "data": {
      "text/html": [
       "<div>\n",
       "<style scoped>\n",
       "    .dataframe tbody tr th:only-of-type {\n",
       "        vertical-align: middle;\n",
       "    }\n",
       "\n",
       "    .dataframe tbody tr th {\n",
       "        vertical-align: top;\n",
       "    }\n",
       "\n",
       "    .dataframe thead th {\n",
       "        text-align: right;\n",
       "    }\n",
       "</style>\n",
       "<table border=\"1\" class=\"dataframe\">\n",
       "  <thead>\n",
       "    <tr style=\"text-align: right;\">\n",
       "      <th></th>\n",
       "      <th>state_x</th>\n",
       "      <th>city</th>\n",
       "      <th>lat</th>\n",
       "      <th>lon</th>\n",
       "      <th>population</th>\n",
       "      <th>state_y</th>\n",
       "    </tr>\n",
       "  </thead>\n",
       "  <tbody>\n",
       "    <tr>\n",
       "      <th>0</th>\n",
       "      <td>CA</td>\n",
       "      <td>San Francisco</td>\n",
       "      <td>37.781334</td>\n",
       "      <td>-122.416728</td>\n",
       "      <td>808976.0</td>\n",
       "      <td>California</td>\n",
       "    </tr>\n",
       "    <tr>\n",
       "      <th>1</th>\n",
       "      <td>NY</td>\n",
       "      <td>New York</td>\n",
       "      <td>40.705649</td>\n",
       "      <td>-74.008344</td>\n",
       "      <td>8363710.0</td>\n",
       "      <td>New York</td>\n",
       "    </tr>\n",
       "    <tr>\n",
       "      <th>2</th>\n",
       "      <td>FL</td>\n",
       "      <td>Miami</td>\n",
       "      <td>25.791100</td>\n",
       "      <td>-80.320733</td>\n",
       "      <td>413201.0</td>\n",
       "      <td>Florida</td>\n",
       "    </tr>\n",
       "    <tr>\n",
       "      <th>3</th>\n",
       "      <td>OH</td>\n",
       "      <td>Cleveland</td>\n",
       "      <td>41.473508</td>\n",
       "      <td>-81.739791</td>\n",
       "      <td>NaN</td>\n",
       "      <td>NaN</td>\n",
       "    </tr>\n",
       "    <tr>\n",
       "      <th>4</th>\n",
       "      <td>UT</td>\n",
       "      <td>Salt Lake City</td>\n",
       "      <td>40.755851</td>\n",
       "      <td>-111.896657</td>\n",
       "      <td>NaN</td>\n",
       "      <td>NaN</td>\n",
       "    </tr>\n",
       "    <tr>\n",
       "      <th>5</th>\n",
       "      <td>NaN</td>\n",
       "      <td>Houston</td>\n",
       "      <td>NaN</td>\n",
       "      <td>NaN</td>\n",
       "      <td>2242193.0</td>\n",
       "      <td>Texas</td>\n",
       "    </tr>\n",
       "  </tbody>\n",
       "</table>\n",
       "</div>"
      ],
      "text/plain": [
       "  state_x            city        lat         lon  population     state_y\n",
       "0      CA   San Francisco  37.781334 -122.416728    808976.0  California\n",
       "1      NY        New York  40.705649  -74.008344   8363710.0    New York\n",
       "2      FL           Miami  25.791100  -80.320733    413201.0     Florida\n",
       "3      OH       Cleveland  41.473508  -81.739791         NaN         NaN\n",
       "4      UT  Salt Lake City  40.755851 -111.896657         NaN         NaN\n",
       "5     NaN         Houston        NaN         NaN   2242193.0       Texas"
      ]
     },
     "execution_count": 169,
     "metadata": {},
     "output_type": "execute_result"
    }
   ],
   "source": [
    "all_cities = pd.merge(left=city_loc, right=city_pop, on=\"city\", how=\"outer\")\n",
    "all_cities"
   ]
  },
  {
   "cell_type": "markdown",
   "metadata": {
    "id": "Y74RGXPFisAJ"
   },
   "source": [
    "Of course `LEFT OUTER JOIN` is also available by setting `how=\"left\"`: only the cities present in the left `DataFrame` end up in the result. Similarly, with `how=\"right\"` only cities in the right `DataFrame` appear in the result. For example:"
   ]
  },
  {
   "cell_type": "code",
   "execution_count": 170,
   "metadata": {
    "colab": {
     "base_uri": "https://localhost:8080/"
    },
    "id": "3hyIuwiOisAJ",
    "outputId": "4661303d-2e5d-49e5-8c62-5bab42f0d804"
   },
   "outputs": [
    {
     "data": {
      "text/html": [
       "<div>\n",
       "<style scoped>\n",
       "    .dataframe tbody tr th:only-of-type {\n",
       "        vertical-align: middle;\n",
       "    }\n",
       "\n",
       "    .dataframe tbody tr th {\n",
       "        vertical-align: top;\n",
       "    }\n",
       "\n",
       "    .dataframe thead th {\n",
       "        text-align: right;\n",
       "    }\n",
       "</style>\n",
       "<table border=\"1\" class=\"dataframe\">\n",
       "  <thead>\n",
       "    <tr style=\"text-align: right;\">\n",
       "      <th></th>\n",
       "      <th>state_x</th>\n",
       "      <th>city</th>\n",
       "      <th>lat</th>\n",
       "      <th>lon</th>\n",
       "      <th>population</th>\n",
       "      <th>state_y</th>\n",
       "    </tr>\n",
       "  </thead>\n",
       "  <tbody>\n",
       "    <tr>\n",
       "      <th>0</th>\n",
       "      <td>CA</td>\n",
       "      <td>San Francisco</td>\n",
       "      <td>37.781334</td>\n",
       "      <td>-122.416728</td>\n",
       "      <td>808976</td>\n",
       "      <td>California</td>\n",
       "    </tr>\n",
       "    <tr>\n",
       "      <th>1</th>\n",
       "      <td>NY</td>\n",
       "      <td>New York</td>\n",
       "      <td>40.705649</td>\n",
       "      <td>-74.008344</td>\n",
       "      <td>8363710</td>\n",
       "      <td>New York</td>\n",
       "    </tr>\n",
       "    <tr>\n",
       "      <th>2</th>\n",
       "      <td>FL</td>\n",
       "      <td>Miami</td>\n",
       "      <td>25.791100</td>\n",
       "      <td>-80.320733</td>\n",
       "      <td>413201</td>\n",
       "      <td>Florida</td>\n",
       "    </tr>\n",
       "    <tr>\n",
       "      <th>3</th>\n",
       "      <td>NaN</td>\n",
       "      <td>Houston</td>\n",
       "      <td>NaN</td>\n",
       "      <td>NaN</td>\n",
       "      <td>2242193</td>\n",
       "      <td>Texas</td>\n",
       "    </tr>\n",
       "  </tbody>\n",
       "</table>\n",
       "</div>"
      ],
      "text/plain": [
       "  state_x           city        lat         lon  population     state_y\n",
       "0      CA  San Francisco  37.781334 -122.416728      808976  California\n",
       "1      NY       New York  40.705649  -74.008344     8363710    New York\n",
       "2      FL          Miami  25.791100  -80.320733      413201     Florida\n",
       "3     NaN        Houston        NaN         NaN     2242193       Texas"
      ]
     },
     "execution_count": 170,
     "metadata": {},
     "output_type": "execute_result"
    }
   ],
   "source": [
    "pd.merge(left=city_loc, right=city_pop, on=\"city\", how=\"right\")"
   ]
  },
  {
   "cell_type": "markdown",
   "metadata": {
    "id": "GDhu4jyoisAJ"
   },
   "source": [
    "If the key to join on is actually in one (or both) `DataFrame`'s index, you must use `left_index=True` and/or `right_index=True`. If the key column names differ, you must use `left_on` and `right_on`. For example:"
   ]
  },
  {
   "cell_type": "code",
   "execution_count": 171,
   "metadata": {
    "colab": {
     "base_uri": "https://localhost:8080/"
    },
    "id": "o8SAiRFiisAJ",
    "outputId": "2c34b2ea-a3c7-44f1-caf6-93a69c1fdb28"
   },
   "outputs": [
    {
     "data": {
      "text/html": [
       "<div>\n",
       "<style scoped>\n",
       "    .dataframe tbody tr th:only-of-type {\n",
       "        vertical-align: middle;\n",
       "    }\n",
       "\n",
       "    .dataframe tbody tr th {\n",
       "        vertical-align: top;\n",
       "    }\n",
       "\n",
       "    .dataframe thead th {\n",
       "        text-align: right;\n",
       "    }\n",
       "</style>\n",
       "<table border=\"1\" class=\"dataframe\">\n",
       "  <thead>\n",
       "    <tr style=\"text-align: right;\">\n",
       "      <th></th>\n",
       "      <th>state_x</th>\n",
       "      <th>city</th>\n",
       "      <th>lat</th>\n",
       "      <th>lon</th>\n",
       "      <th>population</th>\n",
       "      <th>name</th>\n",
       "      <th>state_y</th>\n",
       "    </tr>\n",
       "  </thead>\n",
       "  <tbody>\n",
       "    <tr>\n",
       "      <th>0</th>\n",
       "      <td>CA</td>\n",
       "      <td>San Francisco</td>\n",
       "      <td>37.781334</td>\n",
       "      <td>-122.416728</td>\n",
       "      <td>808976</td>\n",
       "      <td>San Francisco</td>\n",
       "      <td>California</td>\n",
       "    </tr>\n",
       "    <tr>\n",
       "      <th>1</th>\n",
       "      <td>NY</td>\n",
       "      <td>New York</td>\n",
       "      <td>40.705649</td>\n",
       "      <td>-74.008344</td>\n",
       "      <td>8363710</td>\n",
       "      <td>New York</td>\n",
       "      <td>New York</td>\n",
       "    </tr>\n",
       "    <tr>\n",
       "      <th>2</th>\n",
       "      <td>FL</td>\n",
       "      <td>Miami</td>\n",
       "      <td>25.791100</td>\n",
       "      <td>-80.320733</td>\n",
       "      <td>413201</td>\n",
       "      <td>Miami</td>\n",
       "      <td>Florida</td>\n",
       "    </tr>\n",
       "  </tbody>\n",
       "</table>\n",
       "</div>"
      ],
      "text/plain": [
       "  state_x           city        lat         lon  population           name  \\\n",
       "0      CA  San Francisco  37.781334 -122.416728      808976  San Francisco   \n",
       "1      NY       New York  40.705649  -74.008344     8363710       New York   \n",
       "2      FL          Miami  25.791100  -80.320733      413201          Miami   \n",
       "\n",
       "      state_y  \n",
       "0  California  \n",
       "1    New York  \n",
       "2     Florida  "
      ]
     },
     "execution_count": 171,
     "metadata": {},
     "output_type": "execute_result"
    }
   ],
   "source": [
    "city_pop2 = city_pop.copy()\n",
    "city_pop2.columns = [\"population\", \"name\", \"state\"]\n",
    "pd.merge(left=city_loc, right=city_pop2, left_on=\"city\", right_on=\"name\")"
   ]
  },
  {
   "cell_type": "markdown",
   "metadata": {
    "id": "qp7ggYxLisAJ"
   },
   "source": [
    "### Concatenation\n",
    "Rather than joining `DataFrame`s, we may just want to concatenate them. That's what `concat()` is for:"
   ]
  },
  {
   "cell_type": "code",
   "execution_count": 172,
   "metadata": {
    "colab": {
     "base_uri": "https://localhost:8080/"
    },
    "id": "0lK2anomisAK",
    "outputId": "c2980cce-c0d7-4642-bac0-c084357464f9"
   },
   "outputs": [
    {
     "data": {
      "text/html": [
       "<div>\n",
       "<style scoped>\n",
       "    .dataframe tbody tr th:only-of-type {\n",
       "        vertical-align: middle;\n",
       "    }\n",
       "\n",
       "    .dataframe tbody tr th {\n",
       "        vertical-align: top;\n",
       "    }\n",
       "\n",
       "    .dataframe thead th {\n",
       "        text-align: right;\n",
       "    }\n",
       "</style>\n",
       "<table border=\"1\" class=\"dataframe\">\n",
       "  <thead>\n",
       "    <tr style=\"text-align: right;\">\n",
       "      <th></th>\n",
       "      <th>state</th>\n",
       "      <th>city</th>\n",
       "      <th>lat</th>\n",
       "      <th>lon</th>\n",
       "      <th>population</th>\n",
       "    </tr>\n",
       "  </thead>\n",
       "  <tbody>\n",
       "    <tr>\n",
       "      <th>0</th>\n",
       "      <td>CA</td>\n",
       "      <td>San Francisco</td>\n",
       "      <td>37.781334</td>\n",
       "      <td>-122.416728</td>\n",
       "      <td>NaN</td>\n",
       "    </tr>\n",
       "    <tr>\n",
       "      <th>1</th>\n",
       "      <td>NY</td>\n",
       "      <td>New York</td>\n",
       "      <td>40.705649</td>\n",
       "      <td>-74.008344</td>\n",
       "      <td>NaN</td>\n",
       "    </tr>\n",
       "    <tr>\n",
       "      <th>2</th>\n",
       "      <td>FL</td>\n",
       "      <td>Miami</td>\n",
       "      <td>25.791100</td>\n",
       "      <td>-80.320733</td>\n",
       "      <td>NaN</td>\n",
       "    </tr>\n",
       "    <tr>\n",
       "      <th>3</th>\n",
       "      <td>OH</td>\n",
       "      <td>Cleveland</td>\n",
       "      <td>41.473508</td>\n",
       "      <td>-81.739791</td>\n",
       "      <td>NaN</td>\n",
       "    </tr>\n",
       "    <tr>\n",
       "      <th>4</th>\n",
       "      <td>UT</td>\n",
       "      <td>Salt Lake City</td>\n",
       "      <td>40.755851</td>\n",
       "      <td>-111.896657</td>\n",
       "      <td>NaN</td>\n",
       "    </tr>\n",
       "    <tr>\n",
       "      <th>3</th>\n",
       "      <td>California</td>\n",
       "      <td>San Francisco</td>\n",
       "      <td>NaN</td>\n",
       "      <td>NaN</td>\n",
       "      <td>808976.0</td>\n",
       "    </tr>\n",
       "    <tr>\n",
       "      <th>4</th>\n",
       "      <td>New York</td>\n",
       "      <td>New York</td>\n",
       "      <td>NaN</td>\n",
       "      <td>NaN</td>\n",
       "      <td>8363710.0</td>\n",
       "    </tr>\n",
       "    <tr>\n",
       "      <th>5</th>\n",
       "      <td>Florida</td>\n",
       "      <td>Miami</td>\n",
       "      <td>NaN</td>\n",
       "      <td>NaN</td>\n",
       "      <td>413201.0</td>\n",
       "    </tr>\n",
       "    <tr>\n",
       "      <th>6</th>\n",
       "      <td>Texas</td>\n",
       "      <td>Houston</td>\n",
       "      <td>NaN</td>\n",
       "      <td>NaN</td>\n",
       "      <td>2242193.0</td>\n",
       "    </tr>\n",
       "  </tbody>\n",
       "</table>\n",
       "</div>"
      ],
      "text/plain": [
       "        state            city        lat         lon  population\n",
       "0          CA   San Francisco  37.781334 -122.416728         NaN\n",
       "1          NY        New York  40.705649  -74.008344         NaN\n",
       "2          FL           Miami  25.791100  -80.320733         NaN\n",
       "3          OH       Cleveland  41.473508  -81.739791         NaN\n",
       "4          UT  Salt Lake City  40.755851 -111.896657         NaN\n",
       "3  California   San Francisco        NaN         NaN    808976.0\n",
       "4    New York        New York        NaN         NaN   8363710.0\n",
       "5     Florida           Miami        NaN         NaN    413201.0\n",
       "6       Texas         Houston        NaN         NaN   2242193.0"
      ]
     },
     "execution_count": 172,
     "metadata": {},
     "output_type": "execute_result"
    }
   ],
   "source": [
    "result_concat = pd.concat([city_loc, city_pop])\n",
    "result_concat"
   ]
  },
  {
   "cell_type": "markdown",
   "metadata": {
    "id": "RzFDleuqisAK"
   },
   "source": [
    "Note that this operation aligned the data horizontally (by columns) but not vertically (by rows). In this example, we end up with multiple rows having the same index (eg. 3). Pandas handles this rather gracefully:"
   ]
  },
  {
   "cell_type": "code",
   "execution_count": 173,
   "metadata": {
    "colab": {
     "base_uri": "https://localhost:8080/"
    },
    "id": "1EImioN6isAK",
    "outputId": "4ac9bfd5-d960-4733-80a9-78aefee74224"
   },
   "outputs": [
    {
     "data": {
      "text/html": [
       "<div>\n",
       "<style scoped>\n",
       "    .dataframe tbody tr th:only-of-type {\n",
       "        vertical-align: middle;\n",
       "    }\n",
       "\n",
       "    .dataframe tbody tr th {\n",
       "        vertical-align: top;\n",
       "    }\n",
       "\n",
       "    .dataframe thead th {\n",
       "        text-align: right;\n",
       "    }\n",
       "</style>\n",
       "<table border=\"1\" class=\"dataframe\">\n",
       "  <thead>\n",
       "    <tr style=\"text-align: right;\">\n",
       "      <th></th>\n",
       "      <th>state</th>\n",
       "      <th>city</th>\n",
       "      <th>lat</th>\n",
       "      <th>lon</th>\n",
       "      <th>population</th>\n",
       "    </tr>\n",
       "  </thead>\n",
       "  <tbody>\n",
       "    <tr>\n",
       "      <th>3</th>\n",
       "      <td>OH</td>\n",
       "      <td>Cleveland</td>\n",
       "      <td>41.473508</td>\n",
       "      <td>-81.739791</td>\n",
       "      <td>NaN</td>\n",
       "    </tr>\n",
       "    <tr>\n",
       "      <th>3</th>\n",
       "      <td>California</td>\n",
       "      <td>San Francisco</td>\n",
       "      <td>NaN</td>\n",
       "      <td>NaN</td>\n",
       "      <td>808976.0</td>\n",
       "    </tr>\n",
       "  </tbody>\n",
       "</table>\n",
       "</div>"
      ],
      "text/plain": [
       "        state           city        lat        lon  population\n",
       "3          OH      Cleveland  41.473508 -81.739791         NaN\n",
       "3  California  San Francisco        NaN        NaN    808976.0"
      ]
     },
     "execution_count": 173,
     "metadata": {},
     "output_type": "execute_result"
    }
   ],
   "source": [
    "result_concat.loc[3]"
   ]
  },
  {
   "cell_type": "markdown",
   "metadata": {
    "id": "F1MuJ3swisAK"
   },
   "source": [
    "Or you can tell pandas to just ignore the index:"
   ]
  },
  {
   "cell_type": "code",
   "execution_count": 174,
   "metadata": {
    "colab": {
     "base_uri": "https://localhost:8080/"
    },
    "id": "ANNsO2xqisAK",
    "outputId": "87fab9f1-5081-4a86-9362-7246df058e28"
   },
   "outputs": [
    {
     "data": {
      "text/html": [
       "<div>\n",
       "<style scoped>\n",
       "    .dataframe tbody tr th:only-of-type {\n",
       "        vertical-align: middle;\n",
       "    }\n",
       "\n",
       "    .dataframe tbody tr th {\n",
       "        vertical-align: top;\n",
       "    }\n",
       "\n",
       "    .dataframe thead th {\n",
       "        text-align: right;\n",
       "    }\n",
       "</style>\n",
       "<table border=\"1\" class=\"dataframe\">\n",
       "  <thead>\n",
       "    <tr style=\"text-align: right;\">\n",
       "      <th></th>\n",
       "      <th>state</th>\n",
       "      <th>city</th>\n",
       "      <th>lat</th>\n",
       "      <th>lon</th>\n",
       "      <th>population</th>\n",
       "    </tr>\n",
       "  </thead>\n",
       "  <tbody>\n",
       "    <tr>\n",
       "      <th>0</th>\n",
       "      <td>CA</td>\n",
       "      <td>San Francisco</td>\n",
       "      <td>37.781334</td>\n",
       "      <td>-122.416728</td>\n",
       "      <td>NaN</td>\n",
       "    </tr>\n",
       "    <tr>\n",
       "      <th>1</th>\n",
       "      <td>NY</td>\n",
       "      <td>New York</td>\n",
       "      <td>40.705649</td>\n",
       "      <td>-74.008344</td>\n",
       "      <td>NaN</td>\n",
       "    </tr>\n",
       "    <tr>\n",
       "      <th>2</th>\n",
       "      <td>FL</td>\n",
       "      <td>Miami</td>\n",
       "      <td>25.791100</td>\n",
       "      <td>-80.320733</td>\n",
       "      <td>NaN</td>\n",
       "    </tr>\n",
       "    <tr>\n",
       "      <th>3</th>\n",
       "      <td>OH</td>\n",
       "      <td>Cleveland</td>\n",
       "      <td>41.473508</td>\n",
       "      <td>-81.739791</td>\n",
       "      <td>NaN</td>\n",
       "    </tr>\n",
       "    <tr>\n",
       "      <th>4</th>\n",
       "      <td>UT</td>\n",
       "      <td>Salt Lake City</td>\n",
       "      <td>40.755851</td>\n",
       "      <td>-111.896657</td>\n",
       "      <td>NaN</td>\n",
       "    </tr>\n",
       "    <tr>\n",
       "      <th>5</th>\n",
       "      <td>California</td>\n",
       "      <td>San Francisco</td>\n",
       "      <td>NaN</td>\n",
       "      <td>NaN</td>\n",
       "      <td>808976.0</td>\n",
       "    </tr>\n",
       "    <tr>\n",
       "      <th>6</th>\n",
       "      <td>New York</td>\n",
       "      <td>New York</td>\n",
       "      <td>NaN</td>\n",
       "      <td>NaN</td>\n",
       "      <td>8363710.0</td>\n",
       "    </tr>\n",
       "    <tr>\n",
       "      <th>7</th>\n",
       "      <td>Florida</td>\n",
       "      <td>Miami</td>\n",
       "      <td>NaN</td>\n",
       "      <td>NaN</td>\n",
       "      <td>413201.0</td>\n",
       "    </tr>\n",
       "    <tr>\n",
       "      <th>8</th>\n",
       "      <td>Texas</td>\n",
       "      <td>Houston</td>\n",
       "      <td>NaN</td>\n",
       "      <td>NaN</td>\n",
       "      <td>2242193.0</td>\n",
       "    </tr>\n",
       "  </tbody>\n",
       "</table>\n",
       "</div>"
      ],
      "text/plain": [
       "        state            city        lat         lon  population\n",
       "0          CA   San Francisco  37.781334 -122.416728         NaN\n",
       "1          NY        New York  40.705649  -74.008344         NaN\n",
       "2          FL           Miami  25.791100  -80.320733         NaN\n",
       "3          OH       Cleveland  41.473508  -81.739791         NaN\n",
       "4          UT  Salt Lake City  40.755851 -111.896657         NaN\n",
       "5  California   San Francisco        NaN         NaN    808976.0\n",
       "6    New York        New York        NaN         NaN   8363710.0\n",
       "7     Florida           Miami        NaN         NaN    413201.0\n",
       "8       Texas         Houston        NaN         NaN   2242193.0"
      ]
     },
     "execution_count": 174,
     "metadata": {},
     "output_type": "execute_result"
    }
   ],
   "source": [
    "pd.concat([city_loc, city_pop], ignore_index=True)"
   ]
  },
  {
   "cell_type": "markdown",
   "metadata": {
    "id": "FbO56dhCisAK"
   },
   "source": [
    "Notice that when a column does not exist in a `DataFrame`, it acts as if it was filled with `NaN` values. If we set `join=\"inner\"`, then only columns that exist in *both* `DataFrame`s are returned:"
   ]
  },
  {
   "cell_type": "code",
   "execution_count": 175,
   "metadata": {
    "colab": {
     "base_uri": "https://localhost:8080/"
    },
    "id": "Stejyr4_isAK",
    "outputId": "9beae746-2788-4b40-cc00-a7039e59def3"
   },
   "outputs": [
    {
     "data": {
      "text/html": [
       "<div>\n",
       "<style scoped>\n",
       "    .dataframe tbody tr th:only-of-type {\n",
       "        vertical-align: middle;\n",
       "    }\n",
       "\n",
       "    .dataframe tbody tr th {\n",
       "        vertical-align: top;\n",
       "    }\n",
       "\n",
       "    .dataframe thead th {\n",
       "        text-align: right;\n",
       "    }\n",
       "</style>\n",
       "<table border=\"1\" class=\"dataframe\">\n",
       "  <thead>\n",
       "    <tr style=\"text-align: right;\">\n",
       "      <th></th>\n",
       "      <th>state</th>\n",
       "      <th>city</th>\n",
       "    </tr>\n",
       "  </thead>\n",
       "  <tbody>\n",
       "    <tr>\n",
       "      <th>0</th>\n",
       "      <td>CA</td>\n",
       "      <td>San Francisco</td>\n",
       "    </tr>\n",
       "    <tr>\n",
       "      <th>1</th>\n",
       "      <td>NY</td>\n",
       "      <td>New York</td>\n",
       "    </tr>\n",
       "    <tr>\n",
       "      <th>2</th>\n",
       "      <td>FL</td>\n",
       "      <td>Miami</td>\n",
       "    </tr>\n",
       "    <tr>\n",
       "      <th>3</th>\n",
       "      <td>OH</td>\n",
       "      <td>Cleveland</td>\n",
       "    </tr>\n",
       "    <tr>\n",
       "      <th>4</th>\n",
       "      <td>UT</td>\n",
       "      <td>Salt Lake City</td>\n",
       "    </tr>\n",
       "    <tr>\n",
       "      <th>3</th>\n",
       "      <td>California</td>\n",
       "      <td>San Francisco</td>\n",
       "    </tr>\n",
       "    <tr>\n",
       "      <th>4</th>\n",
       "      <td>New York</td>\n",
       "      <td>New York</td>\n",
       "    </tr>\n",
       "    <tr>\n",
       "      <th>5</th>\n",
       "      <td>Florida</td>\n",
       "      <td>Miami</td>\n",
       "    </tr>\n",
       "    <tr>\n",
       "      <th>6</th>\n",
       "      <td>Texas</td>\n",
       "      <td>Houston</td>\n",
       "    </tr>\n",
       "  </tbody>\n",
       "</table>\n",
       "</div>"
      ],
      "text/plain": [
       "        state            city\n",
       "0          CA   San Francisco\n",
       "1          NY        New York\n",
       "2          FL           Miami\n",
       "3          OH       Cleveland\n",
       "4          UT  Salt Lake City\n",
       "3  California   San Francisco\n",
       "4    New York        New York\n",
       "5     Florida           Miami\n",
       "6       Texas         Houston"
      ]
     },
     "execution_count": 175,
     "metadata": {},
     "output_type": "execute_result"
    }
   ],
   "source": [
    "pd.concat([city_loc, city_pop], join=\"inner\")"
   ]
  },
  {
   "cell_type": "markdown",
   "metadata": {
    "id": "pbtzRV_SisAL"
   },
   "source": [
    "You can concatenate `DataFrame`s horizontally instead of vertically by setting `axis=1`:"
   ]
  },
  {
   "cell_type": "code",
   "execution_count": 176,
   "metadata": {
    "colab": {
     "base_uri": "https://localhost:8080/"
    },
    "id": "URAd1s7JisAL",
    "outputId": "8b150555-1ea1-4837-b64b-485e4f7752bf",
    "scrolled": true
   },
   "outputs": [
    {
     "data": {
      "text/html": [
       "<div>\n",
       "<style scoped>\n",
       "    .dataframe tbody tr th:only-of-type {\n",
       "        vertical-align: middle;\n",
       "    }\n",
       "\n",
       "    .dataframe tbody tr th {\n",
       "        vertical-align: top;\n",
       "    }\n",
       "\n",
       "    .dataframe thead th {\n",
       "        text-align: right;\n",
       "    }\n",
       "</style>\n",
       "<table border=\"1\" class=\"dataframe\">\n",
       "  <thead>\n",
       "    <tr style=\"text-align: right;\">\n",
       "      <th></th>\n",
       "      <th>state</th>\n",
       "      <th>city</th>\n",
       "      <th>lat</th>\n",
       "      <th>lon</th>\n",
       "      <th>population</th>\n",
       "      <th>city</th>\n",
       "      <th>state</th>\n",
       "    </tr>\n",
       "  </thead>\n",
       "  <tbody>\n",
       "    <tr>\n",
       "      <th>0</th>\n",
       "      <td>CA</td>\n",
       "      <td>San Francisco</td>\n",
       "      <td>37.781334</td>\n",
       "      <td>-122.416728</td>\n",
       "      <td>NaN</td>\n",
       "      <td>NaN</td>\n",
       "      <td>NaN</td>\n",
       "    </tr>\n",
       "    <tr>\n",
       "      <th>1</th>\n",
       "      <td>NY</td>\n",
       "      <td>New York</td>\n",
       "      <td>40.705649</td>\n",
       "      <td>-74.008344</td>\n",
       "      <td>NaN</td>\n",
       "      <td>NaN</td>\n",
       "      <td>NaN</td>\n",
       "    </tr>\n",
       "    <tr>\n",
       "      <th>2</th>\n",
       "      <td>FL</td>\n",
       "      <td>Miami</td>\n",
       "      <td>25.791100</td>\n",
       "      <td>-80.320733</td>\n",
       "      <td>NaN</td>\n",
       "      <td>NaN</td>\n",
       "      <td>NaN</td>\n",
       "    </tr>\n",
       "    <tr>\n",
       "      <th>3</th>\n",
       "      <td>OH</td>\n",
       "      <td>Cleveland</td>\n",
       "      <td>41.473508</td>\n",
       "      <td>-81.739791</td>\n",
       "      <td>808976.0</td>\n",
       "      <td>San Francisco</td>\n",
       "      <td>California</td>\n",
       "    </tr>\n",
       "    <tr>\n",
       "      <th>4</th>\n",
       "      <td>UT</td>\n",
       "      <td>Salt Lake City</td>\n",
       "      <td>40.755851</td>\n",
       "      <td>-111.896657</td>\n",
       "      <td>8363710.0</td>\n",
       "      <td>New York</td>\n",
       "      <td>New York</td>\n",
       "    </tr>\n",
       "    <tr>\n",
       "      <th>5</th>\n",
       "      <td>NaN</td>\n",
       "      <td>NaN</td>\n",
       "      <td>NaN</td>\n",
       "      <td>NaN</td>\n",
       "      <td>413201.0</td>\n",
       "      <td>Miami</td>\n",
       "      <td>Florida</td>\n",
       "    </tr>\n",
       "    <tr>\n",
       "      <th>6</th>\n",
       "      <td>NaN</td>\n",
       "      <td>NaN</td>\n",
       "      <td>NaN</td>\n",
       "      <td>NaN</td>\n",
       "      <td>2242193.0</td>\n",
       "      <td>Houston</td>\n",
       "      <td>Texas</td>\n",
       "    </tr>\n",
       "  </tbody>\n",
       "</table>\n",
       "</div>"
      ],
      "text/plain": [
       "  state            city        lat         lon  population           city  \\\n",
       "0    CA   San Francisco  37.781334 -122.416728         NaN            NaN   \n",
       "1    NY        New York  40.705649  -74.008344         NaN            NaN   \n",
       "2    FL           Miami  25.791100  -80.320733         NaN            NaN   \n",
       "3    OH       Cleveland  41.473508  -81.739791    808976.0  San Francisco   \n",
       "4    UT  Salt Lake City  40.755851 -111.896657   8363710.0       New York   \n",
       "5   NaN             NaN        NaN         NaN    413201.0          Miami   \n",
       "6   NaN             NaN        NaN         NaN   2242193.0        Houston   \n",
       "\n",
       "        state  \n",
       "0         NaN  \n",
       "1         NaN  \n",
       "2         NaN  \n",
       "3  California  \n",
       "4    New York  \n",
       "5     Florida  \n",
       "6       Texas  "
      ]
     },
     "execution_count": 176,
     "metadata": {},
     "output_type": "execute_result"
    }
   ],
   "source": [
    "pd.concat([city_loc, city_pop], axis=1)"
   ]
  },
  {
   "cell_type": "markdown",
   "metadata": {
    "id": "7aPdUCT0isAL"
   },
   "source": [
    "In this case it really does not make much sense because the indices do not align well (eg. Cleveland and San Francisco end up on the same row, because they shared the index label `3`). So let's reindex the `DataFrame`s by city name before concatenating:"
   ]
  },
  {
   "cell_type": "code",
   "execution_count": 177,
   "metadata": {
    "colab": {
     "base_uri": "https://localhost:8080/"
    },
    "id": "tb8vC6ECisAL",
    "outputId": "d3c962b9-6a0a-43bb-db77-5ebc3cc8a219",
    "scrolled": true
   },
   "outputs": [
    {
     "data": {
      "text/html": [
       "<div>\n",
       "<style scoped>\n",
       "    .dataframe tbody tr th:only-of-type {\n",
       "        vertical-align: middle;\n",
       "    }\n",
       "\n",
       "    .dataframe tbody tr th {\n",
       "        vertical-align: top;\n",
       "    }\n",
       "\n",
       "    .dataframe thead th {\n",
       "        text-align: right;\n",
       "    }\n",
       "</style>\n",
       "<table border=\"1\" class=\"dataframe\">\n",
       "  <thead>\n",
       "    <tr style=\"text-align: right;\">\n",
       "      <th></th>\n",
       "      <th>state</th>\n",
       "      <th>lat</th>\n",
       "      <th>lon</th>\n",
       "      <th>population</th>\n",
       "      <th>state</th>\n",
       "    </tr>\n",
       "    <tr>\n",
       "      <th>city</th>\n",
       "      <th></th>\n",
       "      <th></th>\n",
       "      <th></th>\n",
       "      <th></th>\n",
       "      <th></th>\n",
       "    </tr>\n",
       "  </thead>\n",
       "  <tbody>\n",
       "    <tr>\n",
       "      <th>San Francisco</th>\n",
       "      <td>CA</td>\n",
       "      <td>37.781334</td>\n",
       "      <td>-122.416728</td>\n",
       "      <td>808976.0</td>\n",
       "      <td>California</td>\n",
       "    </tr>\n",
       "    <tr>\n",
       "      <th>New York</th>\n",
       "      <td>NY</td>\n",
       "      <td>40.705649</td>\n",
       "      <td>-74.008344</td>\n",
       "      <td>8363710.0</td>\n",
       "      <td>New York</td>\n",
       "    </tr>\n",
       "    <tr>\n",
       "      <th>Miami</th>\n",
       "      <td>FL</td>\n",
       "      <td>25.791100</td>\n",
       "      <td>-80.320733</td>\n",
       "      <td>413201.0</td>\n",
       "      <td>Florida</td>\n",
       "    </tr>\n",
       "    <tr>\n",
       "      <th>Cleveland</th>\n",
       "      <td>OH</td>\n",
       "      <td>41.473508</td>\n",
       "      <td>-81.739791</td>\n",
       "      <td>NaN</td>\n",
       "      <td>NaN</td>\n",
       "    </tr>\n",
       "    <tr>\n",
       "      <th>Salt Lake City</th>\n",
       "      <td>UT</td>\n",
       "      <td>40.755851</td>\n",
       "      <td>-111.896657</td>\n",
       "      <td>NaN</td>\n",
       "      <td>NaN</td>\n",
       "    </tr>\n",
       "    <tr>\n",
       "      <th>Houston</th>\n",
       "      <td>NaN</td>\n",
       "      <td>NaN</td>\n",
       "      <td>NaN</td>\n",
       "      <td>2242193.0</td>\n",
       "      <td>Texas</td>\n",
       "    </tr>\n",
       "  </tbody>\n",
       "</table>\n",
       "</div>"
      ],
      "text/plain": [
       "               state        lat         lon  population       state\n",
       "city                                                               \n",
       "San Francisco     CA  37.781334 -122.416728    808976.0  California\n",
       "New York          NY  40.705649  -74.008344   8363710.0    New York\n",
       "Miami             FL  25.791100  -80.320733    413201.0     Florida\n",
       "Cleveland         OH  41.473508  -81.739791         NaN         NaN\n",
       "Salt Lake City    UT  40.755851 -111.896657         NaN         NaN\n",
       "Houston          NaN        NaN         NaN   2242193.0       Texas"
      ]
     },
     "execution_count": 177,
     "metadata": {},
     "output_type": "execute_result"
    }
   ],
   "source": [
    "pd.concat([city_loc.set_index(\"city\"), city_pop.set_index(\"city\")], axis=1)"
   ]
  },
  {
   "cell_type": "markdown",
   "metadata": {
    "id": "ogYCLH9IisAL"
   },
   "source": [
    "This looks a lot like a `FULL OUTER JOIN`, except that the `state` columns were not renamed to `state_x` and `state_y`, and the `city` column is now the index."
   ]
  },
  {
   "cell_type": "markdown",
   "metadata": {
    "id": "sVJJ7KGvisAL"
   },
   "source": [
    "The `append()` method is a useful shorthand for concatenating `DataFrame`s vertically:"
   ]
  },
  {
   "cell_type": "code",
   "execution_count": 178,
   "metadata": {
    "colab": {
     "base_uri": "https://localhost:8080/"
    },
    "id": "IwJhmFxxisAL",
    "outputId": "5ea2a568-0305-4f2b-e20b-49046c21e5d6"
   },
   "outputs": [
    {
     "data": {
      "text/html": [
       "<div>\n",
       "<style scoped>\n",
       "    .dataframe tbody tr th:only-of-type {\n",
       "        vertical-align: middle;\n",
       "    }\n",
       "\n",
       "    .dataframe tbody tr th {\n",
       "        vertical-align: top;\n",
       "    }\n",
       "\n",
       "    .dataframe thead th {\n",
       "        text-align: right;\n",
       "    }\n",
       "</style>\n",
       "<table border=\"1\" class=\"dataframe\">\n",
       "  <thead>\n",
       "    <tr style=\"text-align: right;\">\n",
       "      <th></th>\n",
       "      <th>state</th>\n",
       "      <th>city</th>\n",
       "      <th>lat</th>\n",
       "      <th>lon</th>\n",
       "      <th>population</th>\n",
       "    </tr>\n",
       "  </thead>\n",
       "  <tbody>\n",
       "    <tr>\n",
       "      <th>0</th>\n",
       "      <td>CA</td>\n",
       "      <td>San Francisco</td>\n",
       "      <td>37.781334</td>\n",
       "      <td>-122.416728</td>\n",
       "      <td>NaN</td>\n",
       "    </tr>\n",
       "    <tr>\n",
       "      <th>1</th>\n",
       "      <td>NY</td>\n",
       "      <td>New York</td>\n",
       "      <td>40.705649</td>\n",
       "      <td>-74.008344</td>\n",
       "      <td>NaN</td>\n",
       "    </tr>\n",
       "    <tr>\n",
       "      <th>2</th>\n",
       "      <td>FL</td>\n",
       "      <td>Miami</td>\n",
       "      <td>25.791100</td>\n",
       "      <td>-80.320733</td>\n",
       "      <td>NaN</td>\n",
       "    </tr>\n",
       "    <tr>\n",
       "      <th>3</th>\n",
       "      <td>OH</td>\n",
       "      <td>Cleveland</td>\n",
       "      <td>41.473508</td>\n",
       "      <td>-81.739791</td>\n",
       "      <td>NaN</td>\n",
       "    </tr>\n",
       "    <tr>\n",
       "      <th>4</th>\n",
       "      <td>UT</td>\n",
       "      <td>Salt Lake City</td>\n",
       "      <td>40.755851</td>\n",
       "      <td>-111.896657</td>\n",
       "      <td>NaN</td>\n",
       "    </tr>\n",
       "    <tr>\n",
       "      <th>3</th>\n",
       "      <td>California</td>\n",
       "      <td>San Francisco</td>\n",
       "      <td>NaN</td>\n",
       "      <td>NaN</td>\n",
       "      <td>808976.0</td>\n",
       "    </tr>\n",
       "    <tr>\n",
       "      <th>4</th>\n",
       "      <td>New York</td>\n",
       "      <td>New York</td>\n",
       "      <td>NaN</td>\n",
       "      <td>NaN</td>\n",
       "      <td>8363710.0</td>\n",
       "    </tr>\n",
       "    <tr>\n",
       "      <th>5</th>\n",
       "      <td>Florida</td>\n",
       "      <td>Miami</td>\n",
       "      <td>NaN</td>\n",
       "      <td>NaN</td>\n",
       "      <td>413201.0</td>\n",
       "    </tr>\n",
       "    <tr>\n",
       "      <th>6</th>\n",
       "      <td>Texas</td>\n",
       "      <td>Houston</td>\n",
       "      <td>NaN</td>\n",
       "      <td>NaN</td>\n",
       "      <td>2242193.0</td>\n",
       "    </tr>\n",
       "  </tbody>\n",
       "</table>\n",
       "</div>"
      ],
      "text/plain": [
       "        state            city        lat         lon  population\n",
       "0          CA   San Francisco  37.781334 -122.416728         NaN\n",
       "1          NY        New York  40.705649  -74.008344         NaN\n",
       "2          FL           Miami  25.791100  -80.320733         NaN\n",
       "3          OH       Cleveland  41.473508  -81.739791         NaN\n",
       "4          UT  Salt Lake City  40.755851 -111.896657         NaN\n",
       "3  California   San Francisco        NaN         NaN    808976.0\n",
       "4    New York        New York        NaN         NaN   8363710.0\n",
       "5     Florida           Miami        NaN         NaN    413201.0\n",
       "6       Texas         Houston        NaN         NaN   2242193.0"
      ]
     },
     "execution_count": 178,
     "metadata": {},
     "output_type": "execute_result"
    }
   ],
   "source": [
    "city_loc.append(city_pop)"
   ]
  },
  {
   "cell_type": "markdown",
   "metadata": {
    "id": "gWKYx1FAisAM"
   },
   "source": [
    "As always in pandas, the `append()` method does *not* actually modify `city_loc`: it works on a copy and returns the modified copy."
   ]
  },
  {
   "cell_type": "markdown",
   "metadata": {
    "id": "sgSvURt-isAM"
   },
   "source": [
    "### Categories\n",
    "It is quite frequent to have values that represent categories, for example `1` for female and `2` for male, or `\"A\"` for Good, `\"B\"` for Average, `\"C\"` for Bad. These categorical values can be hard to read and cumbersome to handle, but fortunately pandas makes it easy. To illustrate this, let's take the `city_pop` `DataFrame` we created earlier, and add a column that represents a category:"
   ]
  },
  {
   "cell_type": "code",
   "execution_count": 179,
   "metadata": {
    "colab": {
     "base_uri": "https://localhost:8080/"
    },
    "id": "T6brmpA7isAM",
    "outputId": "d5bb2f02-b550-4707-957d-a7fddcf47e06"
   },
   "outputs": [
    {
     "data": {
      "text/html": [
       "<div>\n",
       "<style scoped>\n",
       "    .dataframe tbody tr th:only-of-type {\n",
       "        vertical-align: middle;\n",
       "    }\n",
       "\n",
       "    .dataframe tbody tr th {\n",
       "        vertical-align: top;\n",
       "    }\n",
       "\n",
       "    .dataframe thead th {\n",
       "        text-align: right;\n",
       "    }\n",
       "</style>\n",
       "<table border=\"1\" class=\"dataframe\">\n",
       "  <thead>\n",
       "    <tr style=\"text-align: right;\">\n",
       "      <th></th>\n",
       "      <th>population</th>\n",
       "      <th>city</th>\n",
       "      <th>state</th>\n",
       "      <th>eco_code</th>\n",
       "    </tr>\n",
       "  </thead>\n",
       "  <tbody>\n",
       "    <tr>\n",
       "      <th>3</th>\n",
       "      <td>808976</td>\n",
       "      <td>San Francisco</td>\n",
       "      <td>California</td>\n",
       "      <td>17</td>\n",
       "    </tr>\n",
       "    <tr>\n",
       "      <th>4</th>\n",
       "      <td>8363710</td>\n",
       "      <td>New York</td>\n",
       "      <td>New York</td>\n",
       "      <td>17</td>\n",
       "    </tr>\n",
       "    <tr>\n",
       "      <th>5</th>\n",
       "      <td>413201</td>\n",
       "      <td>Miami</td>\n",
       "      <td>Florida</td>\n",
       "      <td>34</td>\n",
       "    </tr>\n",
       "    <tr>\n",
       "      <th>6</th>\n",
       "      <td>2242193</td>\n",
       "      <td>Houston</td>\n",
       "      <td>Texas</td>\n",
       "      <td>20</td>\n",
       "    </tr>\n",
       "  </tbody>\n",
       "</table>\n",
       "</div>"
      ],
      "text/plain": [
       "   population           city       state  eco_code\n",
       "3      808976  San Francisco  California        17\n",
       "4     8363710       New York    New York        17\n",
       "5      413201          Miami     Florida        34\n",
       "6     2242193        Houston       Texas        20"
      ]
     },
     "execution_count": 179,
     "metadata": {},
     "output_type": "execute_result"
    }
   ],
   "source": [
    "city_eco = city_pop.copy()\n",
    "city_eco[\"eco_code\"] = [17, 17, 34, 20]\n",
    "city_eco"
   ]
  },
  {
   "cell_type": "markdown",
   "metadata": {
    "id": "tQIf7DX3isAM"
   },
   "source": [
    "Right now the `eco_code` column is full of apparently meaningless codes. Let's fix that. First, we will create a new categorical column based on the `eco_code`s:"
   ]
  },
  {
   "cell_type": "code",
   "execution_count": 180,
   "metadata": {
    "colab": {
     "base_uri": "https://localhost:8080/"
    },
    "id": "g6Z-nzOGisAM",
    "outputId": "f86d4df9-a247-455b-c9c4-b4fc5b10660d"
   },
   "outputs": [
    {
     "data": {
      "text/plain": [
       "Int64Index([17, 20, 34], dtype='int64')"
      ]
     },
     "execution_count": 180,
     "metadata": {},
     "output_type": "execute_result"
    }
   ],
   "source": [
    "city_eco[\"economy\"] = city_eco[\"eco_code\"].astype('category')\n",
    "city_eco[\"economy\"].cat.categories"
   ]
  },
  {
   "cell_type": "markdown",
   "metadata": {
    "id": "876jGSnDisAM"
   },
   "source": [
    "Now we can give each category a meaningful name:"
   ]
  },
  {
   "cell_type": "code",
   "execution_count": 181,
   "metadata": {
    "colab": {
     "base_uri": "https://localhost:8080/"
    },
    "id": "jUZ5qjc1isAM",
    "outputId": "95a1576b-9ccf-4426-a56f-6125d8343bb4"
   },
   "outputs": [
    {
     "data": {
      "text/html": [
       "<div>\n",
       "<style scoped>\n",
       "    .dataframe tbody tr th:only-of-type {\n",
       "        vertical-align: middle;\n",
       "    }\n",
       "\n",
       "    .dataframe tbody tr th {\n",
       "        vertical-align: top;\n",
       "    }\n",
       "\n",
       "    .dataframe thead th {\n",
       "        text-align: right;\n",
       "    }\n",
       "</style>\n",
       "<table border=\"1\" class=\"dataframe\">\n",
       "  <thead>\n",
       "    <tr style=\"text-align: right;\">\n",
       "      <th></th>\n",
       "      <th>population</th>\n",
       "      <th>city</th>\n",
       "      <th>state</th>\n",
       "      <th>eco_code</th>\n",
       "      <th>economy</th>\n",
       "    </tr>\n",
       "  </thead>\n",
       "  <tbody>\n",
       "    <tr>\n",
       "      <th>3</th>\n",
       "      <td>808976</td>\n",
       "      <td>San Francisco</td>\n",
       "      <td>California</td>\n",
       "      <td>17</td>\n",
       "      <td>Finance</td>\n",
       "    </tr>\n",
       "    <tr>\n",
       "      <th>4</th>\n",
       "      <td>8363710</td>\n",
       "      <td>New York</td>\n",
       "      <td>New York</td>\n",
       "      <td>17</td>\n",
       "      <td>Finance</td>\n",
       "    </tr>\n",
       "    <tr>\n",
       "      <th>5</th>\n",
       "      <td>413201</td>\n",
       "      <td>Miami</td>\n",
       "      <td>Florida</td>\n",
       "      <td>34</td>\n",
       "      <td>Tourism</td>\n",
       "    </tr>\n",
       "    <tr>\n",
       "      <th>6</th>\n",
       "      <td>2242193</td>\n",
       "      <td>Houston</td>\n",
       "      <td>Texas</td>\n",
       "      <td>20</td>\n",
       "      <td>Energy</td>\n",
       "    </tr>\n",
       "  </tbody>\n",
       "</table>\n",
       "</div>"
      ],
      "text/plain": [
       "   population           city       state  eco_code  economy\n",
       "3      808976  San Francisco  California        17  Finance\n",
       "4     8363710       New York    New York        17  Finance\n",
       "5      413201          Miami     Florida        34  Tourism\n",
       "6     2242193        Houston       Texas        20   Energy"
      ]
     },
     "execution_count": 181,
     "metadata": {},
     "output_type": "execute_result"
    }
   ],
   "source": [
    "city_eco[\"economy\"].cat.categories = [\"Finance\", \"Energy\", \"Tourism\"]\n",
    "city_eco"
   ]
  },
  {
   "cell_type": "markdown",
   "metadata": {
    "id": "mwp3rPWaisAM"
   },
   "source": [
    "Note that categorical values are sorted according to their categorical order, *not* their alphabetical order:"
   ]
  },
  {
   "cell_type": "code",
   "execution_count": 182,
   "metadata": {
    "colab": {
     "base_uri": "https://localhost:8080/"
    },
    "id": "s5fx32g0isAN",
    "outputId": "6fdc43cc-0774-4b03-ca8a-63c16d5b99a3"
   },
   "outputs": [
    {
     "data": {
      "text/html": [
       "<div>\n",
       "<style scoped>\n",
       "    .dataframe tbody tr th:only-of-type {\n",
       "        vertical-align: middle;\n",
       "    }\n",
       "\n",
       "    .dataframe tbody tr th {\n",
       "        vertical-align: top;\n",
       "    }\n",
       "\n",
       "    .dataframe thead th {\n",
       "        text-align: right;\n",
       "    }\n",
       "</style>\n",
       "<table border=\"1\" class=\"dataframe\">\n",
       "  <thead>\n",
       "    <tr style=\"text-align: right;\">\n",
       "      <th></th>\n",
       "      <th>population</th>\n",
       "      <th>city</th>\n",
       "      <th>state</th>\n",
       "      <th>eco_code</th>\n",
       "      <th>economy</th>\n",
       "    </tr>\n",
       "  </thead>\n",
       "  <tbody>\n",
       "    <tr>\n",
       "      <th>5</th>\n",
       "      <td>413201</td>\n",
       "      <td>Miami</td>\n",
       "      <td>Florida</td>\n",
       "      <td>34</td>\n",
       "      <td>Tourism</td>\n",
       "    </tr>\n",
       "    <tr>\n",
       "      <th>6</th>\n",
       "      <td>2242193</td>\n",
       "      <td>Houston</td>\n",
       "      <td>Texas</td>\n",
       "      <td>20</td>\n",
       "      <td>Energy</td>\n",
       "    </tr>\n",
       "    <tr>\n",
       "      <th>3</th>\n",
       "      <td>808976</td>\n",
       "      <td>San Francisco</td>\n",
       "      <td>California</td>\n",
       "      <td>17</td>\n",
       "      <td>Finance</td>\n",
       "    </tr>\n",
       "    <tr>\n",
       "      <th>4</th>\n",
       "      <td>8363710</td>\n",
       "      <td>New York</td>\n",
       "      <td>New York</td>\n",
       "      <td>17</td>\n",
       "      <td>Finance</td>\n",
       "    </tr>\n",
       "  </tbody>\n",
       "</table>\n",
       "</div>"
      ],
      "text/plain": [
       "   population           city       state  eco_code  economy\n",
       "5      413201          Miami     Florida        34  Tourism\n",
       "6     2242193        Houston       Texas        20   Energy\n",
       "3      808976  San Francisco  California        17  Finance\n",
       "4     8363710       New York    New York        17  Finance"
      ]
     },
     "execution_count": 182,
     "metadata": {},
     "output_type": "execute_result"
    }
   ],
   "source": [
    "city_eco.sort_values(by=\"economy\", ascending=False)"
   ]
  },
  {
   "cell_type": "markdown",
   "metadata": {
    "id": "rfZ7Lz4ARPXs"
   },
   "source": [
    "\n",
    "# Chapter -2: Linear Algebra"
   ]
  },
  {
   "cell_type": "markdown",
   "metadata": {
    "id": "fsfs0wriWzbv"
   },
   "source": [
    "##Scalars, Vectors, Matrices\n",
    "\n",
    "Values consisting of one numerical quantity are called **scalars**. \n",
    "For example, the average annual temperature in New York City during is $53^\\circ$F. \n",
    "In the following, we adopt the mathematical notation where **scalar** variables are denoted by ordinary lower-cased letters (e.g., $x, y,$ and $z$). \n",
    "\n",
    "We denote the space of real-valued scalars by $\\mathbb{R}$. Formally, $x \\in \\mathbb{R}$ means that $x$ is a real-valued scalar, where the symbol $\\in$ is pronounced \"in,\" and simply denotes membership in a set. \n",
    "\n",
    "\n"
   ]
  },
  {
   "cell_type": "code",
   "execution_count": 183,
   "metadata": {
    "colab": {
     "base_uri": "https://localhost:8080/"
    },
    "id": "Itt9P9WxVEeG",
    "outputId": "b36e04a2-64ed-4c77-c2cd-8f6b54ebfc80"
   },
   "outputs": [
    {
     "data": {
      "text/plain": [
       "(1, 2.5)"
      ]
     },
     "execution_count": 183,
     "metadata": {},
     "output_type": "execute_result"
    }
   ],
   "source": [
    "a = 1 #scalar\n",
    "b = 2.5 #scalar\n",
    "a, b"
   ]
  },
  {
   "cell_type": "markdown",
   "metadata": {
    "id": "6aALHTKrPE1N"
   },
   "source": [
    "**Vector** is simply a list (or an array) of scalar values.\n",
    "We denote vectors in bold, lower-case letters (e.g., $\\mathbf{x}$). \n",
    "Vectors can be presented either as a **column** or as a **row**.\n",
    "In example,\n",
    "$$\n",
    "\\mathbf{x} =\n",
    "\\begin{bmatrix}\n",
    "x_{1}\\\\ x_{2} \\\\ \\vdots \\\\x_{n}\n",
    "\\end{bmatrix}\n",
    "\\quad\\text{or}\\quad\n",
    "\\mathbf{x}^\\top = \\begin{bmatrix}x_1 & x_2 & ... & x_n\\end{bmatrix}.\n",
    "$$\n",
    "\n",
    "We refer to each element in a vector using a subscript.\n",
    "For example, the $i^\\mathrm{th}$ element of $\\mathbf{x}$ is denoted as $x_i$ and is a scalar.\n",
    "Formally, we say that a vector $\\mathbf{x}$\n",
    "consists of $n$ real-valued scalars, $\\mathbf{x} \\in \\mathbb{R}^n$.\n",
    "The length of a vector is commonly called the **dimension** of the vector.\n",
    "\n",
    "Vectors can be interpreted in multilpe ways. One interpretation is that vectors symbolize the location of points in space relative to some reference location which is called the **origin**. This view is useful when separating points to distinct clusters of points in space.\n",
    "Corresponding interpretation is as a **directions** in space from some reference location. This view allows us to operate on vectors: adding, subtructing, multiplying, etc.\n"
   ]
  },
  {
   "cell_type": "code",
   "execution_count": 184,
   "metadata": {
    "colab": {
     "base_uri": "https://localhost:8080/"
    },
    "id": "WixEuh6yTmV9",
    "outputId": "836d1a24-6917-40db-fb54-246751d597c9"
   },
   "outputs": [
    {
     "data": {
      "text/plain": [
       "array([1, 2, 3, 4])"
      ]
     },
     "execution_count": 184,
     "metadata": {},
     "output_type": "execute_result"
    }
   ],
   "source": [
    "import numpy as np\n",
    "x = np.array([1, 2, 3, 4]) #vector, 1-d array\n",
    "x"
   ]
  },
  {
   "cell_type": "code",
   "execution_count": 185,
   "metadata": {
    "colab": {
     "base_uri": "https://localhost:8080/"
    },
    "id": "8pu2nqT4W24j",
    "outputId": "f59760bd-6c2d-4690-a45f-276d810344e3"
   },
   "outputs": [
    {
     "data": {
      "text/plain": [
       "(4, (4,))"
      ]
     },
     "execution_count": 185,
     "metadata": {},
     "output_type": "execute_result"
    }
   ],
   "source": [
    "len(x), x.shape"
   ]
  },
  {
   "cell_type": "markdown",
   "metadata": {
    "id": "YutFkMosPeZc"
   },
   "source": [
    "**Matrices** concatenate vectors similar to the way that vectors concatenate scalars.\n",
    "Here, matrices are denoted with bold, capital letters (e.g., $\\mathbf{A}$).\n",
    "Formally, $\\mathbf{A} \\in \\mathbb{R}^{m \\times n}$ means that the matrix $\\mathbf{A}$ consists of $m$ rows and $n$ columns of real-valued scalars.\n",
    "Visually, we can illustrate the matrix $\\mathbf{A}$ as a table,\n",
    "where each element $a_{ij}$ belongs to the $i^{\\mathrm{th}}$ row and $j^{\\mathrm{th}}$ column. That is,\n",
    "\n",
    "$$\\mathbf{A}=\n",
    "\\begin{bmatrix} \n",
    "a_{11} & a_{12} & \\cdots & a_{1n} \\\\ a_{21} & a_{22} & \\cdots & a_{2n} \\\\ \\vdots & \\vdots & \\ddots & \\vdots \\\\ a_{m1} & a_{m2} & \\cdots & a_{mn} \\\\ \n",
    "\\end{bmatrix}.$$\n",
    "\n",
    "The shape of $\\mathbf{A}$ is $m \\times n$.\n",
    "When a matrix has the same number of rows and columns it is called a **square** matrix."
   ]
  },
  {
   "cell_type": "code",
   "execution_count": 186,
   "metadata": {
    "colab": {
     "base_uri": "https://localhost:8080/"
    },
    "id": "plqR2i8zTpXb",
    "outputId": "ca728378-cef3-4882-ab7f-44597fc096f9"
   },
   "outputs": [
    {
     "data": {
      "text/plain": [
       "array([[1, 2],\n",
       "       [3, 4],\n",
       "       [5, 6]])"
      ]
     },
     "execution_count": 186,
     "metadata": {},
     "output_type": "execute_result"
    }
   ],
   "source": [
    "A = np.array([[1, 2], [3, 4], [5, 6]]) #3x2 matrix \n",
    "A"
   ]
  },
  {
   "cell_type": "code",
   "execution_count": 187,
   "metadata": {
    "colab": {
     "base_uri": "https://localhost:8080/"
    },
    "id": "3QIwkWUoXDCI",
    "outputId": "367fac4f-8c82-40a1-ebfc-8e5589b244eb"
   },
   "outputs": [
    {
     "data": {
      "text/plain": [
       "(3, 2)"
      ]
     },
     "execution_count": 187,
     "metadata": {},
     "output_type": "execute_result"
    }
   ],
   "source": [
    "A.shape"
   ]
  },
  {
   "cell_type": "code",
   "execution_count": 188,
   "metadata": {
    "colab": {
     "base_uri": "https://localhost:8080/"
    },
    "id": "nwAv0Pt2UMMa",
    "outputId": "7e708679-f983-4aa5-94bd-e7c1c38b3463"
   },
   "outputs": [
    {
     "data": {
      "text/plain": [
       "6"
      ]
     },
     "execution_count": 188,
     "metadata": {},
     "output_type": "execute_result"
    }
   ],
   "source": [
    "A[2,1]"
   ]
  },
  {
   "cell_type": "markdown",
   "metadata": {
    "id": "FeWFj_q0UH15"
   },
   "source": [
    "We can exchange a matrix's rows and columns and the result is called the **transpose** of the matrix.\n",
    "Formally, we denote the transpose of $\\mathbf{A}$ by $\\mathbf{A}^\\top$.\n",
    "Thus, the transpose of $\\mathbf{A}$ is\n",
    "a $n \\times m$ matrix.\n"
   ]
  },
  {
   "cell_type": "code",
   "execution_count": 189,
   "metadata": {
    "colab": {
     "base_uri": "https://localhost:8080/"
    },
    "id": "50IvKy41TpZy",
    "outputId": "50c4eab3-f9ea-493c-b88f-5e77d4e2ad45"
   },
   "outputs": [
    {
     "data": {
      "text/plain": [
       "array([[1, 3, 5],\n",
       "       [2, 4, 6]])"
      ]
     },
     "execution_count": 189,
     "metadata": {},
     "output_type": "execute_result"
    }
   ],
   "source": [
    "A_T = A.T # Vector transposition\n",
    "A_T"
   ]
  },
  {
   "cell_type": "code",
   "execution_count": 190,
   "metadata": {
    "colab": {
     "base_uri": "https://localhost:8080/"
    },
    "id": "aBPRwDwgVM3D",
    "outputId": "7ddfcc84-91c1-4333-f6fc-127be89627b9"
   },
   "outputs": [
    {
     "data": {
      "text/plain": [
       "(2, 3)"
      ]
     },
     "execution_count": 190,
     "metadata": {},
     "output_type": "execute_result"
    }
   ],
   "source": [
    "A_T.shape"
   ]
  },
  {
   "cell_type": "markdown",
   "metadata": {
    "id": "AqpDkB2pVaQj"
   },
   "source": [
    "As a special type of a square matrix is the **symmetric** matrix $\\mathbf{A}$ in which its transpose is equal to itself. That is, $\\mathbf{A}=\\mathbf{A}^\\top $.  "
   ]
  },
  {
   "cell_type": "code",
   "execution_count": 191,
   "metadata": {
    "colab": {
     "base_uri": "https://localhost:8080/"
    },
    "id": "t6zAbwjwVsj2",
    "outputId": "52f1d584-2cd7-40e0-e0b5-89a30124d27c"
   },
   "outputs": [
    {
     "name": "stdout",
     "output_type": "stream",
     "text": [
      "[[ True  True  True]\n",
      " [ True  True  True]\n",
      " [ True  True  True]]\n"
     ]
    }
   ],
   "source": [
    "A=np.array([[1,5,0],[5,2,0],[0,0,3]])\n",
    "print(A==A.T)"
   ]
  },
  {
   "cell_type": "markdown",
   "metadata": {
    "id": "2L7pt59MWSOa"
   },
   "source": [
    "Matrices are useful data structures, and they allow us to organize data efficiently. As an example, it is common to organize data in a way that the **rows** of a matrix correspond to different measurments, while the **columns** correspond to the various features or attributes. "
   ]
  },
  {
   "cell_type": "markdown",
   "metadata": {
    "id": "HDREfqKNXS_n"
   },
   "source": [
    "## Arithmetic Operations\n",
    "\n",
    "Adding/subtracting scalars, vectors, or matrices of the same shape is performed **elementwise**. It is also possible to multiply/divide scalars, vectors, or matrices elementwise."
   ]
  },
  {
   "cell_type": "code",
   "execution_count": 192,
   "metadata": {
    "colab": {
     "base_uri": "https://localhost:8080/"
    },
    "id": "muAS73XgXaAf",
    "outputId": "8cc29749-3b27-4a28-f7cc-93a12e152b1d"
   },
   "outputs": [
    {
     "data": {
      "text/plain": [
       "array([[1, 2],\n",
       "       [3, 4],\n",
       "       [5, 6]])"
      ]
     },
     "execution_count": 192,
     "metadata": {},
     "output_type": "execute_result"
    }
   ],
   "source": [
    "A = np.array([[1, 2], [3, 4], [5, 6]])\n",
    "A"
   ]
  },
  {
   "cell_type": "code",
   "execution_count": 193,
   "metadata": {
    "colab": {
     "base_uri": "https://localhost:8080/"
    },
    "id": "3pJ3EYYnTpce",
    "outputId": "f247183f-d261-40c1-f9c7-47757a385059"
   },
   "outputs": [
    {
     "data": {
      "text/plain": [
       "array([[2, 5],\n",
       "       [7, 4],\n",
       "       [4, 3]])"
      ]
     },
     "execution_count": 193,
     "metadata": {},
     "output_type": "execute_result"
    }
   ],
   "source": [
    "B = np.array([[2, 5], [7, 4], [4, 3]])\n",
    "B"
   ]
  },
  {
   "cell_type": "code",
   "execution_count": 194,
   "metadata": {
    "colab": {
     "base_uri": "https://localhost:8080/"
    },
    "id": "ljBDNI4ETpfA",
    "outputId": "d7690c02-9f97-4c97-c9bd-af89b5016f6f"
   },
   "outputs": [
    {
     "data": {
      "text/plain": [
       "array([[ 3,  7],\n",
       "       [10,  8],\n",
       "       [ 9,  9]])"
      ]
     },
     "execution_count": 194,
     "metadata": {},
     "output_type": "execute_result"
    }
   ],
   "source": [
    "A+B # elementwise addition"
   ]
  },
  {
   "cell_type": "code",
   "execution_count": 195,
   "metadata": {
    "colab": {
     "base_uri": "https://localhost:8080/"
    },
    "id": "dICZA7NTXD_g",
    "outputId": "14c983f8-a888-4f96-fe6b-8067c558d3f3"
   },
   "outputs": [
    {
     "data": {
      "text/plain": [
       "array([[-1, -3],\n",
       "       [-4,  0],\n",
       "       [ 1,  3]])"
      ]
     },
     "execution_count": 195,
     "metadata": {},
     "output_type": "execute_result"
    }
   ],
   "source": [
    "A-B # elementwise subtraction"
   ]
  },
  {
   "cell_type": "code",
   "execution_count": 196,
   "metadata": {
    "colab": {
     "base_uri": "https://localhost:8080/"
    },
    "id": "lgw1X1DEXICZ",
    "outputId": "e1c2ddf1-c6b7-4030-932b-78c517c5eaa1"
   },
   "outputs": [
    {
     "data": {
      "text/plain": [
       "array([[ 2, 10],\n",
       "       [21, 16],\n",
       "       [20, 18]])"
      ]
     },
     "execution_count": 196,
     "metadata": {},
     "output_type": "execute_result"
    }
   ],
   "source": [
    "A*B # elementwise multiplication, aka Hadamard product"
   ]
  },
  {
   "cell_type": "code",
   "execution_count": 197,
   "metadata": {
    "colab": {
     "base_uri": "https://localhost:8080/"
    },
    "id": "Mks8Ctd8XVun",
    "outputId": "c665773d-e78b-4af3-ba28-a91ea6abf7f3"
   },
   "outputs": [
    {
     "data": {
      "text/plain": [
       "array([[0.5       , 0.4       ],\n",
       "       [0.42857143, 1.        ],\n",
       "       [1.25      , 2.        ]])"
      ]
     },
     "execution_count": 197,
     "metadata": {},
     "output_type": "execute_result"
    }
   ],
   "source": [
    "A/B # elementwise division"
   ]
  },
  {
   "cell_type": "markdown",
   "metadata": {
    "id": "dmz1gU41X2Z7"
   },
   "source": [
    "##Reduction\n",
    "A common operation that can be performed on arbitrary matrices\n",
    "is to **sum** elements.\n",
    "Formally, we express sums using the $\\sum$ symbol.\n",
    "To express the sum of the elements in a vector $\\mathbf{x}$ of length $n$,\n",
    "we write $\\sum_{i=1}^n x_i$.\n"
   ]
  },
  {
   "cell_type": "code",
   "execution_count": 198,
   "metadata": {
    "colab": {
     "base_uri": "https://localhost:8080/"
    },
    "id": "2biDngnZYWbs",
    "outputId": "f6c3fbdf-b7df-4328-9a2d-44827f1fcd51"
   },
   "outputs": [
    {
     "data": {
      "text/plain": [
       "(array([0, 1, 2, 3, 4, 5, 6, 7, 8, 9]), 45)"
      ]
     },
     "execution_count": 198,
     "metadata": {},
     "output_type": "execute_result"
    }
   ],
   "source": [
    "x = np.arange(10)\n",
    "x, x.sum()"
   ]
  },
  {
   "cell_type": "code",
   "execution_count": 199,
   "metadata": {
    "id": "0xHlSpqfYyOZ"
   },
   "outputs": [],
   "source": [
    "A = np.array([[1, 2], [3, 4], [5, 6]])"
   ]
  },
  {
   "cell_type": "markdown",
   "metadata": {
    "id": "XxoRT6O_Yr0o"
   },
   "source": [
    "The sum of **all** the elements in $\\mathbf{A}$ is denoted $\\sum_{i=1}^{m} \\sum_{j=1}^{n} a_{ij}$."
   ]
  },
  {
   "cell_type": "code",
   "execution_count": 200,
   "metadata": {
    "colab": {
     "base_uri": "https://localhost:8080/"
    },
    "id": "CQP9344CYbuw",
    "outputId": "ec86d76c-5c2b-4a1e-fa15-188b3da9abdb"
   },
   "outputs": [
    {
     "data": {
      "text/plain": [
       "21"
      ]
     },
     "execution_count": 200,
     "metadata": {},
     "output_type": "execute_result"
    }
   ],
   "source": [
    "A.sum()"
   ]
  },
  {
   "cell_type": "markdown",
   "metadata": {
    "id": "8x-ANCvJYr9t"
   },
   "source": [
    "Summing up elements along **rows** reduces the row dimension (axis 0) $\\sum_{i=1}^{m} a_{ij}$."
   ]
  },
  {
   "cell_type": "code",
   "execution_count": 201,
   "metadata": {
    "colab": {
     "base_uri": "https://localhost:8080/"
    },
    "id": "lgLFpSPAZBDT",
    "outputId": "90fe749b-006b-4bae-ac0a-0d5a7e020cf6"
   },
   "outputs": [
    {
     "data": {
      "text/plain": [
       "array([ 9, 12])"
      ]
     },
     "execution_count": 201,
     "metadata": {},
     "output_type": "execute_result"
    }
   ],
   "source": [
    "A.sum(axis=0)"
   ]
  },
  {
   "cell_type": "markdown",
   "metadata": {
    "id": "uTMxJ7UPYsJE"
   },
   "source": [
    "Summing up elements along **columns** reduces the row dimension (axis 1) $\\sum_{j=1}^{n} a_{ij}$."
   ]
  },
  {
   "cell_type": "code",
   "execution_count": 202,
   "metadata": {
    "colab": {
     "base_uri": "https://localhost:8080/"
    },
    "id": "LCnAGR6gaupR",
    "outputId": "28262f0f-c5ef-4156-c962-938d49335152"
   },
   "outputs": [
    {
     "data": {
      "text/plain": [
       "array([ 3,  7, 11])"
      ]
     },
     "execution_count": 202,
     "metadata": {},
     "output_type": "execute_result"
    }
   ],
   "source": [
    "A.sum(axis=1)"
   ]
  },
  {
   "cell_type": "markdown",
   "metadata": {
    "id": "uFV7TsWZXkX1"
   },
   "source": [
    "##Broadcasting"
   ]
  },
  {
   "cell_type": "markdown",
   "metadata": {
    "id": "wCgAQ-rhX0sd"
   },
   "source": [
    "Broadcasting describes how Numpy handles arrays with different shapes during arithmetic operations. Subject to certain constraints, the smaller array is \"broadcast\" across the larger array so that they have compatible shapes. \n",
    "NumPy operations are done on **pairs** of arrays on an element-by-element basis. \n",
    "\n",
    "The simplest broadcasting example occurs when an array and a scalar value are combined in an operation"
   ]
  },
  {
   "cell_type": "code",
   "execution_count": 203,
   "metadata": {
    "colab": {
     "base_uri": "https://localhost:8080/"
    },
    "id": "eNNaAjzgTph8",
    "outputId": "d347b1d2-6f07-4e90-f1a5-f1d505fa918a"
   },
   "outputs": [
    {
     "data": {
      "text/plain": [
       "array([5, 6, 7])"
      ]
     },
     "execution_count": 203,
     "metadata": {},
     "output_type": "execute_result"
    }
   ],
   "source": [
    "A = np.array([1, 2,3])\n",
    "A+4 # broadcasting"
   ]
  },
  {
   "cell_type": "markdown",
   "metadata": {
    "id": "hGsJ0GH9pYY2"
   },
   "source": [
    "This result is equivalent to "
   ]
  },
  {
   "cell_type": "code",
   "execution_count": 204,
   "metadata": {
    "colab": {
     "base_uri": "https://localhost:8080/"
    },
    "id": "BmVzwt9JplZT",
    "outputId": "22005c1d-4261-42eb-d602-ff1352ce175a"
   },
   "outputs": [
    {
     "data": {
      "text/plain": [
       "array([5, 6, 7])"
      ]
     },
     "execution_count": 204,
     "metadata": {},
     "output_type": "execute_result"
    }
   ],
   "source": [
    "A + np.array([4, 4, 4])"
   ]
  },
  {
   "cell_type": "markdown",
   "metadata": {
    "id": "Ms21SrqIqX-6"
   },
   "source": [
    "When operating on two arrays, NumPy compares their shapes element-wise. It starts with the **rightmost** dimensions and works its way left. Two dimensions are compatible when\n",
    "\n",
    "* they are equal, or\n",
    "* one of them is 1.\n",
    "\n",
    "If these conditions are not met, a ValueError is thrown. Here are a few more examples:\n",
    "\n",
    "\n",
    "Ex 1.  | Shape  |    | Ex 2.  | Shape      | | Ex 3.  | Shape         | |\n",
    "--     | --     | -- | --     | --         | | --     | --            | |\n",
    "A      | 3 x 2  |    | A      | 10 x 3 x 3 | | A      | 6 x 1 x 4 x 1 | |\n",
    "B      | 1 x 2  |    | B      | 10 x 1 x 3 | | B      | 1 x 5 x 1 x 3 | |\n",
    "A+B    | 3 x 2  |    | A+B    | 10 x 3 x 3 | | A+B    | 6 x 5 x 4 x 3 | |\n",
    "\n",
    "\n",
    "\n",
    "\n"
   ]
  },
  {
   "cell_type": "markdown",
   "metadata": {
    "id": "xKyz5buDYEtK"
   },
   "source": [
    "##Multiplying Vectors and Matrices\n",
    "\n",
    "One of the fundamental operations in Linear Algebra is the **dot product**.\n",
    "Given two vectors $\\mathbf{x}, \\mathbf{y} \\in \\mathbb{R}^n$, their dot product $\\mathbf{x} \\cdot \\mathbf{y}=\\mathbf{x}^\\top \\mathbf{y}$ is a sum over the elements at the same positions. In example, $\\mathbf{x}^\\top \\mathbf{y} = \\sum_{i=1}^{n} x_i y_i$ resulting in a scalar."
   ]
  },
  {
   "cell_type": "code",
   "execution_count": 205,
   "metadata": {
    "colab": {
     "base_uri": "https://localhost:8080/"
    },
    "id": "inwnGrODblKB",
    "outputId": "8a3874ef-24c9-4aaa-dba1-026dc7d882f0"
   },
   "outputs": [
    {
     "data": {
      "text/plain": [
       "(array([1., 1., 1., 1.]), array([2., 2., 2., 2.]), 8.0)"
      ]
     },
     "execution_count": 205,
     "metadata": {},
     "output_type": "execute_result"
    }
   ],
   "source": [
    "x = np.ones(4); y = 2*np.ones(4)\n",
    "x, y, np.dot(x, y)"
   ]
  },
  {
   "cell_type": "markdown",
   "metadata": {
    "id": "esCtUVFJp8Hj"
   },
   "source": [
    "The dot product has a geometric interpretation related to the **angle** between the two vectors\n",
    "\n",
    "$$\n",
    "\\mathbf{x}\\cdot\\mathbf{y} = \\mathbf{x}^\\top\\mathbf{y} = \\|\\mathbf{x}\\|\\|\\mathbf{y}\\|\\cos(\\theta),\n",
    "$$\n",
    "\n",
    "where $\\| \\cdot \\|$ is the **norm** operator applied to tha vector. Norms will be discussed later on. \n",
    "\n",
    "In the Machine Learning contexts, the angle $\\theta$ is often used to measure the closeness, or similarity, of two vectors. This can be computed simply via\n",
    "\n",
    "$$\n",
    "\\cos(\\theta) = \\frac{\\mathbf{x}^\\top\\mathbf{y}}{\\|\\mathbf{x}\\|\\|\\mathbf{y}\\|}.\n",
    "$$\n",
    "\n",
    "This (cosine) similarity takes values between -1 and 1. A maximum value of $1$\n",
    "when the two vectors point in the same direction, a minimum value of $-1$ when pointing in opposite directions, and a value of $0$ when orthogonal."
   ]
  },
  {
   "cell_type": "code",
   "execution_count": 206,
   "metadata": {
    "colab": {
     "base_uri": "https://localhost:8080/"
    },
    "id": "wUCjcZIUqW6y",
    "outputId": "f9c58fa7-a824-4b16-ebc7-a92da83ebefa"
   },
   "outputs": [
    {
     "data": {
      "text/plain": [
       "0.0"
      ]
     },
     "execution_count": 206,
     "metadata": {},
     "output_type": "execute_result"
    }
   ],
   "source": [
    "np.arccos(x.dot(y) / (np.linalg.norm(x) * np.linalg.norm(y)))"
   ]
  },
  {
   "cell_type": "markdown",
   "metadata": {
    "id": "AOvA-09gb8HJ"
   },
   "source": [
    "Consider now the dot product of a matrix $\\mathbf{A} \\in \\mathbb{R}^{m \\times n}$ and a vector $\\mathbf{x} \\in \\mathbb{R}^n$.\n",
    "We can write the matrix $\\mathbf{A}$ in terms of its **row** vectors\n",
    "\n",
    "$$\\mathbf{A}=\n",
    "\\begin{bmatrix}\n",
    "\\mathbf{a}^\\top_{1} \\\\\n",
    "\\mathbf{a}^\\top_{2} \\\\\n",
    "\\vdots \\\\\n",
    "\\mathbf{a}^\\top_m \\\\\n",
    "\\end{bmatrix},$$\n",
    "\n",
    "where each $\\mathbf{a}^\\top_{i} \\in \\mathbb{R}^n$\n",
    "is a **row** vector of length $n$, representing the $i^\\mathrm{th}$ row of the matrix $\\mathbf{A}$.\n",
    "Now, the matrix-vector dot product $\\mathbf{A}\\mathbf{x}$\n",
    "is simply a column vector of length $m$,\n",
    "whose $i^\\mathrm{th}$ element is the dot product $\\mathbf{a}^\\top_i \\mathbf{x}$\n",
    "\n",
    "$$\n",
    "\\mathbf{A}\\mathbf{x}\n",
    "= \\begin{bmatrix}\n",
    "\\mathbf{a}^\\top_{1} \\\\\n",
    "\\mathbf{a}^\\top_{2} \\\\\n",
    "\\vdots \\\\\n",
    "\\mathbf{a}^\\top_m \\\\\n",
    "\\end{bmatrix}\\mathbf{x}\n",
    "= \\begin{bmatrix}\n",
    " \\mathbf{a}^\\top_{1} \\mathbf{x}  \\\\\n",
    " \\mathbf{a}^\\top_{2} \\mathbf{x} \\\\\n",
    "\\vdots\\\\\n",
    " \\mathbf{a}^\\top_{m} \\mathbf{x}\\\\\n",
    "\\end{bmatrix}.\n",
    "$$\n",
    "\n",
    "To make it clear, in the above example there are $m$ dot products, each $\\mathbf{a}^\\top_i \\mathbf{x}$ which is a multiplcation on $n$-sized $\\mathbf{a}^\\top_i$ by $n$-sized $\\mathbf{x}$. The result of each dot product is a scalar.\n",
    "\n",
    "We can think of the multiplication of $\\mathbf{A}\\in \\mathbb{R}^{m \\times n}$ by $\\mathbf{x}\\in \\mathbb{R}^n$ as a transformation that projects vectors, $\\mathbf{x}\\in \\mathbb{R}^n$,\n",
    "from $\\mathbb{R}^{n}$ to $\\mathbb{R}^{m}$.\n",
    "Note that the column dimension of $\\mathbf{A}$ (its length along axis 1)\n",
    "must be the same as the dimension of $\\mathbf{x}$.\n"
   ]
  },
  {
   "cell_type": "code",
   "execution_count": 207,
   "metadata": {
    "colab": {
     "base_uri": "https://localhost:8080/"
    },
    "id": "eL7qTrDUUUx5",
    "outputId": "37308294-1dc2-4396-ed4f-d8d79312af0a"
   },
   "outputs": [
    {
     "data": {
      "text/plain": [
       "array([ 5, 11, 17])"
      ]
     },
     "execution_count": 207,
     "metadata": {},
     "output_type": "execute_result"
    }
   ],
   "source": [
    "A = np.array([[1, 2], [3, 4], [5, 6]])\n",
    "x = np.arange(1,3)\n",
    "np.dot(A, x)"
   ]
  },
  {
   "cell_type": "markdown",
   "metadata": {
    "id": "Y7ypyGwDfoIK"
   },
   "source": [
    "Next we consider matrix-matrix multiplication.\n",
    "Given two matrices $\\mathbf{A} \\in \\mathbb{R}^{n \\times k}$ and $\\mathbf{B} \\in \\mathbb{R}^{k \\times m}$:\n",
    "\n",
    "$$\\mathbf{A}=\\begin{bmatrix}\n",
    " a_{11} & a_{12} & \\cdots & a_{1k} \\\\\n",
    " a_{21} & a_{22} & \\cdots & a_{2k} \\\\\n",
    "\\vdots & \\vdots & \\ddots & \\vdots \\\\\n",
    " a_{n1} & a_{n2} & \\cdots & a_{nk} \\\\\n",
    "\\end{bmatrix},\\quad\n",
    "\\mathbf{B}=\\begin{bmatrix}\n",
    " b_{11} & b_{12} & \\cdots & b_{1m} \\\\\n",
    " b_{21} & b_{22} & \\cdots & b_{2m} \\\\\n",
    "\\vdots & \\vdots & \\ddots & \\vdots \\\\\n",
    " b_{k1} & b_{k2} & \\cdots & b_{km} \\\\\n",
    "\\end{bmatrix}.$$\n",
    "\n",
    "\n",
    "Denote by $\\mathbf{a}^\\top_{i} \\in \\mathbb{R}^k$\n",
    "the row vector representing the $i^\\mathrm{th}$ row of the matrix $\\mathbf{A}$,\n",
    "and let $\\mathbf{b}_{j} \\in \\mathbb{R}^k$\n",
    "be the column vector of the $j^\\mathrm{th}$ column of the matrix $\\mathbf{B}$.\n",
    "The matrix product $\\mathbf{C} = \\mathbf{A}\\mathbf{B}$, is easiest to understand with $\\mathbf{A}$ specified by its row vectors and $\\mathbf{B}$ specified by its column vectors,\n",
    "\n",
    "$$\\mathbf{A}=\n",
    "\\begin{bmatrix}\n",
    "\\mathbf{a}^\\top_{1} \\\\\n",
    "\\mathbf{a}^\\top_{2} \\\\\n",
    "\\vdots \\\\\n",
    "\\mathbf{a}^\\top_n \\\\\n",
    "\\end{bmatrix},\n",
    "\\quad \\mathbf{B}=\\begin{bmatrix}\n",
    " \\mathbf{b}_{1} & \\mathbf{b}_{2} & \\cdots & \\mathbf{b}_{m} \\\\\n",
    "\\end{bmatrix}.\n",
    "$$\n",
    "\n",
    "\n",
    "The matrix product $\\mathbf{C}\\in \\mathbb{R}^{n \\times m}$ is produced as we simply compute each element $c_{ij}$ as the dot product $\\mathbf{a}^\\top_i \\mathbf{b}_j$:\n",
    "\n",
    "$$\\mathbf{C} = \\mathbf{AB} = \\begin{bmatrix}\n",
    "\\mathbf{a}^\\top_{1} \\\\\n",
    "\\mathbf{a}^\\top_{2} \\\\\n",
    "\\vdots \\\\\n",
    "\\mathbf{a}^\\top_n \\\\\n",
    "\\end{bmatrix}\n",
    "\\begin{bmatrix}\n",
    " \\mathbf{b}_{1} & \\mathbf{b}_{2} & \\cdots & \\mathbf{b}_{m} \\\\\n",
    "\\end{bmatrix}\n",
    "= \\begin{bmatrix}\n",
    "\\mathbf{a}^\\top_{1} \\mathbf{b}_1 & \\mathbf{a}^\\top_{1}\\mathbf{b}_2& \\cdots & \\mathbf{a}^\\top_{1} \\mathbf{b}_m \\\\\n",
    " \\mathbf{a}^\\top_{2}\\mathbf{b}_1 & \\mathbf{a}^\\top_{2} \\mathbf{b}_2 & \\cdots & \\mathbf{a}^\\top_{2} \\mathbf{b}_m \\\\\n",
    " \\vdots & \\vdots & \\ddots &\\vdots\\\\\n",
    "\\mathbf{a}^\\top_{n} \\mathbf{b}_1 & \\mathbf{a}^\\top_{n}\\mathbf{b}_2& \\cdots& \\mathbf{a}^\\top_{n} \\mathbf{b}_m\n",
    "\\end{bmatrix}.\n",
    "$$\n",
    "\n"
   ]
  },
  {
   "cell_type": "code",
   "execution_count": 208,
   "metadata": {
    "colab": {
     "base_uri": "https://localhost:8080/"
    },
    "id": "YTKZejaNUivZ",
    "outputId": "64200e7f-c545-445e-b9fd-6404c32e8f40"
   },
   "outputs": [
    {
     "data": {
      "text/plain": [
       "array([[ 9,  7],\n",
       "       [23, 17],\n",
       "       [37, 27]])"
      ]
     },
     "execution_count": 208,
     "metadata": {},
     "output_type": "execute_result"
    }
   ],
   "source": [
    "A = np.array([[1, 2], [3, 4], [5, 6]])\n",
    "B = np.array([[5, 3], [2, 2]])\n",
    "A.dot(B) "
   ]
  },
  {
   "cell_type": "markdown",
   "metadata": {
    "id": "D-iLXK5Xessk"
   },
   "source": [
    "Matrix mutliplication is **distributive**, i.e. $\\mathbf{A}(\\mathbf{B}+\\mathbf{C})=\\mathbf{A}\\mathbf{B}+\\mathbf{A}\\mathbf{C}$:"
   ]
  },
  {
   "cell_type": "code",
   "execution_count": 209,
   "metadata": {
    "colab": {
     "base_uri": "https://localhost:8080/"
    },
    "id": "JdQDBqjYUi0g",
    "outputId": "1a5d10a7-4d42-43f5-f993-5883e50d65f8"
   },
   "outputs": [
    {
     "data": {
      "text/plain": [
       "array([[ True],\n",
       "       [ True],\n",
       "       [ True]])"
      ]
     },
     "execution_count": 209,
     "metadata": {},
     "output_type": "execute_result"
    }
   ],
   "source": [
    "A = np.array([[2, 3], [1, 4], [7, 6]])\n",
    "B = np.array([[5], [2]])\n",
    "C = np.array([[4], [3]])\n",
    "A.dot(B+C) == A.dot(B)+A.dot(C)"
   ]
  },
  {
   "cell_type": "markdown",
   "metadata": {
    "id": "nvb0PHDkexFT"
   },
   "source": [
    "Matrix mutliplication is **associative**, i.e. $\\mathbf{A}(\\mathbf{B}\\mathbf{C})=(\\mathbf{A}\\mathbf{B})\\mathbf{C}$:"
   ]
  },
  {
   "cell_type": "code",
   "execution_count": 210,
   "metadata": {
    "colab": {
     "base_uri": "https://localhost:8080/"
    },
    "id": "N3Omzn1eUi3M",
    "outputId": "963a4d77-cea3-4b66-de0f-1d985f6eba9e"
   },
   "outputs": [
    {
     "data": {
      "text/plain": [
       "array([[ True],\n",
       "       [ True],\n",
       "       [ True]])"
      ]
     },
     "execution_count": 210,
     "metadata": {},
     "output_type": "execute_result"
    }
   ],
   "source": [
    "A = np.array([[2, 3], [1, 4], [7, 6]])\n",
    "B = np.array([[5, 3], [2, 2]])\n",
    "C = np.array([[4], [3]])\n",
    "A.dot(B.dot(C)) == (A.dot(B)).dot(C)"
   ]
  },
  {
   "cell_type": "markdown",
   "metadata": {
    "id": "lwc0DEQ0fVJ6"
   },
   "source": [
    "Vector multiplication is commutative, i.e. $\\mathbf{x}^\\top\\mathbf{y}=\\mathbf{y}^\\top\\mathbf{x}$"
   ]
  },
  {
   "cell_type": "code",
   "execution_count": 211,
   "metadata": {
    "colab": {
     "base_uri": "https://localhost:8080/"
    },
    "id": "mRfTyRIXUi8c",
    "outputId": "11a14fa9-227d-441f-e9c0-b49302616093"
   },
   "outputs": [
    {
     "data": {
      "text/plain": [
       "array([[ True]])"
      ]
     },
     "execution_count": 211,
     "metadata": {},
     "output_type": "execute_result"
    }
   ],
   "source": [
    "x = np.array([[2], [6]])\n",
    "y = np.array([[5], [2]])\n",
    "x.T.dot(y) == y.T.dot(x)"
   ]
  },
  {
   "cell_type": "markdown",
   "metadata": {
    "id": "cFCNZV_ZfD3A"
   },
   "source": [
    "However, matrix multiplication is **not commutative**, i.e. $\\mathbf{A}\\mathbf{B}\\ne\\mathbf{B}\\mathbf{A}$:"
   ]
  },
  {
   "cell_type": "code",
   "execution_count": 212,
   "metadata": {
    "colab": {
     "base_uri": "https://localhost:8080/"
    },
    "id": "-o_1JP_fUi5l",
    "outputId": "8c54862e-26e6-42fb-b7b8-018bb821f725"
   },
   "outputs": [
    {
     "data": {
      "text/plain": [
       "array([[False, False],\n",
       "       [False, False]])"
      ]
     },
     "execution_count": 212,
     "metadata": {},
     "output_type": "execute_result"
    }
   ],
   "source": [
    "A = np.array([[2, 3], [6, 5]])\n",
    "B = np.array([[5, 3], [2, 2]])\n",
    "np.dot(A, B) == np.dot(B, A)"
   ]
  },
  {
   "cell_type": "markdown",
   "metadata": {
    "id": "56HqWX-d0-xp"
   },
   "source": [
    "##Norms\n",
    "\n",
    "One of the important operators in linear algebra are the **norms**.\n",
    "The norm of a vector tells you how large a vector is by maping a vector\n",
    "to a scalar. This scalar measures, not the dimensions, but the magnitude of the components.\n",
    "\n",
    "Formally, given any vector $\\mathbf{x}$, the vector norm is a function $f$ that has multiple propeerties: \n",
    "\n",
    "The first is a scaling property that says\n",
    "that if we scale all the elements of a vector\n",
    "by a constant factor $\\alpha$,\n",
    "its norm also scales by the *absolute value*\n",
    "of the same constant factor. In example,\n",
    "\n",
    "$$f(\\alpha \\mathbf{x}) = |\\alpha| f(\\mathbf{x}).$$\n",
    "\n",
    "The second property is the triangle inequality:\n",
    "\n",
    "$$f(\\mathbf{x} + \\mathbf{y}) \\leq f(\\mathbf{x}) + f(\\mathbf{y}).$$\n",
    "\n",
    "\n",
    "The third property simply says that the norm must be non-negative:\n",
    "\n",
    "$$f(\\mathbf{x}) \\geq 0.$$\n",
    "\n",
    "The final property requires that the smallest norm is achieved if and only if \n",
    "by a vector consisting of all zeros.\n",
    "\n",
    "$$\\forall i, \\mathbf{x}_i = 0 \\Leftrightarrow f(\\mathbf{x})=0.$$\n",
    "\n",
    "The familiar **Euclidean distance** is a norm, typically named \n",
    "the $L_2$ norm, and is defined as square root of the sum of vector elements' squares:\n",
    "\n",
    "$$\\|\\mathbf{x}\\|_2 = \\sqrt{\\sum_{i=1}^n x_i^2}.$$\n"
   ]
  },
  {
   "cell_type": "code",
   "execution_count": 213,
   "metadata": {
    "colab": {
     "base_uri": "https://localhost:8080/"
    },
    "id": "4JIq38QmHnkZ",
    "outputId": "15353183-9a45-441c-cffe-933f42633ca2"
   },
   "outputs": [
    {
     "data": {
      "text/plain": [
       "3.7416573867739413"
      ]
     },
     "execution_count": 213,
     "metadata": {},
     "output_type": "execute_result"
    }
   ],
   "source": [
    "import numpy as np\n",
    "u = np.array([1,2,3]) # L2 norm\n",
    "np.linalg.norm(u, ord=2)"
   ]
  },
  {
   "cell_type": "markdown",
   "metadata": {
    "id": "7I6Z3xDRHyhy"
   },
   "source": [
    "The $L_1$ norm is defined as the sum of the absolute values of the vector elements:\n",
    "$$\\|\\mathbf{x}\\|_1 = \\sum_{i=1}^n \\left|x_i \\right|.$$\n",
    "In more generality, the $L_p$ norm is defined as \n",
    "$$\\|\\mathbf{x}\\|_p = \\left(\\sum_{i=1}^n \\left|x_i \\right|^p \\right)^{1/p}.$$"
   ]
  },
  {
   "cell_type": "code",
   "execution_count": 214,
   "metadata": {
    "colab": {
     "base_uri": "https://localhost:8080/"
    },
    "id": "1WGa0D2KIOLd",
    "outputId": "4901b588-485d-464d-a4ab-fae5c514a53e"
   },
   "outputs": [
    {
     "data": {
      "text/plain": [
       "6.0"
      ]
     },
     "execution_count": 214,
     "metadata": {},
     "output_type": "execute_result"
    }
   ],
   "source": [
    "u = np.array([1,2,3])\n",
    "np.linalg.norm(u, ord=1) # L1 norm"
   ]
  },
  {
   "cell_type": "code",
   "execution_count": 215,
   "metadata": {
    "colab": {
     "base_uri": "https://localhost:8080/"
    },
    "id": "3oyf3VupIW9Y",
    "outputId": "828944c4-2154-4fed-b0fa-e880941ee5f4"
   },
   "outputs": [
    {
     "data": {
      "text/plain": [
       "3.0"
      ]
     },
     "execution_count": 215,
     "metadata": {},
     "output_type": "execute_result"
    }
   ],
   "source": [
    "u = np.array([1,2,3])\n",
    "np.linalg.norm(u, ord=np.inf) # L-inf norm, basically choosing the maximum value within the array"
   ]
  },
  {
   "cell_type": "markdown",
   "metadata": {
    "id": "1zOUYpzLgQ9X"
   },
   "source": [
    "##Identity matrices"
   ]
  },
  {
   "cell_type": "code",
   "execution_count": 216,
   "metadata": {
    "colab": {
     "base_uri": "https://localhost:8080/"
    },
    "id": "2mgVh7frUU0u",
    "outputId": "f91459dd-df41-4cbd-cf61-67a8025d88ae"
   },
   "outputs": [
    {
     "data": {
      "text/plain": [
       "array([[1., 0., 0.],\n",
       "       [0., 1., 0.],\n",
       "       [0., 0., 1.]])"
      ]
     },
     "execution_count": 216,
     "metadata": {},
     "output_type": "execute_result"
    }
   ],
   "source": [
    "A = np.eye(3)\n",
    "A"
   ]
  },
  {
   "cell_type": "code",
   "execution_count": 217,
   "metadata": {
    "colab": {
     "base_uri": "https://localhost:8080/"
    },
    "id": "DuRY1HnfUU3p",
    "outputId": "6181677e-049c-463a-98db-132211ec1a94"
   },
   "outputs": [
    {
     "data": {
      "text/plain": [
       "array([[2],\n",
       "       [6],\n",
       "       [3]])"
      ]
     },
     "execution_count": 217,
     "metadata": {},
     "output_type": "execute_result"
    }
   ],
   "source": [
    "x = np.array([[2], [6], [3]])\n",
    "x"
   ]
  },
  {
   "cell_type": "code",
   "execution_count": 218,
   "metadata": {
    "colab": {
     "base_uri": "https://localhost:8080/"
    },
    "id": "zw-FDOW2gKaA",
    "outputId": "9255ee1b-295e-4337-9690-1fe4ab2f8e2c"
   },
   "outputs": [
    {
     "data": {
      "text/plain": [
       "array([[2.],\n",
       "       [6.],\n",
       "       [3.]])"
      ]
     },
     "execution_count": 218,
     "metadata": {},
     "output_type": "execute_result"
    }
   ],
   "source": [
    "b = A.dot(x)\n",
    "b"
   ]
  },
  {
   "cell_type": "markdown",
   "metadata": {
    "id": "Pb23t0tPgVgu"
   },
   "source": [
    "##Inverse matrices¶\n"
   ]
  },
  {
   "cell_type": "code",
   "execution_count": 219,
   "metadata": {
    "colab": {
     "base_uri": "https://localhost:8080/"
    },
    "id": "3hB-6vVngKcP",
    "outputId": "5b0c131a-2bf2-4cda-a76b-b75fe1f392d0"
   },
   "outputs": [
    {
     "data": {
      "text/plain": [
       "array([[ 3,  0,  2],\n",
       "       [ 2,  0, -2],\n",
       "       [ 0,  1,  1]])"
      ]
     },
     "execution_count": 219,
     "metadata": {},
     "output_type": "execute_result"
    }
   ],
   "source": [
    "A = np.array([[3, 0, 2], [2, 0, -2], [0, 1, 1]])\n",
    "A"
   ]
  },
  {
   "cell_type": "code",
   "execution_count": 220,
   "metadata": {
    "colab": {
     "base_uri": "https://localhost:8080/"
    },
    "id": "ARFFY1sVgKfJ",
    "outputId": "17ef99e9-ee37-49d3-ff0c-46a85e637974"
   },
   "outputs": [
    {
     "data": {
      "text/plain": [
       "array([[ 0.2,  0.2,  0. ],\n",
       "       [-0.2,  0.3,  1. ],\n",
       "       [ 0.2, -0.3, -0. ]])"
      ]
     },
     "execution_count": 220,
     "metadata": {},
     "output_type": "execute_result"
    }
   ],
   "source": [
    "A_inv = np.linalg.inv(A)\n",
    "A_inv"
   ]
  },
  {
   "cell_type": "code",
   "execution_count": 221,
   "metadata": {
    "colab": {
     "base_uri": "https://localhost:8080/"
    },
    "id": "ZFYOqIhtgKg5",
    "outputId": "5dfb187b-7fc7-42ab-9530-6924f088e3c6"
   },
   "outputs": [
    {
     "data": {
      "text/plain": [
       "array([[ 1.00000000e+00,  0.00000000e+00, -5.55111512e-17],\n",
       "       [ 0.00000000e+00,  1.00000000e+00,  0.00000000e+00],\n",
       "       [ 0.00000000e+00,  0.00000000e+00,  1.00000000e+00]])"
      ]
     },
     "execution_count": 221,
     "metadata": {},
     "output_type": "execute_result"
    }
   ],
   "source": [
    "A_inv.dot(A)"
   ]
  },
  {
   "cell_type": "markdown",
   "metadata": {
    "id": "r1JmccHgLqj4"
   },
   "source": [
    "## Hyperplanes\n",
    "\n",
    "A key object in linear algebra is the **hyperplane**.\n",
    "In two dimensions the hyperplane is a **line**, and in three dimensions it is a **plane**. In more generality, in an $d$-dimensional vector space, a hyperplane has $d-1$ dimensions\n",
    "and **divides the space into two half-spaces**. \n",
    "In the Machine Learning language in the contex of classification hyperplanes that separate the space are named **decision planes**. \n",
    "\n",
    "In example, $\\mathbf{a}=(1,2)$ and $\\mathbf{a} \\cdot \\mathbf{b}=1$ define the line $2y = 1 - x$ in the two dimensional space, while $\\mathbf{a}=(1,2,3)$ and $\\mathbf{a} \\cdot \\mathbf{b}=1$ defines the plane $ z= 1 - x-2y$ in the three dimensional space.\n",
    "\n",
    "\n"
   ]
  },
  {
   "cell_type": "markdown",
   "metadata": {
    "id": "B-yrv9cOgmjp"
   },
   "source": [
    "##solving a system of linear equations¶\n"
   ]
  },
  {
   "cell_type": "code",
   "execution_count": 222,
   "metadata": {
    "colab": {
     "base_uri": "https://localhost:8080/"
    },
    "id": "I3qXBAsrgKjU",
    "outputId": "24e8c8d2-98e2-4c23-c6fd-af17a3970160"
   },
   "outputs": [
    {
     "data": {
      "text/plain": [
       "array([[1.],\n",
       "       [2.]])"
      ]
     },
     "execution_count": 222,
     "metadata": {},
     "output_type": "execute_result"
    }
   ],
   "source": [
    "A = np.array([[2, -1], [1, 1]])\n",
    "b = np.array([[0], [3]])\n",
    "x = np.linalg.inv(A).dot(b)\n",
    "x"
   ]
  },
  {
   "cell_type": "markdown",
   "metadata": {
    "id": "bRsCRPcshFaK"
   },
   "source": [
    "Singular matrices are not invertible and are called singular."
   ]
  },
  {
   "cell_type": "markdown",
   "metadata": {
    "id": "ZTY5gLUihcFl"
   },
   "source": [
    "## Linear equations"
   ]
  },
  {
   "cell_type": "markdown",
   "metadata": {
    "id": "t39Khka7a4A5"
   },
   "source": [
    "The set of equations\n",
    "\n",
    "$$\\mathbf{A}\\mathbf{x}=\\mathbf{b}$$\n",
    "\n",
    "corresponds\n",
    "\n",
    "$$\n",
    "\\begin{align}\n",
    "a_{1,1}x_1 + a_{1,2}x_2 + \\cdots + a_{1,n}x_n = b_1 \\\\\\\\\n",
    "a_{2,1}x_1 + a_{2,2}x_2 + \\cdots + a_{2,n}x_n = b_2 \\\\\\\\\n",
    "\\cdots \\\\\\\\\n",
    "a_{m,1}x_1 + a_{m,2}x_2 + \\cdots + a_{m,n}x_n = b_n\n",
    "\\end{align}\n",
    "\\quad\\text{or}\\quad\n",
    "\\begin{bmatrix}\n",
    "    a_{1,1} & a_{1,2} & \\cdots & a_{1,n} \\\\\\\\\n",
    "    a_{2,1} & a_{2,2} & \\cdots & a_{2,n} \\\\\\\\\n",
    "    \\cdots & \\cdots & \\cdots & \\cdots \\\\\\\\\n",
    "    a_{m,1} & a_{m,2} & \\cdots & a_{m,n}\n",
    "\\end{bmatrix}\n",
    "\\begin{bmatrix}\n",
    "    x_1 \\\\\\\\\n",
    "    x_2 \\\\\\\\\n",
    "    \\cdots \\\\\\\\\n",
    "    x_n\n",
    "\\end{bmatrix}\n",
    "=\n",
    "\\begin{bmatrix}\n",
    "    b_1 \\\\\\\\\n",
    "    b_2 \\\\\\\\\n",
    "    \\cdots \\\\\\\\\n",
    "    b_m\n",
    "\\end{bmatrix}.\n",
    "$$\n",
    "\n",
    "Here we have $m$ equations representing..., with $n$ unknowns representing the **dimension space**. \n",
    "Commonly, we are given $\\mathbf{A}$ and $\\mathbf{b}$, and we solve for $\\mathbf{x}$ that satisfy the above equations.\n",
    "\n",
    "How many solutions does $\\mathbf{A}\\mathbf{x}=\\mathbf{b}$ have? There are three possibilites:\n",
    "\n",
    " 1. No solution\n",
    " 2. One solution\n",
    " 3. Infinite number of solutions\n",
    " \n",
    "Why can't there be more than one solution and less than an infinite number of solutions ?\n",
    "\n",
    "On the intuition level, it is because we are working with linear equations.\n",
    "It is clear if we consider the simple scenario of two equations and two unknowns: the solution of this system corresponds to the intersection of the lines. One possibility is that the two lines never cross (parallel). Another possibility is that they cross exactly once. And the last possibility is that they cross everywhere (superimposed)."
   ]
  },
  {
   "cell_type": "markdown",
   "metadata": {
    "id": "nTpf_m2Aa4A6"
   },
   "source": [
    "There are two ways to describe a system of linear equations: the **row view** and the **column view**."
   ]
  },
  {
   "cell_type": "markdown",
   "metadata": {
    "id": "nLbk94SDa4A7"
   },
   "source": [
    "## Row view\n",
    "\n",
    "The row view is probably more intuitive because it is the representation used when we have only one equation. It can now be extended to an infinite number of equations and unknowns.\n",
    "\n",
    "We said that the solutions of the linear system of equations are the sets of values of $x_1...x_n$ that satisfies all equations. For instance, in the case of $\\mathbf{A}\\in \\mathbb{R}^{m \\times n}$ with $m=n=2$ the equations correspond to 2 lines in the 2-dimensional space and the solution of the system is the intersection of these lines.\n",
    "\n",
    "As mentioned before, a linear system can be viewed as a set of $(n-1)$-dimensional hyperplanes in a $n$-dimensional space. The system can also be characterized by its number of equations $m$, and the number of unknown variables $n$.\n",
    "\n",
    "* If $m \\gt n$, that is there are more equations than unknows the system is called **overdetermined**. In example, a system of 3 equations (represented by 3 lines) and 2 unknowns (corresponding to 2 dimensions). In this example, if the lines are independent, there is no solution since there is no point belonging to the three lines.\n",
    "\n",
    "* If $m\\lt n$, that is there are more unknowns than equations the system is named **underdetermined**. In example, there is only 1 equation (1 line) and 2 dimensions. In this case, each point along the line is a solution to the system and the system has infinite number of solutions.\n"
   ]
  },
  {
   "cell_type": "markdown",
   "metadata": {
    "id": "1QQXW5dqa4A7"
   },
   "source": [
    "### Example 1: 1 equation and 2 variables\n",
    "\n",
    "Let us start with an **underdetermined** example with  $m=1$ and  $n=2$:\n",
    "\n",
    "$$\n",
    "a_{1,1}x_1 + a_{1,2}x_2 = b_1\n",
    "$$\n",
    "\n",
    "The graphical interpretation of $n=2$ is that we have a 2-dimensional space. So we represent it with 2 axes. Since our hyperplane is of $n-1$-dimensional, we have a 1-dimensional hyperplane. This is simply a line. As $m=1$, we have only one equation. This means that we have only one line characterizing our linear system.\n",
    "\n",
    "Note that the last equation can also be written in a way that may be more usual:\n",
    "\n",
    "$$\n",
    "x_2 = \\frac{a_{1,1}}{a_{1,2}}x_1 +\\frac{b_1}{a_{1,2}}b_1,\\quad\\text{or}\\quad\n",
    "y = \\frac{a_{1,1}}{a_{1,2}}x +\\frac{b_1}{a_{1,2}}b_1,\n",
    "$$\n",
    "\n",
    "where $y=x_2$, and $x=x_1$.\n",
    "\n",
    "The solutions of this linear system correspond to ALL the values of $x$ and $y$ such that $y = \\frac{a_{1,1}}{a_{1,2}}x +\\frac{b_1}{a_{1,2}}b_1$ holds. Practicly, it corresponds to each and every point along the line so there are  infinite number of solutions.\n"
   ]
  },
  {
   "cell_type": "markdown",
   "metadata": {
    "id": "UGi70ZGumAMc"
   },
   "source": [
    "### Example 2: 2 equation and 2 variables\n",
    "\n",
    "Let us explore an example with  $m=2$ and  $n=2$:\n",
    "\n",
    "$$\n",
    "a_{1,1}x_1 + a_{1,2}x_2 = b_1\\\\\n",
    "a_{2,1}x_1 + a_{2,2}x_2 = b_2.\n",
    "$$\n",
    "\n",
    "The graphical interpretation of $n=2$ is as before. That is, we have a 2-dimensional space, represented with 2 axes, and each equation represents an $1$-dimensional hyperplane which is simply a line. \n",
    "\n",
    "But, here $m=2$, which means that we have two equations, or 2 lines in a 2-dimensional space.\n",
    "There are multiple scenarios:\n",
    "\n",
    "* The two lines run in parallel and there is no solution.\n",
    "* The two lines intersect and we have one unique solution.\n",
    "* The two lines superimpose: it is the same equation or linearily dependant. In this case there are infinite number of solutions since each and every point on the lines corresponds to a solution.\n",
    "\n",
    "Same conlusioned can be drawn with higher values of $m$ (number of equations) and $n$ (number of dimensions). For example, two 2-dimensional plane in a 3-dimensional space can be \n",
    "* parallel (no solution),\n",
    "* cross (infinitely many solutions since their crossing is a line), or\n",
    "* superimposed (infinitely many solutions). "
   ]
  },
  {
   "cell_type": "markdown",
   "metadata": {
    "id": "NvvEPKu0o9Nv"
   },
   "source": [
    "### Example 3: 3 equation and 2 variables\n",
    "\n",
    "Let us explore an **overdetermined** example with  $m=3$ and  $n=2$:\n",
    "\n",
    "$$\n",
    "a_{1,1}x_1 + a_{1,2}x_2 = b_1\\\\\n",
    "a_{2,1}x_1 + a_{2,2}x_2 = b_2\\\\\n",
    "a_{3,1}x_1 + a_{3,2}x_2 = b_3\n",
    "$$\n",
    "\n",
    "The graphical interpretation of $n=2$ is as before. That is, we have a 2-dimensional space, represented by 2 axes, and each equation represents an $1$-dimensional hyperplane which is simply a line. \n",
    "\n",
    "Here $m=3$, which means that we have three equations, or 3 lines in a 2-dimensional space.\n",
    "\n",
    "There are multiple scenarios:\n",
    "* The three lines run in parallel and there is no solution.\n",
    "* The three lines intersect. If the three lines are independent, there are multiple intersections with no unique solution.\n",
    "* Two lines are dependent and the third is independent: we have a unique solution at the intersection of them with the third line.\n",
    "* The three lines superimpose: there are infinite number of solutions.\n",
    "\n",
    "As before, these conlusioned can be generalized to higher spaces."
   ]
  },
  {
   "cell_type": "markdown",
   "metadata": {
    "id": "uxc0YeSd8uHB"
   },
   "source": [
    "## Linear combination\n",
    "\n",
    "The linear combination of 2 vectors corresponds to their weighted sum.\n",
    "In example:\n",
    "\n",
    "$$\n",
    "\\mathbf{x}^\\top=(1,2,3),~\\mathbf{y}^\\top=(4,5,6),\\quad \\text{and}\\quad \\mathbf{y}^\\top=a\\mathbf{x}^\\top+b\\mathbf{y}^\\top,\\text{with}~ a=1,~b=2.\n",
    "$$\n"
   ]
  },
  {
   "cell_type": "code",
   "execution_count": 223,
   "metadata": {
    "colab": {
     "base_uri": "https://localhost:8080/"
    },
    "id": "4qVrxGr28w-a",
    "outputId": "c9313722-e2f2-4c66-b9fc-2238420f03fc"
   },
   "outputs": [
    {
     "data": {
      "text/plain": [
       "array([ 9., 12., 15.])"
      ]
     },
     "execution_count": 223,
     "metadata": {},
     "output_type": "execute_result"
    }
   ],
   "source": [
    "a=1.;b=2.;\n",
    "a*np.array([1,2,3])+b*np.array([4,5,6])"
   ]
  },
  {
   "cell_type": "markdown",
   "metadata": {
    "id": "bpDRxg31a4A-"
   },
   "source": [
    "## Span\n",
    "\n",
    "Consider the above $\\mathbf{x}$ and $\\mathbf{y}$: ALL the points that can reached by their combination via some $a$ and $b$ are called the set of points is the span of the vectors $\\{\\mathbf{x}$, $\\mathbf{y}\\}$.\n",
    "Vector **space** means all the points that can be reached by this vector. In example, the space of all real numbers is $\\mathbb{R}$ and for $n$-dimensions the space is $\\mathbb{R}^n$. \n",
    "Vector **subspace** means that the space occupies only part of the space. In example, a 2-dimensional plane is a subspace in $\\mathbb{R}^3$ and a line is a subspace in $\\mathbb{R}^2$.\n",
    "\n",
    "In general, we will say that a collection of vectors\n",
    "$\\mathbf{x}_1,\\mathbf{x}_2, \\ldots, \\mathbf{x}_n$ are linearly **dependent**\n",
    "if there exist coefficients $a_1,a_2 \\ldots, a_n$ not all zero such that\n",
    "\n",
    "$$\n",
    "\\sum_{i=1}^n a_i\\mathbf{x_i} = 0.\n",
    "$$\n",
    "\n",
    "In this case, we can solve for one of the vectors in terms of a combination of the others, and thus this vector is redundant.\n",
    "Similarly, a linear dependence in the columns of a matrix means that this matrix can be compresed down to a lower dimension. If there is no linear dependence we say the vectors are linearly independent. In a matrix, if the columns are linearly independent, the matrix cannot be compressed to a lowed dimension.\n",
    "\n",
    "A set of vectors which is linearly **independent** and **spans** some vector space, forms a **basis** for that vector space. \n",
    "The **standard basis** (also called natural basis or canonical basis) in $\\mathbb{R}^n$ is the set of vectors whose components are all zero, except one that equals 1. For example, the standard basis in $\\mathbb{R}^2$ is formed by the vectors $\\mathbf{x}^\\top=(1,0)^\\top$ and $\\mathbf{y}^\\top=(0,1)^\\top$.\n",
    "\n",
    "The linear combination of vectors in a space stay in the same space. For instance, any linear combination of two lines in a $\\mathbb{R}^2$ result in another vector in $\\mathbb{R}^2$."
   ]
  },
  {
   "cell_type": "markdown",
   "metadata": {
    "id": "SH7ZAk2-a4A_"
   },
   "source": [
    "## Column view\n",
    "\n",
    "It is also possible to represent the solution $\\mathbf{b}$ to the equations $\\mathbf{A}\\mathbf{x}=\\mathbf{b}$ as a linear combination of the columns in $\\mathbf{A}$.\n",
    "\n",
    "To see that, the set of equations\n",
    "\n",
    "$$\n",
    "a_{1,1}x_1 + a_{1,2}x_2 + a_{1,n}x_n = b_1 \\\\\\\\\n",
    "a_{2,1}x_1 + a_{2,2}x_2 + a_{2,n}x_n = b_2 \\\\\\\\\n",
    "\\cdots \\\\\\\\\n",
    "a_{m,1}x_1 + a_{m,2}x_2 + a_{m,n}x_n = b_m\n",
    "$$\n",
    "\n",
    "can be written by grouping the columns in $\\mathbf{A}$\n",
    "\n",
    "$$\n",
    "x_1\n",
    "\\begin{bmatrix}\n",
    "    a_{1,1}\\\\\\\\\n",
    "    a_{2,1}\\\\\\\\\n",
    "    a_{m,1}\n",
    "\\end{bmatrix}\n",
    "+\n",
    "x_2\n",
    "\\begin{bmatrix}\n",
    "    a_{1,2}\\\\\\\\\n",
    "    a_{2,2}\\\\\\\\\n",
    "    a_{m,2}\n",
    "\\end{bmatrix}\n",
    "+\\cdots+\n",
    "x_n\n",
    "\\begin{bmatrix}\n",
    "    a_{1,n}\\\\\\\\\n",
    "    a_{2,n}\\\\\\\\\n",
    "    a_{m,n}\n",
    "\\end{bmatrix}\n",
    "=\n",
    "\\begin{bmatrix}\n",
    "    b_1\\\\\\\\\n",
    "    b_2\\\\\\\\\n",
    "    b_m\n",
    "\\end{bmatrix}.\n",
    "$$\n",
    "\n",
    "In this view, the solution $\\mathbf{b}$ is a linear combination of the columns of $\\mathbf{A}$, weighted by the components of $\\mathbf{x}$."
   ]
  },
  {
   "cell_type": "markdown",
   "metadata": {
    "id": "fA2sIoL8F8L3"
   },
   "source": [
    "* For the **underdetermined** system, $n \\gt m$ and the system has **infinite number of solutions**. As an example in the column view,\n",
    "$$\n",
    "\\begin{align}\n",
    "a_{1,1}x_1+a_{1,2}x_2+a_{1,3}x_3=b_1\\\\\n",
    "a_{2,1}x_1+a_{2,2}x_2+a_{2,3}x_3=b_2\n",
    "\\end{align}\n",
    "\\quad\\text{corresponds to}\\quad\\\n",
    "x_1\n",
    "\\begin{bmatrix}\n",
    "    a_{1,1}\\\\\n",
    "    a_{2,1}\n",
    "\\end{bmatrix}\n",
    "+x_2\n",
    "\\begin{bmatrix}\n",
    "    a_{1,2}\\\\\n",
    "    a_{2,2}\n",
    "\\end{bmatrix}\n",
    "+x_3\n",
    "\\begin{bmatrix}\n",
    "    a_{1,3}\\\\\n",
    "    a_{2,3}\n",
    "\\end{bmatrix}\n",
    "=\n",
    "\\begin{bmatrix}\n",
    "    b_{1}\\\\\n",
    "    b_{2}\n",
    "\\end{bmatrix}.\n",
    "$$\n",
    "\n",
    "But, if the columns of $\\mathbf{A}$ are independent, two of them are enough to reach any point in $\\mathbb{R}^2$. So, two components out of the three in $\\mathbf{x}$ are set and the third is free, meaning that there are infinite number of solutions.\n",
    "\n",
    "* For the **overdetermined** system $m\\gt n$ and there is **no solution**. For example using the column view,\n",
    "\n",
    "$$\n",
    "\\begin{align}\n",
    "a_{1,1}x_1+a_{1,2}x_2=b_1\\\\\n",
    "a_{2,1}x_1+a_{2,2}x_2=b_2\\\\\n",
    "a_{3,1}x_1+a_{3,2}x_2=b_3\\\\\n",
    "\\end{align}\n",
    "\\quad\\text{corresponds to}\\quad\\\n",
    "x_1\n",
    "\\begin{bmatrix}\n",
    "    a_{1,1}\\\\\n",
    "    a_{2,1}\\\\\n",
    "    a_{3,1}\\\\\n",
    "\\end{bmatrix}\n",
    "+x_2\n",
    "\\begin{bmatrix}\n",
    "    a_{1,2}\\\\\n",
    "    a_{2,2}\\\\\n",
    "    a_{3,2}\n",
    "\\end{bmatrix}\n",
    "=\n",
    "\\begin{bmatrix}\n",
    "    b_{1}\\\\\n",
    "    b_{2}\\\\\n",
    "    b_{3}\n",
    "\\end{bmatrix}.\n",
    "$$\n",
    "\n",
    "In the row view we have 3 lines and we are looking for unique intersection in the 2-dimensional plan. The three lines (if independent) will intesect in multiple points resulting in no solution. In the column view, becuase $n=2$ the linear combination of two 3-dimensional vectors is not enough to span the 3-dimensional space, unless the vecotr $\\mathbf{b}$ lies, for some reason, in the subspace formed by these two vectors."
   ]
  },
  {
   "cell_type": "markdown",
   "metadata": {
    "id": "7XW6ZNIza4BB"
   },
   "source": [
    "### Linear dependency\n",
    "\n",
    "The number of columns can thus provide information on the number of solutions. But the number that we have to take into account is the number of linearly **independent** columns. Columns are linearly **dependent** if one of them is a linear combination of the others. In the column view, the direction of two linearly dependent vectors is the same and this doesn't add value in spanning the space.\n",
    "\n",
    "As an example,\n",
    "\n",
    "$$\n",
    "\\begin{align}\n",
    "x_1+2x_2=b_1\\\\\n",
    "2x_1+4x_2=b_2\n",
    "\\end{align}\n",
    "\\quad\\text{which in the column view is}\\quad\n",
    "x_1\n",
    "\\begin{bmatrix}\n",
    "    1 \\\\\n",
    "    2\n",
    "\\end{bmatrix}\n",
    "+\n",
    "x_2\n",
    "\\begin{bmatrix}\n",
    "    2 \\\\\n",
    "    4\n",
    "\\end{bmatrix}\n",
    "=\n",
    "\\begin{bmatrix}\n",
    "    b_1 \\\\\n",
    "    b_2\n",
    "\\end{bmatrix}\n",
    "$$.\n",
    "\n",
    "The columns $(1,2)^\\top$ and $(2,4)^\\top$ are **dependent** and hence their linear combination is not enough to span the full $\\mathbb{R}^2$ and reach all points in this space. If $\\mathbf{b}=(3,6)^\\top$ there is a solution $\\mathbf{x}^\\top=(1,1)^\\top$ because the vector $(1,2)^\\top$ spans a subspace of $\\mathbb{R}^2$ that contains the vector $\\mathbf{b}=(3,6)^\\top$.\n",
    "But for more general solution, as say $\\mathbf{b}=(3,7)$, there is no solution \n",
    "as linear combinations of $(1,2)^\\top$ are not enough to reach all points in $\\mathbb{R}^2$. This is an example of an **overdetermined** system with $m=2\\gt n=1$ because of the linear dependency between the columns.\n"
   ]
  },
  {
   "cell_type": "markdown",
   "metadata": {
    "id": "YrfWgk6Ga4BC"
   },
   "source": [
    "### Square matrix\n",
    "\n",
    "When $\\mathbf{A}\\in\\mathbb{R}^{m\\times n}$ and $m=n$ the matrix $\\mathbf{A}$ is called square matrix and if the columns are linearly **independant** there is a unique solution to $\\mathbf{A}\\mathbf{x}=\\mathbf{b}$.\n",
    "The solution is simply $\\mathbf{x}=\\mathbf{A}^{-1}\\mathbf{b}$, where $\\mathbf{A}^{-1}$ is the inverse of $\\mathbf{A}$.\n",
    "\n",
    "When $\\mathbf{A}^{-1}$ exist, we say that $\\mathbf{A}$ is invertible (aka, nonsingular, or nondegenerate). \n",
    "In this case, the columns and rows of $\\mathbf{A}$ are linearly independent.\n",
    "\n",
    "\n",
    "\n",
    "<!-- A is invertible, that is, A has an inverse, is nonsingular, or is nondegenerate.\n",
    "A is row-equivalent to the n-by-n identity matrix In.\n",
    "A is column-equivalent to the n-by-n identity matrix In.\n",
    "A has n pivot positions.\n",
    "det A ≠ 0. In general, a square matrix over a commutative ring is invertible if and only if its determinant is a unit in that ring.\n",
    "A has full rank; that is, rank A = n.\n",
    "Based on the rank A=n, the equation Ax = 0 has only the trivial solution x = 0. and the equation Ax = b has exactly one solution for each b in Kn.\n",
    "The kernel of A is trivial, that is, it contains only the null vector as an element, ker(A) = {0}.\n",
    "The columns of A are linearly independent.\n",
    "The columns of A span Kn.\n",
    "Col A = Kn.\n",
    "The columns of A form a basis of Kn.\n",
    "The linear transformation mapping x to Ax is a bijection from Kn to Kn.\n",
    "There is an n-by-n matrix B such that AB = In = BA.\n",
    "The transpose AT is an invertible matrix (hence rows of A are linearly independent, span Kn, and form a basis of Kn).\n",
    "The number 0 is not an eigenvalue of A.\n",
    "The matrix A can be expressed as a finite product of elementary matrices.\n",
    "The matrix A has a left inverse (that is, there exists a B such that BA = I) or a right inverse (that is, there exists a C such that AC = I), in which case both left and right inverses exist and B = C = A−1. -->"
   ]
  },
  {
   "cell_type": "markdown",
   "metadata": {
    "id": "uIFgIxFdAR6E"
   },
   "source": [
    "### Rank\n",
    "\n",
    "The **column rank** of $\\mathbf{A}$ is the dimension of the column space of $\\mathbf{A}$ (i.e., the number of linearly independent columns), while the **row rank** of $\\mathbf{A}$ is the dimension of the row space of $\\mathbf{A}$ (i.e., the number of linearly independent rows).\n",
    "\n",
    "A fundamental result in linear algebra is that the column rank and the row rank are **always equal** and this number is simply called the rank of $\\mathbf{A}$.\n",
    "A matrix $\\mathbf{A}\\in\\mathbb{R}^{m\\times n}$ is said to have **full rank** if it's rank equals to $\\min(m, n$); otherwise, the matrix is **rank deficient**."
   ]
  },
  {
   "cell_type": "code",
   "execution_count": 224,
   "metadata": {
    "colab": {
     "base_uri": "https://localhost:8080/"
    },
    "id": "P8wDZ6ZbAVg2",
    "outputId": "2f3f8332-71f6-4c02-d7df-e3cef0da06fc"
   },
   "outputs": [
    {
     "data": {
      "text/plain": [
       "(2, 1, 3)"
      ]
     },
     "execution_count": 224,
     "metadata": {},
     "output_type": "execute_result"
    }
   ],
   "source": [
    "A=np.array([[1,2],[3,4]]); B=np.array([[1,2],[2,4]]); C=np.array([[1,0,0],[0,1,0],[0,0,1]])\n",
    "np.linalg.matrix_rank(A), np.linalg.matrix_rank(B), np.linalg.matrix_rank(C)"
   ]
  },
  {
   "cell_type": "markdown",
   "metadata": {
    "id": "dzmF_K5B_Dl-"
   },
   "source": [
    "### Invertibility\n",
    "\n",
    "An $n\\times n$ square matrix $\\mathbf{A}$ is called **invertible** (also **nonsingular** or **nondegenerate**), if there exists an $n\\times n$ square matrix $\\mathbf{B}$ such that\n",
    "$$\n",
    "\\mathbf{A}\\mathbf{B}=\\mathbf{B}\\mathbf{A}=\\mathbf{I}_n\n",
    "$$\n",
    "\n",
    "where $\\mathbf{I}_n$ denotes the $n\\times n$ identity matrix. In this case, then the matrix $\\mathbf{B}$ is uniquely determined by $\\mathbf{A}$, and is called the inverse of $\\mathbf{A}$, denoted by $\\mathbf{A}^{-1}$.\n",
    "\n",
    "A square matrix that is not invertible is called **singular** or **degenerate**. Non-square matrices ($m\\times n$ matrices with $n\\ne n$) do not have an inverse (but they may have a left inverse or right inverse). \n",
    "A square matrix is singular if and only if its determinant is zero. In practice, singular square matrices are quite rare. \n",
    "\n",
    "\n",
    "\n",
    "$$\n",
    "\\mathbf{A} = \\begin{bmatrix}\n",
    "a & b \\\\\n",
    "c & d\n",
    "\\end{bmatrix},\n",
    "$$\n",
    "\n",
    "then we can see that the inverse is\n",
    "\n",
    "$$\n",
    " \\frac{1}{ad-bc}  \\begin{bmatrix}\n",
    "d & -b \\\\\n",
    "-c & a\n",
    "\\end{bmatrix}.\n",
    "$$\n",
    "\n",
    "We can test to see this by seeing that multiplying\n",
    "by the inverse given by the formula above works in practice.\n"
   ]
  },
  {
   "cell_type": "markdown",
   "metadata": {
    "id": "hUIHrgORK5Tw"
   },
   "source": [
    "# Chapter -1: Probability and Statistics\n",
    "\n",
    "Probability and statistics and constitute of dealing with uncertainty in desicion making. The theory of probability provides the basis for the learning from data."
   ]
  },
  {
   "cell_type": "code",
   "execution_count": 225,
   "metadata": {
    "id": "YANP4WOwIPok"
   },
   "outputs": [],
   "source": [
    "import numpy as np\n",
    "from scipy import stats\n",
    "import scipy\n"
   ]
  },
  {
   "cell_type": "markdown",
   "metadata": {
    "id": "v8TSC_vhIPoq"
   },
   "source": [
    "## Fundamentals\n",
    "Starting with a few definitions. A **sample space** is the set of all the possible experimental outcomes. And, **experiment**, is defined to be any process for which more than one **outcome** is possible.\n",
    "\n",
    "Imagine a sample space of $n$ possible outcomes $S = \\{ O_1, O_2, \\cdots, O_n \\}$. We assign a probability $p_i$ to each outcome $O_i$\n",
    "\n",
    "\\begin{equation}\n",
    "    P(O_i) = p_i.\n",
    "\\end{equation}\n",
    "\n",
    "All $p_i$ must satisfy \n",
    "\\begin{equation}\n",
    "   0 \\leq p_i \\leq 1, \\hspace{0.5cm} \\forall i= 1,2, \\cdots, n.\n",
    "\\end{equation}\n",
    "\n",
    "If all $p_i$ are equal to a constant $p$ we say that all $n$ outcomes are equally likely, and each probability has a value of $1/n$.\n",
    "\n",
    "An **event** is defined to be a subset of the sample space. The probability of an event $A$, $P(A)$, is obtained by summing the probabilities of the outcomes contained withing the event $A$. An event is said to occur if one of the outcomes contained within the event occurs. The complement of event $A$ is the event $A^C$ and is defined to be the event consisting of everything in the sample space $S$ that is not contained within $A$. In example,\n",
    "\n",
    "\\begin{equation}\n",
    "    P(A) + P(A^C) = 1\n",
    "\\end{equation}\n",
    "\n",
    "**Intersections** of events, $A \\cap B$, consists of the outcomes contained within both events $A$ and $B$. The probability of the intersection, $P(A \\cap B)$, is the probability that both events occur simultaneously.\n",
    "A few known properties of the intersections of events:\n",
    "\\text{For mutually exclusive events:}~\n",
    "\n",
    "\\begin{align}\n",
    " & P(A \\cap B) +P(A \\cap B^C) = P(A)\\\\\n",
    "&A \\cap (B \\cap C) = (A \\cap B) \\cap C\\\\\n",
    "& A \\cap B = \\emptyset \\quad\\text{(for mutually exclusive events)}\\\\\n",
    "\\end{align}\n",
    "\n",
    "The **union** of events, $ A\\cup B$, consists of the outcomes that are contained within at least one of the events $A$ and $B$. The probability of this event, $P (A \\cup B)$ is the probability that at least one of these events $A$ and $B$ occurs.\n",
    "A few known properties of the union of events:\n",
    "\n",
    "\\begin{align}\n",
    "& A \\cup A^C = S \\\\\n",
    "& (A \\cup B)^C = A^C \\cap B^C\\\\\n",
    "& (A \\cap B)^C = A^C \\cup B^C\\\\\n",
    "& A \\cup (B \\cup C) = (A \\cup B) \\cup C \\\\\n",
    "& P(A \\cup B) = P(A) + P(B) = \\emptyset \\quad\\text{(for mutually exclusive events)}\\\\\n",
    "& P( A \\cup B) = P(A \\cap B^C) + P(A^C \\cap B^C) + P(A \\cap B)\\\\\n",
    "\\end{align}\n",
    "\n",
    "The union of three events is equal to \n",
    "\\begin{align}\n",
    "P(A \\cup B \\cup C) = P(A) + P(B) + P(C) - P(A \\cap B) - P( B \\cap C) - P( A \\cap C) + P(A \\cap B \\cap C).\n",
    "\\end{align}\n",
    "If the events union is **mutually exclusive** then\n",
    "\\begin{align}\n",
    "    P(A_1 \\cup A_2 \\cup \\cdots \\cup A_n) = P(A_1) + \\cdots + P(A_n),\n",
    "\\end{align}\n",
    "where the sequence $A_1, A_2, \\cdots , A_n$ are called the **partition** of $S$.\n",
    "\n",
    "**Conditional Probability** is defined as an event $B$ that is conditioned on another event $A$. In this case,\n",
    "\\begin{align}\n",
    "    P(B \\mid A) = \\frac{P(A \\cap B)}{P(A)} \\hspace{0.5cm}  \\text{for } P(A) >0.\n",
    "\\end{align}\n",
    "\n",
    "From the above equation, it follows that \n",
    "\\begin{align}\n",
    "P(A \\cap B) = P (B \\mid A) P(A).\n",
    "\\end{align}\n",
    "\n",
    "It's not hard to see that conditioning on more evets (e.g. two) results in\n",
    "\\begin{align}\n",
    "P(A \\cap B\\cap C) = P (C \\mid B\\cap A) P(B\\cap A).\n",
    "\\end{align}\n",
    "\n",
    "In general, for a sequence of events $A_1, A_2, \\cdots, A_n$:\n",
    "\\begin{align}\n",
    "\\mathrm {P} (A_{n}\\cap \\ldots \\cap A_{1})=\\mathrm {P} (A_{n}|A_{n-1}\\cap \\ldots \\cap A_{1})\\cdot \\mathrm {P} (A_{n-1}\\cap \\ldots \\cap A_{1}).\n",
    "\\end{align}\n",
    "\n",
    "If the two events $A$ and $B$ are independent, knowledge about one event does not affect the probability of the other event. The following conditions are equivalent:\n",
    "\\begin{align}\n",
    "P(A \\mid B) &= P(A)\\\\\n",
    "P(A \\cap B) &= P(A)P(B).\\\\\n",
    "\\end{align}\n",
    "\n",
    "In general, if $A_1, A_2, \\cdots, A_n$ are independent then\n",
    "\\begin{align}\n",
    "P(A_1 \\cap A_2  \\ldots \\cap A_n) = P(A_1)P(A_2) \\cdots P(A_n).\n",
    "\\end{align}\n"
   ]
  },
  {
   "cell_type": "markdown",
   "metadata": {
    "id": "Lnr_kfAyIPoy"
   },
   "source": [
    "The law of total probability states that given a partition of the sample space $B$ to $n$ non-overlapping segments $\\{ A_1, A_2, \\cdots, A_n \\}$ the probability of an event $B$, $P(B)$ can be expressed as:\n",
    "\\begin{align}\n",
    "    P(B) = \\sum_{i=1}^n P(A_i)P(B \\mid A_i)\n",
    "\\end{align}\n",
    "\n",
    "And finally, Bayes' theorem is infered from the conditional probability equations $P(A|B)=P(A\\cap B)/P(B)$ and $P(B|A)=P(B\\cap A)/P(A)$. Because, $P(A\\cap B)=P(B\\cap A)$ it follows that\n",
    "\\begin{align}\n",
    "    P(A \\mid B) = \\frac{P(B \\mid A) P(A) }{ P(B)}.\n",
    "\\end{align}\n",
    "If $B$\n",
    "- Given $\\{ A_1, A_2, \\cdots, A_n \\}$ a partition of a sample space, then the posterior probabilities of the event $A_i$ conditional on an event $B$ can be obtained from the probabilities $P(A_i)$ and $P(A_i \\mid B)$ using the formula:\n",
    "\\begin{equation}\n",
    "    P(A_i \\mid B) = \\frac{P(A_i)P(B \\mid A_i)}{\\sum_{j=1}^n P(A_j)P(B \\mid A_j)}\n",
    "\\end{equation}"
   ]
  },
  {
   "cell_type": "markdown",
   "metadata": {
    "id": "Nmnm7XLSIPoy"
   },
   "source": [
    "### Bayes' Theorem"
   ]
  },
  {
   "cell_type": "markdown",
   "metadata": {
    "id": "uC7SACdjIPoy"
   },
   "source": [
    "- Given $\\{ A_1, A_2, \\cdots, A_n \\}$ a partition of a sample space, then the posterior probabilities of the event $A_i$ conditional on an event $B$ can be obtained from the probabilities $P(A_i)$ and $P(A_i \\mid B)$ using the formula:\n",
    "\\begin{equation}\n",
    "    P(A_i \\mid B) = \\frac{P(A_i)P(B \\mid A_i)}{\\sum_{j=1}^n P(A_j)P(B \\mid A_j)}\n",
    "\\end{equation}"
   ]
  },
  {
   "cell_type": "code",
   "execution_count": null,
   "metadata": {
    "id": "J-i4rjwEIPoy"
   },
   "outputs": [],
   "source": []
  },
  {
   "cell_type": "markdown",
   "metadata": {
    "id": "GSUUbT5LIjaw"
   },
   "source": []
  },
  {
   "cell_type": "markdown",
   "metadata": {
    "id": "20Pc2QoxCiK4"
   },
   "source": [
    "\n",
    "# Chapter 0: Introduction\n",
    "\n"
   ]
  },
  {
   "cell_type": "markdown",
   "metadata": {
    "id": "KHyrjgkYtkbT"
   },
   "source": [
    "Welcome to our short introductory course on Operation Research using Python!\n",
    "\n",
    "Operations research (OR), (a.k.a., Management Science) is an interdisciplinary field that uses analytical methods for quantitative decision-making.\n",
    "The emphasis of OR is on practical applications, and as such, it has substantial overlap with many other disciplines, like industrial engineering and business management.\n",
    "It uses tools from mathematical sciences, such as modeling, statistics, and optimization, to arrive at optimal or near-optimal solutions to complex decision-making problems. Operations research is often concerned with determining the extreme values of real-world objectives, such as maximizing profit or minimizing cost.\n",
    "\n",
    "Operations research is used to deal with real-world problems. For example:\n",
    "* Scheduling: hospital patients, classes, buses, planes, sporting events.\n",
    "* Marketing: store layout, advertising, social media, online ad placement, recommendations on a website.\n",
    "* Product development: product features, pricing, sales forecasts.\n",
    "* Inventory: how many to build, how many touchpads the store should have in stock.\n",
    "* Organizations: business management, cross-cultural issues, social networks.\n",
    "* Queueing: waiting for lines at amusement parks, banks, movie theaters, the line at the store to buy new electronic gadgets, traffic.\n",
    "* Environment: managing sustainable resources, reducing materials needed to manufacture a product.\n",
    "* Optimizing: internet search engines, product design.\n",
    "* Decision making: security, investment, what college to attend.\n",
    "\n",
    "<!-- The following set of notes will emphasize the use of Python in solving OR-related problems. -->\n",
    "\n",
    "<!-- ## Python and Jupyter Resources -->\n",
    "<!-- \n",
    "* [Google Colab Introduction](https://colab.research.google.com/notebooks/welcome.ipynb)\n",
    "* [Google's Python Class](https://developers.google.com/edu/python/)\n",
    "* [Stanford Numpy Tutorial](https://cs231n.github.io/python-numpy-tutorial/)\n",
    "* [Linear algebra](https://github.com/ageron/handson-ml2/blob/master/math_linear_algebra.ipynb)\n",
    "* [Numpy](https://github.com/ageron/handson-ml2/blob/master/tools_numpy.ipynb)\n",
    "* [Matplotlib](https://github.com/ageron/handson-ml2/blob/master/tools_matplotlib.ipynb)\n",
    "* [Pandas](https://github.com/ageron/handson-ml2/blob/master/tools_pandas.ipynb)\n",
    "\n",
    "<!-- * [Jupyter Notebook Tutorial](https://www.datacamp.com/community/tutorials/tutorial-jupyter-notebook) -->\n",
    "<!-- * [Calculus](https://github.com/ageron/handson-ml2/blob/master/math_differential_calculus.ipynb) -->\n",
    "<!-- * [Matplotlib Tutorial Notebook](https://nbviewer.org/github/jrjohansson/scientific-python-lectures/blob/master/Lecture-4-Matplotlib.ipynb) -->\n",
    "<!-- * [Python Data Science Handbook](https://github.com/jakevdp/PythonDataScienceHandbook) -->\n",
    "<!-- * [Scikit-Learn Documentation](https://scikit-learn.org/stable/index.html) --> \n"
   ]
  },
  {
   "cell_type": "markdown",
   "metadata": {
    "id": "I1oU-TiwckKi"
   },
   "source": [
    "# Chapter 1: Linear Programming"
   ]
  },
  {
   "cell_type": "markdown",
   "metadata": {
    "id": "ag0EmEuFjSzz"
   },
   "source": [
    "Objectives of business decisions frequently involve maximizing profit or minimizing costs.\n",
    "Linear programming uses linear algebraic relationships to represent a firm's decisions given a business objective and resource constraints.\n",
    "Steps in application:\n",
    "1. Identify the problem as solvable by linear programming\n",
    "2. Formulate a mathematical model of the unstructured problem\n",
    "3. Solve the model\n",
    "\n",
    "The model has multiple components:\n",
    "* Decision variables - mathematical symbols representing levels of activity by the firm\n",
    "* Objective function - a linear mathematical relationship describing an objective of the firm, in terms of decision variables - this function is to be maximized or minimized\n",
    "* Constraints - requirements or restrictions placed on the firm by the operating environment, stated in linear relationships of the decision variables\n",
    "* Parameters - numerical coefficients and constants used in the objective function and constraints\n",
    "\n",
    "To make things more concrete let's consider and example-"
   ]
  },
  {
   "cell_type": "markdown",
   "metadata": {
    "id": "SlePgwGOcTdg"
   },
   "source": [
    "## The Factory Problem"
   ]
  },
  {
   "cell_type": "markdown",
   "metadata": {
    "id": "xdgbiVQ_qkK9"
   },
   "source": [
    "A buisness manager develops a production plan for a factory that produces **chairs** and **tables**. The factory wants to sell a chair for **\\$40** and a table for **\\$50**.\n",
    "There are two critical resources in the production of chairs and tables: wood (measured in **m$^2$**), and labor (measured in working **hours** per week).\n",
    "At the beginning of each week there are **40** units of wood and **50** units of labor available.\n",
    "\n",
    "The manager estimates that \n",
    "* **one chair** requires **1** unit of wood and **4** units of labor,\n",
    "* while **one table** requires **2** units of wood and **3** units of labor. \n",
    "\n",
    "product | profit (\\$/unit) | wood (m$^2$/unit) | labor (hour/unit)\n",
    "-|-|-|-\n",
    "chair | 40 | 1 | 2\n",
    "table | 50 | 4 | 3\n",
    "\n",
    "The marketing department has told the manager that ALL chairs and tables can be sold.\n",
    "\n",
    "**Problem statement:\n",
    "what is the production plan that maximizes total revenue?**\n",
    "\n",
    "If the factory produces $x_1$ chairs, then since each chair generates \\$40, the *total revenue* generated by the production of chairs is $40x_1$.\n",
    "Similarly, the *total revenue* generated by the production of tables is $50x_2$. \n",
    "Consequently, the total revenue generated by the production plan can be determined by the following equation:\n",
    "\n",
    "\\begin{align}\n",
    "\\text{total revenue per week} = 40x_1 + 50x_2.\n",
    "\\end{align}\n",
    "\n",
    "The production plan is constrained by the amount of resources available per week. How do we ensure that the production plan does not consume more wood or labor than the amount available?\n",
    "If we decide to produce $x_1$ number of chairs, then the total amount of wood consumed by the production of chairs is $1x_1$ m$^2$.\n",
    "Similarly, if we decide to produce $x_2$ number of tables,\n",
    "then the total amount of wood consumed by the\n",
    "production of tables is $2x_2$ m$^2$.\n",
    "Hence, the total consumption of wood by the\n",
    "production plan determined by the values of $x_1$ and $x_2$\n",
    "is $1x_1 + 2x_2$  m$^2$. \n",
    "However, the consumption of wood by the production plan cannot exceed the amount of wood available. We can expressed these ideas in\n",
    "the following constraint:\n",
    "\n",
    "\\begin{align}\n",
    "1x_1 + 2x_2 \\le 40.\n",
    "\\end{align}\n",
    "\n",
    "Similarly, we can formulate the constraint for\n",
    "labor resources per week.\n",
    "The total amount of labor resources consumed by the\n",
    "production of chairs is 4 labor units multiplied by the\n",
    "number of chairs produced, that is $4x_1$ hours.\n",
    "The total amount of labor resources consumed by the\n",
    "production of tables is 3 labor units multiplied by the\n",
    "number of tables produced, that is $3x_2$ hours.\n",
    "Therefore, the total consumption of labor resources by\n",
    "the production plan determined by the values of $x_1$ and\n",
    "$x_2$ is $4x_1 + 3x_2$ hours. This labor consumption cannot\n",
    "exceed the labor capacity available. Hence, this\n",
    "constraint can be expressed as follows:\n",
    "\n",
    "\\begin{align}\n",
    "4x_1 + 3x_2 \\le 120.\n",
    "\\end{align}\n",
    "\n",
    "In a linear programming (LP) model we have objective (goal) and constraints that must meet.\n",
    "Here, the objective is to maximize the total revenue (denoted by $z$) generated by the buisness plan and constraints that limit the number of chairs and tables that can be produced. That is,\n",
    "\n",
    "\\begin{align}\n",
    "&\\text{max}\\\\\n",
    "&\\qquad z=40𝑥_1 + 50𝑥_2&\\quad&\\text{(revenue)}\\\\\n",
    "&\\text{subject to}\\\\\n",
    "&\\qquad 1x_1 + 2𝑥_2 \\le 40&\\quad&\\text{(wood, m$^2$)}\\\\\n",
    "&\\qquad 4𝑥_1 + 3𝑥_2 \\le 120&\\quad&\\text{(labor, hours)}\\\\\n",
    "&\\qquad x_1, x_2 \\ge 0&\\quad&\\text{(non negativity)}\\\\\n",
    "\\end{align} \n",
    "\n",
    "where $𝑥_1$ is a **decision variable** that represent the number of\n",
    "chairs to produce, and $𝑥_2$ is a **decision variable** that represent the number of tables to produce. \n",
    "\n",
    "Abstraction of factory problem allows\n",
    "us to generalize the model. That is, we are able to change the values of the data without changing the\n",
    "model structure:\n",
    "\n",
    "\\begin{align}\n",
    "&\\text{max}\\\\\n",
    "&\\qquad z=c_1𝑥_1 + c_2𝑥_2&\\quad&\\text{(revenue)}\\\\\n",
    "&\\text{subject to}\\\\\n",
    "&\\qquad a_{1,1}x_1 + a_{1,2}𝑥_2 \\le b_1&\\quad&\\text{(wood, $m^2$)}\\\\\n",
    "&\\qquad a_{2,1}𝑥_1 + a_{2,2}𝑥_2 \\le b_2&\\quad&\\text{(labor, hours)}\\\\\n",
    "&\\qquad x_1, x_2 \\ge 0&\\quad&\\text{(non negativity)}\\\\\n",
    "\\end{align} \n",
    "\n",
    "where $c_1=40$, $c_2=50$, $a_{1,1}=1$, $a_{1,2}=2$,\n",
    "$a_{2,1}=4$, $a_{2,2}=3$, $b_1=40$, and $b_2=120$. \n",
    "Summation notation allows us to write the above set of equations in more concise form:\n",
    "\n",
    "\\begin{align}\n",
    "&\\text{max}\\\\\n",
    "&\\qquad z=\\sum_{i=1}^{n} c_i x_i  \\\\\n",
    "&\\text{subject to} \\\\\n",
    "&\\qquad \\sum_{j=1}^{m} a_{i,j} x_j \\le b_i, \\quad(\\forall i = 1,2,.. m) \\\\\n",
    "&\\qquad x_i \\ge 0, \\quad(\\forall i = 1,2,.. n). \\\\\n",
    "\\end{align} \n",
    "\n",
    "where $n$ is the number of decision variables (here $n=2$), and\n",
    "$m$ is the number of constraining resources (here $m=2$). In example, \n",
    "\n",
    "\\begin{align}\n",
    "&\\text{max}\\\\\n",
    "&z=\\sum_{i=1}^{n} c_i x_i= c_1x_1+c_2x_2=40x_1+50x_2,\\\\\n",
    "&\\text{subject to} \\\\\n",
    "&\\sum_{j=1}^{m} a_{i,j} x_j = \\left\\{\n",
    "        \\begin{array}{cl}\n",
    "        a_{1,1}x_1+a_{1,2}x_2&\\le b_1&\\Rightarrow 1x_1+2x_2&=40,  \\\\\n",
    "        a_{2,1}x_1+a_{2,2}x_2&\\le b_2&\\Rightarrow 4x_1+3x_2&=120,\n",
    "        \\end{array}\n",
    "        \\right.\\\\\n",
    "&x_1\\ge 0, x_2\\ge 0.\\\\\n",
    "\\end{align} \n",
    "\n",
    "\n",
    "Another way of writing this is using a matrix form:\n",
    "\n",
    "\\begin{align}\n",
    "&\\text{max}\\\\\n",
    "&\\qquad z=\\mathbf{c}^T\\mathbf{x}  \\\\\n",
    "&\\text{subject to}\\\\\n",
    "&\\qquad\\mathbf{A}\\mathbf{x} \\le \\mathbf{b},\\\\ \n",
    "&\\qquad\\mathbf{x} \\ge 0.\\\\\n",
    "\\end{align} \n",
    "\n",
    "Here, $\\mathbf{c}=(c_1,c_2)=(40,50),~\\mathbf{x}=(x_1,x_2), \\mathbf{b}=(b_1,b_2)=(40,120)$, and \n",
    "$\\mathbf{A} = \n",
    "  \\begin{pmatrix}\n",
    "  a_{1,1} & a_{1,2} \\\\\n",
    "  a_{2,1} & a_{2,2} \n",
    "  \\end{pmatrix}\n",
    "   = \n",
    "  \\begin{pmatrix}\n",
    "  1 & 2 \\\\\n",
    "  4 & 3 \n",
    "  \\end{pmatrix}.\n",
    "$\n",
    "\n",
    "Lastely, in a one line format:\n",
    "\n",
    "\\begin{align} \n",
    "{\\displaystyle \\max\\{\\,\\mathbf {c} ^{\\mathrm {T} }\\mathbf {x} \\mid \\mathbf {x} \\in \\mathbb {R} ^{n}\\land A\\mathbf {x} \\leq \\mathbf {b} \\land \\mathbf {x} \\geq 0\\,\\}}.\n",
    "\\end{align} \n",
    "\n",
    "In operation research, objective functions are *maximized* or *minimized*. For example, maximizing revenue or minimizing cost.\n",
    "\n",
    "Constraints typically involve inequalities:\n",
    "* $\\le$ constraints are typically considered for\n",
    "**capacity/supply** constraints that can't exceed some threshold.\n",
    "* $\\ge$ constraints are typically used to model **demand**\n",
    "requirements where we want to ensure that\n",
    "at least certain level is satisfied.\n",
    "* $=$ constraints are used when we want to\n",
    "match exactly certain activities with a given\n",
    "requirement. \n",
    "\n",
    "A solution can be feasible or infeasible. A feasible solution does not violate any of the constraints, while an infeasible solution violates **at least one** of the constraints. In example, for the factury example, $\\mathbf{x}=(5,10)$ is feasible, while $\\mathbf{x}=(10,20)$ is not.\n"
   ]
  },
  {
   "cell_type": "markdown",
   "metadata": {
    "id": "EhzLizrgcZEH"
   },
   "source": [
    "## Graphical Solution of Linear Programming Models"
   ]
  },
  {
   "cell_type": "markdown",
   "metadata": {
    "id": "N4BZQtkwneMW"
   },
   "source": [
    "Graphical solution is limited to LP models containing only two decision variables.\n",
    "Graphical **methods** provide an illustration of how a solution for a linear programming problem is obtained.\n",
    "\n",
    "Panel a) of the figure below shows the region of the wood constraint $1x_1+2x_2 <= 40$ using the fact that the decisions variables are non-negative. This is the feasible area that contains the possible solutions for the decisions variables. Panel b) shows the region of the labor constraint $4x_1+3x_2 <= 120$, again, using the fact that the decisions variables are non-negative. \n",
    "\n",
    "The goal is to maximize the objective $40x_1+50x_2$. In panel c) we show multiple lines for the various values that the objective *can* take.\n",
    "\n",
    "The two contraints must meet at the same time, and so on panel d) we intersect both contraints and the resulting common area is the new feasible area that is considered in this problem. Panel e) shows multiplte objective values with respect to the new feasible region. In linear programming the\n",
    "feasible region is called a **polyhedron**. Panel f) is the outcome of the graphical method by which we identify the optimal solution $(x_1,x_2)=(24,8)$ to the problem. At this point the objective maximized with $z=\\$1360$ and satisfy all the contraints of the question.\n",
    "\n",
    "Hence, the optimal solution point is the last point the objective function touches as it leaves the feasible solution area."
   ]
  },
  {
   "cell_type": "code",
   "execution_count": 226,
   "metadata": {
    "colab": {
     "base_uri": "https://localhost:8080/"
    },
    "id": "tni4E0Z3AO6N",
    "outputId": "e8e64209-59f7-4d73-bb4f-6eac7bf0cb7f"
   },
   "outputs": [
    {
     "data": {
      "image/png": "[encoded data removed]",
      "text/plain": [
       "<Figure size 1152x576 with 6 Axes>"
      ]
     },
     "metadata": {
      "filenames": {
       "image/png": "/Users/naftali/ORinPython/_build/jupyter_execute/intro_or_411_0.png"
      },
      "needs_background": "light"
     },
     "output_type": "display_data"
    }
   ],
   "source": [
    "import numpy as np\n",
    "%matplotlib inline\n",
    "import matplotlib.pyplot as plt\n",
    "from matplotlib.patches import Polygon\n",
    "\n",
    "plt.figure(figsize=(16,8))\n",
    "#-------------------\n",
    "plt.subplot(2,3,1)\n",
    "plt.plot([40,0],[0,20],'-b')\n",
    "plt.text(35,5, '$1x_1+2x_2 <= 40$', color='b')\n",
    "P = np.array([\n",
    "        [0, 40, 0],\n",
    "        [0, 0, 20]\n",
    "    ])\n",
    "plt.gca().add_artist(Polygon(P.T, alpha=0.3, color=\"b\"))\n",
    "plt.grid()\n",
    "plt.axis([0, 60, 0, 60])\n",
    "plt.xlabel('$x_1$');plt.ylabel('$x_2$')\n",
    "plt.title('a) feasiblewood contraint: $1x_1+2x_2 <= 40$')\n",
    "#-------------------\n",
    "plt.subplot(2,3,2)\n",
    "plt.plot([30,0],[0,40],'-r')\n",
    "plt.text(5,35, '$4x_1+3x_2 <= 120$', color='r')\n",
    "P = np.array([\n",
    "        [0, 30, 0],\n",
    "        [0, 0, 40]\n",
    "    ])\n",
    "plt.gca().add_artist(Polygon(P.T, alpha=0.3, color=\"r\"))\n",
    "plt.grid()\n",
    "plt.axis([0, 60, 0, 60])\n",
    "plt.xlabel('$x_1$');plt.ylabel('$x_2$')\n",
    "plt.title('b) feasible labor contraint: $4x_1+3x_2 <= 120$')\n",
    "#-------------------\n",
    "plt.subplot(2,3,3)\n",
    "plt.plot([800/40,0],[0,800/50],'--g')\n",
    "plt.text(20,5, '$40x_1+50x_2=800$', color='g')\n",
    "\n",
    "plt.plot([2000/40,0],[0,2000/50],'--k')\n",
    "plt.text(40,15, '$40x_1+50x_2=2000$', color='k')\n",
    "plt.grid()\n",
    "plt.axis([0, 60, 0, 60])\n",
    "plt.xlabel('$x_1$');plt.ylabel('$x_2$')\n",
    "plt.title('c) multiple objective $40x_1+50x_2$ lines')\n",
    "#-------------------\n",
    "plt.subplot(2,3,4)\n",
    "#plt.plot([40,0],[0,20],'-b')\n",
    "#plt.text(35,5, '$1x_1+2x_2 <= 40$', color='b')\n",
    "P = np.array([\n",
    "        [0, 40, 0],\n",
    "        [0, 0, 20]\n",
    "    ])\n",
    "plt.gca().add_artist(Polygon(P.T, alpha=0.3, color=\"b\"))\n",
    "P = np.array([\n",
    "        [0, 30, 0],\n",
    "        [0, 0, 40]\n",
    "    ])\n",
    "plt.gca().add_artist(Polygon(P.T, alpha=0.3, color=\"r\"))\n",
    "plt.grid()\n",
    "plt.axis([0, 60, 0, 60])\n",
    "plt.xlabel('$x_1$');plt.ylabel('$x_2$')\n",
    "plt.title('d) intersecting the two feasible constraint regions')\n",
    "#-------------------\n",
    "plt.subplot(2,3,5)\n",
    "#plt.plot([40,0],[0,20],'-b')\n",
    "#plt.text(35,5, '$1x_1+2x_2 <= 40$', color='b')\n",
    "P = np.array([\n",
    "        [0, 30, 24,0],\n",
    "        [0, 0, 8 ,20]\n",
    "    ])\n",
    "plt.gca().add_artist(Polygon(P.T, alpha=0.3, color=\"b\"))\n",
    "P = np.array([\n",
    "        [0, 30, 24,0],\n",
    "        [0, 0, 8 ,20]\n",
    "    ])\n",
    "plt.gca().add_artist(Polygon(P.T, alpha=0.3, color=\"r\"))\n",
    "plt.plot([600/40,0],[0,600/50],'--k')\n",
    "plt.plot([1360/40,0],[0,1360/50],'--k')\n",
    "plt.plot([2000/40,0],[0,2000/50],'--k')\n",
    "plt.grid()\n",
    "plt.axis([0, 60, 0, 60])\n",
    "plt.xlabel('$x_1$');plt.ylabel('$x_2$')\n",
    "plt.title('e) the feasible area and multiple objective lines')\n",
    "\n",
    "#-------------------\n",
    "plt.subplot(2,3,6)\n",
    "#plt.plot([40,0],[0,20],'-b')\n",
    "#plt.text(35,5, '$1x_1+2x_2 <= 40$', color='b')\n",
    "P = np.array([\n",
    "        [0, 30, 24,0],\n",
    "        [0, 0, 8 ,20]\n",
    "    ])\n",
    "plt.gca().add_artist(Polygon(P.T, alpha=0.3, color=\"b\"))\n",
    "P = np.array([\n",
    "        [0, 30, 24,0],\n",
    "        [0, 0, 8 ,20]\n",
    "    ])\n",
    "plt.gca().add_artist(Polygon(P.T, alpha=0.3, color=\"r\"))\n",
    "plt.plot([1360/40,0],[0,1360/50],'--k')\n",
    "plt.text(25,15, '$z=40x_1+50x_2=1360$', color='k')\n",
    "plt.scatter(24,8,s=50,c='k')\n",
    "plt.grid()\n",
    "plt.axis([0, 60, 0, 60])\n",
    "plt.xlabel('$x_1$');plt.ylabel('$x_2$')\n",
    "plt.title('f) the feasible area and optimal solution')\n",
    "\n",
    "plt.tight_layout()\n",
    "plt.show()"
   ]
  },
  {
   "cell_type": "markdown",
   "metadata": {
    "id": "yXhslxThpr83"
   },
   "source": [
    "The **standard form** of LP requires that all constraints be in the form of equations (equalities).\n",
    "For that a **slack** variable is added to a $\\le$ constraint (weak inequality) to convert it to an equation ($=$).\n",
    "A slack variable typically represents an *unused* resource.\n",
    "A slack variable contributes nothing to the objective function value.\n",
    "\n",
    "In example, the standard form of the above factory LP problem is:\n",
    "\n",
    "\\begin{align}\n",
    "&\\text{max}\\\\\n",
    "&\\qquad z=40𝑥_1 + 50𝑥_2+0s_1+0s_2\\\\\n",
    "&\\text{s.t.}\\\\\n",
    "&\\qquad 1x_1 + 2𝑥_2+s_1 = 40\\\\\n",
    "&\\qquad 4𝑥_1 + 3𝑥_2+s_2 = 50\\\\\n",
    "&\\qquad x_1, x_2, s_1, s_2 \\ge 0\\\\\n",
    "\\end{align} \n",
    "\n",
    "where $s_1$ and $s_2$ are the slack variables."
   ]
  },
  {
   "cell_type": "markdown",
   "metadata": {
    "id": "5sve4LLa0NLN"
   },
   "source": [
    "**Minimization LP** problems work similarly with contraints equations bearing the opposite inequlity sign. In example,\n",
    "\n",
    "\\begin{align}\n",
    "&\\text{min}\\\\\n",
    "&\\qquad z=6𝑥_1 + 3𝑥_2\\\\\n",
    "&\\text{s.t.}\\\\\n",
    "&\\qquad 2x_1 + 4𝑥_2 \\ge 18\\\\\n",
    "&\\qquad 4𝑥_1 + 3𝑥_2 \\ge 24\\\\\n",
    "&\\qquad x_1, x_2\\ge 0\\\\\n",
    "\\end{align} \n",
    "\n",
    "The solution can be found using the graphical method resulting in $(x_1,x2)=(4.8,1.6)$ and $z=33.6$."
   ]
  },
  {
   "cell_type": "code",
   "execution_count": 227,
   "metadata": {
    "colab": {
     "base_uri": "https://localhost:8080/"
    },
    "id": "DAO8r8s51dPX",
    "outputId": "51783b44-538d-49a2-ecd1-86baa237e07c"
   },
   "outputs": [
    {
     "data": {
      "image/png": "[encoded data removed]",
      "text/plain": [
       "<Figure size 1152x216 with 2 Axes>"
      ]
     },
     "metadata": {
      "filenames": {
       "image/png": "/Users/naftali/ORinPython/_build/jupyter_execute/intro_or_414_0.png"
      },
      "needs_background": "light"
     },
     "output_type": "display_data"
    }
   ],
   "source": [
    "import numpy as np\n",
    "%matplotlib inline\n",
    "import matplotlib.pyplot as plt\n",
    "from matplotlib.patches import Polygon\n",
    "\n",
    "plt.figure(figsize=(16,3))\n",
    "#-------------------\n",
    "plt.subplot(1,2,1)\n",
    "P = np.array([\n",
    "        [8, 12, 12, 0,  0, 4.8],\n",
    "        [0,  0, 12, 12, 8, 1.6]\n",
    "    ])\n",
    "plt.gca().add_artist(Polygon(P.T, alpha=0.3, color=\"r\"))\n",
    "plt.grid()\n",
    "plt.axis([0, 12, 0, 12])\n",
    "plt.xlabel('$x_1$');plt.ylabel('$x_2$')\n",
    "plt.title('a) feasible area for the minimiztion problem')\n",
    "#-------------------\n",
    "plt.subplot(1,2,2)\n",
    "P = np.array([\n",
    "        [8, 12, 12, 0,  0, 4.8],\n",
    "        [0,  0, 12, 12, 8, 1.6]\n",
    "    ])\n",
    "plt.gca().add_artist(Polygon(P.T, alpha=0.3, color=\"r\"))\n",
    "plt.plot([33.6/6,0],[0,33.6/3],'--k')\n",
    "plt.scatter(4.8,1.6,s=50,c='k')\n",
    "plt.text(1,2, '$z=6x_1+3x_2=33.6$', color='k')\n",
    "\n",
    "plt.grid()\n",
    "plt.axis([0, 12, 0, 12])\n",
    "plt.xlabel('$x_1$');plt.ylabel('$x_2$')\n",
    "plt.title('b) feasible area for the minimiztion problem + optimal solution')\n",
    "plt.tight_layout()\n",
    "plt.show()"
   ]
  },
  {
   "cell_type": "markdown",
   "metadata": {
    "id": "zscAm7L82I3j"
   },
   "source": [
    "**Surplus** variables correspond to slack variables but represent an excess above a constraint requirement level.\n",
    "As with slack, surplus variables contribute nothing to the calculated value of the objective function. For the minimization problem, adding surplus variables results in,\n",
    "\n",
    "\\begin{align}\n",
    "&\\text{min}\\\\\n",
    "&\\qquad z=6𝑥_1 + 3𝑥_2+0s_1+0s_2\\\\\n",
    "&\\text{s.t.}\\\\\n",
    "&\\qquad 2x_1 + 4𝑥_2 -s_1 = 18\\\\\n",
    "&\\qquad 4𝑥_1 + 3𝑥_2 -s1 =  24\\\\\n",
    "&\\qquad x_1, x_2, s_1, s_2\\ge 0\\\\\n",
    "\\end{align} \n"
   ]
  },
  {
   "cell_type": "markdown",
   "metadata": {
    "id": "yrAs46_6Hh70"
   },
   "source": [
    "There are **irregular** types of LP problems for which the general rules do not apply. Special types of problems include those with:\n",
    "* **Multiple optimal solutions**, i.e., where the objective function is parallel to a constraint line.\n",
    "* **Infeasible solutions**, i.e., where every possible solution violates at least one constraint.\n",
    "* **Unbounded solutions**, i.e., where the value of the objective\n",
    "function increases indefinitely.\n",
    "\n"
   ]
  },
  {
   "cell_type": "markdown",
   "metadata": {
    "id": "qNuPWNKGTrfK"
   },
   "source": [
    "# Chapter 2: Solving problems using Python"
   ]
  },
  {
   "cell_type": "code",
   "execution_count": 228,
   "metadata": {
    "colab": {
     "base_uri": "https://localhost:8080/"
    },
    "id": "NeqYk3aGTwt2",
    "outputId": "38dcc7a7-146d-41c4-9067-0419a3d3a347"
   },
   "outputs": [
    {
     "name": "stdout",
     "output_type": "stream",
     "text": [
      "Requirement already satisfied: gurobipy in /Users/naftali/opt/anaconda3/envs/qe-mini-example/lib/python3.8/site-packages (9.5.0)\r\n"
     ]
    },
    {
     "name": "stdout",
     "output_type": "stream",
     "text": [
      "Restricted license - for non-production use only - expires 2023-10-25\n"
     ]
    },
    {
     "name": "stdout",
     "output_type": "stream",
     "text": [
      "Gurobi Optimizer version 9.5.0 build v9.5.0rc5 (mac64[x86])\n"
     ]
    },
    {
     "name": "stdout",
     "output_type": "stream",
     "text": [
      "Thread count: 6 physical cores, 12 logical processors, using up to 12 threads\n"
     ]
    },
    {
     "name": "stdout",
     "output_type": "stream",
     "text": [
      "Optimize a model with 2 rows, 2 columns and 4 nonzeros\n"
     ]
    },
    {
     "name": "stdout",
     "output_type": "stream",
     "text": [
      "Model fingerprint: 0x3a526911\n"
     ]
    },
    {
     "name": "stdout",
     "output_type": "stream",
     "text": [
      "Coefficient statistics:\n"
     ]
    },
    {
     "name": "stdout",
     "output_type": "stream",
     "text": [
      "  Matrix range     [1e+00, 4e+00]\n"
     ]
    },
    {
     "name": "stdout",
     "output_type": "stream",
     "text": [
      "  Objective range  [4e+01, 5e+01]\n"
     ]
    },
    {
     "name": "stdout",
     "output_type": "stream",
     "text": [
      "  Bounds range     [0e+00, 0e+00]\n"
     ]
    },
    {
     "name": "stdout",
     "output_type": "stream",
     "text": [
      "  RHS range        [4e+01, 1e+02]\n"
     ]
    },
    {
     "name": "stdout",
     "output_type": "stream",
     "text": [
      "Presolve time: 0.01s\n"
     ]
    },
    {
     "name": "stdout",
     "output_type": "stream",
     "text": [
      "Presolved: 2 rows, 2 columns, 4 nonzeros\n"
     ]
    },
    {
     "name": "stdout",
     "output_type": "stream",
     "text": [
      "\n"
     ]
    },
    {
     "name": "stdout",
     "output_type": "stream",
     "text": [
      "Iteration    Objective       Primal Inf.    Dual Inf.      Time\n"
     ]
    },
    {
     "name": "stdout",
     "output_type": "stream",
     "text": [
      "       0    9.0000000e+31   3.250000e+30   9.000000e+01      0s\n"
     ]
    },
    {
     "name": "stdout",
     "output_type": "stream",
     "text": [
      "       2    1.3600000e+03   0.000000e+00   0.000000e+00      0s\n"
     ]
    },
    {
     "name": "stdout",
     "output_type": "stream",
     "text": [
      "\n"
     ]
    },
    {
     "name": "stdout",
     "output_type": "stream",
     "text": [
      "Solved in 2 iterations and 0.01 seconds (0.00 work units)\n"
     ]
    },
    {
     "name": "stdout",
     "output_type": "stream",
     "text": [
      "Optimal objective  1.360000000e+03\n"
     ]
    },
    {
     "name": "stdout",
     "output_type": "stream",
     "text": [
      "chairs 24.0\n",
      "tables 8.0\n",
      "optimal total revenue: 1360.0\n"
     ]
    }
   ],
   "source": [
    "!pip install gurobipy\n",
    "\n",
    "# Import gurobi library\n",
    "from gurobipy import * # This command imports the Gurobi functions and classes.\n",
    "\n",
    "# Create new model\n",
    "m = Model('Factory') # The Model() constructor creates a model object m. The name of this new model is 'Factory'.\n",
    "                     # This new model m initially contains no decision variables, constraints, or objective function.\n",
    "\n",
    "# Create decision variables\n",
    "# This method adds a decision variable to the model object m, one by one; i.e. x1 and then x2. \n",
    "# The argument of the method gives the name of added decision variable. \n",
    "# The default values are applied here; i.e. the decision variables are of type continuous and non-negative, with no upper bound.\n",
    "x1 = m.addVar(lb=0, vtype = GRB.CONTINUOUS, name='chairs') \n",
    "x2 = m.addVar(lb=0, vtype = GRB.CONTINUOUS, name='tables')\n",
    "\n",
    "#Define objective function\n",
    "#This method adds the objective function to the model object m. The first\n",
    "#argument is a linear expression (LinExpr) and the second argument defines\n",
    "#the sense of the optimization.\n",
    "m.setObjective(40*x1+50*x2, GRB.MAXIMIZE)\n",
    "\n",
    "#Add constraints\n",
    "#This method adds a constraint to the model object m and considers a linear of coefficient-variables elements\n",
    "m.addConstr(1*x1+2*x2<=40, name='wood')\n",
    "m.addConstr(4*x1+3*x2<=120, name= 'labor')\n",
    "\n",
    "#Run optimization engine\n",
    "#This method runs the optimization engine to solve the LP problem in the model object m\n",
    "m.optimize()\n",
    "\n",
    "#display optimal production plan\n",
    "for v in m.getVars():\n",
    "  print(v.varName, v.x)\n",
    "print('optimal total revenue:', m.objVal)"
   ]
  },
  {
   "cell_type": "markdown",
   "metadata": {
    "id": "eJv_YDFVWoz0"
   },
   "source": [
    "**What if our LP problem has hundreds of thousands varibales and constraints?** \n",
    "\n",
    "The Gurobi python code just presented is too manual and would take too long too build a large scale LP problem. \n",
    "We should use appropriate data structures and Gurobi python functions and objects to abstract the problem and have the Gurobi python code build the LP problem of any size."
   ]
  },
  {
   "cell_type": "code",
   "execution_count": 229,
   "metadata": {
    "colab": {
     "base_uri": "https://localhost:8080/"
    },
    "id": "7A_oUv4b7m0s",
    "outputId": "66303c1f-7a29-4093-de2d-1b900869a0de"
   },
   "outputs": [
    {
     "name": "stdout",
     "output_type": "stream",
     "text": [
      "[0, 1, 4, 9, 16]\n",
      "[9, 16]\n",
      "[0, 0, 0, 0, 0, 1, 2, 3, 0, 2, 4, 6]\n",
      "30\n"
     ]
    }
   ],
   "source": [
    "#Python list comprehension\n",
    "#List comprehension is compact way to create lists\n",
    "sqrd = [i*i for i in range(5)]\n",
    "print(sqrd) \n",
    "\n",
    "#Can be used to create subsequences that satisfy certain conditions (ex: filtering a list)\n",
    "bigsqrd = [i*i for i in range(5) if i*i >= 5]\n",
    "print(bigsqrd) \n",
    "\n",
    "#Can be used with multiple for loops (ex: all combinations)\n",
    "prod = [i*j for i in range(3) for j in range(4)]\n",
    "print(prod) \n",
    "\n",
    "#Generator expression is similar, but no brackets (ex: argument to aggregate sum)\n",
    "sumsqrd = sum(i*i for i in range(5))\n",
    "print(sumsqrd)"
   ]
  },
  {
   "cell_type": "code",
   "execution_count": 230,
   "metadata": {
    "colab": {
     "base_uri": "https://localhost:8080/"
    },
    "id": "J_iS6Lao2uyT",
    "outputId": "4630ce7a-73d4-435f-81ee-de1be29cf8cd"
   },
   "outputs": [
    {
     "name": "stdout",
     "output_type": "stream",
     "text": [
      "['wood', 'labor'] {'wood': 40, 'labor': 120}\n",
      "['chair', 'table'] {'chair': 40, 'table': 50}\n",
      "{('wood', 'chair'): 1, ('wood', 'table'): 2, ('labor', 'chair'): 4, ('labor', 'table'): 3}\n"
     ]
    }
   ],
   "source": [
    "from gurobipy import * \n",
    "\n",
    "#resource data\n",
    "#The multidict function returns a list which maps each resource (key) to its capacity value.\n",
    "resources, capacity = multidict({ \n",
    "    'wood':  40,\n",
    "    'labor': 120 })\n",
    "print(resources, capacity)\n",
    "\n",
    "#products data\n",
    "#This multidict function returns a list which maps each product (key) to its price value.\n",
    "products, price = multidict({\n",
    "    'chair': 40,\n",
    "    'table': 50 })\n",
    "print(products, price)\n",
    "\n",
    "#bill of materials: resources required by each product\n",
    "#This dictionary has a 2-tuple as a key, mapping the resource required by a product with its quantity per.\n",
    "bom={\n",
    "('wood','chair'):1,\n",
    "('wood','table'):2,\n",
    "('labor','chair'):4,\n",
    "('labor','table'):3\n",
    "}\n",
    "print(bom)\n",
    "\n",
    "m = Model('Factory')\n",
    "\n",
    "#This method adds decision variables to the model object m\n",
    "make = m.addVars(products, name='make')\n",
    "\n",
    "#This method adds constraints to the model object m\n",
    "res = m.addConstrs(((sum(bom[r,p]*make[p] for p in products) <= capacity[r]) for r in resources),name='R')\n",
    "\n",
    "#This method adds the objective function to the model object m.\n",
    "#The first argument is a linear expression which is generated by the 'prod' method. \n",
    "#The 'prod' method is the product of the object (revenue) with the object (make) \n",
    "#for each product p in the set (products). The second argument defines the sense of the optimization.\n",
    "m.setObjective(make.prod(price), GRB.MAXIMIZE)\n",
    "\n",
    "#save model for inspection\n",
    "m.write('factory.lp')"
   ]
  },
  {
   "cell_type": "code",
   "execution_count": 231,
   "metadata": {
    "colab": {
     "base_uri": "https://localhost:8080/"
    },
    "id": "WPCNb9Kw8m_Y",
    "outputId": "6f6dc8ca-cf62-47a7-a61f-23ff8dac6ce9"
   },
   "outputs": [
    {
     "name": "stdout",
     "output_type": "stream",
     "text": [
      "\\ Model Factory\r\n",
      "\\ LP format - for model browsing. Use MPS format to capture full model detail.\r\n",
      "Maximize\r\n",
      "  40 make[chair] + 50 make[table]\r\n",
      "Subject To\r\n",
      " R[wood]: make[chair] + 2 make[table] <= 40\r\n",
      " R[labor]: 4 make[chair] + 3 make[table] <= 120\r\n",
      "Bounds\r\n",
      "End\r\n"
     ]
    }
   ],
   "source": [
    "cat factory.lp"
   ]
  },
  {
   "cell_type": "code",
   "execution_count": 232,
   "metadata": {
    "colab": {
     "base_uri": "https://localhost:8080/"
    },
    "id": "vCtwr9buDj3a",
    "outputId": "def49252-cf02-4605-e6ea-ef2b39ad2300"
   },
   "outputs": [
    {
     "name": "stdout",
     "output_type": "stream",
     "text": [
      "Gurobi Optimizer version 9.5.0 build v9.5.0rc5 (mac64[x86])\n"
     ]
    },
    {
     "name": "stdout",
     "output_type": "stream",
     "text": [
      "Thread count: 6 physical cores, 12 logical processors, using up to 12 threads\n"
     ]
    },
    {
     "name": "stdout",
     "output_type": "stream",
     "text": [
      "Optimize a model with 2 rows, 2 columns and 4 nonzeros\n"
     ]
    },
    {
     "name": "stdout",
     "output_type": "stream",
     "text": [
      "Model fingerprint: 0x3a526911\n"
     ]
    },
    {
     "name": "stdout",
     "output_type": "stream",
     "text": [
      "Coefficient statistics:\n"
     ]
    },
    {
     "name": "stdout",
     "output_type": "stream",
     "text": [
      "  Matrix range     [1e+00, 4e+00]\n"
     ]
    },
    {
     "name": "stdout",
     "output_type": "stream",
     "text": [
      "  Objective range  [4e+01, 5e+01]\n"
     ]
    },
    {
     "name": "stdout",
     "output_type": "stream",
     "text": [
      "  Bounds range     [0e+00, 0e+00]\n"
     ]
    },
    {
     "name": "stdout",
     "output_type": "stream",
     "text": [
      "  RHS range        [4e+01, 1e+02]\n"
     ]
    },
    {
     "name": "stdout",
     "output_type": "stream",
     "text": [
      "Presolve time: 0.00s\n"
     ]
    },
    {
     "name": "stdout",
     "output_type": "stream",
     "text": [
      "Presolved: 2 rows, 2 columns, 4 nonzeros\n"
     ]
    },
    {
     "name": "stdout",
     "output_type": "stream",
     "text": [
      "\n"
     ]
    },
    {
     "name": "stdout",
     "output_type": "stream",
     "text": [
      "Iteration    Objective       Primal Inf.    Dual Inf.      Time\n"
     ]
    },
    {
     "name": "stdout",
     "output_type": "stream",
     "text": [
      "       0    9.0000000e+31   3.250000e+30   9.000000e+01      0s\n"
     ]
    },
    {
     "name": "stdout",
     "output_type": "stream",
     "text": [
      "       2    1.3600000e+03   0.000000e+00   0.000000e+00      0s\n"
     ]
    },
    {
     "name": "stdout",
     "output_type": "stream",
     "text": [
      "\n"
     ]
    },
    {
     "name": "stdout",
     "output_type": "stream",
     "text": [
      "Solved in 2 iterations and 0.01 seconds (0.00 work units)\n"
     ]
    },
    {
     "name": "stdout",
     "output_type": "stream",
     "text": [
      "Optimal objective  1.360000000e+03\n"
     ]
    },
    {
     "name": "stdout",
     "output_type": "stream",
     "text": [
      "make[chair] 24.0\n",
      "make[table] 8.0\n",
      "optimal total revenue: 1360.0\n"
     ]
    }
   ],
   "source": [
    "# run optimization engine\n",
    "m.optimize()\n",
    "\n",
    "#display optimal production plan\n",
    "for v in m.getVars():\n",
    "  print(v.varName, v.x)\n",
    "print('optimal total revenue:', m.objVal)"
   ]
  },
  {
   "cell_type": "markdown",
   "metadata": {
    "id": "xunMelTRDubU"
   },
   "source": [
    "## Sensitivity analysis of LP problems"
   ]
  },
  {
   "cell_type": "markdown",
   "metadata": {
    "id": "swmMiTNydNYz"
   },
   "source": [
    "Solving LP problems provides more information than only the values of the decision variables and the value of the objective function."
   ]
  },
  {
   "cell_type": "code",
   "execution_count": 233,
   "metadata": {
    "colab": {
     "base_uri": "https://localhost:8080/"
    },
    "id": "dZlUbrhylnpt",
    "outputId": "64ae5d88-88db-44f8-a87b-57cbe7db5a89"
   },
   "outputs": [
    {
     "name": "stdout",
     "output_type": "stream",
     "text": [
      "make[chair] 24.0\n",
      "make[table] 8.0\n",
      "optimal total revenue: 1360.0\n",
      "make[chair] = 24.0 (40.0, 25.0, 66.66666666666667, 0.0)\n",
      "make[table] = 8.0 (50.0, 30.0, 80.0, 0.0)\n",
      "R[wood] : slack = 0.0 , shadow price= 16.0 , (40.0, 30.0, 80.0)\n",
      "R[labor] : slack = 0.0"
     ]
    },
    {
     "name": "stdout",
     "output_type": "stream",
     "text": [
      " , shadow price= 6.0 , (120.0, 60.0, 160.0)\n",
      "objective value = 1360.0\n"
     ]
    }
   ],
   "source": [
    "for v in m.getVars():\n",
    "  print(v.varName, v.x)\n",
    "print('optimal total revenue:', m.objVal)\n",
    "\n",
    "for var in m.getVars(): # descision variable\n",
    "    print(var.varName, '=', var.x, (var.obj,var.SAObjLow, var.SAObjUp, var.RC))\n",
    "\n",
    "for con in m.getConstrs(): # constraints\n",
    "    print(con.ConstrName, ': slack =', con.slack,', shadow price=',\n",
    "          con.pi,',', (con.RHS, con.SARHSLow, con.SARHSUp))\n",
    "    \n",
    "print(\"objective value =\", m.objVal)"
   ]
  },
  {
   "cell_type": "markdown",
   "metadata": {
    "id": "G66RMKzwdlmp"
   },
   "source": [
    "### Objective value coefficients\n",
    "* Optimally, we produce 24 chairs ($x1$ has the optimal value of 24). We sell a chair for $40 (its objective coefficient is 40). While holding the other objective coefficients fix, the values of 40 can change within the range of (25.0, 66.67) without affecting the optimal solution of(24,8,0). However, changing the objective coefficient will change the objective value!\n",
    "* Similarly, for tables, the objective coefficient is 50 but can vary (42.5, 80.0) without affecting the optimal solution point.\n",
    "* Similarily, or benches. Although here, the value is just 0."
   ]
  },
  {
   "cell_type": "markdown",
   "metadata": {
    "id": "9c8xNdvUdoDi"
   },
   "source": [
    "### Constraint quantity values\n",
    "The constraint quantity values are 40 m$^2$ and 120 hours. Modifying these values will change the feasible area. Here, we are looking for the range of values over which the quantity values can change **without changing the solution variable mix** including slack. \n",
    "* For the wood constraint, the RHS value is 40 m$^2$ and it can change within the range of (30, 80) without changing the solution variable mix.\n",
    "* For the labor constraint, the RHS value is 120 hours, and it can change within the range of (60, 160) without changing the solution variable mix."
   ]
  },
  {
   "cell_type": "markdown",
   "metadata": {
    "id": "tcBQi55bdrTF"
   },
   "source": [
    "### Shadow prices\n",
    "Associated with an LP optimal solution there are **shadow prices** (also known as: **dual values**, or **marginal values**) for the constraints.\n",
    "The **shadow price** of a constraint associated with the optimal solution represents the change in the value of the objective function per unit of increase in the RHS value of that constraint.\n",
    "\n",
    "* Suppose the wood capacity is increased from 40 m$^2$ to 41 m$^2$, then the objective function value will increase from the optimal value of 1360 to 1360+**16**. The shadow price of the wood constraint is 16.\n",
    "* Similarly, suppose the labor capacity is increased from 120 hours to 121 hours, then the objective function value will increase from the optimal value of 1360 to 1360+**6**. The shadow price of the labor constraint is 6. "
   ]
  },
  {
   "cell_type": "markdown",
   "metadata": {
    "id": "Aw6J5XM9dt5O"
   },
   "source": [
    "\n",
    "### Sensitivity of the shadow price\n",
    "The sensitivity range for a constraint quantity value is also the range over which the shadow price is valid (i.e., before a slack/surplus value is added to the mix). For example, the shadow price of 16 hours is valid over the range of (60, 160) hours for labor."
   ]
  },
  {
   "cell_type": "markdown",
   "metadata": {
    "id": "v_0ZnmvcdwJj"
   },
   "source": [
    "### Adding new variable and/or new constraint\n",
    "Is it profitable to make a third product, like benches?\n",
    "Assume that the price of a bench is $30, and a bench consumes 1.2 units of wood and 2 units of labor, then we can formulate the LP model using the previous resources constraints on wood and labor as follows:\n",
    "\n",
    "What about adding a new constraint as packaging, and varying costs for chairs and tables?"
   ]
  },
  {
   "cell_type": "code",
   "execution_count": 234,
   "metadata": {
    "id": "zktl8GcVNBi9"
   },
   "outputs": [],
   "source": [
    "# Adding new variable\n",
    "\n",
    "products, price = multidict({\n",
    "    'chair': 40,\n",
    "    'table': 50,\n",
    "    'bench' : 30})\n",
    "bom={\n",
    "('wood','chair'):1,\n",
    "('wood','table'):2,\n",
    "('wood','bench'):1.2,\n",
    "('labor','chair'):4,\n",
    "('labor','table'):3,\n",
    "('labor','bench'):2,\n",
    "}\n",
    "\n",
    "m = Model('Factory')\n",
    "\n",
    "make = m.addVars(products,name='make')\n",
    "res = m.addConstrs(((sum(bom[r,p]*make[p] for p in products) <= capacity[r]) for r in resources),name='R')\n",
    "m.setObjective(make.prod(price), GRB.MAXIMIZE)\n",
    "m.write('factory.lp')"
   ]
  },
  {
   "cell_type": "code",
   "execution_count": 235,
   "metadata": {
    "colab": {
     "base_uri": "https://localhost:8080/"
    },
    "id": "F052yz58NogL",
    "outputId": "050db31d-3e73-4573-cdf6-ccc6b180fa9e"
   },
   "outputs": [
    {
     "name": "stdout",
     "output_type": "stream",
     "text": [
      "\\ Model Factory\r\n",
      "\\ LP format - for model browsing. Use MPS format to capture full model detail.\r\n",
      "Maximize\r\n",
      "  40 make[chair] + 50 make[table] + 30 make[bench]\r\n",
      "Subject To\r\n",
      " R[wood]: make[chair] + 2 make[table] + 1.2 make[bench] <= 40\r\n",
      " R[labor]: 4 make[chair] + 3 make[table] + 2 make[bench] <= 120\r\n",
      "Bounds\r\n",
      "End\r\n"
     ]
    }
   ],
   "source": [
    "cat factory.lp"
   ]
  },
  {
   "cell_type": "code",
   "execution_count": 236,
   "metadata": {
    "colab": {
     "base_uri": "https://localhost:8080/"
    },
    "id": "2GFiM-4KOEFK",
    "outputId": "5d9fc721-570b-4e8f-a47b-2882494394c0"
   },
   "outputs": [
    {
     "name": "stdout",
     "output_type": "stream",
     "text": [
      "Gurobi Optimizer version 9.5.0 build v9.5.0rc5 (mac64[x86])\n"
     ]
    },
    {
     "name": "stdout",
     "output_type": "stream",
     "text": [
      "Thread count: 6 physical cores, 12 logical processors, using up to 12 threads\n"
     ]
    },
    {
     "name": "stdout",
     "output_type": "stream",
     "text": [
      "Optimize a model with 2 rows, 3 columns and 6 nonzeros\n"
     ]
    },
    {
     "name": "stdout",
     "output_type": "stream",
     "text": [
      "Model fingerprint: 0x3b912b2a\n"
     ]
    },
    {
     "name": "stdout",
     "output_type": "stream",
     "text": [
      "Coefficient statistics:\n"
     ]
    },
    {
     "name": "stdout",
     "output_type": "stream",
     "text": [
      "  Matrix range     [1e+00, 4e+00]\n"
     ]
    },
    {
     "name": "stdout",
     "output_type": "stream",
     "text": [
      "  Objective range  [3e+01, 5e+01]\n"
     ]
    },
    {
     "name": "stdout",
     "output_type": "stream",
     "text": [
      "  Bounds range     [0e+00, 0e+00]\n"
     ]
    },
    {
     "name": "stdout",
     "output_type": "stream",
     "text": [
      "  RHS range        [4e+01, 1e+02]\n"
     ]
    },
    {
     "name": "stdout",
     "output_type": "stream",
     "text": [
      "Presolve time: 0.00s\n"
     ]
    },
    {
     "name": "stdout",
     "output_type": "stream",
     "text": [
      "Presolved: 2 rows, 3 columns, 6 nonzeros\n"
     ]
    },
    {
     "name": "stdout",
     "output_type": "stream",
     "text": [
      "\n"
     ]
    },
    {
     "name": "stdout",
     "output_type": "stream",
     "text": [
      "Iteration    Objective       Primal Inf.    Dual Inf.      Time\n"
     ]
    },
    {
     "name": "stdout",
     "output_type": "stream",
     "text": [
      "       0    1.2000000e+32   4.350000e+30   1.200000e+02      0s\n"
     ]
    },
    {
     "name": "stdout",
     "output_type": "stream",
     "text": [
      "       2    1.3600000e+03   0.000000e+00   0.000000e+00      0s\n"
     ]
    },
    {
     "name": "stdout",
     "output_type": "stream",
     "text": [
      "\n"
     ]
    },
    {
     "name": "stdout",
     "output_type": "stream",
     "text": [
      "Solved in 2 iterations and 0.01 seconds (0.00 work units)\n"
     ]
    },
    {
     "name": "stdout",
     "output_type": "stream",
     "text": [
      "Optimal objective  1.360000000e+03\n"
     ]
    },
    {
     "name": "stdout",
     "output_type": "stream",
     "text": [
      "make[chair] 24.0\n",
      "make[table] 8.0\n",
      "make[bench] 0.0\n",
      "optimal total revenue: 1360.0\n",
      "make[chair] = 24.0 (40.0, 25.00000000000002, 66.66666666666667, 0.0)\n",
      "make[table] = 8.0 (50.0, 47.85714285714286, 80.0, 0.0)\n",
      "make[bench] = 0.0 (30.0, -inf, 31.2, -1.1999999999999993)\n",
      "R[wood] : slack = 0.0 , shadow price= 16.0 , (40.0, 30.0, 80.0)\n",
      "R[labor] : slack = 0.0 , shadow price= 6.0 , (120.0, 60.0, 160.0)\n",
      "objective value = 1360.0\n"
     ]
    }
   ],
   "source": [
    "m.optimize()\n",
    "\n",
    "#display optimal production plan\n",
    "for v in m.getVars():\n",
    "  print(v.varName, v.x)\n",
    "print('optimal total revenue:', m.objVal)\n",
    "\n",
    "for var in m.getVars(): # descision variable\n",
    "    print(var.varName, '=', var.x, (var.obj,var.SAObjLow, var.SAObjUp, var.RC))\n",
    "\n",
    "for con in m.getConstrs(): # constraints\n",
    "    print(con.ConstrName, ': slack =', con.slack,', shadow price=',\n",
    "          con.pi,',', (con.RHS, con.SARHSLow, con.SARHSUp))\n",
    "    \n",
    "print(\"objective value =\", m.objVal)"
   ]
  },
  {
   "cell_type": "code",
   "execution_count": 237,
   "metadata": {
    "id": "AKLdro4YwMur"
   },
   "outputs": [],
   "source": [
    "# Adding new constraint\n",
    "\n",
    "resources, capacity = multidict({ \n",
    "    'wood':  40,\n",
    "    'labor': 120,\n",
    "    'packaging': 5 })\n",
    "\n",
    "\n",
    "products, price = multidict({\n",
    "    'chair': 40,\n",
    "    'table': 50})\n",
    "bom={\n",
    "('wood','chair'):1,\n",
    "('wood','table'):2,\n",
    "('labor','chair'):4,\n",
    "('labor','table'):3,\n",
    "('packaging','chair'):0.2,\n",
    "('packaging','table'):0.1,\n",
    "}\n",
    "\n",
    "m = Model('Factory')\n",
    "\n",
    "make = m.addVars(products,name='make')\n",
    "res = m.addConstrs(((sum(bom[r,p]*make[p] for p in products) <= capacity[r]) for r in resources),name='R')\n",
    "m.setObjective(make.prod(price), GRB.MAXIMIZE)\n",
    "m.write('factory.lp')"
   ]
  },
  {
   "cell_type": "code",
   "execution_count": 238,
   "metadata": {
    "colab": {
     "base_uri": "https://localhost:8080/"
    },
    "id": "NpK4FmwCw0va",
    "outputId": "95afd9bf-136d-49ab-a811-b9216212b6c9"
   },
   "outputs": [
    {
     "name": "stdout",
     "output_type": "stream",
     "text": [
      "\\ Model Factory\r\n",
      "\\ LP format - for model browsing. Use MPS format to capture full model detail.\r\n",
      "Maximize\r\n",
      "  40 make[chair] + 50 make[table]\r\n",
      "Subject To\r\n",
      " R[wood]: make[chair] + 2 make[table] <= 40\r\n",
      " R[labor]: 4 make[chair] + 3 make[table] <= 120\r\n",
      " R[packaging]: 0.2 make[chair] + 0.1 make[table] <= 5\r\n",
      "Bounds\r\n",
      "End\r\n"
     ]
    }
   ],
   "source": [
    "cat factory.lp"
   ]
  },
  {
   "cell_type": "code",
   "execution_count": 239,
   "metadata": {
    "colab": {
     "base_uri": "https://localhost:8080/"
    },
    "id": "TxlX2rkCw3R-",
    "outputId": "11934b55-015d-42b7-da1e-75af52e6aa6e"
   },
   "outputs": [
    {
     "name": "stdout",
     "output_type": "stream",
     "text": [
      "Gurobi Optimizer version 9.5.0 build v9.5.0rc5 (mac64[x86])\n"
     ]
    },
    {
     "name": "stdout",
     "output_type": "stream",
     "text": [
      "Thread count: 6 physical cores, 12 logical processors, using up to 12 threads\n"
     ]
    },
    {
     "name": "stdout",
     "output_type": "stream",
     "text": [
      "Optimize a model with 3 rows, 2 columns and 6 nonzeros\n"
     ]
    },
    {
     "name": "stdout",
     "output_type": "stream",
     "text": [
      "Model fingerprint: 0x0fe37c52\n"
     ]
    },
    {
     "name": "stdout",
     "output_type": "stream",
     "text": [
      "Coefficient statistics:\n"
     ]
    },
    {
     "name": "stdout",
     "output_type": "stream",
     "text": [
      "  Matrix range     [1e-01, 4e+00]\n"
     ]
    },
    {
     "name": "stdout",
     "output_type": "stream",
     "text": [
      "  Objective range  [4e+01, 5e+01]\n"
     ]
    },
    {
     "name": "stdout",
     "output_type": "stream",
     "text": [
      "  Bounds range     [0e+00, 0e+00]\n"
     ]
    },
    {
     "name": "stdout",
     "output_type": "stream",
     "text": [
      "  RHS range        [5e+00, 1e+02]\n"
     ]
    },
    {
     "name": "stdout",
     "output_type": "stream",
     "text": [
      "Presolve time: 0.00s\n"
     ]
    },
    {
     "name": "stdout",
     "output_type": "stream",
     "text": [
      "Presolved: 3 rows, 2 columns, 6 nonzeros\n"
     ]
    },
    {
     "name": "stdout",
     "output_type": "stream",
     "text": [
      "\n"
     ]
    },
    {
     "name": "stdout",
     "output_type": "stream",
     "text": [
      "Iteration    Objective       Primal Inf.    Dual Inf.      Time\n"
     ]
    },
    {
     "name": "stdout",
     "output_type": "stream",
     "text": [
      "       0    9.0000000e+31   4.450000e+30   9.000000e+01      0s\n"
     ]
    },
    {
     "name": "stdout",
     "output_type": "stream",
     "text": [
      "       3    1.3000000e+03   0.000000e+00   0.000000e+00      0s\n"
     ]
    },
    {
     "name": "stdout",
     "output_type": "stream",
     "text": [
      "\n"
     ]
    },
    {
     "name": "stdout",
     "output_type": "stream",
     "text": [
      "Solved in 3 iterations and 0.01 seconds (0.00 work units)\n"
     ]
    },
    {
     "name": "stdout",
     "output_type": "stream",
     "text": [
      "Optimal objective  1.300000000e+03\n"
     ]
    },
    {
     "name": "stdout",
     "output_type": "stream",
     "text": [
      "make[chair] 20.0\n",
      "make[table] 10.0\n",
      "optimal total revenue: 1300.0\n",
      "make[chair] = 20.0 (40.0, 25.0, 100.0, 0.0)\n",
      "make[table] = 10.0 (50.0, 20.0, 80.0, 0.0)\n",
      "R[wood] : slack = 0.0 , shadow price= 20.0 , (40.0, 25.0, 55.0)\n",
      "R[labor] : slack = 10.0 , shadow price= 0.0 , (120.0, 110.0, inf)\n",
      "R[packaging] : slack = 0.0 , shadow price= 100.0 , (5.0, 2.0, 5.6)\n",
      "objective value = 1300.0\n"
     ]
    }
   ],
   "source": [
    "m.optimize()\n",
    "\n",
    "#display optimal production plan\n",
    "for v in m.getVars():\n",
    "  print(v.varName, v.x)\n",
    "print('optimal total revenue:', m.objVal)\n",
    "\n",
    "for var in m.getVars(): # descision variable\n",
    "    print(var.varName, '=', var.x, (var.obj,var.SAObjLow, var.SAObjUp, var.RC))\n",
    "\n",
    "for con in m.getConstrs(): # constraints\n",
    "    print(con.ConstrName, ': slack =', con.slack,', shadow price=',\n",
    "          con.pi,',', (con.RHS, con.SARHSLow, con.SARHSUp))\n",
    "    \n",
    "print(\"objective value =\", m.objVal)"
   ]
  },
  {
   "cell_type": "markdown",
   "metadata": {
    "id": "z1SarGHyBxEq"
   },
   "source": [
    "## Problem example: C2Q1\n",
    "Solve the following LP problem:\n",
    "\n",
    "\\begin{align}\n",
    "&\\text{max}\\\\\n",
    "&\\qquad z=10x_1+6x_2\\\\\n",
    "&\\text{s.t.}\\\\\n",
    "&\\qquad 3x_1+8x_2\\le 20\\\\\n",
    "&\\qquad 45x_1+30x_2\\le 180\\\\\n",
    "&\\qquad x_1, x_2\\ge 0\\\\\n",
    "\\end{align} \n"
   ]
  },
  {
   "cell_type": "code",
   "execution_count": 240,
   "metadata": {
    "colab": {
     "base_uri": "https://localhost:8080/"
    },
    "id": "x5t5HshiBxEq",
    "outputId": "2ab40bcc-5239-495b-a88a-b9aa38cc51b5"
   },
   "outputs": [
    {
     "name": "stdout",
     "output_type": "stream",
     "text": [
      "(2,) (2, 2) (2,)\n",
      "Gurobi Optimizer version 9.5.0 build v9.5.0rc5 (mac64[x86])\n"
     ]
    },
    {
     "name": "stdout",
     "output_type": "stream",
     "text": [
      "Thread count: 6 physical cores, 12 logical processors, using up to 12 threads\n"
     ]
    },
    {
     "name": "stdout",
     "output_type": "stream",
     "text": [
      "Optimize a model with 2 rows, 2 columns and 4 nonzeros\n"
     ]
    },
    {
     "name": "stdout",
     "output_type": "stream",
     "text": [
      "Model fingerprint: 0xbd442586\n"
     ]
    },
    {
     "name": "stdout",
     "output_type": "stream",
     "text": [
      "Coefficient statistics:\n"
     ]
    },
    {
     "name": "stdout",
     "output_type": "stream",
     "text": [
      "  Matrix range     [3e+00, 4e+01]\n"
     ]
    },
    {
     "name": "stdout",
     "output_type": "stream",
     "text": [
      "  Objective range  [6e+00, 1e+01]\n"
     ]
    },
    {
     "name": "stdout",
     "output_type": "stream",
     "text": [
      "  Bounds range     [0e+00, 0e+00]\n"
     ]
    },
    {
     "name": "stdout",
     "output_type": "stream",
     "text": [
      "  RHS range        [2e+01, 2e+02]\n"
     ]
    },
    {
     "name": "stdout",
     "output_type": "stream",
     "text": [
      "Presolve time: 0.00s\n"
     ]
    },
    {
     "name": "stdout",
     "output_type": "stream",
     "text": [
      "Presolved: 2 rows, 2 columns, 4 nonzeros\n"
     ]
    },
    {
     "name": "stdout",
     "output_type": "stream",
     "text": [
      "\n"
     ]
    },
    {
     "name": "stdout",
     "output_type": "stream",
     "text": [
      "Iteration    Objective       Primal Inf.    Dual Inf.      Time\n"
     ]
    },
    {
     "name": "stdout",
     "output_type": "stream",
     "text": [
      "       0    2.7500000e+30   2.828125e+30   2.750000e+00      0s\n"
     ]
    },
    {
     "name": "stdout",
     "output_type": "stream",
     "text": [
      "       1    4.0000000e+01   0.000000e+00   0.000000e+00      0s\n"
     ]
    },
    {
     "name": "stdout",
     "output_type": "stream",
     "text": [
      "\n"
     ]
    },
    {
     "name": "stdout",
     "output_type": "stream",
     "text": [
      "Solved in 1 iterations and 0.00 seconds (0.00 work units)\n"
     ]
    },
    {
     "name": "stdout",
     "output_type": "stream",
     "text": [
      "Optimal objective  4.000000000e+01\n"
     ]
    },
    {
     "name": "stdout",
     "output_type": "stream",
     "text": [
      "x0 = 4.0 (10.0, 9.000000000000002, inf, 0.0)\n",
      "x1 = 0.0 (6.0, -inf, 6.666666666666666, -0.6666666666666661)\n",
      "constraints[0] : slack = 8.0 , shadow price= 0.0 , (20.0, 12.0, inf)\n",
      "constraints[1] : slack = 0.0 , shadow price= 0.2222222222222222 , (180.0, 0.0, 300.0)\n",
      "objective value = 40.0\n"
     ]
    }
   ],
   "source": [
    "c = [10, 6]    \n",
    "A = [[3,   8 ],\n",
    "     [45, 30 ]]\n",
    "b = [20, 180]\n",
    "print(np.array(c).shape,np.array(A).shape,np.array(b).shape)\n",
    "decision_variables = range(len(c))     \n",
    "constraints = range(np.array(A).shape[0])\n",
    "\n",
    "m = Model(\"C2Q1\")\n",
    "\n",
    "x = []\n",
    "for i in decision_variables:\n",
    "    x.append(m.addVar(lb = 0, vtype = GRB.CONTINUOUS, name = 'x' + str(i)))\n",
    "\n",
    "m.setObjective(quicksum(c[i] * x[i] for i in decision_variables) , GRB.MAXIMIZE) \n",
    "\n",
    "m.addConstrs((quicksum(A[j][i] * x[i] for i in decision_variables) \n",
    "                           <= b[j] for j in constraints), \"constraints\")\n",
    "\n",
    "m.optimize()\n",
    "\n",
    "for var in m.getVars(): # descision variable\n",
    "    print(var.varName, '=', var.x, (var.obj,var.SAObjLow, var.SAObjUp, var.RC))\n",
    "\n",
    "for con in m.getConstrs(): # constraints\n",
    "    print(con.ConstrName, ': slack =', con.slack,', shadow price=',\n",
    "          con.pi,',', (con.RHS, con.SARHSLow, con.SARHSUp))\n",
    "    \n",
    "print(\"objective value =\", m.objVal)"
   ]
  },
  {
   "cell_type": "markdown",
   "metadata": {
    "id": "hvLQcinTBxEs"
   },
   "source": [
    "## Problem example: C2Q2\n",
    "Solve the following LP problem:\n",
    "\n",
    "\\begin{align}\n",
    "&\\text{min}\\\\\n",
    "&\\qquad z=0.5x_1+0.03x_2\\\\\n",
    "&\\text{s.t.}\\\\\n",
    "&\\qquad 8x_1+6x_2\\ge 48\\\\\n",
    "&\\qquad x_1+2x_2\\ge 12\\\\\n",
    "&\\qquad x_1, x_2\\ge 0\\\\\n",
    "\\end{align} "
   ]
  },
  {
   "cell_type": "code",
   "execution_count": 241,
   "metadata": {
    "colab": {
     "base_uri": "https://localhost:8080/"
    },
    "id": "mmXnOawxBxEs",
    "outputId": "84dd7b11-a85a-4cf8-8eae-9ec28f1ad07e"
   },
   "outputs": [
    {
     "name": "stdout",
     "output_type": "stream",
     "text": [
      "(2,) (2, 2) (2,)\n",
      "Gurobi Optimizer version 9.5.0 build v9.5.0rc5 (mac64[x86])\n"
     ]
    },
    {
     "name": "stdout",
     "output_type": "stream",
     "text": [
      "Thread count: 6 physical cores, 12 logical processors, using up to 12 threads\n"
     ]
    },
    {
     "name": "stdout",
     "output_type": "stream",
     "text": [
      "Optimize a model with 2 rows, 2 columns and 4 nonzeros\n"
     ]
    },
    {
     "name": "stdout",
     "output_type": "stream",
     "text": [
      "Model fingerprint: 0x4d3e8f82\n"
     ]
    },
    {
     "name": "stdout",
     "output_type": "stream",
     "text": [
      "Coefficient statistics:\n"
     ]
    },
    {
     "name": "stdout",
     "output_type": "stream",
     "text": [
      "  Matrix range     [1e+00, 8e+00]\n"
     ]
    },
    {
     "name": "stdout",
     "output_type": "stream",
     "text": [
      "  Objective range  [3e-02, 5e-01]\n"
     ]
    },
    {
     "name": "stdout",
     "output_type": "stream",
     "text": [
      "  Bounds range     [0e+00, 0e+00]\n"
     ]
    },
    {
     "name": "stdout",
     "output_type": "stream",
     "text": [
      "  RHS range        [1e+01, 5e+01]\n"
     ]
    },
    {
     "name": "stdout",
     "output_type": "stream",
     "text": [
      "Presolve time: 0.00s\n"
     ]
    },
    {
     "name": "stdout",
     "output_type": "stream",
     "text": [
      "Presolved: 2 rows, 2 columns, 4 nonzeros\n"
     ]
    },
    {
     "name": "stdout",
     "output_type": "stream",
     "text": [
      "\n"
     ]
    },
    {
     "name": "stdout",
     "output_type": "stream",
     "text": [
      "Iteration    Objective       Primal Inf.    Dual Inf.      Time\n"
     ]
    },
    {
     "name": "stdout",
     "output_type": "stream",
     "text": [
      "       0    0.0000000e+00   1.200000e+01   0.000000e+00      0s\n"
     ]
    },
    {
     "name": "stdout",
     "output_type": "stream",
     "text": [
      "       1    2.4000000e-01   0.000000e+00   0.000000e+00      0s\n"
     ]
    },
    {
     "name": "stdout",
     "output_type": "stream",
     "text": [
      "\n"
     ]
    },
    {
     "name": "stdout",
     "output_type": "stream",
     "text": [
      "Solved in 1 iterations and 0.01 seconds (0.00 work units)\n"
     ]
    },
    {
     "name": "stdout",
     "output_type": "stream",
     "text": [
      "Optimal objective  2.400000000e-01\n"
     ]
    },
    {
     "name": "stdout",
     "output_type": "stream",
     "text": [
      "x0 = 0.0 (0.5, 0.03999999999999998, inf, 0.46)\n",
      "x1 = 8.0 (0.03, -3.469446951953614e-18, 0.375, 0.0)\n",
      "constraints[0] : slack = 0.0 , shadow price= 0.005 , (48.0, 36.0, inf)\n",
      "constraints[1] : slack = -4.0 , shadow price= 0.0 , (12.0, -inf, 16.0)\n",
      "objective value = 0.24\n"
     ]
    }
   ],
   "source": [
    "c = [0.5, 0.03]    \n",
    "A = [[8,6 ],\n",
    "     [1,2 ]]\n",
    "b = [48,12]\n",
    "print(np.array(c).shape,np.array(A).shape,np.array(b).shape)\n",
    "decision_variables = range(len(c))     \n",
    "constraints = range(np.array(A).shape[0])\n",
    "\n",
    "m = Model(\"C2Q1\")\n",
    "\n",
    "x = []\n",
    "for i in decision_variables:\n",
    "    x.append(m.addVar(lb = 0, vtype = GRB.CONTINUOUS, name = 'x' + str(i)))\n",
    "\n",
    "m.setObjective(quicksum(c[i] * x[i] for i in decision_variables) , GRB.MINIMIZE) \n",
    "\n",
    "m.addConstrs((quicksum(A[j][i] * x[i] for i in decision_variables) \n",
    "                           >= b[j] for j in constraints), \"constraints\")\n",
    "\n",
    "m.optimize()\n",
    "\n",
    "for var in m.getVars(): # descision variable\n",
    "    print(var.varName, '=', var.x, (var.obj,var.SAObjLow, var.SAObjUp, var.RC))\n",
    "\n",
    "for con in m.getConstrs(): # constraints\n",
    "    print(con.ConstrName, ': slack =', con.slack,', shadow price=',\n",
    "          con.pi,',', (con.RHS, con.SARHSLow, con.SARHSUp))\n",
    "    \n",
    "print(\"objective value =\", m.objVal)"
   ]
  },
  {
   "cell_type": "markdown",
   "metadata": {
    "id": "s6Qp7_aXBxEt"
   },
   "source": [
    "## Problem example: C4Q8\n",
    "Solve the following LP problem:\n",
    "\n",
    "\\begin{align}\n",
    "&\\text{min}\\\\\n",
    "&\\qquad z=4x_1+3x_2+2x_3\\\\\n",
    "&\\text{s.t.}\\\\\n",
    "&\\qquad 2x_1+4x_2+x_3\\ge 16\\\\\n",
    "&\\qquad 3x_1+2x_2+x_3\\ge 12\\\\\n",
    "&\\qquad x_1, x_2, x_3\\ge 0\\\\\n",
    "\\end{align} "
   ]
  },
  {
   "cell_type": "code",
   "execution_count": 242,
   "metadata": {
    "colab": {
     "base_uri": "https://localhost:8080/"
    },
    "id": "ZoUyYFAsBxEt",
    "outputId": "c64d5898-053d-43f6-a317-4b7eefeccb40"
   },
   "outputs": [
    {
     "name": "stdout",
     "output_type": "stream",
     "text": [
      "(3,) (2, 3) (2,)\n",
      "Gurobi Optimizer version 9.5.0 build v9.5.0rc5 (mac64[x86])\n"
     ]
    },
    {
     "name": "stdout",
     "output_type": "stream",
     "text": [
      "Thread count: 6 physical cores, 12 logical processors, using up to 12 threads\n"
     ]
    },
    {
     "name": "stdout",
     "output_type": "stream",
     "text": [
      "Optimize a model with 2 rows, 3 columns and 6 nonzeros\n"
     ]
    },
    {
     "name": "stdout",
     "output_type": "stream",
     "text": [
      "Model fingerprint: 0xf87028b1\n"
     ]
    },
    {
     "name": "stdout",
     "output_type": "stream",
     "text": [
      "Coefficient statistics:\n"
     ]
    },
    {
     "name": "stdout",
     "output_type": "stream",
     "text": [
      "  Matrix range     [1e+00, 4e+00]\n"
     ]
    },
    {
     "name": "stdout",
     "output_type": "stream",
     "text": [
      "  Objective range  [2e+00, 4e+00]\n"
     ]
    },
    {
     "name": "stdout",
     "output_type": "stream",
     "text": [
      "  Bounds range     [0e+00, 0e+00]\n"
     ]
    },
    {
     "name": "stdout",
     "output_type": "stream",
     "text": [
      "  RHS range        [1e+01, 2e+01]\n"
     ]
    },
    {
     "name": "stdout",
     "output_type": "stream",
     "text": [
      "Presolve time: 0.00s\n"
     ]
    },
    {
     "name": "stdout",
     "output_type": "stream",
     "text": [
      "Presolved: 2 rows, 3 columns, 6 nonzeros\n"
     ]
    },
    {
     "name": "stdout",
     "output_type": "stream",
     "text": [
      "\n"
     ]
    },
    {
     "name": "stdout",
     "output_type": "stream",
     "text": [
      "Iteration    Objective       Primal Inf.    Dual Inf.      Time\n"
     ]
    },
    {
     "name": "stdout",
     "output_type": "stream",
     "text": [
      "       0    0.0000000e+00   7.000000e+00   0.000000e+00      0s\n"
     ]
    },
    {
     "name": "stdout",
     "output_type": "stream",
     "text": [
      "       2    1.7000000e+01   0.000000e+00   0.000000e+00      0s\n"
     ]
    },
    {
     "name": "stdout",
     "output_type": "stream",
     "text": [
      "\n"
     ]
    },
    {
     "name": "stdout",
     "output_type": "stream",
     "text": [
      "Solved in 2 iterations and 0.00 seconds (0.00 work units)\n"
     ]
    },
    {
     "name": "stdout",
     "output_type": "stream",
     "text": [
      "Optimal objective  1.700000000e+01\n"
     ]
    },
    {
     "name": "stdout",
     "output_type": "stream",
     "text": [
      "x0 = 2.0000000000000004 (4.0, 1.4999999999999996, 4.5, 0.0)\n",
      "x1 = 2.9999999999999996 (3.0, 2.6666666666666665, 8.0, 0.0)\n",
      "x2 = 0.0 (2.0, 1.375, inf, 0.625)\n",
      "constraints[0] : slack = 0.0 , shadow price= 0.12500000000000003 , (16.0, 8.0, 24.000000000000004)\n",
      "constraints[1] : slack = 0.0 , shadow price= 1.25 , (12.0, 7.999999999999999, 24.0)\n",
      "objective value = 17.0\n"
     ]
    }
   ],
   "source": [
    "c = [4,3,2]    \n",
    "A = [[2,4,1 ],\n",
    "     [3,2,1 ]]\n",
    "b = [16,12]\n",
    "print(np.array(c).shape,np.array(A).shape,np.array(b).shape)\n",
    "decision_variables = range(len(c))     \n",
    "constraints = range(np.array(A).shape[0])\n",
    "\n",
    "m = Model(\"C4Q8\")\n",
    "\n",
    "x = []\n",
    "for i in decision_variables:\n",
    "    x.append(m.addVar(lb = 0, vtype = GRB.CONTINUOUS, name = 'x' + str(i)))\n",
    "\n",
    "m.setObjective(quicksum(c[i] * x[i] for i in decision_variables) , GRB.MINIMIZE) \n",
    "\n",
    "m.addConstrs((quicksum(A[j][i] * x[i] for i in decision_variables) \n",
    "                           >= b[j] for j in constraints), \"constraints\")\n",
    "\n",
    "m.optimize()\n",
    "\n",
    "for var in m.getVars(): # descision variable\n",
    "    print(var.varName, '=', var.x, (var.obj,var.SAObjLow, var.SAObjUp, var.RC))\n",
    "\n",
    "for con in m.getConstrs(): # constraints\n",
    "    print(con.ConstrName, ': slack =', con.slack,', shadow price=',\n",
    "          con.pi,',', (con.RHS, con.SARHSLow, con.SARHSUp))\n",
    "    \n",
    "print(\"objective value =\", m.objVal)"
   ]
  },
  {
   "cell_type": "markdown",
   "metadata": {
    "id": "ZXxrH5ATBxEv"
   },
   "source": [
    "## Problem example: C4Q32\n",
    "Solve the following LP problem:\n",
    "\n",
    "\\begin{align}\n",
    "&\\text{min}\\\\\n",
    "&\\qquad z=22x_1+18x_2+35x_3+41x_4+30x_5+28x_6+25x_7+36x_8+18x_9\\\\\n",
    "&\\text{s.t.}\\\\\n",
    "&\\qquad x_1+x_2+x_3=1\\\\\n",
    "&\\qquad x_4+x_5+x_6=1\\\\\n",
    "&\\qquad x_7+x_8+x_9=1\\\\\n",
    "&\\qquad x_1+x_4+x_7=1\\\\\n",
    "&\\qquad x_2+x_5+x_8=1\\\\\n",
    "&\\qquad x_3+x_6+x_9=1\\\\\n",
    "&\\qquad x_1,x_2,x_3,x_4,x_5,x_6,x_7,x_8,x_9\\ge 0\\\\\n",
    "\\end{align} "
   ]
  },
  {
   "cell_type": "code",
   "execution_count": 243,
   "metadata": {
    "colab": {
     "base_uri": "https://localhost:8080/"
    },
    "id": "3762Gzi0BxEv",
    "outputId": "54acb3f7-b6ec-4e52-ef39-9e75ad73f9f7"
   },
   "outputs": [
    {
     "name": "stdout",
     "output_type": "stream",
     "text": [
      "(9,) (6, 9) (6,)\n",
      "Gurobi Optimizer version 9.5.0 build v9.5.0rc5 (mac64[x86])\n"
     ]
    },
    {
     "name": "stdout",
     "output_type": "stream",
     "text": [
      "Thread count: 6 physical cores, 12 logical processors, using up to 12 threads\n"
     ]
    },
    {
     "name": "stdout",
     "output_type": "stream",
     "text": [
      "Optimize a model with 6 rows, 9 columns and 18 nonzeros\n"
     ]
    },
    {
     "name": "stdout",
     "output_type": "stream",
     "text": [
      "Model fingerprint: 0xadb8a4fb\n"
     ]
    },
    {
     "name": "stdout",
     "output_type": "stream",
     "text": [
      "Coefficient statistics:\n"
     ]
    },
    {
     "name": "stdout",
     "output_type": "stream",
     "text": [
      "  Matrix range     [1e+00, 1e+00]\n"
     ]
    },
    {
     "name": "stdout",
     "output_type": "stream",
     "text": [
      "  Objective range  [2e+01, 4e+01]\n"
     ]
    },
    {
     "name": "stdout",
     "output_type": "stream",
     "text": [
      "  Bounds range     [0e+00, 0e+00]\n"
     ]
    },
    {
     "name": "stdout",
     "output_type": "stream",
     "text": [
      "  RHS range        [1e+00, 1e+00]\n"
     ]
    },
    {
     "name": "stdout",
     "output_type": "stream",
     "text": [
      "Presolve time: 0.00s\n"
     ]
    },
    {
     "name": "stdout",
     "output_type": "stream",
     "text": [
      "Presolved: 6 rows, 9 columns, 18 nonzeros\n"
     ]
    },
    {
     "name": "stdout",
     "output_type": "stream",
     "text": [
      "\n"
     ]
    },
    {
     "name": "stdout",
     "output_type": "stream",
     "text": [
      "Iteration    Objective       Primal Inf.    Dual Inf.      Time\n"
     ]
    },
    {
     "name": "stdout",
     "output_type": "stream",
     "text": [
      "       0    6.4000000e+01   2.000000e+00   0.000000e+00      0s\n"
     ]
    },
    {
     "name": "stdout",
     "output_type": "stream",
     "text": [
      "       2    7.0000000e+01   0.000000e+00   0.000000e+00      0s\n"
     ]
    },
    {
     "name": "stdout",
     "output_type": "stream",
     "text": [
      "\n"
     ]
    },
    {
     "name": "stdout",
     "output_type": "stream",
     "text": [
      "Solved in 2 iterations and 0.01 seconds (0.00 work units)\n"
     ]
    },
    {
     "name": "stdout",
     "output_type": "stream",
     "text": [
      "Optimal objective  7.000000000e+01\n"
     ]
    },
    {
     "name": "stdout",
     "output_type": "stream",
     "text": [
      "x0 = 1.0 (22.0, -inf, 23.0, 0.0)\n",
      "x1 = 0.0 (18.0, 17.0, 37.0, 0.0)\n",
      "x2 = 0.0 (35.0, 16.0, inf, 19.0)\n",
      "x3 = 0.0 (41.0, 34.0, inf, 7.0)\n",
      "x4 = 1.0 (30.0, 11.0, 31.0, 0.0)\n",
      "x5 = 0.0 (28.0, 27.0, 47.0, 0.0)\n",
      "x6 = 0.0 (25.0, 24.0, inf, 1.0)\n",
      "x7 = 0.0 (36.0, 20.0, inf, 16.0)\n",
      "x8 = 1.0 (18.0, -inf, 19.0, 0.0)\n",
      "constraints[0] : slack = 0.0 , shadow price= 18.0 , (1.0, 1.0, 1.0)\n",
      "constraints[1] : slack = 0.0 , shadow price= 30.0 , (1.0, 1.0, 1.0)\n",
      "constraints[2] : slack = 0.0 , shadow price= 20.0 , (1.0, 1.0, 1.0)\n",
      "constraints[3] : slack = 0.0 , shadow price= 4.0 , (1.0, 1.0, 1.0)\n",
      "constraints[4] : slack = 0.0 , shadow price= 0.0 , (1.0, 1.0, 1.0)\n",
      "constraints[5] : slack = 0.0 , shadow price= -2.0 , (1.0, 1.0, 1.0)\n",
      "objective value = 70.0\n"
     ]
    }
   ],
   "source": [
    "c = [22,18,35,41,30,28,25,36,18]    \n",
    "A = [[1,1,1,0,0,0,0,0,0 ],\n",
    "     [0,0,0,1,1,1,0,0,0 ],\n",
    "     [0,0,0,0,0,0,1,1,1 ],\n",
    "     [1,0,0,1,0,0,1,0,0 ],\n",
    "     [0,1,0,0,1,0,0,1,0 ],\n",
    "     [0,0,1,0,0,1,0,0,1 ]]\n",
    "b = [1,1,1,1,1,1]\n",
    "print(np.array(c).shape,np.array(A).shape,np.array(b).shape)\n",
    "decision_variables = range(len(c))     \n",
    "constraints = range(np.array(A).shape[0])\n",
    "\n",
    "m = Model(\"C4Q32\")\n",
    "\n",
    "x = []\n",
    "for i in decision_variables:\n",
    "    x.append(m.addVar(lb = 0, vtype = GRB.CONTINUOUS, name = 'x' + str(i)))\n",
    "\n",
    "m.setObjective(quicksum(c[i] * x[i] for i in decision_variables) , GRB.MINIMIZE) \n",
    "\n",
    "m.addConstrs((quicksum(A[j][i] * x[i] for i in decision_variables) \n",
    "                           == b[j] for j in constraints), \"constraints\")\n",
    "\n",
    "m.optimize()\n",
    "\n",
    "for var in m.getVars(): # descision variable\n",
    "    print(var.varName, '=', var.x, (var.obj,var.SAObjLow, var.SAObjUp, var.RC))\n",
    "\n",
    "for con in m.getConstrs(): # constraints\n",
    "    print(con.ConstrName, ': slack =', con.slack,', shadow price=',\n",
    "          con.pi,',', (con.RHS, con.SARHSLow, con.SARHSUp))\n",
    "    \n",
    "print(\"objective value =\", m.objVal)"
   ]
  },
  {
   "cell_type": "markdown",
   "metadata": {
    "id": "QaQshdzIhbR0"
   },
   "source": [
    "This would require the model to be reformulated with three new variables, $x_{10}, x_{11}, x_{12}$, representing Kelly's assignment to the press, lathe, and grinder. The model would be reformulated as,\n",
    "\n",
    "\\begin{align}\n",
    "&\\text{min}\\\\\n",
    "&\\qquad z=22x_1+18x_2+35x_3+41x_4+30x_5+28x_6+25x_7+36x_8+18x_9+20x_{10}+20x_{11}+20x_{12}\\\\\n",
    "&\\text{s.t.}\\\\\n",
    "&\\qquad x_1+x_2+x_3=1\\\\\n",
    "&\\qquad x_4+x_5+x_6=1\\\\\n",
    "&\\qquad x_7+x_8+x_9=1\\\\\n",
    "&\\qquad x_1+x_4+x_7=1\\\\\n",
    "&\\qquad x_2+x_5+x_8=1\\\\\n",
    "&\\qquad x_3+x_6+x_9=1\\\\\n",
    "&\\qquad x_1,x_2,x_3,x_4,x_5,x_6,x_7,x_8,x_9\\ge 0\n",
    "\\end{align} "
   ]
  },
  {
   "cell_type": "code",
   "execution_count": 244,
   "metadata": {
    "colab": {
     "base_uri": "https://localhost:8080/"
    },
    "id": "fAF6sL7yBxEw",
    "outputId": "8eed88de-6e09-4323-91f3-171bafa32655"
   },
   "outputs": [
    {
     "name": "stdout",
     "output_type": "stream",
     "text": [
      "(12,) (7, 12) (7,)\n",
      "Gurobi Optimizer version 9.5.0 build v9.5.0rc5 (mac64[x86])\n"
     ]
    },
    {
     "name": "stdout",
     "output_type": "stream",
     "text": [
      "Thread count: 6 physical cores, 12 logical processors, using up to 12 threads\n"
     ]
    },
    {
     "name": "stdout",
     "output_type": "stream",
     "text": [
      "Optimize a model with 7 rows, 12 columns and 24 nonzeros\n"
     ]
    },
    {
     "name": "stdout",
     "output_type": "stream",
     "text": [
      "Model fingerprint: 0x447648af\n"
     ]
    },
    {
     "name": "stdout",
     "output_type": "stream",
     "text": [
      "Coefficient statistics:\n"
     ]
    },
    {
     "name": "stdout",
     "output_type": "stream",
     "text": [
      "  Matrix range     [1e+00, 1e+00]\n"
     ]
    },
    {
     "name": "stdout",
     "output_type": "stream",
     "text": [
      "  Objective range  [2e+01, 4e+01]\n"
     ]
    },
    {
     "name": "stdout",
     "output_type": "stream",
     "text": [
      "  Bounds range     [0e+00, 0e+00]\n"
     ]
    },
    {
     "name": "stdout",
     "output_type": "stream",
     "text": [
      "  RHS range        [1e+00, 1e+00]\n"
     ]
    },
    {
     "name": "stdout",
     "output_type": "stream",
     "text": [
      "Presolve time: 0.00s\n"
     ]
    },
    {
     "name": "stdout",
     "output_type": "stream",
     "text": [
      "Presolved: 7 rows, 12 columns, 24 nonzeros\n"
     ]
    },
    {
     "name": "stdout",
     "output_type": "stream",
     "text": [
      "\n"
     ]
    },
    {
     "name": "stdout",
     "output_type": "stream",
     "text": [
      "Iteration    Objective       Primal Inf.    Dual Inf.      Time\n"
     ]
    },
    {
     "name": "stdout",
     "output_type": "stream",
     "text": [
      "       0    5.6000000e+01   0.000000e+00   0.000000e+00      0s\n"
     ]
    },
    {
     "name": "stdout",
     "output_type": "stream",
     "text": [
      "\n"
     ]
    },
    {
     "name": "stdout",
     "output_type": "stream",
     "text": [
      "Solved in 0 iterations and 0.01 seconds (0.00 work units)\n"
     ]
    },
    {
     "name": "stdout",
     "output_type": "stream",
     "text": [
      "Optimal objective  5.600000000e+01\n"
     ]
    },
    {
     "name": "stdout",
     "output_type": "stream",
     "text": [
      "x0 = 0.0 (22.0, 20.0, inf, 2.0)\n",
      "x1 = 1.0 (18.0, -inf, 20.0, 0.0)\n",
      "x2 = 0.0 (35.0, 18.0, inf, 17.0)\n",
      "x3 = 0.0 (41.0, 20.0, inf, 21.0)\n",
      "x4 = 0.0 (30.0, 18.0, inf, 12.0)\n",
      "x5 = 0.0 (28.0, 18.0, inf, 10.0)\n",
      "x6 = 0.0 (25.0, 20.0, inf, 5.0)\n",
      "x7 = 0.0 (36.0, 18.0, inf, 18.0)\n",
      "x8 = 1.0 (18.0, -inf, 20.0, 0.0)\n",
      "x9 = 1.0 (20.0, -inf, 22.0, 0.0)\n",
      "x10 = 0.0 (20.0, 18.0, inf, 2.0)\n",
      "x11 = 0.0 (20.0, 18.0, inf, 2.0)\n",
      "constraints[0] : slack = 0.0 , shadow price= 0.0 , (1.0, 1.0, inf)\n",
      "constraints[1] : slack = 1.0 , shadow price= 0.0 , (1.0, 0.0, inf)\n",
      "constraints[2] : slack = 0.0 , shadow price= 0.0 , (1.0, 1.0, inf)\n",
      "constraints[3] : slack = 0.0 , shadow price= 0.0 , (1.0, 1.0, inf)\n",
      "constraints[4] : slack = 0.0 , shadow price= 20.0 , (1.0, 0.0, 1.0)\n",
      "constraints[5] : slack = 0.0 , shadow price= 18.0 , (1.0, 0.0, 1.0)\n",
      "constraints[6] : slack = 0.0 , shadow price= 18.0 , (1.0, 0.0, 1.0)\n",
      "objective value = 56.0\n"
     ]
    }
   ],
   "source": [
    "c = [22,18,35,41,30,28,25,36,18,20,20,20]    \n",
    "A = [[1,1,1,0,0,0,0,0,0,0,0,0 ],\n",
    "     [0,0,0,1,1,1,0,0,0,0,0,0 ],\n",
    "     [0,0,0,0,0,0,1,1,1,0,0,0 ],\n",
    "     [0,0,0,0,0,0,0,0,0,1,1,1 ],\n",
    "     [1,0,0,1,0,0,1,0,0,1,0,0 ],\n",
    "     [0,1,0,0,1,0,0,1,0,0,1,0 ],\n",
    "     [0,0,1,0,0,1,0,0,1,0,0,1 ]]\n",
    "b =  [1,1,1,1,1,1,1]\n",
    "print(np.array(c).shape,np.array(A).shape,np.array(b).shape)\n",
    "decision_variables = range(len(c))     \n",
    "constraints = range(np.array(A).shape[0])\n",
    "\n",
    "m = Model(\"C4Q32\")\n",
    "\n",
    "x = []\n",
    "for i in decision_variables:\n",
    "    x.append(m.addVar(lb = 0, vtype = GRB.CONTINUOUS, name = 'x' + str(i)))\n",
    "\n",
    "m.setObjective(quicksum(c[i] * x[i] for i in decision_variables) , GRB.MINIMIZE) \n",
    "\n",
    "m.addConstrs((quicksum(A[j][i] * x[i] for i in decision_variables) \n",
    "                           <= b[j] for j in range(4)), \"constraints\")\n",
    "\n",
    "m.addConstrs((quicksum(A[j][i] * x[i] for i in decision_variables) \n",
    "                           == b[j] for j in range(4,7)), \"constraints\")\n",
    "m.optimize()\n",
    "\n",
    "for var in m.getVars(): # descision variable\n",
    "    print(var.varName, '=', var.x, (var.obj,var.SAObjLow, var.SAObjUp, var.RC))\n",
    "\n",
    "for con in m.getConstrs(): # constraints\n",
    "    print(con.ConstrName, ': slack =', con.slack,', shadow price=',\n",
    "          con.pi,',', (con.RHS, con.SARHSLow, con.SARHSUp))\n",
    "    \n",
    "print(\"objective value =\", m.objVal)"
   ]
  },
  {
   "cell_type": "markdown",
   "metadata": {
    "id": "5llhxOCEBxEw"
   },
   "source": [
    "## Problem example: C4Q33\n",
    "\n",
    "Solve the following LP problem:\n",
    "\n",
    "This is a transportation problem\n",
    "\n",
    "\\begin{align}\n",
    "&\\text{min}\\\\\n",
    "&\\qquad z=40x_1 + 65x_2 + 70x_3 + 30x_4\\\\\n",
    "&\\text{s.t.}\\\\\n",
    "&\\qquad x_1+x_2=250\\\\\n",
    "&\\qquad x_3+x_4=400\\\\\n",
    "&\\qquad x_1+x_3=300\\\\\n",
    "&\\qquad x_2+x_4=350\\\\\n",
    "&\\qquad x_1,x_2,x_3,x_4\\ge 0\\\\\n",
    "\\end{align} "
   ]
  },
  {
   "cell_type": "code",
   "execution_count": 245,
   "metadata": {
    "colab": {
     "base_uri": "https://localhost:8080/"
    },
    "id": "cJSnzIfiBxEw",
    "outputId": "9f97fefd-dbb1-4962-bf4f-e49d442c3ab7"
   },
   "outputs": [
    {
     "name": "stdout",
     "output_type": "stream",
     "text": [
      "(4,) (4, 4) (4,)\n",
      "Gurobi Optimizer version 9.5.0 build v9.5.0rc5 (mac64[x86])\n"
     ]
    },
    {
     "name": "stdout",
     "output_type": "stream",
     "text": [
      "Thread count: 6 physical cores, 12 logical processors, using up to 12 threads\n"
     ]
    },
    {
     "name": "stdout",
     "output_type": "stream",
     "text": [
      "Optimize a model with 4 rows, 4 columns and 8 nonzeros\n"
     ]
    },
    {
     "name": "stdout",
     "output_type": "stream",
     "text": [
      "Model fingerprint: 0x1da74e02\n"
     ]
    },
    {
     "name": "stdout",
     "output_type": "stream",
     "text": [
      "Coefficient statistics:\n"
     ]
    },
    {
     "name": "stdout",
     "output_type": "stream",
     "text": [
      "  Matrix range     [1e+00, 1e+00]\n"
     ]
    },
    {
     "name": "stdout",
     "output_type": "stream",
     "text": [
      "  Objective range  [3e+01, 7e+01]\n"
     ]
    },
    {
     "name": "stdout",
     "output_type": "stream",
     "text": [
      "  Bounds range     [0e+00, 0e+00]\n"
     ]
    },
    {
     "name": "stdout",
     "output_type": "stream",
     "text": [
      "  RHS range        [2e+02, 4e+02]\n"
     ]
    },
    {
     "name": "stdout",
     "output_type": "stream",
     "text": [
      "Presolve removed 4 rows and 4 columns\n"
     ]
    },
    {
     "name": "stdout",
     "output_type": "stream",
     "text": [
      "Presolve time: 0.00s\n"
     ]
    },
    {
     "name": "stdout",
     "output_type": "stream",
     "text": [
      "Presolve: All rows and columns removed\n"
     ]
    },
    {
     "name": "stdout",
     "output_type": "stream",
     "text": [
      "Iteration    Objective       Primal Inf.    Dual Inf.      Time\n"
     ]
    },
    {
     "name": "stdout",
     "output_type": "stream",
     "text": [
      "       0    2.4000000e+04   0.000000e+00   0.000000e+00      0s\n"
     ]
    },
    {
     "name": "stdout",
     "output_type": "stream",
     "text": [
      "\n"
     ]
    },
    {
     "name": "stdout",
     "output_type": "stream",
     "text": [
      "Solved in 0 iterations and 0.01 seconds (0.00 work units)\n"
     ]
    },
    {
     "name": "stdout",
     "output_type": "stream",
     "text": [
      "Optimal objective  2.400000000e+04\n"
     ]
    },
    {
     "name": "stdout",
     "output_type": "stream",
     "text": [
      "x0 = 250.0 (40.0, -inf, 105.0, 0.0)\n",
      "x1 = 0.0 (65.0, 0.0, inf, 65.0)\n",
      "x2 = 50.0 (70.0, 5.0, inf, 0.0)\n",
      "x3 = 350.0 (30.0, -inf, 95.0, 0.0)\n",
      "constraints[0] : slack = 0.0 , shadow price= -0.0 , (250.0, 250.0, 250.0)\n",
      "constraints[1] : slack = 0.0 , shadow price= 30.0 , (400.0, 400.0, 400.0)\n",
      "constraints[2] : slack = 0.0 , shadow price= 40.0 , (300.0, 300.0, 300.0)\n",
      "constraints[3] : slack = 0.0 , shadow price= 0.0 , (350.0, 350.0, 350.0)\n",
      "objective value = 24000.0\n"
     ]
    }
   ],
   "source": [
    "c = [40,65,70,30]    \n",
    "A = [[1,1,0,0 ],\n",
    "     [0,0,1,1 ],\n",
    "     [1,0,1,0 ],\n",
    "     [0,1,0,1 ]]\n",
    "b =  [250, 400, 300, 350]\n",
    "print(np.array(c).shape,np.array(A).shape,np.array(b).shape)\n",
    "decision_variables = range(len(c))     \n",
    "constraints = range(np.array(A).shape[0])\n",
    "\n",
    "m = Model(\"C4Q33\")\n",
    "\n",
    "x = []\n",
    "for i in decision_variables:\n",
    "    x.append(m.addVar(lb = 0, vtype = GRB.CONTINUOUS, name = 'x' + str(i)))\n",
    "\n",
    "m.setObjective(quicksum(c[i] * x[i] for i in decision_variables) , GRB.MINIMIZE) \n",
    "m.addConstrs((quicksum(A[j][i] * x[i] for i in decision_variables) \n",
    "                           == b[j] for j in constraints), \"constraints\")\n",
    "m.optimize()\n",
    "\n",
    "for var in m.getVars(): # descision variable\n",
    "    print(var.varName, '=', var.x, (var.obj,var.SAObjLow, var.SAObjUp, var.RC))\n",
    "\n",
    "for con in m.getConstrs(): # constraints\n",
    "    print(con.ConstrName, ': slack =', con.slack,', shadow price=',\n",
    "          con.pi,',', (con.RHS, con.SARHSLow, con.SARHSUp))\n",
    "    \n",
    "print(\"objective value =\", m.objVal)"
   ]
  },
  {
   "cell_type": "markdown",
   "metadata": {
    "id": "ikFyiHYMBxEx"
   },
   "source": [
    "# Chapter 3: Theory of LP and the Simplex method\n"
   ]
  },
  {
   "cell_type": "markdown",
   "metadata": {
    "id": "4QiExYvwLa1w"
   },
   "source": [
    "To be done later on\n",
    "\n",
    "To place here a python code that follows the Simplex algorithm"
   ]
  },
  {
   "cell_type": "code",
   "execution_count": 246,
   "metadata": {
    "colab": {
     "base_uri": "https://localhost:8080/"
    },
    "id": "Cks37AL3BxEx",
    "outputId": "2a0db393-21e1-4793-cb46-644364ceef18"
   },
   "outputs": [
    {
     "name": "stdout",
     "output_type": "stream",
     "text": [
      "(4,) (4, 4) (4,)\n",
      "Gurobi Optimizer version 9.5.0 build v9.5.0rc5 (mac64[x86])\n"
     ]
    },
    {
     "name": "stdout",
     "output_type": "stream",
     "text": [
      "Thread count: 6 physical cores, 12 logical processors, using up to 12 threads\n"
     ]
    },
    {
     "name": "stdout",
     "output_type": "stream",
     "text": [
      "Optimize a model with 4 rows, 4 columns and 8 nonzeros\n"
     ]
    },
    {
     "name": "stdout",
     "output_type": "stream",
     "text": [
      "Model fingerprint: 0x1da74e02\n"
     ]
    },
    {
     "name": "stdout",
     "output_type": "stream",
     "text": [
      "Coefficient statistics:\n"
     ]
    },
    {
     "name": "stdout",
     "output_type": "stream",
     "text": [
      "  Matrix range     [1e+00, 1e+00]\n"
     ]
    },
    {
     "name": "stdout",
     "output_type": "stream",
     "text": [
      "  Objective range  [3e+01, 7e+01]\n"
     ]
    },
    {
     "name": "stdout",
     "output_type": "stream",
     "text": [
      "  Bounds range     [0e+00, 0e+00]\n"
     ]
    },
    {
     "name": "stdout",
     "output_type": "stream",
     "text": [
      "  RHS range        [2e+02, 4e+02]\n"
     ]
    },
    {
     "name": "stdout",
     "output_type": "stream",
     "text": [
      "Presolve removed 4 rows and 4 columns\n"
     ]
    },
    {
     "name": "stdout",
     "output_type": "stream",
     "text": [
      "Presolve time: 0.00s\n"
     ]
    },
    {
     "name": "stdout",
     "output_type": "stream",
     "text": [
      "Presolve: All rows and columns removed\n"
     ]
    },
    {
     "name": "stdout",
     "output_type": "stream",
     "text": [
      "Iteration    Objective       Primal Inf.    Dual Inf.      Time\n"
     ]
    },
    {
     "name": "stdout",
     "output_type": "stream",
     "text": [
      "       0    2.4000000e+04   0.000000e+00   0.000000e+00      0s\n"
     ]
    },
    {
     "name": "stdout",
     "output_type": "stream",
     "text": [
      "\n"
     ]
    },
    {
     "name": "stdout",
     "output_type": "stream",
     "text": [
      "Solved in 0 iterations and 0.01 seconds (0.00 work units)\n"
     ]
    },
    {
     "name": "stdout",
     "output_type": "stream",
     "text": [
      "Optimal objective  2.400000000e+04\n"
     ]
    },
    {
     "name": "stdout",
     "output_type": "stream",
     "text": [
      "x0 = 250.0 (40.0, -inf, 105.0, 0.0)\n",
      "x1 = 0.0 (65.0, 0.0, inf, 65.0)\n",
      "x2 = 50.0 (70.0, 5.0, inf, 0.0)\n",
      "x3 = 350.0 (30.0, -inf, 95.0, 0.0)\n",
      "constraints[0] : slack = 0.0 , shadow price= -0.0 , (250.0, 250.0, 250.0)\n",
      "constraints[1] : slack = 0.0 , shadow price= 30.0 , (400.0, 400.0, 400.0)\n",
      "constraints[2] : slack = 0.0 , shadow price= 40.0 , (300.0, 300.0, 300.0)\n",
      "constraints[3] : slack = 0.0 , shadow price= 0.0 , (350.0, 350.0, 350.0)\n",
      "objective value = 24000.0\n"
     ]
    }
   ],
   "source": [
    "c = [40,65,70,30]    \n",
    "A = [[1,1,0,0 ],\n",
    "     [0,0,1,1 ],\n",
    "     [1,0,1,0 ],\n",
    "     [0,1,0,1 ]]\n",
    "b =  [250, 400, 300, 350]\n",
    "print(np.array(c).shape,np.array(A).shape,np.array(b).shape)\n",
    "decision_variables = range(len(c))     \n",
    "constraints = range(np.array(A).shape[0])\n",
    "\n",
    "m = Model(\"C4Q33\")\n",
    "\n",
    "x = []\n",
    "for i in decision_variables:\n",
    "    x.append(m.addVar(lb = 0, vtype = GRB.CONTINUOUS, name = 'x' + str(i)))\n",
    "\n",
    "m.setObjective(quicksum(c[i] * x[i] for i in decision_variables) , GRB.MINIMIZE) \n",
    "m.addConstrs((quicksum(A[j][i] * x[i] for i in decision_variables) \n",
    "                           == b[j] for j in constraints), \"constraints\")\n",
    "m.optimize()\n",
    "\n",
    "for var in m.getVars(): # descision variable\n",
    "    print(var.varName, '=', var.x, (var.obj,var.SAObjLow, var.SAObjUp, var.RC))\n",
    "\n",
    "for con in m.getConstrs(): # constraints\n",
    "    print(con.ConstrName, ': slack =', con.slack,', shadow price=',\n",
    "          con.pi,',', (con.RHS, con.SARHSLow, con.SARHSUp))\n",
    "    \n",
    "print(\"objective value =\", m.objVal)"
   ]
  },
  {
   "cell_type": "markdown",
   "metadata": {
    "id": "1HvOfkSyjtGf"
   },
   "source": [
    "# Chapter 4: Integer Programming\n"
   ]
  },
  {
   "cell_type": "markdown",
   "metadata": {
    "id": "NVU5DQaALX9q"
   },
   "source": [
    "There are three types of model problems:\n",
    "* Total integer model: where all the decision variables required to have integer solution values.\n",
    "* Binary integer (0-1) model: where all decision variables required to have integer values of zero or one.\n",
    "\n",
    "* Mixed integer (MI) model: where some of the decision variables (but not all) required to have integer values."
   ]
  },
  {
   "cell_type": "markdown",
   "metadata": {
    "id": "E9O3czd1BxEy"
   },
   "source": [
    "## A 0 - 1 Integer Model:\n",
    "Solve the following LP problem:\n",
    "\n",
    "\\begin{align}\n",
    "&\\text{max}\\\\\n",
    "&\\qquad z=300x_1+90x_2+400x_3+150x_4\\\\\n",
    "&\\text{s.t.}\\\\\n",
    "&\\qquad 35000x_1+10000x_2+25000x_3+90000x_4\\le120000\\\\\n",
    "&\\qquad 4x_1+2x_2+7x_3+3x_4\\le 12\\\\\n",
    "&\\qquad x_1+x_2 \\le 1\\\\\n",
    "&\\qquad x_1,x_2,x_3,x_4 = 0~\\text{or}~1\\\\\n",
    "\\end{align} "
   ]
  },
  {
   "cell_type": "code",
   "execution_count": 247,
   "metadata": {
    "colab": {
     "base_uri": "https://localhost:8080/"
    },
    "id": "lVZ5CxLFBxEy",
    "outputId": "1381073e-3cb1-4e47-d3b0-003a7936e3f9"
   },
   "outputs": [
    {
     "name": "stdout",
     "output_type": "stream",
     "text": [
      "(4,) (3, 4) (3,)\n",
      "Gurobi Optimizer version 9.5.0 build v9.5.0rc5 (mac64[x86])\n"
     ]
    },
    {
     "name": "stdout",
     "output_type": "stream",
     "text": [
      "Thread count: 6 physical cores, 12 logical processors, using up to 12 threads\n"
     ]
    },
    {
     "name": "stdout",
     "output_type": "stream",
     "text": [
      "Optimize a model with 3 rows, 4 columns and 10 nonzeros\n"
     ]
    },
    {
     "name": "stdout",
     "output_type": "stream",
     "text": [
      "Model fingerprint: 0x593445fa\n"
     ]
    },
    {
     "name": "stdout",
     "output_type": "stream",
     "text": [
      "Variable types: 0 continuous, 4 integer (4 binary)\n"
     ]
    },
    {
     "name": "stdout",
     "output_type": "stream",
     "text": [
      "Coefficient statistics:\n"
     ]
    },
    {
     "name": "stdout",
     "output_type": "stream",
     "text": [
      "  Matrix range     [1e+00, 9e+04]\n"
     ]
    },
    {
     "name": "stdout",
     "output_type": "stream",
     "text": [
      "  Objective range  [9e+01, 4e+02]\n"
     ]
    },
    {
     "name": "stdout",
     "output_type": "stream",
     "text": [
      "  Bounds range     [1e+00, 1e+00]\n"
     ]
    },
    {
     "name": "stdout",
     "output_type": "stream",
     "text": [
      "  RHS range        [1e+00, 1e+05]\n"
     ]
    },
    {
     "name": "stdout",
     "output_type": "stream",
     "text": [
      "Found heuristic solution: objective 700.0000000\n"
     ]
    },
    {
     "name": "stdout",
     "output_type": "stream",
     "text": [
      "Presolve removed 3 rows and 4 columns\n"
     ]
    },
    {
     "name": "stdout",
     "output_type": "stream",
     "text": [
      "Presolve time: 0.00s\n"
     ]
    },
    {
     "name": "stdout",
     "output_type": "stream",
     "text": [
      "Presolve: All rows and columns removed\n"
     ]
    },
    {
     "name": "stdout",
     "output_type": "stream",
     "text": [
      "\n"
     ]
    },
    {
     "name": "stdout",
     "output_type": "stream",
     "text": [
      "Explored 0 nodes (0 simplex iterations) in 0.01 seconds (0.00 work units)\n"
     ]
    },
    {
     "name": "stdout",
     "output_type": "stream",
     "text": [
      "Thread count was 1 (of 12 available processors)\n"
     ]
    },
    {
     "name": "stdout",
     "output_type": "stream",
     "text": [
      "\n"
     ]
    },
    {
     "name": "stdout",
     "output_type": "stream",
     "text": [
      "Solution count 1: 700 \n"
     ]
    },
    {
     "name": "stdout",
     "output_type": "stream",
     "text": [
      "\n"
     ]
    },
    {
     "name": "stdout",
     "output_type": "stream",
     "text": [
      "Optimal solution found (tolerance 1.00e-04)\n"
     ]
    },
    {
     "name": "stdout",
     "output_type": "stream",
     "text": [
      "Best objective 7.000000000000e+02, best bound 7.000000000000e+02, gap 0.0000%\n"
     ]
    },
    {
     "name": "stdout",
     "output_type": "stream",
     "text": [
      "x0 = 1.0 300.0\n",
      "x1 = 0.0 90.0\n",
      "x2 = 1.0 400.0\n",
      "x3 = 0.0 150.0\n",
      "objective value = 700.0\n"
     ]
    }
   ],
   "source": [
    "c = [300,90,400,150]    \n",
    "A = [[35000,10000,25000,90000 ],\n",
    "     [4,2,7,3 ],\n",
    "     [1,1,0,0 ]]\n",
    "b =  [120000,12,1]\n",
    "print(np.array(c).shape,np.array(A).shape,np.array(b).shape)\n",
    "decision_variables = range(len(c))     \n",
    "constraints = range(np.array(A).shape[0])\n",
    "\n",
    "m = Model(\"Example\")\n",
    "\n",
    "x = []\n",
    "for i in decision_variables:\n",
    "    x.append(m.addVar(lb = 0, vtype = GRB.BINARY, name = 'x' + str(i)))\n",
    "\n",
    "m.setObjective(quicksum(c[i] * x[i] for i in decision_variables) , GRB.MAXIMIZE) \n",
    "m.addConstrs((quicksum(A[j][i] * x[i] for i in decision_variables) \n",
    "                           <= b[j] for j in constraints), \"constraints\")\n",
    "m.optimize()\n",
    "\n",
    "for var in m.getVars(): # descision variable\n",
    "    print(var.varName, '=', var.x, var.obj)\n",
    "print(\"objective value =\", m.objVal)"
   ]
  },
  {
   "cell_type": "markdown",
   "metadata": {
    "id": "Uux9thpWBxEz"
   },
   "source": [
    "## A Total Integer Model:\n",
    "Solve the following LP problem:\n",
    "\n",
    "\\begin{align}\n",
    "&\\text{max}\\\\\n",
    "&\\qquad z=100x_1+150x_2\\\\\n",
    "&\\text{s.t.}\\\\\n",
    "&\\qquad 8000x_1+4000x_2\\le 40000\\\\\n",
    "&\\qquad 15x_1+30x_2\\le200\\\\\n",
    "&\\qquad x_1,x_2\\ge \\text{and integer}\\\\\n",
    "\\end{align} "
   ]
  },
  {
   "cell_type": "code",
   "execution_count": 248,
   "metadata": {
    "colab": {
     "base_uri": "https://localhost:8080/"
    },
    "id": "bP28tNiHBxEz",
    "outputId": "a35c3c74-e2da-4041-d45c-b69cedac719f"
   },
   "outputs": [
    {
     "name": "stdout",
     "output_type": "stream",
     "text": [
      "(2,) (2, 2) (2,)\n",
      "Gurobi Optimizer version 9.5.0 build v9.5.0rc5 (mac64[x86])\n"
     ]
    },
    {
     "name": "stdout",
     "output_type": "stream",
     "text": [
      "Thread count: 6 physical cores, 12 logical processors, using up to 12 threads\n"
     ]
    },
    {
     "name": "stdout",
     "output_type": "stream",
     "text": [
      "Optimize a model with 2 rows, 2 columns and 4 nonzeros\n"
     ]
    },
    {
     "name": "stdout",
     "output_type": "stream",
     "text": [
      "Model fingerprint: 0x8c581e3f\n"
     ]
    },
    {
     "name": "stdout",
     "output_type": "stream",
     "text": [
      "Variable types: 0 continuous, 2 integer (0 binary)\n"
     ]
    },
    {
     "name": "stdout",
     "output_type": "stream",
     "text": [
      "Coefficient statistics:\n"
     ]
    },
    {
     "name": "stdout",
     "output_type": "stream",
     "text": [
      "  Matrix range     [2e+01, 8e+03]\n"
     ]
    },
    {
     "name": "stdout",
     "output_type": "stream",
     "text": [
      "  Objective range  [1e+02, 2e+02]\n"
     ]
    },
    {
     "name": "stdout",
     "output_type": "stream",
     "text": [
      "  Bounds range     [0e+00, 0e+00]\n"
     ]
    },
    {
     "name": "stdout",
     "output_type": "stream",
     "text": [
      "  RHS range        [2e+02, 4e+04]\n"
     ]
    },
    {
     "name": "stdout",
     "output_type": "stream",
     "text": [
      "Found heuristic solution: objective 500.0000000\n"
     ]
    },
    {
     "name": "stdout",
     "output_type": "stream",
     "text": [
      "Presolve time: 0.00s\n"
     ]
    },
    {
     "name": "stdout",
     "output_type": "stream",
     "text": [
      "Presolved: 2 rows, 2 columns, 4 nonzeros\n"
     ]
    },
    {
     "name": "stdout",
     "output_type": "stream",
     "text": [
      "Variable types: 0 continuous, 2 integer (0 binary)\n"
     ]
    },
    {
     "name": "stdout",
     "output_type": "stream",
     "text": [
      "Found heuristic solution: objective 550.0000000\n"
     ]
    },
    {
     "name": "stdout",
     "output_type": "stream",
     "text": [
      "\n"
     ]
    },
    {
     "name": "stdout",
     "output_type": "stream",
     "text": [
      "Root relaxation: objective 1.033333e+03, 2 iterations, 0.00 seconds (0.00 work units)\n"
     ]
    },
    {
     "name": "stdout",
     "output_type": "stream",
     "text": [
      "\n"
     ]
    },
    {
     "name": "stdout",
     "output_type": "stream",
     "text": [
      "    Nodes    |    Current Node    |     Objective Bounds      |     Work\n"
     ]
    },
    {
     "name": "stdout",
     "output_type": "stream",
     "text": [
      " Expl Unexpl |  Obj  Depth IntInf | Incumbent    BestBd   Gap | It/Node Time\n"
     ]
    },
    {
     "name": "stdout",
     "output_type": "stream",
     "text": [
      "\n"
     ]
    },
    {
     "name": "stdout",
     "output_type": "stream",
     "text": [
      "     0     0 1033.33333    0    2  550.00000 1033.33333  87.9%     -    0s\n"
     ]
    },
    {
     "name": "stdout",
     "output_type": "stream",
     "text": [
      "H    0     0                    1000.0000000 1033.33333  3.33%     -    0s\n"
     ]
    },
    {
     "name": "stdout",
     "output_type": "stream",
     "text": [
      "     0     0 1033.33333    0    2 1000.00000 1033.33333  3.33%     -    0s\n"
     ]
    },
    {
     "name": "stdout",
     "output_type": "stream",
     "text": [
      "\n"
     ]
    },
    {
     "name": "stdout",
     "output_type": "stream",
     "text": [
      "Explored 1 nodes (2 simplex iterations) in 0.01 seconds (0.00 work units)\n"
     ]
    },
    {
     "name": "stdout",
     "output_type": "stream",
     "text": [
      "Thread count was 12 (of 12 available processors)\n"
     ]
    },
    {
     "name": "stdout",
     "output_type": "stream",
     "text": [
      "\n"
     ]
    },
    {
     "name": "stdout",
     "output_type": "stream",
     "text": [
      "Solution count 3: 1000 550 500 \n"
     ]
    },
    {
     "name": "stdout",
     "output_type": "stream",
     "text": [
      "\n"
     ]
    },
    {
     "name": "stdout",
     "output_type": "stream",
     "text": [
      "Optimal solution found (tolerance 1.00e-04)\n"
     ]
    },
    {
     "name": "stdout",
     "output_type": "stream",
     "text": [
      "Best objective 1.000000000000e+03, best bound 1.000000000000e+03, gap 0.0000%\n"
     ]
    },
    {
     "name": "stdout",
     "output_type": "stream",
     "text": [
      "x0 = 1.0 100.0\n",
      "x1 = 6.0 150.0\n",
      "objective value = 1000.0\n"
     ]
    }
   ],
   "source": [
    "c = [100,150]    \n",
    "A = [[8000,4000],\n",
    "     [15,30 ]]\n",
    "b =  [40000,200]\n",
    "print(np.array(c).shape,np.array(A).shape,np.array(b).shape)\n",
    "decision_variables = range(len(c))     \n",
    "constraints = range(np.array(A).shape[0])\n",
    "\n",
    "m = Model(\"Example\")\n",
    "\n",
    "x = []\n",
    "for i in decision_variables:\n",
    "    x.append(m.addVar(lb = 0, vtype = GRB.INTEGER, name = 'x' + str(i)))\n",
    "\n",
    "m.setObjective(quicksum(c[i] * x[i] for i in decision_variables) , GRB.MAXIMIZE) \n",
    "m.addConstrs((quicksum(A[j][i] * x[i] for i in decision_variables) \n",
    "                           <= b[j] for j in constraints), \"constraints\")\n",
    "m.optimize()\n",
    "\n",
    "for var in m.getVars(): # descision variable\n",
    "    print(var.varName, '=', var.x, var.obj)\n",
    "print(\"objective value =\", m.objVal)"
   ]
  },
  {
   "cell_type": "markdown",
   "metadata": {
    "id": "jtjYo8VUBxEz"
   },
   "source": [
    "## Mixed Integer Model \n",
    "Solve the following LP problem:\n",
    "\n",
    "\\begin{align}\n",
    "&\\text{max}\\\\\n",
    "&\\qquad z=9000x_1+1500x_2+1000x_3\\\\\n",
    "&\\text{s.t.}\\\\\n",
    "&\\qquad 50000x_1+12000x_2+8000x_3\\le25000\\\\\n",
    "&\\qquad x_1\\le 4\\\\\n",
    "&\\qquad x_2\\le 15\\\\\n",
    "&\\qquad x_3\\le 20\\\\\n",
    "&\\qquad x_2\\ge 0\\\\\n",
    "&\\qquad x_1,x_3\\ge \\text{and integer}\\\\\n",
    "\\end{align} "
   ]
  },
  {
   "cell_type": "code",
   "execution_count": 249,
   "metadata": {
    "colab": {
     "base_uri": "https://localhost:8080/"
    },
    "id": "rj-niiLaBxE0",
    "outputId": "dd4a83ba-3a51-4a4b-eb21-36227e1a2618"
   },
   "outputs": [
    {
     "name": "stdout",
     "output_type": "stream",
     "text": [
      "(3,) (5,) (5,)\n",
      "Gurobi Optimizer version 9.5.0 build v9.5.0rc5 (mac64[x86])\n"
     ]
    },
    {
     "name": "stdout",
     "output_type": "stream",
     "text": [
      "Thread count: 6 physical cores, 12 logical processors, using up to 12 threads\n"
     ]
    },
    {
     "name": "stdout",
     "output_type": "stream",
     "text": [
      "Optimize a model with 5 rows, 3 columns and 7 nonzeros\n"
     ]
    },
    {
     "name": "stdout",
     "output_type": "stream",
     "text": [
      "Model fingerprint: 0x3b8b5be3\n"
     ]
    },
    {
     "name": "stdout",
     "output_type": "stream",
     "text": [
      "Variable types: 1 continuous, 2 integer (0 binary)\n"
     ]
    },
    {
     "name": "stdout",
     "output_type": "stream",
     "text": [
      "Coefficient statistics:\n"
     ]
    },
    {
     "name": "stdout",
     "output_type": "stream",
     "text": [
      "  Matrix range     [1e+00, 5e+04]\n"
     ]
    },
    {
     "name": "stdout",
     "output_type": "stream",
     "text": [
      "  Objective range  [1e+03, 9e+03]\n"
     ]
    },
    {
     "name": "stdout",
     "output_type": "stream",
     "text": [
      "  Bounds range     [0e+00, 0e+00]\n"
     ]
    },
    {
     "name": "stdout",
     "output_type": "stream",
     "text": [
      "  RHS range        [4e+00, 2e+05]\n"
     ]
    },
    {
     "name": "stdout",
     "output_type": "stream",
     "text": [
      "Found heuristic solution: objective 42250.000000\n"
     ]
    },
    {
     "name": "stdout",
     "output_type": "stream",
     "text": [
      "Presolve removed 4 rows and 0 columns\n"
     ]
    },
    {
     "name": "stdout",
     "output_type": "stream",
     "text": [
      "Presolve time: 0.00s\n"
     ]
    },
    {
     "name": "stdout",
     "output_type": "stream",
     "text": [
      "Presolved: 1 rows, 3 columns, 3 nonzeros\n"
     ]
    },
    {
     "name": "stdout",
     "output_type": "stream",
     "text": [
      "Variable types: 0 continuous, 3 integer (0 binary)\n"
     ]
    },
    {
     "name": "stdout",
     "output_type": "stream",
     "text": [
      "\n"
     ]
    },
    {
     "name": "stdout",
     "output_type": "stream",
     "text": [
      "Root relaxation: cutoff, 0 iterations, 0.00 seconds (0.00 work units)\n"
     ]
    },
    {
     "name": "stdout",
     "output_type": "stream",
     "text": [
      "\n"
     ]
    },
    {
     "name": "stdout",
     "output_type": "stream",
     "text": [
      "Explored 1 nodes (0 simplex iterations) in 0.01 seconds (0.00 work units)\n"
     ]
    },
    {
     "name": "stdout",
     "output_type": "stream",
     "text": [
      "Thread count was 12 (of 12 available processors)\n"
     ]
    },
    {
     "name": "stdout",
     "output_type": "stream",
     "text": [
      "\n"
     ]
    },
    {
     "name": "stdout",
     "output_type": "stream",
     "text": [
      "Solution count 1: 42250 \n"
     ]
    },
    {
     "name": "stdout",
     "output_type": "stream",
     "text": [
      "\n"
     ]
    },
    {
     "name": "stdout",
     "output_type": "stream",
     "text": [
      "Optimal solution found (tolerance 1.00e-04)\n"
     ]
    },
    {
     "name": "stdout",
     "output_type": "stream",
     "text": [
      "Best objective 4.225000000000e+04, best bound 4.225000000000e+04, gap 0.0000%\n"
     ]
    },
    {
     "name": "stdout",
     "output_type": "stream",
     "text": [
      "x1 = 4.0 9000.0\n",
      "x1 = 4.166666666666667 1500.0\n",
      "x1 = -0.0 1000.0\n",
      "objective value = 42250.0\n"
     ]
    },
    {
     "name": "stderr",
     "output_type": "stream",
     "text": [
      "/var/folders/rj/s_fbp6h922j5d3mymlr4gpqh0000gn/T/ipykernel_29849/4218220728.py:8: VisibleDeprecationWarning: Creating an ndarray from ragged nested sequences (which is a list-or-tuple of lists-or-tuples-or ndarrays with different lengths or shapes) is deprecated. If you meant to do this, you must specify 'dtype=object' when creating the ndarray.\n",
      "  print(np.array(c).shape,np.array(A).shape,np.array(b).shape)\n",
      "/var/folders/rj/s_fbp6h922j5d3mymlr4gpqh0000gn/T/ipykernel_29849/4218220728.py:10: VisibleDeprecationWarning: Creating an ndarray from ragged nested sequences (which is a list-or-tuple of lists-or-tuples-or ndarrays with different lengths or shapes) is deprecated. If you meant to do this, you must specify 'dtype=object' when creating the ndarray.\n",
      "  constraints = range(np.array(A).shape[0])\n"
     ]
    }
   ],
   "source": [
    "c = [9000,1500,1000]    \n",
    "A = [[50000,12000,8000],\n",
    "     [1,0,0,0 ],\n",
    "     [0,1,0,0 ],\n",
    "     [0,0,1,0 ],\n",
    "     [0,-1,0,0 ]]\n",
    "b =  [250000,4,15,20,0]\n",
    "print(np.array(c).shape,np.array(A).shape,np.array(b).shape)\n",
    "decision_variables = range(len(c))     \n",
    "constraints = range(np.array(A).shape[0])\n",
    "\n",
    "m = Model(\"Example\")\n",
    "\n",
    "x = []\n",
    "x.append(m.addVar(lb = 0, vtype = GRB.INTEGER, name = 'x' + str(i)))\n",
    "x.append(m.addVar(lb = 0, vtype = GRB.CONTINUOUS, name = 'x' + str(i)))\n",
    "x.append(m.addVar(lb = 0, vtype = GRB.INTEGER, name = 'x' + str(i)))\n",
    "\n",
    "m.setObjective(quicksum(c[i] * x[i] for i in decision_variables) , GRB.MAXIMIZE) \n",
    "m.addConstrs((quicksum(A[j][i] * x[i] for i in decision_variables) \n",
    "                           <= b[j] for j in constraints), \"constraints\")\n",
    "m.optimize()\n",
    "\n",
    "for var in m.getVars(): # descision variable\n",
    "    print(var.varName, '=', var.x, var.obj)\n",
    "print(\"objective value =\", m.objVal)"
   ]
  },
  {
   "cell_type": "markdown",
   "metadata": {
    "id": "JunDyHuVBxE0"
   },
   "source": [
    "## Problem Example: C5Q5\n",
    "Solve the following LP problem:\n",
    "\n",
    "\\begin{align}\n",
    "&\\text{max}\\\\\n",
    "&\\qquad z=50x_1+40x_2\\\\\n",
    "&\\text{s.t.}\\\\\n",
    "&\\qquad 3x_1+5x_2\\le 150\\\\\n",
    "&\\qquad 10x_1+4x_2\\le 200\\\\\n",
    "&\\qquad x_1,x_2\\ge \\text{and integer}\\\\\n",
    "\\end{align} "
   ]
  },
  {
   "cell_type": "code",
   "execution_count": 250,
   "metadata": {
    "colab": {
     "base_uri": "https://localhost:8080/"
    },
    "id": "FiZtEPUtBxE0",
    "outputId": "ab2f4162-80bd-4fe6-cf6f-61ecf8edc13a"
   },
   "outputs": [
    {
     "name": "stdout",
     "output_type": "stream",
     "text": [
      "(2,) (2, 2) "
     ]
    },
    {
     "name": "stdout",
     "output_type": "stream",
     "text": [
      "(2,)\n",
      "Gurobi Optimizer version 9.5.0 build v9.5.0rc5 (mac64[x86])\n"
     ]
    },
    {
     "name": "stdout",
     "output_type": "stream",
     "text": [
      "Thread count: 6 physical cores, 12 logical processors, using up to 12 threads\n"
     ]
    },
    {
     "name": "stdout",
     "output_type": "stream",
     "text": [
      "Optimize a model with 2 rows, 2 columns and 4 nonzeros\n"
     ]
    },
    {
     "name": "stdout",
     "output_type": "stream",
     "text": [
      "Model fingerprint: 0xc186269e\n"
     ]
    },
    {
     "name": "stdout",
     "output_type": "stream",
     "text": [
      "Coefficient statistics:\n"
     ]
    },
    {
     "name": "stdout",
     "output_type": "stream",
     "text": [
      "  Matrix range     [3e+00, 1e+01]\n"
     ]
    },
    {
     "name": "stdout",
     "output_type": "stream",
     "text": [
      "  Objective range  [4e+01, 5e+01]\n"
     ]
    },
    {
     "name": "stdout",
     "output_type": "stream",
     "text": [
      "  Bounds range     [0e+00, 0e+00]\n"
     ]
    },
    {
     "name": "stdout",
     "output_type": "stream",
     "text": [
      "  RHS range        [2e+02, 2e+02]\n"
     ]
    },
    {
     "name": "stdout",
     "output_type": "stream",
     "text": [
      "Presolve time: 0.00s\n"
     ]
    },
    {
     "name": "stdout",
     "output_type": "stream",
     "text": [
      "Presolved: 2 rows, 2 columns, 4 nonzeros\n"
     ]
    },
    {
     "name": "stdout",
     "output_type": "stream",
     "text": [
      "\n"
     ]
    },
    {
     "name": "stdout",
     "output_type": "stream",
     "text": [
      "Iteration    Objective       Primal Inf.    Dual Inf.      Time\n"
     ]
    },
    {
     "name": "stdout",
     "output_type": "stream",
     "text": [
      "       0    9.0000000e+31   2.750000e+30   9.000000e+01      0s\n"
     ]
    },
    {
     "name": "stdout",
     "output_type": "stream",
     "text": [
      "       2    1.4736842e+03   0.000000e+00   0.000000e+00      0s\n"
     ]
    },
    {
     "name": "stdout",
     "output_type": "stream",
     "text": [
      "\n"
     ]
    },
    {
     "name": "stdout",
     "output_type": "stream",
     "text": [
      "Solved in 2 iterations and 0.01 seconds (0.00 work units)\n"
     ]
    },
    {
     "name": "stdout",
     "output_type": "stream",
     "text": [
      "Optimal objective  1.473684211e+03\n"
     ]
    },
    {
     "name": "stdout",
     "output_type": "stream",
     "text": [
      "x0 = 10.526315789473683 (50.0, 24.000000000000004, 100.0, 0.0)\n",
      "x1 = 23.68421052631579 (40.0, 19.999999999999996, 83.33333333333334, 0.0)\n",
      "constraints[0] : slack = 0.0 , shadow price= 5.2631578947368425 , (150.0, 59.999999999999986, 250.0)\n",
      "constraints[1] : slack = 0.0 , shadow price= 3.4210526315789473 , (200.0, 120.00000000000001, 500.00000000000006)\n",
      "objective value = 1473.6842105263158\n"
     ]
    }
   ],
   "source": [
    "c = [50,40]    \n",
    "A = [[3,5 ],\n",
    "     [10,4 ]]\n",
    "b =  [150,200]\n",
    "print(np.array(c).shape,np.array(A).shape,np.array(b).shape)\n",
    "decision_variables = range(len(c))     \n",
    "constraints = range(np.array(A).shape[0])\n",
    "\n",
    "m = Model(\"C5Q5\")\n",
    "\n",
    "x = []\n",
    "for i in decision_variables:\n",
    "    x.append(m.addVar(lb = 0, vtype = GRB.CONTINUOUS, name = 'x' + str(i)))\n",
    "\n",
    "m.setObjective(quicksum(c[i] * x[i] for i in decision_variables) , GRB.MAXIMIZE) \n",
    "m.addConstrs((quicksum(A[j][i] * x[i] for i in decision_variables) \n",
    "                           <= b[j] for j in constraints), \"constraints\")\n",
    "m.optimize()\n",
    "\n",
    "for var in m.getVars(): # descision variable\n",
    "    print(var.varName, '=', var.x, (var.obj,var.SAObjLow, var.SAObjUp, var.RC))\n",
    "\n",
    "for con in m.getConstrs(): # constraints\n",
    "    print(con.ConstrName, ': slack =', con.slack,', shadow price=',\n",
    "          con.pi,',', (con.RHS, con.SARHSLow, con.SARHSUp))\n",
    "    \n",
    "print(\"objective value =\", m.objVal)"
   ]
  },
  {
   "cell_type": "code",
   "execution_count": 251,
   "metadata": {
    "colab": {
     "base_uri": "https://localhost:8080/"
    },
    "id": "WnfPXOvUBxE0",
    "outputId": "67c008bf-8386-43ac-8caa-25abc32e704b"
   },
   "outputs": [
    {
     "data": {
      "text/plain": [
       "1420.0"
      ]
     },
     "execution_count": 251,
     "metadata": {},
     "output_type": "execute_result"
    }
   ],
   "source": [
    "y=[]\n",
    "for var in m.getVars():\n",
    "    y.append(np.floor(var.x))\n",
    "\n",
    "np.array(y).dot(np.array((50,40)))"
   ]
  },
  {
   "cell_type": "code",
   "execution_count": 252,
   "metadata": {
    "colab": {
     "base_uri": "https://localhost:8080/"
    },
    "id": "ZCQEBVV2BxE1",
    "outputId": "a650c501-0719-4608-de7c-07e7a3b8cb30"
   },
   "outputs": [
    {
     "name": "stdout",
     "output_type": "stream",
     "text": [
      "(2,) (2, 2) (2,)\n",
      "Gurobi Optimizer version 9.5.0 build v9.5.0rc5 (mac64[x86])\n"
     ]
    },
    {
     "name": "stdout",
     "output_type": "stream",
     "text": [
      "Thread count: 6 physical cores, 12 logical processors, using up to 12 threads\n"
     ]
    },
    {
     "name": "stdout",
     "output_type": "stream",
     "text": [
      "Optimize a model with 2 rows, 2 columns and 4 nonzeros\n"
     ]
    },
    {
     "name": "stdout",
     "output_type": "stream",
     "text": [
      "Model fingerprint: 0xc188e0de\n"
     ]
    },
    {
     "name": "stdout",
     "output_type": "stream",
     "text": [
      "Variable types: 0 continuous, 2 integer (0 binary)\n"
     ]
    },
    {
     "name": "stdout",
     "output_type": "stream",
     "text": [
      "Coefficient statistics:\n"
     ]
    },
    {
     "name": "stdout",
     "output_type": "stream",
     "text": [
      "  Matrix range     [3e+00, 1e+01]\n"
     ]
    },
    {
     "name": "stdout",
     "output_type": "stream",
     "text": [
      "  Objective range  [4e+01, 5e+01]\n"
     ]
    },
    {
     "name": "stdout",
     "output_type": "stream",
     "text": [
      "  Bounds range     [0e+00, 0e+00]\n"
     ]
    },
    {
     "name": "stdout",
     "output_type": "stream",
     "text": [
      "  RHS range        [2e+02, 2e+02]\n"
     ]
    },
    {
     "name": "stdout",
     "output_type": "stream",
     "text": [
      "Found heuristic solution: objective 1000.0000000\n"
     ]
    },
    {
     "name": "stdout",
     "output_type": "stream",
     "text": [
      "Presolve time: 0.00s\n"
     ]
    },
    {
     "name": "stdout",
     "output_type": "stream",
     "text": [
      "Presolved: 2 rows, 2 columns, 4 nonzeros\n"
     ]
    },
    {
     "name": "stdout",
     "output_type": "stream",
     "text": [
      "Variable types: 0 continuous, 2 integer (0 binary)\n"
     ]
    },
    {
     "name": "stdout",
     "output_type": "stream",
     "text": [
      "\n"
     ]
    },
    {
     "name": "stdout",
     "output_type": "stream",
     "text": [
      "Root relaxation: objective 1.473684e+03, 2 iterations, 0.00 seconds (0.00 work units)\n"
     ]
    },
    {
     "name": "stdout",
     "output_type": "stream",
     "text": [
      "\n"
     ]
    },
    {
     "name": "stdout",
     "output_type": "stream",
     "text": [
      "    Nodes    |    Current Node    |     Objective Bounds      |     Work\n"
     ]
    },
    {
     "name": "stdout",
     "output_type": "stream",
     "text": [
      " Expl Unexpl |  Obj  Depth IntInf | Incumbent    BestBd   Gap | It/Node Time\n"
     ]
    },
    {
     "name": "stdout",
     "output_type": "stream",
     "text": [
      "\n"
     ]
    },
    {
     "name": "stdout",
     "output_type": "stream",
     "text": [
      "     0     0 1473.68421    0    2 1000.00000 1473.68421  47.4%     -    0s\n"
     ]
    },
    {
     "name": "stdout",
     "output_type": "stream",
     "text": [
      "H    0     0                    1460.0000000 1473.68421  0.94%     -    0s\n"
     ]
    },
    {
     "name": "stdout",
     "output_type": "stream",
     "text": [
      "     0     0 1473.68421    0    2 1460.00000 1473.68421  0.94%     -    0s\n"
     ]
    },
    {
     "name": "stdout",
     "output_type": "stream",
     "text": [
      "\n"
     ]
    },
    {
     "name": "stdout",
     "output_type": "stream",
     "text": [
      "Explored 1 nodes (2 simplex iterations) in 0.01 seconds (0.00 work units)\n"
     ]
    },
    {
     "name": "stdout",
     "output_type": "stream",
     "text": [
      "Thread count was 12 (of 12 available processors)\n"
     ]
    },
    {
     "name": "stdout",
     "output_type": "stream",
     "text": [
      "\n"
     ]
    },
    {
     "name": "stdout",
     "output_type": "stream",
     "text": [
      "Solution count 2: 1460 1000 \n"
     ]
    },
    {
     "name": "stdout",
     "output_type": "stream",
     "text": [
      "\n"
     ]
    },
    {
     "name": "stdout",
     "output_type": "stream",
     "text": [
      "Optimal solution found (tolerance 1.00e-04)\n"
     ]
    },
    {
     "name": "stdout",
     "output_type": "stream",
     "text": [
      "Best objective 1.460000000000e+03, best bound 1.460000000000e+03, gap 0.0000%\n"
     ]
    },
    {
     "name": "stdout",
     "output_type": "stream",
     "text": [
      "x0 = 10.0 50.0\n",
      "x1 = 24.0 40.0\n",
      "objective value = 1460.0\n"
     ]
    }
   ],
   "source": [
    "c = [50,40]    \n",
    "A = [[3,5 ],\n",
    "     [10,4 ]]\n",
    "b =  [150,200]\n",
    "print(np.array(c).shape,np.array(A).shape,np.array(b).shape)\n",
    "decision_variables = range(len(c))     \n",
    "constraints = range(np.array(A).shape[0])\n",
    "\n",
    "m = Model(\"C5Q5\")\n",
    "\n",
    "x = []\n",
    "for i in decision_variables:\n",
    "    x.append(m.addVar(lb = 0, vtype = GRB.INTEGER, name = 'x' + str(i)))\n",
    "\n",
    "m.setObjective(quicksum(c[i] * x[i] for i in decision_variables) , GRB.MAXIMIZE) \n",
    "m.addConstrs((quicksum(A[j][i] * x[i] for i in decision_variables) \n",
    "                           <= b[j] for j in constraints), \"constraints\")\n",
    "m.optimize()\n",
    "\n",
    "for var in m.getVars(): # descision variable\n",
    "    print(var.varName, '=', var.x, var.obj)\n",
    "\n",
    "#for con in m.getConstrs(): # constraints\n",
    "#    print(con.ConstrName, ': slack =', con.slack,', shadow price=',\n",
    "#          con.pi,',', (con.RHS, con.SARHSLow, con.SARHSUp))\n",
    "    \n",
    "print(\"objective value =\", m.objVal)"
   ]
  },
  {
   "cell_type": "markdown",
   "metadata": {
    "id": "WRvXB25dBxE1"
   },
   "source": [
    "## Problem Example: C5Q13\n",
    "Solve the following LP problem:\n",
    "\\begin{align}\n",
    "&\\text{max}\\\\\n",
    "&\\qquad z=85000 x_1 + 60000 x_2 – 18000 y_1\\\\\n",
    "&\\text{s.t.}\\\\\n",
    "&\\qquad x_1+x_2\\le 10\\\\\n",
    "&\\qquad 10000x_1+7000x_2\\le 72000\\\\\n",
    "&\\qquad x_1-10y_1\\le 0\\\\\n",
    "&\\qquad x_1,x_2\\ge \\text{and integer}\\\\\n",
    "&\\qquad y_1= 0~\\text{or}~1\\\\\n",
    "\\end{align} "
   ]
  },
  {
   "cell_type": "code",
   "execution_count": 253,
   "metadata": {
    "colab": {
     "base_uri": "https://localhost:8080/"
    },
    "id": "ppihjcxfBxE1",
    "outputId": "85d0c6c6-e5a3-4830-ad75-55afff338226"
   },
   "outputs": [
    {
     "name": "stdout",
     "output_type": "stream",
     "text": [
      "(3,) (4, 3) (4,)\n",
      "Gurobi Optimizer version 9.5.0 build v9.5.0rc5 (mac64[x86])\n"
     ]
    },
    {
     "name": "stdout",
     "output_type": "stream",
     "text": [
      "Thread count: 6 physical cores, 12 logical processors, using up to 12 threads\n"
     ]
    },
    {
     "name": "stdout",
     "output_type": "stream",
     "text": [
      "Optimize a model with 4 rows, 3 columns and 8 nonzeros\n"
     ]
    },
    {
     "name": "stdout",
     "output_type": "stream",
     "text": [
      "Model fingerprint: 0x11909cb7\n"
     ]
    },
    {
     "name": "stdout",
     "output_type": "stream",
     "text": [
      "Variable types: 0 continuous, 3 integer (1 binary)\n"
     ]
    },
    {
     "name": "stdout",
     "output_type": "stream",
     "text": [
      "Coefficient statistics:\n"
     ]
    },
    {
     "name": "stdout",
     "output_type": "stream",
     "text": [
      "  Matrix range     [1e+00, 1e+04]\n"
     ]
    },
    {
     "name": "stdout",
     "output_type": "stream",
     "text": [
      "  Objective range  [2e+04, 8e+04]\n"
     ]
    },
    {
     "name": "stdout",
     "output_type": "stream",
     "text": [
      "  Bounds range     [1e+00, 1e+00]\n"
     ]
    },
    {
     "name": "stdout",
     "output_type": "stream",
     "text": [
      "  RHS range        [9e+00, 7e+04]\n"
     ]
    },
    {
     "name": "stdout",
     "output_type": "stream",
     "text": [
      "Found heuristic solution: objective 600000.00000\n"
     ]
    },
    {
     "name": "stdout",
     "output_type": "stream",
     "text": [
      "Presolve time: 0.00s\n"
     ]
    },
    {
     "name": "stdout",
     "output_type": "stream",
     "text": [
      "Presolved: 4 rows, 3 columns, 8 nonzeros\n"
     ]
    },
    {
     "name": "stdout",
     "output_type": "stream",
     "text": [
      "Variable types: 0 continuous, 3 integer (1 binary)\n"
     ]
    },
    {
     "name": "stdout",
     "output_type": "stream",
     "text": [
      "\n"
     ]
    },
    {
     "name": "stdout",
     "output_type": "stream",
     "text": [
      "Root relaxation: cutoff, 1 iterations, 0.00 seconds (0.00 work units)\n"
     ]
    },
    {
     "name": "stdout",
     "output_type": "stream",
     "text": [
      "\n"
     ]
    },
    {
     "name": "stdout",
     "output_type": "stream",
     "text": [
      "    Nodes    |    Current Node    |     Objective Bounds      |     Work\n"
     ]
    },
    {
     "name": "stdout",
     "output_type": "stream",
     "text": [
      " Expl Unexpl |  Obj  Depth IntInf | Incumbent    BestBd   Gap | It/Node Time\n"
     ]
    },
    {
     "name": "stdout",
     "output_type": "stream",
     "text": [
      "\n"
     ]
    },
    {
     "name": "stdout",
     "output_type": "stream",
     "text": [
      "     0     0     cutoff    0      600000.000 600000.000  0.00%     -    0s\n"
     ]
    },
    {
     "name": "stdout",
     "output_type": "stream",
     "text": [
      "\n"
     ]
    },
    {
     "name": "stdout",
     "output_type": "stream",
     "text": [
      "Explored 1 nodes (1 simplex iterations) in 0.01 seconds (0.00 work units)\n"
     ]
    },
    {
     "name": "stdout",
     "output_type": "stream",
     "text": [
      "Thread count was 12 (of 12 available processors)\n"
     ]
    },
    {
     "name": "stdout",
     "output_type": "stream",
     "text": [
      "\n"
     ]
    },
    {
     "name": "stdout",
     "output_type": "stream",
     "text": [
      "Solution count 1: 600000 \n"
     ]
    },
    {
     "name": "stdout",
     "output_type": "stream",
     "text": [
      "\n"
     ]
    },
    {
     "name": "stdout",
     "output_type": "stream",
     "text": [
      "Optimal solution found (tolerance 1.00e-04)\n"
     ]
    },
    {
     "name": "stdout",
     "output_type": "stream",
     "text": [
      "Best objective 6.000000000000e+05, best bound 6.000000000000e+05, gap 0.0000%\n"
     ]
    },
    {
     "name": "stdout",
     "output_type": "stream",
     "text": [
      "x1 = -0.0 85000.0\n",
      "x2 = 10.0 60000.0\n",
      "x3 = -0.0 -18000.0\n",
      "objective value = 600000.0\n"
     ]
    }
   ],
   "source": [
    "c = [85000,60000,-18000]    \n",
    "A = [[1,1,0 ],\n",
    "     [10000,7000,0 ],\n",
    "     [1,0,-10],\n",
    "     [-1,0,10]]\n",
    "b =  [10,72000,0,9]\n",
    "print(np.array(c).shape,np.array(A).shape,np.array(b).shape)\n",
    "decision_variables = range(len(c))     \n",
    "constraints = range(np.array(A).shape[0])\n",
    "\n",
    "m = Model(\"C5Q13\")\n",
    "\n",
    "x = []\n",
    "x.append(m.addVar(lb = 0, vtype = GRB.INTEGER, name = 'x1'))\n",
    "x.append(m.addVar(lb = 0, vtype = GRB.INTEGER, name = 'x2'))\n",
    "x.append(m.addVar(lb = 0, vtype = GRB.BINARY, name = 'x3'))\n",
    "\n",
    "m.setObjective(quicksum(c[i] * x[i] for i in decision_variables) , GRB.MAXIMIZE) \n",
    "m.addConstrs((quicksum(A[j][i] * x[i] for i in decision_variables) \n",
    "                           <= b[j] for j in constraints), \"constraints\")\n",
    "m.optimize()\n",
    "\n",
    "for var in m.getVars(): # descision variable\n",
    "    print(var.varName, '=', var.x, var.obj)\n",
    "\n",
    "#for con in m.getConstrs(): # constraints\n",
    "#    print(con.ConstrName, ': slack =', con.slack,', shadow price=',\n",
    "#          con.pi,',', (con.RHS, con.SARHSLow, con.SARHSUp))\n",
    "    \n",
    "print(\"objective value =\", m.objVal)"
   ]
  },
  {
   "cell_type": "markdown",
   "metadata": {
    "id": "cGEsNF5MBxE2"
   },
   "source": [
    "## Problem Example: C5Q14\n",
    "Solve the following LP problem:\n",
    "\\begin{align}\n",
    "&\\text{max}\\\\\n",
    "&\\qquad z=.36x_1 + .82x_2 + .29x_3 + .16x_4\n",
    "+ .56x_5 + .61x_6 + .48x_7 + .41x_8\\\\\n",
    "&\\text{s.t.}\\\\\n",
    "&\\qquad 60x_1 + 110x_2 + 53x_3 + 47x_4 +\n",
    "92x_5 +85x_6 +73x_7 +65x_8\\le 300\\\\\n",
    "&\\qquad 7x_1 + 9x_2 + 8x_3 + 4x_4 + 7x_5 +\n",
    "6x_6 +8x_7 +5x_8\\le 40\\\\\n",
    "&\\qquad x_2-x_5\\le 0\\\\\n",
    "&\\qquad x_i= 0~\\text{or}~1\\\\\n",
    "\\end{align} "
   ]
  },
  {
   "cell_type": "code",
   "execution_count": 254,
   "metadata": {
    "colab": {
     "base_uri": "https://localhost:8080/"
    },
    "id": "sDXqvvBcBxE2",
    "outputId": "4db43964-192e-450d-ecf8-ea02a809a3ff"
   },
   "outputs": [
    {
     "name": "stdout",
     "output_type": "stream",
     "text": [
      "(8,) (3, 8) (3,)\n",
      "Gurobi Optimizer version 9.5.0 build v9.5.0rc5 (mac64[x86])\n"
     ]
    },
    {
     "name": "stdout",
     "output_type": "stream",
     "text": [
      "Thread count: 6 physical cores, 12 logical processors, using up to 12 threads\n"
     ]
    },
    {
     "name": "stdout",
     "output_type": "stream",
     "text": [
      "Optimize a model with 3 rows, 8 columns and 18 nonzeros\n"
     ]
    },
    {
     "name": "stdout",
     "output_type": "stream",
     "text": [
      "Model fingerprint: 0xd75ca42c\n"
     ]
    },
    {
     "name": "stdout",
     "output_type": "stream",
     "text": [
      "Variable types: 0 continuous, 8 integer (8 binary)\n"
     ]
    },
    {
     "name": "stdout",
     "output_type": "stream",
     "text": [
      "Coefficient statistics:\n"
     ]
    },
    {
     "name": "stdout",
     "output_type": "stream",
     "text": [
      "  Matrix range     [1e+00, 1e+02]\n"
     ]
    },
    {
     "name": "stdout",
     "output_type": "stream",
     "text": [
      "  Objective range  [2e-01, 8e-01]\n"
     ]
    },
    {
     "name": "stdout",
     "output_type": "stream",
     "text": [
      "  Bounds range     [1e+00, 1e+00]\n"
     ]
    },
    {
     "name": "stdout",
     "output_type": "stream",
     "text": [
      "  RHS range        [4e+01, 3e+02]\n"
     ]
    },
    {
     "name": "stdout",
     "output_type": "stream",
     "text": [
      "Found heuristic solution: objective 1.3700000\n"
     ]
    },
    {
     "name": "stdout",
     "output_type": "stream",
     "text": [
      "Presolve removed 1 rows and 0 columns\n"
     ]
    },
    {
     "name": "stdout",
     "output_type": "stream",
     "text": [
      "Presolve time: 0.00s\n"
     ]
    },
    {
     "name": "stdout",
     "output_type": "stream",
     "text": [
      "Presolved: 2 rows, 8 columns, 10 nonzeros\n"
     ]
    },
    {
     "name": "stdout",
     "output_type": "stream",
     "text": [
      "Variable types: 0 continuous, 8 integer (8 binary)\n"
     ]
    },
    {
     "name": "stdout",
     "output_type": "stream",
     "text": [
      "Found heuristic solution: objective 1.6600000\n"
     ]
    },
    {
     "name": "stdout",
     "output_type": "stream",
     "text": [
      "\n"
     ]
    },
    {
     "name": "stdout",
     "output_type": "stream",
     "text": [
      "Root relaxation: objective 2.042603e+00, 3 iterations, 0.00 seconds (0.00 work units)\n"
     ]
    },
    {
     "name": "stdout",
     "output_type": "stream",
     "text": [
      "\n"
     ]
    },
    {
     "name": "stdout",
     "output_type": "stream",
     "text": [
      "    Nodes    |    Current Node    |     Objective Bounds      |     Work\n"
     ]
    },
    {
     "name": "stdout",
     "output_type": "stream",
     "text": [
      " Expl Unexpl |  Obj  Depth IntInf | Incumbent    BestBd   Gap | It/Node Time\n"
     ]
    },
    {
     "name": "stdout",
     "output_type": "stream",
     "text": [
      "\n"
     ]
    },
    {
     "name": "stdout",
     "output_type": "stream",
     "text": [
      "     0     0    2.04260    0    1    1.66000    2.04260  23.0%     -    0s\n"
     ]
    },
    {
     "name": "stdout",
     "output_type": "stream",
     "text": [
      "H    0     0                       1.9900000    2.04260  2.64%     -    0s\n"
     ]
    },
    {
     "name": "stdout",
     "output_type": "stream",
     "text": [
      "     0     0    1.99000    0    1    1.99000    1.99000  0.00%     -    0s\n"
     ]
    },
    {
     "name": "stdout",
     "output_type": "stream",
     "text": [
      "\n"
     ]
    },
    {
     "name": "stdout",
     "output_type": "stream",
     "text": [
      "Cutting planes:\n"
     ]
    },
    {
     "name": "stdout",
     "output_type": "stream",
     "text": [
      "  GUB cover: 1\n"
     ]
    },
    {
     "name": "stdout",
     "output_type": "stream",
     "text": [
      "\n"
     ]
    },
    {
     "name": "stdout",
     "output_type": "stream",
     "text": [
      "Explored 1 nodes (4 simplex iterations) in 0.01 seconds (0.00 work units)\n"
     ]
    },
    {
     "name": "stdout",
     "output_type": "stream",
     "text": [
      "Thread count was 12 (of 12 available processors)\n"
     ]
    },
    {
     "name": "stdout",
     "output_type": "stream",
     "text": [
      "\n"
     ]
    },
    {
     "name": "stdout",
     "output_type": "stream",
     "text": [
      "Solution count 3: 1.99 1.66 1.37 \n"
     ]
    },
    {
     "name": "stdout",
     "output_type": "stream",
     "text": [
      "\n"
     ]
    },
    {
     "name": "stdout",
     "output_type": "stream",
     "text": [
      "Optimal solution found (tolerance 1.00e-04)\n"
     ]
    },
    {
     "name": "stdout",
     "output_type": "stream",
     "text": [
      "Best objective 1.990000000000e+00, best bound 1.990000000000e+00, gap 0.0000%\n"
     ]
    },
    {
     "name": "stdout",
     "output_type": "stream",
     "text": [
      "x0"
     ]
    },
    {
     "name": "stdout",
     "output_type": "stream",
     "text": [
      " = -0.0 0.36\n",
      "x1 = 1.0 0.82\n",
      "x2 = -0.0 0.29\n",
      "x3 = -0.0 0.16\n",
      "x4 = 1.0 0.56\n",
      "x5 = 1.0 0.61\n",
      "x6 = 0.0 0.48\n",
      "x7 = -0.0 0.41\n",
      "objective value = 1989999.9999999998\n"
     ]
    }
   ],
   "source": [
    "c = [.36,.82,.29,.16,.56,.61,.48,.41]    \n",
    "A = [[60,110,53,47,92,85,73,65 ],\n",
    "     [7,9,8,4,7,6,8,5 ],\n",
    "     [0,1,0,0,-1,0,0,0]]\n",
    "b =  [300,40,0]\n",
    "print(np.array(c).shape,np.array(A).shape,np.array(b).shape)\n",
    "decision_variables = range(len(c))     \n",
    "constraints = range(np.array(A).shape[0])\n",
    "\n",
    "m = Model(\"C5Q14\")\n",
    "\n",
    "x = []\n",
    "for i in decision_variables:\n",
    "    x.append(m.addVar(lb = 0, vtype = GRB.BINARY, name = 'x' + str(i)))\n",
    "\n",
    "m.setObjective(quicksum(c[i] * x[i] for i in decision_variables) , GRB.MAXIMIZE) \n",
    "m.addConstrs((quicksum(A[j][i] * x[i] for i in decision_variables) \n",
    "                           <= b[j] for j in constraints), \"constraints\")\n",
    "m.optimize()\n",
    "\n",
    "for var in m.getVars(): # descision variable\n",
    "    print(var.varName, '=', var.x, var.obj)\n",
    "\n",
    "#for con in m.getConstrs(): # constraints\n",
    "#    print(con.ConstrName, ': slack =', con.slack,', shadow price=',\n",
    "#          con.pi,',', (con.RHS, con.SARHSLow, con.SARHSUp))\n",
    "    \n",
    "print(\"objective value =\", m.objVal*1e6)"
   ]
  },
  {
   "cell_type": "markdown",
   "metadata": {
    "id": "PY1FwqB7BxE2"
   },
   "source": [
    "## Problem Example: C5Q15\n",
    "Solve the following LP problem:\n",
    "\\begin{align}\n",
    "&\\text{max}\\\\\n",
    "&\\qquad z=x_1 +x_2 +x_3 +x_4 +x_5 +x_6\\\\\n",
    "&\\text{s.t.}\\\\\n",
    "&\\qquad x_6+x_1 \\ge 90\\\\\n",
    "&\\qquad x_1+x_2 \\ge 215\\\\\n",
    "&\\qquad x_2+x_3 \\ge 250\\\\\n",
    "&\\qquad x_3+x_4 \\ge 65\\\\\n",
    "&\\qquad x_4+x_5 \\ge 300\\\\\n",
    "&\\qquad x_5+x_6 \\ge 125\\\\\n",
    "&\\qquad x_i \\ge 0~ \\text{and integer}\\\\\n",
    "\\end{align} "
   ]
  },
  {
   "cell_type": "code",
   "execution_count": 255,
   "metadata": {
    "colab": {
     "base_uri": "https://localhost:8080/"
    },
    "id": "vzcQ8GQmBxE2",
    "outputId": "a2f0ccd8-b378-4ca2-8823-40bfc0580bc3"
   },
   "outputs": [
    {
     "name": "stdout",
     "output_type": "stream",
     "text": [
      "(6,) (6, 6) (6,)\n",
      "Gurobi Optimizer version 9.5.0 build v9.5.0rc5 (mac64[x86])\n"
     ]
    },
    {
     "name": "stdout",
     "output_type": "stream",
     "text": [
      "Thread count: 6 physical cores, 12 logical processors, using up to 12 threads\n"
     ]
    },
    {
     "name": "stdout",
     "output_type": "stream",
     "text": [
      "Optimize a model with 6 rows, 6 columns and 12 nonzeros\n"
     ]
    },
    {
     "name": "stdout",
     "output_type": "stream",
     "text": [
      "Model fingerprint: 0xeba1cb46\n"
     ]
    },
    {
     "name": "stdout",
     "output_type": "stream",
     "text": [
      "Variable types: 0 continuous, 6 integer (0 binary)\n"
     ]
    },
    {
     "name": "stdout",
     "output_type": "stream",
     "text": [
      "Coefficient statistics:\n"
     ]
    },
    {
     "name": "stdout",
     "output_type": "stream",
     "text": [
      "  Matrix range     [1e+00, 1e+00]\n"
     ]
    },
    {
     "name": "stdout",
     "output_type": "stream",
     "text": [
      "  Objective range  [1e+00, 1e+00]\n"
     ]
    },
    {
     "name": "stdout",
     "output_type": "stream",
     "text": [
      "  Bounds range     [0e+00, 0e+00]\n"
     ]
    },
    {
     "name": "stdout",
     "output_type": "stream",
     "text": [
      "  RHS range        [6e+01, 3e+02]\n"
     ]
    },
    {
     "name": "stdout",
     "output_type": "stream",
     "text": [
      "Found heuristic solution: objective 640.0000000\n"
     ]
    },
    {
     "name": "stdout",
     "output_type": "stream",
     "text": [
      "Presolve time: 0.00s\n"
     ]
    },
    {
     "name": "stdout",
     "output_type": "stream",
     "text": [
      "Presolved: 6 rows, 6 columns, 12 nonzeros\n"
     ]
    },
    {
     "name": "stdout",
     "output_type": "stream",
     "text": [
      "Variable types: 0 continuous, 6 integer (0 binary)\n"
     ]
    },
    {
     "name": "stdout",
     "output_type": "stream",
     "text": [
      "\n"
     ]
    },
    {
     "name": "stdout",
     "output_type": "stream",
     "text": [
      "Root relaxation: cutoff, 3 iterations, 0.00 seconds (0.00 work units)\n"
     ]
    },
    {
     "name": "stdout",
     "output_type": "stream",
     "text": [
      "\n"
     ]
    },
    {
     "name": "stdout",
     "output_type": "stream",
     "text": [
      "    Nodes    |    Current Node    |     Objective Bounds      |     Work\n"
     ]
    },
    {
     "name": "stdout",
     "output_type": "stream",
     "text": [
      " Expl Unexpl |  Obj  Depth IntInf | Incumbent    BestBd   Gap | It/Node Time\n"
     ]
    },
    {
     "name": "stdout",
     "output_type": "stream",
     "text": [
      "\n"
     ]
    },
    {
     "name": "stdout",
     "output_type": "stream",
     "text": [
      "     0     0     cutoff    0       640.00000  640.00000  0.00%     -    0s\n"
     ]
    },
    {
     "name": "stdout",
     "output_type": "stream",
     "text": [
      "\n"
     ]
    },
    {
     "name": "stdout",
     "output_type": "stream",
     "text": [
      "Explored 1 nodes (3 simplex iterations) in 0.01 seconds (0.00 work units)\n"
     ]
    },
    {
     "name": "stdout",
     "output_type": "stream",
     "text": [
      "Thread count was 12 (of 12 available processors)\n"
     ]
    },
    {
     "name": "stdout",
     "output_type": "stream",
     "text": [
      "\n"
     ]
    },
    {
     "name": "stdout",
     "output_type": "stream",
     "text": [
      "Solution count 1: 640 \n"
     ]
    },
    {
     "name": "stdout",
     "output_type": "stream",
     "text": [
      "\n"
     ]
    },
    {
     "name": "stdout",
     "output_type": "stream",
     "text": [
      "Optimal solution found (tolerance 1.00e-04)\n"
     ]
    },
    {
     "name": "stdout",
     "output_type": "stream",
     "text": [
      "Best objective 6.400000000000e+02, best bound 6.400000000000e+02, gap 0.0000%\n"
     ]
    },
    {
     "name": "stdout",
     "output_type": "stream",
     "text": [
      "x0"
     ]
    },
    {
     "name": "stdout",
     "output_type": "stream",
     "text": [
      " = 0.0 1.0\n",
      "x1 = 215.0 1.0\n",
      "x2 = 35.0 1.0\n",
      "x3 = 30.0 1.0\n",
      "x4 = 270.0 1.0\n",
      "x5 = 90.0 1.0\n",
      "objective value = 640.0\n"
     ]
    }
   ],
   "source": [
    "c = [1,1,1,1,1,1]    \n",
    "A = [[1,0,0,0,0,1],\n",
    "     [1,1,0,0,0,0],\n",
    "     [0,1,1,0,0,0],\n",
    "     [0,0,1,1,0,0],\n",
    "     [0,0,0,1,1,0],\n",
    "     [0,0,0,0,1,1]]\n",
    "b =  [90,215,250,65,300,125]\n",
    "print(np.array(c).shape,np.array(A).shape,np.array(b).shape)\n",
    "decision_variables = range(len(c))     \n",
    "constraints = range(np.array(A).shape[0])\n",
    "\n",
    "m = Model(\"C5Q15\")\n",
    "\n",
    "x = []\n",
    "for i in decision_variables:\n",
    "    x.append(m.addVar(lb = 0, vtype = GRB.INTEGER, name = 'x' + str(i)))\n",
    "\n",
    "m.setObjective(quicksum(c[i] * x[i] for i in decision_variables) , GRB.MINIMIZE) \n",
    "m.addConstrs((quicksum(A[j][i] * x[i] for i in decision_variables) \n",
    "                           >= b[j] for j in constraints), \"constraints\")\n",
    "m.optimize()\n",
    "\n",
    "for var in m.getVars(): # descision variable\n",
    "    print(var.varName, '=', var.x, var.obj)\n",
    "\n",
    "#for con in m.getConstrs(): # constraints\n",
    "#    print(con.ConstrName, ': slack =', con.slack,', shadow price=',\n",
    "#          con.pi,',', (con.RHS, con.SARHSLow, con.SARHSUp))\n",
    "    \n",
    "print(\"objective value =\", m.objVal)"
   ]
  },
  {
   "cell_type": "markdown",
   "metadata": {
    "id": "G-VsXi7RBxE2"
   },
   "source": [
    "## Problem Example: C5Q17\n",
    "Solve the following LP problem:\n",
    "\\begin{align}\n",
    "&\\text{min}\\\\\n",
    "&\\qquad z=25000x_1 + 7000x_2 + 9000x_3\\\\\n",
    "&\\text{s.t.}\\\\\n",
    "&\\qquad 53000x_1+30000x_2+41000x_3 \\ge 200,000\\\\\n",
    "&\\qquad (32000x_1 + 20000x_2 +18000x_3)/(21000x_1 +10000x_2 +23000x_3) \\ge 1.5\\\\\n",
    "&\\qquad (34000x_1 +12000x_2 + 24000x_3)/(53000x_1 +30000x_2 +41000x_3) \\ge .60\\\\\n",
    "&\\qquad x_i \\ge 0~ \\text{and integer}\\\\\n",
    "\\end{align} \n"
   ]
  },
  {
   "cell_type": "code",
   "execution_count": 256,
   "metadata": {
    "colab": {
     "base_uri": "https://localhost:8080/"
    },
    "id": "ZyDm9Y8vBxE2",
    "outputId": "7f26176d-dc61-4ad8-e8c0-26b144ee59bc"
   },
   "outputs": [
    {
     "name": "stdout",
     "output_type": "stream",
     "text": [
      "(3,) (3, 3) (3,)\n",
      "Gurobi Optimizer version 9.5.0 build v9.5.0rc5 (mac64[x86])\n"
     ]
    },
    {
     "name": "stdout",
     "output_type": "stream",
     "text": [
      "Thread count: 6 physical cores, 12 logical processors, using up to 12 threads\n"
     ]
    },
    {
     "name": "stdout",
     "output_type": "stream",
     "text": [
      "Optimize a model with 3 rows, 3 columns and 9 nonzeros\n"
     ]
    },
    {
     "name": "stdout",
     "output_type": "stream",
     "text": [
      "Model fingerprint: 0xcf860642\n"
     ]
    },
    {
     "name": "stdout",
     "output_type": "stream",
     "text": [
      "Variable types: 0 continuous, 3 integer (0 binary)\n"
     ]
    },
    {
     "name": "stdout",
     "output_type": "stream",
     "text": [
      "Coefficient statistics:\n"
     ]
    },
    {
     "name": "stdout",
     "output_type": "stream",
     "text": [
      "  Matrix range     [5e+02, 5e+04]\n"
     ]
    },
    {
     "name": "stdout",
     "output_type": "stream",
     "text": [
      "  Objective range  [7e+03, 2e+04]\n"
     ]
    },
    {
     "name": "stdout",
     "output_type": "stream",
     "text": [
      "  Bounds range     [0e+00, 0e+00]\n"
     ]
    },
    {
     "name": "stdout",
     "output_type": "stream",
     "text": [
      "  RHS range        [2e+05, 2e+05]\n"
     ]
    },
    {
     "name": "stdout",
     "output_type": "stream",
     "text": [
      "Found heuristic solution: objective 100000.00000\n"
     ]
    },
    {
     "name": "stdout",
     "output_type": "stream",
     "text": [
      "Presolve time: 0.00s\n"
     ]
    },
    {
     "name": "stdout",
     "output_type": "stream",
     "text": [
      "Presolved: 3 rows, 3 columns, 9 nonzeros\n"
     ]
    },
    {
     "name": "stdout",
     "output_type": "stream",
     "text": [
      "Variable types: 0 continuous, 3 integer (0 binary)\n"
     ]
    },
    {
     "name": "stdout",
     "output_type": "stream",
     "text": [
      "\n"
     ]
    },
    {
     "name": "stdout",
     "output_type": "stream",
     "text": [
      "Explored 0 nodes (0 simplex iterations) in 0.01 seconds (0.00 work units)\n"
     ]
    },
    {
     "name": "stdout",
     "output_type": "stream",
     "text": [
      "Thread count was 12 (of 12 available processors)\n"
     ]
    },
    {
     "name": "stdout",
     "output_type": "stream",
     "text": [
      "\n"
     ]
    },
    {
     "name": "stdout",
     "output_type": "stream",
     "text": [
      "Solution count 1: 100000 \n"
     ]
    },
    {
     "name": "stdout",
     "output_type": "stream",
     "text": [
      "\n"
     ]
    },
    {
     "name": "stdout",
     "output_type": "stream",
     "text": [
      "Optimal solution found (tolerance 1.00e-04)\n"
     ]
    },
    {
     "name": "stdout",
     "output_type": "stream",
     "text": [
      "Best objective 1.000000000000e+05, best bound 1.000000000000e+05, gap 0.0000%\n"
     ]
    },
    {
     "name": "stdout",
     "output_type": "stream",
     "text": [
      "x0 = 4.0 25000.0\n",
      "x1 = 0.0 7000.0\n",
      "x2 = 0.0 9000.0\n",
      "objective value = 100000000000.0\n"
     ]
    }
   ],
   "source": [
    "c = [25000,7000,9000]    \n",
    "A = [[53000,30000,41000],\n",
    "     [32000-1.5*21000,20000-1.5*10000,18000-1.5*23000 ],\n",
    "     [34000-.6*53000,12000-.6*30000,24000-.6*41000]]\n",
    "b =  [200000,0,0]\n",
    "print(np.array(c).shape,np.array(A).shape,np.array(b).shape)\n",
    "decision_variables = range(len(c))     \n",
    "constraints = range(np.array(A).shape[0])\n",
    "\n",
    "m = Model(\"C5Q17\")\n",
    "\n",
    "x = []\n",
    "for i in decision_variables:\n",
    "    x.append(m.addVar(lb = 0, vtype = GRB.INTEGER, name = 'x' + str(i)))\n",
    "\n",
    "m.setObjective(quicksum(c[i] * x[i] for i in decision_variables) , GRB.MINIMIZE) \n",
    "m.addConstrs((quicksum(A[j][i] * x[i] for i in decision_variables) \n",
    "                           >= b[j] for j in constraints), \"constraints\")\n",
    "m.optimize()\n",
    "\n",
    "for var in m.getVars(): # descision variable\n",
    "    print(var.varName, '=', var.x, var.obj)\n",
    "\n",
    "#for con in m.getConstrs(): # constraints\n",
    "#    print(con.ConstrName, ': slack =', con.slack,', shadow price=',\n",
    "#          con.pi,',', (con.RHS, con.SARHSLow, con.SARHSUp))\n",
    "    \n",
    "print(\"objective value =\", m.objVal*1e6)"
   ]
  },
  {
   "cell_type": "code",
   "execution_count": 257,
   "metadata": {
    "colab": {
     "base_uri": "https://localhost:8080/"
    },
    "id": "OiLVs6GGBxE3",
    "outputId": "21f07ae8-b7fa-47ab-a8cf-82c545fc1e30"
   },
   "outputs": [
    {
     "name": "stdout",
     "output_type": "stream",
     "text": [
      "(3,) (3, 3) (3,)\n"
     ]
    },
    {
     "name": "stdout",
     "output_type": "stream",
     "text": [
      "Gurobi Optimizer version 9.5.0 build v9.5.0rc5 (mac64[x86])\n"
     ]
    },
    {
     "name": "stdout",
     "output_type": "stream",
     "text": [
      "Thread count: 6 physical cores, 12 logical processors, using up to 12 threads\n"
     ]
    },
    {
     "name": "stdout",
     "output_type": "stream",
     "text": [
      "Optimize a model with 3 rows, 3 columns and 9 nonzeros\n"
     ]
    },
    {
     "name": "stdout",
     "output_type": "stream",
     "text": [
      "Model fingerprint: 0x921de87a\n"
     ]
    },
    {
     "name": "stdout",
     "output_type": "stream",
     "text": [
      "Coefficient statistics:\n"
     ]
    },
    {
     "name": "stdout",
     "output_type": "stream",
     "text": [
      "  Matrix range     [5e+02, 5e+04]\n"
     ]
    },
    {
     "name": "stdout",
     "output_type": "stream",
     "text": [
      "  Objective range  [7e+03, 2e+04]\n"
     ]
    },
    {
     "name": "stdout",
     "output_type": "stream",
     "text": [
      "  Bounds range     [0e+00, 0e+00]\n"
     ]
    },
    {
     "name": "stdout",
     "output_type": "stream",
     "text": [
      "  RHS range        [2e+05, 2e+05]\n"
     ]
    },
    {
     "name": "stdout",
     "output_type": "stream",
     "text": [
      "Presolve time: 0.01s\n"
     ]
    },
    {
     "name": "stdout",
     "output_type": "stream",
     "text": [
      "Presolved: 3 rows, 3 columns, 9 nonzeros\n"
     ]
    },
    {
     "name": "stdout",
     "output_type": "stream",
     "text": [
      "\n"
     ]
    },
    {
     "name": "stdout",
     "output_type": "stream",
     "text": [
      "Iteration    Objective       Primal Inf.    Dual Inf.      Time\n"
     ]
    },
    {
     "name": "stdout",
     "output_type": "stream",
     "text": [
      "       0    0.0000000e+00   7.812500e+02   0.000000e+00      0s\n"
     ]
    },
    {
     "name": "stdout",
     "output_type": "stream",
     "text": [
      "       3    8.2946176e+04   0.000000e+00   0.000000e+00      0s\n"
     ]
    },
    {
     "name": "stdout",
     "output_type": "stream",
     "text": [
      "\n"
     ]
    },
    {
     "name": "stdout",
     "output_type": "stream",
     "text": [
      "Solved in 3 iterations and 0.01 seconds (0.00 work units)\n"
     ]
    },
    {
     "name": "stdout",
     "output_type": "stream",
     "text": [
      "Optimal objective  8.294617564e+04\n"
     ]
    },
    {
     "name": "stdout",
     "output_type": "stream",
     "text": [
      "x0 = 2.8895184135977336 25000.0\n",
      "x1 = 1.0198300283286117 7000.0\n",
      "x2 = 0.39660056657223786 9000.0\n",
      "objective value = 82946175637.39377\n"
     ]
    }
   ],
   "source": [
    "c = [25000,7000,9000]    \n",
    "A = [[53000,30000,41000],\n",
    "     [32000-1.5*21000,20000-1.5*10000,18000-1.5*23000 ],\n",
    "     [34000-.6*53000,12000-.6*30000,24000-.6*41000]]\n",
    "b =  [200000,0,0]\n",
    "print(np.array(c).shape,np.array(A).shape,np.array(b).shape)\n",
    "decision_variables = range(len(c))     \n",
    "constraints = range(np.array(A).shape[0])\n",
    "\n",
    "m = Model(\"C5Q17\")\n",
    "\n",
    "x = []\n",
    "for i in decision_variables:\n",
    "    x.append(m.addVar(lb = 0, vtype = GRB.CONTINUOUS, name = 'x' + str(i)))\n",
    "\n",
    "m.setObjective(quicksum(c[i] * x[i] for i in decision_variables) , GRB.MINIMIZE) \n",
    "m.addConstrs((quicksum(A[j][i] * x[i] for i in decision_variables) \n",
    "                           >= b[j] for j in constraints), \"constraints\")\n",
    "m.optimize()\n",
    "\n",
    "for var in m.getVars(): # descision variable\n",
    "    print(var.varName, '=', var.x, var.obj)\n",
    "\n",
    "#for con in m.getConstrs(): # constraints\n",
    "#    print(con.ConstrName, ': slack =', con.slack,', shadow price=',\n",
    "#          con.pi,',', (con.RHS, con.SARHSLow, con.SARHSUp))\n",
    "    \n",
    "print(\"objective value =\", m.objVal*1e6)"
   ]
  },
  {
   "cell_type": "markdown",
   "metadata": {
    "id": "r6-u97L_BxE3"
   },
   "source": [
    "# Chapter 5: Transportation, Transshipment, and Assignment Problems\n"
   ]
  },
  {
   "cell_type": "markdown",
   "metadata": {
    "id": "K2IecAD4CKTC"
   },
   "source": [
    "Characteristics of the Transportation Model: \n",
    "* A product is transported from several sources to a number of destinations at the **minimum** possible cost.\n",
    "* Each source can **supply** a fixed number of units of the product, and each destination has a fixed **demand** for the product.\n",
    "* The linear programming model has constraints for supply at each source and demand at each destination.\n",
    "* All constraints are equalities in a balanced transportation model where **supply equals demand**.\n",
    "* Constraints contain inequalities in **unbalanced** models where **supply does not equal demand**.\n"
   ]
  },
  {
   "cell_type": "markdown",
   "metadata": {
    "id": "HoDqFJMSDElQ"
   },
   "source": [
    "## Transportation Model Example\n",
    "How many tons of wheat to transport from each factory to each city on a monthly basis in order to **minimize** the total cost of transportation?\n",
    "\n",
    "Factory | Supply | City  | Demand\n",
    "-|-|-|-\n",
    "1. Kansas City | 150 | A. Chicago | 220\n",
    "2. Omaha | 175 | B. St. Louis | 100\n",
    "3. Des Moines | 275 | C. Cincinnati | 300\n",
    " Total | 600 | Total |600\n",
    "\n",
    "Transport Cost from factory to city ($/ton):\n",
    "\n",
    "Factory | A. Chicago | B. St. Louis  | C. Cincinnati\n",
    "-|-|-|-\n",
    "1. Kansas City | 6 | 8 | 10\n",
    "2. Omaha | 7 | 11 | 11\n",
    "3. Des Moines | 4 | 5 | 12\n",
    "\n",
    "The LP transportation model is the following:\n",
    "\\begin{align}\n",
    "&\\text{min}\\\\\n",
    "&\\qquad z=6x_{1A}+8x_{1B}+10x_{1C}\n",
    "+7x_{2A}+11x_{2B}+11x_{2C}\n",
    "+4x_{3A}+5x_{3B}+12x_{3C}\\\\\n",
    "&\\text{s.t.}\\\\\n",
    "&\\qquad x_{1A}+x_{1B}+x_{1C} = 150\\\\\n",
    "&\\qquad x_{2A}+x_{2B}+x_{2C} = 175\\\\\n",
    "&\\qquad x_{3A}+x_{3B}+x_{3C} = 275\\\\\n",
    "&\\qquad x_{1A}+x_{2A}+x_{3A} = 200\\\\\n",
    "&\\qquad x_{1B}+x_{2B}+x_{3B} = 100\\\\\n",
    "&\\qquad x_{1C}+x_{2C}+x_{3C} = 300\\\\\n",
    "&\\qquad x_{ij} \\ge 0~ \\text{and integer}\\\\\n",
    "\\end{align}  \n",
    "\n"
   ]
  },
  {
   "cell_type": "code",
   "execution_count": 258,
   "metadata": {
    "colab": {
     "base_uri": "https://localhost:8080/"
    },
    "id": "Zj3z2MM_BxE3",
    "outputId": "2b25e2f4-babb-4511-fbf3-fc3241088196"
   },
   "outputs": [
    {
     "name": "stdout",
     "output_type": "stream",
     "text": [
      "(9,) (6, 9) (6,)\n",
      "Gurobi Optimizer version 9.5.0 build v9.5.0rc5 (mac64[x86])\n"
     ]
    },
    {
     "name": "stdout",
     "output_type": "stream",
     "text": [
      "Thread count: 6 physical cores, 12 logical processors, using up to 12 threads\n"
     ]
    },
    {
     "name": "stdout",
     "output_type": "stream",
     "text": [
      "Optimize a model with 6 rows, 9 columns and 18 nonzeros\n"
     ]
    },
    {
     "name": "stdout",
     "output_type": "stream",
     "text": [
      "Model fingerprint: 0x9cd6d993\n"
     ]
    },
    {
     "name": "stdout",
     "output_type": "stream",
     "text": [
      "Variable types: 0 continuous, 9 integer (0 binary)\n"
     ]
    },
    {
     "name": "stdout",
     "output_type": "stream",
     "text": [
      "Coefficient statistics:\n"
     ]
    },
    {
     "name": "stdout",
     "output_type": "stream",
     "text": [
      "  Matrix range     [1e+00, 1e+00]\n"
     ]
    },
    {
     "name": "stdout",
     "output_type": "stream",
     "text": [
      "  Objective range  [4e+00, 1e+01]\n"
     ]
    },
    {
     "name": "stdout",
     "output_type": "stream",
     "text": [
      "  Bounds range     [0e+00, 0e+00]\n"
     ]
    },
    {
     "name": "stdout",
     "output_type": "stream",
     "text": [
      "  RHS range        [1e+02, 3e+02]\n"
     ]
    },
    {
     "name": "stdout",
     "output_type": "stream",
     "text": [
      "Presolve time: 0.00s\n"
     ]
    },
    {
     "name": "stdout",
     "output_type": "stream",
     "text": [
      "Presolved: 6 rows, 9 columns, 18 nonzeros\n"
     ]
    },
    {
     "name": "stdout",
     "output_type": "stream",
     "text": [
      "Variable types: 0 continuous, 9 integer (0 binary)\n"
     ]
    },
    {
     "name": "stdout",
     "output_type": "stream",
     "text": [
      "Found heuristic solution: objective 5725.0000000\n"
     ]
    },
    {
     "name": "stdout",
     "output_type": "stream",
     "text": [
      "Found heuristic solution: objective 4600.0000000\n"
     ]
    },
    {
     "name": "stdout",
     "output_type": "stream",
     "text": [
      "Found heuristic solution: objective 4525.0000000\n"
     ]
    },
    {
     "name": "stdout",
     "output_type": "stream",
     "text": [
      "\n"
     ]
    },
    {
     "name": "stdout",
     "output_type": "stream",
     "text": [
      "Root relaxation: cutoff, 3 iterations, 0.00 seconds (0.00 work units)\n"
     ]
    },
    {
     "name": "stdout",
     "output_type": "stream",
     "text": [
      "\n"
     ]
    },
    {
     "name": "stdout",
     "output_type": "stream",
     "text": [
      "    Nodes    |    Current Node    |     Objective Bounds      |     Work\n"
     ]
    },
    {
     "name": "stdout",
     "output_type": "stream",
     "text": [
      " Expl Unexpl |  Obj  Depth IntInf | Incumbent    BestBd   Gap | It/Node Time\n"
     ]
    },
    {
     "name": "stdout",
     "output_type": "stream",
     "text": [
      "\n"
     ]
    },
    {
     "name": "stdout",
     "output_type": "stream",
     "text": [
      "     0     0     cutoff    0      4525.00000 4525.00000  0.00%     -    0s\n"
     ]
    },
    {
     "name": "stdout",
     "output_type": "stream",
     "text": [
      "\n"
     ]
    },
    {
     "name": "stdout",
     "output_type": "stream",
     "text": [
      "Explored 1 nodes (3 simplex iterations) in 0.01 seconds (0.00 work units)\n"
     ]
    },
    {
     "name": "stdout",
     "output_type": "stream",
     "text": [
      "Thread count was 12 (of 12 available processors)\n"
     ]
    },
    {
     "name": "stdout",
     "output_type": "stream",
     "text": [
      "\n"
     ]
    },
    {
     "name": "stdout",
     "output_type": "stream",
     "text": [
      "Solution count 3: 4525 4600 5725 \n"
     ]
    },
    {
     "name": "stdout",
     "output_type": "stream",
     "text": [
      "\n"
     ]
    },
    {
     "name": "stdout",
     "output_type": "stream",
     "text": [
      "Optimal solution found (tolerance 1.00e-04)\n"
     ]
    },
    {
     "name": "stdout",
     "output_type": "stream",
     "text": [
      "Best objective 4.525000000000e+03, best bound 4.525000000000e+03, gap 0.0000%\n"
     ]
    },
    {
     "name": "stdout",
     "output_type": "stream",
     "text": [
      "x0 = -0.0 6.0\n",
      "x1 = -0.0 8.0\n",
      "x2 = 150.0 10.0\n",
      "x3 = 25.0 7.0\n",
      "x4 = -0.0 11.0\n",
      "x5 = 150.0 11.0\n",
      "x6 = 175.0 4.0\n",
      "x7 = 100.0 5.0\n",
      "x8 = -0.0 12.0\n",
      "objective value = 4525.0\n"
     ]
    }
   ],
   "source": [
    "# Transportation Model Example\n",
    "c = [6,8,10,7,11,11,4,5,12]    \n",
    "A = [[1,1,1,0,0,0,0,0,0],\n",
    "     [0,0,0,1,1,1,0,0,0],\n",
    "     [0,0,0,0,0,0,1,1,1],\n",
    "     [1,0,0,1,0,0,1,0,0],\n",
    "     [0,1,0,0,1,0,0,1,0],\n",
    "     [0,0,1,0,0,1,0,0,1]]\n",
    "b =  [150,175,275,200,100,300]\n",
    "print(np.array(c).shape,np.array(A).shape,np.array(b).shape)\n",
    "decision_variables = range(len(c))     \n",
    "constraints = range(np.array(A).shape[0])\n",
    "\n",
    "m = Model(\"example\")\n",
    "\n",
    "x = []\n",
    "for i in decision_variables:\n",
    "    x.append(m.addVar(lb = 0, vtype = GRB.INTEGER, name = 'x' + str(i)))\n",
    "\n",
    "m.setObjective(quicksum(c[i] * x[i] for i in decision_variables) , GRB.MINIMIZE) \n",
    "m.addConstrs((quicksum(A[j][i] * x[i] for i in decision_variables) \n",
    "                           == b[j] for j in constraints), \"constraints\")\n",
    "m.optimize()\n",
    "\n",
    "for var in m.getVars(): # descision variable\n",
    "    print(var.varName, '=', var.x, var.obj)\n",
    "\n",
    "#for con in m.getConstrs(): # constraints\n",
    "#    print(con.ConstrName, ': slack =', con.slack,', shadow price=',\n",
    "#          con.pi,',', (con.RHS, con.SARHSLow, con.SARHSUp))\n",
    "    \n",
    "print(\"objective value =\", m.objVal)"
   ]
  },
  {
   "cell_type": "markdown",
   "metadata": {
    "id": "9939Wv4jBxE3"
   },
   "source": [
    "## Problem Example: C6Q4\n",
    "Solve the following LP problem:\n",
    "\n",
    "\\begin{align}\n",
    "&\\text{min}\\\\\n",
    "&\\qquad z=14x_{A1} + 9x_{A2} + 16x_{A3} + 18x_{A4}\\\\\n",
    "&\\qquad ~~+ 11x_{B1} + 8x_{B2} + 100x_{B3} + 16x_{B4}\\\\\n",
    "&\\qquad ~~+ 16x_{C1} + 12x_{C2} + 10x_{C3} + 22x_{C4}\\\\\n",
    "&\\text{subject to}\\\\\n",
    "&\\qquad x_{A1} +x_{A2} +x_{A3} +x_{A4} \\le 150 \\\\\n",
    "&\\qquad x_{B1} +x_{B2} +x_{B3} +x_{B4} \\le 210\\\\ \n",
    "&\\qquad x_{C1} +x_{C2} +x_{C3} +x_{C4} \\le 320\\\\\n",
    "&\\qquad x_{A1} +x_{B1} +x_{C1} =130 \\\\\n",
    "&\\qquad x_{A2} +x_{B2} +x_{C2} =70 \\\\\n",
    "&\\qquad x_{A3} +x_{B3} +x_{C3} =180\\\\\n",
    "&\\qquad x_{A4} +x_{B4} +x_{C4} =240\\\\\n",
    "&\\qquad x_{ij} \\ge 0~ \\text{and integer}\\\\\n",
    "\\end{align}  \n"
   ]
  },
  {
   "cell_type": "code",
   "execution_count": 259,
   "metadata": {
    "colab": {
     "base_uri": "https://localhost:8080/"
    },
    "id": "ZWkWDS2ZBxE4",
    "outputId": "ad056025-8129-4a46-f92e-a102ae36bc92"
   },
   "outputs": [
    {
     "name": "stdout",
     "output_type": "stream",
     "text": [
      "(12,) (7, 12) (7,)\n",
      "Gurobi Optimizer version 9.5.0 build v9.5.0rc5 (mac64[x86])\n"
     ]
    },
    {
     "name": "stdout",
     "output_type": "stream",
     "text": [
      "Thread count: 6 physical cores, 12 logical processors, using up to 12 threads\n"
     ]
    },
    {
     "name": "stdout",
     "output_type": "stream",
     "text": [
      "Optimize a model with 7 rows, 12 columns and 24 nonzeros\n"
     ]
    },
    {
     "name": "stdout",
     "output_type": "stream",
     "text": [
      "Model fingerprint: 0xe2efa14f\n"
     ]
    },
    {
     "name": "stdout",
     "output_type": "stream",
     "text": [
      "Variable types: 0 continuous, 12 integer (0 binary)\n"
     ]
    },
    {
     "name": "stdout",
     "output_type": "stream",
     "text": [
      "Coefficient statistics:\n"
     ]
    },
    {
     "name": "stdout",
     "output_type": "stream",
     "text": [
      "  Matrix range     [1e+00, 1e+00]\n"
     ]
    },
    {
     "name": "stdout",
     "output_type": "stream",
     "text": [
      "  Objective range  [8e+00, 1e+03]\n"
     ]
    },
    {
     "name": "stdout",
     "output_type": "stream",
     "text": [
      "  Bounds range     [0e+00, 0e+00]\n"
     ]
    },
    {
     "name": "stdout",
     "output_type": "stream",
     "text": [
      "  RHS range        [7e+01, 3e+02]\n"
     ]
    },
    {
     "name": "stdout",
     "output_type": "stream",
     "text": [
      "Found heuristic solution: objective 8450.0000000\n"
     ]
    },
    {
     "name": "stdout",
     "output_type": "stream",
     "text": [
      "Presolve time: 0.00s\n"
     ]
    },
    {
     "name": "stdout",
     "output_type": "stream",
     "text": [
      "Presolved: 7 rows, 12 columns, 24 nonzeros\n"
     ]
    },
    {
     "name": "stdout",
     "output_type": "stream",
     "text": [
      "Variable types: 0 continuous, 12 integer (0 binary)\n"
     ]
    },
    {
     "name": "stdout",
     "output_type": "stream",
     "text": [
      "Found heuristic solution: objective 8444.0000000\n"
     ]
    },
    {
     "name": "stdout",
     "output_type": "stream",
     "text": [
      "\n"
     ]
    },
    {
     "name": "stdout",
     "output_type": "stream",
     "text": [
      "Root relaxation: objective 8.260000e+03, 6 iterations, 0.00 seconds (0.00 work units)\n"
     ]
    },
    {
     "name": "stdout",
     "output_type": "stream",
     "text": [
      "\n"
     ]
    },
    {
     "name": "stdout",
     "output_type": "stream",
     "text": [
      "    Nodes    |    Current Node    |     Objective Bounds      |     Work\n"
     ]
    },
    {
     "name": "stdout",
     "output_type": "stream",
     "text": [
      " Expl Unexpl |  Obj  Depth IntInf | Incumbent    BestBd   Gap | It/Node Time\n"
     ]
    },
    {
     "name": "stdout",
     "output_type": "stream",
     "text": [
      "\n"
     ]
    },
    {
     "name": "stdout",
     "output_type": "stream",
     "text": [
      "*    0     0               0    8260.0000000 8260.00000  0.00%     -    0s\n"
     ]
    },
    {
     "name": "stdout",
     "output_type": "stream",
     "text": [
      "\n"
     ]
    },
    {
     "name": "stdout",
     "output_type": "stream",
     "text": [
      "Explored 1 nodes (6 simplex iterations) in 0.01 seconds (0.00 work units)\n"
     ]
    },
    {
     "name": "stdout",
     "output_type": "stream",
     "text": [
      "Thread count was 12 (of 12 available processors)\n"
     ]
    },
    {
     "name": "stdout",
     "output_type": "stream",
     "text": [
      "\n"
     ]
    },
    {
     "name": "stdout",
     "output_type": "stream",
     "text": [
      "Solution count 3: 8260 8444 8450 \n"
     ]
    },
    {
     "name": "stdout",
     "output_type": "stream",
     "text": [
      "\n"
     ]
    },
    {
     "name": "stdout",
     "output_type": "stream",
     "text": [
      "Optimal solution found (tolerance 1.00e-04)\n"
     ]
    },
    {
     "name": "stdout",
     "output_type": "stream",
     "text": [
      "Best objective 8.260000000000e+03, best bound 8.260000000000e+03, gap 0.0000%\n"
     ]
    },
    {
     "name": "stdout",
     "output_type": "stream",
     "text": [
      "x0 = -0.0 14.0\n",
      "x1 = 0.0 9.0\n",
      "x2"
     ]
    },
    {
     "name": "stdout",
     "output_type": "stream",
     "text": [
      " = -0.0 16.0\n",
      "x3 = 150.0 18.0\n",
      "x4 = 120.0 11.0\n",
      "x5 = -0.0 8.0\n",
      "x6 = -0.0 1000.0\n",
      "x7 = 90.0 16.0\n",
      "x8 = 10.0 16.0\n",
      "x9 = 70.0 12.0\n",
      "x10 = 180.0 10.0\n",
      "x11 = -0.0 22.0\n",
      "objective value = 8260.0\n"
     ]
    }
   ],
   "source": [
    "c = [14,9,16,18,11,8,1000,16,16,12,10,22]    \n",
    "A = [[1,1,1,1,0,0,0,0,0,0,0,0],\n",
    "     [0,0,0,0,1,1,1,1,0,0,0,0],\n",
    "     [0,0,0,0,0,0,0,0,1,1,1,1],\n",
    "     [1,0,0,0,1,0,0,0,1,0,0,0],\n",
    "     [0,1,0,0,0,1,0,0,0,1,0,0],\n",
    "     [0,0,1,0,0,0,1,0,0,0,1,0],\n",
    "     [0,0,0,1,0,0,0,1,0,0,0,1]]\n",
    "b =  [150,210,320,130,70,180,240]\n",
    "print(np.array(c).shape,np.array(A).shape,np.array(b).shape)\n",
    "decision_variables = range(len(c))     \n",
    "constraints = range(np.array(A).shape[0])\n",
    "\n",
    "m = Model(\"example\")\n",
    "\n",
    "x = []\n",
    "for i in decision_variables:\n",
    "    x.append(m.addVar(lb = 0, vtype = GRB.INTEGER, name = 'x' + str(i)))\n",
    "\n",
    "m.setObjective(quicksum(c[i] * x[i] for i in decision_variables) , GRB.MINIMIZE) \n",
    "\n",
    "m.addConstrs((quicksum(A[j][i] * x[i] for i in decision_variables) \n",
    "                           <= b[j] for j in constraints[:3]), \"constraints\")\n",
    "\n",
    "m.addConstrs((quicksum(A[j][i] * x[i] for i in decision_variables) \n",
    "                           == b[j] for j in constraints[3:]), \"constraints\")\n",
    "              \n",
    "m.optimize()\n",
    "\n",
    "for var in m.getVars(): # descision variable\n",
    "    print(var.varName, '=', var.x, var.obj)\n",
    "\n",
    "#for con in m.getConstrs(): # constraints\n",
    "#    print(con.ConstrName, ': slack =', con.slack,', shadow price=',\n",
    "#          con.pi,',', (con.RHS, con.SARHSLow, con.SARHSUp))\n",
    "    \n",
    "print(\"objective value =\", m.objVal)"
   ]
  },
  {
   "cell_type": "code",
   "execution_count": 260,
   "metadata": {
    "colab": {
     "base_uri": "https://localhost:8080/"
    },
    "id": "LmoE99NEBxE4",
    "outputId": "6df0067f-21aa-4390-be37-cca4d8833a89"
   },
   "outputs": [
    {
     "name": "stdout",
     "output_type": "stream",
     "text": [
      "(12,) (7, 12) (7,)\n",
      "Gurobi Optimizer version 9.5.0 build v9.5.0rc5 (mac64[x86])\n"
     ]
    },
    {
     "name": "stdout",
     "output_type": "stream",
     "text": [
      "Thread count: 6 physical cores, 12 logical processors, using up to 12 threads\n"
     ]
    },
    {
     "name": "stdout",
     "output_type": "stream",
     "text": [
      "Optimize a model with 7 rows, 12 columns and 24 nonzeros\n"
     ]
    },
    {
     "name": "stdout",
     "output_type": "stream",
     "text": [
      "Model fingerprint: 0x65203382\n"
     ]
    },
    {
     "name": "stdout",
     "output_type": "stream",
     "text": [
      "Variable types: 0 continuous, 12 integer (0 binary)\n"
     ]
    },
    {
     "name": "stdout",
     "output_type": "stream",
     "text": [
      "Coefficient statistics:\n"
     ]
    },
    {
     "name": "stdout",
     "output_type": "stream",
     "text": [
      "  Matrix range     [1e+00, 1e+00]\n"
     ]
    },
    {
     "name": "stdout",
     "output_type": "stream",
     "text": [
      "  Objective range  [8e+00, 1e+03]\n"
     ]
    },
    {
     "name": "stdout",
     "output_type": "stream",
     "text": [
      "  Bounds range     [0e+00, 0e+00]\n"
     ]
    },
    {
     "name": "stdout",
     "output_type": "stream",
     "text": [
      "  RHS range        [7e+01, 3e+02]\n"
     ]
    },
    {
     "name": "stdout",
     "output_type": "stream",
     "text": [
      "Found heuristic solution: objective 28310.000000\n"
     ]
    },
    {
     "name": "stdout",
     "output_type": "stream",
     "text": [
      "Presolve time: 0.00s\n"
     ]
    },
    {
     "name": "stdout",
     "output_type": "stream",
     "text": [
      "Presolved: 7 rows, 12 columns, 24 nonzeros\n"
     ]
    },
    {
     "name": "stdout",
     "output_type": "stream",
     "text": [
      "Variable types: 0 continuous, 12 integer (0 binary)\n"
     ]
    },
    {
     "name": "stdout",
     "output_type": "stream",
     "text": [
      "Found heuristic solution: objective 27321.000000\n"
     ]
    },
    {
     "name": "stdout",
     "output_type": "stream",
     "text": [
      "\n"
     ]
    },
    {
     "name": "stdout",
     "output_type": "stream",
     "text": [
      "Root relaxation: objective 8.260000e+03, 6 iterations, 0.00 seconds (0.00 work units)\n"
     ]
    },
    {
     "name": "stdout",
     "output_type": "stream",
     "text": [
      "\n"
     ]
    },
    {
     "name": "stdout",
     "output_type": "stream",
     "text": [
      "    Nodes    |    Current Node    |     Objective Bounds      |     Work\n"
     ]
    },
    {
     "name": "stdout",
     "output_type": "stream",
     "text": [
      " Expl Unexpl |  Obj  Depth IntInf | Incumbent    BestBd   Gap | It/Node Time\n"
     ]
    },
    {
     "name": "stdout",
     "output_type": "stream",
     "text": [
      "\n"
     ]
    },
    {
     "name": "stdout",
     "output_type": "stream",
     "text": [
      "*    0     0               0    8260.0000000 8260.00000  0.00%     -    0s\n"
     ]
    },
    {
     "name": "stdout",
     "output_type": "stream",
     "text": [
      "\n"
     ]
    },
    {
     "name": "stdout",
     "output_type": "stream",
     "text": [
      "Explored 1 nodes (6 simplex iterations) in 0.01 seconds (0.00 work units)\n"
     ]
    },
    {
     "name": "stdout",
     "output_type": "stream",
     "text": [
      "Thread count was 12 (of 12 available processors)\n"
     ]
    },
    {
     "name": "stdout",
     "output_type": "stream",
     "text": [
      "\n"
     ]
    },
    {
     "name": "stdout",
     "output_type": "stream",
     "text": [
      "Solution count 3: 8260 27321 28310 \n"
     ]
    },
    {
     "name": "stdout",
     "output_type": "stream",
     "text": [
      "\n"
     ]
    },
    {
     "name": "stdout",
     "output_type": "stream",
     "text": [
      "Optimal solution found (tolerance 1.00e-04)\n"
     ]
    },
    {
     "name": "stdout",
     "output_type": "stream",
     "text": [
      "Best objective 8.260000000000e+03, best bound 8.260000000000e+03, gap 0.0000%\n"
     ]
    },
    {
     "name": "stdout",
     "output_type": "stream",
     "text": [
      "x0 = -0.0 14.0\n",
      "x1 = 0.0 9.0\n",
      "x2 = -0.0 16.0\n",
      "x3 = 150.0 18.0\n",
      "x4 = 120.0 11.0\n",
      "x5 = -0.0 8.0\n",
      "x6 = -0.0 1000.0\n",
      "x7 = 90.0 16.0\n",
      "x8 = 10.0 16.0\n",
      "x9 = 70.0 12.0\n",
      "x10 = 180.0 10.0\n",
      "x11 = -0.0 22.0\n",
      "objective value = 8260.0\n"
     ]
    }
   ],
   "source": [
    "c = [14,9,16,18,11,8,1000,16,16,12,10,22]    \n",
    "A = [[1,1,1,1,0,0,0,0,0,0,0,0],\n",
    "     [0,0,0,0,1,1,1,1,0,0,0,0],\n",
    "     [0,0,0,0,0,0,0,0,1,1,1,1],\n",
    "     [1,0,0,0,1,0,0,0,1,0,0,0],\n",
    "     [0,1,0,0,0,1,0,0,0,1,0,0],\n",
    "     [0,0,1,0,0,0,1,0,0,0,1,0],\n",
    "     [0,0,0,1,0,0,0,1,0,0,0,1]]\n",
    "b =  [150,210,290,130,70,180,240]\n",
    "print(np.array(c).shape,np.array(A).shape,np.array(b).shape)\n",
    "decision_variables = range(len(c))     \n",
    "constraints = range(np.array(A).shape[0])\n",
    "\n",
    "m = Model(\"example\")\n",
    "\n",
    "x = []\n",
    "for i in decision_variables:\n",
    "    x.append(m.addVar(lb = 0, vtype = GRB.INTEGER, name = 'x' + str(i)))\n",
    "\n",
    "m.setObjective(quicksum(c[i] * x[i] for i in decision_variables) , GRB.MINIMIZE) \n",
    "\n",
    "m.addConstrs((quicksum(A[j][i] * x[i] for i in decision_variables) \n",
    "                           <= b[j] for j in constraints[:3]), \"constraints\")\n",
    "\n",
    "m.addConstrs((quicksum(A[j][i] * x[i] for i in decision_variables) \n",
    "                           == b[j] for j in constraints[3:]), \"constraints\")\n",
    "              \n",
    "m.optimize()\n",
    "\n",
    "for var in m.getVars(): # descision variable\n",
    "    print(var.varName, '=', var.x, var.obj)\n",
    "\n",
    "#for con in m.getConstrs(): # constraints\n",
    "#    print(con.ConstrName, ': slack =', con.slack,', shadow price=',\n",
    "#          con.pi,',', (con.RHS, con.SARHSLow, con.SARHSUp))\n",
    "    \n",
    "print(\"objective value =\", m.objVal)"
   ]
  },
  {
   "cell_type": "markdown",
   "metadata": {
    "id": "T-iV4LzkBxE4"
   },
   "source": [
    "## Problem Example: C6Q30\n",
    "Transshipment probelm is an extension of the transportation model in which intermediate trans-shipment points are added between sources and destinations."
   ]
  },
  {
   "cell_type": "code",
   "execution_count": 261,
   "metadata": {
    "colab": {
     "base_uri": "https://localhost:8080/"
    },
    "id": "k63ZZrMiBxE4",
    "outputId": "66aa9e24-7387-4782-f7d8-94c5f74dbea8"
   },
   "outputs": [
    {
     "name": "stdout",
     "output_type": "stream",
     "text": [
      "(18,) (9, 18) (9,)\n",
      "Gurobi Optimizer version 9.5.0 build v9.5.0rc5 (mac64[x86])\n"
     ]
    },
    {
     "name": "stdout",
     "output_type": "stream",
     "text": [
      "Thread count: 6 physical cores, 12 logical processors, using up to 12 threads\n"
     ]
    },
    {
     "name": "stdout",
     "output_type": "stream",
     "text": [
      "Optimize a model with 9 rows, 18 columns and 36 nonzeros\n"
     ]
    },
    {
     "name": "stdout",
     "output_type": "stream",
     "text": [
      "Model fingerprint: 0x6661d933\n"
     ]
    },
    {
     "name": "stdout",
     "output_type": "stream",
     "text": [
      "Variable types: 0 continuous, 18 integer (0 binary)\n"
     ]
    },
    {
     "name": "stdout",
     "output_type": "stream",
     "text": [
      "Coefficient statistics:\n"
     ]
    },
    {
     "name": "stdout",
     "output_type": "stream",
     "text": [
      "  Matrix range     [1e+00, 1e+00]\n"
     ]
    },
    {
     "name": "stdout",
     "output_type": "stream",
     "text": [
      "  Objective range  [6e+01, 6e+02]\n"
     ]
    },
    {
     "name": "stdout",
     "output_type": "stream",
     "text": [
      "  Bounds range     [0e+00, 0e+00]\n"
     ]
    },
    {
     "name": "stdout",
     "output_type": "stream",
     "text": [
      "  RHS range        [4e+01, 8e+01]\n"
     ]
    },
    {
     "name": "stdout",
     "output_type": "stream",
     "text": [
      "Found heuristic solution: objective 89740.000000\n"
     ]
    },
    {
     "name": "stdout",
     "output_type": "stream",
     "text": [
      "Presolve time: 0.00s\n"
     ]
    },
    {
     "name": "stdout",
     "output_type": "stream",
     "text": [
      "Presolved: 9 rows, 18 columns, 36 nonzeros\n"
     ]
    },
    {
     "name": "stdout",
     "output_type": "stream",
     "text": [
      "Variable types: 0 continuous, 18 integer (0 binary)\n"
     ]
    },
    {
     "name": "stdout",
     "output_type": "stream",
     "text": [
      "Found heuristic solution: objective 89600.000000\n"
     ]
    },
    {
     "name": "stdout",
     "output_type": "stream",
     "text": [
      "\n"
     ]
    },
    {
     "name": "stdout",
     "output_type": "stream",
     "text": [
      "Root relaxation: objective 7.736200e+04, 10 iterations, 0.00 seconds (0.00 work units)\n"
     ]
    },
    {
     "name": "stdout",
     "output_type": "stream",
     "text": [
      "\n"
     ]
    },
    {
     "name": "stdout",
     "output_type": "stream",
     "text": [
      "    Nodes    |    Current Node    |     Objective Bounds      |     Work\n"
     ]
    },
    {
     "name": "stdout",
     "output_type": "stream",
     "text": [
      " Expl Unexpl |  Obj  Depth IntInf | Incumbent    BestBd   Gap | It/Node Time\n"
     ]
    },
    {
     "name": "stdout",
     "output_type": "stream",
     "text": [
      "\n"
     ]
    },
    {
     "name": "stdout",
     "output_type": "stream",
     "text": [
      "*    0     0               0    77362.000000 77362.0000  0.00%     -    0s\n"
     ]
    },
    {
     "name": "stdout",
     "output_type": "stream",
     "text": [
      "\n"
     ]
    },
    {
     "name": "stdout",
     "output_type": "stream",
     "text": [
      "Explored 1 nodes (10 simplex iterations) in 0.01 seconds (0.00 work units)\n"
     ]
    },
    {
     "name": "stdout",
     "output_type": "stream",
     "text": [
      "Thread count was 12 (of 12 available processors)\n"
     ]
    },
    {
     "name": "stdout",
     "output_type": "stream",
     "text": [
      "\n"
     ]
    },
    {
     "name": "stdout",
     "output_type": "stream",
     "text": [
      "Solution count 3: 77362 89600 89740 \n"
     ]
    },
    {
     "name": "stdout",
     "output_type": "stream",
     "text": [
      "\n"
     ]
    },
    {
     "name": "stdout",
     "output_type": "stream",
     "text": [
      "Optimal solution found (tolerance 1.00e-04)\n"
     ]
    },
    {
     "name": "stdout",
     "output_type": "stream",
     "text": [
      "Best objective 7.736200000000e+04, best bound 7.736200000000e+04, gap 0.0000%\n"
     ]
    },
    {
     "name": "stdout",
     "output_type": "stream",
     "text": [
      "x0 = 42.0 420.0\n",
      "x1 = 13.0 390.0\n",
      "x2 = -0.0 610.0\n",
      "x3 = -0.0 510.0\n",
      "x4 = -0.0 590.0\n",
      "x5 = 63.0 470.0\n",
      "x6 = -0.0 450.0\n",
      "x7 = 37.0 360.0\n",
      "x8 = -0.0 380.0\n",
      "x9 = -0.0 75.0\n",
      "x10 = 42.0 63.0\n",
      "x11 = -0.0 81.0\n",
      "x12 = -0.0 125.0\n",
      "x13 = -0.0 110.0\n",
      "x14 = 50.0 95.0\n",
      "x15 = 60.0 68.0\n",
      "x16 = 3.0 82.0\n",
      "x17 = 0.0 95.0\n",
      "objective value = 77362.0\n"
     ]
    }
   ],
   "source": [
    "c = [420,390,610,510,590,470,450,360,380,75,63,81,125,110,95,68,82,95]    \n",
    "A = [[1,1,1,0,0,0,0,0,0,0,0,0,0,0,0,0,0,0],\n",
    "     [0,0,0,1,1,1,0,0,0,0,0,0,0,0,0,0,0,0],\n",
    "     [0,0,0,0,0,0,1,1,1,0,0,0,0,0,0,0,0,0],\n",
    "     [0,0,0,0,0,0,0,0,0,1,0,0,1,0,0,1,0,0],\n",
    "     [0,0,0,0,0,0,0,0,0,0,1,0,0,1,0,0,1,0],\n",
    "     [0,0,0,0,0,0,0,0,0,0,0,1,0,0,1,0,0,1],\n",
    "     [1,0,0,1,0,0,1,0,0,-1,-1,-1,0,0,0,0,0,0],\n",
    "     [0,1,0,0,1,0,0,1,0,0,0,0,-1,-1,-1,0,0,0],\n",
    "     [0,0,1,0,0,1,0,0,1,0,0,0,0,0,0,-1,-1,-1]]\n",
    "b =  [55,78,37,60,45,50,0,0,0]\n",
    "print(np.array(c).shape,np.array(A).shape,np.array(b).shape)\n",
    "decision_variables = range(len(c))     \n",
    "constraints = range(np.array(A).shape[0])\n",
    "\n",
    "m = Model(\"example\")\n",
    "\n",
    "x = []\n",
    "for i in decision_variables:\n",
    "    x.append(m.addVar(lb = 0, vtype = GRB.INTEGER, name = 'x' + str(i)))\n",
    "\n",
    "m.setObjective(quicksum(c[i] * x[i] for i in decision_variables) , GRB.MINIMIZE) \n",
    "\n",
    "m.addConstrs((quicksum(A[j][i] * x[i] for i in decision_variables) \n",
    "                           <= b[j] for j in constraints[:3]), \"constraints\")\n",
    "\n",
    "m.addConstrs((quicksum(A[j][i] * x[i] for i in decision_variables) \n",
    "                           == b[j] for j in constraints[3:]), \"constraints\")\n",
    "              \n",
    "m.optimize()\n",
    "\n",
    "for var in m.getVars(): # descision variable\n",
    "    print(var.varName, '=', var.x, var.obj)\n",
    "\n",
    "#for con in m.getConstrs(): # constraints\n",
    "#    print(con.ConstrName, ': slack =', con.slack,', shadow price=',\n",
    "#          con.pi,',', (con.RHS, con.SARHSLow, con.SARHSUp))\n",
    "    \n",
    "print(\"objective value =\", m.objVal)"
   ]
  },
  {
   "cell_type": "markdown",
   "metadata": {
    "id": "B1pXpLsEBxE5"
   },
   "source": [
    "##Problem Example: C6Q43\n",
    "Solve the following LP problem:\n",
    "\n",
    "\\begin{align}\n",
    "&\\text{min}\\\\\n",
    "&\\qquad z=12x_{1A} + 11x_{1B} + 8x_{1C} + 14x_{1D}\\\\\n",
    "&\\qquad~~+ 10x_{2A} + 9x_{2B} + 10x_{2C} + 8x_{2D}\\\\\n",
    "&\\qquad~~+ 14x_{3A} + 100x_{3B} + 7x_{3C} + 11x_{3D}\\\\ \n",
    "&\\qquad~~+ 6x_{4A} + 8x_{4B} + 10x_{4C} + 9x_{4D}\\\\\n",
    "&\\text{subject to}\\\\\n",
    "&\\qquad x_{1A} +x_{1B} +x_{1C} +x_{1D} =1 \\\\\n",
    "&\\qquad x_{2A} +x_{2B} +x_{2C} +x_{2D} =1 \\\\\n",
    "&\\qquad x_{3A} +x_{3B} +x_{3C} +x_{3D} =1 \\\\\n",
    "&\\qquad x_{4A} +x_{4B} +x_{4C} +x_{4D} =1 \\\\\n",
    "&\\qquad x_{1A} +x_{2A} +x_{3A} +x_{4A} =1 \\\\\n",
    "&\\qquad x_{1B} +x_{2B} +x_{3B} +x_{4B} =1 \\\\\n",
    "&\\qquad x_{1C} +x_{2C} +x_{3C} +x_{4C} =1 \\\\\n",
    "&\\qquad x_{1D} +x_{2D} +x_{3D} +x_{4D} =1 \\\\\n",
    "&\\qquad x_{ij} \\ge 0~ \\text{and integer}\\\\\n",
    "\\end{align} "
   ]
  },
  {
   "cell_type": "code",
   "execution_count": 262,
   "metadata": {
    "colab": {
     "base_uri": "https://localhost:8080/"
    },
    "id": "y8w9I-CEBxE5",
    "outputId": "9f8fa0bf-64d3-492c-ff53-1b0c2b13242f"
   },
   "outputs": [
    {
     "name": "stdout",
     "output_type": "stream",
     "text": [
      "(16,) (8, 16) (8,)\n",
      "Gurobi Optimizer version 9.5.0 build v9.5.0rc5 (mac64[x86])\n"
     ]
    },
    {
     "name": "stdout",
     "output_type": "stream",
     "text": [
      "Thread count: 6 physical cores, 12 logical processors, using up to 12 threads\n"
     ]
    },
    {
     "name": "stdout",
     "output_type": "stream",
     "text": [
      "Optimize a model with 8 rows, 16 columns and 32 nonzeros\n"
     ]
    },
    {
     "name": "stdout",
     "output_type": "stream",
     "text": [
      "Model fingerprint: 0xe843bdde\n"
     ]
    },
    {
     "name": "stdout",
     "output_type": "stream",
     "text": [
      "Variable types: 0 continuous, 16 integer (0 binary)\n"
     ]
    },
    {
     "name": "stdout",
     "output_type": "stream",
     "text": [
      "Coefficient statistics:\n"
     ]
    },
    {
     "name": "stdout",
     "output_type": "stream",
     "text": [
      "  Matrix range     [1e+00, 1e+00]\n"
     ]
    },
    {
     "name": "stdout",
     "output_type": "stream",
     "text": [
      "  Objective range  [6e+00, 1e+03]\n"
     ]
    },
    {
     "name": "stdout",
     "output_type": "stream",
     "text": [
      "  Bounds range     [0e+00, 0e+00]\n"
     ]
    },
    {
     "name": "stdout",
     "output_type": "stream",
     "text": [
      "  RHS range        [1e+00, 1e+00]\n"
     ]
    },
    {
     "name": "stdout",
     "output_type": "stream",
     "text": [
      "Found heuristic solution: objective 1027.0000000\n"
     ]
    },
    {
     "name": "stdout",
     "output_type": "stream",
     "text": [
      "Presolve time: 0.00s\n"
     ]
    },
    {
     "name": "stdout",
     "output_type": "stream",
     "text": [
      "Presolved: 8 rows, 16 columns, 32 nonzeros\n"
     ]
    },
    {
     "name": "stdout",
     "output_type": "stream",
     "text": [
      "Variable types: 0 continuous, 16 integer (16 binary)\n"
     ]
    },
    {
     "name": "stdout",
     "output_type": "stream",
     "text": [
      "\n"
     ]
    },
    {
     "name": "stdout",
     "output_type": "stream",
     "text": [
      "Root relaxation: objective 3.200000e+01, 6 iterations, 0.00 seconds (0.00 work units)\n"
     ]
    },
    {
     "name": "stdout",
     "output_type": "stream",
     "text": [
      "\n"
     ]
    },
    {
     "name": "stdout",
     "output_type": "stream",
     "text": [
      "    Nodes    |    Current Node    |     Objective Bounds      |     Work\n"
     ]
    },
    {
     "name": "stdout",
     "output_type": "stream",
     "text": [
      " Expl Unexpl |  Obj  Depth IntInf | Incumbent    BestBd   Gap | It/Node Time\n"
     ]
    },
    {
     "name": "stdout",
     "output_type": "stream",
     "text": [
      "\n"
     ]
    },
    {
     "name": "stdout",
     "output_type": "stream",
     "text": [
      "*    0     0               0      32.0000000   32.00000  0.00%     -    0s\n"
     ]
    },
    {
     "name": "stdout",
     "output_type": "stream",
     "text": [
      "\n"
     ]
    },
    {
     "name": "stdout",
     "output_type": "stream",
     "text": [
      "Explored 1 nodes (6 simplex iterations) in 0.01 seconds (0.00 work units)\n"
     ]
    },
    {
     "name": "stdout",
     "output_type": "stream",
     "text": [
      "Thread count was 12 (of 12 available processors)\n"
     ]
    },
    {
     "name": "stdout",
     "output_type": "stream",
     "text": [
      "\n"
     ]
    },
    {
     "name": "stdout",
     "output_type": "stream",
     "text": [
      "Solution count 2: 32 1027 \n"
     ]
    },
    {
     "name": "stdout",
     "output_type": "stream",
     "text": [
      "\n"
     ]
    },
    {
     "name": "stdout",
     "output_type": "stream",
     "text": [
      "Optimal solution found (tolerance 1.00e-04)\n"
     ]
    },
    {
     "name": "stdout",
     "output_type": "stream",
     "text": [
      "Best objective 3.200000000000e+01, best bound 3.200000000000e+01, gap 0.0000%\n"
     ]
    },
    {
     "name": "stdout",
     "output_type": "stream",
     "text": [
      "x0 = -0.0 12.0\n",
      "x1 = 1.0 11.0\n",
      "x2 = 0.0 8.0\n",
      "x3 = -0.0 14.0\n",
      "x4 = -0.0 10.0\n",
      "x5 = 0.0 9.0\n",
      "x6 = -0.0 10.0\n",
      "x7 = 1.0 8.0\n",
      "x8 = -0.0 14.0\n",
      "x9 = -0.0 1000.0\n",
      "x10 = 1.0 7.0\n",
      "x11 = -0.0 11.0\n",
      "x12 = 1.0 6.0\n",
      "x13 = -0.0 8.0\n",
      "x14 = -0.0 10.0\n",
      "x15 = -0.0 9.0\n",
      "objective value = 32.0\n"
     ]
    }
   ],
   "source": [
    "c = [12,11,8,14,10,9,10,8,14,1000,7,11,6,8,10,9]    \n",
    "A = [[1,1,1,1,0,0,0,0,0,0,0,0,0,0,0,0],\n",
    "     [0,0,0,0,1,1,1,1,0,0,0,0,0,0,0,0],\n",
    "     [0,0,0,0,0,0,0,0,1,1,1,1,0,0,0,0],\n",
    "     [0,0,0,0,0,0,0,0,0,0,0,0,1,1,1,1],\n",
    "     [1,0,0,0,1,0,0,0,1,0,0,0,1,0,0,0],\n",
    "     [0,1,0,0,0,1,0,0,0,1,0,0,0,1,0,0],\n",
    "     [0,0,1,0,0,0,1,0,0,0,1,0,0,0,1,0],\n",
    "     [0,0,0,1,0,0,0,1,0,0,0,1,0,0,0,1]]\n",
    "b =  [1,1,1,1,1,1,1,1]\n",
    "print(np.array(c).shape,np.array(A).shape,np.array(b).shape)\n",
    "decision_variables = range(len(c))     \n",
    "constraints = range(np.array(A).shape[0])\n",
    "\n",
    "m = Model(\"example\")\n",
    "\n",
    "x = []\n",
    "for i in decision_variables:\n",
    "    x.append(m.addVar(lb = 0, vtype = GRB.INTEGER, name = 'x' + str(i)))\n",
    "\n",
    "m.setObjective(quicksum(c[i] * x[i] for i in decision_variables) , GRB.MINIMIZE) \n",
    "\n",
    "m.addConstrs((quicksum(A[j][i] * x[i] for i in decision_variables) \n",
    "                           == b[j] for j in constraints), \"constraints\")\n",
    "           \n",
    "m.optimize()\n",
    "\n",
    "for var in m.getVars(): # descision variable\n",
    "    print(var.varName, '=', var.x, var.obj)\n",
    "\n",
    "#for con in m.getConstrs(): # constraints\n",
    "#    print(con.ConstrName, ': slack =', con.slack,', shadow price=',\n",
    "#          con.pi,',', (con.RHS, con.SARHSLow, con.SARHSUp))\n",
    "    \n",
    "print(\"objective value =\", m.objVal)"
   ]
  },
  {
   "cell_type": "markdown",
   "metadata": {
    "id": "imj_IEQRx4HU"
   },
   "source": [
    "# Chapter 5: Multicriteria Decision Making"
   ]
  },
  {
   "cell_type": "markdown",
   "metadata": {
    "id": "xtVdQSLILmdP"
   },
   "source": [
    "Goal programming is a variation of linear programming considering more than one objective (goals) in the objective function. Goal programming solutions do not always achieve all goals and they are not optimal; they achieve the best or most satisfactory solution possible.\n",
    "\n",
    "Goal Constraint Requirements:\n",
    "* All goal constraints are equalities that include deviational variables $d^-$ and $d^+$\n",
    "* A negative deviational variable, $d^-$, is the amount by which a goal level is **under-achieved**\n",
    "* A positive deviational variable, $d^+$, is the amount by which a goal level is **exceeded**\n",
    "* **At least one** or both deviational variables in a goal constraint must equal zero\n",
    "* The objective function seeks to **minimize** the deviation from the respective goals in the order of the goal priorities.\n",
    "\n",
    "\n",
    "\n",
    " \n"
   ]
  },
  {
   "cell_type": "markdown",
   "metadata": {
    "id": "AlXtLSFeNRxo"
   },
   "source": [
    "##Goal programming example:\n",
    "Solve the following problem:\n",
    "\n",
    "\\begin{align}\n",
    "&\\text{min}\\\\\n",
    "&\\qquad z=P_1d_1^-,P_2d_2^-,P_3d_3^+,P_4d_1^+\\\\\n",
    "&\\text{s.t.}\\\\\n",
    "&\\qquad x_1+2x_2+d_1^--d_1^+=40\\\\\n",
    "&\\qquad 40x_1+50x_2+d_2^--d_2^+=1600\\\\\n",
    "&\\qquad 4x_1+3x_2+d_3^--d_3^+=120\\\\\n",
    "&\\qquad x_i,d_j^-,d_j^+ \\ge 0~ \\text{and integer}\\\\\n",
    "\\end{align}  \n"
   ]
  },
  {
   "cell_type": "code",
   "execution_count": 263,
   "metadata": {
    "colab": {
     "base_uri": "https://localhost:8080/"
    },
    "id": "URHnNCwMyAwX",
    "outputId": "55ecf374-cc0f-4ca6-ad07-b42cffbd43b0"
   },
   "outputs": [
    {
     "name": "stdout",
     "output_type": "stream",
     "text": [
      "Gurobi Optimizer version 9.5.0 build v9.5.0rc5 (mac64[x86])\n"
     ]
    },
    {
     "name": "stdout",
     "output_type": "stream",
     "text": [
      "Thread count: 6 physical cores, 12 logical processors, using up to 12 threads\n"
     ]
    },
    {
     "name": "stdout",
     "output_type": "stream",
     "text": [
      "Optimize a model with 3 rows, 8 columns and 12 nonzeros\n"
     ]
    },
    {
     "name": "stdout",
     "output_type": "stream",
     "text": [
      "Model fingerprint: 0xedfe4e5b\n"
     ]
    },
    {
     "name": "stdout",
     "output_type": "stream",
     "text": [
      "Variable types: 0 continuous, 8 integer (0 binary)\n"
     ]
    },
    {
     "name": "stdout",
     "output_type": "stream",
     "text": [
      "Coefficient statistics:\n"
     ]
    },
    {
     "name": "stdout",
     "output_type": "stream",
     "text": [
      "  Matrix range     [1e+00, 5e+01]\n"
     ]
    },
    {
     "name": "stdout",
     "output_type": "stream",
     "text": [
      "  Objective range  [1e+00, 1e+00]\n"
     ]
    },
    {
     "name": "stdout",
     "output_type": "stream",
     "text": [
      "  Bounds range     [0e+00, 0e+00]\n"
     ]
    },
    {
     "name": "stdout",
     "output_type": "stream",
     "text": [
      "  RHS range        [4e+01, 2e+03]\n"
     ]
    },
    {
     "name": "stdout",
     "output_type": "stream",
     "text": [
      "\n"
     ]
    },
    {
     "name": "stdout",
     "output_type": "stream",
     "text": [
      "---------------------------------------------------------------------------\n"
     ]
    },
    {
     "name": "stdout",
     "output_type": "stream",
     "text": [
      "Multi-objectives: starting optimization with 4 objectives ... \n"
     ]
    },
    {
     "name": "stdout",
     "output_type": "stream",
     "text": [
      "---------------------------------------------------------------------------\n"
     ]
    },
    {
     "name": "stdout",
     "output_type": "stream",
     "text": [
      "\n"
     ]
    },
    {
     "name": "stdout",
     "output_type": "stream",
     "text": [
      "Multi-objectives: applying initial presolve ...\n"
     ]
    },
    {
     "name": "stdout",
     "output_type": "stream",
     "text": [
      "---------------------------------------------------------------------------\n"
     ]
    },
    {
     "name": "stdout",
     "output_type": "stream",
     "text": [
      "\n"
     ]
    },
    {
     "name": "stdout",
     "output_type": "stream",
     "text": [
      "Presolve time: 0.00s\n"
     ]
    },
    {
     "name": "stdout",
     "output_type": "stream",
     "text": [
      "Presolved: 3 rows and 8 columns\n"
     ]
    },
    {
     "name": "stdout",
     "output_type": "stream",
     "text": [
      "---------------------------------------------------------------------------\n"
     ]
    },
    {
     "name": "stdout",
     "output_type": "stream",
     "text": [
      "\n"
     ]
    },
    {
     "name": "stdout",
     "output_type": "stream",
     "text": [
      "Multi-objectives: optimize objective 1 () ...\n"
     ]
    },
    {
     "name": "stdout",
     "output_type": "stream",
     "text": [
      "---------------------------------------------------------------------------\n"
     ]
    },
    {
     "name": "stdout",
     "output_type": "stream",
     "text": [
      "\n"
     ]
    },
    {
     "name": "stdout",
     "output_type": "stream",
     "text": [
      "Presolve removed 3 rows and 8 columns\n"
     ]
    },
    {
     "name": "stdout",
     "output_type": "stream",
     "text": [
      "Presolve time: 0.00s\n"
     ]
    },
    {
     "name": "stdout",
     "output_type": "stream",
     "text": [
      "Presolve: All rows and columns removed\n"
     ]
    },
    {
     "name": "stdout",
     "output_type": "stream",
     "text": [
      "\n"
     ]
    },
    {
     "name": "stdout",
     "output_type": "stream",
     "text": [
      "Explored 0 nodes (0 simplex iterations) in 0.01 seconds (0.00 work units)\n"
     ]
    },
    {
     "name": "stdout",
     "output_type": "stream",
     "text": [
      "Thread count was 1 (of 12 available processors)\n"
     ]
    },
    {
     "name": "stdout",
     "output_type": "stream",
     "text": [
      "\n"
     ]
    },
    {
     "name": "stdout",
     "output_type": "stream",
     "text": [
      "Solution count 1: 0 \n"
     ]
    },
    {
     "name": "stdout",
     "output_type": "stream",
     "text": [
      "\n"
     ]
    },
    {
     "name": "stdout",
     "output_type": "stream",
     "text": [
      "Optimal solution found (tolerance 1.00e-04)\n"
     ]
    },
    {
     "name": "stdout",
     "output_type": "stream",
     "text": [
      "Best objective 0.000000000000e+00, best bound 0.000000000000e+00, gap 0.0000%\n"
     ]
    },
    {
     "name": "stdout",
     "output_type": "stream",
     "text": [
      "---------------------------------------------------------------------------\n"
     ]
    },
    {
     "name": "stdout",
     "output_type": "stream",
     "text": [
      "\n"
     ]
    },
    {
     "name": "stdout",
     "output_type": "stream",
     "text": [
      "Multi-objectives: optimize objective 2 () ...\n"
     ]
    },
    {
     "name": "stdout",
     "output_type": "stream",
     "text": [
      "---------------------------------------------------------------------------\n"
     ]
    },
    {
     "name": "stdout",
     "output_type": "stream",
     "text": [
      "\n"
     ]
    },
    {
     "name": "stdout",
     "output_type": "stream",
     "text": [
      "\n"
     ]
    },
    {
     "name": "stdout",
     "output_type": "stream",
     "text": [
      "Loaded user MIP start with objective 0\n"
     ]
    },
    {
     "name": "stdout",
     "output_type": "stream",
     "text": [
      "\n"
     ]
    },
    {
     "name": "stdout",
     "output_type": "stream",
     "text": [
      "\n"
     ]
    },
    {
     "name": "stdout",
     "output_type": "stream",
     "text": [
      "Explored 0 nodes (0 simplex iterations) in 0.02 seconds (0.00 work units)\n"
     ]
    },
    {
     "name": "stdout",
     "output_type": "stream",
     "text": [
      "Thread count was 1 (of 12 available processors)\n"
     ]
    },
    {
     "name": "stdout",
     "output_type": "stream",
     "text": [
      "\n"
     ]
    },
    {
     "name": "stdout",
     "output_type": "stream",
     "text": [
      "Solution count 1: 0 \n"
     ]
    },
    {
     "name": "stdout",
     "output_type": "stream",
     "text": [
      "\n"
     ]
    },
    {
     "name": "stdout",
     "output_type": "stream",
     "text": [
      "Optimal solution found (tolerance 1.00e-04)\n"
     ]
    },
    {
     "name": "stdout",
     "output_type": "stream",
     "text": [
      "Best objective 0.000000000000e+00, best bound 0.000000000000e+00, gap 0.0000%\n"
     ]
    },
    {
     "name": "stdout",
     "output_type": "stream",
     "text": [
      "---------------------------------------------------------------------------\n"
     ]
    },
    {
     "name": "stdout",
     "output_type": "stream",
     "text": [
      "\n"
     ]
    },
    {
     "name": "stdout",
     "output_type": "stream",
     "text": [
      "Multi-objectives: optimize objective 3 () ...\n"
     ]
    },
    {
     "name": "stdout",
     "output_type": "stream",
     "text": [
      "---------------------------------------------------------------------------\n"
     ]
    },
    {
     "name": "stdout",
     "output_type": "stream",
     "text": [
      "\n"
     ]
    },
    {
     "name": "stdout",
     "output_type": "stream",
     "text": [
      "\n"
     ]
    },
    {
     "name": "stdout",
     "output_type": "stream",
     "text": [
      "Loaded user MIP start with objective 40\n"
     ]
    },
    {
     "name": "stdout",
     "output_type": "stream",
     "text": [
      "\n"
     ]
    },
    {
     "name": "stdout",
     "output_type": "stream",
     "text": [
      "Presolve removed 5 rows and 8 columns\n"
     ]
    },
    {
     "name": "stdout",
     "output_type": "stream",
     "text": [
      "Presolve time: 0.00s\n"
     ]
    },
    {
     "name": "stdout",
     "output_type": "stream",
     "text": [
      "Presolve: All rows and columns removed\n"
     ]
    },
    {
     "name": "stdout",
     "output_type": "stream",
     "text": [
      "\n"
     ]
    },
    {
     "name": "stdout",
     "output_type": "stream",
     "text": [
      "Explored 0 nodes (0 simplex iterations) in 0.02 seconds (0.00 work units)\n"
     ]
    },
    {
     "name": "stdout",
     "output_type": "stream",
     "text": [
      "Thread count was 1 (of 12 available processors)\n"
     ]
    },
    {
     "name": "stdout",
     "output_type": "stream",
     "text": [
      "\n"
     ]
    },
    {
     "name": "stdout",
     "output_type": "stream",
     "text": [
      "Solution count 2: 0 40 \n"
     ]
    },
    {
     "name": "stdout",
     "output_type": "stream",
     "text": [
      "\n"
     ]
    },
    {
     "name": "stdout",
     "output_type": "stream",
     "text": [
      "Optimal solution found (tolerance 1.00e-04)\n"
     ]
    },
    {
     "name": "stdout",
     "output_type": "stream",
     "text": [
      "Best objective 0.000000000000e+00, best bound 0.000000000000e+00, gap 0.0000%\n"
     ]
    },
    {
     "name": "stdout",
     "output_type": "stream",
     "text": [
      "---------------------------------------------------------------------------\n"
     ]
    },
    {
     "name": "stdout",
     "output_type": "stream",
     "text": [
      "\n"
     ]
    },
    {
     "name": "stdout",
     "output_type": "stream",
     "text": [
      "Multi-objectives: optimize objective 4 () ...\n"
     ]
    },
    {
     "name": "stdout",
     "output_type": "stream",
     "text": [
      "---------------------------------------------------------------------------\n"
     ]
    },
    {
     "name": "stdout",
     "output_type": "stream",
     "text": [
      "\n"
     ]
    },
    {
     "name": "stdout",
     "output_type": "stream",
     "text": [
      "\n"
     ]
    },
    {
     "name": "stdout",
     "output_type": "stream",
     "text": [
      "Loaded user MIP start with objective 24\n"
     ]
    },
    {
     "name": "stdout",
     "output_type": "stream",
     "text": [
      "\n"
     ]
    },
    {
     "name": "stdout",
     "output_type": "stream",
     "text": [
      "Presolve removed 4 rows and 6 columns\n"
     ]
    },
    {
     "name": "stdout",
     "output_type": "stream",
     "text": [
      "Presolve time: 0.00s\n"
     ]
    },
    {
     "name": "stdout",
     "output_type": "stream",
     "text": [
      "Presolved: 2 rows, 2 columns, 4 nonzeros\n"
     ]
    },
    {
     "name": "stdout",
     "output_type": "stream",
     "text": [
      "Variable types: 0 continuous, 2 integer (0 binary)\n"
     ]
    },
    {
     "name": "stdout",
     "output_type": "stream",
     "text": [
      "\n"
     ]
    },
    {
     "name": "stdout",
     "output_type": "stream",
     "text": [
      "Root relaxation: objective 1.500000e+01, 0 iterations, 0.00 seconds (0.00 work units)\n"
     ]
    },
    {
     "name": "stdout",
     "output_type": "stream",
     "text": [
      "\n"
     ]
    },
    {
     "name": "stdout",
     "output_type": "stream",
     "text": [
      "    Nodes    |    Current Node    |     Objective Bounds      |     Work\n"
     ]
    },
    {
     "name": "stdout",
     "output_type": "stream",
     "text": [
      " Expl Unexpl |  Obj  Depth IntInf | Incumbent    BestBd   Gap | It/Node Time\n"
     ]
    },
    {
     "name": "stdout",
     "output_type": "stream",
     "text": [
      "\n"
     ]
    },
    {
     "name": "stdout",
     "output_type": "stream",
     "text": [
      "*    0     0               0      15.0000000   15.00000  0.00%     -    0s\n"
     ]
    },
    {
     "name": "stdout",
     "output_type": "stream",
     "text": [
      "\n"
     ]
    },
    {
     "name": "stdout",
     "output_type": "stream",
     "text": [
      "Explored 1 nodes (0 simplex iterations) in 0.03 seconds (0.00 work units)\n"
     ]
    },
    {
     "name": "stdout",
     "output_type": "stream",
     "text": [
      "Thread count was 12 (of 12 available processors)\n"
     ]
    },
    {
     "name": "stdout",
     "output_type": "stream",
     "text": [
      "\n"
     ]
    },
    {
     "name": "stdout",
     "output_type": "stream",
     "text": [
      "Solution count 2: 15 24 \n"
     ]
    },
    {
     "name": "stdout",
     "output_type": "stream",
     "text": [
      "\n"
     ]
    },
    {
     "name": "stdout",
     "output_type": "stream",
     "text": [
      "Optimal solution found (tolerance 1.00e-04)\n"
     ]
    },
    {
     "name": "stdout",
     "output_type": "stream",
     "text": [
      "Best objective 1.500000000000e+01, best bound 1.500000000000e+01, gap 0.0000%\n"
     ]
    },
    {
     "name": "stdout",
     "output_type": "stream",
     "text": [
      "\n"
     ]
    },
    {
     "name": "stdout",
     "output_type": "stream",
     "text": [
      "---------------------------------------------------------------------------\n"
     ]
    },
    {
     "name": "stdout",
     "output_type": "stream",
     "text": [
      "Multi-objectives: solved in 0.04 seconds (0.00 work units), solution count 3\n"
     ]
    },
    {
     "name": "stdout",
     "output_type": "stream",
     "text": [
      "\n"
     ]
    },
    {
     "name": "stdout",
     "output_type": "stream",
     "text": [
      "x[0] 15.0\n",
      "x[1] 20.0\n",
      "dm[0] 0.0\n",
      "dm[1] 0.0\n",
      "dm[2] 0.0\n",
      "dp[0] 15.0\n",
      "dp[1] 0.0\n",
      "dp[2] 0.0\n"
     ]
    }
   ],
   "source": [
    "from gurobipy import *\n",
    "m = Model('multiobj')\n",
    "\n",
    "# Add Variables\n",
    "x = m.addVars(range(2), name='x', lb=0, vtype = GRB.INTEGER)\n",
    "dm = m.addVars(range(3), name='dm', lb=0, vtype = GRB.INTEGER)\n",
    "dp = m.addVars(range(3), name='dp', lb=0, vtype = GRB.INTEGER)\n",
    "#totSlack = m.addVar(name='totSlack')\n",
    "m.update()\n",
    "\n",
    "# Add Constraints\n",
    "c1 = m.addConstr(1 *x[0]  + 2*x[1] + 1*dm[0] - 1*dp[0] == 40)\n",
    "c2 = m.addConstr(40*x[0] + 50*x[1] + 1*dm[1] - 1*dp[1] == 1600)\n",
    "c3 = m.addConstr(4 *x[0]  + 3*x[1] + 1*dm[2] - 1*dp[2] == 120)\n",
    "\n",
    "# Add Objective Function\n",
    "m.ModelSense = GRB.MINIMIZE\n",
    "m.setObjectiveN(dm[0], index=0, priority=3)\n",
    "m.setObjectiveN(dm[1], index=1, priority=2)\n",
    "m.setObjectiveN(dp[2], index=2, priority=1)\n",
    "m.setObjectiveN(dp[0], index=3, priority=0)\n",
    "# Optimize Model\n",
    "m.optimize()\n",
    "\n",
    "# Output formatted solution\n",
    "for v in m.getVars():\n",
    "    print(v.varName, v.x)\n",
    "#print('Obj :', m.objVal)"
   ]
  },
  {
   "cell_type": "markdown",
   "metadata": {
    "id": "1unJ-b8JOayC"
   },
   "source": [
    "##Altered goal programming example:\n",
    "Solve the following problem:\n",
    "\\begin{align}\n",
    "&\\text{min}\\\\\n",
    "&\\qquad z=P_1d_1^-,P_2d_2^-,P_3d_3^+,P_4d_1^+,4P_5d_5^-+5P_5d_6^-\\\\\n",
    "&\\text{s.t.}\\\\\n",
    "&\\qquad x_1+2x_2+d_1^--d_1^+=40\\\\\n",
    "&\\qquad 40x_1+50x_2+d_2^--d_2^+=1600\\\\\n",
    "&\\qquad 4x_1+3x_2+d_3^--d_3^+=120\\\\\n",
    "&\\qquad  d_1^++d_4^--d_4^+=10 \\\\\n",
    "&\\qquad x_1+d_5^-=30\\\\\n",
    "&\\qquad x_2+d_6^-=20\\\\\n",
    "&\\qquad x_i,d_j^-,d_j^+ \\ge 0~ \\text{and integer}\\\\\n",
    "\\end{align}  "
   ]
  },
  {
   "cell_type": "code",
   "execution_count": 264,
   "metadata": {
    "colab": {
     "base_uri": "https://localhost:8080/"
    },
    "id": "N2_ZJ5sDyPYq",
    "outputId": "bdfc845d-f034-4d12-f205-9450c927a49c"
   },
   "outputs": [
    {
     "name": "stdout",
     "output_type": "stream",
     "text": [
      "Gurobi Optimizer version 9.5.0 build v9.5.0rc5 (mac64[x86])\n"
     ]
    },
    {
     "name": "stdout",
     "output_type": "stream",
     "text": [
      "Thread count: 6 physical cores, 12 logical processors, using up to 12 threads\n"
     ]
    },
    {
     "name": "stdout",
     "output_type": "stream",
     "text": [
      "Optimize a model with 6 rows, 12 columns and 19 nonzeros\n"
     ]
    },
    {
     "name": "stdout",
     "output_type": "stream",
     "text": [
      "Model fingerprint: 0x2a5ffb2a\n"
     ]
    },
    {
     "name": "stdout",
     "output_type": "stream",
     "text": [
      "Variable types: 0 continuous, 12 integer (0 binary)\n"
     ]
    },
    {
     "name": "stdout",
     "output_type": "stream",
     "text": [
      "Coefficient statistics:\n"
     ]
    },
    {
     "name": "stdout",
     "output_type": "stream",
     "text": [
      "  Matrix range     [1e+00, 5e+01]\n"
     ]
    },
    {
     "name": "stdout",
     "output_type": "stream",
     "text": [
      "  Objective range  [1e+00, 5e+00]\n"
     ]
    },
    {
     "name": "stdout",
     "output_type": "stream",
     "text": [
      "  Bounds range     [0e+00, 0e+00]\n"
     ]
    },
    {
     "name": "stdout",
     "output_type": "stream",
     "text": [
      "  RHS range        [1e+01, 2e+03]\n"
     ]
    },
    {
     "name": "stdout",
     "output_type": "stream",
     "text": [
      "\n"
     ]
    },
    {
     "name": "stdout",
     "output_type": "stream",
     "text": [
      "---------------------------------------------------------------------------\n"
     ]
    },
    {
     "name": "stdout",
     "output_type": "stream",
     "text": [
      "Multi-objectives: starting optimization with 5 objectives ... \n"
     ]
    },
    {
     "name": "stdout",
     "output_type": "stream",
     "text": [
      "---------------------------------------------------------------------------\n"
     ]
    },
    {
     "name": "stdout",
     "output_type": "stream",
     "text": [
      "\n"
     ]
    },
    {
     "name": "stdout",
     "output_type": "stream",
     "text": [
      "Multi-objectives: applying initial presolve ...\n"
     ]
    },
    {
     "name": "stdout",
     "output_type": "stream",
     "text": [
      "---------------------------------------------------------------------------\n"
     ]
    },
    {
     "name": "stdout",
     "output_type": "stream",
     "text": [
      "\n"
     ]
    },
    {
     "name": "stdout",
     "output_type": "stream",
     "text": [
      "Presolve removed 2 rows and 2 columns\n"
     ]
    },
    {
     "name": "stdout",
     "output_type": "stream",
     "text": [
      "Presolve time: 0.00s\n"
     ]
    },
    {
     "name": "stdout",
     "output_type": "stream",
     "text": [
      "Presolved: 4 rows and 10 columns\n"
     ]
    },
    {
     "name": "stdout",
     "output_type": "stream",
     "text": [
      "---------------------------------------------------------------------------\n"
     ]
    },
    {
     "name": "stdout",
     "output_type": "stream",
     "text": [
      "\n"
     ]
    },
    {
     "name": "stdout",
     "output_type": "stream",
     "text": [
      "Multi-objectives: optimize objective 1 () ...\n"
     ]
    },
    {
     "name": "stdout",
     "output_type": "stream",
     "text": [
      "---------------------------------------------------------------------------\n"
     ]
    },
    {
     "name": "stdout",
     "output_type": "stream",
     "text": [
      "\n"
     ]
    },
    {
     "name": "stdout",
     "output_type": "stream",
     "text": [
      "Presolve removed 4 rows and 10 columns\n"
     ]
    },
    {
     "name": "stdout",
     "output_type": "stream",
     "text": [
      "Presolve time: 0.00s\n"
     ]
    },
    {
     "name": "stdout",
     "output_type": "stream",
     "text": [
      "Presolve: All rows and columns removed\n"
     ]
    },
    {
     "name": "stdout",
     "output_type": "stream",
     "text": [
      "\n"
     ]
    },
    {
     "name": "stdout",
     "output_type": "stream",
     "text": [
      "Explored 0 nodes (0 simplex iterations) in 0.01 seconds (0.00 work units)\n"
     ]
    },
    {
     "name": "stdout",
     "output_type": "stream",
     "text": [
      "Thread count was 1 (of 12 available processors)\n"
     ]
    },
    {
     "name": "stdout",
     "output_type": "stream",
     "text": [
      "\n"
     ]
    },
    {
     "name": "stdout",
     "output_type": "stream",
     "text": [
      "Solution count 1: 0 \n"
     ]
    },
    {
     "name": "stdout",
     "output_type": "stream",
     "text": [
      "\n"
     ]
    },
    {
     "name": "stdout",
     "output_type": "stream",
     "text": [
      "Optimal solution found (tolerance 1.00e-04)\n"
     ]
    },
    {
     "name": "stdout",
     "output_type": "stream",
     "text": [
      "Best objective 0.000000000000e+00, best bound 0.000000000000e+00, gap 0.0000%\n"
     ]
    },
    {
     "name": "stdout",
     "output_type": "stream",
     "text": [
      "---------------------------------------------------------------------------\n"
     ]
    },
    {
     "name": "stdout",
     "output_type": "stream",
     "text": [
      "\n"
     ]
    },
    {
     "name": "stdout",
     "output_type": "stream",
     "text": [
      "Multi-objectives: optimize objective 2 () ...\n"
     ]
    },
    {
     "name": "stdout",
     "output_type": "stream",
     "text": [
      "---------------------------------------------------------------------------\n"
     ]
    },
    {
     "name": "stdout",
     "output_type": "stream",
     "text": [
      "\n"
     ]
    },
    {
     "name": "stdout",
     "output_type": "stream",
     "text": [
      "\n"
     ]
    },
    {
     "name": "stdout",
     "output_type": "stream",
     "text": [
      "Loaded user MIP start with objective 0\n"
     ]
    },
    {
     "name": "stdout",
     "output_type": "stream",
     "text": [
      "\n"
     ]
    },
    {
     "name": "stdout",
     "output_type": "stream",
     "text": [
      "\n"
     ]
    },
    {
     "name": "stdout",
     "output_type": "stream",
     "text": [
      "Explored 0 nodes (0 simplex iterations) in 0.02 seconds (0.00 work units)\n"
     ]
    },
    {
     "name": "stdout",
     "output_type": "stream",
     "text": [
      "Thread count was 1 (of 12 available processors)\n"
     ]
    },
    {
     "name": "stdout",
     "output_type": "stream",
     "text": [
      "\n"
     ]
    },
    {
     "name": "stdout",
     "output_type": "stream",
     "text": [
      "Solution count 1: 0 \n"
     ]
    },
    {
     "name": "stdout",
     "output_type": "stream",
     "text": [
      "\n"
     ]
    },
    {
     "name": "stdout",
     "output_type": "stream",
     "text": [
      "Optimal solution found (tolerance 1.00e-04)\n"
     ]
    },
    {
     "name": "stdout",
     "output_type": "stream",
     "text": [
      "Best objective 0.000000000000e+00, best bound 0.000000000000e+00, gap 0.0000%\n"
     ]
    },
    {
     "name": "stdout",
     "output_type": "stream",
     "text": [
      "---------------------------------------------------------------------------\n"
     ]
    },
    {
     "name": "stdout",
     "output_type": "stream",
     "text": [
      "\n"
     ]
    },
    {
     "name": "stdout",
     "output_type": "stream",
     "text": [
      "Multi-objectives: optimize objective 3 () ...\n"
     ]
    },
    {
     "name": "stdout",
     "output_type": "stream",
     "text": [
      "---------------------------------------------------------------------------\n"
     ]
    },
    {
     "name": "stdout",
     "output_type": "stream",
     "text": [
      "\n"
     ]
    },
    {
     "name": "stdout",
     "output_type": "stream",
     "text": [
      "\n"
     ]
    },
    {
     "name": "stdout",
     "output_type": "stream",
     "text": [
      "Loaded user MIP start with objective 60\n"
     ]
    },
    {
     "name": "stdout",
     "output_type": "stream",
     "text": [
      "\n"
     ]
    },
    {
     "name": "stdout",
     "output_type": "stream",
     "text": [
      "Presolve removed 6 rows and 10 columns\n"
     ]
    },
    {
     "name": "stdout",
     "output_type": "stream",
     "text": [
      "Presolve time: 0.00s\n"
     ]
    },
    {
     "name": "stdout",
     "output_type": "stream",
     "text": [
      "Presolve: All rows and columns removed\n"
     ]
    },
    {
     "name": "stdout",
     "output_type": "stream",
     "text": [
      "\n"
     ]
    },
    {
     "name": "stdout",
     "output_type": "stream",
     "text": [
      "Explored 0 nodes (0 simplex iterations) in 0.02 seconds (0.00 work units)\n"
     ]
    },
    {
     "name": "stdout",
     "output_type": "stream",
     "text": [
      "Thread count was 1 (of 12 available processors)\n"
     ]
    },
    {
     "name": "stdout",
     "output_type": "stream",
     "text": [
      "\n"
     ]
    },
    {
     "name": "stdout",
     "output_type": "stream",
     "text": [
      "Solution count 2: 0 60 \n"
     ]
    },
    {
     "name": "stdout",
     "output_type": "stream",
     "text": [
      "\n"
     ]
    },
    {
     "name": "stdout",
     "output_type": "stream",
     "text": [
      "Optimal solution found (tolerance 1.00e-04)\n"
     ]
    },
    {
     "name": "stdout",
     "output_type": "stream",
     "text": [
      "Best objective 0.000000000000e+00, best bound 0.000000000000e+00, gap 0.0000%\n"
     ]
    },
    {
     "name": "stdout",
     "output_type": "stream",
     "text": [
      "---------------------------------------------------------------------------\n"
     ]
    },
    {
     "name": "stdout",
     "output_type": "stream",
     "text": [
      "\n"
     ]
    },
    {
     "name": "stdout",
     "output_type": "stream",
     "text": [
      "Multi-objectives: optimize objective 4 () ...\n"
     ]
    },
    {
     "name": "stdout",
     "output_type": "stream",
     "text": [
      "---------------------------------------------------------------------------\n"
     ]
    },
    {
     "name": "stdout",
     "output_type": "stream",
     "text": [
      "\n"
     ]
    },
    {
     "name": "stdout",
     "output_type": "stream",
     "text": [
      "\n"
     ]
    },
    {
     "name": "stdout",
     "output_type": "stream",
     "text": [
      "Loaded user MIP start with objective 5\n"
     ]
    },
    {
     "name": "stdout",
     "output_type": "stream",
     "text": [
      "\n"
     ]
    },
    {
     "name": "stdout",
     "output_type": "stream",
     "text": [
      "Presolve removed 7 rows and 10 columns\n"
     ]
    },
    {
     "name": "stdout",
     "output_type": "stream",
     "text": [
      "Presolve time: 0.00s\n"
     ]
    },
    {
     "name": "stdout",
     "output_type": "stream",
     "text": [
      "Presolve: All rows and columns removed\n"
     ]
    },
    {
     "name": "stdout",
     "output_type": "stream",
     "text": [
      "\n"
     ]
    },
    {
     "name": "stdout",
     "output_type": "stream",
     "text": [
      "Explored 0 nodes (0 simplex iterations) in 0.03 seconds (0.00 work units)\n"
     ]
    },
    {
     "name": "stdout",
     "output_type": "stream",
     "text": [
      "Thread count was 1 (of 12 available processors)\n"
     ]
    },
    {
     "name": "stdout",
     "output_type": "stream",
     "text": [
      "\n"
     ]
    },
    {
     "name": "stdout",
     "output_type": "stream",
     "text": [
      "Solution count 1: 5 \n"
     ]
    },
    {
     "name": "stdout",
     "output_type": "stream",
     "text": [
      "\n"
     ]
    },
    {
     "name": "stdout",
     "output_type": "stream",
     "text": [
      "Optimal solution found (tolerance 1.00e-04)\n"
     ]
    },
    {
     "name": "stdout",
     "output_type": "stream",
     "text": [
      "Best objective 5.000000000000e+00, best bound 5.000000000000e+00, gap 0.0000%\n"
     ]
    },
    {
     "name": "stdout",
     "output_type": "stream",
     "text": [
      "---------------------------------------------------------------------------\n"
     ]
    },
    {
     "name": "stdout",
     "output_type": "stream",
     "text": [
      "\n"
     ]
    },
    {
     "name": "stdout",
     "output_type": "stream",
     "text": [
      "Multi-objectives: optimize objective 5 () ...\n"
     ]
    },
    {
     "name": "stdout",
     "output_type": "stream",
     "text": [
      "---------------------------------------------------------------------------\n"
     ]
    },
    {
     "name": "stdout",
     "output_type": "stream",
     "text": [
      "\n"
     ]
    },
    {
     "name": "stdout",
     "output_type": "stream",
     "text": [
      "\n"
     ]
    },
    {
     "name": "stdout",
     "output_type": "stream",
     "text": [
      "Loaded user MIP start with objective 60\n"
     ]
    },
    {
     "name": "stdout",
     "output_type": "stream",
     "text": [
      "\n"
     ]
    },
    {
     "name": "stdout",
     "output_type": "stream",
     "text": [
      "Presolve removed 8 rows and 10 columns\n"
     ]
    },
    {
     "name": "stdout",
     "output_type": "stream",
     "text": [
      "Presolve time: 0.00s\n"
     ]
    },
    {
     "name": "stdout",
     "output_type": "stream",
     "text": [
      "Presolve: All rows and columns removed\n"
     ]
    },
    {
     "name": "stdout",
     "output_type": "stream",
     "text": [
      "\n"
     ]
    },
    {
     "name": "stdout",
     "output_type": "stream",
     "text": [
      "Explored 0 nodes (0 simplex iterations) in 0.03 seconds (0.00 work units)\n"
     ]
    },
    {
     "name": "stdout",
     "output_type": "stream",
     "text": [
      "Thread count was 1 (of 12 available processors)\n"
     ]
    },
    {
     "name": "stdout",
     "output_type": "stream",
     "text": [
      "\n"
     ]
    },
    {
     "name": "stdout",
     "output_type": "stream",
     "text": [
      "Solution count 1: 60 \n"
     ]
    },
    {
     "name": "stdout",
     "output_type": "stream",
     "text": [
      "\n"
     ]
    },
    {
     "name": "stdout",
     "output_type": "stream",
     "text": [
      "Optimal solution found (tolerance 1.00e-04)\n"
     ]
    },
    {
     "name": "stdout",
     "output_type": "stream",
     "text": [
      "Best objective 6.000000000000e+01, best bound 6.000000000000e+01, gap 0.0000%\n"
     ]
    },
    {
     "name": "stdout",
     "output_type": "stream",
     "text": [
      "\n"
     ]
    },
    {
     "name": "stdout",
     "output_type": "stream",
     "text": [
      "---------------------------------------------------------------------------\n"
     ]
    },
    {
     "name": "stdout",
     "output_type": "stream",
     "text": [
      "Multi-objectives: solved in 0.04 seconds (0.00 work units), solution count 2\n"
     ]
    },
    {
     "name": "stdout",
     "output_type": "stream",
     "text": [
      "\n"
     ]
    },
    {
     "name": "stdout",
     "output_type": "stream",
     "text": [
      "x[0] 15.0\n",
      "x[1] 20.0\n",
      "dm[0] 0.0\n",
      "dm[1] 0.0\n",
      "dm[2] 0.0\n",
      "dm[3] 0.0\n",
      "dm[4] 15.0\n",
      "dm[5] 0.0\n",
      "dp[0] 15.0\n",
      "dp[1] 0.0\n",
      "dp[2] 0.0\n",
      "dp[3] 5.0\n"
     ]
    }
   ],
   "source": [
    "from gurobipy import *\n",
    "m = Model('multiobj')\n",
    "\n",
    "# Add Variables\n",
    "x = m.addVars(range(2), name='x', lb=0, vtype = GRB.INTEGER)\n",
    "dm = m.addVars(range(6), name='dm', lb=0, vtype = GRB.INTEGER)\n",
    "dp = m.addVars(range(4), name='dp', lb=0, vtype = GRB.INTEGER)\n",
    "#totSlack = m.addVar(name='totSlack')\n",
    "m.update()\n",
    "\n",
    "# Add Constraints\n",
    "c1 = m.addConstr(1 *x[0]  + 2 *x[1]  + 1*dm[0] - 1*dp[0] == 40)\n",
    "c2 = m.addConstr(40*x[0]  + 50*x[1]  + 1*dm[1] - 1*dp[1] == 1600)\n",
    "c3 = m.addConstr(4 *x[0]  + 3 *x[1]  + 1*dm[2] - 1*dp[2] == 120)\n",
    "c4 = m.addConstr(                      1*dp[0] + 1*dm[3] - 1*dp[3] == 10)\n",
    "c5 = m.addConstr(1 *x[0]             + 1*dm[4]           == 30)\n",
    "c6 = m.addConstr(           1 *x[1]  + 1*dm[5]           == 20)\n",
    "\n",
    "# Add Objective Function\n",
    "m.ModelSense = GRB.MINIMIZE\n",
    "m.setObjectiveN(dm[0], index=0, priority=4)\n",
    "m.setObjectiveN(dm[1], index=1, priority=3)\n",
    "m.setObjectiveN(dp[2], index=2, priority=2)\n",
    "m.setObjectiveN(dp[3], index=3, priority=1)\n",
    "m.setObjectiveN(4*dm[4]+5*dm[5], index=4, priority=0)\n",
    "\n",
    "# Optimize Model\n",
    "m.optimize()\n",
    "\n",
    "# Output formatted solution\n",
    "for v in m.getVars():\n",
    "    print(v.varName, v.x)\n",
    "#print('Obj :', m.objVal)"
   ]
  },
  {
   "cell_type": "markdown",
   "metadata": {
    "id": "Q8_DzKiHPFQT"
   },
   "source": [
    "## Problem Example: C9Q8\n",
    "Solve the following goal programming model:\n",
    "\\begin{align}\n",
    "&\\text{min}\\\\\n",
    "&\\qquad z=P_1d_1^-+P_1d_1^+,P_2d_2^-,P_3d_3^-,3P_4d_2^++5P_4d_3^+\\\\\n",
    "&\\text{s.t.}\\\\\n",
    "&\\qquad x_1+x_2+d_1^--d_1^+=800\\\\\n",
    "&\\qquad 5x_1+d_2^--d_2^+=2500\\\\\n",
    "&\\qquad 3x_2+d_3^--d_3^+=1400\\\\\n",
    "&\\qquad x_i,d_j^-,d_j^+ \\ge 0~ \\text{and integer}\\\\\n",
    "\\end{align}  "
   ]
  },
  {
   "cell_type": "code",
   "execution_count": 265,
   "metadata": {
    "colab": {
     "base_uri": "https://localhost:8080/"
    },
    "id": "12dFrKHbyR79",
    "outputId": "5709e80c-406a-4a18-a8fd-f6fdc2b1bdbc"
   },
   "outputs": [
    {
     "name": "stdout",
     "output_type": "stream",
     "text": [
      "Gurobi Optimizer version 9.5.0 build v9.5.0rc5 (mac64[x86])\n"
     ]
    },
    {
     "name": "stdout",
     "output_type": "stream",
     "text": [
      "Thread count: 6 physical cores, 12 logical processors, using up to 12 threads\n"
     ]
    },
    {
     "name": "stdout",
     "output_type": "stream",
     "text": [
      "Optimize a model with 3 rows, 8 columns and 10 nonzeros\n"
     ]
    },
    {
     "name": "stdout",
     "output_type": "stream",
     "text": [
      "Model fingerprint: 0xa4b28e54\n"
     ]
    },
    {
     "name": "stdout",
     "output_type": "stream",
     "text": [
      "Variable types: 0 continuous, 8 integer (0 binary)\n"
     ]
    },
    {
     "name": "stdout",
     "output_type": "stream",
     "text": [
      "Coefficient statistics:\n"
     ]
    },
    {
     "name": "stdout",
     "output_type": "stream",
     "text": [
      "  Matrix range     [1e+00, 5e+00]\n"
     ]
    },
    {
     "name": "stdout",
     "output_type": "stream",
     "text": [
      "  Objective range  [1e+00, 5e+00]\n"
     ]
    },
    {
     "name": "stdout",
     "output_type": "stream",
     "text": [
      "  Bounds range     [0e+00, 0e+00]\n"
     ]
    },
    {
     "name": "stdout",
     "output_type": "stream",
     "text": [
      "  RHS range        [8e+02, 2e+03]\n"
     ]
    },
    {
     "name": "stdout",
     "output_type": "stream",
     "text": [
      "\n"
     ]
    },
    {
     "name": "stdout",
     "output_type": "stream",
     "text": [
      "---------------------------------------------------------------------------\n"
     ]
    },
    {
     "name": "stdout",
     "output_type": "stream",
     "text": [
      "Multi-objectives: starting optimization with 4 objectives ... \n"
     ]
    },
    {
     "name": "stdout",
     "output_type": "stream",
     "text": [
      "---------------------------------------------------------------------------\n"
     ]
    },
    {
     "name": "stdout",
     "output_type": "stream",
     "text": [
      "\n"
     ]
    },
    {
     "name": "stdout",
     "output_type": "stream",
     "text": [
      "Multi-objectives: applying initial presolve ...\n"
     ]
    },
    {
     "name": "stdout",
     "output_type": "stream",
     "text": [
      "---------------------------------------------------------------------------\n"
     ]
    },
    {
     "name": "stdout",
     "output_type": "stream",
     "text": [
      "\n"
     ]
    },
    {
     "name": "stdout",
     "output_type": "stream",
     "text": [
      "Presolve time: 0.00s\n"
     ]
    },
    {
     "name": "stdout",
     "output_type": "stream",
     "text": [
      "Presolved: 3 rows and 8 columns\n"
     ]
    },
    {
     "name": "stdout",
     "output_type": "stream",
     "text": [
      "---------------------------------------------------------------------------\n"
     ]
    },
    {
     "name": "stdout",
     "output_type": "stream",
     "text": [
      "\n"
     ]
    },
    {
     "name": "stdout",
     "output_type": "stream",
     "text": [
      "Multi-objectives: optimize objective 1 () ...\n"
     ]
    },
    {
     "name": "stdout",
     "output_type": "stream",
     "text": [
      "---------------------------------------------------------------------------\n"
     ]
    },
    {
     "name": "stdout",
     "output_type": "stream",
     "text": [
      "\n"
     ]
    },
    {
     "name": "stdout",
     "output_type": "stream",
     "text": [
      "Presolve removed 3 rows and 8 columns\n"
     ]
    },
    {
     "name": "stdout",
     "output_type": "stream",
     "text": [
      "Presolve time: 0.00s\n"
     ]
    },
    {
     "name": "stdout",
     "output_type": "stream",
     "text": [
      "Presolve: All rows and columns removed\n"
     ]
    },
    {
     "name": "stdout",
     "output_type": "stream",
     "text": [
      "\n"
     ]
    },
    {
     "name": "stdout",
     "output_type": "stream",
     "text": [
      "Explored 0 nodes (0 simplex iterations) in 0.01 seconds (0.00 work units)\n"
     ]
    },
    {
     "name": "stdout",
     "output_type": "stream",
     "text": [
      "Thread count was 1 (of 12 available processors)\n"
     ]
    },
    {
     "name": "stdout",
     "output_type": "stream",
     "text": [
      "\n"
     ]
    },
    {
     "name": "stdout",
     "output_type": "stream",
     "text": [
      "Solution count 1: 0 \n"
     ]
    },
    {
     "name": "stdout",
     "output_type": "stream",
     "text": [
      "\n"
     ]
    },
    {
     "name": "stdout",
     "output_type": "stream",
     "text": [
      "Optimal solution found (tolerance 1.00e-04)\n"
     ]
    },
    {
     "name": "stdout",
     "output_type": "stream",
     "text": [
      "Best objective 0.000000000000e+00, best bound 0.000000000000e+00, gap 0.0000%\n"
     ]
    },
    {
     "name": "stdout",
     "output_type": "stream",
     "text": [
      "---------------------------------------------------------------------------\n"
     ]
    },
    {
     "name": "stdout",
     "output_type": "stream",
     "text": [
      "\n"
     ]
    },
    {
     "name": "stdout",
     "output_type": "stream",
     "text": [
      "Multi-objectives: optimize objective 2 () ...\n"
     ]
    },
    {
     "name": "stdout",
     "output_type": "stream",
     "text": [
      "---------------------------------------------------------------------------\n"
     ]
    },
    {
     "name": "stdout",
     "output_type": "stream",
     "text": [
      "\n"
     ]
    },
    {
     "name": "stdout",
     "output_type": "stream",
     "text": [
      "\n"
     ]
    },
    {
     "name": "stdout",
     "output_type": "stream",
     "text": [
      "Loaded user MIP start with objective 0\n"
     ]
    },
    {
     "name": "stdout",
     "output_type": "stream",
     "text": [
      "\n"
     ]
    },
    {
     "name": "stdout",
     "output_type": "stream",
     "text": [
      "\n"
     ]
    },
    {
     "name": "stdout",
     "output_type": "stream",
     "text": [
      "Explored 0 nodes (0 simplex iterations) in 0.01 seconds (0.00 work units)\n"
     ]
    },
    {
     "name": "stdout",
     "output_type": "stream",
     "text": [
      "Thread count was 1 (of 12 available processors)\n"
     ]
    },
    {
     "name": "stdout",
     "output_type": "stream",
     "text": [
      "\n"
     ]
    },
    {
     "name": "stdout",
     "output_type": "stream",
     "text": [
      "Solution count 1: 0 \n"
     ]
    },
    {
     "name": "stdout",
     "output_type": "stream",
     "text": [
      "\n"
     ]
    },
    {
     "name": "stdout",
     "output_type": "stream",
     "text": [
      "Optimal solution found (tolerance 1.00e-04)\n"
     ]
    },
    {
     "name": "stdout",
     "output_type": "stream",
     "text": [
      "Best objective 0.000000000000e+00, best bound 0.000000000000e+00, gap 0.0000%\n"
     ]
    },
    {
     "name": "stdout",
     "output_type": "stream",
     "text": [
      "---------------------------------------------------------------------------\n"
     ]
    },
    {
     "name": "stdout",
     "output_type": "stream",
     "text": [
      "\n"
     ]
    },
    {
     "name": "stdout",
     "output_type": "stream",
     "text": [
      "Multi-objectives: optimize objective 3 () ...\n"
     ]
    },
    {
     "name": "stdout",
     "output_type": "stream",
     "text": [
      "---------------------------------------------------------------------------\n"
     ]
    },
    {
     "name": "stdout",
     "output_type": "stream",
     "text": [
      "\n"
     ]
    },
    {
     "name": "stdout",
     "output_type": "stream",
     "text": [
      "\n"
     ]
    },
    {
     "name": "stdout",
     "output_type": "stream",
     "text": [
      "Loaded user MIP start with objective 1400\n"
     ]
    },
    {
     "name": "stdout",
     "output_type": "stream",
     "text": [
      "\n"
     ]
    },
    {
     "name": "stdout",
     "output_type": "stream",
     "text": [
      "Presolve removed 5 rows and 8 columns\n"
     ]
    },
    {
     "name": "stdout",
     "output_type": "stream",
     "text": [
      "Presolve time: 0.00s\n"
     ]
    },
    {
     "name": "stdout",
     "output_type": "stream",
     "text": [
      "Presolve: All rows and columns removed\n"
     ]
    },
    {
     "name": "stdout",
     "output_type": "stream",
     "text": [
      "\n"
     ]
    },
    {
     "name": "stdout",
     "output_type": "stream",
     "text": [
      "Explored 0 nodes (0 simplex iterations) in 0.02 seconds (0.00 work units)\n"
     ]
    },
    {
     "name": "stdout",
     "output_type": "stream",
     "text": [
      "Thread count was 1 (of 12 available processors)\n"
     ]
    },
    {
     "name": "stdout",
     "output_type": "stream",
     "text": [
      "\n"
     ]
    },
    {
     "name": "stdout",
     "output_type": "stream",
     "text": [
      "Solution count 2: 500 1400 \n"
     ]
    },
    {
     "name": "stdout",
     "output_type": "stream",
     "text": [
      "\n"
     ]
    },
    {
     "name": "stdout",
     "output_type": "stream",
     "text": [
      "Optimal solution found (tolerance 1.00e-04)\n"
     ]
    },
    {
     "name": "stdout",
     "output_type": "stream",
     "text": [
      "Best objective 5.000000000000e+02, best bound 5.000000000000e+02, gap 0.0000%\n"
     ]
    },
    {
     "name": "stdout",
     "output_type": "stream",
     "text": [
      "---------------------------------------------------------------------------\n"
     ]
    },
    {
     "name": "stdout",
     "output_type": "stream",
     "text": [
      "\n"
     ]
    },
    {
     "name": "stdout",
     "output_type": "stream",
     "text": [
      "Multi-objectives: optimize objective 4 () ...\n"
     ]
    },
    {
     "name": "stdout",
     "output_type": "stream",
     "text": [
      "---------------------------------------------------------------------------\n"
     ]
    },
    {
     "name": "stdout",
     "output_type": "stream",
     "text": [
      "\n"
     ]
    },
    {
     "name": "stdout",
     "output_type": "stream",
     "text": [
      "\n"
     ]
    },
    {
     "name": "stdout",
     "output_type": "stream",
     "text": [
      "Loaded user MIP start with objective 0\n"
     ]
    },
    {
     "name": "stdout",
     "output_type": "stream",
     "text": [
      "\n"
     ]
    },
    {
     "name": "stdout",
     "output_type": "stream",
     "text": [
      "\n"
     ]
    },
    {
     "name": "stdout",
     "output_type": "stream",
     "text": [
      "Explored 0 nodes (0 simplex iterations) in 0.03 seconds (0.00 work units)\n"
     ]
    },
    {
     "name": "stdout",
     "output_type": "stream",
     "text": [
      "Thread count was 1 (of 12 available processors)\n"
     ]
    },
    {
     "name": "stdout",
     "output_type": "stream",
     "text": [
      "\n"
     ]
    },
    {
     "name": "stdout",
     "output_type": "stream",
     "text": [
      "Solution count 1: 0 \n"
     ]
    },
    {
     "name": "stdout",
     "output_type": "stream",
     "text": [
      "\n"
     ]
    },
    {
     "name": "stdout",
     "output_type": "stream",
     "text": [
      "Optimal solution found (tolerance 1.00e-04)\n"
     ]
    },
    {
     "name": "stdout",
     "output_type": "stream",
     "text": [
      "Best objective 0.000000000000e+00, best bound 0.000000000000e+00, gap 0.0000%\n"
     ]
    },
    {
     "name": "stdout",
     "output_type": "stream",
     "text": [
      "\n"
     ]
    },
    {
     "name": "stdout",
     "output_type": "stream",
     "text": [
      "---------------------------------------------------------------------------\n"
     ]
    },
    {
     "name": "stdout",
     "output_type": "stream",
     "text": [
      "Multi-objectives: solved in 0.03 seconds (0.00 work units), solution count 2\n"
     ]
    },
    {
     "name": "stdout",
     "output_type": "stream",
     "text": [
      "\n"
     ]
    },
    {
     "name": "stdout",
     "output_type": "stream",
     "text": [
      "x[0] 500.0\n",
      "x[1] 300.0\n",
      "dm[0] 0.0\n",
      "dm[1] 0.0\n",
      "dm[2] 500.0\n",
      "dp[0] 0.0\n",
      "dp[1] 0.0\n",
      "dp[2] 0.0\n"
     ]
    }
   ],
   "source": [
    "from gurobipy import *\n",
    "m = Model('C9Q8')\n",
    "\n",
    "# Add Variables\n",
    "x  = m.addVars(range(2), name='x',  lb=0, vtype = GRB.INTEGER)\n",
    "dm = m.addVars(range(3), name='dm', lb=0, vtype = GRB.INTEGER)\n",
    "dp = m.addVars(range(3), name='dp', lb=0, vtype = GRB.INTEGER)\n",
    "#totSlack = m.addVar(name='totSlack')\n",
    "m.update()\n",
    "\n",
    "# Add Constraints\n",
    "c1 = m.addConstr(1*x[0]  + 1*x[1]  + 1*dm[0] - 1*dp[0] == 800)\n",
    "c2 = m.addConstr(5*x[0]            + 1*dm[1] - 1*dp[1] == 2500)\n",
    "c3 = m.addConstr(          3*x[1]  + 1*dm[2] - 1*dp[2] == 1400)\n",
    "\n",
    "# Add Objective Function\n",
    "m.ModelSense = GRB.MINIMIZE\n",
    "m.setObjectiveN(dm[0]+dp[0], index=0, priority=3)\n",
    "m.setObjectiveN(dm[1], index=1, priority=2)\n",
    "m.setObjectiveN(dm[2], index=2, priority=1)\n",
    "m.setObjectiveN(3*dp[1]+5*dp[2], index=3, priority=0)\n",
    "\n",
    "# Optimize Model\n",
    "m.optimize()\n",
    "\n",
    "# Output formatted solution\n",
    "for v in m.getVars():\n",
    "    print(v.varName, v.x)\n",
    "#print('Obj :', m.objVal)"
   ]
  },
  {
   "cell_type": "markdown",
   "metadata": {
    "id": "p8ucQJNVQNRi"
   },
   "source": [
    "## Problem Example: C9Q10\n",
    "Solve the following goal programming model:\n",
    "\\begin{align}\n",
    "&\\text{min}\\\\\n",
    "&\\qquad z=P_1d_1^-,5P_2d_2^-+2P_2d_3^-,P_3d_4^+\\\\\n",
    "&\\text{s.t.}\\\\\n",
    "&\\qquad 8x_1+6x_2+d_1^--d_1^+=480\\\\\n",
    "&\\qquad x_1+d_2^--d_2^+=40\\\\\n",
    "&\\qquad x_2+d_3^--d_3^+=50\\\\\n",
    "&\\qquad d_1^++d_4^--d_4^+=20\\\\\n",
    "&\\qquad x_i,d_j^-,d_j^+ \\ge 0~ \\text{and integer}\\\\\n",
    "\\end{align}  "
   ]
  },
  {
   "cell_type": "code",
   "execution_count": 266,
   "metadata": {
    "colab": {
     "base_uri": "https://localhost:8080/"
    },
    "id": "vuycv7J4yUp4",
    "outputId": "f1992788-3fb0-4fe1-92a0-3c426982f2c3"
   },
   "outputs": [
    {
     "name": "stdout",
     "output_type": "stream",
     "text": [
      "Gurobi Optimizer version 9.5.0 build v9.5.0rc5 (mac64[x86])\n"
     ]
    },
    {
     "name": "stdout",
     "output_type": "stream",
     "text": [
      "Thread count: 6 physical cores, 12 logical processors, using up to 12 threads\n"
     ]
    },
    {
     "name": "stdout",
     "output_type": "stream",
     "text": [
      "Optimize a model with 4 rows, 10 columns and 13 nonzeros\n"
     ]
    },
    {
     "name": "stdout",
     "output_type": "stream",
     "text": [
      "Model fingerprint: 0x30f2088f\n"
     ]
    },
    {
     "name": "stdout",
     "output_type": "stream",
     "text": [
      "Variable types: 0 continuous, 10 integer (0 binary)\n"
     ]
    },
    {
     "name": "stdout",
     "output_type": "stream",
     "text": [
      "Coefficient statistics:\n"
     ]
    },
    {
     "name": "stdout",
     "output_type": "stream",
     "text": [
      "  Matrix range     [1e+00, 8e+00]\n"
     ]
    },
    {
     "name": "stdout",
     "output_type": "stream",
     "text": [
      "  Objective range  [1e+00, 5e+00]\n"
     ]
    },
    {
     "name": "stdout",
     "output_type": "stream",
     "text": [
      "  Bounds range     [0e+00, 0e+00]\n"
     ]
    },
    {
     "name": "stdout",
     "output_type": "stream",
     "text": [
      "  RHS range        [2e+01, 5e+02]\n"
     ]
    },
    {
     "name": "stdout",
     "output_type": "stream",
     "text": [
      "\n"
     ]
    },
    {
     "name": "stdout",
     "output_type": "stream",
     "text": [
      "---------------------------------------------------------------------------\n"
     ]
    },
    {
     "name": "stdout",
     "output_type": "stream",
     "text": [
      "Multi-objectives: starting optimization with 3 objectives ... \n"
     ]
    },
    {
     "name": "stdout",
     "output_type": "stream",
     "text": [
      "---------------------------------------------------------------------------\n"
     ]
    },
    {
     "name": "stdout",
     "output_type": "stream",
     "text": [
      "\n"
     ]
    },
    {
     "name": "stdout",
     "output_type": "stream",
     "text": [
      "Multi-objectives: applying initial presolve ...\n"
     ]
    },
    {
     "name": "stdout",
     "output_type": "stream",
     "text": [
      "---------------------------------------------------------------------------\n"
     ]
    },
    {
     "name": "stdout",
     "output_type": "stream",
     "text": [
      "\n"
     ]
    },
    {
     "name": "stdout",
     "output_type": "stream",
     "text": [
      "Presolve time: 0.00s\n"
     ]
    },
    {
     "name": "stdout",
     "output_type": "stream",
     "text": [
      "Presolved: 4 rows and 10 columns\n"
     ]
    },
    {
     "name": "stdout",
     "output_type": "stream",
     "text": [
      "---------------------------------------------------------------------------\n"
     ]
    },
    {
     "name": "stdout",
     "output_type": "stream",
     "text": [
      "\n"
     ]
    },
    {
     "name": "stdout",
     "output_type": "stream",
     "text": [
      "Multi-objectives: optimize objective 1 () ...\n"
     ]
    },
    {
     "name": "stdout",
     "output_type": "stream",
     "text": [
      "---------------------------------------------------------------------------\n"
     ]
    },
    {
     "name": "stdout",
     "output_type": "stream",
     "text": [
      "\n"
     ]
    },
    {
     "name": "stdout",
     "output_type": "stream",
     "text": [
      "Presolve removed 4 rows and 10 columns\n"
     ]
    },
    {
     "name": "stdout",
     "output_type": "stream",
     "text": [
      "Presolve time: 0.00s\n"
     ]
    },
    {
     "name": "stdout",
     "output_type": "stream",
     "text": [
      "Presolve: All rows and columns removed\n"
     ]
    },
    {
     "name": "stdout",
     "output_type": "stream",
     "text": [
      "\n"
     ]
    },
    {
     "name": "stdout",
     "output_type": "stream",
     "text": [
      "Explored 0 nodes (0 simplex iterations) in 0.01 seconds (0.00 work units)\n"
     ]
    },
    {
     "name": "stdout",
     "output_type": "stream",
     "text": [
      "Thread count was 1 (of 12 available processors)\n"
     ]
    },
    {
     "name": "stdout",
     "output_type": "stream",
     "text": [
      "\n"
     ]
    },
    {
     "name": "stdout",
     "output_type": "stream",
     "text": [
      "Solution count 1: 0 \n"
     ]
    },
    {
     "name": "stdout",
     "output_type": "stream",
     "text": [
      "\n"
     ]
    },
    {
     "name": "stdout",
     "output_type": "stream",
     "text": [
      "Optimal solution found (tolerance 1.00e-04)\n"
     ]
    },
    {
     "name": "stdout",
     "output_type": "stream",
     "text": [
      "Best objective 0.000000000000e+00, best bound 0.000000000000e+00, gap 0.0000%\n"
     ]
    },
    {
     "name": "stdout",
     "output_type": "stream",
     "text": [
      "---------------------------------------------------------------------------\n"
     ]
    },
    {
     "name": "stdout",
     "output_type": "stream",
     "text": [
      "\n"
     ]
    },
    {
     "name": "stdout",
     "output_type": "stream",
     "text": [
      "Multi-objectives: optimize objective 2 () ...\n"
     ]
    },
    {
     "name": "stdout",
     "output_type": "stream",
     "text": [
      "---------------------------------------------------------------------------\n"
     ]
    },
    {
     "name": "stdout",
     "output_type": "stream",
     "text": [
      "\n"
     ]
    },
    {
     "name": "stdout",
     "output_type": "stream",
     "text": [
      "\n"
     ]
    },
    {
     "name": "stdout",
     "output_type": "stream",
     "text": [
      "Loaded user MIP start with objective 100\n"
     ]
    },
    {
     "name": "stdout",
     "output_type": "stream",
     "text": [
      "\n"
     ]
    },
    {
     "name": "stdout",
     "output_type": "stream",
     "text": [
      "Presolve removed 5 rows and 10 columns\n"
     ]
    },
    {
     "name": "stdout",
     "output_type": "stream",
     "text": [
      "Presolve time: 0.00s\n"
     ]
    },
    {
     "name": "stdout",
     "output_type": "stream",
     "text": [
      "Presolve: All rows and columns removed\n"
     ]
    },
    {
     "name": "stdout",
     "output_type": "stream",
     "text": [
      "\n"
     ]
    },
    {
     "name": "stdout",
     "output_type": "stream",
     "text": [
      "Explored 0 nodes (0 simplex iterations) in 0.02 seconds (0.00 work units)\n"
     ]
    },
    {
     "name": "stdout",
     "output_type": "stream",
     "text": [
      "Thread count was 1 (of 12 available processors)\n"
     ]
    },
    {
     "name": "stdout",
     "output_type": "stream",
     "text": [
      "\n"
     ]
    },
    {
     "name": "stdout",
     "output_type": "stream",
     "text": [
      "Solution count 2: 0 100 \n"
     ]
    },
    {
     "name": "stdout",
     "output_type": "stream",
     "text": [
      "\n"
     ]
    },
    {
     "name": "stdout",
     "output_type": "stream",
     "text": [
      "Optimal solution found (tolerance 1.00e-04)\n"
     ]
    },
    {
     "name": "stdout",
     "output_type": "stream",
     "text": [
      "Best objective 0.000000000000e+00, best bound 0.000000000000e+00, gap 0.0000%\n"
     ]
    },
    {
     "name": "stdout",
     "output_type": "stream",
     "text": [
      "---------------------------------------------------------------------------\n"
     ]
    },
    {
     "name": "stdout",
     "output_type": "stream",
     "text": [
      "\n"
     ]
    },
    {
     "name": "stdout",
     "output_type": "stream",
     "text": [
      "Multi-objectives: optimize objective 3 () ...\n"
     ]
    },
    {
     "name": "stdout",
     "output_type": "stream",
     "text": [
      "---------------------------------------------------------------------------\n"
     ]
    },
    {
     "name": "stdout",
     "output_type": "stream",
     "text": [
      "\n"
     ]
    },
    {
     "name": "stdout",
     "output_type": "stream",
     "text": [
      "\n"
     ]
    },
    {
     "name": "stdout",
     "output_type": "stream",
     "text": [
      "Loaded user MIP start with objective 120\n"
     ]
    },
    {
     "name": "stdout",
     "output_type": "stream",
     "text": [
      "\n"
     ]
    },
    {
     "name": "stdout",
     "output_type": "stream",
     "text": [
      "Presolve removed 6 rows and 10 columns\n"
     ]
    },
    {
     "name": "stdout",
     "output_type": "stream",
     "text": [
      "Presolve time: 0.00s\n"
     ]
    },
    {
     "name": "stdout",
     "output_type": "stream",
     "text": [
      "Presolve: All rows and columns removed\n"
     ]
    },
    {
     "name": "stdout",
     "output_type": "stream",
     "text": [
      "\n"
     ]
    },
    {
     "name": "stdout",
     "output_type": "stream",
     "text": [
      "Explored 0 nodes (0 simplex iterations) in 0.02 seconds (0.00 work units)\n"
     ]
    },
    {
     "name": "stdout",
     "output_type": "stream",
     "text": [
      "Thread count was 1 (of 12 available processors)\n"
     ]
    },
    {
     "name": "stdout",
     "output_type": "stream",
     "text": [
      "\n"
     ]
    },
    {
     "name": "stdout",
     "output_type": "stream",
     "text": [
      "Solution count 1: 120 \n"
     ]
    },
    {
     "name": "stdout",
     "output_type": "stream",
     "text": [
      "\n"
     ]
    },
    {
     "name": "stdout",
     "output_type": "stream",
     "text": [
      "Optimal solution found (tolerance 1.00e-04)\n"
     ]
    },
    {
     "name": "stdout",
     "output_type": "stream",
     "text": [
      "Best objective 1.200000000000e+02, best bound 1.200000000000e+02, gap 0.0000%\n"
     ]
    },
    {
     "name": "stdout",
     "output_type": "stream",
     "text": [
      "\n"
     ]
    },
    {
     "name": "stdout",
     "output_type": "stream",
     "text": [
      "---------------------------------------------------------------------------\n"
     ]
    },
    {
     "name": "stdout",
     "output_type": "stream",
     "text": [
      "Multi-objectives: solved in 0.03 seconds (0.00 work units), solution count 2\n"
     ]
    },
    {
     "name": "stdout",
     "output_type": "stream",
     "text": [
      "\n"
     ]
    },
    {
     "name": "stdout",
     "output_type": "stream",
     "text": [
      "x[0] 40.0\n",
      "x[1] 50.0\n",
      "dm[0] 0.0\n",
      "dm[1] -0.0\n",
      "dm[2] -0.0\n",
      "dm[3] 0.0\n",
      "dp[0] 140.0\n",
      "dp[1] 0.0\n",
      "dp[2] 0.0\n",
      "dp[3] 120.0\n"
     ]
    }
   ],
   "source": [
    "from gurobipy import *\n",
    "m = Model('C9Q10')\n",
    "\n",
    "# Add Variables\n",
    "x  = m.addVars(range(2), name='x',  lb=0, vtype = GRB.INTEGER)\n",
    "dm = m.addVars(range(4), name='dm', lb=0, vtype = GRB.INTEGER)\n",
    "dp = m.addVars(range(4), name='dp', lb=0, vtype = GRB.INTEGER)\n",
    "#totSlack = m.addVar(name='totSlack')\n",
    "m.update()\n",
    "\n",
    "# Add Constraints\n",
    "c1 = m.addConstr(8*x[0]  + 6*x[1]  + 1*dm[0] - 1*dp[0] == 480)\n",
    "c2 = m.addConstr(1*x[0]            + 1*dm[1] - 1*dp[1] == 40)\n",
    "c3 = m.addConstr(          1*x[1]  + 1*dm[2] - 1*dp[2] == 50)\n",
    "c4 = m.addConstr(          1*dp[0] + 1*dm[3] - 1*dp[3] == 20)\n",
    "\n",
    "# Add Objective Function\n",
    "m.ModelSense = GRB.MINIMIZE\n",
    "m.setObjectiveN(dm[0], index=0, priority=2)\n",
    "m.setObjectiveN(5*dm[1]+2*dm[2], index=1, priority=1)\n",
    "m.setObjectiveN(dp[3], index=2, priority=0)\n",
    "\n",
    "# Optimize Model\n",
    "m.optimize()\n",
    "\n",
    "# Output formatted solution\n",
    "for v in m.getVars():\n",
    "    print(v.varName, v.x)\n",
    "#print('Obj :', m.objVal)"
   ]
  },
  {
   "cell_type": "markdown",
   "metadata": {
    "id": "08YeDKwMyXqt"
   },
   "source": [
    "# Chapter 6: Nonlinear Programming"
   ]
  },
  {
   "cell_type": "markdown",
   "metadata": {
    "id": "-WI5bf1URlgb"
   },
   "source": [
    "Problems that fit the general linear programming format but contain nonlinear functions are termed nonlinear programming problems.\n",
    "* Solution methods are more complex than linear programming methods.\n",
    "* Determining an optimal solution is often difficult, if not impossible.\n",
    "* Solution techniques generally involve searching a solution surface for high or low points requiring the use of advanced mathematics.\n",
    "\n",
    "* A nonlinear problem containing one or more constraints becomes a constrained optimization model or a nonlinear programming model.\n",
    "* A nonlinear programming model has the same general form as the linear programming model except that the objective function and/or the constraint(s) are nonlinear.\n",
    "* Solution procedures are much more complex and no guaranteed procedure exists for all nonlinear problem models.\n",
    "* Unlike linear programming, the solution is often not on the boundary of the feasible solution space.\n",
    "* Cannot simply look at points on the solution space boundary but must consider other points on the surface of the objective function.\n",
    "* This greatly complicates solution approaches.\n",
    "* Solution techniques can be very complex.\n",
    "\n",
    "\n"
   ]
  },
  {
   "cell_type": "markdown",
   "metadata": {
    "id": "oY2_C-GQSKVX"
   },
   "source": [
    "## Nonlinear problem example: \n",
    "Solve the following nonlinear programming model:\n",
    "\\begin{align}\n",
    "&\\text{max}\\\\\n",
    "&\\qquad z=(4-0.1x_1)x_1+(5-0.2x_2)x_2\\\\\n",
    "&\\text{s.t.}\\\\\n",
    "&\\qquad x_1+2x_2=40\\\\\n",
    "&\\qquad x_i \\ge 0\\\\\n",
    "\\end{align}  "
   ]
  },
  {
   "cell_type": "code",
   "execution_count": 267,
   "metadata": {
    "colab": {
     "base_uri": "https://localhost:8080/"
    },
    "id": "knHs9TpoyYdp",
    "outputId": "c14416b1-7cf1-4f88-c5f9-2f347cc13104"
   },
   "outputs": [
    {
     "name": "stdout",
     "output_type": "stream",
     "text": [
      "Gurobi Optimizer version 9.5.0 build v9.5.0rc5 (mac64[x86])\n"
     ]
    },
    {
     "name": "stdout",
     "output_type": "stream",
     "text": [
      "Thread count: 6 physical cores, 12 logical processors, using up to 12 threads\n"
     ]
    },
    {
     "name": "stdout",
     "output_type": "stream",
     "text": [
      "Optimize a model with 1 rows, 2 columns and 2 nonzeros\n"
     ]
    },
    {
     "name": "stdout",
     "output_type": "stream",
     "text": [
      "Model fingerprint: 0x34cdafe3\n"
     ]
    },
    {
     "name": "stdout",
     "output_type": "stream",
     "text": [
      "Model has 2 quadratic objective terms\n"
     ]
    },
    {
     "name": "stdout",
     "output_type": "stream",
     "text": [
      "Coefficient statistics:\n"
     ]
    },
    {
     "name": "stdout",
     "output_type": "stream",
     "text": [
      "  Matrix range     [1e+00, 2e+00]\n"
     ]
    },
    {
     "name": "stdout",
     "output_type": "stream",
     "text": [
      "  Objective range  [4e+00, 5e+00]\n"
     ]
    },
    {
     "name": "stdout",
     "output_type": "stream",
     "text": [
      "  QObjective range [2e-01, 4e-01]\n"
     ]
    },
    {
     "name": "stdout",
     "output_type": "stream",
     "text": [
      "  Bounds range     [0e+00, 0e+00]\n"
     ]
    },
    {
     "name": "stdout",
     "output_type": "stream",
     "text": [
      "  RHS range        [4e+01, 4e+01]\n"
     ]
    },
    {
     "name": "stdout",
     "output_type": "stream",
     "text": [
      "Presolve time: 0.00s\n"
     ]
    },
    {
     "name": "stdout",
     "output_type": "stream",
     "text": [
      "Presolved: 1 rows, 2 columns, 2 nonzeros\n"
     ]
    },
    {
     "name": "stdout",
     "output_type": "stream",
     "text": [
      "Presolved model has 2 quadratic objective terms\n"
     ]
    },
    {
     "name": "stdout",
     "output_type": "stream",
     "text": [
      "Ordering time: 0.00s\n"
     ]
    },
    {
     "name": "stdout",
     "output_type": "stream",
     "text": [
      "\n"
     ]
    },
    {
     "name": "stdout",
     "output_type": "stream",
     "text": [
      "Barrier statistics:\n"
     ]
    },
    {
     "name": "stdout",
     "output_type": "stream",
     "text": [
      " AA' NZ     : 0.000e+00\n"
     ]
    },
    {
     "name": "stdout",
     "output_type": "stream",
     "text": [
      " Factor NZ  : 1.000e+00\n"
     ]
    },
    {
     "name": "stdout",
     "output_type": "stream",
     "text": [
      " Factor Ops : 1.000e+00 (less than 1 second per iteration)\n"
     ]
    },
    {
     "name": "stdout",
     "output_type": "stream",
     "text": [
      " Threads    : 1\n"
     ]
    },
    {
     "name": "stdout",
     "output_type": "stream",
     "text": [
      "\n"
     ]
    },
    {
     "name": "stdout",
     "output_type": "stream",
     "text": [
      "                  Objective                Residual\n"
     ]
    },
    {
     "name": "stdout",
     "output_type": "stream",
     "text": [
      "Iter       Primal          Dual         Primal    Dual     Compl     Time\n"
     ]
    },
    {
     "name": "stdout",
     "output_type": "stream",
     "text": [
      "   0  -5.98930000e+05  6.12060000e+05  2.00e+03 0.00e+00  1.01e+06     0s\n"
     ]
    },
    {
     "name": "stdout",
     "output_type": "stream",
     "text": [
      "   1   7.00620769e+01  1.96612266e+04  2.00e-03 0.00e+00  9.80e+03     0s\n"
     ]
    },
    {
     "name": "stdout",
     "output_type": "stream",
     "text": [
      "   2   7.00738420e+01  9.86563122e+01  9.19e-07 0.00e+00  1.43e+01     0s\n"
     ]
    },
    {
     "name": "stdout",
     "output_type": "stream",
     "text": [
      "   3   7.04164770e+01  7.06320152e+01  2.71e-10 0.00e+00  1.08e-01     0s\n"
     ]
    },
    {
     "name": "stdout",
     "output_type": "stream",
     "text": [
      "   4   7.04166667e+01  7.04168819e+01  0.00e+00 0.00e+00  1.08e-04     0s\n"
     ]
    },
    {
     "name": "stdout",
     "output_type": "stream",
     "text": [
      "   5   7.04166667e+01  7.04166669e+01  0.00e+00 8.88e-16  1.08e-07     0s\n"
     ]
    },
    {
     "name": "stdout",
     "output_type": "stream",
     "text": [
      "   6   7.04166667e+01  7.04166667e+01  0.00e+00 0.00e+00  1.08e-10     0s\n"
     ]
    },
    {
     "name": "stdout",
     "output_type": "stream",
     "text": [
      "\n"
     ]
    },
    {
     "name": "stdout",
     "output_type": "stream",
     "text": [
      "Barrier solved model in 6 iterations and 0.01 seconds (0.00 work units)\n"
     ]
    },
    {
     "name": "stdout",
     "output_type": "stream",
     "text": [
      "Optimal objective 7.04166667e+01\n"
     ]
    },
    {
     "name": "stdout",
     "output_type": "stream",
     "text": [
      "\n"
     ]
    },
    {
     "name": "stdout",
     "output_type": "stream",
     "text": [
      "x1 18.33333333336888\n",
      "x2 10.833333333315561\n",
      "optimal total revenue: 70.41666666666666\n"
     ]
    }
   ],
   "source": [
    "# import gurobi library\n",
    "from gurobipy import * # This command imports the Gurobi functions and classes.\n",
    "\n",
    "# create new model\n",
    "m = Model('Beaver Creek Pottery Company ')\n",
    "x1 = m.addVar(lb = 0, vtype = GRB.CONTINUOUS, name='x1') \n",
    "x2 = m.addVar(lb = 0, vtype = GRB.CONTINUOUS, name='x2')\n",
    "\n",
    "m.setObjective((4-0.1*x1)*x1+(5-0.2*x2)*x2, GRB.MAXIMIZE)\n",
    "m.addConstr(1*x1+2*x2==40, 'const1')\n",
    "\n",
    "m.optimize()\n",
    "\n",
    "#display optimal production plan\n",
    "for v in m.getVars():\n",
    "  print(v.varName, v.x)\n",
    "print('optimal total revenue:', m.objVal)"
   ]
  },
  {
   "cell_type": "markdown",
   "metadata": {
    "id": "CcZEs_tbSk2j"
   },
   "source": [
    "## A Nonlinear Programming Model with Multiple Constraints:\n",
    " \n",
    "Solve the following nonlinear programming model:\n",
    "\\begin{align}\n",
    "&\\text{max}\\\\\n",
    "&\\qquad z=\\left(\\frac{1500-x_1}{24.6}-12\\right)x_1\n",
    "+\\left(\\frac{2700-x_2}{63.8}-9\\right)x_2\\\\\n",
    "&\\text{s.t.}\\\\\n",
    "&\\qquad 2x_1+2.7x_2\\le 6000\\\\\n",
    "&\\qquad 3.6x_1+2.9x_2\\le 8500\\\\\n",
    "&\\qquad 7.2x_1+8.5x_2\\le 15000\\\\\n",
    "&\\qquad x_i \\ge 0\\\\\n",
    "\\end{align} "
   ]
  },
  {
   "cell_type": "code",
   "execution_count": 268,
   "metadata": {
    "colab": {
     "base_uri": "https://localhost:8080/"
    },
    "id": "H6MLLFrqyaUm",
    "outputId": "694d0487-141b-4f52-b6ef-ac5c8a732026"
   },
   "outputs": [
    {
     "name": "stdout",
     "output_type": "stream",
     "text": [
      "Requirement already satisfied: gurobipy in /Users/naftali/opt/anaconda3/envs/qe-mini-example/lib/python3.8/site-packages (9.5.0)\r\n"
     ]
    },
    {
     "name": "stdout",
     "output_type": "stream",
     "text": [
      "Gurobi Optimizer version 9.5.0 build v9.5.0rc5 (mac64[x86])\n"
     ]
    },
    {
     "name": "stdout",
     "output_type": "stream",
     "text": [
      "Thread count: 6 physical cores, 12 logical processors, using up to 12 threads\n"
     ]
    },
    {
     "name": "stdout",
     "output_type": "stream",
     "text": [
      "Optimize a model with 3 rows, 2 columns and 6 nonzeros\n"
     ]
    },
    {
     "name": "stdout",
     "output_type": "stream",
     "text": [
      "Model fingerprint: 0x390c5c3a\n"
     ]
    },
    {
     "name": "stdout",
     "output_type": "stream",
     "text": [
      "Model has 2 quadratic objective terms\n"
     ]
    },
    {
     "name": "stdout",
     "output_type": "stream",
     "text": [
      "Coefficient statistics:\n"
     ]
    },
    {
     "name": "stdout",
     "output_type": "stream",
     "text": [
      "  Matrix range     [2e+00, 8e+00]\n"
     ]
    },
    {
     "name": "stdout",
     "output_type": "stream",
     "text": [
      "  Objective range  [3e+01, 5e+01]\n"
     ]
    },
    {
     "name": "stdout",
     "output_type": "stream",
     "text": [
      "  QObjective range [3e-02, 8e-02]\n"
     ]
    },
    {
     "name": "stdout",
     "output_type": "stream",
     "text": [
      "  Bounds range     [0e+00, 0e+00]\n"
     ]
    },
    {
     "name": "stdout",
     "output_type": "stream",
     "text": [
      "  RHS range        [6e+03, 2e+04]\n"
     ]
    },
    {
     "name": "stdout",
     "output_type": "stream",
     "text": [
      "Presolve time: 0.01s\n"
     ]
    },
    {
     "name": "stdout",
     "output_type": "stream",
     "text": [
      "Presolved: 3 rows, 2 columns, 6 nonzeros\n"
     ]
    },
    {
     "name": "stdout",
     "output_type": "stream",
     "text": [
      "Presolved model has 2 quadratic objective terms\n"
     ]
    },
    {
     "name": "stdout",
     "output_type": "stream",
     "text": [
      "Ordering time: 0.00s\n"
     ]
    },
    {
     "name": "stdout",
     "output_type": "stream",
     "text": [
      "\n"
     ]
    },
    {
     "name": "stdout",
     "output_type": "stream",
     "text": [
      "Barrier statistics:\n"
     ]
    },
    {
     "name": "stdout",
     "output_type": "stream",
     "text": [
      " AA' NZ     : 3.000e+00\n"
     ]
    },
    {
     "name": "stdout",
     "output_type": "stream",
     "text": [
      " Factor NZ  : 6.000e+00\n"
     ]
    },
    {
     "name": "stdout",
     "output_type": "stream",
     "text": [
      " Factor Ops : 1.400e+01 (less than 1 second per iteration)\n"
     ]
    },
    {
     "name": "stdout",
     "output_type": "stream",
     "text": [
      " Threads    : 1\n"
     ]
    },
    {
     "name": "stdout",
     "output_type": "stream",
     "text": [
      "\n"
     ]
    },
    {
     "name": "stdout",
     "output_type": "stream",
     "text": [
      "                  Objective                Residual\n"
     ]
    },
    {
     "name": "stdout",
     "output_type": "stream",
     "text": [
      "Iter       Primal          Dual         Primal    Dual     Compl     Time\n"
     ]
    },
    {
     "name": "stdout",
     "output_type": "stream",
     "text": [
      "   0  -3.51759547e+05  6.37499504e+05  9.27e+02 0.00e+00  1.12e+06     0s\n"
     ]
    },
    {
     "name": "stdout",
     "output_type": "stream",
     "text": [
      "   1   2.37322400e+04  6.43047090e+05  0.00e+00 0.00e+00  1.24e+05     0s\n"
     ]
    },
    {
     "name": "stdout",
     "output_type": "stream",
     "text": [
      "   2   2.51606709e+04  6.37933000e+04  0.00e+00 0.00e+00  7.73e+03     0s\n"
     ]
    },
    {
     "name": "stdout",
     "output_type": "stream",
     "text": [
      "   3   3.20504323e+04  4.25647642e+04  0.00e+00 0.00e+00  2.10e+03     0s\n"
     ]
    },
    {
     "name": "stdout",
     "output_type": "stream",
     "text": [
      "   4   3.24417089e+04  3.27645350e+04  0.00e+00 0.00e+00  6.46e+01     0s\n"
     ]
    },
    {
     "name": "stdout",
     "output_type": "stream",
     "text": [
      "   5   3.24592168e+04  3.24657001e+04  0.00e+00 2.84e-14  1.30e+00     0s\n"
     ]
    },
    {
     "name": "stdout",
     "output_type": "stream",
     "text": [
      "   6   3.24592344e+04  3.24592408e+04  0.00e+00 0.00e+00  1.29e-03     0s\n"
     ]
    },
    {
     "name": "stdout",
     "output_type": "stream",
     "text": [
      "   7   3.24592344e+04  3.24592344e+04  0.00e+00 2.84e-14  1.29e-06     0s\n"
     ]
    },
    {
     "name": "stdout",
     "output_type": "stream",
     "text": [
      "   8   3.24592344e+04  3.24592344e+04  0.00e+00 0.00e+00  1.29e-09     0s\n"
     ]
    },
    {
     "name": "stdout",
     "output_type": "stream",
     "text": [
      "\n"
     ]
    },
    {
     "name": "stdout",
     "output_type": "stream",
     "text": [
      "Barrier solved model in 8 iterations and 0.02 seconds (0.00 work units)\n"
     ]
    },
    {
     "name": "stdout",
     "output_type": "stream",
     "text": [
      "Optimal objective 3.24592344e+04\n"
     ]
    },
    {
     "name": "stdout",
     "output_type": "stream",
     "text": [
      "\n"
     ]
    },
    {
     "name": "stdout",
     "output_type": "stream",
     "text": [
      "x1 602.3999999996935\n",
      "x2 1062.8999999990601\n",
      "optimal total revenue: 32459.234379539725\n"
     ]
    }
   ],
   "source": [
    "!pip install gurobipy\n",
    "from gurobipy import * # This command imports the Gurobi functions and classes.\n",
    "\n",
    "# create new model\n",
    "m = Model('Western Clothing Company')\n",
    "x1 = m.addVar(lb = 0, vtype = GRB.CONTINUOUS, name='x1') \n",
    "x2 = m.addVar(lb = 0, vtype = GRB.CONTINUOUS, name='x2')\n",
    "\n",
    "\n",
    "m.setObjective(((1500-x1)/24.6-12)*x1+((2700-x2)/63.8-9)*x2, GRB.MAXIMIZE)\n",
    "m.addConstr(2*x1+2.7*x2<=6000, 'const1')\n",
    "m.addConstr(3.6*x1+2.9*x2<=8500, 'const2')\n",
    "m.addConstr(7.2*x1+8.5*x2<=15000, 'const3')\n",
    "\n",
    "m.optimize()\n",
    "\n",
    "#display optimal production plan\n",
    "for v in m.getVars():\n",
    "  print(v.varName, v.x)\n",
    "print('optimal total revenue:', m.objVal)"
   ]
  },
  {
   "cell_type": "markdown",
   "metadata": {
    "id": "Yi5Y0s46T1am"
   },
   "source": [
    "## Problem Example: C10Q14\n",
    "Solve the following nonlinear programming model:\n",
    "\\begin{align}\n",
    "&\\text{max}\\\\\n",
    "&\\qquad z=\\left(15000-\\frac{9000}{x_1} \\right)\\\\\n",
    "&\\qquad ~~+\\left(24000-\\frac{15000}{x_2} \\right)\\\\\n",
    "&\\qquad ~~+\\left(8100-\\frac{5300}{x_3} \\right)\\\\\n",
    "&\\qquad ~~+\\left(12000-\\frac{7600}{x_4} \\right)\\\\\n",
    "&\\qquad ~~+\\left(21000-\\frac{12500}{x_4} \\right)\\\\\n",
    "&\\text{s.t.}\\\\\n",
    "&\\qquad x_1+x_2+x_3+x_4+x_5 \\le 15\\\\\n",
    "&\\qquad 355x_1+540x_2+290x_3+275x_4+490x_5 \\le 6500\\\\\n",
    "&\\qquad x_i \\ge 0,~\\text{and integer}\\\\\n",
    "\\end{align} "
   ]
  },
  {
   "cell_type": "code",
   "execution_count": 269,
   "metadata": {
    "colab": {
     "base_uri": "https://localhost:8080/"
    },
    "id": "O0hc5us9ykdE",
    "outputId": "65f43a4b-595b-43d8-ceb2-79412d0ad12d"
   },
   "outputs": [
    {
     "name": "stdout",
     "output_type": "stream",
     "text": [
      "Set parameter NonConvex to value 2\n"
     ]
    },
    {
     "name": "stdout",
     "output_type": "stream",
     "text": [
      "Gurobi Optimizer version 9.5.0 build v9.5.0rc5 (mac64[x86])\n"
     ]
    },
    {
     "name": "stdout",
     "output_type": "stream",
     "text": [
      "Thread count: 6 physical cores, 12 logical processors, using up to 12 threads\n"
     ]
    },
    {
     "name": "stdout",
     "output_type": "stream",
     "text": [
      "Optimize a model with 2 rows, 10 columns and 10 nonzeros\n"
     ]
    },
    {
     "name": "stdout",
     "output_type": "stream",
     "text": [
      "Model fingerprint: 0xb4d06825\n"
     ]
    },
    {
     "name": "stdout",
     "output_type": "stream",
     "text": [
      "Model has 5 quadratic constraints\n"
     ]
    },
    {
     "name": "stdout",
     "output_type": "stream",
     "text": [
      "Variable types: 5 continuous, 5 integer (0 binary)\n"
     ]
    },
    {
     "name": "stdout",
     "output_type": "stream",
     "text": [
      "Coefficient statistics:\n"
     ]
    },
    {
     "name": "stdout",
     "output_type": "stream",
     "text": [
      "  Matrix range     [1e+00, 5e+02]\n"
     ]
    },
    {
     "name": "stdout",
     "output_type": "stream",
     "text": [
      "  QMatrix range    [1e+00, 1e+00]\n"
     ]
    },
    {
     "name": "stdout",
     "output_type": "stream",
     "text": [
      "  Objective range  [5e+03, 2e+04]\n"
     ]
    },
    {
     "name": "stdout",
     "output_type": "stream",
     "text": [
      "  Bounds range     [1e+00, 1e+00]\n"
     ]
    },
    {
     "name": "stdout",
     "output_type": "stream",
     "text": [
      "  RHS range        [2e+01, 6e+03]\n"
     ]
    },
    {
     "name": "stdout",
     "output_type": "stream",
     "text": [
      "  QRHS range       [1e+00, 1e+00]\n"
     ]
    },
    {
     "name": "stdout",
     "output_type": "stream",
     "text": [
      "Presolve time: 0.00s\n"
     ]
    },
    {
     "name": "stdout",
     "output_type": "stream",
     "text": [
      "Presolved: 22 rows, 10 columns, 50 nonzeros\n"
     ]
    },
    {
     "name": "stdout",
     "output_type": "stream",
     "text": [
      "Presolved model has 5 bilinear constraint(s)\n"
     ]
    },
    {
     "name": "stdout",
     "output_type": "stream",
     "text": [
      "Variable types: 5 continuous, 5 integer (0 binary)\n"
     ]
    },
    {
     "name": "stdout",
     "output_type": "stream",
     "text": [
      "\n"
     ]
    },
    {
     "name": "stdout",
     "output_type": "stream",
     "text": [
      "Root relaxation: objective 7.218908e+04, 7 iterations, 0.00 seconds (0.00 work units)\n"
     ]
    },
    {
     "name": "stdout",
     "output_type": "stream",
     "text": [
      "\n"
     ]
    },
    {
     "name": "stdout",
     "output_type": "stream",
     "text": [
      "    Nodes    |    Current Node    |     Objective Bounds      |     Work\n"
     ]
    },
    {
     "name": "stdout",
     "output_type": "stream",
     "text": [
      " Expl Unexpl |  Obj  Depth IntInf | Incumbent    BestBd   Gap | It/Node Time\n"
     ]
    },
    {
     "name": "stdout",
     "output_type": "stream",
     "text": [
      "\n"
     ]
    },
    {
     "name": "stdout",
     "output_type": "stream",
     "text": [
      "     0     0 72189.0780    0   10          - 72189.0780      -     -    0s\n"
     ]
    },
    {
     "name": "stdout",
     "output_type": "stream",
     "text": [
      "H    0     0                    60400.000000 72189.0780  19.5%     -    0s\n"
     ]
    },
    {
     "name": "stdout",
     "output_type": "stream",
     "text": [
      "     0     0 71744.9856    0   10 60400.0000 71744.9856  18.8%     -    0s\n"
     ]
    },
    {
     "name": "stdout",
     "output_type": "stream",
     "text": [
      "     0     0 71058.7908    0    5 60400.0000 71058.7908  17.6%     -    0s\n"
     ]
    },
    {
     "name": "stdout",
     "output_type": "stream",
     "text": [
      "H    0     0                    63633.333333 71058.7908  11.7%     -    0s\n"
     ]
    },
    {
     "name": "stdout",
     "output_type": "stream",
     "text": [
      "     0     0 69577.4266    0   10 63633.3333 69577.4266  9.34%     -    0s\n"
     ]
    },
    {
     "name": "stdout",
     "output_type": "stream",
     "text": [
      "     0     0 69393.2479    0    5 63633.3333 69393.2479  9.05%     -    0s\n"
     ]
    },
    {
     "name": "stdout",
     "output_type": "stream",
     "text": [
      "     0     0 69352.0957    0    5 63633.3333 69352.0957  8.99%     -    0s\n"
     ]
    },
    {
     "name": "stdout",
     "output_type": "stream",
     "text": [
      "H    0     0                    63791.666667 69352.0957  8.72%     -    0s\n"
     ]
    },
    {
     "name": "stdout",
     "output_type": "stream",
     "text": [
      "     0     2 69352.0957    0    5 63791.6667 69352.0957  8.72%     -    0s\n"
     ]
    },
    {
     "name": "stdout",
     "output_type": "stream",
     "text": [
      "H    8    11                    64000.000000 67887.8999  6.07%   2.1    0s\n"
     ]
    },
    {
     "name": "stdout",
     "output_type": "stream",
     "text": [
      "\n"
     ]
    },
    {
     "name": "stdout",
     "output_type": "stream",
     "text": [
      "Cutting planes:\n"
     ]
    },
    {
     "name": "stdout",
     "output_type": "stream",
     "text": [
      "  MIR: 4\n"
     ]
    },
    {
     "name": "stdout",
     "output_type": "stream",
     "text": [
      "  RLT: 5\n"
     ]
    },
    {
     "name": "stdout",
     "output_type": "stream",
     "text": [
      "\n"
     ]
    },
    {
     "name": "stdout",
     "output_type": "stream",
     "text": [
      "Explored 78 nodes (224 simplex iterations) in 0.05 seconds (0.00 work units)\n"
     ]
    },
    {
     "name": "stdout",
     "output_type": "stream",
     "text": [
      "Thread count was 12 (of 12 available processors)\n"
     ]
    },
    {
     "name": "stdout",
     "output_type": "stream",
     "text": [
      "\n"
     ]
    },
    {
     "name": "stdout",
     "output_type": "stream",
     "text": [
      "Solution count 4: 64000 63791.7 63633.3 60400 \n"
     ]
    },
    {
     "name": "stdout",
     "output_type": "stream",
     "text": [
      "\n"
     ]
    },
    {
     "name": "stdout",
     "output_type": "stream",
     "text": [
      "Optimal solution found (tolerance 1.00e-04)\n"
     ]
    },
    {
     "name": "stdout",
     "output_type": "stream",
     "text": [
      "Best objective 6.400000000000e+04, best bound 6.400000000000e+04, gap 0.0000%\n"
     ]
    },
    {
     "name": "stdout",
     "output_type": "stream",
     "text": [
      "x[0] 3.0\n",
      "x[1] 4.0\n",
      "x[2] 2.0\n",
      "x[3] 3.0\n",
      "x[4] 3.0\n",
      "u[0] 0.3333333333333333\n",
      "u[1] 0.25\n",
      "u[2] 0.5\n",
      "u[3] 0.3333333333333333\n",
      "u[4] 0.3333333333333333\n",
      "optimal total revenue: 64000.0\n"
     ]
    }
   ],
   "source": [
    "from gurobipy import * \n",
    "import numpy as np\n",
    "\n",
    "m = Model('C10Q14')\n",
    "m.params.NonConvex = 2\n",
    "\n",
    "x  = m.addVars(range(5), name='x',  lb=1, vtype = GRB.INTEGER)\n",
    "u  = m.addVars(range(5), name='u',  lb=0, vtype = GRB.CONTINUOUS)\n",
    "\n",
    "m.setObjective((15000 -9000*u[0])+(24000-15000*u[1])+\n",
    "               (8100  -5300*u[2])+(12000 -7600*u[3])+\n",
    "               (21000-12500*u[4]), GRB.MAXIMIZE)\n",
    "m.addConstr(x[0]+x[1]+x[2]+x[3]+x[4]<=15, 'const1')\n",
    "m.addConstr(355*x[0]+540*x[1]+290*x[2]+275*x[3]+490*x[4]<=6500, 'const2')\n",
    "\n",
    "m.addConstrs((x[i]*u[i] == 1 for i in range(5)), name='bilinear')\n",
    "\n",
    "m.optimize()\n",
    "\n",
    "for v in m.getVars():\n",
    "  print(v.varName, v.x)\n",
    "print('optimal total revenue:', m.objVal)"
   ]
  },
  {
   "cell_type": "markdown",
   "metadata": {
    "id": "_KtjCLNyTUhK"
   },
   "source": [
    "## Facility Location Problem Example: C10Q19\n",
    "Solve the following nonlinear programming model:\n",
    "\\begin{align}\n",
    "&\\text{min}\\\\\n",
    "&\\qquad z=7000\\sqrt{(1000-x)^2+(1250-y)^2}\\\\\n",
    "&\\qquad ~~+9000\\sqrt{(1500-x)^2+(2700-y)^2}\\\\\n",
    "&\\qquad ~+11500\\sqrt{(2000-x)^2+(700-y)^2}\\\\\n",
    "&\\qquad ~~+4300\\sqrt{(2200-x)^2+(2000-y)^2}\\\\\n",
    "\\\\\n",
    "&\\text{s.t.}\\\\\n",
    "&\\qquad x, y \\ge 0\\\\\n",
    "\\end{align} "
   ]
  },
  {
   "cell_type": "code",
   "execution_count": 270,
   "metadata": {
    "colab": {
     "base_uri": "https://localhost:8080/"
    },
    "id": "1FcPYspJycrJ",
    "outputId": "d364bfa9-662f-467d-d39a-4517071eb1d9"
   },
   "outputs": [
    {
     "name": "stdout",
     "output_type": "stream",
     "text": [
      "Set parameter NonConvex to value 2\n"
     ]
    },
    {
     "name": "stdout",
     "output_type": "stream",
     "text": [
      "Gurobi Optimizer version 9.5.0 build v9.5.0rc5 (mac64[x86])\n"
     ]
    },
    {
     "name": "stdout",
     "output_type": "stream",
     "text": [
      "Thread count: 6 physical cores, 12 logical processors, using up to 12 threads\n"
     ]
    },
    {
     "name": "stdout",
     "output_type": "stream",
     "text": [
      "Optimize a model with 0 rows, 10 columns and 0 nonzeros\n"
     ]
    },
    {
     "name": "stdout",
     "output_type": "stream",
     "text": [
      "Model fingerprint: 0x087228d7\n"
     ]
    },
    {
     "name": "stdout",
     "output_type": "stream",
     "text": [
      "Model has 8 quadratic constraints\n"
     ]
    },
    {
     "name": "stdout",
     "output_type": "stream",
     "text": [
      "Coefficient statistics:\n"
     ]
    },
    {
     "name": "stdout",
     "output_type": "stream",
     "text": [
      "  Matrix range     [0e+00, 0e+00]\n"
     ]
    },
    {
     "name": "stdout",
     "output_type": "stream",
     "text": [
      "  QMatrix range    [1e+00, 1e+00]\n"
     ]
    },
    {
     "name": "stdout",
     "output_type": "stream",
     "text": [
      "  QLMatrix range   [1e+00, 5e+03]\n"
     ]
    },
    {
     "name": "stdout",
     "output_type": "stream",
     "text": [
      "  Objective range  [4e+03, 1e+04]\n"
     ]
    },
    {
     "name": "stdout",
     "output_type": "stream",
     "text": [
      "  Bounds range     [0e+00, 0e+00]\n"
     ]
    },
    {
     "name": "stdout",
     "output_type": "stream",
     "text": [
      "  RHS range        [0e+00, 0e+00]\n"
     ]
    },
    {
     "name": "stdout",
     "output_type": "stream",
     "text": [
      "  QRHS range       [3e+06, 1e+07]\n"
     ]
    },
    {
     "name": "stdout",
     "output_type": "stream",
     "text": [
      "\n"
     ]
    },
    {
     "name": "stdout",
     "output_type": "stream",
     "text": [
      "Continuous model is non-convex -- solving as a MIP\n"
     ]
    },
    {
     "name": "stdout",
     "output_type": "stream",
     "text": [
      "\n"
     ]
    },
    {
     "name": "stdout",
     "output_type": "stream",
     "text": [
      "Presolve time: 0.00s\n"
     ]
    },
    {
     "name": "stdout",
     "output_type": "stream",
     "text": [
      "Presolved: 22 rows, 13 columns, 50 nonzeros\n"
     ]
    },
    {
     "name": "stdout",
     "output_type": "stream",
     "text": [
      "Presolved model has 6 bilinear constraint(s)\n"
     ]
    },
    {
     "name": "stdout",
     "output_type": "stream",
     "text": [
      "Variable types: 13 continuous, 0 integer (0 binary)\n"
     ]
    },
    {
     "name": "stdout",
     "output_type": "stream",
     "text": [
      "\n"
     ]
    },
    {
     "name": "stdout",
     "output_type": "stream",
     "text": [
      "Root relaxation: objective 0.000000e+00, 5 iterations, 0.00 seconds (0.00 work units)\n"
     ]
    },
    {
     "name": "stdout",
     "output_type": "stream",
     "text": [
      "\n"
     ]
    },
    {
     "name": "stdout",
     "output_type": "stream",
     "text": [
      "    Nodes    |    Current Node    |     Objective Bounds      |     Work\n"
     ]
    },
    {
     "name": "stdout",
     "output_type": "stream",
     "text": [
      " Expl Unexpl |  Obj  Depth IntInf | Incumbent    BestBd   Gap | It/Node Time\n"
     ]
    },
    {
     "name": "stdout",
     "output_type": "stream",
     "text": [
      "\n"
     ]
    },
    {
     "name": "stdout",
     "output_type": "stream",
     "text": [
      "     0     0    0.00000    0    4          -    0.00000      -     -    0s\n"
     ]
    },
    {
     "name": "stdout",
     "output_type": "stream",
     "text": [
      "     0     0    0.00000    0    4          -    0.00000      -     -    0s\n"
     ]
    },
    {
     "name": "stdout",
     "output_type": "stream",
     "text": [
      "H    0     0                    3.188442e+07    0.00000   100%     -    0s\n"
     ]
    },
    {
     "name": "stdout",
     "output_type": "stream",
     "text": [
      "     0     2 2955947.12    0    3 3.1884e+07 2955947.12  90.7%     -    0s\n"
     ]
    },
    {
     "name": "stdout",
     "output_type": "stream",
     "text": [
      "H  288   164                    3.130315e+07 1.5034e+07  52.0%   1.3    0s\n"
     ]
    },
    {
     "name": "stdout",
     "output_type": "stream",
     "text": [
      "*  416   224              41    3.130312e+07 1.5034e+07  52.0%   1.3    0s\n"
     ]
    },
    {
     "name": "stdout",
     "output_type": "stream",
     "text": [
      "*  417   224              41    3.130312e+07 1.5034e+07  52.0%   1.3    0s\n"
     ]
    },
    {
     "name": "stdout",
     "output_type": "stream",
     "text": [
      "*  421   224              41    3.130312e+07 1.5034e+07  52.0%   1.3    0s\n"
     ]
    },
    {
     "name": "stdout",
     "output_type": "stream",
     "text": [
      "*  488   224              56    2.906378e+07 1.5034e+07  48.3%   1.3    0s\n"
     ]
    },
    {
     "name": "stdout",
     "output_type": "stream",
     "text": [
      "*  638   258              56    2.903497e+07 1.7850e+07  38.5%   1.2    0s\n"
     ]
    },
    {
     "name": "stdout",
     "output_type": "stream",
     "text": [
      "*  654   258              57    2.902885e+07 1.8010e+07  38.0%   1.2    0s\n"
     ]
    },
    {
     "name": "stdout",
     "output_type": "stream",
     "text": [
      "*  995   292              41    2.900416e+07 2.3961e+07  17.4%   1.1    0s\n"
     ]
    },
    {
     "name": "stdout",
     "output_type": "stream",
     "text": [
      "* 1386   375              59    2.898361e+07 2.5463e+07  12.1%   1.0    0s\n"
     ]
    },
    {
     "name": "stdout",
     "output_type": "stream",
     "text": [
      "* 1387   375              59    2.898361e+07 2.5463e+07  12.1%   1.0    0s\n"
     ]
    },
    {
     "name": "stdout",
     "output_type": "stream",
     "text": [
      "* 1413   375              56    2.895964e+07 2.5477e+07  12.0%   1.0    0s\n"
     ]
    },
    {
     "name": "stdout",
     "output_type": "stream",
     "text": [
      "* 1498   375              53    2.895438e+07 2.5477e+07  12.0%   1.0    0s\n"
     ]
    },
    {
     "name": "stdout",
     "output_type": "stream",
     "text": [
      "* 1942   356              53    2.895008e+07 2.7492e+07  5.04%   1.0    0s\n"
     ]
    },
    {
     "name": "stdout",
     "output_type": "stream",
     "text": [
      "* 2287   396              56    2.894936e+07 2.7934e+07  3.51%   1.0    0s\n"
     ]
    },
    {
     "name": "stdout",
     "output_type": "stream",
     "text": [
      "* 2307   396              44    2.894706e+07 2.8076e+07  3.01%   1.0    0s\n"
     ]
    },
    {
     "name": "stdout",
     "output_type": "stream",
     "text": [
      "* 2929   338              62    2.894623e+07 2.8655e+07  1.01%   1.0    0s\n"
     ]
    },
    {
     "name": "stdout",
     "output_type": "stream",
     "text": [
      "* 2939   338              61    2.894623e+07 2.8655e+07  1.01%   1.0    0s\n"
     ]
    },
    {
     "name": "stdout",
     "output_type": "stream",
     "text": [
      "* 3064   338              56    2.894552e+07 2.8709e+07  0.82%   1.0    0s\n"
     ]
    },
    {
     "name": "stdout",
     "output_type": "stream",
     "text": [
      "* 3211   460              54    2.894551e+07 2.8894e+07  0.18%   1.0    0s\n"
     ]
    },
    {
     "name": "stdout",
     "output_type": "stream",
     "text": [
      "* 3282   460              50    2.894551e+07 2.8894e+07  0.18%   1.0    0s\n"
     ]
    },
    {
     "name": "stdout",
     "output_type": "stream",
     "text": [
      "* 3377   460              52    2.894489e+07 2.8897e+07  0.16%   1.0    0s\n"
     ]
    },
    {
     "name": "stdout",
     "output_type": "stream",
     "text": [
      "* 3778   460              51    2.894483e+07 2.8922e+07  0.08%   1.0    0s\n"
     ]
    },
    {
     "name": "stdout",
     "output_type": "stream",
     "text": [
      "* 3935   429              63    2.894467e+07 2.8932e+07  0.04%   1.0    0s\n"
     ]
    },
    {
     "name": "stdout",
     "output_type": "stream",
     "text": [
      "* 4192   429              39    2.894465e+07 2.8936e+07  0.03%   1.0    0s\n"
     ]
    },
    {
     "name": "stdout",
     "output_type": "stream",
     "text": [
      "\n"
     ]
    },
    {
     "name": "stdout",
     "output_type": "stream",
     "text": [
      "Explored 4548 nodes (4687 simplex iterations) in 0.16 seconds (0.02 work units)\n"
     ]
    },
    {
     "name": "stdout",
     "output_type": "stream",
     "text": [
      "Thread count was 12 (of 12 available processors)\n"
     ]
    },
    {
     "name": "stdout",
     "output_type": "stream",
     "text": [
      "\n"
     ]
    },
    {
     "name": "stdout",
     "output_type": "stream",
     "text": [
      "Solution count 10: 2.89446e+07 2.89447e+07 2.89448e+07 ... 2.89471e+07\n"
     ]
    },
    {
     "name": "stdout",
     "output_type": "stream",
     "text": [
      "\n"
     ]
    },
    {
     "name": "stdout",
     "output_type": "stream",
     "text": [
      "Optimal solution found (tolerance 1.00e-04)\n"
     ]
    },
    {
     "name": "stdout",
     "output_type": "stream",
     "text": [
      "Best objective 2.894464706902e+07, best bound 2.894277167531e+07, gap 0.0065%\n"
     ]
    },
    {
     "name": "stdout",
     "output_type": "stream",
     "text": [
      "x[0]"
     ]
    },
    {
     "name": "stdout",
     "output_type": "stream",
     "text": [
      " 1657.7453674812043\n",
      "x[1] 1417.8076434290085\n",
      "u[0] 460788.3736361747\n",
      "u[1] 1668900.8402108455\n",
      "u[2] 632386.0464456757\n",
      "u[3] 632988.0265377712\n",
      "v[0] 678.8139462590151\n",
      "v[1] 1291.8594506410845\n",
      "v[2] 795.2270408163973\n",
      "v[3] 795.6054465234456\n",
      "optimal total revenue: 28944647.06902225\n"
     ]
    }
   ],
   "source": [
    "import gurobipy as gp\n",
    "from gurobipy import GRB\n",
    "\n",
    "# create new model\n",
    "m = gp.Model('C10Q19')\n",
    "m.params.NonConvex = 2\n",
    "\n",
    "x  = m.addVars(range(2), name='x',  lb=0, vtype = GRB.CONTINUOUS)\n",
    "u  = m.addVars(range(4), name='u',   vtype = GRB.CONTINUOUS)\n",
    "v  = m.addVars(range(4), name='v',   vtype = GRB.CONTINUOUS)\n",
    "\n",
    "m.setObjective(7000*v[0]+9000*v[1]+11500*v[2]+4300*v[3], GRB.MINIMIZE)\n",
    "m.addConstr( (x[0]-1000)*(x[0]-1000)+(x[1]-1250)*(x[1]-1250) == u[0])\n",
    "m.addConstr( (x[0]-1500)*(x[0]-1500)+(x[1]-2700)*(x[1]-2700) == u[1])\n",
    "m.addConstr( (x[0]-2000)*(x[0]-2000)+(x[1]-700) *(x[1]-700)  == u[2])\n",
    "m.addConstr( (x[0]-2200)*(x[0]-2200)+(x[1]-2000)*(x[1]-2000) == u[3])\n",
    "\n",
    "m.addConstrs((u[i] == v[i]*v[i] for i in range(4)), name='v_squared')\n",
    "\n",
    "m.optimize()\n",
    "\n",
    "#display optimal production plan\n",
    "for w in m.getVars():\n",
    "  print(w.varName, w.x)\n",
    "print('optimal total revenue:', m.objVal)"
   ]
  },
  {
   "cell_type": "code",
   "execution_count": 271,
   "metadata": {
    "colab": {
     "base_uri": "https://localhost:8080/"
    },
    "id": "qyWW5oXAt_aD",
    "outputId": "b2a5cc08-4117-4e36-ae5b-e46f97c48a39"
   },
   "outputs": [
    {
     "name": "stdout",
     "output_type": "stream",
     "text": [
      "1658.8 1416.7 28944633.637902677\n",
      "1665.4 1562.9 29101303.298960045\n"
     ]
    }
   ],
   "source": [
    "import numpy as np\n",
    "x=1658.8;y=1416.7;\n",
    "d=7000*np.sqrt((x-1000)**2+(y-1250)**2)+\\\n",
    "9000*np.sqrt((x-1500)**2+(y-2700)**2)+\\\n",
    "11500*np.sqrt((x-2000)**2+(y-700)**2)+\\\n",
    "4300*np.sqrt((x-2200)**2+(y-2000)**2)\n",
    "print(x,y,d)\n",
    "\n",
    "x=1665.4;y=1562.9;\n",
    "d=7000*np.sqrt((x-1000)**2+(y-1250)**2)+\\\n",
    "9000*np.sqrt((x-1500)**2+(y-2700)**2)+\\\n",
    "11500*np.sqrt((x-2000)**2+(y-700)**2)+\\\n",
    "4300*np.sqrt((x-2200)**2+(y-2000)**2)\n",
    "print(x,y,d)\n"
   ]
  },
  {
   "cell_type": "markdown",
   "metadata": {
    "id": "Du3kTUQMBxE5"
   },
   "source": [
    "# Chapter 7: Probability and Statistics"
   ]
  },
  {
   "cell_type": "markdown",
   "metadata": {
    "id": "XD1_dherH4qN"
   },
   "source": [
    "##Basic Probability Theory\n",
    "\n",
    "**Deterministic** techniques assume that no uncertainty exists in model parameters. Previous topics assumed no uncertainty or variation to the specified paramaters.\n",
    "**Probabilistic** techniques on the other side include uncertainty and assume that there can be more than one model solution or variation in the parameter values. Also, there may be some doubt about which outcome will occur.\n"
   ]
  },
  {
   "cell_type": "markdown",
   "metadata": {
    "id": "DeNeVhI4HcYP"
   },
   "source": [
    "##Bayesian analysis"
   ]
  },
  {
   "cell_type": "markdown",
   "metadata": {
    "id": "6P2NoWwPHtPy"
   },
   "source": [
    "##Probability Distributions"
   ]
  },
  {
   "cell_type": "markdown",
   "metadata": {
    "id": "BMRhTic2HtX_"
   },
   "source": [
    "##Chi-Square Test "
   ]
  },
  {
   "cell_type": "markdown",
   "metadata": {
    "id": "cQkFfKyQHtfr"
   },
   "source": []
  },
  {
   "cell_type": "markdown",
   "metadata": {
    "id": "BjaaQzbvcQyR"
   },
   "source": [
    "##Problem Example: C11Q5"
   ]
  },
  {
   "cell_type": "code",
   "execution_count": 272,
   "metadata": {
    "colab": {
     "base_uri": "https://localhost:8080/"
    },
    "id": "juS_WSxTblHv",
    "outputId": "bc2fe775-1d18-4433-a0e1-c25c851abbde"
   },
   "outputs": [
    {
     "data": {
      "text/plain": [
       "(0.9568255047155366, 0.04317449528446338)"
      ]
     },
     "execution_count": 272,
     "metadata": {},
     "output_type": "execute_result"
    }
   ],
   "source": [
    "from scipy.stats import binom\n",
    "binom.cdf(k=4, n=20, p=.1), 1-binom.cdf(k=4, n=20, p=.1)"
   ]
  },
  {
   "cell_type": "markdown",
   "metadata": {
    "id": "xULG-hzzc6p-"
   },
   "source": [
    "## Problem Example: C11Q8"
   ]
  },
  {
   "cell_type": "code",
   "execution_count": 273,
   "metadata": {
    "colab": {
     "base_uri": "https://localhost:8080/"
    },
    "id": "PdS3HiY3b4Ul",
    "outputId": "766653a2-7e95-4d48-c912-c9bb4f8b5bbc"
   },
   "outputs": [
    {
     "data": {
      "text/plain": [
       "0.14803200000000005"
      ]
     },
     "execution_count": 273,
     "metadata": {},
     "output_type": "execute_result"
    }
   ],
   "source": [
    "1-binom.cdf(k=2, n=7, p=.2)"
   ]
  },
  {
   "cell_type": "code",
   "execution_count": null,
   "metadata": {
    "id": "yl7o-6f_dFaI"
   },
   "outputs": [],
   "source": []
  }
 ],
 "metadata": {
  "colab": {
   "collapsed_sections": [],
   "name": "Introduction to Operation Research using Python",
   "provenance": []
  },
  "kernelspec": {
   "display_name": "Python 3",
   "language": "python",
   "name": "python3"
  },
  "language_info": {
   "codemirror_mode": {
    "name": "ipython",
    "version": 3
   },
   "file_extension": ".py",
   "mimetype": "text/x-python",
   "name": "python",
   "nbconvert_exporter": "python",
   "pygments_lexer": "ipython3",
   "version": "3.8.12"
  }
 },
 "nbformat": 4,
 "nbformat_minor": 0
}