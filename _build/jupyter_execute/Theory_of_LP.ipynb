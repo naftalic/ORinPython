{
 "cells": [
  {
   "cell_type": "markdown",
   "metadata": {
    "id": "ikFyiHYMBxEx"
   },
   "source": [
    "# Theory of LP and the Simplex method\n"
   ]
  },
  {
   "cell_type": "markdown",
   "metadata": {
    "id": "4QiExYvwLa1w"
   },
   "source": [
    "To be done later on\n",
    "\n",
    "To place here a python code that follows the Simplex algorithm"
   ]
  },
  {
   "cell_type": "code",
   "execution_count": 1,
   "metadata": {
    "colab": {
     "base_uri": "https://localhost:8080/"
    },
    "id": "Cks37AL3BxEx",
    "outputId": "18c8fd27-30b5-4c17-b2b2-340758e341c5"
   },
   "outputs": [
    {
     "name": "stdout",
     "output_type": "stream",
     "text": [
      "Requirement already satisfied: gurobipy in /Users/naftali/opt/anaconda3/lib/python3.7/site-packages (9.1.2)\r\n"
     ]
    },
    {
     "name": "stdout",
     "output_type": "stream",
     "text": [
      "(4,) (4, 4) (4,)\n"
     ]
    },
    {
     "ename": "GurobiError",
     "evalue": "No Gurobi license found (user naftali, host Naftalis-MacBook-Pro-15.local, hostid d3c3e9a1, cores 6)",
     "output_type": "error",
     "traceback": [
      "\u001b[0;31m---------------------------------------------------------------------------\u001b[0m",
      "\u001b[0;31mGurobiError\u001b[0m                               Traceback (most recent call last)",
      "\u001b[0;32m<ipython-input-1-86c3864f0533>\u001b[0m in \u001b[0;36m<module>\u001b[0;34m\u001b[0m\n\u001b[1;32m     16\u001b[0m \u001b[0mconstraints\u001b[0m \u001b[0;34m=\u001b[0m \u001b[0mrange\u001b[0m\u001b[0;34m(\u001b[0m\u001b[0mnp\u001b[0m\u001b[0;34m.\u001b[0m\u001b[0marray\u001b[0m\u001b[0;34m(\u001b[0m\u001b[0mA\u001b[0m\u001b[0;34m)\u001b[0m\u001b[0;34m.\u001b[0m\u001b[0mshape\u001b[0m\u001b[0;34m[\u001b[0m\u001b[0;36m0\u001b[0m\u001b[0;34m]\u001b[0m\u001b[0;34m)\u001b[0m\u001b[0;34m\u001b[0m\u001b[0;34m\u001b[0m\u001b[0m\n\u001b[1;32m     17\u001b[0m \u001b[0;34m\u001b[0m\u001b[0m\n\u001b[0;32m---> 18\u001b[0;31m \u001b[0mm\u001b[0m \u001b[0;34m=\u001b[0m \u001b[0mModel\u001b[0m\u001b[0;34m(\u001b[0m\u001b[0;34m\"C4Q33\"\u001b[0m\u001b[0;34m)\u001b[0m\u001b[0;34m\u001b[0m\u001b[0;34m\u001b[0m\u001b[0m\n\u001b[0m\u001b[1;32m     19\u001b[0m \u001b[0;34m\u001b[0m\u001b[0m\n\u001b[1;32m     20\u001b[0m \u001b[0mx\u001b[0m \u001b[0;34m=\u001b[0m \u001b[0;34m[\u001b[0m\u001b[0;34m]\u001b[0m\u001b[0;34m\u001b[0m\u001b[0;34m\u001b[0m\u001b[0m\n",
      "\u001b[0;32msrc/gurobipy/env.pxi\u001b[0m in \u001b[0;36mgurobipy.Env.__init__\u001b[0;34m()\u001b[0m\n",
      "\u001b[0;32msrc/gurobipy/gurobi.pxi\u001b[0m in \u001b[0;36mgurobipy.gurobi._getdefaultenv\u001b[0;34m()\u001b[0m\n",
      "\u001b[0;32msrc/gurobipy/env.pxi\u001b[0m in \u001b[0;36mgurobipy.Env.__init__\u001b[0;34m()\u001b[0m\n",
      "\u001b[0;31mGurobiError\u001b[0m: No Gurobi license found (user naftali, host Naftalis-MacBook-Pro-15.local, hostid d3c3e9a1, cores 6)"
     ]
    }
   ],
   "source": [
    "import numpy as np\n",
    "!pip install gurobipy\n",
    "\n",
    "# Import gurobi library\n",
    "from gurobipy import * # This command imports the Gurobi functions and classes.\n",
    "\n",
    "\n",
    "c = [40,65,70,30]    \n",
    "A = [[1,1,0,0 ],\n",
    "     [0,0,1,1 ],\n",
    "     [1,0,1,0 ],\n",
    "     [0,1,0,1 ]]\n",
    "b =  [250, 400, 300, 350]\n",
    "print(np.array(c).shape,np.array(A).shape,np.array(b).shape)\n",
    "decision_variables = range(len(c))     \n",
    "constraints = range(np.array(A).shape[0])\n",
    "\n",
    "m = Model(\"C4Q33\")\n",
    "\n",
    "x = []\n",
    "for i in decision_variables:\n",
    "    x.append(m.addVar(lb = 0, vtype = GRB.CONTINUOUS, name = 'x' + str(i)))\n",
    "\n",
    "m.setObjective(quicksum(c[i] * x[i] for i in decision_variables) , GRB.MINIMIZE) \n",
    "m.addConstrs((quicksum(A[j][i] * x[i] for i in decision_variables) \n",
    "                           == b[j] for j in constraints), \"constraints\")\n",
    "m.optimize()\n",
    "\n",
    "for var in m.getVars(): # descision variable\n",
    "    print(var.varName, '=', var.x, (var.obj,var.SAObjLow, var.SAObjUp, var.RC))\n",
    "\n",
    "for con in m.getConstrs(): # constraints\n",
    "    print(con.ConstrName, ': slack =', con.slack,', shadow price=',\n",
    "          con.pi,',', (con.RHS, con.SARHSLow, con.SARHSUp))\n",
    "    \n",
    "print(\"objective value =\", m.objVal)"
   ]
  }
 ],
 "metadata": {
  "colab": {
   "collapsed_sections": [],
   "name": "Theory of LP.ipynb",
   "provenance": []
  },
  "kernelspec": {
   "display_name": "Python 3",
   "name": "python3"
  },
  "language_info": {
   "codemirror_mode": {
    "name": "ipython",
    "version": 3
   },
   "file_extension": ".py",
   "mimetype": "text/x-python",
   "name": "python",
   "nbconvert_exporter": "python",
   "pygments_lexer": "ipython3",
   "version": "3.7.6"
  }
 },
 "nbformat": 4,
 "nbformat_minor": 0
}